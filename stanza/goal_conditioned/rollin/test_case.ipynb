{
 "cells": [
  {
   "cell_type": "code",
   "execution_count": 1,
   "metadata": {},
   "outputs": [],
   "source": [
    "%load_ext autoreload\n",
    "%autoreload 2\n",
    "%aimport -jax\n",
    "%aimport -jaxlib"
   ]
  },
  {
   "cell_type": "code",
   "execution_count": 2,
   "metadata": {},
   "outputs": [],
   "source": [
    "import jax\n",
    "import jax.numpy as jnp\n",
    "from stanza.envs.linear import LinearSystem\n",
    "import stanza.policies as policies\n",
    "from jax.random import PRNGKey\n",
    "from stanza.util.random import PRNGSequence\n"
   ]
  },
  {
   "cell_type": "code",
   "execution_count": 7,
   "metadata": {},
   "outputs": [
    {
     "ename": "SyntaxError",
     "evalue": "unmatched ')' (2313576938.py, line 3)",
     "output_type": "error",
     "traceback": [
      "\u001b[0;36m  Cell \u001b[0;32mIn[7], line 3\u001b[0;36m\u001b[0m\n\u001b[0;31m    print(jnp.arange(1)))\u001b[0m\n\u001b[0m                        ^\u001b[0m\n\u001b[0;31mSyntaxError\u001b[0m\u001b[0;31m:\u001b[0m unmatched ')'\n"
     ]
    }
   ],
   "source": [
    "x = jax.lax.while_loop(cond_fun = lambda x: False, \n",
    "                   body_fun = lambda x: x+1,init_val = 0)\n",
    "print(jnp.arange(1))"
   ]
  },
  {
   "cell_type": "code",
   "execution_count": 100,
   "metadata": {},
   "outputs": [],
   "source": [
    "from stanza.dataclasses import dataclass\n",
    "from stanza.policies import PolicyOutput\n",
    "\n",
    "\n",
    "def create_integrator_matrices(dim: int):\n",
    "    A = jnp.zeros((dim,dim))\n",
    "    B = jnp.zeros((dim,1))\n",
    "    for i in range(dim-1):\n",
    "        A = A.at[i,i+1].set(1)\n",
    "    B = B.at[dim-1,0].set(1)\n",
    "    return A, B\n",
    "\n",
    "def create_integrator_environment(dim: int, x0_min=-1, x0_max=1,\n",
    "                xmax=1, xmin=-1,\n",
    "                umax=1, umin=1):\n",
    "    Q = jnp.eye(dim)\n",
    "    R = jnp.eye(1)\n",
    "    A, B = create_integrator_matrices(dim)\n",
    "    return LinearSystem(A=A,B=B,Q=Q,R=R,x0_min=x0_min,\n",
    "                        x0_max=x0_max,xmax=xmax,umin=umin,\n",
    "                        xmin=xmin,\n",
    "                        umax=umax)\n",
    "@dataclass(jax=True)\n",
    "class Uniform1dPolicy():\n",
    "    umin : int = -1\n",
    "    umax : int = 1\n",
    "\n",
    "    def __call__(self, input):\n",
    "        print(input)\n",
    "        action = jax.random.uniform(input.rng_key, (1,), jnp.float32, self.umin, self.umax) \n",
    "        return PolicyOutput(action=action)\n",
    "    \n",
    "\n"
   ]
  },
  {
   "cell_type": "code",
   "execution_count": 101,
   "metadata": {},
   "outputs": [],
   "source": [
    "\n",
    "\n",
    "\n"
   ]
  },
  {
   "cell_type": "code",
   "execution_count": null,
   "metadata": {},
   "outputs": [],
   "source": [
    "from stanza.data import Data\n",
    "from stanza.data.trajectory import Timestep\n",
    "import stanza.envs as envs\n",
    "from stanza.goal_conditioned.rollin.curriculum_utils import make_gaussian_noiser_scalar_variance\n",
    "from stanza.goal_conditioned.rollin.rollin_sampler import RollInSampler, UniformRollinHelper\n",
    "\n",
    "from stanza.policies.mpc import MPC\n",
    "from stanza.solver.ilqr import iLQRSolver\n",
    "from stanza.util.logging import logger\n",
    "\n",
    "logger.info(\"Creating environment\")\n",
    "\n",
    "horizon = 50\n",
    "\n",
    "solver_t = iLQRSolver()\n",
    "expert_policy=MPC(\n",
    "            # Sample action\n",
    "            action_sample=env.sample_action(PRNGKey(0)),\n",
    "            cost_fn=env.cost, \n",
    "            model_fn=env.step,\n",
    "            horizon_length=horizon,\n",
    "            solver=solver_t,\n",
    "            receed=False\n",
    "        )\n",
    "\n",
    "def rollout_policy(rng_key, pol,env,horizon):\n",
    "    # random init angle and angular velocity\n",
    "    key1,key2,key3 = jax.random.split(rng_key,3)\n",
    "    x_0 = env.reset(key1) \n",
    "    roll = policies.rollout(model = env.step,\n",
    "                     state0 = x_0,\n",
    "                     policy = pol,\n",
    "                     length = horizon,\n",
    "                     last_state = False,\n",
    "                     policy_rng_key=key3,\n",
    "                     model_rng_key=key2)\n",
    "    \n",
    "    return Data.from_pytree(Timestep(roll.states,roll.actions))\n",
    "\n",
    "def batch_roll(rng_key, num_t, pol,env,horizon):\n",
    "    roll_func = jax.vmap(rollout_policy,in_axes=(0,None,None,None))\n",
    "    rng_keys = jax.random.split(rng_key,num_t)\n",
    "    print(rng_keys)\n",
    "    return Data.from_pytree(roll_func(rng_keys,pol,env,horizon))\n",
    "\n",
    "num_t = 5\n",
    "horizon = 10\n",
    "\n",
    "env = create_integrator_environment(dim = 4,\n",
    "                                    x0_max=1,\n",
    "                                    x0_min=1)\n",
    "my_key = PRNGKey(42)\n",
    "\n",
    "my_pol = Uniform1dPolicy(umin=2,umax=2)\n",
    "roll = batch_roll(my_key,pol=my_pol,env=env,\n",
    "                  horizon=horizon,num_t=1)\n",
    "data = roll\n",
    "print(data)\n",
    "rollin_helper = UniformRollinHelper()\n",
    "# fix ths\n",
    "action = Data.from_pytree(jnp.ones(1,))\n",
    "gaussian_noiser = make_gaussian_noiser_scalar_variance(sigma = 1)\n",
    "print(gaussian_noiser(rng=my_key,value=action))\n",
    "\n",
    "gaussian_noiser = make_gaussian_noiser_scalar_variance(sigma = .99)\n",
    "print(gaussian_noiser(rng=my_key,value=action))\n",
    "\n",
    "#print(gaussian_noiser(rng=my_key,value=jnp.ones(1,)))\n",
    "\n",
    "\n"
   ]
  },
  {
   "cell_type": "code",
   "execution_count": null,
   "metadata": {},
   "outputs": [],
   "source": [
    "\n",
    "sig1,sig2 = 1. ,.5\n",
    "\n",
    "rollin_helper = UniformRollinHelper(delta_t_min=1,\n",
    "                                    delta_t_max = 3,\n",
    "                                    roll_len_min = 2,\n",
    "                                    roll_len_max = 3,\n",
    "                                    min_start_t = 0)\n",
    "\n",
    "#rollin_helper = UniformRollinHelper()\n",
    "def make_sampler(sigma, full_goal_state_action = True):\n",
    "    gaussian_noiser = make_gaussian_noiser_scalar_variance(sigma=sigma)\n",
    "    sampler = RollInSampler(env=env, traj_data=data,rollin_helper=rollin_helper,\n",
    "                   action_noiser=gaussian_noiser)\n",
    "    if full_goal_state_action:\n",
    "        sampler_fn = (lambda key: sampler.sample_goal_state_action(key))\n",
    "    else:\n",
    "        sampler_fn = (lambda key: sampler.sample_gc_state(key))\n",
    "    return sampler_fn\n",
    "\n",
    "def print_sample(start_state, goal, start_action, info):\n",
    "    print(\"start_state\")\n",
    "    print(start_state)\n",
    "    print(\"goal\")\n",
    "    print(goal)\n",
    "    print(\"start_action\")\n",
    "    print(start_action)\n",
    "    print(\"info\")\n",
    "    print(info)\n",
    "\n",
    "rng = PRNGSequence(PRNGKey(4))\n",
    "next(rng)\n",
    "rng2 = PRNGSequence(next(rng))\n",
    "key2 = next(rng2)\n",
    "print('delkey', key2)\n",
    "delta_t = jax.random.randint(key2, (), minval = 1,\n",
    "              \n",
    "                               maxval = 4)\n",
    "print(delta_t)\n",
    "sigmas = [1,.9]\n",
    "key_nums = [4]\n",
    "for i in key_nums:\n",
    "    print(' ')\n",
    "    print('key num', i)\n",
    "    key = PRNGKey(i)\n",
    "    for x in sigmas:\n",
    "        sampler =  make_sampler(x) \n",
    "        print_sample(*sampler(key))\n",
    "\n"
   ]
  },
  {
   "cell_type": "code",
   "execution_count": 209,
   "metadata": {},
   "outputs": [
    {
     "name": "stdout",
     "output_type": "stream",
     "text": [
      "<class 'jaxlib.xla_extension.ArrayImpl'>\n",
      "hi\n"
     ]
    }
   ],
   "source": [
    "x = [1,2,3]\n",
    "print(type(jnp.array(x)))\n",
    "y = None\n",
    "if y is None or y.hello() or False:\n",
    "    print('hi')\n"
   ]
  },
  {
   "cell_type": "code",
   "execution_count": 208,
   "metadata": {},
   "outputs": [
    {
     "name": "stdout",
     "output_type": "stream",
     "text": [
      "{0: Array(4, dtype=int32), 1: Array(2, dtype=int32), 2: Array(2, dtype=int32), 3: Array(2, dtype=int32), 4: Array(1, dtype=int32), 5: Array(1, dtype=int32), 6: Array(4, dtype=int32), 7: Array(4, dtype=int32), 8: Array(1, dtype=int32), 9: Array(3, dtype=int32), 10: Array(1, dtype=int32), 11: Array(1, dtype=int32), 12: Array(4, dtype=int32), 13: Array(3, dtype=int32), 14: Array(0, dtype=int32), 15: Array(2, dtype=int32), 16: Array(4, dtype=int32), 17: Array(4, dtype=int32), 18: Array(0, dtype=int32), 19: Array(3, dtype=int32)}\n",
      "{0: Array(4, dtype=int32), 1: Array(2, dtype=int32), 2: Array(2, dtype=int32), 3: Array(2, dtype=int32), 4: Array(1, dtype=int32), 5: Array(1, dtype=int32), 6: Array(4, dtype=int32), 7: Array(4, dtype=int32), 8: Array(1, dtype=int32), 9: Array(3, dtype=int32), 10: Array(1, dtype=int32), 11: Array(1, dtype=int32), 12: Array(4, dtype=int32), 13: Array(3, dtype=int32), 14: Array(0, dtype=int32), 15: Array(2, dtype=int32), 16: Array(4, dtype=int32), 17: Array(4, dtype=int32), 18: Array(0, dtype=int32), 19: Array(3, dtype=int32)}\n",
      "{0: Array(4, dtype=int32), 1: Array(2, dtype=int32), 2: Array(2, dtype=int32), 3: Array(2, dtype=int32), 4: Array(1, dtype=int32), 5: Array(1, dtype=int32), 6: Array(4, dtype=int32), 7: Array(4, dtype=int32), 8: Array(1, dtype=int32), 9: Array(3, dtype=int32), 10: Array(1, dtype=int32), 11: Array(1, dtype=int32), 12: Array(4, dtype=int32), 13: Array(3, dtype=int32), 14: Array(0, dtype=int32), 15: Array(2, dtype=int32), 16: Array(4, dtype=int32), 17: Array(4, dtype=int32), 18: Array(0, dtype=int32), 19: Array(3, dtype=int32)}\n"
     ]
    }
   ],
   "source": [
    "### create mixture environment\n",
    "## this works\n",
    "\n",
    "\n",
    "from stanza.envs.goal_conditioned_envs.gc_pendulum import make_gc_pendulum_env\n",
    "from stanza.goal_conditioned import GCEnvironment\n",
    "from stanza.goal_conditioned.rollin.curriculum_utils import MixtureEnvironment\n",
    "\n",
    "\n",
    "envs_list = []\n",
    "sigmas = [0,.1,.5,.9,1.] \n",
    "probs_list = jnp.array([1 for i in range(len(sigmas))])\n",
    "\n",
    "\n",
    "def make_gc_state_sampler(sigma):\n",
    "    gaussian_noiser = make_gaussian_noiser_scalar_variance(sigma=sigma)\n",
    "    sampler = RollInSampler(env=env, traj_data=data,rollin_helper=rollin_helper,\n",
    "                   action_noiser=gaussian_noiser)\n",
    "    return (lambda key: sampler.sample_gc_state(key))\n",
    "\n",
    "for sigma in sigmas:\n",
    "    # gets a gc_state sampler from a given sigma\n",
    "    sampler = make_gc_state_sampler(sigma)\n",
    "    gc_env = GCEnvironment(env=env, gs_sampler=sampler)\n",
    "    envs_list.append(gc_env)\n",
    "\n",
    "# creates a mixture of environments in envs_list\n",
    "# based on probs_list \n",
    "# here, it is using the first environment as the base env \n",
    "mix_env_1 = MixtureEnvironment(envs_list=envs_list, probs_list=probs_list, \n",
    "                             mixture_base_env=None,first_is_base=True)\n",
    "\n",
    "base_env = envs_list[0]\n",
    "# check this is the same\n",
    "mix_env_2 = MixtureEnvironment(envs_list=envs_list, probs_list=probs_list, \n",
    "                             mixture_base_env=mix_env_1)\n",
    "\n",
    "# check this is the same\n",
    "# default mixture is uniform\n",
    "mix_env_3 = MixtureEnvironment(envs_list=envs_list, \n",
    "                             mixture_base_env=mix_env_1)\n",
    "\n",
    "key = PRNGKey(42)\n",
    "key_seqs = [PRNGSequence(key), PRNGSequence(key), PRNGSequence(key)]\n",
    "\n",
    "mixture_envs = [mix_env_1, mix_env_2, mix_env_3]\n",
    "\n",
    "env_ind_dicts = [{}, {}, {}]\n",
    "for i in range(20):\n",
    "    for j, mix_env in enumerate(mixture_envs):\n",
    "        env, key2, env_ind = mix_env_1.sample_env(next(key_seqs[j]))\n",
    "        env_ind_dicts[j][i] = env_ind\n",
    "\n",
    "print(env_ind_dicts[0])\n",
    "print(env_ind_dicts[1])\n",
    "print(env_ind_dicts[2])\n",
    "\n",
    "\n"
   ]
  },
  {
   "cell_type": "code",
   "execution_count": null,
   "metadata": {},
   "outputs": [],
   "source": [
    "env_maker = (lambda envir, sampler: \n",
    "             GCEnvironment(env=envir, gs_sampler=sampler))         \n",
    "base_env = env\n",
    "\n",
    "#start by testing none_getters"
   ]
  },
  {
   "attachments": {},
   "cell_type": "markdown",
   "metadata": {},
   "source": []
  },
  {
   "cell_type": "code",
   "execution_count": 1,
   "metadata": {},
   "outputs": [
    {
     "ename": "ModuleNotFoundError",
     "evalue": "No module named 'torch'",
     "output_type": "error",
     "traceback": [
      "\u001b[0;31m---------------------------------------------------------------------------\u001b[0m",
      "\u001b[0;31mModuleNotFoundError\u001b[0m                       Traceback (most recent call last)",
      "Cell \u001b[0;32mIn[1], line 1\u001b[0m\n\u001b[0;32m----> 1\u001b[0m \u001b[39mimport\u001b[39;00m \u001b[39mtorch\u001b[39;00m\n",
      "\u001b[0;31mModuleNotFoundError\u001b[0m: No module named 'torch'"
     ]
    }
   ],
   "source": [
    "import torch"
   ]
  }
 ],
 "metadata": {
  "kernelspec": {
   "display_name": "stable-imitation-9j_9P0iT-py3.11",
   "language": "python",
   "name": "python3"
  },
  "language_info": {
   "codemirror_mode": {
    "name": "ipython",
    "version": 3
   },
   "file_extension": ".py",
   "mimetype": "text/x-python",
   "name": "python",
   "nbconvert_exporter": "python",
   "pygments_lexer": "ipython3",
   "version": "3.11.3"
  },
  "orig_nbformat": 4
 },
 "nbformat": 4,
 "nbformat_minor": 2
}
