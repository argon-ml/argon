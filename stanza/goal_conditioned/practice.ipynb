{
 "cells": [
  {
   "cell_type": "code",
   "execution_count": 58,
   "metadata": {},
   "outputs": [
    {
     "name": "stdout",
     "output_type": "stream",
     "text": [
      "The autoreload extension is already loaded. To reload it, use:\n",
      "  %reload_ext autoreload\n"
     ]
    }
   ],
   "source": [
    "%load_ext autoreload\n",
    "%autoreload 2\n",
    "%aimport -jax\n",
    "%aimport -jaxlib"
   ]
  },
  {
   "cell_type": "code",
   "execution_count": 59,
   "metadata": {},
   "outputs": [],
   "source": [
    "import stanza.envs as envs\n",
    "import stanza.policies as policies\n",
    "import optax\n",
    "import jax\n",
    "import jax.numpy as jnp\n",
    "from jax.random import PRNGKey\n",
    "from stanza import Partial\n",
    "from stanza.rl.ppo import PPO\n",
    "from stanza.train import Trainer\n",
    "from stanza.rl import EpisodicEnvironment, ACPolicy\n",
    "from stanza.rl.nets import MLPActorCritic\n",
    "from stanza.util.rich import StatisticsTable, ConsoleDisplay, LoopProgress\n",
    "from stanza.solver.ilqr import iLQRSolver\n",
    "from stanza.util.random import PRNGSequence\n"
   ]
  },
  {
   "cell_type": "code",
   "execution_count": 60,
   "metadata": {},
   "outputs": [],
   "source": [
    "from stanza.util.logging import logger\n",
    "from stanza.policies.mpc import MPC\n",
    "from stanza.data.trajectory import Timestep\n",
    "from stanza.data import Data\n",
    "env = envs.create(\"pendulum\")\n",
    "# will automatically reset when done\n",
    "# or when 1000 timesteps have been reached\n",
    "solver_t = iLQRSolver()\n",
    "expert_policy=MPC(\n",
    "            # Sample action\n",
    "            action_sample=env.sample_action(PRNGKey(42)),\n",
    "            cost_fn=env.cost, \n",
    "            model_fn=env.step,\n",
    "            horizon_length=50,\n",
    "            solver=solver_t,\n",
    "            receed=False\n",
    "        )\n",
    "\n",
    "def rollout_mpc(key: PRNGKey):\n",
    "    # An MPC policy\n",
    "    rollout = policies.rollout(\n",
    "        model=env.step,\n",
    "        state0=env.reset(key),\n",
    "        length=50,\n",
    "        policy=expert_policy\n",
    "    )\n",
    "    #turns from Python/jax Data class into Stanza Dataset\n",
    "    return Data.from_pytree(Timestep(rollout.states,rollout.actions))\n",
    "    \n",
    "    #logger.info(f'MPC Rollout with {solver} solver results')\n",
    "    #logger.info('states: {}', rollout.states)\n",
    "    #logger.info('actions: {}', rollout.actions)\n",
    "    #cost = env.cost(rollout.states, rollout.actions)\n",
    "    #logger.info('cost: {}', cost)\n",
    "\n",
    "\n",
    "num_trajs = 100\n",
    "def batch_roll(rng_key, num_t):\n",
    "    roll_fun = jax.vmap(rollout_mpc)\n",
    "    rng_keys = jax.random.split(rng_key,num_t)\n",
    "    return roll_fun(rng_keys)\n",
    "\n",
    "expert_data = Data.from_pytree(batch_roll(PRNGKey(42), num_trajs))"
   ]
  },
  {
   "cell_type": "code",
   "execution_count": 62,
   "metadata": {},
   "outputs": [
    {
     "name": "stdout",
     "output_type": "stream",
     "text": [
      "GCState(goal=StartEndGoal(start_state=None, end_state=State(angle=Array(3.1417477, dtype=float32), vel=Array(0.00079618, dtype=float32))), env_state=Array(3.139656, dtype=float32), act_target=Array(0.00422384, dtype=float32))\n"
     ]
    }
   ],
   "source": [
    "from stanza.goal_conditioned.roll_in_sampler import roll_in_sampler\n",
    "from stanza.envs import Environment\n",
    "from stanza.goal_conditioned import GCState, StartEndGoal\n",
    "import chex\n",
    "\n",
    "\n",
    "action_noiser = None\n",
    "process_noiser = None\n",
    "\n",
    "def gs_sampler(key: PRNGKey, encode_start = False):\n",
    "    rng = PRNGSequence(key)\n",
    "    rand_traj = expert_data.sample(next(rng))\n",
    "    traj_len = rand_traj.length\n",
    "    delta_t = jax.random.randint(next(rng), (), minval = 3,maxval = 8)\n",
    "    roll_len = jax.random.randint(next(rng), (), minval = 3,maxval = 8)\n",
    "    start_t = jax.random.randint(next(rng), (), minval = roll_len,\n",
    "                                 maxval = traj_len - delta_t)\n",
    "    \n",
    "\n",
    "    start_state, start_action =  roll_in_sampler(traj = rand_traj,\n",
    "                    target_time = start_t,\n",
    "                    noise_rng_key = next(rng), \n",
    "                    roll_len = roll_len, \n",
    "                    env = env, \n",
    "                    env_rng_key = next(rng),\n",
    "                    action_noiser = action_noiser, \n",
    "                    process_noiser = process_noiser )\n",
    "    \n",
    "    end_state = rand_traj.get(start_t + delta_t).observation\n",
    "\n",
    "    if encode_start:\n",
    "        goal = StartEndGoal(start_state = start_state, \n",
    "                            end_state = end_state)\n",
    "    else:\n",
    "        goal = StartEndGoal(start_state = None, end_state = end_state)\n",
    "    return GCState(goal = goal, env_state = start_state, act_target = start_action)\n",
    "    \n",
    "my_gc_state = gs_sampler(PRNGKey(42))\n",
    "print(my_gc_state)\n"
   ]
  },
  {
   "cell_type": "code",
   "execution_count": 55,
   "metadata": {},
   "outputs": [],
   "source": [
    "import math\n",
    "\n",
    "\n",
    "def goal_reward(state, next_state, end_state):\n",
    "        angle_diff = next_state.angle - state.angle\n",
    "        vel_diff = next_state.vel - state.vel\n",
    "        angle_rew = 32 * angle_diff * jnp.sign(end_state.angle - next_state.angle)\n",
    "        vel_rew = vel_diff * jnp.sign(end_state.vel-next_state.vel)\n",
    "        return angle_rew + vel_rew\n",
    "\n",
    "def cost_to_goal( x, u, x_goal):\n",
    "        x = jnp.stack((x.angle, x.vel), -1)\n",
    "        x_goal = jnp.stack((x_goal.angle, x_goal.vel), -1)\n",
    "        diff = (x - x_goal)\n",
    "        x_cost = jnp.sum(diff[:-1]**2)\n",
    "        xf_cost = jnp.sum(diff[-1]**2)\n",
    "        if u == None:\n",
    "            u_cost = 0\n",
    "        else:\n",
    "            u_cost = jnp.sum(u**2)\n",
    "        return 5*xf_cost + 2*x_cost + u_cost\n",
    "\n",
    "def gc_reward(gc_state, action, next_state ):\n",
    "    env_state, goal = gc_state.env_state, gc_state.goal\n",
    "    end_state = goal.end_state\n",
    "    \n",
    "    return goal_reward(env_state,next_state,end_state)\n",
    "    #return 3 - (1 * cost_to_goal(env_state, action, end_state))\n",
    "\n",
    "def g_done(gc_state):\n",
    "        x = gc_state.env_state\n",
    "        x_goal = gc_state.goal.end_state\n",
    "        return (cost_to_goal(x =x,u=None,x_goal = x_goal) < .03*.03)\n",
    "\n",
    "\n",
    "my_gc_state = gs_sampler(PRNGKey(42))\n"
   ]
  },
  {
   "cell_type": "code",
   "execution_count": 56,
   "metadata": {},
   "outputs": [],
   "source": [
    "from stanza.goal_conditioned import GCEnvironment\n",
    "gc_pendulum_env = GCEnvironment(env = env, gs_sampler = gs_sampler,\n",
    "                            gc_reward = gc_reward, g_done = g_done)"
   ]
  },
  {
   "cell_type": "code",
   "execution_count": null,
   "metadata": {},
   "outputs": [],
   "source": [
    "#Set up net and env\n",
    "ep_env = EpisodicEnvironment(gc_pendulum_env, 1000)\n",
    "\n",
    "\n",
    "net = MLPActorCritic(\n",
    "    ep_env.sample_action(PRNGKey(0))\n",
    ")\n",
    "params = net.init(PRNGKey(42),\n",
    "    ep_env.observe(ep_env.sample_state(PRNGKey(0))))\n"
   ]
  },
  {
   "cell_type": "code",
   "execution_count": null,
   "metadata": {},
   "outputs": [],
   "source": [
    "# BC Pretraining    \n",
    "\n",
    "num_bc_samples = 1000\n"
   ]
  },
  {
   "cell_type": "code",
   "execution_count": 57,
   "metadata": {},
   "outputs": [
    {
     "data": {
      "application/vnd.jupyter.widget-view+json": {
       "model_id": "3190b4233117435d94d181ebc140ed18",
       "version_major": 2,
       "version_minor": 0
      },
      "text/plain": [
       "Output()"
      ]
     },
     "metadata": {},
     "output_type": "display_data"
    },
    {
     "data": {
      "text/html": [
       "<pre style=\"white-space:pre;overflow-x:auto;line-height:normal;font-family:Menlo,'DejaVu Sans Mono',consolas,'Courier New',monospace\"><span style=\"color: #7fbfbf; text-decoration-color: #7fbfbf\">[16:15:28] </span><span style=\"color: #008000; text-decoration-color: #008000\">TRACE </span> - <span style=\"color: #808000; text-decoration-color: #808000; font-weight: bold\">&lt;Tracing&gt;</span> Tracing training                                                      <a href=\"file:///Users/msimchowitz1/Documents/code/stanza/stanza/train/__init__.py\" target=\"_blank\"><span style=\"color: #7f7f7f; text-decoration-color: #7f7f7f\">__init__.py</span></a><span style=\"color: #7f7f7f; text-decoration-color: #7f7f7f\">:</span><a href=\"file:///Users/msimchowitz1/Documents/code/stanza/stanza/train/__init__.py#121\" target=\"_blank\"><span style=\"color: #7f7f7f; text-decoration-color: #7f7f7f\">121</span></a>\n",
       "</pre>\n"
      ],
      "text/plain": [
       "\u001b[2;36m[16:15:28]\u001b[0m\u001b[2;36m \u001b[0m\u001b[32mTRACE \u001b[0m - \u001b[1;33m<\u001b[0m\u001b[1;33mTracing\u001b[0m\u001b[1;33m>\u001b[0m Tracing training                                                      \u001b]8;id=457982;file:///Users/msimchowitz1/Documents/code/stanza/stanza/train/__init__.py\u001b\\\u001b[2m__init__.py\u001b[0m\u001b]8;;\u001b\\\u001b[2m:\u001b[0m\u001b]8;id=24094;file:///Users/msimchowitz1/Documents/code/stanza/stanza/train/__init__.py#121\u001b\\\u001b[2m121\u001b[0m\u001b]8;;\u001b\\\n"
      ]
     },
     "metadata": {},
     "output_type": "display_data"
    },
    {
     "data": {
      "text/html": [
       "<pre style=\"white-space:pre;overflow-x:auto;line-height:normal;font-family:Menlo,'DejaVu Sans Mono',consolas,'Courier New',monospace\"><span style=\"color: #7fbfbf; text-decoration-color: #7fbfbf\">           </span><span style=\"color: #008000; text-decoration-color: #008000\">TRACE </span> - <span style=\"color: #808000; text-decoration-color: #808000; font-weight: bold\">&lt;Tracing&gt;</span> Tracing epoch step                                                    <a href=\"file:///Users/msimchowitz1/Documents/code/stanza/stanza/train/__init__.py\" target=\"_blank\"><span style=\"color: #7f7f7f; text-decoration-color: #7f7f7f\">__init__.py</span></a><span style=\"color: #7f7f7f; text-decoration-color: #7f7f7f\">:</span><a href=\"file:///Users/msimchowitz1/Documents/code/stanza/stanza/train/__init__.py#102\" target=\"_blank\"><span style=\"color: #7f7f7f; text-decoration-color: #7f7f7f\">102</span></a>\n",
       "</pre>\n"
      ],
      "text/plain": [
       "\u001b[2;36m          \u001b[0m\u001b[2;36m \u001b[0m\u001b[32mTRACE \u001b[0m - \u001b[1;33m<\u001b[0m\u001b[1;33mTracing\u001b[0m\u001b[1;33m>\u001b[0m Tracing epoch step                                                    \u001b]8;id=419512;file:///Users/msimchowitz1/Documents/code/stanza/stanza/train/__init__.py\u001b\\\u001b[2m__init__.py\u001b[0m\u001b]8;;\u001b\\\u001b[2m:\u001b[0m\u001b]8;id=911382;file:///Users/msimchowitz1/Documents/code/stanza/stanza/train/__init__.py#102\u001b\\\u001b[2m102\u001b[0m\u001b]8;;\u001b\\\n"
      ]
     },
     "metadata": {},
     "output_type": "display_data"
    },
    {
     "data": {
      "text/html": [
       "<pre style=\"white-space:pre;overflow-x:auto;line-height:normal;font-family:Menlo,'DejaVu Sans Mono',consolas,'Courier New',monospace\"><span style=\"color: #7fbfbf; text-decoration-color: #7fbfbf\">           </span><span style=\"color: #008000; text-decoration-color: #008000\">TRACE </span> - <span style=\"color: #808000; text-decoration-color: #808000; font-weight: bold\">&lt;Tracing&gt;</span> Tracing train step                                                     <a href=\"file:///Users/msimchowitz1/Documents/code/stanza/stanza/train/__init__.py\" target=\"_blank\"><span style=\"color: #7f7f7f; text-decoration-color: #7f7f7f\">__init__.py</span></a><span style=\"color: #7f7f7f; text-decoration-color: #7f7f7f\">:</span><a href=\"file:///Users/msimchowitz1/Documents/code/stanza/stanza/train/__init__.py#72\" target=\"_blank\"><span style=\"color: #7f7f7f; text-decoration-color: #7f7f7f\">72</span></a>\n",
       "</pre>\n"
      ],
      "text/plain": [
       "\u001b[2;36m          \u001b[0m\u001b[2;36m \u001b[0m\u001b[32mTRACE \u001b[0m - \u001b[1;33m<\u001b[0m\u001b[1;33mTracing\u001b[0m\u001b[1;33m>\u001b[0m Tracing train step                                                     \u001b]8;id=868186;file:///Users/msimchowitz1/Documents/code/stanza/stanza/train/__init__.py\u001b\\\u001b[2m__init__.py\u001b[0m\u001b]8;;\u001b\\\u001b[2m:\u001b[0m\u001b]8;id=980504;file:///Users/msimchowitz1/Documents/code/stanza/stanza/train/__init__.py#72\u001b\\\u001b[2m72\u001b[0m\u001b]8;;\u001b\\\n"
      ]
     },
     "metadata": {},
     "output_type": "display_data"
    },
    {
     "data": {
      "text/html": [
       "<pre style=\"white-space:pre;overflow-x:auto;line-height:normal;font-family:Menlo,'DejaVu Sans Mono',consolas,'Courier New',monospace\"><span style=\"color: #7fbfbf; text-decoration-color: #7fbfbf\">[16:15:29] </span><span style=\"color: #008000; text-decoration-color: #008000\">TRACE </span> - <span style=\"color: #808000; text-decoration-color: #808000; font-weight: bold\">&lt;Tracing&gt;</span> Done tracing training                                                 <a href=\"file:///Users/msimchowitz1/Documents/code/stanza/stanza/train/__init__.py\" target=\"_blank\"><span style=\"color: #7f7f7f; text-decoration-color: #7f7f7f\">__init__.py</span></a><span style=\"color: #7f7f7f; text-decoration-color: #7f7f7f\">:</span><a href=\"file:///Users/msimchowitz1/Documents/code/stanza/stanza/train/__init__.py#132\" target=\"_blank\"><span style=\"color: #7f7f7f; text-decoration-color: #7f7f7f\">132</span></a>\n",
       "</pre>\n"
      ],
      "text/plain": [
       "\u001b[2;36m[16:15:29]\u001b[0m\u001b[2;36m \u001b[0m\u001b[32mTRACE \u001b[0m - \u001b[1;33m<\u001b[0m\u001b[1;33mTracing\u001b[0m\u001b[1;33m>\u001b[0m Done tracing training                                                 \u001b]8;id=62787;file:///Users/msimchowitz1/Documents/code/stanza/stanza/train/__init__.py\u001b\\\u001b[2m__init__.py\u001b[0m\u001b]8;;\u001b\\\u001b[2m:\u001b[0m\u001b]8;id=611721;file:///Users/msimchowitz1/Documents/code/stanza/stanza/train/__init__.py#132\u001b\\\u001b[2m132\u001b[0m\u001b]8;;\u001b\\\n"
      ]
     },
     "metadata": {},
     "output_type": "display_data"
    },
    {
     "data": {
      "text/html": [
       "<pre style=\"white-space:pre;overflow-x:auto;line-height:normal;font-family:Menlo,'DejaVu Sans Mono',consolas,'Courier New',monospace\"><span style=\"color: #7fbfbf; text-decoration-color: #7fbfbf\">           </span><span style=\"color: #008000; text-decoration-color: #008000\">TRACE </span> - <span style=\"color: #808000; text-decoration-color: #808000; font-weight: bold\">&lt;Tracing&gt;</span> Tracing training                                                      <a href=\"file:///Users/msimchowitz1/Documents/code/stanza/stanza/train/__init__.py\" target=\"_blank\"><span style=\"color: #7f7f7f; text-decoration-color: #7f7f7f\">__init__.py</span></a><span style=\"color: #7f7f7f; text-decoration-color: #7f7f7f\">:</span><a href=\"file:///Users/msimchowitz1/Documents/code/stanza/stanza/train/__init__.py#121\" target=\"_blank\"><span style=\"color: #7f7f7f; text-decoration-color: #7f7f7f\">121</span></a>\n",
       "</pre>\n"
      ],
      "text/plain": [
       "\u001b[2;36m          \u001b[0m\u001b[2;36m \u001b[0m\u001b[32mTRACE \u001b[0m - \u001b[1;33m<\u001b[0m\u001b[1;33mTracing\u001b[0m\u001b[1;33m>\u001b[0m Tracing training                                                      \u001b]8;id=43155;file:///Users/msimchowitz1/Documents/code/stanza/stanza/train/__init__.py\u001b\\\u001b[2m__init__.py\u001b[0m\u001b]8;;\u001b\\\u001b[2m:\u001b[0m\u001b]8;id=763842;file:///Users/msimchowitz1/Documents/code/stanza/stanza/train/__init__.py#121\u001b\\\u001b[2m121\u001b[0m\u001b]8;;\u001b\\\n"
      ]
     },
     "metadata": {},
     "output_type": "display_data"
    },
    {
     "data": {
      "text/html": [
       "<pre style=\"white-space:pre;overflow-x:auto;line-height:normal;font-family:Menlo,'DejaVu Sans Mono',consolas,'Courier New',monospace\"><span style=\"color: #7fbfbf; text-decoration-color: #7fbfbf\">           </span><span style=\"color: #008000; text-decoration-color: #008000\">TRACE </span> - <span style=\"color: #808000; text-decoration-color: #808000; font-weight: bold\">&lt;Tracing&gt;</span> Done tracing training                                                 <a href=\"file:///Users/msimchowitz1/Documents/code/stanza/stanza/train/__init__.py\" target=\"_blank\"><span style=\"color: #7f7f7f; text-decoration-color: #7f7f7f\">__init__.py</span></a><span style=\"color: #7f7f7f; text-decoration-color: #7f7f7f\">:</span><a href=\"file:///Users/msimchowitz1/Documents/code/stanza/stanza/train/__init__.py#132\" target=\"_blank\"><span style=\"color: #7f7f7f; text-decoration-color: #7f7f7f\">132</span></a>\n",
       "</pre>\n"
      ],
      "text/plain": [
       "\u001b[2;36m          \u001b[0m\u001b[2;36m \u001b[0m\u001b[32mTRACE \u001b[0m - \u001b[1;33m<\u001b[0m\u001b[1;33mTracing\u001b[0m\u001b[1;33m>\u001b[0m Done tracing training                                                 \u001b]8;id=680145;file:///Users/msimchowitz1/Documents/code/stanza/stanza/train/__init__.py\u001b\\\u001b[2m__init__.py\u001b[0m\u001b]8;;\u001b\\\u001b[2m:\u001b[0m\u001b]8;id=436203;file:///Users/msimchowitz1/Documents/code/stanza/stanza/train/__init__.py#132\u001b\\\u001b[2m132\u001b[0m\u001b]8;;\u001b\\\n"
      ]
     },
     "metadata": {},
     "output_type": "display_data"
    },
    {
     "data": {
      "text/html": [
       "<pre style=\"white-space:pre;overflow-x:auto;line-height:normal;font-family:Menlo,'DejaVu Sans Mono',consolas,'Courier New',monospace\"></pre>\n"
      ],
      "text/plain": []
     },
     "metadata": {},
     "output_type": "display_data"
    },
    {
     "name": "stdout",
     "output_type": "stream",
     "text": [
      "GCState(goal=StartEndGoal(start_state=None, end_state=State(angle=Array([3.1417477, 3.132184 , 3.132184 , 3.132184 , 3.132184 , 3.132184 ,\n",
      "       3.132184 , 3.132184 , 3.132184 , 3.132184 , 3.132184 , 3.132184 ,\n",
      "       3.132184 , 3.132184 , 3.132184 , 3.132184 , 3.132184 , 3.132184 ,\n",
      "       3.132184 , 3.132184 , 3.132184 , 3.132184 , 3.132184 , 3.132184 ,\n",
      "       3.132184 , 3.132184 , 3.132184 , 3.132184 , 3.132184 , 3.132184 ,\n",
      "       3.132184 , 3.132184 , 3.132184 , 3.132184 , 3.132184 , 3.132184 ,\n",
      "       3.132184 , 3.132184 , 3.132184 , 3.132184 , 3.132184 , 3.132184 ,\n",
      "       3.132184 , 3.132184 , 3.132184 , 3.132184 , 3.132184 , 3.132184 ,\n",
      "       3.132184 , 3.132184 , 3.132184 , 3.132184 , 3.132184 , 3.132184 ,\n",
      "       3.132184 , 3.132184 , 3.132184 , 3.132184 , 3.132184 , 3.132184 ,\n",
      "       3.132184 , 3.132184 , 3.132184 , 3.132184 , 3.132184 , 3.132184 ,\n",
      "       3.132184 , 3.132184 , 3.132184 , 3.132184 , 3.132184 , 3.132184 ,\n",
      "       3.132184 , 3.132184 , 3.132184 , 3.132184 , 3.132184 , 3.132184 ,\n",
      "       3.132184 , 3.132184 , 3.132184 , 3.132184 , 3.132184 , 3.132184 ,\n",
      "       3.132184 , 3.132184 , 3.132184 , 3.132184 , 3.132184 , 3.132184 ,\n",
      "       3.132184 , 3.132184 , 3.132184 , 3.132184 , 3.132184 , 3.132184 ,\n",
      "       3.132184 , 3.132184 , 3.132184 , 3.132184 , 3.132184 , 3.132184 ,\n",
      "       3.132184 , 3.132184 , 3.132184 , 3.132184 , 3.132184 , 3.132184 ,\n",
      "       3.132184 , 3.132184 , 3.132184 , 3.132184 , 3.132184 , 3.132184 ,\n",
      "       3.132184 , 3.132184 , 3.132184 , 3.132184 , 3.132184 , 3.132184 ,\n",
      "       3.132184 , 3.132184 , 3.132184 , 3.132184 , 3.132184 , 3.132184 ,\n",
      "       3.132184 , 3.132184 , 3.132184 , 3.132184 , 3.132184 , 3.132184 ,\n",
      "       3.132184 , 3.132184 , 3.132184 , 3.132184 , 3.132184 , 3.132184 ,\n",
      "       3.132184 , 3.132184 , 3.132184 , 3.132184 , 3.132184 , 3.132184 ,\n",
      "       3.132184 , 3.132184 , 3.132184 , 3.132184 , 3.132184 , 3.132184 ,\n",
      "       3.132184 , 3.132184 , 3.132184 , 3.132184 , 3.132184 , 3.132184 ,\n",
      "       3.132184 , 3.132184 , 3.132184 , 3.132184 , 3.132184 , 3.132184 ,\n",
      "       3.132184 , 3.132184 , 3.132184 , 3.132184 , 3.132184 , 3.132184 ,\n",
      "       3.132184 , 3.132184 , 3.132184 , 3.132184 , 3.132184 , 3.132184 ,\n",
      "       3.132184 , 3.132184 , 3.132184 , 3.132184 , 3.132184 , 3.132184 ,\n",
      "       3.132184 , 3.132184 , 3.132184 , 3.132184 , 3.132184 , 3.132184 ,\n",
      "       3.132184 , 3.132184 , 3.132184 , 3.132184 , 3.132184 , 3.132184 ,\n",
      "       3.132184 , 3.132184 , 3.132184 , 3.132184 , 3.132184 , 3.132184 ,\n",
      "       3.132184 , 3.132184 ], dtype=float32), vel=Array([0.00079618, 0.01403313, 0.01403313, 0.01403313, 0.01403313,\n",
      "       0.01403313, 0.01403313, 0.01403313, 0.01403313, 0.01403313,\n",
      "       0.01403313, 0.01403313, 0.01403313, 0.01403313, 0.01403313,\n",
      "       0.01403313, 0.01403313, 0.01403313, 0.01403313, 0.01403313,\n",
      "       0.01403313, 0.01403313, 0.01403313, 0.01403313, 0.01403313,\n",
      "       0.01403313, 0.01403313, 0.01403313, 0.01403313, 0.01403313,\n",
      "       0.01403313, 0.01403313, 0.01403313, 0.01403313, 0.01403313,\n",
      "       0.01403313, 0.01403313, 0.01403313, 0.01403313, 0.01403313,\n",
      "       0.01403313, 0.01403313, 0.01403313, 0.01403313, 0.01403313,\n",
      "       0.01403313, 0.01403313, 0.01403313, 0.01403313, 0.01403313,\n",
      "       0.01403313, 0.01403313, 0.01403313, 0.01403313, 0.01403313,\n",
      "       0.01403313, 0.01403313, 0.01403313, 0.01403313, 0.01403313,\n",
      "       0.01403313, 0.01403313, 0.01403313, 0.01403313, 0.01403313,\n",
      "       0.01403313, 0.01403313, 0.01403313, 0.01403313, 0.01403313,\n",
      "       0.01403313, 0.01403313, 0.01403313, 0.01403313, 0.01403313,\n",
      "       0.01403313, 0.01403313, 0.01403313, 0.01403313, 0.01403313,\n",
      "       0.01403313, 0.01403313, 0.01403313, 0.01403313, 0.01403313,\n",
      "       0.01403313, 0.01403313, 0.01403313, 0.01403313, 0.01403313,\n",
      "       0.01403313, 0.01403313, 0.01403313, 0.01403313, 0.01403313,\n",
      "       0.01403313, 0.01403313, 0.01403313, 0.01403313, 0.01403313,\n",
      "       0.01403313, 0.01403313, 0.01403313, 0.01403313, 0.01403313,\n",
      "       0.01403313, 0.01403313, 0.01403313, 0.01403313, 0.01403313,\n",
      "       0.01403313, 0.01403313, 0.01403313, 0.01403313, 0.01403313,\n",
      "       0.01403313, 0.01403313, 0.01403313, 0.01403313, 0.01403313,\n",
      "       0.01403313, 0.01403313, 0.01403313, 0.01403313, 0.01403313,\n",
      "       0.01403313, 0.01403313, 0.01403313, 0.01403313, 0.01403313,\n",
      "       0.01403313, 0.01403313, 0.01403313, 0.01403313, 0.01403313,\n",
      "       0.01403313, 0.01403313, 0.01403313, 0.01403313, 0.01403313,\n",
      "       0.01403313, 0.01403313, 0.01403313, 0.01403313, 0.01403313,\n",
      "       0.01403313, 0.01403313, 0.01403313, 0.01403313, 0.01403313,\n",
      "       0.01403313, 0.01403313, 0.01403313, 0.01403313, 0.01403313,\n",
      "       0.01403313, 0.01403313, 0.01403313, 0.01403313, 0.01403313,\n",
      "       0.01403313, 0.01403313, 0.01403313, 0.01403313, 0.01403313,\n",
      "       0.01403313, 0.01403313, 0.01403313, 0.01403313, 0.01403313,\n",
      "       0.01403313, 0.01403313, 0.01403313, 0.01403313, 0.01403313,\n",
      "       0.01403313, 0.01403313, 0.01403313, 0.01403313, 0.01403313,\n",
      "       0.01403313, 0.01403313, 0.01403313, 0.01403313, 0.01403313,\n",
      "       0.01403313, 0.01403313, 0.01403313, 0.01403313, 0.01403313,\n",
      "       0.01403313, 0.01403313, 0.01403313, 0.01403313, 0.01403313,\n",
      "       0.01403313, 0.01403313, 0.01403313, 0.01403313, 0.01403313],      dtype=float32))), env_state=State(angle=Array([3.139656 , 3.1171174, 3.1235383, 3.107553 , 3.108503 , 3.1191723,\n",
      "       3.0920365, 3.0917096, 3.0813262, 3.0975378, 3.083782 , 3.084008 ,\n",
      "       3.0822465, 3.084869 , 3.082158 , 3.077372 , 3.0782235, 3.083273 ,\n",
      "       3.0849607, 3.0890636, 3.0858378, 3.0816262, 3.0791278, 3.0800476,\n",
      "       3.0855837, 3.090992 , 3.0995884, 3.0966275, 3.0865145, 3.081786 ,\n",
      "       3.0881581, 3.094602 , 3.0837061, 3.0755255, 3.0844598, 3.0862157,\n",
      "       3.0827906, 3.0888312, 3.079528 , 3.0795622, 3.087764 , 3.0931246,\n",
      "       3.0896392, 3.0956302, 3.0874665, 3.0881543, 3.0908914, 3.088806 ,\n",
      "       3.0866897, 3.0897522, 3.0879812, 3.0762053, 3.082829 , 3.0736105,\n",
      "       3.0712621, 3.0741003, 3.0790906, 3.0781655, 3.0710511, 3.0766723,\n",
      "       3.0753655, 3.0783272, 3.070067 , 3.0858188, 3.087674 , 3.0940733,\n",
      "       3.0835922, 3.0965981, 3.0835173, 3.079439 , 3.0906076, 3.0758815,\n",
      "       3.0807478, 3.083217 , 3.0833383, 3.0893962, 3.0895529, 3.0912008,\n",
      "       3.0852883, 3.090771 , 3.1016095, 3.1015685, 3.1149855, 3.0939937,\n",
      "       3.0855567, 3.0721078, 3.0666025, 3.0705607, 3.0787094, 3.0736032,\n",
      "       3.0710397, 3.0860922, 3.075272 , 3.0605037, 3.0588   , 3.048851 ,\n",
      "       3.0598752, 3.0620089, 3.0559607, 3.0645988, 3.0528615, 3.0706506,\n",
      "       3.0707958, 3.0776505, 3.0790641, 3.0869462, 3.0822759, 3.0906596,\n",
      "       3.0731173, 3.087052 , 3.0835636, 3.0797637, 3.0832453, 3.0837026,\n",
      "       3.068707 , 3.0652454, 3.0815504, 3.0756996, 3.0808547, 3.0695102,\n",
      "       3.065309 , 3.0696714, 3.0654109, 3.062167 , 3.065597 , 3.069079 ,\n",
      "       3.0791051, 3.079935 , 3.077071 , 3.082378 , 3.0843875, 3.0922225,\n",
      "       3.0816338, 3.079832 , 3.0916564, 3.080753 , 3.0744812, 3.0784771,\n",
      "       3.0848498, 3.0929296, 3.0831335, 3.0871649, 3.083458 , 3.100109 ,\n",
      "       3.1000683, 3.0902896, 3.0833795, 3.073596 , 3.083994 , 3.0815587,\n",
      "       3.081308 , 3.0813498, 3.078809 , 3.0872068, 3.0850515, 3.0855107,\n",
      "       3.0715313, 3.0705082, 3.0731905, 3.0673084, 3.0698626, 3.0585694,\n",
      "       3.0705562, 3.0731232, 3.0730147, 3.0738223, 3.0658362, 3.0760899,\n",
      "       3.0773282, 3.0689073, 3.076831 , 3.0679152, 3.0670905, 3.0731635,\n",
      "       3.0666754, 3.0683272, 3.0751252, 3.0760634, 3.0743392, 3.0788214,\n",
      "       3.0729833, 3.0713353, 3.067503 , 3.0741327, 3.0628157, 3.0771248,\n",
      "       3.0767972, 3.0856698, 3.0829422, 3.0764847, 3.0853658, 3.091886 ,\n",
      "       3.0806205, 3.0691366, 3.0819411, 3.0854115, 3.098219 , 3.1006439,\n",
      "       3.1060896, 3.1018236], dtype=float32), vel=Array([ 0.00422384,  0.03210456, -0.07992604,  0.00475061,  0.05334579,\n",
      "       -0.13567945, -0.00163427, -0.05191633,  0.08105793, -0.06877845,\n",
      "        0.00112996, -0.00880691,  0.01311228, -0.0135537 , -0.02392967,\n",
      "        0.00425693,  0.02524726,  0.00843892,  0.02051434, -0.0161291 ,\n",
      "       -0.02105814, -0.01249155,  0.00459923,  0.02768082,  0.02704187,\n",
      "        0.04298183, -0.01480508, -0.0505648 , -0.02364329,  0.03186163,\n",
      "        0.03222014, -0.05447965, -0.04090327,  0.04467089,  0.00878027,\n",
      "       -0.01712571,  0.03020344, -0.04651507,  0.00017035,  0.04100929,\n",
      "        0.02680311, -0.01742673,  0.02995509, -0.04081883,  0.00343867,\n",
      "        0.01368538, -0.01042766, -0.01058052,  0.01531221, -0.00885427,\n",
      "       -0.05888018,  0.03311899, -0.04609243, -0.0117421 ,  0.01419052,\n",
      "        0.02495212, -0.00462483, -0.03557204,  0.02810645, -0.006534  ,\n",
      "        0.01480855, -0.0413017 ,  0.07875882,  0.00927541,  0.03199644,\n",
      "       -0.05240507,  0.06502967, -0.0654047 , -0.02039159,  0.05584388,\n",
      "       -0.07363106,  0.02433139,  0.01234581,  0.00060676,  0.03028991,\n",
      "        0.00078274,  0.00824033, -0.0295623 ,  0.02741373,  0.0541927 ,\n",
      "       -0.00020541,  0.06708533, -0.10495871, -0.04218472, -0.06724503,\n",
      "       -0.02752617,  0.01979073,  0.0407434 , -0.0255311 , -0.01281769,\n",
      "        0.07526264, -0.05410118, -0.07384181, -0.00851868, -0.04974544,\n",
      "        0.05512144,  0.01066849, -0.03024093,  0.04319059, -0.05868701,\n",
      "        0.08894578,  0.00072586,  0.03427328,  0.00706747,  0.03941073,\n",
      "       -0.02335137,  0.04191897, -0.0877118 ,  0.06967479, -0.01744214,\n",
      "       -0.0189995 ,  0.01740806,  0.00228639, -0.07497742, -0.01730761,\n",
      "        0.08152515, -0.02925357,  0.02577575, -0.05672257, -0.02100646,\n",
      "        0.0218117 , -0.0213032 , -0.01621957,  0.01715114,  0.01740915,\n",
      "        0.05013165,  0.00414945, -0.0143209 ,  0.02653526,  0.01004808,\n",
      "        0.03917484, -0.05294269, -0.00900835,  0.05912206, -0.05451644,\n",
      "       -0.03135898,  0.01997964,  0.03186357,  0.04039923, -0.04898082,\n",
      "        0.02015653, -0.01853487,  0.08325576, -0.00020403, -0.04889373,\n",
      "       -0.03455022, -0.04891735,  0.05198959, -0.01217599, -0.00125356,\n",
      "        0.00020979, -0.01270358,  0.04198924, -0.01077695,  0.00229601,\n",
      "       -0.06989737, -0.00511506,  0.01341092, -0.02941053,  0.0127703 ,\n",
      "       -0.05646552,  0.05993411,  0.01283545, -0.00054231,  0.00403751,\n",
      "       -0.03993053,  0.051268  ,  0.00619191, -0.04210514,  0.03961893,\n",
      "       -0.04457967, -0.00412395,  0.03036488, -0.03244051,  0.0082584 ,\n",
      "        0.03398956,  0.0046903 , -0.00862128,  0.02241137, -0.02919112,\n",
      "       -0.0082402 , -0.01916222,  0.03314892, -0.05658504,  0.07154579,\n",
      "       -0.00163805,  0.04436303, -0.01363779, -0.03228766,  0.0444059 ,\n",
      "        0.03260155, -0.05632715, -0.05741929,  0.06402241,  0.01735239,\n",
      "        0.06403702,  0.0121243 ,  0.02722844, -0.02132959,  0.02577955],      dtype=float32)))\n"
     ]
    }
   ],
   "source": [
    "# RL Training \n",
    "\n",
    "display = ConsoleDisplay()\n",
    "display.add(\"ppo\", StatisticsTable(), interval=1)\n",
    "display.add(\"ppo\", LoopProgress(\"RL\"), interval=1)\n",
    "\n",
    "ppo = PPO(\n",
    "    trainer = Trainer(\n",
    "        optimizer=optax.chain(\n",
    "            optax.clip_by_global_norm(0.5),\n",
    "            optax.adam(3e-4, eps=1e-5)\n",
    "        )\n",
    "    )\n",
    ")\n",
    "\n",
    "with display as dh:\n",
    "    trained_params = ppo.train(\n",
    "        PRNGKey(42),\n",
    "        ep_env, net.apply,\n",
    "        params,\n",
    "        rl_hooks=[dh.ppo]\n",
    "    )\n",
    "\n",
    "ac_apply = Partial(net.apply, trained_params.fn_params)\n",
    "policy = ACPolicy(ac_apply)\n",
    "\n",
    "r = policies.rollout(ep_env.step, \n",
    "    ep_env.reset(PRNGKey(42)), policy, \n",
    "    model_rng_key=PRNGKey(31231),\n",
    "    policy_rng_key=PRNGKey(43232),\n",
    "    observe=ep_env.observe,\n",
    "    length=200)\n",
    "\n",
    "print(jax.vmap(ep_env.observe)(r.states))"
   ]
  }
 ],
 "metadata": {
  "kernelspec": {
   "display_name": ".venv",
   "language": "python",
   "name": "python3"
  },
  "language_info": {
   "codemirror_mode": {
    "name": "ipython",
    "version": 3
   },
   "file_extension": ".py",
   "mimetype": "text/x-python",
   "name": "python",
   "nbconvert_exporter": "python",
   "pygments_lexer": "ipython3",
   "version": "3.11.3"
  },
  "orig_nbformat": 4
 },
 "nbformat": 4,
 "nbformat_minor": 2
}
