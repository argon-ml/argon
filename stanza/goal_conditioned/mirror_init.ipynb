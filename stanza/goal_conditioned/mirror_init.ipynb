{
 "cells": [
  {
   "cell_type": "code",
   "execution_count": 1,
   "metadata": {},
   "outputs": [],
   "source": [
    "%load_ext autoreload\n",
    "%autoreload 2\n",
    "%aimport -jax\n",
    "%aimport -jaxlib"
   ]
  },
  {
   "cell_type": "code",
   "execution_count": 2,
   "metadata": {},
   "outputs": [],
   "source": [
    "from stanza.runtime import activity\n",
    "from stanza.util.random import PRNGSequence\n",
    "from stanza.dataclasses import dataclass\n",
    "from stanza.util.rich import StatisticsTable, ConsoleDisplay, LoopProgress\n",
    "from stanza.util.logging import logger\n",
    "import stanza.envs as envs\n",
    "from stanza.rl.nets import transform_ac_to_a\n",
    "from stanza.data.trajectory import Timestep\n",
    "from stanza.data import PyTreeData\n",
    "from jax.random import PRNGKey\n",
    "from stanza.rl.bc import BCState, BCTrainer\n",
    "import matplotlib.pyplot as plt\n",
    "import jax\n",
    "import jax.numpy as jnp\n",
    "from stanza import Partial\n",
    "from stanza.rl import ACPolicy\n",
    "import stanza.policies as policies\n",
    "from stable_imitation.render import save_rollout_video\n",
    "from stanza.data import Data\n",
    "import math\n",
    "from stanza.rl.ppo import PPO\n",
    "from stanza.rl.nets import MLPActorCritic\n",
    "from stable_imitation.data_collect import generate_data\n",
    "from stanza.goal_conditioned import GCHighLevelEnvironment\n",
    "from stanza.goal_conditioned.roll_in_sampler import  RollInSampler\n",
    "from stanza.envs.goal_conditioned_envs.gc_pendulum import make_gc_pendulum_env\n",
    "from stanza.envs.pendulum import State as PendulumState\n",
    "from stanza.goal_conditioned.bilevel_policy import BiPolicy, fixed_time_update\n",
    "\n",
    "from stanza.util.logging import logger\n",
    "from stanza.policies.mpc import MPC\n",
    "from stanza.data.trajectory import Timestep\n",
    "from stanza.data import Data, field\n",
    "\n"
   ]
  },
  {
   "cell_type": "code",
   "execution_count": 21,
   "metadata": {},
   "outputs": [
    {
     "name": "stdout",
     "output_type": "stream",
     "text": [
      "[1.0, 1.0, 1.0]\n",
      "3.0\n",
      "[0.33333334 0.33333334 0.33333334]\n"
     ]
    },
    {
     "ename": "TypeError",
     "evalue": "choice requires ndarray or scalar arguments, got <class 'list'> at position 0.",
     "output_type": "error",
     "traceback": [
      "\u001b[0;31m---------------------------------------------------------------------------\u001b[0m",
      "\u001b[0;31mTypeError\u001b[0m                                 Traceback (most recent call last)",
      "Cell \u001b[0;32mIn[21], line 17\u001b[0m\n\u001b[1;32m     15\u001b[0m give_ratios(\u001b[39m3\u001b[39m)\n\u001b[1;32m     16\u001b[0m key \u001b[39m=\u001b[39m PRNGKey(\u001b[39m3\u001b[39m)\n\u001b[0;32m---> 17\u001b[0m x \u001b[39m=\u001b[39m jax\u001b[39m.\u001b[39;49mrandom\u001b[39m.\u001b[39;49mchoice(key, [\u001b[39m1\u001b[39;49m,\u001b[39m2\u001b[39;49m,\u001b[39m3\u001b[39;49m], shape\u001b[39m=\u001b[39;49m(\u001b[39m10\u001b[39;49m,),  p\u001b[39m=\u001b[39;49m\u001b[39m2\u001b[39;49m\u001b[39m*\u001b[39;49mjnp\u001b[39m.\u001b[39;49marray([\u001b[39m.3\u001b[39;49m,\u001b[39m.3\u001b[39;49m,\u001b[39m.4\u001b[39;49m]), axis\u001b[39m=\u001b[39;49m\u001b[39m0\u001b[39;49m)\n\u001b[1;32m     18\u001b[0m y \u001b[39m=\u001b[39m jax\u001b[39m.\u001b[39mrandom\u001b[39m.\u001b[39mchoice(key, \u001b[39m3\u001b[39m, shape\u001b[39m=\u001b[39m(\u001b[39m10\u001b[39m,),  p\u001b[39m=\u001b[39m\u001b[39m3\u001b[39m\u001b[39m*\u001b[39mjnp\u001b[39m.\u001b[39marray([\u001b[39m.1\u001b[39m,\u001b[39m.1\u001b[39m,\u001b[39m4.\u001b[39m\u001b[39m/\u001b[39m\u001b[39m30\u001b[39m]), axis\u001b[39m=\u001b[39m\u001b[39m0\u001b[39m)\n\u001b[1;32m     20\u001b[0m \u001b[39mprint\u001b[39m(x)\n",
      "File \u001b[0;32m~/Library/Caches/pypoetry/virtualenvs/stable-imitation-9j_9P0iT-py3.11/lib/python3.11/site-packages/jax/_src/random.py:563\u001b[0m, in \u001b[0;36mchoice\u001b[0;34m(key, a, shape, replace, p, axis)\u001b[0m\n\u001b[1;32m    560\u001b[0m \u001b[39mif\u001b[39;00m \u001b[39mnot\u001b[39;00m \u001b[39misinstance\u001b[39m(shape, Sequence):\n\u001b[1;32m    561\u001b[0m   \u001b[39mraise\u001b[39;00m \u001b[39mTypeError\u001b[39;00m(\u001b[39m\"\u001b[39m\u001b[39mshape argument of jax.random.choice must be a sequence, \u001b[39m\u001b[39m\"\u001b[39m\n\u001b[1;32m    562\u001b[0m                   \u001b[39mf\u001b[39m\u001b[39m\"\u001b[39m\u001b[39mgot \u001b[39m\u001b[39m{\u001b[39;00mshape\u001b[39m}\u001b[39;00m\u001b[39m\"\u001b[39m)\n\u001b[0;32m--> 563\u001b[0m check_arraylike(\u001b[39m\"\u001b[39;49m\u001b[39mchoice\u001b[39;49m\u001b[39m\"\u001b[39;49m, a)\n\u001b[1;32m    564\u001b[0m arr \u001b[39m=\u001b[39m jnp\u001b[39m.\u001b[39masarray(a)\n\u001b[1;32m    565\u001b[0m \u001b[39mif\u001b[39;00m arr\u001b[39m.\u001b[39mndim \u001b[39m==\u001b[39m \u001b[39m0\u001b[39m:\n",
      "File \u001b[0;32m~/Library/Caches/pypoetry/virtualenvs/stable-imitation-9j_9P0iT-py3.11/lib/python3.11/site-packages/jax/_src/numpy/util.py:328\u001b[0m, in \u001b[0;36mcheck_arraylike\u001b[0;34m(fun_name, *args)\u001b[0m\n\u001b[1;32m    325\u001b[0m pos, arg \u001b[39m=\u001b[39m \u001b[39mnext\u001b[39m((i, arg) \u001b[39mfor\u001b[39;00m i, arg \u001b[39min\u001b[39;00m \u001b[39menumerate\u001b[39m(args)\n\u001b[1;32m    326\u001b[0m                 \u001b[39mif\u001b[39;00m \u001b[39mnot\u001b[39;00m _arraylike(arg))\n\u001b[1;32m    327\u001b[0m msg \u001b[39m=\u001b[39m \u001b[39m\"\u001b[39m\u001b[39m{}\u001b[39;00m\u001b[39m requires ndarray or scalar arguments, got \u001b[39m\u001b[39m{}\u001b[39;00m\u001b[39m at position \u001b[39m\u001b[39m{}\u001b[39;00m\u001b[39m.\u001b[39m\u001b[39m\"\u001b[39m\n\u001b[0;32m--> 328\u001b[0m \u001b[39mraise\u001b[39;00m \u001b[39mTypeError\u001b[39;00m(msg\u001b[39m.\u001b[39mformat(fun_name, \u001b[39mtype\u001b[39m(arg), pos))\n",
      "\u001b[0;31mTypeError\u001b[0m: choice requires ndarray or scalar arguments, got <class 'list'> at position 0."
     ]
    }
   ],
   "source": [
    "list = [1,2,3]\n",
    "\n",
    "def even_prop(x: int, y: int):\n",
    "    return 1.\n",
    "\n",
    "props = [ even_prop(1,y) for y in list]\n",
    "print(props)\n",
    "print(sum(props))\n",
    "\n",
    "def give_ratios(num, prop_fun = even_prop):\n",
    "    props = jnp.array([ even_prop(1,y) for y in list])\n",
    "    props = props/sum(props)\n",
    "    print(props)\n",
    "\n",
    "give_ratios(3)\n",
    "key = PRNGKey(3)\n",
    "x = jax.random.choice(key, 3, shape=(10,),  p=2*jnp.array([.3,.3,.4]), axis=0)\n",
    "y = jax.random.choice(key, 3, shape=(10,),  p=3*jnp.array([.1,.1,4./30]), axis=0)\n",
    "\n",
    "print(x)\n",
    "print(y)\n",
    "\n",
    "a = None\n",
    "b = a.out() if a is not None else None\n",
    "print(b)\n",
    "\n"
   ]
  },
  {
   "cell_type": "code",
   "execution_count": 5,
   "metadata": {},
   "outputs": [],
   "source": [
    "\"\"\"\n",
    "Utilitiy Methods\n",
    "\"\"\"\n",
    "\n",
    "from stanza.util.ipython import display_video\n",
    "# BC Pretraining    \n",
    "from stanza.rl.bc import BCState, BCTrainer\n",
    "from stanza.rl.nets import transform_ac_to_a\n",
    "\n",
    "\n",
    "def ac_mlp_init(env, rng):\n",
    "    \"\"\"\n",
    "    initialize actor critic model\n",
    "    returns model and initial params\n",
    "    \"\"\"\n",
    "    model = MLPActorCritic(env.sample_action(next(rng)))\n",
    "    init_params = model.init(\n",
    "            next(rng),\n",
    "            env.observe(env.sample_state(next(rng)))\n",
    "        )\n",
    "    return  model, init_params\n",
    "\n",
    "def ac_bc_train(rng,data,model,init_params,num_iters):\n",
    "    \"\"\"\n",
    "    takes an actor-critic model \n",
    "    and trains it with behavior cloning\n",
    "    \"\"\"\n",
    "    logger.info(\"Training model\")\n",
    "    actor_apply = transform_ac_to_a(model.apply)\n",
    "\n",
    "    display = ConsoleDisplay()\n",
    "    display.add(\"train\", StatisticsTable(), interval=100)\n",
    "    display.add(\"train\", LoopProgress(), interval=100)\n",
    "    with display as w:\n",
    "        trainer = BCTrainer()\n",
    "        result =  trainer.train(ac_apply=actor_apply, \n",
    "                                    ac_params = init_params, dataset=data,\n",
    "                                    rng_key = next(rng),\n",
    "                                    max_iterations=num_iters,\n",
    "                                    hooks=[w.train])\n",
    "    return result\n",
    "\n",
    "\n",
    "def render_video(rollout, env, \n",
    "                        file_name : str, fps=30):\n",
    "    imgs = jax.vmap(env.render)(rollout.states)\n",
    "    display_video(file_name, imgs, fps=fps)\n",
    "\n",
    "save_rollout_video = render_video\n",
    "    "
   ]
  },
  {
   "cell_type": "code",
   "execution_count": 6,
   "metadata": {},
   "outputs": [],
   "source": [
    "\"\"\"\n",
    "Data Collection\n",
    "\"\"\"\n",
    "\n",
    "import stanza.envs as envs\n",
    "from stanza.policies.mpc import MPC\n",
    "from stanza.data import Data\n",
    "from stanza.data.trajectory import Timestep\n",
    "from jax.random import PRNGKey\n",
    "from stanza.solver.ilqr import iLQRSolver\n",
    "import stanza.policies as policies\n",
    "import jax\n",
    "\n",
    "def generate_data(config, rng_key, num_traj):\n",
    "    env = envs.create(config.env_name)\n",
    "    if config.env_name == 'pendulum':\n",
    "        return generate_mpc_data(rng_key,env, num_traj,\n",
    "                                 config.traj_length)\n",
    "\n",
    "#returns a Data object\n",
    "def generate_mpc_data(rng_key, env, num_traj, traj_length):\n",
    "    solver_t = iLQRSolver()\n",
    "    expert_policy=MPC(\n",
    "                # Sample action\n",
    "                action_sample=env.sample_action(PRNGKey(42)),\n",
    "                cost_fn=env.cost, \n",
    "                model_fn=env.step,\n",
    "                horizon_length=50,\n",
    "                solver=solver_t,\n",
    "                receed=False\n",
    "            )\n",
    "\n",
    "    def rollout_mpc(key: PRNGKey):\n",
    "        # An MPC policy\n",
    "        rollout = policies.rollout(\n",
    "            model=env.step,\n",
    "            state0=env.reset(key),\n",
    "            length=50,\n",
    "            policy=expert_policy,\n",
    "            last_state=False\n",
    "        )\n",
    "   \n",
    "        return Data.from_pytree(Timestep(rollout.states,rollout.actions))\n",
    "   \n",
    "    \n",
    "    rng_keys = jax.random.split(rng_key,num_traj)\n",
    "    roll_func = jax.vmap(rollout_mpc)\n",
    "    return Data.from_pytree(roll_func(rng_keys))\n",
    "\n",
    "\n"
   ]
  },
  {
   "cell_type": "code",
   "execution_count": 7,
   "metadata": {},
   "outputs": [],
   "source": [
    "\n",
    "\"\"\"\n",
    "BC Config Variables\n",
    "\"\"\"\n",
    "\n",
    "\n",
    "@dataclass\n",
    "class BCGCConfig:\n",
    "    env_name : str = \"pendulum\"\n",
    "    seed : int = 42\n",
    "    traj_length : int = 50\n",
    "    num_traj : int = 500\n",
    "    num_iters_ll : int = 5000\n",
    "    num_iters_hl : int = 5000\n",
    "    bc_hl_video_filename : str = \"bc_rollout_hl.mp4\"\n",
    "    delta_t : int = 2\n",
    "    bc_bl_video_filename_no_noise : str = \"bc_rollout_bl_no_noise.mp4\"\n",
    "    bc_bl_video_filename_with_noise : str = \"bc_rollout_bl_with_noise.mp4\"\n",
    "\n",
    "\n",
    "\n"
   ]
  },
  {
   "cell_type": "code",
   "execution_count": 44,
   "metadata": {},
   "outputs": [
    {
     "name": "stdout",
     "output_type": "stream",
     "text": [
      "\u001b[2;36m[20:19:15]\u001b[0m\u001b[2;36m \u001b[0m\u001b[37mINFO  \u001b[0m - Initializing                                  \u001b]8;id=376370;file:///var/folders/c4/13bl08593w34g7qzjvs_pbyc0000gp/T/ipykernel_86870/192119518.py\u001b\\\u001b[2m192119518.py\u001b[0m\u001b]8;;\u001b\\\u001b[2m:\u001b[0m\u001b]8;id=747751;file:///var/folders/c4/13bl08593w34g7qzjvs_pbyc0000gp/T/ipykernel_86870/192119518.py#4\u001b\\\u001b[2m4\u001b[0m\u001b]8;;\u001b\\\n",
      "\u001b[2;36m          \u001b[0m\u001b[2;36m \u001b[0m\u001b[37mINFO  \u001b[0m - Generating data                               \u001b]8;id=302678;file:///var/folders/c4/13bl08593w34g7qzjvs_pbyc0000gp/T/ipykernel_86870/192119518.py\u001b\\\u001b[2m192119518.py\u001b[0m\u001b]8;;\u001b\\\u001b[2m:\u001b[0m\u001b]8;id=564817;file:///var/folders/c4/13bl08593w34g7qzjvs_pbyc0000gp/T/ipykernel_86870/192119518.py#8\u001b\\\u001b[2m8\u001b[0m\u001b]8;;\u001b\\\n"
     ]
    }
   ],
   "source": [
    "\"\"\"Set up configuration goal conditioend env\"\"\"\n",
    "\n",
    "config = BCGCConfig()\n",
    "logger.info(\"Initializing\")\n",
    "env = envs.create(config.env_name)\n",
    "rng = PRNGSequence(PRNGKey(config.seed))\n",
    "\n",
    "logger.info(\"Generating data\")\n",
    "data = generate_data(config=config, rng_key=next(rng), \n",
    "                        num_traj=config.num_traj)\n",
    "\n",
    "# sets up goal_conditioned pendulum env\n",
    "sampler = RollInSampler(env=env, traj_data=data)\n",
    "gs_sampler = (lambda key: sampler.sample_gc_state(key))\n",
    "# makes the goal_conditioned pendulum env\n",
    "# should be a better way to do this\n",
    "\n",
    "# sets up low level BC policy\n",
    "\n",
    "gc_pendulum_env = make_gc_pendulum_env(env, gs_sampler)\n",
    "\n",
    "\n",
    "\n",
    "##TODO test sampling + noising logic\n",
    "\n"
   ]
  },
  {
   "cell_type": "code",
   "execution_count": 47,
   "metadata": {},
   "outputs": [
    {
     "name": "stdout",
     "output_type": "stream",
     "text": [
      "start_t 39\n",
      "some roll_len 1 3\n",
      "some roll_len 2 3\n",
      "(State(angle=Array(3.1420307, dtype=float32), vel=Array(3.2278345e-05, dtype=float32)), EndGoal(end_state=State(angle=Array(3.1420372, dtype=float32), vel=Array(-7.248179e-05, dtype=float32)), other_info=None), Array(-0.00056599, dtype=float32), 0)\n",
      "start_t 39\n",
      "some roll_len 1 3\n",
      "some roll_len 2 3\n",
      "start_index 36\n",
      "3\n",
      "roll len 3\n",
      "hi\n",
      "timestep Traced<ShapedArray(int32[], weak_type=True)>with<DynamicJaxprTrace(level=1/0)>\n",
      "end_loop_state (State(angle=Array(3.1420307, dtype=float32), vel=Array(3.2278345e-05, dtype=float32)), Array(39, dtype=int32), Array([1813963473,  208843817], dtype=uint32), Array([3555094720,  894980426], dtype=uint32), Array(2, dtype=int32, weak_type=True))\n",
      "(State(angle=Array(3.1420307, dtype=float32), vel=Array(3.2278345e-05, dtype=float32)), EndGoal(end_state=State(angle=Array(3.1420372, dtype=float32), vel=Array(-7.248179e-05, dtype=float32)), other_info=None), Array(-0.00056599, dtype=float32), Array(2, dtype=int32, weak_type=True))\n"
     ]
    }
   ],
   "source": [
    "\"\"\" \n",
    "Compare Sampler to Baseline\n",
    "\"\"\"\n",
    "from stanza.goal_conditioned.roll_in_sampler import make_no_noise_roll_in,make_no_noise_roll_in_v2\n",
    "\n",
    "sampler_1 = make_no_noise_roll_in(env=env, traj_data=data)\n",
    "sampler_2 = make_no_noise_roll_in_v2(env=env, traj_data=data)\n",
    "gs_sampler_1 = (lambda key: sampler_1.sample_goal_state_action(key))\n",
    "gs_sampler_2 = (lambda key: sampler_2.sample_goal_state_action(key))\n",
    "a_key = PRNGKey(42)\n",
    "\n",
    "print(gs_sampler_1(a_key))\n",
    "print(gs_sampler_2(a_key))\n",
    "\n",
    "\n",
    "\n",
    "#do things"
   ]
  },
  {
   "cell_type": "code",
   "execution_count": 6,
   "metadata": {},
   "outputs": [
    {
     "data": {
      "text/html": [
       "<pre style=\"white-space:pre;overflow-x:auto;line-height:normal;font-family:Menlo,'DejaVu Sans Mono',consolas,'Courier New',monospace\"><span style=\"color: #7fbfbf; text-decoration-color: #7fbfbf\">[17:58:16] </span><span style=\"color: #c0c0c0; text-decoration-color: #c0c0c0\">INFO  </span> - Initializing                                                                    <a href=\"file:///var/folders/c4/13bl08593w34g7qzjvs_pbyc0000gp/T/ipykernel_84897/3531815901.py\" target=\"_blank\"><span style=\"color: #7f7f7f; text-decoration-color: #7f7f7f\">3531815901.py</span></a><span style=\"color: #7f7f7f; text-decoration-color: #7f7f7f\">:</span><a href=\"file:///var/folders/c4/13bl08593w34g7qzjvs_pbyc0000gp/T/ipykernel_84897/3531815901.py#2\" target=\"_blank\"><span style=\"color: #7f7f7f; text-decoration-color: #7f7f7f\">2</span></a>\n",
       "</pre>\n"
      ],
      "text/plain": [
       "\u001b[2;36m[17:58:16]\u001b[0m\u001b[2;36m \u001b[0m\u001b[37mINFO  \u001b[0m - Initializing                                                                    \u001b]8;id=140452;file:///var/folders/c4/13bl08593w34g7qzjvs_pbyc0000gp/T/ipykernel_84897/3531815901.py\u001b\\\u001b[2m3531815901.py\u001b[0m\u001b]8;;\u001b\\\u001b[2m:\u001b[0m\u001b]8;id=466678;file:///var/folders/c4/13bl08593w34g7qzjvs_pbyc0000gp/T/ipykernel_84897/3531815901.py#2\u001b\\\u001b[2m2\u001b[0m\u001b]8;;\u001b\\\n"
      ]
     },
     "metadata": {},
     "output_type": "display_data"
    },
    {
     "data": {
      "text/html": [
       "<pre style=\"white-space:pre;overflow-x:auto;line-height:normal;font-family:Menlo,'DejaVu Sans Mono',consolas,'Courier New',monospace\"><span style=\"color: #7fbfbf; text-decoration-color: #7fbfbf\">           </span><span style=\"color: #c0c0c0; text-decoration-color: #c0c0c0\">INFO  </span> - Generating data                                                                 <a href=\"file:///var/folders/c4/13bl08593w34g7qzjvs_pbyc0000gp/T/ipykernel_84897/3531815901.py\" target=\"_blank\"><span style=\"color: #7f7f7f; text-decoration-color: #7f7f7f\">3531815901.py</span></a><span style=\"color: #7f7f7f; text-decoration-color: #7f7f7f\">:</span><a href=\"file:///var/folders/c4/13bl08593w34g7qzjvs_pbyc0000gp/T/ipykernel_84897/3531815901.py#6\" target=\"_blank\"><span style=\"color: #7f7f7f; text-decoration-color: #7f7f7f\">6</span></a>\n",
       "</pre>\n"
      ],
      "text/plain": [
       "\u001b[2;36m          \u001b[0m\u001b[2;36m \u001b[0m\u001b[37mINFO  \u001b[0m - Generating data                                                                 \u001b]8;id=320509;file:///var/folders/c4/13bl08593w34g7qzjvs_pbyc0000gp/T/ipykernel_84897/3531815901.py\u001b\\\u001b[2m3531815901.py\u001b[0m\u001b]8;;\u001b\\\u001b[2m:\u001b[0m\u001b]8;id=461240;file:///var/folders/c4/13bl08593w34g7qzjvs_pbyc0000gp/T/ipykernel_84897/3531815901.py#6\u001b\\\u001b[2m6\u001b[0m\u001b]8;;\u001b\\\n"
      ]
     },
     "metadata": {},
     "output_type": "display_data"
    },
    {
     "data": {
      "text/html": [
       "<pre style=\"white-space:pre;overflow-x:auto;line-height:normal;font-family:Menlo,'DejaVu Sans Mono',consolas,'Courier New',monospace\"><span style=\"color: #7fbfbf; text-decoration-color: #7fbfbf\">[17:58:21] </span><span style=\"color: #c0c0c0; text-decoration-color: #c0c0c0\">INFO  </span> - Setting up low level BC                                                        <a href=\"file:///var/folders/c4/13bl08593w34g7qzjvs_pbyc0000gp/T/ipykernel_84897/3531815901.py\" target=\"_blank\"><span style=\"color: #7f7f7f; text-decoration-color: #7f7f7f\">3531815901.py</span></a><span style=\"color: #7f7f7f; text-decoration-color: #7f7f7f\">:</span><a href=\"file:///var/folders/c4/13bl08593w34g7qzjvs_pbyc0000gp/T/ipykernel_84897/3531815901.py#20\" target=\"_blank\"><span style=\"color: #7f7f7f; text-decoration-color: #7f7f7f\">20</span></a>\n",
       "</pre>\n"
      ],
      "text/plain": [
       "\u001b[2;36m[17:58:21]\u001b[0m\u001b[2;36m \u001b[0m\u001b[37mINFO  \u001b[0m - Setting up low level BC                                                        \u001b]8;id=627750;file:///var/folders/c4/13bl08593w34g7qzjvs_pbyc0000gp/T/ipykernel_84897/3531815901.py\u001b\\\u001b[2m3531815901.py\u001b[0m\u001b]8;;\u001b\\\u001b[2m:\u001b[0m\u001b]8;id=648874;file:///var/folders/c4/13bl08593w34g7qzjvs_pbyc0000gp/T/ipykernel_84897/3531815901.py#20\u001b\\\u001b[2m20\u001b[0m\u001b]8;;\u001b\\\n"
      ]
     },
     "metadata": {},
     "output_type": "display_data"
    },
    {
     "data": {
      "text/html": [
       "<pre style=\"white-space:pre;overflow-x:auto;line-height:normal;font-family:Menlo,'DejaVu Sans Mono',consolas,'Courier New',monospace\"><span style=\"color: #7fbfbf; text-decoration-color: #7fbfbf\">[17:58:24] </span><span style=\"color: #c0c0c0; text-decoration-color: #c0c0c0\">INFO  </span> - Starting Training low level BC                                                 <a href=\"file:///var/folders/c4/13bl08593w34g7qzjvs_pbyc0000gp/T/ipykernel_84897/3531815901.py\" target=\"_blank\"><span style=\"color: #7f7f7f; text-decoration-color: #7f7f7f\">3531815901.py</span></a><span style=\"color: #7f7f7f; text-decoration-color: #7f7f7f\">:</span><a href=\"file:///var/folders/c4/13bl08593w34g7qzjvs_pbyc0000gp/T/ipykernel_84897/3531815901.py#28\" target=\"_blank\"><span style=\"color: #7f7f7f; text-decoration-color: #7f7f7f\">28</span></a>\n",
       "</pre>\n"
      ],
      "text/plain": [
       "\u001b[2;36m[17:58:24]\u001b[0m\u001b[2;36m \u001b[0m\u001b[37mINFO  \u001b[0m - Starting Training low level BC                                                 \u001b]8;id=5475;file:///var/folders/c4/13bl08593w34g7qzjvs_pbyc0000gp/T/ipykernel_84897/3531815901.py\u001b\\\u001b[2m3531815901.py\u001b[0m\u001b]8;;\u001b\\\u001b[2m:\u001b[0m\u001b]8;id=439125;file:///var/folders/c4/13bl08593w34g7qzjvs_pbyc0000gp/T/ipykernel_84897/3531815901.py#28\u001b\\\u001b[2m28\u001b[0m\u001b]8;;\u001b\\\n"
      ]
     },
     "metadata": {},
     "output_type": "display_data"
    },
    {
     "data": {
      "text/html": [
       "<pre style=\"white-space:pre;overflow-x:auto;line-height:normal;font-family:Menlo,'DejaVu Sans Mono',consolas,'Courier New',monospace\"><span style=\"color: #7fbfbf; text-decoration-color: #7fbfbf\">           </span><span style=\"color: #c0c0c0; text-decoration-color: #c0c0c0\">INFO  </span> - Training model                                                                  <a href=\"file:///var/folders/c4/13bl08593w34g7qzjvs_pbyc0000gp/T/ipykernel_84897/963096423.py\" target=\"_blank\"><span style=\"color: #7f7f7f; text-decoration-color: #7f7f7f\">963096423.py</span></a><span style=\"color: #7f7f7f; text-decoration-color: #7f7f7f\">:</span><a href=\"file:///var/folders/c4/13bl08593w34g7qzjvs_pbyc0000gp/T/ipykernel_84897/963096423.py#28\" target=\"_blank\"><span style=\"color: #7f7f7f; text-decoration-color: #7f7f7f\">28</span></a>\n",
       "</pre>\n"
      ],
      "text/plain": [
       "\u001b[2;36m          \u001b[0m\u001b[2;36m \u001b[0m\u001b[37mINFO  \u001b[0m - Training model                                                                  \u001b]8;id=333256;file:///var/folders/c4/13bl08593w34g7qzjvs_pbyc0000gp/T/ipykernel_84897/963096423.py\u001b\\\u001b[2m963096423.py\u001b[0m\u001b]8;;\u001b\\\u001b[2m:\u001b[0m\u001b]8;id=601344;file:///var/folders/c4/13bl08593w34g7qzjvs_pbyc0000gp/T/ipykernel_84897/963096423.py#28\u001b\\\u001b[2m28\u001b[0m\u001b]8;;\u001b\\\n"
      ]
     },
     "metadata": {},
     "output_type": "display_data"
    },
    {
     "data": {
      "application/vnd.jupyter.widget-view+json": {
       "model_id": "84cae867dda041d1a23649166ff62e54",
       "version_major": 2,
       "version_minor": 0
      },
      "text/plain": [
       "Output()"
      ]
     },
     "metadata": {},
     "output_type": "display_data"
    },
    {
     "data": {
      "text/html": [
       "<pre style=\"white-space:pre;overflow-x:auto;line-height:normal;font-family:Menlo,'DejaVu Sans Mono',consolas,'Courier New',monospace\"><span style=\"color: #7fbfbf; text-decoration-color: #7fbfbf\">           </span><span style=\"color: #008000; text-decoration-color: #008000\">TRACE </span> - <span style=\"color: #808000; text-decoration-color: #808000; font-weight: bold\">&lt;Tracing&gt;</span> Tracing batch loss                                                     <a href=\"file:///Users/msimchowitz1/Documents/code/stable_imitation/stanza/stanza/train/__init__.py\" target=\"_blank\"><span style=\"color: #7f7f7f; text-decoration-color: #7f7f7f\">__init__.py</span></a><span style=\"color: #7f7f7f; text-decoration-color: #7f7f7f\">:</span><a href=\"file:///Users/msimchowitz1/Documents/code/stable_imitation/stanza/stanza/train/__init__.py#44\" target=\"_blank\"><span style=\"color: #7f7f7f; text-decoration-color: #7f7f7f\">44</span></a>\n",
       "</pre>\n"
      ],
      "text/plain": [
       "\u001b[2;36m          \u001b[0m\u001b[2;36m \u001b[0m\u001b[32mTRACE \u001b[0m - \u001b[1;33m<\u001b[0m\u001b[1;33mTracing\u001b[0m\u001b[1;33m>\u001b[0m Tracing batch loss                                                     \u001b]8;id=421267;file:///Users/msimchowitz1/Documents/code/stable_imitation/stanza/stanza/train/__init__.py\u001b\\\u001b[2m__init__.py\u001b[0m\u001b]8;;\u001b\\\u001b[2m:\u001b[0m\u001b]8;id=748705;file:///Users/msimchowitz1/Documents/code/stable_imitation/stanza/stanza/train/__init__.py#44\u001b\\\u001b[2m44\u001b[0m\u001b]8;;\u001b\\\n"
      ]
     },
     "metadata": {},
     "output_type": "display_data"
    },
    {
     "data": {
      "text/html": [
       "<pre style=\"white-space:pre;overflow-x:auto;line-height:normal;font-family:Menlo,'DejaVu Sans Mono',consolas,'Courier New',monospace\"><span style=\"color: #7fbfbf; text-decoration-color: #7fbfbf\">           </span><span style=\"color: #008000; text-decoration-color: #008000\">TRACE </span> - <span style=\"color: #808000; text-decoration-color: #808000; font-weight: bold\">&lt;Tracing&gt;</span> Tracing training                                                      <a href=\"file:///Users/msimchowitz1/Documents/code/stable_imitation/stanza/stanza/train/__init__.py\" target=\"_blank\"><span style=\"color: #7f7f7f; text-decoration-color: #7f7f7f\">__init__.py</span></a><span style=\"color: #7f7f7f; text-decoration-color: #7f7f7f\">:</span><a href=\"file:///Users/msimchowitz1/Documents/code/stable_imitation/stanza/stanza/train/__init__.py#122\" target=\"_blank\"><span style=\"color: #7f7f7f; text-decoration-color: #7f7f7f\">122</span></a>\n",
       "</pre>\n"
      ],
      "text/plain": [
       "\u001b[2;36m          \u001b[0m\u001b[2;36m \u001b[0m\u001b[32mTRACE \u001b[0m - \u001b[1;33m<\u001b[0m\u001b[1;33mTracing\u001b[0m\u001b[1;33m>\u001b[0m Tracing training                                                      \u001b]8;id=435070;file:///Users/msimchowitz1/Documents/code/stable_imitation/stanza/stanza/train/__init__.py\u001b\\\u001b[2m__init__.py\u001b[0m\u001b]8;;\u001b\\\u001b[2m:\u001b[0m\u001b]8;id=423532;file:///Users/msimchowitz1/Documents/code/stable_imitation/stanza/stanza/train/__init__.py#122\u001b\\\u001b[2m122\u001b[0m\u001b]8;;\u001b\\\n"
      ]
     },
     "metadata": {},
     "output_type": "display_data"
    },
    {
     "data": {
      "text/html": [
       "<pre style=\"white-space:pre;overflow-x:auto;line-height:normal;font-family:Menlo,'DejaVu Sans Mono',consolas,'Courier New',monospace\"><span style=\"color: #7fbfbf; text-decoration-color: #7fbfbf\">           </span><span style=\"color: #008000; text-decoration-color: #008000\">TRACE </span> - <span style=\"color: #808000; text-decoration-color: #808000; font-weight: bold\">&lt;Tracing&gt;</span> Tracing epoch step                                                    <a href=\"file:///Users/msimchowitz1/Documents/code/stable_imitation/stanza/stanza/train/__init__.py\" target=\"_blank\"><span style=\"color: #7f7f7f; text-decoration-color: #7f7f7f\">__init__.py</span></a><span style=\"color: #7f7f7f; text-decoration-color: #7f7f7f\">:</span><a href=\"file:///Users/msimchowitz1/Documents/code/stable_imitation/stanza/stanza/train/__init__.py#103\" target=\"_blank\"><span style=\"color: #7f7f7f; text-decoration-color: #7f7f7f\">103</span></a>\n",
       "</pre>\n"
      ],
      "text/plain": [
       "\u001b[2;36m          \u001b[0m\u001b[2;36m \u001b[0m\u001b[32mTRACE \u001b[0m - \u001b[1;33m<\u001b[0m\u001b[1;33mTracing\u001b[0m\u001b[1;33m>\u001b[0m Tracing epoch step                                                    \u001b]8;id=537362;file:///Users/msimchowitz1/Documents/code/stable_imitation/stanza/stanza/train/__init__.py\u001b\\\u001b[2m__init__.py\u001b[0m\u001b]8;;\u001b\\\u001b[2m:\u001b[0m\u001b]8;id=207535;file:///Users/msimchowitz1/Documents/code/stable_imitation/stanza/stanza/train/__init__.py#103\u001b\\\u001b[2m103\u001b[0m\u001b]8;;\u001b\\\n"
      ]
     },
     "metadata": {},
     "output_type": "display_data"
    },
    {
     "data": {
      "text/html": [
       "<pre style=\"white-space:pre;overflow-x:auto;line-height:normal;font-family:Menlo,'DejaVu Sans Mono',consolas,'Courier New',monospace\"><span style=\"color: #7fbfbf; text-decoration-color: #7fbfbf\">           </span><span style=\"color: #008000; text-decoration-color: #008000\">TRACE </span> - <span style=\"color: #808000; text-decoration-color: #808000; font-weight: bold\">&lt;Tracing&gt;</span> Tracing train step                                                     <a href=\"file:///Users/msimchowitz1/Documents/code/stable_imitation/stanza/stanza/train/__init__.py\" target=\"_blank\"><span style=\"color: #7f7f7f; text-decoration-color: #7f7f7f\">__init__.py</span></a><span style=\"color: #7f7f7f; text-decoration-color: #7f7f7f\">:</span><a href=\"file:///Users/msimchowitz1/Documents/code/stable_imitation/stanza/stanza/train/__init__.py#73\" target=\"_blank\"><span style=\"color: #7f7f7f; text-decoration-color: #7f7f7f\">73</span></a>\n",
       "</pre>\n"
      ],
      "text/plain": [
       "\u001b[2;36m          \u001b[0m\u001b[2;36m \u001b[0m\u001b[32mTRACE \u001b[0m - \u001b[1;33m<\u001b[0m\u001b[1;33mTracing\u001b[0m\u001b[1;33m>\u001b[0m Tracing train step                                                     \u001b]8;id=785274;file:///Users/msimchowitz1/Documents/code/stable_imitation/stanza/stanza/train/__init__.py\u001b\\\u001b[2m__init__.py\u001b[0m\u001b]8;;\u001b\\\u001b[2m:\u001b[0m\u001b]8;id=573667;file:///Users/msimchowitz1/Documents/code/stable_imitation/stanza/stanza/train/__init__.py#73\u001b\\\u001b[2m73\u001b[0m\u001b]8;;\u001b\\\n"
      ]
     },
     "metadata": {},
     "output_type": "display_data"
    },
    {
     "data": {
      "text/html": [
       "<pre style=\"white-space:pre;overflow-x:auto;line-height:normal;font-family:Menlo,'DejaVu Sans Mono',consolas,'Courier New',monospace\"><span style=\"color: #7fbfbf; text-decoration-color: #7fbfbf\">           </span><span style=\"color: #008000; text-decoration-color: #008000\">TRACE </span> - <span style=\"color: #808000; text-decoration-color: #808000; font-weight: bold\">&lt;Tracing&gt;</span> Done tracing training                                                 <a href=\"file:///Users/msimchowitz1/Documents/code/stable_imitation/stanza/stanza/train/__init__.py\" target=\"_blank\"><span style=\"color: #7f7f7f; text-decoration-color: #7f7f7f\">__init__.py</span></a><span style=\"color: #7f7f7f; text-decoration-color: #7f7f7f\">:</span><a href=\"file:///Users/msimchowitz1/Documents/code/stable_imitation/stanza/stanza/train/__init__.py#133\" target=\"_blank\"><span style=\"color: #7f7f7f; text-decoration-color: #7f7f7f\">133</span></a>\n",
       "</pre>\n"
      ],
      "text/plain": [
       "\u001b[2;36m          \u001b[0m\u001b[2;36m \u001b[0m\u001b[32mTRACE \u001b[0m - \u001b[1;33m<\u001b[0m\u001b[1;33mTracing\u001b[0m\u001b[1;33m>\u001b[0m Done tracing training                                                 \u001b]8;id=222178;file:///Users/msimchowitz1/Documents/code/stable_imitation/stanza/stanza/train/__init__.py\u001b\\\u001b[2m__init__.py\u001b[0m\u001b]8;;\u001b\\\u001b[2m:\u001b[0m\u001b]8;id=862636;file:///Users/msimchowitz1/Documents/code/stable_imitation/stanza/stanza/train/__init__.py#133\u001b\\\u001b[2m133\u001b[0m\u001b]8;;\u001b\\\n"
      ]
     },
     "metadata": {},
     "output_type": "display_data"
    },
    {
     "data": {
      "text/html": [
       "<pre style=\"white-space:pre;overflow-x:auto;line-height:normal;font-family:Menlo,'DejaVu Sans Mono',consolas,'Courier New',monospace\"></pre>\n"
      ],
      "text/plain": []
     },
     "metadata": {},
     "output_type": "display_data"
    },
    {
     "data": {
      "text/html": [
       "<pre style=\"white-space:pre;overflow-x:auto;line-height:normal;font-family:Menlo,'DejaVu Sans Mono',consolas,'Courier New',monospace\"><span style=\"color: #7fbfbf; text-decoration-color: #7fbfbf\">[17:58:30] </span><span style=\"color: #c0c0c0; text-decoration-color: #c0c0c0\">INFO  </span> - Done Training low level BC                                                     <a href=\"file:///var/folders/c4/13bl08593w34g7qzjvs_pbyc0000gp/T/ipykernel_84897/3531815901.py\" target=\"_blank\"><span style=\"color: #7f7f7f; text-decoration-color: #7f7f7f\">3531815901.py</span></a><span style=\"color: #7f7f7f; text-decoration-color: #7f7f7f\">:</span><a href=\"file:///var/folders/c4/13bl08593w34g7qzjvs_pbyc0000gp/T/ipykernel_84897/3531815901.py#36\" target=\"_blank\"><span style=\"color: #7f7f7f; text-decoration-color: #7f7f7f\">36</span></a>\n",
       "</pre>\n"
      ],
      "text/plain": [
       "\u001b[2;36m[17:58:30]\u001b[0m\u001b[2;36m \u001b[0m\u001b[37mINFO  \u001b[0m - Done Training low level BC                                                     \u001b]8;id=898969;file:///var/folders/c4/13bl08593w34g7qzjvs_pbyc0000gp/T/ipykernel_84897/3531815901.py\u001b\\\u001b[2m3531815901.py\u001b[0m\u001b]8;;\u001b\\\u001b[2m:\u001b[0m\u001b]8;id=897229;file:///var/folders/c4/13bl08593w34g7qzjvs_pbyc0000gp/T/ipykernel_84897/3531815901.py#36\u001b\\\u001b[2m36\u001b[0m\u001b]8;;\u001b\\\n"
      ]
     },
     "metadata": {},
     "output_type": "display_data"
    },
    {
     "data": {
      "text/html": [
       "<pre style=\"white-space:pre;overflow-x:auto;line-height:normal;font-family:Menlo,'DejaVu Sans Mono',consolas,'Courier New',monospace\"><span style=\"color: #7fbfbf; text-decoration-color: #7fbfbf\">           </span><span style=\"color: #c0c0c0; text-decoration-color: #c0c0c0\">INFO  </span> - Setting up high level BC                                                       <a href=\"file:///var/folders/c4/13bl08593w34g7qzjvs_pbyc0000gp/T/ipykernel_84897/3531815901.py\" target=\"_blank\"><span style=\"color: #7f7f7f; text-decoration-color: #7f7f7f\">3531815901.py</span></a><span style=\"color: #7f7f7f; text-decoration-color: #7f7f7f\">:</span><a href=\"file:///var/folders/c4/13bl08593w34g7qzjvs_pbyc0000gp/T/ipykernel_84897/3531815901.py#40\" target=\"_blank\"><span style=\"color: #7f7f7f; text-decoration-color: #7f7f7f\">40</span></a>\n",
       "</pre>\n"
      ],
      "text/plain": [
       "\u001b[2;36m          \u001b[0m\u001b[2;36m \u001b[0m\u001b[37mINFO  \u001b[0m - Setting up high level BC                                                       \u001b]8;id=989223;file:///var/folders/c4/13bl08593w34g7qzjvs_pbyc0000gp/T/ipykernel_84897/3531815901.py\u001b\\\u001b[2m3531815901.py\u001b[0m\u001b]8;;\u001b\\\u001b[2m:\u001b[0m\u001b]8;id=182324;file:///var/folders/c4/13bl08593w34g7qzjvs_pbyc0000gp/T/ipykernel_84897/3531815901.py#40\u001b\\\u001b[2m40\u001b[0m\u001b]8;;\u001b\\\n"
      ]
     },
     "metadata": {},
     "output_type": "display_data"
    },
    {
     "data": {
      "text/html": [
       "<pre style=\"white-space:pre;overflow-x:auto;line-height:normal;font-family:Menlo,'DejaVu Sans Mono',consolas,'Courier New',monospace\"><span style=\"color: #7fbfbf; text-decoration-color: #7fbfbf\">[17:58:32] </span><span style=\"color: #c0c0c0; text-decoration-color: #c0c0c0\">INFO  </span> - Starting Training high level BC                                                <a href=\"file:///var/folders/c4/13bl08593w34g7qzjvs_pbyc0000gp/T/ipykernel_84897/3531815901.py\" target=\"_blank\"><span style=\"color: #7f7f7f; text-decoration-color: #7f7f7f\">3531815901.py</span></a><span style=\"color: #7f7f7f; text-decoration-color: #7f7f7f\">:</span><a href=\"file:///var/folders/c4/13bl08593w34g7qzjvs_pbyc0000gp/T/ipykernel_84897/3531815901.py#57\" target=\"_blank\"><span style=\"color: #7f7f7f; text-decoration-color: #7f7f7f\">57</span></a>\n",
       "</pre>\n"
      ],
      "text/plain": [
       "\u001b[2;36m[17:58:32]\u001b[0m\u001b[2;36m \u001b[0m\u001b[37mINFO  \u001b[0m - Starting Training high level BC                                                \u001b]8;id=979222;file:///var/folders/c4/13bl08593w34g7qzjvs_pbyc0000gp/T/ipykernel_84897/3531815901.py\u001b\\\u001b[2m3531815901.py\u001b[0m\u001b]8;;\u001b\\\u001b[2m:\u001b[0m\u001b]8;id=989808;file:///var/folders/c4/13bl08593w34g7qzjvs_pbyc0000gp/T/ipykernel_84897/3531815901.py#57\u001b\\\u001b[2m57\u001b[0m\u001b]8;;\u001b\\\n"
      ]
     },
     "metadata": {},
     "output_type": "display_data"
    },
    {
     "data": {
      "text/html": [
       "<pre style=\"white-space:pre;overflow-x:auto;line-height:normal;font-family:Menlo,'DejaVu Sans Mono',consolas,'Courier New',monospace\"><span style=\"color: #7fbfbf; text-decoration-color: #7fbfbf\">           </span><span style=\"color: #c0c0c0; text-decoration-color: #c0c0c0\">INFO  </span> - Training model                                                                  <a href=\"file:///var/folders/c4/13bl08593w34g7qzjvs_pbyc0000gp/T/ipykernel_84897/963096423.py\" target=\"_blank\"><span style=\"color: #7f7f7f; text-decoration-color: #7f7f7f\">963096423.py</span></a><span style=\"color: #7f7f7f; text-decoration-color: #7f7f7f\">:</span><a href=\"file:///var/folders/c4/13bl08593w34g7qzjvs_pbyc0000gp/T/ipykernel_84897/963096423.py#28\" target=\"_blank\"><span style=\"color: #7f7f7f; text-decoration-color: #7f7f7f\">28</span></a>\n",
       "</pre>\n"
      ],
      "text/plain": [
       "\u001b[2;36m          \u001b[0m\u001b[2;36m \u001b[0m\u001b[37mINFO  \u001b[0m - Training model                                                                  \u001b]8;id=936377;file:///var/folders/c4/13bl08593w34g7qzjvs_pbyc0000gp/T/ipykernel_84897/963096423.py\u001b\\\u001b[2m963096423.py\u001b[0m\u001b]8;;\u001b\\\u001b[2m:\u001b[0m\u001b]8;id=941354;file:///var/folders/c4/13bl08593w34g7qzjvs_pbyc0000gp/T/ipykernel_84897/963096423.py#28\u001b\\\u001b[2m28\u001b[0m\u001b]8;;\u001b\\\n"
      ]
     },
     "metadata": {},
     "output_type": "display_data"
    },
    {
     "data": {
      "application/vnd.jupyter.widget-view+json": {
       "model_id": "1f7c81b87e3540ccbd0ce2060c7db757",
       "version_major": 2,
       "version_minor": 0
      },
      "text/plain": [
       "Output()"
      ]
     },
     "metadata": {},
     "output_type": "display_data"
    },
    {
     "data": {
      "text/html": [
       "<pre style=\"white-space:pre;overflow-x:auto;line-height:normal;font-family:Menlo,'DejaVu Sans Mono',consolas,'Courier New',monospace\"><span style=\"color: #7fbfbf; text-decoration-color: #7fbfbf\">           </span><span style=\"color: #008000; text-decoration-color: #008000\">TRACE </span> - <span style=\"color: #808000; text-decoration-color: #808000; font-weight: bold\">&lt;Tracing&gt;</span> Tracing batch loss                                                     <a href=\"file:///Users/msimchowitz1/Documents/code/stable_imitation/stanza/stanza/train/__init__.py\" target=\"_blank\"><span style=\"color: #7f7f7f; text-decoration-color: #7f7f7f\">__init__.py</span></a><span style=\"color: #7f7f7f; text-decoration-color: #7f7f7f\">:</span><a href=\"file:///Users/msimchowitz1/Documents/code/stable_imitation/stanza/stanza/train/__init__.py#44\" target=\"_blank\"><span style=\"color: #7f7f7f; text-decoration-color: #7f7f7f\">44</span></a>\n",
       "</pre>\n"
      ],
      "text/plain": [
       "\u001b[2;36m          \u001b[0m\u001b[2;36m \u001b[0m\u001b[32mTRACE \u001b[0m - \u001b[1;33m<\u001b[0m\u001b[1;33mTracing\u001b[0m\u001b[1;33m>\u001b[0m Tracing batch loss                                                     \u001b]8;id=70637;file:///Users/msimchowitz1/Documents/code/stable_imitation/stanza/stanza/train/__init__.py\u001b\\\u001b[2m__init__.py\u001b[0m\u001b]8;;\u001b\\\u001b[2m:\u001b[0m\u001b]8;id=572220;file:///Users/msimchowitz1/Documents/code/stable_imitation/stanza/stanza/train/__init__.py#44\u001b\\\u001b[2m44\u001b[0m\u001b]8;;\u001b\\\n"
      ]
     },
     "metadata": {},
     "output_type": "display_data"
    },
    {
     "data": {
      "text/html": [
       "<pre style=\"white-space:pre;overflow-x:auto;line-height:normal;font-family:Menlo,'DejaVu Sans Mono',consolas,'Courier New',monospace\"><span style=\"color: #7fbfbf; text-decoration-color: #7fbfbf\">           </span><span style=\"color: #008000; text-decoration-color: #008000\">TRACE </span> - <span style=\"color: #808000; text-decoration-color: #808000; font-weight: bold\">&lt;Tracing&gt;</span> Tracing training                                                      <a href=\"file:///Users/msimchowitz1/Documents/code/stable_imitation/stanza/stanza/train/__init__.py\" target=\"_blank\"><span style=\"color: #7f7f7f; text-decoration-color: #7f7f7f\">__init__.py</span></a><span style=\"color: #7f7f7f; text-decoration-color: #7f7f7f\">:</span><a href=\"file:///Users/msimchowitz1/Documents/code/stable_imitation/stanza/stanza/train/__init__.py#122\" target=\"_blank\"><span style=\"color: #7f7f7f; text-decoration-color: #7f7f7f\">122</span></a>\n",
       "</pre>\n"
      ],
      "text/plain": [
       "\u001b[2;36m          \u001b[0m\u001b[2;36m \u001b[0m\u001b[32mTRACE \u001b[0m - \u001b[1;33m<\u001b[0m\u001b[1;33mTracing\u001b[0m\u001b[1;33m>\u001b[0m Tracing training                                                      \u001b]8;id=447705;file:///Users/msimchowitz1/Documents/code/stable_imitation/stanza/stanza/train/__init__.py\u001b\\\u001b[2m__init__.py\u001b[0m\u001b]8;;\u001b\\\u001b[2m:\u001b[0m\u001b]8;id=744995;file:///Users/msimchowitz1/Documents/code/stable_imitation/stanza/stanza/train/__init__.py#122\u001b\\\u001b[2m122\u001b[0m\u001b]8;;\u001b\\\n"
      ]
     },
     "metadata": {},
     "output_type": "display_data"
    },
    {
     "data": {
      "text/html": [
       "<pre style=\"white-space:pre;overflow-x:auto;line-height:normal;font-family:Menlo,'DejaVu Sans Mono',consolas,'Courier New',monospace\"><span style=\"color: #7fbfbf; text-decoration-color: #7fbfbf\">           </span><span style=\"color: #008000; text-decoration-color: #008000\">TRACE </span> - <span style=\"color: #808000; text-decoration-color: #808000; font-weight: bold\">&lt;Tracing&gt;</span> Tracing epoch step                                                    <a href=\"file:///Users/msimchowitz1/Documents/code/stable_imitation/stanza/stanza/train/__init__.py\" target=\"_blank\"><span style=\"color: #7f7f7f; text-decoration-color: #7f7f7f\">__init__.py</span></a><span style=\"color: #7f7f7f; text-decoration-color: #7f7f7f\">:</span><a href=\"file:///Users/msimchowitz1/Documents/code/stable_imitation/stanza/stanza/train/__init__.py#103\" target=\"_blank\"><span style=\"color: #7f7f7f; text-decoration-color: #7f7f7f\">103</span></a>\n",
       "</pre>\n"
      ],
      "text/plain": [
       "\u001b[2;36m          \u001b[0m\u001b[2;36m \u001b[0m\u001b[32mTRACE \u001b[0m - \u001b[1;33m<\u001b[0m\u001b[1;33mTracing\u001b[0m\u001b[1;33m>\u001b[0m Tracing epoch step                                                    \u001b]8;id=775856;file:///Users/msimchowitz1/Documents/code/stable_imitation/stanza/stanza/train/__init__.py\u001b\\\u001b[2m__init__.py\u001b[0m\u001b]8;;\u001b\\\u001b[2m:\u001b[0m\u001b]8;id=676551;file:///Users/msimchowitz1/Documents/code/stable_imitation/stanza/stanza/train/__init__.py#103\u001b\\\u001b[2m103\u001b[0m\u001b]8;;\u001b\\\n"
      ]
     },
     "metadata": {},
     "output_type": "display_data"
    },
    {
     "data": {
      "text/html": [
       "<pre style=\"white-space:pre;overflow-x:auto;line-height:normal;font-family:Menlo,'DejaVu Sans Mono',consolas,'Courier New',monospace\"><span style=\"color: #7fbfbf; text-decoration-color: #7fbfbf\">           </span><span style=\"color: #008000; text-decoration-color: #008000\">TRACE </span> - <span style=\"color: #808000; text-decoration-color: #808000; font-weight: bold\">&lt;Tracing&gt;</span> Tracing train step                                                     <a href=\"file:///Users/msimchowitz1/Documents/code/stable_imitation/stanza/stanza/train/__init__.py\" target=\"_blank\"><span style=\"color: #7f7f7f; text-decoration-color: #7f7f7f\">__init__.py</span></a><span style=\"color: #7f7f7f; text-decoration-color: #7f7f7f\">:</span><a href=\"file:///Users/msimchowitz1/Documents/code/stable_imitation/stanza/stanza/train/__init__.py#73\" target=\"_blank\"><span style=\"color: #7f7f7f; text-decoration-color: #7f7f7f\">73</span></a>\n",
       "</pre>\n"
      ],
      "text/plain": [
       "\u001b[2;36m          \u001b[0m\u001b[2;36m \u001b[0m\u001b[32mTRACE \u001b[0m - \u001b[1;33m<\u001b[0m\u001b[1;33mTracing\u001b[0m\u001b[1;33m>\u001b[0m Tracing train step                                                     \u001b]8;id=324928;file:///Users/msimchowitz1/Documents/code/stable_imitation/stanza/stanza/train/__init__.py\u001b\\\u001b[2m__init__.py\u001b[0m\u001b]8;;\u001b\\\u001b[2m:\u001b[0m\u001b]8;id=49298;file:///Users/msimchowitz1/Documents/code/stable_imitation/stanza/stanza/train/__init__.py#73\u001b\\\u001b[2m73\u001b[0m\u001b]8;;\u001b\\\n"
      ]
     },
     "metadata": {},
     "output_type": "display_data"
    },
    {
     "data": {
      "text/html": [
       "<pre style=\"white-space:pre;overflow-x:auto;line-height:normal;font-family:Menlo,'DejaVu Sans Mono',consolas,'Courier New',monospace\"><span style=\"color: #7fbfbf; text-decoration-color: #7fbfbf\">           </span><span style=\"color: #008000; text-decoration-color: #008000\">TRACE </span> - <span style=\"color: #808000; text-decoration-color: #808000; font-weight: bold\">&lt;Tracing&gt;</span> Done tracing training                                                 <a href=\"file:///Users/msimchowitz1/Documents/code/stable_imitation/stanza/stanza/train/__init__.py\" target=\"_blank\"><span style=\"color: #7f7f7f; text-decoration-color: #7f7f7f\">__init__.py</span></a><span style=\"color: #7f7f7f; text-decoration-color: #7f7f7f\">:</span><a href=\"file:///Users/msimchowitz1/Documents/code/stable_imitation/stanza/stanza/train/__init__.py#133\" target=\"_blank\"><span style=\"color: #7f7f7f; text-decoration-color: #7f7f7f\">133</span></a>\n",
       "</pre>\n"
      ],
      "text/plain": [
       "\u001b[2;36m          \u001b[0m\u001b[2;36m \u001b[0m\u001b[32mTRACE \u001b[0m - \u001b[1;33m<\u001b[0m\u001b[1;33mTracing\u001b[0m\u001b[1;33m>\u001b[0m Done tracing training                                                 \u001b]8;id=237513;file:///Users/msimchowitz1/Documents/code/stable_imitation/stanza/stanza/train/__init__.py\u001b\\\u001b[2m__init__.py\u001b[0m\u001b]8;;\u001b\\\u001b[2m:\u001b[0m\u001b]8;id=670076;file:///Users/msimchowitz1/Documents/code/stable_imitation/stanza/stanza/train/__init__.py#133\u001b\\\u001b[2m133\u001b[0m\u001b]8;;\u001b\\\n"
      ]
     },
     "metadata": {},
     "output_type": "display_data"
    },
    {
     "data": {
      "text/html": [
       "<pre style=\"white-space:pre;overflow-x:auto;line-height:normal;font-family:Menlo,'DejaVu Sans Mono',consolas,'Courier New',monospace\"></pre>\n"
      ],
      "text/plain": []
     },
     "metadata": {},
     "output_type": "display_data"
    },
    {
     "data": {
      "text/html": [
       "<pre style=\"white-space:pre;overflow-x:auto;line-height:normal;font-family:Menlo,'DejaVu Sans Mono',consolas,'Courier New',monospace\"><span style=\"color: #7fbfbf; text-decoration-color: #7fbfbf\">[17:58:38] </span><span style=\"color: #c0c0c0; text-decoration-color: #c0c0c0\">INFO  </span> - Done Training high level BC                                                    <a href=\"file:///var/folders/c4/13bl08593w34g7qzjvs_pbyc0000gp/T/ipykernel_84897/3531815901.py\" target=\"_blank\"><span style=\"color: #7f7f7f; text-decoration-color: #7f7f7f\">3531815901.py</span></a><span style=\"color: #7f7f7f; text-decoration-color: #7f7f7f\">:</span><a href=\"file:///var/folders/c4/13bl08593w34g7qzjvs_pbyc0000gp/T/ipykernel_84897/3531815901.py#65\" target=\"_blank\"><span style=\"color: #7f7f7f; text-decoration-color: #7f7f7f\">65</span></a>\n",
       "</pre>\n"
      ],
      "text/plain": [
       "\u001b[2;36m[17:58:38]\u001b[0m\u001b[2;36m \u001b[0m\u001b[37mINFO  \u001b[0m - Done Training high level BC                                                    \u001b]8;id=136474;file:///var/folders/c4/13bl08593w34g7qzjvs_pbyc0000gp/T/ipykernel_84897/3531815901.py\u001b\\\u001b[2m3531815901.py\u001b[0m\u001b]8;;\u001b\\\u001b[2m:\u001b[0m\u001b]8;id=687296;file:///var/folders/c4/13bl08593w34g7qzjvs_pbyc0000gp/T/ipykernel_84897/3531815901.py#65\u001b\\\u001b[2m65\u001b[0m\u001b]8;;\u001b\\\n"
      ]
     },
     "metadata": {},
     "output_type": "display_data"
    },
    {
     "data": {
      "text/html": [
       "<pre style=\"white-space:pre;overflow-x:auto;line-height:normal;font-family:Menlo,'DejaVu Sans Mono',consolas,'Courier New',monospace\"><span style=\"color: #7fbfbf; text-decoration-color: #7fbfbf\">           </span><span style=\"color: #c0c0c0; text-decoration-color: #c0c0c0\">INFO  </span> - Rollout out high level BC                                                      <a href=\"file:///var/folders/c4/13bl08593w34g7qzjvs_pbyc0000gp/T/ipykernel_84897/3531815901.py\" target=\"_blank\"><span style=\"color: #7f7f7f; text-decoration-color: #7f7f7f\">3531815901.py</span></a><span style=\"color: #7f7f7f; text-decoration-color: #7f7f7f\">:</span><a href=\"file:///var/folders/c4/13bl08593w34g7qzjvs_pbyc0000gp/T/ipykernel_84897/3531815901.py#67\" target=\"_blank\"><span style=\"color: #7f7f7f; text-decoration-color: #7f7f7f\">67</span></a>\n",
       "</pre>\n"
      ],
      "text/plain": [
       "\u001b[2;36m          \u001b[0m\u001b[2;36m \u001b[0m\u001b[37mINFO  \u001b[0m - Rollout out high level BC                                                      \u001b]8;id=499285;file:///var/folders/c4/13bl08593w34g7qzjvs_pbyc0000gp/T/ipykernel_84897/3531815901.py\u001b\\\u001b[2m3531815901.py\u001b[0m\u001b]8;;\u001b\\\u001b[2m:\u001b[0m\u001b]8;id=819350;file:///var/folders/c4/13bl08593w34g7qzjvs_pbyc0000gp/T/ipykernel_84897/3531815901.py#67\u001b\\\u001b[2m67\u001b[0m\u001b]8;;\u001b\\\n"
      ]
     },
     "metadata": {},
     "output_type": "display_data"
    }
   ],
   "source": [
    "\"\"\"\n",
    "Run BC\n",
    "\"\"\"\n",
    "\n",
    "logger.info(\"Setting up low level BC\")\n",
    "num_bc_data_ll = 500\n",
    "sample_bc_ll = (lambda key: sampler.sample_gc_timestep(key))\n",
    "gc_bc_data_ll = jax.vmap(sample_bc_ll)(jax.random.split(\n",
    "    next(rng),num_bc_data_ll))\n",
    "gc_bc_data_ll = Data.from_pytree(gc_bc_data_ll)\n",
    "net_ll, init_params_ll = ac_mlp_init(gc_pendulum_env, rng)\n",
    "\n",
    "logger.info(\"Starting Training low level BC\")\n",
    "\n",
    "result_ll = ac_bc_train(rng=rng,data=gc_bc_data_ll,model=net_ll,\n",
    "                        init_params=init_params_ll,num_iters=config.num_iters_ll)\n",
    "\n",
    "ac_apply_ll = Partial(net_ll.apply, result_ll.fn_params)\n",
    "policy_ll = ACPolicy(ac_apply_ll,use_mean=True)\n",
    "\n",
    "logger.info(\"Done Training low level BC\")\n",
    "\n",
    "\n",
    "# stes up high level BC policy\n",
    "logger.info(\"Setting up high level BC\")\n",
    "\n",
    "sampler_hl = RollInSampler(env=env, traj_data=data, delta_t_min=config.delta_t,\n",
    "                            delta_t_max=config.delta_t)\n",
    "gs_sampler_hl = (lambda key: sampler_hl.sample_gc_state(key))\n",
    "\n",
    "gc_pendulum_env_hl = GCHighLevelEnvironment(gs_sampler=gs_sampler_hl,\n",
    "                                            base_env=env)\n",
    "num_bc_data_hl = 1000\n",
    "sample_bc_hl = (lambda key: sampler_hl.sample_gc_timestep_high_level(key))\n",
    "gc_bc_data_hl = jax.vmap(sample_bc_hl)(jax.random.split(\n",
    "    next(rng),num_bc_data_hl))\n",
    "gc_bc_data_hl = Data.from_pytree(gc_bc_data_hl)\n",
    "\n",
    "\n",
    "net_hl, init_params_hl = ac_mlp_init(gc_pendulum_env_hl, rng)\n",
    "\n",
    "logger.info(\"Starting Training high level BC\")\n",
    "\n",
    "result_hl = ac_bc_train(rng=rng,data=gc_bc_data_hl,model=net_hl,\n",
    "                        init_params=init_params_hl,num_iters=config.num_iters_hl)\n",
    "\n",
    "ac_apply_hl = Partial(net_hl.apply, result_hl.fn_params)\n",
    "policy_hl = ACPolicy(ac_apply_hl, use_mean=True)\n",
    "\n",
    "logger.info(\"Done Training high level BC\")\n",
    "\n",
    "logger.info(\"Rollout out high level BC\")\n",
    "\n",
    "r = policies.rollout(gc_pendulum_env_hl.step, \n",
    "    env.reset(next(rng)), policy_hl, \n",
    "    model_rng_key=next(rng),\n",
    "    policy_rng_key=next(rng),\n",
    "    observe=env.observe,\n",
    "    length=200)\n",
    "\n",
    "save_rollout_video(rollout=r,env=gc_pendulum_env_hl, \n",
    "                    file_name=config.bc_hl_video_filename, fps=30)\n",
    "\n",
    "is_update_time = Partial(fixed_time_update,t_max=1)\n",
    "\n",
    "\n",
    "rolls = []\n",
    "for parity in [True,False]:\n",
    "    policy_ll = ACPolicy(ac_apply_ll,use_mean=parity)\n",
    "    bi_policy = BiPolicy(policy_low=policy_ll,policy_high=policy_hl,is_update_time=is_update_time)\n",
    "    r = policies.rollout(env.step, \n",
    "        env.reset(next(rng)), bi_policy, \n",
    "        model_rng_key=next(rng),\n",
    "        policy_rng_key=next(rng),\n",
    "        observe=env.observe,\n",
    "        length=200)\n",
    "    rolls.append(r)\n",
    "\n",
    "save_rollout_video(rollout=rolls[0],env=env, \n",
    "                    file_name=config.bc_bl_video_filename_no_noise, fps=30)\n",
    "\n",
    "save_rollout_video(rollout=rolls[1],env=env, \n",
    "                    file_name=config.bc_bl_video_filename_with_noise, fps=30)\n",
    "\n",
    "logger.info(\"done\")"
   ]
  }
 ],
 "metadata": {
  "kernelspec": {
   "display_name": "stable-imitation-9j_9P0iT-py3.11",
   "language": "python",
   "name": "python3"
  },
  "language_info": {
   "codemirror_mode": {
    "name": "ipython",
    "version": 3
   },
   "file_extension": ".py",
   "mimetype": "text/x-python",
   "name": "python",
   "nbconvert_exporter": "python",
   "pygments_lexer": "ipython3",
   "version": "3.11.3"
  },
  "orig_nbformat": 4
 },
 "nbformat": 4,
 "nbformat_minor": 2
}
