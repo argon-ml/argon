{
 "cells": [
  {
   "cell_type": "code",
   "execution_count": null,
   "metadata": {},
   "outputs": [
    {
     "name": "stdout",
     "output_type": "stream",
     "text": [
      "Eval Artifact: dpfrommer-projects/image-diffusion-eval/evaluation:v8\n"
     ]
    },
    {
     "name": "stderr",
     "output_type": "stream",
     "text": [
      "\u001b[34m\u001b[1mwandb\u001b[0m: Using wandb-core as the SDK backend.  Please refer to https://wandb.me/wandb-core for more information.\n",
      "\u001b[34m\u001b[1mwandb\u001b[0m:   29 of 29 files downloaded.  \n"
     ]
    }
   ],
   "source": [
    "import wandb\n",
    "from pathlib import Path\n",
    "\n",
    "api = wandb.Api()\n",
    "eval_run = api.run(\"dpfrommer-projects/image-diffusion-eval/y3wq9bcc\")\n",
    "run = api.run(eval_run.config[\"run\"])\n",
    "checkpoints = run.logged_artifacts()\n",
    "iter_artifacts = {}\n",
    "for artifact in checkpoints:\n",
    "    if artifact.type != \"model\": continue\n",
    "    iterations = artifact.metadata[\"step\"]\n",
    "    if iterations % 10000 == 0:\n",
    "        iter_artifacts[iterations] = artifact\n",
    "output = eval_run.logged_artifacts()[0]\n",
    "print(\"Eval Artifact:\", output.qualified_name)\n",
    "output = Path(output.download())"
   ]
  },
  {
   "cell_type": "code",
   "execution_count": 2,
   "metadata": {},
   "outputs": [],
   "source": [
    "from image_diffusion.main import logger\n",
    "logger.setLevel('INFO')"
   ]
  },
  {
   "cell_type": "code",
   "execution_count": null,
   "metadata": {},
   "outputs": [
    {
     "name": "stderr",
     "output_type": "stream",
     "text": [
      "\u001b[34m\u001b[1mwandb\u001b[0m: Downloading large artifact mnist-ddpm-050000:v2, 280.86MB. 1 files... \n",
      "\u001b[34m\u001b[1mwandb\u001b[0m:   1 of 1 files downloaded.  \n",
      "Done. 0:0:0.5\n"
     ]
    }
   ],
   "source": [
    "import foundry.util.serialize\n",
    "\n",
    "path = Path(iter_artifacts[50_000].download()) / \"checkpoint.zarr.zip\"\n",
    "checkpoint = foundry.util.serialize.load_zarr(path)"
   ]
  },
  {
   "cell_type": "code",
   "execution_count": null,
   "metadata": {},
   "outputs": [],
   "source": [
    "import zarr\n",
    "import pandas as pd\n",
    "import matplotlib.pyplot as plt\n",
    "import plotly.graph_objects as go\n",
    "import numpy as np\n",
    "\n",
    "data = []\n",
    "keypoint_iter_vars = {}\n",
    "for file in output.iterdir():\n",
    "  print(file)\n",
    "  iteration = int(file.name.strip(\".zarr.zip\"))\n",
    "  results = foundry.util.serialize.load_zarr(file)\n",
    "  keypoint_iter_vars[iteration] = results.alpha_vars\n",
    "  with zarr.open(file) as zf:\n",
    "    for lin_error, nw_error, t, cond in zip(results.lin_error.reshape(-1),\n",
    "                                      results.nw_error.reshape(-1),\n",
    "                                      results.ts.reshape(-1),\n",
    "                                      results.cond[:,None,:].repeat(4, 1).reshape(-1, 2)):\n",
    "      data.append({\n",
    "          \"iteration\": iteration,\n",
    "          \"lin_error\": lin_error,\n",
    "          \"nw_error\": nw_error,\n",
    "          \"cond_x\": cond[0],\n",
    "          \"cond_y\": cond[1],\n",
    "          \"t\": t\n",
    "      }\n",
    "  )\n",
    "data = pd.DataFrame(data)\n",
    "data.sort_values(by=[\"iteration\"], inplace=True)\n",
    "data"
   ]
  },
  {
   "cell_type": "code",
   "execution_count": null,
   "metadata": {},
   "outputs": [],
   "source": [
    "import functools\n",
    "import jax\n",
    "import foundry.graphics\n",
    "import foundry.core as F\n",
    "import foundry.numpy as npx\n",
    "from IPython.display import display\n",
    "from foundry.train import Image\n",
    "\n",
    "schedule = checkpoint.schedule\n",
    "vars = checkpoint.vars\n",
    "model = checkpoint.config.create()\n",
    "\n",
    "normalizer, train_data, test_data = checkpoint.create_data()\n",
    "train_data = jax.vmap(normalizer.normalize)(train_data.as_pytree())\n",
    "test_data = jax.vmap(normalizer.normalize)(test_data.as_pytree())"
   ]
  },
  {
   "cell_type": "code",
   "execution_count": null,
   "metadata": {},
   "outputs": [],
   "source": [
    "from image_diffusion.eval import KeypointModel\n",
    "\n",
    "keypoint_model = KeypointModel(32)\n",
    "keypoint_vars = keypoint_iter_vars[50_000]"
   ]
  },
  {
   "cell_type": "code",
   "execution_count": null,
   "metadata": {},
   "outputs": [
    {
     "ename": "NameError",
     "evalue": "name 'F' is not defined",
     "output_type": "error",
     "traceback": [
      "\u001b[0;31m---------------------------------------------------------------------------\u001b[0m",
      "\u001b[0;31mNameError\u001b[0m                                 Traceback (most recent call last)",
      "Cell \u001b[0;32mIn[28], line 37\u001b[0m\n\u001b[1;32m     34\u001b[0m     \u001b[38;5;28;01mreturn\u001b[39;00m sample_trajs(denoiser, cond, rng_key, N)\n\u001b[1;32m     36\u001b[0m nn_grid, nn_trajs, nn_outputs \u001b[38;5;241m=\u001b[39m nn_sample(sampling_cond, jax\u001b[38;5;241m.\u001b[39mrandom\u001b[38;5;241m.\u001b[39mkey(\u001b[38;5;241m42\u001b[39m), \u001b[38;5;241m16\u001b[39m)\n\u001b[0;32m---> 37\u001b[0m lin_grid, lin_trajs, lin_outputs \u001b[38;5;241m=\u001b[39m \u001b[43mlinear_sample\u001b[49m\u001b[43m(\u001b[49m\u001b[43msampling_cond\u001b[49m\u001b[43m,\u001b[49m\u001b[43m \u001b[49m\u001b[43mjax\u001b[49m\u001b[38;5;241;43m.\u001b[39;49m\u001b[43mrandom\u001b[49m\u001b[38;5;241;43m.\u001b[39;49m\u001b[43mkey\u001b[49m\u001b[43m(\u001b[49m\u001b[38;5;241;43m42\u001b[39;49m\u001b[43m)\u001b[49m\u001b[43m,\u001b[49m\u001b[43m \u001b[49m\u001b[38;5;241;43m16\u001b[39;49m\u001b[43m)\u001b[49m\n\u001b[1;32m     38\u001b[0m display(nn_grid)\n\u001b[1;32m     39\u001b[0m display(lin_grid)\n",
      "    \u001b[0;31m[... skipping hidden 11 frame]\u001b[0m\n",
      "Cell \u001b[0;32mIn[28], line 34\u001b[0m, in \u001b[0;36mlinear_sample\u001b[0;34m(cond, rng_key, N)\u001b[0m\n\u001b[1;32m     32\u001b[0m     interpolated \u001b[38;5;241m=\u001b[39m npx\u001b[38;5;241m.\u001b[39msum(interpolated, axis\u001b[38;5;241m=\u001b[39m\u001b[38;5;241m0\u001b[39m)\n\u001b[1;32m     33\u001b[0m     \u001b[38;5;28;01mreturn\u001b[39;00m interpolated\n\u001b[0;32m---> 34\u001b[0m \u001b[38;5;28;01mreturn\u001b[39;00m \u001b[43msample_trajs\u001b[49m\u001b[43m(\u001b[49m\u001b[43mdenoiser\u001b[49m\u001b[43m,\u001b[49m\u001b[43m \u001b[49m\u001b[43mcond\u001b[49m\u001b[43m,\u001b[49m\u001b[43m \u001b[49m\u001b[43mrng_key\u001b[49m\u001b[43m,\u001b[49m\u001b[43m \u001b[49m\u001b[43mN\u001b[49m\u001b[43m)\u001b[49m\n",
      "    \u001b[0;31m[... skipping hidden 11 frame]\u001b[0m\n",
      "Cell \u001b[0;32mIn[28], line 16\u001b[0m, in \u001b[0;36msample_trajs\u001b[0;34m(denoiser, cond, rng_key, N)\u001b[0m\n\u001b[1;32m     14\u001b[0m     outputs \u001b[38;5;241m=\u001b[39m jax\u001b[38;5;241m.\u001b[39mlax\u001b[38;5;241m.\u001b[39mmap(\u001b[38;5;28;01mlambda\u001b[39;00m s: denoiser(\u001b[38;5;28;01mNone\u001b[39;00m, s[\u001b[38;5;241m0\u001b[39m], s[\u001b[38;5;241m1\u001b[39m]), (traj, npx\u001b[38;5;241m.\u001b[39marange(\u001b[38;5;241m1\u001b[39m, \u001b[38;5;241m1\u001b[39m \u001b[38;5;241m+\u001b[39m traj\u001b[38;5;241m.\u001b[39mshape[\u001b[38;5;241m0\u001b[39m])))\n\u001b[1;32m     15\u001b[0m     \u001b[38;5;28;01mreturn\u001b[39;00m sample, traj, outputs\n\u001b[0;32m---> 16\u001b[0m samples, trajs, outputs \u001b[38;5;241m=\u001b[39m \u001b[43mjax\u001b[49m\u001b[38;5;241;43m.\u001b[39;49m\u001b[43mlax\u001b[49m\u001b[38;5;241;43m.\u001b[39;49m\u001b[43mmap\u001b[49m\u001b[43m(\u001b[49m\u001b[43msample\u001b[49m\u001b[43m,\u001b[49m\u001b[43m \u001b[49m\u001b[43mfoundry\u001b[49m\u001b[38;5;241;43m.\u001b[39;49m\u001b[43mrandom\u001b[49m\u001b[38;5;241;43m.\u001b[39;49m\u001b[43msplit\u001b[49m\u001b[43m(\u001b[49m\u001b[43mrng_key\u001b[49m\u001b[43m,\u001b[49m\u001b[43m \u001b[49m\u001b[43mN\u001b[49m\u001b[43m)\u001b[49m\u001b[43m,\u001b[49m\u001b[43m \u001b[49m\u001b[43mbatch_size\u001b[49m\u001b[38;5;241;43m=\u001b[39;49m\u001b[38;5;241;43m8\u001b[39;49m\u001b[43m)\u001b[49m\n\u001b[1;32m     17\u001b[0m samples \u001b[38;5;241m=\u001b[39m (\u001b[38;5;241m128\u001b[39m\u001b[38;5;241m*\u001b[39m(samples\u001b[38;5;241m+\u001b[39m\u001b[38;5;241m1\u001b[39m))\u001b[38;5;241m.\u001b[39mastype(npx\u001b[38;5;241m.\u001b[39muint8)\n\u001b[1;32m     18\u001b[0m \u001b[38;5;28;01mreturn\u001b[39;00m Image(foundry\u001b[38;5;241m.\u001b[39mgraphics\u001b[38;5;241m.\u001b[39mimage_grid(samples)), trajs, outputs\n",
      "    \u001b[0;31m[... skipping hidden 15 frame]\u001b[0m\n",
      "Cell \u001b[0;32mIn[28], line 13\u001b[0m, in \u001b[0;36msample_trajs.<locals>.sample\u001b[0;34m(rng_key)\u001b[0m\n\u001b[1;32m     12\u001b[0m \u001b[38;5;28;01mdef\u001b[39;00m \u001b[38;5;21msample\u001b[39m(rng_key):\n\u001b[0;32m---> 13\u001b[0m     sample, traj \u001b[38;5;241m=\u001b[39m \u001b[43mschedule\u001b[49m\u001b[38;5;241;43m.\u001b[39;49m\u001b[43msample\u001b[49m\u001b[43m(\u001b[49m\u001b[43mrng_key\u001b[49m\u001b[43m,\u001b[49m\u001b[43m \u001b[49m\u001b[43mdenoiser\u001b[49m\u001b[43m,\u001b[49m\u001b[43m \u001b[49m\u001b[43mnpx\u001b[49m\u001b[38;5;241;43m.\u001b[39;49m\u001b[43mzeros\u001b[49m\u001b[43m(\u001b[49m\u001b[43mtest_data\u001b[49m\u001b[38;5;241;43m.\u001b[39;49m\u001b[43mdata\u001b[49m\u001b[43m[\u001b[49m\u001b[38;5;241;43m0\u001b[39;49m\u001b[43m]\u001b[49m\u001b[38;5;241;43m.\u001b[39;49m\u001b[43mshape\u001b[49m\u001b[43m)\u001b[49m\u001b[43m,\u001b[49m\u001b[43m \u001b[49m\u001b[43mtrajectory\u001b[49m\u001b[38;5;241;43m=\u001b[39;49m\u001b[38;5;28;43;01mTrue\u001b[39;49;00m\u001b[43m)\u001b[49m\n\u001b[1;32m     14\u001b[0m     outputs \u001b[38;5;241m=\u001b[39m jax\u001b[38;5;241m.\u001b[39mlax\u001b[38;5;241m.\u001b[39mmap(\u001b[38;5;28;01mlambda\u001b[39;00m s: denoiser(\u001b[38;5;28;01mNone\u001b[39;00m, s[\u001b[38;5;241m0\u001b[39m], s[\u001b[38;5;241m1\u001b[39m]), (traj, npx\u001b[38;5;241m.\u001b[39marange(\u001b[38;5;241m1\u001b[39m, \u001b[38;5;241m1\u001b[39m \u001b[38;5;241m+\u001b[39m traj\u001b[38;5;241m.\u001b[39mshape[\u001b[38;5;241m0\u001b[39m])))\n\u001b[1;32m     15\u001b[0m     \u001b[38;5;28;01mreturn\u001b[39;00m sample, traj, outputs\n",
      "    \u001b[0;31m[... skipping hidden 13 frame]\u001b[0m\n",
      "File \u001b[0;32m~/Documents/code/foundry/packages/models/src/foundry/diffusion/ddpm.py:363\u001b[0m, in \u001b[0;36mDDPMSchedule.sample\u001b[0;34m(self, rng_key, model, sample_structure, start_time, final_time, num_steps, start_sample, trajectory)\u001b[0m\n\u001b[1;32m    361\u001b[0m     n_rng, x_prev \u001b[38;5;241m=\u001b[39m do_step(carry, curr_T, prev_T)\n\u001b[1;32m    362\u001b[0m     \u001b[38;5;28;01mreturn\u001b[39;00m (n_rng, x_prev), x_prev\n\u001b[0;32m--> 363\u001b[0m carry, out \u001b[38;5;241m=\u001b[39m \u001b[43mjax\u001b[49m\u001b[38;5;241;43m.\u001b[39;49m\u001b[43mlax\u001b[49m\u001b[38;5;241;43m.\u001b[39;49m\u001b[43mscan\u001b[49m\u001b[43m(\u001b[49m\u001b[43mstep\u001b[49m\u001b[43m,\u001b[49m\u001b[43m \u001b[49m\u001b[43m(\u001b[49m\u001b[43mrng_key\u001b[49m\u001b[43m,\u001b[49m\u001b[43m \u001b[49m\u001b[43mrandom_sample\u001b[49m\u001b[43m)\u001b[49m\u001b[43m,\u001b[49m\u001b[43m \u001b[49m\u001b[43m(\u001b[49m\u001b[43mcurr_timesteps\u001b[49m\u001b[43m,\u001b[49m\u001b[43m \u001b[49m\u001b[43mprev_timesteps\u001b[49m\u001b[43m)\u001b[49m\u001b[43m)\u001b[49m\n\u001b[1;32m    364\u001b[0m _, sample \u001b[38;5;241m=\u001b[39m carry\n\u001b[1;32m    365\u001b[0m \u001b[38;5;66;03m# add the initial noise to the front of the scan output\u001b[39;00m\n",
      "    \u001b[0;31m[... skipping hidden 9 frame]\u001b[0m\n",
      "File \u001b[0;32m~/Documents/code/foundry/packages/models/src/foundry/diffusion/ddpm.py:361\u001b[0m, in \u001b[0;36mDDPMSchedule.sample.<locals>.step\u001b[0;34m(carry, timesteps)\u001b[0m\n\u001b[1;32m    359\u001b[0m rng_key, x_t \u001b[38;5;241m=\u001b[39m carry\n\u001b[1;32m    360\u001b[0m curr_T, prev_T \u001b[38;5;241m=\u001b[39m timesteps\n\u001b[0;32m--> 361\u001b[0m n_rng, x_prev \u001b[38;5;241m=\u001b[39m \u001b[43mdo_step\u001b[49m\u001b[43m(\u001b[49m\u001b[43mcarry\u001b[49m\u001b[43m,\u001b[49m\u001b[43m \u001b[49m\u001b[43mcurr_T\u001b[49m\u001b[43m,\u001b[49m\u001b[43m \u001b[49m\u001b[43mprev_T\u001b[49m\u001b[43m)\u001b[49m\n\u001b[1;32m    362\u001b[0m \u001b[38;5;28;01mreturn\u001b[39;00m (n_rng, x_prev), x_prev\n",
      "File \u001b[0;32m~/Documents/code/foundry/packages/models/src/foundry/diffusion/ddpm.py:350\u001b[0m, in \u001b[0;36mDDPMSchedule.sample.<locals>.do_step\u001b[0;34m(carry, curr_T, prev_T)\u001b[0m\n\u001b[1;32m    348\u001b[0m rng_key, x_t \u001b[38;5;241m=\u001b[39m carry\n\u001b[1;32m    349\u001b[0m m_rng, s_rng, n_rng \u001b[38;5;241m=\u001b[39m jax\u001b[38;5;241m.\u001b[39mrandom\u001b[38;5;241m.\u001b[39msplit(rng_key, \u001b[38;5;241m3\u001b[39m)\n\u001b[0;32m--> 350\u001b[0m model_output \u001b[38;5;241m=\u001b[39m \u001b[43mmodel\u001b[49m\u001b[43m(\u001b[49m\u001b[43mm_rng\u001b[49m\u001b[43m,\u001b[49m\u001b[43m \u001b[49m\u001b[43mx_t\u001b[49m\u001b[43m,\u001b[49m\u001b[43m \u001b[49m\u001b[43mcurr_T\u001b[49m\u001b[43m)\u001b[49m\n\u001b[1;32m    351\u001b[0m x_prev \u001b[38;5;241m=\u001b[39m \u001b[38;5;28mself\u001b[39m\u001b[38;5;241m.\u001b[39mreverse_step(s_rng, x_t, curr_T, curr_T \u001b[38;5;241m-\u001b[39m prev_T, model_output)\n\u001b[1;32m    352\u001b[0m \u001b[38;5;28;01mreturn\u001b[39;00m (n_rng, x_prev)\n",
      "Cell \u001b[0;32mIn[28], line 30\u001b[0m, in \u001b[0;36mlinear_sample.<locals>.denoiser\u001b[0;34m(rng_key, x, t)\u001b[0m\n\u001b[1;32m     28\u001b[0m \u001b[38;5;28;01mdef\u001b[39;00m \u001b[38;5;21mdenoiser\u001b[39m(rng_key, x, t):\n\u001b[1;32m     29\u001b[0m     alphas \u001b[38;5;241m=\u001b[39m keypoint_model\u001b[38;5;241m.\u001b[39mapply(keypoint_vars, cond, t)\n\u001b[0;32m---> 30\u001b[0m     out_keypoints \u001b[38;5;241m=\u001b[39m \u001b[43mF\u001b[49m\u001b[38;5;241m.\u001b[39mvmap(\u001b[38;5;28;01mlambda\u001b[39;00m k: model\u001b[38;5;241m.\u001b[39mapply(\u001b[38;5;28mvars\u001b[39m, x, t\u001b[38;5;241m-\u001b[39m\u001b[38;5;241m1\u001b[39m, cond\u001b[38;5;241m=\u001b[39mk))(keypoints[:USED_KEYPOINTS])\n\u001b[1;32m     31\u001b[0m     interpolated \u001b[38;5;241m=\u001b[39m alphas[:, \u001b[38;5;28;01mNone\u001b[39;00m, \u001b[38;5;28;01mNone\u001b[39;00m, \u001b[38;5;28;01mNone\u001b[39;00m] \u001b[38;5;241m*\u001b[39m out_keypoints\n\u001b[1;32m     32\u001b[0m     interpolated \u001b[38;5;241m=\u001b[39m npx\u001b[38;5;241m.\u001b[39msum(interpolated, axis\u001b[38;5;241m=\u001b[39m\u001b[38;5;241m0\u001b[39m)\n",
      "\u001b[0;31mNameError\u001b[0m: name 'F' is not defined"
     ]
    }
   ],
   "source": [
    "\n",
    "sampling_cond = np.array([1.0, 2.0])\n",
    "\n",
    "@functools.partial(jax.jit, static_argnums=(0, 3,))\n",
    "def sample_trajs(denoiser, cond, rng_key, N):\n",
    "    def sample(rng_key):\n",
    "        sample, traj = schedule.sample(rng_key, denoiser, npx.zeros(test_data.data[0].shape), trajectory=True)\n",
    "        outputs = jax.lax.map(lambda s: denoiser(None, s[0], s[1]), (traj, npx.arange(1, 1 + traj.shape[0])))\n",
    "        return sample, traj, outputs\n",
    "    samples, trajs, outputs = jax.lax.map(sample, foundry.random.split(rng_key, N), batch_size=8)\n",
    "    samples = (128*(samples+1)).astype(npx.uint8)\n",
    "    return Image(foundry.graphics.image_grid(samples)), trajs, outputs\n",
    "\n",
    "@functools.partial(jax.jit, static_argnums=(2,))\n",
    "def nn_sample(cond, rng_key, N):\n",
    "    def denoiser(rng_key, x, t):\n",
    "        return model.apply(vars, x, t - 1, cond=cond)\n",
    "    return sample_trajs(denoiser, cond, rng_key, N)\n",
    "\n",
    "@functools.partial(jax.jit, static_argnums=(2,))\n",
    "def linear_sample(cond, rng_key, N):\n",
    "    def denoiser(rng_key, x, t):\n",
    "        alphas = keypoint_model.apply(keypoint_vars, cond, t)\n",
    "        out_keypoints = F.vmap(lambda k: model.apply(vars, x, t-1, cond=k))(keypoints[:USED_KEYPOINTS])\n",
    "        interpolated = alphas[:, None, None, None] * out_keypoints\n",
    "        interpolated = npx.sum(interpolated, axis=0)\n",
    "        return interpolated\n",
    "    return sample_trajs(denoiser, cond, rng_key, N)\n",
    "\n",
    "nn_grid, nn_trajs, nn_outputs = nn_sample(sampling_cond, jax.random.key(42), 16)\n",
    "lin_grid, lin_trajs, lin_outputs = linear_sample(sampling_cond, jax.random.key(42), 16)\n",
    "display(nn_grid)\n",
    "display(lin_grid)"
   ]
  },
  {
   "cell_type": "code",
   "execution_count": null,
   "metadata": {},
   "outputs": [],
   "source": []
  }
 ],
 "metadata": {
  "kernelspec": {
   "display_name": ".venv",
   "language": "python",
   "name": "python3"
  },
  "language_info": {
   "codemirror_mode": {
    "name": "ipython",
    "version": 3
   },
   "file_extension": ".py",
   "mimetype": "text/x-python",
   "name": "python",
   "nbconvert_exporter": "python",
   "pygments_lexer": "ipython3",
   "version": "3.12.0"
  }
 },
 "nbformat": 4,
 "nbformat_minor": 2
}
