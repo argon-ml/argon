{
 "cells": [
  {
   "cell_type": "code",
   "execution_count": 1,
   "metadata": {},
   "outputs": [
    {
     "name": "stdout",
     "output_type": "stream",
     "text": [
      "Eval Artifact: dpfrommer-projects/image-diffusion-eval/evaluation:v10\n"
     ]
    },
    {
     "name": "stderr",
     "output_type": "stream",
     "text": [
      "\u001b[34m\u001b[1mwandb\u001b[0m: Using wandb-core as the SDK backend.  Please refer to https://wandb.me/wandb-core for more information.\n",
      "\u001b[34m\u001b[1mwandb\u001b[0m:   29 of 29 files downloaded.  \n"
     ]
    }
   ],
   "source": [
    "import wandb\n",
    "from pathlib import Path\n",
    "\n",
    "api = wandb.Api()\n",
    "eval_run = api.run(\"dpfrommer-projects/image-diffusion-eval/igbrpifm\")\n",
    "run = api.run(eval_run.config[\"run\"])\n",
    "checkpoints = run.logged_artifacts()\n",
    "iter_artifacts = {}\n",
    "for artifact in checkpoints:\n",
    "    if artifact.type != \"model\": continue\n",
    "    iterations = artifact.metadata[\"step\"]\n",
    "    if iterations % 10000 == 0:\n",
    "        iter_artifacts[iterations] = artifact\n",
    "output = eval_run.logged_artifacts()[0]\n",
    "print(\"Eval Artifact:\", output.qualified_name)\n",
    "output = Path(output.download())"
   ]
  },
  {
   "cell_type": "code",
   "execution_count": 2,
   "metadata": {},
   "outputs": [],
   "source": [
    "from image_diffusion.main import logger\n",
    "logger.setLevel('INFO')"
   ]
  },
  {
   "cell_type": "code",
   "execution_count": 3,
   "metadata": {},
   "outputs": [
    {
     "name": "stderr",
     "output_type": "stream",
     "text": [
      "\u001b[34m\u001b[1mwandb\u001b[0m: Downloading large artifact mnist-ddpm-050000:v2, 280.86MB. 1 files... \n",
      "\u001b[34m\u001b[1mwandb\u001b[0m:   1 of 1 files downloaded.  \n",
      "Done. 0:0:0.5\n"
     ]
    }
   ],
   "source": [
    "import argon.util.serialize\n",
    "\n",
    "path = Path(iter_artifacts[50_000].download()) / \"checkpoint.zarr.zip\"\n",
    "checkpoint = argon.util.serialize.load_zarr(path)"
   ]
  },
  {
   "cell_type": "code",
   "execution_count": null,
   "metadata": {},
   "outputs": [
    {
     "name": "stdout",
     "output_type": "stream",
     "text": [
      "/home/daniel/Documents/code/argon/projects/image-diffusion/notebooks/artifacts/evaluation:v10/150000.zarr.zip\n",
      "/home/daniel/Documents/code/argon/projects/image-diffusion/notebooks/artifacts/evaluation:v10/200000.zarr.zip\n",
      "/home/daniel/Documents/code/argon/projects/image-diffusion/notebooks/artifacts/evaluation:v10/140000.zarr.zip\n",
      "/home/daniel/Documents/code/argon/projects/image-diffusion/notebooks/artifacts/evaluation:v10/280000.zarr.zip\n",
      "/home/daniel/Documents/code/argon/projects/image-diffusion/notebooks/artifacts/evaluation:v10/000000.zarr.zip\n",
      "/home/daniel/Documents/code/argon/projects/image-diffusion/notebooks/artifacts/evaluation:v10/080000.zarr.zip\n",
      "/home/daniel/Documents/code/argon/projects/image-diffusion/notebooks/artifacts/evaluation:v10/240000.zarr.zip\n",
      "/home/daniel/Documents/code/argon/projects/image-diffusion/notebooks/artifacts/evaluation:v10/210000.zarr.zip\n",
      "/home/daniel/Documents/code/argon/projects/image-diffusion/notebooks/artifacts/evaluation:v10/250000.zarr.zip\n",
      "/home/daniel/Documents/code/argon/projects/image-diffusion/notebooks/artifacts/evaluation:v10/230000.zarr.zip\n",
      "/home/daniel/Documents/code/argon/projects/image-diffusion/notebooks/artifacts/evaluation:v10/010000.zarr.zip\n",
      "/home/daniel/Documents/code/argon/projects/image-diffusion/notebooks/artifacts/evaluation:v10/220000.zarr.zip\n",
      "/home/daniel/Documents/code/argon/projects/image-diffusion/notebooks/artifacts/evaluation:v10/270000.zarr.zip\n",
      "/home/daniel/Documents/code/argon/projects/image-diffusion/notebooks/artifacts/evaluation:v10/130000.zarr.zip\n",
      "/home/daniel/Documents/code/argon/projects/image-diffusion/notebooks/artifacts/evaluation:v10/090000.zarr.zip\n",
      "/home/daniel/Documents/code/argon/projects/image-diffusion/notebooks/artifacts/evaluation:v10/120000.zarr.zip\n",
      "/home/daniel/Documents/code/argon/projects/image-diffusion/notebooks/artifacts/evaluation:v10/070000.zarr.zip\n",
      "/home/daniel/Documents/code/argon/projects/image-diffusion/notebooks/artifacts/evaluation:v10/040000.zarr.zip\n",
      "/home/daniel/Documents/code/argon/projects/image-diffusion/notebooks/artifacts/evaluation:v10/160000.zarr.zip\n",
      "/home/daniel/Documents/code/argon/projects/image-diffusion/notebooks/artifacts/evaluation:v10/100000.zarr.zip\n",
      "/home/daniel/Documents/code/argon/projects/image-diffusion/notebooks/artifacts/evaluation:v10/060000.zarr.zip\n",
      "/home/daniel/Documents/code/argon/projects/image-diffusion/notebooks/artifacts/evaluation:v10/110000.zarr.zip\n",
      "/home/daniel/Documents/code/argon/projects/image-diffusion/notebooks/artifacts/evaluation:v10/020000.zarr.zip\n",
      "/home/daniel/Documents/code/argon/projects/image-diffusion/notebooks/artifacts/evaluation:v10/170000.zarr.zip\n",
      "/home/daniel/Documents/code/argon/projects/image-diffusion/notebooks/artifacts/evaluation:v10/030000.zarr.zip\n",
      "/home/daniel/Documents/code/argon/projects/image-diffusion/notebooks/artifacts/evaluation:v10/050000.zarr.zip\n",
      "/home/daniel/Documents/code/argon/projects/image-diffusion/notebooks/artifacts/evaluation:v10/260000.zarr.zip\n",
      "/home/daniel/Documents/code/argon/projects/image-diffusion/notebooks/artifacts/evaluation:v10/180000.zarr.zip\n",
      "/home/daniel/Documents/code/argon/projects/image-diffusion/notebooks/artifacts/evaluation:v10/190000.zarr.zip\n"
     ]
    },
    {
     "data": {
      "text/html": [
       "<div>\n",
       "<style scoped>\n",
       "    .dataframe tbody tr th:only-of-type {\n",
       "        vertical-align: middle;\n",
       "    }\n",
       "\n",
       "    .dataframe tbody tr th {\n",
       "        vertical-align: top;\n",
       "    }\n",
       "\n",
       "    .dataframe thead th {\n",
       "        text-align: right;\n",
       "    }\n",
       "</style>\n",
       "<table border=\"1\" class=\"dataframe\">\n",
       "  <thead>\n",
       "    <tr style=\"text-align: right;\">\n",
       "      <th></th>\n",
       "      <th>iteration</th>\n",
       "      <th>lin_error</th>\n",
       "      <th>nw_error</th>\n",
       "      <th>cond_x</th>\n",
       "      <th>cond_y</th>\n",
       "      <th>t</th>\n",
       "    </tr>\n",
       "  </thead>\n",
       "  <tbody>\n",
       "    <tr>\n",
       "      <th>10238</th>\n",
       "      <td>0</td>\n",
       "      <td>5.1792636</td>\n",
       "      <td>45.935543</td>\n",
       "      <td>2.3100395</td>\n",
       "      <td>1.2500505</td>\n",
       "      <td>12</td>\n",
       "    </tr>\n",
       "    <tr>\n",
       "      <th>8864</th>\n",
       "      <td>0</td>\n",
       "      <td>1.136258</td>\n",
       "      <td>46.566856</td>\n",
       "      <td>-0.31650496</td>\n",
       "      <td>-1.0692525</td>\n",
       "      <td>23</td>\n",
       "    </tr>\n",
       "    <tr>\n",
       "      <th>8865</th>\n",
       "      <td>0</td>\n",
       "      <td>1.1977514</td>\n",
       "      <td>44.738194</td>\n",
       "      <td>-0.31650496</td>\n",
       "      <td>-1.0692525</td>\n",
       "      <td>27</td>\n",
       "    </tr>\n",
       "    <tr>\n",
       "      <th>8866</th>\n",
       "      <td>0</td>\n",
       "      <td>0.9248023</td>\n",
       "      <td>45.25426</td>\n",
       "      <td>-0.31650496</td>\n",
       "      <td>-1.0692525</td>\n",
       "      <td>3</td>\n",
       "    </tr>\n",
       "    <tr>\n",
       "      <th>8867</th>\n",
       "      <td>0</td>\n",
       "      <td>1.478752</td>\n",
       "      <td>41.89927</td>\n",
       "      <td>-0.31650496</td>\n",
       "      <td>-1.0692525</td>\n",
       "      <td>32</td>\n",
       "    </tr>\n",
       "    <tr>\n",
       "      <th>...</th>\n",
       "      <td>...</td>\n",
       "      <td>...</td>\n",
       "      <td>...</td>\n",
       "      <td>...</td>\n",
       "      <td>...</td>\n",
       "      <td>...</td>\n",
       "    </tr>\n",
       "    <tr>\n",
       "      <th>7516</th>\n",
       "      <td>280000</td>\n",
       "      <td>0.39940286</td>\n",
       "      <td>0.7710396</td>\n",
       "      <td>-0.07392883</td>\n",
       "      <td>-1.2733829</td>\n",
       "      <td>31</td>\n",
       "    </tr>\n",
       "    <tr>\n",
       "      <th>7517</th>\n",
       "      <td>280000</td>\n",
       "      <td>3.7639937</td>\n",
       "      <td>8.5941515</td>\n",
       "      <td>-0.07392883</td>\n",
       "      <td>-1.2733829</td>\n",
       "      <td>6</td>\n",
       "    </tr>\n",
       "    <tr>\n",
       "      <th>7518</th>\n",
       "      <td>280000</td>\n",
       "      <td>2.5289836</td>\n",
       "      <td>7.1196814</td>\n",
       "      <td>-0.07392883</td>\n",
       "      <td>-1.2733829</td>\n",
       "      <td>20</td>\n",
       "    </tr>\n",
       "    <tr>\n",
       "      <th>6144</th>\n",
       "      <td>280000</td>\n",
       "      <td>10.559726</td>\n",
       "      <td>10.680752</td>\n",
       "      <td>-1.5111828</td>\n",
       "      <td>2.375042</td>\n",
       "      <td>6</td>\n",
       "    </tr>\n",
       "    <tr>\n",
       "      <th>6145</th>\n",
       "      <td>280000</td>\n",
       "      <td>10.053395</td>\n",
       "      <td>10.680753</td>\n",
       "      <td>-1.5111828</td>\n",
       "      <td>2.375042</td>\n",
       "      <td>9</td>\n",
       "    </tr>\n",
       "  </tbody>\n",
       "</table>\n",
       "<p>59392 rows × 6 columns</p>\n",
       "</div>"
      ],
      "text/plain": [
       "       iteration   lin_error   nw_error       cond_x      cond_y   t\n",
       "10238          0   5.1792636  45.935543    2.3100395   1.2500505  12\n",
       "8864           0    1.136258  46.566856  -0.31650496  -1.0692525  23\n",
       "8865           0   1.1977514  44.738194  -0.31650496  -1.0692525  27\n",
       "8866           0   0.9248023   45.25426  -0.31650496  -1.0692525   3\n",
       "8867           0    1.478752   41.89927  -0.31650496  -1.0692525  32\n",
       "...          ...         ...        ...          ...         ...  ..\n",
       "7516      280000  0.39940286  0.7710396  -0.07392883  -1.2733829  31\n",
       "7517      280000   3.7639937  8.5941515  -0.07392883  -1.2733829   6\n",
       "7518      280000   2.5289836  7.1196814  -0.07392883  -1.2733829  20\n",
       "6144      280000   10.559726  10.680752   -1.5111828    2.375042   6\n",
       "6145      280000   10.053395  10.680753   -1.5111828    2.375042   9\n",
       "\n",
       "[59392 rows x 6 columns]"
      ]
     },
     "execution_count": 4,
     "metadata": {},
     "output_type": "execute_result"
    }
   ],
   "source": [
    "import zarr\n",
    "import pandas as pd\n",
    "import matplotlib.pyplot as plt\n",
    "import plotly.graph_objects as go\n",
    "import numpy as np\n",
    "\n",
    "data = []\n",
    "eval_results = {}\n",
    "for file in output.iterdir():\n",
    "  iteration = int(file.name.strip(\".zarr.zip\"))\n",
    "  results = argon.util.serialize.load_zarr(file)\n",
    "  eval_results[iteration] = results\n",
    "  with zarr.open(file) as zf:\n",
    "    for lin_error, nw_error, t, cond in zip(results.lin_error.reshape(-1),\n",
    "                                      results.nw_error.reshape(-1),\n",
    "                                      results.ts.reshape(-1),\n",
    "                                      results.cond[:,None,:].repeat(4, 1).reshape(-1, 2)):\n",
    "      data.append({\n",
    "          \"iteration\": iteration,\n",
    "          \"lin_error\": lin_error,\n",
    "          \"nw_error\": nw_error,\n",
    "          \"cond_x\": cond[0],\n",
    "          \"cond_y\": cond[1],\n",
    "          \"t\": t\n",
    "      }\n",
    "  )\n",
    "data = pd.DataFrame(data)\n",
    "data.sort_values(by=[\"iteration\"], inplace=True)\n",
    "data"
   ]
  },
  {
   "cell_type": "code",
   "execution_count": null,
   "metadata": {},
   "outputs": [],
   "source": [
    "import matplotlib.pyplot as plt\n",
    "\n",
    "for i in []"
   ]
  },
  {
   "cell_type": "code",
   "execution_count": 5,
   "metadata": {},
   "outputs": [],
   "source": [
    "import functools\n",
    "import jax\n",
    "import argon.graphics\n",
    "import argon.core as F\n",
    "import argon.numpy as npx\n",
    "from IPython.display import display\n",
    "from argon.train import Image\n",
    "\n",
    "schedule = checkpoint.schedule\n",
    "vars = checkpoint.vars\n",
    "model = checkpoint.config.create()\n",
    "\n",
    "normalizer, train_data, test_data = checkpoint.create_data()\n",
    "train_data = jax.vmap(normalizer.normalize)(train_data.as_pytree())\n",
    "test_data = jax.vmap(normalizer.normalize)(test_data.as_pytree())"
   ]
  },
  {
   "cell_type": "code",
   "execution_count": 11,
   "metadata": {},
   "outputs": [],
   "source": [
    "from image_diffusion.eval import KeypointModel\n",
    "\n",
    "keypoint_vars = eval_results[100_000].alpha_vars\n",
    "keypoints = eval_results[100_000].keypoints\n",
    "keypoint_model = KeypointModel(len(keypoints))"
   ]
  },
  {
   "cell_type": "code",
   "execution_count": 15,
   "metadata": {},
   "outputs": [
    {
     "data": {
      "application/vnd.jupyter.widget-view+json": {
       "model_id": "c2dd2ce6718e484b9e30b99d4c32e739",
       "version_major": 2,
       "version_minor": 0
      },
      "text/plain": [
       "HBox(children=(Image(value=b'\\x89PNG\\r\\n\\x1a\\n\\x00\\x00\\x00\\rIHDR\\x00\\x00\\x00p\\x00\\x00\\x00p\\x08\\x02\\x00\\x00\\x00…"
      ]
     },
     "metadata": {},
     "output_type": "display_data"
    },
    {
     "data": {
      "application/vnd.jupyter.widget-view+json": {
       "model_id": "47955a4563e5482bad4ed1215f7d916f",
       "version_major": 2,
       "version_minor": 0
      },
      "text/plain": [
       "HBox(children=(Image(value=b'\\x89PNG\\r\\n\\x1a\\n\\x00\\x00\\x00\\rIHDR\\x00\\x00\\x00p\\x00\\x00\\x00p\\x08\\x02\\x00\\x00\\x00…"
      ]
     },
     "metadata": {},
     "output_type": "display_data"
    }
   ],
   "source": [
    "\n",
    "sampling_cond = np.array([3.0, 0.0])\n",
    "\n",
    "@functools.partial(jax.jit, static_argnums=(0, 3,))\n",
    "def sample_trajs(denoiser, cond, rng_key, N):\n",
    "    def sample(rng_key):\n",
    "        sample, traj = schedule.sample(rng_key, denoiser, npx.zeros(test_data.data[0].shape), trajectory=True)\n",
    "        outputs = jax.lax.map(lambda s: denoiser(None, s[0], s[1]), (traj, npx.arange(1, 1 + traj.shape[0])))\n",
    "        return sample, traj, outputs\n",
    "    samples, trajs, outputs = jax.lax.map(sample, argon.random.split(rng_key, N), batch_size=8)\n",
    "    samples = (128*(samples+1)).astype(npx.uint8)\n",
    "    return Image(argon.graphics.image_grid(samples)), trajs, outputs\n",
    "\n",
    "@functools.partial(jax.jit, static_argnums=(2,))\n",
    "def nn_sample(cond, rng_key, N):\n",
    "    def denoiser(rng_key, x, t):\n",
    "        return model.apply(vars, x, t - 1, cond=cond)\n",
    "    return sample_trajs(denoiser, cond, rng_key, N)\n",
    "\n",
    "@functools.partial(jax.jit, static_argnums=(2,))\n",
    "def linear_sample(cond, rng_key, N):\n",
    "    def denoiser(rng_key, x, t):\n",
    "        alphas = keypoint_model.apply(keypoint_vars, cond, t)\n",
    "        out_keypoints = F.vmap(lambda k: model.apply(vars, x, t-1, cond=k))(keypoints)\n",
    "        interpolated = alphas[:, None, None, None] * out_keypoints\n",
    "        interpolated = npx.sum(interpolated, axis=0)\n",
    "        return interpolated\n",
    "    return sample_trajs(denoiser, cond, rng_key, N)\n",
    "\n",
    "nn_grid, nn_trajs, nn_outputs = nn_sample(sampling_cond, jax.random.key(42), 16)\n",
    "lin_grid, lin_trajs, lin_outputs = linear_sample(sampling_cond, jax.random.key(42), 16)\n",
    "display(nn_grid)\n",
    "display(lin_grid)"
   ]
  },
  {
   "cell_type": "code",
   "execution_count": null,
   "metadata": {},
   "outputs": [],
   "source": []
  }
 ],
 "metadata": {
  "kernelspec": {
   "display_name": ".venv",
   "language": "python",
   "name": "python3"
  },
  "language_info": {
   "codemirror_mode": {
    "name": "ipython",
    "version": 3
   },
   "file_extension": ".py",
   "mimetype": "text/x-python",
   "name": "python",
   "nbconvert_exporter": "python",
   "pygments_lexer": "ipython3",
   "version": "3.12.0"
  }
 },
 "nbformat": 4,
 "nbformat_minor": 2
}
