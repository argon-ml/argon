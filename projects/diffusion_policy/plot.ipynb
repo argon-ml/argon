{
 "cells": [
  {
   "cell_type": "code",
   "execution_count": 14,
   "metadata": {},
   "outputs": [],
   "source": [
    "import wandb\n",
    "\n",
    "api = wandb.Api()\n",
    "sweep = api.from_path(\"dpfrommer-projects/stanza/sweeps/isn9fceo\")"
   ]
  },
  {
   "cell_type": "code",
   "execution_count": 15,
   "metadata": {},
   "outputs": [
    {
     "ename": "KeyError",
     "evalue": "'test_reward'",
     "output_type": "error",
     "traceback": [
      "\u001b[0;31m---------------------------------------------------------------------------\u001b[0m",
      "\u001b[0;31mKeyError\u001b[0m                                  Traceback (most recent call last)",
      "Cell \u001b[0;32mIn[15], line 5\u001b[0m\n\u001b[1;32m      3\u001b[0m datas \u001b[39m=\u001b[39m []\n\u001b[1;32m      4\u001b[0m \u001b[39mfor\u001b[39;00m run \u001b[39min\u001b[39;00m sweep\u001b[39m.\u001b[39mruns:\n\u001b[0;32m----> 5\u001b[0m     test_reward \u001b[39m=\u001b[39m run\u001b[39m.\u001b[39;49msummary_metrics[\u001b[39m\"\u001b[39;49m\u001b[39mtest_reward\u001b[39;49m\u001b[39m\"\u001b[39;49m]\n\u001b[1;32m      6\u001b[0m     trajs \u001b[39m=\u001b[39m run\u001b[39m.\u001b[39mconfig[\u001b[39m\"\u001b[39m\u001b[39mnum_trajectories\u001b[39m\u001b[39m\"\u001b[39m]\n\u001b[1;32m      7\u001b[0m     regularize \u001b[39m=\u001b[39m run\u001b[39m.\u001b[39mconfig[\u001b[39m\"\u001b[39m\u001b[39mregularize_gains_lambda\u001b[39m\u001b[39m\"\u001b[39m] \u001b[39m>\u001b[39m \u001b[39m0\u001b[39m\n",
      "\u001b[0;31mKeyError\u001b[0m: 'test_reward'"
     ]
    }
   ],
   "source": [
    "import pandas as pd\n",
    "\n",
    "datas = []\n",
    "for run in sweep.runs:\n",
    "    if \"test_reward\" not in run.summary_metrics:\n",
    "        continue\n",
    "    test_reward = run.summary_metrics[\"test_reward\"]\n",
    "    trajs = run.config[\"num_trajectories\"]\n",
    "    regularize = run.config[\"regularize_gains_lambda\"] > 0\n",
    "    datas.append({\"test_reward\": test_reward, \"trajs\": trajs, \"regularize\": regularize})\n",
    "datas = pd.DataFrame(datas)"
   ]
  },
  {
   "cell_type": "code",
   "execution_count": 16,
   "metadata": {},
   "outputs": [
    {
     "ename": "TypeError",
     "evalue": "list indices must be integers or slices, not str",
     "output_type": "error",
     "traceback": [
      "\u001b[0;31m---------------------------------------------------------------------------\u001b[0m",
      "\u001b[0;31mTypeError\u001b[0m                                 Traceback (most recent call last)",
      "Cell \u001b[0;32mIn[16], line 3\u001b[0m\n\u001b[1;32m      1\u001b[0m \u001b[39mimport\u001b[39;00m \u001b[39mmatplotlib\u001b[39;00m\u001b[39m.\u001b[39;00m\u001b[39mpyplot\u001b[39;00m \u001b[39mas\u001b[39;00m \u001b[39mplt\u001b[39;00m\n\u001b[0;32m----> 3\u001b[0m r_data \u001b[39m=\u001b[39m datas[datas[\u001b[39m\"\u001b[39;49m\u001b[39mregularize\u001b[39;49m\u001b[39m\"\u001b[39;49m] \u001b[39m==\u001b[39m \u001b[39mTrue\u001b[39;00m]\n\u001b[1;32m      4\u001b[0m nr_data \u001b[39m=\u001b[39m datas[datas[\u001b[39m\"\u001b[39m\u001b[39mregularize\u001b[39m\u001b[39m\"\u001b[39m] \u001b[39m==\u001b[39m \u001b[39mFalse\u001b[39;00m]\n\u001b[1;32m      5\u001b[0m plt\u001b[39m.\u001b[39mplot(r_data[\u001b[39m\"\u001b[39m\u001b[39mtrajs\u001b[39m\u001b[39m\"\u001b[39m], r_data[\u001b[39m\"\u001b[39m\u001b[39mtest_reward\u001b[39m\u001b[39m\"\u001b[39m], label\u001b[39m=\u001b[39m\u001b[39m\"\u001b[39m\u001b[39mJacobian Loss\u001b[39m\u001b[39m\"\u001b[39m)\n",
      "\u001b[0;31mTypeError\u001b[0m: list indices must be integers or slices, not str"
     ]
    }
   ],
   "source": [
    "import matplotlib.pyplot as plt\n",
    "\n",
    "r_data = datas[datas[\"regularize\"] == True]\n",
    "nr_data = datas[datas[\"regularize\"] == False]\n",
    "plt.plot(r_data[\"trajs\"], r_data[\"test_reward\"], label=\"Jacobian Loss\")\n",
    "plt.plot(nr_data[\"trajs\"], nr_data[\"test_reward\"], label=\"No jacobian loss\")\n",
    "\n",
    "plt.legend()\n",
    "plt.xlabel(\"Num Trajectories\")\n",
    "plt.ylabel(\"Normalied Test Reward\")"
   ]
  },
  {
   "cell_type": "code",
   "execution_count": null,
   "metadata": {},
   "outputs": [],
   "source": []
  }
 ],
 "metadata": {
  "kernelspec": {
   "display_name": ".venv",
   "language": "python",
   "name": "python3"
  },
  "language_info": {
   "codemirror_mode": {
    "name": "ipython",
    "version": 3
   },
   "file_extension": ".py",
   "mimetype": "text/x-python",
   "name": "python",
   "nbconvert_exporter": "python",
   "pygments_lexer": "ipython3",
   "version": "3.11.4"
  },
  "orig_nbformat": 4
 },
 "nbformat": 4,
 "nbformat_minor": 2
}
