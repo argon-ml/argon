{
 "cells": [
  {
   "cell_type": "code",
   "execution_count": 1,
   "id": "f57edd36-9f8d-44e9-9d75-7f8eb507135e",
   "metadata": {},
   "outputs": [],
   "source": [
    "from stanza.runtime import setup\n",
    "setup()"
   ]
  },
  {
   "cell_type": "code",
   "execution_count": 2,
   "id": "e55fb8a6-6f4d-4c7c-a0b9-f331e702e717",
   "metadata": {},
   "outputs": [],
   "source": [
    "import jax.random\n",
    "\n",
    "from stanza.env import ImageRender\n",
    "from stanza.env.mujoco.pusht import PushTEnv, PositionalControlTransform\n",
    "env = PushTEnv()"
   ]
  },
  {
   "cell_type": "code",
   "execution_count": 3,
   "id": "5e2352da-edae-4ed4-8ede-ee55eafb41b6",
   "metadata": {},
   "outputs": [
    {
     "name": "stdout",
     "output_type": "stream",
     "text": [
      "\n",
      "<mujoco>\n",
      "<option timestep=\"0.005\"/>\n",
      "<worldbody>\n",
      "    # The manipulator agent body\n",
      "    <body pos=\"0.5 0.5 0\" name=\"agent\">\n",
      "        # TODO: Replace with cylinder when MJX supports\n",
      "        <geom type=\"sphere\" size=\"0.05952\" pos=\"0 0 0.05952\" mass=\"0.1\" rgba=\"0.1 0.1 0.9 1\"/>\n",
      "        <joint type=\"slide\" axis=\"1 0 0\" damping=\"0.1\" stiffness=\"0\" ref=\"0.5\"/>\n",
      "        <joint type=\"slide\" axis=\"0 1 0\" damping=\"0.1\" stiffness=\"0\" ref=\"0.5\"/>\n",
      "    </body>\n",
      "    # The block body\n",
      "    <body pos=\"-0.5 -0.5 0\" name=\"block\">\n",
      "        # The horizontal box\n",
      "        <geom type=\"box\" size=\"0.2381 0.05952380952380952 0.5\" \n",
      "            pos=\"0 -0.05952 0.5\" mass=\"0.03\" rgba=\"0.467 0.533 0.6 1\"/>\n",
      "        # The vertical box\n",
      "        <geom type=\"box\" size=\"0.05952 0.1786 0.5\"\n",
      "            pos=\"0 -0.2976190476190476 0.5\" mass=\"0.03\" rgba=\"0.467 0.533 0.6 1\"/>\n",
      "\n",
      "        <joint type=\"slide\" axis=\"1 0 0\" damping=\"5\" stiffness=\"0\" ref=\"-0.5\"/>\n",
      "        <joint type=\"slide\" axis=\"0 1 0\" damping=\"5\" stiffness=\"0\" ref=\"-0.5\"/>\n",
      "        # Hinge through the block COM\n",
      "        <joint type=\"hinge\" axis=\"0 0 1\" damping=\"0.3\" stiffness=\"0\" pos=\"0 -0.1786 0\"/>\n",
      "    </body>\n",
      "    # The boundary planes\n",
      "    <geom pos=\"-1 0 0\" size=\"2 2 0.1\"  xyaxes=\"0 1 0 0 0 1\" type=\"plane\"/>\n",
      "    <geom pos=\"1 0 0\" size=\"2 2 0.1\"   xyaxes=\"0 0 1 0 1 0\" type=\"plane\"/>\n",
      "    <geom pos=\"0 -1 0\" size=\"2 2 0.1\"  xyaxes=\"0 0 1 1 0 0\" type=\"plane\"/>\n",
      "    <geom pos=\"0 1 0\" size=\"2 2 0.1\"   xyaxes=\"1 0 0 0 0 1\" type=\"plane\"/>\n",
      "</worldbody>\n",
      "</mujoco>\n",
      "\n"
     ]
    }
   ],
   "source": [
    "from stanza.env.mujoco.pusht import XML\n",
    "print(XML)"
   ]
  },
  {
   "cell_type": "code",
   "execution_count": 4,
   "id": "98d3209e-d07d-4b92-8ec0-c88b9e4024c2",
   "metadata": {},
   "outputs": [],
   "source": [
    "s = env.reset(jax.random.key(47))"
   ]
  },
  {
   "cell_type": "code",
   "execution_count": 5,
   "id": "d79c77d0-b360-4676-9dc9-ca47ef300b99",
   "metadata": {},
   "outputs": [
    {
     "name": "stdout",
     "output_type": "stream",
     "text": [
      "PushTObs(agent_pos=Array([0.4887165, 0.5627138], dtype=float32), agent_vel=Array([0., 0.], dtype=float32), block_pos=Array([-0.2641813, -0.379523 ], dtype=float32), block_vel=Array([0., 0.], dtype=float32), block_rot=Array(0.00401996, dtype=float32), block_rot_vel=Array(0., dtype=float32))\n"
     ]
    },
    {
     "data": {
      "text/plain": [
       "Array(0., dtype=float32)"
      ]
     },
     "execution_count": 5,
     "metadata": {},
     "output_type": "execute_result"
    }
   ],
   "source": [
    "print(env.observe(s))\n",
    "env.reward(None, None, s)"
   ]
  },
  {
   "cell_type": "code",
   "execution_count": 6,
   "id": "1b2b5957-006d-4cb8-8b4e-494393529ea6",
   "metadata": {},
   "outputs": [
    {
     "data": {
      "application/vnd.jupyter.widget-view+json": {
       "model_id": "c0a643a2f54a4522995dc10d376a2cf0",
       "version_major": 2,
       "version_minor": 0
      },
      "text/plain": [
       "HBox(children=(Image(value=b'\\x89PNG\\r\\n\\x1a\\n\\x00\\x00\\x00\\rIHDR\\x00\\x00\\x01\\x00\\x00\\x00\\x01\\x00\\x08\\x06\\x00\\x…"
      ]
     },
     "execution_count": 6,
     "metadata": {},
     "output_type": "execute_result"
    }
   ],
   "source": [
    "from stanza.util.ipython import as_image\n",
    "as_image(env.render(ImageRender(256, 256), s))"
   ]
  },
  {
   "cell_type": "code",
   "execution_count": 7,
   "id": "f41b5059-ade3-4b30-830f-d1c24bbb558f",
   "metadata": {},
   "outputs": [
    {
     "name": "stdout",
     "output_type": "stream",
     "text": [
      "PushTState(q=Array([-0.13492064,  0.63095236, -0.15476194, -0.1428571 , -3.0079994 ],      dtype=float32), qd=Array([0., 0., 0., 0., 0.], dtype=float32))\n"
     ]
    },
    {
     "data": {
      "application/vnd.jupyter.widget-view+json": {
       "model_id": "52e0eab2b88e42698c741e8c4f95978d",
       "version_major": 2,
       "version_minor": 0
      },
      "text/plain": [
       "HBox(children=(Image(value=b'\\x89PNG\\r\\n\\x1a\\n\\x00\\x00\\x00\\rIHDR\\x00\\x00\\x01\\x00\\x00\\x00\\x01\\x00\\x08\\x06\\x00\\x…"
      ]
     },
     "execution_count": 7,
     "metadata": {},
     "output_type": "execute_result"
    }
   ],
   "source": [
    "from stanza.datasets.pusht import load_chen_pusht_data\n",
    "from stanza.dataclasses import replace\n",
    "import jax.numpy as jnp\n",
    "state = load_chen_pusht_data()[0][0].state\n",
    "print(state)\n",
    "as_image(env.render(ImageRender(256, 256), state))\n",
    "#as_image(env.render(ImageRender(256, 256), replace(state, q=jnp.concatenate((state.q[:2],jnp.array([0,0,-jnp.pi/4]))))))"
   ]
  },
  {
   "cell_type": "code",
   "execution_count": 8,
   "id": "4d8da6b4-6ed2-4eb2-b2ee-78a1e9966337",
   "metadata": {},
   "outputs": [
    {
     "data": {
      "application/vnd.jupyter.widget-view+json": {
       "model_id": "db9c0c96c59748889f7985658258a7e7",
       "version_major": 2,
       "version_minor": 0
      },
      "text/plain": [
       "HBox(children=(Image(value=b'\\x89PNG\\r\\n\\x1a\\n\\x00\\x00\\x00\\rIHDR\\x00\\x00\\x00`\\x00\\x00\\x00`\\x08\\x02\\x00\\x00\\x00…"
      ]
     },
     "execution_count": 8,
     "metadata": {},
     "output_type": "execute_result"
    }
   ],
   "source": [
    "from stanza.datasets.util import cache_path\n",
    "from stanza.util.ipython import as_image\n",
    "from numpy import uint8\n",
    "import zarr\n",
    "zip_path = cache_path(\"pusht\", \"pusht_data.zarr.zip\")\n",
    "with zarr.open(zip_path) as zf:\n",
    "    images = zf[\"data/img\"][0:zf[\"meta/episode_ends\"][0]].astype(uint8)\n",
    "as_image(images[0])"
   ]
  },
  {
   "cell_type": "code",
   "execution_count": null,
   "id": "535e9a8c-4162-44f6-8ce8-2f4101057ae0",
   "metadata": {},
   "outputs": [],
   "source": []
  }
 ],
 "metadata": {
  "kernelspec": {
   "display_name": "Python 3 (ipykernel)",
   "language": "python",
   "name": "python3"
  },
  "language_info": {
   "codemirror_mode": {
    "name": "ipython",
    "version": 3
   },
   "file_extension": ".py",
   "mimetype": "text/x-python",
   "name": "python",
   "nbconvert_exporter": "python",
   "pygments_lexer": "ipython3",
   "version": "3.12.4"
  },
  "widgets": {
   "application/vnd.jupyter.widget-state+json": {
    "state": {
     "15c8a9439ec64336be1963b25d6d36a9": {
      "buffers": [
       {
        "data": "iVBORw0KGgoAAAANSUhEUgAAAGAAAABgCAIAAABt+uBvAAAD/UlEQVR4nO2dT2sTQRTAZ3Y2jW1sN8E0bVNoxa/Qo56k30AKnrwIESRYvInfwJMESg8BoRcREQ+FHktB8M9Jb15Fg1bdKulmu9mEZHc8LKztZjPTSnfeCO9HDpvJJvN4mV/e7GQ3oZzzfr9PkDTy+bzZ7/f39/cLhQJ0MNrheV61WjU554VCoVKpQMejHbZtc84N6DB0x6CUQsegL5RSg3MOHYa+oGJyUDERqJgEVEwOKiYCFZOAislBxUSgYhIgFTt0g+t3W5+/D6ACOCUmiGKN5+2dt4Pp2aV7m+HR79be5pL6GE4DmGLbr9ypYoUQQg1jYspSH8ApAVPMYLl4O1+wdBYNpoqFwd+MuAetyws5wc6AgCm2t7nkHrSim7YfQIQQzrkJ1bfOeTkOThRF4ERRAh6LyUHFRKBiElAxOaiYCFRMAiomBxUTgYpJQMXkoGIiUDEJqJgcVEwEKiYBFZMDpthL9yVIv2cCTLFGu/F1+HXL2VLf9ZmAUazRbkQbTujonyPVisXZiXBCR2fXVCuWyE6Ezq6pVmy9tD5JJ0fbdXZNtWK1Ym1cjjR0DaaK1Yq11HYNXQObKEauBZ3k4NXQNaUnUD141DzZcGGh5if2iVy7MX1DWVQClCtG6fzicnxjZvqpE/q4plyxk28GJfTgRT51R31cg1zuKM9VQ39s7zrUNfjljrAnenvAXdNouYMRpuccUpcVxXqpruEcEkCxo87haON6aT3aEMwhswtJgDrFfO432o3Ztd6R6yQeirMT302MI0ZYYh+VqFDM537zsEkIMUspo3X3zftES8K1eqmeaXgCFCkWZSeVcqX67sPH0fbYNcCxQxScBhyPnXGYuZzX7aU+BJuamAwVk2ZHf7JVbIJMZPTKysi2ijGarD6MMELIcKDvpSujZF7FjueoXqqvXlv5Ze+Ln/Kp9X33zfsHj5rNZzuZxiaFUmoqqGL1Yn3jcCPK1OrVld3Xf+t6MBySkXWicqVq5nLzi8ufWl+yjk2MootZGGU3g1s/f7UfP3kRtfz49sUwmGEY5bnq/OKyghj+mQxXFONxYRhs6uL0xWlL81yMkrli/11GEmi03DGOYRDABgBz1fM4up4bhuHxI36TMbhwVFWxVLqe2z1yh8MTc6L7t9fmyiWQeFJRUcWGg0EQDNq/D+KWS8UZZrKHd9ay7vpcoL1ez3GcLH4m0Ov2nm7vXllaWL26cu4vrgDbti3Lor7vdzod/B3FUWzbnpmZ0b2KgaPLor2ewH8vpjn/wUQRHFRMBComARWTg4qJQMUkoGJyUDERqJgEVEwOKiYCFZOAislBxUSgYhJQMTkmpdTzPNu2oSPRDs/zLMui+PdZAvL5/B/0BgIj4AGdrwAAAABJRU5ErkJggg==",
        "encoding": "base64",
        "path": [
         "value"
        ]
       }
      ],
      "model_module": "@jupyter-widgets/controls",
      "model_module_version": "2.0.0",
      "model_name": "ImageModel",
      "state": {
       "layout": "IPY_MODEL_4d7f03ef01ff4b9f86232e50acced18a"
      }
     },
     "1e118efd37434415b4167a34fd449b53": {
      "model_module": "@jupyter-widgets/base",
      "model_module_version": "2.0.0",
      "model_name": "LayoutModel",
      "state": {}
     },
     "2198ba3c3d5a4a8ab0f0adc71577d341": {
      "model_module": "@jupyter-widgets/controls",
      "model_module_version": "2.0.0",
      "model_name": "HTMLModel",
      "state": {
       "layout": "IPY_MODEL_31d4fa7a89bf48ad896f0381cd6c368b",
       "style": "IPY_MODEL_35be8b7e314049c59d480479bf9e9559",
       "value": "<style>\n.cell-output-ipywidget-background {\n    background-color: transparent !important;\n}\n.jp-OutputArea-output {\n    background-color: transparent;\n}\npre {\n    color: var(--vscode-editor-foreground);\n    margin: 0;\n}\nvideo::-webkit-media-controls {\n  display: none;\n}\n</style>"
      }
     },
     "31d4fa7a89bf48ad896f0381cd6c368b": {
      "model_module": "@jupyter-widgets/base",
      "model_module_version": "2.0.0",
      "model_name": "LayoutModel",
      "state": {}
     },
     "35be8b7e314049c59d480479bf9e9559": {
      "model_module": "@jupyter-widgets/controls",
      "model_module_version": "2.0.0",
      "model_name": "HTMLStyleModel",
      "state": {
       "description_width": "",
       "font_size": null,
       "text_color": null
      }
     },
     "390ab3b4d301459da539fb39a91841b1": {
      "model_module": "@jupyter-widgets/controls",
      "model_module_version": "2.0.0",
      "model_name": "HTMLStyleModel",
      "state": {
       "description_width": "",
       "font_size": null,
       "text_color": null
      }
     },
     "4b17c38275794bca886d8cc6a80f28d1": {
      "model_module": "@jupyter-widgets/base",
      "model_module_version": "2.0.0",
      "model_name": "LayoutModel",
      "state": {}
     },
     "4d7f03ef01ff4b9f86232e50acced18a": {
      "model_module": "@jupyter-widgets/base",
      "model_module_version": "2.0.0",
      "model_name": "LayoutModel",
      "state": {}
     },
     "52e0eab2b88e42698c741e8c4f95978d": {
      "model_module": "@jupyter-widgets/controls",
      "model_module_version": "2.0.0",
      "model_name": "HBoxModel",
      "state": {
       "children": [
        "IPY_MODEL_972070f8f35b4c8b804d7ac14016f958",
        "IPY_MODEL_69e7be36b1f84618a1e0932a9b629a72"
       ],
       "layout": "IPY_MODEL_87d7141331984acebe46de5f21dbb08a"
      }
     },
     "69e7be36b1f84618a1e0932a9b629a72": {
      "model_module": "@jupyter-widgets/controls",
      "model_module_version": "2.0.0",
      "model_name": "HTMLModel",
      "state": {
       "layout": "IPY_MODEL_755f0c4a431b45cfbf828e28f54a0fdb",
       "style": "IPY_MODEL_390ab3b4d301459da539fb39a91841b1",
       "value": "<style>\n.cell-output-ipywidget-background {\n    background-color: transparent !important;\n}\n.jp-OutputArea-output {\n    background-color: transparent;\n}\npre {\n    color: var(--vscode-editor-foreground);\n    margin: 0;\n}\nvideo::-webkit-media-controls {\n  display: none;\n}\n</style>"
      }
     },
     "755f0c4a431b45cfbf828e28f54a0fdb": {
      "model_module": "@jupyter-widgets/base",
      "model_module_version": "2.0.0",
      "model_name": "LayoutModel",
      "state": {}
     },
     "7a689b1c0a3a40bda3cc7c1cba85339f": {
      "model_module": "@jupyter-widgets/controls",
      "model_module_version": "2.0.0",
      "model_name": "HTMLStyleModel",
      "state": {
       "description_width": "",
       "font_size": null,
       "text_color": null
      }
     },
     "7b996193125b4d96a978df9c29d0799a": {
      "model_module": "@jupyter-widgets/controls",
      "model_module_version": "2.0.0",
      "model_name": "HTMLModel",
      "state": {
       "layout": "IPY_MODEL_a8b41e6a730e44f4829f0c66efb48853",
       "style": "IPY_MODEL_7a689b1c0a3a40bda3cc7c1cba85339f",
       "value": "<style>\n.cell-output-ipywidget-background {\n    background-color: transparent !important;\n}\n.jp-OutputArea-output {\n    background-color: transparent;\n}\npre {\n    color: var(--vscode-editor-foreground);\n    margin: 0;\n}\nvideo::-webkit-media-controls {\n  display: none;\n}\n</style>"
      }
     },
     "83b6c646d47d4b199b44be78f57baa64": {
      "buffers": [
       {
        "data": "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",
        "encoding": "base64",
        "path": [
         "value"
        ]
       }
      ],
      "model_module": "@jupyter-widgets/controls",
      "model_module_version": "2.0.0",
      "model_name": "ImageModel",
      "state": {
       "layout": "IPY_MODEL_4b17c38275794bca886d8cc6a80f28d1"
      }
     },
     "87d7141331984acebe46de5f21dbb08a": {
      "model_module": "@jupyter-widgets/base",
      "model_module_version": "2.0.0",
      "model_name": "LayoutModel",
      "state": {}
     },
     "972070f8f35b4c8b804d7ac14016f958": {
      "buffers": [
       {
        "data": "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",
        "encoding": "base64",
        "path": [
         "value"
        ]
       }
      ],
      "model_module": "@jupyter-widgets/controls",
      "model_module_version": "2.0.0",
      "model_name": "ImageModel",
      "state": {
       "layout": "IPY_MODEL_1e118efd37434415b4167a34fd449b53"
      }
     },
     "9fc232a91f354ce7998bf4a3ece5578b": {
      "model_module": "@jupyter-widgets/base",
      "model_module_version": "2.0.0",
      "model_name": "LayoutModel",
      "state": {}
     },
     "a8b41e6a730e44f4829f0c66efb48853": {
      "model_module": "@jupyter-widgets/base",
      "model_module_version": "2.0.0",
      "model_name": "LayoutModel",
      "state": {}
     },
     "af38017a58d042adbbdfe880f16e9bf2": {
      "model_module": "@jupyter-widgets/base",
      "model_module_version": "2.0.0",
      "model_name": "LayoutModel",
      "state": {}
     },
     "c0a643a2f54a4522995dc10d376a2cf0": {
      "model_module": "@jupyter-widgets/controls",
      "model_module_version": "2.0.0",
      "model_name": "HBoxModel",
      "state": {
       "children": [
        "IPY_MODEL_83b6c646d47d4b199b44be78f57baa64",
        "IPY_MODEL_2198ba3c3d5a4a8ab0f0adc71577d341"
       ],
       "layout": "IPY_MODEL_af38017a58d042adbbdfe880f16e9bf2"
      }
     },
     "db9c0c96c59748889f7985658258a7e7": {
      "model_module": "@jupyter-widgets/controls",
      "model_module_version": "2.0.0",
      "model_name": "HBoxModel",
      "state": {
       "children": [
        "IPY_MODEL_15c8a9439ec64336be1963b25d6d36a9",
        "IPY_MODEL_7b996193125b4d96a978df9c29d0799a"
       ],
       "layout": "IPY_MODEL_9fc232a91f354ce7998bf4a3ece5578b"
      }
     }
    },
    "version_major": 2,
    "version_minor": 0
   }
  }
 },
 "nbformat": 4,
 "nbformat_minor": 5
}
