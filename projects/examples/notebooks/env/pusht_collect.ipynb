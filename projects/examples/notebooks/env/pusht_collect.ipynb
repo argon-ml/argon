{
 "cells": [
  {
   "cell_type": "code",
   "execution_count": 1,
   "metadata": {},
   "outputs": [],
   "source": [
    "from stanza.runtime import setup\n",
    "setup()"
   ]
  },
  {
   "cell_type": "code",
   "execution_count": 2,
   "metadata": {
    "scrolled": true
   },
   "outputs": [
    {
     "name": "stderr",
     "output_type": "stream",
     "text": [
      "/Users/daniel/Documents/code/stanza/.venv/lib/python3.12/site-packages/jax/_src/compiler.py:644: UserWarning: Error reading persistent compilation cache entry for 'jit_convert_element_type': AttributeError: 'PosixPath' object has no attribute 'startswith'\n",
      "  warnings.warn(\n"
     ]
    }
   ],
   "source": [
    "import jax.random\n",
    "\n",
    "from stanza.env.mujoco.pusht import PushTEnv, PositionalControlTransform\n",
    "env = PushTEnv()\n",
    "env = PositionalControlTransform().transform_env(env)\n",
    "def interactive_policy(mouse_pos):\n",
    "    return mouse_pos"
   ]
  },
  {
   "cell_type": "code",
   "execution_count": 4,
   "metadata": {},
   "outputs": [
    {
     "ename": "NotImplementedError",
     "evalue": "",
     "output_type": "error",
     "traceback": [
      "\u001b[0;31m---------------------------------------------------------------------------\u001b[0m",
      "\u001b[0;31mNotImplementedError\u001b[0m                       Traceback (most recent call last)",
      "Cell \u001b[0;32mIn[4], line 18\u001b[0m\n\u001b[1;32m     16\u001b[0m \u001b[38;5;28;01melse\u001b[39;00m:\n\u001b[1;32m     17\u001b[0m     \u001b[38;5;28;01mpass\u001b[39;00m\n\u001b[0;32m---> 18\u001b[0m collector \u001b[38;5;241m=\u001b[39m \u001b[43mDemonstrationCollector\u001b[49m\u001b[43m(\u001b[49m\n\u001b[1;32m     19\u001b[0m \u001b[43m    \u001b[49m\u001b[43menv\u001b[49m\u001b[43m,\u001b[49m\u001b[43m \u001b[49m\u001b[43minteractive_policy\u001b[49m\u001b[43m,\u001b[49m\u001b[43m \u001b[49m\u001b[43mdata\u001b[49m\u001b[43m,\u001b[49m\u001b[43m \u001b[49m\u001b[43msave_fn\u001b[49m\u001b[43m,\u001b[49m\u001b[43m \u001b[49m\u001b[38;5;241;43m256\u001b[39;49m\u001b[43m,\u001b[49m\u001b[43m \u001b[49m\u001b[38;5;241;43m256\u001b[39;49m\n\u001b[1;32m     20\u001b[0m \u001b[43m)\u001b[49m\n\u001b[1;32m     21\u001b[0m display(collector)\n",
      "File \u001b[0;32m~/Documents/code/stanza/packages/stanza/src/stanza/policy/ipython.py:50\u001b[0m, in \u001b[0;36mDemonstrationCollector.__init__\u001b[0;34m(self, env, interactive_policy, demonstrations, save, width, height, fps)\u001b[0m\n\u001b[1;32m     47\u001b[0m \u001b[38;5;28mself\u001b[39m\u001b[38;5;241m.\u001b[39minterface \u001b[38;5;241m=\u001b[39m StreamingInterface(width, height)\n\u001b[1;32m     49\u001b[0m \u001b[38;5;66;03m# precompile the reset and step functions\u001b[39;00m\n\u001b[0;32m---> 50\u001b[0m s \u001b[38;5;241m=\u001b[39m \u001b[38;5;28;43mself\u001b[39;49m\u001b[38;5;241;43m.\u001b[39;49m\u001b[43m_reset_fn\u001b[49m\u001b[43m(\u001b[49m\u001b[43mjax\u001b[49m\u001b[38;5;241;43m.\u001b[39;49m\u001b[43mrandom\u001b[49m\u001b[38;5;241;43m.\u001b[39;49m\u001b[43mPRNGKey\u001b[49m\u001b[43m(\u001b[49m\u001b[38;5;241;43m42\u001b[39;49m\u001b[43m)\u001b[49m\u001b[43m)\u001b[49m\n\u001b[1;32m     51\u001b[0m \u001b[38;5;28mself\u001b[39m\u001b[38;5;241m.\u001b[39m_sample_input \u001b[38;5;241m=\u001b[39m interactive_policy(\u001b[38;5;28mself\u001b[39m\u001b[38;5;241m.\u001b[39minterface\u001b[38;5;241m.\u001b[39mmouse_pos())\n\u001b[1;32m     52\u001b[0m \u001b[38;5;28mself\u001b[39m\u001b[38;5;241m.\u001b[39m_step_fn(s, \u001b[38;5;28mself\u001b[39m\u001b[38;5;241m.\u001b[39m_sample_input)\n",
      "    \u001b[0;31m[... skipping hidden 11 frame]\u001b[0m\n",
      "File \u001b[0;32m~/Documents/code/stanza/packages/stanza/src/stanza/env/core.py:39\u001b[0m, in \u001b[0;36mEnvironment.reset\u001b[0;34m(self, rng_key)\u001b[0m\n\u001b[1;32m     38\u001b[0m \u001b[38;5;28;01mdef\u001b[39;00m \u001b[38;5;21mreset\u001b[39m(\u001b[38;5;28mself\u001b[39m, rng_key : jax\u001b[38;5;241m.\u001b[39mArray) \u001b[38;5;241m-\u001b[39m\u001b[38;5;241m>\u001b[39m State:\n\u001b[0;32m---> 39\u001b[0m     \u001b[38;5;28;01mraise\u001b[39;00m \u001b[38;5;167;01mNotImplementedError\u001b[39;00m()\n",
      "\u001b[0;31mNotImplementedError\u001b[0m: "
     ]
    }
   ],
   "source": [
    "from stanza.policy.ipython import DemonstrationCollector\n",
    "from stanza.util.serialize import save_zarr, load_zarr\n",
    "from stanza.datasets.env.pusht import load_chi_pusht_data\n",
    "from stanza.data.sequence import SequenceData\n",
    "from stanza.data import PyTreeData\n",
    "from IPython.display import display\n",
    "from pathlib import Path\n",
    "\n",
    "path = Path(\"pusht_data.zarr.zip\")\n",
    "def save_fn(data):\n",
    "    pass\n",
    "\n",
    "if not path.exists():\n",
    "    #data = load_chi_pusht_data()\n",
    "    data = SequenceData(PyTreeData(), PyTreeData())\n",
    "else:\n",
    "    pass\n",
    "collector = DemonstrationCollector(\n",
    "    env, interactive_policy, data, save_fn, 256, 256\n",
    ")\n",
    "display(collector)"
   ]
  },
  {
   "cell_type": "code",
   "execution_count": null,
   "metadata": {},
   "outputs": [],
   "source": []
  }
 ],
 "metadata": {
  "kernelspec": {
   "display_name": "Python 3 (ipykernel)",
   "language": "python",
   "name": "python3"
  },
  "language_info": {
   "codemirror_mode": {
    "name": "ipython",
    "version": 3
   },
   "file_extension": ".py",
   "mimetype": "text/x-python",
   "name": "python",
   "nbconvert_exporter": "python",
   "pygments_lexer": "ipython3",
   "version": "3.12.4"
  },
  "widgets": {
   "application/vnd.jupyter.widget-state+json": {
    "state": {
     "4b4654bad02e45ffb6edefd3c5ce3f71": {
      "model_module": "@jupyter-widgets/base",
      "model_module_version": "2.0.0",
      "model_name": "LayoutModel",
      "state": {}
     },
     "5a1171141b394d6a92c9500489916de7": {
      "buffers": [
       {
        "data": "iVBORw0KGgoAAAANSUhEUgAAAQAAAAEACAIAAADTED8xAAACvklEQVR4nO3TMQEAIAzAMMC/tIlCxo4mCvr0zsyBqrcdAJsMQJoBSDMAaQYgzQCkGYA0A5BmANIMQJoBSDMAaQYgzQCkGYA0A5BmANIMQJoBSDMAaQYgzQCkGYA0A5BmANIMQJoBSDMAaQYgzQCkGYA0A5BmANIMQJoBSDMAaQYgzQCkGYA0A5BmANIMQJoBSDMAaQYgzQCkGYA0A5BmANIMQJoBSDMAaQYgzQCkGYA0A5BmANIMQJoBSDMAaQYgzQCkGYA0A5BmANIMQJoBSDMAaQYgzQCkGYA0A5BmANIMQJoBSDMAaQYgzQCkGYA0A5BmANIMQJoBSDMAaQYgzQCkGYA0A5BmANIMQJoBSDMAaQYgzQCkGYA0A5BmANIMQJoBSDMAaQYgzQCkGYA0A5BmANIMQJoBSDMAaQYgzQCkGYA0A5BmANIMQJoBSDMAaQYgzQCkGYA0A5BmANIMQJoBSDMAaQYgzQCkGYA0A5BmANIMQJoBSDMAaQYgzQCkGYA0A5BmANIMQJoBSDMAaQYgzQCkGYA0A5BmANIMQJoBSDMAaQYgzQCkGYA0A5BmANIMQJoBSDMAaQYgzQCkGYA0A5BmANIMQJoBSDMAaQYgzQCkGYA0A5BmANIMQJoBSDMAaQYgzQCkGYA0A5BmANIMQJoBSDMAaQYgzQCkGYA0A5BmANIMQJoBSDMAaQYgzQCkGYA0A5BmANIMQJoBSDMAaQYgzQCkGYA0A5BmANIMQJoBSDMAaQYgzQCkGYA0A5BmANIMQJoBSDMAaQYgzQCkGYA0A5BmANIMQJoBSDMAaQYgzQCkGYA0A5BmANIMQJoBSDMAaQYgzQCkGYA0A5BmANIMQJoBSDMAaQYgzQCkGYA0A5BmANIMQJoBSDMAaQYgzQCkGYA0A5BmANIMQJoBSDMAaQYgzQCkGYC0D/kmBGQcMwOJAAAAAElFTkSuQmCC",
        "encoding": "base64",
        "path": [
         "value"
        ]
       }
      ],
      "model_module": "@jupyter-widgets/controls",
      "model_module_version": "2.0.0",
      "model_name": "ImageModel",
      "state": {
       "layout": "IPY_MODEL_e2b956d6665c442fa15686fc555b1143"
      }
     },
     "66a6db5915634fd896eab7f29dea78b5": {
      "model_module": "ipyevents",
      "model_module_version": "2.0.2",
      "model_name": "EventModel",
      "state": {
       "_supported_key_events": [
        "keydown",
        "keyup"
       ],
       "_supported_mouse_events": [
        "click",
        "auxclick",
        "dblclick",
        "mouseenter",
        "mouseleave",
        "mousedown",
        "mouseup",
        "mousemove",
        "wheel",
        "contextmenu",
        "dragstart",
        "drag",
        "dragend",
        "dragenter",
        "dragover",
        "dragleave",
        "drop"
       ],
       "_supported_touch_events": [
        "touchstart",
        "touchend",
        "touchmove",
        "touchcancel"
       ],
       "_view_module": "@jupyter-widgets/controls",
       "source": "IPY_MODEL_84a690b8d37a4da2a384f2fed9a22d83",
       "throttle_or_debounce": "",
       "watched_events": [
        "click",
        "keydown",
        "keyup",
        "mousemove"
       ],
       "xy_coordinate_system": ""
      }
     },
     "84a690b8d37a4da2a384f2fed9a22d83": {
      "model_module": "jupyter-webrtc",
      "model_module_version": "~0.6.0",
      "model_name": "ImageStreamModel",
      "state": {
       "_view_count": 0,
       "image": "IPY_MODEL_5a1171141b394d6a92c9500489916de7",
       "layout": "IPY_MODEL_4b4654bad02e45ffb6edefd3c5ce3f71"
      }
     },
     "e2b956d6665c442fa15686fc555b1143": {
      "model_module": "@jupyter-widgets/base",
      "model_module_version": "2.0.0",
      "model_name": "LayoutModel",
      "state": {}
     }
    },
    "version_major": 2,
    "version_minor": 0
   }
  }
 },
 "nbformat": 4,
 "nbformat_minor": 4
}
