{
 "cells": [
  {
   "cell_type": "code",
   "execution_count": 1,
   "metadata": {},
   "outputs": [],
   "source": [
    "from stanza.runtime import setup\n",
    "setup()"
   ]
  },
  {
   "cell_type": "code",
   "execution_count": 2,
   "metadata": {
    "scrolled": true
   },
   "outputs": [],
   "source": [
    "import jax.random\n",
    "import stanza.env\n",
    "\n",
    "env = stanza.env.create(\"mujoco/pusht/positional\")\n",
    "def interactive_policy(mouse_pos):\n",
    "    return mouse_pos"
   ]
  },
  {
   "cell_type": "code",
   "execution_count": 3,
   "metadata": {},
   "outputs": [
    {
     "data": {
      "application/vnd.jupyter.widget-view+json": {
       "model_id": "a14858b68d8a413b963645f6445a2684",
       "version_major": 2,
       "version_minor": 0
      },
      "text/plain": [
       "HBox(children=(IntSlider(value=0, max=0), IntSlider(value=0)))"
      ]
     },
     "metadata": {},
     "output_type": "display_data"
    },
    {
     "data": {
      "application/vnd.jupyter.widget-view+json": {
       "model_id": "3dbfa6037143407b98df09dd801a9953",
       "version_major": 2,
       "version_minor": 0
      },
      "text/plain": [
       "HBox(children=(ImageStream(image=Image(value=b'\\x89PNG\\r\\n\\x1a\\n\\x00\\x00\\x00\\rIHDR\\x00\\x00\\x01\\x00\\x00\\x00\\x01…"
      ]
     },
     "metadata": {},
     "output_type": "display_data"
    },
    {
     "data": {
      "application/vnd.jupyter.widget-view+json": {
       "model_id": "c23bf359184a4a7cbe535d0bfb496e78",
       "version_major": 2,
       "version_minor": 0
      },
      "text/plain": [
       "HBox(children=(Button(description='Delete', style=ButtonStyle()), Button(description='Reset (r)', style=Button…"
      ]
     },
     "metadata": {},
     "output_type": "display_data"
    },
    {
     "data": {
      "application/vnd.jupyter.widget-view+json": {
       "model_id": "e57c875ca01040349d5aa35cdcb23007",
       "version_major": 2,
       "version_minor": 0
      },
      "text/plain": [
       "Label(value='')"
      ]
     },
     "metadata": {},
     "output_type": "display_data"
    }
   ],
   "source": [
    "from stanza.policy.ipython import DemonstrationCollector\n",
    "from stanza.util.serialize import save_zarr, load_zarr\n",
    "from stanza.datasets.env.pusht import load_chi_pusht_data\n",
    "from stanza.data.sequence import SequenceData\n",
    "from stanza.data import PyTreeData\n",
    "from IPython.display import display\n",
    "from pathlib import Path\n",
    "\n",
    "path = Path(\"pusht_data.zarr.zip\")\n",
    "def save_fn(data):\n",
    "    pass\n",
    "\n",
    "if not path.exists():\n",
    "    #data = load_chi_pusht_data()\n",
    "    data = SequenceData(PyTreeData(), PyTreeData())\n",
    "else:\n",
    "    pass\n",
    "collector = DemonstrationCollector(\n",
    "    env, interactive_policy, data, save_fn, 256, 256\n",
    ")\n",
    "display(collector)"
   ]
  },
  {
   "cell_type": "code",
   "execution_count": null,
   "metadata": {},
   "outputs": [],
   "source": []
  }
 ],
 "metadata": {
  "kernelspec": {
   "display_name": "Python 3 (ipykernel)",
   "language": "python",
   "name": "python3"
  },
  "language_info": {
   "codemirror_mode": {
    "name": "ipython",
    "version": 3
   },
   "file_extension": ".py",
   "mimetype": "text/x-python",
   "name": "python",
   "nbconvert_exporter": "python",
   "pygments_lexer": "ipython3",
   "version": "3.12.3"
  },
  "widgets": {
   "application/vnd.jupyter.widget-state+json": {
    "state": {
     "04d50dede68e4c1b9e2d99783fd453de": {
      "model_module": "@jupyter-widgets/base",
      "model_module_version": "2.0.0",
      "model_name": "LayoutModel",
      "state": {}
     },
     "131abe127c6f4b089e8a1c26e34fc6ec": {
      "model_module": "@jupyter-widgets/controls",
      "model_module_version": "2.0.0",
      "model_name": "ButtonModel",
      "state": {
       "description": "Reset (r)",
       "layout": "IPY_MODEL_79dc589a7e0346368d075d1c161790d1",
       "style": "IPY_MODEL_9cd10cd041d04e9e946e3741115be94e",
       "tooltip": null
      }
     },
     "1ade9036322444cfbf8d9ebcbae44c49": {
      "model_module": "@jupyter-widgets/controls",
      "model_module_version": "2.0.0",
      "model_name": "IntSliderModel",
      "state": {
       "behavior": "drag-tap",
       "layout": "IPY_MODEL_3a8ce99b42204043ba81f277c12e68cf",
       "max": 0,
       "style": "IPY_MODEL_9bff1ca90d8e44c8b76e3d1c6f54f41a"
      }
     },
     "1b205949646644fb90cdef377581017e": {
      "model_module": "@jupyter-widgets/controls",
      "model_module_version": "2.0.0",
      "model_name": "LabelModel",
      "state": {
       "layout": "IPY_MODEL_04d50dede68e4c1b9e2d99783fd453de",
       "style": "IPY_MODEL_30f06836ae534e25af62e6598ba6aa8d"
      }
     },
     "2ab5e332411a4ea2b4084d7143537d3c": {
      "model_module": "jupyter-webrtc",
      "model_module_version": "~0.6.0",
      "model_name": "ImageStreamModel",
      "state": {
       "_view_count": 1,
       "image": "IPY_MODEL_f285e6b97a334e7d95e17f0a332879ef",
       "layout": "IPY_MODEL_b3916e687f9346d0b09d134cc84c9728"
      }
     },
     "30f06836ae534e25af62e6598ba6aa8d": {
      "model_module": "@jupyter-widgets/controls",
      "model_module_version": "2.0.0",
      "model_name": "LabelStyleModel",
      "state": {
       "description_width": "",
       "font_family": null,
       "font_size": null,
       "font_style": null,
       "font_variant": null,
       "font_weight": null,
       "text_color": null,
       "text_decoration": null
      }
     },
     "3132c08d077c416398304842108acdb9": {
      "model_module": "@jupyter-widgets/base",
      "model_module_version": "2.0.0",
      "model_name": "LayoutModel",
      "state": {}
     },
     "345b148e70e44a6487b1fde8f95b4319": {
      "model_module": "@jupyter-widgets/base",
      "model_module_version": "2.0.0",
      "model_name": "LayoutModel",
      "state": {}
     },
     "3a8ce99b42204043ba81f277c12e68cf": {
      "model_module": "@jupyter-widgets/base",
      "model_module_version": "2.0.0",
      "model_name": "LayoutModel",
      "state": {}
     },
     "4998376a284441adaeb4c52ce75afa7c": {
      "model_module": "@jupyter-widgets/controls",
      "model_module_version": "2.0.0",
      "model_name": "ButtonStyleModel",
      "state": {
       "font_family": null,
       "font_size": null,
       "font_style": null,
       "font_variant": null,
       "font_weight": null,
       "text_color": null,
       "text_decoration": null
      }
     },
     "4dfcca5b860c471aa28da02aa563b6ed": {
      "model_module": "@jupyter-widgets/controls",
      "model_module_version": "2.0.0",
      "model_name": "ButtonModel",
      "state": {
       "description": "Collect (c)",
       "layout": "IPY_MODEL_f4ab9ac0fd934fcb99b4f2df51407cbb",
       "style": "IPY_MODEL_4998376a284441adaeb4c52ce75afa7c",
       "tooltip": null
      }
     },
     "5a272c12ae724443b5e7c9ecfa384267": {
      "model_module": "@jupyter-widgets/controls",
      "model_module_version": "2.0.0",
      "model_name": "ButtonStyleModel",
      "state": {
       "font_family": null,
       "font_size": null,
       "font_style": null,
       "font_variant": null,
       "font_weight": null,
       "text_color": null,
       "text_decoration": null
      }
     },
     "5ecf7fd251ac4dcfb1c7a8e39de1d841": {
      "model_module": "@jupyter-widgets/controls",
      "model_module_version": "2.0.0",
      "model_name": "HBoxModel",
      "state": {
       "children": [
        "IPY_MODEL_1ade9036322444cfbf8d9ebcbae44c49",
        "IPY_MODEL_6723d433543c4ef4913f4f6dd812418d"
       ],
       "layout": "IPY_MODEL_8fdcd3573e9a4d8aa390df91125309a7"
      }
     },
     "60dc510d72104120a62ea28d94b2bcc8": {
      "model_module": "@jupyter-widgets/base",
      "model_module_version": "2.0.0",
      "model_name": "LayoutModel",
      "state": {}
     },
     "6723d433543c4ef4913f4f6dd812418d": {
      "model_module": "@jupyter-widgets/controls",
      "model_module_version": "2.0.0",
      "model_name": "IntSliderModel",
      "state": {
       "behavior": "drag-tap",
       "layout": "IPY_MODEL_345b148e70e44a6487b1fde8f95b4319",
       "max": 120,
       "style": "IPY_MODEL_a3f4d218c4974a0c8aaed5af731be397",
       "value": 120
      }
     },
     "6a22c03c2f1942bfb2c7d76f289dbc0b": {
      "model_module": "@jupyter-widgets/controls",
      "model_module_version": "2.0.0",
      "model_name": "ButtonStyleModel",
      "state": {
       "font_family": null,
       "font_size": null,
       "font_style": null,
       "font_variant": null,
       "font_weight": null,
       "text_color": null,
       "text_decoration": null
      }
     },
     "78275a33b3eb4f31a0dc86cac7d4fcaa": {
      "model_module": "@jupyter-widgets/controls",
      "model_module_version": "2.0.0",
      "model_name": "ButtonModel",
      "state": {
       "description": "Delete",
       "layout": "IPY_MODEL_b0a0f2b7b14f4727b3bb5f691b77e55b",
       "style": "IPY_MODEL_5a272c12ae724443b5e7c9ecfa384267",
       "tooltip": null
      }
     },
     "79dc589a7e0346368d075d1c161790d1": {
      "model_module": "@jupyter-widgets/base",
      "model_module_version": "2.0.0",
      "model_name": "LayoutModel",
      "state": {}
     },
     "831377134d5247e79e30064815aaa3ac": {
      "model_module": "@jupyter-widgets/controls",
      "model_module_version": "2.0.0",
      "model_name": "HTMLStyleModel",
      "state": {
       "description_width": "",
       "font_size": null,
       "text_color": null
      }
     },
     "8fdcd3573e9a4d8aa390df91125309a7": {
      "model_module": "@jupyter-widgets/base",
      "model_module_version": "2.0.0",
      "model_name": "LayoutModel",
      "state": {}
     },
     "9b8b11af799841f6b8d78cbb7488acfa": {
      "model_module": "@jupyter-widgets/controls",
      "model_module_version": "2.0.0",
      "model_name": "ButtonModel",
      "state": {
       "description": "Trim",
       "layout": "IPY_MODEL_a312578010c84eff9ad92857c37d6d5d",
       "style": "IPY_MODEL_c6c3d9765733441dbcccb7a8ca6f27b3",
       "tooltip": null
      }
     },
     "9bff1ca90d8e44c8b76e3d1c6f54f41a": {
      "model_module": "@jupyter-widgets/controls",
      "model_module_version": "2.0.0",
      "model_name": "SliderStyleModel",
      "state": {
       "description_width": ""
      }
     },
     "9cd10cd041d04e9e946e3741115be94e": {
      "model_module": "@jupyter-widgets/controls",
      "model_module_version": "2.0.0",
      "model_name": "ButtonStyleModel",
      "state": {
       "font_family": null,
       "font_size": null,
       "font_style": null,
       "font_variant": null,
       "font_weight": null,
       "text_color": null,
       "text_decoration": null
      }
     },
     "a312578010c84eff9ad92857c37d6d5d": {
      "model_module": "@jupyter-widgets/base",
      "model_module_version": "2.0.0",
      "model_name": "LayoutModel",
      "state": {}
     },
     "a323d3251eb34952b654c9c839ebaa25": {
      "model_module": "@jupyter-widgets/base",
      "model_module_version": "2.0.0",
      "model_name": "LayoutModel",
      "state": {}
     },
     "a3f4d218c4974a0c8aaed5af731be397": {
      "model_module": "@jupyter-widgets/controls",
      "model_module_version": "2.0.0",
      "model_name": "SliderStyleModel",
      "state": {
       "description_width": ""
      }
     },
     "b0a0f2b7b14f4727b3bb5f691b77e55b": {
      "model_module": "@jupyter-widgets/base",
      "model_module_version": "2.0.0",
      "model_name": "LayoutModel",
      "state": {}
     },
     "b3916e687f9346d0b09d134cc84c9728": {
      "model_module": "@jupyter-widgets/base",
      "model_module_version": "2.0.0",
      "model_name": "LayoutModel",
      "state": {}
     },
     "bae8fa3a6226439487d356fa2c57ee95": {
      "model_module": "@jupyter-widgets/controls",
      "model_module_version": "2.0.0",
      "model_name": "HTMLModel",
      "state": {
       "layout": "IPY_MODEL_60dc510d72104120a62ea28d94b2bcc8",
       "style": "IPY_MODEL_831377134d5247e79e30064815aaa3ac",
       "value": "<style>\n.cell-output-ipywidget-background {\n    background-color: transparent !important;\n}\n.jp-OutputArea-output {\n    background-color: transparent;\n}\npre {\n    color: var(--vscode-editor-foreground);\n    margin: 0;\n}\nvideo::-webkit-media-controls {\n  display: none;\n}\n</style>"
      }
     },
     "bf9e143eedc7440aa00178deeae37195": {
      "model_module": "@jupyter-widgets/controls",
      "model_module_version": "2.0.0",
      "model_name": "ButtonModel",
      "state": {
       "description": "Save",
       "layout": "IPY_MODEL_ead59e3178e942ff89752ac0e3ef0d50",
       "style": "IPY_MODEL_6a22c03c2f1942bfb2c7d76f289dbc0b",
       "tooltip": null
      }
     },
     "c6c3d9765733441dbcccb7a8ca6f27b3": {
      "model_module": "@jupyter-widgets/controls",
      "model_module_version": "2.0.0",
      "model_name": "ButtonStyleModel",
      "state": {
       "font_family": null,
       "font_size": null,
       "font_style": null,
       "font_variant": null,
       "font_weight": null,
       "text_color": null,
       "text_decoration": null
      }
     },
     "dd6d1ca54e704384b446ca9c866d1edb": {
      "model_module": "ipyevents",
      "model_module_version": "2.0.2",
      "model_name": "EventModel",
      "state": {
       "_supported_key_events": [
        "keydown",
        "keyup"
       ],
       "_supported_mouse_events": [
        "click",
        "auxclick",
        "dblclick",
        "mouseenter",
        "mouseleave",
        "mousedown",
        "mouseup",
        "mousemove",
        "wheel",
        "contextmenu",
        "dragstart",
        "drag",
        "dragend",
        "dragenter",
        "dragover",
        "dragleave",
        "drop"
       ],
       "_supported_touch_events": [
        "touchstart",
        "touchend",
        "touchmove",
        "touchcancel"
       ],
       "_view_module": "@jupyter-widgets/controls",
       "source": "IPY_MODEL_2ab5e332411a4ea2b4084d7143537d3c",
       "throttle_or_debounce": "",
       "watched_events": [
        "click",
        "keydown",
        "keyup",
        "mousemove"
       ],
       "xy_coordinate_system": ""
      }
     },
     "dfd27cf92f01419b9e7fdbe0143ce20d": {
      "model_module": "@jupyter-widgets/base",
      "model_module_version": "2.0.0",
      "model_name": "LayoutModel",
      "state": {}
     },
     "ead59e3178e942ff89752ac0e3ef0d50": {
      "model_module": "@jupyter-widgets/base",
      "model_module_version": "2.0.0",
      "model_name": "LayoutModel",
      "state": {}
     },
     "eb1bf99b9da64d1b8d2d92839290d626": {
      "model_module": "@jupyter-widgets/controls",
      "model_module_version": "2.0.0",
      "model_name": "HBoxModel",
      "state": {
       "children": [
        "IPY_MODEL_2ab5e332411a4ea2b4084d7143537d3c",
        "IPY_MODEL_bae8fa3a6226439487d356fa2c57ee95"
       ],
       "layout": "IPY_MODEL_3132c08d077c416398304842108acdb9"
      }
     },
     "f0eed6010a41430b88bf7e09628aa003": {
      "model_module": "@jupyter-widgets/controls",
      "model_module_version": "2.0.0",
      "model_name": "HBoxModel",
      "state": {
       "children": [
        "IPY_MODEL_78275a33b3eb4f31a0dc86cac7d4fcaa",
        "IPY_MODEL_131abe127c6f4b089e8a1c26e34fc6ec",
        "IPY_MODEL_4dfcca5b860c471aa28da02aa563b6ed",
        "IPY_MODEL_9b8b11af799841f6b8d78cbb7488acfa",
        "IPY_MODEL_bf9e143eedc7440aa00178deeae37195"
       ],
       "layout": "IPY_MODEL_dfd27cf92f01419b9e7fdbe0143ce20d"
      }
     },
     "f285e6b97a334e7d95e17f0a332879ef": {
      "buffers": [
       {
        "data": "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",
        "encoding": "base64",
        "path": [
         "value"
        ]
       }
      ],
      "model_module": "@jupyter-widgets/controls",
      "model_module_version": "2.0.0",
      "model_name": "ImageModel",
      "state": {
       "layout": "IPY_MODEL_a323d3251eb34952b654c9c839ebaa25"
      }
     },
     "f4ab9ac0fd934fcb99b4f2df51407cbb": {
      "model_module": "@jupyter-widgets/base",
      "model_module_version": "2.0.0",
      "model_name": "LayoutModel",
      "state": {}
     }
    },
    "version_major": 2,
    "version_minor": 0
   }
  }
 },
 "nbformat": 4,
 "nbformat_minor": 4
}
