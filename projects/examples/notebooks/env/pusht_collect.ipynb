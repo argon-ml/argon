{
 "cells": [
  {
   "cell_type": "code",
   "execution_count": 1,
   "metadata": {},
   "outputs": [],
   "source": [
    "from stanza.runtime import setup\n",
    "setup()"
   ]
  },
  {
   "cell_type": "code",
   "execution_count": 2,
   "metadata": {
    "scrolled": true
   },
   "outputs": [],
   "source": [
    "import jax.random\n",
    "\n",
    "from stanza.env.mujoco.pusht import PushTEnv, PositionalControlTransform\n",
    "env = PushTEnv()\n",
    "env = PositionalControlTransform().transform_env(env)\n",
    "def interactive_policy(mouse_pos):\n",
    "    return mouse_pos"
   ]
  },
  {
   "cell_type": "code",
   "execution_count": 3,
   "metadata": {},
   "outputs": [
    {
     "data": {
      "application/vnd.jupyter.widget-view+json": {
       "model_id": "a14858b68d8a413b963645f6445a2684",
       "version_major": 2,
       "version_minor": 0
      },
      "text/plain": [
       "HBox(children=(IntSlider(value=0, max=0), IntSlider(value=0)))"
      ]
     },
     "metadata": {},
     "output_type": "display_data"
    },
    {
     "data": {
      "application/vnd.jupyter.widget-view+json": {
       "model_id": "3dbfa6037143407b98df09dd801a9953",
       "version_major": 2,
       "version_minor": 0
      },
      "text/plain": [
       "HBox(children=(ImageStream(image=Image(value=b'\\x89PNG\\r\\n\\x1a\\n\\x00\\x00\\x00\\rIHDR\\x00\\x00\\x01\\x00\\x00\\x00\\x01…"
      ]
     },
     "metadata": {},
     "output_type": "display_data"
    },
    {
     "data": {
      "application/vnd.jupyter.widget-view+json": {
       "model_id": "c23bf359184a4a7cbe535d0bfb496e78",
       "version_major": 2,
       "version_minor": 0
      },
      "text/plain": [
       "HBox(children=(Button(description='Delete', style=ButtonStyle()), Button(description='Reset (r)', style=Button…"
      ]
     },
     "metadata": {},
     "output_type": "display_data"
    },
    {
     "data": {
      "application/vnd.jupyter.widget-view+json": {
       "model_id": "e57c875ca01040349d5aa35cdcb23007",
       "version_major": 2,
       "version_minor": 0
      },
      "text/plain": [
       "Label(value='')"
      ]
     },
     "metadata": {},
     "output_type": "display_data"
    }
   ],
   "source": [
    "from stanza.policy.ipython import DemonstrationCollector\n",
    "from stanza.util.serialize import save_zarr, load_zarr\n",
    "from stanza.datasets.env.pusht import load_chi_pusht_data\n",
    "from stanza.data.sequence import SequenceData\n",
    "from stanza.data import PyTreeData\n",
    "from IPython.display import display\n",
    "from pathlib import Path\n",
    "\n",
    "path = Path(\"pusht_data.zarr.zip\")\n",
    "def save_fn(data):\n",
    "    pass\n",
    "\n",
    "if not path.exists():\n",
    "    #data = load_chi_pusht_data()\n",
    "    data = SequenceData(PyTreeData(), PyTreeData())\n",
    "else:\n",
    "    pass\n",
    "collector = DemonstrationCollector(\n",
    "    env, interactive_policy, data, save_fn, 256, 256\n",
    ")\n",
    "display(collector)"
   ]
  },
  {
   "cell_type": "code",
   "execution_count": null,
   "metadata": {},
   "outputs": [],
   "source": []
  }
 ],
 "metadata": {
  "kernelspec": {
   "display_name": "Python 3 (ipykernel)",
   "language": "python",
   "name": "python3"
  },
  "language_info": {
   "codemirror_mode": {
    "name": "ipython",
    "version": 3
   },
   "file_extension": ".py",
   "mimetype": "text/x-python",
   "name": "python",
   "nbconvert_exporter": "python",
   "pygments_lexer": "ipython3",
   "version": "3.12.3"
  },
  "widgets": {
   "application/vnd.jupyter.widget-state+json": {
    "state": {
     "0382257693d1486db48bc9ef9ce250e0": {
      "model_module": "@jupyter-widgets/controls",
      "model_module_version": "2.0.0",
      "model_name": "LabelStyleModel",
      "state": {
       "description_width": "",
       "font_family": null,
       "font_size": null,
       "font_style": null,
       "font_variant": null,
       "font_weight": null,
       "text_color": null,
       "text_decoration": null
      }
     },
     "038f36f7367748f091778efcdaa810df": {
      "model_module": "@jupyter-widgets/controls",
      "model_module_version": "2.0.0",
      "model_name": "ButtonStyleModel",
      "state": {
       "font_family": null,
       "font_size": null,
       "font_style": null,
       "font_variant": null,
       "font_weight": null,
       "text_color": null,
       "text_decoration": null
      }
     },
     "0e20eb8b6df548cd857fb8a14621e231": {
      "model_module": "@jupyter-widgets/controls",
      "model_module_version": "2.0.0",
      "model_name": "HBoxModel",
      "state": {
       "children": [
        "IPY_MODEL_142dbb7d91bd4c6e9df9109a40b4c33e",
        "IPY_MODEL_47b18274c5364890831a2f4f2751b9ef"
       ],
       "layout": "IPY_MODEL_5c642046947846669089ca64b8a84371"
      }
     },
     "142dbb7d91bd4c6e9df9109a40b4c33e": {
      "model_module": "@jupyter-widgets/controls",
      "model_module_version": "2.0.0",
      "model_name": "IntSliderModel",
      "state": {
       "behavior": "drag-tap",
       "layout": "IPY_MODEL_a93286feed2540b08a03b397e9614401",
       "max": 0,
       "style": "IPY_MODEL_483f477d5796450b89860ed463c49ad0"
      }
     },
     "21a8799a8cba4fa08473737fc9a982e1": {
      "model_module": "@jupyter-widgets/controls",
      "model_module_version": "2.0.0",
      "model_name": "ButtonModel",
      "state": {
       "description": "Save",
       "layout": "IPY_MODEL_ebc2420c8a774c63a289ec92994c06e0",
       "style": "IPY_MODEL_4d78be12bbda41f080bddf51860ec437",
       "tooltip": null
      }
     },
     "244dd132f3ed4a9784f2f2a0f1b7b986": {
      "model_module": "@jupyter-widgets/base",
      "model_module_version": "2.0.0",
      "model_name": "LayoutModel",
      "state": {}
     },
     "43a2239bd47f4cc0917dd73a9a28ad38": {
      "model_module": "@jupyter-widgets/controls",
      "model_module_version": "2.0.0",
      "model_name": "HBoxModel",
      "state": {
       "children": [
        "IPY_MODEL_9dcc01ed3b0446bcaaa8a8d269dac592",
        "IPY_MODEL_a286baaee2844662bad437ee0f1390d1",
        "IPY_MODEL_fda0e2220798424c9fea032f40d48236",
        "IPY_MODEL_487bf4b53e914294b9e43794d301838e",
        "IPY_MODEL_21a8799a8cba4fa08473737fc9a982e1"
       ],
       "layout": "IPY_MODEL_e0238a3ded464de3a0fe1065e9f7e41b"
      }
     },
     "44a24f0164f04c28bbda2afeea4cf1d3": {
      "model_module": "@jupyter-widgets/base",
      "model_module_version": "2.0.0",
      "model_name": "LayoutModel",
      "state": {}
     },
     "47b18274c5364890831a2f4f2751b9ef": {
      "model_module": "@jupyter-widgets/controls",
      "model_module_version": "2.0.0",
      "model_name": "IntSliderModel",
      "state": {
       "behavior": "drag-tap",
       "layout": "IPY_MODEL_244dd132f3ed4a9784f2f2a0f1b7b986",
       "max": 483,
       "style": "IPY_MODEL_c44018f0dc0443228e03db5cd684483e",
       "value": 482
      }
     },
     "483f477d5796450b89860ed463c49ad0": {
      "model_module": "@jupyter-widgets/controls",
      "model_module_version": "2.0.0",
      "model_name": "SliderStyleModel",
      "state": {
       "description_width": ""
      }
     },
     "487bf4b53e914294b9e43794d301838e": {
      "model_module": "@jupyter-widgets/controls",
      "model_module_version": "2.0.0",
      "model_name": "ButtonModel",
      "state": {
       "description": "Trim",
       "layout": "IPY_MODEL_9ce618d7b6af45abb8be7d346510db2f",
       "style": "IPY_MODEL_038f36f7367748f091778efcdaa810df",
       "tooltip": null
      }
     },
     "4d78be12bbda41f080bddf51860ec437": {
      "model_module": "@jupyter-widgets/controls",
      "model_module_version": "2.0.0",
      "model_name": "ButtonStyleModel",
      "state": {
       "font_family": null,
       "font_size": null,
       "font_style": null,
       "font_variant": null,
       "font_weight": null,
       "text_color": null,
       "text_decoration": null
      }
     },
     "4fdbea4c906a41b4bf7bc16a30b49c3c": {
      "model_module": "@jupyter-widgets/controls",
      "model_module_version": "2.0.0",
      "model_name": "LabelModel",
      "state": {
       "layout": "IPY_MODEL_76e5fce75a294de68e7cda776c3c86b8",
       "style": "IPY_MODEL_0382257693d1486db48bc9ef9ce250e0"
      }
     },
     "5c642046947846669089ca64b8a84371": {
      "model_module": "@jupyter-widgets/base",
      "model_module_version": "2.0.0",
      "model_name": "LayoutModel",
      "state": {}
     },
     "5f78795bbfdb4e958e4710b72e169288": {
      "model_module": "@jupyter-widgets/base",
      "model_module_version": "2.0.0",
      "model_name": "LayoutModel",
      "state": {}
     },
     "67ca9e1d91df4fb4b9676d458d0d2b8f": {
      "model_module": "@jupyter-widgets/controls",
      "model_module_version": "2.0.0",
      "model_name": "ButtonStyleModel",
      "state": {
       "font_family": null,
       "font_size": null,
       "font_style": null,
       "font_variant": null,
       "font_weight": null,
       "text_color": null,
       "text_decoration": null
      }
     },
     "76e5fce75a294de68e7cda776c3c86b8": {
      "model_module": "@jupyter-widgets/base",
      "model_module_version": "2.0.0",
      "model_name": "LayoutModel",
      "state": {}
     },
     "7be4ad02d530419d987a86f6f8b2f8b5": {
      "model_module": "@jupyter-widgets/base",
      "model_module_version": "2.0.0",
      "model_name": "LayoutModel",
      "state": {}
     },
     "7ee811f5fa9f4fb1b5ba5c552276643b": {
      "model_module": "@jupyter-widgets/controls",
      "model_module_version": "2.0.0",
      "model_name": "HBoxModel",
      "state": {
       "children": [
        "IPY_MODEL_b64fe2f1596f4aad87cc336aa5a51b9d",
        "IPY_MODEL_fade38b36dc04ab194408c267b92c476"
       ],
       "layout": "IPY_MODEL_ecb2b676a9ac45fb8bf8372faa21eba7"
      }
     },
     "937779901bf6482089253bc80d8d03d0": {
      "model_module": "@jupyter-widgets/controls",
      "model_module_version": "2.0.0",
      "model_name": "ButtonStyleModel",
      "state": {
       "font_family": null,
       "font_size": null,
       "font_style": null,
       "font_variant": null,
       "font_weight": null,
       "text_color": null,
       "text_decoration": null
      }
     },
     "9ce618d7b6af45abb8be7d346510db2f": {
      "model_module": "@jupyter-widgets/base",
      "model_module_version": "2.0.0",
      "model_name": "LayoutModel",
      "state": {}
     },
     "9dcc01ed3b0446bcaaa8a8d269dac592": {
      "model_module": "@jupyter-widgets/controls",
      "model_module_version": "2.0.0",
      "model_name": "ButtonModel",
      "state": {
       "description": "Delete",
       "layout": "IPY_MODEL_44a24f0164f04c28bbda2afeea4cf1d3",
       "style": "IPY_MODEL_67ca9e1d91df4fb4b9676d458d0d2b8f",
       "tooltip": null
      }
     },
     "a286baaee2844662bad437ee0f1390d1": {
      "model_module": "@jupyter-widgets/controls",
      "model_module_version": "2.0.0",
      "model_name": "ButtonModel",
      "state": {
       "description": "Reset (r)",
       "layout": "IPY_MODEL_d83fc23065da44c392bac22701f71e5e",
       "style": "IPY_MODEL_937779901bf6482089253bc80d8d03d0",
       "tooltip": null
      }
     },
     "a93286feed2540b08a03b397e9614401": {
      "model_module": "@jupyter-widgets/base",
      "model_module_version": "2.0.0",
      "model_name": "LayoutModel",
      "state": {}
     },
     "b64fe2f1596f4aad87cc336aa5a51b9d": {
      "model_module": "jupyter-webrtc",
      "model_module_version": "~0.6.0",
      "model_name": "ImageStreamModel",
      "state": {
       "_view_count": 1,
       "image": "IPY_MODEL_e68f073fe84f4eadbd23e05d0933c6ae",
       "layout": "IPY_MODEL_5f78795bbfdb4e958e4710b72e169288"
      }
     },
     "c03bc556440c46e1b1e6a021964234aa": {
      "model_module": "@jupyter-widgets/controls",
      "model_module_version": "2.0.0",
      "model_name": "ButtonStyleModel",
      "state": {
       "font_family": null,
       "font_size": null,
       "font_style": null,
       "font_variant": null,
       "font_weight": null,
       "text_color": null,
       "text_decoration": null
      }
     },
     "c44018f0dc0443228e03db5cd684483e": {
      "model_module": "@jupyter-widgets/controls",
      "model_module_version": "2.0.0",
      "model_name": "SliderStyleModel",
      "state": {
       "description_width": ""
      }
     },
     "d83fc23065da44c392bac22701f71e5e": {
      "model_module": "@jupyter-widgets/base",
      "model_module_version": "2.0.0",
      "model_name": "LayoutModel",
      "state": {}
     },
     "e0238a3ded464de3a0fe1065e9f7e41b": {
      "model_module": "@jupyter-widgets/base",
      "model_module_version": "2.0.0",
      "model_name": "LayoutModel",
      "state": {}
     },
     "e387c1f714474f21adaf21909c3011cc": {
      "model_module": "ipyevents",
      "model_module_version": "2.0.2",
      "model_name": "EventModel",
      "state": {
       "_supported_key_events": [
        "keydown",
        "keyup"
       ],
       "_supported_mouse_events": [
        "click",
        "auxclick",
        "dblclick",
        "mouseenter",
        "mouseleave",
        "mousedown",
        "mouseup",
        "mousemove",
        "wheel",
        "contextmenu",
        "dragstart",
        "drag",
        "dragend",
        "dragenter",
        "dragover",
        "dragleave",
        "drop"
       ],
       "_supported_touch_events": [
        "touchstart",
        "touchend",
        "touchmove",
        "touchcancel"
       ],
       "_view_module": "@jupyter-widgets/controls",
       "source": "IPY_MODEL_b64fe2f1596f4aad87cc336aa5a51b9d",
       "throttle_or_debounce": "",
       "watched_events": [
        "click",
        "keydown",
        "keyup",
        "mousemove"
       ],
       "xy_coordinate_system": ""
      }
     },
     "e68f073fe84f4eadbd23e05d0933c6ae": {
      "buffers": [
       {
        "data": "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",
        "encoding": "base64",
        "path": [
         "value"
        ]
       }
      ],
      "model_module": "@jupyter-widgets/controls",
      "model_module_version": "2.0.0",
      "model_name": "ImageModel",
      "state": {
       "layout": "IPY_MODEL_e9e7f49e90714cdaa85b031510784a70"
      }
     },
     "e8a7f822049447a982d6174a3db66a8e": {
      "model_module": "@jupyter-widgets/controls",
      "model_module_version": "2.0.0",
      "model_name": "HTMLStyleModel",
      "state": {
       "description_width": "",
       "font_size": null,
       "text_color": null
      }
     },
     "e9e7f49e90714cdaa85b031510784a70": {
      "model_module": "@jupyter-widgets/base",
      "model_module_version": "2.0.0",
      "model_name": "LayoutModel",
      "state": {}
     },
     "ebc2420c8a774c63a289ec92994c06e0": {
      "model_module": "@jupyter-widgets/base",
      "model_module_version": "2.0.0",
      "model_name": "LayoutModel",
      "state": {}
     },
     "ecb2b676a9ac45fb8bf8372faa21eba7": {
      "model_module": "@jupyter-widgets/base",
      "model_module_version": "2.0.0",
      "model_name": "LayoutModel",
      "state": {}
     },
     "f8f074ce273a4a17a8600900dc3a1d48": {
      "model_module": "@jupyter-widgets/base",
      "model_module_version": "2.0.0",
      "model_name": "LayoutModel",
      "state": {}
     },
     "fade38b36dc04ab194408c267b92c476": {
      "model_module": "@jupyter-widgets/controls",
      "model_module_version": "2.0.0",
      "model_name": "HTMLModel",
      "state": {
       "layout": "IPY_MODEL_7be4ad02d530419d987a86f6f8b2f8b5",
       "style": "IPY_MODEL_e8a7f822049447a982d6174a3db66a8e",
       "value": "<style>\n.cell-output-ipywidget-background {\n    background-color: transparent !important;\n}\n.jp-OutputArea-output {\n    background-color: transparent;\n}\npre {\n    color: var(--vscode-editor-foreground);\n    margin: 0;\n}\nvideo::-webkit-media-controls {\n  display: none;\n}\n</style>"
      }
     },
     "fda0e2220798424c9fea032f40d48236": {
      "model_module": "@jupyter-widgets/controls",
      "model_module_version": "2.0.0",
      "model_name": "ButtonModel",
      "state": {
       "description": "Collect (c)",
       "layout": "IPY_MODEL_f8f074ce273a4a17a8600900dc3a1d48",
       "style": "IPY_MODEL_c03bc556440c46e1b1e6a021964234aa",
       "tooltip": null
      }
     }
    },
    "version_major": 2,
    "version_minor": 0
   }
  }
 },
 "nbformat": 4,
 "nbformat_minor": 4
}
