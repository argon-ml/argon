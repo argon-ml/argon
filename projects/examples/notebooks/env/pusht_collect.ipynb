{
 "cells": [
  {
   "cell_type": "code",
   "execution_count": 1,
   "metadata": {},
   "outputs": [],
   "source": [
    "from stanza.runtime import setup\n",
    "setup()"
   ]
  },
  {
   "cell_type": "code",
   "execution_count": 2,
   "metadata": {
    "scrolled": true
   },
   "outputs": [],
   "source": [
    "import jax.random\n",
    "\n",
    "from stanza.env.mujoco.pusht import PushTEnv, PositionalControlTransform\n",
    "env = PushTEnv()\n",
    "env = PositionalControlTransform().transform_env(env)\n",
    "def interactive_policy(mouse_pos):\n",
    "    return mouse_pos"
   ]
  },
  {
   "cell_type": "code",
   "execution_count": 3,
   "metadata": {},
   "outputs": [
    {
     "data": {
      "application/vnd.jupyter.widget-view+json": {
       "model_id": "6441053e959c4f9c82076f73401a64de",
       "version_major": 2,
       "version_minor": 0
      },
      "text/plain": [
       "HBox(children=(IntSlider(value=0, max=206), IntSlider(value=0)))"
      ]
     },
     "metadata": {},
     "output_type": "display_data"
    },
    {
     "data": {
      "application/vnd.jupyter.widget-view+json": {
       "model_id": "b5a78446dd2d4e84a80d5c991bf24436",
       "version_major": 2,
       "version_minor": 0
      },
      "text/plain": [
       "HBox(children=(ImageStream(image=Image(value=b'\\x89PNG\\r\\n\\x1a\\n\\x00\\x00\\x00\\rIHDR\\x00\\x00\\x01\\x00\\x00\\x00\\x01…"
      ]
     },
     "metadata": {},
     "output_type": "display_data"
    },
    {
     "data": {
      "application/vnd.jupyter.widget-view+json": {
       "model_id": "6692042483144fa2994d6ea907eae60f",
       "version_major": 2,
       "version_minor": 0
      },
      "text/plain": [
       "HBox(children=(Button(description='Delete', style=ButtonStyle()), Button(description='Reset (r)', style=Button…"
      ]
     },
     "metadata": {},
     "output_type": "display_data"
    },
    {
     "data": {
      "application/vnd.jupyter.widget-view+json": {
       "model_id": "ba787d30af27412694dc212a86edb8ae",
       "version_major": 2,
       "version_minor": 0
      },
      "text/plain": [
       "Label(value='')"
      ]
     },
     "metadata": {},
     "output_type": "display_data"
    }
   ],
   "source": [
    "from stanza.policy.ipython import DemonstrationCollector\n",
    "from stanza.util.serialize import save_zarr, load_zarr\n",
    "from stanza.datasets.pusht import load_chen_pusht_data\n",
    "from stanza.data.sequence import SequenceData\n",
    "from stanza.data import PyTreeData\n",
    "from IPython.display import display\n",
    "from pathlib import Path\n",
    "\n",
    "path = Path(\"pusht_data.zarr.zip\")\n",
    "def save_fn(data):\n",
    "    pass\n",
    "\n",
    "if not path.exists():\n",
    "    data = load_chen_pusht_data()\n",
    "    #data = SequenceData(PyTreeData(), PyTreeData())\n",
    "else:\n",
    "    pass\n",
    "collector = DemonstrationCollector(\n",
    "    env, interactive_policy, data, save_fn, 256, 256\n",
    ")\n",
    "display(collector)"
   ]
  },
  {
   "cell_type": "code",
   "execution_count": null,
   "metadata": {},
   "outputs": [],
   "source": []
  }
 ],
 "metadata": {
  "kernelspec": {
   "display_name": "Python 3 (ipykernel)",
   "language": "python",
   "name": "python3"
  },
  "language_info": {
   "codemirror_mode": {
    "name": "ipython",
    "version": 3
   },
   "file_extension": ".py",
   "mimetype": "text/x-python",
   "name": "python",
   "nbconvert_exporter": "python",
   "pygments_lexer": "ipython3",
   "version": "3.12.3"
  },
  "widgets": {
   "application/vnd.jupyter.widget-state+json": {
    "state": {
     "086abc47b9394ed683f8696de8df7623": {
      "model_module": "@jupyter-widgets/base",
      "model_module_version": "2.0.0",
      "model_name": "LayoutModel",
      "state": {}
     },
     "0e951d912e81485390788bbce87b9bce": {
      "model_module": "@jupyter-widgets/controls",
      "model_module_version": "2.0.0",
      "model_name": "HTMLModel",
      "state": {
       "layout": "IPY_MODEL_65717409a6a44c5c970abfcad703d6ed",
       "style": "IPY_MODEL_646513f0a9ef4172b255e1d4f78bcf64",
       "value": "<style>\n.cell-output-ipywidget-background {\n    background-color: transparent !important;\n}\n.jp-OutputArea-output {\n    background-color: transparent;\n}\npre {\n    color: var(--vscode-editor-foreground);\n    margin: 0;\n}\nvideo::-webkit-media-controls {\n  display: none;\n}\n</style>"
      }
     },
     "10ca4b33ce05462f9cec5d48af447c2f": {
      "model_module": "@jupyter-widgets/controls",
      "model_module_version": "2.0.0",
      "model_name": "SliderStyleModel",
      "state": {
       "description_width": ""
      }
     },
     "1443a17bb3b34be681fa376588288227": {
      "model_module": "@jupyter-widgets/base",
      "model_module_version": "2.0.0",
      "model_name": "LayoutModel",
      "state": {}
     },
     "1a5b56bccad442a589cc411393bf4f3a": {
      "model_module": "@jupyter-widgets/controls",
      "model_module_version": "2.0.0",
      "model_name": "ButtonModel",
      "state": {
       "description": "Save",
       "layout": "IPY_MODEL_332549b1f22142419c6fb0dc31f3cf9c",
       "style": "IPY_MODEL_7f93dfa8824a4250a631f3528b19672e",
       "tooltip": null
      }
     },
     "208354e945ec4eefa88cb16578590570": {
      "model_module": "@jupyter-widgets/controls",
      "model_module_version": "2.0.0",
      "model_name": "ButtonModel",
      "state": {
       "description": "Trim",
       "layout": "IPY_MODEL_489f81bd5a3b412e987e9def447a3866",
       "style": "IPY_MODEL_90a7c394920a4ea78c67366bc332486e",
       "tooltip": null
      }
     },
     "332549b1f22142419c6fb0dc31f3cf9c": {
      "model_module": "@jupyter-widgets/base",
      "model_module_version": "2.0.0",
      "model_name": "LayoutModel",
      "state": {}
     },
     "3b916904438346fe972e71c6e531b721": {
      "model_module": "@jupyter-widgets/controls",
      "model_module_version": "2.0.0",
      "model_name": "IntSliderModel",
      "state": {
       "behavior": "drag-tap",
       "layout": "IPY_MODEL_68bdd5421fd44e16b7be690d6b1b9c5d",
       "max": 205,
       "style": "IPY_MODEL_7ff26498956d447aa0e7e6a00edf3c27",
       "value": 130
      }
     },
     "4419c64b7d204781970e3f007fdac483": {
      "model_module": "@jupyter-widgets/base",
      "model_module_version": "2.0.0",
      "model_name": "LayoutModel",
      "state": {}
     },
     "441a29c2093e4cdaaa4a7c54c0e28f31": {
      "model_module": "@jupyter-widgets/base",
      "model_module_version": "2.0.0",
      "model_name": "LayoutModel",
      "state": {}
     },
     "489f81bd5a3b412e987e9def447a3866": {
      "model_module": "@jupyter-widgets/base",
      "model_module_version": "2.0.0",
      "model_name": "LayoutModel",
      "state": {}
     },
     "4977254a65744e4fbf9b7139204584b0": {
      "model_module": "@jupyter-widgets/base",
      "model_module_version": "2.0.0",
      "model_name": "LayoutModel",
      "state": {}
     },
     "5346c993ad2a4c04937ff8b66e755954": {
      "model_module": "@jupyter-widgets/base",
      "model_module_version": "2.0.0",
      "model_name": "LayoutModel",
      "state": {}
     },
     "56c640484cba466c8eec78db85b501f2": {
      "model_module": "ipyevents",
      "model_module_version": "2.0.2",
      "model_name": "EventModel",
      "state": {
       "_supported_key_events": [
        "keydown",
        "keyup"
       ],
       "_supported_mouse_events": [
        "click",
        "auxclick",
        "dblclick",
        "mouseenter",
        "mouseleave",
        "mousedown",
        "mouseup",
        "mousemove",
        "wheel",
        "contextmenu",
        "dragstart",
        "drag",
        "dragend",
        "dragenter",
        "dragover",
        "dragleave",
        "drop"
       ],
       "_supported_touch_events": [
        "touchstart",
        "touchend",
        "touchmove",
        "touchcancel"
       ],
       "_view_module": "@jupyter-widgets/controls",
       "source": "IPY_MODEL_ee1268f28423421391bdb82078e15a13",
       "throttle_or_debounce": "",
       "watched_events": [
        "click",
        "keydown",
        "keyup",
        "mousemove"
       ],
       "xy_coordinate_system": ""
      }
     },
     "6441053e959c4f9c82076f73401a64de": {
      "model_module": "@jupyter-widgets/controls",
      "model_module_version": "2.0.0",
      "model_name": "HBoxModel",
      "state": {
       "children": [
        "IPY_MODEL_3b916904438346fe972e71c6e531b721",
        "IPY_MODEL_fa2fde1cc8e849d0b90d3c5dc86eaad4"
       ],
       "layout": "IPY_MODEL_5346c993ad2a4c04937ff8b66e755954"
      }
     },
     "646513f0a9ef4172b255e1d4f78bcf64": {
      "model_module": "@jupyter-widgets/controls",
      "model_module_version": "2.0.0",
      "model_name": "HTMLStyleModel",
      "state": {
       "description_width": "",
       "font_size": null,
       "text_color": null
      }
     },
     "65717409a6a44c5c970abfcad703d6ed": {
      "model_module": "@jupyter-widgets/base",
      "model_module_version": "2.0.0",
      "model_name": "LayoutModel",
      "state": {}
     },
     "6692042483144fa2994d6ea907eae60f": {
      "model_module": "@jupyter-widgets/controls",
      "model_module_version": "2.0.0",
      "model_name": "HBoxModel",
      "state": {
       "children": [
        "IPY_MODEL_844b231abba84cc9a7f41ef6b9f66b4d",
        "IPY_MODEL_a665baeb7cf2422ebdb706498ae526b2",
        "IPY_MODEL_73b2e44e34cc4330bfea2a01d34a9710",
        "IPY_MODEL_208354e945ec4eefa88cb16578590570",
        "IPY_MODEL_1a5b56bccad442a589cc411393bf4f3a"
       ],
       "layout": "IPY_MODEL_086abc47b9394ed683f8696de8df7623"
      }
     },
     "68bdd5421fd44e16b7be690d6b1b9c5d": {
      "model_module": "@jupyter-widgets/base",
      "model_module_version": "2.0.0",
      "model_name": "LayoutModel",
      "state": {}
     },
     "73b2e44e34cc4330bfea2a01d34a9710": {
      "model_module": "@jupyter-widgets/controls",
      "model_module_version": "2.0.0",
      "model_name": "ButtonModel",
      "state": {
       "description": "Collect (c)",
       "layout": "IPY_MODEL_4419c64b7d204781970e3f007fdac483",
       "style": "IPY_MODEL_dd57bb8882f64ea495e04564a4028fff",
       "tooltip": null
      }
     },
     "7f93dfa8824a4250a631f3528b19672e": {
      "model_module": "@jupyter-widgets/controls",
      "model_module_version": "2.0.0",
      "model_name": "ButtonStyleModel",
      "state": {
       "font_family": null,
       "font_size": null,
       "font_style": null,
       "font_variant": null,
       "font_weight": null,
       "text_color": null,
       "text_decoration": null
      }
     },
     "7ff26498956d447aa0e7e6a00edf3c27": {
      "model_module": "@jupyter-widgets/controls",
      "model_module_version": "2.0.0",
      "model_name": "SliderStyleModel",
      "state": {
       "description_width": ""
      }
     },
     "844b231abba84cc9a7f41ef6b9f66b4d": {
      "model_module": "@jupyter-widgets/controls",
      "model_module_version": "2.0.0",
      "model_name": "ButtonModel",
      "state": {
       "description": "Delete",
       "layout": "IPY_MODEL_d827fcd806eb43a798c66cda14077762",
       "style": "IPY_MODEL_a4b0df5ec90d44879755049b3a4a7890",
       "tooltip": null
      }
     },
     "87b47c9cc8524d26a6ee36d9585930a6": {
      "model_module": "@jupyter-widgets/controls",
      "model_module_version": "2.0.0",
      "model_name": "ButtonStyleModel",
      "state": {
       "font_family": null,
       "font_size": null,
       "font_style": null,
       "font_variant": null,
       "font_weight": null,
       "text_color": null,
       "text_decoration": null
      }
     },
     "8fa1d1a69bf1475b9b9a92a0b8a0531c": {
      "buffers": [
       {
        "data": "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",
        "encoding": "base64",
        "path": [
         "value"
        ]
       }
      ],
      "model_module": "@jupyter-widgets/controls",
      "model_module_version": "2.0.0",
      "model_name": "ImageModel",
      "state": {
       "layout": "IPY_MODEL_e9a294de5462457580f1253874fd81fa"
      }
     },
     "90a7c394920a4ea78c67366bc332486e": {
      "model_module": "@jupyter-widgets/controls",
      "model_module_version": "2.0.0",
      "model_name": "ButtonStyleModel",
      "state": {
       "font_family": null,
       "font_size": null,
       "font_style": null,
       "font_variant": null,
       "font_weight": null,
       "text_color": null,
       "text_decoration": null
      }
     },
     "a4b0df5ec90d44879755049b3a4a7890": {
      "model_module": "@jupyter-widgets/controls",
      "model_module_version": "2.0.0",
      "model_name": "ButtonStyleModel",
      "state": {
       "font_family": null,
       "font_size": null,
       "font_style": null,
       "font_variant": null,
       "font_weight": null,
       "text_color": null,
       "text_decoration": null
      }
     },
     "a665baeb7cf2422ebdb706498ae526b2": {
      "model_module": "@jupyter-widgets/controls",
      "model_module_version": "2.0.0",
      "model_name": "ButtonModel",
      "state": {
       "description": "Reset (r)",
       "layout": "IPY_MODEL_af91ecaa1e6c4aa2be2c7097cb458c82",
       "style": "IPY_MODEL_87b47c9cc8524d26a6ee36d9585930a6",
       "tooltip": null
      }
     },
     "af91ecaa1e6c4aa2be2c7097cb458c82": {
      "model_module": "@jupyter-widgets/base",
      "model_module_version": "2.0.0",
      "model_name": "LayoutModel",
      "state": {}
     },
     "b5a78446dd2d4e84a80d5c991bf24436": {
      "model_module": "@jupyter-widgets/controls",
      "model_module_version": "2.0.0",
      "model_name": "HBoxModel",
      "state": {
       "children": [
        "IPY_MODEL_ee1268f28423421391bdb82078e15a13",
        "IPY_MODEL_0e951d912e81485390788bbce87b9bce"
       ],
       "layout": "IPY_MODEL_1443a17bb3b34be681fa376588288227"
      }
     },
     "ba787d30af27412694dc212a86edb8ae": {
      "model_module": "@jupyter-widgets/controls",
      "model_module_version": "2.0.0",
      "model_name": "LabelModel",
      "state": {
       "layout": "IPY_MODEL_441a29c2093e4cdaaa4a7c54c0e28f31",
       "style": "IPY_MODEL_d7076ed07ea44184b5cf975b816c48f5"
      }
     },
     "c0f852a2c3e249b9b7e90d3ad8ac357b": {
      "model_module": "@jupyter-widgets/base",
      "model_module_version": "2.0.0",
      "model_name": "LayoutModel",
      "state": {}
     },
     "d7076ed07ea44184b5cf975b816c48f5": {
      "model_module": "@jupyter-widgets/controls",
      "model_module_version": "2.0.0",
      "model_name": "LabelStyleModel",
      "state": {
       "description_width": "",
       "font_family": null,
       "font_size": null,
       "font_style": null,
       "font_variant": null,
       "font_weight": null,
       "text_color": null,
       "text_decoration": null
      }
     },
     "d827fcd806eb43a798c66cda14077762": {
      "model_module": "@jupyter-widgets/base",
      "model_module_version": "2.0.0",
      "model_name": "LayoutModel",
      "state": {}
     },
     "dd57bb8882f64ea495e04564a4028fff": {
      "model_module": "@jupyter-widgets/controls",
      "model_module_version": "2.0.0",
      "model_name": "ButtonStyleModel",
      "state": {
       "font_family": null,
       "font_size": null,
       "font_style": null,
       "font_variant": null,
       "font_weight": null,
       "text_color": null,
       "text_decoration": null
      }
     },
     "e9a294de5462457580f1253874fd81fa": {
      "model_module": "@jupyter-widgets/base",
      "model_module_version": "2.0.0",
      "model_name": "LayoutModel",
      "state": {}
     },
     "ee1268f28423421391bdb82078e15a13": {
      "model_module": "jupyter-webrtc",
      "model_module_version": "~0.6.0",
      "model_name": "ImageStreamModel",
      "state": {
       "_view_count": 1,
       "image": "IPY_MODEL_8fa1d1a69bf1475b9b9a92a0b8a0531c",
       "layout": "IPY_MODEL_c0f852a2c3e249b9b7e90d3ad8ac357b"
      }
     },
     "fa2fde1cc8e849d0b90d3c5dc86eaad4": {
      "model_module": "@jupyter-widgets/controls",
      "model_module_version": "2.0.0",
      "model_name": "IntSliderModel",
      "state": {
       "behavior": "drag-tap",
       "layout": "IPY_MODEL_4977254a65744e4fbf9b7139204584b0",
       "max": 151,
       "style": "IPY_MODEL_10ca4b33ce05462f9cec5d48af447c2f",
       "value": 151
      }
     }
    },
    "version_major": 2,
    "version_minor": 0
   }
  }
 },
 "nbformat": 4,
 "nbformat_minor": 4
}
