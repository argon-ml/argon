{
 "cells": [
  {
   "cell_type": "code",
   "execution_count": 1,
   "metadata": {},
   "outputs": [],
   "source": [
    "from stanza.runtime import setup\n",
    "setup()"
   ]
  },
  {
   "cell_type": "code",
   "execution_count": 2,
   "metadata": {
    "scrolled": true
   },
   "outputs": [],
   "source": [
    "import jax.random\n",
    "\n",
    "from stanza.env.mujoco.pusht import PushTEnv, PositionalControlTransform\n",
    "env = PushTEnv()\n",
    "env = PositionalControlTransform().transform_env(env)\n",
    "def interactive_policy(mouse_pos):\n",
    "    return mouse_pos"
   ]
  },
  {
   "cell_type": "code",
   "execution_count": 3,
   "metadata": {},
   "outputs": [
    {
     "data": {
      "application/vnd.jupyter.widget-view+json": {
       "model_id": "a14858b68d8a413b963645f6445a2684",
       "version_major": 2,
       "version_minor": 0
      },
      "text/plain": [
       "HBox(children=(IntSlider(value=0, max=206), IntSlider(value=0)))"
      ]
     },
     "metadata": {},
     "output_type": "display_data"
    },
    {
     "data": {
      "application/vnd.jupyter.widget-view+json": {
       "model_id": "3dbfa6037143407b98df09dd801a9953",
       "version_major": 2,
       "version_minor": 0
      },
      "text/plain": [
       "HBox(children=(ImageStream(image=Image(value=b'\\x89PNG\\r\\n\\x1a\\n\\x00\\x00\\x00\\rIHDR\\x00\\x00\\x01\\x00\\x00\\x00\\x01…"
      ]
     },
     "metadata": {},
     "output_type": "display_data"
    },
    {
     "data": {
      "application/vnd.jupyter.widget-view+json": {
       "model_id": "c23bf359184a4a7cbe535d0bfb496e78",
       "version_major": 2,
       "version_minor": 0
      },
      "text/plain": [
       "HBox(children=(Button(description='Delete', style=ButtonStyle()), Button(description='Reset (r)', style=Button…"
      ]
     },
     "metadata": {},
     "output_type": "display_data"
    },
    {
     "data": {
      "application/vnd.jupyter.widget-view+json": {
       "model_id": "e57c875ca01040349d5aa35cdcb23007",
       "version_major": 2,
       "version_minor": 0
      },
      "text/plain": [
       "Label(value='')"
      ]
     },
     "metadata": {},
     "output_type": "display_data"
    }
   ],
   "source": [
    "from stanza.policy.ipython import DemonstrationCollector\n",
    "from stanza.util.serialize import save_zarr, load_zarr\n",
    "from stanza.datasets.env.pusht import load_chi_pusht_data\n",
    "from stanza.data.sequence import SequenceData\n",
    "from stanza.data import PyTreeData\n",
    "from IPython.display import display\n",
    "from pathlib import Path\n",
    "\n",
    "path = Path(\"pusht_data.zarr.zip\")\n",
    "def save_fn(data):\n",
    "    pass\n",
    "\n",
    "if not path.exists():\n",
    "    data = load_chi_pusht_data()\n",
    "    #data = SequenceData(PyTreeData(), PyTreeData())\n",
    "else:\n",
    "    pass\n",
    "collector = DemonstrationCollector(\n",
    "    env, interactive_policy, data, save_fn, 256, 256\n",
    ")\n",
    "display(collector)"
   ]
  },
  {
   "cell_type": "code",
   "execution_count": null,
   "metadata": {},
   "outputs": [],
   "source": []
  }
 ],
 "metadata": {
  "kernelspec": {
   "display_name": "Python 3 (ipykernel)",
   "language": "python",
   "name": "python3"
  },
  "language_info": {
   "codemirror_mode": {
    "name": "ipython",
    "version": 3
   },
   "file_extension": ".py",
   "mimetype": "text/x-python",
   "name": "python",
   "nbconvert_exporter": "python",
   "pygments_lexer": "ipython3",
   "version": "3.12.3"
  },
  "widgets": {
   "application/vnd.jupyter.widget-state+json": {
    "state": {
     "05d1ab2460504104ab2a820bc57c592c": {
      "model_module": "@jupyter-widgets/controls",
      "model_module_version": "2.0.0",
      "model_name": "LabelStyleModel",
      "state": {
       "description_width": "",
       "font_family": null,
       "font_size": null,
       "font_style": null,
       "font_variant": null,
       "font_weight": null,
       "text_color": null,
       "text_decoration": null
      }
     },
     "1f43d1e8aaa14e9ea3b90f47c020d853": {
      "model_module": "@jupyter-widgets/controls",
      "model_module_version": "2.0.0",
      "model_name": "IntSliderModel",
      "state": {
       "behavior": "drag-tap",
       "layout": "IPY_MODEL_2718159413af4b189781bac5128fa194",
       "max": 206,
       "style": "IPY_MODEL_537c8bb5716d41b29b4a005c5623e824",
       "value": 206
      }
     },
     "2313b40132b543d1a848781bb068bd0f": {
      "model_module": "@jupyter-widgets/base",
      "model_module_version": "2.0.0",
      "model_name": "LayoutModel",
      "state": {}
     },
     "27178e9f03f3448bbbe367d14975a36f": {
      "model_module": "@jupyter-widgets/controls",
      "model_module_version": "2.0.0",
      "model_name": "ButtonStyleModel",
      "state": {
       "font_family": null,
       "font_size": null,
       "font_style": null,
       "font_variant": null,
       "font_weight": null,
       "text_color": null,
       "text_decoration": null
      }
     },
     "2718159413af4b189781bac5128fa194": {
      "model_module": "@jupyter-widgets/base",
      "model_module_version": "2.0.0",
      "model_name": "LayoutModel",
      "state": {}
     },
     "362e36f097ac4a4399f49a9075667fa0": {
      "model_module": "@jupyter-widgets/controls",
      "model_module_version": "2.0.0",
      "model_name": "HBoxModel",
      "state": {
       "children": [
        "IPY_MODEL_5f7479e32774462e9d4c1a450c3a6a18",
        "IPY_MODEL_d79ebe841b5d41809b0ab3e6033ebb45"
       ],
       "layout": "IPY_MODEL_5585cbfaece6421d84ee2d71e732c03d"
      }
     },
     "3adcacf4a3c14bdf9b5dd85c8ea3663b": {
      "model_module": "@jupyter-widgets/controls",
      "model_module_version": "2.0.0",
      "model_name": "ButtonStyleModel",
      "state": {
       "font_family": null,
       "font_size": null,
       "font_style": null,
       "font_variant": null,
       "font_weight": null,
       "text_color": null,
       "text_decoration": null
      }
     },
     "4313a71911f34008a4dfe96e09d6f776": {
      "model_module": "@jupyter-widgets/base",
      "model_module_version": "2.0.0",
      "model_name": "LayoutModel",
      "state": {}
     },
     "52a3d29053d74a1894032379baf28c5e": {
      "model_module": "@jupyter-widgets/controls",
      "model_module_version": "2.0.0",
      "model_name": "SliderStyleModel",
      "state": {
       "description_width": ""
      }
     },
     "537c8bb5716d41b29b4a005c5623e824": {
      "model_module": "@jupyter-widgets/controls",
      "model_module_version": "2.0.0",
      "model_name": "SliderStyleModel",
      "state": {
       "description_width": ""
      }
     },
     "53b762ee641545e6add5d18a2a3d9d83": {
      "model_module": "@jupyter-widgets/controls",
      "model_module_version": "2.0.0",
      "model_name": "HBoxModel",
      "state": {
       "children": [
        "IPY_MODEL_1f43d1e8aaa14e9ea3b90f47c020d853",
        "IPY_MODEL_d232243f341541548aa7fab8b3dcae8f"
       ],
       "layout": "IPY_MODEL_c5f2316d985f4a14ad3150b6fbf8ecad"
      }
     },
     "5585cbfaece6421d84ee2d71e732c03d": {
      "model_module": "@jupyter-widgets/base",
      "model_module_version": "2.0.0",
      "model_name": "LayoutModel",
      "state": {}
     },
     "5889bf3586604b70b2f5ffaba489aa3a": {
      "model_module": "@jupyter-widgets/controls",
      "model_module_version": "2.0.0",
      "model_name": "ButtonStyleModel",
      "state": {
       "font_family": null,
       "font_size": null,
       "font_style": null,
       "font_variant": null,
       "font_weight": null,
       "text_color": null,
       "text_decoration": null
      }
     },
     "5c2b7b1b1afe459785c1f48422434cc2": {
      "model_module": "@jupyter-widgets/base",
      "model_module_version": "2.0.0",
      "model_name": "LayoutModel",
      "state": {}
     },
     "5f7479e32774462e9d4c1a450c3a6a18": {
      "model_module": "jupyter-webrtc",
      "model_module_version": "~0.6.0",
      "model_name": "ImageStreamModel",
      "state": {
       "_view_count": 1,
       "image": "IPY_MODEL_9c5a6b182fb045eaaddc0f09845e200b",
       "layout": "IPY_MODEL_6975719cd50e42deac6b1adc6071418b"
      }
     },
     "62f0310751874171bd98939717b7241e": {
      "model_module": "@jupyter-widgets/base",
      "model_module_version": "2.0.0",
      "model_name": "LayoutModel",
      "state": {}
     },
     "641616edb7d14515a843d65ef3ad4aed": {
      "model_module": "@jupyter-widgets/base",
      "model_module_version": "2.0.0",
      "model_name": "LayoutModel",
      "state": {}
     },
     "6711ab78903049e6835a98c369a86f3c": {
      "model_module": "@jupyter-widgets/controls",
      "model_module_version": "2.0.0",
      "model_name": "HTMLStyleModel",
      "state": {
       "description_width": "",
       "font_size": null,
       "text_color": null
      }
     },
     "6975719cd50e42deac6b1adc6071418b": {
      "model_module": "@jupyter-widgets/base",
      "model_module_version": "2.0.0",
      "model_name": "LayoutModel",
      "state": {}
     },
     "72acc1106f894a79aa5cfde301effadb": {
      "model_module": "@jupyter-widgets/base",
      "model_module_version": "2.0.0",
      "model_name": "LayoutModel",
      "state": {}
     },
     "8d6748a62b6b4a80b0bf53f97498b6fc": {
      "model_module": "@jupyter-widgets/base",
      "model_module_version": "2.0.0",
      "model_name": "LayoutModel",
      "state": {}
     },
     "8f3246f1943f4fce9718da98262a9bbb": {
      "model_module": "ipyevents",
      "model_module_version": "2.0.2",
      "model_name": "EventModel",
      "state": {
       "_supported_key_events": [
        "keydown",
        "keyup"
       ],
       "_supported_mouse_events": [
        "click",
        "auxclick",
        "dblclick",
        "mouseenter",
        "mouseleave",
        "mousedown",
        "mouseup",
        "mousemove",
        "wheel",
        "contextmenu",
        "dragstart",
        "drag",
        "dragend",
        "dragenter",
        "dragover",
        "dragleave",
        "drop"
       ],
       "_supported_touch_events": [
        "touchstart",
        "touchend",
        "touchmove",
        "touchcancel"
       ],
       "_view_module": "@jupyter-widgets/controls",
       "source": "IPY_MODEL_5f7479e32774462e9d4c1a450c3a6a18",
       "throttle_or_debounce": "",
       "watched_events": [
        "click",
        "keydown",
        "keyup",
        "mousemove"
       ],
       "xy_coordinate_system": ""
      }
     },
     "9145caedd29041b2aae9e0958cc73ab6": {
      "model_module": "@jupyter-widgets/controls",
      "model_module_version": "2.0.0",
      "model_name": "ButtonStyleModel",
      "state": {
       "font_family": null,
       "font_size": null,
       "font_style": null,
       "font_variant": null,
       "font_weight": null,
       "text_color": null,
       "text_decoration": null
      }
     },
     "944a9fe735f0418985f33933bab2c0e2": {
      "model_module": "@jupyter-widgets/controls",
      "model_module_version": "2.0.0",
      "model_name": "ButtonModel",
      "state": {
       "description": "Delete",
       "layout": "IPY_MODEL_9da4cf6ef4824b11a00cd6d6e2e480cd",
       "style": "IPY_MODEL_27178e9f03f3448bbbe367d14975a36f",
       "tooltip": null
      }
     },
     "95102b18cf7342e6ad5d115053c46300": {
      "model_module": "@jupyter-widgets/controls",
      "model_module_version": "2.0.0",
      "model_name": "ButtonModel",
      "state": {
       "description": "Trim",
       "layout": "IPY_MODEL_ccb9d25da5de46e48ec61b16068720fd",
       "style": "IPY_MODEL_e9f6f635330d4500b09e228c6ab04536",
       "tooltip": null
      }
     },
     "9c5a6b182fb045eaaddc0f09845e200b": {
      "buffers": [
       {
        "data": "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",
        "encoding": "base64",
        "path": [
         "value"
        ]
       }
      ],
      "model_module": "@jupyter-widgets/controls",
      "model_module_version": "2.0.0",
      "model_name": "ImageModel",
      "state": {
       "layout": "IPY_MODEL_5c2b7b1b1afe459785c1f48422434cc2"
      }
     },
     "9da4cf6ef4824b11a00cd6d6e2e480cd": {
      "model_module": "@jupyter-widgets/base",
      "model_module_version": "2.0.0",
      "model_name": "LayoutModel",
      "state": {}
     },
     "ae312c4e44bd4403b3878365850f301c": {
      "model_module": "@jupyter-widgets/controls",
      "model_module_version": "2.0.0",
      "model_name": "ButtonModel",
      "state": {
       "description": "Collect (c)",
       "layout": "IPY_MODEL_8d6748a62b6b4a80b0bf53f97498b6fc",
       "style": "IPY_MODEL_9145caedd29041b2aae9e0958cc73ab6",
       "tooltip": null
      }
     },
     "bf9aef56eaf340faa248e0571bc2e77f": {
      "model_module": "@jupyter-widgets/controls",
      "model_module_version": "2.0.0",
      "model_name": "ButtonModel",
      "state": {
       "description": "Save",
       "layout": "IPY_MODEL_62f0310751874171bd98939717b7241e",
       "style": "IPY_MODEL_3adcacf4a3c14bdf9b5dd85c8ea3663b",
       "tooltip": null
      }
     },
     "c5f2316d985f4a14ad3150b6fbf8ecad": {
      "model_module": "@jupyter-widgets/base",
      "model_module_version": "2.0.0",
      "model_name": "LayoutModel",
      "state": {}
     },
     "ccb9d25da5de46e48ec61b16068720fd": {
      "model_module": "@jupyter-widgets/base",
      "model_module_version": "2.0.0",
      "model_name": "LayoutModel",
      "state": {}
     },
     "d0c9c5ddbd6041ca9e845ad060cf6b0e": {
      "model_module": "@jupyter-widgets/controls",
      "model_module_version": "2.0.0",
      "model_name": "HBoxModel",
      "state": {
       "children": [
        "IPY_MODEL_944a9fe735f0418985f33933bab2c0e2",
        "IPY_MODEL_e8cbbf4fd91540069c4f69340806b71f",
        "IPY_MODEL_ae312c4e44bd4403b3878365850f301c",
        "IPY_MODEL_95102b18cf7342e6ad5d115053c46300",
        "IPY_MODEL_bf9aef56eaf340faa248e0571bc2e77f"
       ],
       "layout": "IPY_MODEL_641616edb7d14515a843d65ef3ad4aed"
      }
     },
     "d232243f341541548aa7fab8b3dcae8f": {
      "model_module": "@jupyter-widgets/controls",
      "model_module_version": "2.0.0",
      "model_name": "IntSliderModel",
      "state": {
       "behavior": "drag-tap",
       "layout": "IPY_MODEL_f4fa50e46b6948aab0d7f87c2136bb99",
       "max": 989,
       "style": "IPY_MODEL_52a3d29053d74a1894032379baf28c5e",
       "value": 989
      }
     },
     "d79ebe841b5d41809b0ab3e6033ebb45": {
      "model_module": "@jupyter-widgets/controls",
      "model_module_version": "2.0.0",
      "model_name": "HTMLModel",
      "state": {
       "layout": "IPY_MODEL_2313b40132b543d1a848781bb068bd0f",
       "style": "IPY_MODEL_6711ab78903049e6835a98c369a86f3c",
       "value": "<style>\n.cell-output-ipywidget-background {\n    background-color: transparent !important;\n}\n.jp-OutputArea-output {\n    background-color: transparent;\n}\npre {\n    color: var(--vscode-editor-foreground);\n    margin: 0;\n}\nvideo::-webkit-media-controls {\n  display: none;\n}\n</style>"
      }
     },
     "e8cbbf4fd91540069c4f69340806b71f": {
      "model_module": "@jupyter-widgets/controls",
      "model_module_version": "2.0.0",
      "model_name": "ButtonModel",
      "state": {
       "description": "Reset (r)",
       "layout": "IPY_MODEL_4313a71911f34008a4dfe96e09d6f776",
       "style": "IPY_MODEL_5889bf3586604b70b2f5ffaba489aa3a",
       "tooltip": null
      }
     },
     "e9f6f635330d4500b09e228c6ab04536": {
      "model_module": "@jupyter-widgets/controls",
      "model_module_version": "2.0.0",
      "model_name": "ButtonStyleModel",
      "state": {
       "font_family": null,
       "font_size": null,
       "font_style": null,
       "font_variant": null,
       "font_weight": null,
       "text_color": null,
       "text_decoration": null
      }
     },
     "f0f219407a5b46f98dc0aa186f811d4b": {
      "model_module": "@jupyter-widgets/controls",
      "model_module_version": "2.0.0",
      "model_name": "LabelModel",
      "state": {
       "layout": "IPY_MODEL_72acc1106f894a79aa5cfde301effadb",
       "style": "IPY_MODEL_05d1ab2460504104ab2a820bc57c592c"
      }
     },
     "f4fa50e46b6948aab0d7f87c2136bb99": {
      "model_module": "@jupyter-widgets/base",
      "model_module_version": "2.0.0",
      "model_name": "LayoutModel",
      "state": {}
     }
    },
    "version_major": 2,
    "version_minor": 0
   }
  }
 },
 "nbformat": 4,
 "nbformat_minor": 4
}
