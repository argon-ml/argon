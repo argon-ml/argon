{
 "cells": [
  {
   "cell_type": "code",
   "execution_count": 1,
   "metadata": {},
   "outputs": [],
   "source": [
    "from stanza.runtime import setup\n",
    "setup()"
   ]
  },
  {
   "cell_type": "code",
   "execution_count": 2,
   "metadata": {
    "scrolled": true
   },
   "outputs": [
    {
     "name": "stderr",
     "output_type": "stream",
     "text": [
      "/Users/chryu/stanza/stanza/.venv/lib/python3.12/site-packages/jax/_src/compiler.py:644: UserWarning: Error reading persistent compilation cache entry for 'jit_convert_element_type': AttributeError: 'PosixPath' object has no attribute 'startswith'\n",
      "  warnings.warn(\n"
     ]
    }
   ],
   "source": [
    "import jax.random\n",
    "\n",
    "from stanza.env.mujoco.pusht import PushTEnv, PositionalControlTransform\n",
    "env = PushTEnv()\n",
    "env = PositionalControlTransform().transform_env(env)\n",
    "def interactive_policy(mouse_pos):\n",
    "    return mouse_pos"
   ]
  },
  {
   "cell_type": "code",
   "execution_count": 3,
   "metadata": {},
   "outputs": [
    {
     "data": {
      "application/vnd.jupyter.widget-view+json": {
       "model_id": "99c1d7af194f4334b550027a5850b6cf",
       "version_major": 2,
       "version_minor": 0
      },
      "text/plain": [
       "HBox(children=(IntSlider(value=0, max=206), IntSlider(value=0)))"
      ]
     },
     "metadata": {},
     "output_type": "display_data"
    },
    {
     "data": {
      "application/vnd.jupyter.widget-view+json": {
       "model_id": "bb838db1ed7f43c58f587aac667ce744",
       "version_major": 2,
       "version_minor": 0
      },
      "text/plain": [
       "HBox(children=(ImageStream(image=Image(value=b'\\x89PNG\\r\\n\\x1a\\n\\x00\\x00\\x00\\rIHDR\\x00\\x00\\x01\\x00\\x00\\x00\\x01…"
      ]
     },
     "metadata": {},
     "output_type": "display_data"
    },
    {
     "data": {
      "application/vnd.jupyter.widget-view+json": {
       "model_id": "352714baef484b0cbe79ffb846ee4843",
       "version_major": 2,
       "version_minor": 0
      },
      "text/plain": [
       "HBox(children=(Button(description='Delete', style=ButtonStyle()), Button(description='Reset (r)', style=Button…"
      ]
     },
     "metadata": {},
     "output_type": "display_data"
    },
    {
     "data": {
      "application/vnd.jupyter.widget-view+json": {
       "model_id": "838b4c0b24ff4f9d9f54d2e62f12c66e",
       "version_major": 2,
       "version_minor": 0
      },
      "text/plain": [
       "Label(value='')"
      ]
     },
     "metadata": {},
     "output_type": "display_data"
    }
   ],
   "source": [
    "from stanza.policy.ipython import DemonstrationCollector\n",
    "from stanza.util.serialize import save_zarr, load_zarr\n",
    "from stanza.datasets.pusht import load_chi_pusht_data\n",
    "from stanza.data.sequence import SequenceData\n",
    "from stanza.data import PyTreeData\n",
    "from IPython.display import display\n",
    "from pathlib import Path\n",
    "\n",
    "path = Path(\"pusht_data.zarr.zip\")\n",
    "def save_fn(data):\n",
    "    pass\n",
    "\n",
    "if not path.exists():\n",
    "    data = load_chi_pusht_data()\n",
    "    #data = SequenceData(PyTreeData(), PyTreeData())\n",
    "else:\n",
    "    pass\n",
    "collector = DemonstrationCollector(\n",
    "    env, interactive_policy, data, save_fn, 256, 256\n",
    ")\n",
    "display(collector)"
   ]
  },
  {
   "cell_type": "code",
   "execution_count": null,
   "metadata": {},
   "outputs": [],
   "source": []
  }
 ],
 "metadata": {
  "kernelspec": {
   "display_name": "Python 3 (ipykernel)",
   "language": "python",
   "name": "python3"
  },
  "language_info": {
   "codemirror_mode": {
    "name": "ipython",
    "version": 3
   },
   "file_extension": ".py",
   "mimetype": "text/x-python",
   "name": "python",
   "nbconvert_exporter": "python",
   "pygments_lexer": "ipython3",
   "version": "3.12.3"
  },
  "widgets": {
   "application/vnd.jupyter.widget-state+json": {
    "state": {
     "0e8656bdb59741e59dccc50a07b1cb10": {
      "model_module": "@jupyter-widgets/base",
      "model_module_version": "2.0.0",
      "model_name": "LayoutModel",
      "state": {}
     },
     "2c8b8999ce394d5da03faf5a5a6a0365": {
      "model_module": "@jupyter-widgets/controls",
      "model_module_version": "2.0.0",
      "model_name": "ButtonModel",
      "state": {
       "description": "Save",
       "layout": "IPY_MODEL_ad3c508d220348d5b87ca26c5b6aa11d",
       "style": "IPY_MODEL_745492ec8f7a436e9f65ea0417964ca7",
       "tooltip": null
      }
     },
     "31f806e5d90b4cf7ab79284475974871": {
      "model_module": "@jupyter-widgets/controls",
      "model_module_version": "2.0.0",
      "model_name": "ButtonModel",
      "state": {
       "description": "Delete",
       "layout": "IPY_MODEL_0e8656bdb59741e59dccc50a07b1cb10",
       "style": "IPY_MODEL_382349643ecb4eaeb630d310f750ec95",
       "tooltip": null
      }
     },
     "352714baef484b0cbe79ffb846ee4843": {
      "model_module": "@jupyter-widgets/controls",
      "model_module_version": "2.0.0",
      "model_name": "HBoxModel",
      "state": {
       "children": [
        "IPY_MODEL_31f806e5d90b4cf7ab79284475974871",
        "IPY_MODEL_bf152dc426024232a15e3f15d3bc8cdb",
        "IPY_MODEL_4f3a41c52f7b46b5be6f2602c72f0c0f",
        "IPY_MODEL_ae88e6b48cce43818c03cdbd49ded92b",
        "IPY_MODEL_2c8b8999ce394d5da03faf5a5a6a0365"
       ],
       "layout": "IPY_MODEL_68e564f1b6e649809970b7b3b1e6f06b"
      }
     },
     "37ca2b88bbff4ec499a2e14cd10083db": {
      "model_module": "@jupyter-widgets/controls",
      "model_module_version": "2.0.0",
      "model_name": "SliderStyleModel",
      "state": {
       "description_width": ""
      }
     },
     "382349643ecb4eaeb630d310f750ec95": {
      "model_module": "@jupyter-widgets/controls",
      "model_module_version": "2.0.0",
      "model_name": "ButtonStyleModel",
      "state": {
       "font_family": null,
       "font_size": null,
       "font_style": null,
       "font_variant": null,
       "font_weight": null,
       "text_color": null,
       "text_decoration": null
      }
     },
     "3dd3036f2b8d404c98f0ecd7d6612930": {
      "model_module": "@jupyter-widgets/base",
      "model_module_version": "2.0.0",
      "model_name": "LayoutModel",
      "state": {}
     },
     "3fcda48b6e7649b4b800d579ba679c86": {
      "model_module": "@jupyter-widgets/controls",
      "model_module_version": "2.0.0",
      "model_name": "ButtonStyleModel",
      "state": {
       "font_family": null,
       "font_size": null,
       "font_style": null,
       "font_variant": null,
       "font_weight": null,
       "text_color": null,
       "text_decoration": null
      }
     },
     "424475386bac48bc9b36cadcb9db3f7a": {
      "model_module": "@jupyter-widgets/controls",
      "model_module_version": "2.0.0",
      "model_name": "IntSliderModel",
      "state": {
       "behavior": "drag-tap",
       "layout": "IPY_MODEL_de3d1312db7c4a5f9a696d71b7765425",
       "max": 1915,
       "style": "IPY_MODEL_37ca2b88bbff4ec499a2e14cd10083db",
       "value": 1915
      }
     },
     "45d0b1a47bf54d8fb6772a8e10ca87d4": {
      "model_module": "@jupyter-widgets/controls",
      "model_module_version": "2.0.0",
      "model_name": "SliderStyleModel",
      "state": {
       "description_width": ""
      }
     },
     "48750f7811c9452fbb292c8609502b68": {
      "model_module": "@jupyter-widgets/base",
      "model_module_version": "2.0.0",
      "model_name": "LayoutModel",
      "state": {}
     },
     "4f3a41c52f7b46b5be6f2602c72f0c0f": {
      "model_module": "@jupyter-widgets/controls",
      "model_module_version": "2.0.0",
      "model_name": "ButtonModel",
      "state": {
       "description": "Stop (c)",
       "layout": "IPY_MODEL_db596cf6c8e4460eac5ae1e3e921bceb",
       "style": "IPY_MODEL_3fcda48b6e7649b4b800d579ba679c86",
       "tooltip": null
      }
     },
     "626ef1fd89764220b824ee22f1905d0f": {
      "model_module": "@jupyter-widgets/controls",
      "model_module_version": "2.0.0",
      "model_name": "HTMLStyleModel",
      "state": {
       "description_width": "",
       "font_size": null,
       "text_color": null
      }
     },
     "68e564f1b6e649809970b7b3b1e6f06b": {
      "model_module": "@jupyter-widgets/base",
      "model_module_version": "2.0.0",
      "model_name": "LayoutModel",
      "state": {}
     },
     "745492ec8f7a436e9f65ea0417964ca7": {
      "model_module": "@jupyter-widgets/controls",
      "model_module_version": "2.0.0",
      "model_name": "ButtonStyleModel",
      "state": {
       "font_family": null,
       "font_size": null,
       "font_style": null,
       "font_variant": null,
       "font_weight": null,
       "text_color": null,
       "text_decoration": null
      }
     },
     "7aa308ccd239474da06f3900939139a2": {
      "model_module": "@jupyter-widgets/base",
      "model_module_version": "2.0.0",
      "model_name": "LayoutModel",
      "state": {}
     },
     "838b4c0b24ff4f9d9f54d2e62f12c66e": {
      "model_module": "@jupyter-widgets/controls",
      "model_module_version": "2.0.0",
      "model_name": "LabelModel",
      "state": {
       "layout": "IPY_MODEL_7aa308ccd239474da06f3900939139a2",
       "style": "IPY_MODEL_88a71e329cc44ff1a8367b8964e2900b"
      }
     },
     "8801976530234b00b956f20f404ee6cb": {
      "model_module": "@jupyter-widgets/controls",
      "model_module_version": "2.0.0",
      "model_name": "ButtonStyleModel",
      "state": {
       "font_family": null,
       "font_size": null,
       "font_style": null,
       "font_variant": null,
       "font_weight": null,
       "text_color": null,
       "text_decoration": null
      }
     },
     "88a71e329cc44ff1a8367b8964e2900b": {
      "model_module": "@jupyter-widgets/controls",
      "model_module_version": "2.0.0",
      "model_name": "LabelStyleModel",
      "state": {
       "description_width": "",
       "font_family": null,
       "font_size": null,
       "font_style": null,
       "font_variant": null,
       "font_weight": null,
       "text_color": null,
       "text_decoration": null
      }
     },
     "8cd449f4d26f49c8a1f76ed7c398d7b2": {
      "model_module": "@jupyter-widgets/base",
      "model_module_version": "2.0.0",
      "model_name": "LayoutModel",
      "state": {}
     },
     "916d408f124b4abe95daefe8cd97b82f": {
      "model_module": "@jupyter-widgets/base",
      "model_module_version": "2.0.0",
      "model_name": "LayoutModel",
      "state": {}
     },
     "99c1d7af194f4334b550027a5850b6cf": {
      "model_module": "@jupyter-widgets/controls",
      "model_module_version": "2.0.0",
      "model_name": "HBoxModel",
      "state": {
       "children": [
        "IPY_MODEL_b7aa2cedc80043d9a97f011b36075970",
        "IPY_MODEL_424475386bac48bc9b36cadcb9db3f7a"
       ],
       "layout": "IPY_MODEL_48750f7811c9452fbb292c8609502b68"
      }
     },
     "a26e7ee7a35b4921849ea7bbea4bfdc9": {
      "model_module": "@jupyter-widgets/controls",
      "model_module_version": "2.0.0",
      "model_name": "ButtonStyleModel",
      "state": {
       "font_family": null,
       "font_size": null,
       "font_style": null,
       "font_variant": null,
       "font_weight": null,
       "text_color": null,
       "text_decoration": null
      }
     },
     "ad3c508d220348d5b87ca26c5b6aa11d": {
      "model_module": "@jupyter-widgets/base",
      "model_module_version": "2.0.0",
      "model_name": "LayoutModel",
      "state": {}
     },
     "ae88e6b48cce43818c03cdbd49ded92b": {
      "model_module": "@jupyter-widgets/controls",
      "model_module_version": "2.0.0",
      "model_name": "ButtonModel",
      "state": {
       "description": "Trim",
       "layout": "IPY_MODEL_3dd3036f2b8d404c98f0ecd7d6612930",
       "style": "IPY_MODEL_8801976530234b00b956f20f404ee6cb",
       "tooltip": null
      }
     },
     "b78d1343c7e04fefa2176976b8b9cd4e": {
      "model_module": "@jupyter-widgets/controls",
      "model_module_version": "2.0.0",
      "model_name": "HTMLModel",
      "state": {
       "layout": "IPY_MODEL_b9fdd1afcf4e46bead869d12cbf910e3",
       "style": "IPY_MODEL_626ef1fd89764220b824ee22f1905d0f",
       "value": "<style>\n.cell-output-ipywidget-background {\n    background-color: transparent !important;\n}\n.jp-OutputArea-output {\n    background-color: transparent;\n}\npre {\n    color: var(--vscode-editor-foreground);\n    margin: 0;\n}\nvideo::-webkit-media-controls {\n  display: none;\n}\n</style>"
      }
     },
     "b7aa2cedc80043d9a97f011b36075970": {
      "model_module": "@jupyter-widgets/controls",
      "model_module_version": "2.0.0",
      "model_name": "IntSliderModel",
      "state": {
       "behavior": "drag-tap",
       "layout": "IPY_MODEL_ed68676f2c36466f95ae2fb218b4a584",
       "max": 206,
       "style": "IPY_MODEL_45d0b1a47bf54d8fb6772a8e10ca87d4",
       "value": 206
      }
     },
     "b8a164fa3e4749ef9c397ae13f92809e": {
      "model_module": "@jupyter-widgets/base",
      "model_module_version": "2.0.0",
      "model_name": "LayoutModel",
      "state": {}
     },
     "b9fdd1afcf4e46bead869d12cbf910e3": {
      "model_module": "@jupyter-widgets/base",
      "model_module_version": "2.0.0",
      "model_name": "LayoutModel",
      "state": {}
     },
     "bb838db1ed7f43c58f587aac667ce744": {
      "model_module": "@jupyter-widgets/controls",
      "model_module_version": "2.0.0",
      "model_name": "HBoxModel",
      "state": {
       "children": [
        "IPY_MODEL_c900f1f1daf44485a202ad1a4afa5b64",
        "IPY_MODEL_b78d1343c7e04fefa2176976b8b9cd4e"
       ],
       "layout": "IPY_MODEL_916d408f124b4abe95daefe8cd97b82f"
      }
     },
     "bf152dc426024232a15e3f15d3bc8cdb": {
      "model_module": "@jupyter-widgets/controls",
      "model_module_version": "2.0.0",
      "model_name": "ButtonModel",
      "state": {
       "description": "Reset (r)",
       "layout": "IPY_MODEL_b8a164fa3e4749ef9c397ae13f92809e",
       "style": "IPY_MODEL_a26e7ee7a35b4921849ea7bbea4bfdc9",
       "tooltip": null
      }
     },
     "c900f1f1daf44485a202ad1a4afa5b64": {
      "model_module": "jupyter-webrtc",
      "model_module_version": "~0.6.0",
      "model_name": "ImageStreamModel",
      "state": {
       "_view_count": 1,
       "image": "IPY_MODEL_d084449c773a4d549bf96e4b6f62a073",
       "layout": "IPY_MODEL_8cd449f4d26f49c8a1f76ed7c398d7b2"
      }
     },
     "d084449c773a4d549bf96e4b6f62a073": {
      "buffers": [
       {
        "data": "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",
        "encoding": "base64",
        "path": [
         "value"
        ]
       }
      ],
      "model_module": "@jupyter-widgets/controls",
      "model_module_version": "2.0.0",
      "model_name": "ImageModel",
      "state": {
       "layout": "IPY_MODEL_e6c0d9f8d00f4b679c6c9d9193ba7390"
      }
     },
     "d5036056d46b4c4f86cd95e127859274": {
      "model_module": "ipyevents",
      "model_module_version": "2.0.2",
      "model_name": "EventModel",
      "state": {
       "_supported_key_events": [
        "keydown",
        "keyup"
       ],
       "_supported_mouse_events": [
        "click",
        "auxclick",
        "dblclick",
        "mouseenter",
        "mouseleave",
        "mousedown",
        "mouseup",
        "mousemove",
        "wheel",
        "contextmenu",
        "dragstart",
        "drag",
        "dragend",
        "dragenter",
        "dragover",
        "dragleave",
        "drop"
       ],
       "_supported_touch_events": [
        "touchstart",
        "touchend",
        "touchmove",
        "touchcancel"
       ],
       "_view_module": "@jupyter-widgets/controls",
       "source": "IPY_MODEL_c900f1f1daf44485a202ad1a4afa5b64",
       "throttle_or_debounce": "",
       "watched_events": [
        "click",
        "keydown",
        "keyup",
        "mousemove"
       ],
       "xy_coordinate_system": ""
      }
     },
     "db596cf6c8e4460eac5ae1e3e921bceb": {
      "model_module": "@jupyter-widgets/base",
      "model_module_version": "2.0.0",
      "model_name": "LayoutModel",
      "state": {}
     },
     "de3d1312db7c4a5f9a696d71b7765425": {
      "model_module": "@jupyter-widgets/base",
      "model_module_version": "2.0.0",
      "model_name": "LayoutModel",
      "state": {}
     },
     "e6c0d9f8d00f4b679c6c9d9193ba7390": {
      "model_module": "@jupyter-widgets/base",
      "model_module_version": "2.0.0",
      "model_name": "LayoutModel",
      "state": {}
     },
     "ed68676f2c36466f95ae2fb218b4a584": {
      "model_module": "@jupyter-widgets/base",
      "model_module_version": "2.0.0",
      "model_name": "LayoutModel",
      "state": {}
     }
    },
    "version_major": 2,
    "version_minor": 0
   }
  }
 },
 "nbformat": 4,
 "nbformat_minor": 4
}
