{
 "cells": [
  {
   "cell_type": "code",
   "execution_count": 1,
   "metadata": {},
   "outputs": [],
   "source": [
    "from stanza.runtime import setup\n",
    "setup()"
   ]
  },
  {
   "cell_type": "code",
   "execution_count": 2,
   "metadata": {
    "scrolled": true
   },
   "outputs": [],
   "source": [
    "import jax.random\n",
    "\n",
    "from stanza.envs.pusht import PushTEnv, PositionControlTransform\n",
    "env = PushTEnv()\n",
    "env = PositionControlTransform().transform_env(env)\n",
    "def interactive_policy(mouse_pos):\n",
    "    return mouse_pos"
   ]
  },
  {
   "cell_type": "code",
   "execution_count": 3,
   "metadata": {},
   "outputs": [
    {
     "data": {
      "application/vnd.jupyter.widget-view+json": {
       "model_id": "1e5623fb3cd54ae883f10bbfe2ed876b",
       "version_major": 2,
       "version_minor": 0
      },
      "text/plain": [
       "HBox(children=(IntSlider(value=0, max=9), IntSlider(value=0, max=466)))"
      ]
     },
     "metadata": {},
     "output_type": "display_data"
    },
    {
     "data": {
      "application/vnd.jupyter.widget-view+json": {
       "model_id": "00813e929f2a48328c4a1ebbadaf983e",
       "version_major": 2,
       "version_minor": 0
      },
      "text/plain": [
       "HBox(children=(ImageStream(image=Image(value=b'\\x89PNG\\r\\n\\x1a\\n\\x00\\x00\\x00\\rIHDR\\x00\\x00\\x01\\x00\\x00\\x00\\x01…"
      ]
     },
     "metadata": {},
     "output_type": "display_data"
    },
    {
     "data": {
      "application/vnd.jupyter.widget-view+json": {
       "model_id": "7a77eea7781c43e98a34eecc030b7165",
       "version_major": 2,
       "version_minor": 0
      },
      "text/plain": [
       "HBox(children=(Button(description='Delete', style=ButtonStyle()), Button(description='Reset (r)', style=Button…"
      ]
     },
     "metadata": {},
     "output_type": "display_data"
    },
    {
     "data": {
      "application/vnd.jupyter.widget-view+json": {
       "model_id": "112b9d5adfc24a879da1ba83739c5b17",
       "version_major": 2,
       "version_minor": 0
      },
      "text/plain": [
       "Label(value='')"
      ]
     },
     "metadata": {},
     "output_type": "display_data"
    }
   ],
   "source": [
    "from stanza.policy.ipython import DemonstrationCollector\n",
    "from IPython.display import display\n",
    "\n",
    "collector = DemonstrationCollector(\"pusht_data.pkl\",\n",
    "    env, interactive_policy, 256, 256\n",
    ")\n",
    "display(collector)"
   ]
  },
  {
   "cell_type": "code",
   "execution_count": 4,
   "metadata": {},
   "outputs": [
    {
     "name": "stdout",
     "output_type": "stream",
     "text": [
      "[(PushTState(q=(466, 5), qd=(466, 5)), (466, 2)), (PushTState(q=(599, 5), qd=(599, 5)), (599, 2)), (PushTState(q=(524, 5), qd=(524, 5)), (524, 2)), (PushTState(q=(771, 5), qd=(771, 5)), (771, 2)), (PushTState(q=(285, 5), qd=(285, 5)), (285, 2)), (PushTState(q=(400, 5), qd=(400, 5)), (400, 2)), (PushTState(q=(373, 5), qd=(373, 5)), (373, 2)), (PushTState(q=(199, 5), qd=(199, 5)), (199, 2)), (PushTState(q=(427, 5), qd=(427, 5)), (427, 2)), (PushTState(q=(208, 5), qd=(208, 5)), (208, 2))]\n"
     ]
    }
   ],
   "source": [
    "print(jax.tree_util.tree_map(lambda x: x.shape, collector.demonstrations))"
   ]
  },
  {
   "cell_type": "code",
   "execution_count": 5,
   "metadata": {},
   "outputs": [],
   "source": [
    "#collector.save(collector.path)"
   ]
  },
  {
   "cell_type": "code",
   "execution_count": null,
   "metadata": {},
   "outputs": [],
   "source": []
  }
 ],
 "metadata": {
  "kernelspec": {
   "display_name": "Python 3 (ipykernel)",
   "language": "python",
   "name": "python3"
  },
  "language_info": {
   "codemirror_mode": {
    "name": "ipython",
    "version": 3
   },
   "file_extension": ".py",
   "mimetype": "text/x-python",
   "name": "python",
   "nbconvert_exporter": "python",
   "pygments_lexer": "ipython3",
   "version": "3.12.2"
  },
  "widgets": {
   "application/vnd.jupyter.widget-state+json": {
    "state": {
     "00813e929f2a48328c4a1ebbadaf983e": {
      "model_module": "@jupyter-widgets/controls",
      "model_module_version": "2.0.0",
      "model_name": "HBoxModel",
      "state": {
       "children": [
        "IPY_MODEL_8ab5fcaf69b5494fb209af00b8bed8f5",
        "IPY_MODEL_78cd26b13ed04ddb9571f0064fe59d6c"
       ],
       "layout": "IPY_MODEL_6ebd02a6f7e645aeb5c7b8402a18e3e5"
      }
     },
     "00eb77bb67d145b4bafde06084efec1c": {
      "model_module": "@jupyter-widgets/base",
      "model_module_version": "2.0.0",
      "model_name": "LayoutModel",
      "state": {}
     },
     "104447cfa53e42b2b062b753f5605f1f": {
      "model_module": "@jupyter-widgets/base",
      "model_module_version": "2.0.0",
      "model_name": "LayoutModel",
      "state": {}
     },
     "112b9d5adfc24a879da1ba83739c5b17": {
      "model_module": "@jupyter-widgets/controls",
      "model_module_version": "2.0.0",
      "model_name": "LabelModel",
      "state": {
       "layout": "IPY_MODEL_15ce7bf9dc6f4f4fb820dbccab512804",
       "style": "IPY_MODEL_8fdd0125bf044231a7eafcb666800078"
      }
     },
     "15ce7bf9dc6f4f4fb820dbccab512804": {
      "model_module": "@jupyter-widgets/base",
      "model_module_version": "2.0.0",
      "model_name": "LayoutModel",
      "state": {}
     },
     "1a32daf24d2f4bc7b188af483196a55d": {
      "model_module": "@jupyter-widgets/controls",
      "model_module_version": "2.0.0",
      "model_name": "SliderStyleModel",
      "state": {
       "description_width": ""
      }
     },
     "1bc47a2241734e1f9bef2f976bfe5ac2": {
      "model_module": "@jupyter-widgets/controls",
      "model_module_version": "2.0.0",
      "model_name": "ButtonModel",
      "state": {
       "description": "Save",
       "layout": "IPY_MODEL_c90bc14c20294dd1af0e7449ebddadcb",
       "style": "IPY_MODEL_d2d676c3513942abb35189e30c4c82dd",
       "tooltip": null
      }
     },
     "1e5623fb3cd54ae883f10bbfe2ed876b": {
      "model_module": "@jupyter-widgets/controls",
      "model_module_version": "2.0.0",
      "model_name": "HBoxModel",
      "state": {
       "children": [
        "IPY_MODEL_3ac421f103814a8da8940588bf2d9667",
        "IPY_MODEL_5b2b860978514d998c7dbc7a3be7ff74"
       ],
       "layout": "IPY_MODEL_e3bb7f2ad5a04b529d7611489467b1c5"
      }
     },
     "255b9a002dab41ec8cd91e79ffebde6b": {
      "model_module": "@jupyter-widgets/controls",
      "model_module_version": "2.0.0",
      "model_name": "ButtonStyleModel",
      "state": {
       "font_family": null,
       "font_size": null,
       "font_style": null,
       "font_variant": null,
       "font_weight": null,
       "text_color": null,
       "text_decoration": null
      }
     },
     "2e5a64c88ef24fbeb7325629580be9eb": {
      "model_module": "@jupyter-widgets/controls",
      "model_module_version": "2.0.0",
      "model_name": "ButtonModel",
      "state": {
       "description": "Trim",
       "layout": "IPY_MODEL_104447cfa53e42b2b062b753f5605f1f",
       "style": "IPY_MODEL_255b9a002dab41ec8cd91e79ffebde6b",
       "tooltip": null
      }
     },
     "39ab7a7ce0774551a67aa0e5fa0f4987": {
      "model_module": "@jupyter-widgets/base",
      "model_module_version": "2.0.0",
      "model_name": "LayoutModel",
      "state": {}
     },
     "3ac421f103814a8da8940588bf2d9667": {
      "model_module": "@jupyter-widgets/controls",
      "model_module_version": "2.0.0",
      "model_name": "IntSliderModel",
      "state": {
       "behavior": "drag-tap",
       "layout": "IPY_MODEL_897427680d8340fe816a0cb6aab5c2d7",
       "max": 10,
       "style": "IPY_MODEL_1a32daf24d2f4bc7b188af483196a55d",
       "value": 10
      }
     },
     "4ea95e614d244895b86b1021d0f39623": {
      "model_module": "@jupyter-widgets/base",
      "model_module_version": "2.0.0",
      "model_name": "LayoutModel",
      "state": {}
     },
     "4ed49f73275747d1bb217d9410d05d17": {
      "model_module": "@jupyter-widgets/controls",
      "model_module_version": "2.0.0",
      "model_name": "ButtonModel",
      "state": {
       "description": "Delete",
       "layout": "IPY_MODEL_a6b8def5d34b441d99b6a027ed0f2a47",
       "style": "IPY_MODEL_7a9033baa09b49e3bfb0cfaaa0d56fa6",
       "tooltip": null
      }
     },
     "5b2b860978514d998c7dbc7a3be7ff74": {
      "model_module": "@jupyter-widgets/controls",
      "model_module_version": "2.0.0",
      "model_name": "IntSliderModel",
      "state": {
       "behavior": "drag-tap",
       "layout": "IPY_MODEL_39ab7a7ce0774551a67aa0e5fa0f4987",
       "max": 123,
       "style": "IPY_MODEL_ff764b29cf894bd29f3336beaba377dd",
       "value": 123
      }
     },
     "6ebd02a6f7e645aeb5c7b8402a18e3e5": {
      "model_module": "@jupyter-widgets/base",
      "model_module_version": "2.0.0",
      "model_name": "LayoutModel",
      "state": {}
     },
     "7219bbda303f4540beb514e8c3a7dca9": {
      "model_module": "ipyevents",
      "model_module_version": "2.0.2",
      "model_name": "EventModel",
      "state": {
       "_supported_key_events": [
        "keydown",
        "keyup"
       ],
       "_supported_mouse_events": [
        "click",
        "auxclick",
        "dblclick",
        "mouseenter",
        "mouseleave",
        "mousedown",
        "mouseup",
        "mousemove",
        "wheel",
        "contextmenu",
        "dragstart",
        "drag",
        "dragend",
        "dragenter",
        "dragover",
        "dragleave",
        "drop"
       ],
       "_supported_touch_events": [
        "touchstart",
        "touchend",
        "touchmove",
        "touchcancel"
       ],
       "_view_module": "@jupyter-widgets/controls",
       "source": "IPY_MODEL_8ab5fcaf69b5494fb209af00b8bed8f5",
       "throttle_or_debounce": "",
       "watched_events": [
        "click",
        "keydown",
        "keyup",
        "mousemove"
       ],
       "xy_coordinate_system": ""
      }
     },
     "78cd26b13ed04ddb9571f0064fe59d6c": {
      "model_module": "@jupyter-widgets/controls",
      "model_module_version": "2.0.0",
      "model_name": "HTMLModel",
      "state": {
       "layout": "IPY_MODEL_b206cd33006e42069457e874cc116a1a",
       "style": "IPY_MODEL_fe932d9531cd4044b2e6f7b04a15611c",
       "value": "<style>\n.cell-output-ipywidget-background {\n    background-color: transparent !important;\n}\n.jp-OutputArea-output {\n    background-color: transparent;\n}\npre {\n    color: var(--vscode-editor-foreground);\n    margin: 0;\n}\nvideo::-webkit-media-controls {\n  display: none;\n}\n</style>"
      }
     },
     "7a61c10df4d748b5b68813f4fdef95b1": {
      "model_module": "@jupyter-widgets/base",
      "model_module_version": "2.0.0",
      "model_name": "LayoutModel",
      "state": {}
     },
     "7a77eea7781c43e98a34eecc030b7165": {
      "model_module": "@jupyter-widgets/controls",
      "model_module_version": "2.0.0",
      "model_name": "HBoxModel",
      "state": {
       "children": [
        "IPY_MODEL_4ed49f73275747d1bb217d9410d05d17",
        "IPY_MODEL_8516e65eec71408c8ae5d5b8a8d7cf9b",
        "IPY_MODEL_d62d5b0255884f499f8be240e0d85bd8",
        "IPY_MODEL_2e5a64c88ef24fbeb7325629580be9eb",
        "IPY_MODEL_1bc47a2241734e1f9bef2f976bfe5ac2"
       ],
       "layout": "IPY_MODEL_7a61c10df4d748b5b68813f4fdef95b1"
      }
     },
     "7a9033baa09b49e3bfb0cfaaa0d56fa6": {
      "model_module": "@jupyter-widgets/controls",
      "model_module_version": "2.0.0",
      "model_name": "ButtonStyleModel",
      "state": {
       "font_family": null,
       "font_size": null,
       "font_style": null,
       "font_variant": null,
       "font_weight": null,
       "text_color": null,
       "text_decoration": null
      }
     },
     "83ca499a70b246e398f02befbf263189": {
      "model_module": "@jupyter-widgets/controls",
      "model_module_version": "2.0.0",
      "model_name": "ButtonStyleModel",
      "state": {
       "font_family": null,
       "font_size": null,
       "font_style": null,
       "font_variant": null,
       "font_weight": null,
       "text_color": null,
       "text_decoration": null
      }
     },
     "8516e65eec71408c8ae5d5b8a8d7cf9b": {
      "model_module": "@jupyter-widgets/controls",
      "model_module_version": "2.0.0",
      "model_name": "ButtonModel",
      "state": {
       "description": "Reset (r)",
       "layout": "IPY_MODEL_c08c2af1330b467a9e677e385643c98c",
       "style": "IPY_MODEL_83ca499a70b246e398f02befbf263189",
       "tooltip": null
      }
     },
     "897427680d8340fe816a0cb6aab5c2d7": {
      "model_module": "@jupyter-widgets/base",
      "model_module_version": "2.0.0",
      "model_name": "LayoutModel",
      "state": {}
     },
     "8ab5fcaf69b5494fb209af00b8bed8f5": {
      "model_module": "jupyter-webrtc",
      "model_module_version": "~0.6.0",
      "model_name": "ImageStreamModel",
      "state": {
       "_view_count": 1,
       "image": "IPY_MODEL_f0573323c663460a82764f11c6f7ff6f",
       "layout": "IPY_MODEL_c948052b2802458a82a6c70847f43f87"
      }
     },
     "8fdd0125bf044231a7eafcb666800078": {
      "model_module": "@jupyter-widgets/controls",
      "model_module_version": "2.0.0",
      "model_name": "LabelStyleModel",
      "state": {
       "description_width": "",
       "font_family": null,
       "font_size": null,
       "font_style": null,
       "font_variant": null,
       "font_weight": null,
       "text_color": null,
       "text_decoration": null
      }
     },
     "a6b8def5d34b441d99b6a027ed0f2a47": {
      "model_module": "@jupyter-widgets/base",
      "model_module_version": "2.0.0",
      "model_name": "LayoutModel",
      "state": {}
     },
     "b206cd33006e42069457e874cc116a1a": {
      "model_module": "@jupyter-widgets/base",
      "model_module_version": "2.0.0",
      "model_name": "LayoutModel",
      "state": {}
     },
     "c08c2af1330b467a9e677e385643c98c": {
      "model_module": "@jupyter-widgets/base",
      "model_module_version": "2.0.0",
      "model_name": "LayoutModel",
      "state": {}
     },
     "c90bc14c20294dd1af0e7449ebddadcb": {
      "model_module": "@jupyter-widgets/base",
      "model_module_version": "2.0.0",
      "model_name": "LayoutModel",
      "state": {}
     },
     "c948052b2802458a82a6c70847f43f87": {
      "model_module": "@jupyter-widgets/base",
      "model_module_version": "2.0.0",
      "model_name": "LayoutModel",
      "state": {}
     },
     "ce4ec67bc85b40d1a5cf44a1e737c354": {
      "model_module": "@jupyter-widgets/controls",
      "model_module_version": "2.0.0",
      "model_name": "ButtonStyleModel",
      "state": {
       "font_family": null,
       "font_size": null,
       "font_style": null,
       "font_variant": null,
       "font_weight": null,
       "text_color": null,
       "text_decoration": null
      }
     },
     "d2d676c3513942abb35189e30c4c82dd": {
      "model_module": "@jupyter-widgets/controls",
      "model_module_version": "2.0.0",
      "model_name": "ButtonStyleModel",
      "state": {
       "font_family": null,
       "font_size": null,
       "font_style": null,
       "font_variant": null,
       "font_weight": null,
       "text_color": null,
       "text_decoration": null
      }
     },
     "d62d5b0255884f499f8be240e0d85bd8": {
      "model_module": "@jupyter-widgets/controls",
      "model_module_version": "2.0.0",
      "model_name": "ButtonModel",
      "state": {
       "description": "Collect (c)",
       "layout": "IPY_MODEL_00eb77bb67d145b4bafde06084efec1c",
       "style": "IPY_MODEL_ce4ec67bc85b40d1a5cf44a1e737c354",
       "tooltip": null
      }
     },
     "e3bb7f2ad5a04b529d7611489467b1c5": {
      "model_module": "@jupyter-widgets/base",
      "model_module_version": "2.0.0",
      "model_name": "LayoutModel",
      "state": {}
     },
     "f0573323c663460a82764f11c6f7ff6f": {
      "buffers": [
       {
        "data": "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",
        "encoding": "base64",
        "path": [
         "value"
        ]
       }
      ],
      "model_module": "@jupyter-widgets/controls",
      "model_module_version": "2.0.0",
      "model_name": "ImageModel",
      "state": {
       "layout": "IPY_MODEL_4ea95e614d244895b86b1021d0f39623"
      }
     },
     "fe932d9531cd4044b2e6f7b04a15611c": {
      "model_module": "@jupyter-widgets/controls",
      "model_module_version": "2.0.0",
      "model_name": "HTMLStyleModel",
      "state": {
       "description_width": "",
       "font_size": null,
       "text_color": null
      }
     },
     "ff764b29cf894bd29f3336beaba377dd": {
      "model_module": "@jupyter-widgets/controls",
      "model_module_version": "2.0.0",
      "model_name": "SliderStyleModel",
      "state": {
       "description_width": ""
      }
     }
    },
    "version_major": 2,
    "version_minor": 0
   }
  }
 },
 "nbformat": 4,
 "nbformat_minor": 4
}
