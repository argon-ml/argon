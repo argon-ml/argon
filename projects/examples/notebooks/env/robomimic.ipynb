{
 "cells": [
  {
   "cell_type": "code",
   "execution_count": 1,
   "metadata": {},
   "outputs": [],
   "source": [
    "from stanza.runtime import setup\n",
    "setup()"
   ]
  },
  {
   "cell_type": "code",
   "execution_count": 2,
   "metadata": {
    "scrolled": true
   },
   "outputs": [
    {
     "name": "stderr",
     "output_type": "stream",
     "text": [
      "\u001b[1m\u001b[33m[robosuite WARNING] \u001b[0mNo private macro file found! (macros.py:53)\n"
     ]
    },
    {
     "name": "stdout",
     "output_type": "stream",
     "text": [
      "\u001b[2;36m[16:31:34]\u001b[0m\u001b[2;36m \u001b[0m\u001b[31mWARNING \u001b[0m robosuite_logs - No private macro file found!\n"
     ]
    },
    {
     "name": "stderr",
     "output_type": "stream",
     "text": [
      "\u001b[1m\u001b[33m[robosuite WARNING] \u001b[0mIt is recommended to use a private macro file (macros.py:54)\n"
     ]
    },
    {
     "name": "stdout",
     "output_type": "stream",
     "text": [
      "\u001b[2;36m          \u001b[0m\u001b[2;36m \u001b[0m\u001b[31mWARNING \u001b[0m robosuite_logs - It is recommended to use a private macro   \n",
      "\u001b[2;36m           \u001b[0m         file                                                        \n"
     ]
    },
    {
     "name": "stderr",
     "output_type": "stream",
     "text": [
      "\u001b[1m\u001b[33m[robosuite WARNING] \u001b[0mTo setup, run: python /Users/chryu/stanza/stanza/.venv/lib/python3.12/site-packages/robosuite/scripts/setup_macros.py (macros.py:55)\n"
     ]
    },
    {
     "name": "stdout",
     "output_type": "stream",
     "text": [
      "\u001b[2;36m          \u001b[0m\u001b[2;36m \u001b[0m\u001b[31mWARNING \u001b[0m robosuite_logs - To setup, run: python                      \n",
      "\u001b[2;36m           \u001b[0m         \u001b[35m/Users/chryu/stanza/stanza/.venv/lib/python3.12/site-package\u001b[0m\n",
      "\u001b[2;36m           \u001b[0m         \u001b[35ms/robosuite/scripts/\u001b[0m\u001b[95msetup_macros.py\u001b[0m                         \n"
     ]
    },
    {
     "name": "stderr",
     "output_type": "stream",
     "text": [
      "/Users/chryu/stanza/stanza/.venv/lib/python3.12/site-packages/jax/_src/compiler.py:644: UserWarning: Error reading persistent compilation cache entry for 'jit_convert_element_type': AttributeError: 'PosixPath' object has no attribute 'startswith'\n",
      "  warnings.warn(\n"
     ]
    },
    {
     "ename": "TypeError",
     "evalue": "non-default argument 'task' follows default argument",
     "output_type": "error",
     "traceback": [
      "\u001b[0;31m---------------------------------------------------------------------------\u001b[0m",
      "\u001b[0;31mTypeError\u001b[0m                                 Traceback (most recent call last)",
      "Cell \u001b[0;32mIn[2], line 5\u001b[0m\n\u001b[1;32m      2\u001b[0m \u001b[38;5;28;01mfrom\u001b[39;00m \u001b[38;5;21;01mjax\u001b[39;00m\u001b[38;5;21;01m.\u001b[39;00m\u001b[38;5;21;01mrandom\u001b[39;00m \u001b[38;5;28;01mimport\u001b[39;00m PRNGKey\n\u001b[1;32m      3\u001b[0m \u001b[38;5;28;01mimport\u001b[39;00m \u001b[38;5;21;01mjax\u001b[39;00m\u001b[38;5;21;01m.\u001b[39;00m\u001b[38;5;21;01mnumpy\u001b[39;00m \u001b[38;5;28;01mas\u001b[39;00m \u001b[38;5;21;01mjnp\u001b[39;00m\n\u001b[0;32m----> 5\u001b[0m \u001b[38;5;28;01mfrom\u001b[39;00m \u001b[38;5;21;01mstanza\u001b[39;00m\u001b[38;5;21;01m.\u001b[39;00m\u001b[38;5;21;01menv\u001b[39;00m\u001b[38;5;21;01m.\u001b[39;00m\u001b[38;5;21;01mmujoco\u001b[39;00m\u001b[38;5;21;01m.\u001b[39;00m\u001b[38;5;21;01mrobomimic\u001b[39;00m \u001b[38;5;28;01mimport\u001b[39;00m RobomimicEnv, RobomimicState\n\u001b[1;32m      6\u001b[0m \u001b[38;5;28;01mfrom\u001b[39;00m \u001b[38;5;21;01mstanza\u001b[39;00m\u001b[38;5;21;01m.\u001b[39;00m\u001b[38;5;21;01mdatasets\u001b[39;00m\u001b[38;5;21;01m.\u001b[39;00m\u001b[38;5;21;01mrobomimic\u001b[39;00m \u001b[38;5;28;01mimport\u001b[39;00m load_robomimic_dataset\n\u001b[1;32m      8\u001b[0m task \u001b[38;5;241m=\u001b[39m \u001b[38;5;124m\"\u001b[39m\u001b[38;5;124mlift\u001b[39m\u001b[38;5;124m\"\u001b[39m\n",
      "File \u001b[0;32m~/stanza/stanza/packages/stanza/src/stanza/env/mujoco/robomimic.py:351\u001b[0m\n\u001b[1;32m     22\u001b[0m \u001b[38;5;28;01mfrom\u001b[39;00m \u001b[38;5;21;01mjax\u001b[39;00m\u001b[38;5;21;01m.\u001b[39;00m\u001b[38;5;21;01mrandom\u001b[39;00m \u001b[38;5;28;01mimport\u001b[39;00m PRNGKey\n\u001b[1;32m     24\u001b[0m XML \u001b[38;5;241m=\u001b[39m \u001b[38;5;124m\"\"\"\u001b[39m\n\u001b[1;32m     25\u001b[0m \u001b[38;5;124m<mujoco model=\u001b[39m\u001b[38;5;124m\"\u001b[39m\u001b[38;5;124mbase\u001b[39m\u001b[38;5;124m\"\u001b[39m\u001b[38;5;124m>\u001b[39m\n\u001b[1;32m     26\u001b[0m \u001b[38;5;124m\t<compiler angle=\u001b[39m\u001b[38;5;124m\"\u001b[39m\u001b[38;5;124mradian\u001b[39m\u001b[38;5;124m\"\u001b[39m\u001b[38;5;124m meshdir=\u001b[39m\u001b[38;5;124m\"\u001b[39m\u001b[38;5;124mmeshes/\u001b[39m\u001b[38;5;124m\"\u001b[39m\u001b[38;5;124m inertiagrouprange=\u001b[39m\u001b[38;5;124m\"\u001b[39m\u001b[38;5;124m0 0\u001b[39m\u001b[38;5;124m\"\u001b[39m\u001b[38;5;124m autolimits=\u001b[39m\u001b[38;5;124m\"\u001b[39m\u001b[38;5;124mtrue\u001b[39m\u001b[38;5;124m\"\u001b[39m\u001b[38;5;124m />\u001b[39m\n\u001b[0;32m   (...)\u001b[0m\n\u001b[1;32m    347\u001b[0m \u001b[38;5;124m</mujoco>\u001b[39m\n\u001b[1;32m    348\u001b[0m \u001b[38;5;124m\"\"\"\u001b[39m\n\u001b[0;32m--> 351\u001b[0m \u001b[38;5;129;43m@dataclass\u001b[39;49m\n\u001b[1;32m    352\u001b[0m \u001b[38;5;28;43;01mclass\u001b[39;49;00m\u001b[43m \u001b[49m\u001b[38;5;21;43;01mRobomimicEnv\u001b[39;49;00m\u001b[43m(\u001b[49m\u001b[43mMujocoEnvironment\u001b[49m\u001b[43m)\u001b[49m\u001b[43m:\u001b[49m\n\u001b[1;32m    353\u001b[0m \u001b[43m    \u001b[49m\u001b[43mtask\u001b[49m\u001b[43m:\u001b[49m\u001b[43m \u001b[49m\u001b[38;5;28;43mstr\u001b[39;49m\u001b[43m \u001b[49m\u001b[38;5;241;43m=\u001b[39;49m\u001b[43m \u001b[49m\u001b[43mfield\u001b[49m\u001b[43m(\u001b[49m\u001b[43mpytree_node\u001b[49m\u001b[38;5;241;43m=\u001b[39;49m\u001b[38;5;28;43;01mFalse\u001b[39;49;00m\u001b[43m)\u001b[49m\n\u001b[1;32m    354\u001b[0m \u001b[43m    \u001b[49m\u001b[43mdataset_type\u001b[49m\u001b[43m:\u001b[49m\u001b[43m \u001b[49m\u001b[38;5;28;43mstr\u001b[39;49m\u001b[43m \u001b[49m\u001b[38;5;241;43m=\u001b[39;49m\u001b[43m \u001b[49m\u001b[43mfield\u001b[49m\u001b[43m(\u001b[49m\u001b[43mpytree_node\u001b[49m\u001b[38;5;241;43m=\u001b[39;49m\u001b[38;5;28;43;01mFalse\u001b[39;49;00m\u001b[43m)\u001b[49m\n",
      "File \u001b[0;32m~/stanza/stanza/packages/stanza/src/stanza/dataclasses.py:13\u001b[0m, in \u001b[0;36mdataclass\u001b[0;34m(cls, **kwargs)\u001b[0m\n\u001b[1;32m     11\u001b[0m \u001b[38;5;28;01mif\u001b[39;00m \u001b[38;5;28mcls\u001b[39m \u001b[38;5;129;01mis\u001b[39;00m \u001b[38;5;28;01mNone\u001b[39;00m:\n\u001b[1;32m     12\u001b[0m     \u001b[38;5;28;01mreturn\u001b[39;00m partial(dataclass, \u001b[38;5;241m*\u001b[39m\u001b[38;5;241m*\u001b[39mkwargs)\n\u001b[0;32m---> 13\u001b[0m \u001b[38;5;28mcls\u001b[39m \u001b[38;5;241m=\u001b[39m \u001b[43mdcls\u001b[49m\u001b[38;5;241;43m.\u001b[39;49m\u001b[43mdataclass\u001b[49m\u001b[43m(\u001b[49m\u001b[43mfrozen\u001b[49m\u001b[38;5;241;43m=\u001b[39;49m\u001b[38;5;28;43;01mTrue\u001b[39;49;00m\u001b[43m,\u001b[49m\u001b[43m \u001b[49m\u001b[43munsafe_hash\u001b[49m\u001b[38;5;241;43m=\u001b[39;49m\u001b[38;5;28;43;01mTrue\u001b[39;49;00m\u001b[43m,\u001b[49m\u001b[43m \u001b[49m\u001b[38;5;241;43m*\u001b[39;49m\u001b[38;5;241;43m*\u001b[39;49m\u001b[43mkwargs\u001b[49m\u001b[43m)\u001b[49m\u001b[43m(\u001b[49m\u001b[38;5;28;43mcls\u001b[39;49m\u001b[43m)\u001b[49m\n\u001b[1;32m     14\u001b[0m fields \u001b[38;5;241m=\u001b[39m dcls\u001b[38;5;241m.\u001b[39mfields(\u001b[38;5;28mcls\u001b[39m)\n\u001b[1;32m     15\u001b[0m data_fields \u001b[38;5;241m=\u001b[39m [f\u001b[38;5;241m.\u001b[39mname \u001b[38;5;28;01mfor\u001b[39;00m f \u001b[38;5;129;01min\u001b[39;00m fields \u001b[38;5;28;01mif\u001b[39;00m (\u001b[38;5;129;01mnot\u001b[39;00m f\u001b[38;5;241m.\u001b[39mmetadata) \u001b[38;5;129;01mand\u001b[39;00m f\u001b[38;5;241m.\u001b[39mmetadata\u001b[38;5;241m.\u001b[39mget(\u001b[38;5;124m'\u001b[39m\u001b[38;5;124mpytree_node\u001b[39m\u001b[38;5;124m'\u001b[39m, \u001b[38;5;28;01mTrue\u001b[39;00m)]\n",
      "File \u001b[0;32m~/Library/Application Support/pdm/python/cpython@3.12.3/lib/python3.12/dataclasses.py:1258\u001b[0m, in \u001b[0;36mdataclass.<locals>.wrap\u001b[0;34m(cls)\u001b[0m\n\u001b[1;32m   1257\u001b[0m \u001b[38;5;28;01mdef\u001b[39;00m \u001b[38;5;21mwrap\u001b[39m(\u001b[38;5;28mcls\u001b[39m):\n\u001b[0;32m-> 1258\u001b[0m     \u001b[38;5;28;01mreturn\u001b[39;00m \u001b[43m_process_class\u001b[49m\u001b[43m(\u001b[49m\u001b[38;5;28;43mcls\u001b[39;49m\u001b[43m,\u001b[49m\u001b[43m \u001b[49m\u001b[43minit\u001b[49m\u001b[43m,\u001b[49m\u001b[43m \u001b[49m\u001b[38;5;28;43mrepr\u001b[39;49m\u001b[43m,\u001b[49m\u001b[43m \u001b[49m\u001b[43meq\u001b[49m\u001b[43m,\u001b[49m\u001b[43m \u001b[49m\u001b[43morder\u001b[49m\u001b[43m,\u001b[49m\u001b[43m \u001b[49m\u001b[43munsafe_hash\u001b[49m\u001b[43m,\u001b[49m\n\u001b[1;32m   1259\u001b[0m \u001b[43m                          \u001b[49m\u001b[43mfrozen\u001b[49m\u001b[43m,\u001b[49m\u001b[43m \u001b[49m\u001b[43mmatch_args\u001b[49m\u001b[43m,\u001b[49m\u001b[43m \u001b[49m\u001b[43mkw_only\u001b[49m\u001b[43m,\u001b[49m\u001b[43m \u001b[49m\u001b[43mslots\u001b[49m\u001b[43m,\u001b[49m\n\u001b[1;32m   1260\u001b[0m \u001b[43m                          \u001b[49m\u001b[43mweakref_slot\u001b[49m\u001b[43m)\u001b[49m\n",
      "File \u001b[0;32m~/Library/Application Support/pdm/python/cpython@3.12.3/lib/python3.12/dataclasses.py:1063\u001b[0m, in \u001b[0;36m_process_class\u001b[0;34m(cls, init, repr, eq, order, unsafe_hash, frozen, match_args, kw_only, slots, weakref_slot)\u001b[0m\n\u001b[1;32m   1058\u001b[0m \u001b[38;5;28;01mif\u001b[39;00m init:\n\u001b[1;32m   1059\u001b[0m     \u001b[38;5;66;03m# Does this class have a post-init function?\u001b[39;00m\n\u001b[1;32m   1060\u001b[0m     has_post_init \u001b[38;5;241m=\u001b[39m \u001b[38;5;28mhasattr\u001b[39m(\u001b[38;5;28mcls\u001b[39m, _POST_INIT_NAME)\n\u001b[1;32m   1062\u001b[0m     _set_new_attribute(\u001b[38;5;28mcls\u001b[39m, \u001b[38;5;124m'\u001b[39m\u001b[38;5;124m__init__\u001b[39m\u001b[38;5;124m'\u001b[39m,\n\u001b[0;32m-> 1063\u001b[0m                        \u001b[43m_init_fn\u001b[49m\u001b[43m(\u001b[49m\u001b[43mall_init_fields\u001b[49m\u001b[43m,\u001b[49m\n\u001b[1;32m   1064\u001b[0m \u001b[43m                                \u001b[49m\u001b[43mstd_init_fields\u001b[49m\u001b[43m,\u001b[49m\n\u001b[1;32m   1065\u001b[0m \u001b[43m                                \u001b[49m\u001b[43mkw_only_init_fields\u001b[49m\u001b[43m,\u001b[49m\n\u001b[1;32m   1066\u001b[0m \u001b[43m                                \u001b[49m\u001b[43mfrozen\u001b[49m\u001b[43m,\u001b[49m\n\u001b[1;32m   1067\u001b[0m \u001b[43m                                \u001b[49m\u001b[43mhas_post_init\u001b[49m\u001b[43m,\u001b[49m\n\u001b[1;32m   1068\u001b[0m \u001b[43m                                \u001b[49m\u001b[38;5;66;43;03m# The name to use for the \"self\"\u001b[39;49;00m\n\u001b[1;32m   1069\u001b[0m \u001b[43m                                \u001b[49m\u001b[38;5;66;43;03m# param in __init__.  Use \"self\"\u001b[39;49;00m\n\u001b[1;32m   1070\u001b[0m \u001b[43m                                \u001b[49m\u001b[38;5;66;43;03m# if possible.\u001b[39;49;00m\n\u001b[1;32m   1071\u001b[0m \u001b[43m                                \u001b[49m\u001b[38;5;124;43m'\u001b[39;49m\u001b[38;5;124;43m__dataclass_self__\u001b[39;49m\u001b[38;5;124;43m'\u001b[39;49m\u001b[43m \u001b[49m\u001b[38;5;28;43;01mif\u001b[39;49;00m\u001b[43m \u001b[49m\u001b[38;5;124;43m'\u001b[39;49m\u001b[38;5;124;43mself\u001b[39;49m\u001b[38;5;124;43m'\u001b[39;49m\u001b[43m \u001b[49m\u001b[38;5;129;43;01min\u001b[39;49;00m\u001b[43m \u001b[49m\u001b[43mfields\u001b[49m\n\u001b[1;32m   1072\u001b[0m \u001b[43m                                        \u001b[49m\u001b[38;5;28;43;01melse\u001b[39;49;00m\u001b[43m \u001b[49m\u001b[38;5;124;43m'\u001b[39;49m\u001b[38;5;124;43mself\u001b[39;49m\u001b[38;5;124;43m'\u001b[39;49m\u001b[43m,\u001b[49m\n\u001b[1;32m   1073\u001b[0m \u001b[43m                                \u001b[49m\u001b[38;5;28;43mglobals\u001b[39;49m\u001b[43m,\u001b[49m\n\u001b[1;32m   1074\u001b[0m \u001b[43m                                \u001b[49m\u001b[43mslots\u001b[49m\u001b[43m,\u001b[49m\n\u001b[1;32m   1075\u001b[0m \u001b[43m                      \u001b[49m\u001b[43m)\u001b[49m)\n\u001b[1;32m   1077\u001b[0m \u001b[38;5;66;03m# Get the fields as a list, and include only real fields.  This is\u001b[39;00m\n\u001b[1;32m   1078\u001b[0m \u001b[38;5;66;03m# used in all of the following methods.\u001b[39;00m\n\u001b[1;32m   1079\u001b[0m field_list \u001b[38;5;241m=\u001b[39m [f \u001b[38;5;28;01mfor\u001b[39;00m f \u001b[38;5;129;01min\u001b[39;00m fields\u001b[38;5;241m.\u001b[39mvalues() \u001b[38;5;28;01mif\u001b[39;00m f\u001b[38;5;241m.\u001b[39m_field_type \u001b[38;5;129;01mis\u001b[39;00m _FIELD]\n",
      "File \u001b[0;32m~/Library/Application Support/pdm/python/cpython@3.12.3/lib/python3.12/dataclasses.py:585\u001b[0m, in \u001b[0;36m_init_fn\u001b[0;34m(fields, std_fields, kw_only_fields, frozen, has_post_init, self_name, globals, slots)\u001b[0m\n\u001b[1;32m    583\u001b[0m             seen_default \u001b[38;5;241m=\u001b[39m \u001b[38;5;28;01mTrue\u001b[39;00m\n\u001b[1;32m    584\u001b[0m         \u001b[38;5;28;01melif\u001b[39;00m seen_default:\n\u001b[0;32m--> 585\u001b[0m             \u001b[38;5;28;01mraise\u001b[39;00m \u001b[38;5;167;01mTypeError\u001b[39;00m(\u001b[38;5;124mf\u001b[39m\u001b[38;5;124m'\u001b[39m\u001b[38;5;124mnon-default argument \u001b[39m\u001b[38;5;132;01m{\u001b[39;00mf\u001b[38;5;241m.\u001b[39mname\u001b[38;5;132;01m!r}\u001b[39;00m\u001b[38;5;124m \u001b[39m\u001b[38;5;124m'\u001b[39m\n\u001b[1;32m    586\u001b[0m                             \u001b[38;5;124m'\u001b[39m\u001b[38;5;124mfollows default argument\u001b[39m\u001b[38;5;124m'\u001b[39m)\n\u001b[1;32m    588\u001b[0m \u001b[38;5;28mlocals\u001b[39m \u001b[38;5;241m=\u001b[39m {\u001b[38;5;124mf\u001b[39m\u001b[38;5;124m'\u001b[39m\u001b[38;5;124m__dataclass_type_\u001b[39m\u001b[38;5;132;01m{\u001b[39;00mf\u001b[38;5;241m.\u001b[39mname\u001b[38;5;132;01m}\u001b[39;00m\u001b[38;5;124m__\u001b[39m\u001b[38;5;124m'\u001b[39m: f\u001b[38;5;241m.\u001b[39mtype \u001b[38;5;28;01mfor\u001b[39;00m f \u001b[38;5;129;01min\u001b[39;00m fields}\n\u001b[1;32m    589\u001b[0m \u001b[38;5;28mlocals\u001b[39m\u001b[38;5;241m.\u001b[39mupdate({\n\u001b[1;32m    590\u001b[0m     \u001b[38;5;124m'\u001b[39m\u001b[38;5;124m__dataclass_HAS_DEFAULT_FACTORY__\u001b[39m\u001b[38;5;124m'\u001b[39m: _HAS_DEFAULT_FACTORY,\n\u001b[1;32m    591\u001b[0m     \u001b[38;5;124m'\u001b[39m\u001b[38;5;124m__dataclass_builtins_object__\u001b[39m\u001b[38;5;124m'\u001b[39m: \u001b[38;5;28mobject\u001b[39m,\n\u001b[1;32m    592\u001b[0m })\n",
      "\u001b[0;31mTypeError\u001b[0m: non-default argument 'task' follows default argument"
     ]
    }
   ],
   "source": [
    "import jax.random\n",
    "from jax.random import PRNGKey\n",
    "import jax.numpy as jnp\n",
    "\n",
    "from stanza.env.mujoco.robomimic import RobomimicEnv, RobomimicState\n",
    "from stanza.datasets.robomimic import load_robomimic_dataset\n",
    "\n",
    "task = \"lift\"\n",
    "dataset_type = \"ph\"\n",
    "env_meta, dataset = load_robomimic_dataset(task, dataset_type)\n"
   ]
  },
  {
   "cell_type": "code",
   "execution_count": null,
   "metadata": {},
   "outputs": [],
   "source": [
    "env = RobomimicEnv(task, dataset_type, env_meta)\n",
    "state = RobomimicState(jnp.zeros((16,)), jnp.zeros((15,)))\n",
    "state = env.full_state(state)\n",
    "env.render(None,state)"
   ]
  },
  {
   "cell_type": "code",
   "execution_count": null,
   "metadata": {},
   "outputs": [],
   "source": [
    "from stanza.policy.ipython import DemonstrationCollector\n",
    "from stanza.data import PyTreeData\n",
    "from stanza.data.sequence import SequenceData\n",
    "from IPython.display import display\n",
    "\n",
    "def interactive_policy(mouse_pos):\n",
    "    return mouse_pos\n",
    "\n",
    "def save_fn(data):\n",
    "    pass\n",
    "\n",
    "collector = DemonstrationCollector(\n",
    "      env, interactive_policy, dataset, save_fn, 256, 256\n",
    ")\n",
    "    \n",
    "display(collector)"
   ]
  },
  {
   "cell_type": "code",
   "execution_count": null,
   "metadata": {},
   "outputs": [],
   "source": [
    "#collector.save(collector.path)"
   ]
  },
  {
   "cell_type": "code",
   "execution_count": null,
   "metadata": {},
   "outputs": [],
   "source": []
  }
 ],
 "metadata": {
  "kernelspec": {
   "display_name": "Python 3 (ipykernel)",
   "language": "python",
   "name": "python3"
  },
  "language_info": {
   "codemirror_mode": {
    "name": "ipython",
    "version": 3
   },
   "file_extension": ".py",
   "mimetype": "text/x-python",
   "name": "python",
   "nbconvert_exporter": "python",
   "pygments_lexer": "ipython3",
   "version": "3.12.3"
  },
  "widgets": {
   "application/vnd.jupyter.widget-state+json": {
    "state": {
     "02d4462f5aba40d3a9f32ed1629f589a": {
      "model_module": "@jupyter-widgets/controls",
      "model_module_version": "2.0.0",
      "model_name": "ButtonStyleModel",
      "state": {
       "font_family": null,
       "font_size": null,
       "font_style": null,
       "font_variant": null,
       "font_weight": null,
       "text_color": null,
       "text_decoration": null
      }
     },
     "099c1234840c4d64ba7030a260bc4a24": {
      "model_module": "@jupyter-widgets/controls",
      "model_module_version": "2.0.0",
      "model_name": "HTMLStyleModel",
      "state": {
       "description_width": "",
       "font_size": null,
       "text_color": null
      }
     },
     "0d141438c2a14239bcedb821b26d1cbe": {
      "model_module": "@jupyter-widgets/base",
      "model_module_version": "2.0.0",
      "model_name": "LayoutModel",
      "state": {}
     },
     "0de3581abc5c4a47b2a52b3454a246d1": {
      "model_module": "@jupyter-widgets/controls",
      "model_module_version": "2.0.0",
      "model_name": "LabelStyleModel",
      "state": {
       "description_width": "",
       "font_family": null,
       "font_size": null,
       "font_style": null,
       "font_variant": null,
       "font_weight": null,
       "text_color": null,
       "text_decoration": null
      }
     },
     "13fb4ee971fc47e9b9f38257dd79cc16": {
      "model_module": "ipyevents",
      "model_module_version": "2.0.2",
      "model_name": "EventModel",
      "state": {
       "_supported_key_events": [
        "keydown",
        "keyup"
       ],
       "_supported_mouse_events": [
        "click",
        "auxclick",
        "dblclick",
        "mouseenter",
        "mouseleave",
        "mousedown",
        "mouseup",
        "mousemove",
        "wheel",
        "contextmenu",
        "dragstart",
        "drag",
        "dragend",
        "dragenter",
        "dragover",
        "dragleave",
        "drop"
       ],
       "_supported_touch_events": [
        "touchstart",
        "touchend",
        "touchmove",
        "touchcancel"
       ],
       "_view_module": "@jupyter-widgets/controls",
       "source": "IPY_MODEL_e9844e8503854063b376f820aeff4f56",
       "throttle_or_debounce": "",
       "watched_events": [
        "click",
        "keydown",
        "keyup",
        "mousemove"
       ],
       "xy_coordinate_system": ""
      }
     },
     "159001a517594f0ea6803a40905529c1": {
      "model_module": "@jupyter-widgets/base",
      "model_module_version": "2.0.0",
      "model_name": "LayoutModel",
      "state": {}
     },
     "28e374390bc043628f97f85b883cbdb9": {
      "model_module": "@jupyter-widgets/controls",
      "model_module_version": "2.0.0",
      "model_name": "IntSliderModel",
      "state": {
       "behavior": "drag-tap",
       "layout": "IPY_MODEL_687c076535fe4b328518b2bf288b1b95",
       "max": 441,
       "style": "IPY_MODEL_a31f1feb7a2b4edf8f5f7b9f8c356e79",
       "value": 441
      }
     },
     "3aa0adffe706491bb2b67318d4a8339e": {
      "model_module": "@jupyter-widgets/controls",
      "model_module_version": "2.0.0",
      "model_name": "HBoxModel",
      "state": {
       "children": [
        "IPY_MODEL_e9844e8503854063b376f820aeff4f56",
        "IPY_MODEL_b1ccd2492f7f400f88c7785f16fca02a"
       ],
       "layout": "IPY_MODEL_e5e3e90f47fb43268b84f33fc417d659"
      }
     },
     "3c8f29fa2f284fb9982180f2d2fceac5": {
      "buffers": [
       {
        "data": "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",
        "encoding": "base64",
        "path": [
         "value"
        ]
       }
      ],
      "model_module": "@jupyter-widgets/controls",
      "model_module_version": "2.0.0",
      "model_name": "ImageModel",
      "state": {
       "layout": "IPY_MODEL_7e94f3a43c2047f7a917f7d0549744e5"
      }
     },
     "46a77d348d8d4c7681c846e7a2416cbe": {
      "model_module": "@jupyter-widgets/controls",
      "model_module_version": "2.0.0",
      "model_name": "LabelModel",
      "state": {
       "layout": "IPY_MODEL_d026193c77834f4ea953e6911623a880",
       "style": "IPY_MODEL_0de3581abc5c4a47b2a52b3454a246d1"
      }
     },
     "615a754e973f485295d637a5a5d4e125": {
      "model_module": "@jupyter-widgets/controls",
      "model_module_version": "2.0.0",
      "model_name": "IntSliderModel",
      "state": {
       "behavior": "drag-tap",
       "layout": "IPY_MODEL_e011c2ee7c4b44fbb79127537d332f41",
       "max": 0,
       "style": "IPY_MODEL_de37d84aa94f42c1ace537b2ba4bcc28"
      }
     },
     "64d535a829e041f9b92a9829d714e2ee": {
      "model_module": "@jupyter-widgets/controls",
      "model_module_version": "2.0.0",
      "model_name": "ButtonModel",
      "state": {
       "description": "Trim",
       "layout": "IPY_MODEL_726ccbfc7f3244789836f3d58d3b9c3d",
       "style": "IPY_MODEL_02d4462f5aba40d3a9f32ed1629f589a",
       "tooltip": null
      }
     },
     "687c076535fe4b328518b2bf288b1b95": {
      "model_module": "@jupyter-widgets/base",
      "model_module_version": "2.0.0",
      "model_name": "LayoutModel",
      "state": {}
     },
     "6a71651db4954f7aa3754972c697c5ba": {
      "model_module": "@jupyter-widgets/base",
      "model_module_version": "2.0.0",
      "model_name": "LayoutModel",
      "state": {}
     },
     "7102681571d54d58bbe3055f197afe2b": {
      "model_module": "@jupyter-widgets/controls",
      "model_module_version": "2.0.0",
      "model_name": "ButtonStyleModel",
      "state": {
       "font_family": null,
       "font_size": null,
       "font_style": null,
       "font_variant": null,
       "font_weight": null,
       "text_color": null,
       "text_decoration": null
      }
     },
     "726ccbfc7f3244789836f3d58d3b9c3d": {
      "model_module": "@jupyter-widgets/base",
      "model_module_version": "2.0.0",
      "model_name": "LayoutModel",
      "state": {}
     },
     "7682a118496a440596388f84f66653f8": {
      "model_module": "@jupyter-widgets/controls",
      "model_module_version": "2.0.0",
      "model_name": "ButtonModel",
      "state": {
       "description": "Save",
       "layout": "IPY_MODEL_159001a517594f0ea6803a40905529c1",
       "style": "IPY_MODEL_f2643d3e98aa4c7bb8fa8c70e0b35274",
       "tooltip": null
      }
     },
     "7ba97bf5e099467e8633b53f2a7cde54": {
      "model_module": "@jupyter-widgets/controls",
      "model_module_version": "2.0.0",
      "model_name": "ButtonModel",
      "state": {
       "description": "Reset (r)",
       "layout": "IPY_MODEL_ca75a45b41314516a1bccba2162925f1",
       "style": "IPY_MODEL_88595edb1c7f448692505e40c0942119",
       "tooltip": null
      }
     },
     "7df052071e124f8d88ec6fb8fb479115": {
      "model_module": "@jupyter-widgets/controls",
      "model_module_version": "2.0.0",
      "model_name": "ButtonModel",
      "state": {
       "description": "Collect (c)",
       "layout": "IPY_MODEL_0d141438c2a14239bcedb821b26d1cbe",
       "style": "IPY_MODEL_ce8d0242392d44f6ad3ac0e35ebc5f2c",
       "tooltip": null
      }
     },
     "7e94f3a43c2047f7a917f7d0549744e5": {
      "model_module": "@jupyter-widgets/base",
      "model_module_version": "2.0.0",
      "model_name": "LayoutModel",
      "state": {}
     },
     "81c9e11448ab4276a8daa08d79a4f23e": {
      "model_module": "@jupyter-widgets/base",
      "model_module_version": "2.0.0",
      "model_name": "LayoutModel",
      "state": {}
     },
     "86f497e3a6ba4060a1771ea95a4d541e": {
      "model_module": "@jupyter-widgets/base",
      "model_module_version": "2.0.0",
      "model_name": "LayoutModel",
      "state": {}
     },
     "88595edb1c7f448692505e40c0942119": {
      "model_module": "@jupyter-widgets/controls",
      "model_module_version": "2.0.0",
      "model_name": "ButtonStyleModel",
      "state": {
       "font_family": null,
       "font_size": null,
       "font_style": null,
       "font_variant": null,
       "font_weight": null,
       "text_color": null,
       "text_decoration": null
      }
     },
     "a31f1feb7a2b4edf8f5f7b9f8c356e79": {
      "model_module": "@jupyter-widgets/controls",
      "model_module_version": "2.0.0",
      "model_name": "SliderStyleModel",
      "state": {
       "description_width": ""
      }
     },
     "a8c9b6e30dac4b5a8da3825b8d6f46a2": {
      "model_module": "@jupyter-widgets/base",
      "model_module_version": "2.0.0",
      "model_name": "LayoutModel",
      "state": {}
     },
     "b07acc88d50c43edabcdfca7479c6227": {
      "model_module": "@jupyter-widgets/base",
      "model_module_version": "2.0.0",
      "model_name": "LayoutModel",
      "state": {}
     },
     "b1ccd2492f7f400f88c7785f16fca02a": {
      "model_module": "@jupyter-widgets/controls",
      "model_module_version": "2.0.0",
      "model_name": "HTMLModel",
      "state": {
       "layout": "IPY_MODEL_b07acc88d50c43edabcdfca7479c6227",
       "style": "IPY_MODEL_099c1234840c4d64ba7030a260bc4a24",
       "value": "<style>\n.cell-output-ipywidget-background {\n    background-color: transparent !important;\n}\n.jp-OutputArea-output {\n    background-color: transparent;\n}\npre {\n    color: var(--vscode-editor-foreground);\n    margin: 0;\n}\nvideo::-webkit-media-controls {\n  display: none;\n}\n</style>"
      }
     },
     "c2ae6e0c861445ecb742eafad91f4962": {
      "model_module": "@jupyter-widgets/controls",
      "model_module_version": "2.0.0",
      "model_name": "HBoxModel",
      "state": {
       "children": [
        "IPY_MODEL_eb39a1d38a9040628004d21880630c03",
        "IPY_MODEL_7ba97bf5e099467e8633b53f2a7cde54",
        "IPY_MODEL_7df052071e124f8d88ec6fb8fb479115",
        "IPY_MODEL_64d535a829e041f9b92a9829d714e2ee",
        "IPY_MODEL_7682a118496a440596388f84f66653f8"
       ],
       "layout": "IPY_MODEL_81c9e11448ab4276a8daa08d79a4f23e"
      }
     },
     "ca75a45b41314516a1bccba2162925f1": {
      "model_module": "@jupyter-widgets/base",
      "model_module_version": "2.0.0",
      "model_name": "LayoutModel",
      "state": {}
     },
     "ce8d0242392d44f6ad3ac0e35ebc5f2c": {
      "model_module": "@jupyter-widgets/controls",
      "model_module_version": "2.0.0",
      "model_name": "ButtonStyleModel",
      "state": {
       "font_family": null,
       "font_size": null,
       "font_style": null,
       "font_variant": null,
       "font_weight": null,
       "text_color": null,
       "text_decoration": null
      }
     },
     "d026193c77834f4ea953e6911623a880": {
      "model_module": "@jupyter-widgets/base",
      "model_module_version": "2.0.0",
      "model_name": "LayoutModel",
      "state": {}
     },
     "de37d84aa94f42c1ace537b2ba4bcc28": {
      "model_module": "@jupyter-widgets/controls",
      "model_module_version": "2.0.0",
      "model_name": "SliderStyleModel",
      "state": {
       "description_width": ""
      }
     },
     "e011c2ee7c4b44fbb79127537d332f41": {
      "model_module": "@jupyter-widgets/base",
      "model_module_version": "2.0.0",
      "model_name": "LayoutModel",
      "state": {}
     },
     "e5e3e90f47fb43268b84f33fc417d659": {
      "model_module": "@jupyter-widgets/base",
      "model_module_version": "2.0.0",
      "model_name": "LayoutModel",
      "state": {}
     },
     "e9844e8503854063b376f820aeff4f56": {
      "model_module": "jupyter-webrtc",
      "model_module_version": "~0.6.0",
      "model_name": "ImageStreamModel",
      "state": {
       "_view_count": 1,
       "image": "IPY_MODEL_3c8f29fa2f284fb9982180f2d2fceac5",
       "layout": "IPY_MODEL_a8c9b6e30dac4b5a8da3825b8d6f46a2"
      }
     },
     "eb39a1d38a9040628004d21880630c03": {
      "model_module": "@jupyter-widgets/controls",
      "model_module_version": "2.0.0",
      "model_name": "ButtonModel",
      "state": {
       "description": "Delete",
       "layout": "IPY_MODEL_86f497e3a6ba4060a1771ea95a4d541e",
       "style": "IPY_MODEL_7102681571d54d58bbe3055f197afe2b",
       "tooltip": null
      }
     },
     "f2643d3e98aa4c7bb8fa8c70e0b35274": {
      "model_module": "@jupyter-widgets/controls",
      "model_module_version": "2.0.0",
      "model_name": "ButtonStyleModel",
      "state": {
       "font_family": null,
       "font_size": null,
       "font_style": null,
       "font_variant": null,
       "font_weight": null,
       "text_color": null,
       "text_decoration": null
      }
     },
     "fa51ab6bc4d14599ae1c652a7620a4e5": {
      "model_module": "@jupyter-widgets/controls",
      "model_module_version": "2.0.0",
      "model_name": "HBoxModel",
      "state": {
       "children": [
        "IPY_MODEL_615a754e973f485295d637a5a5d4e125",
        "IPY_MODEL_28e374390bc043628f97f85b883cbdb9"
       ],
       "layout": "IPY_MODEL_6a71651db4954f7aa3754972c697c5ba"
      }
     }
    },
    "version_major": 2,
    "version_minor": 0
   }
  }
 },
 "nbformat": 4,
 "nbformat_minor": 4
}
