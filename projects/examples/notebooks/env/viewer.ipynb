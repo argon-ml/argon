{
 "cells": [
  {
   "cell_type": "code",
   "execution_count": 1,
   "id": "f57edd36-9f8d-44e9-9d75-7f8eb507135e",
   "metadata": {},
   "outputs": [],
   "source": [
    "from stanza.runtime import setup\n",
    "setup()"
   ]
  },
  {
   "cell_type": "code",
   "execution_count": 2,
   "id": "e1cc98cb-697a-4946-a460-e44726cf41c3",
   "metadata": {},
   "outputs": [],
   "source": [
    "ENV = \"mujoco/robosuite/can\""
   ]
  },
  {
   "cell_type": "code",
   "execution_count": 3,
   "id": "e55fb8a6-6f4d-4c7c-a0b9-f331e702e717",
   "metadata": {},
   "outputs": [],
   "source": [
    "import jax\n",
    "import jax.random\n",
    "import jax.numpy as jnp\n",
    "\n",
    "import stanza.env\n",
    "from stanza.env import ImageRender\n",
    "\n",
    "env = stanza.env.create(ENV)"
   ]
  },
  {
   "cell_type": "code",
   "execution_count": 4,
   "id": "5e2352da-edae-4ed4-8ede-ee55eafb41b6",
   "metadata": {},
   "outputs": [],
   "source": [
    "#print(env.xml)"
   ]
  },
  {
   "cell_type": "code",
   "execution_count": 5,
   "id": "98d3209e-d07d-4b92-8ec0-c88b9e4024c2",
   "metadata": {},
   "outputs": [],
   "source": [
    "s = env.reset(jax.random.key(47))\n",
    "s = env.step(s, env.sample_action(jax.random.key(42)), jax.random.key(47))"
   ]
  },
  {
   "cell_type": "code",
   "execution_count": 6,
   "id": "1b2b5957-006d-4cb8-8b4e-494393529ea6",
   "metadata": {},
   "outputs": [
    {
     "ename": "ValueError",
     "evalue": "Unsupported render config",
     "output_type": "error",
     "traceback": [
      "\u001b[0;31m---------------------------------------------------------------------------\u001b[0m",
      "\u001b[0;31mValueError\u001b[0m                                Traceback (most recent call last)",
      "Cell \u001b[0;32mIn[6], line 2\u001b[0m\n\u001b[1;32m      1\u001b[0m \u001b[38;5;28;01mfrom\u001b[39;00m \u001b[38;5;21;01mstanza\u001b[39;00m\u001b[38;5;21;01m.\u001b[39;00m\u001b[38;5;21;01mutil\u001b[39;00m\u001b[38;5;21;01m.\u001b[39;00m\u001b[38;5;21;01mipython\u001b[39;00m \u001b[38;5;28;01mimport\u001b[39;00m as_image\n\u001b[0;32m----> 2\u001b[0m as_image(\u001b[43menv\u001b[49m\u001b[38;5;241;43m.\u001b[39;49m\u001b[43mrender\u001b[49m\u001b[43m(\u001b[49m\u001b[43ms\u001b[49m\u001b[43m,\u001b[49m\u001b[43m \u001b[49m\u001b[43mImageRender\u001b[49m\u001b[43m(\u001b[49m\u001b[38;5;241;43m256\u001b[39;49m\u001b[43m,\u001b[49m\u001b[43m \u001b[49m\u001b[38;5;241;43m256\u001b[39;49m\u001b[43m)\u001b[49m\u001b[43m)\u001b[49m)\n",
      "    \u001b[0;31m[... skipping hidden 11 frame]\u001b[0m\n",
      "File \u001b[0;32m~/Documents/code/stanza/packages/stanza/src/stanza/env/mujoco/robosuite.py:46\u001b[0m, in \u001b[0;36mRobosuiteEnv.render\u001b[0;34m(self, config, state)\u001b[0m\n\u001b[1;32m     44\u001b[0m     \u001b[38;5;28;01mpass\u001b[39;00m\n\u001b[1;32m     45\u001b[0m \u001b[38;5;28;01melse\u001b[39;00m:\n\u001b[0;32m---> 46\u001b[0m     \u001b[38;5;28;01mraise\u001b[39;00m \u001b[38;5;167;01mValueError\u001b[39;00m(\u001b[38;5;124m\"\u001b[39m\u001b[38;5;124mUnsupported render config\u001b[39m\u001b[38;5;124m\"\u001b[39m)\n\u001b[1;32m     47\u001b[0m \u001b[38;5;28;01mreturn\u001b[39;00m \u001b[38;5;28mself\u001b[39m\u001b[38;5;241m.\u001b[39mbrax_render(\u001b[38;5;28mself\u001b[39m\u001b[38;5;241m.\u001b[39mmj_model, state)\n",
      "\u001b[0;31mValueError\u001b[0m: Unsupported render config"
     ]
    }
   ],
   "source": [
    "from stanza.util.ipython import as_image\n",
    "as_image(env.render(s, ImageRender(256, 256)))"
   ]
  },
  {
   "cell_type": "code",
   "execution_count": null,
   "id": "f41b5059-ade3-4b30-830f-d1c24bbb558f",
   "metadata": {},
   "outputs": [],
   "source": [
    "from stanza.datasets.env.pusht import load_chi_pusht_data\n",
    "from stanza.dataclasses import replace\n",
    "state = load_chi_pusht_data()[0][0].reduced_state\n",
    "as_image(env.render(env.full_state(state), ImageRender(256, 256)))\n",
    "#as_image(env.render(ImageRender(256, 256), replace(state, q=jnp.concatenate((state.q[:2],jnp.array([0,0,-jnp.pi/4]))))))"
   ]
  },
  {
   "cell_type": "code",
   "execution_count": null,
   "id": "4d8da6b4-6ed2-4eb2-b2ee-78a1e9966337",
   "metadata": {},
   "outputs": [],
   "source": [
    "from stanza.datasets.util import cache_path\n",
    "from stanza.util.ipython import as_image\n",
    "from numpy import uint8\n",
    "import zarr\n",
    "zip_path = cache_path(\"pusht\", \"pusht_data.zarr.zip\")\n",
    "with zarr.open(zip_path) as zf:\n",
    "    images = zf[\"data/img\"][0:zf[\"meta/episode_ends\"][0]].astype(uint8)\n",
    "as_image(images[0])"
   ]
  },
  {
   "cell_type": "code",
   "execution_count": null,
   "id": "535e9a8c-4162-44f6-8ce8-2f4101057ae0",
   "metadata": {},
   "outputs": [],
   "source": []
  }
 ],
 "metadata": {
  "kernelspec": {
   "display_name": "Python 3 (ipykernel)",
   "language": "python",
   "name": "python3"
  },
  "language_info": {
   "codemirror_mode": {
    "name": "ipython",
    "version": 3
   },
   "file_extension": ".py",
   "mimetype": "text/x-python",
   "name": "python",
   "nbconvert_exporter": "python",
   "pygments_lexer": "ipython3",
   "version": "3.12.4"
  },
  "widgets": {
   "application/vnd.jupyter.widget-state+json": {
    "state": {},
    "version_major": 2,
    "version_minor": 0
   }
  }
 },
 "nbformat": 4,
 "nbformat_minor": 5
}
