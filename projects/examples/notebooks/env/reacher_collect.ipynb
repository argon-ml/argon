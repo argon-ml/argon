{
 "cells": [
  {
   "cell_type": "code",
   "execution_count": 1,
   "metadata": {},
   "outputs": [],
   "source": [
    "from stanza.runtime import setup\n",
    "setup()"
   ]
  },
  {
   "cell_type": "code",
   "execution_count": 2,
   "metadata": {
    "scrolled": true
   },
   "outputs": [],
   "source": [
    "import jax.random\n",
    "\n",
    "from stanza.env.mujoco.reacher import ReacherEnv, MPCTransform\n",
    "env = ReacherEnv()\n",
    "env = MPCTransform().transform_env(env)\n",
    "def interactive_policy(mouse_pos):\n",
    "    return mouse_pos"
   ]
  },
  {
   "cell_type": "code",
   "execution_count": 3,
   "metadata": {},
   "outputs": [
    {
     "ename": "IndexError",
     "evalue": "f argument \"3\" with type \"q\" has length \"10\" which does not match the in_types[3] expected length of \"4\".",
     "output_type": "error",
     "traceback": [
      "\u001b[0;31m---------------------------------------------------------------------------\u001b[0m",
      "\u001b[0;31mIndexError\u001b[0m                                Traceback (most recent call last)",
      "Cell \u001b[0;32mIn[3], line 8\u001b[0m\n\u001b[1;32m      5\u001b[0m \u001b[38;5;28;01mdef\u001b[39;00m \u001b[38;5;21msave_fn\u001b[39m(data):\n\u001b[1;32m      6\u001b[0m     \u001b[38;5;28;01mpass\u001b[39;00m\n\u001b[0;32m----> 8\u001b[0m collector \u001b[38;5;241m=\u001b[39m \u001b[43mDemonstrationCollector\u001b[49m\u001b[43m(\u001b[49m\n\u001b[1;32m      9\u001b[0m \u001b[43m      \u001b[49m\u001b[43menv\u001b[49m\u001b[43m,\u001b[49m\u001b[43m \u001b[49m\u001b[43minteractive_policy\u001b[49m\u001b[43m,\u001b[49m\u001b[43m \u001b[49m\u001b[38;5;124;43m\"\u001b[39;49m\u001b[38;5;124;43mreacher_data.pkl\u001b[39;49m\u001b[38;5;124;43m\"\u001b[39;49m\u001b[43m,\u001b[49m\u001b[43m \u001b[49m\u001b[43msave_fn\u001b[49m\u001b[43m,\u001b[49m\u001b[43m \u001b[49m\u001b[38;5;241;43m256\u001b[39;49m\u001b[43m,\u001b[49m\u001b[43m \u001b[49m\u001b[38;5;241;43m256\u001b[39;49m\n\u001b[1;32m     10\u001b[0m \u001b[43m)\u001b[49m\n\u001b[1;32m     12\u001b[0m display(collector)\n",
      "File \u001b[0;32m~/stanza/stanza/packages/stanza/src/stanza/policy/ipython.py:52\u001b[0m, in \u001b[0;36mDemonstrationCollector.__init__\u001b[0;34m(self, env, interactive_policy, demonstrations, save, width, height, fps)\u001b[0m\n\u001b[1;32m     50\u001b[0m s \u001b[38;5;241m=\u001b[39m \u001b[38;5;28mself\u001b[39m\u001b[38;5;241m.\u001b[39m_reset_fn(jax\u001b[38;5;241m.\u001b[39mrandom\u001b[38;5;241m.\u001b[39mPRNGKey(\u001b[38;5;241m42\u001b[39m))\n\u001b[1;32m     51\u001b[0m \u001b[38;5;28mself\u001b[39m\u001b[38;5;241m.\u001b[39m_sample_input \u001b[38;5;241m=\u001b[39m interactive_policy(\u001b[38;5;28mself\u001b[39m\u001b[38;5;241m.\u001b[39minterface\u001b[38;5;241m.\u001b[39mmouse_pos())\n\u001b[0;32m---> 52\u001b[0m \u001b[38;5;28;43mself\u001b[39;49m\u001b[38;5;241;43m.\u001b[39;49m\u001b[43m_step_fn\u001b[49m\u001b[43m(\u001b[49m\u001b[43ms\u001b[49m\u001b[43m,\u001b[49m\u001b[43m \u001b[49m\u001b[38;5;28;43mself\u001b[39;49m\u001b[38;5;241;43m.\u001b[39;49m\u001b[43m_sample_input\u001b[49m\u001b[43m)\u001b[49m\n\u001b[1;32m     53\u001b[0m \u001b[38;5;28mself\u001b[39m\u001b[38;5;241m.\u001b[39m_render_fn(SequenceRender(width, height), s)\n\u001b[1;32m     55\u001b[0m \u001b[38;5;28mself\u001b[39m\u001b[38;5;241m.\u001b[39menv \u001b[38;5;241m=\u001b[39m env\n",
      "    \u001b[0;31m[... skipping hidden 11 frame]\u001b[0m\n",
      "File \u001b[0;32m~/stanza/stanza/packages/stanza/src/stanza/env/mujoco/reacher.py:287\u001b[0m, in \u001b[0;36mMPCEnv.step\u001b[0;34m(self, state, action, rng_key)\u001b[0m\n\u001b[1;32m    280\u001b[0m cost_fn \u001b[38;5;241m=\u001b[39m \u001b[38;5;28;01mlambda\u001b[39;00m state: jnp\u001b[38;5;241m.\u001b[39msquare(ReacherEnv\u001b[38;5;241m.\u001b[39mobserve(\u001b[38;5;28mself\u001b[39m\u001b[38;5;241m.\u001b[39mbase, state)\u001b[38;5;241m.\u001b[39mfingertip_pos \u001b[38;5;241m-\u001b[39m action)\u001b[38;5;241m.\u001b[39msum()\n\u001b[1;32m    281\u001b[0m mpc \u001b[38;5;241m=\u001b[39m MPC(\n\u001b[1;32m    282\u001b[0m     action_sample\u001b[38;5;241m=\u001b[39m(jnp\u001b[38;5;241m.\u001b[39marray([\u001b[38;5;241m0\u001b[39m]), jnp\u001b[38;5;241m.\u001b[39marray([\u001b[38;5;241m0\u001b[39m])),\n\u001b[1;32m    283\u001b[0m     cost_fn \u001b[38;5;241m=\u001b[39m \u001b[38;5;28;01mlambda\u001b[39;00m states, actions: cost_fn(states),\n\u001b[1;32m    284\u001b[0m     model_fn \u001b[38;5;241m=\u001b[39m \u001b[38;5;28;01mlambda\u001b[39;00m env_state, action, _: \u001b[38;5;28mself\u001b[39m\u001b[38;5;241m.\u001b[39mbase\u001b[38;5;241m.\u001b[39mstep(env_state, action),\n\u001b[1;32m    285\u001b[0m     horizon_length\u001b[38;5;241m=\u001b[39m\u001b[38;5;241m10\u001b[39m\n\u001b[1;32m    286\u001b[0m )\n\u001b[0;32m--> 287\u001b[0m a \u001b[38;5;241m=\u001b[39m \u001b[43mmpc\u001b[49m\u001b[43m(\u001b[49m\u001b[43mPolicyInput\u001b[49m\u001b[43m(\u001b[49m\u001b[43mstate\u001b[49m\u001b[43m)\u001b[49m\u001b[43m)\u001b[49m\n\u001b[1;32m    288\u001b[0m res \u001b[38;5;241m=\u001b[39m \u001b[38;5;28mself\u001b[39m\u001b[38;5;241m.\u001b[39mbase\u001b[38;5;241m.\u001b[39mstep(state, a, rng_key)\n\u001b[1;32m    289\u001b[0m \u001b[38;5;28;01mreturn\u001b[39;00m res\n",
      "File \u001b[0;32m~/stanza/stanza/packages/stanza/src/stanza/policy/mpc.py:127\u001b[0m, in \u001b[0;36mMPC.__call__\u001b[0;34m(self, input)\u001b[0m\n\u001b[1;32m    125\u001b[0m \u001b[38;5;28;01mif\u001b[39;00m \u001b[38;5;28minput\u001b[39m\u001b[38;5;241m.\u001b[39mpolicy_state \u001b[38;5;129;01mis\u001b[39;00m \u001b[38;5;28;01mNone\u001b[39;00m:\n\u001b[1;32m    126\u001b[0m     actions \u001b[38;5;241m=\u001b[39m jax\u001b[38;5;241m.\u001b[39mtree_util\u001b[38;5;241m.\u001b[39mtree_map(\u001b[38;5;28;01mlambda\u001b[39;00m x: jnp\u001b[38;5;241m.\u001b[39mzeros((\u001b[38;5;28mself\u001b[39m\u001b[38;5;241m.\u001b[39mhorizon_length \u001b[38;5;241m-\u001b[39m \u001b[38;5;241m1\u001b[39m,) \u001b[38;5;241m+\u001b[39m x\u001b[38;5;241m.\u001b[39mshape), \u001b[38;5;28mself\u001b[39m\u001b[38;5;241m.\u001b[39maction_sample)\n\u001b[0;32m--> 127\u001b[0m     actions, _, _ \u001b[38;5;241m=\u001b[39m \u001b[38;5;28;43mself\u001b[39;49m\u001b[38;5;241;43m.\u001b[39;49m\u001b[43m_solve\u001b[49m\u001b[43m(\u001b[49m\u001b[38;5;28;43minput\u001b[39;49m\u001b[38;5;241;43m.\u001b[39;49m\u001b[43mobservation\u001b[49m\u001b[43m,\u001b[49m\u001b[43m \u001b[49m\u001b[43mactions\u001b[49m\u001b[43m)\u001b[49m\n\u001b[1;32m    128\u001b[0m     policy_state \u001b[38;5;241m=\u001b[39m MPCState(\n\u001b[1;32m    129\u001b[0m         actions\u001b[38;5;241m=\u001b[39mactions, actions_t\u001b[38;5;241m=\u001b[39m\u001b[38;5;241m0\u001b[39m\n\u001b[1;32m    130\u001b[0m     )\n\u001b[1;32m    131\u001b[0m \u001b[38;5;28;01melse\u001b[39;00m:\n",
      "File \u001b[0;32m~/stanza/stanza/packages/stanza/src/stanza/policy/mpc.py:116\u001b[0m, in \u001b[0;36mMPC._solve\u001b[0;34m(self, state0, init_actions)\u001b[0m\n\u001b[1;32m    109\u001b[0m objective \u001b[38;5;241m=\u001b[39m MinimizeMPC(\n\u001b[1;32m    110\u001b[0m     initial_actions\u001b[38;5;241m=\u001b[39minit_actions,\n\u001b[1;32m    111\u001b[0m     state0\u001b[38;5;241m=\u001b[39mstate0,\n\u001b[1;32m    112\u001b[0m     cost_fn\u001b[38;5;241m=\u001b[39m\u001b[38;5;28mself\u001b[39m\u001b[38;5;241m.\u001b[39mcost_fn,\n\u001b[1;32m    113\u001b[0m     model_fn\u001b[38;5;241m=\u001b[39m\u001b[38;5;28mself\u001b[39m\u001b[38;5;241m.\u001b[39mmodel_fn\n\u001b[1;32m    114\u001b[0m )\n\u001b[1;32m    115\u001b[0m \u001b[38;5;28;01mtry\u001b[39;00m:\n\u001b[0;32m--> 116\u001b[0m     res \u001b[38;5;241m=\u001b[39m \u001b[38;5;28;43mself\u001b[39;49m\u001b[38;5;241;43m.\u001b[39;49m\u001b[43msolver\u001b[49m\u001b[38;5;241;43m.\u001b[39;49m\u001b[43mrun\u001b[49m\u001b[43m(\u001b[49m\u001b[43mobjective\u001b[49m\u001b[43m,\u001b[49m\u001b[43m \u001b[49m\u001b[43mhistory\u001b[49m\u001b[38;5;241;43m=\u001b[39;49m\u001b[38;5;28;43mself\u001b[39;49m\u001b[38;5;241;43m.\u001b[39;49m\u001b[43mhistory\u001b[49m\u001b[43m)\u001b[49m\n\u001b[1;32m    117\u001b[0m     \u001b[38;5;28;01mreturn\u001b[39;00m res\u001b[38;5;241m.\u001b[39msolution\u001b[38;5;241m.\u001b[39mactions, res\u001b[38;5;241m.\u001b[39msolution\u001b[38;5;241m.\u001b[39mcost, res\u001b[38;5;241m.\u001b[39mhistory\n\u001b[1;32m    118\u001b[0m \u001b[38;5;28;01mexcept\u001b[39;00m UnsupportedObectiveError:\n",
      "    \u001b[0;31m[... skipping hidden 11 frame]\u001b[0m\n",
      "File \u001b[0;32m~/stanza/stanza/packages/stanza/src/stanza/solver/ilqr.py:94\u001b[0m, in \u001b[0;36miLQRSolver.run\u001b[0;34m(self, objective, implicit_diff, history)\u001b[0m\n\u001b[1;32m     92\u001b[0m \u001b[38;5;28;01mif\u001b[39;00m implicit_diff:\n\u001b[1;32m     93\u001b[0m     solve \u001b[38;5;241m=\u001b[39m implicit_diff_solve(solve)\n\u001b[0;32m---> 94\u001b[0m \u001b[38;5;28;01mreturn\u001b[39;00m \u001b[43msolve\u001b[49m\u001b[43m(\u001b[49m\u001b[43mobjective\u001b[49m\u001b[43m,\u001b[49m\u001b[43m \u001b[49m\u001b[43minit_state\u001b[49m\u001b[43m)\u001b[49m\n",
      "    \u001b[0;31m[... skipping hidden 11 frame]\u001b[0m\n",
      "File \u001b[0;32m~/stanza/stanza/packages/stanza/src/stanza/solver/util.py:12\u001b[0m, in \u001b[0;36mimplicit_diff_solve.<locals>.diff_solve\u001b[0;34m(objective, init_state)\u001b[0m\n\u001b[1;32m      9\u001b[0m \u001b[38;5;129m@functools\u001b[39m\u001b[38;5;241m.\u001b[39mwraps(solve)\n\u001b[1;32m     10\u001b[0m \u001b[38;5;129m@jax\u001b[39m\u001b[38;5;241m.\u001b[39mjit\n\u001b[1;32m     11\u001b[0m \u001b[38;5;28;01mdef\u001b[39;00m \u001b[38;5;21mdiff_solve\u001b[39m(objective, init_state):\n\u001b[0;32m---> 12\u001b[0m     optimality_fun, optimality_args \u001b[38;5;241m=\u001b[39m \u001b[43mjax\u001b[49m\u001b[38;5;241;43m.\u001b[39;49m\u001b[43mclosure_convert\u001b[49m\u001b[43m(\u001b[49m\n\u001b[1;32m     13\u001b[0m \u001b[43m        \u001b[49m\u001b[43mobjective\u001b[49m\u001b[38;5;241;43m.\u001b[39;49m\u001b[43moptimality\u001b[49m\u001b[43m,\u001b[49m\u001b[43m \u001b[49m\u001b[43minit_state\u001b[49m\u001b[43m)\u001b[49m\n\u001b[1;32m     14\u001b[0m     solve_fun, solve_args \u001b[38;5;241m=\u001b[39m jax\u001b[38;5;241m.\u001b[39mclosure_convert(\n\u001b[1;32m     15\u001b[0m         solve, objective, init_state)\n\u001b[1;32m     16\u001b[0m     theta_flat, theta_uf \u001b[38;5;241m=\u001b[39m jax\u001b[38;5;241m.\u001b[39mflatten_util\u001b[38;5;241m.\u001b[39mravel_pytree(optimality_args)\n",
      "    \u001b[0;31m[... skipping hidden 8 frame]\u001b[0m\n",
      "File \u001b[0;32m~/stanza/stanza/packages/stanza/src/stanza/policy/mpc.py:62\u001b[0m, in \u001b[0;36mMinimizeMPC.optimality\u001b[0;34m(self, solver_state)\u001b[0m\n\u001b[1;32m     61\u001b[0m \u001b[38;5;28;01mdef\u001b[39;00m \u001b[38;5;21moptimality\u001b[39m(\u001b[38;5;28mself\u001b[39m, solver_state : MinimizeMPCState):\n\u001b[0;32m---> 62\u001b[0m     \u001b[38;5;28;01mreturn\u001b[39;00m \u001b[43mjax\u001b[49m\u001b[38;5;241;43m.\u001b[39;49m\u001b[43mgrad\u001b[49m\u001b[43m(\u001b[49m\u001b[38;5;28;43;01mlambda\u001b[39;49;00m\u001b[43m \u001b[49m\u001b[43ms\u001b[49m\u001b[43m,\u001b[49m\u001b[43m \u001b[49m\u001b[43mp\u001b[49m\u001b[43m,\u001b[49m\u001b[43m \u001b[49m\u001b[43ma\u001b[49m\u001b[43m:\u001b[49m\u001b[43m \u001b[49m\u001b[38;5;28;43mself\u001b[39;49m\u001b[38;5;241;43m.\u001b[39;49m\u001b[43meval\u001b[49m\u001b[43m(\u001b[49m\u001b[43ms\u001b[49m\u001b[43m,\u001b[49m\u001b[43m \u001b[49m\u001b[43mp\u001b[49m\u001b[43m,\u001b[49m\u001b[43m \u001b[49m\u001b[43ma\u001b[49m\u001b[43m)\u001b[49m\u001b[43m[\u001b[49m\u001b[38;5;241;43m1\u001b[39;49m\u001b[43m]\u001b[49m\u001b[43m,\u001b[49m\u001b[43m \u001b[49m\u001b[43margnums\u001b[49m\u001b[38;5;241;43m=\u001b[39;49m\u001b[43m(\u001b[49m\u001b[38;5;241;43m1\u001b[39;49m\u001b[43m,\u001b[49m\u001b[38;5;241;43m2\u001b[39;49m\u001b[43m)\u001b[49m\u001b[43m)\u001b[49m\u001b[43m(\u001b[49m\n\u001b[1;32m     63\u001b[0m \u001b[43m        \u001b[49m\u001b[43msolver_state\u001b[49m\u001b[38;5;241;43m.\u001b[39;49m\u001b[43mcost_state\u001b[49m\u001b[43m,\u001b[49m\u001b[43m \u001b[49m\u001b[43msolver_state\u001b[49m\u001b[38;5;241;43m.\u001b[39;49m\u001b[43mparams\u001b[49m\u001b[43m,\u001b[49m\u001b[43m \u001b[49m\u001b[43msolver_state\u001b[49m\u001b[38;5;241;43m.\u001b[39;49m\u001b[43mactions\u001b[49m\n\u001b[1;32m     64\u001b[0m \u001b[43m    \u001b[49m\u001b[43m)\u001b[49m\n",
      "    \u001b[0;31m[... skipping hidden 10 frame]\u001b[0m\n",
      "File \u001b[0;32m~/stanza/stanza/packages/stanza/src/stanza/policy/mpc.py:62\u001b[0m, in \u001b[0;36mMinimizeMPC.optimality.<locals>.<lambda>\u001b[0;34m(s, p, a)\u001b[0m\n\u001b[1;32m     61\u001b[0m \u001b[38;5;28;01mdef\u001b[39;00m \u001b[38;5;21moptimality\u001b[39m(\u001b[38;5;28mself\u001b[39m, solver_state : MinimizeMPCState):\n\u001b[0;32m---> 62\u001b[0m     \u001b[38;5;28;01mreturn\u001b[39;00m jax\u001b[38;5;241m.\u001b[39mgrad(\u001b[38;5;28;01mlambda\u001b[39;00m s, p, a: \u001b[38;5;28;43mself\u001b[39;49m\u001b[38;5;241;43m.\u001b[39;49m\u001b[43meval\u001b[49m\u001b[43m(\u001b[49m\u001b[43ms\u001b[49m\u001b[43m,\u001b[49m\u001b[43m \u001b[49m\u001b[43mp\u001b[49m\u001b[43m,\u001b[49m\u001b[43m \u001b[49m\u001b[43ma\u001b[49m\u001b[43m)\u001b[49m[\u001b[38;5;241m1\u001b[39m], argnums\u001b[38;5;241m=\u001b[39m(\u001b[38;5;241m1\u001b[39m,\u001b[38;5;241m2\u001b[39m))(\n\u001b[1;32m     63\u001b[0m         solver_state\u001b[38;5;241m.\u001b[39mcost_state, solver_state\u001b[38;5;241m.\u001b[39mparams, solver_state\u001b[38;5;241m.\u001b[39mactions\n\u001b[1;32m     64\u001b[0m     )\n",
      "File \u001b[0;32m~/stanza/stanza/packages/stanza/src/stanza/policy/mpc.py:59\u001b[0m, in \u001b[0;36mMinimizeMPC.eval\u001b[0;34m(self, cost_state, params, actions)\u001b[0m\n\u001b[1;32m     55\u001b[0m \u001b[38;5;28;01mdef\u001b[39;00m \u001b[38;5;21meval\u001b[39m(\u001b[38;5;28mself\u001b[39m, cost_state, params, actions):\n\u001b[1;32m     56\u001b[0m     r \u001b[38;5;241m=\u001b[39m stanza\u001b[38;5;241m.\u001b[39mpolicy\u001b[38;5;241m.\u001b[39mrollout(\n\u001b[1;32m     57\u001b[0m         \u001b[38;5;28mself\u001b[39m\u001b[38;5;241m.\u001b[39mmodel_fn, \u001b[38;5;28mself\u001b[39m\u001b[38;5;241m.\u001b[39mstate0, policy\u001b[38;5;241m=\u001b[39mActions(actions)\n\u001b[1;32m     58\u001b[0m     )\n\u001b[0;32m---> 59\u001b[0m     \u001b[38;5;28;01mreturn\u001b[39;00m \u001b[38;5;28;43mself\u001b[39;49m\u001b[38;5;241;43m.\u001b[39;49m\u001b[43mcost\u001b[49m\u001b[43m(\u001b[49m\u001b[43mcost_state\u001b[49m\u001b[43m,\u001b[49m\u001b[43m \u001b[49m\u001b[43mparams\u001b[49m\u001b[43m,\u001b[49m\u001b[43m \u001b[49m\u001b[43mr\u001b[49m\u001b[38;5;241;43m.\u001b[39;49m\u001b[43mobservations\u001b[49m\u001b[43m,\u001b[49m\u001b[43m \u001b[49m\u001b[43mr\u001b[49m\u001b[38;5;241;43m.\u001b[39;49m\u001b[43mactions\u001b[49m\u001b[43m)\u001b[49m\n",
      "File \u001b[0;32m~/stanza/stanza/packages/stanza/src/stanza/policy/mpc.py:49\u001b[0m, in \u001b[0;36mMinimizeMPC.cost\u001b[0;34m(self, cost_state, params, states, actions)\u001b[0m\n\u001b[1;32m     47\u001b[0m \u001b[38;5;28;01mif\u001b[39;00m \u001b[38;5;28mself\u001b[39m\u001b[38;5;241m.\u001b[39mhas_params: args \u001b[38;5;241m+\u001b[39m\u001b[38;5;241m=\u001b[39m (params,)\n\u001b[1;32m     48\u001b[0m args \u001b[38;5;241m+\u001b[39m\u001b[38;5;241m=\u001b[39m (states,actions)\n\u001b[0;32m---> 49\u001b[0m r \u001b[38;5;241m=\u001b[39m \u001b[38;5;28;43mself\u001b[39;49m\u001b[38;5;241;43m.\u001b[39;49m\u001b[43mcost_fn\u001b[49m\u001b[43m(\u001b[49m\u001b[38;5;241;43m*\u001b[39;49m\u001b[43margs\u001b[49m\u001b[43m)\u001b[49m\n\u001b[1;32m     50\u001b[0m r \u001b[38;5;241m=\u001b[39m (r,) \u001b[38;5;28;01mif\u001b[39;00m \u001b[38;5;129;01mnot\u001b[39;00m (\u001b[38;5;28mself\u001b[39m\u001b[38;5;241m.\u001b[39mhas_state \u001b[38;5;129;01mor\u001b[39;00m \u001b[38;5;28mself\u001b[39m\u001b[38;5;241m.\u001b[39mhas_aux) \u001b[38;5;28;01melse\u001b[39;00m r\n\u001b[1;32m     51\u001b[0m state, r \u001b[38;5;241m=\u001b[39m (r[\u001b[38;5;241m0\u001b[39m], r[\u001b[38;5;241m1\u001b[39m:]) \u001b[38;5;28;01mif\u001b[39;00m \u001b[38;5;28mself\u001b[39m\u001b[38;5;241m.\u001b[39mhas_state \u001b[38;5;28;01melse\u001b[39;00m (\u001b[38;5;28;01mNone\u001b[39;00m, r)\n",
      "File \u001b[0;32m~/stanza/stanza/packages/stanza/src/stanza/env/mujoco/reacher.py:283\u001b[0m, in \u001b[0;36mMPCEnv.step.<locals>.<lambda>\u001b[0;34m(states, actions)\u001b[0m\n\u001b[1;32m    279\u001b[0m obs \u001b[38;5;241m=\u001b[39m ReacherEnv\u001b[38;5;241m.\u001b[39mobserve(\u001b[38;5;28mself\u001b[39m\u001b[38;5;241m.\u001b[39mbase, state)\n\u001b[1;32m    280\u001b[0m cost_fn \u001b[38;5;241m=\u001b[39m \u001b[38;5;28;01mlambda\u001b[39;00m state: jnp\u001b[38;5;241m.\u001b[39msquare(ReacherEnv\u001b[38;5;241m.\u001b[39mobserve(\u001b[38;5;28mself\u001b[39m\u001b[38;5;241m.\u001b[39mbase, state)\u001b[38;5;241m.\u001b[39mfingertip_pos \u001b[38;5;241m-\u001b[39m action)\u001b[38;5;241m.\u001b[39msum()\n\u001b[1;32m    281\u001b[0m mpc \u001b[38;5;241m=\u001b[39m MPC(\n\u001b[1;32m    282\u001b[0m     action_sample\u001b[38;5;241m=\u001b[39m(jnp\u001b[38;5;241m.\u001b[39marray([\u001b[38;5;241m0\u001b[39m]), jnp\u001b[38;5;241m.\u001b[39marray([\u001b[38;5;241m0\u001b[39m])),\n\u001b[0;32m--> 283\u001b[0m     cost_fn \u001b[38;5;241m=\u001b[39m \u001b[38;5;28;01mlambda\u001b[39;00m states, actions: \u001b[43mcost_fn\u001b[49m\u001b[43m(\u001b[49m\u001b[43mstates\u001b[49m\u001b[43m)\u001b[49m,\n\u001b[1;32m    284\u001b[0m     model_fn \u001b[38;5;241m=\u001b[39m \u001b[38;5;28;01mlambda\u001b[39;00m env_state, action, _: \u001b[38;5;28mself\u001b[39m\u001b[38;5;241m.\u001b[39mbase\u001b[38;5;241m.\u001b[39mstep(env_state, action),\n\u001b[1;32m    285\u001b[0m     horizon_length\u001b[38;5;241m=\u001b[39m\u001b[38;5;241m10\u001b[39m\n\u001b[1;32m    286\u001b[0m )\n\u001b[1;32m    287\u001b[0m a \u001b[38;5;241m=\u001b[39m mpc(PolicyInput(state))\n\u001b[1;32m    288\u001b[0m res \u001b[38;5;241m=\u001b[39m \u001b[38;5;28mself\u001b[39m\u001b[38;5;241m.\u001b[39mbase\u001b[38;5;241m.\u001b[39mstep(state, a, rng_key)\n",
      "File \u001b[0;32m~/stanza/stanza/packages/stanza/src/stanza/env/mujoco/reacher.py:280\u001b[0m, in \u001b[0;36mMPCEnv.step.<locals>.<lambda>\u001b[0;34m(state)\u001b[0m\n\u001b[1;32m    278\u001b[0m \u001b[38;5;28;01mdef\u001b[39;00m \u001b[38;5;21mstep\u001b[39m(\u001b[38;5;28mself\u001b[39m, state, action, rng_key\u001b[38;5;241m=\u001b[39m\u001b[38;5;28;01mNone\u001b[39;00m):\n\u001b[1;32m    279\u001b[0m     obs \u001b[38;5;241m=\u001b[39m ReacherEnv\u001b[38;5;241m.\u001b[39mobserve(\u001b[38;5;28mself\u001b[39m\u001b[38;5;241m.\u001b[39mbase, state)\n\u001b[0;32m--> 280\u001b[0m     cost_fn \u001b[38;5;241m=\u001b[39m \u001b[38;5;28;01mlambda\u001b[39;00m state: jnp\u001b[38;5;241m.\u001b[39msquare(\u001b[43mReacherEnv\u001b[49m\u001b[38;5;241;43m.\u001b[39;49m\u001b[43mobserve\u001b[49m\u001b[43m(\u001b[49m\u001b[38;5;28;43mself\u001b[39;49m\u001b[38;5;241;43m.\u001b[39;49m\u001b[43mbase\u001b[49m\u001b[43m,\u001b[49m\u001b[43m \u001b[49m\u001b[43mstate\u001b[49m\u001b[43m)\u001b[49m\u001b[38;5;241m.\u001b[39mfingertip_pos \u001b[38;5;241m-\u001b[39m action)\u001b[38;5;241m.\u001b[39msum()\n\u001b[1;32m    281\u001b[0m     mpc \u001b[38;5;241m=\u001b[39m MPC(\n\u001b[1;32m    282\u001b[0m         action_sample\u001b[38;5;241m=\u001b[39m(jnp\u001b[38;5;241m.\u001b[39marray([\u001b[38;5;241m0\u001b[39m]), jnp\u001b[38;5;241m.\u001b[39marray([\u001b[38;5;241m0\u001b[39m])),\n\u001b[1;32m    283\u001b[0m         cost_fn \u001b[38;5;241m=\u001b[39m \u001b[38;5;28;01mlambda\u001b[39;00m states, actions: cost_fn(states),\n\u001b[1;32m    284\u001b[0m         model_fn \u001b[38;5;241m=\u001b[39m \u001b[38;5;28;01mlambda\u001b[39;00m env_state, action, _: \u001b[38;5;28mself\u001b[39m\u001b[38;5;241m.\u001b[39mbase\u001b[38;5;241m.\u001b[39mstep(env_state, action),\n\u001b[1;32m    285\u001b[0m         horizon_length\u001b[38;5;241m=\u001b[39m\u001b[38;5;241m10\u001b[39m\n\u001b[1;32m    286\u001b[0m     )\n\u001b[1;32m    287\u001b[0m     a \u001b[38;5;241m=\u001b[39m mpc(PolicyInput(state))\n",
      "    \u001b[0;31m[... skipping hidden 11 frame]\u001b[0m\n",
      "File \u001b[0;32m~/stanza/stanza/packages/stanza/src/stanza/env/mujoco/reacher.py:160\u001b[0m, in \u001b[0;36mReacherEnv.observe\u001b[0;34m(self, state)\u001b[0m\n\u001b[1;32m    158\u001b[0m mjx_data \u001b[38;5;241m=\u001b[39m mjx\u001b[38;5;241m.\u001b[39mmake_data(load_mjx_model())\n\u001b[1;32m    159\u001b[0m mjx_data \u001b[38;5;241m=\u001b[39m mjx_data\u001b[38;5;241m.\u001b[39mreplace(qpos\u001b[38;5;241m=\u001b[39mstate\u001b[38;5;241m.\u001b[39mq, qvel\u001b[38;5;241m=\u001b[39mstate\u001b[38;5;241m.\u001b[39mqd)\n\u001b[0;32m--> 160\u001b[0m mjx_data \u001b[38;5;241m=\u001b[39m \u001b[43mmjx\u001b[49m\u001b[38;5;241;43m.\u001b[39;49m\u001b[43mforward\u001b[49m\u001b[43m(\u001b[49m\u001b[43mload_mjx_model\u001b[49m\u001b[43m(\u001b[49m\u001b[43m)\u001b[49m\u001b[43m,\u001b[49m\u001b[43m \u001b[49m\u001b[43mmjx_data\u001b[49m\u001b[43m)\u001b[49m\n\u001b[1;32m    161\u001b[0m \u001b[38;5;28;01mreturn\u001b[39;00m ReacherObs(\n\u001b[1;32m    162\u001b[0m     fingertip_pos\u001b[38;5;241m=\u001b[39mmjx_data\u001b[38;5;241m.\u001b[39mxpos[\u001b[38;5;28mself\u001b[39m\u001b[38;5;241m.\u001b[39mfingertip_id,:\u001b[38;5;241m2\u001b[39m],\n\u001b[1;32m    163\u001b[0m     fingertip_vel\u001b[38;5;241m=\u001b[39mmjx_data\u001b[38;5;241m.\u001b[39mcvel[\u001b[38;5;28mself\u001b[39m\u001b[38;5;241m.\u001b[39mfingertip_id, \u001b[38;5;241m3\u001b[39m:\u001b[38;5;241m5\u001b[39m],\n\u001b[0;32m   (...)\u001b[0m\n\u001b[1;32m    169\u001b[0m     body1_rot_vel\u001b[38;5;241m=\u001b[39mmjx_data\u001b[38;5;241m.\u001b[39mcvel[\u001b[38;5;28mself\u001b[39m\u001b[38;5;241m.\u001b[39mbody1_id, \u001b[38;5;241m2\u001b[39m]\n\u001b[1;32m    170\u001b[0m )\n",
      "File \u001b[0;32m~/stanza/stanza/.venv/lib/python3.12/site-packages/mujoco/mjx/_src/forward.py:56\u001b[0m, in \u001b[0;36mnamed_scope.<locals>.wrapper\u001b[0;34m(*args, **kwargs)\u001b[0m\n\u001b[1;32m     53\u001b[0m \u001b[38;5;129m@functools\u001b[39m\u001b[38;5;241m.\u001b[39mwraps(fn)\n\u001b[1;32m     54\u001b[0m \u001b[38;5;28;01mdef\u001b[39;00m \u001b[38;5;21mwrapper\u001b[39m(\u001b[38;5;241m*\u001b[39margs, \u001b[38;5;241m*\u001b[39m\u001b[38;5;241m*\u001b[39mkwargs):\n\u001b[1;32m     55\u001b[0m   \u001b[38;5;28;01mwith\u001b[39;00m jax\u001b[38;5;241m.\u001b[39mnamed_scope(name \u001b[38;5;129;01mor\u001b[39;00m \u001b[38;5;28mgetattr\u001b[39m(fn, \u001b[38;5;124m'\u001b[39m\u001b[38;5;124m__name__\u001b[39m\u001b[38;5;124m'\u001b[39m)):\n\u001b[0;32m---> 56\u001b[0m     res \u001b[38;5;241m=\u001b[39m \u001b[43mfn\u001b[49m\u001b[43m(\u001b[49m\u001b[38;5;241;43m*\u001b[39;49m\u001b[43margs\u001b[49m\u001b[43m,\u001b[49m\u001b[43m \u001b[49m\u001b[38;5;241;43m*\u001b[39;49m\u001b[38;5;241;43m*\u001b[39;49m\u001b[43mkwargs\u001b[49m\u001b[43m)\u001b[49m\n\u001b[1;32m     57\u001b[0m   \u001b[38;5;28;01mreturn\u001b[39;00m res\n",
      "File \u001b[0;32m~/stanza/stanza/.venv/lib/python3.12/site-packages/mujoco/mjx/_src/forward.py:349\u001b[0m, in \u001b[0;36mforward\u001b[0;34m(m, d)\u001b[0m\n\u001b[1;32m    346\u001b[0m \u001b[38;5;129m@named_scope\u001b[39m\n\u001b[1;32m    347\u001b[0m \u001b[38;5;28;01mdef\u001b[39;00m \u001b[38;5;21mforward\u001b[39m(m: Model, d: Data) \u001b[38;5;241m-\u001b[39m\u001b[38;5;241m>\u001b[39m Data:\n\u001b[1;32m    348\u001b[0m \u001b[38;5;250m  \u001b[39m\u001b[38;5;124;03m\"\"\"Forward dynamics.\"\"\"\u001b[39;00m\n\u001b[0;32m--> 349\u001b[0m   d \u001b[38;5;241m=\u001b[39m \u001b[43mfwd_position\u001b[49m\u001b[43m(\u001b[49m\u001b[43mm\u001b[49m\u001b[43m,\u001b[49m\u001b[43m \u001b[49m\u001b[43md\u001b[49m\u001b[43m)\u001b[49m\n\u001b[1;32m    350\u001b[0m   d \u001b[38;5;241m=\u001b[39m fwd_velocity(m, d)\n\u001b[1;32m    351\u001b[0m   d \u001b[38;5;241m=\u001b[39m fwd_actuation(m, d)\n",
      "File \u001b[0;32m~/stanza/stanza/.venv/lib/python3.12/site-packages/mujoco/mjx/_src/forward.py:56\u001b[0m, in \u001b[0;36mnamed_scope.<locals>.wrapper\u001b[0;34m(*args, **kwargs)\u001b[0m\n\u001b[1;32m     53\u001b[0m \u001b[38;5;129m@functools\u001b[39m\u001b[38;5;241m.\u001b[39mwraps(fn)\n\u001b[1;32m     54\u001b[0m \u001b[38;5;28;01mdef\u001b[39;00m \u001b[38;5;21mwrapper\u001b[39m(\u001b[38;5;241m*\u001b[39margs, \u001b[38;5;241m*\u001b[39m\u001b[38;5;241m*\u001b[39mkwargs):\n\u001b[1;32m     55\u001b[0m   \u001b[38;5;28;01mwith\u001b[39;00m jax\u001b[38;5;241m.\u001b[39mnamed_scope(name \u001b[38;5;129;01mor\u001b[39;00m \u001b[38;5;28mgetattr\u001b[39m(fn, \u001b[38;5;124m'\u001b[39m\u001b[38;5;124m__name__\u001b[39m\u001b[38;5;124m'\u001b[39m)):\n\u001b[0;32m---> 56\u001b[0m     res \u001b[38;5;241m=\u001b[39m \u001b[43mfn\u001b[49m\u001b[43m(\u001b[49m\u001b[38;5;241;43m*\u001b[39;49m\u001b[43margs\u001b[49m\u001b[43m,\u001b[49m\u001b[43m \u001b[49m\u001b[38;5;241;43m*\u001b[39;49m\u001b[38;5;241;43m*\u001b[39;49m\u001b[43mkwargs\u001b[49m\u001b[43m)\u001b[49m\n\u001b[1;32m     57\u001b[0m   \u001b[38;5;28;01mreturn\u001b[39;00m res\n",
      "File \u001b[0;32m~/stanza/stanza/.venv/lib/python3.12/site-packages/mujoco/mjx/_src/forward.py:66\u001b[0m, in \u001b[0;36mfwd_position\u001b[0;34m(m, d)\u001b[0m\n\u001b[1;32m     64\u001b[0m \u001b[38;5;250m\u001b[39m\u001b[38;5;124;03m\"\"\"Position-dependent computations.\"\"\"\u001b[39;00m\n\u001b[1;32m     65\u001b[0m \u001b[38;5;66;03m# TODO(robotics-simulation): tendon\u001b[39;00m\n\u001b[0;32m---> 66\u001b[0m d \u001b[38;5;241m=\u001b[39m \u001b[43msmooth\u001b[49m\u001b[38;5;241;43m.\u001b[39;49m\u001b[43mkinematics\u001b[49m\u001b[43m(\u001b[49m\u001b[43mm\u001b[49m\u001b[43m,\u001b[49m\u001b[43m \u001b[49m\u001b[43md\u001b[49m\u001b[43m)\u001b[49m\n\u001b[1;32m     67\u001b[0m d \u001b[38;5;241m=\u001b[39m smooth\u001b[38;5;241m.\u001b[39mcom_pos(m, d)\n\u001b[1;32m     68\u001b[0m d \u001b[38;5;241m=\u001b[39m smooth\u001b[38;5;241m.\u001b[39mcamlight(m, d)\n",
      "File \u001b[0;32m~/stanza/stanza/.venv/lib/python3.12/site-packages/mujoco/mjx/_src/smooth.py:86\u001b[0m, in \u001b[0;36mkinematics\u001b[0;34m(m, d)\u001b[0m\n\u001b[1;32m     82\u001b[0m   mat \u001b[38;5;241m=\u001b[39m math\u001b[38;5;241m.\u001b[39mquat_to_mat(quat)\n\u001b[1;32m     84\u001b[0m   \u001b[38;5;28;01mreturn\u001b[39;00m qpos, anchor, axis, pos, quat, mat\n\u001b[0;32m---> 86\u001b[0m qpos, xanchor, xaxis, xpos, xquat, xmat \u001b[38;5;241m=\u001b[39m \u001b[43mscan\u001b[49m\u001b[38;5;241;43m.\u001b[39;49m\u001b[43mbody_tree\u001b[49m\u001b[43m(\u001b[49m\n\u001b[1;32m     87\u001b[0m \u001b[43m    \u001b[49m\u001b[43mm\u001b[49m\u001b[43m,\u001b[49m\n\u001b[1;32m     88\u001b[0m \u001b[43m    \u001b[49m\u001b[43mfn\u001b[49m\u001b[43m,\u001b[49m\n\u001b[1;32m     89\u001b[0m \u001b[43m    \u001b[49m\u001b[38;5;124;43m'\u001b[39;49m\u001b[38;5;124;43mjjjqqbb\u001b[39;49m\u001b[38;5;124;43m'\u001b[39;49m\u001b[43m,\u001b[49m\n\u001b[1;32m     90\u001b[0m \u001b[43m    \u001b[49m\u001b[38;5;124;43m'\u001b[39;49m\u001b[38;5;124;43mqjjbbb\u001b[39;49m\u001b[38;5;124;43m'\u001b[39;49m\u001b[43m,\u001b[49m\n\u001b[1;32m     91\u001b[0m \u001b[43m    \u001b[49m\u001b[43mm\u001b[49m\u001b[38;5;241;43m.\u001b[39;49m\u001b[43mjnt_type\u001b[49m\u001b[43m,\u001b[49m\n\u001b[1;32m     92\u001b[0m \u001b[43m    \u001b[49m\u001b[43mm\u001b[49m\u001b[38;5;241;43m.\u001b[39;49m\u001b[43mjnt_pos\u001b[49m\u001b[43m,\u001b[49m\n\u001b[1;32m     93\u001b[0m \u001b[43m    \u001b[49m\u001b[43mm\u001b[49m\u001b[38;5;241;43m.\u001b[39;49m\u001b[43mjnt_axis\u001b[49m\u001b[43m,\u001b[49m\n\u001b[1;32m     94\u001b[0m \u001b[43m    \u001b[49m\u001b[43md\u001b[49m\u001b[38;5;241;43m.\u001b[39;49m\u001b[43mqpos\u001b[49m\u001b[43m,\u001b[49m\n\u001b[1;32m     95\u001b[0m \u001b[43m    \u001b[49m\u001b[43mm\u001b[49m\u001b[38;5;241;43m.\u001b[39;49m\u001b[43mqpos0\u001b[49m\u001b[43m,\u001b[49m\n\u001b[1;32m     96\u001b[0m \u001b[43m    \u001b[49m\u001b[43mm\u001b[49m\u001b[38;5;241;43m.\u001b[39;49m\u001b[43mbody_pos\u001b[49m\u001b[43m,\u001b[49m\n\u001b[1;32m     97\u001b[0m \u001b[43m    \u001b[49m\u001b[43mm\u001b[49m\u001b[38;5;241;43m.\u001b[39;49m\u001b[43mbody_quat\u001b[49m\u001b[43m,\u001b[49m\n\u001b[1;32m     98\u001b[0m \u001b[43m\u001b[49m\u001b[43m)\u001b[49m\n\u001b[1;32m    100\u001b[0m v_local_to_global \u001b[38;5;241m=\u001b[39m jax\u001b[38;5;241m.\u001b[39mvmap(support\u001b[38;5;241m.\u001b[39mlocal_to_global)\n\u001b[1;32m    102\u001b[0m \u001b[38;5;66;03m# TODO(erikfrey): confirm that quats are more performant for mjx than mats\u001b[39;00m\n",
      "File \u001b[0;32m~/stanza/stanza/.venv/lib/python3.12/site-packages/mujoco/mjx/_src/scan.py:375\u001b[0m, in \u001b[0;36mbody_tree\u001b[0;34m(m, f, in_types, out_types, reverse, *args)\u001b[0m\n\u001b[1;32m    339\u001b[0m \u001b[38;5;28;01mdef\u001b[39;00m \u001b[38;5;21mbody_tree\u001b[39m(\n\u001b[1;32m    340\u001b[0m     m: Model,\n\u001b[1;32m    341\u001b[0m     f: Callable[\u001b[38;5;241m.\u001b[39m\u001b[38;5;241m.\u001b[39m\u001b[38;5;241m.\u001b[39m, Y],\n\u001b[0;32m   (...)\u001b[0m\n\u001b[1;32m    345\u001b[0m     reverse: \u001b[38;5;28mbool\u001b[39m \u001b[38;5;241m=\u001b[39m \u001b[38;5;28;01mFalse\u001b[39;00m,\n\u001b[1;32m    346\u001b[0m ) \u001b[38;5;241m-\u001b[39m\u001b[38;5;241m>\u001b[39m Y:\n\u001b[1;32m    347\u001b[0m \u001b[38;5;250m  \u001b[39m\u001b[38;5;124mr\u001b[39m\u001b[38;5;124;03m\"\"\"Scan ``f`` across bodies in tree order, carrying results up/down the tree.\u001b[39;00m\n\u001b[1;32m    348\u001b[0m \n\u001b[1;32m    349\u001b[0m \u001b[38;5;124;03m  This function groups bodies according to level and attached joints, then calls\u001b[39;00m\n\u001b[0;32m   (...)\u001b[0m\n\u001b[1;32m    373\u001b[0m \u001b[38;5;124;03m      IndexError: if function output shape does not match out_types shape\u001b[39;00m\n\u001b[1;32m    374\u001b[0m \u001b[38;5;124;03m  \"\"\"\u001b[39;00m\n\u001b[0;32m--> 375\u001b[0m   \u001b[43m_check_input\u001b[49m\u001b[43m(\u001b[49m\u001b[43mm\u001b[49m\u001b[43m,\u001b[49m\u001b[43m \u001b[49m\u001b[43margs\u001b[49m\u001b[43m,\u001b[49m\u001b[43m \u001b[49m\u001b[43min_types\u001b[49m\u001b[43m)\u001b[49m\n\u001b[1;32m    377\u001b[0m   \u001b[38;5;66;03m# group together bodies that will be processed together.  grouping key:\u001b[39;00m\n\u001b[1;32m    378\u001b[0m   \u001b[38;5;66;03m#   1) the tree depth: parent bodies are processed first, so that they are\u001b[39;00m\n\u001b[1;32m    379\u001b[0m   \u001b[38;5;66;03m#      available as carry input to child bodies (or reverse if reverse=True)\u001b[39;00m\n\u001b[0;32m   (...)\u001b[0m\n\u001b[1;32m    383\u001b[0m   \u001b[38;5;66;03m#      * for 'q' arguments, we group by q width\u001b[39;00m\n\u001b[1;32m    384\u001b[0m   \u001b[38;5;66;03m#      * for 'v' arguments, we group by dof width\u001b[39;00m\n\u001b[1;32m    385\u001b[0m   depths \u001b[38;5;241m=\u001b[39m np\u001b[38;5;241m.\u001b[39mzeros(m\u001b[38;5;241m.\u001b[39mnbody, dtype\u001b[38;5;241m=\u001b[39mnp\u001b[38;5;241m.\u001b[39mint32)\n",
      "File \u001b[0;32m~/stanza/stanza/.venv/lib/python3.12/site-packages/mujoco/mjx/_src/scan.py:147\u001b[0m, in \u001b[0;36m_check_input\u001b[0;34m(m, args, in_types)\u001b[0m\n\u001b[1;32m    145\u001b[0m \u001b[38;5;28;01mfor\u001b[39;00m idx, (arg, typ) \u001b[38;5;129;01min\u001b[39;00m \u001b[38;5;28menumerate\u001b[39m(\u001b[38;5;28mzip\u001b[39m(args, in_types)):\n\u001b[1;32m    146\u001b[0m   \u001b[38;5;28;01mif\u001b[39;00m \u001b[38;5;28mlen\u001b[39m(arg) \u001b[38;5;241m!=\u001b[39m size[typ]:\n\u001b[0;32m--> 147\u001b[0m     \u001b[38;5;28;01mraise\u001b[39;00m \u001b[38;5;167;01mIndexError\u001b[39;00m(\n\u001b[1;32m    148\u001b[0m         (\n\u001b[1;32m    149\u001b[0m             \u001b[38;5;124mf\u001b[39m\u001b[38;5;124m'\u001b[39m\u001b[38;5;124mf argument \u001b[39m\u001b[38;5;124m\"\u001b[39m\u001b[38;5;132;01m{\u001b[39;00midx\u001b[38;5;132;01m}\u001b[39;00m\u001b[38;5;124m\"\u001b[39m\u001b[38;5;124m with type \u001b[39m\u001b[38;5;124m\"\u001b[39m\u001b[38;5;132;01m{\u001b[39;00mtyp\u001b[38;5;132;01m}\u001b[39;00m\u001b[38;5;124m\"\u001b[39m\u001b[38;5;124m has length \u001b[39m\u001b[38;5;124m\"\u001b[39m\u001b[38;5;132;01m{\u001b[39;00m\u001b[38;5;28mlen\u001b[39m(arg)\u001b[38;5;132;01m}\u001b[39;00m\u001b[38;5;124m\"\u001b[39m\u001b[38;5;124m'\u001b[39m\n\u001b[1;32m    150\u001b[0m             \u001b[38;5;124mf\u001b[39m\u001b[38;5;124m'\u001b[39m\u001b[38;5;124m which does not match the in_types[\u001b[39m\u001b[38;5;132;01m{\u001b[39;00midx\u001b[38;5;132;01m}\u001b[39;00m\u001b[38;5;124m] expected length of \u001b[39m\u001b[38;5;124m'\u001b[39m\n\u001b[1;32m    151\u001b[0m             \u001b[38;5;124mf\u001b[39m\u001b[38;5;124m'\u001b[39m\u001b[38;5;124m\"\u001b[39m\u001b[38;5;132;01m{\u001b[39;00msize[typ]\u001b[38;5;132;01m}\u001b[39;00m\u001b[38;5;124m\"\u001b[39m\u001b[38;5;124m.\u001b[39m\u001b[38;5;124m'\u001b[39m\n\u001b[1;32m    152\u001b[0m         )\n\u001b[1;32m    153\u001b[0m     )\n",
      "\u001b[0;31mIndexError\u001b[0m: f argument \"3\" with type \"q\" has length \"10\" which does not match the in_types[3] expected length of \"4\"."
     ]
    }
   ],
   "source": [
    "from stanza.policy.ipython import DemonstrationCollector\n",
    "from IPython.display import display\n",
    "import jax.numpy as jnp\n",
    "\n",
    "def save_fn(data):\n",
    "    pass\n",
    "\n",
    "collector = DemonstrationCollector(\n",
    "      env, interactive_policy, \"reacher_data.pkl\", save_fn, 256, 256\n",
    ")\n",
    "    \n",
    "display(collector)"
   ]
  },
  {
   "cell_type": "code",
   "execution_count": null,
   "metadata": {},
   "outputs": [],
   "source": [
    "print(jax.tree_util.tree_map(lambda x: x.shape, collector.demonstrations))"
   ]
  },
  {
   "cell_type": "code",
   "execution_count": null,
   "metadata": {},
   "outputs": [],
   "source": [
    "#collector.save(collector.path)"
   ]
  },
  {
   "cell_type": "code",
   "execution_count": null,
   "metadata": {},
   "outputs": [],
   "source": []
  }
 ],
 "metadata": {
  "kernelspec": {
   "display_name": "Python 3 (ipykernel)",
   "language": "python",
   "name": "python3"
  },
  "language_info": {
   "codemirror_mode": {
    "name": "ipython",
    "version": 3
   },
   "file_extension": ".py",
   "mimetype": "text/x-python",
   "name": "python",
   "nbconvert_exporter": "python",
   "pygments_lexer": "ipython3",
   "version": "3.12.3"
  },
  "widgets": {
   "application/vnd.jupyter.widget-state+json": {
    "state": {
     "02d4462f5aba40d3a9f32ed1629f589a": {
      "model_module": "@jupyter-widgets/controls",
      "model_module_version": "2.0.0",
      "model_name": "ButtonStyleModel",
      "state": {
       "font_family": null,
       "font_size": null,
       "font_style": null,
       "font_variant": null,
       "font_weight": null,
       "text_color": null,
       "text_decoration": null
      }
     },
     "099c1234840c4d64ba7030a260bc4a24": {
      "model_module": "@jupyter-widgets/controls",
      "model_module_version": "2.0.0",
      "model_name": "HTMLStyleModel",
      "state": {
       "description_width": "",
       "font_size": null,
       "text_color": null
      }
     },
     "0d141438c2a14239bcedb821b26d1cbe": {
      "model_module": "@jupyter-widgets/base",
      "model_module_version": "2.0.0",
      "model_name": "LayoutModel",
      "state": {}
     },
     "0de3581abc5c4a47b2a52b3454a246d1": {
      "model_module": "@jupyter-widgets/controls",
      "model_module_version": "2.0.0",
      "model_name": "LabelStyleModel",
      "state": {
       "description_width": "",
       "font_family": null,
       "font_size": null,
       "font_style": null,
       "font_variant": null,
       "font_weight": null,
       "text_color": null,
       "text_decoration": null
      }
     },
     "13fb4ee971fc47e9b9f38257dd79cc16": {
      "model_module": "ipyevents",
      "model_module_version": "2.0.2",
      "model_name": "EventModel",
      "state": {
       "_supported_key_events": [
        "keydown",
        "keyup"
       ],
       "_supported_mouse_events": [
        "click",
        "auxclick",
        "dblclick",
        "mouseenter",
        "mouseleave",
        "mousedown",
        "mouseup",
        "mousemove",
        "wheel",
        "contextmenu",
        "dragstart",
        "drag",
        "dragend",
        "dragenter",
        "dragover",
        "dragleave",
        "drop"
       ],
       "_supported_touch_events": [
        "touchstart",
        "touchend",
        "touchmove",
        "touchcancel"
       ],
       "_view_module": "@jupyter-widgets/controls",
       "source": "IPY_MODEL_e9844e8503854063b376f820aeff4f56",
       "throttle_or_debounce": "",
       "watched_events": [
        "click",
        "keydown",
        "keyup",
        "mousemove"
       ],
       "xy_coordinate_system": ""
      }
     },
     "159001a517594f0ea6803a40905529c1": {
      "model_module": "@jupyter-widgets/base",
      "model_module_version": "2.0.0",
      "model_name": "LayoutModel",
      "state": {}
     },
     "28e374390bc043628f97f85b883cbdb9": {
      "model_module": "@jupyter-widgets/controls",
      "model_module_version": "2.0.0",
      "model_name": "IntSliderModel",
      "state": {
       "behavior": "drag-tap",
       "layout": "IPY_MODEL_687c076535fe4b328518b2bf288b1b95",
       "max": 441,
       "style": "IPY_MODEL_a31f1feb7a2b4edf8f5f7b9f8c356e79",
       "value": 441
      }
     },
     "3aa0adffe706491bb2b67318d4a8339e": {
      "model_module": "@jupyter-widgets/controls",
      "model_module_version": "2.0.0",
      "model_name": "HBoxModel",
      "state": {
       "children": [
        "IPY_MODEL_e9844e8503854063b376f820aeff4f56",
        "IPY_MODEL_b1ccd2492f7f400f88c7785f16fca02a"
       ],
       "layout": "IPY_MODEL_e5e3e90f47fb43268b84f33fc417d659"
      }
     },
     "3c8f29fa2f284fb9982180f2d2fceac5": {
      "buffers": [
       {
        "data": "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",
        "encoding": "base64",
        "path": [
         "value"
        ]
       }
      ],
      "model_module": "@jupyter-widgets/controls",
      "model_module_version": "2.0.0",
      "model_name": "ImageModel",
      "state": {
       "layout": "IPY_MODEL_7e94f3a43c2047f7a917f7d0549744e5"
      }
     },
     "46a77d348d8d4c7681c846e7a2416cbe": {
      "model_module": "@jupyter-widgets/controls",
      "model_module_version": "2.0.0",
      "model_name": "LabelModel",
      "state": {
       "layout": "IPY_MODEL_d026193c77834f4ea953e6911623a880",
       "style": "IPY_MODEL_0de3581abc5c4a47b2a52b3454a246d1"
      }
     },
     "615a754e973f485295d637a5a5d4e125": {
      "model_module": "@jupyter-widgets/controls",
      "model_module_version": "2.0.0",
      "model_name": "IntSliderModel",
      "state": {
       "behavior": "drag-tap",
       "layout": "IPY_MODEL_e011c2ee7c4b44fbb79127537d332f41",
       "max": 0,
       "style": "IPY_MODEL_de37d84aa94f42c1ace537b2ba4bcc28"
      }
     },
     "64d535a829e041f9b92a9829d714e2ee": {
      "model_module": "@jupyter-widgets/controls",
      "model_module_version": "2.0.0",
      "model_name": "ButtonModel",
      "state": {
       "description": "Trim",
       "layout": "IPY_MODEL_726ccbfc7f3244789836f3d58d3b9c3d",
       "style": "IPY_MODEL_02d4462f5aba40d3a9f32ed1629f589a",
       "tooltip": null
      }
     },
     "687c076535fe4b328518b2bf288b1b95": {
      "model_module": "@jupyter-widgets/base",
      "model_module_version": "2.0.0",
      "model_name": "LayoutModel",
      "state": {}
     },
     "6a71651db4954f7aa3754972c697c5ba": {
      "model_module": "@jupyter-widgets/base",
      "model_module_version": "2.0.0",
      "model_name": "LayoutModel",
      "state": {}
     },
     "7102681571d54d58bbe3055f197afe2b": {
      "model_module": "@jupyter-widgets/controls",
      "model_module_version": "2.0.0",
      "model_name": "ButtonStyleModel",
      "state": {
       "font_family": null,
       "font_size": null,
       "font_style": null,
       "font_variant": null,
       "font_weight": null,
       "text_color": null,
       "text_decoration": null
      }
     },
     "726ccbfc7f3244789836f3d58d3b9c3d": {
      "model_module": "@jupyter-widgets/base",
      "model_module_version": "2.0.0",
      "model_name": "LayoutModel",
      "state": {}
     },
     "7682a118496a440596388f84f66653f8": {
      "model_module": "@jupyter-widgets/controls",
      "model_module_version": "2.0.0",
      "model_name": "ButtonModel",
      "state": {
       "description": "Save",
       "layout": "IPY_MODEL_159001a517594f0ea6803a40905529c1",
       "style": "IPY_MODEL_f2643d3e98aa4c7bb8fa8c70e0b35274",
       "tooltip": null
      }
     },
     "7ba97bf5e099467e8633b53f2a7cde54": {
      "model_module": "@jupyter-widgets/controls",
      "model_module_version": "2.0.0",
      "model_name": "ButtonModel",
      "state": {
       "description": "Reset (r)",
       "layout": "IPY_MODEL_ca75a45b41314516a1bccba2162925f1",
       "style": "IPY_MODEL_88595edb1c7f448692505e40c0942119",
       "tooltip": null
      }
     },
     "7df052071e124f8d88ec6fb8fb479115": {
      "model_module": "@jupyter-widgets/controls",
      "model_module_version": "2.0.0",
      "model_name": "ButtonModel",
      "state": {
       "description": "Collect (c)",
       "layout": "IPY_MODEL_0d141438c2a14239bcedb821b26d1cbe",
       "style": "IPY_MODEL_ce8d0242392d44f6ad3ac0e35ebc5f2c",
       "tooltip": null
      }
     },
     "7e94f3a43c2047f7a917f7d0549744e5": {
      "model_module": "@jupyter-widgets/base",
      "model_module_version": "2.0.0",
      "model_name": "LayoutModel",
      "state": {}
     },
     "81c9e11448ab4276a8daa08d79a4f23e": {
      "model_module": "@jupyter-widgets/base",
      "model_module_version": "2.0.0",
      "model_name": "LayoutModel",
      "state": {}
     },
     "86f497e3a6ba4060a1771ea95a4d541e": {
      "model_module": "@jupyter-widgets/base",
      "model_module_version": "2.0.0",
      "model_name": "LayoutModel",
      "state": {}
     },
     "88595edb1c7f448692505e40c0942119": {
      "model_module": "@jupyter-widgets/controls",
      "model_module_version": "2.0.0",
      "model_name": "ButtonStyleModel",
      "state": {
       "font_family": null,
       "font_size": null,
       "font_style": null,
       "font_variant": null,
       "font_weight": null,
       "text_color": null,
       "text_decoration": null
      }
     },
     "a31f1feb7a2b4edf8f5f7b9f8c356e79": {
      "model_module": "@jupyter-widgets/controls",
      "model_module_version": "2.0.0",
      "model_name": "SliderStyleModel",
      "state": {
       "description_width": ""
      }
     },
     "a8c9b6e30dac4b5a8da3825b8d6f46a2": {
      "model_module": "@jupyter-widgets/base",
      "model_module_version": "2.0.0",
      "model_name": "LayoutModel",
      "state": {}
     },
     "b07acc88d50c43edabcdfca7479c6227": {
      "model_module": "@jupyter-widgets/base",
      "model_module_version": "2.0.0",
      "model_name": "LayoutModel",
      "state": {}
     },
     "b1ccd2492f7f400f88c7785f16fca02a": {
      "model_module": "@jupyter-widgets/controls",
      "model_module_version": "2.0.0",
      "model_name": "HTMLModel",
      "state": {
       "layout": "IPY_MODEL_b07acc88d50c43edabcdfca7479c6227",
       "style": "IPY_MODEL_099c1234840c4d64ba7030a260bc4a24",
       "value": "<style>\n.cell-output-ipywidget-background {\n    background-color: transparent !important;\n}\n.jp-OutputArea-output {\n    background-color: transparent;\n}\npre {\n    color: var(--vscode-editor-foreground);\n    margin: 0;\n}\nvideo::-webkit-media-controls {\n  display: none;\n}\n</style>"
      }
     },
     "c2ae6e0c861445ecb742eafad91f4962": {
      "model_module": "@jupyter-widgets/controls",
      "model_module_version": "2.0.0",
      "model_name": "HBoxModel",
      "state": {
       "children": [
        "IPY_MODEL_eb39a1d38a9040628004d21880630c03",
        "IPY_MODEL_7ba97bf5e099467e8633b53f2a7cde54",
        "IPY_MODEL_7df052071e124f8d88ec6fb8fb479115",
        "IPY_MODEL_64d535a829e041f9b92a9829d714e2ee",
        "IPY_MODEL_7682a118496a440596388f84f66653f8"
       ],
       "layout": "IPY_MODEL_81c9e11448ab4276a8daa08d79a4f23e"
      }
     },
     "ca75a45b41314516a1bccba2162925f1": {
      "model_module": "@jupyter-widgets/base",
      "model_module_version": "2.0.0",
      "model_name": "LayoutModel",
      "state": {}
     },
     "ce8d0242392d44f6ad3ac0e35ebc5f2c": {
      "model_module": "@jupyter-widgets/controls",
      "model_module_version": "2.0.0",
      "model_name": "ButtonStyleModel",
      "state": {
       "font_family": null,
       "font_size": null,
       "font_style": null,
       "font_variant": null,
       "font_weight": null,
       "text_color": null,
       "text_decoration": null
      }
     },
     "d026193c77834f4ea953e6911623a880": {
      "model_module": "@jupyter-widgets/base",
      "model_module_version": "2.0.0",
      "model_name": "LayoutModel",
      "state": {}
     },
     "de37d84aa94f42c1ace537b2ba4bcc28": {
      "model_module": "@jupyter-widgets/controls",
      "model_module_version": "2.0.0",
      "model_name": "SliderStyleModel",
      "state": {
       "description_width": ""
      }
     },
     "e011c2ee7c4b44fbb79127537d332f41": {
      "model_module": "@jupyter-widgets/base",
      "model_module_version": "2.0.0",
      "model_name": "LayoutModel",
      "state": {}
     },
     "e5e3e90f47fb43268b84f33fc417d659": {
      "model_module": "@jupyter-widgets/base",
      "model_module_version": "2.0.0",
      "model_name": "LayoutModel",
      "state": {}
     },
     "e9844e8503854063b376f820aeff4f56": {
      "model_module": "jupyter-webrtc",
      "model_module_version": "~0.6.0",
      "model_name": "ImageStreamModel",
      "state": {
       "_view_count": 1,
       "image": "IPY_MODEL_3c8f29fa2f284fb9982180f2d2fceac5",
       "layout": "IPY_MODEL_a8c9b6e30dac4b5a8da3825b8d6f46a2"
      }
     },
     "eb39a1d38a9040628004d21880630c03": {
      "model_module": "@jupyter-widgets/controls",
      "model_module_version": "2.0.0",
      "model_name": "ButtonModel",
      "state": {
       "description": "Delete",
       "layout": "IPY_MODEL_86f497e3a6ba4060a1771ea95a4d541e",
       "style": "IPY_MODEL_7102681571d54d58bbe3055f197afe2b",
       "tooltip": null
      }
     },
     "f2643d3e98aa4c7bb8fa8c70e0b35274": {
      "model_module": "@jupyter-widgets/controls",
      "model_module_version": "2.0.0",
      "model_name": "ButtonStyleModel",
      "state": {
       "font_family": null,
       "font_size": null,
       "font_style": null,
       "font_variant": null,
       "font_weight": null,
       "text_color": null,
       "text_decoration": null
      }
     },
     "fa51ab6bc4d14599ae1c652a7620a4e5": {
      "model_module": "@jupyter-widgets/controls",
      "model_module_version": "2.0.0",
      "model_name": "HBoxModel",
      "state": {
       "children": [
        "IPY_MODEL_615a754e973f485295d637a5a5d4e125",
        "IPY_MODEL_28e374390bc043628f97f85b883cbdb9"
       ],
       "layout": "IPY_MODEL_6a71651db4954f7aa3754972c697c5ba"
      }
     }
    },
    "version_major": 2,
    "version_minor": 0
   }
  }
 },
 "nbformat": 4,
 "nbformat_minor": 4
}
