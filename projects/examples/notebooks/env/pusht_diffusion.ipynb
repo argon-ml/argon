{
 "cells": [
  {
   "cell_type": "code",
   "execution_count": 1,
   "id": "6a9bc698-7b3d-4007-83f5-259992cb7ce9",
   "metadata": {},
   "outputs": [],
   "source": [
    "from stanza.runtime import setup\n",
    "setup()\n",
    "\n",
    "from stanza.data.sequence import SequenceData, Chunk\n",
    "from stanza.env.mujoco.pusht import (\n",
    "    PushTPosObs, PushTEnv, \n",
    "    PositionalControlTransform, PositionalObsTransform,\n",
    "    KeypointObsTransform, RelKeypointObsTransform\n",
    ")\n",
    "from stanza.env import ImageRender\n",
    "from stanza import canvas\n",
    "from stanza.policy.transforms import Transform, ChainedTransform\n",
    "\n",
    "import jax\n",
    "import jax.numpy as jnp\n",
    "from jax.sharding import Mesh, NamedSharding, PartitionSpec\n",
    "\n",
    "from functools import partial"
   ]
  },
  {
   "cell_type": "code",
   "execution_count": 2,
   "id": "787af2ad",
   "metadata": {},
   "outputs": [],
   "source": [
    "if len(jax.devices()) > 1:\n",
    "    render_mesh = Mesh(jax.devices()[:8], ('x',))\n",
    "    render_sharding = NamedSharding(render_mesh, PartitionSpec('x'))\n",
    "    data_mesh = Mesh(jax.devices()[:8], ('x',))\n",
    "    data_sharding = NamedSharding(data_mesh, PartitionSpec('x'))\n",
    "\n",
    "env = PushTEnv()\n",
    "env = ChainedTransform([\n",
    "    PositionalControlTransform(),\n",
    "    #PositionalObsTransform(),\n",
    "    RelKeypointObsTransform()\n",
    "]).transform_env(env)\n",
    "\n",
    "def draw(action_chunk, weight):\n",
    "    T = action_chunk.shape[0]\n",
    "    colors = jnp.array((jnp.arange(T)/T, jnp.zeros(T), jnp.zeros(T), weight*jnp.ones(T))).T\n",
    "    circles = canvas.fill(\n",
    "        canvas.circle(action_chunk, 0.02*jnp.ones(T)),\n",
    "        color=colors\n",
    "    )\n",
    "    circles = canvas.stack_batch(circles)\n",
    "    circles = canvas.transform(circles,\n",
    "        translation=(1,-1),\n",
    "        scale=(128, -128)\n",
    "    )\n",
    "    return circles\n",
    "\n",
    "@partial(jax.jit, out_shardings=render_sharding)\n",
    "def render(state, action_chunks, weights):\n",
    "    image = env.render(state, ImageRender(256, 256))\n",
    "    if action_chunks is not None and weights is not None:\n",
    "        circles = canvas.stack_batch(jax.vmap(draw)(action_chunks, weights))\n",
    "        return canvas.paint(image, circles)\n",
    "    return image"
   ]
  },
  {
   "cell_type": "code",
   "execution_count": 3,
   "id": "b2cf8373-8cc9-4f62-87c4-98ed56b207f2",
   "metadata": {},
   "outputs": [
    {
     "ename": "AttributeError",
     "evalue": "'SystemState' object has no attribute 'data'",
     "output_type": "error",
     "traceback": [
      "\u001b[0;31m---------------------------------------------------------------------------\u001b[0m",
      "\u001b[0;31mAttributeError\u001b[0m                            Traceback (most recent call last)",
      "Cell \u001b[0;32mIn[3], line 16\u001b[0m\n\u001b[1;32m     14\u001b[0m     \u001b[38;5;66;03m# action = jax.tree_util.tree_map(lambda x: x[-action_length:], action)\u001b[39;00m\n\u001b[1;32m     15\u001b[0m     \u001b[38;5;28;01mreturn\u001b[39;00m obs, action\n\u001b[0;32m---> 16\u001b[0m data \u001b[38;5;241m=\u001b[39m \u001b[43mdataset\u001b[49m\u001b[38;5;241;43m.\u001b[39;49m\u001b[43mchunk\u001b[49m\u001b[43m(\u001b[49m\u001b[43mobs_length\u001b[49m\u001b[43m \u001b[49m\u001b[38;5;241;43m+\u001b[39;49m\u001b[43m \u001b[49m\u001b[43maction_length\u001b[49m\u001b[43m)\u001b[49m\u001b[38;5;241;43m.\u001b[39;49m\u001b[43mmap\u001b[49m\u001b[43m(\u001b[49m\u001b[43mmap_chunks\u001b[49m\u001b[43m)\u001b[49m\u001b[38;5;241;43m.\u001b[39;49m\u001b[43mas_pytree\u001b[49m\u001b[43m(\u001b[49m\u001b[43m)\u001b[49m\n\u001b[1;32m     17\u001b[0m data_len \u001b[38;5;241m=\u001b[39m (data[\u001b[38;5;241m1\u001b[39m]\u001b[38;5;241m.\u001b[39mshape[\u001b[38;5;241m0\u001b[39m]\u001b[38;5;241m/\u001b[39m\u001b[38;5;241m/\u001b[39m\u001b[38;5;241m8\u001b[39m)\u001b[38;5;241m*\u001b[39m\u001b[38;5;241m8\u001b[39m    \u001b[38;5;66;03m# truncate length of data to multiple of 8 for sharding\u001b[39;00m\n\u001b[1;32m     18\u001b[0m data \u001b[38;5;241m=\u001b[39m jax\u001b[38;5;241m.\u001b[39mtree_util\u001b[38;5;241m.\u001b[39mtree_map(\u001b[38;5;28;01mlambda\u001b[39;00m x: x[:data_len], data)\n",
      "File \u001b[0;32m~/stanza/stanza/packages/stanza/src/stanza/data/core.py:141\u001b[0m, in \u001b[0;36mMapped.as_pytree\u001b[0;34m(self)\u001b[0m\n\u001b[1;32m    140\u001b[0m \u001b[38;5;28;01mdef\u001b[39;00m \u001b[38;5;21mas_pytree\u001b[39m(\u001b[38;5;28mself\u001b[39m) \u001b[38;5;241m-\u001b[39m\u001b[38;5;241m>\u001b[39m \u001b[38;5;124m\"\u001b[39m\u001b[38;5;124mT\u001b[39m\u001b[38;5;124m\"\u001b[39m:\n\u001b[0;32m--> 141\u001b[0m     \u001b[38;5;28;01mreturn\u001b[39;00m \u001b[43mjax\u001b[49m\u001b[38;5;241;43m.\u001b[39;49m\u001b[43mvmap\u001b[49m\u001b[43m(\u001b[49m\u001b[38;5;28;43mself\u001b[39;49m\u001b[38;5;241;43m.\u001b[39;49m\u001b[43mfn\u001b[49m\u001b[43m)\u001b[49m\u001b[43m(\u001b[49m\u001b[38;5;28;43mself\u001b[39;49m\u001b[38;5;241;43m.\u001b[39;49m\u001b[43mdata\u001b[49m\u001b[38;5;241;43m.\u001b[39;49m\u001b[43mas_pytree\u001b[49m\u001b[43m(\u001b[49m\u001b[43m)\u001b[49m\u001b[43m)\u001b[49m\n",
      "    \u001b[0;31m[... skipping hidden 3 frame]\u001b[0m\n",
      "Cell \u001b[0;32mIn[3], line 11\u001b[0m, in \u001b[0;36mmap_chunks\u001b[0;34m(chunk)\u001b[0m\n\u001b[1;32m      9\u001b[0m obs \u001b[38;5;241m=\u001b[39m jax\u001b[38;5;241m.\u001b[39mtree_util\u001b[38;5;241m.\u001b[39mtree_map(\u001b[38;5;28;01mlambda\u001b[39;00m x: x[:obs_length], obs)\n\u001b[1;32m     10\u001b[0m \u001b[38;5;66;03m# use the future agent positions as the actions\u001b[39;00m\n\u001b[0;32m---> 11\u001b[0m actions \u001b[38;5;241m=\u001b[39m \u001b[43mjax\u001b[49m\u001b[38;5;241;43m.\u001b[39;49m\u001b[43mvmap\u001b[49m\u001b[43m(\u001b[49m\u001b[38;5;28;43;01mlambda\u001b[39;49;00m\u001b[43m \u001b[49m\u001b[43ms\u001b[49m\u001b[43m:\u001b[49m\u001b[43m \u001b[49m\u001b[43mPushTEnv\u001b[49m\u001b[38;5;241;43m.\u001b[39;49m\u001b[43mobserve\u001b[49m\u001b[43m(\u001b[49m\u001b[43menv\u001b[49m\u001b[43m,\u001b[49m\u001b[43m \u001b[49m\u001b[43ms\u001b[49m\u001b[43m)\u001b[49m\u001b[43m)\u001b[49m\u001b[43m(\u001b[49m\u001b[43mstate\u001b[49m\u001b[43m)\u001b[49m\u001b[38;5;241m.\u001b[39magent_pos\n\u001b[1;32m     12\u001b[0m \u001b[38;5;66;03m# compute relative future agent positions\u001b[39;00m\n\u001b[1;32m     13\u001b[0m action \u001b[38;5;241m=\u001b[39m jax\u001b[38;5;241m.\u001b[39mtree_util\u001b[38;5;241m.\u001b[39mtree_map(\u001b[38;5;28;01mlambda\u001b[39;00m x, y: x[\u001b[38;5;241m-\u001b[39maction_length:] \u001b[38;5;241m-\u001b[39m y[obs_length\u001b[38;5;241m-\u001b[39m\u001b[38;5;241m1\u001b[39m], actions, actions)\n",
      "    \u001b[0;31m[... skipping hidden 3 frame]\u001b[0m\n",
      "Cell \u001b[0;32mIn[3], line 11\u001b[0m, in \u001b[0;36mmap_chunks.<locals>.<lambda>\u001b[0;34m(s)\u001b[0m\n\u001b[1;32m      9\u001b[0m obs \u001b[38;5;241m=\u001b[39m jax\u001b[38;5;241m.\u001b[39mtree_util\u001b[38;5;241m.\u001b[39mtree_map(\u001b[38;5;28;01mlambda\u001b[39;00m x: x[:obs_length], obs)\n\u001b[1;32m     10\u001b[0m \u001b[38;5;66;03m# use the future agent positions as the actions\u001b[39;00m\n\u001b[0;32m---> 11\u001b[0m actions \u001b[38;5;241m=\u001b[39m jax\u001b[38;5;241m.\u001b[39mvmap(\u001b[38;5;28;01mlambda\u001b[39;00m s: \u001b[43mPushTEnv\u001b[49m\u001b[38;5;241;43m.\u001b[39;49m\u001b[43mobserve\u001b[49m\u001b[43m(\u001b[49m\u001b[43menv\u001b[49m\u001b[43m,\u001b[49m\u001b[43m \u001b[49m\u001b[43ms\u001b[49m\u001b[43m)\u001b[49m)(state)\u001b[38;5;241m.\u001b[39magent_pos\n\u001b[1;32m     12\u001b[0m \u001b[38;5;66;03m# compute relative future agent positions\u001b[39;00m\n\u001b[1;32m     13\u001b[0m action \u001b[38;5;241m=\u001b[39m jax\u001b[38;5;241m.\u001b[39mtree_util\u001b[38;5;241m.\u001b[39mtree_map(\u001b[38;5;28;01mlambda\u001b[39;00m x, y: x[\u001b[38;5;241m-\u001b[39maction_length:] \u001b[38;5;241m-\u001b[39m y[obs_length\u001b[38;5;241m-\u001b[39m\u001b[38;5;241m1\u001b[39m], actions, actions)\n",
      "    \u001b[0;31m[... skipping hidden 11 frame]\u001b[0m\n",
      "File \u001b[0;32m~/stanza/stanza/packages/stanza/src/stanza/env/mujoco/pusht.py:91\u001b[0m, in \u001b[0;36mPushTEnv.observe\u001b[0;34m(self, state, config)\u001b[0m\n\u001b[1;32m     89\u001b[0m \u001b[38;5;129m@jax\u001b[39m\u001b[38;5;241m.\u001b[39mjit\n\u001b[1;32m     90\u001b[0m \u001b[38;5;28;01mdef\u001b[39;00m \u001b[38;5;21mobserve\u001b[39m(\u001b[38;5;28mself\u001b[39m, state, config : ObserveConfig \u001b[38;5;241m=\u001b[39m \u001b[38;5;28;01mNone\u001b[39;00m):\n\u001b[0;32m---> 91\u001b[0m     data \u001b[38;5;241m=\u001b[39m \u001b[38;5;28;43mself\u001b[39;49m\u001b[38;5;241;43m.\u001b[39;49m\u001b[43msimulator\u001b[49m\u001b[38;5;241;43m.\u001b[39;49m\u001b[43mdata\u001b[49m\u001b[43m(\u001b[49m\u001b[43mstate\u001b[49m\u001b[43m)\u001b[49m\n\u001b[1;32m     92\u001b[0m     \u001b[38;5;28;01mreturn\u001b[39;00m PushTObs(\n\u001b[1;32m     93\u001b[0m         \u001b[38;5;66;03m# Extract agent pos, vel\u001b[39;00m\n\u001b[1;32m     94\u001b[0m         agent_pos\u001b[38;5;241m=\u001b[39mdata\u001b[38;5;241m.\u001b[39mxpos[\u001b[38;5;241m1\u001b[39m,:\u001b[38;5;241m2\u001b[39m],\n\u001b[0;32m   (...)\u001b[0m\n\u001b[1;32m    100\u001b[0m         block_rot_vel\u001b[38;5;241m=\u001b[39mdata\u001b[38;5;241m.\u001b[39mcvel[\u001b[38;5;241m2\u001b[39m,\u001b[38;5;241m2\u001b[39m],\n\u001b[1;32m    101\u001b[0m     )\n",
      "File \u001b[0;32m~/stanza/stanza/packages/stanza/src/stanza/env/mujoco/backends/mujoco.py:188\u001b[0m, in \u001b[0;36mMujocoSimulator.data\u001b[0;34m(self, state)\u001b[0m\n\u001b[1;32m    187\u001b[0m \u001b[38;5;28;01mdef\u001b[39;00m \u001b[38;5;21mdata\u001b[39m(\u001b[38;5;28mself\u001b[39m, state: MujocoState) \u001b[38;5;241m-\u001b[39m\u001b[38;5;241m>\u001b[39m SystemData:\n\u001b[0;32m--> 188\u001b[0m     \u001b[38;5;28;01mreturn\u001b[39;00m \u001b[43mstate\u001b[49m\u001b[38;5;241;43m.\u001b[39;49m\u001b[43mdata\u001b[49m\n",
      "\u001b[0;31mAttributeError\u001b[0m: 'SystemState' object has no attribute 'data'"
     ]
    }
   ],
   "source": [
    "from stanza.datasets.env.pusht import load_chi_pusht_data\n",
    "print(\"Loading data...\")\n",
    "dataset = load_chi_pusht_data()\n",
    "\n",
    "obs_length = 1\n",
    "action_length = 16\n",
    "def map_elements(el):\n",
    "    return env.full_state(el.reduced_state)\n",
    "def map_chunks(chunk : Chunk):\n",
    "    state, action = (chunk.elements.reduced_state, chunk.elements.action)\n",
    "    obs = jax.vmap(lambda s: PushTEnv.observe(env, env.full_state(s)))(state)\n",
    "    obs = jax.tree_util.tree_map(lambda x: x[:obs_length], obs)\n",
    "    # use the future agent positions as the actions\n",
    "    actions = jax.vmap(lambda s: PushTEnv.observe(env, s))(state).agent_pos\n",
    "    # compute relative future agent positions\n",
    "    action = jax.tree_util.tree_map(lambda x, y: x[-action_length:] - y[obs_length-1], actions, actions)\n",
    "    # action = jax.tree_util.tree_map(lambda x: x[-action_length:], action)\n",
    "    return obs, action\n",
    "data = dataset.map_elements(map_elements).chunk(obs_length + action_length).map(map_chunks).as_pytree()\n",
    "data_len = (data[1].shape[0]//8)*8    # truncate length of data to multiple of 8 for sharding\n",
    "data = jax.tree_util.tree_map(lambda x: x[:data_len], data)\n",
    "data = jax.device_put(data, data_sharding)\n",
    "#jax.debug.visualize_array_sharding(data[1][:,:,0])\n",
    "#jax.debug.visualize_array_sharding(data[1][:,:,1])\n",
    "#jax.debug.visualize_array_sharding(data[1][210])\n",
    "\n",
    "sample_chunk = jax.tree_util.tree_map(lambda x: x[0], data)\n",
    "\n",
    "print(\"Loaded data\", jax.tree_util.tree_map(lambda x: x.shape, data))"
   ]
  },
  {
   "cell_type": "code",
   "execution_count": 4,
   "id": "b342d5d3-311d-4ea6-a4b0-e2fbadf3bdff",
   "metadata": {},
   "outputs": [],
   "source": [
    "from stanza.diffusion import DDPMSchedule, nonparametric\n",
    "from stanza.policy import PolicyInput, PolicyOutput\n",
    "from stanza.policy.transforms import ChunkTransform\n",
    "from jax.random import PRNGKey\n",
    "\n",
    "schedule = DDPMSchedule.make_squaredcos_cap_v2(16, prediction_type=\"sample\")\n",
    "\n",
    "@jax.jit\n",
    "def chunk_policy(input: PolicyInput) -> PolicyOutput:\n",
    "    agent_pos = PushTEnv.observe(env, input.state).agent_pos\n",
    "    obs = input.observation\n",
    "    #estimator = nonparametric.nw_local_poly_closed(data, schedule, 1, 0.001)\n",
    "    estimator = nonparametric.nw_local_poly(PRNGKey(42), data, schedule, 0, \n",
    "                              nonparametric.log_gaussian_kernel, nonparametric.log_gaussian_kernel, \n",
    "                              0.01, 0.01, 512)\n",
    "    diffuser = nonparametric.nw_diffuser(obs, estimator)\n",
    "    #diffuser = nonparametric.nw_cond_diffuser(obs, data, schedule, nonparametric.log_gaussian_kernel, 0.01)\n",
    "    diffuser = nonparametric.closest_diffuser(obs, data)\n",
    "    action = schedule.sample(input.rng_key, diffuser, sample_chunk[1]) + agent_pos\n",
    "    return PolicyOutput(action)\n",
    "transform = ChunkTransform(obs_length, action_length)\n",
    "policy = transform.transform_policy(chunk_policy)"
   ]
  },
  {
   "cell_type": "code",
   "execution_count": 5,
   "id": "8e4bcc14",
   "metadata": {},
   "outputs": [
    {
     "data": {
      "application/vnd.jupyter.widget-view+json": {
       "model_id": "40978bb9f62946679694b0eb4d6b2552",
       "version_major": 2,
       "version_minor": 0
      },
      "text/plain": [
       "HBox(children=(Image(value=b'\\x89PNG\\r\\n\\x1a\\n\\x00\\x00\\x00\\rIHDR\\x00\\x00\\x01\\x00\\x00\\x00\\x01\\x00\\x08\\x06\\x00\\x…"
      ]
     },
     "execution_count": 5,
     "metadata": {},
     "output_type": "execute_result"
    }
   ],
   "source": [
    "from stanza.util.ipython import as_image\n",
    "\n",
    "state = env.reset(jax.random.key(0))\n",
    "state_batch = jax.tree_util.tree_map(\n",
    "    lambda x: jnp.repeat(x[None], obs_length, 0), \n",
    "    state\n",
    ")\n",
    "output = chunk_policy(PolicyInput(\n",
    "    jax.vmap(env.observe)(state_batch),\n",
    "    state,\n",
    "    rng_key=jax.random.key(42))\n",
    ").action \n",
    "as_image(render(state, output[None,...], jnp.ones((1,))))"
   ]
  },
  {
   "cell_type": "code",
   "execution_count": 6,
   "id": "305765c2-5f67-4ca2-95a3-ef21a82261f6",
   "metadata": {},
   "outputs": [],
   "source": [
    "#%timeit chunk_policy(PolicyInput(jax.vmap(env.observe)(state_batch), rng_key=jax.random.key(42))).action "
   ]
  },
  {
   "cell_type": "code",
   "execution_count": 7,
   "id": "c23a0c5b",
   "metadata": {},
   "outputs": [
    {
     "data": {
      "application/vnd.jupyter.widget-view+json": {
       "model_id": "6ba76f364e0f40e9bf7a732222109058",
       "version_major": 2,
       "version_minor": 0
      },
      "text/plain": [
       "Label(value='Hello world')"
      ]
     },
     "metadata": {},
     "output_type": "display_data"
    },
    {
     "data": {
      "application/vnd.jupyter.widget-view+json": {
       "model_id": "96d57621fe054f8d95a2c4870a1e71d8",
       "version_major": 2,
       "version_minor": 0
      },
      "text/plain": [
       "HBox(children=(ImageStream(image=Image(value=b'\\x89PNG\\r\\n\\x1a\\n\\x00\\x00\\x00\\rIHDR\\x00\\x00\\x01\\x00\\x00\\x00\\x01…"
      ]
     },
     "metadata": {},
     "output_type": "display_data"
    },
    {
     "data": {
      "application/vnd.jupyter.widget-view+json": {
       "model_id": "a247c8a8028d4b28a03910ba0200b079",
       "version_major": 2,
       "version_minor": 0
      },
      "text/plain": [
       "Button(description='Stop', style=ButtonStyle())"
      ]
     },
     "metadata": {},
     "output_type": "display_data"
    }
   ],
   "source": [
    "from stanza.policy.ipython import StreamingInterface\n",
    "from threading import Thread\n",
    "from ipywidgets import Label, Button\n",
    "import time\n",
    "\n",
    "\n",
    "@partial(jax.jit, out_shardings=render_sharding)\n",
    "def batch_policy(obs, state, rng_key):\n",
    "    keys = jax.random.split(rng_key, 8)\n",
    "    return jax.vmap(chunk_policy, in_axes=(PolicyInput(None, None, rng_key=0),))(\n",
    "        PolicyInput(obs, state, rng_key=keys)\n",
    "    ).action\n",
    "\n",
    "executing = True\n",
    "action_queue = []\n",
    "\n",
    "label = Label(value=\"Hello world\")\n",
    "\n",
    "button = Button(description=\"Stop\")\n",
    "def button_click(_):\n",
    "    global executing, action_queue\n",
    "    if executing:\n",
    "        button.description = \"Execute\"\n",
    "        executing = False\n",
    "    else:\n",
    "        button.description = \"Stop\"\n",
    "        executing = True\n",
    "        action_queue = []\n",
    "button.on_click(button_click)\n",
    "\n",
    "interactive = StreamingInterface(256, 256)\n",
    "def loop():\n",
    "    state = env.reset(jax.random.key(42))\n",
    "    #state = dataset[0][0].state\n",
    "    state_batch = jax.tree_util.tree_map(\n",
    "        lambda x: jnp.repeat(x[None], obs_length, 0), \n",
    "        state\n",
    "    )\n",
    "    key = jax.random.key(43)\n",
    "    frame = 0\n",
    "    \n",
    "    action_chunks = None\n",
    "    weights = None\n",
    "    iterations = 0\n",
    "    while True:\n",
    "        t = time.time()\n",
    "        key, r = jax.random.split(key)\n",
    "        if executing and len(action_queue) > 0:\n",
    "            action = action_queue.pop(0)\n",
    "        else:\n",
    "            action = interactive.mouse_pos()\n",
    "\n",
    "        prev_state = state\n",
    "        state = env.step(state, action)\n",
    "        reward = env.reward(prev_state, action, state)\n",
    "        label.value = f\"reward: {reward} {iterations}\"\n",
    "        state_batch = jax.tree_util.tree_map(\n",
    "            lambda x, s: jnp.roll(x, -1).at[-1].set(s),\n",
    "            state_batch, state\n",
    "        )\n",
    "        obs = jax.vmap(env.observe)(state_batch)\n",
    "        \n",
    "        if executing and len(action_queue) == 0:\n",
    "            action_chunks = batch_policy(obs, state, r)\n",
    "            weights = (0.2*jnp.ones(action_chunks.shape[0])).at[0].set(1)\n",
    "            for a in action_chunks[0]:\n",
    "                action_queue.append(a)\n",
    "                #action_queue.append(a)\n",
    "                #action_queue.append(a)\n",
    "            iterations = iterations + action_length\n",
    "        elif not executing and frame % 30 == 0: # re-sample actions every 30 frames\n",
    "            action_chunks = batch_policy(obs, state, r)\n",
    "            weights = jnp.ones(action_chunks.shape[0])\n",
    "        image = render(state, action_chunks, weights)\n",
    "        \n",
    "        interactive.update(image)\n",
    "        elapsed = time.time() - t\n",
    "        time.sleep(max(0, 1/30 - elapsed))\n",
    "        frame = frame + 1\n",
    "\n",
    "t = Thread(target=loop, daemon=True)\n",
    "t.start()\n",
    "t.__del__ = lambda: t.stop()\n",
    "display(label)\n",
    "display(interactive)\n",
    "display(button)"
   ]
  },
  {
   "cell_type": "code",
   "execution_count": null,
   "id": "9634ab6d-f321-4195-acb5-a6398bacbf50",
   "metadata": {},
   "outputs": [],
   "source": []
  }
 ],
 "metadata": {
  "kernelspec": {
   "display_name": "Python 3 (ipykernel)",
   "language": "python",
   "name": "python3"
  },
  "language_info": {
   "codemirror_mode": {
    "name": "ipython",
    "version": 3
   },
   "file_extension": ".py",
   "mimetype": "text/x-python",
   "name": "python",
   "nbconvert_exporter": "python",
   "pygments_lexer": "ipython3",
   "version": "3.12.3"
  },
  "widgets": {
   "application/vnd.jupyter.widget-state+json": {
    "state": {
     "1ad2a7f9820549869f5f21b94b5682a1": {
      "model_module": "@jupyter-widgets/controls",
      "model_module_version": "2.0.0",
      "model_name": "LabelStyleModel",
      "state": {
       "description_width": "",
       "font_family": null,
       "font_size": null,
       "font_style": null,
       "font_variant": null,
       "font_weight": null,
       "text_color": null,
       "text_decoration": null
      }
     },
     "26d19c46be314b88a4ab98d0dacc366a": {
      "model_module": "ipyevents",
      "model_module_version": "2.0.2",
      "model_name": "EventModel",
      "state": {
       "_supported_key_events": [
        "keydown",
        "keyup"
       ],
       "_supported_mouse_events": [
        "click",
        "auxclick",
        "dblclick",
        "mouseenter",
        "mouseleave",
        "mousedown",
        "mouseup",
        "mousemove",
        "wheel",
        "contextmenu",
        "dragstart",
        "drag",
        "dragend",
        "dragenter",
        "dragover",
        "dragleave",
        "drop"
       ],
       "_supported_touch_events": [
        "touchstart",
        "touchend",
        "touchmove",
        "touchcancel"
       ],
       "_view_module": "@jupyter-widgets/controls",
       "source": "IPY_MODEL_badd9b6118734e83a8b1cd9e7553b9ec",
       "throttle_or_debounce": "",
       "watched_events": [
        "click",
        "keydown",
        "keyup",
        "mousemove"
       ],
       "xy_coordinate_system": ""
      }
     },
     "38200a4b834e4c80b03370dae58d00a5": {
      "model_module": "@jupyter-widgets/controls",
      "model_module_version": "2.0.0",
      "model_name": "HTMLStyleModel",
      "state": {
       "description_width": "",
       "font_size": null,
       "text_color": null
      }
     },
     "40978bb9f62946679694b0eb4d6b2552": {
      "model_module": "@jupyter-widgets/controls",
      "model_module_version": "2.0.0",
      "model_name": "HBoxModel",
      "state": {
       "children": [
        "IPY_MODEL_49046485a33f42408da206729c1862be",
        "IPY_MODEL_8ab7c67dc99c470aa062f56cd3149b36"
       ],
       "layout": "IPY_MODEL_4f6dfaa07a6f4740982185e74523c8ea"
      }
     },
     "49046485a33f42408da206729c1862be": {
      "buffers": [
       {
        "data": "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",
        "encoding": "base64",
        "path": [
         "value"
        ]
       }
      ],
      "model_module": "@jupyter-widgets/controls",
      "model_module_version": "2.0.0",
      "model_name": "ImageModel",
      "state": {
       "layout": "IPY_MODEL_afd73e0cc72344eaa5b1a90adc14ba56"
      }
     },
     "4f6dfaa07a6f4740982185e74523c8ea": {
      "model_module": "@jupyter-widgets/base",
      "model_module_version": "2.0.0",
      "model_name": "LayoutModel",
      "state": {}
     },
     "5264c53b0a8b4f1d92e0e296055f336f": {
      "model_module": "@jupyter-widgets/base",
      "model_module_version": "2.0.0",
      "model_name": "LayoutModel",
      "state": {}
     },
     "65a3661bae664a559b3df2b8bdfc9142": {
      "model_module": "@jupyter-widgets/base",
      "model_module_version": "2.0.0",
      "model_name": "LayoutModel",
      "state": {}
     },
     "65f16da6a18742698b4f87e03c98625f": {
      "model_module": "@jupyter-widgets/base",
      "model_module_version": "2.0.0",
      "model_name": "LayoutModel",
      "state": {}
     },
     "6ba76f364e0f40e9bf7a732222109058": {
      "model_module": "@jupyter-widgets/controls",
      "model_module_version": "2.0.0",
      "model_name": "LabelModel",
      "state": {
       "layout": "IPY_MODEL_65f16da6a18742698b4f87e03c98625f",
       "style": "IPY_MODEL_1ad2a7f9820549869f5f21b94b5682a1",
       "value": "reward: 0.0 1456"
      }
     },
     "782ffe4b75244fdb965e94777bf6131a": {
      "model_module": "@jupyter-widgets/controls",
      "model_module_version": "2.0.0",
      "model_name": "HTMLStyleModel",
      "state": {
       "description_width": "",
       "font_size": null,
       "text_color": null
      }
     },
     "8ab7c67dc99c470aa062f56cd3149b36": {
      "model_module": "@jupyter-widgets/controls",
      "model_module_version": "2.0.0",
      "model_name": "HTMLModel",
      "state": {
       "layout": "IPY_MODEL_5264c53b0a8b4f1d92e0e296055f336f",
       "style": "IPY_MODEL_38200a4b834e4c80b03370dae58d00a5",
       "value": "<style>\n.cell-output-ipywidget-background {\n    background-color: transparent !important;\n}\n.jp-OutputArea-output {\n    background-color: transparent;\n}\npre {\n    color: var(--vscode-editor-foreground);\n    margin: 0;\n}\nvideo::-webkit-media-controls {\n  display: none;\n}\n</style>"
      }
     },
     "92833d3d13b04b6eb6fabb381fae9940": {
      "model_module": "@jupyter-widgets/base",
      "model_module_version": "2.0.0",
      "model_name": "LayoutModel",
      "state": {}
     },
     "96d57621fe054f8d95a2c4870a1e71d8": {
      "model_module": "@jupyter-widgets/controls",
      "model_module_version": "2.0.0",
      "model_name": "HBoxModel",
      "state": {
       "children": [
        "IPY_MODEL_badd9b6118734e83a8b1cd9e7553b9ec",
        "IPY_MODEL_ffe176bff7164a1ababd2dcd1496a572"
       ],
       "layout": "IPY_MODEL_d90ace7ff0b64e55a643f197f6b73fb2"
      }
     },
     "a247c8a8028d4b28a03910ba0200b079": {
      "model_module": "@jupyter-widgets/controls",
      "model_module_version": "2.0.0",
      "model_name": "ButtonModel",
      "state": {
       "description": "Stop",
       "layout": "IPY_MODEL_a317580562674432aa1991acceaf29ba",
       "style": "IPY_MODEL_b7b69a87d7234a49aa5e68c2a126c7d5",
       "tooltip": null
      }
     },
     "a317580562674432aa1991acceaf29ba": {
      "model_module": "@jupyter-widgets/base",
      "model_module_version": "2.0.0",
      "model_name": "LayoutModel",
      "state": {}
     },
     "afd73e0cc72344eaa5b1a90adc14ba56": {
      "model_module": "@jupyter-widgets/base",
      "model_module_version": "2.0.0",
      "model_name": "LayoutModel",
      "state": {}
     },
     "b0c83f1a13894949aa6b5aa33f16254d": {
      "model_module": "@jupyter-widgets/base",
      "model_module_version": "2.0.0",
      "model_name": "LayoutModel",
      "state": {}
     },
     "b7b69a87d7234a49aa5e68c2a126c7d5": {
      "model_module": "@jupyter-widgets/controls",
      "model_module_version": "2.0.0",
      "model_name": "ButtonStyleModel",
      "state": {
       "font_family": null,
       "font_size": null,
       "font_style": null,
       "font_variant": null,
       "font_weight": null,
       "text_color": null,
       "text_decoration": null
      }
     },
     "ba4381c1ec1e43e5b76f6247bf787964": {
      "buffers": [
       {
        "data": "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",
        "encoding": "base64",
        "path": [
         "value"
        ]
       }
      ],
      "model_module": "@jupyter-widgets/controls",
      "model_module_version": "2.0.0",
      "model_name": "ImageModel",
      "state": {
       "layout": "IPY_MODEL_b0c83f1a13894949aa6b5aa33f16254d"
      }
     },
     "badd9b6118734e83a8b1cd9e7553b9ec": {
      "model_module": "jupyter-webrtc",
      "model_module_version": "~0.6.0",
      "model_name": "ImageStreamModel",
      "state": {
       "_view_count": 1,
       "image": "IPY_MODEL_ba4381c1ec1e43e5b76f6247bf787964",
       "layout": "IPY_MODEL_92833d3d13b04b6eb6fabb381fae9940"
      }
     },
     "d90ace7ff0b64e55a643f197f6b73fb2": {
      "model_module": "@jupyter-widgets/base",
      "model_module_version": "2.0.0",
      "model_name": "LayoutModel",
      "state": {}
     },
     "ffe176bff7164a1ababd2dcd1496a572": {
      "model_module": "@jupyter-widgets/controls",
      "model_module_version": "2.0.0",
      "model_name": "HTMLModel",
      "state": {
       "layout": "IPY_MODEL_65a3661bae664a559b3df2b8bdfc9142",
       "style": "IPY_MODEL_782ffe4b75244fdb965e94777bf6131a",
       "value": "<style>\n.cell-output-ipywidget-background {\n    background-color: transparent !important;\n}\n.jp-OutputArea-output {\n    background-color: transparent;\n}\npre {\n    color: var(--vscode-editor-foreground);\n    margin: 0;\n}\nvideo::-webkit-media-controls {\n  display: none;\n}\n</style>"
      }
     }
    },
    "version_major": 2,
    "version_minor": 0
   }
  }
 },
 "nbformat": 4,
 "nbformat_minor": 5
}
