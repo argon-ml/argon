{
  "cells": [
    {
      "cell_type": "code",
      "source": [
        "try:\n",
        "    from google.colab import output\n",
        "    output.enable_custom_widget_manager()\n",
        "except ImportError:\n",
        "    pass\n",
        "try:\n",
        "    import stanza\n",
        "except:\n",
        "    %pip install -v git+https://github.com/pfrommerd/stanza.git\n",
        "    # Fix an issue with ipywidgets 8 and colab\n",
        "    %pip install \"ipywidgets<8\""
      ],
      "metadata": {
        "id": "lApaxK33ZPhX"
      },
      "id": "lApaxK33ZPhX",
      "execution_count": 1,
      "outputs": []
    },
    {
      "cell_type": "code",
      "execution_count": 2,
      "id": "6a9bc698-7b3d-4007-83f5-259992cb7ce9",
      "metadata": {
        "id": "6a9bc698-7b3d-4007-83f5-259992cb7ce9"
      },
      "outputs": [],
      "source": [
        "from stanza.runtime import setup\n",
        "setup()\n",
        "\n",
        "from stanza.data.sequence import SequenceData, Chunk\n",
        "from stanza.env.mujoco.pusht import (\n",
        "    PushTPosObs, PushTEnv,\n",
        "    PositionalControlTransform, PositionalObsTransform,\n",
        "    KeypointObsTransform, RelKeypointObsTransform\n",
        ")\n",
        "from stanza.env import ImageRender\n",
        "from stanza.env.transforms import ChainedTransform\n",
        "from stanza import canvas\n",
        "import stanza.env\n",
        "\n",
        "import jax\n",
        "import jax.numpy as jnp\n",
        "from jax.sharding import Mesh, NamedSharding, PartitionSpec\n",
        "\n",
        "from functools import partial"
      ]
    },
    {
      "cell_type": "code",
      "execution_count": null,
      "id": "787af2ad",
      "metadata": {
        "id": "787af2ad"
      },
      "outputs": [],
      "source": [
        "if len(jax.devices()) > 1:\n",
        "    render_mesh = Mesh(jax.devices()[:8], ('x',))\n",
        "    render_sharding = NamedSharding(render_mesh, PartitionSpec('x'))\n",
        "    data_mesh = Mesh(jax.devices()[:8], ('x',))\n",
        "    data_sharding = NamedSharding(data_mesh, PartitionSpec('x'))\n",
        "else:\n",
        "    render_sharding = None\n",
        "\n",
        "env = PushTEnv()\n",
        "env = stanza.env.create(\"mujoco/pusht/rel_keypoint\")\n",
        "\n",
        "def draw(action_chunk, weight, width, height):\n",
        "    T = action_chunk.shape[0]\n",
        "    colors = jnp.array((jnp.arange(T)/T, jnp.zeros(T), jnp.zeros(T), weight*jnp.ones(T))).T\n",
        "    circles = canvas.fill(\n",
        "        canvas.circle(action_chunk, 0.02*jnp.ones(T)),\n",
        "        color=colors\n",
        "    )\n",
        "    circles = canvas.stack_batch(circles)\n",
        "    circles = canvas.transform(circles,\n",
        "        translation=(1,-1),\n",
        "        scale=(width/2, -height/2)\n",
        "    )\n",
        "    return circles\n",
        "\n",
        "@partial(jax.jit, out_shardings=render_sharding, static_argnames=(\"width\",\"height\",))\n",
        "def render(state, action_chunks=None, weights=None, width=256, height=256):\n",
        "    image = env.render(state, ImageRender(width, height))\n",
        "    if action_chunks is not None and weights is not None:\n",
        "        circles = canvas.stack_batch(jax.vmap(draw, in_axes=(0,0,None,None))(action_chunks, weights, width, height))\n",
        "        #jax.debug.print(\"{s}\", s=circles)\n",
        "        return canvas.paint(image, circles)\n",
        "    return image"
      ]
    },
    {
      "cell_type": "code",
      "execution_count": 4,
      "id": "b2cf8373-8cc9-4f62-87c4-98ed56b207f2",
      "metadata": {
        "id": "b2cf8373-8cc9-4f62-87c4-98ed56b207f2",
        "outputId": "9ede4c44-bfc3-4205-fd0b-f3cbe0a80cc4",
        "colab": {
          "base_uri": "https://localhost:8080/"
        }
      },
      "outputs": [
        {
          "output_type": "stream",
          "name": "stdout",
          "text": [
            "Loading data...\n",
            "Computing full mujoco state...\n",
            "Converted reduced state to full state!\n",
            "Loaded data (PushTKeypointRelObs(agent_block_pos=(22352, 1, 2), agent_block_end=(22352, 1, 2), rel_block_pos=(22352, 1, 2), rel_block_end=(22352, 1, 2)), (22352, 16, 2))\n"
          ]
        }
      ],
      "source": [
        "from stanza.datasets.env.pusht import load_chi_pusht_data\n",
        "print(\"Loading data...\")\n",
        "dataset = load_chi_pusht_data().cache()\n",
        "print(\"Computing full mujoco state...\")\n",
        "obs_length = 1\n",
        "action_length = 16\n",
        "def map_elements(el):\n",
        "    return env.full_state(el.reduced_state)\n",
        "\n",
        "data = dataset.map_elements(map_elements).cache()\n",
        "print(\"Converted reduced state to full state!\")\n",
        "\n",
        "def map_chunks(chunk : Chunk):\n",
        "    state = chunk.elements\n",
        "    obs = jax.vmap(env.observe)(state)\n",
        "    obs = jax.tree_util.tree_map(lambda x: x[:obs_length], obs)\n",
        "    # use the future agent positions as the actions\n",
        "    actions = jax.vmap(lambda s: PushTEnv.observe(env, s))(state).agent_pos\n",
        "    # compute relative future agent positions\n",
        "    action = jax.tree_util.tree_map(lambda x, y: x[-action_length:] - y[obs_length-1], actions, actions)\n",
        "    #action = jax.tree_util.tree_map(lambda x: x[-action_length:], actions)\n",
        "    return obs, action\n",
        "data = data.chunk(obs_length + action_length).map(map_chunks).as_pytree()\n",
        "data_len = (data[1].shape[0]//8)*8    # truncate length of data to multiple of 8 for sharding\n",
        "data = jax.tree_util.tree_map(lambda x: x[:data_len], data)\n",
        "data = jax.device_put(data, data_sharding)\n",
        "#jax.debug.visualize_array_sharding(data[1][:,:,0])\n",
        "#jax.debug.visualize_array_sharding(data[1][:,:,1])\n",
        "#jax.debug.visualize_array_sharding(data[1][210])\n",
        "\n",
        "sample_chunk = jax.tree_util.tree_map(lambda x: x[0], data)\n",
        "\n",
        "print(\"Loaded data\", jax.tree_util.tree_map(lambda x: x.shape, data))"
      ]
    },
    {
      "cell_type": "code",
      "execution_count": 5,
      "id": "b342d5d3-311d-4ea6-a4b0-e2fbadf3bdff",
      "metadata": {
        "id": "b342d5d3-311d-4ea6-a4b0-e2fbadf3bdff"
      },
      "outputs": [],
      "source": [
        "from stanza.diffusion import DDPMSchedule, nonparametric\n",
        "from stanza.policy import PolicyInput, PolicyOutput\n",
        "from stanza.policy.transforms import ChunkingTransform\n",
        "from jax.random import PRNGKey\n",
        "\n",
        "schedule = DDPMSchedule.make_squaredcos_cap_v2(16, prediction_type=\"sample\")\n",
        "\n",
        "@jax.jit\n",
        "def chunk_policy(input: PolicyInput) -> PolicyOutput:\n",
        "    agent_pos = PushTEnv.observe(env, input.state).agent_pos\n",
        "    obs = input.observation\n",
        "    #estimator = nonparametric.nw_local_poly_closed(data, schedule, 1, 0.001)\n",
        "    #estimator = nonparametric.nw_local_poly(PRNGKey(42), data, schedule, 0,\n",
        "    #                          nonparametric.log_gaussian_kernel, nonparametric.log_gaussian_kernel,\n",
        "    #                          0.01, 0.001, 128)\n",
        "    #diffuser = nonparametric.nw_diffuser(obs, estimator)\n",
        "    diffuser = nonparametric.nw_cond_diffuser(obs, data, schedule, nonparametric.log_gaussian_kernel, 0.01)\n",
        "    #diffuser = nonparametric.closest_diffuser(obs, data)\n",
        "    action = schedule.sample(input.rng_key, diffuser, sample_chunk[1]) + agent_pos\n",
        "    return PolicyOutput(action)\n",
        "transform = ChunkingTransform(obs_length, action_length)\n",
        "policy = transform.apply(chunk_policy)"
      ]
    },
    {
      "cell_type": "code",
      "execution_count": 6,
      "id": "8e4bcc14",
      "metadata": {
        "id": "8e4bcc14",
        "outputId": "8a169221-8f97-4b1e-ae71-c120b4d544a3",
        "colab": {
          "referenced_widgets": [
            "511f40027dfc4052bdaf928060de2c9a",
            "4a741c4169c64c0d85515a9f5e7d6abf",
            "08dec3807ae546d2a527ddd693ccd7ee",
            "09401564c41b4001917de250ecebe1d8",
            "4de8b9b4f14746a6b46c939266405691",
            "5f17167207bd4829805fe1be6028e938",
            "d2be3e3938bf486ba82888023dd6d5f0"
          ],
          "base_uri": "https://localhost:8080/",
          "height": 277
        }
      },
      "outputs": [
        {
          "output_type": "display_data",
          "data": {
            "text/plain": [
              "HBox(children=(Image(value=b'\\x89PNG\\r\\n\\x1a\\n\\x00\\x00\\x00\\rIHDR\\x00\\x00\\x01\\x00\\x00\\x00\\x01\\x00\\x08\\x06\\x00\\x…"
            ],
            "application/vnd.jupyter.widget-view+json": {
              "version_major": 2,
              "version_minor": 0,
              "model_id": "511f40027dfc4052bdaf928060de2c9a"
            }
          },
          "metadata": {
            "application/vnd.jupyter.widget-view+json": {
              "colab": {
                "custom_widget_manager": {
                  "url": "https://ssl.gstatic.com/colaboratory-static/widgets/colab-cdn-widget-manager/2b70e893a8ba7c0f/manager.min.js"
                }
              }
            }
          }
        }
      ],
      "source": [
        "from stanza.util.ipython import as_image, as_video\n",
        "\n",
        "state = env.reset(jax.random.key(0))\n",
        "state_batch = jax.tree_util.tree_map(\n",
        "    lambda x: jnp.repeat(x[None], obs_length, 0),\n",
        "    state\n",
        ")\n",
        "output = chunk_policy(PolicyInput(\n",
        "    jax.vmap(env.observe)(state_batch),\n",
        "    state,\n",
        "    rng_key=jax.random.key(42))\n",
        ").action\n",
        "as_image(render(state, output[None,...], jnp.ones((1,))))"
      ]
    },
    {
      "cell_type": "code",
      "execution_count": 7,
      "id": "fd3a28b8-baa9-409c-8fc6-468015f27d03",
      "metadata": {
        "id": "fd3a28b8-baa9-409c-8fc6-468015f27d03",
        "outputId": "866c6327-8e88-4070-d61f-5ef61006d8de",
        "colab": {
          "referenced_widgets": [
            "8bbbe216ed13425a84cf93a280c3c343",
            "15c2760bdfeb403fa778d603d57d2fd1",
            "2b2a9603c4a94c9e9be320356d807109",
            "f93ffb0cee5b43a9b6dc255bf75e5984",
            "4c48083b9f744e57a105ef16b6c7e682",
            "09d0b771cc8f4c60b1161a29e638efce",
            "4e8725be481543b58c67740ff51b03db"
          ],
          "base_uri": "https://localhost:8080/",
          "height": 277
        }
      },
      "outputs": [
        {
          "output_type": "display_data",
          "data": {
            "text/plain": [
              "HBox(children=(Video(value=b'\\x00\\x00\\x00 ftypisom\\x00\\x00\\x02\\x00isomiso2avc1mp41\\x00\\x00\\x00\\x08free\\x00\\x00…"
            ],
            "application/vnd.jupyter.widget-view+json": {
              "version_major": 2,
              "version_minor": 0,
              "model_id": "8bbbe216ed13425a84cf93a280c3c343"
            }
          },
          "metadata": {
            "application/vnd.jupyter.widget-view+json": {
              "colab": {
                "custom_widget_manager": {
                  "url": "https://ssl.gstatic.com/colaboratory-static/widgets/colab-cdn-widget-manager/2b70e893a8ba7c0f/manager.min.js"
                }
              }
            }
          }
        }
      ],
      "source": [
        "import stanza.policy\n",
        "from stanza import canvas\n",
        "\n",
        "#@partial(jax.jit, out_shardings=render_sharding)\n",
        "def batch_policy(obs, state, rng_key):\n",
        "    keys = jax.random.split(rng_key, 8)\n",
        "    return jax.vmap(chunk_policy, in_axes=(PolicyInput(None, None, rng_key=0),))(\n",
        "        PolicyInput(obs, state, rng_key=keys)\n",
        "    ).action\n",
        "\n",
        "def roll_video(rng_key):\n",
        "    #transform = ChunkingTransform(obs_length, action_length)\n",
        "    #policy = transform.apply(chunk_policy)\n",
        "    r = stanza.policy.rollout(env.step, state, policy, policy_rng_key=rng_key, observe=env.observe, length=10)\n",
        "    def render_frame(state, width, height):\n",
        "        #state = jax.tree_util.tree_map(lambda x: x[-1], state_batch)\n",
        "        obs = env.observe(state)\n",
        "        action_chunks = batch_policy(\n",
        "            obs,\n",
        "            state,\n",
        "            rng_key=jax.random.key(42)\n",
        "        )\n",
        "        weights = (0.2*jnp.ones(action_chunks.shape[0])).at[0].set(1)\n",
        "        return render(state, action_chunks, weights, width, height)\n",
        "    return jax.vmap(lambda x: render_frame(x, 128, 128))(r.states)\n",
        "\n",
        "@jax.jit\n",
        "def generate_video(rng_key):\n",
        "    keys = jax.random.split(rng_key, 4)\n",
        "    videos = jax.vmap(roll_video)(keys)\n",
        "    video = jax.vmap(\n",
        "        lambda x: stanza.canvas.image_grid(x),\n",
        "        in_axes=1, out_axes=0\n",
        "    )(videos)\n",
        "    return video\n",
        "as_video(generate_video(jax.random.key(42)))"
      ]
    },
    {
      "cell_type": "code",
      "execution_count": 8,
      "id": "305765c2-5f67-4ca2-95a3-ef21a82261f6",
      "metadata": {
        "id": "305765c2-5f67-4ca2-95a3-ef21a82261f6"
      },
      "outputs": [],
      "source": [
        "#%timeit chunk_policy(PolicyInput(jax.vmap(env.observe)(state_batch), rng_key=jax.random.key(42))).action"
      ]
    },
    {
      "cell_type": "code",
      "execution_count": 9,
      "id": "c23a0c5b",
      "metadata": {
        "id": "c23a0c5b",
        "outputId": "3bfd365d-600a-4c0d-be14-f486709db32e",
        "colab": {
          "referenced_widgets": [
            "414a8954b1cb4fe7878c7a512901469f",
            "296eabe11bba42089f6999cf57af96f0",
            "cb9f9963312d4c0c84dab35cfd581e46",
            "ad85560a60f7477ebec3fee4dec85204",
            "32a87767f8b5473fa4a03a9f386da87c",
            "d0d58edab9e94e4a9c39dba733cae073",
            "c5aa14d4390845839bf6e9776e78cf2e",
            "2824c348eb014ad094f41407cffe5935",
            "ca3edf6516504a6ba7025e1806f34131",
            "b47dd4713ca2448da36942b4ceb33703",
            "9bcdc378e6994d58ba52193540a76e34",
            "1b2901d7126d40ddb44dcb1e3c19d4fb",
            "122ef8f3f8d546be85ea2221fbc12c9b",
            "6a07587b5b294c6faffb7cd272a6446a",
            "ed20e2627a37437ba48c352331057775"
          ],
          "base_uri": "https://localhost:8080/",
          "height": 345
        }
      },
      "outputs": [
        {
          "output_type": "display_data",
          "data": {
            "text/plain": [
              "Label(value='Hello world')"
            ],
            "application/vnd.jupyter.widget-view+json": {
              "version_major": 2,
              "version_minor": 0,
              "model_id": "414a8954b1cb4fe7878c7a512901469f"
            }
          },
          "metadata": {
            "application/vnd.jupyter.widget-view+json": {
              "colab": {
                "custom_widget_manager": {
                  "url": "https://ssl.gstatic.com/colaboratory-static/widgets/colab-cdn-widget-manager/2b70e893a8ba7c0f/manager.min.js"
                }
              }
            }
          }
        },
        {
          "output_type": "display_data",
          "data": {
            "text/plain": [
              "HBox(children=(ImageStream(image=Image(value=b'\\x89PNG\\r\\n\\x1a\\n\\x00\\x00\\x00\\rIHDR\\x00\\x00\\x01\\x00\\x00\\x00\\x01…"
            ],
            "application/vnd.jupyter.widget-view+json": {
              "version_major": 2,
              "version_minor": 0,
              "model_id": "ad85560a60f7477ebec3fee4dec85204"
            }
          },
          "metadata": {
            "application/vnd.jupyter.widget-view+json": {
              "colab": {
                "custom_widget_manager": {
                  "url": "https://ssl.gstatic.com/colaboratory-static/widgets/colab-cdn-widget-manager/2b70e893a8ba7c0f/manager.min.js"
                }
              }
            }
          }
        },
        {
          "output_type": "display_data",
          "data": {
            "text/plain": [
              "Button(description='Stop', style=ButtonStyle())"
            ],
            "application/vnd.jupyter.widget-view+json": {
              "version_major": 2,
              "version_minor": 0,
              "model_id": "122ef8f3f8d546be85ea2221fbc12c9b"
            }
          },
          "metadata": {
            "application/vnd.jupyter.widget-view+json": {
              "colab": {
                "custom_widget_manager": {
                  "url": "https://ssl.gstatic.com/colaboratory-static/widgets/colab-cdn-widget-manager/2b70e893a8ba7c0f/manager.min.js"
                }
              }
            }
          }
        }
      ],
      "source": [
        "from stanza.policy.ipython import StreamingInterface\n",
        "from threading import Thread\n",
        "from ipywidgets import Label, Button\n",
        "import time\n",
        "\n",
        "\n",
        "executing = True\n",
        "action_queue = []\n",
        "\n",
        "label = Label(value=\"Hello world\")\n",
        "\n",
        "button = Button(description=\"Stop\")\n",
        "def button_click(_):\n",
        "    global executing, action_queue\n",
        "    if executing:\n",
        "        button.description = \"Execute\"\n",
        "        executing = False\n",
        "    else:\n",
        "        button.description = \"Stop\"\n",
        "        executing = True\n",
        "        action_queue = []\n",
        "button.on_click(button_click)\n",
        "\n",
        "interactive = StreamingInterface(256, 256)\n",
        "def loop():\n",
        "    state = env.reset(jax.random.key(42))\n",
        "    #state = dataset[0][0].state\n",
        "    state_batch = jax.tree_util.tree_map(\n",
        "        lambda x: jnp.repeat(x[None], obs_length, 0),\n",
        "        state\n",
        "    )\n",
        "    key = jax.random.key(43)\n",
        "    frame = 0\n",
        "\n",
        "    action_chunks = None\n",
        "    weights = None\n",
        "    iterations = 0\n",
        "    while True:\n",
        "        t = time.time()\n",
        "        key, r = jax.random.split(key)\n",
        "        if executing and len(action_queue) > 0:\n",
        "            action = action_queue.pop(0)\n",
        "        else:\n",
        "            action = interactive.mouse_pos()\n",
        "\n",
        "        prev_state = state\n",
        "        state = env.step(state, action)\n",
        "        reward = env.reward(prev_state, action, state)\n",
        "        label.value = f\"reward: {reward} {iterations}\"\n",
        "        state_batch = jax.tree_util.tree_map(\n",
        "            lambda x, s: jnp.roll(x, -1).at[-1].set(s),\n",
        "            state_batch, state\n",
        "        )\n",
        "        obs = jax.vmap(env.observe)(state_batch)\n",
        "\n",
        "        if executing and len(action_queue) == 0:\n",
        "            action_chunks = batch_policy(obs, state, r)\n",
        "            weights = (0.2*jnp.ones(action_chunks.shape[0])).at[0].set(1)\n",
        "            for a in action_chunks[0]:\n",
        "                action_queue.append(a)\n",
        "                #action_queue.append(a)\n",
        "                #action_queue.append(a)\n",
        "            iterations = iterations + action_length\n",
        "        elif not executing and frame % 30 == 0: # re-sample actions every 30 frames\n",
        "            action_chunks = batch_policy(obs, state, r)\n",
        "            weights = jnp.ones(action_chunks.shape[0])\n",
        "        image = render(state, action_chunks, weights)\n",
        "\n",
        "        interactive.update(image)\n",
        "        elapsed = time.time() - t\n",
        "        time.sleep(max(0, 1/30 - elapsed))\n",
        "        frame = frame + 1\n",
        "\n",
        "t = Thread(target=loop, daemon=True)\n",
        "t.start()\n",
        "t.__del__ = lambda: t.stop()\n",
        "display(label)\n",
        "display(interactive)\n",
        "display(button)"
      ]
    },
    {
      "cell_type": "code",
      "execution_count": 9,
      "id": "9634ab6d-f321-4195-acb5-a6398bacbf50",
      "metadata": {
        "id": "9634ab6d-f321-4195-acb5-a6398bacbf50"
      },
      "outputs": [],
      "source": []
    }
  ],
  "metadata": {
    "kernelspec": {
      "display_name": "Python 3",
      "name": "python3"
    },
    "language_info": {
      "codemirror_mode": {
        "name": "ipython",
        "version": 3
      },
      "file_extension": ".py",
      "mimetype": "text/x-python",
      "name": "python",
      "nbconvert_exporter": "python",
      "pygments_lexer": "ipython3",
      "version": "3.12.3"
    },
    "widgets": {
      "application/vnd.jupyter.widget-state+json": {
        "511f40027dfc4052bdaf928060de2c9a": {
          "model_module": "@jupyter-widgets/controls",
          "model_name": "HBoxModel",
          "model_module_version": "1.5.0",
          "state": {
            "_dom_classes": [],
            "_model_module": "@jupyter-widgets/controls",
            "_model_module_version": "1.5.0",
            "_model_name": "HBoxModel",
            "_view_count": null,
            "_view_module": "@jupyter-widgets/controls",
            "_view_module_version": "1.5.0",
            "_view_name": "HBoxView",
            "box_style": "",
            "children": [
              "IPY_MODEL_4a741c4169c64c0d85515a9f5e7d6abf",
              "IPY_MODEL_08dec3807ae546d2a527ddd693ccd7ee"
            ],
            "layout": "IPY_MODEL_09401564c41b4001917de250ecebe1d8"
          }
        },
        "4a741c4169c64c0d85515a9f5e7d6abf": {
          "model_module": "@jupyter-widgets/controls",
          "model_name": "ImageModel",
          "model_module_version": "1.5.0",
          "state": {
            "_dom_classes": [],
            "_model_module": "@jupyter-widgets/controls",
            "_model_module_version": "1.5.0",
            "_model_name": "ImageModel",
            "_view_count": null,
            "_view_module": "@jupyter-widgets/controls",
            "_view_module_version": "1.5.0",
            "_view_name": "ImageView",
            "format": "png",
            "height": "",
            "layout": "IPY_MODEL_4de8b9b4f14746a6b46c939266405691",
            "width": ""
          }
        },
        "08dec3807ae546d2a527ddd693ccd7ee": {
          "model_module": "@jupyter-widgets/controls",
          "model_name": "HTMLModel",
          "model_module_version": "1.5.0",
          "state": {
            "_dom_classes": [],
            "_model_module": "@jupyter-widgets/controls",
            "_model_module_version": "1.5.0",
            "_model_name": "HTMLModel",
            "_view_count": null,
            "_view_module": "@jupyter-widgets/controls",
            "_view_module_version": "1.5.0",
            "_view_name": "HTMLView",
            "description": "",
            "description_tooltip": null,
            "layout": "IPY_MODEL_5f17167207bd4829805fe1be6028e938",
            "placeholder": "​",
            "style": "IPY_MODEL_d2be3e3938bf486ba82888023dd6d5f0",
            "value": "<style>\n.cell-output-ipywidget-background {\n    background-color: transparent !important;\n}\n.jp-OutputArea-output {\n    background-color: transparent;\n}\npre {\n    color: var(--vscode-editor-foreground);\n    margin: 0;\n}\n</style>"
          }
        },
        "09401564c41b4001917de250ecebe1d8": {
          "model_module": "@jupyter-widgets/base",
          "model_name": "LayoutModel",
          "model_module_version": "1.2.0",
          "state": {
            "_model_module": "@jupyter-widgets/base",
            "_model_module_version": "1.2.0",
            "_model_name": "LayoutModel",
            "_view_count": null,
            "_view_module": "@jupyter-widgets/base",
            "_view_module_version": "1.2.0",
            "_view_name": "LayoutView",
            "align_content": null,
            "align_items": null,
            "align_self": null,
            "border": null,
            "bottom": null,
            "display": null,
            "flex": null,
            "flex_flow": null,
            "grid_area": null,
            "grid_auto_columns": null,
            "grid_auto_flow": null,
            "grid_auto_rows": null,
            "grid_column": null,
            "grid_gap": null,
            "grid_row": null,
            "grid_template_areas": null,
            "grid_template_columns": null,
            "grid_template_rows": null,
            "height": null,
            "justify_content": null,
            "justify_items": null,
            "left": null,
            "margin": null,
            "max_height": null,
            "max_width": null,
            "min_height": null,
            "min_width": null,
            "object_fit": null,
            "object_position": null,
            "order": null,
            "overflow": null,
            "overflow_x": null,
            "overflow_y": null,
            "padding": null,
            "right": null,
            "top": null,
            "visibility": null,
            "width": null
          }
        },
        "4de8b9b4f14746a6b46c939266405691": {
          "model_module": "@jupyter-widgets/base",
          "model_name": "LayoutModel",
          "model_module_version": "1.2.0",
          "state": {
            "_model_module": "@jupyter-widgets/base",
            "_model_module_version": "1.2.0",
            "_model_name": "LayoutModel",
            "_view_count": null,
            "_view_module": "@jupyter-widgets/base",
            "_view_module_version": "1.2.0",
            "_view_name": "LayoutView",
            "align_content": null,
            "align_items": null,
            "align_self": null,
            "border": null,
            "bottom": null,
            "display": null,
            "flex": null,
            "flex_flow": null,
            "grid_area": null,
            "grid_auto_columns": null,
            "grid_auto_flow": null,
            "grid_auto_rows": null,
            "grid_column": null,
            "grid_gap": null,
            "grid_row": null,
            "grid_template_areas": null,
            "grid_template_columns": null,
            "grid_template_rows": null,
            "height": null,
            "justify_content": null,
            "justify_items": null,
            "left": null,
            "margin": null,
            "max_height": null,
            "max_width": null,
            "min_height": null,
            "min_width": null,
            "object_fit": null,
            "object_position": null,
            "order": null,
            "overflow": null,
            "overflow_x": null,
            "overflow_y": null,
            "padding": null,
            "right": null,
            "top": null,
            "visibility": null,
            "width": null
          }
        },
        "5f17167207bd4829805fe1be6028e938": {
          "model_module": "@jupyter-widgets/base",
          "model_name": "LayoutModel",
          "model_module_version": "1.2.0",
          "state": {
            "_model_module": "@jupyter-widgets/base",
            "_model_module_version": "1.2.0",
            "_model_name": "LayoutModel",
            "_view_count": null,
            "_view_module": "@jupyter-widgets/base",
            "_view_module_version": "1.2.0",
            "_view_name": "LayoutView",
            "align_content": null,
            "align_items": null,
            "align_self": null,
            "border": null,
            "bottom": null,
            "display": null,
            "flex": null,
            "flex_flow": null,
            "grid_area": null,
            "grid_auto_columns": null,
            "grid_auto_flow": null,
            "grid_auto_rows": null,
            "grid_column": null,
            "grid_gap": null,
            "grid_row": null,
            "grid_template_areas": null,
            "grid_template_columns": null,
            "grid_template_rows": null,
            "height": null,
            "justify_content": null,
            "justify_items": null,
            "left": null,
            "margin": null,
            "max_height": null,
            "max_width": null,
            "min_height": null,
            "min_width": null,
            "object_fit": null,
            "object_position": null,
            "order": null,
            "overflow": null,
            "overflow_x": null,
            "overflow_y": null,
            "padding": null,
            "right": null,
            "top": null,
            "visibility": null,
            "width": null
          }
        },
        "d2be3e3938bf486ba82888023dd6d5f0": {
          "model_module": "@jupyter-widgets/controls",
          "model_name": "DescriptionStyleModel",
          "model_module_version": "1.5.0",
          "state": {
            "_model_module": "@jupyter-widgets/controls",
            "_model_module_version": "1.5.0",
            "_model_name": "DescriptionStyleModel",
            "_view_count": null,
            "_view_module": "@jupyter-widgets/base",
            "_view_module_version": "1.2.0",
            "_view_name": "StyleView",
            "description_width": ""
          }
        },
        "8bbbe216ed13425a84cf93a280c3c343": {
          "model_module": "@jupyter-widgets/controls",
          "model_name": "HBoxModel",
          "model_module_version": "1.5.0",
          "state": {
            "_dom_classes": [],
            "_model_module": "@jupyter-widgets/controls",
            "_model_module_version": "1.5.0",
            "_model_name": "HBoxModel",
            "_view_count": null,
            "_view_module": "@jupyter-widgets/controls",
            "_view_module_version": "1.5.0",
            "_view_name": "HBoxView",
            "box_style": "",
            "children": [
              "IPY_MODEL_15c2760bdfeb403fa778d603d57d2fd1",
              "IPY_MODEL_2b2a9603c4a94c9e9be320356d807109"
            ],
            "layout": "IPY_MODEL_f93ffb0cee5b43a9b6dc255bf75e5984"
          }
        },
        "15c2760bdfeb403fa778d603d57d2fd1": {
          "model_module": "@jupyter-widgets/controls",
          "model_name": "VideoModel",
          "model_module_version": "1.5.0",
          "state": {
            "_dom_classes": [],
            "_model_module": "@jupyter-widgets/controls",
            "_model_module_version": "1.5.0",
            "_model_name": "VideoModel",
            "_view_count": null,
            "_view_module": "@jupyter-widgets/controls",
            "_view_module_version": "1.5.0",
            "_view_name": "VideoView",
            "autoplay": true,
            "controls": true,
            "format": "mp4",
            "height": "",
            "layout": "IPY_MODEL_4c48083b9f744e57a105ef16b6c7e682",
            "loop": true,
            "width": ""
          }
        },
        "2b2a9603c4a94c9e9be320356d807109": {
          "model_module": "@jupyter-widgets/controls",
          "model_name": "HTMLModel",
          "model_module_version": "1.5.0",
          "state": {
            "_dom_classes": [],
            "_model_module": "@jupyter-widgets/controls",
            "_model_module_version": "1.5.0",
            "_model_name": "HTMLModel",
            "_view_count": null,
            "_view_module": "@jupyter-widgets/controls",
            "_view_module_version": "1.5.0",
            "_view_name": "HTMLView",
            "description": "",
            "description_tooltip": null,
            "layout": "IPY_MODEL_09d0b771cc8f4c60b1161a29e638efce",
            "placeholder": "​",
            "style": "IPY_MODEL_4e8725be481543b58c67740ff51b03db",
            "value": "<style>\n.cell-output-ipywidget-background {\n    background-color: transparent !important;\n}\n.jp-OutputArea-output {\n    background-color: transparent;\n}\npre {\n    color: var(--vscode-editor-foreground);\n    margin: 0;\n}\n</style>"
          }
        },
        "f93ffb0cee5b43a9b6dc255bf75e5984": {
          "model_module": "@jupyter-widgets/base",
          "model_name": "LayoutModel",
          "model_module_version": "1.2.0",
          "state": {
            "_model_module": "@jupyter-widgets/base",
            "_model_module_version": "1.2.0",
            "_model_name": "LayoutModel",
            "_view_count": null,
            "_view_module": "@jupyter-widgets/base",
            "_view_module_version": "1.2.0",
            "_view_name": "LayoutView",
            "align_content": null,
            "align_items": null,
            "align_self": null,
            "border": null,
            "bottom": null,
            "display": null,
            "flex": null,
            "flex_flow": null,
            "grid_area": null,
            "grid_auto_columns": null,
            "grid_auto_flow": null,
            "grid_auto_rows": null,
            "grid_column": null,
            "grid_gap": null,
            "grid_row": null,
            "grid_template_areas": null,
            "grid_template_columns": null,
            "grid_template_rows": null,
            "height": null,
            "justify_content": null,
            "justify_items": null,
            "left": null,
            "margin": null,
            "max_height": null,
            "max_width": null,
            "min_height": null,
            "min_width": null,
            "object_fit": null,
            "object_position": null,
            "order": null,
            "overflow": null,
            "overflow_x": null,
            "overflow_y": null,
            "padding": null,
            "right": null,
            "top": null,
            "visibility": null,
            "width": null
          }
        },
        "4c48083b9f744e57a105ef16b6c7e682": {
          "model_module": "@jupyter-widgets/base",
          "model_name": "LayoutModel",
          "model_module_version": "1.2.0",
          "state": {
            "_model_module": "@jupyter-widgets/base",
            "_model_module_version": "1.2.0",
            "_model_name": "LayoutModel",
            "_view_count": null,
            "_view_module": "@jupyter-widgets/base",
            "_view_module_version": "1.2.0",
            "_view_name": "LayoutView",
            "align_content": null,
            "align_items": null,
            "align_self": null,
            "border": null,
            "bottom": null,
            "display": null,
            "flex": null,
            "flex_flow": null,
            "grid_area": null,
            "grid_auto_columns": null,
            "grid_auto_flow": null,
            "grid_auto_rows": null,
            "grid_column": null,
            "grid_gap": null,
            "grid_row": null,
            "grid_template_areas": null,
            "grid_template_columns": null,
            "grid_template_rows": null,
            "height": null,
            "justify_content": null,
            "justify_items": null,
            "left": null,
            "margin": null,
            "max_height": null,
            "max_width": null,
            "min_height": null,
            "min_width": null,
            "object_fit": null,
            "object_position": null,
            "order": null,
            "overflow": null,
            "overflow_x": null,
            "overflow_y": null,
            "padding": null,
            "right": null,
            "top": null,
            "visibility": null,
            "width": null
          }
        },
        "09d0b771cc8f4c60b1161a29e638efce": {
          "model_module": "@jupyter-widgets/base",
          "model_name": "LayoutModel",
          "model_module_version": "1.2.0",
          "state": {
            "_model_module": "@jupyter-widgets/base",
            "_model_module_version": "1.2.0",
            "_model_name": "LayoutModel",
            "_view_count": null,
            "_view_module": "@jupyter-widgets/base",
            "_view_module_version": "1.2.0",
            "_view_name": "LayoutView",
            "align_content": null,
            "align_items": null,
            "align_self": null,
            "border": null,
            "bottom": null,
            "display": null,
            "flex": null,
            "flex_flow": null,
            "grid_area": null,
            "grid_auto_columns": null,
            "grid_auto_flow": null,
            "grid_auto_rows": null,
            "grid_column": null,
            "grid_gap": null,
            "grid_row": null,
            "grid_template_areas": null,
            "grid_template_columns": null,
            "grid_template_rows": null,
            "height": null,
            "justify_content": null,
            "justify_items": null,
            "left": null,
            "margin": null,
            "max_height": null,
            "max_width": null,
            "min_height": null,
            "min_width": null,
            "object_fit": null,
            "object_position": null,
            "order": null,
            "overflow": null,
            "overflow_x": null,
            "overflow_y": null,
            "padding": null,
            "right": null,
            "top": null,
            "visibility": null,
            "width": null
          }
        },
        "4e8725be481543b58c67740ff51b03db": {
          "model_module": "@jupyter-widgets/controls",
          "model_name": "DescriptionStyleModel",
          "model_module_version": "1.5.0",
          "state": {
            "_model_module": "@jupyter-widgets/controls",
            "_model_module_version": "1.5.0",
            "_model_name": "DescriptionStyleModel",
            "_view_count": null,
            "_view_module": "@jupyter-widgets/base",
            "_view_module_version": "1.2.0",
            "_view_name": "StyleView",
            "description_width": ""
          }
        },
        "414a8954b1cb4fe7878c7a512901469f": {
          "model_module": "@jupyter-widgets/controls",
          "model_name": "LabelModel",
          "model_module_version": "1.5.0",
          "state": {
            "_dom_classes": [],
            "_model_module": "@jupyter-widgets/controls",
            "_model_module_version": "1.5.0",
            "_model_name": "LabelModel",
            "_view_count": null,
            "_view_module": "@jupyter-widgets/controls",
            "_view_module_version": "1.5.0",
            "_view_name": "LabelView",
            "description": "",
            "description_tooltip": null,
            "layout": "IPY_MODEL_296eabe11bba42089f6999cf57af96f0",
            "placeholder": "​",
            "style": "IPY_MODEL_cb9f9963312d4c0c84dab35cfd581e46",
            "value": "reward: 0.3392643332481384 160"
          }
        },
        "296eabe11bba42089f6999cf57af96f0": {
          "model_module": "@jupyter-widgets/base",
          "model_name": "LayoutModel",
          "model_module_version": "1.2.0",
          "state": {
            "_model_module": "@jupyter-widgets/base",
            "_model_module_version": "1.2.0",
            "_model_name": "LayoutModel",
            "_view_count": null,
            "_view_module": "@jupyter-widgets/base",
            "_view_module_version": "1.2.0",
            "_view_name": "LayoutView",
            "align_content": null,
            "align_items": null,
            "align_self": null,
            "border": null,
            "bottom": null,
            "display": null,
            "flex": null,
            "flex_flow": null,
            "grid_area": null,
            "grid_auto_columns": null,
            "grid_auto_flow": null,
            "grid_auto_rows": null,
            "grid_column": null,
            "grid_gap": null,
            "grid_row": null,
            "grid_template_areas": null,
            "grid_template_columns": null,
            "grid_template_rows": null,
            "height": null,
            "justify_content": null,
            "justify_items": null,
            "left": null,
            "margin": null,
            "max_height": null,
            "max_width": null,
            "min_height": null,
            "min_width": null,
            "object_fit": null,
            "object_position": null,
            "order": null,
            "overflow": null,
            "overflow_x": null,
            "overflow_y": null,
            "padding": null,
            "right": null,
            "top": null,
            "visibility": null,
            "width": null
          }
        },
        "cb9f9963312d4c0c84dab35cfd581e46": {
          "model_module": "@jupyter-widgets/controls",
          "model_name": "DescriptionStyleModel",
          "model_module_version": "1.5.0",
          "state": {
            "_model_module": "@jupyter-widgets/controls",
            "_model_module_version": "1.5.0",
            "_model_name": "DescriptionStyleModel",
            "_view_count": null,
            "_view_module": "@jupyter-widgets/base",
            "_view_module_version": "1.2.0",
            "_view_name": "StyleView",
            "description_width": ""
          }
        },
        "ad85560a60f7477ebec3fee4dec85204": {
          "model_module": "@jupyter-widgets/controls",
          "model_name": "HBoxModel",
          "model_module_version": "1.5.0",
          "state": {
            "_dom_classes": [],
            "_model_module": "@jupyter-widgets/controls",
            "_model_module_version": "1.5.0",
            "_model_name": "HBoxModel",
            "_view_count": null,
            "_view_module": "@jupyter-widgets/controls",
            "_view_module_version": "1.5.0",
            "_view_name": "HBoxView",
            "box_style": "",
            "children": [
              "IPY_MODEL_32a87767f8b5473fa4a03a9f386da87c",
              "IPY_MODEL_d0d58edab9e94e4a9c39dba733cae073"
            ],
            "layout": "IPY_MODEL_c5aa14d4390845839bf6e9776e78cf2e"
          }
        },
        "32a87767f8b5473fa4a03a9f386da87c": {
          "model_module": "jupyter-webrtc",
          "model_name": "ImageStreamModel",
          "model_module_version": "~0.6.0",
          "state": {
            "_dom_classes": [],
            "_model_module": "jupyter-webrtc",
            "_model_module_version": "~0.6.0",
            "_model_name": "ImageStreamModel",
            "_view_count": null,
            "_view_module": "jupyter-webrtc",
            "_view_module_version": "~0.6.0",
            "_view_name": "MediaStreamView",
            "image": "IPY_MODEL_b47dd4713ca2448da36942b4ceb33703",
            "layout": "IPY_MODEL_9bcdc378e6994d58ba52193540a76e34"
          }
        },
        "d0d58edab9e94e4a9c39dba733cae073": {
          "model_module": "@jupyter-widgets/controls",
          "model_name": "HTMLModel",
          "model_module_version": "1.5.0",
          "state": {
            "_dom_classes": [],
            "_model_module": "@jupyter-widgets/controls",
            "_model_module_version": "1.5.0",
            "_model_name": "HTMLModel",
            "_view_count": null,
            "_view_module": "@jupyter-widgets/controls",
            "_view_module_version": "1.5.0",
            "_view_name": "HTMLView",
            "description": "",
            "description_tooltip": null,
            "layout": "IPY_MODEL_2824c348eb014ad094f41407cffe5935",
            "placeholder": "​",
            "style": "IPY_MODEL_ca3edf6516504a6ba7025e1806f34131",
            "value": "<style>\n.cell-output-ipywidget-background {\n    background-color: transparent !important;\n}\n.jp-OutputArea-output {\n    background-color: transparent;\n}\npre {\n    color: var(--vscode-editor-foreground);\n    margin: 0;\n}\n</style>"
          }
        },
        "c5aa14d4390845839bf6e9776e78cf2e": {
          "model_module": "@jupyter-widgets/base",
          "model_name": "LayoutModel",
          "model_module_version": "1.2.0",
          "state": {
            "_model_module": "@jupyter-widgets/base",
            "_model_module_version": "1.2.0",
            "_model_name": "LayoutModel",
            "_view_count": null,
            "_view_module": "@jupyter-widgets/base",
            "_view_module_version": "1.2.0",
            "_view_name": "LayoutView",
            "align_content": null,
            "align_items": null,
            "align_self": null,
            "border": null,
            "bottom": null,
            "display": null,
            "flex": null,
            "flex_flow": null,
            "grid_area": null,
            "grid_auto_columns": null,
            "grid_auto_flow": null,
            "grid_auto_rows": null,
            "grid_column": null,
            "grid_gap": null,
            "grid_row": null,
            "grid_template_areas": null,
            "grid_template_columns": null,
            "grid_template_rows": null,
            "height": null,
            "justify_content": null,
            "justify_items": null,
            "left": null,
            "margin": null,
            "max_height": null,
            "max_width": null,
            "min_height": null,
            "min_width": null,
            "object_fit": null,
            "object_position": null,
            "order": null,
            "overflow": null,
            "overflow_x": null,
            "overflow_y": null,
            "padding": null,
            "right": null,
            "top": null,
            "visibility": null,
            "width": null
          }
        },
        "2824c348eb014ad094f41407cffe5935": {
          "model_module": "@jupyter-widgets/base",
          "model_name": "LayoutModel",
          "model_module_version": "1.2.0",
          "state": {
            "_model_module": "@jupyter-widgets/base",
            "_model_module_version": "1.2.0",
            "_model_name": "LayoutModel",
            "_view_count": null,
            "_view_module": "@jupyter-widgets/base",
            "_view_module_version": "1.2.0",
            "_view_name": "LayoutView",
            "align_content": null,
            "align_items": null,
            "align_self": null,
            "border": null,
            "bottom": null,
            "display": null,
            "flex": null,
            "flex_flow": null,
            "grid_area": null,
            "grid_auto_columns": null,
            "grid_auto_flow": null,
            "grid_auto_rows": null,
            "grid_column": null,
            "grid_gap": null,
            "grid_row": null,
            "grid_template_areas": null,
            "grid_template_columns": null,
            "grid_template_rows": null,
            "height": null,
            "justify_content": null,
            "justify_items": null,
            "left": null,
            "margin": null,
            "max_height": null,
            "max_width": null,
            "min_height": null,
            "min_width": null,
            "object_fit": null,
            "object_position": null,
            "order": null,
            "overflow": null,
            "overflow_x": null,
            "overflow_y": null,
            "padding": null,
            "right": null,
            "top": null,
            "visibility": null,
            "width": null
          }
        },
        "ca3edf6516504a6ba7025e1806f34131": {
          "model_module": "@jupyter-widgets/controls",
          "model_name": "DescriptionStyleModel",
          "model_module_version": "1.5.0",
          "state": {
            "_model_module": "@jupyter-widgets/controls",
            "_model_module_version": "1.5.0",
            "_model_name": "DescriptionStyleModel",
            "_view_count": null,
            "_view_module": "@jupyter-widgets/base",
            "_view_module_version": "1.2.0",
            "_view_name": "StyleView",
            "description_width": ""
          }
        },
        "b47dd4713ca2448da36942b4ceb33703": {
          "model_module": "@jupyter-widgets/controls",
          "model_name": "ImageModel",
          "model_module_version": "1.5.0",
          "state": {
            "_dom_classes": [],
            "_model_module": "@jupyter-widgets/controls",
            "_model_module_version": "1.5.0",
            "_model_name": "ImageModel",
            "_view_count": null,
            "_view_module": "@jupyter-widgets/controls",
            "_view_module_version": "1.5.0",
            "_view_name": "ImageView",
            "format": "png",
            "height": "",
            "layout": "IPY_MODEL_1b2901d7126d40ddb44dcb1e3c19d4fb",
            "width": ""
          }
        },
        "9bcdc378e6994d58ba52193540a76e34": {
          "model_module": "@jupyter-widgets/base",
          "model_name": "LayoutModel",
          "model_module_version": "1.2.0",
          "state": {
            "_model_module": "@jupyter-widgets/base",
            "_model_module_version": "1.2.0",
            "_model_name": "LayoutModel",
            "_view_count": null,
            "_view_module": "@jupyter-widgets/base",
            "_view_module_version": "1.2.0",
            "_view_name": "LayoutView",
            "align_content": null,
            "align_items": null,
            "align_self": null,
            "border": null,
            "bottom": null,
            "display": null,
            "flex": null,
            "flex_flow": null,
            "grid_area": null,
            "grid_auto_columns": null,
            "grid_auto_flow": null,
            "grid_auto_rows": null,
            "grid_column": null,
            "grid_gap": null,
            "grid_row": null,
            "grid_template_areas": null,
            "grid_template_columns": null,
            "grid_template_rows": null,
            "height": null,
            "justify_content": null,
            "justify_items": null,
            "left": null,
            "margin": null,
            "max_height": null,
            "max_width": null,
            "min_height": null,
            "min_width": null,
            "object_fit": null,
            "object_position": null,
            "order": null,
            "overflow": null,
            "overflow_x": null,
            "overflow_y": null,
            "padding": null,
            "right": null,
            "top": null,
            "visibility": null,
            "width": null
          }
        },
        "1b2901d7126d40ddb44dcb1e3c19d4fb": {
          "model_module": "@jupyter-widgets/base",
          "model_name": "LayoutModel",
          "model_module_version": "1.2.0",
          "state": {
            "_model_module": "@jupyter-widgets/base",
            "_model_module_version": "1.2.0",
            "_model_name": "LayoutModel",
            "_view_count": null,
            "_view_module": "@jupyter-widgets/base",
            "_view_module_version": "1.2.0",
            "_view_name": "LayoutView",
            "align_content": null,
            "align_items": null,
            "align_self": null,
            "border": null,
            "bottom": null,
            "display": null,
            "flex": null,
            "flex_flow": null,
            "grid_area": null,
            "grid_auto_columns": null,
            "grid_auto_flow": null,
            "grid_auto_rows": null,
            "grid_column": null,
            "grid_gap": null,
            "grid_row": null,
            "grid_template_areas": null,
            "grid_template_columns": null,
            "grid_template_rows": null,
            "height": null,
            "justify_content": null,
            "justify_items": null,
            "left": null,
            "margin": null,
            "max_height": null,
            "max_width": null,
            "min_height": null,
            "min_width": null,
            "object_fit": null,
            "object_position": null,
            "order": null,
            "overflow": null,
            "overflow_x": null,
            "overflow_y": null,
            "padding": null,
            "right": null,
            "top": null,
            "visibility": null,
            "width": null
          }
        },
        "122ef8f3f8d546be85ea2221fbc12c9b": {
          "model_module": "@jupyter-widgets/controls",
          "model_name": "ButtonModel",
          "model_module_version": "1.5.0",
          "state": {
            "_dom_classes": [],
            "_model_module": "@jupyter-widgets/controls",
            "_model_module_version": "1.5.0",
            "_model_name": "ButtonModel",
            "_view_count": null,
            "_view_module": "@jupyter-widgets/controls",
            "_view_module_version": "1.5.0",
            "_view_name": "ButtonView",
            "button_style": "",
            "description": "Stop",
            "disabled": false,
            "icon": "",
            "layout": "IPY_MODEL_6a07587b5b294c6faffb7cd272a6446a",
            "style": "IPY_MODEL_ed20e2627a37437ba48c352331057775",
            "tooltip": ""
          }
        },
        "6a07587b5b294c6faffb7cd272a6446a": {
          "model_module": "@jupyter-widgets/base",
          "model_name": "LayoutModel",
          "model_module_version": "1.2.0",
          "state": {
            "_model_module": "@jupyter-widgets/base",
            "_model_module_version": "1.2.0",
            "_model_name": "LayoutModel",
            "_view_count": null,
            "_view_module": "@jupyter-widgets/base",
            "_view_module_version": "1.2.0",
            "_view_name": "LayoutView",
            "align_content": null,
            "align_items": null,
            "align_self": null,
            "border": null,
            "bottom": null,
            "display": null,
            "flex": null,
            "flex_flow": null,
            "grid_area": null,
            "grid_auto_columns": null,
            "grid_auto_flow": null,
            "grid_auto_rows": null,
            "grid_column": null,
            "grid_gap": null,
            "grid_row": null,
            "grid_template_areas": null,
            "grid_template_columns": null,
            "grid_template_rows": null,
            "height": null,
            "justify_content": null,
            "justify_items": null,
            "left": null,
            "margin": null,
            "max_height": null,
            "max_width": null,
            "min_height": null,
            "min_width": null,
            "object_fit": null,
            "object_position": null,
            "order": null,
            "overflow": null,
            "overflow_x": null,
            "overflow_y": null,
            "padding": null,
            "right": null,
            "top": null,
            "visibility": null,
            "width": null
          }
        },
        "ed20e2627a37437ba48c352331057775": {
          "model_module": "@jupyter-widgets/controls",
          "model_name": "ButtonStyleModel",
          "model_module_version": "1.5.0",
          "state": {
            "_model_module": "@jupyter-widgets/controls",
            "_model_module_version": "1.5.0",
            "_model_name": "ButtonStyleModel",
            "_view_count": null,
            "_view_module": "@jupyter-widgets/base",
            "_view_module_version": "1.2.0",
            "_view_name": "StyleView",
            "button_color": null,
            "font_weight": ""
          }
        }
      }
    },
    "colab": {
      "provenance": []
    }
  },
  "nbformat": 4,
  "nbformat_minor": 5
}