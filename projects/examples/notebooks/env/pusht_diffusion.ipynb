{
 "cells": [
  {
   "cell_type": "code",
   "execution_count": 1,
   "id": "6a9bc698-7b3d-4007-83f5-259992cb7ce9",
   "metadata": {},
   "outputs": [],
   "source": [
    "from stanza.runtime import setup\n",
    "setup()\n",
    "\n",
    "from stanza.data.sequence import SequenceData, Chunk\n",
    "from stanza.envs.pusht import PushTEnv, PositionControlTransform, PositionObsTransform\n",
    "from stanza.envs import ImageRender\n",
    "from stanza import canvas\n",
    "from stanza.policy.transforms import Transform, ChainedTransform\n",
    "\n",
    "import jax\n",
    "import jax.numpy as jnp\n",
    "from jax.sharding import Mesh, NamedSharding, PartitionSpec\n",
    "\n",
    "from functools import partial"
   ]
  },
  {
   "cell_type": "code",
   "execution_count": 2,
   "id": "787af2ad",
   "metadata": {},
   "outputs": [],
   "source": [
    "if len(jax.devices()) > 1:\n",
    "    mesh = Mesh(jax.devices()[:8], ('x',))\n",
    "    sharding = NamedSharding(mesh, PartitionSpec('x'))\n",
    "\n",
    "env = PushTEnv()\n",
    "env = ChainedTransform([\n",
    "    PositionControlTransform(),\n",
    "    PositionObsTransform()\n",
    "]).transform_env(env)\n",
    "\n",
    "def draw(action_chunk):\n",
    "    T = action_chunk.shape[0]\n",
    "    colors = jnp.array((jnp.arange(T)/T, jnp.zeros(T), jnp.zeros(T))).T\n",
    "    circles = canvas.fill(\n",
    "        canvas.circle(action_chunk, 0.02*jnp.ones(T)),\n",
    "        color=colors\n",
    "    )\n",
    "    circles = canvas.stack_batch(circles)\n",
    "    circles = canvas.transform(circles,\n",
    "        translation=(1,-1),\n",
    "        scale=(128, -128)\n",
    "    )\n",
    "    return circles\n",
    "\n",
    "@partial(jax.jit, out_shardings=sharding)\n",
    "def render(state, action_chunks):\n",
    "    image = env.render(ImageRender(256, 256), state)\n",
    "    circles = canvas.stack_batch(jax.vmap(draw)(action_chunks))\n",
    "    return canvas.paint(image, circles)"
   ]
  },
  {
   "cell_type": "code",
   "execution_count": 3,
   "id": "b2cf8373-8cc9-4f62-87c4-98ed56b207f2",
   "metadata": {},
   "outputs": [
    {
     "name": "stdout",
     "output_type": "stream",
     "text": [
      "Loaded data (PushTPosObs(agent_pos=(4192, 1, 2), block_pos=(4192, 1, 2), block_rot=(4192, 1)), (4192, 6, 2))\n"
     ]
    }
   ],
   "source": [
    "data = SequenceData.load(\"pusht_data.pkl\")\n",
    "\n",
    "obs_length = 1\n",
    "action_length = 6\n",
    "def map_chunks(chunk : Chunk):\n",
    "    state, action = chunk.chunk\n",
    "    state = jax.vmap(env.observe)(state)\n",
    "    obs = jax.tree_util.tree_map(lambda x: x[:obs_length], state)\n",
    "    # use the future state positions as the actions\n",
    "    action = jax.tree_util.tree_map(lambda x: x[-action_length:], state.agent_pos)\n",
    "    # action = jax.tree_util.tree_map(lambda x: x[-action_length:], action)\n",
    "    return obs, action\n",
    "data = data.chunk(obs_length + action_length).map(map_chunks).as_pytree()\n",
    "sample_chunk = jax.tree_util.tree_map(lambda x: x[0], data)\n",
    "\n",
    "print(\"Loaded data\", jax.tree_util.tree_map(lambda x: x.shape, data))"
   ]
  },
  {
   "cell_type": "code",
   "execution_count": 4,
   "id": "b342d5d3-311d-4ea6-a4b0-e2fbadf3bdff",
   "metadata": {},
   "outputs": [],
   "source": [
    "from stanza.diffusion import DDPMSchedule, nonparametric\n",
    "from stanza.policy import PolicyInput, PolicyOutput\n",
    "from stanza.policy.transforms import ChunkTransform\n",
    "\n",
    "schedule = DDPMSchedule.make_squaredcos_cap_v2(16, prediction_type=\"sample\")\n",
    "\n",
    "@jax.jit\n",
    "def chunk_policy(input: PolicyInput) -> PolicyOutput:\n",
    "    obs = input.observation\n",
    "    diffuser = nonparametric.nw_cond_diffuser(obs, data, schedule, \n",
    "            nonparametric.log_gaussian_kernel, 0.01\n",
    "    )\n",
    "    #diffuser = nonparametric.closest_diffuser(obs, data)\n",
    "    action = schedule.sample(input.rng_key, diffuser, sample_chunk[1])\n",
    "    return PolicyOutput(action)\n",
    "transform = ChunkTransform(obs_length, action_length)\n",
    "policy = transform.transform_policy(chunk_policy)"
   ]
  },
  {
   "cell_type": "code",
   "execution_count": 5,
   "id": "8e4bcc14",
   "metadata": {},
   "outputs": [
    {
     "name": "stdout",
     "output_type": "stream",
     "text": [
      "(256, 256, 4)\n"
     ]
    },
    {
     "data": {
      "application/vnd.jupyter.widget-view+json": {
       "model_id": "9e7a0e90d0554bf49c2a6df3ea3b0fc9",
       "version_major": 2,
       "version_minor": 0
      },
      "text/plain": [
       "HBox(children=(Image(value=b'\\x89PNG\\r\\n\\x1a\\n\\x00\\x00\\x00\\rIHDR\\x00\\x00\\x01\\x00\\x00\\x00\\x01\\x00\\x08\\x06\\x00\\x…"
      ]
     },
     "execution_count": 5,
     "metadata": {},
     "output_type": "execute_result"
    }
   ],
   "source": [
    "from stanza.util.ipython import as_image\n",
    "\n",
    "state = env.reset(jax.random.key(0))\n",
    "state_batch = jax.tree_util.tree_map(\n",
    "    lambda x: jnp.repeat(x[None], obs_length, 0), \n",
    "    state\n",
    ")\n",
    "output = chunk_policy(PolicyInput(\n",
    "    jax.vmap(env.observe)(state_batch),\n",
    "    rng_key=jax.random.key(42))\n",
    ").action \n",
    "\n",
    "as_image(render(state, output[None,...]))"
   ]
  },
  {
   "cell_type": "code",
   "execution_count": 6,
   "id": "c23a0c5b",
   "metadata": {},
   "outputs": [
    {
     "data": {
      "application/vnd.jupyter.widget-view+json": {
       "model_id": "367b5986a02349a8b99cf97980a1cffe",
       "version_major": 2,
       "version_minor": 0
      },
      "text/plain": [
       "Label(value='Hello world')"
      ]
     },
     "metadata": {},
     "output_type": "display_data"
    },
    {
     "data": {
      "application/vnd.jupyter.widget-view+json": {
       "model_id": "24d10b823d874864811c5e7945ca5ae0",
       "version_major": 2,
       "version_minor": 0
      },
      "text/plain": [
       "HBox(children=(ImageStream(image=Image(value=b'\\x89PNG\\r\\n\\x1a\\n\\x00\\x00\\x00\\rIHDR\\x00\\x00\\x01\\x00\\x00\\x00\\x01…"
      ]
     },
     "metadata": {},
     "output_type": "display_data"
    }
   ],
   "source": [
    "from stanza.policy.ipython import StreamingInterface\n",
    "from threading import Thread\n",
    "from ipywidgets import Label\n",
    "import time\n",
    "\n",
    "\n",
    "@partial(jax.jit, out_shardings=sharding)\n",
    "def batch_policy(obs, rng_key):\n",
    "    keys = jax.random.split(rng_key, 8)\n",
    "    return jax.vmap(chunk_policy, in_axes=(PolicyInput(None, rng_key=0),))(\n",
    "        PolicyInput(obs, rng_key=keys)\n",
    "    ).action\n",
    "\n",
    "label = Label(value=\"Hello world\")\n",
    "interactive = StreamingInterface(256, 256)\n",
    "def loop():\n",
    "    state = env.reset(jax.random.key(42))\n",
    "    state_batch = jax.tree_util.tree_map(\n",
    "        lambda x: jnp.repeat(x[None], obs_length, 0), \n",
    "        state\n",
    "    )\n",
    "    key = jax.random.key(42)\n",
    "    while True:\n",
    "        t = time.time()\n",
    "        key, r = jax.random.split(key)\n",
    "        action = interactive.mouse_pos()\n",
    "        prev_state = state\n",
    "        state = env.step(state, action)\n",
    "        reward = env.reward(prev_state, action, state)\n",
    "        label.value = f\"reward: {reward}\"\n",
    "        state_batch = jax.tree_util.tree_map(\n",
    "            lambda x, s: jnp.roll(x, -1).at[-1].set(s),\n",
    "            state_batch, state\n",
    "        )\n",
    "        obs = jax.vmap(env.observe)(state_batch)\n",
    "        output = batch_policy(obs, jax.random.key(42))\n",
    "        output = jax.tree_util.tree_map(lambda x: x[:1], output)\n",
    "        image = render(state, output)\n",
    "        interactive.update(image)\n",
    "        elapsed = time.time() - t\n",
    "        time.sleep(max(0, 1/30 - elapsed))\n",
    "t = Thread(target=loop, daemon=True)\n",
    "t.start()\n",
    "t.__del__ = lambda: t.stop()\n",
    "display(label)\n",
    "interactive"
   ]
  },
  {
   "cell_type": "code",
   "execution_count": null,
   "id": "f40a4ea7-8f58-4ac0-9057-4938c8aad272",
   "metadata": {},
   "outputs": [],
   "source": []
  }
 ],
 "metadata": {
  "kernelspec": {
   "display_name": "Python 3 (ipykernel)",
   "language": "python",
   "name": "python3"
  },
  "language_info": {
   "codemirror_mode": {
    "name": "ipython",
    "version": 3
   },
   "file_extension": ".py",
   "mimetype": "text/x-python",
   "name": "python",
   "nbconvert_exporter": "python",
   "pygments_lexer": "ipython3",
   "version": "3.12.2"
  },
  "widgets": {
   "application/vnd.jupyter.widget-state+json": {
    "state": {
     "01565f5102944db2a8697841dd00fbcb": {
      "model_module": "jupyter-webrtc",
      "model_module_version": "~0.6.0",
      "model_name": "ImageStreamModel",
      "state": {
       "_view_count": 1,
       "image": "IPY_MODEL_5b519b0869194838a9f1afe45a0bb36a",
       "layout": "IPY_MODEL_32950209498041be929fe4e2ac9c5f03"
      }
     },
     "0b06da028aba4f9f80ccea1de5104a7a": {
      "model_module": "@jupyter-widgets/controls",
      "model_module_version": "2.0.0",
      "model_name": "HTMLModel",
      "state": {
       "layout": "IPY_MODEL_681ac6d5f6ba4d07bf79cd69729fd407",
       "style": "IPY_MODEL_51593c5e74f54141b1c3ee47f567f620",
       "value": "<style>\n.cell-output-ipywidget-background {\n    background-color: transparent !important;\n}\n.jp-OutputArea-output {\n    background-color: transparent;\n}\npre {\n    color: var(--vscode-editor-foreground);\n    margin: 0;\n}\nvideo::-webkit-media-controls {\n  display: none;\n}\n</style>"
      }
     },
     "19a488f67a994f6fb7815c8c073c2be8": {
      "model_module": "@jupyter-widgets/base",
      "model_module_version": "2.0.0",
      "model_name": "LayoutModel",
      "state": {}
     },
     "24d10b823d874864811c5e7945ca5ae0": {
      "model_module": "@jupyter-widgets/controls",
      "model_module_version": "2.0.0",
      "model_name": "HBoxModel",
      "state": {
       "children": [
        "IPY_MODEL_01565f5102944db2a8697841dd00fbcb",
        "IPY_MODEL_0b06da028aba4f9f80ccea1de5104a7a"
       ],
       "layout": "IPY_MODEL_d8278a19dd2146a89cbaa20da725e59b"
      }
     },
     "260be96ac444401fa57d7cabb90c308d": {
      "model_module": "ipyevents",
      "model_module_version": "2.0.2",
      "model_name": "EventModel",
      "state": {
       "_supported_key_events": [
        "keydown",
        "keyup"
       ],
       "_supported_mouse_events": [
        "click",
        "auxclick",
        "dblclick",
        "mouseenter",
        "mouseleave",
        "mousedown",
        "mouseup",
        "mousemove",
        "wheel",
        "contextmenu",
        "dragstart",
        "drag",
        "dragend",
        "dragenter",
        "dragover",
        "dragleave",
        "drop"
       ],
       "_supported_touch_events": [
        "touchstart",
        "touchend",
        "touchmove",
        "touchcancel"
       ],
       "_view_module": "@jupyter-widgets/controls",
       "source": "IPY_MODEL_01565f5102944db2a8697841dd00fbcb",
       "throttle_or_debounce": "",
       "watched_events": [
        "click",
        "keydown",
        "keyup",
        "mousemove"
       ],
       "xy_coordinate_system": ""
      }
     },
     "32950209498041be929fe4e2ac9c5f03": {
      "model_module": "@jupyter-widgets/base",
      "model_module_version": "2.0.0",
      "model_name": "LayoutModel",
      "state": {}
     },
     "354ca95e1cd44ab9ac37e895724ef7a3": {
      "model_module": "@jupyter-widgets/base",
      "model_module_version": "2.0.0",
      "model_name": "LayoutModel",
      "state": {}
     },
     "367b5986a02349a8b99cf97980a1cffe": {
      "model_module": "@jupyter-widgets/controls",
      "model_module_version": "2.0.0",
      "model_name": "LabelModel",
      "state": {
       "layout": "IPY_MODEL_4bf5bb1ec111475ebf3bfb7dec3a07fc",
       "style": "IPY_MODEL_5155722232084c91aa0b6b0afc091d9f",
       "value": "reward: 0.8587393760681152"
      }
     },
     "46ab42d5744d46269078ea50b66284f5": {
      "model_module": "@jupyter-widgets/controls",
      "model_module_version": "2.0.0",
      "model_name": "HTMLModel",
      "state": {
       "layout": "IPY_MODEL_fc23cc738b9444569ba805b6e1b01c20",
       "style": "IPY_MODEL_5b524517b46d48219db5eaff188df3e1",
       "value": "<style>\n.cell-output-ipywidget-background {\n    background-color: transparent !important;\n}\n.jp-OutputArea-output {\n    background-color: transparent;\n}\npre {\n    color: var(--vscode-editor-foreground);\n    margin: 0;\n}\nvideo::-webkit-media-controls {\n  display: none;\n}\n</style>"
      }
     },
     "4bf5bb1ec111475ebf3bfb7dec3a07fc": {
      "model_module": "@jupyter-widgets/base",
      "model_module_version": "2.0.0",
      "model_name": "LayoutModel",
      "state": {}
     },
     "5155722232084c91aa0b6b0afc091d9f": {
      "model_module": "@jupyter-widgets/controls",
      "model_module_version": "2.0.0",
      "model_name": "LabelStyleModel",
      "state": {
       "description_width": "",
       "font_family": null,
       "font_size": null,
       "font_style": null,
       "font_variant": null,
       "font_weight": null,
       "text_color": null,
       "text_decoration": null
      }
     },
     "51593c5e74f54141b1c3ee47f567f620": {
      "model_module": "@jupyter-widgets/controls",
      "model_module_version": "2.0.0",
      "model_name": "HTMLStyleModel",
      "state": {
       "description_width": "",
       "font_size": null,
       "text_color": null
      }
     },
     "5b519b0869194838a9f1afe45a0bb36a": {
      "buffers": [
       {
        "data": "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",
        "encoding": "base64",
        "path": [
         "value"
        ]
       }
      ],
      "model_module": "@jupyter-widgets/controls",
      "model_module_version": "2.0.0",
      "model_name": "ImageModel",
      "state": {
       "layout": "IPY_MODEL_649facc329d645f698b5b93248fd4e47"
      }
     },
     "5b524517b46d48219db5eaff188df3e1": {
      "model_module": "@jupyter-widgets/controls",
      "model_module_version": "2.0.0",
      "model_name": "HTMLStyleModel",
      "state": {
       "description_width": "",
       "font_size": null,
       "text_color": null
      }
     },
     "649facc329d645f698b5b93248fd4e47": {
      "model_module": "@jupyter-widgets/base",
      "model_module_version": "2.0.0",
      "model_name": "LayoutModel",
      "state": {}
     },
     "681ac6d5f6ba4d07bf79cd69729fd407": {
      "model_module": "@jupyter-widgets/base",
      "model_module_version": "2.0.0",
      "model_name": "LayoutModel",
      "state": {}
     },
     "9e7a0e90d0554bf49c2a6df3ea3b0fc9": {
      "model_module": "@jupyter-widgets/controls",
      "model_module_version": "2.0.0",
      "model_name": "HBoxModel",
      "state": {
       "children": [
        "IPY_MODEL_f092dc3df4994de097f7fa0ac0ec0d6f",
        "IPY_MODEL_46ab42d5744d46269078ea50b66284f5"
       ],
       "layout": "IPY_MODEL_19a488f67a994f6fb7815c8c073c2be8"
      }
     },
     "d8278a19dd2146a89cbaa20da725e59b": {
      "model_module": "@jupyter-widgets/base",
      "model_module_version": "2.0.0",
      "model_name": "LayoutModel",
      "state": {}
     },
     "f092dc3df4994de097f7fa0ac0ec0d6f": {
      "buffers": [
       {
        "data": "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",
        "encoding": "base64",
        "path": [
         "value"
        ]
       }
      ],
      "model_module": "@jupyter-widgets/controls",
      "model_module_version": "2.0.0",
      "model_name": "ImageModel",
      "state": {
       "layout": "IPY_MODEL_354ca95e1cd44ab9ac37e895724ef7a3"
      }
     },
     "fc23cc738b9444569ba805b6e1b01c20": {
      "model_module": "@jupyter-widgets/base",
      "model_module_version": "2.0.0",
      "model_name": "LayoutModel",
      "state": {}
     }
    },
    "version_major": 2,
    "version_minor": 0
   }
  }
 },
 "nbformat": 4,
 "nbformat_minor": 5
}
