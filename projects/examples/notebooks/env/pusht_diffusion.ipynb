{
 "cells": [
  {
   "cell_type": "code",
   "execution_count": 1,
   "id": "6a9bc698-7b3d-4007-83f5-259992cb7ce9",
   "metadata": {},
   "outputs": [],
   "source": [
    "from stanza.runtime import setup\n",
    "setup()\n",
    "\n",
    "from stanza.data.sequence import SequenceData, Chunk\n",
    "from stanza.env.mujoco.pusht import (\n",
    "    PushTPosObs, PushTEnv, \n",
    "    PositionalControlTransform, PositionalObsTransform,\n",
    "    KeypointObsTransform, RelKeypointTransform\n",
    ")\n",
    "from stanza.env import ImageRender\n",
    "from stanza import canvas\n",
    "from stanza.policy.transforms import Transform, ChainedTransform\n",
    "\n",
    "import jax\n",
    "import jax.numpy as jnp\n",
    "from jax.sharding import Mesh, NamedSharding, PartitionSpec\n",
    "\n",
    "from functools import partial"
   ]
  },
  {
   "cell_type": "code",
   "execution_count": 2,
   "id": "787af2ad",
   "metadata": {},
   "outputs": [],
   "source": [
    "if len(jax.devices()) > 1:\n",
    "    render_mesh = Mesh(jax.devices()[:8], ('x',))\n",
    "    render_sharding = NamedSharding(render_mesh, PartitionSpec('x'))\n",
    "    data_mesh = Mesh(jax.devices()[:8], ('x',))\n",
    "    data_sharding = NamedSharding(data_mesh, PartitionSpec('x'))\n",
    "\n",
    "env = PushTEnv()\n",
    "env = ChainedTransform([\n",
    "    PositionalControlTransform(),\n",
    "    RelKeypointTransform()\n",
    "]).transform_env(env)\n",
    "\n",
    "def draw(action_chunk, weight):\n",
    "    T = action_chunk.shape[0]\n",
    "    colors = jnp.array((jnp.arange(T)/T, jnp.zeros(T), jnp.zeros(T), weight*jnp.ones(T))).T\n",
    "    circles = canvas.fill(\n",
    "        canvas.circle(action_chunk, 0.02*jnp.ones(T)),\n",
    "        color=colors\n",
    "    )\n",
    "    circles = canvas.stack_batch(circles)\n",
    "    circles = canvas.transform(circles,\n",
    "        translation=(1,-1),\n",
    "        scale=(128, -128)\n",
    "    )\n",
    "    return circles\n",
    "\n",
    "@partial(jax.jit, out_shardings=render_sharding)\n",
    "def render(state, action_chunks, weights):\n",
    "    image = env.render(ImageRender(256, 256), state)\n",
    "    if action_chunks is not None and weights is not None:\n",
    "        circles = canvas.stack_batch(jax.vmap(draw)(action_chunks, weights))\n",
    "        return canvas.paint(image, circles)\n",
    "    return image"
   ]
  },
  {
   "cell_type": "code",
   "execution_count": 3,
   "id": "b2cf8373-8cc9-4f62-87c4-98ed56b207f2",
   "metadata": {},
   "outputs": [
    {
     "name": "stdout",
     "output_type": "stream",
     "text": [
      "Loaded data (PushTKeypointRelObs(agent_block_pos=(24000, 1, 2), agent_block_end=(24000, 1, 2), rel_block_pos=(24000, 1, 2), rel_block_end=(24000, 1, 2)), (24000, 8, 2))\n"
     ]
    }
   ],
   "source": [
    "from stanza.datasets.pusht import load_chen_pusht_data\n",
    "dataset = load_chen_pusht_data()\n",
    "\n",
    "obs_length = 1\n",
    "action_length = 8\n",
    "def map_chunks(chunk : Chunk):\n",
    "    state, action = (chunk.chunk.state, chunk.chunk.action)\n",
    "    obs = jax.vmap(env.observe)(state)\n",
    "    obs = jax.tree_util.tree_map(lambda x: x[:obs_length], obs)\n",
    "    # use the future agent positions as the actions\n",
    "    actions = jax.vmap(lambda s: PushTEnv.observe(env, s))(state).agent_pos\n",
    "    # compute relative future agent positions\n",
    "    action = jax.tree_util.tree_map(lambda x, y: x[-action_length:] - y[obs_length-1], actions, actions)\n",
    "    # action = jax.tree_util.tree_map(lambda x: x[-action_length:], action)\n",
    "    return obs, action\n",
    "data = dataset.chunk(obs_length + action_length).map(map_chunks).as_pytree()\n",
    "data_len = (data[1].shape[0]//8)*8    # truncate length of data to multiple of 8 for sharding\n",
    "data = jax.tree_util.tree_map(lambda x: x[:data_len], data)\n",
    "data = jax.device_put(data, data_sharding)\n",
    "#jax.debug.visualize_array_sharding(data[1][:,:,0])\n",
    "#jax.debug.visualize_array_sharding(data[1][:,:,1])\n",
    "#jax.debug.visualize_array_sharding(data[1][210])\n",
    "\n",
    "sample_chunk = jax.tree_util.tree_map(lambda x: x[0], data)\n",
    "\n",
    "print(\"Loaded data\", jax.tree_util.tree_map(lambda x: x.shape, data))"
   ]
  },
  {
   "cell_type": "code",
   "execution_count": 4,
   "id": "b342d5d3-311d-4ea6-a4b0-e2fbadf3bdff",
   "metadata": {},
   "outputs": [],
   "source": [
    "from stanza.diffusion import DDPMSchedule, nonparametric\n",
    "from stanza.policy import PolicyInput, PolicyOutput\n",
    "from stanza.policy.transforms import ChunkTransform\n",
    "from jax.random import PRNGKey\n",
    "\n",
    "schedule = DDPMSchedule.make_squaredcos_cap_v2(16, prediction_type=\"sample\")\n",
    "\n",
    "@jax.jit\n",
    "def chunk_policy(input: PolicyInput) -> PolicyOutput:\n",
    "    agent_pos = PushTEnv.observe(None, input.state).agent_pos\n",
    "    obs = input.observation\n",
    "    #estimator = nonparametric.nw_local_poly_closed(data, schedule, 1, 0.001)\n",
    "    #estimator = nonparametric.nw_local_poly(PRNGKey(42), data, schedule, 0, \n",
    "    #                          nonparametric.log_gaussian_kernel, nonparametric.log_gaussian_kernel, \n",
    "    #                          0.01, 0.001, 128)\n",
    "    #diffuser = nonparametric.nw_diffuser(obs, estimator)\n",
    "    diffuser = nonparametric.nw_cond_diffuser(obs, data, schedule, nonparametric.log_gaussian_kernel, 0.01)\n",
    "    #diffuser = nonparametric.closest_diffuser(obs, data)\n",
    "    action = schedule.sample(input.rng_key, diffuser, sample_chunk[1]) + agent_pos\n",
    "    return PolicyOutput(action)\n",
    "transform = ChunkTransform(obs_length, action_length)\n",
    "policy = transform.transform_policy(chunk_policy)"
   ]
  },
  {
   "cell_type": "code",
   "execution_count": 5,
   "id": "8e4bcc14",
   "metadata": {},
   "outputs": [
    {
     "data": {
      "application/vnd.jupyter.widget-view+json": {
       "model_id": "4b847d16a45346f1bf3a30781012bc3c",
       "version_major": 2,
       "version_minor": 0
      },
      "text/plain": [
       "HBox(children=(Image(value=b'\\x89PNG\\r\\n\\x1a\\n\\x00\\x00\\x00\\rIHDR\\x00\\x00\\x01\\x00\\x00\\x00\\x01\\x00\\x08\\x06\\x00\\x…"
      ]
     },
     "execution_count": 5,
     "metadata": {},
     "output_type": "execute_result"
    }
   ],
   "source": [
    "from stanza.util.ipython import as_image\n",
    "\n",
    "state = env.reset(jax.random.key(0))\n",
    "state_batch = jax.tree_util.tree_map(\n",
    "    lambda x: jnp.repeat(x[None], obs_length, 0), \n",
    "    state\n",
    ")\n",
    "output = chunk_policy(PolicyInput(\n",
    "    jax.vmap(env.observe)(state_batch),\n",
    "    state,\n",
    "    rng_key=jax.random.key(42))\n",
    ").action \n",
    "as_image(render(state, output[None,...], jnp.ones((1,))))"
   ]
  },
  {
   "cell_type": "code",
   "execution_count": 6,
   "id": "305765c2-5f67-4ca2-95a3-ef21a82261f6",
   "metadata": {},
   "outputs": [],
   "source": [
    "#%timeit chunk_policy(PolicyInput(jax.vmap(env.observe)(state_batch), rng_key=jax.random.key(42))).action "
   ]
  },
  {
   "cell_type": "code",
   "execution_count": 7,
   "id": "c23a0c5b",
   "metadata": {},
   "outputs": [
    {
     "data": {
      "application/vnd.jupyter.widget-view+json": {
       "model_id": "bd552469a939456ba3248e617e24738f",
       "version_major": 2,
       "version_minor": 0
      },
      "text/plain": [
       "Label(value='Hello world')"
      ]
     },
     "metadata": {},
     "output_type": "display_data"
    },
    {
     "data": {
      "application/vnd.jupyter.widget-view+json": {
       "model_id": "83a2f551c0c94f02bcc8a148d7cc60f4",
       "version_major": 2,
       "version_minor": 0
      },
      "text/plain": [
       "HBox(children=(ImageStream(image=Image(value=b'\\x89PNG\\r\\n\\x1a\\n\\x00\\x00\\x00\\rIHDR\\x00\\x00\\x01\\x00\\x00\\x00\\x01…"
      ]
     },
     "metadata": {},
     "output_type": "display_data"
    },
    {
     "data": {
      "application/vnd.jupyter.widget-view+json": {
       "model_id": "a6c5e38883764d6dac6826e83817b619",
       "version_major": 2,
       "version_minor": 0
      },
      "text/plain": [
       "Button(description='Stop', style=ButtonStyle())"
      ]
     },
     "metadata": {},
     "output_type": "display_data"
    }
   ],
   "source": [
    "from stanza.policy.ipython import StreamingInterface\n",
    "from threading import Thread\n",
    "from ipywidgets import Label, Button\n",
    "import time\n",
    "\n",
    "\n",
    "@partial(jax.jit, out_shardings=render_sharding)\n",
    "def batch_policy(obs, state, rng_key):\n",
    "    keys = jax.random.split(rng_key, 8)\n",
    "    return jax.vmap(chunk_policy, in_axes=(PolicyInput(None, None, rng_key=0),))(\n",
    "        PolicyInput(obs, state, rng_key=keys)\n",
    "    ).action\n",
    "\n",
    "executing = True\n",
    "action_queue = []\n",
    "\n",
    "label = Label(value=\"Hello world\")\n",
    "\n",
    "button = Button(description=\"Stop\")\n",
    "def button_click(_):\n",
    "    global executing, action_queue\n",
    "    if executing:\n",
    "        button.description = \"Execute\"\n",
    "        executing = False\n",
    "    else:\n",
    "        button.description = \"Stop\"\n",
    "        executing = True\n",
    "        action_queue = []\n",
    "button.on_click(button_click)\n",
    "\n",
    "interactive = StreamingInterface(256, 256)\n",
    "def loop():\n",
    "    state = env.reset(jax.random.key(42))\n",
    "    #state = dataset[0][0].state\n",
    "    state_batch = jax.tree_util.tree_map(\n",
    "        lambda x: jnp.repeat(x[None], obs_length, 0), \n",
    "        state\n",
    "    )\n",
    "    key = jax.random.key(43)\n",
    "    frame = 0\n",
    "    \n",
    "    action_chunks = None\n",
    "    weights = None\n",
    "    iterations = 0\n",
    "    while True:\n",
    "        t = time.time()\n",
    "        key, r = jax.random.split(key)\n",
    "        if executing and len(action_queue) > 0:\n",
    "            action = action_queue.pop(0)\n",
    "        else:\n",
    "            action = interactive.mouse_pos()\n",
    "\n",
    "        prev_state = state\n",
    "        state = env.step(state, action)\n",
    "        reward = env.reward(prev_state, action, state)\n",
    "        label.value = f\"reward: {reward} {iterations}\"\n",
    "        state_batch = jax.tree_util.tree_map(\n",
    "            lambda x, s: jnp.roll(x, -1).at[-1].set(s),\n",
    "            state_batch, state\n",
    "        )\n",
    "        obs = jax.vmap(env.observe)(state_batch)\n",
    "        \n",
    "        if executing and len(action_queue) == 0:\n",
    "            action_chunks = batch_policy(obs, state, r)\n",
    "            weights = (0.2*jnp.ones(action_chunks.shape[0])).at[0].set(1)\n",
    "            for a in action_chunks[0]:\n",
    "                action_queue.append(a)\n",
    "                action_queue.append(a)\n",
    "                action_queue.append(a)\n",
    "            iterations = iterations + action_length\n",
    "        elif not executing and frame % 30 == 0: # re-sample actions every 30 frames\n",
    "            action_chunks = batch_policy(obs, state, r)\n",
    "            weights = jnp.ones(action_chunks.shape[0])\n",
    "        image = render(state, action_chunks, weights)\n",
    "        \n",
    "        interactive.update(image)\n",
    "        elapsed = time.time() - t\n",
    "        time.sleep(max(0, 1/30 - elapsed))\n",
    "        frame = frame + 1\n",
    "\n",
    "t = Thread(target=loop, daemon=True)\n",
    "t.start()\n",
    "t.__del__ = lambda: t.stop()\n",
    "display(label)\n",
    "display(interactive)\n",
    "display(button)"
   ]
  },
  {
   "cell_type": "code",
   "execution_count": null,
   "id": "9634ab6d-f321-4195-acb5-a6398bacbf50",
   "metadata": {},
   "outputs": [],
   "source": []
  }
 ],
 "metadata": {
  "kernelspec": {
   "display_name": "Python 3 (ipykernel)",
   "language": "python",
   "name": "python3"
  },
  "language_info": {
   "codemirror_mode": {
    "name": "ipython",
    "version": 3
   },
   "file_extension": ".py",
   "mimetype": "text/x-python",
   "name": "python",
   "nbconvert_exporter": "python",
   "pygments_lexer": "ipython3",
   "version": "3.12.4"
  },
  "widgets": {
   "application/vnd.jupyter.widget-state+json": {
    "state": {
     "066fb1ec99a1420dba0c9d2506e7894a": {
      "model_module": "@jupyter-widgets/controls",
      "model_module_version": "2.0.0",
      "model_name": "LabelStyleModel",
      "state": {
       "description_width": "",
       "font_family": null,
       "font_size": null,
       "font_style": null,
       "font_variant": null,
       "font_weight": null,
       "text_color": null,
       "text_decoration": null
      }
     },
     "0825f7fcf9e44089b6adf9f4818e20bb": {
      "model_module": "@jupyter-widgets/controls",
      "model_module_version": "2.0.0",
      "model_name": "HTMLModel",
      "state": {
       "layout": "IPY_MODEL_8938c44b9f2b4d3aa54c651c5673dcf5",
       "style": "IPY_MODEL_28158e98e1af4a6482f1e378649c84ba",
       "value": "<style>\n.cell-output-ipywidget-background {\n    background-color: transparent !important;\n}\n.jp-OutputArea-output {\n    background-color: transparent;\n}\npre {\n    color: var(--vscode-editor-foreground);\n    margin: 0;\n}\nvideo::-webkit-media-controls {\n  display: none;\n}\n</style>"
      }
     },
     "18b6ae0874a841da89356f395b167b74": {
      "model_module": "@jupyter-widgets/base",
      "model_module_version": "2.0.0",
      "model_name": "LayoutModel",
      "state": {}
     },
     "28158e98e1af4a6482f1e378649c84ba": {
      "model_module": "@jupyter-widgets/controls",
      "model_module_version": "2.0.0",
      "model_name": "HTMLStyleModel",
      "state": {
       "description_width": "",
       "font_size": null,
       "text_color": null
      }
     },
     "3d54861675bf4eddbdb94a367d41573c": {
      "model_module": "@jupyter-widgets/base",
      "model_module_version": "2.0.0",
      "model_name": "LayoutModel",
      "state": {}
     },
     "4b847d16a45346f1bf3a30781012bc3c": {
      "model_module": "@jupyter-widgets/controls",
      "model_module_version": "2.0.0",
      "model_name": "HBoxModel",
      "state": {
       "children": [
        "IPY_MODEL_aeebdbb3496d4d2b8cb8d67f53fd3ce5",
        "IPY_MODEL_d666e339ab39479f850be3de7d13321a"
       ],
       "layout": "IPY_MODEL_dee59cd07dd148c6817e14e880f440c0"
      }
     },
     "7969d03119014e12b59a4c0d32d980eb": {
      "model_module": "@jupyter-widgets/base",
      "model_module_version": "2.0.0",
      "model_name": "LayoutModel",
      "state": {}
     },
     "7b9db8e27f6b4ba1b1502cbd37ba1c7c": {
      "model_module": "ipyevents",
      "model_module_version": "2.0.2",
      "model_name": "EventModel",
      "state": {
       "_supported_key_events": [
        "keydown",
        "keyup"
       ],
       "_supported_mouse_events": [
        "click",
        "auxclick",
        "dblclick",
        "mouseenter",
        "mouseleave",
        "mousedown",
        "mouseup",
        "mousemove",
        "wheel",
        "contextmenu",
        "dragstart",
        "drag",
        "dragend",
        "dragenter",
        "dragover",
        "dragleave",
        "drop"
       ],
       "_supported_touch_events": [
        "touchstart",
        "touchend",
        "touchmove",
        "touchcancel"
       ],
       "_view_module": "@jupyter-widgets/controls",
       "source": "IPY_MODEL_a6e8d9bc542f4ef4a560ff8ed632c7b2",
       "throttle_or_debounce": "",
       "watched_events": [
        "click",
        "keydown",
        "keyup",
        "mousemove"
       ],
       "xy_coordinate_system": ""
      }
     },
     "83a2f551c0c94f02bcc8a148d7cc60f4": {
      "model_module": "@jupyter-widgets/controls",
      "model_module_version": "2.0.0",
      "model_name": "HBoxModel",
      "state": {
       "children": [
        "IPY_MODEL_a6e8d9bc542f4ef4a560ff8ed632c7b2",
        "IPY_MODEL_0825f7fcf9e44089b6adf9f4818e20bb"
       ],
       "layout": "IPY_MODEL_be1ba91c1d4b4f4b9f2af0c4ea7314a2"
      }
     },
     "851db5c729fa4779bd5d9f24830d9fb7": {
      "model_module": "@jupyter-widgets/base",
      "model_module_version": "2.0.0",
      "model_name": "LayoutModel",
      "state": {}
     },
     "8938c44b9f2b4d3aa54c651c5673dcf5": {
      "model_module": "@jupyter-widgets/base",
      "model_module_version": "2.0.0",
      "model_name": "LayoutModel",
      "state": {}
     },
     "9abb576bf26747bbbcc6e75f0523cebe": {
      "model_module": "@jupyter-widgets/controls",
      "model_module_version": "2.0.0",
      "model_name": "HTMLStyleModel",
      "state": {
       "description_width": "",
       "font_size": null,
       "text_color": null
      }
     },
     "a6c5e38883764d6dac6826e83817b619": {
      "model_module": "@jupyter-widgets/controls",
      "model_module_version": "2.0.0",
      "model_name": "ButtonModel",
      "state": {
       "description": "Execute",
       "layout": "IPY_MODEL_7969d03119014e12b59a4c0d32d980eb",
       "style": "IPY_MODEL_dc6dd1bac4d44ef08b5bfa702c074bf2",
       "tooltip": null
      }
     },
     "a6e8d9bc542f4ef4a560ff8ed632c7b2": {
      "model_module": "jupyter-webrtc",
      "model_module_version": "~0.6.0",
      "model_name": "ImageStreamModel",
      "state": {
       "_view_count": 1,
       "image": "IPY_MODEL_d8e0ef86081d45ddadd1ff025ce35121",
       "layout": "IPY_MODEL_3d54861675bf4eddbdb94a367d41573c"
      }
     },
     "ae558f60347744028b7865b00a020cc7": {
      "model_module": "@jupyter-widgets/base",
      "model_module_version": "2.0.0",
      "model_name": "LayoutModel",
      "state": {}
     },
     "aeebdbb3496d4d2b8cb8d67f53fd3ce5": {
      "buffers": [
       {
        "data": "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",
        "encoding": "base64",
        "path": [
         "value"
        ]
       }
      ],
      "model_module": "@jupyter-widgets/controls",
      "model_module_version": "2.0.0",
      "model_name": "ImageModel",
      "state": {
       "layout": "IPY_MODEL_851db5c729fa4779bd5d9f24830d9fb7"
      }
     },
     "bd552469a939456ba3248e617e24738f": {
      "model_module": "@jupyter-widgets/controls",
      "model_module_version": "2.0.0",
      "model_name": "LabelModel",
      "state": {
       "layout": "IPY_MODEL_18b6ae0874a841da89356f395b167b74",
       "style": "IPY_MODEL_066fb1ec99a1420dba0c9d2506e7894a",
       "value": "reward: 0.8613426089286804 472"
      }
     },
     "be1ba91c1d4b4f4b9f2af0c4ea7314a2": {
      "model_module": "@jupyter-widgets/base",
      "model_module_version": "2.0.0",
      "model_name": "LayoutModel",
      "state": {}
     },
     "c7ddb6b8aac843abaf624cc3a30bcf04": {
      "model_module": "@jupyter-widgets/base",
      "model_module_version": "2.0.0",
      "model_name": "LayoutModel",
      "state": {}
     },
     "d666e339ab39479f850be3de7d13321a": {
      "model_module": "@jupyter-widgets/controls",
      "model_module_version": "2.0.0",
      "model_name": "HTMLModel",
      "state": {
       "layout": "IPY_MODEL_c7ddb6b8aac843abaf624cc3a30bcf04",
       "style": "IPY_MODEL_9abb576bf26747bbbcc6e75f0523cebe",
       "value": "<style>\n.cell-output-ipywidget-background {\n    background-color: transparent !important;\n}\n.jp-OutputArea-output {\n    background-color: transparent;\n}\npre {\n    color: var(--vscode-editor-foreground);\n    margin: 0;\n}\nvideo::-webkit-media-controls {\n  display: none;\n}\n</style>"
      }
     },
     "d8e0ef86081d45ddadd1ff025ce35121": {
      "buffers": [
       {
        "data": "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",
        "encoding": "base64",
        "path": [
         "value"
        ]
       }
      ],
      "model_module": "@jupyter-widgets/controls",
      "model_module_version": "2.0.0",
      "model_name": "ImageModel",
      "state": {
       "layout": "IPY_MODEL_ae558f60347744028b7865b00a020cc7"
      }
     },
     "dc6dd1bac4d44ef08b5bfa702c074bf2": {
      "model_module": "@jupyter-widgets/controls",
      "model_module_version": "2.0.0",
      "model_name": "ButtonStyleModel",
      "state": {
       "font_family": null,
       "font_size": null,
       "font_style": null,
       "font_variant": null,
       "font_weight": null,
       "text_color": null,
       "text_decoration": null
      }
     },
     "dee59cd07dd148c6817e14e880f440c0": {
      "model_module": "@jupyter-widgets/base",
      "model_module_version": "2.0.0",
      "model_name": "LayoutModel",
      "state": {}
     }
    },
    "version_major": 2,
    "version_minor": 0
   }
  }
 },
 "nbformat": 4,
 "nbformat_minor": 5
}
