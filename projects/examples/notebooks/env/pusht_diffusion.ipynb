{
 "cells": [
  {
   "cell_type": "code",
   "execution_count": 1,
   "id": "6a9bc698-7b3d-4007-83f5-259992cb7ce9",
   "metadata": {},
   "outputs": [],
   "source": [
    "from stanza.runtime import setup\n",
    "setup()\n",
    "\n",
    "from stanza.data.sequence import SequenceData, Chunk\n",
    "from stanza.env.mujoco.pusht import (\n",
    "    PushTPosObs, PushTEnv, \n",
    "    PositionalControlTransform, PositionalObsTransform,\n",
    "    KeypointObsTransform, RelKeypointTransform\n",
    ")\n",
    "from stanza.env import ImageRender\n",
    "from stanza import canvas\n",
    "from stanza.policy.transforms import Transform, ChainedTransform\n",
    "\n",
    "import jax\n",
    "import jax.numpy as jnp\n",
    "from jax.sharding import Mesh, NamedSharding, PartitionSpec\n",
    "\n",
    "from functools import partial"
   ]
  },
  {
   "cell_type": "code",
   "execution_count": 2,
   "id": "787af2ad",
   "metadata": {},
   "outputs": [],
   "source": [
    "if len(jax.devices()) > 1:\n",
    "    render_mesh = Mesh(jax.devices()[:8], ('x',))\n",
    "    render_sharding = NamedSharding(render_mesh, PartitionSpec('x'))\n",
    "    data_mesh = Mesh(jax.devices()[:8], ('x',))\n",
    "    data_sharding = NamedSharding(data_mesh, PartitionSpec('x'))\n",
    "\n",
    "env = PushTEnv()\n",
    "env = ChainedTransform([\n",
    "    PositionalControlTransform(),\n",
    "    RelKeypointTransform()\n",
    "]).transform_env(env)\n",
    "\n",
    "def draw(action_chunk, weight):\n",
    "    T = action_chunk.shape[0]\n",
    "    colors = jnp.array((jnp.arange(T)/T, jnp.zeros(T), jnp.zeros(T), weight*jnp.ones(T))).T\n",
    "    circles = canvas.fill(\n",
    "        canvas.circle(action_chunk, 0.02*jnp.ones(T)),\n",
    "        color=colors\n",
    "    )\n",
    "    circles = canvas.stack_batch(circles)\n",
    "    circles = canvas.transform(circles,\n",
    "        translation=(1,-1),\n",
    "        scale=(128, -128)\n",
    "    )\n",
    "    return circles\n",
    "\n",
    "@partial(jax.jit, out_shardings=render_sharding)\n",
    "def render(state, action_chunks, weights):\n",
    "    image = env.render(ImageRender(256, 256), state)\n",
    "    if action_chunks is not None and weights is not None:\n",
    "        circles = canvas.stack_batch(jax.vmap(draw)(action_chunks, weights))\n",
    "        return canvas.paint(image, circles)\n",
    "    return image"
   ]
  },
  {
   "cell_type": "code",
   "execution_count": 3,
   "id": "b2cf8373-8cc9-4f62-87c4-98ed56b207f2",
   "metadata": {},
   "outputs": [
    {
     "name": "stdout",
     "output_type": "stream",
     "text": [
      "Loaded data (PushTKeypointRelObs(agent_block_pos=(22352, 1, 2), agent_block_end=(22352, 1, 2), rel_block_pos=(22352, 1, 2), rel_block_end=(22352, 1, 2)), (22352, 16, 2))\n"
     ]
    }
   ],
   "source": [
    "from stanza.datasets.pusht import load_chen_pusht_data\n",
    "dataset = load_chen_pusht_data()\n",
    "\n",
    "obs_length = 1\n",
    "action_length = 16\n",
    "def map_chunks(chunk : Chunk):\n",
    "    state, action = (chunk.chunk.state, chunk.chunk.action)\n",
    "    obs = jax.vmap(env.observe)(state)\n",
    "    obs = jax.tree_util.tree_map(lambda x: x[:obs_length], obs)\n",
    "    # use the future agent positions as the actions\n",
    "    actions = jax.vmap(lambda s: PushTEnv.observe(env, s))(state).agent_pos\n",
    "    # compute relative future agent positions\n",
    "    action = jax.tree_util.tree_map(lambda x, y: x[-action_length:] - y[obs_length-1], actions, actions)\n",
    "    # action = jax.tree_util.tree_map(lambda x: x[-action_length:], action)\n",
    "    return obs, action\n",
    "data = dataset.chunk(obs_length + action_length).map(map_chunks).as_pytree()\n",
    "data_len = (data[1].shape[0]//8)*8    # truncate length of data to multiple of 8 for sharding\n",
    "data = jax.tree_util.tree_map(lambda x: x[:data_len], data)\n",
    "data = jax.device_put(data, data_sharding)\n",
    "#jax.debug.visualize_array_sharding(data[1][:,:,0])\n",
    "#jax.debug.visualize_array_sharding(data[1][:,:,1])\n",
    "#jax.debug.visualize_array_sharding(data[1][210])\n",
    "\n",
    "sample_chunk = jax.tree_util.tree_map(lambda x: x[0], data)\n",
    "\n",
    "print(\"Loaded data\", jax.tree_util.tree_map(lambda x: x.shape, data))"
   ]
  },
  {
   "cell_type": "code",
   "execution_count": 4,
   "id": "b342d5d3-311d-4ea6-a4b0-e2fbadf3bdff",
   "metadata": {},
   "outputs": [],
   "source": [
    "from stanza.diffusion import DDPMSchedule, nonparametric\n",
    "from stanza.policy import PolicyInput, PolicyOutput\n",
    "from stanza.policy.transforms import ChunkTransform\n",
    "from jax.random import PRNGKey\n",
    "\n",
    "schedule = DDPMSchedule.make_squaredcos_cap_v2(16, prediction_type=\"sample\")\n",
    "\n",
    "@jax.jit\n",
    "def chunk_policy(input: PolicyInput) -> PolicyOutput:\n",
    "    agent_pos = PushTEnv.observe(None, input.state).agent_pos\n",
    "    obs = input.observation\n",
    "    #estimator = nonparametric.nw_local_poly_closed(data, schedule, 1, 0.001)\n",
    "    #estimator = nonparametric.nw_local_poly(PRNGKey(42), data, schedule, 0, \n",
    "    #                          nonparametric.log_gaussian_kernel, nonparametric.log_gaussian_kernel, \n",
    "    #                          0.01, 0.001, 128)\n",
    "    #diffuser = nonparametric.nw_diffuser(obs, estimator)\n",
    "    diffuser = nonparametric.nw_cond_diffuser(obs, data, schedule, nonparametric.log_gaussian_kernel, 0.01)\n",
    "    #diffuser = nonparametric.closest_diffuser(obs, data)\n",
    "    action = schedule.sample(input.rng_key, diffuser, sample_chunk[1]) + agent_pos\n",
    "    return PolicyOutput(action)\n",
    "transform = ChunkTransform(obs_length, action_length)\n",
    "policy = transform.transform_policy(chunk_policy)"
   ]
  },
  {
   "cell_type": "code",
   "execution_count": 5,
   "id": "8e4bcc14",
   "metadata": {},
   "outputs": [
    {
     "data": {
      "application/vnd.jupyter.widget-view+json": {
       "model_id": "7fa3c727913445b2815e97cea84e0d85",
       "version_major": 2,
       "version_minor": 0
      },
      "text/plain": [
       "HBox(children=(Image(value=b'\\x89PNG\\r\\n\\x1a\\n\\x00\\x00\\x00\\rIHDR\\x00\\x00\\x01\\x00\\x00\\x00\\x01\\x00\\x08\\x06\\x00\\x…"
      ]
     },
     "execution_count": 5,
     "metadata": {},
     "output_type": "execute_result"
    }
   ],
   "source": [
    "from stanza.util.ipython import as_image\n",
    "\n",
    "state = env.reset(jax.random.key(0))\n",
    "state_batch = jax.tree_util.tree_map(\n",
    "    lambda x: jnp.repeat(x[None], obs_length, 0), \n",
    "    state\n",
    ")\n",
    "output = chunk_policy(PolicyInput(\n",
    "    jax.vmap(env.observe)(state_batch),\n",
    "    state,\n",
    "    rng_key=jax.random.key(42))\n",
    ").action \n",
    "as_image(render(state, output[None,...], jnp.ones((1,))))"
   ]
  },
  {
   "cell_type": "code",
   "execution_count": 6,
   "id": "305765c2-5f67-4ca2-95a3-ef21a82261f6",
   "metadata": {},
   "outputs": [],
   "source": [
    "#%timeit chunk_policy(PolicyInput(jax.vmap(env.observe)(state_batch), rng_key=jax.random.key(42))).action "
   ]
  },
  {
   "cell_type": "code",
   "execution_count": 7,
   "id": "c23a0c5b",
   "metadata": {},
   "outputs": [
    {
     "data": {
      "application/vnd.jupyter.widget-view+json": {
       "model_id": "d60219d461b94582b86cbfea8ae75b56",
       "version_major": 2,
       "version_minor": 0
      },
      "text/plain": [
       "Label(value='Hello world')"
      ]
     },
     "metadata": {},
     "output_type": "display_data"
    },
    {
     "data": {
      "application/vnd.jupyter.widget-view+json": {
       "model_id": "38bbc358c1714257a2f50bf39d932336",
       "version_major": 2,
       "version_minor": 0
      },
      "text/plain": [
       "HBox(children=(ImageStream(image=Image(value=b'\\x89PNG\\r\\n\\x1a\\n\\x00\\x00\\x00\\rIHDR\\x00\\x00\\x01\\x00\\x00\\x00\\x01…"
      ]
     },
     "metadata": {},
     "output_type": "display_data"
    },
    {
     "data": {
      "application/vnd.jupyter.widget-view+json": {
       "model_id": "1e1e94fe06e4454294520c78dadf4a18",
       "version_major": 2,
       "version_minor": 0
      },
      "text/plain": [
       "Button(description='Stop', style=ButtonStyle())"
      ]
     },
     "metadata": {},
     "output_type": "display_data"
    }
   ],
   "source": [
    "from stanza.policy.ipython import StreamingInterface\n",
    "from threading import Thread\n",
    "from ipywidgets import Label, Button\n",
    "import time\n",
    "\n",
    "\n",
    "@partial(jax.jit, out_shardings=render_sharding)\n",
    "def batch_policy(obs, state, rng_key):\n",
    "    keys = jax.random.split(rng_key, 8)\n",
    "    return jax.vmap(chunk_policy, in_axes=(PolicyInput(None, None, rng_key=0),))(\n",
    "        PolicyInput(obs, state, rng_key=keys)\n",
    "    ).action\n",
    "\n",
    "executing = True\n",
    "action_queue = []\n",
    "\n",
    "label = Label(value=\"Hello world\")\n",
    "\n",
    "button = Button(description=\"Stop\")\n",
    "def button_click(_):\n",
    "    global executing, action_queue\n",
    "    if executing:\n",
    "        button.description = \"Execute\"\n",
    "        executing = False\n",
    "    else:\n",
    "        button.description = \"Stop\"\n",
    "        executing = True\n",
    "        action_queue = []\n",
    "button.on_click(button_click)\n",
    "\n",
    "interactive = StreamingInterface(256, 256)\n",
    "def loop():\n",
    "    state = env.reset(jax.random.key(42))\n",
    "    #state = dataset[0][0].state\n",
    "    state_batch = jax.tree_util.tree_map(\n",
    "        lambda x: jnp.repeat(x[None], obs_length, 0), \n",
    "        state\n",
    "    )\n",
    "    key = jax.random.key(43)\n",
    "    frame = 0\n",
    "    \n",
    "    action_chunks = None\n",
    "    weights = None\n",
    "    iterations = 0\n",
    "    while True:\n",
    "        t = time.time()\n",
    "        key, r = jax.random.split(key)\n",
    "        if executing and len(action_queue) > 0:\n",
    "            action = action_queue.pop(0)\n",
    "        else:\n",
    "            action = interactive.mouse_pos()\n",
    "\n",
    "        prev_state = state\n",
    "        state = env.step(state, action)\n",
    "        reward = env.reward(prev_state, action, state)\n",
    "        label.value = f\"reward: {reward} {iterations}\"\n",
    "        state_batch = jax.tree_util.tree_map(\n",
    "            lambda x, s: jnp.roll(x, -1).at[-1].set(s),\n",
    "            state_batch, state\n",
    "        )\n",
    "        obs = jax.vmap(env.observe)(state_batch)\n",
    "        \n",
    "        if executing and len(action_queue) == 0:\n",
    "            action_chunks = batch_policy(obs, state, r)\n",
    "            weights = (0.2*jnp.ones(action_chunks.shape[0])).at[0].set(1)\n",
    "            for a in action_chunks[0]:\n",
    "                action_queue.append(a)\n",
    "                action_queue.append(a)\n",
    "                action_queue.append(a)\n",
    "            iterations = iterations + action_length\n",
    "        elif not executing and frame % 30 == 0: # re-sample actions every 30 frames\n",
    "            action_chunks = batch_policy(obs, state, r)\n",
    "            weights = jnp.ones(action_chunks.shape[0])\n",
    "        image = render(state, action_chunks, weights)\n",
    "        \n",
    "        interactive.update(image)\n",
    "        elapsed = time.time() - t\n",
    "        time.sleep(max(0, 1/30 - elapsed))\n",
    "        frame = frame + 1\n",
    "\n",
    "t = Thread(target=loop, daemon=True)\n",
    "t.start()\n",
    "t.__del__ = lambda: t.stop()\n",
    "display(label)\n",
    "display(interactive)\n",
    "display(button)"
   ]
  },
  {
   "cell_type": "code",
   "execution_count": null,
   "id": "9634ab6d-f321-4195-acb5-a6398bacbf50",
   "metadata": {},
   "outputs": [],
   "source": []
  }
 ],
 "metadata": {
  "kernelspec": {
   "display_name": "Python 3 (ipykernel)",
   "language": "python",
   "name": "python3"
  },
  "language_info": {
   "codemirror_mode": {
    "name": "ipython",
    "version": 3
   },
   "file_extension": ".py",
   "mimetype": "text/x-python",
   "name": "python",
   "nbconvert_exporter": "python",
   "pygments_lexer": "ipython3",
   "version": "3.12.4"
  },
  "widgets": {
   "application/vnd.jupyter.widget-state+json": {
    "state": {
     "11ba04890a854893a99fef761f99b858": {
      "buffers": [
       {
        "data": "iVBORw0KGgoAAAANSUhEUgAAAQAAAAEACAYAAABccqhmAAAP5klEQVR4nO3deZCU9Z3H8c8Mx3DNcImgIigJ1yByhnCqI8H1wCCHEmPAoG5KRdmAy+4qla2pTZEyqcBudEdzrLuuRtANmCUibGEUCYJRNHIuSiW4A3INQ2B6EDmG6f0DejLT3QPd079+jv6+X1VWTT/d/Tw/Uvm95/c800deJBKJCoBJ+X4PAIB/CABgGAEADCMAgGEEADCMAACGEQDAMAIAGEYAAMMIAGAYAQAMIwCAYQQAMIwAAIYRAMAwAgAYRgAAwwgAYBgBAAwjAIBhBAAwjAAAhhEAwDACABhGAADDCABgGAEADCMAgGEEADCMAACGEQDAMAIAGEYAAMMIAGAYAQAMIwCAYQQAMIwAAIYRAMAwAgAYRgAAwwgAYBgBAAwjAIBhBAAwjAAAhhEAwDACABhGAADDCABgGAEADCMAgGEEADCMAACGEQDAMAIAGEYAAMMIAGAYAQAMIwCAYQQAMIwAAIYRAMAwAgAYRgAAwwgAYBgBAAwjAIBhBAAwjAAAhhEAwDACABhGAADDCABgGAEADCMAgGEEADCMAACGEQDAMAIAGEYAAMMIAGAYAQAMIwCAYQQAMIwAAIYRAMAwAgAYRgAAwwgAYBgBAAwjAIBhBAAwjAAAhhEAwDACABhGAADDCABgGAEADCMAgGEEADCMAACGEQDAMAIAGEYAAMMIQEhMKp/k9xCQgwhACEwqn6SPT32svrv6+j0U5BgCEHCxyR9DBOASAQiw+MkfQwTgCgEIqMYmfwwRgAsEIIAuNvljiAAyRQACJtXJH0MEkAkCECDpTv4YIoCmIgAB0dTJH0ME0BQEIAAynfwxRADpIgA+czX5Y4gA0kEAfFRdW+108scQAaSKAPioML9QH3z5g6zsmwggFQTAZ0QAfiIAAUAE4BcCEBBEAH4gAAFCBOA1AhAwRABeIgABRATgFQIQUEQAXiAAAUYEkG0EIOCIALKJAIQAEUC2EICQIALIBgIQIkQArhGAkCECcIkAhBARgCsEIKQK8wu1sOvCrOybCNhBAEJqWdUyLTi0wOk+r996l8ZsnyyJCFhBAELI9eTvUdFfM98oVc9DxfrSgUF124lA7suLRCJRvweB1Lme/DPfKE3YVpt/Vr8c//2625/0+cTZ8RAsrABCxOXkH7dtWtLJL0n5tc3U/XCfutusBHIXK4CQcDX5rzzcVyWb707psS9MKG1wm5VA7iEAIeBq8s/47T8qL5r6ou/Tbtu0fuDyBtuIQG7hFCDgXEz+sdunaOYbpWlNfkm6+uDAhG2cDuQWVgABlunkv6Kyt8Z/dE/G44g/FZBYCeQKVgAB5eI3v4vJL0k9KvolbGMlkBsIQAC5OudfMfpfHYxGumHLN5JuJwLhRwACxuWf+qraVqqqbaWTfV239c6k24lAuBGAAMnGy3tdrQKuOjSg0fuIQHgRgIDIxuSXpIVdF2rG5PFO9tXYC4ckIhBWBCAAsjn5p7Wfph6XX+psnz0PFTd6HxEIHwLgs2xP/ph/eGi6k/1ev/WuC95PBMKFAPjIq8kvSc3y89Wn1xVO9n/DlgvHZFL5JCfHQfYRAJ94Oflj7rzlOifH6FHRv9H7+hX004qeK5wcB9lHAHzgx+SPuXfK15wcK9kFQSZ/+BAAj/k5+SWp+2VdnB2z/nsFmPzhRAA85Pfkj3nc0QXBcdumSmLyhxkB8EhQJr8k5efnq7h3DyfHv+uT2Uz+ECMAHgjS5I+ZfNMYJ2NotcfdKQW8RwCyLIiTP2bWtJvcjKVsqZP9wHsEIIuCPPkl6fKunR2M5pyjVced7QveIQBZEvTJH/P4Q8nf6puuZ375mpP9wFsEIAvCMvklKT8/TwP7XeVkX2+/t9XJfuAdAuBYmCZ/zNfHj3Kynw0f7HCyH3iHADgUxskfc99df+VkP15dEDx9pkaR4yc8OVYua+73AHJFmCe/JF3WpZOzff35WLU6dSh0tr94v3hltSoqj0mSFsxO7TsOkBwrAAfCPvljnnjYzQXBZ19a6WQ/8XZ9uk8Ly5bWTX5J2viH/83KsawgABnKlckvSXl5eRpc/CUn+3pz42Yn+5GkM2dqtLBsqX616ncJ9619d4uz41hEADKQS5M/5raSEU728/uPdirq4Bsn/mPZGv3o57+64GN4IVLTEYAMTGs/TRMLJzrdp5+TP+aB6Tc72c8Pnmn6xPxT+X4tLFuq/YeOpPT4Y5HPm3wsywhAhhZdtshZBIIw+SWp6yUdne2r8mhVWo+vqTmrhWVL9fLKdWk9r+zF36T1eJwTmgA8+GArFRUVJvxXWZnn99CcRCAokz/G1QXBny1ZlfJjX/z1b/XDn/1Xk4+1ftO2Jj/XqsAH4PnnW6ioqFBLlrRIen+vXu1UVJS9PzmlKpMIBG3yS+cuCA4b2NvJvta88+EF7/9070EtLFuqPfsPZ3Sc372/PaPnWxToAMydW6A5c1ql9NiwRiCIkz/m5uuGO9nPpi27FE1yRbDm7Lnl/pLfrHVyHIkLgukKbAB27crXc8+1TOs5l1/eLkujSV06EQjy5I/5zt23OtnPD555ucHtJa+t1Q9/2vTl/oXwzsTUBTYAw4e3Tfs5x4/n6dSpLAwmTalEIAyTX5K6dGrvbF8VR46pfN8hLSxbqk/3HHS233i8MzF1eZFIxMFfa906cULq1q1pS/oxY2q0evUXjkfUNI8deEwrqxNfFReWyR8TjUYTfoMH3Zhhxbph5CC/hxF4gVwBNHbBLxUbNgTn7Q3JVgJhm/zSuQuCXx0crm/82fAhLxFORSAD8NZbzfwegjP1IxDGyR/ztTFD/R5Cyjq2b8ebhFIUnF+X9XTvHrizkowsumyRRrUZFdrJH/PgN2/TT5e87vcwLuhv/3qaClo2fQVpTSCvAezYka9Ro9K/CBgTiVQ7HA3qC+qf2SZNGKVr+lzl9zBCJ5ABkJr+d/1Vq05o7NizjkeD+oIUgcJ2rTXn3jv8HkZoBfIagCTdcktNio9cr3P/jPWSxOT3wOihxX4PQZL02ANTmfwZCuwKQEplFZD4PoBIJJKdwaABP1cBt48fqWv7Xe3b8XNJIC8CxkQi1YF4iS8aOlDxZ1+O27p1S827b6ovx85VgQ6AdC4Cjz9eoLKy+JcFB3bhkrP8fEHQ3PunqE2rAl+OncsCfQoQr6oqTxs3NtPx49LQobUaMiTxtf+cAmTHyrfe05aduz0/7q0lIzTE0ceUIVGoApBMaWmpFi9erHnz5qm0tNTv4eScQ5VH9W+v/I/nx23Rorn+7jt3en5ca0IfgAs58fnnatO26a8nsMzP5f5375ustq1Texs4MhP4awBNsbe8XKMHDqy7/eRPfqJ7Zs3ycUThsnrdJv1h+x89P+7N1w/XsGvcfAgJUpOTK4Ari4oStu3l2sBFVRw5pl+8vNrz4+bl5+kJR19SivTk5AogmZqaGjVvbuafmxY/l/t/M+sOtWvT2pdjw1AAmPzJrXnnQ23assvz404YO1QjBoXrLca5KCdnxZ6qKvVo/5dPsvl4/34fRxNMlUer0vrEXpd4q25w5OQ1ADQuGs3sCzsyMefeSSps18aXYyO5nFwBXEw0GtW19VYI24xcIHxz42b9/qOdnh/3xtGDNWpIf8+Pi4szGYD6k1+SBhYVmYjAB9u9P9dnuR9s5k4BamtrNahDh4TtFgIgefcuvkdmfl3tC3kRVtCZWwHk5wf2IxA8cWvJV7Rq7aas7f/6kddq7LABWds/3DI5GybPmNHg9r+89JJPI/HekOIvZ23fC2bfzeQPGXOnADE1NTX6086d6jNggPKMrQpOfHFK//zvrzrb3+wZt6tDkf/fyoT0mTsFiGnevLn61nu/QGNOnzypaDSqgta582q1Nq0L1KpVS508eTqj/Yz7yjW6bsTF/zdEcJldAaRiXNx7Ctbn2IXCTC4IcnU/N9ha+6bhxR//OGHbPz3wgA8jyZ6J47+a9nMe+tZEJn8OYQXQiPjf/jFWVwGjh/ZXyajB2R0MPMcKoBEvvP9+wranXg/2t+I0xbz7L/4hmwtm383kz1EEoBFX9+un6Y88Unf7xilTNGTcOB9HlB2tW7VUu7bJL3A++M3bWO7nOE4BHKnct08tCgrU/pJL/B5Kk9Q/FRgxuK8mhOjLQNF0BMCB2+OuF7wWwusE23f9n1a88a6eePgbystL/MIV5CYCkKFpXbvq1BdfNNj20OLFujXH/mKA3MQ1gAzFT35J+vVTT/kwEiB9BCBD31+xImHb4rff9n4gQBMQgAwNLinR9Pnz626XLl+uwk6dEh73x02bNKOoqO4/IAi4BuCBaDSqmXEfQiJJL4bwYiFyCysAD5Rv3er3EICkCIAHrujXL6XHnYxE9GhRkR4tKtKJo0ezPKosO3tW0eXLFT1wwO+R4AIIgAdaFBQkROA/4yb4mZMnNb9797rbf9+zp04dP+7J+FyrXbdOZzt2VO2sWart21dnueYRWFwD8FA0GlXN6dNqUZD4PfePNjJJng7TdYLaWh3p0EEdktzVrLJSatnS6xHhIsx+IIgf8vLykk5+SerWp48O7mr4qb3Nknyb0ffqhaJzr1767ubNTsfYFDWffaby4uKkE79OdbXUubNHI0KqOAUIiCc2JX5Q5+LKyga3f37jjQ1uH9m9W8f27Gmw7bMNG/TW/PmqOXXK/SDjRaNSNKry4uKLP5bJH0icAgRINBrVy3Pm6OyZM7rn2WcTXpP/vSSnCddMmaLpzz8vSVoUd/89a9eq27BhemXAAB3fu1fTd+xQuyuvTHrs2tOnld/YEj16/v8i58dz/L339MmECZKkNpJizyqU1Oz8z0X6y2+XZkePSs1i9yBICECIPDNunA5s2dJg27xt29SxZ0+dPHZMZT16JDynQ9ztiWvWqOvIkXW3P5o7V7ufe67u9h0VFWrWqlXd7TfjojI+EtGH9bYVSKr/ZuL2kmLZar9unZoPGZLCvwx+4RQgRB5ev77B7XZduqhjz56SpNPV1QmPT/YtfCtvuqnu52htbYPJL0n/femldT/vefrphOfvKyur+7lEyos/0aiS1KmiQp0jESZ/CLACyCHxpwB9SkpUsXZtwuPuP/+XhZOHDun13r0T7p96/v743/4xHZJsG3LwoM4ePqwW54OEcGAFkEPmVVXV/Vzy5JO6PckblSa/+27dz626dr3g/ga+8ELCtkHLlqn/O+802Db0yBHlt2nD5A8hVgAGrP32t7X71Vf1rfJyFXTs2OC+6l27tGb48LrbU+Ned5DsGgByBwEADOMUADCMAACGEQDAMAIAGEYAAMMIAGAYAQAMIwCAYQQAMIwAAIYRAMAwAgAYRgAAwwgAYBgBAAwjAIBhBAAwjAAAhhEAwDACABhGAADDCABgGAEADCMAgGEEADCMAACGEQDAMAIAGEYAAMMIAGAYAQAMIwCAYf8P3Eu3pZi2XsEAAAAASUVORK5CYII=",
        "encoding": "base64",
        "path": [
         "value"
        ]
       }
      ],
      "model_module": "@jupyter-widgets/controls",
      "model_module_version": "2.0.0",
      "model_name": "ImageModel",
      "state": {
       "layout": "IPY_MODEL_5c7a523a6c114dd4a2372e19e2da9afd"
      }
     },
     "12eb59de33574817a98916262b11ad4d": {
      "model_module": "@jupyter-widgets/controls",
      "model_module_version": "2.0.0",
      "model_name": "ButtonStyleModel",
      "state": {
       "font_family": null,
       "font_size": null,
       "font_style": null,
       "font_variant": null,
       "font_weight": null,
       "text_color": null,
       "text_decoration": null
      }
     },
     "1e1e94fe06e4454294520c78dadf4a18": {
      "model_module": "@jupyter-widgets/controls",
      "model_module_version": "2.0.0",
      "model_name": "ButtonModel",
      "state": {
       "description": "Stop",
       "layout": "IPY_MODEL_337c31f075a147d2944e49fd84ef42ef",
       "style": "IPY_MODEL_12eb59de33574817a98916262b11ad4d",
       "tooltip": null
      }
     },
     "1f53b63a7ccd4b10855f41cddbb3345c": {
      "model_module": "@jupyter-widgets/controls",
      "model_module_version": "2.0.0",
      "model_name": "LabelStyleModel",
      "state": {
       "description_width": "",
       "font_family": null,
       "font_size": null,
       "font_style": null,
       "font_variant": null,
       "font_weight": null,
       "text_color": null,
       "text_decoration": null
      }
     },
     "32fb27c244b344fb910699540417a086": {
      "model_module": "@jupyter-widgets/base",
      "model_module_version": "2.0.0",
      "model_name": "LayoutModel",
      "state": {}
     },
     "337c31f075a147d2944e49fd84ef42ef": {
      "model_module": "@jupyter-widgets/base",
      "model_module_version": "2.0.0",
      "model_name": "LayoutModel",
      "state": {}
     },
     "341981e6d0b14018b66faa883f4fa57e": {
      "model_module": "@jupyter-widgets/controls",
      "model_module_version": "2.0.0",
      "model_name": "HTMLStyleModel",
      "state": {
       "description_width": "",
       "font_size": null,
       "text_color": null
      }
     },
     "36e2e9c846ae456f898bdce1d8dc540b": {
      "model_module": "@jupyter-widgets/controls",
      "model_module_version": "2.0.0",
      "model_name": "HTMLModel",
      "state": {
       "layout": "IPY_MODEL_6fb7971834174e0ab68d55b987565a49",
       "style": "IPY_MODEL_8be179ab37dc4aa993bbd375f2305cf5",
       "value": "<style>\n.cell-output-ipywidget-background {\n    background-color: transparent !important;\n}\n.jp-OutputArea-output {\n    background-color: transparent;\n}\npre {\n    color: var(--vscode-editor-foreground);\n    margin: 0;\n}\nvideo::-webkit-media-controls {\n  display: none;\n}\n</style>"
      }
     },
     "38bbc358c1714257a2f50bf39d932336": {
      "model_module": "@jupyter-widgets/controls",
      "model_module_version": "2.0.0",
      "model_name": "HBoxModel",
      "state": {
       "children": [
        "IPY_MODEL_717bf99d970d4560b1e1e54ee1e1bcf5",
        "IPY_MODEL_ac45ebc621054ba0aafac9a241a00967"
       ],
       "layout": "IPY_MODEL_32fb27c244b344fb910699540417a086"
      }
     },
     "57590b7e597944e2b5315025c93bbf14": {
      "model_module": "ipyevents",
      "model_module_version": "2.0.2",
      "model_name": "EventModel",
      "state": {
       "_supported_key_events": [
        "keydown",
        "keyup"
       ],
       "_supported_mouse_events": [
        "click",
        "auxclick",
        "dblclick",
        "mouseenter",
        "mouseleave",
        "mousedown",
        "mouseup",
        "mousemove",
        "wheel",
        "contextmenu",
        "dragstart",
        "drag",
        "dragend",
        "dragenter",
        "dragover",
        "dragleave",
        "drop"
       ],
       "_supported_touch_events": [
        "touchstart",
        "touchend",
        "touchmove",
        "touchcancel"
       ],
       "_view_module": "@jupyter-widgets/controls",
       "source": "IPY_MODEL_717bf99d970d4560b1e1e54ee1e1bcf5",
       "throttle_or_debounce": "",
       "watched_events": [
        "click",
        "keydown",
        "keyup",
        "mousemove"
       ],
       "xy_coordinate_system": ""
      }
     },
     "5a0ae789b74643de9417f076b2008d23": {
      "model_module": "@jupyter-widgets/base",
      "model_module_version": "2.0.0",
      "model_name": "LayoutModel",
      "state": {}
     },
     "5c7a523a6c114dd4a2372e19e2da9afd": {
      "model_module": "@jupyter-widgets/base",
      "model_module_version": "2.0.0",
      "model_name": "LayoutModel",
      "state": {}
     },
     "6d1b4a36d2d44890a95e6e76a85c757e": {
      "model_module": "@jupyter-widgets/base",
      "model_module_version": "2.0.0",
      "model_name": "LayoutModel",
      "state": {}
     },
     "6fb7971834174e0ab68d55b987565a49": {
      "model_module": "@jupyter-widgets/base",
      "model_module_version": "2.0.0",
      "model_name": "LayoutModel",
      "state": {}
     },
     "717bf99d970d4560b1e1e54ee1e1bcf5": {
      "model_module": "jupyter-webrtc",
      "model_module_version": "~0.6.0",
      "model_name": "ImageStreamModel",
      "state": {
       "_view_count": 1,
       "image": "IPY_MODEL_8be45b7c368947bd82a676fcc5957282",
       "layout": "IPY_MODEL_eeb4e1a15e104b348057d76c557945d1"
      }
     },
     "7fa3c727913445b2815e97cea84e0d85": {
      "model_module": "@jupyter-widgets/controls",
      "model_module_version": "2.0.0",
      "model_name": "HBoxModel",
      "state": {
       "children": [
        "IPY_MODEL_11ba04890a854893a99fef761f99b858",
        "IPY_MODEL_36e2e9c846ae456f898bdce1d8dc540b"
       ],
       "layout": "IPY_MODEL_6d1b4a36d2d44890a95e6e76a85c757e"
      }
     },
     "825077e6bc5b41188f5c3ac83007b7a0": {
      "model_module": "@jupyter-widgets/base",
      "model_module_version": "2.0.0",
      "model_name": "LayoutModel",
      "state": {}
     },
     "8be179ab37dc4aa993bbd375f2305cf5": {
      "model_module": "@jupyter-widgets/controls",
      "model_module_version": "2.0.0",
      "model_name": "HTMLStyleModel",
      "state": {
       "description_width": "",
       "font_size": null,
       "text_color": null
      }
     },
     "8be45b7c368947bd82a676fcc5957282": {
      "buffers": [
       {
        "data": "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",
        "encoding": "base64",
        "path": [
         "value"
        ]
       }
      ],
      "model_module": "@jupyter-widgets/controls",
      "model_module_version": "2.0.0",
      "model_name": "ImageModel",
      "state": {
       "layout": "IPY_MODEL_f02147e4564741448fbd77338c91dabd"
      }
     },
     "ac45ebc621054ba0aafac9a241a00967": {
      "model_module": "@jupyter-widgets/controls",
      "model_module_version": "2.0.0",
      "model_name": "HTMLModel",
      "state": {
       "layout": "IPY_MODEL_5a0ae789b74643de9417f076b2008d23",
       "style": "IPY_MODEL_341981e6d0b14018b66faa883f4fa57e",
       "value": "<style>\n.cell-output-ipywidget-background {\n    background-color: transparent !important;\n}\n.jp-OutputArea-output {\n    background-color: transparent;\n}\npre {\n    color: var(--vscode-editor-foreground);\n    margin: 0;\n}\nvideo::-webkit-media-controls {\n  display: none;\n}\n</style>"
      }
     },
     "d60219d461b94582b86cbfea8ae75b56": {
      "model_module": "@jupyter-widgets/controls",
      "model_module_version": "2.0.0",
      "model_name": "LabelModel",
      "state": {
       "layout": "IPY_MODEL_825077e6bc5b41188f5c3ac83007b7a0",
       "style": "IPY_MODEL_1f53b63a7ccd4b10855f41cddbb3345c",
       "value": "reward: 0.9542057514190674 352"
      }
     },
     "eeb4e1a15e104b348057d76c557945d1": {
      "model_module": "@jupyter-widgets/base",
      "model_module_version": "2.0.0",
      "model_name": "LayoutModel",
      "state": {}
     },
     "f02147e4564741448fbd77338c91dabd": {
      "model_module": "@jupyter-widgets/base",
      "model_module_version": "2.0.0",
      "model_name": "LayoutModel",
      "state": {}
     }
    },
    "version_major": 2,
    "version_minor": 0
   }
  }
 },
 "nbformat": 4,
 "nbformat_minor": 5
}
