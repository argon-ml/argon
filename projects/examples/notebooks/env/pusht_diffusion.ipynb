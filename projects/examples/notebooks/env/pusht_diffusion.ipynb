{
 "cells": [
  {
   "cell_type": "code",
   "execution_count": 1,
   "id": "6a9bc698-7b3d-4007-83f5-259992cb7ce9",
   "metadata": {},
   "outputs": [],
   "source": [
    "from stanza.runtime import setup\n",
    "setup()\n",
    "\n",
    "from stanza.data.sequence import SequenceData, Chunk\n",
    "from stanza.env.mujoco.pusht import (\n",
    "    PushTPosObs, PushTEnv, \n",
    "    PositionalControlTransform, PositionalObsTransform,\n",
    "    KeypointObsTransform, RelKeypointObsTransform\n",
    ")\n",
    "from stanza.env import ImageRender\n",
    "from stanza.env.transforms import ChainedTransform\n",
    "from stanza import canvas\n",
    "import stanza.env\n",
    "\n",
    "import jax\n",
    "import jax.numpy as jnp\n",
    "from jax.sharding import Mesh, NamedSharding, PartitionSpec\n",
    "\n",
    "from functools import partial"
   ]
  },
  {
   "cell_type": "code",
   "execution_count": 2,
   "id": "787af2ad",
   "metadata": {},
   "outputs": [],
   "source": [
    "if len(jax.devices()) > 1:\n",
    "    render_mesh = Mesh(jax.devices()[:8], ('x',))\n",
    "    render_sharding = NamedSharding(render_mesh, PartitionSpec('x'))\n",
    "    data_mesh = Mesh(jax.devices()[:8], ('x',))\n",
    "    data_sharding = NamedSharding(data_mesh, PartitionSpec('x'))\n",
    "\n",
    "env = PushTEnv()\n",
    "env = stanza.env.create(\"mujoco/pusht/rel_keypoint\")\n",
    "\n",
    "def draw(action_chunk, weight):\n",
    "    T = action_chunk.shape[0]\n",
    "    colors = jnp.array((jnp.arange(T)/T, jnp.zeros(T), jnp.zeros(T), weight*jnp.ones(T))).T\n",
    "    circles = canvas.fill(\n",
    "        canvas.circle(action_chunk, 0.02*jnp.ones(T)),\n",
    "        color=colors\n",
    "    )\n",
    "    circles = canvas.stack_batch(circles)\n",
    "    circles = canvas.transform(circles,\n",
    "        translation=(1,-1),\n",
    "        scale=(128, -128)\n",
    "    )\n",
    "    return circles\n",
    "\n",
    "@partial(jax.jit, out_shardings=render_sharding, static_argnames=(\"width\",\"height\",))\n",
    "def render(state, action_chunks=None, weights=None, width=256, height=256):\n",
    "    image = env.render(state, ImageRender(width, height))\n",
    "    if action_chunks is not None and weights is not None:\n",
    "        circles = canvas.stack_batch(jax.vmap(draw)(action_chunks, weights))\n",
    "        return canvas.paint(image, circles)\n",
    "    return image"
   ]
  },
  {
   "cell_type": "code",
   "execution_count": 3,
   "id": "b2cf8373-8cc9-4f62-87c4-98ed56b207f2",
   "metadata": {},
   "outputs": [
    {
     "ename": "AttributeError",
     "evalue": "'SystemState' object has no attribute 'data'",
     "output_type": "error",
     "traceback": [
      "\u001b[0;31m---------------------------------------------------------------------------\u001b[0m",
      "\u001b[0;31mAttributeError\u001b[0m                            Traceback (most recent call last)",
      "Cell \u001b[0;32mIn[3], line 16\u001b[0m\n\u001b[1;32m     14\u001b[0m     \u001b[38;5;66;03m# action = jax.tree_util.tree_map(lambda x: x[-action_length:], action)\u001b[39;00m\n\u001b[1;32m     15\u001b[0m     \u001b[38;5;28;01mreturn\u001b[39;00m obs, action\n\u001b[0;32m---> 16\u001b[0m data \u001b[38;5;241m=\u001b[39m \u001b[43mdataset\u001b[49m\u001b[38;5;241;43m.\u001b[39;49m\u001b[43mchunk\u001b[49m\u001b[43m(\u001b[49m\u001b[43mobs_length\u001b[49m\u001b[43m \u001b[49m\u001b[38;5;241;43m+\u001b[39;49m\u001b[43m \u001b[49m\u001b[43maction_length\u001b[49m\u001b[43m)\u001b[49m\u001b[38;5;241;43m.\u001b[39;49m\u001b[43mmap\u001b[49m\u001b[43m(\u001b[49m\u001b[43mmap_chunks\u001b[49m\u001b[43m)\u001b[49m\u001b[38;5;241;43m.\u001b[39;49m\u001b[43mas_pytree\u001b[49m\u001b[43m(\u001b[49m\u001b[43m)\u001b[49m\n\u001b[1;32m     17\u001b[0m data_len \u001b[38;5;241m=\u001b[39m (data[\u001b[38;5;241m1\u001b[39m]\u001b[38;5;241m.\u001b[39mshape[\u001b[38;5;241m0\u001b[39m]\u001b[38;5;241m/\u001b[39m\u001b[38;5;241m/\u001b[39m\u001b[38;5;241m8\u001b[39m)\u001b[38;5;241m*\u001b[39m\u001b[38;5;241m8\u001b[39m    \u001b[38;5;66;03m# truncate length of data to multiple of 8 for sharding\u001b[39;00m\n\u001b[1;32m     18\u001b[0m data \u001b[38;5;241m=\u001b[39m jax\u001b[38;5;241m.\u001b[39mtree_util\u001b[38;5;241m.\u001b[39mtree_map(\u001b[38;5;28;01mlambda\u001b[39;00m x: x[:data_len], data)\n",
      "File \u001b[0;32m~/stanza/stanza/packages/stanza/src/stanza/data/core.py:141\u001b[0m, in \u001b[0;36mMapped.as_pytree\u001b[0;34m(self)\u001b[0m\n\u001b[1;32m    140\u001b[0m \u001b[38;5;28;01mdef\u001b[39;00m \u001b[38;5;21mas_pytree\u001b[39m(\u001b[38;5;28mself\u001b[39m) \u001b[38;5;241m-\u001b[39m\u001b[38;5;241m>\u001b[39m \u001b[38;5;124m\"\u001b[39m\u001b[38;5;124mT\u001b[39m\u001b[38;5;124m\"\u001b[39m:\n\u001b[0;32m--> 141\u001b[0m     \u001b[38;5;28;01mreturn\u001b[39;00m \u001b[43mjax\u001b[49m\u001b[38;5;241;43m.\u001b[39;49m\u001b[43mvmap\u001b[49m\u001b[43m(\u001b[49m\u001b[38;5;28;43mself\u001b[39;49m\u001b[38;5;241;43m.\u001b[39;49m\u001b[43mfn\u001b[49m\u001b[43m)\u001b[49m\u001b[43m(\u001b[49m\u001b[38;5;28;43mself\u001b[39;49m\u001b[38;5;241;43m.\u001b[39;49m\u001b[43mdata\u001b[49m\u001b[38;5;241;43m.\u001b[39;49m\u001b[43mas_pytree\u001b[49m\u001b[43m(\u001b[49m\u001b[43m)\u001b[49m\u001b[43m)\u001b[49m\n",
      "    \u001b[0;31m[... skipping hidden 3 frame]\u001b[0m\n",
      "Cell \u001b[0;32mIn[3], line 11\u001b[0m, in \u001b[0;36mmap_chunks\u001b[0;34m(chunk)\u001b[0m\n\u001b[1;32m      9\u001b[0m obs \u001b[38;5;241m=\u001b[39m jax\u001b[38;5;241m.\u001b[39mtree_util\u001b[38;5;241m.\u001b[39mtree_map(\u001b[38;5;28;01mlambda\u001b[39;00m x: x[:obs_length], obs)\n\u001b[1;32m     10\u001b[0m \u001b[38;5;66;03m# use the future agent positions as the actions\u001b[39;00m\n\u001b[0;32m---> 11\u001b[0m actions \u001b[38;5;241m=\u001b[39m \u001b[43mjax\u001b[49m\u001b[38;5;241;43m.\u001b[39;49m\u001b[43mvmap\u001b[49m\u001b[43m(\u001b[49m\u001b[38;5;28;43;01mlambda\u001b[39;49;00m\u001b[43m \u001b[49m\u001b[43ms\u001b[49m\u001b[43m:\u001b[49m\u001b[43m \u001b[49m\u001b[43mPushTEnv\u001b[49m\u001b[38;5;241;43m.\u001b[39;49m\u001b[43mobserve\u001b[49m\u001b[43m(\u001b[49m\u001b[43menv\u001b[49m\u001b[43m,\u001b[49m\u001b[43m \u001b[49m\u001b[43ms\u001b[49m\u001b[43m)\u001b[49m\u001b[43m)\u001b[49m\u001b[43m(\u001b[49m\u001b[43mstate\u001b[49m\u001b[43m)\u001b[49m\u001b[38;5;241m.\u001b[39magent_pos\n\u001b[1;32m     12\u001b[0m \u001b[38;5;66;03m# compute relative future agent positions\u001b[39;00m\n\u001b[1;32m     13\u001b[0m action \u001b[38;5;241m=\u001b[39m jax\u001b[38;5;241m.\u001b[39mtree_util\u001b[38;5;241m.\u001b[39mtree_map(\u001b[38;5;28;01mlambda\u001b[39;00m x, y: x[\u001b[38;5;241m-\u001b[39maction_length:] \u001b[38;5;241m-\u001b[39m y[obs_length\u001b[38;5;241m-\u001b[39m\u001b[38;5;241m1\u001b[39m], actions, actions)\n",
      "    \u001b[0;31m[... skipping hidden 3 frame]\u001b[0m\n",
      "Cell \u001b[0;32mIn[3], line 11\u001b[0m, in \u001b[0;36mmap_chunks.<locals>.<lambda>\u001b[0;34m(s)\u001b[0m\n\u001b[1;32m      9\u001b[0m obs \u001b[38;5;241m=\u001b[39m jax\u001b[38;5;241m.\u001b[39mtree_util\u001b[38;5;241m.\u001b[39mtree_map(\u001b[38;5;28;01mlambda\u001b[39;00m x: x[:obs_length], obs)\n\u001b[1;32m     10\u001b[0m \u001b[38;5;66;03m# use the future agent positions as the actions\u001b[39;00m\n\u001b[0;32m---> 11\u001b[0m actions \u001b[38;5;241m=\u001b[39m jax\u001b[38;5;241m.\u001b[39mvmap(\u001b[38;5;28;01mlambda\u001b[39;00m s: \u001b[43mPushTEnv\u001b[49m\u001b[38;5;241;43m.\u001b[39;49m\u001b[43mobserve\u001b[49m\u001b[43m(\u001b[49m\u001b[43menv\u001b[49m\u001b[43m,\u001b[49m\u001b[43m \u001b[49m\u001b[43ms\u001b[49m\u001b[43m)\u001b[49m)(state)\u001b[38;5;241m.\u001b[39magent_pos\n\u001b[1;32m     12\u001b[0m \u001b[38;5;66;03m# compute relative future agent positions\u001b[39;00m\n\u001b[1;32m     13\u001b[0m action \u001b[38;5;241m=\u001b[39m jax\u001b[38;5;241m.\u001b[39mtree_util\u001b[38;5;241m.\u001b[39mtree_map(\u001b[38;5;28;01mlambda\u001b[39;00m x, y: x[\u001b[38;5;241m-\u001b[39maction_length:] \u001b[38;5;241m-\u001b[39m y[obs_length\u001b[38;5;241m-\u001b[39m\u001b[38;5;241m1\u001b[39m], actions, actions)\n",
      "    \u001b[0;31m[... skipping hidden 11 frame]\u001b[0m\n",
      "File \u001b[0;32m~/stanza/stanza/packages/stanza/src/stanza/env/mujoco/pusht.py:91\u001b[0m, in \u001b[0;36mPushTEnv.observe\u001b[0;34m(self, state, config)\u001b[0m\n\u001b[1;32m     89\u001b[0m \u001b[38;5;129m@jax\u001b[39m\u001b[38;5;241m.\u001b[39mjit\n\u001b[1;32m     90\u001b[0m \u001b[38;5;28;01mdef\u001b[39;00m \u001b[38;5;21mobserve\u001b[39m(\u001b[38;5;28mself\u001b[39m, state, config : ObserveConfig \u001b[38;5;241m=\u001b[39m \u001b[38;5;28;01mNone\u001b[39;00m):\n\u001b[0;32m---> 91\u001b[0m     data \u001b[38;5;241m=\u001b[39m \u001b[38;5;28;43mself\u001b[39;49m\u001b[38;5;241;43m.\u001b[39;49m\u001b[43msimulator\u001b[49m\u001b[38;5;241;43m.\u001b[39;49m\u001b[43mdata\u001b[49m\u001b[43m(\u001b[49m\u001b[43mstate\u001b[49m\u001b[43m)\u001b[49m\n\u001b[1;32m     92\u001b[0m     \u001b[38;5;28;01mreturn\u001b[39;00m PushTObs(\n\u001b[1;32m     93\u001b[0m         \u001b[38;5;66;03m# Extract agent pos, vel\u001b[39;00m\n\u001b[1;32m     94\u001b[0m         agent_pos\u001b[38;5;241m=\u001b[39mdata\u001b[38;5;241m.\u001b[39mxpos[\u001b[38;5;241m1\u001b[39m,:\u001b[38;5;241m2\u001b[39m],\n\u001b[0;32m   (...)\u001b[0m\n\u001b[1;32m    100\u001b[0m         block_rot_vel\u001b[38;5;241m=\u001b[39mdata\u001b[38;5;241m.\u001b[39mcvel[\u001b[38;5;241m2\u001b[39m,\u001b[38;5;241m2\u001b[39m],\n\u001b[1;32m    101\u001b[0m     )\n",
      "File \u001b[0;32m~/stanza/stanza/packages/stanza/src/stanza/env/mujoco/backends/mujoco.py:188\u001b[0m, in \u001b[0;36mMujocoSimulator.data\u001b[0;34m(self, state)\u001b[0m\n\u001b[1;32m    187\u001b[0m \u001b[38;5;28;01mdef\u001b[39;00m \u001b[38;5;21mdata\u001b[39m(\u001b[38;5;28mself\u001b[39m, state: MujocoState) \u001b[38;5;241m-\u001b[39m\u001b[38;5;241m>\u001b[39m SystemData:\n\u001b[0;32m--> 188\u001b[0m     \u001b[38;5;28;01mreturn\u001b[39;00m \u001b[43mstate\u001b[49m\u001b[38;5;241;43m.\u001b[39;49m\u001b[43mdata\u001b[49m\n",
      "\u001b[0;31mAttributeError\u001b[0m: 'SystemState' object has no attribute 'data'"
     ]
    }
   ],
   "source": [
    "from stanza.datasets.env.pusht import load_chi_pusht_data\n",
    "print(\"Loading data...\")\n",
    "dataset = load_chi_pusht_data()\n",
    "\n",
    "obs_length = 1\n",
    "action_length = 16\n",
    "def map_elements(el):\n",
    "    return env.full_state(el.reduced_state)\n",
    "def map_chunks(chunk : Chunk):\n",
    "    state, action = (chunk.elements.reduced_state, chunk.elements.action)\n",
    "    obs = jax.vmap(lambda s: PushTEnv.observe(env, env.full_state(s)))(state)\n",
    "    obs = jax.tree_util.tree_map(lambda x: x[:obs_length], obs)\n",
    "    # use the future agent positions as the actions\n",
    "    actions = jax.vmap(lambda s: PushTEnv.observe(env, s))(state).agent_pos\n",
    "    # compute relative future agent positions\n",
    "    action = jax.tree_util.tree_map(lambda x, y: x[-action_length:] - y[obs_length-1], actions, actions)\n",
    "    #action = jax.tree_util.tree_map(lambda x: x[-action_length:], actions)\n",
    "    return obs, action\n",
    "data = dataset.map_elements(map_elements).cache().chunk(obs_length + action_length).map(map_chunks).as_pytree()\n",
    "data_len = (data[1].shape[0]//8)*8    # truncate length of data to multiple of 8 for sharding\n",
    "data = jax.tree_util.tree_map(lambda x: x[:data_len], data)\n",
    "data = jax.device_put(data, data_sharding)\n",
    "#jax.debug.visualize_array_sharding(data[1][:,:,0])\n",
    "#jax.debug.visualize_array_sharding(data[1][:,:,1])\n",
    "#jax.debug.visualize_array_sharding(data[1][210])\n",
    "\n",
    "sample_chunk = jax.tree_util.tree_map(lambda x: x[0], data)\n",
    "\n",
    "print(\"Loaded data\", jax.tree_util.tree_map(lambda x: x.shape, data))"
   ]
  },
  {
   "cell_type": "code",
   "execution_count": 4,
   "id": "b342d5d3-311d-4ea6-a4b0-e2fbadf3bdff",
   "metadata": {},
   "outputs": [],
   "source": [
    "from stanza.diffusion import DDPMSchedule, nonparametric\n",
    "from stanza.policy import PolicyInput, PolicyOutput\n",
    "from stanza.policy.transforms import ChunkingTransform\n",
    "from jax.random import PRNGKey\n",
    "\n",
    "schedule = DDPMSchedule.make_squaredcos_cap_v2(16, prediction_type=\"sample\")\n",
    "\n",
    "@jax.jit\n",
    "def chunk_policy(input: PolicyInput) -> PolicyOutput:\n",
    "    agent_pos = PushTEnv.observe(env, input.state).agent_pos\n",
    "    obs = input.observation\n",
    "    #estimator = nonparametric.nw_local_poly_closed(data, schedule, 1, 0.001)\n",
    "    #estimator = nonparametric.nw_local_poly(PRNGKey(42), data, schedule, 0, \n",
    "    #                          nonparametric.log_gaussian_kernel, nonparametric.log_gaussian_kernel, \n",
    "    #                          0.01, 0.001, 128)\n",
    "    #diffuser = nonparametric.nw_diffuser(obs, estimator)\n",
    "    diffuser = nonparametric.nw_cond_diffuser(obs, data, schedule, nonparametric.log_gaussian_kernel, 0.01)\n",
    "    #diffuser = nonparametric.closest_diffuser(obs, data)\n",
    "    action = schedule.sample(input.rng_key, diffuser, sample_chunk[1]) + agent_pos\n",
    "    return PolicyOutput(action)\n",
    "transform = ChunkingTransform(obs_length, action_length)\n",
    "policy = transform.apply(chunk_policy)"
   ]
  },
  {
   "cell_type": "code",
   "execution_count": 5,
   "id": "8e4bcc14",
   "metadata": {},
   "outputs": [
    {
     "data": {
      "application/vnd.jupyter.widget-view+json": {
       "model_id": "7f66c3974e7d495bab8b9e340c73af9d",
       "version_major": 2,
       "version_minor": 0
      },
      "text/plain": [
       "HBox(children=(Image(value=b'\\x89PNG\\r\\n\\x1a\\n\\x00\\x00\\x00\\rIHDR\\x00\\x00\\x01\\x00\\x00\\x00\\x01\\x00\\x08\\x06\\x00\\x…"
      ]
     },
     "execution_count": 5,
     "metadata": {},
     "output_type": "execute_result"
    }
   ],
   "source": [
    "from stanza.util.ipython import as_image, as_video\n",
    "\n",
    "state = env.reset(jax.random.key(0))\n",
    "state_batch = jax.tree_util.tree_map(\n",
    "    lambda x: jnp.repeat(x[None], obs_length, 0), \n",
    "    state\n",
    ")\n",
    "output = chunk_policy(PolicyInput(\n",
    "    jax.vmap(env.observe)(state_batch),\n",
    "    state,\n",
    "    rng_key=jax.random.key(42))\n",
    ").action \n",
    "as_image(render(state, output[None,...], jnp.ones((1,))))"
   ]
  },
  {
   "cell_type": "code",
   "execution_count": 6,
   "id": "fd3a28b8-baa9-409c-8fc6-468015f27d03",
   "metadata": {},
   "outputs": [
    {
     "data": {
      "application/vnd.jupyter.widget-view+json": {
       "model_id": "424dfecffa214b888c18ae846b7bee63",
       "version_major": 2,
       "version_minor": 0
      },
      "text/plain": [
       "HBox(children=(Video(value=b'\\x00\\x00\\x00 ftypisom\\x00\\x00\\x02\\x00isomiso2avc1mp41\\x00\\x00\\x00\\x08free...'), H…"
      ]
     },
     "execution_count": 6,
     "metadata": {},
     "output_type": "execute_result"
    }
   ],
   "source": [
    "import stanza.policy\n",
    "from stanza import canvas\n",
    "\n",
    "def roll_video(rng_key):\n",
    "    r = stanza.policy.rollout(env.step, state, policy, policy_rng_key=rng_key, observe=env.observe, length=100)\n",
    "    return jax.vmap(lambda x: render(x, width=128, height=128))(r.states)\n",
    "\n",
    "@jax.jit\n",
    "def generate_video(rng_key):\n",
    "    keys = jax.random.split(rng_key, 4)\n",
    "    videos = jax.vmap(roll_video)(keys)\n",
    "    video = jax.vmap(\n",
    "        lambda x: stanza.canvas.image_grid(x),\n",
    "        in_axes=1, out_axes=0\n",
    "    )(videos)\n",
    "    return video\n",
    "as_video(generate_video(jax.random.key(42)))"
   ]
  },
  {
   "cell_type": "code",
   "execution_count": 7,
   "id": "305765c2-5f67-4ca2-95a3-ef21a82261f6",
   "metadata": {},
   "outputs": [],
   "source": [
    "#%timeit chunk_policy(PolicyInput(jax.vmap(env.observe)(state_batch), rng_key=jax.random.key(42))).action "
   ]
  },
  {
   "cell_type": "code",
   "execution_count": 8,
   "id": "c23a0c5b",
   "metadata": {},
   "outputs": [
    {
     "data": {
      "application/vnd.jupyter.widget-view+json": {
       "model_id": "6a10ef0f814843febc3ba616e1081447",
       "version_major": 2,
       "version_minor": 0
      },
      "text/plain": [
       "Label(value='Hello world')"
      ]
     },
     "metadata": {},
     "output_type": "display_data"
    },
    {
     "data": {
      "application/vnd.jupyter.widget-view+json": {
       "model_id": "ab57c646253e4ba188e46650ef2f8945",
       "version_major": 2,
       "version_minor": 0
      },
      "text/plain": [
       "HBox(children=(ImageStream(image=Image(value=b'\\x89PNG\\r\\n\\x1a\\n\\x00\\x00\\x00\\rIHDR\\x00\\x00\\x01\\x00\\x00\\x00\\x01…"
      ]
     },
     "metadata": {},
     "output_type": "display_data"
    },
    {
     "data": {
      "application/vnd.jupyter.widget-view+json": {
       "model_id": "8ffac9222b4246d6a2347f63fd4bdb7a",
       "version_major": 2,
       "version_minor": 0
      },
      "text/plain": [
       "Button(description='Stop', style=ButtonStyle())"
      ]
     },
     "metadata": {},
     "output_type": "display_data"
    }
   ],
   "source": [
    "from stanza.policy.ipython import StreamingInterface\n",
    "from threading import Thread\n",
    "from ipywidgets import Label, Button\n",
    "import time\n",
    "\n",
    "\n",
    "@partial(jax.jit, out_shardings=render_sharding)\n",
    "def batch_policy(obs, state, rng_key):\n",
    "    keys = jax.random.split(rng_key, 8)\n",
    "    return jax.vmap(chunk_policy, in_axes=(PolicyInput(None, None, rng_key=0),))(\n",
    "        PolicyInput(obs, state, rng_key=keys)\n",
    "    ).action\n",
    "\n",
    "executing = True\n",
    "action_queue = []\n",
    "\n",
    "label = Label(value=\"Hello world\")\n",
    "\n",
    "button = Button(description=\"Stop\")\n",
    "def button_click(_):\n",
    "    global executing, action_queue\n",
    "    if executing:\n",
    "        button.description = \"Execute\"\n",
    "        executing = False\n",
    "    else:\n",
    "        button.description = \"Stop\"\n",
    "        executing = True\n",
    "        action_queue = []\n",
    "button.on_click(button_click)\n",
    "\n",
    "interactive = StreamingInterface(256, 256)\n",
    "def loop():\n",
    "    state = env.reset(jax.random.key(42))\n",
    "    #state = dataset[0][0].state\n",
    "    state_batch = jax.tree_util.tree_map(\n",
    "        lambda x: jnp.repeat(x[None], obs_length, 0), \n",
    "        state\n",
    "    )\n",
    "    key = jax.random.key(43)\n",
    "    frame = 0\n",
    "    \n",
    "    action_chunks = None\n",
    "    weights = None\n",
    "    iterations = 0\n",
    "    while True:\n",
    "        t = time.time()\n",
    "        key, r = jax.random.split(key)\n",
    "        if executing and len(action_queue) > 0:\n",
    "            action = action_queue.pop(0)\n",
    "        else:\n",
    "            action = interactive.mouse_pos()\n",
    "\n",
    "        prev_state = state\n",
    "        state = env.step(state, action)\n",
    "        reward = env.reward(prev_state, action, state)\n",
    "        label.value = f\"reward: {reward} {iterations}\"\n",
    "        state_batch = jax.tree_util.tree_map(\n",
    "            lambda x, s: jnp.roll(x, -1).at[-1].set(s),\n",
    "            state_batch, state\n",
    "        )\n",
    "        obs = jax.vmap(env.observe)(state_batch)\n",
    "        \n",
    "        if executing and len(action_queue) == 0:\n",
    "            action_chunks = batch_policy(obs, state, r)\n",
    "            weights = (0.2*jnp.ones(action_chunks.shape[0])).at[0].set(1)\n",
    "            for a in action_chunks[0]:\n",
    "                action_queue.append(a)\n",
    "                #action_queue.append(a)\n",
    "                #action_queue.append(a)\n",
    "            iterations = iterations + action_length\n",
    "        elif not executing and frame % 30 == 0: # re-sample actions every 30 frames\n",
    "            action_chunks = batch_policy(obs, state, r)\n",
    "            weights = jnp.ones(action_chunks.shape[0])\n",
    "        image = render(state, action_chunks, weights)\n",
    "        \n",
    "        interactive.update(image)\n",
    "        elapsed = time.time() - t\n",
    "        time.sleep(max(0, 1/30 - elapsed))\n",
    "        frame = frame + 1\n",
    "\n",
    "t = Thread(target=loop, daemon=True)\n",
    "t.start()\n",
    "t.__del__ = lambda: t.stop()\n",
    "display(label)\n",
    "display(interactive)\n",
    "display(button)"
   ]
  },
  {
   "cell_type": "code",
   "execution_count": null,
   "id": "9634ab6d-f321-4195-acb5-a6398bacbf50",
   "metadata": {},
   "outputs": [],
   "source": []
  }
 ],
 "metadata": {
  "kernelspec": {
   "display_name": "Python 3 (ipykernel)",
   "language": "python",
   "name": "python3"
  },
  "language_info": {
   "codemirror_mode": {
    "name": "ipython",
    "version": 3
   },
   "file_extension": ".py",
   "mimetype": "text/x-python",
   "name": "python",
   "nbconvert_exporter": "python",
   "pygments_lexer": "ipython3",
   "version": "3.12.3"
  },
  "widgets": {
   "application/vnd.jupyter.widget-state+json": {
    "state": {
     "012e15dec4d048e7b7c16fa4c65d0a5d": {
      "model_module": "@jupyter-widgets/controls",
      "model_module_version": "2.0.0",
      "model_name": "HTMLModel",
      "state": {
       "layout": "IPY_MODEL_8458fc2968e048eaa0e1e06b77cde039",
       "style": "IPY_MODEL_a1da3cf6906449c0b52241a199f19dcf",
       "value": "<style>\n.cell-output-ipywidget-background {\n    background-color: transparent !important;\n}\n.jp-OutputArea-output {\n    background-color: transparent;\n}\npre {\n    color: var(--vscode-editor-foreground);\n    margin: 0;\n}\n.jupyter-widget > video::-webkit-media-controls {\n  display: none;\n}\n</style>"
      }
     },
     "04455d24ba20485ebaf4157feefd858d": {
      "model_module": "@jupyter-widgets/controls",
      "model_module_version": "2.0.0",
      "model_name": "HTMLModel",
      "state": {
       "layout": "IPY_MODEL_cd10e5a5be5d4dcd88f5cea94010dba4",
       "style": "IPY_MODEL_647079a4f67a426f9ec0759051deb2f6",
       "value": "<style>\n.cell-output-ipywidget-background {\n    background-color: transparent !important;\n}\n.jp-OutputArea-output {\n    background-color: transparent;\n}\npre {\n    color: var(--vscode-editor-foreground);\n    margin: 0;\n}\n.jupyter-widget > video::-webkit-media-controls {\n  display: none;\n}\n</style>"
      }
     },
     "068cef3f21274e3d8e02f1cd05862900": {
      "model_module": "@jupyter-widgets/controls",
      "model_module_version": "2.0.0",
      "model_name": "HTMLStyleModel",
      "state": {
       "description_width": "",
       "font_size": null,
       "text_color": null
      }
     },
     "120598c766604e91923af398b2003777": {
      "model_module": "@jupyter-widgets/base",
      "model_module_version": "2.0.0",
      "model_name": "LayoutModel",
      "state": {}
     },
     "176659be156b4008965affd949362b8b": {
      "model_module": "@jupyter-widgets/base",
      "model_module_version": "2.0.0",
      "model_name": "LayoutModel",
      "state": {}
     },
     "28b8b76ec0614f54aa3f34d77da5351a": {
      "buffers": [
       {
        "data": "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",
        "encoding": "base64",
        "path": [
         "value"
        ]
       }
      ],
      "model_module": "@jupyter-widgets/controls",
      "model_module_version": "2.0.0",
      "model_name": "VideoModel",
      "state": {
       "layout": "IPY_MODEL_176659be156b4008965affd949362b8b"
      }
     },
     "28bac35fdd2f482f88c41c1f1dbc673a": {
      "model_module": "@jupyter-widgets/base",
      "model_module_version": "2.0.0",
      "model_name": "LayoutModel",
      "state": {}
     },
     "2aa00e0b6b144d9389ccdbe431692966": {
      "model_module": "@jupyter-widgets/base",
      "model_module_version": "2.0.0",
      "model_name": "LayoutModel",
      "state": {}
     },
     "424dfecffa214b888c18ae846b7bee63": {
      "model_module": "@jupyter-widgets/controls",
      "model_module_version": "2.0.0",
      "model_name": "HBoxModel",
      "state": {
       "children": [
        "IPY_MODEL_28b8b76ec0614f54aa3f34d77da5351a",
        "IPY_MODEL_012e15dec4d048e7b7c16fa4c65d0a5d"
       ],
       "layout": "IPY_MODEL_120598c766604e91923af398b2003777"
      }
     },
     "556a6ae3e2894dc3b2593ba933f45dea": {
      "model_module": "@jupyter-widgets/base",
      "model_module_version": "2.0.0",
      "model_name": "LayoutModel",
      "state": {}
     },
     "647079a4f67a426f9ec0759051deb2f6": {
      "model_module": "@jupyter-widgets/controls",
      "model_module_version": "2.0.0",
      "model_name": "HTMLStyleModel",
      "state": {
       "description_width": "",
       "font_size": null,
       "text_color": null
      }
     },
     "64f8bcc684ec44fc986438c2c5157d0b": {
      "model_module": "@jupyter-widgets/controls",
      "model_module_version": "2.0.0",
      "model_name": "ButtonStyleModel",
      "state": {
       "font_family": null,
       "font_size": null,
       "font_style": null,
       "font_variant": null,
       "font_weight": null,
       "text_color": null,
       "text_decoration": null
      }
     },
     "6a10ef0f814843febc3ba616e1081447": {
      "model_module": "@jupyter-widgets/controls",
      "model_module_version": "2.0.0",
      "model_name": "LabelModel",
      "state": {
       "layout": "IPY_MODEL_28bac35fdd2f482f88c41c1f1dbc673a",
       "style": "IPY_MODEL_f22aa278557b420bb2a4ff9618a77f0a",
       "value": "reward: 0.48321977257728577 752"
      }
     },
     "7a16a9c1fb7441e7908243cfa94733ce": {
      "buffers": [
       {
        "data": "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",
        "encoding": "base64",
        "path": [
         "value"
        ]
       }
      ],
      "model_module": "@jupyter-widgets/controls",
      "model_module_version": "2.0.0",
      "model_name": "ImageModel",
      "state": {
       "layout": "IPY_MODEL_2aa00e0b6b144d9389ccdbe431692966"
      }
     },
     "7a704ad575a14ef18b6d9a85876a490a": {
      "model_module": "ipyevents",
      "model_module_version": "2.0.2",
      "model_name": "EventModel",
      "state": {
       "_supported_key_events": [
        "keydown",
        "keyup"
       ],
       "_supported_mouse_events": [
        "click",
        "auxclick",
        "dblclick",
        "mouseenter",
        "mouseleave",
        "mousedown",
        "mouseup",
        "mousemove",
        "wheel",
        "contextmenu",
        "dragstart",
        "drag",
        "dragend",
        "dragenter",
        "dragover",
        "dragleave",
        "drop"
       ],
       "_supported_touch_events": [
        "touchstart",
        "touchend",
        "touchmove",
        "touchcancel"
       ],
       "_view_module": "@jupyter-widgets/controls",
       "source": "IPY_MODEL_c8b808c5b2e349f28bdbc72408cf34e8",
       "throttle_or_debounce": "",
       "watched_events": [
        "click",
        "keydown",
        "keyup",
        "mousemove"
       ],
       "xy_coordinate_system": ""
      }
     },
     "7f66c3974e7d495bab8b9e340c73af9d": {
      "model_module": "@jupyter-widgets/controls",
      "model_module_version": "2.0.0",
      "model_name": "HBoxModel",
      "state": {
       "children": [
        "IPY_MODEL_7a16a9c1fb7441e7908243cfa94733ce",
        "IPY_MODEL_04455d24ba20485ebaf4157feefd858d"
       ],
       "layout": "IPY_MODEL_bea46291dca642f5b3beddfbf939bcf0"
      }
     },
     "8458fc2968e048eaa0e1e06b77cde039": {
      "model_module": "@jupyter-widgets/base",
      "model_module_version": "2.0.0",
      "model_name": "LayoutModel",
      "state": {}
     },
     "8a1e1b4a8401491bb8b54f6610431483": {
      "model_module": "@jupyter-widgets/base",
      "model_module_version": "2.0.0",
      "model_name": "LayoutModel",
      "state": {}
     },
     "8e8f27ed98064965acba725343a92a2e": {
      "buffers": [
       {
        "data": "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",
        "encoding": "base64",
        "path": [
         "value"
        ]
       }
      ],
      "model_module": "@jupyter-widgets/controls",
      "model_module_version": "2.0.0",
      "model_name": "ImageModel",
      "state": {
       "layout": "IPY_MODEL_ed342c9042e540aeaf0e99b824f7d7ca"
      }
     },
     "8ffac9222b4246d6a2347f63fd4bdb7a": {
      "model_module": "@jupyter-widgets/controls",
      "model_module_version": "2.0.0",
      "model_name": "ButtonModel",
      "state": {
       "description": "Execute",
       "layout": "IPY_MODEL_556a6ae3e2894dc3b2593ba933f45dea",
       "style": "IPY_MODEL_64f8bcc684ec44fc986438c2c5157d0b",
       "tooltip": null
      }
     },
     "970abdbcf5e34aff89ff56afbcadc8de": {
      "model_module": "@jupyter-widgets/controls",
      "model_module_version": "2.0.0",
      "model_name": "HTMLModel",
      "state": {
       "layout": "IPY_MODEL_d0ded34e700d45f48fd176caeeca9d0e",
       "style": "IPY_MODEL_068cef3f21274e3d8e02f1cd05862900",
       "value": "<style>\n.cell-output-ipywidget-background {\n    background-color: transparent !important;\n}\n.jp-OutputArea-output {\n    background-color: transparent;\n}\npre {\n    color: var(--vscode-editor-foreground);\n    margin: 0;\n}\n.jupyter-widget > video::-webkit-media-controls {\n  display: none;\n}\n</style>"
      }
     },
     "a1da3cf6906449c0b52241a199f19dcf": {
      "model_module": "@jupyter-widgets/controls",
      "model_module_version": "2.0.0",
      "model_name": "HTMLStyleModel",
      "state": {
       "description_width": "",
       "font_size": null,
       "text_color": null
      }
     },
     "ab57c646253e4ba188e46650ef2f8945": {
      "model_module": "@jupyter-widgets/controls",
      "model_module_version": "2.0.0",
      "model_name": "HBoxModel",
      "state": {
       "children": [
        "IPY_MODEL_c8b808c5b2e349f28bdbc72408cf34e8",
        "IPY_MODEL_970abdbcf5e34aff89ff56afbcadc8de"
       ],
       "layout": "IPY_MODEL_b5bd0773a4ad42498b9aa951e98ab3df"
      }
     },
     "b5bd0773a4ad42498b9aa951e98ab3df": {
      "model_module": "@jupyter-widgets/base",
      "model_module_version": "2.0.0",
      "model_name": "LayoutModel",
      "state": {}
     },
     "bea46291dca642f5b3beddfbf939bcf0": {
      "model_module": "@jupyter-widgets/base",
      "model_module_version": "2.0.0",
      "model_name": "LayoutModel",
      "state": {}
     },
     "c8b808c5b2e349f28bdbc72408cf34e8": {
      "model_module": "jupyter-webrtc",
      "model_module_version": "~0.6.0",
      "model_name": "ImageStreamModel",
      "state": {
       "_view_count": 1,
       "image": "IPY_MODEL_8e8f27ed98064965acba725343a92a2e",
       "layout": "IPY_MODEL_8a1e1b4a8401491bb8b54f6610431483"
      }
     },
     "cd10e5a5be5d4dcd88f5cea94010dba4": {
      "model_module": "@jupyter-widgets/base",
      "model_module_version": "2.0.0",
      "model_name": "LayoutModel",
      "state": {}
     },
     "d0ded34e700d45f48fd176caeeca9d0e": {
      "model_module": "@jupyter-widgets/base",
      "model_module_version": "2.0.0",
      "model_name": "LayoutModel",
      "state": {}
     },
     "ed342c9042e540aeaf0e99b824f7d7ca": {
      "model_module": "@jupyter-widgets/base",
      "model_module_version": "2.0.0",
      "model_name": "LayoutModel",
      "state": {}
     },
     "f22aa278557b420bb2a4ff9618a77f0a": {
      "model_module": "@jupyter-widgets/controls",
      "model_module_version": "2.0.0",
      "model_name": "LabelStyleModel",
      "state": {
       "description_width": "",
       "font_family": null,
       "font_size": null,
       "font_style": null,
       "font_variant": null,
       "font_weight": null,
       "text_color": null,
       "text_decoration": null
      }
     }
    },
    "version_major": 2,
    "version_minor": 0
   }
  }
 },
 "nbformat": 4,
 "nbformat_minor": 5
}
