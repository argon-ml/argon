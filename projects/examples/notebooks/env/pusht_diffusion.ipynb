{
 "cells": [
  {
   "cell_type": "code",
   "execution_count": 1,
   "id": "6a9bc698-7b3d-4007-83f5-259992cb7ce9",
   "metadata": {},
   "outputs": [],
   "source": [
    "from stanza.runtime import setup\n",
    "setup()\n",
    "\n",
    "from stanza.data.sequence import SequenceData, Chunk\n",
    "from stanza.env.mujoco.pusht import (\n",
    "    PushTPosObs, PushTEnv, \n",
    "    PositionalControlTransform, PositionalObsTransform,\n",
    "    KeypointObsTransform, RelKeypointTransform\n",
    ")\n",
    "from stanza.env import ImageRender\n",
    "from stanza import canvas\n",
    "from stanza.policy.transforms import Transform, ChainedTransform\n",
    "\n",
    "import jax\n",
    "import jax.numpy as jnp\n",
    "from jax.sharding import Mesh, NamedSharding, PartitionSpec\n",
    "\n",
    "from functools import partial"
   ]
  },
  {
   "cell_type": "code",
   "execution_count": 2,
   "id": "787af2ad",
   "metadata": {},
   "outputs": [],
   "source": [
    "if len(jax.devices()) > 1:\n",
    "    render_mesh = Mesh(jax.devices()[:8], ('x',))\n",
    "    render_sharding = NamedSharding(render_mesh, PartitionSpec('x'))\n",
    "    data_mesh = Mesh(jax.devices()[:8], ('x',))\n",
    "    data_sharding = NamedSharding(data_mesh, PartitionSpec('x'))\n",
    "\n",
    "env = PushTEnv()\n",
    "env = ChainedTransform([\n",
    "    PositionalControlTransform(),\n",
    "    RelKeypointTransform()\n",
    "]).transform_env(env)\n",
    "\n",
    "def draw(action_chunk, weight):\n",
    "    T = action_chunk.shape[0]\n",
    "    colors = jnp.array((jnp.arange(T)/T, jnp.zeros(T), jnp.zeros(T), weight*jnp.ones(T))).T\n",
    "    circles = canvas.fill(\n",
    "        canvas.circle(action_chunk, 0.02*jnp.ones(T)),\n",
    "        color=colors\n",
    "    )\n",
    "    circles = canvas.stack_batch(circles)\n",
    "    circles = canvas.transform(circles,\n",
    "        translation=(1,-1),\n",
    "        scale=(128, -128)\n",
    "    )\n",
    "    return circles\n",
    "\n",
    "@partial(jax.jit, out_shardings=render_sharding)\n",
    "def render(state, action_chunks, weights):\n",
    "    image = env.render(ImageRender(256, 256), state)\n",
    "    if action_chunks is not None and weights is not None:\n",
    "        circles = canvas.stack_batch(jax.vmap(draw)(action_chunks, weights))\n",
    "        return canvas.paint(image, circles)\n",
    "    return image"
   ]
  },
  {
   "cell_type": "code",
   "execution_count": 3,
   "id": "b2cf8373-8cc9-4f62-87c4-98ed56b207f2",
   "metadata": {},
   "outputs": [
    {
     "name": "stdout",
     "output_type": "stream",
     "text": [
      "Loaded data (PushTKeypointRelObs(agent_block_pos=(22352, 1, 2), agent_block_end=(22352, 1, 2), rel_block_pos=(22352, 1, 2), rel_block_end=(22352, 1, 2)), (22352, 16, 2))\n"
     ]
    }
   ],
   "source": [
    "from stanza.datasets.pusht import load_chen_pusht_data\n",
    "dataset = load_chen_pusht_data()\n",
    "\n",
    "obs_length = 1\n",
    "action_length = 16\n",
    "def map_chunks(chunk : Chunk):\n",
    "    state, action = (chunk.chunk.state, chunk.chunk.action)\n",
    "    obs = jax.vmap(env.observe)(state)\n",
    "    obs = jax.tree_util.tree_map(lambda x: x[:obs_length], obs)\n",
    "    # use the future agent positions as the actions\n",
    "    actions = jax.vmap(lambda s: PushTEnv.observe(env, s))(state).agent_pos\n",
    "    # compute relative future agent positions\n",
    "    action = jax.tree_util.tree_map(lambda x, y: x[-action_length:] - y[obs_length-1], actions, actions)\n",
    "    # action = jax.tree_util.tree_map(lambda x: x[-action_length:], action)\n",
    "    return obs, action\n",
    "data = dataset.chunk(obs_length + action_length).map(map_chunks).as_pytree()\n",
    "data_len = (data[1].shape[0]//8)*8    # truncate length of data to multiple of 8 for sharding\n",
    "data = jax.tree_util.tree_map(lambda x: x[:data_len], data)\n",
    "data = jax.device_put(data, data_sharding)\n",
    "#jax.debug.visualize_array_sharding(data[1][:,:,0])\n",
    "#jax.debug.visualize_array_sharding(data[1][:,:,1])\n",
    "#jax.debug.visualize_array_sharding(data[1][210])\n",
    "\n",
    "sample_chunk = jax.tree_util.tree_map(lambda x: x[0], data)\n",
    "\n",
    "print(\"Loaded data\", jax.tree_util.tree_map(lambda x: x.shape, data))"
   ]
  },
  {
   "cell_type": "code",
   "execution_count": 4,
   "id": "b342d5d3-311d-4ea6-a4b0-e2fbadf3bdff",
   "metadata": {},
   "outputs": [],
   "source": [
    "from stanza.diffusion import DDPMSchedule, nonparametric\n",
    "from stanza.policy import PolicyInput, PolicyOutput\n",
    "from stanza.policy.transforms import ChunkTransform\n",
    "from jax.random import PRNGKey\n",
    "\n",
    "schedule = DDPMSchedule.make_squaredcos_cap_v2(16, prediction_type=\"sample\")\n",
    "\n",
    "@jax.jit\n",
    "def chunk_policy(input: PolicyInput) -> PolicyOutput:\n",
    "    agent_pos = PushTEnv.observe(None, input.state).agent_pos\n",
    "    obs = input.observation\n",
    "    #estimator = nonparametric.nw_local_poly_closed(data, schedule, 1, 0.001)\n",
    "    #estimator = nonparametric.nw_local_poly(PRNGKey(42), data, schedule, 0, \n",
    "    #                          nonparametric.log_gaussian_kernel, nonparametric.log_gaussian_kernel, \n",
    "    #                          0.01, 0.001, 128)\n",
    "    #diffuser = nonparametric.nw_diffuser(obs, estimator)\n",
    "    diffuser = nonparametric.nw_cond_diffuser(obs, data, schedule, nonparametric.log_gaussian_kernel, 0.01)\n",
    "    #diffuser = nonparametric.closest_diffuser(obs, data)\n",
    "    action = schedule.sample(input.rng_key, diffuser, sample_chunk[1]) + agent_pos\n",
    "    return PolicyOutput(action)\n",
    "transform = ChunkTransform(obs_length, action_length)\n",
    "policy = transform.transform_policy(chunk_policy)"
   ]
  },
  {
   "cell_type": "code",
   "execution_count": 5,
   "id": "8e4bcc14",
   "metadata": {},
   "outputs": [
    {
     "data": {
      "application/vnd.jupyter.widget-view+json": {
       "model_id": "4445b70b7f8945d9a92b939143cbc3b3",
       "version_major": 2,
       "version_minor": 0
      },
      "text/plain": [
       "HBox(children=(Image(value=b'\\x89PNG\\r\\n\\x1a\\n\\x00\\x00\\x00\\rIHDR\\x00\\x00\\x01\\x00\\x00\\x00\\x01\\x00\\x08\\x06\\x00\\x…"
      ]
     },
     "execution_count": 5,
     "metadata": {},
     "output_type": "execute_result"
    }
   ],
   "source": [
    "from stanza.util.ipython import as_image\n",
    "\n",
    "state = env.reset(jax.random.key(0))\n",
    "state_batch = jax.tree_util.tree_map(\n",
    "    lambda x: jnp.repeat(x[None], obs_length, 0), \n",
    "    state\n",
    ")\n",
    "output = chunk_policy(PolicyInput(\n",
    "    jax.vmap(env.observe)(state_batch),\n",
    "    state,\n",
    "    rng_key=jax.random.key(42))\n",
    ").action \n",
    "as_image(render(state, output[None,...], jnp.ones((1,))))"
   ]
  },
  {
   "cell_type": "code",
   "execution_count": 6,
   "id": "305765c2-5f67-4ca2-95a3-ef21a82261f6",
   "metadata": {},
   "outputs": [],
   "source": [
    "#%timeit chunk_policy(PolicyInput(jax.vmap(env.observe)(state_batch), rng_key=jax.random.key(42))).action "
   ]
  },
  {
   "cell_type": "code",
   "execution_count": 7,
   "id": "c23a0c5b",
   "metadata": {},
   "outputs": [
    {
     "data": {
      "application/vnd.jupyter.widget-view+json": {
       "model_id": "51b1c7b9dd9048528883a83074ba415b",
       "version_major": 2,
       "version_minor": 0
      },
      "text/plain": [
       "Label(value='Hello world')"
      ]
     },
     "metadata": {},
     "output_type": "display_data"
    },
    {
     "data": {
      "application/vnd.jupyter.widget-view+json": {
       "model_id": "58cc59b50f4b4554b3513275fa365944",
       "version_major": 2,
       "version_minor": 0
      },
      "text/plain": [
       "HBox(children=(ImageStream(image=Image(value=b'\\x89PNG\\r\\n\\x1a\\n\\x00\\x00\\x00\\rIHDR\\x00\\x00\\x01\\x00\\x00\\x00\\x01…"
      ]
     },
     "metadata": {},
     "output_type": "display_data"
    },
    {
     "data": {
      "application/vnd.jupyter.widget-view+json": {
       "model_id": "df8c37a4ba8842fcbed1b6677bae8342",
       "version_major": 2,
       "version_minor": 0
      },
      "text/plain": [
       "Button(description='Stop', style=ButtonStyle())"
      ]
     },
     "metadata": {},
     "output_type": "display_data"
    }
   ],
   "source": [
    "from stanza.policy.ipython import StreamingInterface\n",
    "from threading import Thread\n",
    "from ipywidgets import Label, Button\n",
    "import time\n",
    "\n",
    "\n",
    "@partial(jax.jit, out_shardings=render_sharding)\n",
    "def batch_policy(obs, state, rng_key):\n",
    "    keys = jax.random.split(rng_key, 8)\n",
    "    return jax.vmap(chunk_policy, in_axes=(PolicyInput(None, None, rng_key=0),))(\n",
    "        PolicyInput(obs, state, rng_key=keys)\n",
    "    ).action\n",
    "\n",
    "executing = True\n",
    "action_queue = []\n",
    "\n",
    "label = Label(value=\"Hello world\")\n",
    "\n",
    "button = Button(description=\"Stop\")\n",
    "def button_click(_):\n",
    "    global executing, action_queue\n",
    "    if executing:\n",
    "        button.description = \"Execute\"\n",
    "        executing = False\n",
    "    else:\n",
    "        button.description = \"Stop\"\n",
    "        executing = True\n",
    "        action_queue = []\n",
    "button.on_click(button_click)\n",
    "\n",
    "interactive = StreamingInterface(256, 256)\n",
    "def loop():\n",
    "    state = env.reset(jax.random.key(42))\n",
    "    #state = dataset[0][0].state\n",
    "    state_batch = jax.tree_util.tree_map(\n",
    "        lambda x: jnp.repeat(x[None], obs_length, 0), \n",
    "        state\n",
    "    )\n",
    "    key = jax.random.key(43)\n",
    "    frame = 0\n",
    "    \n",
    "    action_chunks = None\n",
    "    weights = None\n",
    "    iterations = 0\n",
    "    while True:\n",
    "        t = time.time()\n",
    "        key, r = jax.random.split(key)\n",
    "        if executing and len(action_queue) > 0:\n",
    "            action = action_queue.pop(0)\n",
    "        else:\n",
    "            action = interactive.mouse_pos()\n",
    "\n",
    "        prev_state = state\n",
    "        state = env.step(state, action)\n",
    "        reward = env.reward(prev_state, action, state)\n",
    "        label.value = f\"reward: {reward} {iterations}\"\n",
    "        state_batch = jax.tree_util.tree_map(\n",
    "            lambda x, s: jnp.roll(x, -1).at[-1].set(s),\n",
    "            state_batch, state\n",
    "        )\n",
    "        obs = jax.vmap(env.observe)(state_batch)\n",
    "        \n",
    "        if executing and len(action_queue) == 0:\n",
    "            action_chunks = batch_policy(obs, state, r)\n",
    "            weights = (0.2*jnp.ones(action_chunks.shape[0])).at[0].set(1)\n",
    "            for a in action_chunks[0]:\n",
    "                action_queue.append(a)\n",
    "                action_queue.append(a)\n",
    "                action_queue.append(a)\n",
    "            iterations = iterations + action_length\n",
    "        elif not executing and frame % 30 == 0: # re-sample actions every 30 frames\n",
    "            action_chunks = batch_policy(obs, state, r)\n",
    "            weights = jnp.ones(action_chunks.shape[0])\n",
    "        image = render(state, action_chunks, weights)\n",
    "        \n",
    "        interactive.update(image)\n",
    "        elapsed = time.time() - t\n",
    "        time.sleep(max(0, 1/30 - elapsed))\n",
    "        frame = frame + 1\n",
    "\n",
    "t = Thread(target=loop, daemon=True)\n",
    "t.start()\n",
    "t.__del__ = lambda: t.stop()\n",
    "display(label)\n",
    "display(interactive)\n",
    "display(button)"
   ]
  },
  {
   "cell_type": "code",
   "execution_count": null,
   "id": "9634ab6d-f321-4195-acb5-a6398bacbf50",
   "metadata": {},
   "outputs": [],
   "source": []
  }
 ],
 "metadata": {
  "kernelspec": {
   "display_name": "Python 3 (ipykernel)",
   "language": "python",
   "name": "python3"
  },
  "language_info": {
   "codemirror_mode": {
    "name": "ipython",
    "version": 3
   },
   "file_extension": ".py",
   "mimetype": "text/x-python",
   "name": "python",
   "nbconvert_exporter": "python",
   "pygments_lexer": "ipython3",
   "version": "3.12.4"
  },
  "widgets": {
   "application/vnd.jupyter.widget-state+json": {
    "state": {
     "194a22a323bf4ee1be1b6558b18686a4": {
      "model_module": "@jupyter-widgets/base",
      "model_module_version": "2.0.0",
      "model_name": "LayoutModel",
      "state": {}
     },
     "308171e1b152484e8e96c8ee897a67a1": {
      "buffers": [
       {
        "data": "iVBORw0KGgoAAAANSUhEUgAAAQAAAAEACAYAAABccqhmAAAP5klEQVR4nO3deZCU9Z3H8c8Mx3DNcImgIigJ1yByhnCqI8H1wCCHEmPAoG5KRdmAy+4qla2pTZEyqcBudEdzrLuuRtANmCUibGEUCYJRNHIuSiW4A3INQ2B6EDmG6f0DejLT3QPd079+jv6+X1VWTT/d/Tw/Uvm95/c800deJBKJCoBJ+X4PAIB/CABgGAEADCMAgGEEADCMAACGEQDAMAIAGEYAAMMIAGAYAQAMIwCAYQQAMIwAAIYRAMAwAgAYRgAAwwgAYBgBAAwjAIBhBAAwjAAAhhEAwDACABhGAADDCABgGAEADCMAgGEEADCMAACGEQDAMAIAGEYAAMMIAGAYAQAMIwCAYQQAMIwAAIYRAMAwAgAYRgAAwwgAYBgBAAwjAIBhBAAwjAAAhhEAwDACABhGAADDCABgGAEADCMAgGEEADCMAACGEQDAMAIAGEYAAMMIAGAYAQAMIwCAYQQAMIwAAIYRAMAwAgAYRgAAwwgAYBgBAAwjAIBhBAAwjAAAhhEAwDACABhGAADDCABgGAEADCMAgGEEADCMAACGEQDAMAIAGEYAAMMIAGAYAQAMIwCAYQQAMIwAAIYRAMAwAgAYRgAAwwgAYBgBAAwjAIBhBAAwjAAAhhEAwDACABhGAADDCABgGAEADCMAgGEEADCMAACGEQDAMAIAGEYAAMMIQEhMKp/k9xCQgwhACEwqn6SPT32svrv6+j0U5BgCEHCxyR9DBOASAQiw+MkfQwTgCgEIqMYmfwwRgAsEIIAuNvljiAAyRQACJtXJH0MEkAkCECDpTv4YIoCmIgAB0dTJH0ME0BQEIAAynfwxRADpIgA+czX5Y4gA0kEAfFRdW+108scQAaSKAPioML9QH3z5g6zsmwggFQTAZ0QAfiIAAUAE4BcCEBBEAH4gAAFCBOA1AhAwRABeIgABRATgFQIQUEQAXiAAAUYEkG0EIOCIALKJAIQAEUC2EICQIALIBgIQIkQArhGAkCECcIkAhBARgCsEIKQK8wu1sOvCrOybCNhBAEJqWdUyLTi0wOk+r996l8ZsnyyJCFhBAELI9eTvUdFfM98oVc9DxfrSgUF124lA7suLRCJRvweB1Lme/DPfKE3YVpt/Vr8c//2625/0+cTZ8RAsrABCxOXkH7dtWtLJL0n5tc3U/XCfutusBHIXK4CQcDX5rzzcVyWb707psS9MKG1wm5VA7iEAIeBq8s/47T8qL5r6ou/Tbtu0fuDyBtuIQG7hFCDgXEz+sdunaOYbpWlNfkm6+uDAhG2cDuQWVgABlunkv6Kyt8Z/dE/G44g/FZBYCeQKVgAB5eI3v4vJL0k9KvolbGMlkBsIQAC5OudfMfpfHYxGumHLN5JuJwLhRwACxuWf+qraVqqqbaWTfV239c6k24lAuBGAAMnGy3tdrQKuOjSg0fuIQHgRgIDIxuSXpIVdF2rG5PFO9tXYC4ckIhBWBCAAsjn5p7Wfph6XX+psnz0PFTd6HxEIHwLgs2xP/ph/eGi6k/1ev/WuC95PBMKFAPjIq8kvSc3y89Wn1xVO9n/DlgvHZFL5JCfHQfYRAJ94Oflj7rzlOifH6FHRv9H7+hX004qeK5wcB9lHAHzgx+SPuXfK15wcK9kFQSZ/+BAAj/k5+SWp+2VdnB2z/nsFmPzhRAA85Pfkj3nc0QXBcdumSmLyhxkB8EhQJr8k5efnq7h3DyfHv+uT2Uz+ECMAHgjS5I+ZfNMYJ2NotcfdKQW8RwCyLIiTP2bWtJvcjKVsqZP9wHsEIIuCPPkl6fKunR2M5pyjVced7QveIQBZEvTJH/P4Q8nf6puuZ375mpP9wFsEIAvCMvklKT8/TwP7XeVkX2+/t9XJfuAdAuBYmCZ/zNfHj3Kynw0f7HCyH3iHADgUxskfc99df+VkP15dEDx9pkaR4yc8OVYua+73AHJFmCe/JF3WpZOzff35WLU6dSh0tr94v3hltSoqj0mSFsxO7TsOkBwrAAfCPvljnnjYzQXBZ19a6WQ/8XZ9uk8Ly5bWTX5J2viH/83KsawgABnKlckvSXl5eRpc/CUn+3pz42Yn+5GkM2dqtLBsqX616ncJ9619d4uz41hEADKQS5M/5raSEU728/uPdirq4Bsn/mPZGv3o57+64GN4IVLTEYAMTGs/TRMLJzrdp5+TP+aB6Tc72c8Pnmn6xPxT+X4tLFuq/YeOpPT4Y5HPm3wsywhAhhZdtshZBIIw+SWp6yUdne2r8mhVWo+vqTmrhWVL9fLKdWk9r+zF36T1eJwTmgA8+GArFRUVJvxXWZnn99CcRCAokz/G1QXBny1ZlfJjX/z1b/XDn/1Xk4+1ftO2Jj/XqsAH4PnnW6ioqFBLlrRIen+vXu1UVJS9PzmlKpMIBG3yS+cuCA4b2NvJvta88+EF7/9070EtLFuqPfsPZ3Sc372/PaPnWxToAMydW6A5c1ql9NiwRiCIkz/m5uuGO9nPpi27FE1yRbDm7Lnl/pLfrHVyHIkLgukKbAB27crXc8+1TOs5l1/eLkujSV06EQjy5I/5zt23OtnPD555ucHtJa+t1Q9/2vTl/oXwzsTUBTYAw4e3Tfs5x4/n6dSpLAwmTalEIAyTX5K6dGrvbF8VR46pfN8hLSxbqk/3HHS233i8MzF1eZFIxMFfa906cULq1q1pS/oxY2q0evUXjkfUNI8deEwrqxNfFReWyR8TjUYTfoMH3Zhhxbph5CC/hxF4gVwBNHbBLxUbNgTn7Q3JVgJhm/zSuQuCXx0crm/82fAhLxFORSAD8NZbzfwegjP1IxDGyR/ztTFD/R5Cyjq2b8ebhFIUnF+X9XTvHrizkowsumyRRrUZFdrJH/PgN2/TT5e87vcwLuhv/3qaClo2fQVpTSCvAezYka9Ro9K/CBgTiVQ7HA3qC+qf2SZNGKVr+lzl9zBCJ5ABkJr+d/1Vq05o7NizjkeD+oIUgcJ2rTXn3jv8HkZoBfIagCTdcktNio9cr3P/jPWSxOT3wOihxX4PQZL02ANTmfwZCuwKQEplFZD4PoBIJJKdwaABP1cBt48fqWv7Xe3b8XNJIC8CxkQi1YF4iS8aOlDxZ1+O27p1S827b6ovx85VgQ6AdC4Cjz9eoLKy+JcFB3bhkrP8fEHQ3PunqE2rAl+OncsCfQoQr6oqTxs3NtPx49LQobUaMiTxtf+cAmTHyrfe05aduz0/7q0lIzTE0ceUIVGoApBMaWmpFi9erHnz5qm0tNTv4eScQ5VH9W+v/I/nx23Rorn+7jt3en5ca0IfgAs58fnnatO26a8nsMzP5f5375ustq1Texs4MhP4awBNsbe8XKMHDqy7/eRPfqJ7Zs3ycUThsnrdJv1h+x89P+7N1w/XsGvcfAgJUpOTK4Ari4oStu3l2sBFVRw5pl+8vNrz4+bl5+kJR19SivTk5AogmZqaGjVvbuafmxY/l/t/M+sOtWvT2pdjw1AAmPzJrXnnQ23assvz404YO1QjBoXrLca5KCdnxZ6qKvVo/5dPsvl4/34fRxNMlUer0vrEXpd4q25w5OQ1ADQuGs3sCzsyMefeSSps18aXYyO5nFwBXEw0GtW19VYI24xcIHxz42b9/qOdnh/3xtGDNWpIf8+Pi4szGYD6k1+SBhYVmYjAB9u9P9dnuR9s5k4BamtrNahDh4TtFgIgefcuvkdmfl3tC3kRVtCZWwHk5wf2IxA8cWvJV7Rq7aas7f/6kddq7LABWds/3DI5GybPmNHg9r+89JJPI/HekOIvZ23fC2bfzeQPGXOnADE1NTX6086d6jNggPKMrQpOfHFK//zvrzrb3+wZt6tDkf/fyoT0mTsFiGnevLn61nu/QGNOnzypaDSqgta582q1Nq0L1KpVS508eTqj/Yz7yjW6bsTF/zdEcJldAaRiXNx7Ctbn2IXCTC4IcnU/N9ha+6bhxR//OGHbPz3wgA8jyZ6J47+a9nMe+tZEJn8OYQXQiPjf/jFWVwGjh/ZXyajB2R0MPMcKoBEvvP9+wranXg/2t+I0xbz7L/4hmwtm383kz1EEoBFX9+un6Y88Unf7xilTNGTcOB9HlB2tW7VUu7bJL3A++M3bWO7nOE4BHKnct08tCgrU/pJL/B5Kk9Q/FRgxuK8mhOjLQNF0BMCB2+OuF7wWwusE23f9n1a88a6eePgbystL/MIV5CYCkKFpXbvq1BdfNNj20OLFujXH/mKA3MQ1gAzFT35J+vVTT/kwEiB9BCBD31+xImHb4rff9n4gQBMQgAwNLinR9Pnz626XLl+uwk6dEh73x02bNKOoqO4/IAi4BuCBaDSqmXEfQiJJL4bwYiFyCysAD5Rv3er3EICkCIAHrujXL6XHnYxE9GhRkR4tKtKJo0ezPKosO3tW0eXLFT1wwO+R4AIIgAdaFBQkROA/4yb4mZMnNb9797rbf9+zp04dP+7J+FyrXbdOZzt2VO2sWart21dnueYRWFwD8FA0GlXN6dNqUZD4PfePNjJJng7TdYLaWh3p0EEdktzVrLJSatnS6xHhIsx+IIgf8vLykk5+SerWp48O7mr4qb3Nknyb0ffqhaJzr1767ubNTsfYFDWffaby4uKkE79OdbXUubNHI0KqOAUIiCc2JX5Q5+LKyga3f37jjQ1uH9m9W8f27Gmw7bMNG/TW/PmqOXXK/SDjRaNSNKry4uKLP5bJH0icAgRINBrVy3Pm6OyZM7rn2WcTXpP/vSSnCddMmaLpzz8vSVoUd/89a9eq27BhemXAAB3fu1fTd+xQuyuvTHrs2tOnld/YEj16/v8i58dz/L339MmECZKkNpJizyqU1Oz8z0X6y2+XZkePSs1i9yBICECIPDNunA5s2dJg27xt29SxZ0+dPHZMZT16JDynQ9ztiWvWqOvIkXW3P5o7V7ufe67u9h0VFWrWqlXd7TfjojI+EtGH9bYVSKr/ZuL2kmLZar9unZoPGZLCvwx+4RQgRB5ev77B7XZduqhjz56SpNPV1QmPT/YtfCtvuqnu52htbYPJL0n/femldT/vefrphOfvKyur+7lEyos/0aiS1KmiQp0jESZ/CLACyCHxpwB9SkpUsXZtwuPuP/+XhZOHDun13r0T7p96/v743/4xHZJsG3LwoM4ePqwW54OEcGAFkEPmVVXV/Vzy5JO6PckblSa/+27dz626dr3g/ga+8ELCtkHLlqn/O+802Db0yBHlt2nD5A8hVgAGrP32t7X71Vf1rfJyFXTs2OC+6l27tGb48LrbU+Ned5DsGgByBwEADOMUADCMAACGEQDAMAIAGEYAAMMIAGAYAQAMIwCAYQQAMIwAAIYRAMAwAgAYRgAAwwgAYBgBAAwjAIBhBAAwjAAAhhEAwDACABhGAADDCABgGAEADCMAgGEEADCMAACGEQDAMAIAGEYAAMMIAGAYAQAMIwCAYf8P3Eu3pZi2XsEAAAAASUVORK5CYII=",
        "encoding": "base64",
        "path": [
         "value"
        ]
       }
      ],
      "model_module": "@jupyter-widgets/controls",
      "model_module_version": "2.0.0",
      "model_name": "ImageModel",
      "state": {
       "layout": "IPY_MODEL_c8b2ecf0d8484b5ab789a2c69f528d22"
      }
     },
     "42f6a42260d44f2084d673f1e36d01c5": {
      "model_module": "@jupyter-widgets/base",
      "model_module_version": "2.0.0",
      "model_name": "LayoutModel",
      "state": {}
     },
     "4445b70b7f8945d9a92b939143cbc3b3": {
      "model_module": "@jupyter-widgets/controls",
      "model_module_version": "2.0.0",
      "model_name": "HBoxModel",
      "state": {
       "children": [
        "IPY_MODEL_308171e1b152484e8e96c8ee897a67a1",
        "IPY_MODEL_aaebf14b4ed749b1886b89c1df578d25"
       ],
       "layout": "IPY_MODEL_6a5b7a0d09e14b699a1ccbc1f890743f"
      }
     },
     "4a694ea493494ccfb2937ee305dcd62f": {
      "model_module": "@jupyter-widgets/controls",
      "model_module_version": "2.0.0",
      "model_name": "HTMLStyleModel",
      "state": {
       "description_width": "",
       "font_size": null,
       "text_color": null
      }
     },
     "4bc7e0ba725d4d2d9f77d6aaf4436669": {
      "model_module": "@jupyter-widgets/base",
      "model_module_version": "2.0.0",
      "model_name": "LayoutModel",
      "state": {}
     },
     "51b1c7b9dd9048528883a83074ba415b": {
      "model_module": "@jupyter-widgets/controls",
      "model_module_version": "2.0.0",
      "model_name": "LabelModel",
      "state": {
       "layout": "IPY_MODEL_194a22a323bf4ee1be1b6558b18686a4",
       "style": "IPY_MODEL_95e910cf9eee4309acaf72fa6ae0269e",
       "value": "reward: 0.8255631327629089 480"
      }
     },
     "565ef0957de34738b570be87da1adfc5": {
      "model_module": "@jupyter-widgets/controls",
      "model_module_version": "2.0.0",
      "model_name": "HTMLStyleModel",
      "state": {
       "description_width": "",
       "font_size": null,
       "text_color": null
      }
     },
     "58cc59b50f4b4554b3513275fa365944": {
      "model_module": "@jupyter-widgets/controls",
      "model_module_version": "2.0.0",
      "model_name": "HBoxModel",
      "state": {
       "children": [
        "IPY_MODEL_5e69282f1a144a6fa781cefe87cff78f",
        "IPY_MODEL_9dfd57fed8d14745814f5772a7aed880"
       ],
       "layout": "IPY_MODEL_4bc7e0ba725d4d2d9f77d6aaf4436669"
      }
     },
     "5e69282f1a144a6fa781cefe87cff78f": {
      "model_module": "jupyter-webrtc",
      "model_module_version": "~0.6.0",
      "model_name": "ImageStreamModel",
      "state": {
       "_view_count": 1,
       "image": "IPY_MODEL_8dd12478318c49d2be7b6fccabc1249c",
       "layout": "IPY_MODEL_8ef42aa3c9f84dc8a7545ba6e94495c7"
      }
     },
     "6a5b7a0d09e14b699a1ccbc1f890743f": {
      "model_module": "@jupyter-widgets/base",
      "model_module_version": "2.0.0",
      "model_name": "LayoutModel",
      "state": {}
     },
     "6c2e0a81ba014dfda1b9bae0ea793a89": {
      "model_module": "@jupyter-widgets/base",
      "model_module_version": "2.0.0",
      "model_name": "LayoutModel",
      "state": {}
     },
     "6eca6fdc5dfb43fe81a038fe4a55af89": {
      "model_module": "ipyevents",
      "model_module_version": "2.0.2",
      "model_name": "EventModel",
      "state": {
       "_supported_key_events": [
        "keydown",
        "keyup"
       ],
       "_supported_mouse_events": [
        "click",
        "auxclick",
        "dblclick",
        "mouseenter",
        "mouseleave",
        "mousedown",
        "mouseup",
        "mousemove",
        "wheel",
        "contextmenu",
        "dragstart",
        "drag",
        "dragend",
        "dragenter",
        "dragover",
        "dragleave",
        "drop"
       ],
       "_supported_touch_events": [
        "touchstart",
        "touchend",
        "touchmove",
        "touchcancel"
       ],
       "_view_module": "@jupyter-widgets/controls",
       "source": "IPY_MODEL_5e69282f1a144a6fa781cefe87cff78f",
       "throttle_or_debounce": "",
       "watched_events": [
        "click",
        "keydown",
        "keyup",
        "mousemove"
       ],
       "xy_coordinate_system": ""
      }
     },
     "852901e4b59049ddb1324b26426a80b5": {
      "model_module": "@jupyter-widgets/base",
      "model_module_version": "2.0.0",
      "model_name": "LayoutModel",
      "state": {}
     },
     "898a1eb4ffb846258d7531b564f28bed": {
      "model_module": "@jupyter-widgets/controls",
      "model_module_version": "2.0.0",
      "model_name": "ButtonStyleModel",
      "state": {
       "font_family": null,
       "font_size": null,
       "font_style": null,
       "font_variant": null,
       "font_weight": null,
       "text_color": null,
       "text_decoration": null
      }
     },
     "8dd12478318c49d2be7b6fccabc1249c": {
      "buffers": [
       {
        "data": "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",
        "encoding": "base64",
        "path": [
         "value"
        ]
       }
      ],
      "model_module": "@jupyter-widgets/controls",
      "model_module_version": "2.0.0",
      "model_name": "ImageModel",
      "state": {
       "layout": "IPY_MODEL_6c2e0a81ba014dfda1b9bae0ea793a89"
      }
     },
     "8ef42aa3c9f84dc8a7545ba6e94495c7": {
      "model_module": "@jupyter-widgets/base",
      "model_module_version": "2.0.0",
      "model_name": "LayoutModel",
      "state": {}
     },
     "95e910cf9eee4309acaf72fa6ae0269e": {
      "model_module": "@jupyter-widgets/controls",
      "model_module_version": "2.0.0",
      "model_name": "LabelStyleModel",
      "state": {
       "description_width": "",
       "font_family": null,
       "font_size": null,
       "font_style": null,
       "font_variant": null,
       "font_weight": null,
       "text_color": null,
       "text_decoration": null
      }
     },
     "9dfd57fed8d14745814f5772a7aed880": {
      "model_module": "@jupyter-widgets/controls",
      "model_module_version": "2.0.0",
      "model_name": "HTMLModel",
      "state": {
       "layout": "IPY_MODEL_852901e4b59049ddb1324b26426a80b5",
       "style": "IPY_MODEL_565ef0957de34738b570be87da1adfc5",
       "value": "<style>\n.cell-output-ipywidget-background {\n    background-color: transparent !important;\n}\n.jp-OutputArea-output {\n    background-color: transparent;\n}\npre {\n    color: var(--vscode-editor-foreground);\n    margin: 0;\n}\nvideo::-webkit-media-controls {\n  display: none;\n}\n</style>"
      }
     },
     "aaebf14b4ed749b1886b89c1df578d25": {
      "model_module": "@jupyter-widgets/controls",
      "model_module_version": "2.0.0",
      "model_name": "HTMLModel",
      "state": {
       "layout": "IPY_MODEL_da6a576d8051476f8d76cd534009e9d4",
       "style": "IPY_MODEL_4a694ea493494ccfb2937ee305dcd62f",
       "value": "<style>\n.cell-output-ipywidget-background {\n    background-color: transparent !important;\n}\n.jp-OutputArea-output {\n    background-color: transparent;\n}\npre {\n    color: var(--vscode-editor-foreground);\n    margin: 0;\n}\nvideo::-webkit-media-controls {\n  display: none;\n}\n</style>"
      }
     },
     "c8b2ecf0d8484b5ab789a2c69f528d22": {
      "model_module": "@jupyter-widgets/base",
      "model_module_version": "2.0.0",
      "model_name": "LayoutModel",
      "state": {}
     },
     "da6a576d8051476f8d76cd534009e9d4": {
      "model_module": "@jupyter-widgets/base",
      "model_module_version": "2.0.0",
      "model_name": "LayoutModel",
      "state": {}
     },
     "df8c37a4ba8842fcbed1b6677bae8342": {
      "model_module": "@jupyter-widgets/controls",
      "model_module_version": "2.0.0",
      "model_name": "ButtonModel",
      "state": {
       "description": "Stop",
       "layout": "IPY_MODEL_42f6a42260d44f2084d673f1e36d01c5",
       "style": "IPY_MODEL_898a1eb4ffb846258d7531b564f28bed",
       "tooltip": null
      }
     }
    },
    "version_major": 2,
    "version_minor": 0
   }
  }
 },
 "nbformat": 4,
 "nbformat_minor": 5
}
