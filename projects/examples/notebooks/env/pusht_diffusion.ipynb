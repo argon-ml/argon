{
 "cells": [
  {
   "cell_type": "code",
   "execution_count": 1,
   "id": "6a9bc698-7b3d-4007-83f5-259992cb7ce9",
   "metadata": {},
   "outputs": [],
   "source": [
    "from stanza.runtime import setup\n",
    "setup()\n",
    "\n",
    "from stanza.data.sequence import SequenceData, Chunk\n",
    "from stanza.env.mujoco.pusht import (\n",
    "    PushTPosObs, PushTEnv, \n",
    "    PositionalControlTransform, PositionalObsTransform,\n",
    "    KeypointObsTransform, RelKeypointTransform\n",
    ")\n",
    "from stanza.env import ImageRender\n",
    "from stanza import canvas\n",
    "from stanza.policy.transforms import Transform, ChainedTransform\n",
    "\n",
    "import jax\n",
    "import jax.numpy as jnp\n",
    "from jax.sharding import Mesh, NamedSharding, PartitionSpec\n",
    "\n",
    "from functools import partial"
   ]
  },
  {
   "cell_type": "code",
   "execution_count": 2,
   "id": "787af2ad",
   "metadata": {},
   "outputs": [],
   "source": [
    "if len(jax.devices()) > 1:\n",
    "    render_mesh = Mesh(jax.devices()[:8], ('x',))\n",
    "    render_sharding = NamedSharding(render_mesh, PartitionSpec('x'))\n",
    "    data_mesh = Mesh(jax.devices()[:8], ('x',))\n",
    "    data_sharding = NamedSharding(data_mesh, PartitionSpec('x'))\n",
    "\n",
    "env = PushTEnv()\n",
    "env = ChainedTransform([\n",
    "    PositionalControlTransform(),\n",
    "    #PositionalObsTransform(),\n",
    "    RelKeypointTransform()\n",
    "]).transform_env(env)\n",
    "\n",
    "def draw(action_chunk, weight):\n",
    "    T = action_chunk.shape[0]\n",
    "    colors = jnp.array((jnp.arange(T)/T, jnp.zeros(T), jnp.zeros(T), weight*jnp.ones(T))).T\n",
    "    circles = canvas.fill(\n",
    "        canvas.circle(action_chunk, 0.02*jnp.ones(T)),\n",
    "        color=colors\n",
    "    )\n",
    "    circles = canvas.stack_batch(circles)\n",
    "    circles = canvas.transform(circles,\n",
    "        translation=(1,-1),\n",
    "        scale=(128, -128)\n",
    "    )\n",
    "    return circles\n",
    "\n",
    "@partial(jax.jit, out_shardings=render_sharding)\n",
    "def render(state, action_chunks, weights):\n",
    "    image = env.render(ImageRender(256, 256), state)\n",
    "    if action_chunks is not None and weights is not None:\n",
    "        circles = canvas.stack_batch(jax.vmap(draw)(action_chunks, weights))\n",
    "        return canvas.paint(image, circles)\n",
    "    return image"
   ]
  },
  {
   "cell_type": "code",
   "execution_count": 4,
   "id": "b2cf8373-8cc9-4f62-87c4-98ed56b207f2",
   "metadata": {},
   "outputs": [
    {
     "name": "stdout",
     "output_type": "stream",
     "text": [
      "Loaded data (PushTKeypointRelObs(agent_block_pos=(22352, 1, 2), agent_block_end=(22352, 1, 2), rel_block_pos=(22352, 1, 2), rel_block_end=(22352, 1, 2)), (22352, 16, 2))\n"
     ]
    }
   ],
   "source": [
    "from stanza.datasets.pusht import load_chi_pusht_data\n",
    "dataset = load_chi_pusht_data()\n",
    "\n",
    "obs_length = 1\n",
    "action_length = 16\n",
    "def map_chunks(chunk : Chunk):\n",
    "    state, action = (chunk.elements.state, chunk.elements.action)\n",
    "    obs = jax.vmap(env.observe)(state)\n",
    "    obs = jax.tree_util.tree_map(lambda x: x[:obs_length], obs)\n",
    "    # use the future agent positions as the actions\n",
    "    actions = jax.vmap(lambda s: PushTEnv.observe(env, s))(state).agent_pos\n",
    "    # compute relative future agent positions\n",
    "    action = jax.tree_util.tree_map(lambda x, y: x[-action_length:] - y[obs_length-1], actions, actions)\n",
    "    # action = jax.tree_util.tree_map(lambda x: x[-action_length:], action)\n",
    "    return obs, action\n",
    "data = dataset.chunk(obs_length + action_length).map(map_chunks).as_pytree()\n",
    "data_len = (data[1].shape[0]//8)*8    # truncate length of data to multiple of 8 for sharding\n",
    "data = jax.tree_util.tree_map(lambda x: x[:data_len], data)\n",
    "data = jax.device_put(data, data_sharding)\n",
    "#jax.debug.visualize_array_sharding(data[1][:,:,0])\n",
    "#jax.debug.visualize_array_sharding(data[1][:,:,1])\n",
    "#jax.debug.visualize_array_sharding(data[1][210])\n",
    "\n",
    "sample_chunk = jax.tree_util.tree_map(lambda x: x[0], data)\n",
    "\n",
    "print(\"Loaded data\", jax.tree_util.tree_map(lambda x: x.shape, data))"
   ]
  },
  {
   "cell_type": "code",
   "execution_count": 5,
   "id": "b342d5d3-311d-4ea6-a4b0-e2fbadf3bdff",
   "metadata": {},
   "outputs": [],
   "source": [
    "from stanza.diffusion import DDPMSchedule, nonparametric\n",
    "from stanza.policy import PolicyInput, PolicyOutput\n",
    "from stanza.policy.transforms import ChunkTransform\n",
    "from jax.random import PRNGKey\n",
    "\n",
    "schedule = DDPMSchedule.make_squaredcos_cap_v2(16, prediction_type=\"sample\")\n",
    "\n",
    "@jax.jit\n",
    "def chunk_policy(input: PolicyInput) -> PolicyOutput:\n",
    "    agent_pos = PushTEnv.observe(None, input.state).agent_pos\n",
    "    obs = input.observation\n",
    "    #estimator = nonparametric.nw_local_poly_closed(data, schedule, 1, 0.001)\n",
    "    #estimator = nonparametric.nw_local_poly(PRNGKey(42), data, schedule, 0, \n",
    "    #                          nonparametric.log_gaussian_kernel, nonparametric.log_gaussian_kernel, \n",
    "    #                          0.01, 0.001, 128)\n",
    "    #diffuser = nonparametric.nw_diffuser(obs, estimator)\n",
    "    #diffuser = nonparametric.nw_cond_diffuser(obs, data, schedule, nonparametric.log_gaussian_kernel, 0.01)\n",
    "    diffuser = nonparametric.closest_diffuser(obs, data)\n",
    "    action = schedule.sample(input.rng_key, diffuser, sample_chunk[1]) + agent_pos\n",
    "    return PolicyOutput(action)\n",
    "transform = ChunkTransform(obs_length, action_length)\n",
    "policy = transform.transform_policy(chunk_policy)"
   ]
  },
  {
   "cell_type": "code",
   "execution_count": 6,
   "id": "8e4bcc14",
   "metadata": {},
   "outputs": [
    {
     "data": {
      "application/vnd.jupyter.widget-view+json": {
       "model_id": "f39f1e2b0b33480493c2087651ff36b5",
       "version_major": 2,
       "version_minor": 0
      },
      "text/plain": [
       "HBox(children=(Image(value=b'\\x89PNG\\r\\n\\x1a\\n\\x00\\x00\\x00\\rIHDR\\x00\\x00\\x01\\x00\\x00\\x00\\x01\\x00\\x08\\x06\\x00\\x…"
      ]
     },
     "execution_count": 6,
     "metadata": {},
     "output_type": "execute_result"
    }
   ],
   "source": [
    "from stanza.util.ipython import as_image\n",
    "\n",
    "state = env.reset(jax.random.key(0))\n",
    "state_batch = jax.tree_util.tree_map(\n",
    "    lambda x: jnp.repeat(x[None], obs_length, 0), \n",
    "    state\n",
    ")\n",
    "output = chunk_policy(PolicyInput(\n",
    "    jax.vmap(env.observe)(state_batch),\n",
    "    state,\n",
    "    rng_key=jax.random.key(42))\n",
    ").action \n",
    "as_image(render(state, output[None,...], jnp.ones((1,))))"
   ]
  },
  {
   "cell_type": "code",
   "execution_count": 7,
   "id": "305765c2-5f67-4ca2-95a3-ef21a82261f6",
   "metadata": {},
   "outputs": [],
   "source": [
    "#%timeit chunk_policy(PolicyInput(jax.vmap(env.observe)(state_batch), rng_key=jax.random.key(42))).action "
   ]
  },
  {
   "cell_type": "code",
   "execution_count": 8,
   "id": "c23a0c5b",
   "metadata": {},
   "outputs": [
    {
     "data": {
      "application/vnd.jupyter.widget-view+json": {
       "model_id": "0105d37a6c794fcfbc83d45f1017ec21",
       "version_major": 2,
       "version_minor": 0
      },
      "text/plain": [
       "Label(value='Hello world')"
      ]
     },
     "metadata": {},
     "output_type": "display_data"
    },
    {
     "data": {
      "application/vnd.jupyter.widget-view+json": {
       "model_id": "19466ced16324bd7aec88c355319b2b8",
       "version_major": 2,
       "version_minor": 0
      },
      "text/plain": [
       "HBox(children=(ImageStream(image=Image(value=b'\\x89PNG\\r\\n\\x1a\\n\\x00\\x00\\x00\\rIHDR\\x00\\x00\\x01\\x00\\x00\\x00\\x01…"
      ]
     },
     "metadata": {},
     "output_type": "display_data"
    },
    {
     "data": {
      "application/vnd.jupyter.widget-view+json": {
       "model_id": "f9c32fea3033415a8f0c86c21fbc379d",
       "version_major": 2,
       "version_minor": 0
      },
      "text/plain": [
       "Button(description='Stop', style=ButtonStyle())"
      ]
     },
     "metadata": {},
     "output_type": "display_data"
    }
   ],
   "source": [
    "from stanza.policy.ipython import StreamingInterface\n",
    "from threading import Thread\n",
    "from ipywidgets import Label, Button\n",
    "import time\n",
    "\n",
    "\n",
    "@partial(jax.jit, out_shardings=render_sharding)\n",
    "def batch_policy(obs, state, rng_key):\n",
    "    keys = jax.random.split(rng_key, 8)\n",
    "    return jax.vmap(chunk_policy, in_axes=(PolicyInput(None, None, rng_key=0),))(\n",
    "        PolicyInput(obs, state, rng_key=keys)\n",
    "    ).action\n",
    "\n",
    "executing = True\n",
    "action_queue = []\n",
    "\n",
    "label = Label(value=\"Hello world\")\n",
    "\n",
    "button = Button(description=\"Stop\")\n",
    "def button_click(_):\n",
    "    global executing, action_queue\n",
    "    if executing:\n",
    "        button.description = \"Execute\"\n",
    "        executing = False\n",
    "    else:\n",
    "        button.description = \"Stop\"\n",
    "        executing = True\n",
    "        action_queue = []\n",
    "button.on_click(button_click)\n",
    "\n",
    "interactive = StreamingInterface(256, 256)\n",
    "def loop():\n",
    "    state = env.reset(jax.random.key(42))\n",
    "    #state = dataset[0][0].state\n",
    "    state_batch = jax.tree_util.tree_map(\n",
    "        lambda x: jnp.repeat(x[None], obs_length, 0), \n",
    "        state\n",
    "    )\n",
    "    key = jax.random.key(43)\n",
    "    frame = 0\n",
    "    \n",
    "    action_chunks = None\n",
    "    weights = None\n",
    "    iterations = 0\n",
    "    while True:\n",
    "        t = time.time()\n",
    "        key, r = jax.random.split(key)\n",
    "        if executing and len(action_queue) > 0:\n",
    "            action = action_queue.pop(0)\n",
    "        else:\n",
    "            action = interactive.mouse_pos()\n",
    "\n",
    "        prev_state = state\n",
    "        state = env.step(state, action)\n",
    "        reward = env.reward(prev_state, action, state)\n",
    "        label.value = f\"reward: {reward} {iterations}\"\n",
    "        state_batch = jax.tree_util.tree_map(\n",
    "            lambda x, s: jnp.roll(x, -1).at[-1].set(s),\n",
    "            state_batch, state\n",
    "        )\n",
    "        obs = jax.vmap(env.observe)(state_batch)\n",
    "        \n",
    "        if executing and len(action_queue) == 0:\n",
    "            action_chunks = batch_policy(obs, state, r)\n",
    "            weights = (0.2*jnp.ones(action_chunks.shape[0])).at[0].set(1)\n",
    "            for a in action_chunks[0]:\n",
    "                action_queue.append(a)\n",
    "                #action_queue.append(a)\n",
    "                #action_queue.append(a)\n",
    "            iterations = iterations + action_length\n",
    "        elif not executing and frame % 30 == 0: # re-sample actions every 30 frames\n",
    "            action_chunks = batch_policy(obs, state, r)\n",
    "            weights = jnp.ones(action_chunks.shape[0])\n",
    "        image = render(state, action_chunks, weights)\n",
    "        \n",
    "        interactive.update(image)\n",
    "        elapsed = time.time() - t\n",
    "        time.sleep(max(0, 1/30 - elapsed))\n",
    "        frame = frame + 1\n",
    "\n",
    "t = Thread(target=loop, daemon=True)\n",
    "t.start()\n",
    "t.__del__ = lambda: t.stop()\n",
    "display(label)\n",
    "display(interactive)\n",
    "display(button)"
   ]
  },
  {
   "cell_type": "code",
   "execution_count": null,
   "id": "9634ab6d-f321-4195-acb5-a6398bacbf50",
   "metadata": {},
   "outputs": [],
   "source": []
  }
 ],
 "metadata": {
  "kernelspec": {
   "display_name": "Python 3 (ipykernel)",
   "language": "python",
   "name": "python3"
  },
  "language_info": {
   "codemirror_mode": {
    "name": "ipython",
    "version": 3
   },
   "file_extension": ".py",
   "mimetype": "text/x-python",
   "name": "python",
   "nbconvert_exporter": "python",
   "pygments_lexer": "ipython3",
   "version": "3.12.3"
  },
  "widgets": {
   "application/vnd.jupyter.widget-state+json": {
    "state": {
     "00b834bfcdd043049bff8f115f83d075": {
      "buffers": [
       {
        "data": "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",
        "encoding": "base64",
        "path": [
         "value"
        ]
       }
      ],
      "model_module": "@jupyter-widgets/controls",
      "model_module_version": "2.0.0",
      "model_name": "ImageModel",
      "state": {
       "layout": "IPY_MODEL_9107023e8619495cb45b7685f4bfa68c"
      }
     },
     "0105d37a6c794fcfbc83d45f1017ec21": {
      "model_module": "@jupyter-widgets/controls",
      "model_module_version": "2.0.0",
      "model_name": "LabelModel",
      "state": {
       "layout": "IPY_MODEL_cbaeb4f36b2a4a01b74755169cba93b6",
       "style": "IPY_MODEL_3d5c882bd071423f981cb7c5c9209feb",
       "value": "reward: 0.14790581166744232 1216"
      }
     },
     "097c48396feb458586f8391e557bb7f8": {
      "model_module": "@jupyter-widgets/base",
      "model_module_version": "2.0.0",
      "model_name": "LayoutModel",
      "state": {}
     },
     "0f077e5b39c541f798689634a1e37448": {
      "model_module": "@jupyter-widgets/controls",
      "model_module_version": "2.0.0",
      "model_name": "HTMLModel",
      "state": {
       "layout": "IPY_MODEL_9f243647b29344288a2d6eec1d409ecc",
       "style": "IPY_MODEL_9c4392b4101c4d4aa03b08042fdd515d",
       "value": "<style>\n.cell-output-ipywidget-background {\n    background-color: transparent !important;\n}\n.jp-OutputArea-output {\n    background-color: transparent;\n}\npre {\n    color: var(--vscode-editor-foreground);\n    margin: 0;\n}\nvideo::-webkit-media-controls {\n  display: none;\n}\n</style>"
      }
     },
     "134480a6bc7f4bb88d011e61fd3581b2": {
      "model_module": "@jupyter-widgets/controls",
      "model_module_version": "2.0.0",
      "model_name": "ButtonStyleModel",
      "state": {
       "font_family": null,
       "font_size": null,
       "font_style": null,
       "font_variant": null,
       "font_weight": null,
       "text_color": null,
       "text_decoration": null
      }
     },
     "19466ced16324bd7aec88c355319b2b8": {
      "model_module": "@jupyter-widgets/controls",
      "model_module_version": "2.0.0",
      "model_name": "HBoxModel",
      "state": {
       "children": [
        "IPY_MODEL_488560a2ddbc4a78a4412a47ccc13fc2",
        "IPY_MODEL_d64361aba694461fa949439729c7d683"
       ],
       "layout": "IPY_MODEL_c2a5a55c2eb4469b9cc853beb17a2693"
      }
     },
     "2a33d9b406c44c6da23d52793f6139b1": {
      "model_module": "@jupyter-widgets/base",
      "model_module_version": "2.0.0",
      "model_name": "LayoutModel",
      "state": {}
     },
     "3d5c882bd071423f981cb7c5c9209feb": {
      "model_module": "@jupyter-widgets/controls",
      "model_module_version": "2.0.0",
      "model_name": "LabelStyleModel",
      "state": {
       "description_width": "",
       "font_family": null,
       "font_size": null,
       "font_style": null,
       "font_variant": null,
       "font_weight": null,
       "text_color": null,
       "text_decoration": null
      }
     },
     "488560a2ddbc4a78a4412a47ccc13fc2": {
      "model_module": "jupyter-webrtc",
      "model_module_version": "~0.6.0",
      "model_name": "ImageStreamModel",
      "state": {
       "_view_count": 1,
       "image": "IPY_MODEL_f3bf0dc2e7414c94a72071ae81cab685",
       "layout": "IPY_MODEL_d724103b33b54680b32b16d36ee23862"
      }
     },
     "589e07c0aa6a43dc85c67e254027d11b": {
      "model_module": "@jupyter-widgets/controls",
      "model_module_version": "2.0.0",
      "model_name": "HTMLStyleModel",
      "state": {
       "description_width": "",
       "font_size": null,
       "text_color": null
      }
     },
     "59708e2ef29b42d2b3ad4efc0ffeb6ae": {
      "model_module": "@jupyter-widgets/base",
      "model_module_version": "2.0.0",
      "model_name": "LayoutModel",
      "state": {}
     },
     "9107023e8619495cb45b7685f4bfa68c": {
      "model_module": "@jupyter-widgets/base",
      "model_module_version": "2.0.0",
      "model_name": "LayoutModel",
      "state": {}
     },
     "9c4392b4101c4d4aa03b08042fdd515d": {
      "model_module": "@jupyter-widgets/controls",
      "model_module_version": "2.0.0",
      "model_name": "HTMLStyleModel",
      "state": {
       "description_width": "",
       "font_size": null,
       "text_color": null
      }
     },
     "9f243647b29344288a2d6eec1d409ecc": {
      "model_module": "@jupyter-widgets/base",
      "model_module_version": "2.0.0",
      "model_name": "LayoutModel",
      "state": {}
     },
     "c2a5a55c2eb4469b9cc853beb17a2693": {
      "model_module": "@jupyter-widgets/base",
      "model_module_version": "2.0.0",
      "model_name": "LayoutModel",
      "state": {}
     },
     "c5fe1b3e3f3240aa84ff575f458225b7": {
      "model_module": "ipyevents",
      "model_module_version": "2.0.2",
      "model_name": "EventModel",
      "state": {
       "_supported_key_events": [
        "keydown",
        "keyup"
       ],
       "_supported_mouse_events": [
        "click",
        "auxclick",
        "dblclick",
        "mouseenter",
        "mouseleave",
        "mousedown",
        "mouseup",
        "mousemove",
        "wheel",
        "contextmenu",
        "dragstart",
        "drag",
        "dragend",
        "dragenter",
        "dragover",
        "dragleave",
        "drop"
       ],
       "_supported_touch_events": [
        "touchstart",
        "touchend",
        "touchmove",
        "touchcancel"
       ],
       "_view_module": "@jupyter-widgets/controls",
       "source": "IPY_MODEL_488560a2ddbc4a78a4412a47ccc13fc2",
       "throttle_or_debounce": "",
       "watched_events": [
        "click",
        "keydown",
        "keyup",
        "mousemove"
       ],
       "xy_coordinate_system": ""
      }
     },
     "cbaeb4f36b2a4a01b74755169cba93b6": {
      "model_module": "@jupyter-widgets/base",
      "model_module_version": "2.0.0",
      "model_name": "LayoutModel",
      "state": {}
     },
     "d64361aba694461fa949439729c7d683": {
      "model_module": "@jupyter-widgets/controls",
      "model_module_version": "2.0.0",
      "model_name": "HTMLModel",
      "state": {
       "layout": "IPY_MODEL_2a33d9b406c44c6da23d52793f6139b1",
       "style": "IPY_MODEL_589e07c0aa6a43dc85c67e254027d11b",
       "value": "<style>\n.cell-output-ipywidget-background {\n    background-color: transparent !important;\n}\n.jp-OutputArea-output {\n    background-color: transparent;\n}\npre {\n    color: var(--vscode-editor-foreground);\n    margin: 0;\n}\nvideo::-webkit-media-controls {\n  display: none;\n}\n</style>"
      }
     },
     "d724103b33b54680b32b16d36ee23862": {
      "model_module": "@jupyter-widgets/base",
      "model_module_version": "2.0.0",
      "model_name": "LayoutModel",
      "state": {}
     },
     "e6851e3b7ade499d99d309817ec94198": {
      "model_module": "@jupyter-widgets/base",
      "model_module_version": "2.0.0",
      "model_name": "LayoutModel",
      "state": {}
     },
     "f39f1e2b0b33480493c2087651ff36b5": {
      "model_module": "@jupyter-widgets/controls",
      "model_module_version": "2.0.0",
      "model_name": "HBoxModel",
      "state": {
       "children": [
        "IPY_MODEL_00b834bfcdd043049bff8f115f83d075",
        "IPY_MODEL_0f077e5b39c541f798689634a1e37448"
       ],
       "layout": "IPY_MODEL_e6851e3b7ade499d99d309817ec94198"
      }
     },
     "f3bf0dc2e7414c94a72071ae81cab685": {
      "buffers": [
       {
        "data": "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",
        "encoding": "base64",
        "path": [
         "value"
        ]
       }
      ],
      "model_module": "@jupyter-widgets/controls",
      "model_module_version": "2.0.0",
      "model_name": "ImageModel",
      "state": {
       "layout": "IPY_MODEL_59708e2ef29b42d2b3ad4efc0ffeb6ae"
      }
     },
     "f9c32fea3033415a8f0c86c21fbc379d": {
      "model_module": "@jupyter-widgets/controls",
      "model_module_version": "2.0.0",
      "model_name": "ButtonModel",
      "state": {
       "description": "Execute",
       "layout": "IPY_MODEL_097c48396feb458586f8391e557bb7f8",
       "style": "IPY_MODEL_134480a6bc7f4bb88d011e61fd3581b2",
       "tooltip": null
      }
     }
    },
    "version_major": 2,
    "version_minor": 0
   }
  }
 },
 "nbformat": 4,
 "nbformat_minor": 5
}
