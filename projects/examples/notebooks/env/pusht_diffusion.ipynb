{
 "cells": [
  {
   "cell_type": "code",
   "execution_count": 1,
   "id": "lApaxK33ZPhX",
   "metadata": {
    "id": "lApaxK33ZPhX"
   },
   "outputs": [],
   "source": [
    "try:\n",
    "    from google.colab import output\n",
    "    output.enable_custom_widget_manager()\n",
    "except ImportError:\n",
    "    pass\n",
    "try:\n",
    "    import stanza\n",
    "except:\n",
    "    %pip install -v git+https://github.com/pfrommerd/stanza.git\n",
    "    # Fix an issue with ipywidgets 8 and colab\n",
    "    %pip install \"ipywidgets<8\""
   ]
  },
  {
   "cell_type": "code",
   "execution_count": 2,
   "id": "6a9bc698-7b3d-4007-83f5-259992cb7ce9",
   "metadata": {
    "id": "6a9bc698-7b3d-4007-83f5-259992cb7ce9"
   },
   "outputs": [],
   "source": [
    "from stanza.runtime import setup\n",
    "setup()\n",
    "\n",
    "from stanza.data.sequence import SequenceData, Chunk\n",
    "from stanza.env.mujoco.pusht import (\n",
    "    PushTPosObs, PushTEnv,\n",
    "    PositionalControlTransform, PositionalObsTransform,\n",
    "    KeypointObsTransform, RelKeypointObsTransform\n",
    ")\n",
    "from stanza.env import ImageRender\n",
    "from stanza.env.transforms import ChainedTransform\n",
    "from stanza import canvas\n",
    "import stanza.env\n",
    "\n",
    "import jax\n",
    "import jax.numpy as jnp\n",
    "from jax.sharding import Mesh, NamedSharding, PartitionSpec\n",
    "\n",
    "from functools import partial"
   ]
  },
  {
   "cell_type": "code",
   "execution_count": 3,
   "id": "787af2ad",
   "metadata": {
    "id": "787af2ad"
   },
   "outputs": [],
   "source": [
    "if len(jax.devices()) > 1:\n",
    "    render_mesh = Mesh(jax.devices()[:8], ('x',))\n",
    "    render_sharding = NamedSharding(render_mesh, PartitionSpec('x'))\n",
    "    data_mesh = Mesh(jax.devices()[:8], ('x',))\n",
    "    data_sharding = NamedSharding(data_mesh, PartitionSpec('x'))\n",
    "else:\n",
    "    render_sharding = None\n",
    "\n",
    "env = PushTEnv()\n",
    "env = stanza.env.create(\"mujoco/pusht/rel_keypoint\")\n",
    "\n",
    "def draw(action_chunk, weight, width, height):\n",
    "    T = action_chunk.shape[0]\n",
    "    colors = jnp.array((jnp.arange(T)/T, jnp.zeros(T), jnp.zeros(T), weight*jnp.ones(T))).T\n",
    "    circles = canvas.fill(\n",
    "        canvas.circle(action_chunk, 0.02*jnp.ones(T)),\n",
    "        color=colors\n",
    "    )\n",
    "    circles = canvas.stack_batch(circles)\n",
    "    circles = canvas.transform(circles,\n",
    "        translation=(1,-1),\n",
    "        scale=(width/2, -height/2)\n",
    "    )\n",
    "    return circles\n",
    "\n",
    "@partial(jax.jit, out_shardings=render_sharding, static_argnames=(\"width\",\"height\",))\n",
    "def render(state, action_chunks=None, weights=None, width=256, height=256):\n",
    "    image = env.render(state, ImageRender(width, height))\n",
    "    if action_chunks is not None and weights is not None:\n",
    "        circles = canvas.stack_batch(jax.vmap(draw, in_axes=(0,0,None,None))(action_chunks, weights, width, height))\n",
    "        #jax.debug.print(\"{s}\", s=circles)\n",
    "        return canvas.paint(image, circles)\n",
    "    return image"
   ]
  },
  {
   "cell_type": "code",
   "execution_count": 4,
   "id": "b2cf8373-8cc9-4f62-87c4-98ed56b207f2",
   "metadata": {
    "colab": {
     "base_uri": "https://localhost:8080/"
    },
    "id": "b2cf8373-8cc9-4f62-87c4-98ed56b207f2",
    "outputId": "9ede4c44-bfc3-4205-fd0b-f3cbe0a80cc4"
   },
   "outputs": [
    {
     "name": "stdout",
     "output_type": "stream",
     "text": [
      "Loading data...\n",
      "Computing full mujoco state...\n",
      "Converted reduced state to full state!\n",
      "Loaded data (PushTKeypointRelObs(agent_block_pos=(22352, 1, 2), agent_block_end=(22352, 1, 2), rel_block_pos=(22352, 1, 2), rel_block_end=(22352, 1, 2)), (22352, 16, 2))\n"
     ]
    }
   ],
   "source": [
    "from stanza.datasets.env.pusht import load_chi_pusht_data\n",
    "print(\"Loading data...\")\n",
    "dataset = load_chi_pusht_data().cache()\n",
    "print(\"Computing full mujoco state...\")\n",
    "obs_length = 1\n",
    "action_length = 16\n",
    "def map_elements(el):\n",
    "    return env.full_state(el.reduced_state)\n",
    "try:\n",
    "    data = dataset.map_elements(map_elements).cache()\n",
    "except Exception as e:\n",
    "    import traceback\n",
    "    traceback.print_exc()\n",
    "print(\"Converted reduced state to full state!\")\n",
    "\n",
    "def map_chunks(chunk : Chunk):\n",
    "    state = chunk.elements\n",
    "    obs = jax.vmap(env.observe)(state)\n",
    "    obs = jax.tree_util.tree_map(lambda x: x[:obs_length], obs)\n",
    "    # use the future agent positions as the actions\n",
    "    actions = jax.vmap(lambda s: PushTEnv.observe(env, s))(state).agent_pos\n",
    "    # compute relative future agent positions\n",
    "    action = jax.tree_util.tree_map(lambda x, y: x[-action_length:] - y[obs_length-1], actions, actions)\n",
    "    #action = jax.tree_util.tree_map(lambda x: x[-action_length:], actions)\n",
    "    return obs, action\n",
    "data = data.chunk(obs_length + action_length).map(map_chunks).as_pytree()\n",
    "data_len = (data[1].shape[0]//8)*8    # truncate length of data to multiple of 8 for sharding\n",
    "data = jax.tree_util.tree_map(lambda x: x[:data_len], data)\n",
    "data = jax.device_put(data, data_sharding)\n",
    "#jax.debug.visualize_array_sharding(data[1][:,:,0])\n",
    "#jax.debug.visualize_array_sharding(data[1][:,:,1])\n",
    "#jax.debug.visualize_array_sharding(data[1][210])\n",
    "\n",
    "sample_chunk = jax.tree_util.tree_map(lambda x: x[0], data)\n",
    "\n",
    "print(\"Loaded data\", jax.tree_util.tree_map(lambda x: x.shape, data))"
   ]
  },
  {
   "cell_type": "code",
   "execution_count": 5,
   "id": "b342d5d3-311d-4ea6-a4b0-e2fbadf3bdff",
   "metadata": {
    "id": "b342d5d3-311d-4ea6-a4b0-e2fbadf3bdff"
   },
   "outputs": [],
   "source": [
    "from stanza.diffusion import DDPMSchedule, nonparametric\n",
    "from stanza.policy import PolicyInput, PolicyOutput\n",
    "from stanza.policy.transforms import ChunkingTransform\n",
    "from jax.random import PRNGKey\n",
    "\n",
    "schedule = DDPMSchedule.make_squaredcos_cap_v2(16, prediction_type=\"sample\")\n",
    "\n",
    "@jax.jit\n",
    "def chunk_policy(input: PolicyInput) -> PolicyOutput:\n",
    "    agent_pos = PushTEnv.observe(env, input.state).agent_pos\n",
    "    obs = input.observation\n",
    "    #estimator = nonparametric.nw_local_poly_closed(data, schedule, 1, 0.001)\n",
    "    #estimator = nonparametric.nw_local_poly(PRNGKey(42), data, schedule, 0,\n",
    "    #                          nonparametric.log_gaussian_kernel, nonparametric.log_gaussian_kernel,\n",
    "    #                          0.01, 0.001, 128)\n",
    "    #diffuser = nonparametric.nw_diffuser(obs, estimator)\n",
    "    diffuser = nonparametric.nw_cond_diffuser(obs, data, schedule, nonparametric.log_gaussian_kernel, 0.01)\n",
    "    #diffuser = nonparametric.closest_diffuser(obs, data)\n",
    "    action = schedule.sample(input.rng_key, diffuser, sample_chunk[1]) + agent_pos\n",
    "    return PolicyOutput(action, info=action)\n",
    "transform = ChunkingTransform(obs_length, action_length)\n",
    "policy = transform.apply(chunk_policy)"
   ]
  },
  {
   "cell_type": "code",
   "execution_count": 6,
   "id": "8e4bcc14",
   "metadata": {
    "colab": {
     "base_uri": "https://localhost:8080/",
     "height": 277,
     "referenced_widgets": [
      "511f40027dfc4052bdaf928060de2c9a",
      "4a741c4169c64c0d85515a9f5e7d6abf",
      "08dec3807ae546d2a527ddd693ccd7ee",
      "09401564c41b4001917de250ecebe1d8",
      "4de8b9b4f14746a6b46c939266405691",
      "5f17167207bd4829805fe1be6028e938",
      "d2be3e3938bf486ba82888023dd6d5f0"
     ]
    },
    "id": "8e4bcc14",
    "outputId": "8a169221-8f97-4b1e-ae71-c120b4d544a3"
   },
   "outputs": [
    {
     "data": {
      "application/vnd.jupyter.widget-view+json": {
       "model_id": "dc00830fdbed463599d2862e884449da",
       "version_major": 2,
       "version_minor": 0
      },
      "text/plain": [
       "HBox(children=(Image(value=b'\\x89PNG\\r\\n\\x1a\\n\\x00\\x00\\x00\\rIHDR\\x00\\x00\\x01\\x00\\x00\\x00\\x01\\x00\\x08\\x06\\x00\\x…"
      ]
     },
     "execution_count": 6,
     "metadata": {},
     "output_type": "execute_result"
    }
   ],
   "source": [
    "from stanza.util.ipython import as_image, as_video\n",
    "\n",
    "state = env.reset(jax.random.key(0))\n",
    "state_batch = jax.tree_util.tree_map(\n",
    "    lambda x: jnp.repeat(x[None], obs_length, 0),\n",
    "    state\n",
    ")\n",
    "output = chunk_policy(PolicyInput(\n",
    "    jax.vmap(env.observe)(state_batch),\n",
    "    state,\n",
    "    rng_key=jax.random.key(42))\n",
    ").action\n",
    "as_image(render(state, output[None,...], jnp.ones((1,))))"
   ]
  },
  {
   "cell_type": "code",
   "execution_count": 10,
   "id": "fd3a28b8-baa9-409c-8fc6-468015f27d03",
   "metadata": {
    "colab": {
     "base_uri": "https://localhost:8080/",
     "height": 277,
     "referenced_widgets": [
      "8bbbe216ed13425a84cf93a280c3c343",
      "15c2760bdfeb403fa778d603d57d2fd1",
      "2b2a9603c4a94c9e9be320356d807109",
      "f93ffb0cee5b43a9b6dc255bf75e5984",
      "4c48083b9f744e57a105ef16b6c7e682",
      "09d0b771cc8f4c60b1161a29e638efce",
      "4e8725be481543b58c67740ff51b03db"
     ]
    },
    "id": "fd3a28b8-baa9-409c-8fc6-468015f27d03",
    "outputId": "866c6327-8e88-4070-d61f-5ef61006d8de"
   },
   "outputs": [
    {
     "data": {
      "application/vnd.jupyter.widget-view+json": {
       "model_id": "1275d5cf87824a768fcb6862e89cf696",
       "version_major": 2,
       "version_minor": 0
      },
      "text/plain": [
       "Video(value=b'\\x00\\x00\\x00 ftypisom\\x00\\x00\\x02\\x00isomiso2avc1mp41\\x00\\x00\\x00\\x08free...')"
      ]
     },
     "execution_count": 10,
     "metadata": {},
     "output_type": "execute_result"
    }
   ],
   "source": [
    "import stanza.policy\n",
    "from stanza import canvas\n",
    "\n",
    "#@partial(jax.jit, out_shardings=render_sharding)\n",
    "def batch_policy(obs, state, rng_key):\n",
    "    keys = jax.random.split(rng_key, 8)\n",
    "    return jax.vmap(chunk_policy, in_axes=(PolicyInput(None, None, rng_key=0),))(\n",
    "        PolicyInput(obs, state, rng_key=keys)\n",
    "    ).action\n",
    "\n",
    "def roll_video(rng_key):\n",
    "    #transform = ChunkingTransform(obs_length, action_length)\n",
    "    #policy = transform.apply(chunk_policy)\n",
    "    rng_key, x0_rng = jax.random.split(rng_key)\n",
    "    r = stanza.policy.rollout(env.step, env.reset(x0_rng), policy, policy_rng_key=rng_key, observe=env.observe, length=100, last_action=True)\n",
    "    def render_frame(state, action, width, height):\n",
    "        return render(state, action[None], jnp.ones((1,)), width, height)\n",
    "    return jax.vmap(lambda x, a: render_frame(x, a, 64, 64))(r.states, r.info)\n",
    "\n",
    "@jax.jit\n",
    "def generate_video(rng_key):\n",
    "    keys = jax.random.split(rng_key, 4)\n",
    "    videos = jax.vmap(roll_video)(keys)\n",
    "    video = jax.vmap(\n",
    "        lambda x: stanza.canvas.image_grid(x),\n",
    "        in_axes=1, out_axes=0\n",
    "    )(videos)\n",
    "    return video\n",
    "as_video(generate_video(jax.random.key(42)))"
   ]
  },
  {
   "cell_type": "code",
   "execution_count": 8,
   "id": "305765c2-5f67-4ca2-95a3-ef21a82261f6",
   "metadata": {
    "id": "305765c2-5f67-4ca2-95a3-ef21a82261f6"
   },
   "outputs": [],
   "source": [
    "#%timeit chunk_policy(PolicyInput(jax.vmap(env.observe)(state_batch), rng_key=jax.random.key(42))).action"
   ]
  },
  {
   "cell_type": "code",
   "execution_count": 9,
   "id": "c23a0c5b",
   "metadata": {
    "colab": {
     "base_uri": "https://localhost:8080/",
     "height": 345,
     "referenced_widgets": [
      "414a8954b1cb4fe7878c7a512901469f",
      "296eabe11bba42089f6999cf57af96f0",
      "cb9f9963312d4c0c84dab35cfd581e46",
      "ad85560a60f7477ebec3fee4dec85204",
      "32a87767f8b5473fa4a03a9f386da87c",
      "d0d58edab9e94e4a9c39dba733cae073",
      "c5aa14d4390845839bf6e9776e78cf2e",
      "2824c348eb014ad094f41407cffe5935",
      "ca3edf6516504a6ba7025e1806f34131",
      "b47dd4713ca2448da36942b4ceb33703",
      "9bcdc378e6994d58ba52193540a76e34",
      "1b2901d7126d40ddb44dcb1e3c19d4fb",
      "122ef8f3f8d546be85ea2221fbc12c9b",
      "6a07587b5b294c6faffb7cd272a6446a",
      "ed20e2627a37437ba48c352331057775"
     ]
    },
    "id": "c23a0c5b",
    "outputId": "3bfd365d-600a-4c0d-be14-f486709db32e"
   },
   "outputs": [
    {
     "data": {
      "application/vnd.jupyter.widget-view+json": {
       "model_id": "3215ab6745ee4d9fb034ff2398798b95",
       "version_major": 2,
       "version_minor": 0
      },
      "text/plain": [
       "Label(value='Hello world')"
      ]
     },
     "metadata": {},
     "output_type": "display_data"
    },
    {
     "data": {
      "application/vnd.jupyter.widget-view+json": {
       "model_id": "3eab0d0fbd3a4b3abc5ee409f9a886c0",
       "version_major": 2,
       "version_minor": 0
      },
      "text/plain": [
       "HBox(children=(ImageStream(image=Image(value=b'\\x89PNG\\r\\n\\x1a\\n\\x00\\x00\\x00\\rIHDR\\x00\\x00\\x01\\x00\\x00\\x00\\x01…"
      ]
     },
     "metadata": {},
     "output_type": "display_data"
    },
    {
     "data": {
      "application/vnd.jupyter.widget-view+json": {
       "model_id": "7dcc03f9265544c6aa6f4d32b81c2249",
       "version_major": 2,
       "version_minor": 0
      },
      "text/plain": [
       "Button(description='Stop', style=ButtonStyle())"
      ]
     },
     "metadata": {},
     "output_type": "display_data"
    }
   ],
   "source": [
    "from stanza.policy.ipython import StreamingInterface\n",
    "from threading import Thread\n",
    "from ipywidgets import Label, Button\n",
    "import time\n",
    "\n",
    "\n",
    "executing = True\n",
    "action_queue = []\n",
    "\n",
    "label = Label(value=\"Hello world\")\n",
    "\n",
    "button = Button(description=\"Stop\")\n",
    "def button_click(_):\n",
    "    global executing, action_queue\n",
    "    if executing:\n",
    "        button.description = \"Execute\"\n",
    "        executing = False\n",
    "    else:\n",
    "        button.description = \"Stop\"\n",
    "        executing = True\n",
    "        action_queue = []\n",
    "button.on_click(button_click)\n",
    "\n",
    "interactive = StreamingInterface(256, 256)\n",
    "def loop():\n",
    "    state = env.reset(jax.random.key(42))\n",
    "    #state = dataset[0][0].state\n",
    "    state_batch = jax.tree_util.tree_map(\n",
    "        lambda x: jnp.repeat(x[None], obs_length, 0),\n",
    "        state\n",
    "    )\n",
    "    key = jax.random.key(43)\n",
    "    frame = 0\n",
    "\n",
    "    action_chunks = None\n",
    "    weights = None\n",
    "    iterations = 0\n",
    "    while True:\n",
    "        t = time.time()\n",
    "        key, r = jax.random.split(key)\n",
    "        if executing and len(action_queue) > 0:\n",
    "            action = action_queue.pop(0)\n",
    "        else:\n",
    "            action = interactive.mouse_pos()\n",
    "\n",
    "        prev_state = state\n",
    "        state = env.step(state, action)\n",
    "        reward = env.reward(prev_state, action, state)\n",
    "        label.value = f\"reward: {reward} {iterations}\"\n",
    "        state_batch = jax.tree_util.tree_map(\n",
    "            lambda x, s: jnp.roll(x, -1).at[-1].set(s),\n",
    "            state_batch, state\n",
    "        )\n",
    "        obs = jax.vmap(env.observe)(state_batch)\n",
    "\n",
    "        if executing and len(action_queue) == 0:\n",
    "            action_chunks = batch_policy(obs, state, r)\n",
    "            weights = (0.2*jnp.ones(action_chunks.shape[0])).at[0].set(1)\n",
    "            for a in action_chunks[0]:\n",
    "                action_queue.append(a)\n",
    "                #action_queue.append(a)\n",
    "                #action_queue.append(a)\n",
    "            iterations = iterations + action_length\n",
    "        elif not executing and frame % 30 == 0: # re-sample actions every 30 frames\n",
    "            action_chunks = batch_policy(obs, state, r)\n",
    "            weights = jnp.ones(action_chunks.shape[0])\n",
    "        image = render(state, action_chunks, weights)\n",
    "\n",
    "        interactive.update(image)\n",
    "        elapsed = time.time() - t\n",
    "        time.sleep(max(0, 1/30 - elapsed))\n",
    "        frame = frame + 1\n",
    "\n",
    "t = Thread(target=loop, daemon=True)\n",
    "t.start()\n",
    "t.__del__ = lambda: t.stop()\n",
    "display(label)\n",
    "display(interactive)\n",
    "display(button)"
   ]
  },
  {
   "cell_type": "code",
   "execution_count": null,
   "id": "9634ab6d-f321-4195-acb5-a6398bacbf50",
   "metadata": {
    "id": "9634ab6d-f321-4195-acb5-a6398bacbf50"
   },
   "outputs": [],
   "source": []
  }
 ],
 "metadata": {
  "colab": {
   "provenance": []
  },
  "kernelspec": {
   "display_name": "Python 3 (ipykernel)",
   "language": "python",
   "name": "python3"
  },
  "language_info": {
   "codemirror_mode": {
    "name": "ipython",
    "version": 3
   },
   "file_extension": ".py",
   "mimetype": "text/x-python",
   "name": "python",
   "nbconvert_exporter": "python",
   "pygments_lexer": "ipython3",
   "version": "3.10.14"
  },
  "widgets": {
   "application/vnd.jupyter.widget-state+json": {
    "state": {
     "0059657a3fbf4ffba154456c0782dcda": {
      "model_module": "@jupyter-widgets/base",
      "model_module_version": "2.0.0",
      "model_name": "LayoutModel",
      "state": {}
     },
     "1275d5cf87824a768fcb6862e89cf696": {
      "buffers": [
       {
        "data": "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",
        "encoding": "base64",
        "path": [
         "value"
        ]
       }
      ],
      "model_module": "@jupyter-widgets/controls",
      "model_module_version": "2.0.0",
      "model_name": "VideoModel",
      "state": {
       "layout": "IPY_MODEL_a115ffb0c8d647f2b6d01b006d13cb46"
      }
     },
     "3215ab6745ee4d9fb034ff2398798b95": {
      "model_module": "@jupyter-widgets/controls",
      "model_module_version": "2.0.0",
      "model_name": "LabelModel",
      "state": {
       "layout": "IPY_MODEL_c586de530c6b4b8ba52480b3ba7508eb",
       "style": "IPY_MODEL_fd748afcf6f04e498f56f811908b8ecd",
       "value": "reward: 1.0 1472"
      }
     },
     "361af29c39ae435db7159abf4b7a9419": {
      "model_module": "@jupyter-widgets/base",
      "model_module_version": "2.0.0",
      "model_name": "LayoutModel",
      "state": {}
     },
     "36c348e57e154a5c9cfec073f7d62b96": {
      "model_module": "@jupyter-widgets/controls",
      "model_module_version": "2.0.0",
      "model_name": "HTMLModel",
      "state": {
       "layout": "IPY_MODEL_729a6b40b18f48a69eccb292efcb9069",
       "style": "IPY_MODEL_bf4c7bd48c284c34bec15ee7558768ab",
       "value": "<style>\n.cell-output-ipywidget-background {\n    background-color: transparent !important;\n}\n.jp-OutputArea-output {\n    background-color: transparent;\n}\npre {\n    color: var(--vscode-editor-foreground);\n    margin: 0;\n}\n.jupyter-widget.widget-image > video::-webkit-media-controls {\n  display: none;\n}\n</style>"
      }
     },
     "38d1d2b1d86849858d1d8582c94ce648": {
      "model_module": "@jupyter-widgets/controls",
      "model_module_version": "2.0.0",
      "model_name": "ButtonStyleModel",
      "state": {
       "font_family": null,
       "font_size": null,
       "font_style": null,
       "font_variant": null,
       "font_weight": null,
       "text_color": null,
       "text_decoration": null
      }
     },
     "3eab0d0fbd3a4b3abc5ee409f9a886c0": {
      "model_module": "@jupyter-widgets/controls",
      "model_module_version": "2.0.0",
      "model_name": "HBoxModel",
      "state": {
       "children": [
        "IPY_MODEL_696e3c561f2d460da4800c8e95c162ee",
        "IPY_MODEL_c5ec689f060d4f27821c19893b502759"
       ],
       "layout": "IPY_MODEL_0059657a3fbf4ffba154456c0782dcda"
      }
     },
     "4da4abaa8d8a47b2a635b4eb1dc99005": {
      "buffers": [
       {
        "data": "iVBORw0KGgoAAAANSUhEUgAAAQAAAAEACAYAAABccqhmAAAK60lEQVR4nO3db2xV9R3H8c+hUFrQtkhb6G1B9IFBfTARE8Vk2Z5sM25sS1CXuGRa6KagMZGEyDbG0LmEGINbAo5sgEqCDzVj2wO3bMviYmSbc3ui2aJGRrlFCsg/6WC1dw8uBy79A72959zz5/N+JY3a3nv6K+H7zu+ce3oNSqVSSQAsTUt6AQCSQwAAYwQAMEYAAGMEADBGAABjBAAwRgAAYwQAMEYAAGMEADBGAABjBAAwRgAAYwQAMEYAAGMEADBGAABjBAAwRgAAYwQAMEYAAGMEADBGAABjBAAwRgAAYwQAMEYAAGMEADBGAABjBAAwRgAAYwQAMEYAAGMEADBGAABjBAAwRgAAYwQAMEYAAGMEADBGAABjBAAwRgAAYwQAMEYAAGMEADBGAABjBAAwRgAAYwQAMEYAAGMEADBGAABjBAAwRgAAYwQAMEYAAGMEADBGAABjBAAwRgAAYwQAMEYAAGMEADBGAABjBAAwRgAAYwQAMEYAAGMEADBGAABjBAAwRgAAYwQAMEYAAGMEADBGAABjBAAwRgAAYwQAMEYAAGMEADBGAABjBAAwRgAAYwQAMEYAAGMEADBGAABjBAAwRgAAYwQAMEYAAGMEADBGAABjBAAwRgAAYwQAMEYAAGMEADBGAABjBAAwRgAAYwQAMEYAMuLW4aVJLwE5RAAyYMnwUn3x2Yf0rd3rk14KcoYApNyS4aX60rMPSZIKxeuJACJFAFKscvhD5Qh8N6EVIW8IQEqNN/yhQvE6IoBIEIAUWjJ864TDHyICiAIBSJny8D88qccSAdSKAKRINcMfKhSv0wMvEQFMDQFIiakMf6hr4Do98NL3Il4RHBCAFKhl+ENdA4uIAKpGABIWxfCHiACqRQASdHT4WGTDHyICqEbuA3D2bEkbN55QoVBUoVDUzTcf0uuvn016WZKkudOv0ZqHvxL5cYkAJisolUqlpBcRh1KppO7ugcs+5umnW7Vy5ew6rWhi/zlR1PM/+3Xkxz00f79efPDHkR8X+ZHLAJw+PaIbbjg0qcc2Ngb68MOumFd0ZUQAScjlKcBkh1+Szp0r6bHHPo5xNZOzsLWgNaujPx2Yf+haPfji9yM/LvIhdzuAZcs+0v79n1b9vAMHutTQEMSwouqwE0A95W4HMJXhl6R77jka8Uqmhp0A6ilXAejvH57yc/ftOxfhSmoTbwQ2RH5cZFeuAvDmm+kZ4lrFF4GFRAAX5CoA+bqaEW8Eel8gAshZAO64ozHpJUQurgjM+4gIIGcBWLBg+pSfu3RpeuNBBBCXXAVAkrq6Gqb0vFdfnRvxSqIVbwR+EPlxkQ25C8Bbb82r+jnLlzdr+vTk7wG4kvgisIAImMrdjUCSdPLkiBYvnvzdgMViIcbVRC+um4U+mndAL/T+KPLjIr1ytwOQpJaWaTp48Mr392/Y0JK54Zfi3Qms3MVOwEkuAyBJQRCoWCzovffm6/77Z134fEODtHv3NSoWC1qz5qoEV1ibha0Fta8+E/lxOw8TASe5PAVwsEu79O/NU7/z8UoOd/Zr18qnYjs+0iG3O4A8i3v4JanzcI9W7toY6/dA8jIbgCAILnyMjIwkvZy6qcfwh4hA/mXyFCAIxr5kl8Efo2r1HP5KnA7kV+Z2AGfPjv9+fu+++26dV1JfSQ2/xE4gzzIXgKGhoXE/39raWueV1E+Swx/qPNyjVTt/mOgaEL3MBaCtrW3M55ol3dTdrbYg0Iq77qr7muKUhuEPdQx2E4GcyVwApPL5fnNzsyRptqTKX+P5/Wuv6cn16xNZV9TSNPwhIpAvmbwIGDp29Kiub28f92vHs/tjSUrn8Fca7DionaueTHoZqFEmdwChtjlzJvzaut7eOq4kWmkffomdQF5kegcgSbffdJP+VfEKQCCp8nLghxn78bIw/JUGO4rauWpT0svAFGV6ByBJ+955R/94/31JY4dfkhaNc89AWsU5/JvXf0ePrFke+XE7Bgvq27Ep8uOiPjK/AwhdbtAXSfrt0JAam5rqtp5qxT38oQMnB7Tt+V9F/j2OtBe1o29T5MdFvDK/Awhdbqt/XNI3mpv1zSDQ8WKxbmuarHoNvyQtaOmKZSfQfoSdQBblZgcQGr0T2C8Fn5FKkrRM5d1A9/mP+ZLmNDSoKQg0a88eNd53X51XW9/hr8ROAFIOAyBJt8yZoxPHj6tF5esClfok3SKpS1KbpNHvINhWxz+OpIY/FFcETrcf09a+fNyLkXe5DMDZoSHdPmvWuF+7SlKHpOdUDsBorcPDChqm9sai1Uh6+EP9Jwe0NeIIPLW2V42NMyI9JuKRm2sAlWY2N+t3Bw+O+7VA0seSNkt6XtKYXy2qQw/TMvyS1NPSpUcjvCbA8GdLLgMgSR2Fgj63/OJf7Om6dMtflDRD0h8k/VPSYUmfSjoxY4ZGBgdjW1eahj/U09KlRx+pPQIMf/bkNgCS9NO9e7X55Zcllbf+lU5K+qukBZKuldSpi3E42dmp4X37Il9PGoc/1HN1bRFg+LMpl9cARvt8xSsDf5KCL0ilJpV/kWi2pK9J+uw4z4vygmCah79S/6kBbd1W3TUBhj+7LAIgXYzAbJW3/pVulDRTUo+kFbr4ykFUAcjK8IeqicCTa3s1k+HPrFyfAlRat2OHpEuHv0nl6wLHJM1T+b6AD3TxwuDxINBIf39N3zdrwy9N/nSA4c8+mx1A6OsT7AQCSWtUviYw+obh1jNnFJx//4FqZHH4K/WfOqSt2/aO+zWGPx9sdgChlrnl/wlo+Fd3msq7gFZJe1S+MDjaqdtuq/r7ZH34Jann6vl69JGvjvk8w58fdgHYfeSIbrzzzgv/3XL+n80qh+DvknZI+kvFc2bcfXdV3yMPwx8aHQGGP1/sTgFCW1es0N9eeeXC3YBtKr8MePX5f58nqaDyLcONkoLFi9U6iXceztPwV+o/dUgdM+cy/DljGwBJ+uP27frl6tWXDP7jUvAbqdSj8qsCo7dIl3tlIK/Dj/yyDoAk/W9oSOtmzVKbdOFjkcoXA+eO8/iW/n5N6+4e83mGH1lkdw1gtBnNzfpJqaQvb9+u/+r87w1fzrSxf2QMP7LKfgcw2p+feEKDzzyj61U+BbjSrwsz/MgyAjCBTz74QPvvvVfXvP22mkolTVu2TC1vvHHJYxh+ZB0BqNHaXzynxqOzIz0mw496sb8GUKst335c59o/iex4DD/qiQBEYEtfNBFg+FFvBCAitUaA4UcSCECEphoBhh9JIQARK0fg9KQfz/AjSQQgBlv61k4qAgw/kkYAYrKlb63OdUwcAYYfaUAAYrRl1fgRYPiRFgQgZqMjwPAjTbgTsE427vy5nlrF8CNdCABgjFMAwBgBAIwRAMAYAQCMEQDAGAEAjBEAwBgBAIwRAMAYAQCMEQDAGAEAjBEAwBgBAIwRAMAYAQCMEQDAGAEAjBEAwBgBAIwRAMAYAQCMEQDAGAEAjBEAwBgBAIwRAMAYAQCMEQDAGAEAjBEAwBgBAIwRAMAYAQCMEQDAGAEAjBEAwBgBAIwRAMAYAQCMEQDAGAEAjBEAwBgBAIwRAMAYAQCMEQDAGAEAjBEAwBgBAIwRAMAYAQCMEQDAGAEAjBEAwBgBAIwRAMAYAQCMEQDAGAEAjBEAwBgBAIwRAMAYAQCMEQDAGAEAjBEAwBgBAIwRAMAYAQCMEQDAGAEAjBEAwBgBAIwRAMAYAQCMEQDAGAEAjP0f31EKu/+lRu4AAAAASUVORK5CYII=",
        "encoding": "base64",
        "path": [
         "value"
        ]
       }
      ],
      "model_module": "@jupyter-widgets/controls",
      "model_module_version": "2.0.0",
      "model_name": "ImageModel",
      "state": {
       "layout": "IPY_MODEL_9a86e8ccfe314b129cdcb8faa9aa481b"
      }
     },
     "696e3c561f2d460da4800c8e95c162ee": {
      "model_module": "jupyter-webrtc",
      "model_module_version": "~0.6.0",
      "model_name": "ImageStreamModel",
      "state": {
       "_view_count": 1,
       "image": "IPY_MODEL_4da4abaa8d8a47b2a635b4eb1dc99005",
       "layout": "IPY_MODEL_361af29c39ae435db7159abf4b7a9419"
      }
     },
     "729a6b40b18f48a69eccb292efcb9069": {
      "model_module": "@jupyter-widgets/base",
      "model_module_version": "2.0.0",
      "model_name": "LayoutModel",
      "state": {}
     },
     "7dcc03f9265544c6aa6f4d32b81c2249": {
      "model_module": "@jupyter-widgets/controls",
      "model_module_version": "2.0.0",
      "model_name": "ButtonModel",
      "state": {
       "description": "Execute",
       "layout": "IPY_MODEL_f282c0fe93b84dcc82498ef0a75320c7",
       "style": "IPY_MODEL_38d1d2b1d86849858d1d8582c94ce648",
       "tooltip": null
      }
     },
     "8564e77486ef42ee8c736f74d5d4b457": {
      "buffers": [
       {
        "data": "iVBORw0KGgoAAAANSUhEUgAAAQAAAAEACAYAAABccqhmAAAQGklEQVR4nO3df3BV5Z3H8c9NIgmJkEis1NBqwR+juBIKKGZFjIpop2790TYWfzJUUEpp0VUJjnWd3VWCBem2W4txqY677RqUrjNOcVqtiFVAqCKtOLX+AIoDiPIjEAgkIWf/gBvIvTfkJve558f9vl8zzOSce+7zPAG+n/uc5557bszzPE8ATMoLegAAgkMAAIYRAIBhBABgGAEAGEYAAIYRAIBhBABgGAEAGEYAAIYRAIBhBABgGAEAGEYAAIYRAIBhBABgGAEAGEYAAIYRAIBhBABgGAEAGEYAAIYRAIBhBABgGAEAGEYAAIYRAIBhBABgGAEAGEYAAIYRAIBhBABgGAEAGEYAAIYRAIBhBABgGAEAGEYAAIYRAIBhBABgGAEAGEYAAIYRAIBhBABgGAEAGEYAAIYRAIBhBABgGAEAGEYAAIYRAIBhBABgGAEAGEYAAIYRAIBhBABgGAEAGEYAAIYRAIBhBABgGAEAGEYAAIYRAIBhBABgGAEAGEYAAIYRAIBhBABgGAEAGEYAAIYRAIBhBABgGAEAGEYAAIYRAIBhBABgGAEAGEYAAIYRAIBhBABgGAEAGEYAAIYRAIBhBABgGAEAGEYAAIYRAIBhBABgGAEAGEYAAIYRAIBhBABgGAEAGEYAAIYRAIBhBABgGAEAGEYAAIYRAIBhBABgGAEAGEYAAIYRAIBhBABgGAEAGEYARESlKoMeAnIQARABlarUn/VnxRQLeijIMQRAyMWLP44QgEsEQIglFn8cIQBXCICQ6qr44wgBuEAAhFB3xR9HCCBTBEDIpFv8cYQAMkEAhEhPiz+OEEBvEQAh0dvijyME0BsEQAhkWvxxhAB6igAImKvijyME0BMxz/O8oAdhVaMaVaayrLTtiX9WdI8ZQIBKVapd2pWVtpkJIB0EQMAIAQSJAAgBQgBBIQBCghBAEAiAECEE4DcCIGQIAfiJAAghQgB+IQBCihCAHwiAECMEkG0EQMgRAsgmAiACCAFkCwEQEYQAsoEAiBBCAK4RABFDCMAlAiCCCAG4QgBEVKlK9agezUrbhIAd3BAkon6pX+q7+q7TNkevHK/9Rc1aO/yPkripiAUFQQ8APee6+I/fU6ZpP5/TsR0PgJhihECOYwYQMa6Lf2bd40n72gpaNO/u6R3bhEDuYgYQIS6Lf9Tqy3TZH2pSPlbQ1kfFe/tpX8keScwEchkzgIhwVfwlTaX6/n8+ktaxc2pv77RNCOQeZgAR4Kr4752zQDEv/RX+EW9V6+2Rr3ZsMxPIPbwNGHIuiv+rb1drZt3jPSp+Sbr8pQlJ+3iLMLdwChBimRZ/8d5+mv6zuRmOwtOc2jtS7OW/TS5gBhBSLl75My9+SYqppKk0xV5mArmAAAghV+f8c+/+noPRqMtFQ0Ig+giAkHH5Vt/BgoP66LR3nbQ1avVlKfcTAtFGAIRINi7vfe7bP3PSTlfXDEiEQJQRACGRjeKXpIVaqCk3/JOTtlJdNRhHCEQT1wGEQDaLf5ImSae4a7Pf7jLt6b8r5WNcJxA9zAAClvXiP+yhe9z08b3H5hzzcWYC0UIABMiv4pek/Px8DT3zK07aH73yimM+XqlKJ/0g+wiAgPhZ/HG3XDfeSR/Vr17X5WPDNExrtdZJP8g+AiAAQRR/3NSbvuGkr1QLghR/9BAAPguy+CXp1C990Vmf/RsHdPxM8UcTAeCjoIs/7qF7b3PS79RfzJZE8UcZAeCTsBS/JOXn5WnY2UOc9H/dG5Mo/ggjAHwQpuKPu+HqcU7GcMYfR4sPlEYXAZBlYSz+uGm3XONkLLPmPOGkHfiPAMiiMBe/JH254iQHozlk+67dztqCfwiALAl78cc97GhB8McLnnHSDvxFAGRBVIpfkvLy8jTiH85w0tbvX1vtpB34hwBwLErFH1dz1SVO2nll+RoWBCOGAHAoisUfN33itU7a8WtB8EBLq3btbvKlr1zGx4EdiXLxS9KgL37BWVuf72jUiQOS7yPoyn88uVhbPt0uSaqrnZK1fixgBuBA1Is/7uF7JztpZ259g5N2Er33wUbV1tV3FL8kLV2xJit9WUEAZChXil+S8vJiOm/4WU7aWrL0TSftSFJLa6tq6+r19OLfJT32u2WrWXfIAAGQgVwq/rhvXjnWSTuvvbnWSWH+/Onn9cC8J495DBci9R4BkIFJmqQadX2zzN4Isvjjfjjpm07ayaQw3/94k2rr6rVp87a0jt/RuKfXfVlGAGSoQQ3OQiAMxS9JJ59U7qytbdt39uj41rY21dbV68lFL/boeY/84n97dDwOicxXg82YsUuLFu1L2v+XvwxUeXl+ACPq7Hpdr0Va1Ovnh6X44zzPcza1Tnel/vFfv6D1f9/S637GjRmpcWNG9vr5FoV+BvCrX+1VRcXmlMUvSeee+6kqKjb7PKpkmcwEwlb8khSLxVQ18hwnbb3w8vJjPv7Bhk9UW1efUfFL0suvv8WCYA+FOgBqa3fpnnsa0zo2qiEQxuKPu/ryC52088af3k1ZmG1tB1VbV6+Fzyxx0o/EgmBPhTYAPvywTU8/nfpVvytnnpnZK4gLPQmBMBd/3J23fctJO4mFubBhie6fu9BJ24m270zvRQMhDoCxY9Nb/T1aU5OnAweCnwKmEwJRKH5JGnjigO4PStPWz3bo479vVm1dvT5Y/4mzdhP9+PHsXIiUi0K5CLhvX7tOP31rr55bVdVHixef6HhEvdPVwmBUij/O5YKgXy6pGq4rLj4/6GGEXihnAM8+29zr565Y0eJwJJlJNROIWvFLhxYEx5x/btDD6JGlK95hQTANoQyAZcsOBD0EZ44OgSgWf9xVl1YFPYS0lZ/QX3W1UxSL8TVl3QnlpwEHDQr+fX2XGtSgK3RFZIs/7p8n12jeE72/1sEPD945UUWFfYIeRmSEMgBuuKFYCxfuDXoYTkW9+CXpC+VlQQ+hS9/5xqUaPvT0oIcROaFcBJR6/77+4sXlqqoqdDwaxIVtQbC0X4lmTbsx6GFEVijXACRp/PiitI5raVmlLVu+pJaWVZJE8WdZLBZTddXwoIchSXpgxq0Uf4ZCOwOQup8FbNkyKGlfiH+dnFJbVx9Y39/+erVGnntmYP3nklCuAcRt3lwRikt80dknWz8LpN/i4kI98INbA+k7V4U6AKRDIfDgg42qr09vUdDzPN7+yZL2dk/3PRLM+f+PfnCLSorTOy1E+kJ9CpCosbFdq1a1qKnJU2XlcTrttOOSjonQrxMpz724TH9a+77v/V73tYt0fuXZvvdrRaQCIJVZs2aprq5OtbW1mj17dtDDyTmbP/1cP33yN77326dPgf71rui/dRp2kQ+AY9nb1KTikhJOCXohyLf77p9+s44v6RtI39aEfg2gNzauX6/KIUM6tn+yYIEm3n57gCOKlud//7pWvv2e7/1ePf5CVY1wcxMSpCcnZwBlKV7xd+Xer+nc1s926CcLn/O931heTLMdfScBeiYnZwCptLW2quC45EVDBDvdv+/7N6n/8cWB9A1DAUDxp/bCH5brjdXv+t7vVeOqNGZUtD5inItyMgB2trfrhLwjVzl/snt3gKMJp23bd+rRJ54NpG++zy88cnINAF0Lcro/a9qNKu1XEkjfSC0nZwDdaW9v15D8I/ccWN/ebuKtwhdffVPLVq71vd+vXTJaF4+u9L1fdM9kABxd/JI0OC9PGwxMhN54y/9zfab74WbuFCDx1T/OQgBI/n2Kb+bUCTqhtJ8vfaH3Qns/gGyxMNU/lmuvvCir7Y8fO0p1tVMo/ogwGQA1kzpfY/74b/y/1j0oo4dn74M1s2dO1qX/OCJr7cM9c6cAcW2trfrbunU6a9gw5eXZysG9+5r1bz/9b2ft3XvHdzSgrL+z9uAfk4uA0qELg4YOH97tcQf275fX3q6i4ty5Wq2kuK/69i1Uc3Nmt1+/7MIRuvyiUY5GhSCYnQGkY3jCesE7OfZXlcmC4OyZk82vp+QCW3PfHlj48MNJ++67MbduQPmtr1/c4+fcffv1fOlGDmEG0IXEV/84q7OA6gsqdWX16CyPBn5jBtCFxe8mXzTzX0uXBjCS7Hrgh7d0e8zsmZMp/hxFAHThtHPO0c133dWxfUVNjUZVVwc3oCwp7lukfl18HPeuyTVM93McpwCObNu0SX0KC1V20klBD6VXjj4VGHPeubrqsuh8GSh6jwDIkOd5uiThOoJXI/hXumbdB2p4YSmr+8YQABm6sqRE+/ft67Tvzsce09VTpwY0IiB9BECGqlO8WlYMGaJff/RRAKMBeoZFwAzNe+mlpH0LVq0KYCRAzxEAGRo5bpxuvv/+ju05S5aof3l50nHvr1ypa2Kxjj9AGHAK4APP83Rtig8cPc9fPQLGDMAH69esCXoIQEoEgA++PHRoWsc1NzZqYiymibGY9u7YkeVRZZd38KBannlG7Zv5evcwIwB8cFxRUVIILG5t7bTd0tysqWVlHdvTysu1f88eP4bnXMsrr6ixoED7JkzQ7kGDtIs1j9BiDcBHnuep7cABHVeU/D33E7sokqdS/PN4nhfKi3W89nZtzM9XWYrHSvfvV6yw0O8hoRvMAHwUi8VSFr8kVZx1VtK+/ILk+7XMiMV0Z16eZsRi+vczznA+xt5o2bRJ78Ri2pjiZqtxXkRnM7mOAAiJh9atS9r3xP79nbbnX3BBp+3PP/xQOzZs6LRv42uvacn06WpLeG42eJ4nz/P03imndHts3oknZn086DlOAULE8zw9NWWK2lpadNtTTyVN82ekmPZ/taZGtzY0SJIeTHh88ptvquK88/Tk4MHavXGjJm3YoP6nnpqy3/aWFuV3MUWP/xeJj6dx+XKtufBCSVKxpD6Hj+snKT4H6K8jry6lbW2KHWN2gOAQABEyd8QIfZLwluKPPv5Y5YMHq3nnTs0ZMCDpOWUJ2zWvv66Kw8UrSSumTtX7CxZ0bN+0b58K+vbt2H4+IVSu8Ty9etS+Qkl9j3q8VFL80ZNXr1bhKO4ZGGacAkTI3W+/3Wm738CBKh88WJLUkuIcO9Wn/BeNGdPxs9fe3qn4Jel/jrr56Yfz5iU9f/38+R0/XyLFEm8r2ijplOZmfcXzKP4IYAYQQV29C5B4CjB03DhtfvnlpONmHP4nb966VQ0nn5z0+MTDjye++seVpdg3tqlJrdu2qfBwICEamAFEUFdvAf7LwYMdP185f75qUnxQ6aa1R74ctGjgwGP2c96iRUn7LvjtbzUq4TRkbEuL8kpKKP4IYgaQ4zzP04sTJuhvDQ26Y/t2FSWsEzT+9a/6v7OPfFvQrQnflJxqDeDotsN4PQLSRwAAhnEKABhGAACGEQCAYQQAYBgBABhGAACGEQCAYQQAYBgBABhGAACGEQCAYQQAYBgBABhGAACGEQCAYQQAYBgBABhGAACGEQCAYQQAYBgBABhGAACGEQCAYQQAYBgBABhGAACGEQCAYQQAYBgBABhGAACGEQCAYQQAYNj/A0yRkev3QTgcAAAAAElFTkSuQmCC",
        "encoding": "base64",
        "path": [
         "value"
        ]
       }
      ],
      "model_module": "@jupyter-widgets/controls",
      "model_module_version": "2.0.0",
      "model_name": "ImageModel",
      "state": {
       "layout": "IPY_MODEL_a244e873fb934a1e99e5226558213ae3"
      }
     },
     "996c0f15e34a42d1b8bdeb81e920e8b8": {
      "model_module": "@jupyter-widgets/controls",
      "model_module_version": "2.0.0",
      "model_name": "HTMLStyleModel",
      "state": {
       "description_width": "",
       "font_size": null,
       "text_color": null
      }
     },
     "9a86e8ccfe314b129cdcb8faa9aa481b": {
      "model_module": "@jupyter-widgets/base",
      "model_module_version": "2.0.0",
      "model_name": "LayoutModel",
      "state": {}
     },
     "a115ffb0c8d647f2b6d01b006d13cb46": {
      "model_module": "@jupyter-widgets/base",
      "model_module_version": "2.0.0",
      "model_name": "LayoutModel",
      "state": {}
     },
     "a18ab1e522e44157a9cdf09130f49533": {
      "model_module": "@jupyter-widgets/base",
      "model_module_version": "2.0.0",
      "model_name": "LayoutModel",
      "state": {}
     },
     "a244e873fb934a1e99e5226558213ae3": {
      "model_module": "@jupyter-widgets/base",
      "model_module_version": "2.0.0",
      "model_name": "LayoutModel",
      "state": {}
     },
     "a63ce73ce8654f628d3a8af0809d06e3": {
      "buffers": [
       {
        "data": "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",
        "encoding": "base64",
        "path": [
         "value"
        ]
       }
      ],
      "model_module": "@jupyter-widgets/controls",
      "model_module_version": "2.0.0",
      "model_name": "VideoModel",
      "state": {
       "layout": "IPY_MODEL_f2d81340f2744cd4a5979a8768d62419"
      }
     },
     "bf4c7bd48c284c34bec15ee7558768ab": {
      "model_module": "@jupyter-widgets/controls",
      "model_module_version": "2.0.0",
      "model_name": "HTMLStyleModel",
      "state": {
       "description_width": "",
       "font_size": null,
       "text_color": null
      }
     },
     "c586de530c6b4b8ba52480b3ba7508eb": {
      "model_module": "@jupyter-widgets/base",
      "model_module_version": "2.0.0",
      "model_name": "LayoutModel",
      "state": {}
     },
     "c5ec689f060d4f27821c19893b502759": {
      "model_module": "@jupyter-widgets/controls",
      "model_module_version": "2.0.0",
      "model_name": "HTMLModel",
      "state": {
       "layout": "IPY_MODEL_f45ef24fbbd14ed5b133677ddd96cb1b",
       "style": "IPY_MODEL_996c0f15e34a42d1b8bdeb81e920e8b8",
       "value": "<style>\n.cell-output-ipywidget-background {\n    background-color: transparent !important;\n}\n.jp-OutputArea-output {\n    background-color: transparent;\n}\npre {\n    color: var(--vscode-editor-foreground);\n    margin: 0;\n}\n.jupyter-widget.widget-image > video::-webkit-media-controls {\n  display: none;\n}\n</style>"
      }
     },
     "dc00830fdbed463599d2862e884449da": {
      "model_module": "@jupyter-widgets/controls",
      "model_module_version": "2.0.0",
      "model_name": "HBoxModel",
      "state": {
       "children": [
        "IPY_MODEL_8564e77486ef42ee8c736f74d5d4b457",
        "IPY_MODEL_36c348e57e154a5c9cfec073f7d62b96"
       ],
       "layout": "IPY_MODEL_a18ab1e522e44157a9cdf09130f49533"
      }
     },
     "f282c0fe93b84dcc82498ef0a75320c7": {
      "model_module": "@jupyter-widgets/base",
      "model_module_version": "2.0.0",
      "model_name": "LayoutModel",
      "state": {}
     },
     "f2d81340f2744cd4a5979a8768d62419": {
      "model_module": "@jupyter-widgets/base",
      "model_module_version": "2.0.0",
      "model_name": "LayoutModel",
      "state": {}
     },
     "f45ef24fbbd14ed5b133677ddd96cb1b": {
      "model_module": "@jupyter-widgets/base",
      "model_module_version": "2.0.0",
      "model_name": "LayoutModel",
      "state": {}
     },
     "fb54acc8b3ab4a8aacc6ec2435ff3d28": {
      "model_module": "ipyevents",
      "model_module_version": "2.0.2",
      "model_name": "EventModel",
      "state": {
       "_supported_key_events": [
        "keydown",
        "keyup"
       ],
       "_supported_mouse_events": [
        "click",
        "auxclick",
        "dblclick",
        "mouseenter",
        "mouseleave",
        "mousedown",
        "mouseup",
        "mousemove",
        "wheel",
        "contextmenu",
        "dragstart",
        "drag",
        "dragend",
        "dragenter",
        "dragover",
        "dragleave",
        "drop"
       ],
       "_supported_touch_events": [
        "touchstart",
        "touchend",
        "touchmove",
        "touchcancel"
       ],
       "_view_module": "@jupyter-widgets/controls",
       "source": "IPY_MODEL_696e3c561f2d460da4800c8e95c162ee",
       "throttle_or_debounce": "",
       "watched_events": [
        "click",
        "keydown",
        "keyup",
        "mousemove"
       ],
       "xy_coordinate_system": ""
      }
     },
     "fd748afcf6f04e498f56f811908b8ecd": {
      "model_module": "@jupyter-widgets/controls",
      "model_module_version": "2.0.0",
      "model_name": "LabelStyleModel",
      "state": {
       "description_width": "",
       "font_family": null,
       "font_size": null,
       "font_style": null,
       "font_variant": null,
       "font_weight": null,
       "text_color": null,
       "text_decoration": null
      }
     }
    },
    "version_major": 2,
    "version_minor": 0
   }
  }
 },
 "nbformat": 4,
 "nbformat_minor": 5
}
