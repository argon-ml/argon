{
 "cells": [
  {
   "cell_type": "code",
   "execution_count": 1,
   "id": "6a9bc698-7b3d-4007-83f5-259992cb7ce9",
   "metadata": {},
   "outputs": [],
   "source": [
    "from stanza.runtime import setup\n",
    "setup()\n",
    "\n",
    "from stanza.data.sequence import SequenceData, Chunk\n",
    "from stanza.env.mujoco.pusht import (\n",
    "    PushTPosObs, PushTEnv, \n",
    "    PositionalControlTransform, PositionalObsTransform,\n",
    "    KeypointObsTransform, RelKeypointObsTransform\n",
    ")\n",
    "from stanza.env import ImageRender\n",
    "from stanza.env.transforms import ChainedTransform\n",
    "from stanza import canvas\n",
    "import stanza.env\n",
    "\n",
    "import jax\n",
    "import jax.numpy as jnp\n",
    "from jax.sharding import Mesh, NamedSharding, PartitionSpec\n",
    "\n",
    "from functools import partial"
   ]
  },
  {
   "cell_type": "code",
   "execution_count": 2,
   "id": "787af2ad",
   "metadata": {},
   "outputs": [],
   "source": [
    "if len(jax.devices()) > 1:\n",
    "    render_mesh = Mesh(jax.devices()[:8], ('x',))\n",
    "    render_sharding = NamedSharding(render_mesh, PartitionSpec('x'))\n",
    "    data_mesh = Mesh(jax.devices()[:8], ('x',))\n",
    "    data_sharding = NamedSharding(data_mesh, PartitionSpec('x'))\n",
    "\n",
    "env = PushTEnv()\n",
    "env = stanza.env.create(\"mujoco/pusht/rel_keypoint\")\n",
    "\n",
    "def draw(action_chunk, weight):\n",
    "    T = action_chunk.shape[0]\n",
    "    colors = jnp.array((jnp.arange(T)/T, jnp.zeros(T), jnp.zeros(T), weight*jnp.ones(T))).T\n",
    "    circles = canvas.fill(\n",
    "        canvas.circle(action_chunk, 0.02*jnp.ones(T)),\n",
    "        color=colors\n",
    "    )\n",
    "    circles = canvas.stack_batch(circles)\n",
    "    circles = canvas.transform(circles,\n",
    "        translation=(1,-1),\n",
    "        scale=(128, -128)\n",
    "    )\n",
    "    return circles\n",
    "\n",
    "@partial(jax.jit, out_shardings=render_sharding)\n",
    "def render(state, action_chunks, weights):\n",
    "    image = env.render(state, ImageRender(256, 256))\n",
    "    if action_chunks is not None and weights is not None:\n",
    "        circles = canvas.stack_batch(jax.vmap(draw)(action_chunks, weights))\n",
    "        return canvas.paint(image, circles)\n",
    "    return image"
   ]
  },
  {
   "cell_type": "code",
   "execution_count": 4,
   "id": "b2cf8373-8cc9-4f62-87c4-98ed56b207f2",
   "metadata": {},
   "outputs": [
    {
     "ename": "AttributeError",
     "evalue": "'SystemState' object has no attribute 'data'",
     "output_type": "error",
     "traceback": [
      "\u001b[0;31m---------------------------------------------------------------------------\u001b[0m",
      "\u001b[0;31mAttributeError\u001b[0m                            Traceback (most recent call last)",
      "Cell \u001b[0;32mIn[3], line 16\u001b[0m\n\u001b[1;32m     14\u001b[0m     \u001b[38;5;66;03m# action = jax.tree_util.tree_map(lambda x: x[-action_length:], action)\u001b[39;00m\n\u001b[1;32m     15\u001b[0m     \u001b[38;5;28;01mreturn\u001b[39;00m obs, action\n\u001b[0;32m---> 16\u001b[0m data \u001b[38;5;241m=\u001b[39m \u001b[43mdataset\u001b[49m\u001b[38;5;241;43m.\u001b[39;49m\u001b[43mchunk\u001b[49m\u001b[43m(\u001b[49m\u001b[43mobs_length\u001b[49m\u001b[43m \u001b[49m\u001b[38;5;241;43m+\u001b[39;49m\u001b[43m \u001b[49m\u001b[43maction_length\u001b[49m\u001b[43m)\u001b[49m\u001b[38;5;241;43m.\u001b[39;49m\u001b[43mmap\u001b[49m\u001b[43m(\u001b[49m\u001b[43mmap_chunks\u001b[49m\u001b[43m)\u001b[49m\u001b[38;5;241;43m.\u001b[39;49m\u001b[43mas_pytree\u001b[49m\u001b[43m(\u001b[49m\u001b[43m)\u001b[49m\n\u001b[1;32m     17\u001b[0m data_len \u001b[38;5;241m=\u001b[39m (data[\u001b[38;5;241m1\u001b[39m]\u001b[38;5;241m.\u001b[39mshape[\u001b[38;5;241m0\u001b[39m]\u001b[38;5;241m/\u001b[39m\u001b[38;5;241m/\u001b[39m\u001b[38;5;241m8\u001b[39m)\u001b[38;5;241m*\u001b[39m\u001b[38;5;241m8\u001b[39m    \u001b[38;5;66;03m# truncate length of data to multiple of 8 for sharding\u001b[39;00m\n\u001b[1;32m     18\u001b[0m data \u001b[38;5;241m=\u001b[39m jax\u001b[38;5;241m.\u001b[39mtree_util\u001b[38;5;241m.\u001b[39mtree_map(\u001b[38;5;28;01mlambda\u001b[39;00m x: x[:data_len], data)\n",
      "File \u001b[0;32m~/stanza/stanza/packages/stanza/src/stanza/data/core.py:141\u001b[0m, in \u001b[0;36mMapped.as_pytree\u001b[0;34m(self)\u001b[0m\n\u001b[1;32m    140\u001b[0m \u001b[38;5;28;01mdef\u001b[39;00m \u001b[38;5;21mas_pytree\u001b[39m(\u001b[38;5;28mself\u001b[39m) \u001b[38;5;241m-\u001b[39m\u001b[38;5;241m>\u001b[39m \u001b[38;5;124m\"\u001b[39m\u001b[38;5;124mT\u001b[39m\u001b[38;5;124m\"\u001b[39m:\n\u001b[0;32m--> 141\u001b[0m     \u001b[38;5;28;01mreturn\u001b[39;00m \u001b[43mjax\u001b[49m\u001b[38;5;241;43m.\u001b[39;49m\u001b[43mvmap\u001b[49m\u001b[43m(\u001b[49m\u001b[38;5;28;43mself\u001b[39;49m\u001b[38;5;241;43m.\u001b[39;49m\u001b[43mfn\u001b[49m\u001b[43m)\u001b[49m\u001b[43m(\u001b[49m\u001b[38;5;28;43mself\u001b[39;49m\u001b[38;5;241;43m.\u001b[39;49m\u001b[43mdata\u001b[49m\u001b[38;5;241;43m.\u001b[39;49m\u001b[43mas_pytree\u001b[49m\u001b[43m(\u001b[49m\u001b[43m)\u001b[49m\u001b[43m)\u001b[49m\n",
      "    \u001b[0;31m[... skipping hidden 3 frame]\u001b[0m\n",
      "Cell \u001b[0;32mIn[3], line 11\u001b[0m, in \u001b[0;36mmap_chunks\u001b[0;34m(chunk)\u001b[0m\n\u001b[1;32m      9\u001b[0m obs \u001b[38;5;241m=\u001b[39m jax\u001b[38;5;241m.\u001b[39mtree_util\u001b[38;5;241m.\u001b[39mtree_map(\u001b[38;5;28;01mlambda\u001b[39;00m x: x[:obs_length], obs)\n\u001b[1;32m     10\u001b[0m \u001b[38;5;66;03m# use the future agent positions as the actions\u001b[39;00m\n\u001b[0;32m---> 11\u001b[0m actions \u001b[38;5;241m=\u001b[39m \u001b[43mjax\u001b[49m\u001b[38;5;241;43m.\u001b[39;49m\u001b[43mvmap\u001b[49m\u001b[43m(\u001b[49m\u001b[38;5;28;43;01mlambda\u001b[39;49;00m\u001b[43m \u001b[49m\u001b[43ms\u001b[49m\u001b[43m:\u001b[49m\u001b[43m \u001b[49m\u001b[43mPushTEnv\u001b[49m\u001b[38;5;241;43m.\u001b[39;49m\u001b[43mobserve\u001b[49m\u001b[43m(\u001b[49m\u001b[43menv\u001b[49m\u001b[43m,\u001b[49m\u001b[43m \u001b[49m\u001b[43ms\u001b[49m\u001b[43m)\u001b[49m\u001b[43m)\u001b[49m\u001b[43m(\u001b[49m\u001b[43mstate\u001b[49m\u001b[43m)\u001b[49m\u001b[38;5;241m.\u001b[39magent_pos\n\u001b[1;32m     12\u001b[0m \u001b[38;5;66;03m# compute relative future agent positions\u001b[39;00m\n\u001b[1;32m     13\u001b[0m action \u001b[38;5;241m=\u001b[39m jax\u001b[38;5;241m.\u001b[39mtree_util\u001b[38;5;241m.\u001b[39mtree_map(\u001b[38;5;28;01mlambda\u001b[39;00m x, y: x[\u001b[38;5;241m-\u001b[39maction_length:] \u001b[38;5;241m-\u001b[39m y[obs_length\u001b[38;5;241m-\u001b[39m\u001b[38;5;241m1\u001b[39m], actions, actions)\n",
      "    \u001b[0;31m[... skipping hidden 3 frame]\u001b[0m\n",
      "Cell \u001b[0;32mIn[3], line 11\u001b[0m, in \u001b[0;36mmap_chunks.<locals>.<lambda>\u001b[0;34m(s)\u001b[0m\n\u001b[1;32m      9\u001b[0m obs \u001b[38;5;241m=\u001b[39m jax\u001b[38;5;241m.\u001b[39mtree_util\u001b[38;5;241m.\u001b[39mtree_map(\u001b[38;5;28;01mlambda\u001b[39;00m x: x[:obs_length], obs)\n\u001b[1;32m     10\u001b[0m \u001b[38;5;66;03m# use the future agent positions as the actions\u001b[39;00m\n\u001b[0;32m---> 11\u001b[0m actions \u001b[38;5;241m=\u001b[39m jax\u001b[38;5;241m.\u001b[39mvmap(\u001b[38;5;28;01mlambda\u001b[39;00m s: \u001b[43mPushTEnv\u001b[49m\u001b[38;5;241;43m.\u001b[39;49m\u001b[43mobserve\u001b[49m\u001b[43m(\u001b[49m\u001b[43menv\u001b[49m\u001b[43m,\u001b[49m\u001b[43m \u001b[49m\u001b[43ms\u001b[49m\u001b[43m)\u001b[49m)(state)\u001b[38;5;241m.\u001b[39magent_pos\n\u001b[1;32m     12\u001b[0m \u001b[38;5;66;03m# compute relative future agent positions\u001b[39;00m\n\u001b[1;32m     13\u001b[0m action \u001b[38;5;241m=\u001b[39m jax\u001b[38;5;241m.\u001b[39mtree_util\u001b[38;5;241m.\u001b[39mtree_map(\u001b[38;5;28;01mlambda\u001b[39;00m x, y: x[\u001b[38;5;241m-\u001b[39maction_length:] \u001b[38;5;241m-\u001b[39m y[obs_length\u001b[38;5;241m-\u001b[39m\u001b[38;5;241m1\u001b[39m], actions, actions)\n",
      "    \u001b[0;31m[... skipping hidden 11 frame]\u001b[0m\n",
      "File \u001b[0;32m~/stanza/stanza/packages/stanza/src/stanza/env/mujoco/pusht.py:91\u001b[0m, in \u001b[0;36mPushTEnv.observe\u001b[0;34m(self, state, config)\u001b[0m\n\u001b[1;32m     89\u001b[0m \u001b[38;5;129m@jax\u001b[39m\u001b[38;5;241m.\u001b[39mjit\n\u001b[1;32m     90\u001b[0m \u001b[38;5;28;01mdef\u001b[39;00m \u001b[38;5;21mobserve\u001b[39m(\u001b[38;5;28mself\u001b[39m, state, config : ObserveConfig \u001b[38;5;241m=\u001b[39m \u001b[38;5;28;01mNone\u001b[39;00m):\n\u001b[0;32m---> 91\u001b[0m     data \u001b[38;5;241m=\u001b[39m \u001b[38;5;28;43mself\u001b[39;49m\u001b[38;5;241;43m.\u001b[39;49m\u001b[43msimulator\u001b[49m\u001b[38;5;241;43m.\u001b[39;49m\u001b[43mdata\u001b[49m\u001b[43m(\u001b[49m\u001b[43mstate\u001b[49m\u001b[43m)\u001b[49m\n\u001b[1;32m     92\u001b[0m     \u001b[38;5;28;01mreturn\u001b[39;00m PushTObs(\n\u001b[1;32m     93\u001b[0m         \u001b[38;5;66;03m# Extract agent pos, vel\u001b[39;00m\n\u001b[1;32m     94\u001b[0m         agent_pos\u001b[38;5;241m=\u001b[39mdata\u001b[38;5;241m.\u001b[39mxpos[\u001b[38;5;241m1\u001b[39m,:\u001b[38;5;241m2\u001b[39m],\n\u001b[0;32m   (...)\u001b[0m\n\u001b[1;32m    100\u001b[0m         block_rot_vel\u001b[38;5;241m=\u001b[39mdata\u001b[38;5;241m.\u001b[39mcvel[\u001b[38;5;241m2\u001b[39m,\u001b[38;5;241m2\u001b[39m],\n\u001b[1;32m    101\u001b[0m     )\n",
      "File \u001b[0;32m~/stanza/stanza/packages/stanza/src/stanza/env/mujoco/backends/mujoco.py:188\u001b[0m, in \u001b[0;36mMujocoSimulator.data\u001b[0;34m(self, state)\u001b[0m\n\u001b[1;32m    187\u001b[0m \u001b[38;5;28;01mdef\u001b[39;00m \u001b[38;5;21mdata\u001b[39m(\u001b[38;5;28mself\u001b[39m, state: MujocoState) \u001b[38;5;241m-\u001b[39m\u001b[38;5;241m>\u001b[39m SystemData:\n\u001b[0;32m--> 188\u001b[0m     \u001b[38;5;28;01mreturn\u001b[39;00m \u001b[43mstate\u001b[49m\u001b[38;5;241;43m.\u001b[39;49m\u001b[43mdata\u001b[49m\n",
      "\u001b[0;31mAttributeError\u001b[0m: 'SystemState' object has no attribute 'data'"
     ]
    }
   ],
   "source": [
    "from stanza.datasets.env.pusht import load_chi_pusht_data\n",
    "print(\"Loading data...\")\n",
    "dataset = load_chi_pusht_data()\n",
    "\n",
    "obs_length = 1\n",
    "action_length = 16\n",
    "def map_elements(el):\n",
    "    return env.full_state(el.reduced_state)\n",
    "def map_chunks(chunk : Chunk):\n",
    "    state, action = (chunk.elements.reduced_state, chunk.elements.action)\n",
    "    obs = jax.vmap(lambda s: PushTEnv.observe(env, env.full_state(s)))(state)\n",
    "    obs = jax.tree_util.tree_map(lambda x: x[:obs_length], obs)\n",
    "    # use the future agent positions as the actions\n",
    "    actions = jax.vmap(lambda s: PushTEnv.observe(env, s))(state).agent_pos\n",
    "    # compute relative future agent positions\n",
    "    #action = jax.tree_util.tree_map(lambda x, y: x[-action_length:] - y[obs_length-1], actions, actions)\n",
    "    action = jax.tree_util.tree_map(lambda x: x[-action_length:], actions)\n",
    "    return obs, action\n",
    "data = dataset.map_elements(map_elements).cache().chunk(obs_length + action_length).map(map_chunks).as_pytree()\n",
    "data_len = (data[1].shape[0]//8)*8    # truncate length of data to multiple of 8 for sharding\n",
    "data = jax.tree_util.tree_map(lambda x: x[:data_len], data)\n",
    "data = jax.device_put(data, data_sharding)\n",
    "#jax.debug.visualize_array_sharding(data[1][:,:,0])\n",
    "#jax.debug.visualize_array_sharding(data[1][:,:,1])\n",
    "#jax.debug.visualize_array_sharding(data[1][210])\n",
    "\n",
    "sample_chunk = jax.tree_util.tree_map(lambda x: x[0], data)\n",
    "\n",
    "print(\"Loaded data\", jax.tree_util.tree_map(lambda x: x.shape, data))"
   ]
  },
  {
   "cell_type": "code",
   "execution_count": 5,
   "id": "b342d5d3-311d-4ea6-a4b0-e2fbadf3bdff",
   "metadata": {},
   "outputs": [],
   "source": [
    "from stanza.diffusion import DDPMSchedule, nonparametric\n",
    "from stanza.policy import PolicyInput, PolicyOutput\n",
    "from stanza.policy.transforms import ChunkingTransform\n",
    "from jax.random import PRNGKey\n",
    "\n",
    "schedule = DDPMSchedule.make_squaredcos_cap_v2(16, prediction_type=\"sample\")\n",
    "\n",
    "@jax.jit\n",
    "def chunk_policy(input: PolicyInput) -> PolicyOutput:\n",
    "    agent_pos = PushTEnv.observe(env, input.state).agent_pos\n",
    "    obs = input.observation\n",
    "    #estimator = nonparametric.nw_local_poly_closed(data, schedule, 1, 0.001)\n",
    "    estimator = nonparametric.nw_local_poly(PRNGKey(42), data, schedule, 0, \n",
    "                              nonparametric.log_gaussian_kernel, nonparametric.log_gaussian_kernel, \n",
    "                              0.01, 0.01, 512)\n",
    "    diffuser = nonparametric.nw_diffuser(obs, estimator)\n",
    "    #diffuser = nonparametric.nw_cond_diffuser(obs, data, schedule, nonparametric.log_gaussian_kernel, 0.01)\n",
    "    diffuser = nonparametric.closest_diffuser(obs, data)\n",
    "    action = schedule.sample(input.rng_key, diffuser, sample_chunk[1]) + agent_pos\n",
    "    return PolicyOutput(action)\n",
    "transform = ChunkingTransform(obs_length, action_length)\n",
    "policy = transform.apply(chunk_policy)"
   ]
  },
  {
   "cell_type": "code",
   "execution_count": 6,
   "id": "8e4bcc14",
   "metadata": {},
   "outputs": [
    {
     "data": {
      "application/vnd.jupyter.widget-view+json": {
       "model_id": "475e9bd41ccf4d84bfe38a07c173c2fa",
       "version_major": 2,
       "version_minor": 0
      },
      "text/plain": [
       "HBox(children=(Image(value=b'\\x89PNG\\r\\n\\x1a\\n\\x00\\x00\\x00\\rIHDR\\x00\\x00\\x01\\x00\\x00\\x00\\x01\\x00\\x08\\x06\\x00\\x…"
      ]
     },
     "execution_count": 6,
     "metadata": {},
     "output_type": "execute_result"
    }
   ],
   "source": [
    "from stanza.util.ipython import as_image\n",
    "\n",
    "state = env.reset(jax.random.key(0))\n",
    "state_batch = jax.tree_util.tree_map(\n",
    "    lambda x: jnp.repeat(x[None], obs_length, 0), \n",
    "    state\n",
    ")\n",
    "output = chunk_policy(PolicyInput(\n",
    "    jax.vmap(env.observe)(state_batch),\n",
    "    state,\n",
    "    rng_key=jax.random.key(42))\n",
    ").action \n",
    "as_image(render(state, output[None,...], jnp.ones((1,))))"
   ]
  },
  {
   "cell_type": "code",
   "execution_count": 7,
   "id": "305765c2-5f67-4ca2-95a3-ef21a82261f6",
   "metadata": {},
   "outputs": [],
   "source": [
    "#%timeit chunk_policy(PolicyInput(jax.vmap(env.observe)(state_batch), rng_key=jax.random.key(42))).action "
   ]
  },
  {
   "cell_type": "code",
   "execution_count": 8,
   "id": "c23a0c5b",
   "metadata": {},
   "outputs": [
    {
     "data": {
      "application/vnd.jupyter.widget-view+json": {
       "model_id": "439b2f74031b426891a64baa03cab2bd",
       "version_major": 2,
       "version_minor": 0
      },
      "text/plain": [
       "Label(value='Hello world')"
      ]
     },
     "metadata": {},
     "output_type": "display_data"
    },
    {
     "data": {
      "application/vnd.jupyter.widget-view+json": {
       "model_id": "161738cc977a4bc39ae7d12610ed71bb",
       "version_major": 2,
       "version_minor": 0
      },
      "text/plain": [
       "HBox(children=(ImageStream(image=Image(value=b'\\x89PNG\\r\\n\\x1a\\n\\x00\\x00\\x00\\rIHDR\\x00\\x00\\x01\\x00\\x00\\x00\\x01…"
      ]
     },
     "metadata": {},
     "output_type": "display_data"
    },
    {
     "data": {
      "application/vnd.jupyter.widget-view+json": {
       "model_id": "c3c2f071d6f24a78a8b5fd09d0294e4d",
       "version_major": 2,
       "version_minor": 0
      },
      "text/plain": [
       "Button(description='Stop', style=ButtonStyle())"
      ]
     },
     "metadata": {},
     "output_type": "display_data"
    }
   ],
   "source": [
    "from stanza.policy.ipython import StreamingInterface\n",
    "from threading import Thread\n",
    "from ipywidgets import Label, Button\n",
    "import time\n",
    "\n",
    "\n",
    "@partial(jax.jit, out_shardings=render_sharding)\n",
    "def batch_policy(obs, state, rng_key):\n",
    "    keys = jax.random.split(rng_key, 8)\n",
    "    return jax.vmap(chunk_policy, in_axes=(PolicyInput(None, None, rng_key=0),))(\n",
    "        PolicyInput(obs, state, rng_key=keys)\n",
    "    ).action\n",
    "\n",
    "executing = True\n",
    "action_queue = []\n",
    "\n",
    "label = Label(value=\"Hello world\")\n",
    "\n",
    "button = Button(description=\"Stop\")\n",
    "def button_click(_):\n",
    "    global executing, action_queue\n",
    "    if executing:\n",
    "        button.description = \"Execute\"\n",
    "        executing = False\n",
    "    else:\n",
    "        button.description = \"Stop\"\n",
    "        executing = True\n",
    "        action_queue = []\n",
    "button.on_click(button_click)\n",
    "\n",
    "interactive = StreamingInterface(256, 256)\n",
    "def loop():\n",
    "    state = env.reset(jax.random.key(42))\n",
    "    #state = dataset[0][0].state\n",
    "    state_batch = jax.tree_util.tree_map(\n",
    "        lambda x: jnp.repeat(x[None], obs_length, 0), \n",
    "        state\n",
    "    )\n",
    "    key = jax.random.key(43)\n",
    "    frame = 0\n",
    "    \n",
    "    action_chunks = None\n",
    "    weights = None\n",
    "    iterations = 0\n",
    "    while True:\n",
    "        t = time.time()\n",
    "        key, r = jax.random.split(key)\n",
    "        if executing and len(action_queue) > 0:\n",
    "            action = action_queue.pop(0)\n",
    "        else:\n",
    "            action = interactive.mouse_pos()\n",
    "\n",
    "        prev_state = state\n",
    "        state = env.step(state, action)\n",
    "        reward = env.reward(prev_state, action, state)\n",
    "        label.value = f\"reward: {reward} {iterations}\"\n",
    "        state_batch = jax.tree_util.tree_map(\n",
    "            lambda x, s: jnp.roll(x, -1).at[-1].set(s),\n",
    "            state_batch, state\n",
    "        )\n",
    "        obs = jax.vmap(env.observe)(state_batch)\n",
    "        \n",
    "        if executing and len(action_queue) == 0:\n",
    "            action_chunks = batch_policy(obs, state, r)\n",
    "            weights = (0.2*jnp.ones(action_chunks.shape[0])).at[0].set(1)\n",
    "            for a in action_chunks[0]:\n",
    "                action_queue.append(a)\n",
    "                #action_queue.append(a)\n",
    "                #action_queue.append(a)\n",
    "            iterations = iterations + action_length\n",
    "        elif not executing and frame % 30 == 0: # re-sample actions every 30 frames\n",
    "            action_chunks = batch_policy(obs, state, r)\n",
    "            weights = jnp.ones(action_chunks.shape[0])\n",
    "        image = render(state, action_chunks, weights)\n",
    "        \n",
    "        interactive.update(image)\n",
    "        elapsed = time.time() - t\n",
    "        time.sleep(max(0, 1/30 - elapsed))\n",
    "        frame = frame + 1\n",
    "\n",
    "t = Thread(target=loop, daemon=True)\n",
    "t.start()\n",
    "t.__del__ = lambda: t.stop()\n",
    "display(label)\n",
    "display(interactive)\n",
    "display(button)"
   ]
  },
  {
   "cell_type": "code",
   "execution_count": null,
   "id": "9634ab6d-f321-4195-acb5-a6398bacbf50",
   "metadata": {},
   "outputs": [],
   "source": []
  }
 ],
 "metadata": {
  "kernelspec": {
   "display_name": "Python 3 (ipykernel)",
   "language": "python",
   "name": "python3"
  },
  "language_info": {
   "codemirror_mode": {
    "name": "ipython",
    "version": 3
   },
   "file_extension": ".py",
   "mimetype": "text/x-python",
   "name": "python",
   "nbconvert_exporter": "python",
   "pygments_lexer": "ipython3",
   "version": "3.12.3"
  },
  "widgets": {
   "application/vnd.jupyter.widget-state+json": {
    "state": {
     "0544c3b3d8e24278b669c90b016cef92": {
      "model_module": "@jupyter-widgets/controls",
      "model_module_version": "2.0.0",
      "model_name": "HTMLModel",
      "state": {
       "layout": "IPY_MODEL_f2949711e6da44f48d84f7a4c3658be4",
       "style": "IPY_MODEL_d7746de2ae9141bbbe1d81e2a52b14a4",
       "value": "<style>\n.cell-output-ipywidget-background {\n    background-color: transparent !important;\n}\n.jp-OutputArea-output {\n    background-color: transparent;\n}\npre {\n    color: var(--vscode-editor-foreground);\n    margin: 0;\n}\nvideo::-webkit-media-controls {\n  display: none;\n}\n</style>"
      }
     },
     "161738cc977a4bc39ae7d12610ed71bb": {
      "model_module": "@jupyter-widgets/controls",
      "model_module_version": "2.0.0",
      "model_name": "HBoxModel",
      "state": {
       "children": [
        "IPY_MODEL_4d12e06352084b60bffd0f7b07829aac",
        "IPY_MODEL_8dda833ba79045e4b1875251ffea6f5d"
       ],
       "layout": "IPY_MODEL_86998652422d44f2bcc3cfd40b62d146"
      }
     },
     "3a7ce2843d9c4e43a4b2b59888c75a62": {
      "buffers": [
       {
        "data": "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",
        "encoding": "base64",
        "path": [
         "value"
        ]
       }
      ],
      "model_module": "@jupyter-widgets/controls",
      "model_module_version": "2.0.0",
      "model_name": "ImageModel",
      "state": {
       "layout": "IPY_MODEL_4545b110ba2f4dbfaaa363b57c3233fd"
      }
     },
     "3ebd5803e9924c978f3d20ff8806cb41": {
      "model_module": "@jupyter-widgets/base",
      "model_module_version": "2.0.0",
      "model_name": "LayoutModel",
      "state": {}
     },
     "439b2f74031b426891a64baa03cab2bd": {
      "model_module": "@jupyter-widgets/controls",
      "model_module_version": "2.0.0",
      "model_name": "LabelModel",
      "state": {
       "layout": "IPY_MODEL_3ebd5803e9924c978f3d20ff8806cb41",
       "style": "IPY_MODEL_f10efd98b40d467e9604d0e16ccc75fe",
       "value": "reward: 0.9454081058502197 864"
      }
     },
     "4545b110ba2f4dbfaaa363b57c3233fd": {
      "model_module": "@jupyter-widgets/base",
      "model_module_version": "2.0.0",
      "model_name": "LayoutModel",
      "state": {}
     },
     "4613144ff995463990fe899c720c12f7": {
      "model_module": "@jupyter-widgets/base",
      "model_module_version": "2.0.0",
      "model_name": "LayoutModel",
      "state": {}
     },
     "475e9bd41ccf4d84bfe38a07c173c2fa": {
      "model_module": "@jupyter-widgets/controls",
      "model_module_version": "2.0.0",
      "model_name": "HBoxModel",
      "state": {
       "children": [
        "IPY_MODEL_edcb61ae2894443ca7b29d8fc01b8ca4",
        "IPY_MODEL_0544c3b3d8e24278b669c90b016cef92"
       ],
       "layout": "IPY_MODEL_a4ec16d6fbcf4fb48991ba36fb8a2b91"
      }
     },
     "4d12e06352084b60bffd0f7b07829aac": {
      "model_module": "jupyter-webrtc",
      "model_module_version": "~0.6.0",
      "model_name": "ImageStreamModel",
      "state": {
       "_view_count": 1,
       "image": "IPY_MODEL_3a7ce2843d9c4e43a4b2b59888c75a62",
       "layout": "IPY_MODEL_4613144ff995463990fe899c720c12f7"
      }
     },
     "76e9fd0d77c249f480e471e2e1da4305": {
      "model_module": "@jupyter-widgets/base",
      "model_module_version": "2.0.0",
      "model_name": "LayoutModel",
      "state": {}
     },
     "7ce1aaf1164c4f17b4adc2876368c280": {
      "model_module": "@jupyter-widgets/controls",
      "model_module_version": "2.0.0",
      "model_name": "HTMLStyleModel",
      "state": {
       "description_width": "",
       "font_size": null,
       "text_color": null
      }
     },
     "86998652422d44f2bcc3cfd40b62d146": {
      "model_module": "@jupyter-widgets/base",
      "model_module_version": "2.0.0",
      "model_name": "LayoutModel",
      "state": {}
     },
     "8dda833ba79045e4b1875251ffea6f5d": {
      "model_module": "@jupyter-widgets/controls",
      "model_module_version": "2.0.0",
      "model_name": "HTMLModel",
      "state": {
       "layout": "IPY_MODEL_bb9080d1f54d42ce8057902d143dae0d",
       "style": "IPY_MODEL_7ce1aaf1164c4f17b4adc2876368c280",
       "value": "<style>\n.cell-output-ipywidget-background {\n    background-color: transparent !important;\n}\n.jp-OutputArea-output {\n    background-color: transparent;\n}\npre {\n    color: var(--vscode-editor-foreground);\n    margin: 0;\n}\nvideo::-webkit-media-controls {\n  display: none;\n}\n</style>"
      }
     },
     "99615b0a1aad45ecb0632b7e6f4425b5": {
      "model_module": "ipyevents",
      "model_module_version": "2.0.2",
      "model_name": "EventModel",
      "state": {
       "_supported_key_events": [
        "keydown",
        "keyup"
       ],
       "_supported_mouse_events": [
        "click",
        "auxclick",
        "dblclick",
        "mouseenter",
        "mouseleave",
        "mousedown",
        "mouseup",
        "mousemove",
        "wheel",
        "contextmenu",
        "dragstart",
        "drag",
        "dragend",
        "dragenter",
        "dragover",
        "dragleave",
        "drop"
       ],
       "_supported_touch_events": [
        "touchstart",
        "touchend",
        "touchmove",
        "touchcancel"
       ],
       "_view_module": "@jupyter-widgets/controls",
       "source": "IPY_MODEL_4d12e06352084b60bffd0f7b07829aac",
       "throttle_or_debounce": "",
       "watched_events": [
        "click",
        "keydown",
        "keyup",
        "mousemove"
       ],
       "xy_coordinate_system": ""
      }
     },
     "9b1c60b7e1724e28be274235973b8adc": {
      "model_module": "@jupyter-widgets/controls",
      "model_module_version": "2.0.0",
      "model_name": "ButtonStyleModel",
      "state": {
       "font_family": null,
       "font_size": null,
       "font_style": null,
       "font_variant": null,
       "font_weight": null,
       "text_color": null,
       "text_decoration": null
      }
     },
     "a4ec16d6fbcf4fb48991ba36fb8a2b91": {
      "model_module": "@jupyter-widgets/base",
      "model_module_version": "2.0.0",
      "model_name": "LayoutModel",
      "state": {}
     },
     "bb9080d1f54d42ce8057902d143dae0d": {
      "model_module": "@jupyter-widgets/base",
      "model_module_version": "2.0.0",
      "model_name": "LayoutModel",
      "state": {}
     },
     "c3c2f071d6f24a78a8b5fd09d0294e4d": {
      "model_module": "@jupyter-widgets/controls",
      "model_module_version": "2.0.0",
      "model_name": "ButtonModel",
      "state": {
       "description": "Stop",
       "layout": "IPY_MODEL_d6b83e27948a413ca9a03e06f11e18d9",
       "style": "IPY_MODEL_9b1c60b7e1724e28be274235973b8adc",
       "tooltip": null
      }
     },
     "d6b83e27948a413ca9a03e06f11e18d9": {
      "model_module": "@jupyter-widgets/base",
      "model_module_version": "2.0.0",
      "model_name": "LayoutModel",
      "state": {}
     },
     "d7746de2ae9141bbbe1d81e2a52b14a4": {
      "model_module": "@jupyter-widgets/controls",
      "model_module_version": "2.0.0",
      "model_name": "HTMLStyleModel",
      "state": {
       "description_width": "",
       "font_size": null,
       "text_color": null
      }
     },
     "edcb61ae2894443ca7b29d8fc01b8ca4": {
      "buffers": [
       {
        "data": "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",
        "encoding": "base64",
        "path": [
         "value"
        ]
       }
      ],
      "model_module": "@jupyter-widgets/controls",
      "model_module_version": "2.0.0",
      "model_name": "ImageModel",
      "state": {
       "layout": "IPY_MODEL_76e9fd0d77c249f480e471e2e1da4305"
      }
     },
     "f10efd98b40d467e9604d0e16ccc75fe": {
      "model_module": "@jupyter-widgets/controls",
      "model_module_version": "2.0.0",
      "model_name": "LabelStyleModel",
      "state": {
       "description_width": "",
       "font_family": null,
       "font_size": null,
       "font_style": null,
       "font_variant": null,
       "font_weight": null,
       "text_color": null,
       "text_decoration": null
      }
     },
     "f2949711e6da44f48d84f7a4c3658be4": {
      "model_module": "@jupyter-widgets/base",
      "model_module_version": "2.0.0",
      "model_name": "LayoutModel",
      "state": {}
     }
    },
    "version_major": 2,
    "version_minor": 0
   }
  }
 },
 "nbformat": 4,
 "nbformat_minor": 5
}
