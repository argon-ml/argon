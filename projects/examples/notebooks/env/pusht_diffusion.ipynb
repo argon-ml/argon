{
 "cells": [
  {
   "cell_type": "code",
   "execution_count": 1,
   "id": "6a9bc698-7b3d-4007-83f5-259992cb7ce9",
   "metadata": {},
   "outputs": [],
   "source": [
    "from stanza.runtime import setup\n",
    "setup()\n",
    "\n",
    "from stanza.data.sequence import SequenceData, Chunk\n",
    "from stanza.env.mujoco.pusht import (\n",
    "    PushTPosObs, PushTEnv, \n",
    "    PositionalControlTransform, PositionalObsTransform,\n",
    "    KeypointObsTransform, RelKeypointTransform\n",
    ")\n",
    "from stanza.env import ImageRender\n",
    "from stanza import canvas\n",
    "from stanza.policy.transforms import Transform, ChainedTransform\n",
    "\n",
    "import jax\n",
    "import jax.numpy as jnp\n",
    "from jax.sharding import Mesh, NamedSharding, PartitionSpec\n",
    "\n",
    "from functools import partial"
   ]
  },
  {
   "cell_type": "code",
   "execution_count": 2,
   "id": "787af2ad",
   "metadata": {},
   "outputs": [],
   "source": [
    "if len(jax.devices()) > 1:\n",
    "    render_mesh = Mesh(jax.devices()[:8], ('x',))\n",
    "    render_sharding = NamedSharding(render_mesh, PartitionSpec('x'))\n",
    "    data_mesh = Mesh(jax.devices()[:8], ('x',))\n",
    "    data_sharding = NamedSharding(data_mesh, PartitionSpec('x'))\n",
    "\n",
    "env = PushTEnv()\n",
    "env = ChainedTransform([\n",
    "    PositionalControlTransform(),\n",
    "    #PositionalObsTransform(),\n",
    "    RelKeypointTransform()\n",
    "]).transform_env(env)\n",
    "\n",
    "def draw(action_chunk, weight):\n",
    "    T = action_chunk.shape[0]\n",
    "    colors = jnp.array((jnp.arange(T)/T, jnp.zeros(T), jnp.zeros(T), weight*jnp.ones(T))).T\n",
    "    circles = canvas.fill(\n",
    "        canvas.circle(action_chunk, 0.02*jnp.ones(T)),\n",
    "        color=colors\n",
    "    )\n",
    "    circles = canvas.stack_batch(circles)\n",
    "    circles = canvas.transform(circles,\n",
    "        translation=(1,-1),\n",
    "        scale=(128, -128)\n",
    "    )\n",
    "    return circles\n",
    "\n",
    "@partial(jax.jit, out_shardings=render_sharding)\n",
    "def render(state, action_chunks, weights):\n",
    "    image = env.render(ImageRender(256, 256), state)\n",
    "    if action_chunks is not None and weights is not None:\n",
    "        circles = canvas.stack_batch(jax.vmap(draw)(action_chunks, weights))\n",
    "        return canvas.paint(image, circles)\n",
    "    return image"
   ]
  },
  {
   "cell_type": "code",
   "execution_count": 3,
   "id": "b2cf8373-8cc9-4f62-87c4-98ed56b207f2",
   "metadata": {},
   "outputs": [
    {
     "name": "stdout",
     "output_type": "stream",
     "text": [
      "Loaded data (PushTKeypointRelObs(agent_block_pos=(22352, 1, 2), agent_block_end=(22352, 1, 2), rel_block_pos=(22352, 1, 2), rel_block_end=(22352, 1, 2)), (22352, 16, 2))\n"
     ]
    }
   ],
   "source": [
    "from stanza.datasets.pusht import load_chen_pusht_data\n",
    "dataset = load_chen_pusht_data()\n",
    "\n",
    "obs_length = 1\n",
    "action_length = 16\n",
    "def map_chunks(chunk : Chunk):\n",
    "    state, action = (chunk.chunk.state, chunk.chunk.action)\n",
    "    obs = jax.vmap(env.observe)(state)\n",
    "    obs = jax.tree_util.tree_map(lambda x: x[:obs_length], obs)\n",
    "    # use the future agent positions as the actions\n",
    "    actions = jax.vmap(lambda s: PushTEnv.observe(env, s))(state).agent_pos\n",
    "    # compute relative future agent positions\n",
    "    action = jax.tree_util.tree_map(lambda x, y: x[-action_length:] - y[obs_length-1], actions, actions)\n",
    "    # action = jax.tree_util.tree_map(lambda x: x[-action_length:], action)\n",
    "    return obs, action\n",
    "data = dataset.chunk(obs_length + action_length).map(map_chunks).as_pytree()\n",
    "data_len = (data[1].shape[0]//8)*8    # truncate length of data to multiple of 8 for sharding\n",
    "data = jax.tree_util.tree_map(lambda x: x[:data_len], data)\n",
    "data = jax.device_put(data, data_sharding)\n",
    "#jax.debug.visualize_array_sharding(data[1][:,:,0])\n",
    "#jax.debug.visualize_array_sharding(data[1][:,:,1])\n",
    "#jax.debug.visualize_array_sharding(data[1][210])\n",
    "\n",
    "sample_chunk = jax.tree_util.tree_map(lambda x: x[0], data)\n",
    "\n",
    "print(\"Loaded data\", jax.tree_util.tree_map(lambda x: x.shape, data))"
   ]
  },
  {
   "cell_type": "code",
   "execution_count": 4,
   "id": "b342d5d3-311d-4ea6-a4b0-e2fbadf3bdff",
   "metadata": {},
   "outputs": [],
   "source": [
    "from stanza.diffusion import DDPMSchedule, nonparametric\n",
    "from stanza.policy import PolicyInput, PolicyOutput\n",
    "from stanza.policy.transforms import ChunkTransform\n",
    "from jax.random import PRNGKey\n",
    "\n",
    "schedule = DDPMSchedule.make_squaredcos_cap_v2(16, prediction_type=\"sample\")\n",
    "\n",
    "@jax.jit\n",
    "def chunk_policy(input: PolicyInput) -> PolicyOutput:\n",
    "    agent_pos = PushTEnv.observe(None, input.state).agent_pos\n",
    "    obs = input.observation\n",
    "    #estimator = nonparametric.nw_local_poly_closed(data, schedule, 1, 0.001)\n",
    "    #estimator = nonparametric.nw_local_poly(PRNGKey(42), data, schedule, 0, \n",
    "    #                          nonparametric.log_gaussian_kernel, nonparametric.log_gaussian_kernel, \n",
    "    #                          0.01, 0.001, 128)\n",
    "    #diffuser = nonparametric.nw_diffuser(obs, estimator)\n",
    "    #diffuser = nonparametric.nw_cond_diffuser(obs, data, schedule, nonparametric.log_gaussian_kernel, 0.01)\n",
    "    diffuser = nonparametric.closest_diffuser(obs, data)\n",
    "    action = schedule.sample(input.rng_key, diffuser, sample_chunk[1]) + agent_pos\n",
    "    return PolicyOutput(action)\n",
    "transform = ChunkTransform(obs_length, action_length)\n",
    "policy = transform.transform_policy(chunk_policy)"
   ]
  },
  {
   "cell_type": "code",
   "execution_count": 5,
   "id": "8e4bcc14",
   "metadata": {},
   "outputs": [
    {
     "data": {
      "application/vnd.jupyter.widget-view+json": {
       "model_id": "a8a1c8d41dee4f0d819179727168b326",
       "version_major": 2,
       "version_minor": 0
      },
      "text/plain": [
       "HBox(children=(Image(value=b'\\x89PNG\\r\\n\\x1a\\n\\x00\\x00\\x00\\rIHDR\\x00\\x00\\x01\\x00\\x00\\x00\\x01\\x00\\x08\\x06\\x00\\x…"
      ]
     },
     "execution_count": 5,
     "metadata": {},
     "output_type": "execute_result"
    }
   ],
   "source": [
    "from stanza.util.ipython import as_image\n",
    "\n",
    "state = env.reset(jax.random.key(0))\n",
    "state_batch = jax.tree_util.tree_map(\n",
    "    lambda x: jnp.repeat(x[None], obs_length, 0), \n",
    "    state\n",
    ")\n",
    "output = chunk_policy(PolicyInput(\n",
    "    jax.vmap(env.observe)(state_batch),\n",
    "    state,\n",
    "    rng_key=jax.random.key(42))\n",
    ").action \n",
    "as_image(render(state, output[None,...], jnp.ones((1,))))"
   ]
  },
  {
   "cell_type": "code",
   "execution_count": 6,
   "id": "305765c2-5f67-4ca2-95a3-ef21a82261f6",
   "metadata": {},
   "outputs": [],
   "source": [
    "#%timeit chunk_policy(PolicyInput(jax.vmap(env.observe)(state_batch), rng_key=jax.random.key(42))).action "
   ]
  },
  {
   "cell_type": "code",
   "execution_count": 7,
   "id": "c23a0c5b",
   "metadata": {},
   "outputs": [
    {
     "data": {
      "application/vnd.jupyter.widget-view+json": {
       "model_id": "707e6d053078467e9e69cba5d6e1bd19",
       "version_major": 2,
       "version_minor": 0
      },
      "text/plain": [
       "Label(value='Hello world')"
      ]
     },
     "metadata": {},
     "output_type": "display_data"
    },
    {
     "data": {
      "application/vnd.jupyter.widget-view+json": {
       "model_id": "8b7bbb91274045b899f61a90c2b3e0bd",
       "version_major": 2,
       "version_minor": 0
      },
      "text/plain": [
       "HBox(children=(ImageStream(image=Image(value=b'\\x89PNG\\r\\n\\x1a\\n\\x00\\x00\\x00\\rIHDR\\x00\\x00\\x01\\x00\\x00\\x00\\x01…"
      ]
     },
     "metadata": {},
     "output_type": "display_data"
    },
    {
     "data": {
      "application/vnd.jupyter.widget-view+json": {
       "model_id": "e313c4e798474b44bed22eb3ee7fdf73",
       "version_major": 2,
       "version_minor": 0
      },
      "text/plain": [
       "Button(description='Stop', style=ButtonStyle())"
      ]
     },
     "metadata": {},
     "output_type": "display_data"
    }
   ],
   "source": [
    "from stanza.policy.ipython import StreamingInterface\n",
    "from threading import Thread\n",
    "from ipywidgets import Label, Button\n",
    "import time\n",
    "\n",
    "\n",
    "@partial(jax.jit, out_shardings=render_sharding)\n",
    "def batch_policy(obs, state, rng_key):\n",
    "    keys = jax.random.split(rng_key, 8)\n",
    "    return jax.vmap(chunk_policy, in_axes=(PolicyInput(None, None, rng_key=0),))(\n",
    "        PolicyInput(obs, state, rng_key=keys)\n",
    "    ).action\n",
    "\n",
    "executing = True\n",
    "action_queue = []\n",
    "\n",
    "label = Label(value=\"Hello world\")\n",
    "\n",
    "button = Button(description=\"Stop\")\n",
    "def button_click(_):\n",
    "    global executing, action_queue\n",
    "    if executing:\n",
    "        button.description = \"Execute\"\n",
    "        executing = False\n",
    "    else:\n",
    "        button.description = \"Stop\"\n",
    "        executing = True\n",
    "        action_queue = []\n",
    "button.on_click(button_click)\n",
    "\n",
    "interactive = StreamingInterface(256, 256)\n",
    "def loop():\n",
    "    state = env.reset(jax.random.key(42))\n",
    "    #state = dataset[0][0].state\n",
    "    state_batch = jax.tree_util.tree_map(\n",
    "        lambda x: jnp.repeat(x[None], obs_length, 0), \n",
    "        state\n",
    "    )\n",
    "    key = jax.random.key(43)\n",
    "    frame = 0\n",
    "    \n",
    "    action_chunks = None\n",
    "    weights = None\n",
    "    iterations = 0\n",
    "    while True:\n",
    "        t = time.time()\n",
    "        key, r = jax.random.split(key)\n",
    "        if executing and len(action_queue) > 0:\n",
    "            action = action_queue.pop(0)\n",
    "        else:\n",
    "            action = interactive.mouse_pos()\n",
    "\n",
    "        prev_state = state\n",
    "        state = env.step(state, action)\n",
    "        reward = env.reward(prev_state, action, state)\n",
    "        label.value = f\"reward: {reward} {iterations}\"\n",
    "        state_batch = jax.tree_util.tree_map(\n",
    "            lambda x, s: jnp.roll(x, -1).at[-1].set(s),\n",
    "            state_batch, state\n",
    "        )\n",
    "        obs = jax.vmap(env.observe)(state_batch)\n",
    "        \n",
    "        if executing and len(action_queue) == 0:\n",
    "            action_chunks = batch_policy(obs, state, r)\n",
    "            weights = (0.2*jnp.ones(action_chunks.shape[0])).at[0].set(1)\n",
    "            for a in action_chunks[0]:\n",
    "                action_queue.append(a)\n",
    "                action_queue.append(a)\n",
    "                action_queue.append(a)\n",
    "            iterations = iterations + action_length\n",
    "        elif not executing and frame % 30 == 0: # re-sample actions every 30 frames\n",
    "            action_chunks = batch_policy(obs, state, r)\n",
    "            weights = jnp.ones(action_chunks.shape[0])\n",
    "        image = render(state, action_chunks, weights)\n",
    "        \n",
    "        interactive.update(image)\n",
    "        elapsed = time.time() - t\n",
    "        time.sleep(max(0, 1/30 - elapsed))\n",
    "        frame = frame + 1\n",
    "\n",
    "t = Thread(target=loop, daemon=True)\n",
    "t.start()\n",
    "t.__del__ = lambda: t.stop()\n",
    "display(label)\n",
    "display(interactive)\n",
    "display(button)"
   ]
  },
  {
   "cell_type": "code",
   "execution_count": null,
   "id": "9634ab6d-f321-4195-acb5-a6398bacbf50",
   "metadata": {},
   "outputs": [],
   "source": []
  }
 ],
 "metadata": {
  "kernelspec": {
   "display_name": "Python 3 (ipykernel)",
   "language": "python",
   "name": "python3"
  },
  "language_info": {
   "codemirror_mode": {
    "name": "ipython",
    "version": 3
   },
   "file_extension": ".py",
   "mimetype": "text/x-python",
   "name": "python",
   "nbconvert_exporter": "python",
   "pygments_lexer": "ipython3",
   "version": "3.12.3"
  },
  "widgets": {
   "application/vnd.jupyter.widget-state+json": {
    "state": {
     "08cd33fb3ed44d25bc81cacc6b5609d9": {
      "model_module": "@jupyter-widgets/base",
      "model_module_version": "2.0.0",
      "model_name": "LayoutModel",
      "state": {}
     },
     "179aad42d184403cb99a64c560a97faa": {
      "model_module": "@jupyter-widgets/base",
      "model_module_version": "2.0.0",
      "model_name": "LayoutModel",
      "state": {}
     },
     "23e7f10c8d8b49d78eb86f91af32ba8c": {
      "model_module": "@jupyter-widgets/base",
      "model_module_version": "2.0.0",
      "model_name": "LayoutModel",
      "state": {}
     },
     "2ddc63064515408db68f3aaa2004a5cb": {
      "model_module": "@jupyter-widgets/base",
      "model_module_version": "2.0.0",
      "model_name": "LayoutModel",
      "state": {}
     },
     "2e9b0acc60d44c998974389dbf53c5df": {
      "model_module": "@jupyter-widgets/base",
      "model_module_version": "2.0.0",
      "model_name": "LayoutModel",
      "state": {}
     },
     "32673abba3fc4856813111ebab40df8d": {
      "buffers": [
       {
        "data": "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",
        "encoding": "base64",
        "path": [
         "value"
        ]
       }
      ],
      "model_module": "@jupyter-widgets/controls",
      "model_module_version": "2.0.0",
      "model_name": "ImageModel",
      "state": {
       "layout": "IPY_MODEL_23e7f10c8d8b49d78eb86f91af32ba8c"
      }
     },
     "3772c0dec80e434d93ed76117300a3a8": {
      "buffers": [
       {
        "data": "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",
        "encoding": "base64",
        "path": [
         "value"
        ]
       }
      ],
      "model_module": "@jupyter-widgets/controls",
      "model_module_version": "2.0.0",
      "model_name": "ImageModel",
      "state": {
       "layout": "IPY_MODEL_2e9b0acc60d44c998974389dbf53c5df"
      }
     },
     "526be6ef9ac644e3879d1a5695537aad": {
      "model_module": "@jupyter-widgets/controls",
      "model_module_version": "2.0.0",
      "model_name": "HTMLModel",
      "state": {
       "layout": "IPY_MODEL_08cd33fb3ed44d25bc81cacc6b5609d9",
       "style": "IPY_MODEL_8c1fdc59d4724a18a5dbf21beaf77be7",
       "value": "<style>\n.cell-output-ipywidget-background {\n    background-color: transparent !important;\n}\n.jp-OutputArea-output {\n    background-color: transparent;\n}\npre {\n    color: var(--vscode-editor-foreground);\n    margin: 0;\n}\nvideo::-webkit-media-controls {\n  display: none;\n}\n</style>"
      }
     },
     "56994b2bc53e4b599755dc0db3e89e3d": {
      "model_module": "jupyter-webrtc",
      "model_module_version": "~0.6.0",
      "model_name": "ImageStreamModel",
      "state": {
       "_view_count": 1,
       "image": "IPY_MODEL_32673abba3fc4856813111ebab40df8d",
       "layout": "IPY_MODEL_b9d78ecfa6a64daf9bd7a7cfa6959f8e"
      }
     },
     "707e6d053078467e9e69cba5d6e1bd19": {
      "model_module": "@jupyter-widgets/controls",
      "model_module_version": "2.0.0",
      "model_name": "LabelModel",
      "state": {
       "layout": "IPY_MODEL_179aad42d184403cb99a64c560a97faa",
       "style": "IPY_MODEL_e0aa4c10f6224befbf4fcaf703b9de2b",
       "value": "reward: 0.7445253133773804 528"
      }
     },
     "8b7bbb91274045b899f61a90c2b3e0bd": {
      "model_module": "@jupyter-widgets/controls",
      "model_module_version": "2.0.0",
      "model_name": "HBoxModel",
      "state": {
       "children": [
        "IPY_MODEL_56994b2bc53e4b599755dc0db3e89e3d",
        "IPY_MODEL_c54d6bf5e8294273b4f3edda47d719ce"
       ],
       "layout": "IPY_MODEL_d987f49d2e444a5187beebbf301a13aa"
      }
     },
     "8c1fdc59d4724a18a5dbf21beaf77be7": {
      "model_module": "@jupyter-widgets/controls",
      "model_module_version": "2.0.0",
      "model_name": "HTMLStyleModel",
      "state": {
       "description_width": "",
       "font_size": null,
       "text_color": null
      }
     },
     "8e730f699a5041e7bad0d0961ea37989": {
      "model_module": "@jupyter-widgets/base",
      "model_module_version": "2.0.0",
      "model_name": "LayoutModel",
      "state": {}
     },
     "9e19d6c4da4e46008cdd2d140fa15f1a": {
      "model_module": "@jupyter-widgets/controls",
      "model_module_version": "2.0.0",
      "model_name": "HTMLStyleModel",
      "state": {
       "description_width": "",
       "font_size": null,
       "text_color": null
      }
     },
     "a3a45d4436494b72a8c592adad764ae6": {
      "model_module": "ipyevents",
      "model_module_version": "2.0.2",
      "model_name": "EventModel",
      "state": {
       "_supported_key_events": [
        "keydown",
        "keyup"
       ],
       "_supported_mouse_events": [
        "click",
        "auxclick",
        "dblclick",
        "mouseenter",
        "mouseleave",
        "mousedown",
        "mouseup",
        "mousemove",
        "wheel",
        "contextmenu",
        "dragstart",
        "drag",
        "dragend",
        "dragenter",
        "dragover",
        "dragleave",
        "drop"
       ],
       "_supported_touch_events": [
        "touchstart",
        "touchend",
        "touchmove",
        "touchcancel"
       ],
       "_view_module": "@jupyter-widgets/controls",
       "source": "IPY_MODEL_56994b2bc53e4b599755dc0db3e89e3d",
       "throttle_or_debounce": "",
       "watched_events": [
        "click",
        "keydown",
        "keyup",
        "mousemove"
       ],
       "xy_coordinate_system": ""
      }
     },
     "a8a1c8d41dee4f0d819179727168b326": {
      "model_module": "@jupyter-widgets/controls",
      "model_module_version": "2.0.0",
      "model_name": "HBoxModel",
      "state": {
       "children": [
        "IPY_MODEL_3772c0dec80e434d93ed76117300a3a8",
        "IPY_MODEL_526be6ef9ac644e3879d1a5695537aad"
       ],
       "layout": "IPY_MODEL_8e730f699a5041e7bad0d0961ea37989"
      }
     },
     "ade47864c5a1455897f667bca3b46de9": {
      "model_module": "@jupyter-widgets/controls",
      "model_module_version": "2.0.0",
      "model_name": "ButtonStyleModel",
      "state": {
       "font_family": null,
       "font_size": null,
       "font_style": null,
       "font_variant": null,
       "font_weight": null,
       "text_color": null,
       "text_decoration": null
      }
     },
     "b9d78ecfa6a64daf9bd7a7cfa6959f8e": {
      "model_module": "@jupyter-widgets/base",
      "model_module_version": "2.0.0",
      "model_name": "LayoutModel",
      "state": {}
     },
     "bb5c6ff3890b41868d96f6f66a13cb58": {
      "model_module": "@jupyter-widgets/base",
      "model_module_version": "2.0.0",
      "model_name": "LayoutModel",
      "state": {}
     },
     "c54d6bf5e8294273b4f3edda47d719ce": {
      "model_module": "@jupyter-widgets/controls",
      "model_module_version": "2.0.0",
      "model_name": "HTMLModel",
      "state": {
       "layout": "IPY_MODEL_bb5c6ff3890b41868d96f6f66a13cb58",
       "style": "IPY_MODEL_9e19d6c4da4e46008cdd2d140fa15f1a",
       "value": "<style>\n.cell-output-ipywidget-background {\n    background-color: transparent !important;\n}\n.jp-OutputArea-output {\n    background-color: transparent;\n}\npre {\n    color: var(--vscode-editor-foreground);\n    margin: 0;\n}\nvideo::-webkit-media-controls {\n  display: none;\n}\n</style>"
      }
     },
     "d987f49d2e444a5187beebbf301a13aa": {
      "model_module": "@jupyter-widgets/base",
      "model_module_version": "2.0.0",
      "model_name": "LayoutModel",
      "state": {}
     },
     "e0aa4c10f6224befbf4fcaf703b9de2b": {
      "model_module": "@jupyter-widgets/controls",
      "model_module_version": "2.0.0",
      "model_name": "LabelStyleModel",
      "state": {
       "description_width": "",
       "font_family": null,
       "font_size": null,
       "font_style": null,
       "font_variant": null,
       "font_weight": null,
       "text_color": null,
       "text_decoration": null
      }
     },
     "e313c4e798474b44bed22eb3ee7fdf73": {
      "model_module": "@jupyter-widgets/controls",
      "model_module_version": "2.0.0",
      "model_name": "ButtonModel",
      "state": {
       "description": "Stop",
       "layout": "IPY_MODEL_2ddc63064515408db68f3aaa2004a5cb",
       "style": "IPY_MODEL_ade47864c5a1455897f667bca3b46de9",
       "tooltip": null
      }
     }
    },
    "version_major": 2,
    "version_minor": 0
   }
  }
 },
 "nbformat": 4,
 "nbformat_minor": 5
}
