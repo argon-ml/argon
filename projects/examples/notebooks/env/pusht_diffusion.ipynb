{
 "cells": [
  {
   "cell_type": "code",
   "execution_count": 1,
   "id": "6a9bc698-7b3d-4007-83f5-259992cb7ce9",
   "metadata": {},
   "outputs": [],
   "source": [
    "from stanza.runtime import setup\n",
    "setup()\n",
    "\n",
    "from stanza.data.sequence import SequenceData, Chunk\n",
    "from stanza.env.mujoco.pusht import (\n",
    "    PushTPosObs, PushTEnv, \n",
    "    PositionalControlTransform, PositionalObsTransform,\n",
    "    KeypointObsTransform\n",
    ")\n",
    "from stanza.env import ImageRender\n",
    "from stanza import canvas\n",
    "from stanza.policy.transforms import Transform, ChainedTransform\n",
    "\n",
    "import jax\n",
    "import jax.numpy as jnp\n",
    "from jax.sharding import Mesh, NamedSharding, PartitionSpec\n",
    "\n",
    "from functools import partial"
   ]
  },
  {
   "cell_type": "code",
   "execution_count": 2,
   "id": "787af2ad",
   "metadata": {},
   "outputs": [],
   "source": [
    "if len(jax.devices()) > 1:\n",
    "    render_mesh = Mesh(jax.devices()[:8], ('x',))\n",
    "    render_sharding = NamedSharding(render_mesh, PartitionSpec('x'))\n",
    "    data_mesh = Mesh(jax.devices()[:8], ('x',))\n",
    "    data_sharding = NamedSharding(data_mesh, PartitionSpec('x'))\n",
    "\n",
    "env = PushTEnv()\n",
    "env = ChainedTransform([\n",
    "    PositionalControlTransform(),\n",
    "    KeypointObsTransform()\n",
    "]).transform_env(env)\n",
    "\n",
    "def draw(action_chunk, weight):\n",
    "    T = action_chunk.shape[0]\n",
    "    colors = jnp.array((jnp.arange(T)/T, jnp.zeros(T), jnp.zeros(T), weight*jnp.ones(T))).T\n",
    "    circles = canvas.fill(\n",
    "        canvas.circle(action_chunk, 0.02*jnp.ones(T)),\n",
    "        color=colors\n",
    "    )\n",
    "    circles = canvas.stack_batch(circles)\n",
    "    circles = canvas.transform(circles,\n",
    "        translation=(1,-1),\n",
    "        scale=(128, -128)\n",
    "    )\n",
    "    return circles\n",
    "\n",
    "@partial(jax.jit, out_shardings=render_sharding)\n",
    "def render(state, action_chunks, weights):\n",
    "    image = env.render(ImageRender(256, 256), state)\n",
    "    if action_chunks is not None and weights is not None:\n",
    "        circles = canvas.stack_batch(jax.vmap(draw)(action_chunks, weights))\n",
    "        return canvas.paint(image, circles)\n",
    "    return image"
   ]
  },
  {
   "cell_type": "code",
   "execution_count": 3,
   "id": "b2cf8373-8cc9-4f62-87c4-98ed56b207f2",
   "metadata": {},
   "outputs": [
    {
     "name": "stdout",
     "output_type": "stream",
     "text": [
      "Loaded data (PushTKeypointObs(agent_pos=(24000, 1, 2), block_pos=(24000, 1, 2), block_end=(24000, 1, 2)), (24000, 8, 2))\n"
     ]
    }
   ],
   "source": [
    "from stanza.datasets.pusht import load_chen_pusht_data\n",
    "dataset = load_chen_pusht_data()\n",
    "\n",
    "obs_length = 1\n",
    "action_length = 8\n",
    "def map_chunks(chunk : Chunk):\n",
    "    state, action = (chunk.chunk.state, chunk.chunk.action)\n",
    "    state = jax.vmap(env.observe)(state)\n",
    "    obs = jax.tree_util.tree_map(lambda x: x[:obs_length], state)\n",
    "    # use the future state positions as the actions\n",
    "    action = jax.tree_util.tree_map(lambda x: x[-action_length:], state.agent_pos)\n",
    "    # action = jax.tree_util.tree_map(lambda x: x[-action_length:], action)\n",
    "    return obs, action\n",
    "data = dataset.chunk(obs_length + action_length).map(map_chunks).as_pytree()\n",
    "data_len = (data[1].shape[0]//8)*8    # truncate length of data to multiple of 8 for sharding\n",
    "data = jax.tree_util.tree_map(lambda x: x[:data_len], data)\n",
    "data = jax.device_put(data, data_sharding)\n",
    "#jax.debug.visualize_array_sharding(data[1][:,:,0])\n",
    "#jax.debug.visualize_array_sharding(data[1][:,:,1])\n",
    "#jax.debug.visualize_array_sharding(data[1][210])\n",
    "\n",
    "sample_chunk = jax.tree_util.tree_map(lambda x: x[0], data)\n",
    "\n",
    "print(\"Loaded data\", jax.tree_util.tree_map(lambda x: x.shape, data))"
   ]
  },
  {
   "cell_type": "code",
   "execution_count": 4,
   "id": "b342d5d3-311d-4ea6-a4b0-e2fbadf3bdff",
   "metadata": {},
   "outputs": [],
   "source": [
    "from stanza.diffusion import DDPMSchedule, nonparametric\n",
    "from stanza.policy import PolicyInput, PolicyOutput\n",
    "from stanza.policy.transforms import ChunkTransform\n",
    "from jax.random import PRNGKey\n",
    "\n",
    "schedule = DDPMSchedule.make_squaredcos_cap_v2(16, prediction_type=\"sample\")\n",
    "\n",
    "@jax.jit\n",
    "def chunk_policy(input: PolicyInput) -> PolicyOutput:\n",
    "    obs = input.observation\n",
    "    #estimator = nonparametric.nw_local_poly_closed(data, schedule, 1, 0.001)\n",
    "    #estimator = nonparametric.nw_local_poly(PRNGKey(42), data, schedule, 1, \n",
    "    #                          nonparametric.log_gaussian_kernel, nonparametric.log_gaussian_kernel, \n",
    "    #                          0.02, 0.001, 16)\n",
    "    #diffuser = nonparametric.nw_diffuser(obs, estimator)\n",
    "    diffuser = nonparametric.nw_cond_diffuser(obs, data, schedule, nonparametric.log_gaussian_kernel, 0.05)\n",
    "    #diffuser = nonparametric.closest_diffuser(obs, data)\n",
    "    action = schedule.sample(input.rng_key, diffuser, sample_chunk[1])\n",
    "    return PolicyOutput(action)\n",
    "transform = ChunkTransform(obs_length, action_length)\n",
    "policy = transform.transform_policy(chunk_policy)"
   ]
  },
  {
   "cell_type": "code",
   "execution_count": 5,
   "id": "8e4bcc14",
   "metadata": {},
   "outputs": [
    {
     "data": {
      "application/vnd.jupyter.widget-view+json": {
       "model_id": "e6add4e4e93946bfaef583789b68ea42",
       "version_major": 2,
       "version_minor": 0
      },
      "text/plain": [
       "HBox(children=(Image(value=b'\\x89PNG\\r\\n\\x1a\\n\\x00\\x00\\x00\\rIHDR\\x00\\x00\\x01\\x00\\x00\\x00\\x01\\x00\\x08\\x06\\x00\\x…"
      ]
     },
     "execution_count": 5,
     "metadata": {},
     "output_type": "execute_result"
    }
   ],
   "source": [
    "from stanza.util.ipython import as_image\n",
    "\n",
    "state = env.reset(jax.random.key(0))\n",
    "state_batch = jax.tree_util.tree_map(\n",
    "    lambda x: jnp.repeat(x[None], obs_length, 0), \n",
    "    state\n",
    ")\n",
    "output = chunk_policy(PolicyInput(\n",
    "    jax.vmap(env.observe)(state_batch),\n",
    "    rng_key=jax.random.key(42))\n",
    ").action \n",
    "as_image(render(state, output[None,...], jnp.ones((1,))))"
   ]
  },
  {
   "cell_type": "code",
   "execution_count": 6,
   "id": "305765c2-5f67-4ca2-95a3-ef21a82261f6",
   "metadata": {},
   "outputs": [],
   "source": [
    "#%timeit chunk_policy(PolicyInput(jax.vmap(env.observe)(state_batch), rng_key=jax.random.key(42))).action "
   ]
  },
  {
   "cell_type": "code",
   "execution_count": 7,
   "id": "c23a0c5b",
   "metadata": {},
   "outputs": [
    {
     "data": {
      "application/vnd.jupyter.widget-view+json": {
       "model_id": "e7226966d99e4d4f820eb67f05696024",
       "version_major": 2,
       "version_minor": 0
      },
      "text/plain": [
       "Label(value='Hello world')"
      ]
     },
     "metadata": {},
     "output_type": "display_data"
    },
    {
     "data": {
      "application/vnd.jupyter.widget-view+json": {
       "model_id": "fef6d16322534d6ca9f0c3fe44ffedb9",
       "version_major": 2,
       "version_minor": 0
      },
      "text/plain": [
       "HBox(children=(ImageStream(image=Image(value=b'\\x89PNG\\r\\n\\x1a\\n\\x00\\x00\\x00\\rIHDR\\x00\\x00\\x01\\x00\\x00\\x00\\x01…"
      ]
     },
     "metadata": {},
     "output_type": "display_data"
    },
    {
     "data": {
      "application/vnd.jupyter.widget-view+json": {
       "model_id": "c6718b7b2a5847ff84a1abadfbb4a5f3",
       "version_major": 2,
       "version_minor": 0
      },
      "text/plain": [
       "Button(description='Stop', style=ButtonStyle())"
      ]
     },
     "metadata": {},
     "output_type": "display_data"
    }
   ],
   "source": [
    "from stanza.policy.ipython import StreamingInterface\n",
    "from threading import Thread\n",
    "from ipywidgets import Label, Button\n",
    "import time\n",
    "\n",
    "\n",
    "@partial(jax.jit, out_shardings=render_sharding)\n",
    "def batch_policy(obs, rng_key):\n",
    "    keys = jax.random.split(rng_key, 8)\n",
    "    return jax.vmap(chunk_policy, in_axes=(PolicyInput(None, rng_key=0),))(\n",
    "        PolicyInput(obs, rng_key=keys)\n",
    "    ).action\n",
    "\n",
    "executing = True\n",
    "action_queue = []\n",
    "\n",
    "label = Label(value=\"Hello world\")\n",
    "\n",
    "button = Button(description=\"Stop\")\n",
    "def button_click(_):\n",
    "    global executing, action_queue\n",
    "    if executing:\n",
    "        button.description = \"Execute\"\n",
    "        executing = False\n",
    "    else:\n",
    "        button.description = \"Stop\"\n",
    "        executing = True\n",
    "        action_queue = []\n",
    "button.on_click(button_click)\n",
    "\n",
    "interactive = StreamingInterface(256, 256)\n",
    "def loop():\n",
    "    state = env.reset(jax.random.key(42))\n",
    "    #state = dataset[0][0].state\n",
    "    state_batch = jax.tree_util.tree_map(\n",
    "        lambda x: jnp.repeat(x[None], obs_length, 0), \n",
    "        state\n",
    "    )\n",
    "    key = jax.random.key(42)\n",
    "    frame = 0\n",
    "    \n",
    "    action_chunks = None\n",
    "    weights = None\n",
    "    while True:\n",
    "        t = time.time()\n",
    "        key, r = jax.random.split(key)\n",
    "        if executing and len(action_queue) > 0:\n",
    "            action = action_queue.pop(0)\n",
    "        else:\n",
    "            action = interactive.mouse_pos()\n",
    "\n",
    "        prev_state = state\n",
    "        state = env.step(state, action)\n",
    "        reward = env.reward(prev_state, action, state)\n",
    "        label.value = f\"reward: {reward}\"\n",
    "        state_batch = jax.tree_util.tree_map(\n",
    "            lambda x, s: jnp.roll(x, -1).at[-1].set(s),\n",
    "            state_batch, state\n",
    "        )\n",
    "        obs = jax.vmap(env.observe)(state_batch)\n",
    "        \n",
    "        if executing and len(action_queue) == 0:\n",
    "            action_chunks = batch_policy(obs, r)\n",
    "            weights = (0.2*jnp.ones(action_chunks.shape[0])).at[0].set(1)\n",
    "            for a in action_chunks[0]:\n",
    "                action_queue.append(a)\n",
    "                action_queue.append(a)\n",
    "                action_queue.append(a)\n",
    "        elif not executing and frame % 30 == 0: # re-sample actions every 30 frames\n",
    "            action_chunks = batch_policy(obs, r)\n",
    "            weights = jnp.ones(action_chunks.shape[0])\n",
    "        image = render(state, action_chunks, weights)\n",
    "        \n",
    "        interactive.update(image)\n",
    "        elapsed = time.time() - t\n",
    "        time.sleep(max(0, 1/30 - elapsed))\n",
    "        frame = frame + 1\n",
    "\n",
    "t = Thread(target=loop, daemon=True)\n",
    "t.start()\n",
    "t.__del__ = lambda: t.stop()\n",
    "display(label)\n",
    "display(interactive)\n",
    "display(button)"
   ]
  },
  {
   "cell_type": "code",
   "execution_count": null,
   "id": "ab26d4a3-8342-4627-8200-02babb23ee54",
   "metadata": {},
   "outputs": [],
   "source": []
  }
 ],
 "metadata": {
  "kernelspec": {
   "display_name": "Python 3 (ipykernel)",
   "language": "python",
   "name": "python3"
  },
  "language_info": {
   "codemirror_mode": {
    "name": "ipython",
    "version": 3
   },
   "file_extension": ".py",
   "mimetype": "text/x-python",
   "name": "python",
   "nbconvert_exporter": "python",
   "pygments_lexer": "ipython3",
   "version": "3.12.4"
  },
  "widgets": {
   "application/vnd.jupyter.widget-state+json": {
    "state": {
     "1f7d177ec1214ff7afc4511e3162d870": {
      "model_module": "@jupyter-widgets/controls",
      "model_module_version": "2.0.0",
      "model_name": "HTMLModel",
      "state": {
       "layout": "IPY_MODEL_62e8d363c6c94e1ea7cdef6a8ce34884",
       "style": "IPY_MODEL_53fdf009461c4e7fbef35b9fa960b109",
       "value": "<style>\n.cell-output-ipywidget-background {\n    background-color: transparent !important;\n}\n.jp-OutputArea-output {\n    background-color: transparent;\n}\npre {\n    color: var(--vscode-editor-foreground);\n    margin: 0;\n}\nvideo::-webkit-media-controls {\n  display: none;\n}\n</style>"
      }
     },
     "3e4f060f279946749ae3ca1dd7f630fa": {
      "model_module": "@jupyter-widgets/controls",
      "model_module_version": "2.0.0",
      "model_name": "LabelStyleModel",
      "state": {
       "description_width": "",
       "font_family": null,
       "font_size": null,
       "font_style": null,
       "font_variant": null,
       "font_weight": null,
       "text_color": null,
       "text_decoration": null
      }
     },
     "53fdf009461c4e7fbef35b9fa960b109": {
      "model_module": "@jupyter-widgets/controls",
      "model_module_version": "2.0.0",
      "model_name": "HTMLStyleModel",
      "state": {
       "description_width": "",
       "font_size": null,
       "text_color": null
      }
     },
     "6073df35fbfb432cb44730e175bd9d5f": {
      "buffers": [
       {
        "data": "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",
        "encoding": "base64",
        "path": [
         "value"
        ]
       }
      ],
      "model_module": "@jupyter-widgets/controls",
      "model_module_version": "2.0.0",
      "model_name": "ImageModel",
      "state": {
       "layout": "IPY_MODEL_ec540b7cad3644d98c1977daf5a50adc"
      }
     },
     "62e8d363c6c94e1ea7cdef6a8ce34884": {
      "model_module": "@jupyter-widgets/base",
      "model_module_version": "2.0.0",
      "model_name": "LayoutModel",
      "state": {}
     },
     "65eabfd8f7b24201adfac5e7ec773ff4": {
      "model_module": "@jupyter-widgets/controls",
      "model_module_version": "2.0.0",
      "model_name": "HTMLStyleModel",
      "state": {
       "description_width": "",
       "font_size": null,
       "text_color": null
      }
     },
     "9d6fe82351394d13aa007b706d528256": {
      "model_module": "ipyevents",
      "model_module_version": "2.0.2",
      "model_name": "EventModel",
      "state": {
       "_supported_key_events": [
        "keydown",
        "keyup"
       ],
       "_supported_mouse_events": [
        "click",
        "auxclick",
        "dblclick",
        "mouseenter",
        "mouseleave",
        "mousedown",
        "mouseup",
        "mousemove",
        "wheel",
        "contextmenu",
        "dragstart",
        "drag",
        "dragend",
        "dragenter",
        "dragover",
        "dragleave",
        "drop"
       ],
       "_supported_touch_events": [
        "touchstart",
        "touchend",
        "touchmove",
        "touchcancel"
       ],
       "_view_module": "@jupyter-widgets/controls",
       "source": "IPY_MODEL_c095031664834877bbe6230aacd14aa1",
       "throttle_or_debounce": "",
       "watched_events": [
        "click",
        "keydown",
        "keyup",
        "mousemove"
       ],
       "xy_coordinate_system": ""
      }
     },
     "a2603cfb75fa431892c5af8741404ecc": {
      "model_module": "@jupyter-widgets/controls",
      "model_module_version": "2.0.0",
      "model_name": "HTMLModel",
      "state": {
       "layout": "IPY_MODEL_b1038bc247044477b4d12f5056d8d967",
       "style": "IPY_MODEL_65eabfd8f7b24201adfac5e7ec773ff4",
       "value": "<style>\n.cell-output-ipywidget-background {\n    background-color: transparent !important;\n}\n.jp-OutputArea-output {\n    background-color: transparent;\n}\npre {\n    color: var(--vscode-editor-foreground);\n    margin: 0;\n}\nvideo::-webkit-media-controls {\n  display: none;\n}\n</style>"
      }
     },
     "b1038bc247044477b4d12f5056d8d967": {
      "model_module": "@jupyter-widgets/base",
      "model_module_version": "2.0.0",
      "model_name": "LayoutModel",
      "state": {}
     },
     "b7cbacca8f54449fa84dac73d62e7c39": {
      "model_module": "@jupyter-widgets/controls",
      "model_module_version": "2.0.0",
      "model_name": "ButtonStyleModel",
      "state": {
       "font_family": null,
       "font_size": null,
       "font_style": null,
       "font_variant": null,
       "font_weight": null,
       "text_color": null,
       "text_decoration": null
      }
     },
     "b9b1dd2bb4324f7f8fd0ec7906f26824": {
      "model_module": "@jupyter-widgets/base",
      "model_module_version": "2.0.0",
      "model_name": "LayoutModel",
      "state": {}
     },
     "bc71eb43ebf44ab0a13c857a86ca4b9c": {
      "buffers": [
       {
        "data": "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",
        "encoding": "base64",
        "path": [
         "value"
        ]
       }
      ],
      "model_module": "@jupyter-widgets/controls",
      "model_module_version": "2.0.0",
      "model_name": "ImageModel",
      "state": {
       "layout": "IPY_MODEL_e14570fdf95d4279806eed7e117c1052"
      }
     },
     "c095031664834877bbe6230aacd14aa1": {
      "model_module": "jupyter-webrtc",
      "model_module_version": "~0.6.0",
      "model_name": "ImageStreamModel",
      "state": {
       "_view_count": 1,
       "image": "IPY_MODEL_bc71eb43ebf44ab0a13c857a86ca4b9c",
       "layout": "IPY_MODEL_b9b1dd2bb4324f7f8fd0ec7906f26824"
      }
     },
     "c6718b7b2a5847ff84a1abadfbb4a5f3": {
      "model_module": "@jupyter-widgets/controls",
      "model_module_version": "2.0.0",
      "model_name": "ButtonModel",
      "state": {
       "description": "Execute",
       "layout": "IPY_MODEL_f4abff03814e4de88e677bcc8dd1ebb4",
       "style": "IPY_MODEL_b7cbacca8f54449fa84dac73d62e7c39",
       "tooltip": null
      }
     },
     "e14570fdf95d4279806eed7e117c1052": {
      "model_module": "@jupyter-widgets/base",
      "model_module_version": "2.0.0",
      "model_name": "LayoutModel",
      "state": {}
     },
     "e1a7957390ca4717a86784401340eebb": {
      "model_module": "@jupyter-widgets/base",
      "model_module_version": "2.0.0",
      "model_name": "LayoutModel",
      "state": {}
     },
     "e6add4e4e93946bfaef583789b68ea42": {
      "model_module": "@jupyter-widgets/controls",
      "model_module_version": "2.0.0",
      "model_name": "HBoxModel",
      "state": {
       "children": [
        "IPY_MODEL_6073df35fbfb432cb44730e175bd9d5f",
        "IPY_MODEL_a2603cfb75fa431892c5af8741404ecc"
       ],
       "layout": "IPY_MODEL_e8f65dc943904d728c918caf02b91a20"
      }
     },
     "e7226966d99e4d4f820eb67f05696024": {
      "model_module": "@jupyter-widgets/controls",
      "model_module_version": "2.0.0",
      "model_name": "LabelModel",
      "state": {
       "layout": "IPY_MODEL_e1a7957390ca4717a86784401340eebb",
       "style": "IPY_MODEL_3e4f060f279946749ae3ca1dd7f630fa",
       "value": "reward: 0.0"
      }
     },
     "e7ae86ee368a47df98a21a3995571665": {
      "model_module": "@jupyter-widgets/base",
      "model_module_version": "2.0.0",
      "model_name": "LayoutModel",
      "state": {}
     },
     "e8f65dc943904d728c918caf02b91a20": {
      "model_module": "@jupyter-widgets/base",
      "model_module_version": "2.0.0",
      "model_name": "LayoutModel",
      "state": {}
     },
     "ec540b7cad3644d98c1977daf5a50adc": {
      "model_module": "@jupyter-widgets/base",
      "model_module_version": "2.0.0",
      "model_name": "LayoutModel",
      "state": {}
     },
     "f4abff03814e4de88e677bcc8dd1ebb4": {
      "model_module": "@jupyter-widgets/base",
      "model_module_version": "2.0.0",
      "model_name": "LayoutModel",
      "state": {}
     },
     "fef6d16322534d6ca9f0c3fe44ffedb9": {
      "model_module": "@jupyter-widgets/controls",
      "model_module_version": "2.0.0",
      "model_name": "HBoxModel",
      "state": {
       "children": [
        "IPY_MODEL_c095031664834877bbe6230aacd14aa1",
        "IPY_MODEL_1f7d177ec1214ff7afc4511e3162d870"
       ],
       "layout": "IPY_MODEL_e7ae86ee368a47df98a21a3995571665"
      }
     }
    },
    "version_major": 2,
    "version_minor": 0
   }
  }
 },
 "nbformat": 4,
 "nbformat_minor": 5
}
