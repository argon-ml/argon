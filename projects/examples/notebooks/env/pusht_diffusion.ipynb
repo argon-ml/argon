{
  "cells": [
    {
      "cell_type": "code",
      "source": [
        "!apt-get install python3.12-dev &> /dev/null\n",
        "!apt-get remove python3-blinker &> /dev/null\n",
        "!sudo update-alternatives --install /usr/bin/python3 python3 /usr/bin/python3.12 1 &> /dev/null\n",
        "!python3 -m pip install ipython ipython_genutils ipykernel jupyter_console prompt_toolkit httplib2 astor &> /dev/null\n",
        "!wget https://bootstrap.pypa.io/get-pip.py &> /dev/null\n",
        "!python get-pip.py &> /dev/null"
      ],
      "metadata": {
        "id": "JJZ1R00lYsnO"
      },
      "id": "JJZ1R00lYsnO",
      "execution_count": 10,
      "outputs": []
    },
    {
      "cell_type": "code",
      "source": [
        "!pip install git+https://github.com/pfrommerd/stanza.git"
      ],
      "metadata": {
        "id": "lApaxK33ZPhX"
      },
      "id": "lApaxK33ZPhX",
      "execution_count": null,
      "outputs": []
    },
    {
      "cell_type": "code",
      "execution_count": 12,
      "id": "6a9bc698-7b3d-4007-83f5-259992cb7ce9",
      "metadata": {
        "id": "6a9bc698-7b3d-4007-83f5-259992cb7ce9",
        "outputId": "624ba4f4-f104-4956-924a-532ba1627875",
        "colab": {
          "base_uri": "https://localhost:8080/",
          "height": 393
        }
      },
      "outputs": [
        {
          "output_type": "error",
          "ename": "ModuleNotFoundError",
          "evalue": "No module named 'stanza'",
          "traceback": [
            "\u001b[0;31m---------------------------------------------------------------------------\u001b[0m",
            "\u001b[0;31mModuleNotFoundError\u001b[0m                       Traceback (most recent call last)",
            "\u001b[0;32m<ipython-input-12-45f12c1e11bb>\u001b[0m in \u001b[0;36m<cell line: 1>\u001b[0;34m()\u001b[0m\n\u001b[0;32m----> 1\u001b[0;31m \u001b[0;32mfrom\u001b[0m \u001b[0mstanza\u001b[0m\u001b[0;34m.\u001b[0m\u001b[0mruntime\u001b[0m \u001b[0;32mimport\u001b[0m \u001b[0msetup\u001b[0m\u001b[0;34m\u001b[0m\u001b[0;34m\u001b[0m\u001b[0m\n\u001b[0m\u001b[1;32m      2\u001b[0m \u001b[0msetup\u001b[0m\u001b[0;34m(\u001b[0m\u001b[0;34m)\u001b[0m\u001b[0;34m\u001b[0m\u001b[0;34m\u001b[0m\u001b[0m\n\u001b[1;32m      3\u001b[0m \u001b[0;34m\u001b[0m\u001b[0m\n\u001b[1;32m      4\u001b[0m \u001b[0;32mfrom\u001b[0m \u001b[0mstanza\u001b[0m\u001b[0;34m.\u001b[0m\u001b[0mdata\u001b[0m\u001b[0;34m.\u001b[0m\u001b[0msequence\u001b[0m \u001b[0;32mimport\u001b[0m \u001b[0mSequenceData\u001b[0m\u001b[0;34m,\u001b[0m \u001b[0mChunk\u001b[0m\u001b[0;34m\u001b[0m\u001b[0;34m\u001b[0m\u001b[0m\n\u001b[1;32m      5\u001b[0m from stanza.env.mujoco.pusht import (\n",
            "\u001b[0;31mModuleNotFoundError\u001b[0m: No module named 'stanza'",
            "",
            "\u001b[0;31m---------------------------------------------------------------------------\u001b[0;32m\nNOTE: If your import is failing due to a missing package, you can\nmanually install dependencies using either !pip or !apt.\n\nTo view examples of installing some common dependencies, click the\n\"Open Examples\" button below.\n\u001b[0;31m---------------------------------------------------------------------------\u001b[0m\n"
          ],
          "errorDetails": {
            "actions": [
              {
                "action": "open_url",
                "actionText": "Open Examples",
                "url": "/notebooks/snippets/importing_libraries.ipynb"
              }
            ]
          }
        }
      ],
      "source": [
        "from stanza.runtime import setup\n",
        "setup()\n",
        "\n",
        "from stanza.data.sequence import SequenceData, Chunk\n",
        "from stanza.env.mujoco.pusht import (\n",
        "    PushTPosObs, PushTEnv,\n",
        "    PositionalControlTransform, PositionalObsTransform,\n",
        "    KeypointObsTransform, RelKeypointObsTransform\n",
        ")\n",
        "from stanza.env import ImageRender\n",
        "from stanza.env.transforms import ChainedTransform\n",
        "from stanza import canvas\n",
        "import stanza.env\n",
        "\n",
        "import jax\n",
        "import jax.numpy as jnp\n",
        "from jax.sharding import Mesh, NamedSharding, PartitionSpec\n",
        "\n",
        "from functools import partial"
      ]
    },
    {
      "cell_type": "code",
      "execution_count": null,
      "id": "787af2ad",
      "metadata": {
        "id": "787af2ad"
      },
      "outputs": [],
      "source": [
        "if len(jax.devices()) > 1:\n",
        "    render_mesh = Mesh(jax.devices()[:8], ('x',))\n",
        "    render_sharding = NamedSharding(render_mesh, PartitionSpec('x'))\n",
        "    data_mesh = Mesh(jax.devices()[:8], ('x',))\n",
        "    data_sharding = NamedSharding(data_mesh, PartitionSpec('x'))\n",
        "\n",
        "env = PushTEnv()\n",
        "env = stanza.env.create(\"mujoco/pusht/rel_keypoint\")\n",
        "\n",
        "def draw(action_chunk, weight, width, height):\n",
        "    T = action_chunk.shape[0]\n",
        "    colors = jnp.array((jnp.arange(T)/T, jnp.zeros(T), jnp.zeros(T), weight*jnp.ones(T))).T\n",
        "    circles = canvas.fill(\n",
        "        canvas.circle(action_chunk, 0.02*jnp.ones(T)),\n",
        "        color=colors\n",
        "    )\n",
        "    circles = canvas.stack_batch(circles)\n",
        "    circles = canvas.transform(circles,\n",
        "        translation=(1,-1),\n",
        "        scale=(width/2, -height/2)\n",
        "    )\n",
        "    return circles\n",
        "\n",
        "@partial(jax.jit, out_shardings=render_sharding, static_argnames=(\"width\",\"height\",))\n",
        "def render(state, action_chunks=None, weights=None, width=256, height=256):\n",
        "    image = env.render(state, ImageRender(width, height))\n",
        "    if action_chunks is not None and weights is not None:\n",
        "        circles = canvas.stack_batch(jax.vmap(draw, in_axes=(0,0,None,None))(action_chunks, weights, width, height))\n",
        "        #jax.debug.print(\"{s}\", s=circles)\n",
        "        return canvas.paint(image, circles)\n",
        "    return image"
      ]
    },
    {
      "cell_type": "code",
      "execution_count": null,
      "id": "b2cf8373-8cc9-4f62-87c4-98ed56b207f2",
      "metadata": {
        "id": "b2cf8373-8cc9-4f62-87c4-98ed56b207f2",
        "outputId": "c208bb96-8378-496c-d0f7-2581f4036642"
      },
      "outputs": [
        {
          "name": "stdout",
          "output_type": "stream",
          "text": [
            "Loading data...\n",
            "Loaded data (PushTKeypointRelObs(agent_block_pos=(22352, 1, 2), agent_block_end=(22352, 1, 2), rel_block_pos=(22352, 1, 2), rel_block_end=(22352, 1, 2)), (22352, 16, 2))\n"
          ]
        }
      ],
      "source": [
        "from stanza.datasets.env.pusht import load_chi_pusht_data\n",
        "print(\"Loading data...\")\n",
        "dataset = load_chi_pusht_data()\n",
        "\n",
        "obs_length = 1\n",
        "action_length = 16\n",
        "def map_elements(el):\n",
        "    return env.full_state(el.reduced_state)\n",
        "def map_chunks(chunk : Chunk):\n",
        "    state = chunk.elements\n",
        "    obs = jax.vmap(env.observe)(state)\n",
        "    obs = jax.tree_util.tree_map(lambda x: x[:obs_length], obs)\n",
        "    # use the future agent positions as the actions\n",
        "    actions = jax.vmap(lambda s: PushTEnv.observe(env, s))(state).agent_pos\n",
        "    # compute relative future agent positions\n",
        "    action = jax.tree_util.tree_map(lambda x, y: x[-action_length:] - y[obs_length-1], actions, actions)\n",
        "    #action = jax.tree_util.tree_map(lambda x: x[-action_length:], actions)\n",
        "    return obs, action\n",
        "data = dataset.map_elements(map_elements).cache().chunk(obs_length + action_length).map(map_chunks).as_pytree()\n",
        "data_len = (data[1].shape[0]//8)*8    # truncate length of data to multiple of 8 for sharding\n",
        "data = jax.tree_util.tree_map(lambda x: x[:data_len], data)\n",
        "data = jax.device_put(data, data_sharding)\n",
        "#jax.debug.visualize_array_sharding(data[1][:,:,0])\n",
        "#jax.debug.visualize_array_sharding(data[1][:,:,1])\n",
        "#jax.debug.visualize_array_sharding(data[1][210])\n",
        "\n",
        "sample_chunk = jax.tree_util.tree_map(lambda x: x[0], data)\n",
        "\n",
        "print(\"Loaded data\", jax.tree_util.tree_map(lambda x: x.shape, data))"
      ]
    },
    {
      "cell_type": "code",
      "execution_count": null,
      "id": "b342d5d3-311d-4ea6-a4b0-e2fbadf3bdff",
      "metadata": {
        "id": "b342d5d3-311d-4ea6-a4b0-e2fbadf3bdff"
      },
      "outputs": [],
      "source": [
        "from stanza.diffusion import DDPMSchedule, nonparametric\n",
        "from stanza.policy import PolicyInput, PolicyOutput\n",
        "from stanza.policy.transforms import ChunkingTransform\n",
        "from jax.random import PRNGKey\n",
        "\n",
        "schedule = DDPMSchedule.make_squaredcos_cap_v2(16, prediction_type=\"sample\")\n",
        "\n",
        "@jax.jit\n",
        "def chunk_policy(input: PolicyInput) -> PolicyOutput:\n",
        "    agent_pos = PushTEnv.observe(env, input.state).agent_pos\n",
        "    obs = input.observation\n",
        "    #estimator = nonparametric.nw_local_poly_closed(data, schedule, 1, 0.001)\n",
        "    #estimator = nonparametric.nw_local_poly(PRNGKey(42), data, schedule, 0,\n",
        "    #                          nonparametric.log_gaussian_kernel, nonparametric.log_gaussian_kernel,\n",
        "    #                          0.01, 0.001, 128)\n",
        "    #diffuser = nonparametric.nw_diffuser(obs, estimator)\n",
        "    diffuser = nonparametric.nw_cond_diffuser(obs, data, schedule, nonparametric.log_gaussian_kernel, 0.01)\n",
        "    #diffuser = nonparametric.closest_diffuser(obs, data)\n",
        "    action = schedule.sample(input.rng_key, diffuser, sample_chunk[1]) + agent_pos\n",
        "    return PolicyOutput(action)\n",
        "transform = ChunkingTransform(obs_length, action_length)\n",
        "policy = transform.apply(chunk_policy)"
      ]
    },
    {
      "cell_type": "code",
      "execution_count": null,
      "id": "8e4bcc14",
      "metadata": {
        "id": "8e4bcc14",
        "outputId": "4ea1ecba-e588-4897-8d4c-468fb302e699",
        "colab": {
          "referenced_widgets": [
            "85d58814b46e4586a415b4765b97e676"
          ]
        }
      },
      "outputs": [
        {
          "data": {
            "application/vnd.jupyter.widget-view+json": {
              "model_id": "85d58814b46e4586a415b4765b97e676",
              "version_major": 2,
              "version_minor": 0
            },
            "text/plain": [
              "HBox(children=(Image(value=b'\\x89PNG\\r\\n\\x1a\\n\\x00\\x00\\x00\\rIHDR\\x00\\x00\\x01\\x00\\x00\\x00\\x01\\x00\\x08\\x06\\x00\\x…"
            ]
          },
          "execution_count": 5,
          "metadata": {},
          "output_type": "execute_result"
        }
      ],
      "source": [
        "from stanza.util.ipython import as_image, as_video\n",
        "\n",
        "state = env.reset(jax.random.key(0))\n",
        "state_batch = jax.tree_util.tree_map(\n",
        "    lambda x: jnp.repeat(x[None], obs_length, 0),\n",
        "    state\n",
        ")\n",
        "output = chunk_policy(PolicyInput(\n",
        "    jax.vmap(env.observe)(state_batch),\n",
        "    state,\n",
        "    rng_key=jax.random.key(42))\n",
        ").action\n",
        "as_image(render(state, output[None,...], jnp.ones((1,))))"
      ]
    },
    {
      "cell_type": "code",
      "execution_count": null,
      "id": "fd3a28b8-baa9-409c-8fc6-468015f27d03",
      "metadata": {
        "id": "fd3a28b8-baa9-409c-8fc6-468015f27d03",
        "outputId": "f79c7742-3627-4803-fccc-b9f1a9059535",
        "colab": {
          "referenced_widgets": [
            "0086355216f64500ba8f71cc62be3aed"
          ]
        }
      },
      "outputs": [
        {
          "data": {
            "application/vnd.jupyter.widget-view+json": {
              "model_id": "0086355216f64500ba8f71cc62be3aed",
              "version_major": 2,
              "version_minor": 0
            },
            "text/plain": [
              "HBox(children=(Video(value=b'\\x00\\x00\\x00 ftypisom\\x00\\x00\\x02\\x00isomiso2avc1mp41\\x00\\x00\\x00\\x08free...'), H…"
            ]
          },
          "execution_count": 6,
          "metadata": {},
          "output_type": "execute_result"
        }
      ],
      "source": [
        "import stanza.policy\n",
        "from stanza import canvas\n",
        "\n",
        "#@partial(jax.jit, out_shardings=render_sharding)\n",
        "def batch_policy(obs, state, rng_key):\n",
        "    keys = jax.random.split(rng_key, 8)\n",
        "    return jax.vmap(chunk_policy, in_axes=(PolicyInput(None, None, rng_key=0),))(\n",
        "        PolicyInput(obs, state, rng_key=keys)\n",
        "    ).action\n",
        "\n",
        "def roll_video(rng_key):\n",
        "    #transform = ChunkingTransform(obs_length, action_length)\n",
        "    #policy = transform.apply(chunk_policy)\n",
        "    r = stanza.policy.rollout(env.step, state, policy, policy_rng_key=rng_key, observe=env.observe, length=10)\n",
        "    def render_frame(state, width, height):\n",
        "        #state = jax.tree_util.tree_map(lambda x: x[-1], state_batch)\n",
        "        obs = env.observe(state)\n",
        "        action_chunks = batch_policy(\n",
        "            obs,\n",
        "            state,\n",
        "            rng_key=jax.random.key(42)\n",
        "        )\n",
        "        weights = (0.2*jnp.ones(action_chunks.shape[0])).at[0].set(1)\n",
        "        return render(state, action_chunks, weights, width, height)\n",
        "    return jax.vmap(lambda x: render_frame(x, 128, 128))(r.states)\n",
        "\n",
        "@jax.jit\n",
        "def generate_video(rng_key):\n",
        "    keys = jax.random.split(rng_key, 4)\n",
        "    videos = jax.vmap(roll_video)(keys)\n",
        "    video = jax.vmap(\n",
        "        lambda x: stanza.canvas.image_grid(x),\n",
        "        in_axes=1, out_axes=0\n",
        "    )(videos)\n",
        "    return video\n",
        "as_video(generate_video(jax.random.key(42)))"
      ]
    },
    {
      "cell_type": "code",
      "execution_count": null,
      "id": "305765c2-5f67-4ca2-95a3-ef21a82261f6",
      "metadata": {
        "id": "305765c2-5f67-4ca2-95a3-ef21a82261f6"
      },
      "outputs": [],
      "source": [
        "#%timeit chunk_policy(PolicyInput(jax.vmap(env.observe)(state_batch), rng_key=jax.random.key(42))).action"
      ]
    },
    {
      "cell_type": "code",
      "execution_count": null,
      "id": "c23a0c5b",
      "metadata": {
        "id": "c23a0c5b",
        "outputId": "226df12c-eaa6-4cd2-e6e9-79f648d70a4d",
        "colab": {
          "referenced_widgets": [
            "a1e751b1f70b496694f40c981a099515",
            "f9f859796db54d8780ef3e8df5667dc1",
            "d1fae4f91c3842edadc4ad8d0ae78d1b"
          ]
        }
      },
      "outputs": [
        {
          "data": {
            "application/vnd.jupyter.widget-view+json": {
              "model_id": "a1e751b1f70b496694f40c981a099515",
              "version_major": 2,
              "version_minor": 0
            },
            "text/plain": [
              "Label(value='Hello world')"
            ]
          },
          "metadata": {},
          "output_type": "display_data"
        },
        {
          "data": {
            "application/vnd.jupyter.widget-view+json": {
              "model_id": "f9f859796db54d8780ef3e8df5667dc1",
              "version_major": 2,
              "version_minor": 0
            },
            "text/plain": [
              "HBox(children=(ImageStream(image=Image(value=b'\\x89PNG\\r\\n\\x1a\\n\\x00\\x00\\x00\\rIHDR\\x00\\x00\\x01\\x00\\x00\\x00\\x01…"
            ]
          },
          "metadata": {},
          "output_type": "display_data"
        },
        {
          "data": {
            "application/vnd.jupyter.widget-view+json": {
              "model_id": "d1fae4f91c3842edadc4ad8d0ae78d1b",
              "version_major": 2,
              "version_minor": 0
            },
            "text/plain": [
              "Button(description='Stop', style=ButtonStyle())"
            ]
          },
          "metadata": {},
          "output_type": "display_data"
        }
      ],
      "source": [
        "from stanza.policy.ipython import StreamingInterface\n",
        "from threading import Thread\n",
        "from ipywidgets import Label, Button\n",
        "import time\n",
        "\n",
        "\n",
        "executing = True\n",
        "action_queue = []\n",
        "\n",
        "label = Label(value=\"Hello world\")\n",
        "\n",
        "button = Button(description=\"Stop\")\n",
        "def button_click(_):\n",
        "    global executing, action_queue\n",
        "    if executing:\n",
        "        button.description = \"Execute\"\n",
        "        executing = False\n",
        "    else:\n",
        "        button.description = \"Stop\"\n",
        "        executing = True\n",
        "        action_queue = []\n",
        "button.on_click(button_click)\n",
        "\n",
        "interactive = StreamingInterface(256, 256)\n",
        "def loop():\n",
        "    state = env.reset(jax.random.key(42))\n",
        "    #state = dataset[0][0].state\n",
        "    state_batch = jax.tree_util.tree_map(\n",
        "        lambda x: jnp.repeat(x[None], obs_length, 0),\n",
        "        state\n",
        "    )\n",
        "    key = jax.random.key(43)\n",
        "    frame = 0\n",
        "\n",
        "    action_chunks = None\n",
        "    weights = None\n",
        "    iterations = 0\n",
        "    while True:\n",
        "        t = time.time()\n",
        "        key, r = jax.random.split(key)\n",
        "        if executing and len(action_queue) > 0:\n",
        "            action = action_queue.pop(0)\n",
        "        else:\n",
        "            action = interactive.mouse_pos()\n",
        "\n",
        "        prev_state = state\n",
        "        state = env.step(state, action)\n",
        "        reward = env.reward(prev_state, action, state)\n",
        "        label.value = f\"reward: {reward} {iterations}\"\n",
        "        state_batch = jax.tree_util.tree_map(\n",
        "            lambda x, s: jnp.roll(x, -1).at[-1].set(s),\n",
        "            state_batch, state\n",
        "        )\n",
        "        obs = jax.vmap(env.observe)(state_batch)\n",
        "\n",
        "        if executing and len(action_queue) == 0:\n",
        "            action_chunks = batch_policy(obs, state, r)\n",
        "            weights = (0.2*jnp.ones(action_chunks.shape[0])).at[0].set(1)\n",
        "            for a in action_chunks[0]:\n",
        "                action_queue.append(a)\n",
        "                #action_queue.append(a)\n",
        "                #action_queue.append(a)\n",
        "            iterations = iterations + action_length\n",
        "        elif not executing and frame % 30 == 0: # re-sample actions every 30 frames\n",
        "            action_chunks = batch_policy(obs, state, r)\n",
        "            weights = jnp.ones(action_chunks.shape[0])\n",
        "        image = render(state, action_chunks, weights)\n",
        "\n",
        "        interactive.update(image)\n",
        "        elapsed = time.time() - t\n",
        "        time.sleep(max(0, 1/30 - elapsed))\n",
        "        frame = frame + 1\n",
        "\n",
        "t = Thread(target=loop, daemon=True)\n",
        "t.start()\n",
        "t.__del__ = lambda: t.stop()\n",
        "display(label)\n",
        "display(interactive)\n",
        "display(button)"
      ]
    },
    {
      "cell_type": "code",
      "execution_count": null,
      "id": "9634ab6d-f321-4195-acb5-a6398bacbf50",
      "metadata": {
        "id": "9634ab6d-f321-4195-acb5-a6398bacbf50"
      },
      "outputs": [],
      "source": []
    }
  ],
  "metadata": {
    "kernelspec": {
      "display_name": "Python 3 (ipykernel)",
      "language": "python",
      "name": "python3"
    },
    "language_info": {
      "codemirror_mode": {
        "name": "ipython",
        "version": 3
      },
      "file_extension": ".py",
      "mimetype": "text/x-python",
      "name": "python",
      "nbconvert_exporter": "python",
      "pygments_lexer": "ipython3",
      "version": "3.12.3"
    },
    "widgets": {
      "application/vnd.jupyter.widget-state+json": {}
    },
    "colab": {
      "provenance": []
    }
  },
  "nbformat": 4,
  "nbformat_minor": 5
}