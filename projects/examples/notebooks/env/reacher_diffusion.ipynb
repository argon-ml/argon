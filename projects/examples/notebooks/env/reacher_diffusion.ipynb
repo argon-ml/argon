{
 "cells": [
  {
   "cell_type": "code",
   "execution_count": 1,
   "id": "6a9bc698-7b3d-4007-83f5-259992cb7ce9",
   "metadata": {},
   "outputs": [],
   "source": [
    "from stanza.runtime import setup\n",
    "setup()\n",
    "\n",
    "from stanza.data.sequence import SequenceData, Chunk\n",
    "from stanza.env.mujoco.reacher import ReacherPosObs, ReacherEnv, PositionalControlTransform, PositionalObsTransform\n",
    "from stanza.env import ImageRender\n",
    "from stanza import canvas\n",
    "from stanza.policy.transforms import Transform, ChainedTransform\n",
    "\n",
    "import jax\n",
    "import jax.numpy as jnp\n",
    "from jax.sharding import Mesh, NamedSharding, PartitionSpec\n",
    "\n",
    "from functools import partial"
   ]
  },
  {
   "cell_type": "code",
   "execution_count": 2,
   "id": "787af2ad",
   "metadata": {},
   "outputs": [],
   "source": [
    "if len(jax.devices()) > 1:\n",
    "    render_mesh = Mesh(jax.devices()[:8], ('x',))\n",
    "    render_sharding = NamedSharding(render_mesh, PartitionSpec('x'))\n",
    "    data_mesh = Mesh(jax.devices()[:8], ('x',))\n",
    "    data_sharding = NamedSharding(data_mesh, PartitionSpec('x'))\n",
    "\n",
    "env = ReacherEnv()\n",
    "env = ChainedTransform([\n",
    "    PositionalControlTransform(),\n",
    "    PositionalObsTransform()\n",
    "]).transform_env(env)\n",
    "\n",
    "def draw(action_chunk):\n",
    "    T = action_chunk.shape[0]\n",
    "    colors = jnp.array((jnp.arange(T)/T, jnp.zeros(T), jnp.zeros(T))).T\n",
    "    circles = canvas.fill(\n",
    "        canvas.circle(action_chunk, 0.009*jnp.ones(T)),\n",
    "        color=colors\n",
    "    )\n",
    "    circles = canvas.stack_batch(circles)\n",
    "    circles = canvas.transform(circles,\n",
    "        translation=(0.25,-0.25),\n",
    "        scale=(512, -512)\n",
    "    )\n",
    "    return circles\n",
    "\n",
    "@partial(jax.jit, out_shardings=render_sharding)\n",
    "def render(state, action_chunks):\n",
    "    image = env.render(ImageRender(256, 256), state)\n",
    "    if action_chunks is not None:\n",
    "        circles = canvas.stack_batch(jax.vmap(draw)(action_chunks))\n",
    "        return canvas.paint(image, circles)\n",
    "    return image"
   ]
  },
  {
   "cell_type": "code",
   "execution_count": 3,
   "id": "b2cf8373-8cc9-4f62-87c4-98ed56b207f2",
   "metadata": {},
   "outputs": [
    {
     "name": "stdout",
     "output_type": "stream",
     "text": [
      "Loaded data (ReacherPosObs(fingertip_pos=(760, 1, 2), body0_pos=(760, 1, 2), body0_rot=(760, 1), body1_pos=(760, 1, 2), body1_rot=(760, 1)), (760, 6, 2))\n"
     ]
    }
   ],
   "source": [
    "data = SequenceData.load(\"reacher_data.pkl\")\n",
    "\n",
    "obs_length = 1\n",
    "action_length = 6\n",
    "def map_chunks(chunk : Chunk):\n",
    "    state, action = chunk.chunk\n",
    "    state = jax.vmap(env.observe)(state)\n",
    "    obs = jax.tree_util.tree_map(lambda x: x[:obs_length], state)\n",
    "    # use the future state positions as the actions\n",
    "    action = jax.tree_util.tree_map(lambda x: x[-action_length:], state.fingertip_pos)\n",
    "    # action = jax.tree_util.tree_map(lambda x: x[-action_length:], action)\n",
    "    return obs, action\n",
    "data = data.chunk(obs_length + action_length).map(map_chunks).as_pytree()\n",
    "data_len = (data[1].shape[0]//8)*8    # truncate length of data to multiple of 8 for sharding\n",
    "data = jax.tree_util.tree_map(lambda x: x[:data_len], data)\n",
    "data = jax.device_put(data, data_sharding)\n",
    "#jax.debug.visualize_array_sharding(data[1][:,:,0])\n",
    "#jax.debug.visualize_array_sharding(data[1][:,:,1])\n",
    "#jax.debug.visualize_array_sharding(data[1][210])\n",
    "\n",
    "sample_chunk = jax.tree_util.tree_map(lambda x: x[0], data)\n",
    "\n",
    "print(\"Loaded data\", jax.tree_util.tree_map(lambda x: x.shape, data))"
   ]
  },
  {
   "cell_type": "code",
   "execution_count": 4,
   "id": "b342d5d3-311d-4ea6-a4b0-e2fbadf3bdff",
   "metadata": {},
   "outputs": [],
   "source": [
    "from stanza.diffusion import DDPMSchedule, nonparametric\n",
    "from stanza.policy import PolicyInput, PolicyOutput\n",
    "from stanza.policy.transforms import ChunkTransform\n",
    "from jax.random import PRNGKey\n",
    "\n",
    "schedule = DDPMSchedule.make_squaredcos_cap_v2(16, prediction_type=\"sample\")\n",
    "\n",
    "@jax.jit\n",
    "def chunk_policy(input: PolicyInput) -> PolicyOutput:\n",
    "    obs = input.observation\n",
    "    #estimator = nonparametric.nw_local_poly_closed(data, schedule, 1, 0.04)\n",
    "    estimator = nonparametric.nw_local_poly(PRNGKey(42), data, schedule, 1, \n",
    "                              nonparametric.log_gaussian_kernel, nonparametric.log_gaussian_kernel, \n",
    "                              0.1, 0.1, 64)\n",
    "    diffuser = nonparametric.nw_diffuser(obs, estimator)\n",
    "    #diffuser = nonparametric.nw_cond_diffuser(obs, data, schedule, nonparametric.log_gaussian_kernel, 0.5)\n",
    "    #diffuser = nonparametric.closest_diffuser(obs, data)\n",
    "    action = schedule.sample(input.rng_key, diffuser, sample_chunk[1])\n",
    "    return PolicyOutput(action)\n",
    "transform = ChunkTransform(obs_length, action_length)\n",
    "policy = transform.transform_policy(chunk_policy)"
   ]
  },
  {
   "cell_type": "code",
   "execution_count": 5,
   "id": "8e4bcc14",
   "metadata": {},
   "outputs": [
    {
     "name": "stdout",
     "output_type": "stream",
     "text": [
      "ReacherState(q=Array([ 0.35943913, -2.4795399 ,  0.1       , -0.1       ], dtype=float32), qd=Array([0., 0., 0., 0.], dtype=float32)) [[ 2.52637733e-02 -7.85992295e-02]\n",
      " [ 1.64892953e-02 -8.37052166e-02]\n",
      " [ 9.52803995e-03 -8.84022638e-02]\n",
      " [ 3.90637014e-03 -9.26109776e-02]\n",
      " [ 9.42464831e-05 -9.66746286e-02]\n",
      " [-1.71170046e-03 -1.00243635e-01]]\n",
      "(256, 256, 4)\n"
     ]
    },
    {
     "data": {
      "application/vnd.jupyter.widget-view+json": {
       "model_id": "81bddd3da52d41e49f31d0b376bcb20f",
       "version_major": 2,
       "version_minor": 0
      },
      "text/plain": [
       "HBox(children=(Image(value=b'\\x89PNG\\r\\n\\x1a\\n\\x00\\x00\\x00\\rIHDR\\x00\\x00\\x01\\x00\\x00\\x00\\x01\\x00\\x08\\x06\\x00\\x…"
      ]
     },
     "execution_count": 5,
     "metadata": {},
     "output_type": "execute_result"
    }
   ],
   "source": [
    "from stanza.util.ipython import as_image\n",
    "\n",
    "state = env.reset(jax.random.key(0))\n",
    "state_batch = jax.tree_util.tree_map(\n",
    "    lambda x: jnp.repeat(x[None], obs_length, 0), \n",
    "    state\n",
    ")\n",
    "output = chunk_policy(PolicyInput(\n",
    "    jax.vmap(env.observe)(state_batch),\n",
    "    rng_key=jax.random.key(42))\n",
    ").action \n",
    "print(state, output)\n",
    "\n",
    "as_image(render(state, output[None,...]))"
   ]
  },
  {
   "cell_type": "code",
   "execution_count": 6,
   "id": "305765c2-5f67-4ca2-95a3-ef21a82261f6",
   "metadata": {},
   "outputs": [],
   "source": [
    "#%timeit chunk_policy(PolicyInput(jax.vmap(env.observe)(state_batch), rng_key=jax.random.key(42))).action "
   ]
  },
  {
   "cell_type": "code",
   "execution_count": 7,
   "id": "c23a0c5b",
   "metadata": {},
   "outputs": [
    {
     "data": {
      "application/vnd.jupyter.widget-view+json": {
       "model_id": "5050b419c35a42faba68aa04ddb67bd3",
       "version_major": 2,
       "version_minor": 0
      },
      "text/plain": [
       "Label(value='Hello world')"
      ]
     },
     "metadata": {},
     "output_type": "display_data"
    },
    {
     "data": {
      "application/vnd.jupyter.widget-view+json": {
       "model_id": "4d78cec61f0141709b161b3d093c0f0d",
       "version_major": 2,
       "version_minor": 0
      },
      "text/plain": [
       "HBox(children=(ImageStream(image=Image(value=b'\\x89PNG\\r\\n\\x1a\\n\\x00\\x00\\x00\\rIHDR\\x00\\x00\\x01\\x00\\x00\\x00\\x01…"
      ]
     },
     "metadata": {},
     "output_type": "display_data"
    }
   ],
   "source": [
    "from stanza.policy.ipython import StreamingInterface\n",
    "from threading import Thread\n",
    "from ipywidgets import Label\n",
    "import time\n",
    "\n",
    "\n",
    "@partial(jax.jit, out_shardings=render_sharding)\n",
    "def batch_policy(obs, rng_key):\n",
    "    keys = jax.random.split(rng_key, 8)\n",
    "    return jax.vmap(chunk_policy, in_axes=(PolicyInput(None, rng_key=0),))(\n",
    "        PolicyInput(obs, rng_key=keys)\n",
    "    ).action\n",
    "\n",
    "label = Label(value=\"Hello world\")\n",
    "interactive = StreamingInterface(256, 256)\n",
    "def loop():\n",
    "    state = env.reset(jax.random.key(42))\n",
    "    state_batch = jax.tree_util.tree_map(\n",
    "        lambda x: jnp.repeat(x[None], obs_length, 0), \n",
    "        state\n",
    "    )\n",
    "    key = jax.random.key(42)\n",
    "    while True:\n",
    "        t = time.time()\n",
    "        key, r = jax.random.split(key)\n",
    "        action = interactive.mouse_pos()\n",
    "        prev_state = state\n",
    "        state = env.step(state, action)\n",
    "        reward = env.reward(prev_state, action, state)\n",
    "        label.value = f\"reward: {reward}\"\n",
    "        state_batch = jax.tree_util.tree_map(\n",
    "            lambda x, s: jnp.roll(x, -1).at[-1].set(s),\n",
    "            state_batch, state\n",
    "        )\n",
    "        obs = jax.vmap(env.observe)(state_batch)\n",
    "        output = batch_policy(obs, jax.random.key(42))\n",
    "        output = jax.tree_util.tree_map(lambda x: x[:1], output)\n",
    "        image = render(state, output)\n",
    "        interactive.update(image)\n",
    "        elapsed = time.time() - t\n",
    "        time.sleep(max(0, 1/30 - elapsed))\n",
    "t = Thread(target=loop, daemon=True)\n",
    "t.start()\n",
    "t.__del__ = lambda: t.stop()\n",
    "display(label)\n",
    "interactive"
   ]
  },
  {
   "cell_type": "code",
   "execution_count": null,
   "id": "f40a4ea7-8f58-4ac0-9057-4938c8aad272",
   "metadata": {},
   "outputs": [],
   "source": []
  },
  {
   "cell_type": "code",
   "execution_count": null,
   "id": "12a6e36f-4a73-43c6-ab96-561abdb25fa8",
   "metadata": {},
   "outputs": [],
   "source": []
  }
 ],
 "metadata": {
  "kernelspec": {
   "display_name": "Python 3 (ipykernel)",
   "language": "python",
   "name": "python3"
  },
  "language_info": {
   "codemirror_mode": {
    "name": "ipython",
    "version": 3
   },
   "file_extension": ".py",
   "mimetype": "text/x-python",
   "name": "python",
   "nbconvert_exporter": "python",
   "pygments_lexer": "ipython3",
   "version": "3.12.3"
  },
  "widgets": {
   "application/vnd.jupyter.widget-state+json": {
    "state": {
     "13e4f15624a84747af2d851ddb260275": {
      "model_module": "@jupyter-widgets/controls",
      "model_module_version": "2.0.0",
      "model_name": "HTMLModel",
      "state": {
       "layout": "IPY_MODEL_761b3d1cbe5844958425c9e41ae84a58",
       "style": "IPY_MODEL_5110e701e37342ab8145cf1906f48d33",
       "value": "<style>\n.cell-output-ipywidget-background {\n    background-color: transparent !important;\n}\n.jp-OutputArea-output {\n    background-color: transparent;\n}\npre {\n    color: var(--vscode-editor-foreground);\n    margin: 0;\n}\nvideo::-webkit-media-controls {\n  display: none;\n}\n</style>"
      }
     },
     "14d462a59c0d4a108f76077b4804d499": {
      "model_module": "@jupyter-widgets/base",
      "model_module_version": "2.0.0",
      "model_name": "LayoutModel",
      "state": {}
     },
     "22785e5d2aa24acd81ba6083f62cbba0": {
      "buffers": [
       {
        "data": "iVBORw0KGgoAAAANSUhEUgAAAQAAAAEACAYAAABccqhmAAAMyElEQVR4nO3da3BU5RnA8Wc3MUSUkIAhCY0EpBhHhpZxGHVGZLwEKKWFoUoAW6GO1oh8sDNOW5HxkwNjFbXaySgUb7VtRISiMkhpFaooRKqFUkFTIQSLEYKIm+vm2g/pmt1kr+e++/x/M34g5JzzMuP733fPnj3HFwgE+gSASn63BwDAPQQAUIwAAIoRAEAxAgAoRgAAxQgAoBgBABQjAIBiBABQjAAAihEAQDECAChGAADFCACgGAEAFCMAgGIEAFCMAACKEQBAMQIAKEYAAMUIAKAYAQAUIwCAYgQAUIwAAIoRAEAxAgAoRgAAxQgAoBgBABQjAIBiBABQjAAAihEAQDECAChGAADFCACgGAEAFCMAgGIEAFCMAACKEQBAMQIAKEYAAMUIAKAYAQAUIwCAYgQAUIwAAIoRAEAxAgAoRgAAxQgAoBgBABQjAIBiBABQjAAAihEAQDECAChGAADFCACgGAEAFCMAgGIEAFCMAACKEQBAMQIAKEYAAMUIAKAYAQAUIwCAYgQAUIwAAIoRAEAxAgAoRgAAxQgAoBgBABQjAIBiBABQjAAAihEAQDECAChGAADFCACgGAEAFCMAgGIEAFCMAACKEQBAMQIAKEYAAMUIAKAYAQAUIwCAYgQAUIwAAIoRAEAxAgAoRgAAxQgAoBgBABQjAIBiBABQjAAAihEAQDECAChGAADFCACgGAEAFCMAgGIEAFCMAACKEQBAMQIAKEYAAMUIAKAYAQAUIwCAYgQAUIwAAIoRAEAxAgAoRgAAxQgAoBgBABQjAIBiBABQjAAAihEAQDECAChGAADFCACgGAHAEG0dQTn0Sb3bw4ADst0eALzlsWe3SHt7UEREppRPcHk0sJsvEAj0uT0IuO9fH9fL62/ui/jZBcNz5ee3LXBpRHACKwDlOoKd8uiGzVH/rrWtQ9o7gnJ+7jCHRwWnsALwuODevXJq9mwRERl37pyI37rTNk++sFWaW9oT/t6qFUssOya8hZOAHta2efM3k19E5ER+viX7/eg/x2V1dU1Sk19E5OCRY5YcF97DCsDDTuTlDfnZmG3bJHfGDEP7C3Z2ydrfvWJoW1YBmYkVQJrxFxQY3va1QSf5UrF2g7FwwNsIgIeNPXhwyM9ypkwxvL+Fc641vG0w2CVt//94EJmDAHhY9oQJcvHp05JbUSGjHn9cxgUCpve57KYKw9s+/uwW08eHt/AxoMf5cnNlzBbrJl5pcaGp7T/86FO5YvK3LRoN3MYKQKGVyxcZ3vaN3fstHAncRgDSSHlduTR0Npjej9/vl8snjTO8/UNPbzQ9BngDAUgT5XXlIiIy6/gsSyKwYNY1hrft6emV1rYO02OA+whAGghN/hCrInDbzbMMb/ub5/5s+vhwHwHwuMGTP8SKCIwtGm1q+/2H6kxtD/cRAA+LNflDrIjAyuWLDW+78+0PTB0b7iMAHpVo8oeYjYDf75Mplxn/3v/q6hrD28J9BMCDkp38IWYjMO/Gqw1vKyLS3Jrcl4rgPQTAY1Kd/CFmI3B75ezEvxTDk89vNbwt3EUAPMTo5A8xE4HiwlGmjl174GNT28MdBMAjzE7+kFnHjX+0d//dxk8I/u3dfxreFu4hAB5g1eQXEfnk0k8Mb+vz+WTq5ImGt+eEYPohAC7pPHtWduTlyY68PHliWqNccK7X9D7NTP6QudddaWr7QEub6TEM1tzaLs9u+ovl+wUBcM1b48dH/HlNxSlT+7Ni8ofcsWiO4W1/+8Krlo1DpH9V8eTzW6Xx9Fnp6uq2dN8gAK6rFPF98weDN2ezcvKLiBRdlG9q+/c+PGx6DPsP1Q15S/Hw+k2m94tIBMAF4e/5Xw6f9r5ovx2f1ZM/xMwJwV17h97JKFmtbR2yurom5lWGdfX/NbxvDEUAHBaa/A/sKIr4+QNvjEl5X3ZNfpH+E4LTpkwyvL2RE4IPPb0x4ZeMNm1/x+iQEAV3BXZQ1LP9feKpV/7BzJzZX7F0nuSPuCDh73340acp3WikcPRIuXPx9w2PCwNYATgk5kd9Hp78IiJ3LjE+0ap//1rcv29rD8rq6pqU7zLU9OXX0tnZZXhcGEAAHOCVz/mNKBw10tT27+z/d9Sfr93wiqmbjD5i8PkGiEQAbJbOkz/EzAnBt98/FPHng0eOyerqGgkGzb+CHzl6wvQ+tCMANsqEyS/Sf0LwqqnG/y2rq2ukvaN/ub/trVrLxrVlx7uW7UurtAlAS4tIRcVwycsb8c1/tbVZbg8rpkyZ/CEV11xhavvHnrHnmQJP/XGbLfvVIi0CkJ9/oYwdO0Lefz9yws+c2R+Edo99HT3TJn/IXbfMdXsIQ5w91yx9fXyQZZTnHwySlzci4e8UFY2QpqZmGeaBx9hbOflFRJq6m6Qw29zDPKwyumDow0rddMeiOaavWtTO0yuANWtykv7dwsLEobCb1ZNfRGT6senS1N1k+X6N8sJTgqdOniirVixh8lvA0xcCJfPqH+7w4RYpLXXnn2PH5A+355I9nlkJ7Np3UN77wPz1/kbcf/di8fkMXDyBqDy7Augw8NyJqqpc6weSBLsnv4i3VgLXX/1dx495e+VsWbViCZPfYp5dAdTV+WXatMSXkQ4WCDTbMJrYnJj84byyEjj7dbM89Qf7z8BPuWyC6ZuWIjbPngTMy0u9Sz6fsy0zMvl9vSK5X/VK+2hji6/px6a7HoGPj34mm3fssf04K5cvFr+fV3w7eTYAxcWpT+b16517Xp2Ryb/g1jNSeGTgCrgXdxZJ+6jUQ+BWBDq7uuURB76Tf9vNs0w/tQjJ8exbAJHUTwI6tfw3+sr/sysbh/x8/T9KDI/DyQhs2PiGnDpzztZjXD5pnKmHliJ1nl0BiIh89VWzFBQkF4EHHwzaPJp+4ZP/1NxT0nuq/15+JbUlInEuTMxpNn/Pv8GcWAnU1Z+UTdvftm3/ISuXLxK/37PnpDOWpwOQlSVy4ECrTJ0a/2TgzJndcs89nbaPJ3zyN06LfDVvvKpRSuK8mgdH2vM/t10R6OrqduQWXMtuqpDSYvdPamrl6bcAIX19IiNHRl8J7N/fKuXl1r+6DjZ42T84ACIiRbuKxD8i9kTPae6Vn14/cPPPpWePyvRj0y0Zn5UReG7zTvn8iy8t2Vcsl15SKgvnXGvrMZBYWgQgXE9P/385yV8kaFq09/zRAlCyryThmmrwtf1N3U2eicDRhs/lpW1/t2Qs8dy3fJFksdz3hLQLgNNinfDrOtwlZ5aeifhZvLcAIrG/2ON2BLq7e+TX61625Pjx3LrgRhk3NvV7H8I+BCCOhs6G+I/a6hXpeKdDcr6TI/6CyFe03Oda5PzqgU8l9gUCcY/lVgRe3PqmnDh52pLjxjKxrEQW/+A6W48BYwhAAgkjEIUv0Cv5N0Q+6GP+/PnSVFsrc++9V26sqoq6nZMRqP/sC/nTa7ssOVY8991VKVlZ3r1vg3YEIAmpRmD4g+dk2KsDNym4WEQGf5H2mRgrAicjYOez/H48/3oZX1ps2/5hDc7EJKEsp0x2jt+Z9O8Hb7kw4s/RvkXf8mX0s+yF2YWy5xJrLrNN9AWiyrkzLDlOuLLSIlm1YgmTP00QgCSlEoGeiYkvr+jujH3dglMRmDT+W5YcI+RXVZXyk/k3WLpP2Iu3AClK5u1A6Gx/X2+v9PT0yKtr1sj2Rx+N+J1YbwHCOfF2oKu7Wx5eZ+6Cn8U/vE4mjjN+STPcQwAMiBeBWB/1Hdm9W9bOmycXjh4tT9TXJ30sJyLw/Oa/yskvzkTZIr7Skotk2Y9mWjE0uIQAGBQtAnbdwNOJCKR6QvCXVQvlvGxPX0mOJBAAE8IjYPfde+2OwNETjfLS67sTbls5d4bl5w7gHgJgUkNng5TllDlyLLsjEG8VUDymQG5f+D1Ljg3vIABpxs4IxLok+Bd3LpSc81juZyI+Bkwzdn5EmJ2dJWWlA9fq3zznWlm1YgmTP4OxAkhTdq4E1tVslyoTjwVH+iAAacztbxEi/fEWII1Z+XaAya8TAUhzVkTASw8ghbMIQAYwEwEmv24EIEMYiQCTHwQgg6QSASY/RAhAxkkmAkx+hBCADBQvAkx+hCMAGSpaBJj8GIwAZLDwCDD5EQ1XAgKKsQIAFCMAgGIEAFCMAACKEQBAMQIAKEYAAMUIAKAYAQAUIwCAYgQAUIwAAIoRAEAxAgAoRgAAxQgAoBgBABQjAIBiBABQjAAAihEAQDECAChGAADFCACgGAEAFCMAgGIEAFCMAACKEQBAMQIAKEYAAMUIAKAYAQAUIwCAYgQAUIwAAIoRAEAxAgAoRgAAxQgAoBgBABQjAIBiBABQjAAAihEAQDECAChGAADFCACg2P8AnxmpEggGX/MAAAAASUVORK5CYII=",
        "encoding": "base64",
        "path": [
         "value"
        ]
       }
      ],
      "model_module": "@jupyter-widgets/controls",
      "model_module_version": "2.0.0",
      "model_name": "ImageModel",
      "state": {
       "layout": "IPY_MODEL_f15a3b8dd4164b0fb8d6ffc152001b51"
      }
     },
     "466f4a98e978493ea1e35e0e92bf8fef": {
      "model_module": "@jupyter-widgets/controls",
      "model_module_version": "2.0.0",
      "model_name": "HTMLModel",
      "state": {
       "layout": "IPY_MODEL_8229bb144a2442a3a5724317abe1f572",
       "style": "IPY_MODEL_9f165e1c86c24ed9a56d3b79ace0485d",
       "value": "<style>\n.cell-output-ipywidget-background {\n    background-color: transparent !important;\n}\n.jp-OutputArea-output {\n    background-color: transparent;\n}\npre {\n    color: var(--vscode-editor-foreground);\n    margin: 0;\n}\nvideo::-webkit-media-controls {\n  display: none;\n}\n</style>"
      }
     },
     "5110e701e37342ab8145cf1906f48d33": {
      "model_module": "@jupyter-widgets/controls",
      "model_module_version": "2.0.0",
      "model_name": "HTMLStyleModel",
      "state": {
       "description_width": "",
       "font_size": null,
       "text_color": null
      }
     },
     "5b3dea210f3842ac8ef1e3ef72c4c1ac": {
      "model_module": "@jupyter-widgets/base",
      "model_module_version": "2.0.0",
      "model_name": "LayoutModel",
      "state": {}
     },
     "647d1431a26247fcbe809bf204327363": {
      "model_module": "@jupyter-widgets/base",
      "model_module_version": "2.0.0",
      "model_name": "LayoutModel",
      "state": {}
     },
     "703d4ebbb4c445cbb906ca25b56f8769": {
      "model_module": "@jupyter-widgets/controls",
      "model_module_version": "2.0.0",
      "model_name": "HBoxModel",
      "state": {
       "children": [
        "IPY_MODEL_e3622d7ce9964dc8ab14e86bbf05914e",
        "IPY_MODEL_466f4a98e978493ea1e35e0e92bf8fef"
       ],
       "layout": "IPY_MODEL_aaf85bab66e94f04912c4b576561e1d3"
      }
     },
     "761b3d1cbe5844958425c9e41ae84a58": {
      "model_module": "@jupyter-widgets/base",
      "model_module_version": "2.0.0",
      "model_name": "LayoutModel",
      "state": {}
     },
     "8229bb144a2442a3a5724317abe1f572": {
      "model_module": "@jupyter-widgets/base",
      "model_module_version": "2.0.0",
      "model_name": "LayoutModel",
      "state": {}
     },
     "84c5f1c7377f414f9c16c276c52abc09": {
      "model_module": "@jupyter-widgets/base",
      "model_module_version": "2.0.0",
      "model_name": "LayoutModel",
      "state": {}
     },
     "895a3cf42f604ea8babd8232f4ec3c6a": {
      "model_module": "@jupyter-widgets/controls",
      "model_module_version": "2.0.0",
      "model_name": "HBoxModel",
      "state": {
       "children": [
        "IPY_MODEL_22785e5d2aa24acd81ba6083f62cbba0",
        "IPY_MODEL_13e4f15624a84747af2d851ddb260275"
       ],
       "layout": "IPY_MODEL_5b3dea210f3842ac8ef1e3ef72c4c1ac"
      }
     },
     "9f165e1c86c24ed9a56d3b79ace0485d": {
      "model_module": "@jupyter-widgets/controls",
      "model_module_version": "2.0.0",
      "model_name": "HTMLStyleModel",
      "state": {
       "description_width": "",
       "font_size": null,
       "text_color": null
      }
     },
     "aaf85bab66e94f04912c4b576561e1d3": {
      "model_module": "@jupyter-widgets/base",
      "model_module_version": "2.0.0",
      "model_name": "LayoutModel",
      "state": {}
     },
     "baee651c8d634827b63da9f1d03ed9e0": {
      "model_module": "ipyevents",
      "model_module_version": "2.0.2",
      "model_name": "EventModel",
      "state": {
       "_supported_key_events": [
        "keydown",
        "keyup"
       ],
       "_supported_mouse_events": [
        "click",
        "auxclick",
        "dblclick",
        "mouseenter",
        "mouseleave",
        "mousedown",
        "mouseup",
        "mousemove",
        "wheel",
        "contextmenu",
        "dragstart",
        "drag",
        "dragend",
        "dragenter",
        "dragover",
        "dragleave",
        "drop"
       ],
       "_supported_touch_events": [
        "touchstart",
        "touchend",
        "touchmove",
        "touchcancel"
       ],
       "_view_module": "@jupyter-widgets/controls",
       "source": "IPY_MODEL_e3622d7ce9964dc8ab14e86bbf05914e",
       "throttle_or_debounce": "",
       "watched_events": [
        "click",
        "keydown",
        "keyup",
        "mousemove"
       ],
       "xy_coordinate_system": ""
      }
     },
     "d310e23d5d2d41eebc585d7d74abf0bf": {
      "model_module": "@jupyter-widgets/controls",
      "model_module_version": "2.0.0",
      "model_name": "LabelModel",
      "state": {
       "layout": "IPY_MODEL_84c5f1c7377f414f9c16c276c52abc09",
       "style": "IPY_MODEL_f5b3a5cc48014543b8952719981a281e",
       "value": "reward: 0.3869432806968689"
      }
     },
     "d8702ccd82664a67a5c9ef52fcafdadf": {
      "buffers": [
       {
        "data": "iVBORw0KGgoAAAANSUhEUgAAAQAAAAEACAYAAABccqhmAAAKiklEQVR4nO3dfWxVdx3H8e9tLxRKe1tY28jzeGrBMcDCeHAFChkMKGyxY4USrQkMQerDnIQROpPGRKNZ4v7ajFmymOniwzBGk0lcIxoFdbglMHU8TJ4CLDpiRi8PhdpS/8Db4dp77zn3/Nrbez7v13/tPff0l5Dvm3POPffeSDwe7zEAkvKyvQAA2UMAAGEEABBGAABhBAAQRgAAYQQAEEYAAGEEABBGAABhBAAQRgAAYQQAEEYAAGEEABBGAABhBAAQRgAAYQQAEEYAAGEEABBGAABhBAAQRgAAYQQAEEYAAGEEABBGAABhBAAQRgAAYQQAEEYAAGEEABBGAABhBAAQRgAAYQQAEEYAAGEEABBGAABhBAAIoe5us927CywWK7ZYrNhqagrt0qVIn+0i8Xi8JwvrAzBAFi0qtOPH85M+3t5+1SL/awEBAEIkFiv2tF0iApwCACHx3HPDPW9bUnInFBwBACHh9X//hAsXrnEEAITBjRv+n7N3bwEBAMLg3Xf9j/IrrwwjAEAYFPs7+jczs9LSHq4BAGHh9xrASy91EAAgLPwGIB6/yikAEBbvvXfV87Z79twyM+4DAEKjqMjstdfSvxwwc2a3PfNMp5lxHwAQOjdvmlVU9H86cODADXvwwe7enwkAEGLt7RHr7DQrK+vpvf//btHBXxKAwVJSkvr/d64BAMIIACCMAADCCAAgjAAAwggAIIwAAMIIACCMAADCCAAgjAAAwggAIIwAAMIIACCMAADCCAAgjAAAwggAIIwAAMIIACCMAADCCAAgjAAAwggAIIwAAMIIACCMAADCCAAgjAAAwggAIIwAAMIIACCMAADCCAAgjAAAwggAIIwAAMIIACCMAADCCAAgjAAAwggAIIwAAMIIACCMAADCCAAgjAAAwggAIIwAAMIIACCMAADCCAAgjAAAwggAIIwAAMIIACCMAADCCAAgjAAAwggAIIwAAMIIACCMAADCCAAgjAAAwggAIIwAAMIIACCMAADCCAAgjAAAwggAIIwAAMIIACCMAADCCAAgjAAAwggAIIwAAMIIACCMAADCCAAgjAAAwggAIIwAAMIIACCMAADCCAAgjAAAwggAIIwAAMIIACCMAOSQqlNVdr7zfLaXgRAhADmi6lSVmZmtPreaCMAZApADEsOfQATgCgEY4j46/AlEAC4QgCEs2fAnEAEERQCGqHTDn0AEEAQBGIK8Dn8CEUCmCMAQ43f4E4gAMkEAhpBMhz+BCMCvSDwe78n2IhB8+O92svKks30h3DgCGAJcDP+jf2w2M4Yf/kSzvQB1QYf/nvg4q3vjc2ZmdrDksIslQQhHAFkUdPgXnljXO/xmZt/f32Y9PZzRwTuuAWRJ0OFv/O0+G9Y1vN/HWpobA+0bOjgCyIIgw194M2ZNba1Jh9/M7Pkf/DLj/UML1wAGWZDhn3Nmmc07vTLtdlfi1+3U2YtWOWVCxn8LGjgCGERBhv9Th7/kafgTXv3VH6yrqzvjvwcNBGCQZDr8ebfzrKmt1YpvjPH93G9/76cZ/U3o4CLgIMh0+GdcqrYl7zwS+O9zURDJcAQwwDId/jV/2epk+M3M3vzrKSf7QfgQgAGU6fA3tbVaxZVJztbx69+/ZR03bznbH8KDVwEGSCbDP/Fyla046v5w/bOPrbKRIwqc7xe5jwAMgEyGv/bYJpv0/izna9m3a7NFIhHn+0U4EADHMhn+prZW5+uIFRfaF5sedb5fhAsBcMjv8Je1j7d1R7Y7X8fGtTVWNXWi8/0ifAiAI36Hf9HxOqu6+IDzdezZ0WDDovnO94twIgAO+B3+LQdbLNo9zPk6eL0ffhGAgPwMf1FHqdUfetL5GlYvrbYH5rj7RCHoIAAB+Bn+uadrbe6ZWudr+MrWeiscyUt8yAwByJCf4a8/9KQVdZQ6XwOH/AiKOwEz4HX487uj1tTW6nz4/znmrL28qtUud112ul/o4c1APnkd/sqLC2zx8fXO//7h+35up8cd6/350NRDVh4td/53oIEA+OB1+NceecLK291/GMeRqgN2YtIbfX5PBJApTgE88jr8TW2tAzL8ZmYLT661YV19L/jVnKnhdAAZ4QjAAy/DP+n9WVZ7bNMgrMbs5VWt/f6eIwH4RQDS8DL8K45utomXZw7Cau64URC3/cu+0+9jRAB+cAqQgpfv2Wtqax3U4TczK7wVs0/8o//PB+R0AH4QgBQmD59sr9/7er+PlV+ZOCDv4vPq/rPLLJbkcwKJALziFMCD853nbfW51b0/L35ng1Vemp/FFX0o2fUAM04HkB4B8CgRgU//5muWd3vovNvuduS2/fChryd9nAggFU4BPJoQvXPI73r41yxfEOj5eT15KT88lNMBpEIAPLgSv2bf+u5PnO/3qW31Nn/2DPvqE48F2s+MS9VW8UHyDxElAkiGAHhQGiuyJdVuP6+vpbmx94M6RxQMt7qVCwPtb82bW1M+TgTQHwLg0col85zsZ0n1rH7fxTdv1jSzgJ/dme5VCSKAjyIAPgR9+23zZzakDEnLruBv7115dEvKx4kA7kYAfHpqW31Gz2tpbrTSWFHa7fbuDHY78YTLlTb5Xx9PuQ0RQAIB8GnkiAJfV+6rpk3wdeSQn59nmzfUZrCyDy1/uyHtNkQAZgQgI/Nnz/C03daGh23jmqW+9z9t0lirKCv1/by7eblLkQiAAGQo3f/q+3ZttrHl/r/SO2H7prUZPzfBy3cOEAFtBCCAp3f0PdQuGxOzluZGJ1/HtW/X5kDPL2sfb1UX0n/3ABHQRQACiEbz7fF1y3p/3rR+ue1orHO2/0gkYtsa1gTax6ITdZ6+g4DbhTURgIAqp4y30SVFtndng02fPM75/j9WPtpmTQ/2NV9bDrakfPxk5clA+0fu4s1AOeIbz/8o0POvj2i3ny19rs/vGX5tHAHkiKA3IY26WWLzTq/4v98x/CAAOeQLTcnf9efFnDPLrahjtJkx/LiDAOSQkuJR9sn5qe/yS6f+0JcZfvQiADlmxeK5gffx7IuvOlgJwoAA5KCg1wM6O7vsb6fOuVkMchoByFFBP0TkF21/ss7O/zhaDXIVAchRIwqG29ra9Hf5pfLsi/sdrQa5igDksOr7pgfeR9D7C5DbCECOC3o9wMzs8Ft/d7AS5CICEAJP70z//v9Ufvfnt+3a9Q5Hq0EuIQAhEM3Pt4a6Zek3TGLLIyusaNRIhytCrohmewFwY8a94+2e0cX27w+u+nre3s9vsvw8/h9Qxb98iOzcst7zttFonrU0NzL84ng3YMj09PTYN1/4ccptNjy02OZUTRmkFWEoI/8hE4lEbOvjDyd9fPf2jQw/ehGAEBpbMcYqp07o8/uW5kYrGJ7+04Ggg1OAEEvc5LN80f1Ws2B2lleDoYgAhNzV6x1WzEt8SIJTgJBj+JEKAQCEEQBAGAEAhBEAQBgBAIQRAEAYAQCEEQBAGAEAhBEAQBgBAIQRAEAYAQCEEQBAGAEAhBEAQBgBAIQRAEAYAQCEEQBAGAEAhBEAQBgBAIQRAEAYAQCEEQBAGAEAhBEAQBgBAIQRAEAYAQCEEQBAGAEAhBEAQBgBAIQRAEDYfwHrBVL9/GAaowAAAABJRU5ErkJggg==",
        "encoding": "base64",
        "path": [
         "value"
        ]
       }
      ],
      "model_module": "@jupyter-widgets/controls",
      "model_module_version": "2.0.0",
      "model_name": "ImageModel",
      "state": {
       "layout": "IPY_MODEL_14d462a59c0d4a108f76077b4804d499"
      }
     },
     "e3622d7ce9964dc8ab14e86bbf05914e": {
      "model_module": "jupyter-webrtc",
      "model_module_version": "~0.6.0",
      "model_name": "ImageStreamModel",
      "state": {
       "_view_count": 1,
       "image": "IPY_MODEL_d8702ccd82664a67a5c9ef52fcafdadf",
       "layout": "IPY_MODEL_647d1431a26247fcbe809bf204327363"
      }
     },
     "f15a3b8dd4164b0fb8d6ffc152001b51": {
      "model_module": "@jupyter-widgets/base",
      "model_module_version": "2.0.0",
      "model_name": "LayoutModel",
      "state": {}
     },
     "f5b3a5cc48014543b8952719981a281e": {
      "model_module": "@jupyter-widgets/controls",
      "model_module_version": "2.0.0",
      "model_name": "LabelStyleModel",
      "state": {
       "description_width": "",
       "font_family": null,
       "font_size": null,
       "font_style": null,
       "font_variant": null,
       "font_weight": null,
       "text_color": null,
       "text_decoration": null
      }
     }
    },
    "version_major": 2,
    "version_minor": 0
   }
  }
 },
 "nbformat": 4,
 "nbformat_minor": 5
}
