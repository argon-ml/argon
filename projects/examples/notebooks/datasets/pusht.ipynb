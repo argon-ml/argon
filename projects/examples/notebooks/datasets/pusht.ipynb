{
 "cells": [
  {
   "cell_type": "code",
   "execution_count": 1,
   "metadata": {},
   "outputs": [],
   "source": [
    "import stanza.datasets\n",
    "\n",
    "pusht_data = stanza.datasets.load(\n",
    "    \"env/pusht\"\n",
    ")"
   ]
  },
  {
   "cell_type": "code",
   "execution_count": 2,
   "metadata": {},
   "outputs": [
    {
     "name": "stdout",
     "output_type": "stream",
     "text": [
      "SequenceData(elements=<stanza.data.core.PyTreeData object at 0x2ad6bf260>, sequences=Mapped(data=<stanza.data.core.PyTreeData object at 0x13fab1280>, fn=<function SequenceData.slice.<locals>.<lambda> at 0x2c68023e0>))\n"
     ]
    }
   ],
   "source": [
    "print(pusht_data.splits[\"train\"])"
   ]
  },
  {
   "cell_type": "code",
   "execution_count": null,
   "metadata": {},
   "outputs": [],
   "source": []
  }
 ],
 "metadata": {
  "kernelspec": {
   "display_name": ".venv",
   "language": "python",
   "name": "python3"
  },
  "language_info": {
   "codemirror_mode": {
    "name": "ipython",
    "version": 3
   },
   "file_extension": ".py",
   "mimetype": "text/x-python",
   "name": "python",
   "nbconvert_exporter": "python",
   "pygments_lexer": "ipython3",
   "version": "3.12.4"
  }
 },
 "nbformat": 4,
 "nbformat_minor": 2
}
