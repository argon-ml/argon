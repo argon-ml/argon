{
 "cells": [
  {
   "cell_type": "code",
   "execution_count": 1,
   "metadata": {},
   "outputs": [],
   "source": [
    "import stanza.runtime\n",
    "stanza.runtime.setup()"
   ]
  },
  {
   "cell_type": "code",
   "execution_count": 2,
   "metadata": {},
   "outputs": [
    {
     "data": {
      "application/vnd.jupyter.widget-view+json": {
       "model_id": "07fe5d59a0bc477f8efca74f3a8c02eb",
       "version_major": 2,
       "version_minor": 0
      },
      "text/plain": [
       "Dropdown(description='Dataset:', index=1, options=('pusht/chi', 'robomimic/can/ph'), value='robomimic/can/ph')"
      ]
     },
     "execution_count": 2,
     "metadata": {},
     "output_type": "execute_result"
    }
   ],
   "source": [
    "import ipywidgets\n",
    "import stanza.datasets.env\n",
    "\n",
    "env_datasets = [\"pusht/chi\", \"robomimic/can/ph\"]\n",
    "default = \"robomimic/can/ph\"\n",
    "dropdown = ipywidgets.Dropdown(\n",
    "    options=env_datasets,\n",
    "    value=default,\n",
    "    description='Dataset:',\n",
    "    disabled=False,\n",
    ")\n",
    "dropdown"
   ]
  },
  {
   "cell_type": "code",
   "execution_count": 5,
   "metadata": {},
   "outputs": [],
   "source": [
    "dataset = stanza.datasets.env.datasets.create(dropdown.value)\n",
    "env = dataset.create_env()"
   ]
  },
  {
   "cell_type": "code",
   "execution_count": 6,
   "metadata": {},
   "outputs": [
    {
     "data": {
      "application/vnd.jupyter.widget-view+json": {
       "model_id": "3cef6ee4dfcb45cabb7bbc19d296a7d1",
       "version_major": 2,
       "version_minor": 0
      },
      "text/plain": [
       "HBox(children=(IntSlider(value=0, max=200), IntSlider(value=0)))"
      ]
     },
     "metadata": {},
     "output_type": "display_data"
    },
    {
     "data": {
      "application/vnd.jupyter.widget-view+json": {
       "model_id": "cbdeb9b12d72414184885aa20a9dd817",
       "version_major": 2,
       "version_minor": 0
      },
      "text/plain": [
       "HBox(children=(ImageStream(image=Image(value=b'\\x89PNG\\r\\n\\x1a\\n\\x00\\x00\\x00\\rIHDR\\x00\\x00\\x01\\x00\\x00\\x00\\x01…"
      ]
     },
     "metadata": {},
     "output_type": "display_data"
    },
    {
     "data": {
      "application/vnd.jupyter.widget-view+json": {
       "model_id": "e5e696ee992f46ecbb26425de2d5119c",
       "version_major": 2,
       "version_minor": 0
      },
      "text/plain": [
       "HBox(children=(Button(description='Delete', style=ButtonStyle()), Button(description='Reset (r)', style=Button…"
      ]
     },
     "metadata": {},
     "output_type": "display_data"
    },
    {
     "data": {
      "application/vnd.jupyter.widget-view+json": {
       "model_id": "e088d66d0b104389b249decb5fe25924",
       "version_major": 2,
       "version_minor": 0
      },
      "text/plain": [
       "Label(value='')"
      ]
     },
     "metadata": {},
     "output_type": "display_data"
    }
   ],
   "source": [
    "from IPython.display import display\n",
    "from stanza.policy.ipython import DemonstrationCollector\n",
    "\n",
    "data = dataset.splits[\"train\"]\n",
    "collector = DemonstrationCollector(\n",
    "    env, None, data, None, 256, 256\n",
    ")\n",
    "display(collector)"
   ]
  },
  {
   "cell_type": "code",
   "execution_count": null,
   "metadata": {},
   "outputs": [],
   "source": []
  }
 ],
 "metadata": {
  "kernelspec": {
   "display_name": "Python 3 (ipykernel)",
   "language": "python",
   "name": "python3"
  },
  "language_info": {
   "codemirror_mode": {
    "name": "ipython",
    "version": 3
   },
   "file_extension": ".py",
   "mimetype": "text/x-python",
   "name": "python",
   "nbconvert_exporter": "python",
   "pygments_lexer": "ipython3",
   "version": "3.12.4"
  },
  "widgets": {
   "application/vnd.jupyter.widget-state+json": {
    "state": {
     "075dfca1d9b140afb77d8ee9bfee95a7": {
      "model_module": "@jupyter-widgets/base",
      "model_module_version": "2.0.0",
      "model_name": "LayoutModel",
      "state": {}
     },
     "07fe5d59a0bc477f8efca74f3a8c02eb": {
      "model_module": "@jupyter-widgets/controls",
      "model_module_version": "2.0.0",
      "model_name": "DropdownModel",
      "state": {
       "_options_labels": [
        "pusht/chi",
        "robomimic/can/ph"
       ],
       "description": "Dataset:",
       "index": 1,
       "layout": "IPY_MODEL_8f187059547a40e599b9f248181d6844",
       "style": "IPY_MODEL_8b5fc654e59a49238b3e058fe7b7ac6c"
      }
     },
     "08e6f18553a048e2b58594f6ec9e3580": {
      "model_module": "@jupyter-widgets/base",
      "model_module_version": "2.0.0",
      "model_name": "LayoutModel",
      "state": {}
     },
     "0acdfa887ca3449fad403a0fdb690341": {
      "model_module": "@jupyter-widgets/controls",
      "model_module_version": "2.0.0",
      "model_name": "ButtonModel",
      "state": {
       "description": "Reset (r)",
       "layout": "IPY_MODEL_1f1e99a4c8024dce87df4e3eeb7ac913",
       "style": "IPY_MODEL_273ae8603e054df58490a8e2c891cd30",
       "tooltip": null
      }
     },
     "0bd96504f8a643cfb9fa05495aaaaf94": {
      "model_module": "@jupyter-widgets/base",
      "model_module_version": "2.0.0",
      "model_name": "LayoutModel",
      "state": {}
     },
     "0eb14c4130a9426b9c2b91e80e43e1ef": {
      "model_module": "@jupyter-widgets/controls",
      "model_module_version": "2.0.0",
      "model_name": "ButtonStyleModel",
      "state": {
       "font_family": null,
       "font_size": null,
       "font_style": null,
       "font_variant": null,
       "font_weight": null,
       "text_color": null,
       "text_decoration": null
      }
     },
     "10183e0038dc41a29cf3fa3f495ec7b1": {
      "model_module": "@jupyter-widgets/controls",
      "model_module_version": "2.0.0",
      "model_name": "IntSliderModel",
      "state": {
       "behavior": "drag-tap",
       "layout": "IPY_MODEL_a0a0ff066bf740b294cddcb6ea80a911",
       "max": 204,
       "style": "IPY_MODEL_d8518c7c4d084a15ae951d75f52f6971",
       "value": 204
      }
     },
     "10b98d4bd6ec4c50b3a438515d98eccd": {
      "model_module": "@jupyter-widgets/controls",
      "model_module_version": "2.0.0",
      "model_name": "HTMLModel",
      "state": {
       "layout": "IPY_MODEL_39f6b640e8424c00bf0cb3ef3fcdf728",
       "style": "IPY_MODEL_8736007cf5ca4ff38067154c54321acd",
       "value": "<style>\n.cell-output-ipywidget-background {\n    background-color: transparent !important;\n}\n.jp-OutputArea-output {\n    background-color: transparent;\n}\npre {\n    color: var(--vscode-editor-foreground);\n    margin: 0;\n}\n</style>"
      }
     },
     "10d6cdf9b466408db3bb4922c79ae3f2": {
      "model_module": "@jupyter-widgets/controls",
      "model_module_version": "2.0.0",
      "model_name": "ButtonModel",
      "state": {
       "description": "Save",
       "layout": "IPY_MODEL_9bd2da32c6ac4b70b4180251e4d0596f",
       "style": "IPY_MODEL_aa9f456ce69845ea960da4b8726cd6af",
       "tooltip": null
      }
     },
     "137055666e0d46909e07ed8bbcf1d2ba": {
      "model_module": "@jupyter-widgets/controls",
      "model_module_version": "2.0.0",
      "model_name": "HTMLStyleModel",
      "state": {
       "description_width": "",
       "font_size": null,
       "text_color": null
      }
     },
     "1436ea627ded4bf8b6a018c921e012ac": {
      "model_module": "@jupyter-widgets/controls",
      "model_module_version": "2.0.0",
      "model_name": "ButtonModel",
      "state": {
       "description": "Trim",
       "layout": "IPY_MODEL_6fa004db56b944e3ae17c0f788ddd139",
       "style": "IPY_MODEL_319238cfcb1a4341ab38a7d26ab25d53",
       "tooltip": null
      }
     },
     "1f1e99a4c8024dce87df4e3eeb7ac913": {
      "model_module": "@jupyter-widgets/base",
      "model_module_version": "2.0.0",
      "model_name": "LayoutModel",
      "state": {}
     },
     "1f5ee735a54545fda6c9f5e2e9406cbe": {
      "model_module": "@jupyter-widgets/controls",
      "model_module_version": "2.0.0",
      "model_name": "SliderStyleModel",
      "state": {
       "description_width": ""
      }
     },
     "2452c542b28840148ea6f6566c91973e": {
      "model_module": "@jupyter-widgets/controls",
      "model_module_version": "2.0.0",
      "model_name": "ButtonStyleModel",
      "state": {
       "font_family": null,
       "font_size": null,
       "font_style": null,
       "font_variant": null,
       "font_weight": null,
       "text_color": null,
       "text_decoration": null
      }
     },
     "273ae8603e054df58490a8e2c891cd30": {
      "model_module": "@jupyter-widgets/controls",
      "model_module_version": "2.0.0",
      "model_name": "ButtonStyleModel",
      "state": {
       "font_family": null,
       "font_size": null,
       "font_style": null,
       "font_variant": null,
       "font_weight": null,
       "text_color": null,
       "text_decoration": null
      }
     },
     "2783a04a09224183a8a2b32dbbee7b54": {
      "model_module": "@jupyter-widgets/controls",
      "model_module_version": "2.0.0",
      "model_name": "ButtonModel",
      "state": {
       "description": "Save",
       "layout": "IPY_MODEL_ee9e2be9f9704c1ea0401c2697afcea4",
       "style": "IPY_MODEL_2452c542b28840148ea6f6566c91973e",
       "tooltip": null
      }
     },
     "2d60b2c38c074508881063fcb7a3248f": {
      "model_module": "@jupyter-widgets/base",
      "model_module_version": "2.0.0",
      "model_name": "LayoutModel",
      "state": {}
     },
     "319238cfcb1a4341ab38a7d26ab25d53": {
      "model_module": "@jupyter-widgets/controls",
      "model_module_version": "2.0.0",
      "model_name": "ButtonStyleModel",
      "state": {
       "font_family": null,
       "font_size": null,
       "font_style": null,
       "font_variant": null,
       "font_weight": null,
       "text_color": null,
       "text_decoration": null
      }
     },
     "32459f5a5a3f4ea4ae0639ba759d9186": {
      "model_module": "@jupyter-widgets/base",
      "model_module_version": "2.0.0",
      "model_name": "LayoutModel",
      "state": {}
     },
     "381ce3bbbbbc498f95e7155cdf444513": {
      "model_module": "@jupyter-widgets/controls",
      "model_module_version": "2.0.0",
      "model_name": "HBoxModel",
      "state": {
       "children": [
        "IPY_MODEL_ecebe31d88bb475e932489be77520e28",
        "IPY_MODEL_a5a9fc5f6bb945a899850265ecaa01a9",
        "IPY_MODEL_e8eda80adddd45e18ba25338c2b87aee",
        "IPY_MODEL_a88b5467911d4580938485793d3b5217",
        "IPY_MODEL_10d6cdf9b466408db3bb4922c79ae3f2"
       ],
       "layout": "IPY_MODEL_73a9b068ee7244e18b9b7195b8c4ffdb"
      }
     },
     "39f6b640e8424c00bf0cb3ef3fcdf728": {
      "model_module": "@jupyter-widgets/base",
      "model_module_version": "2.0.0",
      "model_name": "LayoutModel",
      "state": {}
     },
     "3cef6ee4dfcb45cabb7bbc19d296a7d1": {
      "model_module": "@jupyter-widgets/controls",
      "model_module_version": "2.0.0",
      "model_name": "HBoxModel",
      "state": {
       "children": [
        "IPY_MODEL_a53cb198346f4e17b96500118fb4fe66",
        "IPY_MODEL_9139753bebe048f1a033ac71da113b72"
       ],
       "layout": "IPY_MODEL_a6abe8fd51b146b3b9fbf13b3aa79fb5"
      }
     },
     "42fe10122b074cb9b95694ee5ca975a2": {
      "model_module": "@jupyter-widgets/base",
      "model_module_version": "2.0.0",
      "model_name": "LayoutModel",
      "state": {}
     },
     "46d9a94a8f1f4572817f8ead1c79b196": {
      "model_module": "ipyevents",
      "model_module_version": "2.0.2",
      "model_name": "EventModel",
      "state": {
       "_supported_key_events": [
        "keydown",
        "keyup"
       ],
       "_supported_mouse_events": [
        "click",
        "auxclick",
        "dblclick",
        "mouseenter",
        "mouseleave",
        "mousedown",
        "mouseup",
        "mousemove",
        "wheel",
        "contextmenu",
        "dragstart",
        "drag",
        "dragend",
        "dragenter",
        "dragover",
        "dragleave",
        "drop"
       ],
       "_supported_touch_events": [
        "touchstart",
        "touchend",
        "touchmove",
        "touchcancel"
       ],
       "_view_module": "@jupyter-widgets/controls",
       "source": "IPY_MODEL_534560de43714232bae86cdd0f31031e",
       "throttle_or_debounce": "",
       "watched_events": [
        "click",
        "keydown",
        "keyup",
        "mousemove"
       ],
       "xy_coordinate_system": ""
      }
     },
     "491e2b45676c4cf5a6ed57875d59285e": {
      "model_module": "jupyter-webrtc",
      "model_module_version": "~0.6.0",
      "model_name": "ImageStreamModel",
      "state": {
       "_view_count": 1,
       "image": "IPY_MODEL_bd3acfba493f4b92a1c6fb9b408936d9",
       "layout": "IPY_MODEL_a836a0d5981843b2a06a427797813f0f"
      }
     },
     "4bae35eaa13648068d844880b9bc0ae7": {
      "model_module": "@jupyter-widgets/controls",
      "model_module_version": "2.0.0",
      "model_name": "ButtonStyleModel",
      "state": {
       "font_family": null,
       "font_size": null,
       "font_style": null,
       "font_variant": null,
       "font_weight": null,
       "text_color": null,
       "text_decoration": null
      }
     },
     "5053bcb59d7843ef8afb241134662fae": {
      "model_module": "@jupyter-widgets/controls",
      "model_module_version": "2.0.0",
      "model_name": "HTMLModel",
      "state": {
       "layout": "IPY_MODEL_0bd96504f8a643cfb9fa05495aaaaf94",
       "style": "IPY_MODEL_137055666e0d46909e07ed8bbcf1d2ba",
       "value": "<style>\n.cell-output-ipywidget-background {\n    background-color: transparent !important;\n}\n.jp-OutputArea-output {\n    background-color: transparent;\n}\npre {\n    color: var(--vscode-editor-foreground);\n    margin: 0;\n}\n</style>"
      }
     },
     "534560de43714232bae86cdd0f31031e": {
      "model_module": "jupyter-webrtc",
      "model_module_version": "~0.6.0",
      "model_name": "ImageStreamModel",
      "state": {
       "_view_count": 0,
       "image": "IPY_MODEL_896453134a3d41ca940c7d2c1d6d95cf",
       "layout": "IPY_MODEL_650996f230c54921a7300c436c70f02a"
      }
     },
     "55734073536c44d9b42cb28f52d7871f": {
      "model_module": "@jupyter-widgets/base",
      "model_module_version": "2.0.0",
      "model_name": "LayoutModel",
      "state": {}
     },
     "5f402a494c444d5d828010d15e4f665b": {
      "model_module": "@jupyter-widgets/base",
      "model_module_version": "2.0.0",
      "model_name": "LayoutModel",
      "state": {}
     },
     "650996f230c54921a7300c436c70f02a": {
      "model_module": "@jupyter-widgets/base",
      "model_module_version": "2.0.0",
      "model_name": "LayoutModel",
      "state": {}
     },
     "67c173dd6735485bbb413faca4638266": {
      "model_module": "@jupyter-widgets/controls",
      "model_module_version": "2.0.0",
      "model_name": "ButtonModel",
      "state": {
       "description": "Delete",
       "layout": "IPY_MODEL_bca5c0b962ff4e2e8d14b06bdc9b9aa3",
       "style": "IPY_MODEL_4bae35eaa13648068d844880b9bc0ae7",
       "tooltip": null
      }
     },
     "6fa004db56b944e3ae17c0f788ddd139": {
      "model_module": "@jupyter-widgets/base",
      "model_module_version": "2.0.0",
      "model_name": "LayoutModel",
      "state": {}
     },
     "73a9b068ee7244e18b9b7195b8c4ffdb": {
      "model_module": "@jupyter-widgets/base",
      "model_module_version": "2.0.0",
      "model_name": "LayoutModel",
      "state": {}
     },
     "79f9f7ff52394c698c25d6d0b55ef1b4": {
      "model_module": "@jupyter-widgets/controls",
      "model_module_version": "2.0.0",
      "model_name": "ButtonStyleModel",
      "state": {
       "font_family": null,
       "font_size": null,
       "font_style": null,
       "font_variant": null,
       "font_weight": null,
       "text_color": null,
       "text_decoration": null
      }
     },
     "83ea2986a6f64431a976c6194614767b": {
      "model_module": "@jupyter-widgets/controls",
      "model_module_version": "2.0.0",
      "model_name": "SliderStyleModel",
      "state": {
       "description_width": ""
      }
     },
     "855a9743fc5e4618bf1b75eab2bc937e": {
      "model_module": "@jupyter-widgets/base",
      "model_module_version": "2.0.0",
      "model_name": "LayoutModel",
      "state": {}
     },
     "85f96798cb8f4078b96ed0969e6962ce": {
      "model_module": "@jupyter-widgets/controls",
      "model_module_version": "2.0.0",
      "model_name": "ButtonStyleModel",
      "state": {
       "font_family": null,
       "font_size": null,
       "font_style": null,
       "font_variant": null,
       "font_weight": null,
       "text_color": null,
       "text_decoration": null
      }
     },
     "8736007cf5ca4ff38067154c54321acd": {
      "model_module": "@jupyter-widgets/controls",
      "model_module_version": "2.0.0",
      "model_name": "HTMLStyleModel",
      "state": {
       "description_width": "",
       "font_size": null,
       "text_color": null
      }
     },
     "87b635ef5e01401b830d6482ba02519c": {
      "model_module": "@jupyter-widgets/base",
      "model_module_version": "2.0.0",
      "model_name": "LayoutModel",
      "state": {}
     },
     "896453134a3d41ca940c7d2c1d6d95cf": {
      "buffers": [
       {
        "data": "iVBORw0KGgoAAAANSUhEUgAAAQAAAAEACAYAAABccqhmAAALPklEQVR4nO3df5RUZR3H8c/u7Co/FpdjoYICAmJASmBGlJhKCmiGCAQdMJBdAXOFoyEtaHok9ciCFBKaYFwxNY+gkdSJkB8qGiWhR4Ik/JUdS0w6Bsov3V2mPzqzzS67y+7M88y9d7/v13+OM89z/3nePHP3zr15yWQyKQAm5Yd9AADCQwAAwwgAYBgBAAwjAIBhBAAwjAAAhhEAwDACABhGAADDCABgGAEADCMAgGEEADCMAACGEQDAMAIAGEYAAMMIAGAYAQAMIwCAYQQAMIwAAIYRAMAwAgAYRgAAwwgAYBgBAAwjAIBhBAAwjAAAhhEAwDACABhGAADDCABgGAEADCMAgGEEADCMAACGEQDAMAIAGEYAAMMIAGAYAQAMIwCAYQQAMIwAAIYRAMAwAgAYRgAAwwgAYBgBAAwjAIBhBAAwjAAAhhEAwDACABhGAADDCABgGAEADCMAgGEEADCMAACGEQDAMAIAGEYAAMMIAGAYAQAMIwCAYQQAMIwAAIYRAMAwAgAYRgAAwwgAYBgBAAwjAIBhBAAwjAAAhhEAwDACABhGAADDCABgGAEADCMAgGEEADCMAACGEQDAMAIAGEYAAMMIAGAYAQAMIwCAYQQAMIwAAIYRAMAwAgAYRgAAwwgAYBgBAAwjAIBhBAAwjAAAhhEAwDACEBO3L1yu5/74atiHgRaGAMTAz59aq8OHP9XvntuiR1etC/tw0ILkJZPJZNgHgYZt3PyKntm0tdZrbdq00m3TJ4R0RGhJ2AFE2F/eeOeoxS9JBw8e1qy5S0M4IrQ0BCCi3t/zoR556plG30MEkC0CEEEHDh7SwmVPNum9s+YuFd/ikCkCEDHV1dW6Y9EjzfrM7IoHVVVV7emI0JJxEjBCksmkZlc8mPHnfzDtOypq29rhEaGlIwAR4uI7/fRJI9Xp5M86OBpYQAAiwuUJvfFXXqyzP9fd2XhouQhABPg4m//1QefokkHnOh8XLQsnAUM27LXRXsbd8OIrClas8TI2Wg52ACHap31qr/Y6ZXdXTXz4Zi9zFBQmdOeMUi9jI/4IQMhSEWi7v1jXL57nbZ65s6Z4GxvxRQAiIBWBRFWBbrrnPm/zEAHURQAiIhUBJaXyiiXe5rm7fLLy8vK8jY944SRgRBSrWHu1V8qTKmZN9TbP7IoHVVlV5W18xAs7gIip2QlIKp/rbydwc9l4ndCurbfxEQ8EIILSI/C9BYtUWHm8l3nKJo5Q544neRkb8UAAIio9AqNXXq8eb53tZZ5vDx+sfn3O8DI2oo8ARFh6BM578XINevGbXua5YOAXdOmFX/YyNqKNAERcegTO3NVfV6661ss83bp01NRxfgKD6CIAMZAegZP+dZomPXSrt7m4VsAWAhAT6RFoc6Cdpv3kHm9zuYjA9u2VGjp0z1Gvb9jQQb17F2Y9PtwgADGSHoH86oRmzr/f21yZRqCyMqmuXXcf833vvttRiQQXJIWNC4FipOZiIUlHEtWqKPd3wVAm9xo8cOBIkxa/JHXuvFuffMK/PWFjBxBD6TsBye8FQz+cMUnHFTZty96p03vNHv+99zo1+zNwhx1ADKXvBM7aPtDrXLcteEh7P9p/zPfNmbMvo/EXLfo4o8/BDXYAMTbvn/fqw0dycxPQa68artNPO6XB/5/Jv/4p7ALCww4gppZ8tCxni1+SHnh0tbb+eVfO5kNuEIAY+lnlMv3t/tw/B+DJ3z6v1es3H/X6oUPZbSIrK9mEhoUAxMyyZKA3F4T3EJDNW3do8cOrar1WUJDdmIlEdp9H5ghAjAQK9EZF+L/l/8fuPbXuZFxYmN3f8/PzuR4gLAQgJgIFen1u+Is/HQ8njT8CEANRXPwpqQhs2ZLZfQW2bTvZ5eGgmQhAxAUKtKuiMuzDaNSsuUvV6dSEunRp3pf5fv0K1aEDJwDCxHUAERYo0LrHd6jr33uFfShNcvuNV6t7t3836b3FxfnaubPh6wqQG+wAIipQoIefX+188a8Ys8jpeOlu//FybX+tSMuXn9jo+x5//DMs/ohgBxBBgQLN3/lTXfH0ZKfjbhy8Un8asF6SNPWBu9R+r5+nCE8ed7l6dOmkjz8+ojVrDmvXrir17l2gYcNaqaiIf3OihABETKBAN78/R1cvv8XpuK36VGnO8LJar33jN5N01g4/vyUYMXSQBvbv42VsuEMAIiRQoOn7b9T1i+c7HbfgBOnO66Yc9StCSfri1sG6eP1Yp/OlDOjXSyOHfc3L2HCD/VhEBAo0pWqq88Uv/W/xS7V/RZjy8rkb9cTYhc7nlKR2RW28jAt3CEAEBApUmiz18lzAunf2qS8C73TbqaVT3N5n8MzunXXJoHOdjgn3CEDIAgUqVamX5wE2dFuv+iLwnxM/0MIbbnAyb0FhQiVjLnUyFvwiACGqWfwe7uhzd3njf0GoLwKftDqked/P/rbjv57h70+NcIsAhMTn4r9rZmmTngBcXwSS+cmsHk66ZtZ92qZtGX8euUUAQpBa/Df+6F7nY986fYISzfh9bX0RkDJ7QjGLP34IQI6lFv+oJ8t03KetnI59Q+lotW3T/DFdRGBNOYs/jghADqUW/1d/f5nOeLOv07EnjBqiUzo0fgluYxqLwJ4Ojd/v75mblmhbHos/jghAjqQWf8/X++n8F65wOvbQC76kPj1Pz3qchiIQlM7Rq/021fuZjWXL9UrBy1nPjXAQgBxILf4OH5yqkb/8rtOx+5x5ui76Sn9n4zUUgbXDHtPaoY/Vem3zxJXa0u7oewQiPgiAZ6nF3/pgkUqC25yO3br18ZowcojTMaWGI/Bq/036xbgFkqRtw9dpU8d1zudGbvFbAI9Si9/Xc/x8P8m3vt8OSNLAvYP0h/YveJ0buUEAPEktfiWV06v8XKsbgb7qy9n+FoSvAB7ULH7Fe/FLtb8OsPhbHnYAjtVa/J4u8W3KVX6u7dM+Fas45/PCLwLgkO/Ff+dNpSoo4CaacIevAI6kL/6yxfOcj3/LtKtY/HCOADiQvviv+NVkFe13u1WeNmmk2rXl5hpwjwBkKX3xD3hpiHr91e1NMMaNuFinnuzn5p0AAchC+uJvfbBIFz07yun4g887R317dXc6JpCOAGShRCUaozGSpENt9mv+zOucjd2z22kacj631IJfBCBLT+iJmggcSVSrojzzm2mkJBL5Kh17WdbjAMdCABxIj4DyMruZRrq7Zl7j4KiAYyMAjtSKgDKPQC6v8gO4EMixsRqrFVpR899li+c1+c+CLH7kGgHwoG4Ehj89Wb13Nn5CL6xLfGEbAfCkbgQGvHSJLnp2dL3vvWNGiQoLC3J1aEANAuBR3Qh0f+ssfWvltFrvmV02XsXt2ub60ABJnAT0qu6Jwbd77FDXa/5/PX/ZhBEsfoSKHUAOpHYCy7RMJSrRwUOHtevtd9X/8z3DPjQYRwByJFCgEpWEfRhALQQAMIxzAIBhBAAwjAAAhhEAwDACABhGAADDCABgGAEADCMAgGEEADCMAACGEQDAMAIAGEYAAMMIAGAYAQAMIwCAYQQAMIwAAIYRAMAwAgAYRgAAwwgAYBgBAAwjAIBhBAAwjAAAhhEAwDACABhGAADDCABgGAEADCMAgGEEADCMAACGEQDAMAIAGEYAAMMIAGAYAQAMIwCAYQQAMIwAAIYRAMAwAgAYRgAAwwgAYBgBAAwjAIBhBAAwjAAAhhEAwDACABhGAADDCABgGAEADCMAgGEEADCMAACGEQDAMAIAGEYAAMMIAGAYAQAMIwCAYQQAMIwAAIYRAMAwAgAYRgAAwwgAYBgBAAwjAIBhBAAwjAAAhhEAwDACABhGAADD/guahu1bFsgmDwAAAABJRU5ErkJggg==",
        "encoding": "base64",
        "path": [
         "value"
        ]
       }
      ],
      "model_module": "@jupyter-widgets/controls",
      "model_module_version": "2.0.0",
      "model_name": "ImageModel",
      "state": {
       "layout": "IPY_MODEL_42fe10122b074cb9b95694ee5ca975a2"
      }
     },
     "8b5fc654e59a49238b3e058fe7b7ac6c": {
      "model_module": "@jupyter-widgets/controls",
      "model_module_version": "2.0.0",
      "model_name": "DescriptionStyleModel",
      "state": {
       "description_width": ""
      }
     },
     "8d309c3dac7e4273901db9ee5076f80a": {
      "model_module": "@jupyter-widgets/controls",
      "model_module_version": "2.0.0",
      "model_name": "IntSliderModel",
      "state": {
       "behavior": "drag-tap",
       "layout": "IPY_MODEL_55734073536c44d9b42cb28f52d7871f",
       "max": 189,
       "style": "IPY_MODEL_1f5ee735a54545fda6c9f5e2e9406cbe",
       "value": 54
      }
     },
     "8f187059547a40e599b9f248181d6844": {
      "model_module": "@jupyter-widgets/base",
      "model_module_version": "2.0.0",
      "model_name": "LayoutModel",
      "state": {}
     },
     "9139753bebe048f1a033ac71da113b72": {
      "model_module": "@jupyter-widgets/controls",
      "model_module_version": "2.0.0",
      "model_name": "IntSliderModel",
      "state": {
       "behavior": "drag-tap",
       "layout": "IPY_MODEL_beb97e9dafa04da2bf8dd39e46ea98cb",
       "max": 131,
       "style": "IPY_MODEL_83ea2986a6f64431a976c6194614767b"
      }
     },
     "9ab4fbc5ff1e4507b4f49f280f4b32f9": {
      "model_module": "@jupyter-widgets/controls",
      "model_module_version": "2.0.0",
      "model_name": "ButtonStyleModel",
      "state": {
       "font_family": null,
       "font_size": null,
       "font_style": null,
       "font_variant": null,
       "font_weight": null,
       "text_color": null,
       "text_decoration": null
      }
     },
     "9bd2da32c6ac4b70b4180251e4d0596f": {
      "model_module": "@jupyter-widgets/base",
      "model_module_version": "2.0.0",
      "model_name": "LayoutModel",
      "state": {}
     },
     "9e24ddd4c0b0474da3d80f4b7c984f3e": {
      "model_module": "@jupyter-widgets/base",
      "model_module_version": "2.0.0",
      "model_name": "LayoutModel",
      "state": {}
     },
     "a0a0ff066bf740b294cddcb6ea80a911": {
      "model_module": "@jupyter-widgets/base",
      "model_module_version": "2.0.0",
      "model_name": "LayoutModel",
      "state": {}
     },
     "a53cb198346f4e17b96500118fb4fe66": {
      "model_module": "@jupyter-widgets/controls",
      "model_module_version": "2.0.0",
      "model_name": "IntSliderModel",
      "state": {
       "behavior": "drag-tap",
       "layout": "IPY_MODEL_075dfca1d9b140afb77d8ee9bfee95a7",
       "max": 199,
       "style": "IPY_MODEL_c527b323695a4ef091d77bfc9a979249",
       "value": 59
      }
     },
     "a5a9fc5f6bb945a899850265ecaa01a9": {
      "model_module": "@jupyter-widgets/controls",
      "model_module_version": "2.0.0",
      "model_name": "ButtonModel",
      "state": {
       "description": "Reset (r)",
       "layout": "IPY_MODEL_32459f5a5a3f4ea4ae0639ba759d9186",
       "style": "IPY_MODEL_9ab4fbc5ff1e4507b4f49f280f4b32f9",
       "tooltip": null
      }
     },
     "a6abe8fd51b146b3b9fbf13b3aa79fb5": {
      "model_module": "@jupyter-widgets/base",
      "model_module_version": "2.0.0",
      "model_name": "LayoutModel",
      "state": {}
     },
     "a836a0d5981843b2a06a427797813f0f": {
      "model_module": "@jupyter-widgets/base",
      "model_module_version": "2.0.0",
      "model_name": "LayoutModel",
      "state": {}
     },
     "a88b5467911d4580938485793d3b5217": {
      "model_module": "@jupyter-widgets/controls",
      "model_module_version": "2.0.0",
      "model_name": "ButtonModel",
      "state": {
       "description": "Trim",
       "layout": "IPY_MODEL_855a9743fc5e4618bf1b75eab2bc937e",
       "style": "IPY_MODEL_0eb14c4130a9426b9c2b91e80e43e1ef",
       "tooltip": null
      }
     },
     "aa9f456ce69845ea960da4b8726cd6af": {
      "model_module": "@jupyter-widgets/controls",
      "model_module_version": "2.0.0",
      "model_name": "ButtonStyleModel",
      "state": {
       "font_family": null,
       "font_size": null,
       "font_style": null,
       "font_variant": null,
       "font_weight": null,
       "text_color": null,
       "text_decoration": null
      }
     },
     "b41b700de1ce4cc188ab714c3736d1e7": {
      "model_module": "@jupyter-widgets/base",
      "model_module_version": "2.0.0",
      "model_name": "LayoutModel",
      "state": {}
     },
     "b68ef55e51394a44bd862587e8d6f9f7": {
      "model_module": "@jupyter-widgets/controls",
      "model_module_version": "2.0.0",
      "model_name": "HBoxModel",
      "state": {
       "children": [
        "IPY_MODEL_8d309c3dac7e4273901db9ee5076f80a",
        "IPY_MODEL_10183e0038dc41a29cf3fa3f495ec7b1"
       ],
       "layout": "IPY_MODEL_87b635ef5e01401b830d6482ba02519c"
      }
     },
     "bca5c0b962ff4e2e8d14b06bdc9b9aa3": {
      "model_module": "@jupyter-widgets/base",
      "model_module_version": "2.0.0",
      "model_name": "LayoutModel",
      "state": {}
     },
     "bd3acfba493f4b92a1c6fb9b408936d9": {
      "buffers": [
       {
        "data": "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",
        "encoding": "base64",
        "path": [
         "value"
        ]
       }
      ],
      "model_module": "@jupyter-widgets/controls",
      "model_module_version": "2.0.0",
      "model_name": "ImageModel",
      "state": {
       "layout": "IPY_MODEL_2d60b2c38c074508881063fcb7a3248f"
      }
     },
     "beb97e9dafa04da2bf8dd39e46ea98cb": {
      "model_module": "@jupyter-widgets/base",
      "model_module_version": "2.0.0",
      "model_name": "LayoutModel",
      "state": {}
     },
     "c0a3729ed9c04c888d4ec561ee2b485a": {
      "model_module": "@jupyter-widgets/controls",
      "model_module_version": "2.0.0",
      "model_name": "ButtonModel",
      "state": {
       "description": "Collect (c)",
       "layout": "IPY_MODEL_b41b700de1ce4cc188ab714c3736d1e7",
       "style": "IPY_MODEL_fbe3202c2fc74f959e2576f287adc305",
       "tooltip": null
      }
     },
     "c224d301ab70456da2c34dde00cafd36": {
      "model_module": "ipyevents",
      "model_module_version": "2.0.2",
      "model_name": "EventModel",
      "state": {
       "_supported_key_events": [
        "keydown",
        "keyup"
       ],
       "_supported_mouse_events": [
        "click",
        "auxclick",
        "dblclick",
        "mouseenter",
        "mouseleave",
        "mousedown",
        "mouseup",
        "mousemove",
        "wheel",
        "contextmenu",
        "dragstart",
        "drag",
        "dragend",
        "dragenter",
        "dragover",
        "dragleave",
        "drop"
       ],
       "_supported_touch_events": [
        "touchstart",
        "touchend",
        "touchmove",
        "touchcancel"
       ],
       "_view_module": "@jupyter-widgets/controls",
       "source": "IPY_MODEL_491e2b45676c4cf5a6ed57875d59285e",
       "throttle_or_debounce": "",
       "watched_events": [
        "click",
        "keydown",
        "keyup",
        "mousemove"
       ],
       "xy_coordinate_system": ""
      }
     },
     "c3f56d9647fa41abbaac293ff54c8cf9": {
      "model_module": "@jupyter-widgets/base",
      "model_module_version": "2.0.0",
      "model_name": "LayoutModel",
      "state": {}
     },
     "c527b323695a4ef091d77bfc9a979249": {
      "model_module": "@jupyter-widgets/controls",
      "model_module_version": "2.0.0",
      "model_name": "SliderStyleModel",
      "state": {
       "description_width": ""
      }
     },
     "c9f5a726ecdd4f3c94709a293855f435": {
      "model_module": "@jupyter-widgets/base",
      "model_module_version": "2.0.0",
      "model_name": "LayoutModel",
      "state": {}
     },
     "cbdeb9b12d72414184885aa20a9dd817": {
      "model_module": "@jupyter-widgets/controls",
      "model_module_version": "2.0.0",
      "model_name": "HBoxModel",
      "state": {
       "children": [
        "IPY_MODEL_491e2b45676c4cf5a6ed57875d59285e",
        "IPY_MODEL_10b98d4bd6ec4c50b3a438515d98eccd"
       ],
       "layout": "IPY_MODEL_9e24ddd4c0b0474da3d80f4b7c984f3e"
      }
     },
     "d8518c7c4d084a15ae951d75f52f6971": {
      "model_module": "@jupyter-widgets/controls",
      "model_module_version": "2.0.0",
      "model_name": "SliderStyleModel",
      "state": {
       "description_width": ""
      }
     },
     "d8c7ab6e50c14828a0f1c1eec37c4e2b": {
      "model_module": "@jupyter-widgets/base",
      "model_module_version": "2.0.0",
      "model_name": "LayoutModel",
      "state": {}
     },
     "d8eba149682e4462af1d01b195491b53": {
      "model_module": "@jupyter-widgets/base",
      "model_module_version": "2.0.0",
      "model_name": "LayoutModel",
      "state": {}
     },
     "e088d66d0b104389b249decb5fe25924": {
      "model_module": "@jupyter-widgets/controls",
      "model_module_version": "2.0.0",
      "model_name": "LabelModel",
      "state": {
       "layout": "IPY_MODEL_d8c7ab6e50c14828a0f1c1eec37c4e2b",
       "style": "IPY_MODEL_f57f5dbde838431a8f797683c280ad54"
      }
     },
     "e28c5b79a83246c68db18572efd7f251": {
      "model_module": "@jupyter-widgets/controls",
      "model_module_version": "2.0.0",
      "model_name": "LabelStyleModel",
      "state": {
       "description_width": "",
       "font_family": null,
       "font_size": null,
       "font_style": null,
       "font_variant": null,
       "font_weight": null,
       "text_color": null,
       "text_decoration": null
      }
     },
     "e5e696ee992f46ecbb26425de2d5119c": {
      "model_module": "@jupyter-widgets/controls",
      "model_module_version": "2.0.0",
      "model_name": "HBoxModel",
      "state": {
       "children": [
        "IPY_MODEL_67c173dd6735485bbb413faca4638266",
        "IPY_MODEL_0acdfa887ca3449fad403a0fdb690341",
        "IPY_MODEL_c0a3729ed9c04c888d4ec561ee2b485a",
        "IPY_MODEL_1436ea627ded4bf8b6a018c921e012ac",
        "IPY_MODEL_2783a04a09224183a8a2b32dbbee7b54"
       ],
       "layout": "IPY_MODEL_5f402a494c444d5d828010d15e4f665b"
      }
     },
     "e8eda80adddd45e18ba25338c2b87aee": {
      "model_module": "@jupyter-widgets/controls",
      "model_module_version": "2.0.0",
      "model_name": "ButtonModel",
      "state": {
       "description": "Collect (c)",
       "layout": "IPY_MODEL_08e6f18553a048e2b58594f6ec9e3580",
       "style": "IPY_MODEL_79f9f7ff52394c698c25d6d0b55ef1b4",
       "tooltip": null
      }
     },
     "ecebe31d88bb475e932489be77520e28": {
      "model_module": "@jupyter-widgets/controls",
      "model_module_version": "2.0.0",
      "model_name": "ButtonModel",
      "state": {
       "description": "Delete",
       "layout": "IPY_MODEL_c3f56d9647fa41abbaac293ff54c8cf9",
       "style": "IPY_MODEL_85f96798cb8f4078b96ed0969e6962ce",
       "tooltip": null
      }
     },
     "ee9e2be9f9704c1ea0401c2697afcea4": {
      "model_module": "@jupyter-widgets/base",
      "model_module_version": "2.0.0",
      "model_name": "LayoutModel",
      "state": {}
     },
     "f57f5dbde838431a8f797683c280ad54": {
      "model_module": "@jupyter-widgets/controls",
      "model_module_version": "2.0.0",
      "model_name": "LabelStyleModel",
      "state": {
       "description_width": "",
       "font_family": null,
       "font_size": null,
       "font_style": null,
       "font_variant": null,
       "font_weight": null,
       "text_color": null,
       "text_decoration": null
      }
     },
     "fbe3202c2fc74f959e2576f287adc305": {
      "model_module": "@jupyter-widgets/controls",
      "model_module_version": "2.0.0",
      "model_name": "ButtonStyleModel",
      "state": {
       "font_family": null,
       "font_size": null,
       "font_style": null,
       "font_variant": null,
       "font_weight": null,
       "text_color": null,
       "text_decoration": null
      }
     },
     "fcac7db6b83d4b92aafbddf6820ddd6d": {
      "model_module": "@jupyter-widgets/controls",
      "model_module_version": "2.0.0",
      "model_name": "LabelModel",
      "state": {
       "layout": "IPY_MODEL_d8eba149682e4462af1d01b195491b53",
       "style": "IPY_MODEL_e28c5b79a83246c68db18572efd7f251"
      }
     },
     "ff0ba2628a054b60b78d2bc3078e329d": {
      "model_module": "@jupyter-widgets/controls",
      "model_module_version": "2.0.0",
      "model_name": "HBoxModel",
      "state": {
       "children": [
        "IPY_MODEL_534560de43714232bae86cdd0f31031e",
        "IPY_MODEL_5053bcb59d7843ef8afb241134662fae"
       ],
       "layout": "IPY_MODEL_c9f5a726ecdd4f3c94709a293855f435"
      }
     }
    },
    "version_major": 2,
    "version_minor": 0
   }
  }
 },
 "nbformat": 4,
 "nbformat_minor": 4
}
