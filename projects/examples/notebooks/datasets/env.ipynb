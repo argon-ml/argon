{
 "cells": [
  {
   "cell_type": "code",
   "execution_count": 1,
   "metadata": {},
   "outputs": [],
   "source": [
    "import stanza.runtime\n",
    "stanza.runtime.setup()"
   ]
  },
  {
   "cell_type": "code",
   "execution_count": 2,
   "metadata": {},
   "outputs": [
    {
     "data": {
      "application/vnd.jupyter.widget-view+json": {
       "model_id": "11630982ad0a492d98f41485ef52c4ca",
       "version_major": 2,
       "version_minor": 0
      },
      "text/plain": [
       "Dropdown(description='Dataset:', index=1, options=('pusht/chi', 'robomimic/can/ph'), value='robomimic/can/ph')"
      ]
     },
     "execution_count": 2,
     "metadata": {},
     "output_type": "execute_result"
    }
   ],
   "source": [
    "import ipywidgets\n",
    "import stanza.datasets.env\n",
    "\n",
    "env_datasets = [\"pusht/chi\", \"robomimic/can/ph\"]\n",
    "default = \"robomimic/can/ph\"\n",
    "dropdown = ipywidgets.Dropdown(\n",
    "    options=env_datasets,\n",
    "    value=default,\n",
    "    description='Dataset:',\n",
    "    disabled=False,\n",
    ")\n",
    "dropdown"
   ]
  },
  {
   "cell_type": "code",
   "execution_count": 3,
   "metadata": {},
   "outputs": [],
   "source": [
    "dataset = stanza.datasets.env.datasets.create(dropdown.value)\n",
    "env = dataset.create_env()"
   ]
  },
  {
   "cell_type": "code",
   "execution_count": 4,
   "metadata": {},
   "outputs": [
    {
     "data": {
      "application/vnd.jupyter.widget-view+json": {
       "model_id": "a9ad27f3306949fda12e107226a2d45e",
       "version_major": 2,
       "version_minor": 0
      },
      "text/plain": [
       "HBox(children=(IntSlider(value=0, max=200), IntSlider(value=0)))"
      ]
     },
     "metadata": {},
     "output_type": "display_data"
    },
    {
     "data": {
      "application/vnd.jupyter.widget-view+json": {
       "model_id": "e677808b1b83476494ad1665c103a616",
       "version_major": 2,
       "version_minor": 0
      },
      "text/plain": [
       "HBox(children=(ImageStream(image=Image(value=b'\\x89PNG\\r\\n\\x1a\\n\\x00\\x00\\x00\\rIHDR\\x00\\x00\\x01\\x00\\x00\\x00\\x01…"
      ]
     },
     "metadata": {},
     "output_type": "display_data"
    },
    {
     "data": {
      "application/vnd.jupyter.widget-view+json": {
       "model_id": "77e952f64b984c1b9bf2e519dec3863c",
       "version_major": 2,
       "version_minor": 0
      },
      "text/plain": [
       "HBox(children=(Button(description='Delete', style=ButtonStyle()), Button(description='Reset (r)', style=Button…"
      ]
     },
     "metadata": {},
     "output_type": "display_data"
    },
    {
     "data": {
      "application/vnd.jupyter.widget-view+json": {
       "model_id": "d50e8b59191b4093963da4b0a0e69484",
       "version_major": 2,
       "version_minor": 0
      },
      "text/plain": [
       "Label(value='')"
      ]
     },
     "metadata": {},
     "output_type": "display_data"
    }
   ],
   "source": [
    "from IPython.display import display\n",
    "from stanza.policy.ipython import DemonstrationCollector\n",
    "\n",
    "data = dataset.splits[\"train\"]\n",
    "collector = DemonstrationCollector(\n",
    "    env, None, data, None, 256, 256\n",
    ")\n",
    "display(collector)"
   ]
  }
 ],
 "metadata": {
  "kernelspec": {
   "display_name": "Python 3 (ipykernel)",
   "language": "python",
   "name": "python3"
  },
  "language_info": {
   "codemirror_mode": {
    "name": "ipython",
    "version": 3
   },
   "file_extension": ".py",
   "mimetype": "text/x-python",
   "name": "python",
   "nbconvert_exporter": "python",
   "pygments_lexer": "ipython3",
   "version": "3.12.4"
  },
  "widgets": {
   "application/vnd.jupyter.widget-state+json": {
    "state": {
     "024dce1b9da840209fdbb87b28daf6bf": {
      "model_module": "@jupyter-widgets/base",
      "model_module_version": "2.0.0",
      "model_name": "LayoutModel",
      "state": {}
     },
     "0593f6e090084b71bb48e5e54c1d50da": {
      "model_module": "@jupyter-widgets/controls",
      "model_module_version": "2.0.0",
      "model_name": "ButtonStyleModel",
      "state": {
       "font_family": null,
       "font_size": null,
       "font_style": null,
       "font_variant": null,
       "font_weight": null,
       "text_color": null,
       "text_decoration": null
      }
     },
     "090062275ee44381b3c30a655f1bc703": {
      "model_module": "@jupyter-widgets/base",
      "model_module_version": "2.0.0",
      "model_name": "LayoutModel",
      "state": {}
     },
     "0c19bbae1b114917ba691179c32e29c9": {
      "model_module": "@jupyter-widgets/controls",
      "model_module_version": "2.0.0",
      "model_name": "IntSliderModel",
      "state": {
       "behavior": "drag-tap",
       "layout": "IPY_MODEL_5a477b0b6f1047908b479ad6f56a7773",
       "max": 101,
       "style": "IPY_MODEL_ff5b049dcb7b41489f45caddcee995bb",
       "value": 101
      }
     },
     "1115035be1f14293ab1ad15aaa178cf4": {
      "model_module": "@jupyter-widgets/base",
      "model_module_version": "2.0.0",
      "model_name": "LayoutModel",
      "state": {}
     },
     "11630982ad0a492d98f41485ef52c4ca": {
      "model_module": "@jupyter-widgets/controls",
      "model_module_version": "2.0.0",
      "model_name": "DropdownModel",
      "state": {
       "_options_labels": [
        "pusht/chi",
        "robomimic/can/ph"
       ],
       "description": "Dataset:",
       "index": 1,
       "layout": "IPY_MODEL_60b072110697480a98e5e9e5720a0f60",
       "style": "IPY_MODEL_6ead741c5c3d46abbe785f7981d9efa1"
      }
     },
     "166c5b3b734f4b81bc14709c3c426ac0": {
      "model_module": "@jupyter-widgets/controls",
      "model_module_version": "2.0.0",
      "model_name": "ButtonStyleModel",
      "state": {
       "font_family": null,
       "font_size": null,
       "font_style": null,
       "font_variant": null,
       "font_weight": null,
       "text_color": null,
       "text_decoration": null
      }
     },
     "1ac516bfc0c445f0b9a78c8189287c16": {
      "model_module": "@jupyter-widgets/base",
      "model_module_version": "2.0.0",
      "model_name": "LayoutModel",
      "state": {}
     },
     "26ac93f292a74795ae2e0f2f7ce3321b": {
      "model_module": "@jupyter-widgets/base",
      "model_module_version": "2.0.0",
      "model_name": "LayoutModel",
      "state": {}
     },
     "2cf501f3630e4bc49f10d856e2af9b77": {
      "model_module": "@jupyter-widgets/controls",
      "model_module_version": "2.0.0",
      "model_name": "IntSliderModel",
      "state": {
       "behavior": "drag-tap",
       "layout": "IPY_MODEL_024dce1b9da840209fdbb87b28daf6bf",
       "max": 199,
       "style": "IPY_MODEL_d129d46ce70542d3b17fa939feb17aaf",
       "value": 115
      }
     },
     "2e5bf85fbf9a43389bb20e0e8be5d343": {
      "model_module": "@jupyter-widgets/base",
      "model_module_version": "2.0.0",
      "model_name": "LayoutModel",
      "state": {}
     },
     "3272280f342749789a228c4800d699bf": {
      "model_module": "@jupyter-widgets/base",
      "model_module_version": "2.0.0",
      "model_name": "LayoutModel",
      "state": {}
     },
     "32f479fbdc5c4f89bed24ee77e35a237": {
      "model_module": "@jupyter-widgets/base",
      "model_module_version": "2.0.0",
      "model_name": "LayoutModel",
      "state": {}
     },
     "37b2712d64444af1ae438be478467ee1": {
      "model_module": "@jupyter-widgets/controls",
      "model_module_version": "2.0.0",
      "model_name": "HTMLStyleModel",
      "state": {
       "description_width": "",
       "font_size": null,
       "text_color": null
      }
     },
     "453f86f9f2714cae9080637584073914": {
      "model_module": "@jupyter-widgets/controls",
      "model_module_version": "2.0.0",
      "model_name": "ButtonModel",
      "state": {
       "description": "Save",
       "layout": "IPY_MODEL_e10f6197ab21412696788d75c359cfa0",
       "style": "IPY_MODEL_0593f6e090084b71bb48e5e54c1d50da",
       "tooltip": null
      }
     },
     "4628af49547a423382528c9ec0c89643": {
      "model_module": "@jupyter-widgets/controls",
      "model_module_version": "2.0.0",
      "model_name": "HTMLModel",
      "state": {
       "layout": "IPY_MODEL_4df1de09a7d646188b5a8838fac0c8fb",
       "style": "IPY_MODEL_37b2712d64444af1ae438be478467ee1",
       "value": "<style>\n.cell-output-ipywidget-background {\n    background-color: transparent !important;\n}\n.jp-OutputArea-output {\n    background-color: transparent;\n}\npre {\n    color: var(--vscode-editor-foreground);\n    margin: 0;\n}\n</style>"
      }
     },
     "468a12a7dfcb4c798d9a904615afc34e": {
      "model_module": "@jupyter-widgets/controls",
      "model_module_version": "2.0.0",
      "model_name": "ButtonModel",
      "state": {
       "description": "Collect (c)",
       "layout": "IPY_MODEL_1ac516bfc0c445f0b9a78c8189287c16",
       "style": "IPY_MODEL_166c5b3b734f4b81bc14709c3c426ac0",
       "tooltip": null
      }
     },
     "4b72599e14c042f3878a4453c34dcdea": {
      "model_module": "@jupyter-widgets/base",
      "model_module_version": "2.0.0",
      "model_name": "LayoutModel",
      "state": {}
     },
     "4df1de09a7d646188b5a8838fac0c8fb": {
      "model_module": "@jupyter-widgets/base",
      "model_module_version": "2.0.0",
      "model_name": "LayoutModel",
      "state": {}
     },
     "532b6a4a368b4934bf5cd2f7b008203c": {
      "model_module": "@jupyter-widgets/controls",
      "model_module_version": "2.0.0",
      "model_name": "ButtonStyleModel",
      "state": {
       "font_family": null,
       "font_size": null,
       "font_style": null,
       "font_variant": null,
       "font_weight": null,
       "text_color": null,
       "text_decoration": null
      }
     },
     "5412f7093b004e9b857bd74c04cde6ba": {
      "model_module": "@jupyter-widgets/controls",
      "model_module_version": "2.0.0",
      "model_name": "ButtonStyleModel",
      "state": {
       "font_family": null,
       "font_size": null,
       "font_style": null,
       "font_variant": null,
       "font_weight": null,
       "text_color": null,
       "text_decoration": null
      }
     },
     "5a477b0b6f1047908b479ad6f56a7773": {
      "model_module": "@jupyter-widgets/base",
      "model_module_version": "2.0.0",
      "model_name": "LayoutModel",
      "state": {}
     },
     "60b072110697480a98e5e9e5720a0f60": {
      "model_module": "@jupyter-widgets/base",
      "model_module_version": "2.0.0",
      "model_name": "LayoutModel",
      "state": {}
     },
     "6ead741c5c3d46abbe785f7981d9efa1": {
      "model_module": "@jupyter-widgets/controls",
      "model_module_version": "2.0.0",
      "model_name": "DescriptionStyleModel",
      "state": {
       "description_width": ""
      }
     },
     "77e952f64b984c1b9bf2e519dec3863c": {
      "model_module": "@jupyter-widgets/controls",
      "model_module_version": "2.0.0",
      "model_name": "HBoxModel",
      "state": {
       "children": [
        "IPY_MODEL_d09f8aeb895f4e218bdcd340435cc728",
        "IPY_MODEL_c15afae79de94be4807ebe24257aa33d",
        "IPY_MODEL_468a12a7dfcb4c798d9a904615afc34e",
        "IPY_MODEL_e8af2558e2784f9fb18005ad7f384a4e",
        "IPY_MODEL_453f86f9f2714cae9080637584073914"
       ],
       "layout": "IPY_MODEL_26ac93f292a74795ae2e0f2f7ce3321b"
      }
     },
     "7baadc3206f044c0bc0b4fcbe39dc309": {
      "model_module": "@jupyter-widgets/controls",
      "model_module_version": "2.0.0",
      "model_name": "LabelStyleModel",
      "state": {
       "description_width": "",
       "font_family": null,
       "font_size": null,
       "font_style": null,
       "font_variant": null,
       "font_weight": null,
       "text_color": null,
       "text_decoration": null
      }
     },
     "8724646bc00b4e608a5d8325de8fa3d7": {
      "model_module": "jupyter-webrtc",
      "model_module_version": "~0.6.0",
      "model_name": "ImageStreamModel",
      "state": {
       "_view_count": 1,
       "image": "IPY_MODEL_e472a77047bc4e378b182991c39dfd0e",
       "layout": "IPY_MODEL_4b72599e14c042f3878a4453c34dcdea"
      }
     },
     "9956497df4fa4d36a5bfbc5b26c04650": {
      "model_module": "@jupyter-widgets/base",
      "model_module_version": "2.0.0",
      "model_name": "LayoutModel",
      "state": {}
     },
     "a9ad27f3306949fda12e107226a2d45e": {
      "model_module": "@jupyter-widgets/controls",
      "model_module_version": "2.0.0",
      "model_name": "HBoxModel",
      "state": {
       "children": [
        "IPY_MODEL_2cf501f3630e4bc49f10d856e2af9b77",
        "IPY_MODEL_0c19bbae1b114917ba691179c32e29c9"
       ],
       "layout": "IPY_MODEL_1115035be1f14293ab1ad15aaa178cf4"
      }
     },
     "c15afae79de94be4807ebe24257aa33d": {
      "model_module": "@jupyter-widgets/controls",
      "model_module_version": "2.0.0",
      "model_name": "ButtonModel",
      "state": {
       "description": "Reset (r)",
       "layout": "IPY_MODEL_9956497df4fa4d36a5bfbc5b26c04650",
       "style": "IPY_MODEL_5412f7093b004e9b857bd74c04cde6ba",
       "tooltip": null
      }
     },
     "d09f8aeb895f4e218bdcd340435cc728": {
      "model_module": "@jupyter-widgets/controls",
      "model_module_version": "2.0.0",
      "model_name": "ButtonModel",
      "state": {
       "description": "Delete",
       "layout": "IPY_MODEL_090062275ee44381b3c30a655f1bc703",
       "style": "IPY_MODEL_fb3ff5ed744045d589a1858afcb2d4cf",
       "tooltip": null
      }
     },
     "d129d46ce70542d3b17fa939feb17aaf": {
      "model_module": "@jupyter-widgets/controls",
      "model_module_version": "2.0.0",
      "model_name": "SliderStyleModel",
      "state": {
       "description_width": ""
      }
     },
     "d50e8b59191b4093963da4b0a0e69484": {
      "model_module": "@jupyter-widgets/controls",
      "model_module_version": "2.0.0",
      "model_name": "LabelModel",
      "state": {
       "layout": "IPY_MODEL_3272280f342749789a228c4800d699bf",
       "style": "IPY_MODEL_7baadc3206f044c0bc0b4fcbe39dc309"
      }
     },
     "e10f6197ab21412696788d75c359cfa0": {
      "model_module": "@jupyter-widgets/base",
      "model_module_version": "2.0.0",
      "model_name": "LayoutModel",
      "state": {}
     },
     "e472a77047bc4e378b182991c39dfd0e": {
      "buffers": [
       {
        "data": "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",
        "encoding": "base64",
        "path": [
         "value"
        ]
       }
      ],
      "model_module": "@jupyter-widgets/controls",
      "model_module_version": "2.0.0",
      "model_name": "ImageModel",
      "state": {
       "layout": "IPY_MODEL_eebf27bb10fd4907add818eb9b41ef78"
      }
     },
     "e677808b1b83476494ad1665c103a616": {
      "model_module": "@jupyter-widgets/controls",
      "model_module_version": "2.0.0",
      "model_name": "HBoxModel",
      "state": {
       "children": [
        "IPY_MODEL_8724646bc00b4e608a5d8325de8fa3d7",
        "IPY_MODEL_4628af49547a423382528c9ec0c89643"
       ],
       "layout": "IPY_MODEL_2e5bf85fbf9a43389bb20e0e8be5d343"
      }
     },
     "e8af2558e2784f9fb18005ad7f384a4e": {
      "model_module": "@jupyter-widgets/controls",
      "model_module_version": "2.0.0",
      "model_name": "ButtonModel",
      "state": {
       "description": "Trim",
       "layout": "IPY_MODEL_32f479fbdc5c4f89bed24ee77e35a237",
       "style": "IPY_MODEL_532b6a4a368b4934bf5cd2f7b008203c",
       "tooltip": null
      }
     },
     "eebf27bb10fd4907add818eb9b41ef78": {
      "model_module": "@jupyter-widgets/base",
      "model_module_version": "2.0.0",
      "model_name": "LayoutModel",
      "state": {}
     },
     "fb3ff5ed744045d589a1858afcb2d4cf": {
      "model_module": "@jupyter-widgets/controls",
      "model_module_version": "2.0.0",
      "model_name": "ButtonStyleModel",
      "state": {
       "font_family": null,
       "font_size": null,
       "font_style": null,
       "font_variant": null,
       "font_weight": null,
       "text_color": null,
       "text_decoration": null
      }
     },
     "ff5b049dcb7b41489f45caddcee995bb": {
      "model_module": "@jupyter-widgets/controls",
      "model_module_version": "2.0.0",
      "model_name": "SliderStyleModel",
      "state": {
       "description_width": ""
      }
     },
     "ff6f85df294143c6aa3a955a48ea2cf3": {
      "model_module": "ipyevents",
      "model_module_version": "2.0.2",
      "model_name": "EventModel",
      "state": {
       "_supported_key_events": [
        "keydown",
        "keyup"
       ],
       "_supported_mouse_events": [
        "click",
        "auxclick",
        "dblclick",
        "mouseenter",
        "mouseleave",
        "mousedown",
        "mouseup",
        "mousemove",
        "wheel",
        "contextmenu",
        "dragstart",
        "drag",
        "dragend",
        "dragenter",
        "dragover",
        "dragleave",
        "drop"
       ],
       "_supported_touch_events": [
        "touchstart",
        "touchend",
        "touchmove",
        "touchcancel"
       ],
       "_view_module": "@jupyter-widgets/controls",
       "source": "IPY_MODEL_8724646bc00b4e608a5d8325de8fa3d7",
       "throttle_or_debounce": "",
       "watched_events": [
        "click",
        "keydown",
        "keyup",
        "mousemove"
       ],
       "xy_coordinate_system": ""
      }
     }
    },
    "version_major": 2,
    "version_minor": 0
   }
  }
 },
 "nbformat": 4,
 "nbformat_minor": 4
}
