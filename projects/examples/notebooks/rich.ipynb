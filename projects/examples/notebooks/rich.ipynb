{
 "cells": [
  {
   "cell_type": "code",
   "execution_count": 1,
   "metadata": {},
   "outputs": [
    {
     "name": "stderr",
     "output_type": "stream",
     "text": [
      "/Users/daniel/Documents/code/stanza/examples/.venv/lib/python3.12/site-packages/ffmpegio/__init__.py:91: SyntaxWarning: invalid escape sequence '\\|'\n",
      "  \"\"\"Open a multimedia file/stream for read/write\n",
      "/Users/daniel/Documents/code/stanza/examples/.venv/lib/python3.12/site-packages/ffmpegio/utils/__init__.py:688: SyntaxWarning: invalid escape sequence '\\d'\n",
      "  \"\"\"pop regex matching keys from options dict and\n",
      "/Users/daniel/Documents/code/stanza/examples/.venv/lib/python3.12/site-packages/ffmpegio/caps.py:61: SyntaxWarning: invalid escape sequence '\\|'\n",
      "  \"\"\"get FFmpeg command options\n",
      "/Users/daniel/Documents/code/stanza/examples/.venv/lib/python3.12/site-packages/ffmpegio/probe.py:680: SyntaxWarning: invalid escape sequence '\\*'\n",
      "  \"\"\"get frame information\n",
      "/Users/daniel/Documents/code/stanza/examples/.venv/lib/python3.12/site-packages/ffmpegio/audio.py:366: SyntaxWarning: invalid escape sequence '\\*'\n",
      "  \"\"\"detect audio stream features\n",
      "/Users/daniel/Documents/code/stanza/examples/.venv/lib/python3.12/site-packages/ffmpegio/analyze.py:179: SyntaxWarning: invalid escape sequence '\\*'\n",
      "  \"\"\"analyze media streams' frames with FFmpeg filters\n",
      "/Users/daniel/Documents/code/stanza/examples/.venv/lib/python3.12/site-packages/ffmpegio/analyze.py:323: SyntaxWarning: invalid escape sequence '\\*'\n",
      "  \"\"\"Logger for FFmpeg scdet filter to detect video scene change\n",
      "/Users/daniel/Documents/code/stanza/examples/.venv/lib/python3.12/site-packages/ffmpegio/analyze.py:423: SyntaxWarning: invalid escape sequence '\\*'\n",
      "  \"\"\"Logger for FFmpeg blackdetect filter to detect video intervals that are (almost) black\n",
      "/Users/daniel/Documents/code/stanza/examples/.venv/lib/python3.12/site-packages/ffmpegio/analyze.py:489: SyntaxWarning: invalid escape sequence '\\*'\n",
      "  \"\"\"Logger for FFmpeg blackframe filter to detect frames that are (almost) black\n",
      "/Users/daniel/Documents/code/stanza/examples/.venv/lib/python3.12/site-packages/ffmpegio/analyze.py:552: SyntaxWarning: invalid escape sequence '\\*'\n",
      "  \"\"\"Logger for FFmpeg freezedetect filter to detect frozen video input\n",
      "/Users/daniel/Documents/code/stanza/examples/.venv/lib/python3.12/site-packages/ffmpegio/analyze.py:618: SyntaxWarning: invalid escape sequence '\\*'\n",
      "  \"\"\"Logger for FFmpeg bbox filter to compute bounding box for each frame\n",
      "/Users/daniel/Documents/code/stanza/examples/.venv/lib/python3.12/site-packages/ffmpegio/analyze.py:689: SyntaxWarning: invalid escape sequence '\\*'\n",
      "  \"\"\"Logger for FFmpeg blurdetect filter to detect video frames that are blurry\n",
      "/Users/daniel/Documents/code/stanza/examples/.venv/lib/python3.12/site-packages/ffmpegio/analyze.py:763: SyntaxWarning: invalid escape sequence '\\*'\n",
      "  \"\"\"Logger for FFmpeg psnr filter to calculate the PSNR between two video streams\n",
      "/Users/daniel/Documents/code/stanza/examples/.venv/lib/python3.12/site-packages/ffmpegio/analyze.py:879: SyntaxWarning: invalid escape sequence '\\*'\n",
      "  \"\"\"Logger for FFmpeg silencedetect filter to detect silent audio intervals\n",
      "/Users/daniel/Documents/code/stanza/examples/.venv/lib/python3.12/site-packages/ffmpegio/analyze.py:974: SyntaxWarning: invalid escape sequence '\\*'\n",
      "  \"\"\"Logger for FFmpeg aphasemeter filter to measure stereo audio phase differences\n",
      "/Users/daniel/Documents/code/stanza/examples/.venv/lib/python3.12/site-packages/ffmpegio/analyze.py:1062: SyntaxWarning: invalid escape sequence '\\*'\n",
      "  \"\"\"Logger for FFmpeg astats filter to measure time domain statistics per audio frames\n",
      "/Users/daniel/Documents/code/stanza/examples/.venv/lib/python3.12/site-packages/ffmpegio/analyze.py:1242: SyntaxWarning: invalid escape sequence '\\*'\n",
      "  \"\"\"Logger for FFmpeg aspectralstats filter to measure frequency domain statistics about audio frames\n",
      "/Users/daniel/Documents/code/stanza/examples/.venv/lib/python3.12/site-packages/ffmpegio/video.py:358: SyntaxWarning: invalid escape sequence '\\*'\n",
      "  \"\"\"detect video frame features\n"
     ]
    }
   ],
   "source": [
    "# Tests the improved rich formatting\n",
    "import stanza.runtime\n",
    "stanza.runtime.setup() # try commenting out this line and see what happens!"
   ]
  },
  {
   "cell_type": "code",
   "execution_count": 4,
   "metadata": {},
   "outputs": [
    {
     "ename": "NameError",
     "evalue": "name 'T' is not defined",
     "output_type": "error",
     "traceback": [
      "\u001b[0;31m---------------------------------------------------------------------------\u001b[0m",
      "\u001b[0;31mNameError\u001b[0m                                 Traceback (most recent call last)",
      "Cell \u001b[0;32mIn[4], line 4\u001b[0m\n\u001b[1;32m      1\u001b[0m \u001b[38;5;28;01mimport\u001b[39;00m \u001b[38;5;21;01mtime\u001b[39;00m\n\u001b[1;32m      2\u001b[0m \u001b[38;5;28;01mimport\u001b[39;00m \u001b[38;5;21;01mrich\u001b[39;00m\u001b[38;5;21;01m.\u001b[39;00m\u001b[38;5;21;01mprogress\u001b[39;00m\n\u001b[0;32m----> 4\u001b[0m \u001b[38;5;28;01mfrom\u001b[39;00m \u001b[38;5;21;01mstanza\u001b[39;00m\u001b[38;5;21;01m.\u001b[39;00m\u001b[38;5;21;01mtrain\u001b[39;00m \u001b[38;5;28;01mimport\u001b[39;00m MofNColumn\n\u001b[1;32m      5\u001b[0m \u001b[38;5;28;01mfrom\u001b[39;00m \u001b[38;5;21;01mrich\u001b[39;00m\u001b[38;5;21;01m.\u001b[39;00m\u001b[38;5;21;01mprogress\u001b[39;00m \u001b[38;5;28;01mimport\u001b[39;00m Progress, TextColumn, BarColumn, TimeRemainingColumn, TimeElapsedColumn\n\u001b[1;32m      6\u001b[0m \u001b[38;5;28;01mfrom\u001b[39;00m \u001b[38;5;21;01mrich\u001b[39;00m\u001b[38;5;21;01m.\u001b[39;00m\u001b[38;5;21;01mstyle\u001b[39;00m \u001b[38;5;28;01mimport\u001b[39;00m Style\n",
      "File \u001b[0;32m~/Documents/code/stanza/examples/.venv/lib/python3.12/site-packages/stanza/train/__init__.py:4\u001b[0m\n\u001b[1;32m      1\u001b[0m \u001b[38;5;28;01mimport\u001b[39;00m \u001b[38;5;21;01mstanza\u001b[39;00m\u001b[38;5;21;01m.\u001b[39;00m\u001b[38;5;21;01mstruct\u001b[39;00m \u001b[38;5;28;01mas\u001b[39;00m \u001b[38;5;21;01mstruct\u001b[39;00m\n\u001b[1;32m      3\u001b[0m \u001b[38;5;28;01mfrom\u001b[39;00m \u001b[38;5;21;01mstanza\u001b[39;00m\u001b[38;5;21;01m.\u001b[39;00m\u001b[38;5;21;01mrandom\u001b[39;00m \u001b[38;5;28;01mimport\u001b[39;00m PRNGSequence\n\u001b[0;32m----> 4\u001b[0m \u001b[38;5;28;01mfrom\u001b[39;00m \u001b[38;5;21;01mstanza\u001b[39;00m\u001b[38;5;21;01m.\u001b[39;00m\u001b[38;5;21;01mdata\u001b[39;00m \u001b[38;5;28;01mimport\u001b[39;00m Data, DataLoader\n\u001b[1;32m      6\u001b[0m \u001b[38;5;66;03m# import all reporting datatypes\u001b[39;00m\n\u001b[1;32m      7\u001b[0m \u001b[38;5;28;01mfrom\u001b[39;00m \u001b[38;5;21;01m.\u001b[39;00m\u001b[38;5;21;01mreporting\u001b[39;00m \u001b[38;5;28;01mimport\u001b[39;00m \u001b[38;5;241m*\u001b[39m\n",
      "File \u001b[0;32m~/Documents/code/stanza/examples/.venv/lib/python3.12/site-packages/stanza/data/__init__.py:2\u001b[0m\n\u001b[1;32m      1\u001b[0m \u001b[38;5;28;01mfrom\u001b[39;00m \u001b[38;5;21;01m.\u001b[39;00m\u001b[38;5;21;01mcore\u001b[39;00m \u001b[38;5;28;01mimport\u001b[39;00m Data\n\u001b[0;32m----> 2\u001b[0m \u001b[38;5;28;01mfrom\u001b[39;00m \u001b[38;5;21;01m.\u001b[39;00m\u001b[38;5;21;01mloader\u001b[39;00m \u001b[38;5;28;01mimport\u001b[39;00m DataLoader\n",
      "File \u001b[0;32m~/Documents/code/stanza/examples/.venv/lib/python3.12/site-packages/stanza/data/loader.py:3\u001b[0m\n\u001b[1;32m      1\u001b[0m \u001b[38;5;28;01mfrom\u001b[39;00m \u001b[38;5;21;01mtyping\u001b[39;00m \u001b[38;5;28;01mimport\u001b[39;00m Generic\n\u001b[0;32m----> 3\u001b[0m \u001b[38;5;28;01mclass\u001b[39;00m \u001b[38;5;21;01mDataLoader\u001b[39;00m(Generic[\u001b[43mT\u001b[49m]):\n\u001b[1;32m      4\u001b[0m     \u001b[38;5;28;01mdef\u001b[39;00m \u001b[38;5;21m__init__\u001b[39m(\u001b[38;5;28mself\u001b[39m, data: Data[T], \u001b[38;5;241m*\u001b[39m, \n\u001b[1;32m      5\u001b[0m                 batch_size : \u001b[38;5;28mint\u001b[39m \u001b[38;5;241m=\u001b[39m \u001b[38;5;241m1\u001b[39m,\n\u001b[1;32m      6\u001b[0m                 shuffle : \u001b[38;5;28mbool\u001b[39m \u001b[38;5;241m=\u001b[39m \u001b[38;5;28;01mFalse\u001b[39;00m,\n\u001b[1;32m      7\u001b[0m                 rng_key : jax\u001b[38;5;241m.\u001b[39mArray \u001b[38;5;241m=\u001b[39m \u001b[38;5;28;01mNone\u001b[39;00m,\n\u001b[1;32m      8\u001b[0m                 drop_jagged : \u001b[38;5;28mbool\u001b[39m \u001b[38;5;241m=\u001b[39m \u001b[38;5;28;01mFalse\u001b[39;00m,\n\u001b[1;32m      9\u001b[0m                 num_workers : \u001b[38;5;28mint\u001b[39m \u001b[38;5;241m=\u001b[39m \u001b[38;5;241m1\u001b[39m, chunksize : \u001b[38;5;28mint\u001b[39m \u001b[38;5;241m=\u001b[39m \u001b[38;5;241m16\u001b[39m):\n\u001b[1;32m     10\u001b[0m         \u001b[38;5;28;01mif\u001b[39;00m shuffle \u001b[38;5;129;01mand\u001b[39;00m rng_key \u001b[38;5;129;01mis\u001b[39;00m \u001b[38;5;28;01mNone\u001b[39;00m:\n",
      "\u001b[0;31mNameError\u001b[0m: name 'T' is not defined"
     ]
    }
   ],
   "source": [
    "import time\n",
    "import rich.progress\n",
    "\n",
    "from stanza.train import MofNColumn\n",
    "from rich.progress import Progress, TextColumn, BarColumn, TimeRemainingColumn, TimeElapsedColumn\n",
    "from rich.style import Style\n",
    "\n",
    "pbar = Progress(\n",
    "            TextColumn(\"[progress.description]{task.description}\"),\n",
    "            BarColumn(finished_style=Style(color=\"green\")),\n",
    "            MofNColumn(),\n",
    "            TimeRemainingColumn(),\n",
    "            TimeElapsedColumn()\n",
    "        )\n",
    "total_iteration_task = pbar.add_task(\"Iteration\", total=1000)\n",
    "epoch_task = pbar.add_task(\"Epoch\", total=100)\n",
    "iteration_task = pbar.add_task(\"Epoch Iteration\", total=10)\n",
    "with pbar:\n",
    "    for i in range(100):\n",
    "        pbar.reset(iteration_task, completed=0)\n",
    "        for i in range(10):\n",
    "            pbar.update(total_iteration_task, advance=1)\n",
    "            pbar.update(iteration_task, advance=1)\n",
    "        pbar.update(epoch_task, advance=1)\n",
    "    pbar.refresh()"
   ]
  },
  {
   "cell_type": "code",
   "execution_count": null,
   "metadata": {},
   "outputs": [],
   "source": [
    "print(\"hi\")"
   ]
  },
  {
   "cell_type": "code",
   "execution_count": null,
   "metadata": {},
   "outputs": [],
   "source": [
    "import logging\n",
    "logger = logging.getLogger(\"stanza\")\n",
    "\n",
    "logger.info(\"Hi\")\n",
    "logger.info(\"Hello\")"
   ]
  }
 ],
 "metadata": {
  "kernelspec": {
   "display_name": "Python 3 (ipykernel)",
   "language": "python",
   "name": "python3"
  },
  "language_info": {
   "codemirror_mode": {
    "name": "ipython",
    "version": 3
   },
   "file_extension": ".py",
   "mimetype": "text/x-python",
   "name": "python",
   "nbconvert_exporter": "python",
   "pygments_lexer": "ipython3",
   "version": "3.12.2"
  },
  "widgets": {
   "application/vnd.jupyter.widget-state+json": {
    "state": {
     "1205bd6133654b7ea96058955355946f": {
      "model_module": "@jupyter-widgets/base",
      "model_module_version": "2.0.0",
      "model_name": "LayoutModel",
      "state": {}
     },
     "1ab787d54f5c44938b3b62d4a13ae233": {
      "model_module": "@jupyter-widgets/output",
      "model_module_version": "1.0.0",
      "model_name": "OutputModel",
      "state": {
       "layout": "IPY_MODEL_a25ffa38f2eb47ebba4494ec58b636fb",
       "outputs": [
        {
         "data": {
          "text/html": "<pre style=\"white-space:pre;overflow-x:auto;line-height:normal;font-family:Menlo,'DejaVu Sans Mono',consolas,'Courier New',monospace\">Work <span style=\"color: #729c1f; text-decoration-color: #729c1f\">━━━━━━━━━━━━━━━━━━━━━━━━━━━━━━━━━━━━━━━━</span> <span style=\"color: #800080; text-decoration-color: #800080\">100%</span> <span style=\"color: #008080; text-decoration-color: #008080\">0:00:00</span>\n</pre>\n",
          "text/plain": "Work \u001b[38;2;114;156;31m━━━━━━━━━━━━━━━━━━━━━━━━━━━━━━━━━━━━━━━━\u001b[0m \u001b[35m100%\u001b[0m \u001b[36m0:00:00\u001b[0m\n"
         },
         "metadata": {},
         "output_type": "display_data"
        }
       ]
      }
     },
     "1bfcb31206b74859a5fd6c5fb4335efd": {
      "model_module": "@jupyter-widgets/controls",
      "model_module_version": "2.0.0",
      "model_name": "HTMLStyleModel",
      "state": {
       "description_width": "",
       "font_size": null,
       "text_color": null
      }
     },
     "28f420f152c04e608570457b499eea38": {
      "model_module": "@jupyter-widgets/base",
      "model_module_version": "2.0.0",
      "model_name": "LayoutModel",
      "state": {}
     },
     "307f46e0da414efb96e1c12272500623": {
      "model_module": "@jupyter-widgets/controls",
      "model_module_version": "2.0.0",
      "model_name": "HTMLStyleModel",
      "state": {
       "description_width": "",
       "font_size": null,
       "text_color": null
      }
     },
     "42b01b5181ca4ddaaf57972b76e6f3c4": {
      "model_module": "@jupyter-widgets/base",
      "model_module_version": "2.0.0",
      "model_name": "LayoutModel",
      "state": {}
     },
     "489ece5b0d984121829866f2218deea3": {
      "model_module": "@jupyter-widgets/output",
      "model_module_version": "1.0.0",
      "model_name": "OutputModel",
      "state": {
       "layout": "IPY_MODEL_1205bd6133654b7ea96058955355946f",
       "outputs": [
        {
         "data": {
          "text/html": "<pre style=\"white-space:pre;overflow-x:auto;line-height:normal;font-family:Menlo,'DejaVu Sans Mono',consolas,'Courier New',monospace\">hi there\n</pre>\n",
          "text/plain": "hi there\n"
         },
         "metadata": {},
         "output_type": "display_data"
        },
        {
         "data": {
          "application/vnd.jupyter.widget-view+json": {
           "model_id": "1ab787d54f5c44938b3b62d4a13ae233",
           "version_major": 2,
           "version_minor": 0
          },
          "text/plain": "Output()"
         },
         "metadata": {},
         "output_type": "display_data"
        },
        {
         "data": {
          "text/html": "<pre style=\"white-space:pre;overflow-x:auto;line-height:normal;font-family:Menlo,'DejaVu Sans Mono',consolas,'Courier New',monospace\"></pre>\n",
          "text/plain": ""
         },
         "metadata": {},
         "output_type": "display_data"
        },
        {
         "data": {
          "text/html": "<pre style=\"white-space:pre;overflow-x:auto;line-height:normal;font-family:Menlo,'DejaVu Sans Mono',consolas,'Courier New',monospace\">\n</pre>\n",
          "text/plain": "\n"
         },
         "metadata": {},
         "output_type": "display_data"
        }
       ]
      }
     },
     "56ccf2b7784f4f3a96fe905538790036": {
      "model_module": "@jupyter-widgets/base",
      "model_module_version": "2.0.0",
      "model_name": "LayoutModel",
      "state": {}
     },
     "99277e6b21ff44e39b31048ba0aba0e0": {
      "model_module": "@jupyter-widgets/output",
      "model_module_version": "1.0.0",
      "model_name": "OutputModel",
      "state": {
       "layout": "IPY_MODEL_a97f16e493224b13ab0406f129f07a51",
       "outputs": [
        {
         "data": {
          "text/html": "<pre style=\"white-space:pre;overflow-x:auto;line-height:normal;font-family:Menlo,'DejaVu Sans Mono',consolas,'Courier New',monospace\"><span style=\"color: #7fbfbf; text-decoration-color: #7fbfbf\">[17:16:24] </span><span style=\"color: #000080; text-decoration-color: #000080\">INFO    </span> stanza - Hi\n</pre>\n",
          "text/plain": "\u001b[2;36m[17:16:24]\u001b[0m\u001b[2;36m \u001b[0m\u001b[34mINFO    \u001b[0m stanza - Hi\n"
         },
         "metadata": {},
         "output_type": "display_data"
        },
        {
         "data": {
          "text/html": "<pre style=\"white-space:pre;overflow-x:auto;line-height:normal;font-family:Menlo,'DejaVu Sans Mono',consolas,'Courier New',monospace\"><span style=\"color: #7fbfbf; text-decoration-color: #7fbfbf\">           </span><span style=\"color: #000080; text-decoration-color: #000080\">INFO    </span> stanza - Hello\n</pre>\n",
          "text/plain": "\u001b[2;36m          \u001b[0m\u001b[2;36m \u001b[0m\u001b[34mINFO    \u001b[0m stanza - Hello\n"
         },
         "metadata": {},
         "output_type": "display_data"
        }
       ]
      }
     },
     "9c2187306be84248b3ccce84b843f287": {
      "model_module": "@jupyter-widgets/controls",
      "model_module_version": "2.0.0",
      "model_name": "HTMLModel",
      "state": {
       "layout": "IPY_MODEL_28f420f152c04e608570457b499eea38",
       "style": "IPY_MODEL_1bfcb31206b74859a5fd6c5fb4335efd",
       "value": "<style>\n.cell-output-ipywidget-background {\n    background-color: transparent !important;\n}\n.jp-OutputArea-output {\n    background-color: transparent;\n}\npre {\n    color: var(--vscode-editor-foreground);\n    margin: 0;\n}\n</style>"
      }
     },
     "a25ffa38f2eb47ebba4494ec58b636fb": {
      "model_module": "@jupyter-widgets/base",
      "model_module_version": "2.0.0",
      "model_name": "LayoutModel",
      "state": {}
     },
     "a97f16e493224b13ab0406f129f07a51": {
      "model_module": "@jupyter-widgets/base",
      "model_module_version": "2.0.0",
      "model_name": "LayoutModel",
      "state": {}
     },
     "bfa61badb42c4a32804da4d2edc55744": {
      "model_module": "@jupyter-widgets/base",
      "model_module_version": "2.0.0",
      "model_name": "LayoutModel",
      "state": {}
     },
     "c5ba8e7de829469d8de0dfc14ed4474e": {
      "model_module": "@jupyter-widgets/controls",
      "model_module_version": "2.0.0",
      "model_name": "HBoxModel",
      "state": {
       "children": [
        "IPY_MODEL_9c2187306be84248b3ccce84b843f287",
        "IPY_MODEL_99277e6b21ff44e39b31048ba0aba0e0"
       ],
       "layout": "IPY_MODEL_bfa61badb42c4a32804da4d2edc55744"
      }
     },
     "f09d3236e5da47dc952b01e727205a5c": {
      "model_module": "@jupyter-widgets/controls",
      "model_module_version": "2.0.0",
      "model_name": "HBoxModel",
      "state": {
       "children": [
        "IPY_MODEL_f7531b23682a4d5d801cf0cb66af46fc",
        "IPY_MODEL_489ece5b0d984121829866f2218deea3"
       ],
       "layout": "IPY_MODEL_42b01b5181ca4ddaaf57972b76e6f3c4"
      }
     },
     "f7531b23682a4d5d801cf0cb66af46fc": {
      "model_module": "@jupyter-widgets/controls",
      "model_module_version": "2.0.0",
      "model_name": "HTMLModel",
      "state": {
       "layout": "IPY_MODEL_56ccf2b7784f4f3a96fe905538790036",
       "style": "IPY_MODEL_307f46e0da414efb96e1c12272500623",
       "value": "<style>\n.cell-output-ipywidget-background {\n    background-color: transparent !important;\n}\n.jp-OutputArea-output {\n    background-color: transparent;\n}\npre {\n    color: var(--vscode-editor-foreground);\n    margin: 0;\n}\n</style>"
      }
     }
    },
    "version_major": 2,
    "version_minor": 0
   }
  }
 },
 "nbformat": 4,
 "nbformat_minor": 4
}
