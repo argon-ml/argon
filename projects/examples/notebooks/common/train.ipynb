{
 "cells": [
  {
   "cell_type": "code",
   "execution_count": 1,
   "metadata": {},
   "outputs": [],
   "source": [
    "import stanza.runtime\n",
    "stanza.runtime.setup()\n",
    "\n",
    "from stanza.data import PyTreeData\n",
    "from stanza import train\n",
    "\n",
    "from typing import Sequence\n",
    "\n",
    "import optax\n",
    "import jax\n",
    "import jax.numpy as jnp\n",
    "import flax.linen as nn\n",
    "import stanza.train.ipython\n",
    "import stanza.train.wandb"
   ]
  },
  {
   "cell_type": "code",
   "execution_count": 2,
   "metadata": {},
   "outputs": [],
   "source": [
    "X = jnp.arange(1000).reshape((100, 10))\n",
    "Y = (jnp.arange(100) > 50).reshape((100,))\n",
    "train_data = PyTreeData((X, Y))"
   ]
  },
  {
   "cell_type": "code",
   "execution_count": 3,
   "metadata": {},
   "outputs": [],
   "source": [
    "class SimpleMLP(nn.Module):\n",
    "    features: Sequence[int]\n",
    "\n",
    "    @nn.compact\n",
    "    def __call__(self, inputs):\n",
    "        x = inputs\n",
    "        for i, feat in enumerate(self.features):\n",
    "            x = nn.Dense(feat, name=f'layers_{i}')(x)\n",
    "            if i != len(self.features) - 1:\n",
    "                x = nn.relu(x)\n",
    "        return x\n",
    "\n",
    "def loss(vars, rng_key, sample, iteration):\n",
    "    x, y = sample\n",
    "    y_hat = model.apply(vars, x)\n",
    "    loss = jnp.sum(jnp.square(y_hat - y))\n",
    "    return train.LossOutput(\n",
    "        loss=loss,\n",
    "        metrics={\"loss\": loss}\n",
    "    )\n",
    "loss_fn = train.batch_loss(loss)\n",
    "\n",
    "model = SimpleMLP([20, 10])"
   ]
  },
  {
   "cell_type": "code",
   "execution_count": 5,
   "metadata": {},
   "outputs": [
    {
     "name": "stdout",
     "output_type": "stream",
     "text": [
      "https://wandb.ai/dpfrommer-projects/stanza-projects_examples_notebooks_common/runs/wm25rwnw\n"
     ]
    },
    {
     "data": {
      "text/plain": [
       "Iteration       \u001b[32m━━━━━━━━━━━━━━━━━━━━━━━━━━━━━━━━━\u001b[0m \u001b[35m1000/1000\u001b[0m \u001b[35m100%\u001b[0m \u001b[36m0:00:00\u001b[0m \u001b[33m0:00:01\u001b[0m\n",
       "Epoch           \u001b[32m━━━━━━━━━━━━━━━━━━━━━━━━━━━━━━━━━\u001b[0m \u001b[35m167/167  \u001b[0m \u001b[35m100%\u001b[0m \u001b[36m0:00:00\u001b[0m \u001b[33m0:00:01\u001b[0m\n",
       "Epoch Iteration \u001b[32m━━━━━━━━━━━━━━━━━━━━━━━━━━━━━━━━━\u001b[0m \u001b[35m4/4      \u001b[0m \u001b[35m100%\u001b[0m \u001b[36m0:00:00\u001b[0m \u001b[33m0:00:00\u001b[0m\n"
      ]
     },
     "metadata": {},
     "output_type": "display_data"
    },
    {
     "name": "stdout",
     "output_type": "stream",
     "text": [
      "\u001b[2;36m[15:56:55]\u001b[0m\u001b[2;36m \u001b[0m\u001b[34mINFO    \u001b[0m stanza.train -      \u001b[1;36m0\u001b[0m | loss: \u001b[1;36m1134275.625\u001b[0m\n",
      "\u001b[2;36m          \u001b[0m\u001b[2;36m \u001b[0m\u001b[34mINFO    \u001b[0m stanza.train -    \u001b[1;36m100\u001b[0m | loss: \u001b[1;36m558311.9375\u001b[0m\n",
      "\u001b[2;36m          \u001b[0m\u001b[2;36m \u001b[0m\u001b[34mINFO    \u001b[0m stanza.train -    \u001b[1;36m200\u001b[0m | loss: \u001b[1;36m375918.28125\u001b[0m\n",
      "\u001b[2;36m          \u001b[0m\u001b[2;36m \u001b[0m\u001b[34mINFO    \u001b[0m stanza.train -    \u001b[1;36m300\u001b[0m | loss: \u001b[1;36m123352.2109375\u001b[0m\n",
      "\u001b[2;36m[15:56:56]\u001b[0m\u001b[2;36m \u001b[0m\u001b[34mINFO    \u001b[0m stanza.train -    \u001b[1;36m400\u001b[0m | loss: \u001b[1;36m133825.625\u001b[0m\n",
      "\u001b[2;36m          \u001b[0m\u001b[2;36m \u001b[0m\u001b[34mINFO    \u001b[0m stanza.train -    \u001b[1;36m500\u001b[0m | loss: \u001b[1;36m56262.05859375\u001b[0m\n",
      "\u001b[2;36m          \u001b[0m\u001b[2;36m \u001b[0m\u001b[34mINFO    \u001b[0m stanza.train -    \u001b[1;36m600\u001b[0m | loss: \u001b[1;36m37692.49609375\u001b[0m\n",
      "\u001b[2;36m          \u001b[0m\u001b[2;36m \u001b[0m\u001b[34mINFO    \u001b[0m stanza.train -    \u001b[1;36m700\u001b[0m | loss: \u001b[1;36m8036.95751953125\u001b[0m\n",
      "\u001b[2;36m          \u001b[0m\u001b[2;36m \u001b[0m\u001b[34mINFO    \u001b[0m stanza.train -    \u001b[1;36m800\u001b[0m | loss: \u001b[1;36m3596.23828125\u001b[0m\n",
      "\u001b[2;36m          \u001b[0m\u001b[2;36m \u001b[0m\u001b[34mINFO    \u001b[0m stanza.train -    \u001b[1;36m900\u001b[0m | loss: \u001b[1;36m4816.80078125\u001b[0m\n",
      "\u001b[2;36m          \u001b[0m\u001b[2;36m \u001b[0m\u001b[34mINFO    \u001b[0m stanza.train -    \u001b[1;36m999\u001b[0m | loss: \u001b[1;36m1787.5040283203125\u001b[0m\n"
     ]
    }
   ],
   "source": [
    "import wandb\n",
    "run = wandb.init(reinit=True)\n",
    "print(run.url)\n",
    "\n",
    "optimizer = optax.adamw(1e-4)\n",
    "\n",
    "vars = model.init(jax.random.key(42), jnp.zeros_like(train_data.structure[0]))\n",
    "opt_state = optimizer.init(vars[\"params\"])\n",
    "\n",
    "with train.loop(train_data, \n",
    "            batch_size=16, \n",
    "            rng_key=jax.random.key(42),\n",
    "            iterations=1000,\n",
    "            progress=True\n",
    "        ) as loop:\n",
    "    for epoch in loop.epochs():\n",
    "        for step in epoch.steps():\n",
    "            # *note*: consumes opt_state, vars\n",
    "            opt_state, vars, metrics = train.step(\n",
    "                loss_fn, optimizer, opt_state, vars, \n",
    "                step.rng_key, step.batch,\n",
    "                # extra arguments for the loss function\n",
    "                iteration=step.iteration\n",
    "            )\n",
    "            if step.iteration % 100 == 0:\n",
    "                train.ipython.log(step.iteration, metrics)\n",
    "                train.wandb.log(step.iteration, metrics, run=run)\n",
    "    train.ipython.log(step.iteration, metrics)\n",
    "    train.wandb.log(step.iteration, metrics, run=run)"
   ]
  },
  {
   "cell_type": "code",
   "execution_count": null,
   "metadata": {},
   "outputs": [],
   "source": []
  }
 ],
 "metadata": {
  "kernelspec": {
   "display_name": "Python 3 (ipykernel)",
   "language": "python",
   "name": "python3"
  },
  "language_info": {
   "codemirror_mode": {
    "name": "ipython",
    "version": 3
   },
   "file_extension": ".py",
   "mimetype": "text/x-python",
   "name": "python",
   "nbconvert_exporter": "python",
   "pygments_lexer": "ipython3",
   "version": "3.12.4"
  },
  "widgets": {
   "application/vnd.jupyter.widget-state+json": {
    "state": {},
    "version_major": 2,
    "version_minor": 0
   }
  }
 },
 "nbformat": 4,
 "nbformat_minor": 4
}
