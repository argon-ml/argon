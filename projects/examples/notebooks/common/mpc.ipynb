{
 "cells": [
  {
   "cell_type": "code",
   "execution_count": 1,
   "metadata": {},
   "outputs": [],
   "source": [
    "from stanza.runtime import setup\n",
    "setup()\n",
    "\n",
    "import logging\n",
    "logger = logging.getLogger(\"examples.mpc\")\n",
    "logger.setLevel(logging.DEBUG)"
   ]
  },
  {
   "cell_type": "code",
   "execution_count": 2,
   "metadata": {},
   "outputs": [],
   "source": [
    "from stanza.random import PRNGSequence\n",
    "from stanza.policy.mpc import MPC\n",
    "from stanza.envs import env_registry\n",
    "\n",
    "import stanza.policy\n",
    "\n",
    "from jax.random import PRNGKey\n",
    "\n",
    "import jax"
   ]
  },
  {
   "cell_type": "code",
   "execution_count": 3,
   "metadata": {},
   "outputs": [],
   "source": [
    "rng = PRNGSequence(42)\n",
    "\n",
    "env = env_registry.create(\"quadrotor_2d\")\n",
    "x0 = env.reset(next(rng))\n",
    "\n",
    "policy = MPC(\n",
    "    action_sample=env.sample_action(PRNGKey(0)),\n",
    "    model_fn=env.step,\n",
    "    cost_fn=env.cost,\n",
    "    horizon_length=20\n",
    ")\n",
    "traj = stanza.policy.rollout(\n",
    "    env.step, x0, policy, length=100\n",
    ")\n",
    "imgs = jax.vmap(env.render)(traj.states)"
   ]
  },
  {
   "cell_type": "code",
   "execution_count": 4,
   "metadata": {},
   "outputs": [
    {
     "data": {
      "application/vnd.jupyter.widget-view+json": {
       "model_id": "a017347ed70b44be839f3184e328f630",
       "version_major": 2,
       "version_minor": 0
      },
      "text/plain": [
       "HBox(children=(HTML(value='<style>\\n.cell-output-ipywidget-background {\\n    background-color: transparent !im…"
      ]
     },
     "execution_count": 4,
     "metadata": {},
     "output_type": "execute_result"
    }
   ],
   "source": [
    "import stanza.util.ipython as du\n",
    "\n",
    "du.as_video(imgs, fps=28)"
   ]
  }
 ],
 "metadata": {
  "kernelspec": {
   "display_name": ".venv",
   "language": "python",
   "name": "python3"
  },
  "language_info": {
   "codemirror_mode": {
    "name": "ipython",
    "version": 3
   },
   "file_extension": ".py",
   "mimetype": "text/x-python",
   "name": "python",
   "nbconvert_exporter": "python",
   "pygments_lexer": "ipython3",
   "version": "3.10.12"
  }
 },
 "nbformat": 4,
 "nbformat_minor": 2
}
