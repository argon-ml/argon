{
 "cells": [
  {
   "cell_type": "code",
   "execution_count": 1,
   "metadata": {},
   "outputs": [
    {
     "name": "stdout",
     "output_type": "stream",
     "text": [
      "dcls ['x', 'y'] []\n",
      "making decorator\n",
      "dcls ['a'] []\n",
      "making decorator\n",
      "dcls ['x', 'y', 'foo'] []\n",
      "[Array(1, dtype=int32, weak_type=True), Array(2, dtype=int32, weak_type=True), Array(3, dtype=int32, weak_type=True)]\n"
     ]
    },
    {
     "ename": "AssertionError",
     "evalue": "",
     "output_type": "error",
     "traceback": [
      "\u001b[0;31m---------------------------------------------------------------------------\u001b[0m",
      "\u001b[0;31mAssertionError\u001b[0m                            Traceback (most recent call last)",
      "Cell \u001b[0;32mIn[1], line 35\u001b[0m\n\u001b[1;32m     33\u001b[0m     \u001b[38;5;28mprint\u001b[39m(leaves)\n\u001b[1;32m     34\u001b[0m     \u001b[38;5;28;01massert\u001b[39;00m \u001b[38;5;28;01mFalse\u001b[39;00m\n\u001b[0;32m---> 35\u001b[0m \u001b[43mtest_inherit\u001b[49m\u001b[43m(\u001b[49m\u001b[43m)\u001b[49m\n",
      "Cell \u001b[0;32mIn[1], line 34\u001b[0m, in \u001b[0;36mtest_inherit\u001b[0;34m()\u001b[0m\n\u001b[1;32m     32\u001b[0m leaves, _ \u001b[38;5;241m=\u001b[39m jax\u001b[38;5;241m.\u001b[39mtree_util\u001b[38;5;241m.\u001b[39mtree_flatten(c)\n\u001b[1;32m     33\u001b[0m \u001b[38;5;28mprint\u001b[39m(leaves)\n\u001b[0;32m---> 34\u001b[0m \u001b[38;5;28;01massert\u001b[39;00m \u001b[38;5;28;01mFalse\u001b[39;00m\n",
      "\u001b[0;31mAssertionError\u001b[0m: "
     ]
    }
   ],
   "source": [
    "from stanza.dataclasses import dataclass, field\n",
    "\n",
    "import jax.numpy as jnp\n",
    "import jax.tree_util\n",
    "\n",
    "@dataclass\n",
    "class A:\n",
    "    x: int\n",
    "    y: int\n",
    "    z: int = field(default=0)\n",
    "\n",
    "@dataclass(kw_only=True)\n",
    "class B:\n",
    "    a: int = None\n",
    "\n",
    "@dataclass(kw_only=True)\n",
    "class C(A):\n",
    "    foo: jax.Array\n",
    "\n",
    "def test_simple():\n",
    "    a = A(1,0)\n",
    "    assert a.x == 1\n",
    "    assert a.y == 0\n",
    "    assert a.z == 0\n",
    "\n",
    "def test_kwonly():\n",
    "    b = B(a=1)\n",
    "    assert b.a == 1\n",
    "\n",
    "def test_inherit():\n",
    "    c = C(x=jnp.array(1), y=jnp.array(2), foo=jnp.array(3))\n",
    "    assert False\n",
    "\n",
    "test_inherit()"
   ]
  },
  {
   "cell_type": "code",
   "execution_count": null,
   "metadata": {},
   "outputs": [],
   "source": []
  }
 ],
 "metadata": {
  "kernelspec": {
   "display_name": ".venv",
   "language": "python",
   "name": "python3"
  },
  "language_info": {
   "codemirror_mode": {
    "name": "ipython",
    "version": 3
   },
   "file_extension": ".py",
   "mimetype": "text/x-python",
   "name": "python",
   "nbconvert_exporter": "python",
   "pygments_lexer": "ipython3",
   "version": "3.12.2"
  }
 },
 "nbformat": 4,
 "nbformat_minor": 2
}
