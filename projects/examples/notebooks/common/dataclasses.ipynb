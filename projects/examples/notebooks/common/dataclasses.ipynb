{
 "cells": [
  {
   "cell_type": "code",
   "execution_count": 1,
   "metadata": {},
   "outputs": [],
   "source": [
    "from stanza.dataclasses import dataclass, field\n",
    "\n",
    "import jax.numpy as jnp\n",
    "import jax.tree_util\n",
    "\n",
    "@dataclass\n",
    "class A:\n",
    "    x: int\n",
    "    y: int\n",
    "    z: int = field(default=0)\n",
    "\n",
    "@dataclass(kw_only=True)\n",
    "class B:\n",
    "    a: int = None\n",
    "\n",
    "@dataclass(kw_only=True)\n",
    "class C(A):\n",
    "    foo: jax.Array\n",
    "\n",
    "def test_simple():\n",
    "    a = A(1,0)\n",
    "    assert a.x == 1\n",
    "    assert a.y == 0\n",
    "    assert a.z == 0\n",
    "\n",
    "def test_kwonly():\n",
    "    b = B(a=1)\n",
    "    assert b.a == 1\n",
    "\n",
    "def test_inherit():\n",
    "    c = C(x=jnp.array(1), y=jnp.array(2), foo=jnp.array(3))\n",
    "\n",
    "test_inherit()"
   ]
  },
  {
   "cell_type": "code",
   "execution_count": null,
   "metadata": {},
   "outputs": [],
   "source": []
  }
 ],
 "metadata": {
  "kernelspec": {
   "display_name": ".venv",
   "language": "python",
   "name": "python3"
  },
  "language_info": {
   "codemirror_mode": {
    "name": "ipython",
    "version": 3
   },
   "file_extension": ".py",
   "mimetype": "text/x-python",
   "name": "python",
   "nbconvert_exporter": "python",
   "pygments_lexer": "ipython3",
   "version": "3.12.2"
  }
 },
 "nbformat": 4,
 "nbformat_minor": 2
}
