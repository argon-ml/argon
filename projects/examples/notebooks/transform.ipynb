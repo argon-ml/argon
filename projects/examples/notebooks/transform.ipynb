{
 "cells": [
  {
   "cell_type": "code",
   "execution_count": 1,
   "metadata": {},
   "outputs": [],
   "source": [
    "import stanza.transform"
   ]
  },
  {
   "cell_type": "code",
   "execution_count": 2,
   "metadata": {},
   "outputs": [
    {
     "name": "stdout",
     "output_type": "stream",
     "text": [
      "PRNGSequence(Cell(Array([ 0, 42], dtype=uint32)))\n",
      "([(2,)], (PRNGSequence(CellRef(0)),), {})\n",
      "Tracing...\n",
      "PRNGSequence(Cell(Array([2465931498, 3679230171], dtype=uint32)))\n",
      "([(2,)], (PRNGSequence(CellRef(0)),), {})\n",
      "PRNGSequence(Cell(Array([3164236999, 3984487275], dtype=uint32)))\n"
     ]
    }
   ],
   "source": [
    "# A simple demonstration of how mutable \n",
    "# objects can be passed to stanza jit functions\n",
    "import stanza\n",
    "from stanza.random import PRNGSequence\n",
    "\n",
    "@stanza.jit\n",
    "def foo(a : PRNGSequence):\n",
    "    print(\"Tracing...\")\n",
    "    next(a)\n",
    "\n",
    "a = PRNGSequence(42)\n",
    "print(a)\n",
    "foo(a)\n",
    "print(a)\n",
    "foo(a)\n",
    "print(a)"
   ]
  },
  {
   "cell_type": "code",
   "execution_count": 3,
   "metadata": {},
   "outputs": [
    {
     "ename": "ImportError",
     "evalue": "cannot import name 'PRNGSequence' from 'stanza.util.random' (/home/daniel/Documents/code/stanza/src/stanza/util/random.py)",
     "output_type": "error",
     "traceback": [
      "\u001b[0;31m---------------------------------------------------------------------------\u001b[0m",
      "\u001b[0;31mImportError\u001b[0m                               Traceback (most recent call last)",
      "Cell \u001b[0;32mIn[3], line 1\u001b[0m\n\u001b[0;32m----> 1\u001b[0m \u001b[38;5;28;01mfrom\u001b[39;00m \u001b[38;5;21;01mstanza\u001b[39;00m\u001b[38;5;21;01m.\u001b[39;00m\u001b[38;5;21;01mnn\u001b[39;00m\u001b[38;5;21;01m.\u001b[39;00m\u001b[38;5;21;01mmodels\u001b[39;00m\u001b[38;5;21;01m.\u001b[39;00m\u001b[38;5;21;01mmlp\u001b[39;00m \u001b[38;5;28;01mimport\u001b[39;00m MLP\n\u001b[1;32m      2\u001b[0m \u001b[38;5;28;01mfrom\u001b[39;00m \u001b[38;5;21;01mstanza\u001b[39;00m\u001b[38;5;21;01m.\u001b[39;00m\u001b[38;5;21;01mnn\u001b[39;00m\u001b[38;5;21;01m.\u001b[39;00m\u001b[38;5;21;01mcore\u001b[39;00m \u001b[38;5;28;01mimport\u001b[39;00m Context\n\u001b[1;32m      3\u001b[0m \u001b[38;5;28;01mfrom\u001b[39;00m \u001b[38;5;21;01mstanza\u001b[39;00m\u001b[38;5;21;01m.\u001b[39;00m\u001b[38;5;21;01mnn\u001b[39;00m \u001b[38;5;28;01mimport\u001b[39;00m activations\n",
      "File \u001b[0;32m~/Documents/code/stanza/src/stanza/nn/__init__.py:1\u001b[0m\n\u001b[0;32m----> 1\u001b[0m \u001b[38;5;28;01mfrom\u001b[39;00m \u001b[38;5;21;01m.\u001b[39;00m\u001b[38;5;21;01mcore\u001b[39;00m \u001b[38;5;28;01mimport\u001b[39;00m Variables, Context\n",
      "File \u001b[0;32m~/Documents/code/stanza/src/stanza/nn/core.py:3\u001b[0m\n\u001b[1;32m      1\u001b[0m \u001b[38;5;28;01mimport\u001b[39;00m \u001b[38;5;21;01mcontextlib\u001b[39;00m\n\u001b[0;32m----> 3\u001b[0m \u001b[38;5;28;01mfrom\u001b[39;00m \u001b[38;5;21;01mstanza\u001b[39;00m\u001b[38;5;21;01m.\u001b[39;00m\u001b[38;5;21;01mutil\u001b[39;00m\u001b[38;5;21;01m.\u001b[39;00m\u001b[38;5;21;01mrandom\u001b[39;00m \u001b[38;5;28;01mimport\u001b[39;00m PRNGSequence\n\u001b[1;32m      4\u001b[0m \u001b[38;5;28;01mfrom\u001b[39;00m \u001b[38;5;21;01mstanza\u001b[39;00m\u001b[38;5;21;01m.\u001b[39;00m\u001b[38;5;21;01mtransform\u001b[39;00m\u001b[38;5;21;01m.\u001b[39;00m\u001b[38;5;21;01mlift\u001b[39;00m \u001b[38;5;28;01mimport\u001b[39;00m Mutable\n\u001b[1;32m      5\u001b[0m \u001b[38;5;28;01mfrom\u001b[39;00m \u001b[38;5;21;01mstanza\u001b[39;00m\u001b[38;5;21;01m.\u001b[39;00m\u001b[38;5;21;01mtransform\u001b[39;00m \u001b[38;5;28;01mimport\u001b[39;00m is_array\n",
      "\u001b[0;31mImportError\u001b[0m: cannot import name 'PRNGSequence' from 'stanza.util.random' (/home/daniel/Documents/code/stanza/src/stanza/util/random.py)"
     ]
    }
   ],
   "source": [
    "from stanza.nn.models.mlp import MLP\n",
    "from stanza.nn.core import Context\n",
    "from stanza.nn import activations\n",
    "from rich import print\n",
    "\n",
    "import jax.numpy as jnp\n",
    "\n",
    "ctx = Context(init_rng=PRNGSequence(42))\n",
    "mlp = MLP(ctx, [1, 2, 3], 10, activations.relu)\n",
    "# the first call to mlp will trace the function\n",
    "# and initialize any parameters not found in the context\n",
    "mlp(jnp.zeros((10,)))\n",
    "print(ctx)"
   ]
  },
  {
   "cell_type": "code",
   "execution_count": null,
   "metadata": {},
   "outputs": [],
   "source": []
  }
 ],
 "metadata": {
  "kernelspec": {
   "display_name": ".venv",
   "language": "python",
   "name": "python3"
  },
  "language_info": {
   "codemirror_mode": {
    "name": "ipython",
    "version": 3
   },
   "file_extension": ".py",
   "mimetype": "text/x-python",
   "name": "python",
   "nbconvert_exporter": "python",
   "pygments_lexer": "ipython3",
   "version": "3.10.12"
  }
 },
 "nbformat": 4,
 "nbformat_minor": 2
}
