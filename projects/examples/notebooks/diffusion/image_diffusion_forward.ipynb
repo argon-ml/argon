{
 "cells": [
  {
   "cell_type": "code",
   "execution_count": 14,
   "metadata": {},
   "outputs": [],
   "source": [
    "from stanza.runtime import setup\n",
    "setup()\n",
    "\n",
    "from stanza.datasets import image_datasets\n",
    "cifar10 = image_datasets.create(\"cifar10\")\n",
    "celeb_a = image_datasets.create(\"celeb_a\")"
   ]
  },
  {
   "cell_type": "code",
   "execution_count": 16,
   "metadata": {},
   "outputs": [
    {
     "data": {
      "application/vnd.jupyter.widget-view+json": {
       "model_id": "6610f88e45624eea88d7793bba1a8bcb",
       "version_major": 2,
       "version_minor": 0
      },
      "text/plain": [
       "HBox(children=(HTML(value='<style>\\n.cell-output-ipywidget-background {\\n    background-color: transparent !im…"
      ]
     },
     "metadata": {},
     "output_type": "display_data"
    },
    {
     "data": {
      "application/vnd.jupyter.widget-view+json": {
       "model_id": "0c577b77e1f544879ed15bdbd774b9ba",
       "version_major": 2,
       "version_minor": 0
      },
      "text/plain": [
       "HBox(children=(HTML(value='<style>\\n.cell-output-ipywidget-background {\\n    background-color: transparent !im…"
      ]
     },
     "metadata": {},
     "output_type": "display_data"
    }
   ],
   "source": [
    "from stanza.util.ipython import as_image\n",
    "from stanza.graphics import image_grid\n",
    "from IPython.display import display\n",
    "\n",
    "display(as_image(image_grid(cifar10.splits[\"train\"].slice(0, 64))))\n",
    "display(as_image(image_grid(celeb_a.splits[\"train\"].slice(64, 64))))"
   ]
  },
  {
   "cell_type": "code",
   "execution_count": 17,
   "metadata": {},
   "outputs": [
    {
     "data": {
      "application/vnd.jupyter.widget-view+json": {
       "model_id": "0922d0a1845248c8b1d39ad916f7f21c",
       "version_major": 2,
       "version_minor": 0
      },
      "text/plain": [
       "HBox(children=(HTML(value='<style>\\n.cell-output-ipywidget-background {\\n    background-color: transparent !im…"
      ]
     },
     "metadata": {},
     "output_type": "display_data"
    }
   ],
   "source": [
    "from stanza.diffusion import DDPMSchedule\n",
    "from jax.random import PRNGKey\n",
    "\n",
    "import jax\n",
    "\n",
    "schedule = DDPMSchedule.make_squaredcos_cap_v2(64)\n",
    "\n",
    "\n",
    "norm = cifar10.normalizers[\"hypercube\"]()\n",
    "# traj, _ = schedule.forward_trajectory(PRNGKey(42), norm.normalize(cifar10.splits[\"train\"][54]))\n",
    "traj, _ = schedule.forward_trajectory(PRNGKey(42), norm.normalize(celeb_a.splits[\"train\"][72]))\n",
    "traj = jax.vmap(norm.unnormalize)(traj)[::16]\n",
    "\n",
    "img = image_grid(traj, rows=1)\n",
    "\n",
    "from PIL import Image as PILImage\n",
    "import numpy as np\n",
    "i = PILImage.fromarray(np.array(img))\n",
    "i.save(\"noised.png\")\n",
    "\n",
    "display(as_image(img))"
   ]
  },
  {
   "cell_type": "code",
   "execution_count": null,
   "metadata": {},
   "outputs": [],
   "source": []
  }
 ],
 "metadata": {
  "kernelspec": {
   "display_name": ".venv",
   "language": "python",
   "name": "python3"
  },
  "language_info": {
   "codemirror_mode": {
    "name": "ipython",
    "version": 3
   },
   "file_extension": ".py",
   "mimetype": "text/x-python",
   "name": "python",
   "nbconvert_exporter": "python",
   "pygments_lexer": "ipython3",
   "version": "3.10.12"
  }
 },
 "nbformat": 4,
 "nbformat_minor": 2
}
