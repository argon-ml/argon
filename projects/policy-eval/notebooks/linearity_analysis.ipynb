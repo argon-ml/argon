{
 "cells": [
  {
   "cell_type": "code",
   "execution_count": 1,
   "metadata": {},
   "outputs": [],
   "source": [
    "import jax\n",
    "jax.config.update(\"jax_default_device\", jax.devices(\"cpu\")[0])\n",
    "import foundry.core as F\n",
    "from foundry.core import tree\n",
    "\n",
    "from policy_eval.common import Result\n",
    "from policy_eval.methods.diffusion_policy import Checkpoint\n",
    "checkpoint : Checkpoint = Result.load_s3(\"s3://wandb-data/uvn050jd/final_result.zarr\")"
   ]
  },
  {
   "cell_type": "code",
   "execution_count": 2,
   "metadata": {},
   "outputs": [],
   "source": [
    "denoiser = checkpoint.create_denoiser()\n",
    "env, splits = checkpoint.data.load({\"train\"})\n",
    "train_data = splits[\"train\"].as_pytree()"
   ]
  },
  {
   "cell_type": "code",
   "execution_count": 3,
   "metadata": {},
   "outputs": [],
   "source": [
    "import foundry\n",
    "import foundry.random\n",
    "import foundry.numpy as jnp"
   ]
  },
  {
   "cell_type": "code",
   "execution_count": 4,
   "metadata": {},
   "outputs": [],
   "source": [
    "F.jit\n",
    "def find_datapoint(rng_key):\n",
    "    def find_candidate(state):\n",
    "        _, rng_key, _, _ = state\n",
    "        rng_key, sk = foundry.random.split(rng_key)\n",
    "        i, j = foundry.random.randint(sk, (2,), minval=0, maxval=tree.axis_size(train_data, 0))\n",
    "        x, y = jax.tree.map(lambda x: x[i], train_data.observations), \\\n",
    "                jax.tree.map(lambda x: x[j], train_data.observations)\n",
    "        X, Y = tree.ravel(x)[0], tree.ravel(y)[0]\n",
    "        valid = jnp.logical_and(i != j, jnp.linalg.norm(X - Y) > 0.1)\n",
    "        def project(z):\n",
    "            Z = tree.ravel(z)[0]\n",
    "            dir = Y - X\n",
    "            # component along y - x\n",
    "            along = (jnp.dot(Z - X, dir)*dir)/jnp.sum(jnp.square(dir))\n",
    "            # component perp to y - x\n",
    "            away = Z - (X + along)\n",
    "            return jnp.linalg.norm(along)/jnp.linalg.norm(dir), jnp.linalg.norm(away)\n",
    "        proj_along, proj_away = F.vmap(project)(train_data.observations)\n",
    "        valid_projs = jnp.logical_and(proj_along >= 0, proj_along <= 1)\n",
    "        distances = jnp.where(jnp.logical_not(valid_projs), proj_away, 100)\n",
    "        valid = jnp.logical_and(valid, jnp.min(distances) > 0.1)\n",
    "        return valid, rng_key, i, j\n",
    "\n",
    "    obs = jax.tree.map(lambda x: x[0], train_data.observations)\n",
    "    state = False, rng_key, 0, 0\n",
    "    state= jax.lax.while_loop(\n",
    "        lambda c: jnp.logical_not(c[0]),\n",
    "        find_candidate,\n",
    "        state\n",
    "    )\n",
    "    return state[2], state[3]\n",
    "\n",
    "pairs = jax.vmap(find_datapoint)(foundry.random.split(foundry.random.key(42), 16))"
   ]
  },
  {
   "cell_type": "code",
   "execution_count": 5,
   "metadata": {},
   "outputs": [
    {
     "data": {
      "text/plain": [
       "Array(0., dtype=float32)"
      ]
     },
     "execution_count": 5,
     "metadata": {},
     "output_type": "execute_result"
    }
   ],
   "source": [
    "def test_interp_sample(rng_key, i, j, alpha):\n",
    "    a, b = (jax.tree.map(lambda x: x[i], train_data),\n",
    "            jax.tree.map(lambda x: x[j], train_data))\n",
    "    obs = jax.tree.map(lambda x, y: alpha*x + (1 - alpha)*y, a.observations, b.observations)\n",
    "    model = lambda rng_key, x, t: denoiser(obs, rng_key, x, t)\n",
    "    interpolator = lambda rng_key, x_noised, t: tree.map(\n",
    "        lambda x, y: alpha*x + (1 - alpha)*y,\n",
    "        denoiser(a.observations, rng_key, x_noised, t),\n",
    "        denoiser(b.observations, rng_key, x_noised, t)\n",
    "    )\n",
    "    _, trajectory = checkpoint.schedule.sample(rng_key,\n",
    "        model,\n",
    "        checkpoint.actions_structure, \n",
    "        trajectory=True\n",
    "    )\n",
    "    trajectory = tree.map(lambda x: x[1:], trajectory) # don't include final state\n",
    "    Ts = jnp.arange(1, checkpoint.schedule.num_steps + 1)\n",
    "\n",
    "    model_evals = jax.vmap(model)(None, trajectory, Ts)\n",
    "    interpolator_evals = jax.vmap(interpolator)(None, trajectory, Ts)\n",
    "    model_evals = tree.map(lambda x: tree.ravel(x)[0], model_evals)\n",
    "    interpolator_evals = tree.map(lambda x: tree.ravel(x)[0], interpolator_evals)\n",
    "    return jnp.mean(jnp.linalg.norm(model_evals - interpolator_evals, axis=-1))\n",
    "\n",
    "@F.jit\n",
    "def test_interp(alpha):\n",
    "    rng_keys = foundry.random.split(foundry.random.key(42), tree.axis_size(pairs, 0))\n",
    "    interp = jax.vmap(test_interp_sample, in_axes=(0, 0, 0, None))(\n",
    "        rng_keys, pairs[0], pairs[1], alpha\n",
    "    )\n",
    "    return jnp.mean(interp)\n",
    "\n",
    "errors = jax.vmap(test_interp)(jnp.linspace(0, 1, 20))"
   ]
  },
  {
   "cell_type": "code",
   "execution_count": 6,
   "metadata": {},
   "outputs": [
    {
     "ename": "NameError",
     "evalue": "name 'errors' is not defined",
     "output_type": "error",
     "traceback": [
      "\u001b[0;31m---------------------------------------------------------------------------\u001b[0m",
      "\u001b[0;31mNameError\u001b[0m                                 Traceback (most recent call last)",
      "Cell \u001b[0;32mIn[6], line 1\u001b[0m\n\u001b[0;32m----> 1\u001b[0m \u001b[43merrors\u001b[49m\n",
      "\u001b[0;31mNameError\u001b[0m: name 'errors' is not defined"
     ]
    }
   ],
   "source": [
    "errors"
   ]
  },
  {
   "cell_type": "code",
   "execution_count": null,
   "metadata": {},
   "outputs": [],
   "source": []
  }
 ],
 "metadata": {
  "kernelspec": {
   "display_name": ".venv",
   "language": "python",
   "name": "python3"
  },
  "language_info": {
   "codemirror_mode": {
    "name": "ipython",
    "version": 3
   },
   "file_extension": ".py",
   "mimetype": "text/x-python",
   "name": "python",
   "nbconvert_exporter": "python",
   "pygments_lexer": "ipython3",
   "version": "3.12.0"
  }
 },
 "nbformat": 4,
 "nbformat_minor": 2
}
