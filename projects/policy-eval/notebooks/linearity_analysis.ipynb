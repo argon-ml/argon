{
 "cells": [
  {
   "cell_type": "code",
   "execution_count": 7,
   "metadata": {},
   "outputs": [],
   "source": [
    "import jax\n",
    "jax.config.update(\"jax_default_device\", jax.devices(\"cpu\")[0])\n",
    "import foundry.core as F\n",
    "from foundry.core import tree\n",
    "\n",
    "from policy_eval.common import Result\n",
    "from policy_eval.methods.diffusion_policy import Checkpoint\n",
    "checkpoint : Checkpoint = Result.load_s3(\"s3://wandb-data/uvn050jd/final_result.zarr\")"
   ]
  },
  {
   "cell_type": "code",
   "execution_count": 8,
   "metadata": {},
   "outputs": [],
   "source": [
    "denoiser = checkpoint.create_denoiser()\n",
    "env, splits = checkpoint.data.load({\"train\"})\n",
    "train_data = splits[\"train\"].as_pytree()"
   ]
  },
  {
   "cell_type": "code",
   "execution_count": 9,
   "metadata": {},
   "outputs": [],
   "source": [
    "import foundry\n",
    "import foundry.random"
   ]
  },
  {
   "cell_type": "code",
   "execution_count": null,
   "metadata": {},
   "outputs": [],
   "source": [
    "F.jit\n",
    "def find_datapoint(rng_key):\n",
    "    def find_candidate(rng_key):\n",
    "        i, j = foundry.random.randint(rng_key, (2,), minval=0, maxval=tree.axis_size(train_data, 0))\n",
    "        return test, i, j\n",
    "\n",
    "\n",
    "def test_linear(rng_key):\n",
    "    N = tree.axis_size(train_data, 0)"
   ]
  }
 ],
 "metadata": {
  "kernelspec": {
   "display_name": ".venv",
   "language": "python",
   "name": "python3"
  },
  "language_info": {
   "codemirror_mode": {
    "name": "ipython",
    "version": 3
   },
   "file_extension": ".py",
   "mimetype": "text/x-python",
   "name": "python",
   "nbconvert_exporter": "python",
   "pygments_lexer": "ipython3",
   "version": "3.12.0"
  }
 },
 "nbformat": 4,
 "nbformat_minor": 2
}
