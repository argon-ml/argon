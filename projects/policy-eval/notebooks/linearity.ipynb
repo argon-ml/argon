{
 "cells": [
  {
   "cell_type": "code",
   "execution_count": null,
   "metadata": {},
   "outputs": [],
   "source": [
    "import os\n",
    "os.environ[\"XLA_FLAGS\"]=\"--xla_gpu_autotune_level=0\"\n",
    "from foundry.util.runtime import setup\n",
    "setup()\n",
    "\n",
    "import jax\n",
    "import foundry.core as F\n",
    "from foundry.core import tree\n",
    "\n",
    "from policy_eval.common import Result\n",
    "from policy_eval.methods.diffusion_policy import Checkpoint\n",
    "checkpoint : Checkpoint = Result.load_s3(\"s3://wandb-data/uvn050jd/final_result.zarr\")"
   ]
  },
  {
   "cell_type": "code",
   "execution_count": null,
   "metadata": {},
   "outputs": [],
   "source": [
    "denoiser = checkpoint.create_denoiser()\n",
    "env, splits = checkpoint.data.load({\"train\"})\n",
    "train_data = splits[\"train\"].as_pytree()\n",
    "train_data = jax.vmap(checkpoint.obs_normalizer.normalize)(train_data.observations)"
   ]
  },
  {
   "cell_type": "code",
   "execution_count": null,
   "metadata": {},
   "outputs": [],
   "source": [
    "import foundry\n",
    "import foundry.core as F\n",
    "import foundry.random\n",
    "import foundry.numpy as jnp"
   ]
  },
  {
   "cell_type": "code",
   "execution_count": null,
   "metadata": {},
   "outputs": [],
   "source": []
  }
 ],
 "metadata": {
  "language_info": {
   "name": "python"
  }
 },
 "nbformat": 4,
 "nbformat_minor": 2
}
