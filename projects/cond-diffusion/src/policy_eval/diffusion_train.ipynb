{
 "cells": [
  {
   "cell_type": "code",
   "execution_count": null,
   "metadata": {},
   "outputs": [],
   "source": [
    "import stanza.runtime\n",
    "stanza.runtime.setup()\n",
    "\n",
    "from stanza.dataclasses import dataclass, replace\n",
    "from stanza.runtime import ConfigProvider, command\n",
    "from stanza.datasets import env_datasets\n",
    "from stanza.random import PRNGSequence\n",
    "from stanza.env import ImageRender\n",
    "from stanza.train.reporting import Video\n",
    "\n",
    "from common import net, TrainConfig, AdamConfig, SGDConfig\n",
    "\n",
    "from jax.experimental import mesh_utils\n",
    "from jax.sharding import PositionalSharding\n",
    "\n",
    "from functools import partial\n",
    "\n",
    "\n",
    "import stanza.policy\n",
    "import stanza.util\n",
    "import stanza.util\n",
    "import stanza.train.reporting\n",
    "import stanza.train.wandb\n",
    "import jax\n",
    "import jax.numpy as jnp\n",
    "import functools\n",
    "import wandb\n",
    "import stanza\n",
    "import logging"
   ]
  }
 ],
 "metadata": {
  "language_info": {
   "name": "python"
  }
 },
 "nbformat": 4,
 "nbformat_minor": 2
}
