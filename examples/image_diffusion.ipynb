{
 "cells": [
  {
   "cell_type": "code",
   "execution_count": 1,
   "metadata": {},
   "outputs": [],
   "source": [
    "import stanza.runtime\n",
    "stanza.runtime.setup() # setup logging, etc.\n",
    "\n",
    "import jax\n",
    "import jax.flatten_util\n",
    "import matplotlib.pyplot as plt\n",
    "import jax.numpy as jnp\n",
    "\n",
    "from stanza.diffusion import DDPMSchedule\n",
    "from stanza.datasets import image_class_datasets\n",
    "\n",
    "DATASET = \"mnist\"\n",
    "\n",
    "dataset = image_class_datasets.create(DATASET)\n",
    "\n",
    "schedule = DDPMSchedule.make_squaredcos_cap_v2(100)"
   ]
  },
  {
   "cell_type": "code",
   "execution_count": null,
   "metadata": {},
   "outputs": [],
   "source": [
    "from stanza.nn.unet import DiffusionUNet\n",
    "from stanza import train as tu\n",
    "\n",
    "model = DiffusionUNet(embed_dim=32)\n",
    "init_params = model.init(\n",
    "    jax.random.PRNGKey(42),\n",
    "    dataset.splits[\"train\"][0], timestep=0)\n",
    "\n",
    "def loss_fn(params, rng_key, sample):\n",
    "    denoiser = lambda _, x, t: model.apply(params, x, timestep=t)\n",
    "    loss = schedule.loss(rng_key, denoiser, sample)\n",
    "    return tu.LossOutput(\n",
    "        loss=loss,\n",
    "        stats={\"loss\": loss}\n",
    "    )\n",
    "\n",
    "trained_params = "
   ]
  }
 ],
 "metadata": {
  "kernelspec": {
   "display_name": ".venv",
   "language": "python",
   "name": "python3"
  },
  "language_info": {
   "codemirror_mode": {
    "name": "ipython",
    "version": 3
   },
   "file_extension": ".py",
   "mimetype": "text/x-python",
   "name": "python",
   "nbconvert_exporter": "python",
   "pygments_lexer": "ipython3",
   "version": "3.10.13"
  }
 },
 "nbformat": 4,
 "nbformat_minor": 2
}
