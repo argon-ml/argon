{
 "cells": [
  {
   "cell_type": "code",
   "execution_count": 1,
   "metadata": {},
   "outputs": [],
   "source": [
    "import stanza.runtime\n",
    "stanza.runtime.setup() # setup logging, etc.\n",
    "\n",
    "from IPython.display import display\n",
    "\n",
    "import stanza.util.ipython as ipyutil\n",
    "from stanza.graphics import image_grid\n",
    "from functools import partial\n",
    "\n",
    "import jax\n",
    "import jax.flatten_util\n",
    "import matplotlib.pyplot as plt\n",
    "import jax.numpy as jnp\n",
    "\n",
    "from stanza.diffusion import DDPMSchedule\n",
    "from stanza.datasets import image_datasets\n",
    "\n",
    "DATASET = \"mnist\"\n",
    "\n",
    "dataset = image_datasets.create(DATASET)\n",
    "train_data = dataset.splits[\"train\"]\n",
    "normalizer = dataset.normalizers[\"hypercube\"]\n",
    "\n",
    "schedule = DDPMSchedule.make_squaredcos_cap_v2(100)"
   ]
  },
  {
   "cell_type": "code",
   "execution_count": 2,
   "metadata": {},
   "outputs": [
    {
     "data": {
      "application/vnd.jupyter.widget-view+json": {
       "model_id": "c9856801ebf04406a00e610fbe4233e6",
       "version_major": 2,
       "version_minor": 0
      },
      "text/plain": [
       "HBox(children=(HTML(value='<style>\\n.cell-output-ipywidget-background {\\n    background-color: transparent !im…"
      ]
     },
     "metadata": {},
     "output_type": "display_data"
    }
   ],
   "source": [
    "if True:\n",
    "    normalized = jax.vmap(normalizer.normalize)(train_data.slice(0, 32)) # len(train_data)))\n",
    "    @partial(jax.jit)\n",
    "    def sample(rng_key):\n",
    "        def gt_denoiser(_, x, t):\n",
    "            denoised = schedule.compute_denoised(x, t, normalized)\n",
    "            return schedule.output_from_denoised(x, t, denoised)\n",
    "        return schedule.sample(rng_key, gt_denoiser, normalizer.structure)\n",
    "    samples = jax.vmap(sample)(jax.random.split(jax.random.PRNGKey(43), 10))\n",
    "    display(ipyutil.as_image(image_grid(samples)))"
   ]
  },
  {
   "cell_type": "code",
   "execution_count": 3,
   "metadata": {},
   "outputs": [
    {
     "data": {
      "application/vnd.jupyter.widget-view+json": {
       "model_id": "b754abe95e83407b808f7e70f717eaaf",
       "version_major": 2,
       "version_minor": 0
      },
      "text/plain": [
       "HBox(children=(HTML(value='<style>\\n.cell-output-ipywidget-background {\\n    background-color: transparent !im…"
      ]
     },
     "metadata": {},
     "output_type": "display_data"
    },
    {
     "data": {
      "application/vnd.jupyter.widget-view+json": {
       "model_id": "99a1c732703648baa2e518037b541e29",
       "version_major": 2,
       "version_minor": 0
      },
      "text/plain": [
       "HBox(children=(HTML(value='<style>\\n.cell-output-ipywidget-background {\\n    background-color: transparent !im…"
      ]
     },
     "metadata": {},
     "output_type": "display_data"
    }
   ],
   "source": [
    "from stanza.nn.unet import DiffusionUNet\n",
    "from stanza import train as st\n",
    "import stanza.train.ipython\n",
    "import optax\n",
    "\n",
    "model = DiffusionUNet(time_embed_dim=32)\n",
    "init_params = jax.jit(model.init)(\n",
    "    jax.random.PRNGKey(42),\n",
    "    dataset.splits[\"train\"][0], timestep=0)\n",
    "\n",
    "def loss_fn(params, _iteration, rng_key, sample):\n",
    "    denoiser = lambda _, x, t: model.apply(params, x, timestep=t)\n",
    "    loss = schedule.loss(rng_key, denoiser, sample)\n",
    "    return st.LossOutput(\n",
    "        loss=loss,\n",
    "        metrics={\"loss\": loss}\n",
    "    )\n",
    "\n",
    "@jax.jit\n",
    "def sample(vars, rng_key):\n",
    "    denoiser = lambda _, x, t: model.apply(vars, x, timestep=t)\n",
    "    return schedule.sample(rng_key, denoiser, normalizer.structure)\n",
    "samples_batch= jax.vmap(sample, in_axes=(None, 0))\n",
    "\n",
    "def compute_metrics(params, _iteration, rng_key, sample):\n",
    "    denoiser = lambda _, x, t: model.apply(params, x, timestep=t)\n",
    "    t_rng, n_rng = jax.random.split(rng_key)\n",
    "    t = jax.random.uniform(t_rng, (), 1, schedule.num_steps + 1)\n",
    "    schedule.add_noise(n_rng, sample, t)\n",
    "    return {\n",
    "    }\n",
    "\n",
    "@jax.jit\n",
    "def generate_samples(params, rng_key):\n",
    "    samples = samples_batch(params, \n",
    "            jax.random.split(rng_key, 64))\n",
    "\n",
    "def generate_(rng, train_state):\n",
    "    return \n",
    "\n",
    "epochs = 100\n",
    "batch_size = 64\n",
    "iterations = epochs*len(dataset.splits[\"train\"])//batch_size\n",
    "trained_params = st.fit(\n",
    "    data=dataset.splits[\"train\"],\n",
    "    batch_loss_fn=st.batch_loss(loss_fn),\n",
    "    init_vars=init_params,\n",
    "    rng_key=jax.random.PRNGKey(42),\n",
    "    optimizer=optax.adam(optax.cosine_decay_schedule(3e-4, iterations)),\n",
    "    max_epochs=epochs,\n",
    "    batch_size=batch_size,\n",
    "    hooks=[\n",
    "        st.every_n_iterations(500, st.console_logger(prefix=\"train.\", metrics=True)),\n",
    "        st.every_epoch(st.validate(\n",
    "                data=dataset.splits[\"train\"],\n",
    "                batch_size=batch_size,\n",
    "                batch_loss_fn=st.batch_loss(loss_fn),\n",
    "                log_hooks=[st.console_logger(prefix=\"validation.\")]\n",
    "            ),\n",
    "            st.log_to(\n",
    "                generate_samples,\n",
    "                st.ipython.display_logger()\n",
    "            )\n",
    "        )\n",
    "    ]\n",
    ")"
   ]
  },
  {
   "cell_type": "code",
   "execution_count": null,
   "metadata": {},
   "outputs": [],
   "source": [
    "def sample(rng_key):\n",
    "    model = lambda _, x, t: model.apply(trained_params, x, timestep=t)\n",
    "    schedule.sample(rng_key, model, structure=jax.ShapeDtypeStruct((28, 28, 1), jnp.float32))"
   ]
  }
 ],
 "metadata": {
  "kernelspec": {
   "display_name": ".venv",
   "language": "python",
   "name": "python3"
  },
  "language_info": {
   "codemirror_mode": {
    "name": "ipython",
    "version": 3
   },
   "file_extension": ".py",
   "mimetype": "text/x-python",
   "name": "python",
   "nbconvert_exporter": "python",
   "pygments_lexer": "ipython3",
   "version": "3.10.12"
  }
 },
 "nbformat": 4,
 "nbformat_minor": 2
}
