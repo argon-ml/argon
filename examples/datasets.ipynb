{
 "cells": [
  {
   "cell_type": "code",
   "execution_count": 1,
   "metadata": {},
   "outputs": [
    {
     "name": "stdout",
     "output_type": "stream",
     "text": [
      "Datasets: ['mnist', 'cifar10', 'cifar100', 'celeb_a']\n"
     ]
    }
   ],
   "source": [
    "from stanza.runtime import setup\n",
    "setup()\n",
    "\n",
    "from stanza.datasets import image_datasets\n",
    "\n",
    "print(\"Datasets:\", list([k for (k, _) in image_datasets.items()]))"
   ]
  },
  {
   "cell_type": "code",
   "execution_count": 2,
   "metadata": {},
   "outputs": [],
   "source": [
    "mnist = image_datasets.create(\"mnist\")\n",
    "cifar10 = image_datasets.create(\"cifar10\")\n",
    "cifar100 = image_datasets.create(\"cifar100\")\n",
    "celeb_a = image_datasets.create(\"celeb_a\")"
   ]
  },
  {
   "cell_type": "code",
   "execution_count": 3,
   "metadata": {},
   "outputs": [
    {
     "data": {
      "application/vnd.jupyter.widget-view+json": {
       "model_id": "07500d6794934537af2666b32cdaf3a2",
       "version_major": 2,
       "version_minor": 0
      },
      "text/plain": [
       "HBox(children=(HTML(value='<style>\\n.cell-output-ipywidget-background {\\n    background-color: transparent !im…"
      ]
     },
     "metadata": {},
     "output_type": "display_data"
    },
    {
     "data": {
      "application/vnd.jupyter.widget-view+json": {
       "model_id": "440b558b570d419b9d4b0d892bc5ffcf",
       "version_major": 2,
       "version_minor": 0
      },
      "text/plain": [
       "HBox(children=(HTML(value='<style>\\n.cell-output-ipywidget-background {\\n    background-color: transparent !im…"
      ]
     },
     "metadata": {},
     "output_type": "display_data"
    },
    {
     "data": {
      "application/vnd.jupyter.widget-view+json": {
       "model_id": "ef2b75da82ea4e419b4a62a039feed4c",
       "version_major": 2,
       "version_minor": 0
      },
      "text/plain": [
       "HBox(children=(HTML(value='<style>\\n.cell-output-ipywidget-background {\\n    background-color: transparent !im…"
      ]
     },
     "metadata": {},
     "output_type": "display_data"
    },
    {
     "data": {
      "application/vnd.jupyter.widget-view+json": {
       "model_id": "c81d8c6e0e2943b2a326daedc403ec84",
       "version_major": 2,
       "version_minor": 0
      },
      "text/plain": [
       "HBox(children=(HTML(value='<style>\\n.cell-output-ipywidget-background {\\n    background-color: transparent !im…"
      ]
     },
     "metadata": {},
     "output_type": "display_data"
    }
   ],
   "source": [
    "from stanza.graphics import image_grid\n",
    "from stanza.util.ipython import from_image\n",
    "from IPython.display import display\n",
    "\n",
    "mnist_image = image_grid(mnist.splits[\"train\"].slice(0,64))\n",
    "cifar10_image = image_grid(cifar10.splits[\"train\"].slice(0,64))\n",
    "cifar100_image = image_grid(cifar100.splits[\"train\"].slice(0,64))\n",
    "celeb_a_image = image_grid(celeb_a.splits[\"train\"].slice(0,16))\n",
    "\n",
    "display(from_image(mnist_image))\n",
    "display(from_image(cifar10_image))\n",
    "display(from_image(cifar100_image))\n",
    "display(from_image(celeb_a_image))"
   ]
  }
 ],
 "metadata": {
  "kernelspec": {
   "display_name": ".venv",
   "language": "python",
   "name": "python3"
  },
  "language_info": {
   "codemirror_mode": {
    "name": "ipython",
    "version": 3
   },
   "file_extension": ".py",
   "mimetype": "text/x-python",
   "name": "python",
   "nbconvert_exporter": "python",
   "pygments_lexer": "ipython3",
   "version": "3.10.13"
  }
 },
 "nbformat": 4,
 "nbformat_minor": 2
}
