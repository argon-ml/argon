{
 "cells": [
  {
   "cell_type": "code",
   "execution_count": 59,
   "metadata": {},
   "outputs": [
    {
     "data": {
      "image/png": "[encoded data removed]",
      "text/plain": [
       "<Figure size 640x480 with 1 Axes>"
      ]
     },
     "metadata": {},
     "output_type": "display_data"
    }
   ],
   "source": [
    "import stanza.runtime\n",
    "stanza.runtime.setup() # setup logging, etc.\n",
    "\n",
    "import jax\n",
    "import jax.flatten_util\n",
    "import matplotlib.pyplot as plt\n",
    "import jax.numpy as jnp\n",
    "\n",
    "from stanza.data import PyTreeData\n",
    "from stanza.diffusion import DDPMSchedule\n",
    "\n",
    "# Generate some data\n",
    "data = \"spaces\"\n",
    "if data == \"cosine\":\n",
    "    def generate(rng_key: jax.Array) -> jax.Array:\n",
    "        t = jax.random.uniform(rng_key, (), minval=-1, maxval=1)\n",
    "        x = jnp.cos(10*t)\n",
    "        return t, x\n",
    "elif data == \"spaces\":\n",
    "    space = 0.3\n",
    "    diff = 0.9\n",
    "    def generate(rng_key: jax.Array) -> jax.Array:\n",
    "        t = jax.random.uniform(rng_key, (), minval=-1, maxval=1)\n",
    "        t = (0.8-space)*t + space*jnp.sign(t)\n",
    "        x = diff * jnp.sign(t)\n",
    "        return t, x\n",
    "\n",
    "train_data = jax.vmap(generate)(jax.random.split(jax.random.PRNGKey(42), 1024))\n",
    "train_data = PyTreeData(train_data)\n",
    "test_data = jax.vmap(generate)(jax.random.split(jax.random.PRNGKey(43), 1024))\n",
    "test_data = PyTreeData(test_data)\n",
    "\n",
    "schedule = DDPMSchedule.make_squaredcos_cap_v2(100)\n",
    "\n",
    "plt.scatter(train_data.tree[0], train_data.tree[1])\n",
    "plt.show()"
   ]
  },
  {
   "cell_type": "code",
   "execution_count": 60,
   "metadata": {},
   "outputs": [],
   "source": [
    "# # The schedule also has the compute_denoised method\n",
    "# # which given a (small) dataset will compute the ground-truth model output!\n",
    "# # This is useful for debugging whether the denoiser has sufficient\n",
    "# # capacity to capture the true score function.\n",
    "# def gt_denoiser(cond, _rng_key, x, t):\n",
    "#     denoised = schedule.compute_denoised(x, t, train_data.tree)\n",
    "#     return schedule.output_from_denoised(x, t, denoised)\n",
    "\n",
    "# def sample_gt(rng_key):\n",
    "#     return schedule.sample(rng_key, gt_denoiser, train_data[0])\n",
    "\n",
    "# gt_samples = jax.vmap(sample_gt)(jax.random.split(jax.random.PRNGKey(42), 1024))\n",
    "# plt.clf()\n",
    "# plt.scatter(gt_samples[:,0], gt_samples[:,1])\n",
    "# plt.show()"
   ]
  },
  {
   "cell_type": "code",
   "execution_count": 61,
   "metadata": {},
   "outputs": [],
   "source": [
    "import flax.linen as nn\n",
    "from stanza.nn.embed import SinusoidalPosEmbed\n",
    "from typing import Sequence\n",
    "\n",
    "class DiffusionMLP(nn.Module):\n",
    "    features: Sequence[int]\n",
    "    time_embed_dim: int\n",
    "\n",
    "    @nn.compact\n",
    "    def __call__(self, cond, x, t):\n",
    "        x_flat, x_uf = jax.flatten_util.ravel_pytree(x)\n",
    "        cond_flat, _ = jax.flatten_util.ravel_pytree(cond)\n",
    "        x = x_flat\n",
    "        embed = SinusoidalPosEmbed(self.time_embed_dim)(t)\n",
    "        embed = nn.Dense(self.time_embed_dim)(embed)\n",
    "        for f in self.features:\n",
    "            x = jnp.concatenate([x, cond_flat], axis=-1)\n",
    "            x = nn.Dense(f)(x)\n",
    "            shift_scale = nn.Dense(2*f)(embed)\n",
    "            shift, scale = jnp.split(shift_scale, 2, axis=-1)\n",
    "            x = x*(1 + scale) + shift\n",
    "            x = nn.gelu(x)\n",
    "        x = nn.Dense(x_flat.shape[0])(x)\n",
    "        return x_uf(x)\n",
    "\n",
    "model = DiffusionMLP([64, 64, 64], 128)\n",
    "vars = model.init(jax.random.PRNGKey(42), train_data[0][0], train_data[1][0], 0.)"
   ]
  },
  {
   "cell_type": "code",
   "execution_count": 63,
   "metadata": {},
   "outputs": [],
   "source": [
    "import optax\n",
    "import stanza.train as st\n",
    "from stanza import partial\n",
    "\n",
    "def loss(vars, iterations, rng_key, sample):\n",
    "    # since t is [1, T] we shift it to [0, T-1]\n",
    "    s, x = sample\n",
    "    denoiser = lambda rng_key, x, t: model.apply(vars, s, x, t - 1)\n",
    "    t_rng, l_rng = jax.random.split(rng_key)\n",
    "    loss = schedule.loss(l_rng, denoiser, x)\n",
    "    return st.LossOutput(\n",
    "        loss=loss,\n",
    "        metrics={\"loss\": loss}\n",
    "    )\n",
    "\n",
    "import logging\n",
    "logger = logging.getLogger(\"fit\")\n",
    "logger.setLevel(logging.DEBUG)\n",
    "\n",
    "def fit(weight_decay=1e-2, batch_size=256, iterations=10000, cond_noise=0):\n",
    "    logger.info(f\"Fitting {weight_decay}\")\n",
    "    return st.fit(\n",
    "        batch_loss_fn=st.batch_loss(partial(loss, cond_noise=cond_noise)),\n",
    "        data=train_data,\n",
    "        optimizer=optax.adamw(optax.cosine_decay_schedule(4e-3, iterations),\n",
    "                              weight_decay=weight_decay),\n",
    "        rng_key=jax.random.PRNGKey(42),\n",
    "        max_iterations=iterations,\n",
    "        init_vars=vars,\n",
    "        batch_size=batch_size,\n",
    "        hooks=[st.every_n_iterations(200, \n",
    "            st.console_logger(prefix=\"train.\", metrics=True)\n",
    "        )]\n",
    "    )"
   ]
  },
  {
   "cell_type": "code",
   "execution_count": 64,
   "metadata": {},
   "outputs": [
    {
     "data": {
      "application/vnd.jupyter.widget-view+json": {
       "model_id": "83082c7e207d4128a6495ecfd18760d9",
       "version_major": 2,
       "version_minor": 0
      },
      "text/plain": [
       "HBox(children=(HTML(value='<style>\\n.cell-output-ipywidget-background {\\n    background-color: transparent !im…"
      ]
     },
     "metadata": {},
     "output_type": "display_data"
    },
    {
     "data": {
      "application/vnd.jupyter.widget-view+json": {
       "model_id": "61c4dea304844de7af2bcf906f5e37ca",
       "version_major": 2,
       "version_minor": 0
      },
      "text/plain": [
       "HBox(children=(HTML(value='<style>\\n.cell-output-ipywidget-background {\\n    background-color: transparent !im…"
      ]
     },
     "metadata": {},
     "output_type": "display_data"
    },
    {
     "data": {
      "application/vnd.jupyter.widget-view+json": {
       "model_id": "c0de76697a924ba49bbf7eabdb02031a",
       "version_major": 2,
       "version_minor": 0
      },
      "text/plain": [
       "HBox(children=(HTML(value='<style>\\n.cell-output-ipywidget-background {\\n    background-color: transparent !im…"
      ]
     },
     "metadata": {},
     "output_type": "display_data"
    },
    {
     "data": {
      "application/vnd.jupyter.widget-view+json": {
       "model_id": "2189827aa79641cca8edcdb3e138678a",
       "version_major": 2,
       "version_minor": 0
      },
      "text/plain": [
       "HBox(children=(HTML(value='<style>\\n.cell-output-ipywidget-background {\\n    background-color: transparent !im…"
      ]
     },
     "metadata": {},
     "output_type": "display_data"
    },
    {
     "data": {
      "application/vnd.jupyter.widget-view+json": {
       "model_id": "39d00823eaa64201be13749e21c086f0",
       "version_major": 2,
       "version_minor": 0
      },
      "text/plain": [
       "HBox(children=(HTML(value='<style>\\n.cell-output-ipywidget-background {\\n    background-color: transparent !im…"
      ]
     },
     "metadata": {},
     "output_type": "display_data"
    },
    {
     "data": {
      "application/vnd.jupyter.widget-view+json": {
       "model_id": "7e0081c9da0845f885206f2b035e9db9",
       "version_major": 2,
       "version_minor": 0
      },
      "text/plain": [
       "HBox(children=(HTML(value='<style>\\n.cell-output-ipywidget-background {\\n    background-color: transparent !im…"
      ]
     },
     "metadata": {},
     "output_type": "display_data"
    },
    {
     "data": {
      "application/vnd.jupyter.widget-view+json": {
       "model_id": "6e5ab8603c634c9e80efe6725c66d038",
       "version_major": 2,
       "version_minor": 0
      },
      "text/plain": [
       "HBox(children=(HTML(value='<style>\\n.cell-output-ipywidget-background {\\n    background-color: transparent !im…"
      ]
     },
     "metadata": {},
     "output_type": "display_data"
    },
    {
     "data": {
      "application/vnd.jupyter.widget-view+json": {
       "model_id": "306f3a5207424b3daebf37c9469af9d8",
       "version_major": 2,
       "version_minor": 0
      },
      "text/plain": [
       "HBox(children=(HTML(value='<style>\\n.cell-output-ipywidget-background {\\n    background-color: transparent !im…"
      ]
     },
     "metadata": {},
     "output_type": "display_data"
    },
    {
     "data": {
      "application/vnd.jupyter.widget-view+json": {
       "model_id": "a8d6277d01fe47d7b492840184b2f007",
       "version_major": 2,
       "version_minor": 0
      },
      "text/plain": [
       "HBox(children=(HTML(value='<style>\\n.cell-output-ipywidget-background {\\n    background-color: transparent !im…"
      ]
     },
     "metadata": {},
     "output_type": "display_data"
    },
    {
     "data": {
      "application/vnd.jupyter.widget-view+json": {
       "model_id": "e2d24d2e4af143d785db12814c79ecfb",
       "version_major": 2,
       "version_minor": 0
      },
      "text/plain": [
       "HBox(children=(HTML(value='<style>\\n.cell-output-ipywidget-background {\\n    background-color: transparent !im…"
      ]
     },
     "metadata": {},
     "output_type": "display_data"
    },
    {
     "data": {
      "application/vnd.jupyter.widget-view+json": {
       "model_id": "1d616ecb13eb4ccc9126d956ed51cdd2",
       "version_major": 2,
       "version_minor": 0
      },
      "text/plain": [
       "HBox(children=(HTML(value='<style>\\n.cell-output-ipywidget-background {\\n    background-color: transparent !im…"
      ]
     },
     "metadata": {},
     "output_type": "display_data"
    },
    {
     "data": {
      "application/vnd.jupyter.widget-view+json": {
       "model_id": "34b118039c2e449b90fce88830825502",
       "version_major": 2,
       "version_minor": 0
      },
      "text/plain": [
       "HBox(children=(HTML(value='<style>\\n.cell-output-ipywidget-background {\\n    background-color: transparent !im…"
      ]
     },
     "metadata": {},
     "output_type": "display_data"
    },
    {
     "data": {
      "application/vnd.jupyter.widget-view+json": {
       "model_id": "e4e2d8528cc547a28315323d5e4b0299",
       "version_major": 2,
       "version_minor": 0
      },
      "text/plain": [
       "HBox(children=(HTML(value='<style>\\n.cell-output-ipywidget-background {\\n    background-color: transparent !im…"
      ]
     },
     "metadata": {},
     "output_type": "display_data"
    }
   ],
   "source": [
    "decays = [1, 5e-1, 1e-1, 1e-2, 1e-3, 1e-4]\n",
    "decay_params = {\n",
    "    decay: fit(weight_decay=decay, iterations=5000) for decay in decays\n",
    "}"
   ]
  },
  {
   "cell_type": "code",
   "execution_count": 74,
   "metadata": {},
   "outputs": [
    {
     "data": {
      "application/vnd.plotly.v1+json": {
       "config": {
        "plotlyServerURL": "https://plot.ly"
       },
       "data": [
        {
         "mode": "lines",
         "name": "decay=1",
         "type": "scatter",
         "x": [
          -0.7967921495437622,
          -0.7806728482246399,
          -0.7645536065101624,
          -0.7484343647956848,
          -0.7323151230812073,
          -0.716195821762085,
          -0.7000765800476074,
          -0.6839572787284851,
          -0.6678379774093628,
          -0.65171879529953,
          -0.6355994939804077,
          -0.6194802522659302,
          -0.6033609509468079,
          -0.5872417092323303,
          -0.571122407913208,
          -0.5550031661987305,
          -0.5388839244842529,
          -0.5227646231651306,
          -0.5066453814506531,
          -0.49052608013153076,
          -0.47440680861473083,
          -0.4582875967025757,
          -0.44216829538345337,
          -0.42604905366897583,
          -0.4099297821521759,
          -0.393810510635376,
          -0.37769123911857605,
          -0.3615719974040985,
          -0.3454527258872986,
          -0.32933345437049866,
          -0.31321415305137634,
          -0.2970949113368988,
          -0.28097566962242126,
          -0.26485639810562134,
          -0.2487371265888214,
          -0.23261786997318268,
          -0.21649859845638275,
          -0.20037929713726044,
          -0.1842600703239441,
          -0.16814079880714417,
          -0.15202152729034424,
          -0.1359022557735443,
          -0.11978299170732498,
          -0.10366372019052505,
          -0.08754447102546692,
          -0.07142519950866699,
          -0.055305927991867065,
          -0.03918666020035744,
          -0.02306738868355751,
          -0.0069481185637414455,
          0.00917112734168768,
          0.02529037371277809,
          0.04140964522957802,
          0.057528942823410034,
          0.07364819198846817,
          0.0897674635052681,
          0.10588672757148743,
          0.12200597673654556,
          0.1381252408027649,
          0.15424451231956482,
          0.17036379873752594,
          0.18648305535316467,
          0.2026023268699646,
          0.21872155368328094,
          0.23484085500240326,
          0.2509601414203644,
          0.26707935333251953,
          0.28319865465164185,
          0.2993178963661194,
          0.3154371678829193,
          0.33155640959739685,
          0.34767571091651917,
          0.3637949526309967,
          0.37991422414779663,
          0.39603352546691895,
          0.4121527671813965,
          0.4282720685005188,
          0.44439128041267395,
          0.46051058173179626,
          0.4766298234462738,
          0.49274909496307373,
          0.508868396282196,
          0.5249876379966736,
          0.5411069393157959,
          0.5572261214256287,
          0.573345422744751,
          0.5894646644592285,
          0.6055839657783508,
          0.6217032670974731,
          0.6378225088119507,
          0.6539417505264282,
          0.6700609922409058,
          0.6861802935600281,
          0.7022995352745056,
          0.7184188365936279,
          0.7345380783081055,
          0.750657320022583,
          0.7667766213417053,
          0.7828958630561829,
          0.7990151047706604
         ],
         "y": [
          -1.1044926643371582,
          -0.9677943587303162,
          -0.8965175747871399,
          -0.8678637146949768,
          -0.8649134039878845,
          -0.8754737973213196,
          -0.8911476135253906,
          -0.9065015912055969,
          -0.9183804392814636,
          -0.9253101944923401,
          -0.9270345568656921,
          -0.92410808801651,
          -0.9175903797149658,
          -0.908784806728363,
          -0.899050235748291,
          -0.8896640539169312,
          -0.8817155361175537,
          -0.876044511795044,
          -0.873203456401825,
          -0.8734469413757324,
          -0.8767408132553101,
          -0.8827793002128601,
          -0.8910220265388489,
          -0.9007313251495361,
          -0.9110177755355835,
          -0.9208863377571106,
          -0.9292834401130676,
          -0.9351420402526855,
          -0.9374238848686218,
          -0.935157060623169,
          -0.9274697303771973,
          -0.9136174917221069,
          -0.8930065035820007,
          -0.8652074933052063,
          -0.8299679756164551,
          -0.7872160077095032,
          -0.7370588779449463,
          -0.6797775030136108,
          -0.6158167123794556,
          -0.545768678188324,
          -0.4703572988510132,
          -0.3904164433479309,
          -0.3068675696849823,
          -0.22069548070430756,
          -0.13292382657527924,
          -0.044589586555957794,
          0.043280623853206635,
          0.1296943575143814,
          0.21371504664421082,
          0.29448163509368896,
          0.37122565507888794,
          0.4432860314846039,
          0.5101200938224792,
          0.5713114738464355,
          0.6265745759010315,
          0.6757567524909973,
          0.7188349962234497,
          0.7559108138084412,
          0.7872018814086914,
          0.8130303025245667,
          0.8338087797164917,
          0.8500243425369263,
          0.8622211217880249,
          0.870980978012085,
          0.876904308795929,
          0.88059002161026,
          0.8826167583465576,
          0.8835248351097107,
          0.8837997317314148,
          0.8838582038879395,
          0.8840368390083313,
          0.8845842480659485,
          0.8856564164161682,
          0.8873166441917419,
          0.8895393013954163,
          0.8922183513641357,
          0.8951792120933533,
          0.8981965780258179,
          0.9010136723518372,
          0.9033663272857666,
          0.9050077795982361,
          0.9057372212409973,
          0.9054235219955444,
          0.9040317535400391,
          0.901641309261322,
          0.8984617590904236,
          0.8948331475257874,
          0.8912197947502136,
          0.8881818652153015,
          0.8863313794136047,
          0.8862538933753967,
          0.8884037733078003,
          0.8929710984230042,
          0.8996821641921997,
          0.907558023929596,
          0.9146335124969482,
          0.9175606966018677,
          0.9111846089363098,
          0.8879817128181458,
          0.8374438285827637
         ]
        },
        {
         "mode": "lines",
         "name": "decay=0.5",
         "type": "scatter",
         "x": [
          -0.7967921495437622,
          -0.7806728482246399,
          -0.7645536065101624,
          -0.7484343647956848,
          -0.7323151230812073,
          -0.716195821762085,
          -0.7000765800476074,
          -0.6839572787284851,
          -0.6678379774093628,
          -0.65171879529953,
          -0.6355994939804077,
          -0.6194802522659302,
          -0.6033609509468079,
          -0.5872417092323303,
          -0.571122407913208,
          -0.5550031661987305,
          -0.5388839244842529,
          -0.5227646231651306,
          -0.5066453814506531,
          -0.49052608013153076,
          -0.47440680861473083,
          -0.4582875967025757,
          -0.44216829538345337,
          -0.42604905366897583,
          -0.4099297821521759,
          -0.393810510635376,
          -0.37769123911857605,
          -0.3615719974040985,
          -0.3454527258872986,
          -0.32933345437049866,
          -0.31321415305137634,
          -0.2970949113368988,
          -0.28097566962242126,
          -0.26485639810562134,
          -0.2487371265888214,
          -0.23261786997318268,
          -0.21649859845638275,
          -0.20037929713726044,
          -0.1842600703239441,
          -0.16814079880714417,
          -0.15202152729034424,
          -0.1359022557735443,
          -0.11978299170732498,
          -0.10366372019052505,
          -0.08754447102546692,
          -0.07142519950866699,
          -0.055305927991867065,
          -0.03918666020035744,
          -0.02306738868355751,
          -0.0069481185637414455,
          0.00917112734168768,
          0.02529037371277809,
          0.04140964522957802,
          0.057528942823410034,
          0.07364819198846817,
          0.0897674635052681,
          0.10588672757148743,
          0.12200597673654556,
          0.1381252408027649,
          0.15424451231956482,
          0.17036379873752594,
          0.18648305535316467,
          0.2026023268699646,
          0.21872155368328094,
          0.23484085500240326,
          0.2509601414203644,
          0.26707935333251953,
          0.28319865465164185,
          0.2993178963661194,
          0.3154371678829193,
          0.33155640959739685,
          0.34767571091651917,
          0.3637949526309967,
          0.37991422414779663,
          0.39603352546691895,
          0.4121527671813965,
          0.4282720685005188,
          0.44439128041267395,
          0.46051058173179626,
          0.4766298234462738,
          0.49274909496307373,
          0.508868396282196,
          0.5249876379966736,
          0.5411069393157959,
          0.5572261214256287,
          0.573345422744751,
          0.5894646644592285,
          0.6055839657783508,
          0.6217032670974731,
          0.6378225088119507,
          0.6539417505264282,
          0.6700609922409058,
          0.6861802935600281,
          0.7022995352745056,
          0.7184188365936279,
          0.7345380783081055,
          0.750657320022583,
          0.7667766213417053,
          0.7828958630561829,
          0.7990151047706604
         ],
         "y": [
          -1.1235473155975342,
          -0.986814558506012,
          -0.911286473274231,
          -0.8767566084861755,
          -0.8679937720298767,
          -0.8738266825675964,
          -0.8863494992256165,
          -0.9002582430839539,
          -0.9122647643089294,
          -0.920613169670105,
          -0.9246761202812195,
          -0.9246063232421875,
          -0.9210779070854187,
          -0.9150501489639282,
          -0.9076051712036133,
          -0.8998144865036011,
          -0.8926405310630798,
          -0.8868720531463623,
          -0.8830829858779907,
          -0.8816119432449341,
          -0.8825587034225464,
          -0.8857944011688232,
          -0.8909808993339539,
          -0.8975988626480103,
          -0.9049806594848633,
          -0.9123456478118896,
          -0.9188369512557983,
          -0.9235597252845764,
          -0.9256154894828796,
          -0.9241354465484619,
          -0.9183104634284973,
          -0.907417356967926,
          -0.890840470790863,
          -0.8680895566940308,
          -0.8388121128082275,
          -0.8028022050857544,
          -0.760004460811615,
          -0.7105130553245544,
          -0.6545683741569519,
          -0.5925483107566833,
          -0.524957537651062,
          -0.4524138867855072,
          -0.3756321966648102,
          -0.2954062223434448,
          -0.2125898003578186,
          -0.12807659804821014,
          -0.042780425399541855,
          0.04238513857126236,
          0.12652616202831268,
          0.20878662168979645,
          0.28836530447006226,
          0.36453142762184143,
          0.4366374611854553,
          0.5041301250457764,
          0.5665586590766907,
          0.6235814690589905,
          0.6749686002731323,
          0.7206026315689087,
          0.7604767680168152,
          0.7946898341178894,
          0.8234395384788513,
          0.8470131754875183,
          0.8657764196395874,
          0.8801607489585876,
          0.8906488418579102,
          0.897759735584259,
          0.9020329713821411,
          0.9040129780769348,
          0.9042330384254456,
          0.9032007455825806,
          0.9013843536376953,
          0.8992000222206116,
          0.8970022797584534,
          0.8950759172439575,
          0.8936307430267334,
          0.8927991986274719,
          0.8926380276679993,
          0.8931312561035156,
          0.8941985964775085,
          0.895704984664917,
          0.8974757194519043,
          0.8993101119995117,
          0.9010016322135925,
          0.9023566246032715,
          0.9032136797904968,
          0.9034618735313416,
          0.9030594825744629,
          0.902043879032135,
          0.9005425572395325,
          0.8987684845924377,
          0.8970093131065369,
          0.8956027030944824,
          0.8948960900306702,
          0.8951836228370667,
          0.8966110348701477,
          0.8990742564201355,
          0.9020479917526245,
          0.9044191241264343,
          0.9042314291000366,
          0.8983946442604065
         ]
        },
        {
         "mode": "lines",
         "name": "decay=0.1",
         "type": "scatter",
         "x": [
          -0.7967921495437622,
          -0.7806728482246399,
          -0.7645536065101624,
          -0.7484343647956848,
          -0.7323151230812073,
          -0.716195821762085,
          -0.7000765800476074,
          -0.6839572787284851,
          -0.6678379774093628,
          -0.65171879529953,
          -0.6355994939804077,
          -0.6194802522659302,
          -0.6033609509468079,
          -0.5872417092323303,
          -0.571122407913208,
          -0.5550031661987305,
          -0.5388839244842529,
          -0.5227646231651306,
          -0.5066453814506531,
          -0.49052608013153076,
          -0.47440680861473083,
          -0.4582875967025757,
          -0.44216829538345337,
          -0.42604905366897583,
          -0.4099297821521759,
          -0.393810510635376,
          -0.37769123911857605,
          -0.3615719974040985,
          -0.3454527258872986,
          -0.32933345437049866,
          -0.31321415305137634,
          -0.2970949113368988,
          -0.28097566962242126,
          -0.26485639810562134,
          -0.2487371265888214,
          -0.23261786997318268,
          -0.21649859845638275,
          -0.20037929713726044,
          -0.1842600703239441,
          -0.16814079880714417,
          -0.15202152729034424,
          -0.1359022557735443,
          -0.11978299170732498,
          -0.10366372019052505,
          -0.08754447102546692,
          -0.07142519950866699,
          -0.055305927991867065,
          -0.03918666020035744,
          -0.02306738868355751,
          -0.0069481185637414455,
          0.00917112734168768,
          0.02529037371277809,
          0.04140964522957802,
          0.057528942823410034,
          0.07364819198846817,
          0.0897674635052681,
          0.10588672757148743,
          0.12200597673654556,
          0.1381252408027649,
          0.15424451231956482,
          0.17036379873752594,
          0.18648305535316467,
          0.2026023268699646,
          0.21872155368328094,
          0.23484085500240326,
          0.2509601414203644,
          0.26707935333251953,
          0.28319865465164185,
          0.2993178963661194,
          0.3154371678829193,
          0.33155640959739685,
          0.34767571091651917,
          0.3637949526309967,
          0.37991422414779663,
          0.39603352546691895,
          0.4121527671813965,
          0.4282720685005188,
          0.44439128041267395,
          0.46051058173179626,
          0.4766298234462738,
          0.49274909496307373,
          0.508868396282196,
          0.5249876379966736,
          0.5411069393157959,
          0.5572261214256287,
          0.573345422744751,
          0.5894646644592285,
          0.6055839657783508,
          0.6217032670974731,
          0.6378225088119507,
          0.6539417505264282,
          0.6700609922409058,
          0.6861802935600281,
          0.7022995352745056,
          0.7184188365936279,
          0.7345380783081055,
          0.750657320022583,
          0.7667766213417053,
          0.7828958630561829,
          0.7990151047706604
         ],
         "y": [
          -1.1899152994155884,
          -1.0201778411865234,
          -0.9240491390228271,
          -0.8778948187828064,
          -0.8637408018112183,
          -0.8682774305343628,
          -0.8819534182548523,
          -0.8982483148574829,
          -0.9129939079284668,
          -0.923844575881958,
          -0.9298021197319031,
          -0.9308375716209412,
          -0.9275725483894348,
          -0.921019434928894,
          -0.9123846888542175,
          -0.9029080867767334,
          -0.8937497138977051,
          -0.8859017491340637,
          -0.8801395297050476,
          -0.8769865036010742,
          -0.8767057061195374,
          -0.8793041110038757,
          -0.8845475316047668,
          -0.8919894695281982,
          -0.9010013341903687,
          -0.910810112953186,
          -0.9205378293991089,
          -0.9292404651641846,
          -0.9359471797943115,
          -0.9396966695785522,
          -0.9395713210105896,
          -0.934727132320404,
          -0.9244194626808167,
          -0.9080248475074768,
          -0.8850569128990173,
          -0.8551791310310364,
          -0.818211019039154,
          -0.7741307616233826,
          -0.7230742573738098,
          -0.6653276085853577,
          -0.6013192534446716,
          -0.5316067934036255,
          -0.4568611979484558,
          -0.37785008549690247,
          -0.29541826248168945,
          -0.21046699583530426,
          -0.12393391132354736,
          -0.036771368235349655,
          0.05007417872548103,
          0.13568206131458282,
          0.2191760241985321,
          0.2997417747974396,
          0.3766418397426605,
          0.4492286443710327,
          0.5169548392295837,
          0.5793822407722473,
          0.6361861824989319,
          0.6871586441993713,
          0.7322076559066772,
          0.7713546752929688,
          0.8047289848327637,
          0.8325592875480652,
          0.8551644682884216,
          0.8729405999183655,
          0.8863479495048523,
          0.8958953022956848,
          0.9021248817443848,
          0.9055953621864319,
          0.9068659543991089,
          0.9064801931381226,
          0.9049514532089233,
          0.9027482867240906,
          0.9002835154533386,
          0.8979036808013916,
          0.8958818316459656,
          0.8944130539894104,
          0.8936139345169067,
          0.8935227394104004,
          0.8941066861152649,
          0.8952677249908447,
          0.8968578577041626,
          0.8986901044845581,
          0.9005571603775024,
          0.9022514820098877,
          0.9035817384719849,
          0.9043952822685242,
          0.9045951962471008,
          0.9041543006896973,
          0.9031323194503784,
          0.9016686081886292,
          0.8999884724617004,
          0.898377537727356,
          0.8971561193466187,
          0.8966190218925476,
          0.8969720005989075,
          0.8982234597206116,
          0.9000505805015564,
          0.901631236076355,
          0.9014329314231873,
          0.8969483971595764
         ]
        },
        {
         "mode": "lines",
         "name": "decay=0.01",
         "type": "scatter",
         "x": [
          -0.7967921495437622,
          -0.7806728482246399,
          -0.7645536065101624,
          -0.7484343647956848,
          -0.7323151230812073,
          -0.716195821762085,
          -0.7000765800476074,
          -0.6839572787284851,
          -0.6678379774093628,
          -0.65171879529953,
          -0.6355994939804077,
          -0.6194802522659302,
          -0.6033609509468079,
          -0.5872417092323303,
          -0.571122407913208,
          -0.5550031661987305,
          -0.5388839244842529,
          -0.5227646231651306,
          -0.5066453814506531,
          -0.49052608013153076,
          -0.47440680861473083,
          -0.4582875967025757,
          -0.44216829538345337,
          -0.42604905366897583,
          -0.4099297821521759,
          -0.393810510635376,
          -0.37769123911857605,
          -0.3615719974040985,
          -0.3454527258872986,
          -0.32933345437049866,
          -0.31321415305137634,
          -0.2970949113368988,
          -0.28097566962242126,
          -0.26485639810562134,
          -0.2487371265888214,
          -0.23261786997318268,
          -0.21649859845638275,
          -0.20037929713726044,
          -0.1842600703239441,
          -0.16814079880714417,
          -0.15202152729034424,
          -0.1359022557735443,
          -0.11978299170732498,
          -0.10366372019052505,
          -0.08754447102546692,
          -0.07142519950866699,
          -0.055305927991867065,
          -0.03918666020035744,
          -0.02306738868355751,
          -0.0069481185637414455,
          0.00917112734168768,
          0.02529037371277809,
          0.04140964522957802,
          0.057528942823410034,
          0.07364819198846817,
          0.0897674635052681,
          0.10588672757148743,
          0.12200597673654556,
          0.1381252408027649,
          0.15424451231956482,
          0.17036379873752594,
          0.18648305535316467,
          0.2026023268699646,
          0.21872155368328094,
          0.23484085500240326,
          0.2509601414203644,
          0.26707935333251953,
          0.28319865465164185,
          0.2993178963661194,
          0.3154371678829193,
          0.33155640959739685,
          0.34767571091651917,
          0.3637949526309967,
          0.37991422414779663,
          0.39603352546691895,
          0.4121527671813965,
          0.4282720685005188,
          0.44439128041267395,
          0.46051058173179626,
          0.4766298234462738,
          0.49274909496307373,
          0.508868396282196,
          0.5249876379966736,
          0.5411069393157959,
          0.5572261214256287,
          0.573345422744751,
          0.5894646644592285,
          0.6055839657783508,
          0.6217032670974731,
          0.6378225088119507,
          0.6539417505264282,
          0.6700609922409058,
          0.6861802935600281,
          0.7022995352745056,
          0.7184188365936279,
          0.7345380783081055,
          0.750657320022583,
          0.7667766213417053,
          0.7828958630561829,
          0.7990151047706604
         ],
         "y": [
          -0.901095449924469,
          -0.9026886820793152,
          -0.9009084105491638,
          -0.8982938528060913,
          -0.896285891532898,
          -0.8955292105674744,
          -0.8961357474327087,
          -0.8978793621063232,
          -0.9003578424453735,
          -0.903096079826355,
          -0.9056468605995178,
          -0.907627284526825,
          -0.9087677001953125,
          -0.9089158177375793,
          -0.9080445766448975,
          -0.9062402844429016,
          -0.9036822319030762,
          -0.9006265997886658,
          -0.8973758220672607,
          -0.8942527770996094,
          -0.8915776014328003,
          -0.8896390199661255,
          -0.8886762857437134,
          -0.8888591527938843,
          -0.8902723789215088,
          -0.8929060697555542,
          -0.896650493144989,
          -0.9012922048568726,
          -0.9065179228782654,
          -0.9119196534156799,
          -0.9170050621032715,
          -0.9212092757225037,
          -0.9239115118980408,
          -0.9244515299797058,
          -0.9221487045288086,
          -0.916322648525238,
          -0.9063130021095276,
          -0.8914996981620789,
          -0.8713226914405823,
          -0.8452998995780945,
          -0.8130439519882202,
          -0.7742765545845032,
          -0.7288404107093811,
          -0.6767080426216125,
          -0.6179884672164917,
          -0.5529289245605469,
          -0.48191508650779724,
          -0.40546679496765137,
          -0.3242301642894745,
          -0.23896735906600952,
          -0.15054258704185486,
          -0.0599050335586071,
          0.031930118799209595,
          0.12390293926000595,
          0.21493172645568848,
          0.30393847823143005,
          0.38987255096435547,
          0.4717366397380829,
          0.5486114621162415,
          0.6196786761283875,
          0.6842430233955383,
          0.7417513132095337,
          0.7918093800544739,
          0.8341935276985168,
          0.8688597679138184,
          0.8959472179412842,
          0.9157761931419373,
          0.9288417100906372,
          0.9358006119728088,
          0.9374526143074036,
          0.9347167015075684,
          0.9286007285118103,
          0.9201663732528687,
          0.9104901552200317,
          0.9006195068359375,
          0.8915275931358337,
          0.8840664625167847,
          0.8789204955101013,
          0.8765634894371033,
          0.877220630645752,
          0.8808373212814331,
          0.8870605826377869,
          0.8952363729476929,
          0.9044247269630432,
          0.9134373664855957,
          0.9209135174751282,
          0.9254150986671448,
          0.9255843162536621,
          0.9203328490257263,
          0.9091006517410278,
          0.8921685814857483,
          0.8710647821426392,
          0.8490450978279114,
          0.8316689133644104,
          0.8274819254875183,
          0.8488500118255615,
          0.912891685962677,
          1.0425831079483032,
          1.2680424451828003,
          1.6279492378234863
         ]
        },
        {
         "mode": "lines",
         "name": "decay=0.001",
         "type": "scatter",
         "x": [
          -0.7967921495437622,
          -0.7806728482246399,
          -0.7645536065101624,
          -0.7484343647956848,
          -0.7323151230812073,
          -0.716195821762085,
          -0.7000765800476074,
          -0.6839572787284851,
          -0.6678379774093628,
          -0.65171879529953,
          -0.6355994939804077,
          -0.6194802522659302,
          -0.6033609509468079,
          -0.5872417092323303,
          -0.571122407913208,
          -0.5550031661987305,
          -0.5388839244842529,
          -0.5227646231651306,
          -0.5066453814506531,
          -0.49052608013153076,
          -0.47440680861473083,
          -0.4582875967025757,
          -0.44216829538345337,
          -0.42604905366897583,
          -0.4099297821521759,
          -0.393810510635376,
          -0.37769123911857605,
          -0.3615719974040985,
          -0.3454527258872986,
          -0.32933345437049866,
          -0.31321415305137634,
          -0.2970949113368988,
          -0.28097566962242126,
          -0.26485639810562134,
          -0.2487371265888214,
          -0.23261786997318268,
          -0.21649859845638275,
          -0.20037929713726044,
          -0.1842600703239441,
          -0.16814079880714417,
          -0.15202152729034424,
          -0.1359022557735443,
          -0.11978299170732498,
          -0.10366372019052505,
          -0.08754447102546692,
          -0.07142519950866699,
          -0.055305927991867065,
          -0.03918666020035744,
          -0.02306738868355751,
          -0.0069481185637414455,
          0.00917112734168768,
          0.02529037371277809,
          0.04140964522957802,
          0.057528942823410034,
          0.07364819198846817,
          0.0897674635052681,
          0.10588672757148743,
          0.12200597673654556,
          0.1381252408027649,
          0.15424451231956482,
          0.17036379873752594,
          0.18648305535316467,
          0.2026023268699646,
          0.21872155368328094,
          0.23484085500240326,
          0.2509601414203644,
          0.26707935333251953,
          0.28319865465164185,
          0.2993178963661194,
          0.3154371678829193,
          0.33155640959739685,
          0.34767571091651917,
          0.3637949526309967,
          0.37991422414779663,
          0.39603352546691895,
          0.4121527671813965,
          0.4282720685005188,
          0.44439128041267395,
          0.46051058173179626,
          0.4766298234462738,
          0.49274909496307373,
          0.508868396282196,
          0.5249876379966736,
          0.5411069393157959,
          0.5572261214256287,
          0.573345422744751,
          0.5894646644592285,
          0.6055839657783508,
          0.6217032670974731,
          0.6378225088119507,
          0.6539417505264282,
          0.6700609922409058,
          0.6861802935600281,
          0.7022995352745056,
          0.7184188365936279,
          0.7345380783081055,
          0.750657320022583,
          0.7667766213417053,
          0.7828958630561829,
          0.7990151047706604
         ],
         "y": [
          -1.309665322303772,
          -1.074910283088684,
          -0.9397649765014648,
          -0.8728002905845642,
          -0.8500403761863708,
          -0.8536166548728943,
          -0.870642900466919,
          -0.8922088742256165,
          -0.9125378131866455,
          -0.928270697593689,
          -0.9378531575202942,
          -0.9410353302955627,
          -0.9384549856185913,
          -0.9313052296638489,
          -0.9210642576217651,
          -0.9092901349067688,
          -0.8974699974060059,
          -0.8869009613990784,
          -0.87862229347229,
          -0.8733726143836975,
          -0.8715691566467285,
          -0.8733123540878296,
          -0.8784058094024658,
          -0.8863856196403503,
          -0.896559476852417,
          -0.9080531597137451,
          -0.9198574423789978,
          -0.9308769702911377,
          -0.9399782419204712,
          -0.9460347890853882,
          -0.9479689002037048,
          -0.9447886347770691,
          -0.9356196522712708,
          -0.9197311997413635,
          -0.89655601978302,
          -0.8657053112983704,
          -0.82697594165802,
          -0.7803534865379333,
          -0.7260100245475769,
          -0.6642946600914001,
          -0.5957232117652893,
          -0.5209614038467407,
          -0.44080567359924316,
          -0.3561611473560333,
          -0.2680187225341797,
          -0.17742891609668732,
          -0.08547736704349518,
          0.00674134586006403,
          0.0981486588716507,
          0.1877056211233139,
          0.27443504333496094,
          0.3574417531490326,
          0.4359298646450043,
          0.5092170834541321,
          0.5767459869384766,
          0.6380932927131653,
          0.6929731965065002,
          0.7412392497062683,
          0.782882034778595,
          0.8180235624313354,
          0.8469086289405823,
          0.8698930740356445,
          0.8874300122261047,
          0.9000530242919922,
          0.908358633518219,
          0.9129865169525146,
          0.9145992398262024,
          0.9138627052307129,
          0.9114256501197815,
          0.9079002737998962,
          0.9038459658622742,
          0.8997529745101929,
          0.8960297703742981,
          0.892993688583374,
          0.8908644914627075,
          0.8897625803947449,
          0.8897109627723694,
          0.8906407356262207,
          0.892402172088623,
          0.8947787880897522,
          0.8975061178207397,
          0.9002946019172668,
          0.902850866317749,
          0.9049049019813538,
          0.9062375426292419,
          0.9067016243934631,
          0.9062473773956299,
          0.9049333333969116,
          0.9029363393783569,
          0.9005493521690369,
          0.8981594443321228,
          0.8962109684944153,
          0.8951467871665955,
          0.8953145742416382,
          0.8968484997749329,
          0.8995010256767273,
          0.9024269580841064,
          0.9039252400398254,
          0.9011052250862122,
          0.8894769549369812
         ]
        },
        {
         "mode": "lines",
         "name": "decay=0.0001",
         "type": "scatter",
         "x": [
          -0.7967921495437622,
          -0.7806728482246399,
          -0.7645536065101624,
          -0.7484343647956848,
          -0.7323151230812073,
          -0.716195821762085,
          -0.7000765800476074,
          -0.6839572787284851,
          -0.6678379774093628,
          -0.65171879529953,
          -0.6355994939804077,
          -0.6194802522659302,
          -0.6033609509468079,
          -0.5872417092323303,
          -0.571122407913208,
          -0.5550031661987305,
          -0.5388839244842529,
          -0.5227646231651306,
          -0.5066453814506531,
          -0.49052608013153076,
          -0.47440680861473083,
          -0.4582875967025757,
          -0.44216829538345337,
          -0.42604905366897583,
          -0.4099297821521759,
          -0.393810510635376,
          -0.37769123911857605,
          -0.3615719974040985,
          -0.3454527258872986,
          -0.32933345437049866,
          -0.31321415305137634,
          -0.2970949113368988,
          -0.28097566962242126,
          -0.26485639810562134,
          -0.2487371265888214,
          -0.23261786997318268,
          -0.21649859845638275,
          -0.20037929713726044,
          -0.1842600703239441,
          -0.16814079880714417,
          -0.15202152729034424,
          -0.1359022557735443,
          -0.11978299170732498,
          -0.10366372019052505,
          -0.08754447102546692,
          -0.07142519950866699,
          -0.055305927991867065,
          -0.03918666020035744,
          -0.02306738868355751,
          -0.0069481185637414455,
          0.00917112734168768,
          0.02529037371277809,
          0.04140964522957802,
          0.057528942823410034,
          0.07364819198846817,
          0.0897674635052681,
          0.10588672757148743,
          0.12200597673654556,
          0.1381252408027649,
          0.15424451231956482,
          0.17036379873752594,
          0.18648305535316467,
          0.2026023268699646,
          0.21872155368328094,
          0.23484085500240326,
          0.2509601414203644,
          0.26707935333251953,
          0.28319865465164185,
          0.2993178963661194,
          0.3154371678829193,
          0.33155640959739685,
          0.34767571091651917,
          0.3637949526309967,
          0.37991422414779663,
          0.39603352546691895,
          0.4121527671813965,
          0.4282720685005188,
          0.44439128041267395,
          0.46051058173179626,
          0.4766298234462738,
          0.49274909496307373,
          0.508868396282196,
          0.5249876379966736,
          0.5411069393157959,
          0.5572261214256287,
          0.573345422744751,
          0.5894646644592285,
          0.6055839657783508,
          0.6217032670974731,
          0.6378225088119507,
          0.6539417505264282,
          0.6700609922409058,
          0.6861802935600281,
          0.7022995352745056,
          0.7184188365936279,
          0.7345380783081055,
          0.750657320022583,
          0.7667766213417053,
          0.7828958630561829,
          0.7990151047706604
         ],
         "y": [
          -1.234518051147461,
          -1.0349371433258057,
          -0.9234216213226318,
          -0.8710906505584717,
          -0.8561797142028809,
          -0.8626956939697266,
          -0.8793205618858337,
          -0.8984246850013733,
          -0.9152515530586243,
          -0.9272237420082092,
          -0.9333627223968506,
          -0.9338082671165466,
          -0.9294275045394897,
          -0.9215149879455566,
          -0.9115391373634338,
          -0.9009661078453064,
          -0.891116201877594,
          -0.8830837607383728,
          -0.8776714205741882,
          -0.875367283821106,
          -0.876339852809906,
          -0.8804523944854736,
          -0.8872901201248169,
          -0.8962005376815796,
          -0.9063376784324646,
          -0.9167108535766602,
          -0.9262352585792542,
          -0.9337820410728455,
          -0.938225269317627,
          -0.9384862184524536,
          -0.9335716366767883,
          -0.9226081967353821,
          -0.9048686623573303,
          -0.8797942399978638,
          -0.8470091223716736,
          -0.8063287734985352,
          -0.7577627897262573,
          -0.7015115022659302,
          -0.6379579305648804,
          -0.5676537156105042,
          -0.49130332469940186,
          -0.4097427427768707,
          -0.3239164650440216,
          -0.2348521202802658,
          -0.14363445341587067,
          -0.05137772485613823,
          0.04080047458410263,
          0.1318056732416153,
          0.22059133648872375,
          0.306181401014328,
          0.3876906931400299,
          0.46434295177459717,
          0.535484790802002,
          0.6005967259407043,
          0.6593003273010254,
          0.7113627791404724,
          0.7566959261894226,
          0.7953526973724365,
          0.8275203108787537,
          0.853509247303009,
          0.8737397789955139,
          0.8887261152267456,
          0.8990578651428223,
          0.9053798317909241,
          0.9083714485168457,
          0.9087244868278503,
          0.9071217775344849,
          0.9042160511016846,
          0.9006108045578003,
          0.8968420028686523,
          0.8933637738227844,
          0.8905361294746399,
          0.8886162042617798,
          0.8877555727958679,
          0.8879990577697754,
          0.8892905116081238,
          0.8914816379547119,
          0.8943473100662231,
          0.8976039886474609,
          0.9009319543838501,
          0.9040008187294006,
          0.9064991474151611,
          0.9081622362136841,
          0.908799946308136,
          0.9083244204521179,
          0.9067702293395996,
          0.9043071269989014,
          0.9012424945831299,
          0.8980115652084351,
          0.8951423168182373,
          0.8932067155838013,
          0.8927329778671265,
          0.8940883278846741,
          0.897323727607727,
          0.9019539952278137,
          0.9067069292068481,
          0.9091752767562866,
          0.9054198861122131,
          0.8894690871238708,
          0.852724015712738
         ]
        }
       ],
       "layout": {
        "template": {
         "data": {
          "bar": [
           {
            "error_x": {
             "color": "#2a3f5f"
            },
            "error_y": {
             "color": "#2a3f5f"
            },
            "marker": {
             "line": {
              "color": "#E5ECF6",
              "width": 0.5
             },
             "pattern": {
              "fillmode": "overlay",
              "size": 10,
              "solidity": 0.2
             }
            },
            "type": "bar"
           }
          ],
          "barpolar": [
           {
            "marker": {
             "line": {
              "color": "#E5ECF6",
              "width": 0.5
             },
             "pattern": {
              "fillmode": "overlay",
              "size": 10,
              "solidity": 0.2
             }
            },
            "type": "barpolar"
           }
          ],
          "carpet": [
           {
            "aaxis": {
             "endlinecolor": "#2a3f5f",
             "gridcolor": "white",
             "linecolor": "white",
             "minorgridcolor": "white",
             "startlinecolor": "#2a3f5f"
            },
            "baxis": {
             "endlinecolor": "#2a3f5f",
             "gridcolor": "white",
             "linecolor": "white",
             "minorgridcolor": "white",
             "startlinecolor": "#2a3f5f"
            },
            "type": "carpet"
           }
          ],
          "choropleth": [
           {
            "colorbar": {
             "outlinewidth": 0,
             "ticks": ""
            },
            "type": "choropleth"
           }
          ],
          "contour": [
           {
            "colorbar": {
             "outlinewidth": 0,
             "ticks": ""
            },
            "colorscale": [
             [
              0,
              "#0d0887"
             ],
             [
              0.1111111111111111,
              "#46039f"
             ],
             [
              0.2222222222222222,
              "#7201a8"
             ],
             [
              0.3333333333333333,
              "#9c179e"
             ],
             [
              0.4444444444444444,
              "#bd3786"
             ],
             [
              0.5555555555555556,
              "#d8576b"
             ],
             [
              0.6666666666666666,
              "#ed7953"
             ],
             [
              0.7777777777777778,
              "#fb9f3a"
             ],
             [
              0.8888888888888888,
              "#fdca26"
             ],
             [
              1,
              "#f0f921"
             ]
            ],
            "type": "contour"
           }
          ],
          "contourcarpet": [
           {
            "colorbar": {
             "outlinewidth": 0,
             "ticks": ""
            },
            "type": "contourcarpet"
           }
          ],
          "heatmap": [
           {
            "colorbar": {
             "outlinewidth": 0,
             "ticks": ""
            },
            "colorscale": [
             [
              0,
              "#0d0887"
             ],
             [
              0.1111111111111111,
              "#46039f"
             ],
             [
              0.2222222222222222,
              "#7201a8"
             ],
             [
              0.3333333333333333,
              "#9c179e"
             ],
             [
              0.4444444444444444,
              "#bd3786"
             ],
             [
              0.5555555555555556,
              "#d8576b"
             ],
             [
              0.6666666666666666,
              "#ed7953"
             ],
             [
              0.7777777777777778,
              "#fb9f3a"
             ],
             [
              0.8888888888888888,
              "#fdca26"
             ],
             [
              1,
              "#f0f921"
             ]
            ],
            "type": "heatmap"
           }
          ],
          "heatmapgl": [
           {
            "colorbar": {
             "outlinewidth": 0,
             "ticks": ""
            },
            "colorscale": [
             [
              0,
              "#0d0887"
             ],
             [
              0.1111111111111111,
              "#46039f"
             ],
             [
              0.2222222222222222,
              "#7201a8"
             ],
             [
              0.3333333333333333,
              "#9c179e"
             ],
             [
              0.4444444444444444,
              "#bd3786"
             ],
             [
              0.5555555555555556,
              "#d8576b"
             ],
             [
              0.6666666666666666,
              "#ed7953"
             ],
             [
              0.7777777777777778,
              "#fb9f3a"
             ],
             [
              0.8888888888888888,
              "#fdca26"
             ],
             [
              1,
              "#f0f921"
             ]
            ],
            "type": "heatmapgl"
           }
          ],
          "histogram": [
           {
            "marker": {
             "pattern": {
              "fillmode": "overlay",
              "size": 10,
              "solidity": 0.2
             }
            },
            "type": "histogram"
           }
          ],
          "histogram2d": [
           {
            "colorbar": {
             "outlinewidth": 0,
             "ticks": ""
            },
            "colorscale": [
             [
              0,
              "#0d0887"
             ],
             [
              0.1111111111111111,
              "#46039f"
             ],
             [
              0.2222222222222222,
              "#7201a8"
             ],
             [
              0.3333333333333333,
              "#9c179e"
             ],
             [
              0.4444444444444444,
              "#bd3786"
             ],
             [
              0.5555555555555556,
              "#d8576b"
             ],
             [
              0.6666666666666666,
              "#ed7953"
             ],
             [
              0.7777777777777778,
              "#fb9f3a"
             ],
             [
              0.8888888888888888,
              "#fdca26"
             ],
             [
              1,
              "#f0f921"
             ]
            ],
            "type": "histogram2d"
           }
          ],
          "histogram2dcontour": [
           {
            "colorbar": {
             "outlinewidth": 0,
             "ticks": ""
            },
            "colorscale": [
             [
              0,
              "#0d0887"
             ],
             [
              0.1111111111111111,
              "#46039f"
             ],
             [
              0.2222222222222222,
              "#7201a8"
             ],
             [
              0.3333333333333333,
              "#9c179e"
             ],
             [
              0.4444444444444444,
              "#bd3786"
             ],
             [
              0.5555555555555556,
              "#d8576b"
             ],
             [
              0.6666666666666666,
              "#ed7953"
             ],
             [
              0.7777777777777778,
              "#fb9f3a"
             ],
             [
              0.8888888888888888,
              "#fdca26"
             ],
             [
              1,
              "#f0f921"
             ]
            ],
            "type": "histogram2dcontour"
           }
          ],
          "mesh3d": [
           {
            "colorbar": {
             "outlinewidth": 0,
             "ticks": ""
            },
            "type": "mesh3d"
           }
          ],
          "parcoords": [
           {
            "line": {
             "colorbar": {
              "outlinewidth": 0,
              "ticks": ""
             }
            },
            "type": "parcoords"
           }
          ],
          "pie": [
           {
            "automargin": true,
            "type": "pie"
           }
          ],
          "scatter": [
           {
            "fillpattern": {
             "fillmode": "overlay",
             "size": 10,
             "solidity": 0.2
            },
            "type": "scatter"
           }
          ],
          "scatter3d": [
           {
            "line": {
             "colorbar": {
              "outlinewidth": 0,
              "ticks": ""
             }
            },
            "marker": {
             "colorbar": {
              "outlinewidth": 0,
              "ticks": ""
             }
            },
            "type": "scatter3d"
           }
          ],
          "scattercarpet": [
           {
            "marker": {
             "colorbar": {
              "outlinewidth": 0,
              "ticks": ""
             }
            },
            "type": "scattercarpet"
           }
          ],
          "scattergeo": [
           {
            "marker": {
             "colorbar": {
              "outlinewidth": 0,
              "ticks": ""
             }
            },
            "type": "scattergeo"
           }
          ],
          "scattergl": [
           {
            "marker": {
             "colorbar": {
              "outlinewidth": 0,
              "ticks": ""
             }
            },
            "type": "scattergl"
           }
          ],
          "scattermapbox": [
           {
            "marker": {
             "colorbar": {
              "outlinewidth": 0,
              "ticks": ""
             }
            },
            "type": "scattermapbox"
           }
          ],
          "scatterpolar": [
           {
            "marker": {
             "colorbar": {
              "outlinewidth": 0,
              "ticks": ""
             }
            },
            "type": "scatterpolar"
           }
          ],
          "scatterpolargl": [
           {
            "marker": {
             "colorbar": {
              "outlinewidth": 0,
              "ticks": ""
             }
            },
            "type": "scatterpolargl"
           }
          ],
          "scatterternary": [
           {
            "marker": {
             "colorbar": {
              "outlinewidth": 0,
              "ticks": ""
             }
            },
            "type": "scatterternary"
           }
          ],
          "surface": [
           {
            "colorbar": {
             "outlinewidth": 0,
             "ticks": ""
            },
            "colorscale": [
             [
              0,
              "#0d0887"
             ],
             [
              0.1111111111111111,
              "#46039f"
             ],
             [
              0.2222222222222222,
              "#7201a8"
             ],
             [
              0.3333333333333333,
              "#9c179e"
             ],
             [
              0.4444444444444444,
              "#bd3786"
             ],
             [
              0.5555555555555556,
              "#d8576b"
             ],
             [
              0.6666666666666666,
              "#ed7953"
             ],
             [
              0.7777777777777778,
              "#fb9f3a"
             ],
             [
              0.8888888888888888,
              "#fdca26"
             ],
             [
              1,
              "#f0f921"
             ]
            ],
            "type": "surface"
           }
          ],
          "table": [
           {
            "cells": {
             "fill": {
              "color": "#EBF0F8"
             },
             "line": {
              "color": "white"
             }
            },
            "header": {
             "fill": {
              "color": "#C8D4E3"
             },
             "line": {
              "color": "white"
             }
            },
            "type": "table"
           }
          ]
         },
         "layout": {
          "annotationdefaults": {
           "arrowcolor": "#2a3f5f",
           "arrowhead": 0,
           "arrowwidth": 1
          },
          "autotypenumbers": "strict",
          "coloraxis": {
           "colorbar": {
            "outlinewidth": 0,
            "ticks": ""
           }
          },
          "colorscale": {
           "diverging": [
            [
             0,
             "#8e0152"
            ],
            [
             0.1,
             "#c51b7d"
            ],
            [
             0.2,
             "#de77ae"
            ],
            [
             0.3,
             "#f1b6da"
            ],
            [
             0.4,
             "#fde0ef"
            ],
            [
             0.5,
             "#f7f7f7"
            ],
            [
             0.6,
             "#e6f5d0"
            ],
            [
             0.7,
             "#b8e186"
            ],
            [
             0.8,
             "#7fbc41"
            ],
            [
             0.9,
             "#4d9221"
            ],
            [
             1,
             "#276419"
            ]
           ],
           "sequential": [
            [
             0,
             "#0d0887"
            ],
            [
             0.1111111111111111,
             "#46039f"
            ],
            [
             0.2222222222222222,
             "#7201a8"
            ],
            [
             0.3333333333333333,
             "#9c179e"
            ],
            [
             0.4444444444444444,
             "#bd3786"
            ],
            [
             0.5555555555555556,
             "#d8576b"
            ],
            [
             0.6666666666666666,
             "#ed7953"
            ],
            [
             0.7777777777777778,
             "#fb9f3a"
            ],
            [
             0.8888888888888888,
             "#fdca26"
            ],
            [
             1,
             "#f0f921"
            ]
           ],
           "sequentialminus": [
            [
             0,
             "#0d0887"
            ],
            [
             0.1111111111111111,
             "#46039f"
            ],
            [
             0.2222222222222222,
             "#7201a8"
            ],
            [
             0.3333333333333333,
             "#9c179e"
            ],
            [
             0.4444444444444444,
             "#bd3786"
            ],
            [
             0.5555555555555556,
             "#d8576b"
            ],
            [
             0.6666666666666666,
             "#ed7953"
            ],
            [
             0.7777777777777778,
             "#fb9f3a"
            ],
            [
             0.8888888888888888,
             "#fdca26"
            ],
            [
             1,
             "#f0f921"
            ]
           ]
          },
          "colorway": [
           "#636efa",
           "#EF553B",
           "#00cc96",
           "#ab63fa",
           "#FFA15A",
           "#19d3f3",
           "#FF6692",
           "#B6E880",
           "#FF97FF",
           "#FECB52"
          ],
          "font": {
           "color": "#2a3f5f"
          },
          "geo": {
           "bgcolor": "white",
           "lakecolor": "white",
           "landcolor": "#E5ECF6",
           "showlakes": true,
           "showland": true,
           "subunitcolor": "white"
          },
          "hoverlabel": {
           "align": "left"
          },
          "hovermode": "closest",
          "mapbox": {
           "style": "light"
          },
          "paper_bgcolor": "white",
          "plot_bgcolor": "#E5ECF6",
          "polar": {
           "angularaxis": {
            "gridcolor": "white",
            "linecolor": "white",
            "ticks": ""
           },
           "bgcolor": "#E5ECF6",
           "radialaxis": {
            "gridcolor": "white",
            "linecolor": "white",
            "ticks": ""
           }
          },
          "scene": {
           "xaxis": {
            "backgroundcolor": "#E5ECF6",
            "gridcolor": "white",
            "gridwidth": 2,
            "linecolor": "white",
            "showbackground": true,
            "ticks": "",
            "zerolinecolor": "white"
           },
           "yaxis": {
            "backgroundcolor": "#E5ECF6",
            "gridcolor": "white",
            "gridwidth": 2,
            "linecolor": "white",
            "showbackground": true,
            "ticks": "",
            "zerolinecolor": "white"
           },
           "zaxis": {
            "backgroundcolor": "#E5ECF6",
            "gridcolor": "white",
            "gridwidth": 2,
            "linecolor": "white",
            "showbackground": true,
            "ticks": "",
            "zerolinecolor": "white"
           }
          },
          "shapedefaults": {
           "line": {
            "color": "#2a3f5f"
           }
          },
          "ternary": {
           "aaxis": {
            "gridcolor": "white",
            "linecolor": "white",
            "ticks": ""
           },
           "baxis": {
            "gridcolor": "white",
            "linecolor": "white",
            "ticks": ""
           },
           "bgcolor": "#E5ECF6",
           "caxis": {
            "gridcolor": "white",
            "linecolor": "white",
            "ticks": ""
           }
          },
          "title": {
           "x": 0.05
          },
          "xaxis": {
           "automargin": true,
           "gridcolor": "white",
           "linecolor": "white",
           "ticks": "",
           "title": {
            "standoff": 15
           },
           "zerolinecolor": "white",
           "zerolinewidth": 2
          },
          "yaxis": {
           "automargin": true,
           "gridcolor": "white",
           "linecolor": "white",
           "ticks": "",
           "title": {
            "standoff": 15
           },
           "zerolinecolor": "white",
           "zerolinewidth": 2
          }
         }
        }
       }
      }
     },
     "metadata": {},
     "output_type": "display_data"
    }
   ],
   "source": [
    "def sample(params, rng_key):\n",
    "    s_rng, x_rng = jax.random.split(rng_key)\n",
    "    # s = jax.random.choice(s_rng, train_data.tree[0], ())\n",
    "    s = jax.random.uniform(s_rng, (),\n",
    "        minval=jnp.min(train_data.tree[0]),\n",
    "        maxval=jnp.max(train_data.tree[0]))\n",
    "    x_structure = train_data.tree[1][0]\n",
    "    trained_model = lambda rng_key, x, t: model.apply(params, s, x, t - 1)\n",
    "    x = schedule.sample(rng_key, trained_model, x_structure, trajectory=False)\n",
    "    return (s, x)\n",
    "sample = jax.vmap(sample, in_axes=(None, 0))\n",
    "decay_samples = {\n",
    "    decay: sample(params, jax.random.split(jax.random.PRNGKey(42), 1024))\n",
    "    for decay, params in decay_params.items()\n",
    "}\n",
    "import plotly.graph_objects as go\n",
    "from scipy import odr\n",
    "fig = go.Figure()\n",
    "for decay, samples in decay_samples.items():\n",
    "    data = odr.Data(samples[0], samples[1])\n",
    "    output = odr.ODR(data, odr.polynomial(10)).run()\n",
    "    poly = jnp.array(output.beta[::-1])\n",
    "    xs = jnp.linspace(jnp.min(samples[0]), jnp.max(samples[0]), 100)\n",
    "    vals = jnp.polyval(poly, xs)\n",
    "    fig.add_trace(go.Scatter(x=xs, y=vals, mode=\"lines\", name=f\"decay={decay}\"))\n",
    "    # fig.add_trace(go.Scatter(x=samples[0], y=samples[1], mode=\"markers\", name=f\"decay={decay}\", opacity=0.5))\n",
    "fig"
   ]
  },
  {
   "cell_type": "code",
   "execution_count": 56,
   "metadata": {},
   "outputs": [
    {
     "data": {
      "image/png": "[encoded data removed]",
      "text/plain": [
       "<Figure size 640x480 with 1 Axes>"
      ]
     },
     "metadata": {},
     "output_type": "display_data"
    }
   ],
   "source": [
    "x = jnp.linspace(-1, 1, 100)\n",
    "s = -0.3\n",
    "t = 10\n",
    "\n",
    "@jax.jit\n",
    "def model_denoised(params, x):\n",
    "    mo = model.apply(params, s, x, t - 1)\n",
    "    # x_denoised = schedule.denoised_from_output(x, t, model.apply(params, s, x, t - 1))\n",
    "    return mo\n",
    "model_denoised = jax.vmap(model_denoised, in_axes=(None, 0))\n",
    "high_denoised = model_denoised(high_decay, x)\n",
    "low_denoised = model_denoised(low_decay, x)\n",
    "plt.clf()\n",
    "plt.scatter(x, high_denoised)\n",
    "plt.scatter(x, low_denoised)\n",
    "plt.ylabel(\"noise_added\")\n",
    "plt.xlabel(\"x\")\n",
    "# plt.ylim([-1, 1])\n",
    "plt.show()"
   ]
  },
  {
   "cell_type": "code",
   "execution_count": null,
   "metadata": {},
   "outputs": [],
   "source": []
  }
 ],
 "metadata": {
  "kernelspec": {
   "display_name": ".venv",
   "language": "python",
   "name": "python3"
  },
  "language_info": {
   "codemirror_mode": {
    "name": "ipython",
    "version": 3
   },
   "file_extension": ".py",
   "mimetype": "text/x-python",
   "name": "python",
   "nbconvert_exporter": "python",
   "pygments_lexer": "ipython3",
   "version": "3.11.7"
  }
 },
 "nbformat": 4,
 "nbformat_minor": 2
}
