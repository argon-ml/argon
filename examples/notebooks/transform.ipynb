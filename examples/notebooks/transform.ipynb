{
 "cells": [
  {
   "cell_type": "code",
   "execution_count": 1,
   "metadata": {},
   "outputs": [],
   "source": [
    "import stanza.transform"
   ]
  },
  {
   "cell_type": "code",
   "execution_count": 2,
   "metadata": {},
   "outputs": [
    {
     "name": "stdout",
     "output_type": "stream",
     "text": [
      "[ 0 42]\n",
      "Tracing...\n",
      "[2465931498 3679230171]\n",
      "[3164236999 3984487275]\n"
     ]
    }
   ],
   "source": [
    "# A simple demonstration of how mutable \n",
    "# objects can be passed to stanza jit functions\n",
    "import stanza\n",
    "from stanza.util.random import PRNGSequence\n",
    "\n",
    "@stanza.jit\n",
    "def foo(a : PRNGSequence):\n",
    "    print(\"Tracing...\")\n",
    "    next(a)\n",
    "\n",
    "a = PRNGSequence(42)\n",
    "print(a.freeze())\n",
    "foo(a)\n",
    "print(a.freeze())\n",
    "foo(a)\n",
    "print(a.freeze())"
   ]
  },
  {
   "cell_type": "code",
   "execution_count": 8,
   "metadata": {},
   "outputs": [
    {
     "data": {
      "text/html": [
       "<pre style=\"white-space:pre;overflow-x:auto;line-height:normal;font-family:Menlo,'DejaVu Sans Mono',consolas,'Courier New',monospace\"><span style=\"color: #800080; text-decoration-color: #800080; font-weight: bold\">Context</span><span style=\"font-weight: bold\">(</span><span style=\"color: #808000; text-decoration-color: #808000\">variables</span>=<span style=\"font-weight: bold\">{</span><span style=\"color: #008000; text-decoration-color: #008000\">'layer_0'</span>: <span style=\"font-weight: bold\">{</span><span style=\"color: #008000; text-decoration-color: #008000\">'W'</span>: <span style=\"color: #800080; text-decoration-color: #800080; font-weight: bold\">Array</span><span style=\"font-weight: bold\">([[</span><span style=\"color: #008080; text-decoration-color: #008080; font-weight: bold\">-1.6905165</span> ,  <span style=\"color: #008080; text-decoration-color: #008080; font-weight: bold\">0.25418606</span>, <span style=\"color: #008080; text-decoration-color: #008080; font-weight: bold\">-0.26560473</span>,  <span style=\"color: #008080; text-decoration-color: #008080; font-weight: bold\">0.4836403</span> ,  <span style=\"color: #008080; text-decoration-color: #008080; font-weight: bold\">0.2778459</span> ,\n",
       "         <span style=\"color: #008080; text-decoration-color: #008080; font-weight: bold\">0.30628523</span>, <span style=\"color: #008080; text-decoration-color: #008080; font-weight: bold\">-0.11952642</span>,  <span style=\"color: #008080; text-decoration-color: #008080; font-weight: bold\">0.6153212</span> ,  <span style=\"color: #008080; text-decoration-color: #008080; font-weight: bold\">0.36786973</span>, <span style=\"color: #008080; text-decoration-color: #008080; font-weight: bold\">-1.7270573</span> <span style=\"font-weight: bold\">]]</span>,      <span style=\"color: #808000; text-decoration-color: #808000\">dtype</span>=<span style=\"color: #800080; text-decoration-color: #800080\">float32</span><span style=\"font-weight: bold\">)</span>, <span style=\"color: #008000; text-decoration-color: #008000\">'b'</span>: <span style=\"color: #800080; text-decoration-color: #800080; font-weight: bold\">Array</span><span style=\"font-weight: bold\">([</span><span style=\"color: #008080; text-decoration-color: #008080; font-weight: bold\">0</span>.<span style=\"font-weight: bold\">]</span>, \n",
       "<span style=\"color: #808000; text-decoration-color: #808000\">dtype</span>=<span style=\"color: #800080; text-decoration-color: #800080\">float32</span><span style=\"font-weight: bold\">)}</span>, <span style=\"color: #008000; text-decoration-color: #008000\">'layer_1'</span>: <span style=\"font-weight: bold\">{</span><span style=\"color: #008000; text-decoration-color: #008000\">'W'</span>: <span style=\"color: #800080; text-decoration-color: #800080; font-weight: bold\">Array</span><span style=\"font-weight: bold\">([[</span><span style=\"color: #008080; text-decoration-color: #008080; font-weight: bold\">0.38673896</span><span style=\"font-weight: bold\">]</span>,\n",
       "       <span style=\"font-weight: bold\">[</span><span style=\"color: #008080; text-decoration-color: #008080; font-weight: bold\">0.07715993</span><span style=\"font-weight: bold\">]]</span>, <span style=\"color: #808000; text-decoration-color: #808000\">dtype</span>=<span style=\"color: #800080; text-decoration-color: #800080\">float32</span><span style=\"font-weight: bold\">)</span>, <span style=\"color: #008000; text-decoration-color: #008000\">'b'</span>: <span style=\"color: #800080; text-decoration-color: #800080; font-weight: bold\">Array</span><span style=\"font-weight: bold\">([</span><span style=\"color: #008080; text-decoration-color: #008080; font-weight: bold\">0</span>., <span style=\"color: #008080; text-decoration-color: #008080; font-weight: bold\">0</span>.<span style=\"font-weight: bold\">]</span>, <span style=\"color: #808000; text-decoration-color: #808000\">dtype</span>=<span style=\"color: #800080; text-decoration-color: #800080\">float32</span><span style=\"font-weight: bold\">)}</span>, <span style=\"color: #008000; text-decoration-color: #008000\">'layer_2'</span>: <span style=\"font-weight: bold\">{</span><span style=\"color: #008000; text-decoration-color: #008000\">'W'</span>: <span style=\"color: #800080; text-decoration-color: #800080; font-weight: bold\">Array</span><span style=\"font-weight: bold\">([[</span><span style=\"color: #008080; text-decoration-color: #008080; font-weight: bold\">-0.8236386</span> ,  \n",
       "<span style=\"color: #008080; text-decoration-color: #008080; font-weight: bold\">0.14025752</span><span style=\"font-weight: bold\">]</span>,\n",
       "       <span style=\"font-weight: bold\">[</span> <span style=\"color: #008080; text-decoration-color: #008080; font-weight: bold\">1.1757895</span> ,  <span style=\"color: #008080; text-decoration-color: #008080; font-weight: bold\">0.40055323</span><span style=\"font-weight: bold\">]</span>,\n",
       "       <span style=\"font-weight: bold\">[</span><span style=\"color: #008080; text-decoration-color: #008080; font-weight: bold\">-0.40896094</span>, <span style=\"color: #008080; text-decoration-color: #008080; font-weight: bold\">-0.7295939</span> <span style=\"font-weight: bold\">]]</span>, <span style=\"color: #808000; text-decoration-color: #808000\">dtype</span>=<span style=\"color: #800080; text-decoration-color: #800080\">float32</span><span style=\"font-weight: bold\">)</span>, <span style=\"color: #008000; text-decoration-color: #008000\">'b'</span>: <span style=\"color: #800080; text-decoration-color: #800080; font-weight: bold\">Array</span><span style=\"font-weight: bold\">([</span><span style=\"color: #008080; text-decoration-color: #008080; font-weight: bold\">0</span>., <span style=\"color: #008080; text-decoration-color: #008080; font-weight: bold\">0</span>., <span style=\"color: #008080; text-decoration-color: #008080; font-weight: bold\">0</span>.<span style=\"font-weight: bold\">]</span>, <span style=\"color: #808000; text-decoration-color: #808000\">dtype</span>=<span style=\"color: #800080; text-decoration-color: #800080\">float32</span><span style=\"font-weight: bold\">)}</span>, <span style=\"color: #008000; text-decoration-color: #008000\">'layer_3'</span>: <span style=\"font-weight: bold\">{</span><span style=\"color: #008000; text-decoration-color: #008000\">'W'</span>: \n",
       "<span style=\"color: #800080; text-decoration-color: #800080; font-weight: bold\">Array</span><span style=\"font-weight: bold\">([[</span> <span style=\"color: #008080; text-decoration-color: #008080; font-weight: bold\">0.33777827</span>, <span style=\"color: #008080; text-decoration-color: #008080; font-weight: bold\">-0.29250017</span>, <span style=\"color: #008080; text-decoration-color: #008080; font-weight: bold\">-0.225055</span>  <span style=\"font-weight: bold\">]</span>,\n",
       "       <span style=\"font-weight: bold\">[</span><span style=\"color: #008080; text-decoration-color: #008080; font-weight: bold\">-0.12684348</span>,  <span style=\"color: #008080; text-decoration-color: #008080; font-weight: bold\">0.37914035</span>, <span style=\"color: #008080; text-decoration-color: #008080; font-weight: bold\">-0.1273398</span> <span style=\"font-weight: bold\">]</span>,\n",
       "       <span style=\"font-weight: bold\">[</span><span style=\"color: #008080; text-decoration-color: #008080; font-weight: bold\">-0.2603982</span> ,  <span style=\"color: #008080; text-decoration-color: #008080; font-weight: bold\">0.32316118</span>,  <span style=\"color: #008080; text-decoration-color: #008080; font-weight: bold\">0.48046565</span><span style=\"font-weight: bold\">]</span>,\n",
       "       <span style=\"font-weight: bold\">[</span><span style=\"color: #008080; text-decoration-color: #008080; font-weight: bold\">-0.05902785</span>, <span style=\"color: #008080; text-decoration-color: #008080; font-weight: bold\">-0.14764594</span>,  <span style=\"color: #008080; text-decoration-color: #008080; font-weight: bold\">0.36653858</span><span style=\"font-weight: bold\">]</span>,\n",
       "       <span style=\"font-weight: bold\">[</span> <span style=\"color: #008080; text-decoration-color: #008080; font-weight: bold\">0.31079066</span>, <span style=\"color: #008080; text-decoration-color: #008080; font-weight: bold\">-0.17159997</span>, <span style=\"color: #008080; text-decoration-color: #008080; font-weight: bold\">-0.06171262</span><span style=\"font-weight: bold\">]</span>,\n",
       "       <span style=\"font-weight: bold\">[</span><span style=\"color: #008080; text-decoration-color: #008080; font-weight: bold\">-0.00754917</span>, <span style=\"color: #008080; text-decoration-color: #008080; font-weight: bold\">-0.0233198</span> ,  <span style=\"color: #008080; text-decoration-color: #008080; font-weight: bold\">0.22061208</span><span style=\"font-weight: bold\">]</span>,\n",
       "       <span style=\"font-weight: bold\">[</span><span style=\"color: #008080; text-decoration-color: #008080; font-weight: bold\">-0.23157996</span>, <span style=\"color: #008080; text-decoration-color: #008080; font-weight: bold\">-0.28816178</span>,  <span style=\"color: #008080; text-decoration-color: #008080; font-weight: bold\">0.15992849</span><span style=\"font-weight: bold\">]</span>,\n",
       "       <span style=\"font-weight: bold\">[</span> <span style=\"color: #008080; text-decoration-color: #008080; font-weight: bold\">0.5548503</span> ,  <span style=\"color: #008080; text-decoration-color: #008080; font-weight: bold\">0.10804182</span>, <span style=\"color: #008080; text-decoration-color: #008080; font-weight: bold\">-0.0770486</span> <span style=\"font-weight: bold\">]</span>,\n",
       "       <span style=\"font-weight: bold\">[</span><span style=\"color: #008080; text-decoration-color: #008080; font-weight: bold\">-0.67657346</span>,  <span style=\"color: #008080; text-decoration-color: #008080; font-weight: bold\">0.10566292</span>, <span style=\"color: #008080; text-decoration-color: #008080; font-weight: bold\">-0.06042062</span><span style=\"font-weight: bold\">]</span>,\n",
       "       <span style=\"font-weight: bold\">[</span><span style=\"color: #008080; text-decoration-color: #008080; font-weight: bold\">-0.1850121</span> ,  <span style=\"color: #008080; text-decoration-color: #008080; font-weight: bold\">0.10614471</span>, <span style=\"color: #008080; text-decoration-color: #008080; font-weight: bold\">-0.36680472</span><span style=\"font-weight: bold\">]]</span>, <span style=\"color: #808000; text-decoration-color: #808000\">dtype</span>=<span style=\"color: #800080; text-decoration-color: #800080\">float32</span><span style=\"font-weight: bold\">)</span>, <span style=\"color: #008000; text-decoration-color: #008000\">'b'</span>: <span style=\"color: #800080; text-decoration-color: #800080; font-weight: bold\">Array</span><span style=\"font-weight: bold\">([</span><span style=\"color: #008080; text-decoration-color: #008080; font-weight: bold\">0</span>., <span style=\"color: #008080; text-decoration-color: #008080; font-weight: bold\">0</span>., <span style=\"color: #008080; text-decoration-color: #008080; font-weight: bold\">0</span>., <span style=\"color: #008080; text-decoration-color: #008080; font-weight: bold\">0</span>., <span style=\"color: #008080; text-decoration-color: #008080; font-weight: bold\">0</span>., <span style=\"color: #008080; text-decoration-color: #008080; font-weight: bold\">0</span>., <span style=\"color: #008080; text-decoration-color: #008080; font-weight: bold\">0</span>., <span style=\"color: #008080; text-decoration-color: #008080; font-weight: bold\">0</span>., <span style=\"color: #008080; text-decoration-color: #008080; font-weight: bold\">0</span>., \n",
       "<span style=\"color: #008080; text-decoration-color: #008080; font-weight: bold\">0</span>.<span style=\"font-weight: bold\">]</span>, <span style=\"color: #808000; text-decoration-color: #808000\">dtype</span>=<span style=\"color: #800080; text-decoration-color: #800080\">float32</span><span style=\"font-weight: bold\">)}}</span>, <span style=\"color: #808000; text-decoration-color: #808000\">init_rng</span>=<span style=\"font-weight: bold\">&lt;</span><span style=\"color: #ff00ff; text-decoration-color: #ff00ff; font-weight: bold\">stanza.util.random.PRNGSequence</span><span style=\"color: #000000; text-decoration-color: #000000\"> object at </span><span style=\"color: #008080; text-decoration-color: #008080; font-weight: bold\">0x70b46390e9e0</span><span style=\"font-weight: bold\">&gt;)</span>\n",
       "</pre>\n"
      ],
      "text/plain": [
       "\u001b[1;35mContext\u001b[0m\u001b[1m(\u001b[0m\u001b[33mvariables\u001b[0m=\u001b[1m{\u001b[0m\u001b[32m'layer_0'\u001b[0m: \u001b[1m{\u001b[0m\u001b[32m'W'\u001b[0m: \u001b[1;35mArray\u001b[0m\u001b[1m(\u001b[0m\u001b[1m[\u001b[0m\u001b[1m[\u001b[0m\u001b[1;36m-1.6905165\u001b[0m ,  \u001b[1;36m0.25418606\u001b[0m, \u001b[1;36m-0.26560473\u001b[0m,  \u001b[1;36m0.4836403\u001b[0m ,  \u001b[1;36m0.2778459\u001b[0m ,\n",
       "         \u001b[1;36m0.30628523\u001b[0m, \u001b[1;36m-0.11952642\u001b[0m,  \u001b[1;36m0.6153212\u001b[0m ,  \u001b[1;36m0.36786973\u001b[0m, \u001b[1;36m-1.7270573\u001b[0m \u001b[1m]\u001b[0m\u001b[1m]\u001b[0m,      \u001b[33mdtype\u001b[0m=\u001b[35mfloat32\u001b[0m\u001b[1m)\u001b[0m, \u001b[32m'b'\u001b[0m: \u001b[1;35mArray\u001b[0m\u001b[1m(\u001b[0m\u001b[1m[\u001b[0m\u001b[1;36m0\u001b[0m.\u001b[1m]\u001b[0m, \n",
       "\u001b[33mdtype\u001b[0m=\u001b[35mfloat32\u001b[0m\u001b[1m)\u001b[0m\u001b[1m}\u001b[0m, \u001b[32m'layer_1'\u001b[0m: \u001b[1m{\u001b[0m\u001b[32m'W'\u001b[0m: \u001b[1;35mArray\u001b[0m\u001b[1m(\u001b[0m\u001b[1m[\u001b[0m\u001b[1m[\u001b[0m\u001b[1;36m0.38673896\u001b[0m\u001b[1m]\u001b[0m,\n",
       "       \u001b[1m[\u001b[0m\u001b[1;36m0.07715993\u001b[0m\u001b[1m]\u001b[0m\u001b[1m]\u001b[0m, \u001b[33mdtype\u001b[0m=\u001b[35mfloat32\u001b[0m\u001b[1m)\u001b[0m, \u001b[32m'b'\u001b[0m: \u001b[1;35mArray\u001b[0m\u001b[1m(\u001b[0m\u001b[1m[\u001b[0m\u001b[1;36m0\u001b[0m., \u001b[1;36m0\u001b[0m.\u001b[1m]\u001b[0m, \u001b[33mdtype\u001b[0m=\u001b[35mfloat32\u001b[0m\u001b[1m)\u001b[0m\u001b[1m}\u001b[0m, \u001b[32m'layer_2'\u001b[0m: \u001b[1m{\u001b[0m\u001b[32m'W'\u001b[0m: \u001b[1;35mArray\u001b[0m\u001b[1m(\u001b[0m\u001b[1m[\u001b[0m\u001b[1m[\u001b[0m\u001b[1;36m-0.8236386\u001b[0m ,  \n",
       "\u001b[1;36m0.14025752\u001b[0m\u001b[1m]\u001b[0m,\n",
       "       \u001b[1m[\u001b[0m \u001b[1;36m1.1757895\u001b[0m ,  \u001b[1;36m0.40055323\u001b[0m\u001b[1m]\u001b[0m,\n",
       "       \u001b[1m[\u001b[0m\u001b[1;36m-0.40896094\u001b[0m, \u001b[1;36m-0.7295939\u001b[0m \u001b[1m]\u001b[0m\u001b[1m]\u001b[0m, \u001b[33mdtype\u001b[0m=\u001b[35mfloat32\u001b[0m\u001b[1m)\u001b[0m, \u001b[32m'b'\u001b[0m: \u001b[1;35mArray\u001b[0m\u001b[1m(\u001b[0m\u001b[1m[\u001b[0m\u001b[1;36m0\u001b[0m., \u001b[1;36m0\u001b[0m., \u001b[1;36m0\u001b[0m.\u001b[1m]\u001b[0m, \u001b[33mdtype\u001b[0m=\u001b[35mfloat32\u001b[0m\u001b[1m)\u001b[0m\u001b[1m}\u001b[0m, \u001b[32m'layer_3'\u001b[0m: \u001b[1m{\u001b[0m\u001b[32m'W'\u001b[0m: \n",
       "\u001b[1;35mArray\u001b[0m\u001b[1m(\u001b[0m\u001b[1m[\u001b[0m\u001b[1m[\u001b[0m \u001b[1;36m0.33777827\u001b[0m, \u001b[1;36m-0.29250017\u001b[0m, \u001b[1;36m-0.225055\u001b[0m  \u001b[1m]\u001b[0m,\n",
       "       \u001b[1m[\u001b[0m\u001b[1;36m-0.12684348\u001b[0m,  \u001b[1;36m0.37914035\u001b[0m, \u001b[1;36m-0.1273398\u001b[0m \u001b[1m]\u001b[0m,\n",
       "       \u001b[1m[\u001b[0m\u001b[1;36m-0.2603982\u001b[0m ,  \u001b[1;36m0.32316118\u001b[0m,  \u001b[1;36m0.48046565\u001b[0m\u001b[1m]\u001b[0m,\n",
       "       \u001b[1m[\u001b[0m\u001b[1;36m-0.05902785\u001b[0m, \u001b[1;36m-0.14764594\u001b[0m,  \u001b[1;36m0.36653858\u001b[0m\u001b[1m]\u001b[0m,\n",
       "       \u001b[1m[\u001b[0m \u001b[1;36m0.31079066\u001b[0m, \u001b[1;36m-0.17159997\u001b[0m, \u001b[1;36m-0.06171262\u001b[0m\u001b[1m]\u001b[0m,\n",
       "       \u001b[1m[\u001b[0m\u001b[1;36m-0.00754917\u001b[0m, \u001b[1;36m-0.0233198\u001b[0m ,  \u001b[1;36m0.22061208\u001b[0m\u001b[1m]\u001b[0m,\n",
       "       \u001b[1m[\u001b[0m\u001b[1;36m-0.23157996\u001b[0m, \u001b[1;36m-0.28816178\u001b[0m,  \u001b[1;36m0.15992849\u001b[0m\u001b[1m]\u001b[0m,\n",
       "       \u001b[1m[\u001b[0m \u001b[1;36m0.5548503\u001b[0m ,  \u001b[1;36m0.10804182\u001b[0m, \u001b[1;36m-0.0770486\u001b[0m \u001b[1m]\u001b[0m,\n",
       "       \u001b[1m[\u001b[0m\u001b[1;36m-0.67657346\u001b[0m,  \u001b[1;36m0.10566292\u001b[0m, \u001b[1;36m-0.06042062\u001b[0m\u001b[1m]\u001b[0m,\n",
       "       \u001b[1m[\u001b[0m\u001b[1;36m-0.1850121\u001b[0m ,  \u001b[1;36m0.10614471\u001b[0m, \u001b[1;36m-0.36680472\u001b[0m\u001b[1m]\u001b[0m\u001b[1m]\u001b[0m, \u001b[33mdtype\u001b[0m=\u001b[35mfloat32\u001b[0m\u001b[1m)\u001b[0m, \u001b[32m'b'\u001b[0m: \u001b[1;35mArray\u001b[0m\u001b[1m(\u001b[0m\u001b[1m[\u001b[0m\u001b[1;36m0\u001b[0m., \u001b[1;36m0\u001b[0m., \u001b[1;36m0\u001b[0m., \u001b[1;36m0\u001b[0m., \u001b[1;36m0\u001b[0m., \u001b[1;36m0\u001b[0m., \u001b[1;36m0\u001b[0m., \u001b[1;36m0\u001b[0m., \u001b[1;36m0\u001b[0m., \n",
       "\u001b[1;36m0\u001b[0m.\u001b[1m]\u001b[0m, \u001b[33mdtype\u001b[0m=\u001b[35mfloat32\u001b[0m\u001b[1m)\u001b[0m\u001b[1m}\u001b[0m\u001b[1m}\u001b[0m, \u001b[33minit_rng\u001b[0m=\u001b[1m<\u001b[0m\u001b[1;95mstanza.util.random.PRNGSequence\u001b[0m\u001b[39m object at \u001b[0m\u001b[1;36m0x70b46390e9e0\u001b[0m\u001b[1m>\u001b[0m\u001b[1m)\u001b[0m\n"
      ]
     },
     "metadata": {},
     "output_type": "display_data"
    }
   ],
   "source": [
    "from stanza.nn.models.mlp import MLP\n",
    "from stanza.nn.core import Context\n",
    "from stanza.nn import activations\n",
    "from rich import print\n",
    "\n",
    "import jax.numpy as jnp\n",
    "\n",
    "ctx = Context(init_rng=PRNGSequence(42))\n",
    "mlp = MLP(ctx, [1, 2, 3], 10, activations.relu)\n",
    "# the first call to mlp will trace the function\n",
    "# and initialize any parameters not found in the context\n",
    "mlp(jnp.zeros((10,)))\n",
    "print(ctx)"
   ]
  },
  {
   "cell_type": "code",
   "execution_count": null,
   "metadata": {},
   "outputs": [],
   "source": []
  }
 ],
 "metadata": {
  "kernelspec": {
   "display_name": ".venv",
   "language": "python",
   "name": "python3"
  },
  "language_info": {
   "codemirror_mode": {
    "name": "ipython",
    "version": 3
   },
   "file_extension": ".py",
   "mimetype": "text/x-python",
   "name": "python",
   "nbconvert_exporter": "python",
   "pygments_lexer": "ipython3",
   "version": "3.10.12"
  }
 },
 "nbformat": 4,
 "nbformat_minor": 2
}
