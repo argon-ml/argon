{
 "cells": [
  {
   "cell_type": "code",
   "execution_count": null,
   "metadata": {},
   "outputs": [],
   "source": [
    "from stanza.runtime import setup\n",
    "setup()"
   ]
  },
  {
   "cell_type": "code",
   "execution_count": null,
   "metadata": {
    "scrolled": true
   },
   "outputs": [],
   "source": [
    "import jax.random\n",
    "\n",
    "from stanza.envs.pusht import PushTEnv, PositionControlTransform\n",
    "env = PushTEnv()\n",
    "env = PositionControlTransform().transform_env(env)\n",
    "def interactive_policy(mouse_pos):\n",
    "    return mouse_pos"
   ]
  },
  {
   "cell_type": "raw",
   "metadata": {},
   "source": [
    "from stanza.policy.ipython import DemonstrationCollector\n",
    "from IPython.display import display\n",
    "\n",
    "collector = DemonstrationCollector(\"pusht_data.pkl\",\n",
    "    env, interactive_policy, 256, 256\n",
    ")\n",
    "display(collector)"
   ]
  },
  {
   "cell_type": "code",
   "execution_count": null,
   "metadata": {},
   "outputs": [],
   "source": [
    "print(jax.tree_util.tree_map(lambda x: x.shape, collector.demonstrations))"
   ]
  },
  {
   "cell_type": "code",
   "execution_count": null,
   "metadata": {},
   "outputs": [],
   "source": [
    "#collector.save(collector.path)"
   ]
  },
  {
   "cell_type": "code",
   "execution_count": null,
   "metadata": {},
   "outputs": [],
   "source": []
  }
 ],
 "metadata": {
  "kernelspec": {
   "display_name": "Python 3 (ipykernel)",
   "language": "python",
   "name": "python3"
  },
  "language_info": {
   "codemirror_mode": {
    "name": "ipython",
    "version": 3
   },
   "file_extension": ".py",
   "mimetype": "text/x-python",
   "name": "python",
   "nbconvert_exporter": "python",
   "pygments_lexer": "ipython3",
   "version": "3.12.2"
  },
  "widgets": {
   "application/vnd.jupyter.widget-state+json": {
    "state": {
     "00fb7fb218d8493399357aed5d1546c2": {
      "model_module": "@jupyter-widgets/controls",
      "model_module_version": "2.0.0",
      "model_name": "ButtonModel",
      "state": {
       "description": "Delete",
       "layout": "IPY_MODEL_31cb7f6baf8f4880aeea1e1e1c155887",
       "style": "IPY_MODEL_12236ba9bea94a3e9f663b32f48ba4a6",
       "tooltip": null
      }
     },
     "0ba1f94d6c8f4102ad0407987b909d36": {
      "model_module": "@jupyter-widgets/base",
      "model_module_version": "2.0.0",
      "model_name": "LayoutModel",
      "state": {}
     },
     "0e086237736c4773ac92c23af2db645a": {
      "model_module": "@jupyter-widgets/controls",
      "model_module_version": "2.0.0",
      "model_name": "SliderStyleModel",
      "state": {
       "description_width": ""
      }
     },
     "12236ba9bea94a3e9f663b32f48ba4a6": {
      "model_module": "@jupyter-widgets/controls",
      "model_module_version": "2.0.0",
      "model_name": "ButtonStyleModel",
      "state": {
       "font_family": null,
       "font_size": null,
       "font_style": null,
       "font_variant": null,
       "font_weight": null,
       "text_color": null,
       "text_decoration": null
      }
     },
     "1d034af288e44354817e992fd25e6528": {
      "model_module": "@jupyter-widgets/controls",
      "model_module_version": "2.0.0",
      "model_name": "ButtonStyleModel",
      "state": {
       "font_family": null,
       "font_size": null,
       "font_style": null,
       "font_variant": null,
       "font_weight": null,
       "text_color": null,
       "text_decoration": null
      }
     },
     "31cb7f6baf8f4880aeea1e1e1c155887": {
      "model_module": "@jupyter-widgets/base",
      "model_module_version": "2.0.0",
      "model_name": "LayoutModel",
      "state": {}
     },
     "33f42608aa0f4489b3e2f7697e43cd46": {
      "model_module": "@jupyter-widgets/controls",
      "model_module_version": "2.0.0",
      "model_name": "IntSliderModel",
      "state": {
       "behavior": "drag-tap",
       "layout": "IPY_MODEL_5ef3fdea39244a38acdd1c5b732ecf28",
       "max": 207,
       "style": "IPY_MODEL_0e086237736c4773ac92c23af2db645a",
       "value": 207
      }
     },
     "35c6c33ce92146c2903dec5ebc036a1d": {
      "model_module": "@jupyter-widgets/controls",
      "model_module_version": "2.0.0",
      "model_name": "HBoxModel",
      "state": {
       "children": [
        "IPY_MODEL_00fb7fb218d8493399357aed5d1546c2",
        "IPY_MODEL_bdc0a9d3a257434d8559a0e34538a9fd",
        "IPY_MODEL_a34efec71fb94d41b7fb1c1aba9cd24f",
        "IPY_MODEL_837231f87747470a96210aa4470e2c3f",
        "IPY_MODEL_47d91967211a493ca815e371fce2ac7c"
       ],
       "layout": "IPY_MODEL_56a37fffc10a44c1bc119f92dec15130"
      }
     },
     "4234b56d5a474b8e828d015ef62c1ee6": {
      "model_module": "@jupyter-widgets/controls",
      "model_module_version": "2.0.0",
      "model_name": "SliderStyleModel",
      "state": {
       "description_width": ""
      }
     },
     "4269ec9acff64cca8829ca9582c6f77a": {
      "model_module": "@jupyter-widgets/base",
      "model_module_version": "2.0.0",
      "model_name": "LayoutModel",
      "state": {}
     },
     "45d58d35cd63466f8c8c1891f185ff2e": {
      "model_module": "@jupyter-widgets/controls",
      "model_module_version": "2.0.0",
      "model_name": "HTMLStyleModel",
      "state": {
       "description_width": "",
       "font_size": null,
       "text_color": null
      }
     },
     "47d91967211a493ca815e371fce2ac7c": {
      "model_module": "@jupyter-widgets/controls",
      "model_module_version": "2.0.0",
      "model_name": "ButtonModel",
      "state": {
       "description": "Save",
       "layout": "IPY_MODEL_8cb86e35b62746438aa9c58bce7af98a",
       "style": "IPY_MODEL_4f0df3e93ba3407b83caf17440e7d06d",
       "tooltip": null
      }
     },
     "4f0df3e93ba3407b83caf17440e7d06d": {
      "model_module": "@jupyter-widgets/controls",
      "model_module_version": "2.0.0",
      "model_name": "ButtonStyleModel",
      "state": {
       "font_family": null,
       "font_size": null,
       "font_style": null,
       "font_variant": null,
       "font_weight": null,
       "text_color": null,
       "text_decoration": null
      }
     },
     "52e77c5daa454c08a39ded05c860e8ce": {
      "model_module": "@jupyter-widgets/base",
      "model_module_version": "2.0.0",
      "model_name": "LayoutModel",
      "state": {}
     },
     "56a37fffc10a44c1bc119f92dec15130": {
      "model_module": "@jupyter-widgets/base",
      "model_module_version": "2.0.0",
      "model_name": "LayoutModel",
      "state": {}
     },
     "5ef3fdea39244a38acdd1c5b732ecf28": {
      "model_module": "@jupyter-widgets/base",
      "model_module_version": "2.0.0",
      "model_name": "LayoutModel",
      "state": {}
     },
     "6145ae00b8ea470a85d6bc8b2bc0a859": {
      "model_module": "@jupyter-widgets/controls",
      "model_module_version": "2.0.0",
      "model_name": "HBoxModel",
      "state": {
       "children": [
        "IPY_MODEL_6274f46d0e3d483cb106c5a88e9aad26",
        "IPY_MODEL_33f42608aa0f4489b3e2f7697e43cd46"
       ],
       "layout": "IPY_MODEL_0ba1f94d6c8f4102ad0407987b909d36"
      }
     },
     "6274f46d0e3d483cb106c5a88e9aad26": {
      "model_module": "@jupyter-widgets/controls",
      "model_module_version": "2.0.0",
      "model_name": "IntSliderModel",
      "state": {
       "behavior": "drag-tap",
       "layout": "IPY_MODEL_4269ec9acff64cca8829ca9582c6f77a",
       "max": 9,
       "style": "IPY_MODEL_4234b56d5a474b8e828d015ef62c1ee6",
       "value": 9
      }
     },
     "65b56e3345a4457eadbb3a833d745d27": {
      "model_module": "@jupyter-widgets/base",
      "model_module_version": "2.0.0",
      "model_name": "LayoutModel",
      "state": {}
     },
     "6f6b1fd8e0b446b98ce218cbf2d37d7a": {
      "model_module": "@jupyter-widgets/base",
      "model_module_version": "2.0.0",
      "model_name": "LayoutModel",
      "state": {}
     },
     "744d1bb3b9a745da891c143bf706ea89": {
      "model_module": "@jupyter-widgets/controls",
      "model_module_version": "2.0.0",
      "model_name": "ButtonStyleModel",
      "state": {
       "font_family": null,
       "font_size": null,
       "font_style": null,
       "font_variant": null,
       "font_weight": null,
       "text_color": null,
       "text_decoration": null
      }
     },
     "7a74cc2889ac4a41a5770bfd6bb449b8": {
      "model_module": "@jupyter-widgets/base",
      "model_module_version": "2.0.0",
      "model_name": "LayoutModel",
      "state": {}
     },
     "7d5a93a29b584573b4cdb242c6dfd5d1": {
      "model_module": "@jupyter-widgets/controls",
      "model_module_version": "2.0.0",
      "model_name": "HTMLModel",
      "state": {
       "layout": "IPY_MODEL_6f6b1fd8e0b446b98ce218cbf2d37d7a",
       "style": "IPY_MODEL_45d58d35cd63466f8c8c1891f185ff2e",
       "value": "<style>\n.cell-output-ipywidget-background {\n    background-color: transparent !important;\n}\n.jp-OutputArea-output {\n    background-color: transparent;\n}\npre {\n    color: var(--vscode-editor-foreground);\n    margin: 0;\n}\nvideo::-webkit-media-controls {\n  display: none;\n}\n</style>"
      }
     },
     "837231f87747470a96210aa4470e2c3f": {
      "model_module": "@jupyter-widgets/controls",
      "model_module_version": "2.0.0",
      "model_name": "ButtonModel",
      "state": {
       "description": "Trim",
       "layout": "IPY_MODEL_98719aba5f924f3381873b460fd2d485",
       "style": "IPY_MODEL_1d034af288e44354817e992fd25e6528",
       "tooltip": null
      }
     },
     "88948781ec4244e6b4ba1f6e8ba0de34": {
      "model_module": "ipyevents",
      "model_module_version": "2.0.2",
      "model_name": "EventModel",
      "state": {
       "_supported_key_events": [
        "keydown",
        "keyup"
       ],
       "_supported_mouse_events": [
        "click",
        "auxclick",
        "dblclick",
        "mouseenter",
        "mouseleave",
        "mousedown",
        "mouseup",
        "mousemove",
        "wheel",
        "contextmenu",
        "dragstart",
        "drag",
        "dragend",
        "dragenter",
        "dragover",
        "dragleave",
        "drop"
       ],
       "_supported_touch_events": [
        "touchstart",
        "touchend",
        "touchmove",
        "touchcancel"
       ],
       "_view_module": "@jupyter-widgets/controls",
       "source": "IPY_MODEL_bd556836e6d74bfbab1edf86456707a5",
       "throttle_or_debounce": "",
       "watched_events": [
        "click",
        "keydown",
        "keyup",
        "mousemove"
       ],
       "xy_coordinate_system": ""
      }
     },
     "8cb86e35b62746438aa9c58bce7af98a": {
      "model_module": "@jupyter-widgets/base",
      "model_module_version": "2.0.0",
      "model_name": "LayoutModel",
      "state": {}
     },
     "92b44837bbaa46ca97f59ede1bb4ec2d": {
      "model_module": "@jupyter-widgets/base",
      "model_module_version": "2.0.0",
      "model_name": "LayoutModel",
      "state": {}
     },
     "98719aba5f924f3381873b460fd2d485": {
      "model_module": "@jupyter-widgets/base",
      "model_module_version": "2.0.0",
      "model_name": "LayoutModel",
      "state": {}
     },
     "a34efec71fb94d41b7fb1c1aba9cd24f": {
      "model_module": "@jupyter-widgets/controls",
      "model_module_version": "2.0.0",
      "model_name": "ButtonModel",
      "state": {
       "description": "Collect (c)",
       "layout": "IPY_MODEL_b9887aaa4cf94a33925ea78313ed1528",
       "style": "IPY_MODEL_744d1bb3b9a745da891c143bf706ea89",
       "tooltip": null
      }
     },
     "aae3489d0b3a4ff2a5388d9c88324a0a": {
      "model_module": "@jupyter-widgets/controls",
      "model_module_version": "2.0.0",
      "model_name": "ButtonStyleModel",
      "state": {
       "font_family": null,
       "font_size": null,
       "font_style": null,
       "font_variant": null,
       "font_weight": null,
       "text_color": null,
       "text_decoration": null
      }
     },
     "b9887aaa4cf94a33925ea78313ed1528": {
      "model_module": "@jupyter-widgets/base",
      "model_module_version": "2.0.0",
      "model_name": "LayoutModel",
      "state": {}
     },
     "bcf1243b7f5d4f619488e3ae39be369c": {
      "model_module": "@jupyter-widgets/controls",
      "model_module_version": "2.0.0",
      "model_name": "HBoxModel",
      "state": {
       "children": [
        "IPY_MODEL_bd556836e6d74bfbab1edf86456707a5",
        "IPY_MODEL_7d5a93a29b584573b4cdb242c6dfd5d1"
       ],
       "layout": "IPY_MODEL_92b44837bbaa46ca97f59ede1bb4ec2d"
      }
     },
     "bd556836e6d74bfbab1edf86456707a5": {
      "model_module": "jupyter-webrtc",
      "model_module_version": "~0.6.0",
      "model_name": "ImageStreamModel",
      "state": {
       "_view_count": 0,
       "image": "IPY_MODEL_fbcc738bf0b34b399f7c4d334d7f192e",
       "layout": "IPY_MODEL_7a74cc2889ac4a41a5770bfd6bb449b8"
      }
     },
     "bdc0a9d3a257434d8559a0e34538a9fd": {
      "model_module": "@jupyter-widgets/controls",
      "model_module_version": "2.0.0",
      "model_name": "ButtonModel",
      "state": {
       "description": "Reset (r)",
       "layout": "IPY_MODEL_52e77c5daa454c08a39ded05c860e8ce",
       "style": "IPY_MODEL_aae3489d0b3a4ff2a5388d9c88324a0a",
       "tooltip": null
      }
     },
     "db5dcac6d43845f0af3746c04f90e011": {
      "model_module": "@jupyter-widgets/controls",
      "model_module_version": "2.0.0",
      "model_name": "LabelModel",
      "state": {
       "layout": "IPY_MODEL_e233f604dfa44cbfb6604b2a776775a7",
       "style": "IPY_MODEL_e2017d70b2524b659305cbe2a41273ad"
      }
     },
     "e2017d70b2524b659305cbe2a41273ad": {
      "model_module": "@jupyter-widgets/controls",
      "model_module_version": "2.0.0",
      "model_name": "LabelStyleModel",
      "state": {
       "description_width": "",
       "font_family": null,
       "font_size": null,
       "font_style": null,
       "font_variant": null,
       "font_weight": null,
       "text_color": null,
       "text_decoration": null
      }
     },
     "e233f604dfa44cbfb6604b2a776775a7": {
      "model_module": "@jupyter-widgets/base",
      "model_module_version": "2.0.0",
      "model_name": "LayoutModel",
      "state": {}
     },
     "fbcc738bf0b34b399f7c4d334d7f192e": {
      "buffers": [
       {
        "data": "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",
        "encoding": "base64",
        "path": [
         "value"
        ]
       }
      ],
      "model_module": "@jupyter-widgets/controls",
      "model_module_version": "2.0.0",
      "model_name": "ImageModel",
      "state": {
       "layout": "IPY_MODEL_65b56e3345a4457eadbb3a833d745d27"
      }
     }
    },
    "version_major": 2,
    "version_minor": 0
   }
  }
 },
 "nbformat": 4,
 "nbformat_minor": 4
}
