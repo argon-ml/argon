{
 "cells": [
  {
   "cell_type": "code",
   "execution_count": 1,
   "metadata": {},
   "outputs": [],
   "source": [
    "from stanza.runtime import setup\n",
    "setup()"
   ]
  },
  {
   "cell_type": "code",
   "execution_count": 2,
   "metadata": {
    "scrolled": true
   },
   "outputs": [],
   "source": [
    "import jax.random\n",
    "\n",
    "from stanza.envs.pusht import PushTEnv, PositionControlTransform\n",
    "env = PushTEnv()\n",
    "env = PositionControlTransform().transform_env(env)\n",
    "def interactive_policy(mouse_pos):\n",
    "    return mouse_pos"
   ]
  },
  {
   "cell_type": "code",
   "execution_count": 3,
   "metadata": {},
   "outputs": [
    {
     "data": {
      "application/vnd.jupyter.widget-view+json": {
       "model_id": "c1089f6233c841a9bf932adacc648596",
       "version_major": 2,
       "version_minor": 0
      },
      "text/plain": [
       "HBox(children=(IntSlider(value=0, max=5), IntSlider(value=0, max=172)))"
      ]
     },
     "metadata": {},
     "output_type": "display_data"
    },
    {
     "data": {
      "application/vnd.jupyter.widget-view+json": {
       "model_id": "666e3c0aab784687811690f7c5e5b638",
       "version_major": 2,
       "version_minor": 0
      },
      "text/plain": [
       "HBox(children=(ImageStream(image=Image(value=b'\\x89PNG\\r\\n\\x1a\\n\\x00\\x00\\x00\\rIHDR\\x00\\x00\\x01\\x00\\x00\\x00\\x01…"
      ]
     },
     "metadata": {},
     "output_type": "display_data"
    },
    {
     "data": {
      "application/vnd.jupyter.widget-view+json": {
       "model_id": "89d0cd84ee114bf895ae870eedc880f9",
       "version_major": 2,
       "version_minor": 0
      },
      "text/plain": [
       "HBox(children=(Button(description='Delete', style=ButtonStyle()), Button(description='Reset (r)', style=Button…"
      ]
     },
     "metadata": {},
     "output_type": "display_data"
    },
    {
     "data": {
      "application/vnd.jupyter.widget-view+json": {
       "model_id": "e6a26cf1cc7b4f35afa155426ad537c1",
       "version_major": 2,
       "version_minor": 0
      },
      "text/plain": [
       "Label(value='')"
      ]
     },
     "metadata": {},
     "output_type": "display_data"
    }
   ],
   "source": [
    "from stanza.policy.ipython import DemonstrationCollector\n",
    "from IPython.display import display\n",
    "\n",
    "collector = DemonstrationCollector(\"pusht_data.pkl\",\n",
    "    env, interactive_policy, 256, 256\n",
    ")\n",
    "display(collector)"
   ]
  },
  {
   "cell_type": "code",
   "execution_count": 4,
   "metadata": {},
   "outputs": [
    {
     "name": "stdout",
     "output_type": "stream",
     "text": [
      "[(PushTState(q=(172, 5), qd=(172, 5)), (172, 2)), (PushTState(q=(98, 5), qd=(98, 5)), (98, 2)), (PushTState(q=(86, 5), qd=(86, 5)), (86, 2)), (PushTState(q=(182, 5), qd=(182, 5)), (182, 2)), (PushTState(q=(78, 5), qd=(78, 5)), (78, 2)), (PushTState(q=(400, 5), qd=(400, 5)), (400, 2))]\n"
     ]
    }
   ],
   "source": [
    "print(jax.tree_util.tree_map(lambda x: x.shape, collector.demonstrations))"
   ]
  },
  {
   "cell_type": "code",
   "execution_count": null,
   "metadata": {},
   "outputs": [],
   "source": []
  }
 ],
 "metadata": {
  "kernelspec": {
   "display_name": "Python 3 (ipykernel)",
   "language": "python",
   "name": "python3"
  },
  "language_info": {
   "codemirror_mode": {
    "name": "ipython",
    "version": 3
   },
   "file_extension": ".py",
   "mimetype": "text/x-python",
   "name": "python",
   "nbconvert_exporter": "python",
   "pygments_lexer": "ipython3",
   "version": "3.12.2"
  },
  "widgets": {
   "application/vnd.jupyter.widget-state+json": {
    "state": {
     "0162619f49514e049d729eac4bed1a21": {
      "model_module": "@jupyter-widgets/base",
      "model_module_version": "2.0.0",
      "model_name": "LayoutModel",
      "state": {}
     },
     "0a9583d28bec41df95e00f67fbda61b2": {
      "model_module": "@jupyter-widgets/base",
      "model_module_version": "2.0.0",
      "model_name": "LayoutModel",
      "state": {}
     },
     "0cf508ee567c4ff2aa44dbc77c874ed3": {
      "model_module": "@jupyter-widgets/base",
      "model_module_version": "2.0.0",
      "model_name": "LayoutModel",
      "state": {}
     },
     "0eca3a3ce06f484989c1ffc60c7c154f": {
      "model_module": "@jupyter-widgets/controls",
      "model_module_version": "2.0.0",
      "model_name": "IntSliderModel",
      "state": {
       "behavior": "drag-tap",
       "layout": "IPY_MODEL_af14dbdf2c5b49da99d235eaca1073ad",
       "max": 1,
       "style": "IPY_MODEL_85404668a6464170aeafd2257b5478ab",
       "value": 1
      }
     },
     "12d25cf1974342579b7ad42d028d5a05": {
      "model_module": "@jupyter-widgets/controls",
      "model_module_version": "2.0.0",
      "model_name": "HTMLStyleModel",
      "state": {
       "description_width": "",
       "font_size": null,
       "text_color": null
      }
     },
     "18ada9e78e2d4b629fe2c93bdbdeac38": {
      "model_module": "ipyevents",
      "model_module_version": "2.0.2",
      "model_name": "EventModel",
      "state": {
       "_supported_key_events": [
        "keydown",
        "keyup"
       ],
       "_supported_mouse_events": [
        "click",
        "auxclick",
        "dblclick",
        "mouseenter",
        "mouseleave",
        "mousedown",
        "mouseup",
        "mousemove",
        "wheel",
        "contextmenu",
        "dragstart",
        "drag",
        "dragend",
        "dragenter",
        "dragover",
        "dragleave",
        "drop"
       ],
       "_supported_touch_events": [
        "touchstart",
        "touchend",
        "touchmove",
        "touchcancel"
       ],
       "_view_module": "@jupyter-widgets/controls",
       "source": "IPY_MODEL_19fbcaf2c85140a9bd9431f824ba1391",
       "throttle_or_debounce": "",
       "watched_events": [
        "click",
        "keydown",
        "keyup",
        "mousemove"
       ],
       "xy_coordinate_system": ""
      }
     },
     "19fbcaf2c85140a9bd9431f824ba1391": {
      "model_module": "jupyter-webrtc",
      "model_module_version": "~0.6.0",
      "model_name": "ImageStreamModel",
      "state": {
       "_view_count": 1,
       "image": "IPY_MODEL_822f072cc9ac4a17b30fd8bda34751c4",
       "layout": "IPY_MODEL_a09accb0692947e3b014b0ed9f1848a1"
      }
     },
     "1cd097e962324236847b2b0f0f77b129": {
      "model_module": "@jupyter-widgets/controls",
      "model_module_version": "2.0.0",
      "model_name": "ButtonModel",
      "state": {
       "description": "Reset (r)",
       "layout": "IPY_MODEL_681c6dd768204788915a003b1a9d259f",
       "style": "IPY_MODEL_bb48b717427945309d7b6d7d59766fbb",
       "tooltip": null
      }
     },
     "1ec0d2cc80d04334853268fe7c27a1e0": {
      "model_module": "@jupyter-widgets/controls",
      "model_module_version": "2.0.0",
      "model_name": "IntSliderModel",
      "state": {
       "behavior": "drag-tap",
       "layout": "IPY_MODEL_59431f29143441bea9c46daf8375c463",
       "max": 0,
       "style": "IPY_MODEL_9f58312c9da640f1bbe2a2d95c09386f"
      }
     },
     "27319be8d9fe43efb26bb020359208e1": {
      "model_module": "@jupyter-widgets/controls",
      "model_module_version": "2.0.0",
      "model_name": "ButtonModel",
      "state": {
       "description": "Collect (c)",
       "layout": "IPY_MODEL_9247bd33d8a0424dad604be225feb36b",
       "style": "IPY_MODEL_eda17ab23c514f6aa34e440df4effadd",
       "tooltip": null
      }
     },
     "39b611f7690d4e02ba373ce85f3c5626": {
      "model_module": "@jupyter-widgets/controls",
      "model_module_version": "2.0.0",
      "model_name": "HTMLModel",
      "state": {
       "layout": "IPY_MODEL_0cf508ee567c4ff2aa44dbc77c874ed3",
       "style": "IPY_MODEL_12d25cf1974342579b7ad42d028d5a05",
       "value": "<style>\n.cell-output-ipywidget-background {\n    background-color: transparent !important;\n}\n.jp-OutputArea-output {\n    background-color: transparent;\n}\npre {\n    color: var(--vscode-editor-foreground);\n    margin: 0;\n}\nvideo::-webkit-media-controls {\n  display: none;\n}\n</style>"
      }
     },
     "3c8c95b726e8463da07d83c0c11308da": {
      "model_module": "@jupyter-widgets/controls",
      "model_module_version": "2.0.0",
      "model_name": "ButtonStyleModel",
      "state": {
       "font_family": null,
       "font_size": null,
       "font_style": null,
       "font_variant": null,
       "font_weight": null,
       "text_color": null,
       "text_decoration": null
      }
     },
     "3dfeb909e3df46278a93b47f115d2ad0": {
      "model_module": "@jupyter-widgets/controls",
      "model_module_version": "2.0.0",
      "model_name": "ButtonStyleModel",
      "state": {
       "font_family": null,
       "font_size": null,
       "font_style": null,
       "font_variant": null,
       "font_weight": null,
       "text_color": null,
       "text_decoration": null
      }
     },
     "49efd089220c40c2886130c0c3bd03ef": {
      "model_module": "@jupyter-widgets/controls",
      "model_module_version": "2.0.0",
      "model_name": "ButtonModel",
      "state": {
       "description": "Trim",
       "layout": "IPY_MODEL_814e22ca66204343bb11b498779803e7",
       "style": "IPY_MODEL_3dfeb909e3df46278a93b47f115d2ad0",
       "tooltip": null
      }
     },
     "4b4d7567573844dcb701d00ffff63d02": {
      "model_module": "@jupyter-widgets/controls",
      "model_module_version": "2.0.0",
      "model_name": "ButtonModel",
      "state": {
       "description": "Save",
       "layout": "IPY_MODEL_f777ccbb27a141deab5e1bcaa33f17f0",
       "style": "IPY_MODEL_3c8c95b726e8463da07d83c0c11308da",
       "tooltip": null
      }
     },
     "59431f29143441bea9c46daf8375c463": {
      "model_module": "@jupyter-widgets/base",
      "model_module_version": "2.0.0",
      "model_name": "LayoutModel",
      "state": {}
     },
     "5a98ee59e7fd4c9aba51b3176bc6228d": {
      "model_module": "@jupyter-widgets/controls",
      "model_module_version": "2.0.0",
      "model_name": "ButtonModel",
      "state": {
       "description": "Delete",
       "layout": "IPY_MODEL_0a9583d28bec41df95e00f67fbda61b2",
       "style": "IPY_MODEL_db924b0b190c4095912c12661d43dacc",
       "tooltip": null
      }
     },
     "661f5e7a3100484e938f82494165180e": {
      "model_module": "@jupyter-widgets/base",
      "model_module_version": "2.0.0",
      "model_name": "LayoutModel",
      "state": {}
     },
     "666e3c0aab784687811690f7c5e5b638": {
      "model_module": "@jupyter-widgets/controls",
      "model_module_version": "2.0.0",
      "model_name": "HBoxModel",
      "state": {
       "children": [
        "IPY_MODEL_19fbcaf2c85140a9bd9431f824ba1391",
        "IPY_MODEL_39b611f7690d4e02ba373ce85f3c5626"
       ],
       "layout": "IPY_MODEL_0162619f49514e049d729eac4bed1a21"
      }
     },
     "681c6dd768204788915a003b1a9d259f": {
      "model_module": "@jupyter-widgets/base",
      "model_module_version": "2.0.0",
      "model_name": "LayoutModel",
      "state": {}
     },
     "814e22ca66204343bb11b498779803e7": {
      "model_module": "@jupyter-widgets/base",
      "model_module_version": "2.0.0",
      "model_name": "LayoutModel",
      "state": {}
     },
     "822f072cc9ac4a17b30fd8bda34751c4": {
      "buffers": [
       {
        "data": "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",
        "encoding": "base64",
        "path": [
         "value"
        ]
       }
      ],
      "model_module": "@jupyter-widgets/controls",
      "model_module_version": "2.0.0",
      "model_name": "ImageModel",
      "state": {
       "layout": "IPY_MODEL_91ce65db43c9482d9426d30bc4ac7034"
      }
     },
     "85404668a6464170aeafd2257b5478ab": {
      "model_module": "@jupyter-widgets/controls",
      "model_module_version": "2.0.0",
      "model_name": "SliderStyleModel",
      "state": {
       "description_width": ""
      }
     },
     "89d0cd84ee114bf895ae870eedc880f9": {
      "model_module": "@jupyter-widgets/controls",
      "model_module_version": "2.0.0",
      "model_name": "HBoxModel",
      "state": {
       "children": [
        "IPY_MODEL_5a98ee59e7fd4c9aba51b3176bc6228d",
        "IPY_MODEL_1cd097e962324236847b2b0f0f77b129",
        "IPY_MODEL_27319be8d9fe43efb26bb020359208e1",
        "IPY_MODEL_49efd089220c40c2886130c0c3bd03ef",
        "IPY_MODEL_4b4d7567573844dcb701d00ffff63d02"
       ],
       "layout": "IPY_MODEL_661f5e7a3100484e938f82494165180e"
      }
     },
     "91ce65db43c9482d9426d30bc4ac7034": {
      "model_module": "@jupyter-widgets/base",
      "model_module_version": "2.0.0",
      "model_name": "LayoutModel",
      "state": {}
     },
     "9247bd33d8a0424dad604be225feb36b": {
      "model_module": "@jupyter-widgets/base",
      "model_module_version": "2.0.0",
      "model_name": "LayoutModel",
      "state": {}
     },
     "9e301501baec42849731be1cb16a1d77": {
      "model_module": "@jupyter-widgets/controls",
      "model_module_version": "2.0.0",
      "model_name": "LabelStyleModel",
      "state": {
       "description_width": "",
       "font_family": null,
       "font_size": null,
       "font_style": null,
       "font_variant": null,
       "font_weight": null,
       "text_color": null,
       "text_decoration": null
      }
     },
     "9f58312c9da640f1bbe2a2d95c09386f": {
      "model_module": "@jupyter-widgets/controls",
      "model_module_version": "2.0.0",
      "model_name": "SliderStyleModel",
      "state": {
       "description_width": ""
      }
     },
     "a09accb0692947e3b014b0ed9f1848a1": {
      "model_module": "@jupyter-widgets/base",
      "model_module_version": "2.0.0",
      "model_name": "LayoutModel",
      "state": {}
     },
     "af14dbdf2c5b49da99d235eaca1073ad": {
      "model_module": "@jupyter-widgets/base",
      "model_module_version": "2.0.0",
      "model_name": "LayoutModel",
      "state": {}
     },
     "b2f72a7fb5454eb6baa2e285bd70c1b4": {
      "model_module": "@jupyter-widgets/base",
      "model_module_version": "2.0.0",
      "model_name": "LayoutModel",
      "state": {}
     },
     "bb48b717427945309d7b6d7d59766fbb": {
      "model_module": "@jupyter-widgets/controls",
      "model_module_version": "2.0.0",
      "model_name": "ButtonStyleModel",
      "state": {
       "font_family": null,
       "font_size": null,
       "font_style": null,
       "font_variant": null,
       "font_weight": null,
       "text_color": null,
       "text_decoration": null
      }
     },
     "c1089f6233c841a9bf932adacc648596": {
      "model_module": "@jupyter-widgets/controls",
      "model_module_version": "2.0.0",
      "model_name": "HBoxModel",
      "state": {
       "children": [
        "IPY_MODEL_0eca3a3ce06f484989c1ffc60c7c154f",
        "IPY_MODEL_1ec0d2cc80d04334853268fe7c27a1e0"
       ],
       "layout": "IPY_MODEL_b2f72a7fb5454eb6baa2e285bd70c1b4"
      }
     },
     "db924b0b190c4095912c12661d43dacc": {
      "model_module": "@jupyter-widgets/controls",
      "model_module_version": "2.0.0",
      "model_name": "ButtonStyleModel",
      "state": {
       "font_family": null,
       "font_size": null,
       "font_style": null,
       "font_variant": null,
       "font_weight": null,
       "text_color": null,
       "text_decoration": null
      }
     },
     "e6a26cf1cc7b4f35afa155426ad537c1": {
      "model_module": "@jupyter-widgets/controls",
      "model_module_version": "2.0.0",
      "model_name": "LabelModel",
      "state": {
       "layout": "IPY_MODEL_f240f6d51bde4e6abf129889cd21bf44",
       "style": "IPY_MODEL_9e301501baec42849731be1cb16a1d77"
      }
     },
     "eda17ab23c514f6aa34e440df4effadd": {
      "model_module": "@jupyter-widgets/controls",
      "model_module_version": "2.0.0",
      "model_name": "ButtonStyleModel",
      "state": {
       "font_family": null,
       "font_size": null,
       "font_style": null,
       "font_variant": null,
       "font_weight": null,
       "text_color": null,
       "text_decoration": null
      }
     },
     "f240f6d51bde4e6abf129889cd21bf44": {
      "model_module": "@jupyter-widgets/base",
      "model_module_version": "2.0.0",
      "model_name": "LayoutModel",
      "state": {}
     },
     "f777ccbb27a141deab5e1bcaa33f17f0": {
      "model_module": "@jupyter-widgets/base",
      "model_module_version": "2.0.0",
      "model_name": "LayoutModel",
      "state": {}
     }
    },
    "version_major": 2,
    "version_minor": 0
   }
  }
 },
 "nbformat": 4,
 "nbformat_minor": 4
}
