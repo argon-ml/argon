{
 "cells": [
  {
   "cell_type": "code",
   "execution_count": 1,
   "metadata": {},
   "outputs": [
    {
     "data": {
      "application/vnd.jupyter.widget-view+json": {
       "model_id": "f07e38d8757d4b1ab63079c8b60ab2af",
       "version_major": 2,
       "version_minor": 0
      },
      "text/plain": [
       "Label(value='')"
      ]
     },
     "metadata": {},
     "output_type": "display_data"
    },
    {
     "data": {
      "application/vnd.jupyter.widget-view+json": {
       "model_id": "64b78e1b2b684493ad6b7d546bef21bb",
       "version_major": 2,
       "version_minor": 0
      },
      "text/plain": [
       "HBox(children=(ImageStream(image=Image(value=b'\\x89PNG\\r\\n\\x1a\\n\\x00\\x00\\x00\\rIHDR\\x00\\x00\\x01\\x00\\x00\\x00\\x01…"
      ]
     },
     "metadata": {},
     "output_type": "display_data"
    }
   ],
   "source": [
    "from stanza.policy.ipython import StreamingInterface\n",
    "from threading import Thread\n",
    "import asyncio\n",
    "import jax\n",
    "import time\n",
    "import jax.numpy as jnp\n",
    "\n",
    "import stanza.canvas as canvas\n",
    "\n",
    "@jax.jit\n",
    "def render(pos):\n",
    "    pos = jnp.array([pos[0], -pos[1]])\n",
    "    pos = pos * 128 + 128\n",
    "    img = jnp.ones((256, 256, 3))\n",
    "    circle = canvas.fill(canvas.circle(pos, 10))\n",
    "    return canvas.paint(img, circle)\n",
    "\n",
    "from ipywidgets import Label\n",
    "label = Label()\n",
    "display(label)\n",
    "\n",
    "def loop():\n",
    "    for i in range(256):\n",
    "        t = time.time()\n",
    "        interactive.update(render(interactive.mouse_pos()))\n",
    "        elapsed = time.time() - t\n",
    "        label.value = f'{elapsed * 1000:.2f}ms'\n",
    "        time.sleep(max(0, 1/30 - elapsed))\n",
    "\n",
    "interactive = StreamingInterface(256, 256)\n",
    "\n",
    "aloop = asyncio.new_event_loop()\n",
    "Thread(target=loop, daemon=True).start()\n",
    "interactive"
   ]
  },
  {
   "cell_type": "code",
   "execution_count": null,
   "metadata": {},
   "outputs": [],
   "source": []
  }
 ],
 "metadata": {
  "kernelspec": {
   "display_name": ".venv",
   "language": "python",
   "name": "python3"
  },
  "language_info": {
   "codemirror_mode": {
    "name": "ipython",
    "version": 3
   },
   "file_extension": ".py",
   "mimetype": "text/x-python",
   "name": "python",
   "nbconvert_exporter": "python",
   "pygments_lexer": "ipython3",
   "version": "3.12.2"
  }
 },
 "nbformat": 4,
 "nbformat_minor": 2
}
