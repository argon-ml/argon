{
 "cells": [
  {
   "cell_type": "code",
   "execution_count": 1,
   "id": "6a9bc698-7b3d-4007-83f5-259992cb7ce9",
   "metadata": {},
   "outputs": [],
   "source": [
    "from stanza.runtime import setup\n",
    "setup()\n",
    "\n",
    "from stanza.data.sequence import SequenceData, Chunk\n",
    "from stanza.envs.pusht import PushTEnv, PositionControlTransform, PositionObsTransform\n",
    "from stanza.envs import ImageRender\n",
    "from stanza import canvas\n",
    "from stanza.policy.transforms import Transform, ChainedTransform\n",
    "\n",
    "import jax\n",
    "import jax.numpy as jnp"
   ]
  },
  {
   "cell_type": "code",
   "execution_count": 2,
   "id": "787af2ad",
   "metadata": {},
   "outputs": [],
   "source": [
    "env = PushTEnv()\n",
    "env = ChainedTransform([\n",
    "    PositionControlTransform(),\n",
    "    PositionObsTransform()\n",
    "]).transform_env(env)\n",
    "\n",
    "def draw(action_chunk):\n",
    "    T = action_chunk.shape[0]\n",
    "    colors = jnp.array((jnp.arange(T)/T, jnp.zeros(T), jnp.zeros(T))).T\n",
    "    circles = canvas.fill(\n",
    "        canvas.circle(action_chunk, 0.02*jnp.ones(T)),\n",
    "        color=colors\n",
    "    )\n",
    "    circles = canvas.stack_batch(circles)\n",
    "    circles = canvas.transform(circles,\n",
    "        translation=(1,-1),\n",
    "        scale=(128, -128)\n",
    "    )\n",
    "    return circles\n",
    "\n",
    "@jax.jit\n",
    "def render(state, action_chunks):\n",
    "    image = env.render(ImageRender(256, 256), state)\n",
    "    circles = canvas.stack_batch(jax.vmap(draw)(action_chunks))\n",
    "    return canvas.paint(image, circles)"
   ]
  },
  {
   "cell_type": "code",
   "execution_count": 3,
   "id": "b2cf8373-8cc9-4f62-87c4-98ed56b207f2",
   "metadata": {},
   "outputs": [
    {
     "name": "stdout",
     "output_type": "stream",
     "text": [
      "Loaded data (PushTPosObs(agent_pos=(4192, 1, 2), block_pos=(4192, 1, 2), block_rot=(4192, 1)), (4192, 6, 2))\n"
     ]
    }
   ],
   "source": [
    "data = SequenceData.load(\"pusht_data.pkl\")\n",
    "\n",
    "obs_length = 1\n",
    "action_length = 6\n",
    "def map_chunks(chunk : Chunk):\n",
    "    state, action = chunk.chunk\n",
    "    state = jax.vmap(env.observe)(state)\n",
    "    obs = jax.tree_util.tree_map(lambda x: x[:obs_length], state)\n",
    "    # use the future state positions as the actions\n",
    "    action = jax.tree_util.tree_map(lambda x: x[-action_length:], state.agent_pos)\n",
    "    # action = jax.tree_util.tree_map(lambda x: x[-action_length:], action)\n",
    "    return obs, action\n",
    "data = data.chunk(obs_length + action_length).map(map_chunks).as_pytree()\n",
    "sample_chunk = jax.tree_util.tree_map(lambda x: x[0], data)\n",
    "\n",
    "print(\"Loaded data\", jax.tree_util.tree_map(lambda x: x.shape, data))"
   ]
  },
  {
   "cell_type": "code",
   "execution_count": 4,
   "id": "b342d5d3-311d-4ea6-a4b0-e2fbadf3bdff",
   "metadata": {},
   "outputs": [],
   "source": [
    "from stanza.diffusion import DDPMSchedule, nonparametric\n",
    "from stanza.policy import PolicyInput, PolicyOutput\n",
    "from stanza.policy.transforms import ChunkTransform\n",
    "\n",
    "schedule = DDPMSchedule.make_squaredcos_cap_v2(16, prediction_type=\"sample\")\n",
    "\n",
    "@jax.jit\n",
    "def chunk_policy(input: PolicyInput) -> PolicyOutput:\n",
    "    obs = input.observation\n",
    "    diffuser = nonparametric.nw_cond_diffuser(obs, data, schedule, \n",
    "            nonparametric.log_gaussian_kernel, 0.01\n",
    "    )\n",
    "    #diffuser = nonparametric.closest_diffuser(obs, data)\n",
    "    action = schedule.sample(input.rng_key, diffuser, sample_chunk[1])\n",
    "    return PolicyOutput(action)\n",
    "transform = ChunkTransform(obs_length, action_length)\n",
    "policy = transform.transform_policy(chunk_policy)"
   ]
  },
  {
   "cell_type": "code",
   "execution_count": 5,
   "id": "8e4bcc14",
   "metadata": {},
   "outputs": [
    {
     "name": "stdout",
     "output_type": "stream",
     "text": [
      "(256, 256, 4)\n"
     ]
    },
    {
     "data": {
      "application/vnd.jupyter.widget-view+json": {
       "model_id": "d139c6728f2944ce990f036591fb6f70",
       "version_major": 2,
       "version_minor": 0
      },
      "text/plain": [
       "HBox(children=(Image(value=b'\\x89PNG\\r\\n\\x1a\\n\\x00\\x00\\x00\\rIHDR\\x00\\x00\\x01\\x00\\x00\\x00\\x01\\x00\\x08\\x06\\x00\\x…"
      ]
     },
     "execution_count": 5,
     "metadata": {},
     "output_type": "execute_result"
    }
   ],
   "source": [
    "from stanza.util.ipython import as_image\n",
    "\n",
    "state = env.reset(jax.random.key(0))\n",
    "state_batch = jax.tree_util.tree_map(\n",
    "    lambda x: jnp.repeat(x[None], obs_length, 0), \n",
    "    state\n",
    ")\n",
    "output = chunk_policy(PolicyInput(\n",
    "    jax.vmap(env.observe)(state_batch),\n",
    "    rng_key=jax.random.key(42))\n",
    ").action \n",
    "\n",
    "as_image(render(state, output[None,...]))"
   ]
  },
  {
   "cell_type": "code",
   "execution_count": 7,
   "id": "c23a0c5b",
   "metadata": {},
   "outputs": [
    {
     "data": {
      "application/vnd.jupyter.widget-view+json": {
       "model_id": "a1f2468f88e4486fb477442d714973dc",
       "version_major": 2,
       "version_minor": 0
      },
      "text/plain": [
       "Label(value='Hello world')"
      ]
     },
     "metadata": {},
     "output_type": "display_data"
    },
    {
     "data": {
      "application/vnd.jupyter.widget-view+json": {
       "model_id": "5397a6759d02440a91bf0ad078dbe870",
       "version_major": 2,
       "version_minor": 0
      },
      "text/plain": [
       "HBox(children=(ImageStream(image=Image(value=b'\\x89PNG\\r\\n\\x1a\\n\\x00\\x00\\x00\\rIHDR\\x00\\x00\\x01\\x00\\x00\\x00\\x01…"
      ]
     },
     "metadata": {},
     "output_type": "display_data"
    }
   ],
   "source": [
    "from stanza.policy.ipython import StreamingInterface\n",
    "from threading import Thread\n",
    "from ipywidgets import Label\n",
    "import time\n",
    "\n",
    "\n",
    "def batch_policy(obs, rng_key):\n",
    "    keys = jax.random.split(rng_key, 8)\n",
    "    return jax.pmap(chunk_policy, in_axes=(PolicyInput(None, rng_key=0),))(\n",
    "        PolicyInput(obs, rng_key=keys)\n",
    "    ).action\n",
    "\n",
    "label = Label(value=\"Hello world\")\n",
    "interactive = StreamingInterface(256, 256)\n",
    "def loop():\n",
    "    state = env.reset(jax.random.key(42))\n",
    "    state_batch = jax.tree_util.tree_map(\n",
    "        lambda x: jnp.repeat(x[None], obs_length, 0), \n",
    "        state\n",
    "    )\n",
    "    key = jax.random.key(42)\n",
    "    while True:\n",
    "        t = time.time()\n",
    "        key, r = jax.random.split(key)\n",
    "        action = interactive.mouse_pos()\n",
    "        prev_state = state\n",
    "        state = env.step(state, action)\n",
    "        reward = env.reward(prev_state, action, state)\n",
    "        label.value = f\"reward: {reward}\"\n",
    "        state_batch = jax.tree_util.tree_map(\n",
    "            lambda x, s: jnp.roll(x, -1).at[-1].set(s),\n",
    "            state_batch, state\n",
    "        )\n",
    "        obs = jax.vmap(env.observe)(state_batch)\n",
    "        output = batch_policy(obs, jax.random.key(42))\n",
    "        output = jax.tree_util.tree_map(lambda x: x[:1], output)\n",
    "        image = render(state, output)\n",
    "        interactive.update(image)\n",
    "        elapsed = time.time() - t\n",
    "        time.sleep(max(0, 1/30 - elapsed))\n",
    "t = Thread(target=loop, daemon=True)\n",
    "t.start()\n",
    "t.__del__ = lambda: t.stop()\n",
    "display(label)\n",
    "interactive"
   ]
  },
  {
   "cell_type": "code",
   "execution_count": null,
   "id": "f40a4ea7-8f58-4ac0-9057-4938c8aad272",
   "metadata": {},
   "outputs": [],
   "source": []
  }
 ],
 "metadata": {
  "kernelspec": {
   "display_name": "Python 3 (ipykernel)",
   "language": "python",
   "name": "python3"
  },
  "language_info": {
   "codemirror_mode": {
    "name": "ipython",
    "version": 3
   },
   "file_extension": ".py",
   "mimetype": "text/x-python",
   "name": "python",
   "nbconvert_exporter": "python",
   "pygments_lexer": "ipython3",
   "version": "3.12.2"
  },
  "widgets": {
   "application/vnd.jupyter.widget-state+json": {
    "state": {
     "08e1a7a4b0a74f92b854b7d5c36b3265": {
      "buffers": [
       {
        "data": "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",
        "encoding": "base64",
        "path": [
         "value"
        ]
       }
      ],
      "model_module": "@jupyter-widgets/controls",
      "model_module_version": "2.0.0",
      "model_name": "ImageModel",
      "state": {
       "layout": "IPY_MODEL_7be828f955ca48d8ad60096975a4138d"
      }
     },
     "0db0fe9346094363a1262c3f1832b937": {
      "model_module": "@jupyter-widgets/controls",
      "model_module_version": "2.0.0",
      "model_name": "HTMLModel",
      "state": {
       "layout": "IPY_MODEL_b76c365bf00b45ce80fa79ac096c1caf",
       "style": "IPY_MODEL_f4767f991857420393e57239b10fd0f8",
       "value": "<style>\n.cell-output-ipywidget-background {\n    background-color: transparent !important;\n}\n.jp-OutputArea-output {\n    background-color: transparent;\n}\npre {\n    color: var(--vscode-editor-foreground);\n    margin: 0;\n}\nvideo::-webkit-media-controls {\n  display: none;\n}\n</style>"
      }
     },
     "0f055c7373af4c3496957b06b19f28f0": {
      "model_module": "@jupyter-widgets/controls",
      "model_module_version": "2.0.0",
      "model_name": "HTMLModel",
      "state": {
       "layout": "IPY_MODEL_d04832c46a714906b4cbaf752052fd22",
       "style": "IPY_MODEL_80c601d16fbe4948a5c3e479840d255e",
       "value": "<style>\n.cell-output-ipywidget-background {\n    background-color: transparent !important;\n}\n.jp-OutputArea-output {\n    background-color: transparent;\n}\npre {\n    color: var(--vscode-editor-foreground);\n    margin: 0;\n}\nvideo::-webkit-media-controls {\n  display: none;\n}\n</style>"
      }
     },
     "46a03587908d4bdfb6664e512746a735": {
      "model_module": "@jupyter-widgets/base",
      "model_module_version": "2.0.0",
      "model_name": "LayoutModel",
      "state": {}
     },
     "52089446f0b84580a205d1c7f89639e0": {
      "model_module": "@jupyter-widgets/controls",
      "model_module_version": "2.0.0",
      "model_name": "LabelStyleModel",
      "state": {
       "description_width": "",
       "font_family": null,
       "font_size": null,
       "font_style": null,
       "font_variant": null,
       "font_weight": null,
       "text_color": null,
       "text_decoration": null
      }
     },
     "5397a6759d02440a91bf0ad078dbe870": {
      "model_module": "@jupyter-widgets/controls",
      "model_module_version": "2.0.0",
      "model_name": "HBoxModel",
      "state": {
       "children": [
        "IPY_MODEL_817b7082b8f845028c1798bf55c70fc4",
        "IPY_MODEL_0f055c7373af4c3496957b06b19f28f0"
       ],
       "layout": "IPY_MODEL_9f35fea02074444ab1819ec001104c8f"
      }
     },
     "7be828f955ca48d8ad60096975a4138d": {
      "model_module": "@jupyter-widgets/base",
      "model_module_version": "2.0.0",
      "model_name": "LayoutModel",
      "state": {}
     },
     "80c601d16fbe4948a5c3e479840d255e": {
      "model_module": "@jupyter-widgets/controls",
      "model_module_version": "2.0.0",
      "model_name": "HTMLStyleModel",
      "state": {
       "description_width": "",
       "font_size": null,
       "text_color": null
      }
     },
     "817b7082b8f845028c1798bf55c70fc4": {
      "model_module": "jupyter-webrtc",
      "model_module_version": "~0.6.0",
      "model_name": "ImageStreamModel",
      "state": {
       "_view_count": 1,
       "image": "IPY_MODEL_08e1a7a4b0a74f92b854b7d5c36b3265",
       "layout": "IPY_MODEL_9a2a222a2ad245ee9e1083cef30eb595"
      }
     },
     "96fae68445c349bc83704aacd9a9b972": {
      "buffers": [
       {
        "data": "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",
        "encoding": "base64",
        "path": [
         "value"
        ]
       }
      ],
      "model_module": "@jupyter-widgets/controls",
      "model_module_version": "2.0.0",
      "model_name": "ImageModel",
      "state": {
       "layout": "IPY_MODEL_dd5bd422fac0471e955a70aa69910775"
      }
     },
     "9997e30d2aa0414aa2b4bdca93ca018d": {
      "model_module": "ipyevents",
      "model_module_version": "2.0.2",
      "model_name": "EventModel",
      "state": {
       "_supported_key_events": [
        "keydown",
        "keyup"
       ],
       "_supported_mouse_events": [
        "click",
        "auxclick",
        "dblclick",
        "mouseenter",
        "mouseleave",
        "mousedown",
        "mouseup",
        "mousemove",
        "wheel",
        "contextmenu",
        "dragstart",
        "drag",
        "dragend",
        "dragenter",
        "dragover",
        "dragleave",
        "drop"
       ],
       "_supported_touch_events": [
        "touchstart",
        "touchend",
        "touchmove",
        "touchcancel"
       ],
       "_view_module": "@jupyter-widgets/controls",
       "source": "IPY_MODEL_817b7082b8f845028c1798bf55c70fc4",
       "throttle_or_debounce": "",
       "watched_events": [
        "click",
        "keydown",
        "keyup",
        "mousemove"
       ],
       "xy_coordinate_system": ""
      }
     },
     "9a2a222a2ad245ee9e1083cef30eb595": {
      "model_module": "@jupyter-widgets/base",
      "model_module_version": "2.0.0",
      "model_name": "LayoutModel",
      "state": {}
     },
     "9f35fea02074444ab1819ec001104c8f": {
      "model_module": "@jupyter-widgets/base",
      "model_module_version": "2.0.0",
      "model_name": "LayoutModel",
      "state": {}
     },
     "a1f2468f88e4486fb477442d714973dc": {
      "model_module": "@jupyter-widgets/controls",
      "model_module_version": "2.0.0",
      "model_name": "LabelModel",
      "state": {
       "layout": "IPY_MODEL_46a03587908d4bdfb6664e512746a735",
       "style": "IPY_MODEL_52089446f0b84580a205d1c7f89639e0",
       "value": "reward: 0.051485784351825714"
      }
     },
     "a7e184c3591d4702a86cf0825b57fa0c": {
      "model_module": "@jupyter-widgets/base",
      "model_module_version": "2.0.0",
      "model_name": "LayoutModel",
      "state": {}
     },
     "b76c365bf00b45ce80fa79ac096c1caf": {
      "model_module": "@jupyter-widgets/base",
      "model_module_version": "2.0.0",
      "model_name": "LayoutModel",
      "state": {}
     },
     "d04832c46a714906b4cbaf752052fd22": {
      "model_module": "@jupyter-widgets/base",
      "model_module_version": "2.0.0",
      "model_name": "LayoutModel",
      "state": {}
     },
     "d139c6728f2944ce990f036591fb6f70": {
      "model_module": "@jupyter-widgets/controls",
      "model_module_version": "2.0.0",
      "model_name": "HBoxModel",
      "state": {
       "children": [
        "IPY_MODEL_96fae68445c349bc83704aacd9a9b972",
        "IPY_MODEL_0db0fe9346094363a1262c3f1832b937"
       ],
       "layout": "IPY_MODEL_a7e184c3591d4702a86cf0825b57fa0c"
      }
     },
     "dd5bd422fac0471e955a70aa69910775": {
      "model_module": "@jupyter-widgets/base",
      "model_module_version": "2.0.0",
      "model_name": "LayoutModel",
      "state": {}
     },
     "f4767f991857420393e57239b10fd0f8": {
      "model_module": "@jupyter-widgets/controls",
      "model_module_version": "2.0.0",
      "model_name": "HTMLStyleModel",
      "state": {
       "description_width": "",
       "font_size": null,
       "text_color": null
      }
     }
    },
    "version_major": 2,
    "version_minor": 0
   }
  }
 },
 "nbformat": 4,
 "nbformat_minor": 5
}
