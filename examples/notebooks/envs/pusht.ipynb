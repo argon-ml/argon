{
 "cells": [
  {
   "cell_type": "code",
   "execution_count": 1,
   "metadata": {},
   "outputs": [],
   "source": [
    "from stanza.runtime import setup\n",
    "setup()"
   ]
  },
  {
   "cell_type": "code",
   "execution_count": 2,
   "metadata": {
    "scrolled": true
   },
   "outputs": [
    {
     "data": {
      "application/vnd.jupyter.widget-view+json": {
       "model_id": "d545552f6ea64e33889fc922f164cf63",
       "version_major": 2,
       "version_minor": 0
      },
      "text/plain": [
       "HBox(children=(ImageStream(image=Image(value=b'\\x89PNG\\r\\n\\x1a\\n\\x00\\x00\\x00\\rIHDR\\x00\\x00\\x01\\x00\\x00\\x00\\x01…"
      ]
     },
     "metadata": {},
     "output_type": "display_data"
    }
   ],
   "source": [
    "import jax.random\n",
    "import jax\n",
    "import time\n",
    "import jax.numpy as jnp\n",
    "\n",
    "from stanza.envs.pusht import PushTEnv\n",
    "from stanza.envs import ImageRender\n",
    "from stanza.util.ipython import Interactive\n",
    "\n",
    "env = PushTEnv()\n",
    "state = env.reset(jax.random.key(42))\n",
    "interact = Interactive()\n",
    "i = 0\n",
    "while True:\n",
    "    i = (i + 20) % 255\n",
    "    f = i/255\n",
    "    interact.update(f * jnp.ones((256, 256, 3)))\n",
    "    #interact.update(env.render(ImageRender(256, 256), state))"
   ]
  },
  {
   "cell_type": "code",
   "execution_count": null,
   "metadata": {},
   "outputs": [],
   "source": []
  }
 ],
 "metadata": {
  "kernelspec": {
   "display_name": "Python 3 (ipykernel)",
   "language": "python",
   "name": "python3"
  },
  "language_info": {
   "codemirror_mode": {
    "name": "ipython",
    "version": 3
   },
   "file_extension": ".py",
   "mimetype": "text/x-python",
   "name": "python",
   "nbconvert_exporter": "python",
   "pygments_lexer": "ipython3",
   "version": "3.10.12"
  }
 },
 "nbformat": 4,
 "nbformat_minor": 4
}
