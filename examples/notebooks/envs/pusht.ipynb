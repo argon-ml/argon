{
 "cells": [
  {
   "cell_type": "code",
   "execution_count": 1,
   "id": "f57edd36-9f8d-44e9-9d75-7f8eb507135e",
   "metadata": {},
   "outputs": [],
   "source": [
    "from stanza.runtime import setup\n",
    "setup()"
   ]
  },
  {
   "cell_type": "code",
   "execution_count": 2,
   "id": "e55fb8a6-6f4d-4c7c-a0b9-f331e702e717",
   "metadata": {},
   "outputs": [],
   "source": [
    "import jax.random\n",
    "\n",
    "from stanza.envs import ImageRender\n",
    "from stanza.envs.pusht import PushTEnv, PositionControlTransform\n",
    "env = PushTEnv()\n",
    "env = PositionControlTransform().transform_env(env)\n",
    "def interactive_policy(mouse_pos):\n",
    "    return mouse_pos"
   ]
  },
  {
   "cell_type": "code",
   "execution_count": 3,
   "id": "5e2352da-edae-4ed4-8ede-ee55eafb41b6",
   "metadata": {},
   "outputs": [
    {
     "name": "stdout",
     "output_type": "stream",
     "text": [
      "<mujoco>\n",
      "<option timestep=\"0.005\"/>\n",
      "<worldbody>\n",
      "    <body name=\"agent\" pos=\"0.5 0.5 0.\">\n",
      "                    <joint type=\"slide\" axis=\"1 0 0\" damping=\"0.1\" stiffness=\"0\" ref=\"0.5\"/>\n",
      "                    <joint type=\"slide\" axis=\"0 1 0\" damping=\"0.1\" stiffness=\"0\" ref=\"0.5\"/>\n",
      "                    <geom type=\"sphere\" size=\"0.05\" mass=\"0.1\" pos=\"0.0 0.0 0.05\" rgba=\"0.1 0.1 0.9 1\"/>\n",
      "                </body>\n",
      "    <body name=\"block\" pos=\"-0.5 -0.5 0.\">\n",
      "                    <joint type=\"slide\" axis=\"1 0 0\" damping=\"5\" stiffness=\"0\" ref=\"-0.5\"/>\n",
      "                    <joint type=\"slide\" axis=\"0 1 0\" damping=\"5\" stiffness=\"0\" ref=\"-0.5\"/>\n",
      "                    <joint type=\"hinge\" axis=\"0 0 1\" damping=\"0.3\" stiffness=\"0\" ref=\"0.0\" pos=\"0.0 -0.009 0\"/>\n",
      "                    <geom type=\"box\" size=\"0.2 0.05 0.5\" mass=\"0.03\" pos=\"0.0 -0.05 0.5\" rgba=\"0.467 0.533 0.6 1\"/>\n",
      "        <geom type=\"box\" size=\"0.05 0.15 0.5\" mass=\"0.03\" pos=\"0.0 -0.25 0.5\" rgba=\"0.467 0.533 0.6 1\"/>\n",
      "                </body>\n",
      "\n",
      "    # The boundary and support planes\n",
      "    <geom pos=\"-1.0 0 0\" size=\"2.0 2.0 0.1\"  xyaxes=\"0 1 0 0 0 1\" type=\"plane\"/>\n",
      "    <geom pos=\"1.0 0 0\" size=\"2.0 2.0 0.1\"   xyaxes=\"0 0 1 0 1 0\" type=\"plane\"/>\n",
      "    <geom pos=\"0 -1.0 0\" size=\"2.0 2.0 0.1\"  xyaxes=\"0 0 1 1 0 0\" type=\"plane\"/>\n",
      "    <geom pos=\"0 1.0 0\" size=\"2.0 2.0 0.1\"   xyaxes=\"1 0 0 0 0 1\" type=\"plane\"/>\n",
      "</worldbody>\n",
      "</mujoco>\n"
     ]
    }
   ],
   "source": [
    "from stanza.envs.pusht import WORLD\n",
    "print(WORLD.to_xml())"
   ]
  },
  {
   "cell_type": "code",
   "execution_count": 16,
   "id": "98d3209e-d07d-4b92-8ec0-c88b9e4024c2",
   "metadata": {},
   "outputs": [],
   "source": [
    "s = env.reset(jax.random.key(47))"
   ]
  },
  {
   "cell_type": "code",
   "execution_count": 17,
   "id": "d79c77d0-b360-4676-9dc9-ca47ef300b99",
   "metadata": {},
   "outputs": [
    {
     "name": "stdout",
     "output_type": "stream",
     "text": [
      "PushTPosObs(agent_pos=Array([0.4887165, 0.5627138], dtype=float32), block_pos=Array([-0.2634995 , -0.37952167], dtype=float32), block_rot=Array(0.00401996, dtype=float32))\n"
     ]
    },
    {
     "data": {
      "text/plain": [
       "Array(0.37311387, dtype=float32)"
      ]
     },
     "execution_count": 17,
     "metadata": {},
     "output_type": "execute_result"
    }
   ],
   "source": [
    "print(env.observe(s))\n",
    "env.reward(None, None, s)"
   ]
  },
  {
   "cell_type": "code",
   "execution_count": 18,
   "id": "1b2b5957-006d-4cb8-8b4e-494393529ea6",
   "metadata": {},
   "outputs": [
    {
     "name": "stdout",
     "output_type": "stream",
     "text": [
      "(256, 256, 4)\n"
     ]
    },
    {
     "data": {
      "application/vnd.jupyter.widget-view+json": {
       "model_id": "3d7669391c9548f9b38d5fc35249781d",
       "version_major": 2,
       "version_minor": 0
      },
      "text/plain": [
       "HBox(children=(Image(value=b'\\x89PNG\\r\\n\\x1a\\n\\x00\\x00\\x00\\rIHDR\\x00\\x00\\x01\\x00\\x00\\x00\\x01\\x00\\x08\\x06\\x00\\x…"
      ]
     },
     "execution_count": 18,
     "metadata": {},
     "output_type": "execute_result"
    }
   ],
   "source": [
    "from stanza.util.ipython import as_image\n",
    "as_image(env.render(ImageRender(256, 256), s))"
   ]
  },
  {
   "cell_type": "code",
   "execution_count": null,
   "id": "4d8da6b4-6ed2-4eb2-b2ee-78a1e9966337",
   "metadata": {},
   "outputs": [],
   "source": []
  }
 ],
 "metadata": {
  "kernelspec": {
   "display_name": "Python 3 (ipykernel)",
   "language": "python",
   "name": "python3"
  },
  "language_info": {
   "codemirror_mode": {
    "name": "ipython",
    "version": 3
   },
   "file_extension": ".py",
   "mimetype": "text/x-python",
   "name": "python",
   "nbconvert_exporter": "python",
   "pygments_lexer": "ipython3",
   "version": "3.12.2"
  },
  "widgets": {
   "application/vnd.jupyter.widget-state+json": {
    "state": {
     "031c84e83592427f949487ac455dcce0": {
      "model_module": "@jupyter-widgets/base",
      "model_module_version": "2.0.0",
      "model_name": "LayoutModel",
      "state": {}
     },
     "0694d653ce894fa48dd10f1145658ad2": {
      "model_module": "@jupyter-widgets/base",
      "model_module_version": "2.0.0",
      "model_name": "LayoutModel",
      "state": {}
     },
     "1005177d13cc4b4d8eed8a349e10304a": {
      "model_module": "@jupyter-widgets/controls",
      "model_module_version": "2.0.0",
      "model_name": "HTMLStyleModel",
      "state": {
       "description_width": "",
       "font_size": null,
       "text_color": null
      }
     },
     "10ae5e0aca2f43dfa29fef9b33693839": {
      "model_module": "@jupyter-widgets/controls",
      "model_module_version": "2.0.0",
      "model_name": "HBoxModel",
      "state": {
       "children": [
        "IPY_MODEL_4da448690f234935adb9a3d3e5c42777",
        "IPY_MODEL_8a86e9d1d0b6406eb1f74f8abfefee07"
       ],
       "layout": "IPY_MODEL_64e30282d16a4327abb8abd6b55b0b5c"
      }
     },
     "11aea7bfd02a4fc6b213f116c61dacf5": {
      "model_module": "@jupyter-widgets/base",
      "model_module_version": "2.0.0",
      "model_name": "LayoutModel",
      "state": {}
     },
     "23a79e14f231432bad3596fdf814c5dc": {
      "model_module": "@jupyter-widgets/base",
      "model_module_version": "2.0.0",
      "model_name": "LayoutModel",
      "state": {}
     },
     "269d7317272b4f75852a50a24f64ab1d": {
      "model_module": "@jupyter-widgets/controls",
      "model_module_version": "2.0.0",
      "model_name": "HTMLModel",
      "state": {
       "layout": "IPY_MODEL_952c0905debd4ed8afabc09992777a74",
       "style": "IPY_MODEL_eeda6d87abe74f9e89c2ef70d52da70d",
       "value": "<style>\n.cell-output-ipywidget-background {\n    background-color: transparent !important;\n}\n.jp-OutputArea-output {\n    background-color: transparent;\n}\npre {\n    color: var(--vscode-editor-foreground);\n    margin: 0;\n}\nvideo::-webkit-media-controls {\n  display: none;\n}\n</style>"
      }
     },
     "28450e76c89c4f27b587de4ceeb8bc39": {
      "model_module": "@jupyter-widgets/controls",
      "model_module_version": "2.0.0",
      "model_name": "HTMLStyleModel",
      "state": {
       "description_width": "",
       "font_size": null,
       "text_color": null
      }
     },
     "2e48f41594fa443c8be25daa79316bea": {
      "buffers": [
       {
        "data": "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",
        "encoding": "base64",
        "path": [
         "value"
        ]
       }
      ],
      "model_module": "@jupyter-widgets/controls",
      "model_module_version": "2.0.0",
      "model_name": "ImageModel",
      "state": {
       "layout": "IPY_MODEL_ec3930e8891e4e95ad0db4449657dcf4"
      }
     },
     "3d7669391c9548f9b38d5fc35249781d": {
      "model_module": "@jupyter-widgets/controls",
      "model_module_version": "2.0.0",
      "model_name": "HBoxModel",
      "state": {
       "children": [
        "IPY_MODEL_9b0b7ed56a7040b6877ecac7ea9198cd",
        "IPY_MODEL_269d7317272b4f75852a50a24f64ab1d"
       ],
       "layout": "IPY_MODEL_f5d2d3465fc540ba814f7492e363c405"
      }
     },
     "4732bcc3551a48f89b870d085a396d4d": {
      "model_module": "@jupyter-widgets/base",
      "model_module_version": "2.0.0",
      "model_name": "LayoutModel",
      "state": {}
     },
     "4da448690f234935adb9a3d3e5c42777": {
      "buffers": [
       {
        "data": "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",
        "encoding": "base64",
        "path": [
         "value"
        ]
       }
      ],
      "model_module": "@jupyter-widgets/controls",
      "model_module_version": "2.0.0",
      "model_name": "ImageModel",
      "state": {
       "layout": "IPY_MODEL_c85fd288f007429c8fd4081019861009"
      }
     },
     "53ec56b1cd6b40c1a8708f8a85cc7863": {
      "model_module": "@jupyter-widgets/controls",
      "model_module_version": "2.0.0",
      "model_name": "HBoxModel",
      "state": {
       "children": [
        "IPY_MODEL_cf7f14b36c6c46e6b4d5d3425d812d24",
        "IPY_MODEL_d97de1aa137f4421bdeb6681dcc3343c"
       ],
       "layout": "IPY_MODEL_70abdedc41b844919ce6cc55dda62c89"
      }
     },
     "5d23468953684c0b860f43caf38825d6": {
      "model_module": "@jupyter-widgets/controls",
      "model_module_version": "2.0.0",
      "model_name": "HTMLStyleModel",
      "state": {
       "description_width": "",
       "font_size": null,
       "text_color": null
      }
     },
     "5e440e6fb2554130aaa8325cea96eb19": {
      "model_module": "@jupyter-widgets/base",
      "model_module_version": "2.0.0",
      "model_name": "LayoutModel",
      "state": {}
     },
     "62f79f27b2c74e17bbc378b58c2b5f3a": {
      "model_module": "@jupyter-widgets/controls",
      "model_module_version": "2.0.0",
      "model_name": "HTMLModel",
      "state": {
       "layout": "IPY_MODEL_4732bcc3551a48f89b870d085a396d4d",
       "style": "IPY_MODEL_1005177d13cc4b4d8eed8a349e10304a",
       "value": "<style>\n.cell-output-ipywidget-background {\n    background-color: transparent !important;\n}\n.jp-OutputArea-output {\n    background-color: transparent;\n}\npre {\n    color: var(--vscode-editor-foreground);\n    margin: 0;\n}\nvideo::-webkit-media-controls {\n  display: none;\n}\n</style>"
      }
     },
     "646ed63831574f699f3bc4a0f9d9f4e3": {
      "model_module": "@jupyter-widgets/controls",
      "model_module_version": "2.0.0",
      "model_name": "HBoxModel",
      "state": {
       "children": [
        "IPY_MODEL_2e48f41594fa443c8be25daa79316bea",
        "IPY_MODEL_62f79f27b2c74e17bbc378b58c2b5f3a"
       ],
       "layout": "IPY_MODEL_750d99b3fdd4479a8c41f956d3a7a48d"
      }
     },
     "64e30282d16a4327abb8abd6b55b0b5c": {
      "model_module": "@jupyter-widgets/base",
      "model_module_version": "2.0.0",
      "model_name": "LayoutModel",
      "state": {}
     },
     "70abdedc41b844919ce6cc55dda62c89": {
      "model_module": "@jupyter-widgets/base",
      "model_module_version": "2.0.0",
      "model_name": "LayoutModel",
      "state": {}
     },
     "750d99b3fdd4479a8c41f956d3a7a48d": {
      "model_module": "@jupyter-widgets/base",
      "model_module_version": "2.0.0",
      "model_name": "LayoutModel",
      "state": {}
     },
     "8a86e9d1d0b6406eb1f74f8abfefee07": {
      "model_module": "@jupyter-widgets/controls",
      "model_module_version": "2.0.0",
      "model_name": "HTMLModel",
      "state": {
       "layout": "IPY_MODEL_031c84e83592427f949487ac455dcce0",
       "style": "IPY_MODEL_5d23468953684c0b860f43caf38825d6",
       "value": "<style>\n.cell-output-ipywidget-background {\n    background-color: transparent !important;\n}\n.jp-OutputArea-output {\n    background-color: transparent;\n}\npre {\n    color: var(--vscode-editor-foreground);\n    margin: 0;\n}\nvideo::-webkit-media-controls {\n  display: none;\n}\n</style>"
      }
     },
     "952c0905debd4ed8afabc09992777a74": {
      "model_module": "@jupyter-widgets/base",
      "model_module_version": "2.0.0",
      "model_name": "LayoutModel",
      "state": {}
     },
     "9b0b7ed56a7040b6877ecac7ea9198cd": {
      "buffers": [
       {
        "data": "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",
        "encoding": "base64",
        "path": [
         "value"
        ]
       }
      ],
      "model_module": "@jupyter-widgets/controls",
      "model_module_version": "2.0.0",
      "model_name": "ImageModel",
      "state": {
       "layout": "IPY_MODEL_11aea7bfd02a4fc6b213f116c61dacf5"
      }
     },
     "abe58150e03e4c81a0ae208116cef78b": {
      "model_module": "@jupyter-widgets/controls",
      "model_module_version": "2.0.0",
      "model_name": "HTMLModel",
      "state": {
       "layout": "IPY_MODEL_0694d653ce894fa48dd10f1145658ad2",
       "style": "IPY_MODEL_e8a826ea970f4c059430012e5d33b6aa",
       "value": "<style>\n.cell-output-ipywidget-background {\n    background-color: transparent !important;\n}\n.jp-OutputArea-output {\n    background-color: transparent;\n}\npre {\n    color: var(--vscode-editor-foreground);\n    margin: 0;\n}\nvideo::-webkit-media-controls {\n  display: none;\n}\n</style>"
      }
     },
     "b8e492d16f3943d0be899436f1488dde": {
      "model_module": "@jupyter-widgets/base",
      "model_module_version": "2.0.0",
      "model_name": "LayoutModel",
      "state": {}
     },
     "bdc0982e59b049999d0ad207e85b2374": {
      "buffers": [
       {
        "data": "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",
        "encoding": "base64",
        "path": [
         "value"
        ]
       }
      ],
      "model_module": "@jupyter-widgets/controls",
      "model_module_version": "2.0.0",
      "model_name": "ImageModel",
      "state": {
       "layout": "IPY_MODEL_23a79e14f231432bad3596fdf814c5dc"
      }
     },
     "c5883ef94c6d4c229ed43ab19aa78d0a": {
      "model_module": "@jupyter-widgets/base",
      "model_module_version": "2.0.0",
      "model_name": "LayoutModel",
      "state": {}
     },
     "c85fd288f007429c8fd4081019861009": {
      "model_module": "@jupyter-widgets/base",
      "model_module_version": "2.0.0",
      "model_name": "LayoutModel",
      "state": {}
     },
     "cf7f14b36c6c46e6b4d5d3425d812d24": {
      "buffers": [
       {
        "data": "iVBORw0KGgoAAAANSUhEUgAAAQAAAAEACAYAAABccqhmAAAKFElEQVR4nO3da4xcZR3H8f/sdnphWyCKpEoFIWyX1QW8rNYGAsg1FEqtEtg1xtSYUmzjJQYvtK+pmjTGmrReMClFYyuKlDbRLFJDEeIFjElZqduLKKjVKqTshaV7mfGFGbJtZ3fmPOc5l+f8vp937c4550m7zzfPzp55TmlwcLBqACS1ZD0AANkhAIAwAgAIIwCAMAIACCMAgDACAAgjAIAwAgAIIwCAMAIACCMAgDACAAgjAIAwAgAIIwCAMAIACCMAgDACAAgjAIAwAgAIIwCAMAIACCMAgDACAAgjAIAwAgAIIwCAMAIACCMAgDACAAgjAIAwAgAIIwCAMAIACCMAgDACAAgjAIAwAgAIIwCAMAIACCMAgDACAAgjAIAwAgAIIwCAMAIACCMAgDACAAgjAIAwAgAIIwCAMAIACCMAgDACAAgjAIAwAgAIIwCAMAIACCMAgDACAAgjAIAwAgAIIwCAMAIACCMAgDACAAgjAIAwAgAIIwCAMAIACCMAgDACAAgjAIAwAgAIIwCAMAIACCMAgDACAAgjAIAwAgAIIwCAMAIACCMAgDACAAgjAIAwAgAIIwAFdt+WHXb02CtZDwM5VhocHKxmPQj4U61WbePWnSf93YZ1vRmNBnk3K+sBwI9KpWJf/faP637t1aERO2tBW8ojQghYAQRuYmLSvv7dhxq+jlUA6mEFEKjRE2P2je8/3PTrXz8xZnPnzE5wRAgRK4DAHB8asS0P7nY6llUATsUKIBD/PPaybfvJY7HOMTExabNmtXoaEYqAFUDOHTj8ov2s72lv52MVgKlYAeTUk79/zn79TL/381YqVWtpKXk/L8LECiBnfrT7V/bCS/9O9BqsAlDDCiAn7tuyI7VrVatVK5VYBYAVQKaqVbONW9Ob+FOxCoAZK4BM1LtdNy33rL7d5swuZ3Jt5A8BSNHkZMW+9p36t+sm7ct332GzWvkVIE5GAFJwYmzcNt3/00yufe/aHmvh531MgwAkaHhk1DY/sCuTa69f28MbfWiIACTgP6+8at/b8fNMrs2be4iCAHj0l5eO2o7dT6R+3fMWnmOrPnpD6tdF+AiAB88+d9D6nvxD6tdd+t5Ou3bpu1O/LoqDAMSwZ+9vbf+fX0j9uituWGpdi9+R+nVRPATAwebtu2x4eDSz6zP54QsBiCDN23VnUqlUrKWF/VwRH99FTcrL5Dezaff+A6IiAE26Z/XtWQ/hJNUqH+FAfASgSXm7fz6rzxKgWAhABJ9dtSLrIQBeEYAIFrSd4fV8G9b1xrpzL0/vSyBMBCCi1T03xzp+ftu80yb++rU9cYcFOOHXgBGd++aznY679JIL7bbrPlj3a3E+tPPNbY/Y5z+50vl4aGMF4ODOW69u+rU3XvU+27Cud9rJX/OVu+90GsvIa687HQeYsQJwcvEFb2v4mt7l19hF57+16XO2trq3+NHHf2Mrrl/qfDx0sQJwdP2V76n793f1LrMN63ojTf6aLzrea9A/8Fen4wBWAI6WXH6JPf7UH9/48+dWfdjmt82Ldc7ZMe41eGb/gL3/so5Y14cedgWO4ZHHnrZl13zA601Cw6+N2uZtu5yOZTMQRMWPADGsvPEK73cIzj/DfRVx5MWjHkcCBQQgh+7qXeZ03M49T3gdB4qPAOTQW950lvOxx14+7m8gKDwCkFMfu+1DTsfdv/MXnkeCIiMAOXXh2xc6Hzs0kt1uRQgLAcixm67qdjruWxk9iwDhIQA51n1pu/OxJ8bGPY4ERUUAcu7yzoucjsvqUWQICwHIuVuvXeJ87ORkxeNIUEQEIABnLnDbiCSrJxEjHAQgAJ/5hPtWZGweipkQgIJj81DMhAAEIs4HfVgFYDoEQACrAEyHAASEzUPhGwEISJzNQ9lCHPUQgMDc+2m3zUOBeghAYOI8FfiHj+71OBIUAQEI0JfW3OF03N/+fszzSBA6AhCg8qxW52P3/W6/x5EgdAQgUF/41Eecjnvq2T95HglCxrbggZo3d07kY9av7Yn1mwQUD9uCB+z44LBt+cGehq9ju3BMhxVAwM4+c/60X7tg0bn28RXXpTgahIgVQOD+8a//2gMP//KNP1/Z/S67esllGY4IIWEFELjzFp5jZmYrb7rC3nnx+RmPBqFhBRCQjoMd1t/eb+WS36cRQRe/BgxEx8H/P/iz61CXjVfZ8BN+EIAA1CZ/DRGALwQg506d/DVEAD4QgBybbvLXKEXgyJGKdXcPW0fHkPX1TRibHPnBm4A51WjyT1XkNwa3bx+zjRtPTPv1gYEFKY6meAhADkWZ/DVFjEBHx1BTryMC7vgRIGdcJr9Z8X4cOHy4+YeaNBsKnI4A5Ijr5K8pUgRuuWUk6yFIIAA5EXfy13Qd6vJyniy5vMG3b9+E/4EIIAA54Gvym5kNLB7wdq6sjI5GL8CaNaMJjKT4CEDGmPyna3XY8GjxYr6VXfCvliEmf31z5kTftGTr1nkJjKT4CEBGmPx+LVrEt7IL/tUywORv7Pnnm//d/qZNcxMcSbERgJQx+ZvT2mrW19fW8HXlstny5cW6ASpN3AmYIiZ/dJWKWWdn/Rt99u5tY+kfEwFICZM/vvHxqk1Oms2dy87GvrAlWAqY/H6UyyUrs9r3ivVTwpj8yDMCkCAmP/KOACSEyY8QEIAEMPkRCgLgmc/Jb2ZWqTb/uXggKgLgke/Jb2bWeaiTCCAxBMCTJCZ/DRFAUgiAB0lO/hoigCQQgJjSmPw1RAC+EYAY0pz8NUQAPhEAR1lM/hoiAF8IgIMsJ38NEYAPBCCiPEz+GiKAuAhABD4n/4H2A17OQwQQBwFoku/be1tKLUQAmSMATUjq3n4igKwRgAaS/mAPEUCWCMAMfD5nb6ZP9REBZIUAzKBcKlt/e3/s8zTzkV4igCwQgAbiRiDK5/mJANJGAJrgGgGXzTyIANJEAJoUNQJxdvIhAkgLAYig2Qj42MaLCCANBCCiRhHwuYcfEUDSCICD6SKQxAaeRABJIgCOTo1Akrv3EgEkhWcDxjReHbdyKZ3nVVWqFes81OnlXAfaD1hLif6r4zsgprQmvxkrAfhHAAJDBOATAQgQEYAvBCBQRAA+EICA+YwAbwhq4n89cD4iwANIdRGAAogTASa/NgJQEC4RYPKDABRIlAgw+WFGAAqnmQgw+VFDAApopggw+TEVASioehFg8uNUBKDApkaAyY96+DQgIIwVACCMAADCCAAgjAAAwggAIIwAAMIIACCMAADCCAAgjAAAwggAIIwAAMIIACCMAADCCAAgjAAAwggAIIwAAMIIACCMAADCCAAgjAAAwggAIIwAAMIIACCMAADCCAAgjAAAwggAIIwAAMIIACCMAADCCAAgjAAAwggAIIwAAMIIACCMAADCCAAgjAAAwggAIIwAAMIIACCMAADCCAAgjAAAwggAIIwAAML+B5YyvNbwpSy8AAAAAElFTkSuQmCC",
        "encoding": "base64",
        "path": [
         "value"
        ]
       }
      ],
      "model_module": "@jupyter-widgets/controls",
      "model_module_version": "2.0.0",
      "model_name": "ImageModel",
      "state": {
       "layout": "IPY_MODEL_5e440e6fb2554130aaa8325cea96eb19"
      }
     },
     "d97de1aa137f4421bdeb6681dcc3343c": {
      "model_module": "@jupyter-widgets/controls",
      "model_module_version": "2.0.0",
      "model_name": "HTMLModel",
      "state": {
       "layout": "IPY_MODEL_b8e492d16f3943d0be899436f1488dde",
       "style": "IPY_MODEL_28450e76c89c4f27b587de4ceeb8bc39",
       "value": "<style>\n.cell-output-ipywidget-background {\n    background-color: transparent !important;\n}\n.jp-OutputArea-output {\n    background-color: transparent;\n}\npre {\n    color: var(--vscode-editor-foreground);\n    margin: 0;\n}\nvideo::-webkit-media-controls {\n  display: none;\n}\n</style>"
      }
     },
     "e8a826ea970f4c059430012e5d33b6aa": {
      "model_module": "@jupyter-widgets/controls",
      "model_module_version": "2.0.0",
      "model_name": "HTMLStyleModel",
      "state": {
       "description_width": "",
       "font_size": null,
       "text_color": null
      }
     },
     "ec3930e8891e4e95ad0db4449657dcf4": {
      "model_module": "@jupyter-widgets/base",
      "model_module_version": "2.0.0",
      "model_name": "LayoutModel",
      "state": {}
     },
     "eeda6d87abe74f9e89c2ef70d52da70d": {
      "model_module": "@jupyter-widgets/controls",
      "model_module_version": "2.0.0",
      "model_name": "HTMLStyleModel",
      "state": {
       "description_width": "",
       "font_size": null,
       "text_color": null
      }
     },
     "f262468bd0c848efb1a15db503cc1974": {
      "model_module": "@jupyter-widgets/controls",
      "model_module_version": "2.0.0",
      "model_name": "HBoxModel",
      "state": {
       "children": [
        "IPY_MODEL_bdc0982e59b049999d0ad207e85b2374",
        "IPY_MODEL_abe58150e03e4c81a0ae208116cef78b"
       ],
       "layout": "IPY_MODEL_c5883ef94c6d4c229ed43ab19aa78d0a"
      }
     },
     "f5d2d3465fc540ba814f7492e363c405": {
      "model_module": "@jupyter-widgets/base",
      "model_module_version": "2.0.0",
      "model_name": "LayoutModel",
      "state": {}
     }
    },
    "version_major": 2,
    "version_minor": 0
   }
  }
 },
 "nbformat": 4,
 "nbformat_minor": 5
}
