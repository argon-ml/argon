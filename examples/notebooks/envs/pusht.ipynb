{
 "cells": [
  {
   "cell_type": "code",
   "execution_count": 1,
   "id": "f57edd36-9f8d-44e9-9d75-7f8eb507135e",
   "metadata": {},
   "outputs": [],
   "source": [
    "from stanza.runtime import setup\n",
    "setup()"
   ]
  },
  {
   "cell_type": "code",
   "execution_count": 2,
   "id": "e55fb8a6-6f4d-4c7c-a0b9-f331e702e717",
   "metadata": {},
   "outputs": [],
   "source": [
    "import jax.random\n",
    "\n",
    "from stanza.envs import ImageRender\n",
    "from stanza.envs.pusht import PushTEnv, PositionControlTransform\n",
    "env = PushTEnv()\n",
    "env = PositionControlTransform().transform_env(env)\n",
    "def interactive_policy(mouse_pos):\n",
    "    return mouse_pos"
   ]
  },
  {
   "cell_type": "code",
   "execution_count": 3,
   "id": "98d3209e-d07d-4b92-8ec0-c88b9e4024c2",
   "metadata": {},
   "outputs": [],
   "source": [
    "s = env.reset(jax.random.key(45))"
   ]
  },
  {
   "cell_type": "code",
   "execution_count": 4,
   "id": "d79c77d0-b360-4676-9dc9-ca47ef300b99",
   "metadata": {},
   "outputs": [
    {
     "data": {
      "text/plain": [
       "PushTPosObs(agent_pos=Array([-0.5265446,  0.6427544], dtype=float32), block_pos=Array([-0.0201478 ,  0.28507495], dtype=float32), block_rot=Array(2.3432224, dtype=float32))"
      ]
     },
     "execution_count": 4,
     "metadata": {},
     "output_type": "execute_result"
    }
   ],
   "source": [
    "env.observe(s)"
   ]
  },
  {
   "cell_type": "code",
   "execution_count": 5,
   "id": "1b2b5957-006d-4cb8-8b4e-494393529ea6",
   "metadata": {},
   "outputs": [
    {
     "data": {
      "application/vnd.jupyter.widget-view+json": {
       "model_id": "56e3dfa869984263a2cd67b27b495552",
       "version_major": 2,
       "version_minor": 0
      },
      "text/plain": [
       "HBox(children=(Image(value=b'\\x89PNG\\r\\n\\x1a\\n\\x00\\x00\\x00\\rIHDR\\x00\\x00\\x01\\x00\\x00\\x00\\x01\\x00\\x08\\x02\\x00\\x…"
      ]
     },
     "execution_count": 5,
     "metadata": {},
     "output_type": "execute_result"
    }
   ],
   "source": [
    "from stanza.util.ipython import as_image\n",
    "as_image(env.render(ImageRender(256, 256), s))"
   ]
  }
 ],
 "metadata": {
  "kernelspec": {
   "display_name": "Python 3 (ipykernel)",
   "language": "python",
   "name": "python3"
  },
  "language_info": {
   "codemirror_mode": {
    "name": "ipython",
    "version": 3
   },
   "file_extension": ".py",
   "mimetype": "text/x-python",
   "name": "python",
   "nbconvert_exporter": "python",
   "pygments_lexer": "ipython3",
   "version": "3.12.2"
  },
  "widgets": {
   "application/vnd.jupyter.widget-state+json": {
    "state": {
     "3ec44613791d4dd9a7af772c7ccecd6a": {
      "model_module": "@jupyter-widgets/base",
      "model_module_version": "2.0.0",
      "model_name": "LayoutModel",
      "state": {}
     },
     "466c0c05dc0d40c08f1e544ac9a67be2": {
      "model_module": "@jupyter-widgets/base",
      "model_module_version": "2.0.0",
      "model_name": "LayoutModel",
      "state": {}
     },
     "56e3dfa869984263a2cd67b27b495552": {
      "model_module": "@jupyter-widgets/controls",
      "model_module_version": "2.0.0",
      "model_name": "HBoxModel",
      "state": {
       "children": [
        "IPY_MODEL_b8c47fe674ac413ebf02146ce9b52d52",
        "IPY_MODEL_a99b0abdaafd46babd876502cf580c5e"
       ],
       "layout": "IPY_MODEL_466c0c05dc0d40c08f1e544ac9a67be2"
      }
     },
     "7842de4287414000815dd56c5f973169": {
      "model_module": "@jupyter-widgets/controls",
      "model_module_version": "2.0.0",
      "model_name": "HTMLStyleModel",
      "state": {
       "description_width": "",
       "font_size": null,
       "text_color": null
      }
     },
     "784c251d22e04a3e840e1a1d6970e22c": {
      "model_module": "@jupyter-widgets/base",
      "model_module_version": "2.0.0",
      "model_name": "LayoutModel",
      "state": {}
     },
     "a99b0abdaafd46babd876502cf580c5e": {
      "model_module": "@jupyter-widgets/controls",
      "model_module_version": "2.0.0",
      "model_name": "HTMLModel",
      "state": {
       "layout": "IPY_MODEL_784c251d22e04a3e840e1a1d6970e22c",
       "style": "IPY_MODEL_7842de4287414000815dd56c5f973169",
       "value": "<style>\n.cell-output-ipywidget-background {\n    background-color: transparent !important;\n}\n.jp-OutputArea-output {\n    background-color: transparent;\n}\npre {\n    color: var(--vscode-editor-foreground);\n    margin: 0;\n}\nvideo::-webkit-media-controls {\n  display: none;\n}\n</style>"
      }
     },
     "b8c47fe674ac413ebf02146ce9b52d52": {
      "buffers": [
       {
        "data": "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",
        "encoding": "base64",
        "path": [
         "value"
        ]
       }
      ],
      "model_module": "@jupyter-widgets/controls",
      "model_module_version": "2.0.0",
      "model_name": "ImageModel",
      "state": {
       "layout": "IPY_MODEL_3ec44613791d4dd9a7af772c7ccecd6a"
      }
     }
    },
    "version_major": 2,
    "version_minor": 0
   }
  }
 },
 "nbformat": 4,
 "nbformat_minor": 5
}
