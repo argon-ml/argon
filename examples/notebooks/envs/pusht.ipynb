{
 "cells": [
  {
   "cell_type": "code",
   "execution_count": 1,
   "metadata": {},
   "outputs": [],
   "source": [
    "from stanza.runtime import setup\n",
    "setup()"
   ]
  },
  {
   "cell_type": "code",
   "execution_count": 2,
   "metadata": {
    "scrolled": true
   },
   "outputs": [],
   "source": [
    "import jax.random\n",
    "\n",
    "from stanza.envs.pusht import PushTEnv, PositionControlTransform\n",
    "env = PushTEnv()\n",
    "env = PositionControlTransform().transform_env(env)\n",
    "def interactive_policy(mouse_pos):\n",
    "    return mouse_pos"
   ]
  },
  {
   "cell_type": "code",
   "execution_count": 3,
   "metadata": {},
   "outputs": [
    {
     "data": {
      "application/vnd.jupyter.widget-view+json": {
       "model_id": "15390b075e7d497ab7ce9bf726bd882c",
       "version_major": 2,
       "version_minor": 0
      },
      "text/plain": [
       "HBox(children=(IntSlider(value=0, max=2), IntSlider(value=0, max=16)))"
      ]
     },
     "metadata": {},
     "output_type": "display_data"
    },
    {
     "data": {
      "application/vnd.jupyter.widget-view+json": {
       "model_id": "052f964b98434c4292dcd3f37e64090e",
       "version_major": 2,
       "version_minor": 0
      },
      "text/plain": [
       "HBox(children=(ImageStream(image=Image(value=b'\\x89PNG\\r\\n\\x1a\\n\\x00\\x00\\x00\\rIHDR\\x00\\x00\\x01\\x00\\x00\\x00\\x01…"
      ]
     },
     "metadata": {},
     "output_type": "display_data"
    },
    {
     "data": {
      "application/vnd.jupyter.widget-view+json": {
       "model_id": "bf3e39c049f04a5ebfa5f283f43de91f",
       "version_major": 2,
       "version_minor": 0
      },
      "text/plain": [
       "HBox(children=(Button(description='Delete', style=ButtonStyle()), Button(description='Reset (r)', style=Button…"
      ]
     },
     "metadata": {},
     "output_type": "display_data"
    },
    {
     "data": {
      "application/vnd.jupyter.widget-view+json": {
       "model_id": "6e39537bbe614855b6c2d7646a6b6e2d",
       "version_major": 2,
       "version_minor": 0
      },
      "text/plain": [
       "Label(value='')"
      ]
     },
     "metadata": {},
     "output_type": "display_data"
    }
   ],
   "source": [
    "from stanza.policy.ipython import DemonstrationCollector\n",
    "from IPython.display import display\n",
    "\n",
    "collector = DemonstrationCollector(\"pusht_data.pkl\",\n",
    "    env, interactive_policy, 256, 256\n",
    ")\n",
    "display(collector)"
   ]
  },
  {
   "cell_type": "code",
   "execution_count": 6,
   "metadata": {},
   "outputs": [
    {
     "name": "stdout",
     "output_type": "stream",
     "text": [
      "[(PushTState(q=(16, 5), qd=(16, 5)), (16, 2)), (PushTState(q=(21, 5), qd=(21, 5)), (21, 2)), (PushTState(q=(260, 5), qd=(260, 5)), (260, 2))]\n"
     ]
    }
   ],
   "source": [
    "print(jax.tree_util.tree_map(lambda x: x.shape, collector.demonstrations))"
   ]
  },
  {
   "cell_type": "code",
   "execution_count": null,
   "metadata": {},
   "outputs": [],
   "source": []
  }
 ],
 "metadata": {
  "kernelspec": {
   "display_name": "Python 3 (ipykernel)",
   "language": "python",
   "name": "python3"
  },
  "language_info": {
   "codemirror_mode": {
    "name": "ipython",
    "version": 3
   },
   "file_extension": ".py",
   "mimetype": "text/x-python",
   "name": "python",
   "nbconvert_exporter": "python",
   "pygments_lexer": "ipython3",
   "version": "3.12.2"
  },
  "widgets": {
   "application/vnd.jupyter.widget-state+json": {
    "state": {
     "052f964b98434c4292dcd3f37e64090e": {
      "model_module": "@jupyter-widgets/controls",
      "model_module_version": "2.0.0",
      "model_name": "HBoxModel",
      "state": {
       "children": [
        "IPY_MODEL_54fc0e63d2154a1997fd86c8d92acde2",
        "IPY_MODEL_8a12ddefa6314978a44450148dfb8ca4"
       ],
       "layout": "IPY_MODEL_0c0c1c50175549e88ce85736b4f73ced"
      }
     },
     "0c0c1c50175549e88ce85736b4f73ced": {
      "model_module": "@jupyter-widgets/base",
      "model_module_version": "2.0.0",
      "model_name": "LayoutModel",
      "state": {}
     },
     "0cd199dec5cb4f799669ac920d84ce78": {
      "model_module": "@jupyter-widgets/controls",
      "model_module_version": "2.0.0",
      "model_name": "SliderStyleModel",
      "state": {
       "description_width": ""
      }
     },
     "1084ad57b01f453b9d3d2c81ce7af7b2": {
      "model_module": "@jupyter-widgets/controls",
      "model_module_version": "2.0.0",
      "model_name": "LabelStyleModel",
      "state": {
       "description_width": "",
       "font_family": null,
       "font_size": null,
       "font_style": null,
       "font_variant": null,
       "font_weight": null,
       "text_color": null,
       "text_decoration": null
      }
     },
     "123c9ba533b349889a5da2fa60510e52": {
      "model_module": "@jupyter-widgets/base",
      "model_module_version": "2.0.0",
      "model_name": "LayoutModel",
      "state": {}
     },
     "15390b075e7d497ab7ce9bf726bd882c": {
      "model_module": "@jupyter-widgets/controls",
      "model_module_version": "2.0.0",
      "model_name": "HBoxModel",
      "state": {
       "children": [
        "IPY_MODEL_22bc334c052e4dd0aee4ef46383444fa",
        "IPY_MODEL_953ce38a4bc1412aa496d6c51e90b988"
       ],
       "layout": "IPY_MODEL_8cf381b94393440fb8d43c5d21f9b54d"
      }
     },
     "22bc334c052e4dd0aee4ef46383444fa": {
      "model_module": "@jupyter-widgets/controls",
      "model_module_version": "2.0.0",
      "model_name": "IntSliderModel",
      "state": {
       "behavior": "drag-tap",
       "layout": "IPY_MODEL_123c9ba533b349889a5da2fa60510e52",
       "max": 2,
       "style": "IPY_MODEL_0cd199dec5cb4f799669ac920d84ce78"
      }
     },
     "24db7881163d43edbe812eb505cd52f8": {
      "model_module": "@jupyter-widgets/base",
      "model_module_version": "2.0.0",
      "model_name": "LayoutModel",
      "state": {}
     },
     "2ae1472825fd4fd2bdb3dd1c171967a4": {
      "model_module": "@jupyter-widgets/controls",
      "model_module_version": "2.0.0",
      "model_name": "ButtonStyleModel",
      "state": {
       "font_family": null,
       "font_size": null,
       "font_style": null,
       "font_variant": null,
       "font_weight": null,
       "text_color": null,
       "text_decoration": null
      }
     },
     "3fc3fc5b35c74fb3aad01b2db42c58d0": {
      "model_module": "@jupyter-widgets/controls",
      "model_module_version": "2.0.0",
      "model_name": "ButtonModel",
      "state": {
       "description": "Save",
       "layout": "IPY_MODEL_6f7a48acaf2749f89935095623737017",
       "style": "IPY_MODEL_c668bf15ac264534835786794fd34377",
       "tooltip": null
      }
     },
     "5286898f7a2640f08b1f860b06d38e25": {
      "model_module": "@jupyter-widgets/base",
      "model_module_version": "2.0.0",
      "model_name": "LayoutModel",
      "state": {}
     },
     "54fc0e63d2154a1997fd86c8d92acde2": {
      "model_module": "jupyter-webrtc",
      "model_module_version": "~0.6.0",
      "model_name": "ImageStreamModel",
      "state": {
       "_view_count": 1,
       "image": "IPY_MODEL_cbfe12d5564b47d68afc15776a594cf8",
       "layout": "IPY_MODEL_f7f40d578f6b4aa6bc453cc491e462d0"
      }
     },
     "5858eac1cdc74bb09bb7105077b02433": {
      "model_module": "@jupyter-widgets/base",
      "model_module_version": "2.0.0",
      "model_name": "LayoutModel",
      "state": {}
     },
     "624c37c203f74243a12118d1a5d06613": {
      "model_module": "@jupyter-widgets/base",
      "model_module_version": "2.0.0",
      "model_name": "LayoutModel",
      "state": {}
     },
     "6e39537bbe614855b6c2d7646a6b6e2d": {
      "model_module": "@jupyter-widgets/controls",
      "model_module_version": "2.0.0",
      "model_name": "LabelModel",
      "state": {
       "layout": "IPY_MODEL_5858eac1cdc74bb09bb7105077b02433",
       "style": "IPY_MODEL_1084ad57b01f453b9d3d2c81ce7af7b2"
      }
     },
     "6f7a48acaf2749f89935095623737017": {
      "model_module": "@jupyter-widgets/base",
      "model_module_version": "2.0.0",
      "model_name": "LayoutModel",
      "state": {}
     },
     "7542bbcce9f242d1965a7303acf22458": {
      "model_module": "@jupyter-widgets/controls",
      "model_module_version": "2.0.0",
      "model_name": "SliderStyleModel",
      "state": {
       "description_width": ""
      }
     },
     "77f2a06092be47698ae29469dfcee4bb": {
      "model_module": "@jupyter-widgets/base",
      "model_module_version": "2.0.0",
      "model_name": "LayoutModel",
      "state": {}
     },
     "8a12ddefa6314978a44450148dfb8ca4": {
      "model_module": "@jupyter-widgets/controls",
      "model_module_version": "2.0.0",
      "model_name": "HTMLModel",
      "state": {
       "layout": "IPY_MODEL_5286898f7a2640f08b1f860b06d38e25",
       "style": "IPY_MODEL_8cfcbd489aa24f0e9d101c41f290b389",
       "value": "<style>\n.cell-output-ipywidget-background {\n    background-color: transparent !important;\n}\n.jp-OutputArea-output {\n    background-color: transparent;\n}\npre {\n    color: var(--vscode-editor-foreground);\n    margin: 0;\n}\nvideo::-webkit-media-controls {\n  display: none;\n}\n</style>"
      }
     },
     "8cf381b94393440fb8d43c5d21f9b54d": {
      "model_module": "@jupyter-widgets/base",
      "model_module_version": "2.0.0",
      "model_name": "LayoutModel",
      "state": {}
     },
     "8cfcbd489aa24f0e9d101c41f290b389": {
      "model_module": "@jupyter-widgets/controls",
      "model_module_version": "2.0.0",
      "model_name": "HTMLStyleModel",
      "state": {
       "description_width": "",
       "font_size": null,
       "text_color": null
      }
     },
     "8e6f232260a94644a0b59de536d21564": {
      "model_module": "@jupyter-widgets/base",
      "model_module_version": "2.0.0",
      "model_name": "LayoutModel",
      "state": {}
     },
     "8f7004c242a74cabb1c0177635f906c2": {
      "model_module": "@jupyter-widgets/controls",
      "model_module_version": "2.0.0",
      "model_name": "ButtonStyleModel",
      "state": {
       "font_family": null,
       "font_size": null,
       "font_style": null,
       "font_variant": null,
       "font_weight": null,
       "text_color": null,
       "text_decoration": null
      }
     },
     "953ce38a4bc1412aa496d6c51e90b988": {
      "model_module": "@jupyter-widgets/controls",
      "model_module_version": "2.0.0",
      "model_name": "IntSliderModel",
      "state": {
       "behavior": "drag-tap",
       "layout": "IPY_MODEL_fb77176f8f77487c97adc2a51dfb6ab5",
       "max": 16,
       "style": "IPY_MODEL_7542bbcce9f242d1965a7303acf22458",
       "value": 16
      }
     },
     "b39fb3d5d60344ea994e6d18e4dee4d6": {
      "model_module": "@jupyter-widgets/controls",
      "model_module_version": "2.0.0",
      "model_name": "ButtonModel",
      "state": {
       "description": "Collect (c)",
       "layout": "IPY_MODEL_e65c51579a504163ba04f394df2a8085",
       "style": "IPY_MODEL_cf13dc2d30b942e7b7e89dc6ecdd4fde",
       "tooltip": null
      }
     },
     "bf3e39c049f04a5ebfa5f283f43de91f": {
      "model_module": "@jupyter-widgets/controls",
      "model_module_version": "2.0.0",
      "model_name": "HBoxModel",
      "state": {
       "children": [
        "IPY_MODEL_c55b7cd3e9e346859b73752d1e417cd9",
        "IPY_MODEL_f4b1e022ea3c42d1b6f93485871034a9",
        "IPY_MODEL_b39fb3d5d60344ea994e6d18e4dee4d6",
        "IPY_MODEL_3fc3fc5b35c74fb3aad01b2db42c58d0"
       ],
       "layout": "IPY_MODEL_8e6f232260a94644a0b59de536d21564"
      }
     },
     "c55b7cd3e9e346859b73752d1e417cd9": {
      "model_module": "@jupyter-widgets/controls",
      "model_module_version": "2.0.0",
      "model_name": "ButtonModel",
      "state": {
       "description": "Delete",
       "layout": "IPY_MODEL_77f2a06092be47698ae29469dfcee4bb",
       "style": "IPY_MODEL_2ae1472825fd4fd2bdb3dd1c171967a4",
       "tooltip": null
      }
     },
     "c668bf15ac264534835786794fd34377": {
      "model_module": "@jupyter-widgets/controls",
      "model_module_version": "2.0.0",
      "model_name": "ButtonStyleModel",
      "state": {
       "font_family": null,
       "font_size": null,
       "font_style": null,
       "font_variant": null,
       "font_weight": null,
       "text_color": null,
       "text_decoration": null
      }
     },
     "cbfe12d5564b47d68afc15776a594cf8": {
      "buffers": [
       {
        "data": "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",
        "encoding": "base64",
        "path": [
         "value"
        ]
       }
      ],
      "model_module": "@jupyter-widgets/controls",
      "model_module_version": "2.0.0",
      "model_name": "ImageModel",
      "state": {
       "layout": "IPY_MODEL_24db7881163d43edbe812eb505cd52f8"
      }
     },
     "cf13dc2d30b942e7b7e89dc6ecdd4fde": {
      "model_module": "@jupyter-widgets/controls",
      "model_module_version": "2.0.0",
      "model_name": "ButtonStyleModel",
      "state": {
       "font_family": null,
       "font_size": null,
       "font_style": null,
       "font_variant": null,
       "font_weight": null,
       "text_color": null,
       "text_decoration": null
      }
     },
     "e65c51579a504163ba04f394df2a8085": {
      "model_module": "@jupyter-widgets/base",
      "model_module_version": "2.0.0",
      "model_name": "LayoutModel",
      "state": {}
     },
     "f4b1e022ea3c42d1b6f93485871034a9": {
      "model_module": "@jupyter-widgets/controls",
      "model_module_version": "2.0.0",
      "model_name": "ButtonModel",
      "state": {
       "description": "Reset (r)",
       "layout": "IPY_MODEL_624c37c203f74243a12118d1a5d06613",
       "style": "IPY_MODEL_8f7004c242a74cabb1c0177635f906c2",
       "tooltip": null
      }
     },
     "f5e4a2fb68b34f5284c00818375e251d": {
      "model_module": "ipyevents",
      "model_module_version": "2.0.2",
      "model_name": "EventModel",
      "state": {
       "_supported_key_events": [
        "keydown",
        "keyup"
       ],
       "_supported_mouse_events": [
        "click",
        "auxclick",
        "dblclick",
        "mouseenter",
        "mouseleave",
        "mousedown",
        "mouseup",
        "mousemove",
        "wheel",
        "contextmenu",
        "dragstart",
        "drag",
        "dragend",
        "dragenter",
        "dragover",
        "dragleave",
        "drop"
       ],
       "_supported_touch_events": [
        "touchstart",
        "touchend",
        "touchmove",
        "touchcancel"
       ],
       "_view_module": "@jupyter-widgets/controls",
       "source": "IPY_MODEL_54fc0e63d2154a1997fd86c8d92acde2",
       "throttle_or_debounce": "",
       "watched_events": [
        "click",
        "keydown",
        "keyup",
        "mousemove"
       ],
       "xy_coordinate_system": ""
      }
     },
     "f7f40d578f6b4aa6bc453cc491e462d0": {
      "model_module": "@jupyter-widgets/base",
      "model_module_version": "2.0.0",
      "model_name": "LayoutModel",
      "state": {}
     },
     "fb77176f8f77487c97adc2a51dfb6ab5": {
      "model_module": "@jupyter-widgets/base",
      "model_module_version": "2.0.0",
      "model_name": "LayoutModel",
      "state": {}
     }
    },
    "version_major": 2,
    "version_minor": 0
   }
  }
 },
 "nbformat": 4,
 "nbformat_minor": 4
}
