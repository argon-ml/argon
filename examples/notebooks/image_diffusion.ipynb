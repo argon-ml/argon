{
 "cells": [
  {
   "cell_type": "code",
   "execution_count": 1,
   "metadata": {},
   "outputs": [],
   "source": [
    "import stanza.runtime\n",
    "stanza.runtime.setup() # setup logging, etc.\n",
    "\n",
    "from IPython.display import display\n",
    "\n",
    "import stanza.util.ipython as ipyutil\n",
    "from stanza.graphics import image_grid\n",
    "from functools import partial\n",
    "\n",
    "import jax\n",
    "import jax.flatten_util\n",
    "import matplotlib.pyplot as plt\n",
    "import jax.numpy as jnp\n",
    "\n",
    "from stanza.diffusion import DDPMSchedule\n",
    "from stanza.datasets import image_datasets\n",
    "\n",
    "import logging\n",
    "logger = logging.getLogger(\"image_diffusion\")\n",
    "logger.setLevel(logging.DEBUG)\n",
    "\n",
    "DATASET = \"mnist\"\n",
    "\n",
    "dataset = image_datasets.create(DATASET)\n",
    "train_data = dataset.splits[\"train\"]\n",
    "normalizer = dataset.normalizers[\"hypercube\"]\n",
    "\n",
    "schedule = DDPMSchedule.make_squaredcos_cap_v2(50)"
   ]
  },
  {
   "cell_type": "code",
   "execution_count": 2,
   "metadata": {},
   "outputs": [
    {
     "data": {
      "application/vnd.jupyter.widget-view+json": {
       "model_id": "b64b7d64f33c40788ef961bb9a684c41",
       "version_major": 2,
       "version_minor": 0
      },
      "text/plain": [
       "HBox(children=(HTML(value='<style>\\n.cell-output-ipywidget-background {\\n    background-color: transparent !im…"
      ]
     },
     "metadata": {},
     "output_type": "display_data"
    }
   ],
   "source": [
    "if True:\n",
    "    normalized = jax.vmap(normalizer.normalize)(train_data.slice(0, 32)) # len(train_data)))\n",
    "    @partial(jax.jit)\n",
    "    def sample(rng_key):\n",
    "        def gt_denoiser(_, x, t):\n",
    "            denoised = schedule.compute_denoised(x, t, normalized)\n",
    "            return schedule.output_from_denoised(x, t, denoised)\n",
    "        return normalizer.unnormalize(schedule.sample(rng_key, gt_denoiser, normalizer.structure))\n",
    "    samples = jax.vmap(sample)(jax.random.split(jax.random.PRNGKey(43), 10))\n",
    "    from IPython.display import display\n",
    "    from stanza.train.reporting import Image\n",
    "    display(Image(image_grid(samples)))"
   ]
  },
  {
   "cell_type": "code",
   "execution_count": 3,
   "metadata": {},
   "outputs": [
    {
     "data": {
      "application/vnd.jupyter.widget-view+json": {
       "model_id": "644915b22c6c43aea18ee99469ccb6a1",
       "version_major": 2,
       "version_minor": 0
      },
      "text/plain": [
       "HBox(children=(HTML(value='<style>\\n.cell-output-ipywidget-background {\\n    background-color: transparent !im…"
      ]
     },
     "metadata": {},
     "output_type": "display_data"
    },
    {
     "data": {
      "application/vnd.jupyter.widget-view+json": {
       "model_id": "eb6b1eb48d804645b7b27ae5ddf31af0",
       "version_major": 2,
       "version_minor": 0
      },
      "text/plain": [
       "HBox(children=(HTML(value='<style>\\n.cell-output-ipywidget-background {\\n    background-color: transparent !im…"
      ]
     },
     "metadata": {},
     "output_type": "display_data"
    },
    {
     "data": {
      "application/vnd.jupyter.widget-view+json": {
       "model_id": "6eb3c371837143cc9de331e0c6567fe3",
       "version_major": 2,
       "version_minor": 0
      },
      "text/plain": [
       "HBox(children=(HTML(value='<style>\\n.cell-output-ipywidget-background {\\n    background-color: transparent !im…"
      ]
     },
     "metadata": {},
     "output_type": "display_data"
    },
    {
     "data": {
      "application/vnd.jupyter.widget-view+json": {
       "model_id": "9840124752ea400db0cf20e767ad1651",
       "version_major": 2,
       "version_minor": 0
      },
      "text/plain": [
       "HBox(children=(HTML(value='<style>\\n.cell-output-ipywidget-background {\\n    background-color: transparent !im…"
      ]
     },
     "metadata": {},
     "output_type": "display_data"
    },
    {
     "data": {
      "application/vnd.jupyter.widget-view+json": {
       "model_id": "34b34ac6c6e84c50b3bc8da88e9f035d",
       "version_major": 2,
       "version_minor": 0
      },
      "text/plain": [
       "HBox(children=(HTML(value='<style>\\n.cell-output-ipywidget-background {\\n    background-color: transparent !im…"
      ]
     },
     "metadata": {},
     "output_type": "display_data"
    },
    {
     "ename": "KeyboardInterrupt",
     "evalue": "",
     "output_type": "error",
     "traceback": [
      "\u001b[0;31m---------------------------------------------------------------------------\u001b[0m",
      "\u001b[0;31mKeyboardInterrupt\u001b[0m                         Traceback (most recent call last)",
      "File \u001b[0;32m~/Documents/code/barrier-imitation-learning/stanza/src/stanza/train/__init__.py:161\u001b[0m, in \u001b[0;36mfit\u001b[0;34m(data, rng_key, optimizer, batch_loss_fn, init_vars, init_opt_state, donate_init_vars, donate_init_opt_state, max_epochs, max_iterations, batch_size, hooks, trace_dir)\u001b[0m\n\u001b[1;32m    160\u001b[0m \u001b[38;5;28;01mfor\u001b[39;00m i, batch \u001b[38;5;129;01min\u001b[39;00m \u001b[38;5;28menumerate\u001b[39m(dataloader):\n\u001b[0;32m--> 161\u001b[0m     opt_state, \u001b[38;5;28mvars\u001b[39m, stats \u001b[38;5;241m=\u001b[39m \u001b[43m_update\u001b[49m\u001b[43m(\u001b[49m\n\u001b[1;32m    162\u001b[0m \u001b[43m        \u001b[49m\u001b[43mbatch_loss_fn\u001b[49m\u001b[43m,\u001b[49m\u001b[43m \u001b[49m\u001b[43moptimizer\u001b[49m\u001b[43m,\u001b[49m\n\u001b[1;32m    163\u001b[0m \u001b[43m        \u001b[49m\u001b[43mopt_state\u001b[49m\u001b[43m,\u001b[49m\u001b[43m \u001b[49m\u001b[38;5;28;43mvars\u001b[39;49m\u001b[43m,\u001b[49m\n\u001b[1;32m    164\u001b[0m \u001b[43m        \u001b[49m\u001b[43miteration\u001b[49m\u001b[43m,\u001b[49m\u001b[43m \u001b[49m\u001b[38;5;28;43mnext\u001b[39;49m\u001b[43m(\u001b[49m\u001b[43mrng\u001b[49m\u001b[43m)\u001b[49m\u001b[43m,\u001b[49m\u001b[43m \u001b[49m\u001b[43mbatch\u001b[49m\n\u001b[1;32m    165\u001b[0m \u001b[43m    \u001b[49m\u001b[43m)\u001b[49m\n\u001b[1;32m    166\u001b[0m     state \u001b[38;5;241m=\u001b[39m TrainState(\n\u001b[1;32m    167\u001b[0m         max_iterations, max_epochs,\n\u001b[1;32m    168\u001b[0m         iterations_per_epoch,\n\u001b[0;32m   (...)\u001b[0m\n\u001b[1;32m    171\u001b[0m         stats\n\u001b[1;32m    172\u001b[0m     )\n",
      "File \u001b[0;32m<string>:1\u001b[0m, in \u001b[0;36m<lambda>\u001b[0;34m(_cls, count, mu, nu)\u001b[0m\n",
      "\u001b[0;31mKeyboardInterrupt\u001b[0m: ",
      "\nDuring handling of the above exception, another exception occurred:\n",
      "\u001b[0;31mKeyboardInterrupt\u001b[0m                         Traceback (most recent call last)",
      "Cell \u001b[0;32mIn[3], line 50\u001b[0m\n\u001b[1;32m     48\u001b[0m batch_size \u001b[38;5;241m=\u001b[39m \u001b[38;5;241m64\u001b[39m\n\u001b[1;32m     49\u001b[0m iterations \u001b[38;5;241m=\u001b[39m epochs\u001b[38;5;241m*\u001b[39m\u001b[38;5;28mlen\u001b[39m(dataset\u001b[38;5;241m.\u001b[39msplits[\u001b[38;5;124m\"\u001b[39m\u001b[38;5;124mtrain\u001b[39m\u001b[38;5;124m\"\u001b[39m])\u001b[38;5;241m/\u001b[39m\u001b[38;5;241m/\u001b[39mbatch_size\n\u001b[0;32m---> 50\u001b[0m trained_params \u001b[38;5;241m=\u001b[39m \u001b[43mst\u001b[49m\u001b[38;5;241;43m.\u001b[39;49m\u001b[43mfit\u001b[49m\u001b[43m(\u001b[49m\n\u001b[1;32m     51\u001b[0m \u001b[43m    \u001b[49m\u001b[43mdata\u001b[49m\u001b[38;5;241;43m=\u001b[39;49m\u001b[43mdataset\u001b[49m\u001b[38;5;241;43m.\u001b[39;49m\u001b[43msplits\u001b[49m\u001b[43m[\u001b[49m\u001b[38;5;124;43m\"\u001b[39;49m\u001b[38;5;124;43mtrain\u001b[39;49m\u001b[38;5;124;43m\"\u001b[39;49m\u001b[43m]\u001b[49m\u001b[43m,\u001b[49m\n\u001b[1;32m     52\u001b[0m \u001b[43m    \u001b[49m\u001b[43mbatch_loss_fn\u001b[49m\u001b[38;5;241;43m=\u001b[39;49m\u001b[43mst\u001b[49m\u001b[38;5;241;43m.\u001b[39;49m\u001b[43mbatch_loss\u001b[49m\u001b[43m(\u001b[49m\u001b[43mloss_fn\u001b[49m\u001b[43m)\u001b[49m\u001b[43m,\u001b[49m\n\u001b[1;32m     53\u001b[0m \u001b[43m    \u001b[49m\u001b[43minit_vars\u001b[49m\u001b[38;5;241;43m=\u001b[39;49m\u001b[43minit_params\u001b[49m\u001b[43m,\u001b[49m\n\u001b[1;32m     54\u001b[0m \u001b[43m    \u001b[49m\u001b[43mrng_key\u001b[49m\u001b[38;5;241;43m=\u001b[39;49m\u001b[43mjax\u001b[49m\u001b[38;5;241;43m.\u001b[39;49m\u001b[43mrandom\u001b[49m\u001b[38;5;241;43m.\u001b[39;49m\u001b[43mPRNGKey\u001b[49m\u001b[43m(\u001b[49m\u001b[38;5;241;43m42\u001b[39;49m\u001b[43m)\u001b[49m\u001b[43m,\u001b[49m\n\u001b[1;32m     55\u001b[0m \u001b[43m    \u001b[49m\u001b[43moptimizer\u001b[49m\u001b[38;5;241;43m=\u001b[39;49m\u001b[43moptax\u001b[49m\u001b[38;5;241;43m.\u001b[39;49m\u001b[43madamw\u001b[49m\u001b[43m(\u001b[49m\u001b[43moptax\u001b[49m\u001b[38;5;241;43m.\u001b[39;49m\u001b[43mcosine_decay_schedule\u001b[49m\u001b[43m(\u001b[49m\u001b[38;5;241;43m3e-4\u001b[39;49m\u001b[43m,\u001b[49m\u001b[43m \u001b[49m\u001b[43miterations\u001b[49m\u001b[43m)\u001b[49m\u001b[43m)\u001b[49m\u001b[43m,\u001b[49m\n\u001b[1;32m     56\u001b[0m \u001b[43m    \u001b[49m\u001b[43mmax_epochs\u001b[49m\u001b[38;5;241;43m=\u001b[39;49m\u001b[43mepochs\u001b[49m\u001b[43m,\u001b[49m\n\u001b[1;32m     57\u001b[0m \u001b[43m    \u001b[49m\u001b[43mbatch_size\u001b[49m\u001b[38;5;241;43m=\u001b[39;49m\u001b[43mbatch_size\u001b[49m\u001b[43m,\u001b[49m\n\u001b[1;32m     58\u001b[0m \u001b[43m    \u001b[49m\u001b[43mhooks\u001b[49m\u001b[38;5;241;43m=\u001b[39;49m\u001b[43m[\u001b[49m\n\u001b[1;32m     59\u001b[0m \u001b[43m        \u001b[49m\u001b[43mst\u001b[49m\u001b[38;5;241;43m.\u001b[39;49m\u001b[43mevery_n_iterations\u001b[49m\u001b[43m(\u001b[49m\u001b[38;5;241;43m500\u001b[39;49m\u001b[43m,\u001b[49m\u001b[43m \u001b[49m\u001b[43mst\u001b[49m\u001b[38;5;241;43m.\u001b[39;49m\u001b[43mconsole_logger\u001b[49m\u001b[43m(\u001b[49m\u001b[43mprefix\u001b[49m\u001b[38;5;241;43m=\u001b[39;49m\u001b[38;5;124;43m\"\u001b[39;49m\u001b[38;5;124;43mtrain.\u001b[39;49m\u001b[38;5;124;43m\"\u001b[39;49m\u001b[43m,\u001b[49m\u001b[43m \u001b[49m\u001b[43mmetrics\u001b[49m\u001b[38;5;241;43m=\u001b[39;49m\u001b[38;5;28;43;01mTrue\u001b[39;49;00m\u001b[43m)\u001b[49m\u001b[43m)\u001b[49m\u001b[43m,\u001b[49m\n\u001b[1;32m     60\u001b[0m \u001b[43m        \u001b[49m\u001b[43mst\u001b[49m\u001b[38;5;241;43m.\u001b[39;49m\u001b[43mevery_epoch\u001b[49m\u001b[43m(\u001b[49m\u001b[43mst\u001b[49m\u001b[38;5;241;43m.\u001b[39;49m\u001b[43mvalidate\u001b[49m\u001b[43m(\u001b[49m\n\u001b[1;32m     61\u001b[0m \u001b[43m                \u001b[49m\u001b[43mdata\u001b[49m\u001b[38;5;241;43m=\u001b[39;49m\u001b[43mdataset\u001b[49m\u001b[38;5;241;43m.\u001b[39;49m\u001b[43msplits\u001b[49m\u001b[43m[\u001b[49m\u001b[38;5;124;43m\"\u001b[39;49m\u001b[38;5;124;43mtrain\u001b[39;49m\u001b[38;5;124;43m\"\u001b[39;49m\u001b[43m]\u001b[49m\u001b[43m,\u001b[49m\n\u001b[1;32m     62\u001b[0m \u001b[43m                \u001b[49m\u001b[43mbatch_size\u001b[49m\u001b[38;5;241;43m=\u001b[39;49m\u001b[43mbatch_size\u001b[49m\u001b[43m,\u001b[49m\n\u001b[1;32m     63\u001b[0m \u001b[43m                \u001b[49m\u001b[43mbatch_loss_fn\u001b[49m\u001b[38;5;241;43m=\u001b[39;49m\u001b[43mst\u001b[49m\u001b[38;5;241;43m.\u001b[39;49m\u001b[43mbatch_loss\u001b[49m\u001b[43m(\u001b[49m\u001b[43mcompute_metrics\u001b[49m\u001b[43m)\u001b[49m\u001b[43m,\u001b[49m\n\u001b[1;32m     64\u001b[0m \u001b[43m                \u001b[49m\u001b[43mlog_hooks\u001b[49m\u001b[38;5;241;43m=\u001b[39;49m\u001b[43m[\u001b[49m\u001b[43mst\u001b[49m\u001b[38;5;241;43m.\u001b[39;49m\u001b[43mconsole_logger\u001b[49m\u001b[43m(\u001b[49m\u001b[43mprefix\u001b[49m\u001b[38;5;241;43m=\u001b[39;49m\u001b[38;5;124;43m\"\u001b[39;49m\u001b[38;5;124;43mvalidation.\u001b[39;49m\u001b[38;5;124;43m\"\u001b[39;49m\u001b[43m)\u001b[49m\u001b[43m]\u001b[49m\n\u001b[1;32m     65\u001b[0m \u001b[43m            \u001b[49m\u001b[43m)\u001b[49m\u001b[43m,\u001b[49m\n\u001b[1;32m     66\u001b[0m \u001b[43m        \u001b[49m\u001b[43m)\u001b[49m\u001b[43m,\u001b[49m\n\u001b[1;32m     67\u001b[0m \u001b[43m        \u001b[49m\u001b[43mst\u001b[49m\u001b[38;5;241;43m.\u001b[39;49m\u001b[43mevery_n_epochs\u001b[49m\u001b[43m(\u001b[49m\u001b[38;5;241;43m2\u001b[39;49m\u001b[43m,\u001b[49m\n\u001b[1;32m     68\u001b[0m \u001b[43m            \u001b[49m\u001b[43mst\u001b[49m\u001b[38;5;241;43m.\u001b[39;49m\u001b[43mipython\u001b[49m\u001b[38;5;241;43m.\u001b[39;49m\u001b[43mdisplay_logger\u001b[49m\u001b[43m(\u001b[49m\u001b[43mgenerate_hook\u001b[49m\u001b[43m)\u001b[49m\n\u001b[1;32m     69\u001b[0m \u001b[43m        \u001b[49m\u001b[43m)\u001b[49m\n\u001b[1;32m     70\u001b[0m \u001b[43m    \u001b[49m\u001b[43m]\u001b[49m\n\u001b[1;32m     71\u001b[0m \u001b[43m)\u001b[49m\n",
      "File \u001b[0;32m~/Documents/code/barrier-imitation-learning/stanza/src/stanza/train/__init__.py:196\u001b[0m, in \u001b[0;36mfit\u001b[0;34m(data, rng_key, optimizer, batch_loss_fn, init_vars, init_opt_state, donate_init_vars, donate_init_opt_state, max_epochs, max_iterations, batch_size, hooks, trace_dir)\u001b[0m\n\u001b[1;32m    194\u001b[0m     cmd \u001b[38;5;241m=\u001b[39m \u001b[38;5;124m\"\u001b[39m\u001b[38;5;124mps aux|grep wandb|grep -v grep | awk \u001b[39m\u001b[38;5;124m'\u001b[39m\u001b[38;5;130;01m\\'\u001b[39;00m\u001b[38;5;124m'\u001b[39m\u001b[38;5;124m{\u001b[39m\u001b[38;5;124mprint $2}\u001b[39m\u001b[38;5;124m'\u001b[39m\u001b[38;5;130;01m\\'\u001b[39;00m\u001b[38;5;124m'\u001b[39m\u001b[38;5;124m|xargs kill -9\u001b[39m\u001b[38;5;124m\"\u001b[39m\n\u001b[1;32m    195\u001b[0m     os\u001b[38;5;241m.\u001b[39msystem(cmd)\n\u001b[0;32m--> 196\u001b[0m     \u001b[38;5;28;01mraise\u001b[39;00m \u001b[38;5;167;01mKeyboardInterrupt\u001b[39;00m\n\u001b[1;32m    197\u001b[0m \u001b[38;5;28;01mfinally\u001b[39;00m:\n\u001b[1;32m    198\u001b[0m     \u001b[38;5;28;01mif\u001b[39;00m trace_dir \u001b[38;5;129;01mis\u001b[39;00m \u001b[38;5;129;01mnot\u001b[39;00m \u001b[38;5;28;01mNone\u001b[39;00m:\n",
      "\u001b[0;31mKeyboardInterrupt\u001b[0m: "
     ]
    }
   ],
   "source": [
    "from stanza.nn.unet import DiffusionUNet\n",
    "from stanza.nn.mlp import DiffusionMLP\n",
    "from stanza import train as st\n",
    "import stanza.train.ipython\n",
    "import stanza.graphics\n",
    "import optax\n",
    "\n",
    "model = DiffusionUNet(base_channels=32, time_embed_dim=64)\n",
    "# model = DiffusionMLP([1], time_embed_dim=32)\n",
    "init_params = jax.jit(model.init)(\n",
    "    jax.random.PRNGKey(42),\n",
    "    dataset.splits[\"train\"][0], timestep=0)\n",
    "total_params = jax.tree_util.tree_reduce(lambda x, y: x + y.size, init_params, 0)\n",
    "logger.info(f\"Total number of parameters: {total_params}\")\n",
    "\n",
    "def loss_fn(params, _iteration, rng_key, sample):\n",
    "    denoiser = lambda _, x, t: model.apply(params, x, t - 1)\n",
    "    loss = schedule.loss(rng_key, denoiser, sample)\n",
    "    return st.LossOutput(\n",
    "        loss=loss,\n",
    "        metrics={\"loss\": loss}\n",
    "    )\n",
    "\n",
    "def compute_metrics(params, _iteration, rng_key, sample):\n",
    "    denoiser = lambda _, x, t: model.apply(params, x, t - 1)\n",
    "    t_rng, n_rng = jax.random.split(rng_key)\n",
    "    t = jax.random.randint(t_rng, (), 1, schedule.num_steps + 1)\n",
    "    schedule.add_noise(n_rng, sample, t)\n",
    "    return st.LossOutput(metrics={\n",
    "    })\n",
    "\n",
    "@jax.jit\n",
    "def generate_samples(params, rng_key):\n",
    "    @jax.jit\n",
    "    def sample(vars, rng_key):\n",
    "        denoiser = lambda _, x, t: model.apply(vars, x, t - 1)\n",
    "        return normalizer.unnormalize(schedule.sample(rng_key, denoiser, normalizer.structure))\n",
    "    sample = jax.vmap(sample, in_axes=(None, 0))\n",
    "    samples = sample(params, jax.random.split(rng_key, 64))\n",
    "    return stanza.graphics.image_grid(samples)\n",
    "\n",
    "def generate_hook(rng, train_state):\n",
    "    return {\n",
    "        \"samples\": st.Image(generate_samples(train_state.vars, next(rng)))\n",
    "    }\n",
    "\n",
    "epochs = 100\n",
    "batch_size = 64\n",
    "iterations = epochs*len(dataset.splits[\"train\"])//batch_size\n",
    "trained_params = st.fit(\n",
    "    data=dataset.splits[\"train\"],\n",
    "    batch_loss_fn=st.batch_loss(loss_fn),\n",
    "    init_vars=init_params,\n",
    "    rng_key=jax.random.PRNGKey(42),\n",
    "    optimizer=optax.adamw(optax.cosine_decay_schedule(3e-4, iterations)),\n",
    "    max_epochs=epochs,\n",
    "    batch_size=batch_size,\n",
    "    hooks=[\n",
    "        st.every_n_iterations(500, st.console_logger(prefix=\"train.\", metrics=True)),\n",
    "        st.every_epoch(st.validate(\n",
    "                data=dataset.splits[\"train\"],\n",
    "                batch_size=batch_size,\n",
    "                batch_loss_fn=st.batch_loss(compute_metrics),\n",
    "                log_hooks=[st.console_logger(prefix=\"validation.\")]\n",
    "            ),\n",
    "        ),\n",
    "        st.every_n_epochs(2,\n",
    "            st.ipython.display_logger(generate_hook)\n",
    "        )\n",
    "    ]\n",
    ")"
   ]
  },
  {
   "cell_type": "code",
   "execution_count": null,
   "metadata": {},
   "outputs": [],
   "source": [
    "def sample(rng_key):\n",
    "    model = lambda _, x, t: model.apply(trained_params, x, timestep=t)\n",
    "    schedule.sample(rng_key, model, structure=jax.ShapeDtypeStruct((28, 28, 1), jnp.float32))"
   ]
  }
 ],
 "metadata": {
  "kernelspec": {
   "display_name": ".venv",
   "language": "python",
   "name": "python3"
  },
  "language_info": {
   "codemirror_mode": {
    "name": "ipython",
    "version": 3
   },
   "file_extension": ".py",
   "mimetype": "text/x-python",
   "name": "python",
   "nbconvert_exporter": "python",
   "pygments_lexer": "ipython3",
   "version": "3.10.13"
  }
 },
 "nbformat": 4,
 "nbformat_minor": 2
}
