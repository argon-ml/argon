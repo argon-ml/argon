{
 "cells": [
  {
   "cell_type": "code",
   "execution_count": 121,
   "metadata": {},
   "outputs": [
    {
     "name": "stdout",
     "output_type": "stream",
     "text": [
      "The autoreload extension is already loaded. To reload it, use:\n",
      "  %reload_ext autoreload\n"
     ]
    }
   ],
   "source": [
    "%load_ext autoreload\n",
    "%autoreload 2\n",
    "%aimport -jax\n",
    "%aimport -jaxlib"
   ]
  },
  {
   "cell_type": "code",
   "execution_count": 200,
   "metadata": {},
   "outputs": [],
   "source": [
    "from jax.random import PRNGKey\n",
    "import jax.numpy as jnp\n",
    "import jax\n",
    "\n",
    "from stanza.envs.pymunk import PyMunkEnv, BodyState\n",
    "import pymunk\n",
    "\n",
    "def make_space(rng_key):\n",
    "    space = pymunk.Space()\n",
    "    space.gravity = (0, -9.8)\n",
    "    body = pymunk.Body(1.0, 1.0)\n",
    "    body.name = 'circle'\n",
    "    space.add(body, pymunk.Circle(body, 1.0))\n",
    "    return space\n",
    "\n",
    "env = PyMunkEnv(width=15., height=15.,\n",
    "    sim_hz=100., space_builder=make_space)\n",
    "state = env.reset(PRNGKey(0))\n",
    "state = env.step(state, None, None)"
   ]
  },
  {
   "cell_type": "code",
   "execution_count": 201,
   "metadata": {},
   "outputs": [],
   "source": [
    "import stanza.policies as policies\n",
    "rollout = policies.rollout(env.step, state, length=100)"
   ]
  },
  {
   "cell_type": "code",
   "execution_count": 206,
   "metadata": {},
   "outputs": [
    {
     "data": {
      "image/png": "[encoded data removed]",
      "text/plain": [
       "<PIL.Image.Image image mode=RGB size=256x256>"
      ]
     },
     "metadata": {},
     "output_type": "display_data"
    }
   ],
   "source": [
    "import IPython.display as display\n",
    "last_state = jax.tree_map(lambda x: x[-1], rollout.states)\n",
    "img = env.render(last_state)\n",
    "from PIL import Image\n",
    "import numpy as np\n",
    "img = Image.fromarray(np.array((255*img).astype(np.uint8)), 'RGB')\n",
    "display.display(img)"
   ]
  }
 ],
 "metadata": {
  "kernelspec": {
   "display_name": "stable-imitation-xgmIXOER-py3.11",
   "language": "python",
   "name": "python3"
  },
  "language_info": {
   "codemirror_mode": {
    "name": "ipython",
    "version": 3
   },
   "file_extension": ".py",
   "mimetype": "text/x-python",
   "name": "python",
   "nbconvert_exporter": "python",
   "pygments_lexer": "ipython3",
   "version": "3.11.3"
  },
  "orig_nbformat": 4
 },
 "nbformat": 4,
 "nbformat_minor": 2
}
