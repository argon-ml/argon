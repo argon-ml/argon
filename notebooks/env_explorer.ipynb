{
 "cells": [
  {
   "cell_type": "code",
   "execution_count": null,
   "metadata": {},
   "outputs": [],
   "source": [
    "from argon.util.registry import Registry\n",
    "\n",
    "registery = Registry()\n",
    "\n",
    "import argon.env.controls\n",
    "import argon.env.mujoco\n",
    "\n",
    "argon.env.mujoco.register_all(registry)"
   ]
  }
 ],
 "metadata": {
  "language_info": {
   "name": "python"
  }
 },
 "nbformat": 4,
 "nbformat_minor": 2
}
