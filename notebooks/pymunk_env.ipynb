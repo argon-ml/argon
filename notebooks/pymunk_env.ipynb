{
 "cells": [
  {
   "cell_type": "code",
   "execution_count": 1,
   "metadata": {},
   "outputs": [],
   "source": [
    "%load_ext autoreload\n",
    "%autoreload 2\n",
    "%aimport -jax\n",
    "%aimport -jaxlib"
   ]
  },
  {
   "cell_type": "code",
   "execution_count": 2,
   "metadata": {},
   "outputs": [],
   "source": [
    "from jax.random import PRNGKey\n",
    "import jax.numpy as jnp\n",
    "import numpy as np\n",
    "import jax\n",
    "\n",
    "from stanza.envs.pymunk import PyMunkEnv, BodyState\n",
    "import pymunk\n",
    "\n",
    "def make_space(rng_key):\n",
    "    space = pymunk.Space()\n",
    "    space.gravity = (0, -9.8)\n",
    "    body = pymunk.Body(1.0, 1.0)\n",
    "    pos = jax.random.uniform(rng_key, (2,), minval=-1., maxval=1.)\n",
    "    body.position = (10 + pos[0], 10 + pos[1])\n",
    "    body.name = 'circle'\n",
    "    space.add(body, pymunk.Circle(body, 1.0))\n",
    "    return space\n",
    "\n",
    "env = PyMunkEnv(width=15., height=15.,\n",
    "    sim_hz=100., space_builder=make_space)\n",
    "state = env.reset(PRNGKey(0))\n",
    "state = env.step(state, None, None)"
   ]
  },
  {
   "cell_type": "code",
   "execution_count": 3,
   "metadata": {},
   "outputs": [],
   "source": [
    "import stanza.policies as policies\n",
    "rollout = policies.rollout(env.step, state, length=100)"
   ]
  },
  {
   "cell_type": "code",
   "execution_count": 4,
   "metadata": {},
   "outputs": [
    {
     "name": "stdout",
     "output_type": "stream",
     "text": [
      "{'circle': BodyState(position=Array([9.4325905, 5.757246 ], dtype=float32), velocity=Array([ 0.      , -9.799995], dtype=float32), angle=Array(0., dtype=float32), angular_velocity=Array(0., dtype=float32))}\n"
     ]
    },
    {
     "data": {
      "image/png": "[encoded data removed]",
      "text/plain": [
       "<IPython.core.display.Image object>"
      ]
     },
     "execution_count": 4,
     "metadata": {},
     "output_type": "execute_result"
    }
   ],
   "source": [
    "last_state = jax.tree_map(lambda x: x[-1], rollout.states)\n",
    "print(last_state)\n",
    "img = env.render(last_state)\n",
    "from stanza.util.ipython import display_image\n",
    "display_image(img)"
   ]
  },
  {
   "cell_type": "code",
   "execution_count": 5,
   "metadata": {},
   "outputs": [
    {
     "ename": "TypeError",
     "evalue": "display_video() got multiple values for argument 'fps'",
     "output_type": "error",
     "traceback": [
      "\u001b[0;31m---------------------------------------------------------------------------\u001b[0m",
      "\u001b[0;31mTypeError\u001b[0m                                 Traceback (most recent call last)",
      "\u001b[1;32m/home/daniel/Documents/code/stable_imitation/stanza/notebooks/pymunk_env.ipynb Cell 5\u001b[0m line \u001b[0;36m3\n\u001b[1;32m      <a href='vscode-notebook-cell://ssh-remote%2Bkronos/home/daniel/Documents/code/stable_imitation/stanza/notebooks/pymunk_env.ipynb#W4sdnNjb2RlLXJlbW90ZQ%3D%3D?line=0'>1</a>\u001b[0m imgs \u001b[39m=\u001b[39m jax\u001b[39m.\u001b[39mvmap(env\u001b[39m.\u001b[39mrender)(rollout\u001b[39m.\u001b[39mstates)\n\u001b[1;32m      <a href='vscode-notebook-cell://ssh-remote%2Bkronos/home/daniel/Documents/code/stable_imitation/stanza/notebooks/pymunk_env.ipynb#W4sdnNjb2RlLXJlbW90ZQ%3D%3D?line=1'>2</a>\u001b[0m \u001b[39mfrom\u001b[39;00m \u001b[39mstanza\u001b[39;00m\u001b[39m.\u001b[39;00m\u001b[39mutil\u001b[39;00m\u001b[39m.\u001b[39;00m\u001b[39mipython\u001b[39;00m \u001b[39mimport\u001b[39;00m display_video\n\u001b[0;32m----> <a href='vscode-notebook-cell://ssh-remote%2Bkronos/home/daniel/Documents/code/stable_imitation/stanza/notebooks/pymunk_env.ipynb#W4sdnNjb2RlLXJlbW90ZQ%3D%3D?line=2'>3</a>\u001b[0m display_video(\u001b[39m\"\u001b[39;49m\u001b[39mpymunk.mp4\u001b[39;49m\u001b[39m\"\u001b[39;49m, imgs, fps\u001b[39m=\u001b[39;49m\u001b[39m100\u001b[39;49m)\n",
      "\u001b[0;31mTypeError\u001b[0m: display_video() got multiple values for argument 'fps'"
     ]
    }
   ],
   "source": [
    "imgs = jax.vmap(env.render)(rollout.states)\n",
    "from stanza.util.ipython import display_video\n",
    "display_video(imgs, fps=100)"
   ]
  },
  {
   "cell_type": "code",
   "execution_count": null,
   "metadata": {},
   "outputs": [
    {
     "name": "stdout",
     "output_type": "stream",
     "text": [
      "{'agent': BodyState(position=Array([143., 314.], dtype=float32), velocity=Array([0., 0.], dtype=float32), angle=Array(0., dtype=float32), angular_velocity=Array(0., dtype=float32)), 'block': BodyState(position=Array([275.49786, 439.79633], dtype=float32), velocity=Array([0., 0.], dtype=float32), angle=Array(1.9058363, dtype=float32), angular_velocity=Array(0., dtype=float32))}\n"
     ]
    },
    {
     "data": {
      "image/png": "[encoded data removed]",
      "text/plain": [
       "<IPython.core.display.Image object>"
      ]
     },
     "execution_count": 40,
     "metadata": {},
     "output_type": "execute_result"
    }
   ],
   "source": [
    "from stanza.envs.pusht import PushTEnv\n",
    "\n",
    "pusht_env = PushTEnv()\n",
    "print(pusht_env.reset(PRNGKey(0)))\n",
    "display_image(pusht_env.render(pusht_env.reset(PRNGKey(10))))"
   ]
  }
 ],
 "metadata": {
  "kernelspec": {
   "display_name": "stable-imitation-xgmIXOER-py3.11",
   "language": "python",
   "name": "python3"
  },
  "language_info": {
   "codemirror_mode": {
    "name": "ipython",
    "version": 3
   },
   "file_extension": ".py",
   "mimetype": "text/x-python",
   "name": "python",
   "nbconvert_exporter": "python",
   "pygments_lexer": "ipython3",
   "version": "3.11.5"
  },
  "orig_nbformat": 4
 },
 "nbformat": 4,
 "nbformat_minor": 2
}
