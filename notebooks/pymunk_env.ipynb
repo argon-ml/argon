{
 "cells": [
  {
   "cell_type": "code",
   "execution_count": 3,
   "metadata": {},
   "outputs": [
    {
     "name": "stdout",
     "output_type": "stream",
     "text": [
      "The autoreload extension is already loaded. To reload it, use:\n",
      "  %reload_ext autoreload\n"
     ]
    }
   ],
   "source": [
    "%load_ext autoreload\n",
    "%autoreload 2\n",
    "%aimport -jax\n",
    "%aimport -jaxlib"
   ]
  },
  {
   "cell_type": "code",
   "execution_count": 9,
   "metadata": {},
   "outputs": [],
   "source": [
    "from jax.random import PRNGKey\n",
    "import jax.numpy as jnp\n",
    "import numpy as np\n",
    "import jax\n",
    "\n",
    "from stanza.envs.pymunk import PyMunkEnv, BodyState\n",
    "import pymunk\n",
    "\n",
    "def make_space(rng_key):\n",
    "    space = pymunk.Space()\n",
    "    space.gravity = (0, -9.8)\n",
    "    body = pymunk.Body(1.0, 1.0)\n",
    "    pos = jax.random.uniform(rng_key, (2,), minval=-1., maxval=1.)\n",
    "    body.position = (10 + pos[0], 10 + pos[1])\n",
    "    body.name = 'circle'\n",
    "    space.add(body, pymunk.Circle(body, 1.0))\n",
    "    return space\n",
    "\n",
    "env = PyMunkEnv(width=15., height=15.,\n",
    "    sim_hz=100., space_builder=make_space)\n",
    "state = env.reset(PRNGKey(0))\n",
    "state = env.step(state, None, None)"
   ]
  },
  {
   "cell_type": "code",
   "execution_count": 10,
   "metadata": {},
   "outputs": [],
   "source": [
    "import stanza.policies as policies\n",
    "rollout = policies.rollout(env.step, state, length=100)"
   ]
  },
  {
   "cell_type": "code",
   "execution_count": 12,
   "metadata": {},
   "outputs": [
    {
     "name": "stdout",
     "output_type": "stream",
     "text": [
      "{'circle': BodyState(position=Array([9.4325905, 5.757246 ], dtype=float32), velocity=Array([ 0.      , -9.799995], dtype=float32), angle=Array(0., dtype=float32), angular_velocity=Array(0., dtype=float32))}\n"
     ]
    },
    {
     "name": "stderr",
     "output_type": "stream",
     "text": [
      "WARNING:root:Failed to auto-detect ffmpeg and ffprobe executable.\n"
     ]
    },
    {
     "data": {
      "image/png": "[encoded data removed]",
      "text/plain": [
       "<IPython.core.display.Image object>"
      ]
     },
     "execution_count": 12,
     "metadata": {},
     "output_type": "execute_result"
    }
   ],
   "source": [
    "last_state = jax.tree_map(lambda x: x[-1], rollout.states)\n",
    "print(last_state)\n",
    "img = env.render(last_state)\n",
    "from stanza.util.ipython import display_image\n",
    "display_image(img)"
   ]
  },
  {
   "cell_type": "code",
   "execution_count": 13,
   "metadata": {},
   "outputs": [
    {
     "ename": "FFmpegNotFound",
     "evalue": "FFmpeg executables not found. Run `ffmpegio.set_path()` first or place FFmpeg executables in auto-detectable path locations.",
     "output_type": "error",
     "traceback": [
      "\u001b[0;31m---------------------------------------------------------------------------\u001b[0m",
      "\u001b[0;31mKeyError\u001b[0m                                  Traceback (most recent call last)",
      "File \u001b[0;32m~/Documents/code/stable_imitation/stanza/.venv/lib/python3.11/site-packages/ffmpegio/caps.py:71\u001b[0m, in \u001b[0;36moptions\u001b[0;34m(type, name_only, return_desc)\u001b[0m\n\u001b[1;32m     70\u001b[0m \u001b[39mtry\u001b[39;00m:\n\u001b[0;32m---> 71\u001b[0m     opts \u001b[39m=\u001b[39m _cache[\u001b[39m\"\u001b[39;49m\u001b[39moptions\u001b[39;49m\u001b[39m\"\u001b[39;49m]\n\u001b[1;32m     72\u001b[0m \u001b[39mexcept\u001b[39;00m:\n",
      "\u001b[0;31mKeyError\u001b[0m: 'options'",
      "\nDuring handling of the above exception, another exception occurred:\n",
      "\u001b[0;31mFFmpegNotFound\u001b[0m                            Traceback (most recent call last)",
      "Cell \u001b[0;32mIn[13], line 3\u001b[0m\n\u001b[1;32m      1\u001b[0m imgs \u001b[39m=\u001b[39m jax\u001b[39m.\u001b[39mvmap(env\u001b[39m.\u001b[39mrender)(rollout\u001b[39m.\u001b[39mstates)\n\u001b[1;32m      2\u001b[0m \u001b[39mfrom\u001b[39;00m \u001b[39mstanza\u001b[39;00m\u001b[39m.\u001b[39;00m\u001b[39mutil\u001b[39;00m\u001b[39m.\u001b[39;00m\u001b[39mipython\u001b[39;00m \u001b[39mimport\u001b[39;00m display_video\n\u001b[0;32m----> 3\u001b[0m display_video(\u001b[39m\"\u001b[39;49m\u001b[39mpymunk.mp4\u001b[39;49m\u001b[39m\"\u001b[39;49m, imgs, fps\u001b[39m=\u001b[39;49m\u001b[39m100\u001b[39;49m)\n",
      "File \u001b[0;32m~/Documents/code/stable_imitation/stanza/stanza/util/ipython.py:23\u001b[0m, in \u001b[0;36mdisplay_video\u001b[0;34m(file_name, video_data, fps)\u001b[0m\n\u001b[1;32m     21\u001b[0m     \u001b[39mif\u001b[39;00m video_data\u001b[39m.\u001b[39mdtype \u001b[39m==\u001b[39m np\u001b[39m.\u001b[39mfloat32:\n\u001b[1;32m     22\u001b[0m         video_data \u001b[39m=\u001b[39m (\u001b[39m255\u001b[39m\u001b[39m*\u001b[39mvideo_data)\u001b[39m.\u001b[39mastype(np\u001b[39m.\u001b[39muint8)\n\u001b[0;32m---> 23\u001b[0m     ffmpegio\u001b[39m.\u001b[39;49mvideo\u001b[39m.\u001b[39;49mwrite(file_name, fps, video_data,\n\u001b[1;32m     24\u001b[0m                 overwrite\u001b[39m=\u001b[39;49m\u001b[39mTrue\u001b[39;49;00m, loglevel\u001b[39m=\u001b[39;49m\u001b[39m'\u001b[39;49m\u001b[39mquiet\u001b[39;49m\u001b[39m'\u001b[39;49m)\n\u001b[1;32m     25\u001b[0m \u001b[39mreturn\u001b[39;00m display\u001b[39m.\u001b[39mVideo(file_name)\n",
      "File \u001b[0;32m~/Documents/code/stable_imitation/stanza/.venv/lib/python3.11/site-packages/ffmpegio/video.py:292\u001b[0m, in \u001b[0;36mwrite\u001b[0;34m(url, rate_in, data, progress, overwrite, show_log, two_pass, pass1_omits, pass1_extras, extra_inputs, sp_kwargs, **options)\u001b[0m\n\u001b[1;32m    289\u001b[0m \u001b[39mif\u001b[39;00m pass1_extras \u001b[39mis\u001b[39;00m \u001b[39mnot\u001b[39;00m \u001b[39mNone\u001b[39;00m:\n\u001b[1;32m    290\u001b[0m     kwargs[\u001b[39m\"\u001b[39m\u001b[39mpass1_extras\u001b[39m\u001b[39m\"\u001b[39m] \u001b[39m=\u001b[39m [pass1_extras]\n\u001b[0;32m--> 292\u001b[0m out \u001b[39m=\u001b[39m (fp\u001b[39m.\u001b[39;49mrun_two_pass \u001b[39mif\u001b[39;49;00m two_pass \u001b[39melse\u001b[39;49;00m fp\u001b[39m.\u001b[39;49mrun)(ffmpeg_args, \u001b[39m*\u001b[39;49m\u001b[39m*\u001b[39;49mkwargs)\n\u001b[1;32m    293\u001b[0m \u001b[39mif\u001b[39;00m out\u001b[39m.\u001b[39mreturncode:\n\u001b[1;32m    294\u001b[0m     \u001b[39mraise\u001b[39;00m FFmpegError(out\u001b[39m.\u001b[39mstderr, show_log)\n",
      "File \u001b[0;32m~/Documents/code/stable_imitation/stanza/.venv/lib/python3.11/site-packages/ffmpegio/ffmpegprocess.py:428\u001b[0m, in \u001b[0;36mrun\u001b[0;34m(ffmpeg_args, hide_banner, progress, overwrite, capture_log, stdin, stdout, stderr, input, **other_popen_kwargs)\u001b[0m\n\u001b[1;32m    392\u001b[0m \u001b[39m\u001b[39m\u001b[39m\"\"\"run FFmpeg subprocess with standard pipes with a single transaction\u001b[39;00m\n\u001b[1;32m    393\u001b[0m \n\u001b[1;32m    394\u001b[0m \u001b[39m:param ffmpeg_args: FFmpeg argument options\u001b[39;00m\n\u001b[0;32m   (...)\u001b[0m\n\u001b[1;32m    422\u001b[0m \u001b[39m:rtype: subprocess.CompleteProcess\u001b[39;00m\n\u001b[1;32m    423\u001b[0m \u001b[39m\"\"\"\u001b[39;00m\n\u001b[1;32m    425\u001b[0m \u001b[39mwith\u001b[39;00m ProgressMonitorThread(progress) \u001b[39mas\u001b[39;00m progmon:\n\u001b[1;32m    426\u001b[0m     \u001b[39m# run the FFmpeg\u001b[39;00m\n\u001b[1;32m    427\u001b[0m     ret \u001b[39m=\u001b[39m exec(\n\u001b[0;32m--> 428\u001b[0m         move_global_options(ffmpeg_args),\n\u001b[1;32m    429\u001b[0m         hide_banner,\n\u001b[1;32m    430\u001b[0m         progmon,\n\u001b[1;32m    431\u001b[0m         overwrite,\n\u001b[1;32m    432\u001b[0m         capture_log,\n\u001b[1;32m    433\u001b[0m         stdin \u001b[39mif\u001b[39;00m \u001b[39minput\u001b[39m \u001b[39mis\u001b[39;00m \u001b[39mNone\u001b[39;00m \u001b[39melse\u001b[39;00m \u001b[39mNone\u001b[39;00m,\n\u001b[1;32m    434\u001b[0m         stdout,\n\u001b[1;32m    435\u001b[0m         stderr,\n\u001b[1;32m    436\u001b[0m         \u001b[39minput\u001b[39m\u001b[39m=\u001b[39m\u001b[39minput\u001b[39m \u001b[39mif\u001b[39;00m \u001b[39minput\u001b[39m \u001b[39mis\u001b[39;00m \u001b[39mNone\u001b[39;00m \u001b[39melse\u001b[39;00m \u001b[39mmemoryview\u001b[39m(\u001b[39minput\u001b[39m),\n\u001b[1;32m    437\u001b[0m         \u001b[39m*\u001b[39m\u001b[39m*\u001b[39mother_popen_kwargs,\n\u001b[1;32m    438\u001b[0m     )\n\u001b[1;32m    440\u001b[0m \u001b[39m# return stderr as str\u001b[39;00m\n\u001b[1;32m    441\u001b[0m \u001b[39mif\u001b[39;00m \u001b[39misinstance\u001b[39m(ret\u001b[39m.\u001b[39mstderr, \u001b[39mbytes\u001b[39m):\n",
      "File \u001b[0;32m~/Documents/code/stable_imitation/stanza/.venv/lib/python3.11/site-packages/ffmpegio/configure.py:555\u001b[0m, in \u001b[0;36mmove_global_options\u001b[0;34m(args)\u001b[0m\n\u001b[1;32m    545\u001b[0m \u001b[39m\u001b[39m\u001b[39m\"\"\"move global options from the output options dicts\u001b[39;00m\n\u001b[1;32m    546\u001b[0m \n\u001b[1;32m    547\u001b[0m \u001b[39m:param args: FFmpeg arguments\u001b[39;00m\n\u001b[0;32m   (...)\u001b[0m\n\u001b[1;32m    550\u001b[0m \u001b[39m:rtype: dict\u001b[39;00m\n\u001b[1;32m    551\u001b[0m \u001b[39m\"\"\"\u001b[39;00m\n\u001b[1;32m    553\u001b[0m \u001b[39mfrom\u001b[39;00m \u001b[39m.\u001b[39;00m\u001b[39mcaps\u001b[39;00m \u001b[39mimport\u001b[39;00m options\n\u001b[0;32m--> 555\u001b[0m _global_options \u001b[39m=\u001b[39m options(\u001b[39m\"\u001b[39;49m\u001b[39mglobal\u001b[39;49m\u001b[39m\"\u001b[39;49m, name_only\u001b[39m=\u001b[39;49m\u001b[39mTrue\u001b[39;49;00m)\n\u001b[1;32m    557\u001b[0m global_options \u001b[39m=\u001b[39m args\u001b[39m.\u001b[39mget(\u001b[39m\"\u001b[39m\u001b[39mglobal_options\u001b[39m\u001b[39m\"\u001b[39m, \u001b[39mNone\u001b[39;00m) \u001b[39mor\u001b[39;00m {}\n\u001b[1;32m    559\u001b[0m \u001b[39m# global options may be given as output options\u001b[39;00m\n",
      "File \u001b[0;32m~/Documents/code/stable_imitation/stanza/.venv/lib/python3.11/site-packages/ffmpegio/caps.py:73\u001b[0m, in \u001b[0;36moptions\u001b[0;34m(type, name_only, return_desc)\u001b[0m\n\u001b[1;32m     71\u001b[0m     opts \u001b[39m=\u001b[39m _cache[\u001b[39m\"\u001b[39m\u001b[39moptions\u001b[39m\u001b[39m\"\u001b[39m]\n\u001b[1;32m     72\u001b[0m \u001b[39mexcept\u001b[39;00m:\n\u001b[0;32m---> 73\u001b[0m     lines \u001b[39m=\u001b[39m ffmpeg([\u001b[39m\"\u001b[39;49m\u001b[39m-help\u001b[39;49m\u001b[39m\"\u001b[39;49m, \u001b[39m\"\u001b[39;49m\u001b[39mlong\u001b[39;49m\u001b[39m\"\u001b[39;49m])\u001b[39m.\u001b[39msplit(\u001b[39m\"\u001b[39m\u001b[39m\\n\u001b[39;00m\u001b[39m\"\u001b[39m)\n\u001b[1;32m     74\u001b[0m     ginds \u001b[39m=\u001b[39m [\n\u001b[1;32m     75\u001b[0m         (i \u001b[39m+\u001b[39m \u001b[39m1\u001b[39m, l[:\u001b[39m-\u001b[39m\u001b[39m1\u001b[39m]\u001b[39m.\u001b[39mlower())\n\u001b[1;32m     76\u001b[0m         \u001b[39mfor\u001b[39;00m i, l \u001b[39min\u001b[39;00m \u001b[39menumerate\u001b[39m(lines)\n\u001b[1;32m     77\u001b[0m         \u001b[39mif\u001b[39;00m \u001b[39mlen\u001b[39m(l) \u001b[39mand\u001b[39;00m l[\u001b[39m0\u001b[39m] \u001b[39mnot\u001b[39;00m \u001b[39min\u001b[39;00m \u001b[39m\"\u001b[39m\u001b[39m- \u001b[39m\u001b[39m\\t\u001b[39;00m\u001b[39m\"\u001b[39m \u001b[39mand\u001b[39;00m l[\u001b[39m-\u001b[39m\u001b[39m1\u001b[39m] \u001b[39m==\u001b[39m \u001b[39m\"\u001b[39m\u001b[39m:\u001b[39m\u001b[39m\"\u001b[39m\n\u001b[1;32m     78\u001b[0m     ]\n\u001b[1;32m     79\u001b[0m     ginds\u001b[39m.\u001b[39mappend((\u001b[39mlen\u001b[39m(lines) \u001b[39m+\u001b[39m \u001b[39m1\u001b[39m, \u001b[39mNone\u001b[39;00m))\n",
      "File \u001b[0;32m~/Documents/code/stable_imitation/stanza/.venv/lib/python3.11/site-packages/ffmpegio/caps.py:38\u001b[0m, in \u001b[0;36mffmpeg\u001b[0;34m(gopts)\u001b[0m\n\u001b[1;32m     36\u001b[0m \u001b[39mdef\u001b[39;00m \u001b[39mffmpeg\u001b[39m(gopts):\n\u001b[0;32m---> 38\u001b[0m     out \u001b[39m=\u001b[39m sp\u001b[39m.\u001b[39mrun([where(), \u001b[39m\"\u001b[39m\u001b[39m-hide_banner\u001b[39m\u001b[39m\"\u001b[39m, \u001b[39m*\u001b[39mgopts], stdout\u001b[39m=\u001b[39msp\u001b[39m.\u001b[39mPIPE, encoding\u001b[39m=\u001b[39m\u001b[39m\"\u001b[39m\u001b[39mutf-8\u001b[39m\u001b[39m\"\u001b[39m)\n\u001b[1;32m     40\u001b[0m     \u001b[39mif\u001b[39;00m out\u001b[39m.\u001b[39mreturncode \u001b[39mor\u001b[39;00m out\u001b[39m.\u001b[39mstdout\u001b[39m.\u001b[39mcount(\u001b[39m\"\u001b[39m\u001b[39m\\n\u001b[39;00m\u001b[39m\"\u001b[39m) \u001b[39m==\u001b[39m \u001b[39m1\u001b[39m:\n\u001b[1;32m     41\u001b[0m         \u001b[39mraise\u001b[39;00m FFmpegError(out\u001b[39m.\u001b[39mstdout)\n",
      "File \u001b[0;32m~/Documents/code/stable_imitation/stanza/.venv/lib/python3.11/site-packages/ffmpegio/path.py:63\u001b[0m, in \u001b[0;36mwhere\u001b[0;34m(probe)\u001b[0m\n\u001b[1;32m     60\u001b[0m path \u001b[39m=\u001b[39m FFPROBE_BIN \u001b[39mif\u001b[39;00m probe \u001b[39melse\u001b[39;00m FFMPEG_BIN\n\u001b[1;32m     62\u001b[0m \u001b[39mif\u001b[39;00m \u001b[39mnot\u001b[39;00m path:\n\u001b[0;32m---> 63\u001b[0m     \u001b[39mraise\u001b[39;00m FFmpegNotFound()\n\u001b[1;32m     65\u001b[0m \u001b[39mreturn\u001b[39;00m path\n",
      "\u001b[0;31mFFmpegNotFound\u001b[0m: FFmpeg executables not found. Run `ffmpegio.set_path()` first or place FFmpeg executables in auto-detectable path locations."
     ]
    }
   ],
   "source": [
    "imgs = jax.vmap(env.render)(rollout.states)\n",
    "from stanza.util.ipython import display_video\n",
    "display_video(\"pymunk.mp4\", imgs, fps=100)"
   ]
  },
  {
   "cell_type": "code",
   "execution_count": null,
   "metadata": {},
   "outputs": [
    {
     "name": "stdout",
     "output_type": "stream",
     "text": [
      "{'agent': BodyState(position=Array([143., 314.], dtype=float32), velocity=Array([0., 0.], dtype=float32), angle=Array(0., dtype=float32), angular_velocity=Array(0., dtype=float32)), 'block': BodyState(position=Array([275.49786, 439.79633], dtype=float32), velocity=Array([0., 0.], dtype=float32), angle=Array(1.9058363, dtype=float32), angular_velocity=Array(0., dtype=float32))}\n"
     ]
    },
    {
     "data": {
      "image/png": "[encoded data removed]",
      "text/plain": [
       "<IPython.core.display.Image object>"
      ]
     },
     "execution_count": 40,
     "metadata": {},
     "output_type": "execute_result"
    }
   ],
   "source": [
    "from stanza.envs.pusht import PushTEnv\n",
    "\n",
    "pusht_env = PushTEnv()\n",
    "print(pusht_env.reset(PRNGKey(0)))\n",
    "display_image(pusht_env.render(pusht_env.reset(PRNGKey(10))))"
   ]
  }
 ],
 "metadata": {
  "kernelspec": {
   "display_name": "stable-imitation-xgmIXOER-py3.11",
   "language": "python",
   "name": "python3"
  },
  "language_info": {
   "codemirror_mode": {
    "name": "ipython",
    "version": 3
   },
   "file_extension": ".py",
   "mimetype": "text/x-python",
   "name": "python",
   "nbconvert_exporter": "python",
   "pygments_lexer": "ipython3",
   "version": "3.11.4"
  },
  "orig_nbformat": 4
 },
 "nbformat": 4,
 "nbformat_minor": 2
}
