{
 "cells": [
  {
   "cell_type": "code",
   "execution_count": 35,
   "metadata": {},
   "outputs": [
    {
     "name": "stdout",
     "output_type": "stream",
     "text": [
      "The autoreload extension is already loaded. To reload it, use:\n",
      "  %reload_ext autoreload\n"
     ]
    }
   ],
   "source": [
    "%load_ext autoreload\n",
    "%autoreload 2\n",
    "%aimport -jax\n",
    "%aimport -jaxlib"
   ]
  },
  {
   "cell_type": "code",
   "execution_count": 54,
   "metadata": {},
   "outputs": [
    {
     "name": "stdout",
     "output_type": "stream",
     "text": [
      "{'circle': BodyState(position=Array([ 9.4325905, 10.608248 ], dtype=float32), velocity=Array([ 0.   , -0.098], dtype=float32), angle=Array(0., dtype=float32), angular_velocity=Array(0., dtype=float32))}\n"
     ]
    }
   ],
   "source": [
    "from jax.random import PRNGKey\n",
    "import jax.numpy as jnp\n",
    "import numpy as np\n",
    "import jax\n",
    "\n",
    "from stanza.envs.pymunk import PyMunkEnv, BodyState\n",
    "import pymunk\n",
    "\n",
    "def make_space(rng_key):\n",
    "    space = pymunk.Space()\n",
    "    space.gravity = (0, -9.8)\n",
    "    body = pymunk.Body(1.0, 1.0)\n",
    "    pos = jax.random.uniform(rng_key, (2,), minval=-1., maxval=1.) \\\n",
    "        if rng_key is not None else np.array([0., 0.])\n",
    "    body.position = (10 + pos[0], 10 + pos[1])\n",
    "    body.name = 'circle'\n",
    "    space.add(body, pymunk.Circle(body, 1.0))\n",
    "    return space\n",
    "\n",
    "env = PyMunkEnv(width=15., height=15.,\n",
    "    sim_hz=100., space_builder=make_space)\n",
    "state = env.reset(PRNGKey(0))\n",
    "state = env.step(state, None, None)"
   ]
  },
  {
   "cell_type": "code",
   "execution_count": 51,
   "metadata": {},
   "outputs": [],
   "source": [
    "import stanza.policies as policies\n",
    "rollout = policies.rollout(env.step, state, length=100)"
   ]
  },
  {
   "cell_type": "code",
   "execution_count": 55,
   "metadata": {},
   "outputs": [
    {
     "name": "stdout",
     "output_type": "stream",
     "text": [
      "{'circle': BodyState(position=Array([9.4325905, 5.757246 ], dtype=float32), velocity=Array([ 0.      , -9.799995], dtype=float32), angle=Array(0., dtype=float32), angular_velocity=Array(0., dtype=float32))}\n"
     ]
    },
    {
     "data": {
      "image/png": "[encoded data removed]",
      "text/plain": [
       "<IPython.core.display.Image object>"
      ]
     },
     "execution_count": 55,
     "metadata": {},
     "output_type": "execute_result"
    }
   ],
   "source": [
    "last_state = jax.tree_map(lambda x: x[-1], rollout.states)\n",
    "print(last_state)\n",
    "img = env.render(last_state)\n",
    "from stanza.util.ipython import display_image\n",
    "display_image(img)"
   ]
  },
  {
   "cell_type": "code",
   "execution_count": 53,
   "metadata": {},
   "outputs": [
    {
     "data": {
      "text/html": [
       "<video src=\"pymunk.mp4\" controls  >\n",
       "      Your browser does not support the <code>video</code> element.\n",
       "    </video>"
      ],
      "text/plain": [
       "<IPython.core.display.Video object>"
      ]
     },
     "execution_count": 53,
     "metadata": {},
     "output_type": "execute_result"
    }
   ],
   "source": [
    "imgs = jax.vmap(env.render)(rollout.states)\n",
    "from stanza.util.ipython import display_video\n",
    "display_video(\"pymunk.mp4\", imgs, fps=100)"
   ]
  },
  {
   "cell_type": "code",
   "execution_count": 40,
   "metadata": {},
   "outputs": [
    {
     "name": "stdout",
     "output_type": "stream",
     "text": [
      "{'agent': BodyState(position=Array([143., 314.], dtype=float32), velocity=Array([0., 0.], dtype=float32), angle=Array(0., dtype=float32), angular_velocity=Array(0., dtype=float32)), 'block': BodyState(position=Array([275.49786, 439.79633], dtype=float32), velocity=Array([0., 0.], dtype=float32), angle=Array(1.9058363, dtype=float32), angular_velocity=Array(0., dtype=float32))}\n"
     ]
    },
    {
     "data": {
      "image/png": "[encoded data removed]",
      "text/plain": [
       "<IPython.core.display.Image object>"
      ]
     },
     "execution_count": 40,
     "metadata": {},
     "output_type": "execute_result"
    }
   ],
   "source": [
    "from stanza.envs.pusht import PushTEnv\n",
    "\n",
    "pusht_env = PushTEnv()\n",
    "print(pusht_env.reset(PRNGKey(0)))\n",
    "display_image(pusht_env.render(pusht_env.reset(PRNGKey(10))))"
   ]
  }
 ],
 "metadata": {
  "kernelspec": {
   "display_name": "stable-imitation-xgmIXOER-py3.11",
   "language": "python",
   "name": "python3"
  },
  "language_info": {
   "codemirror_mode": {
    "name": "ipython",
    "version": 3
   },
   "file_extension": ".py",
   "mimetype": "text/x-python",
   "name": "python",
   "nbconvert_exporter": "python",
   "pygments_lexer": "ipython3",
   "version": "3.11.3"
  },
  "orig_nbformat": 4
 },
 "nbformat": 4,
 "nbformat_minor": 2
}
