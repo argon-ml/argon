{
 "cells": [
  {
   "cell_type": "code",
   "execution_count": 1,
   "id": "9a3f20d8-e5ee-4c76-aa66-4ed63ec8aac1",
   "metadata": {},
   "outputs": [],
   "source": [
    "import stanza.runtime\n",
    "stanza.runtime.setup()"
   ]
  },
  {
   "cell_type": "code",
   "execution_count": 2,
   "id": "d70f3767-febf-47bf-a0e0-2fb22bf6cca5",
   "metadata": {},
   "outputs": [],
   "source": [
    "import jax.random\n",
    "from jax.random import PRNGKey\n",
    "import jax.numpy as jnp\n",
    "\n",
    "from stanza.env.mujoco.reacher import ReacherEnv, PositionalControlTransform\n",
    "env = ReacherEnv()\n",
    "env = PositionalControlTransform().apply(env)\n",
    "def interactive_policy(mouse_pos):\n",
    "    return jnp.concatenate([mouse_pos, jnp.zeros(10,)])"
   ]
  },
  {
   "cell_type": "code",
   "execution_count": 3,
   "id": "36e308c6-664c-4dde-b3df-47545d8c3214",
   "metadata": {},
   "outputs": [
    {
     "data": {
      "application/vnd.jupyter.widget-view+json": {
       "model_id": "1134ec3664574be9819a05543a2e5e27",
       "version_major": 2,
       "version_minor": 0
      },
      "text/plain": [
       "HBox(children=(IntSlider(value=0, max=0), IntSlider(value=0)))"
      ]
     },
     "metadata": {},
     "output_type": "display_data"
    },
    {
     "data": {
      "application/vnd.jupyter.widget-view+json": {
       "model_id": "87da6b0c44cd4695b13deb6cd68c07b1",
       "version_major": 2,
       "version_minor": 0
      },
      "text/plain": [
       "HBox(children=(ImageStream(image=Image(value=b'\\x89PNG\\r\\n\\x1a\\n\\x00\\x00\\x00\\rIHDR\\x00\\x00\\x01\\x00\\x00\\x00\\x01…"
      ]
     },
     "metadata": {},
     "output_type": "display_data"
    },
    {
     "data": {
      "application/vnd.jupyter.widget-view+json": {
       "model_id": "d51bbc6de0a14453abc3681f1eaf3dd4",
       "version_major": 2,
       "version_minor": 0
      },
      "text/plain": [
       "Label(value='')"
      ]
     },
     "metadata": {},
     "output_type": "display_data"
    },
    {
     "data": {
      "application/vnd.jupyter.widget-view+json": {
       "model_id": "e4f1c63a125443e4823dd8bad11792be",
       "version_major": 2,
       "version_minor": 0
      },
      "text/plain": [
       "HBox(children=(Button(description='Delete', style=ButtonStyle()), Button(description='Reset (r)', style=Button…"
      ]
     },
     "metadata": {},
     "output_type": "display_data"
    }
   ],
   "source": [
    "from stanza.policy.ipython import DemonstrationCollector\n",
    "from stanza.data import PyTreeData\n",
    "from stanza.data.sequence import SequenceData\n",
    "from IPython.display import display\n",
    "import jax.numpy as jnp\n",
    "\n",
    "def save_fn(data):\n",
    "    pass\n",
    "\n",
    "import traceback\n",
    "\n",
    "data = SequenceData(PyTreeData(), PyTreeData())\n",
    "try:\n",
    "    collector = DemonstrationCollector(\n",
    "        data, env, interactive_policy, save_fn, 256, 256\n",
    "    )\n",
    "except Exception:\n",
    "    print(traceback.format_exc())\n",
    "display(collector)"
   ]
  },
  {
   "cell_type": "code",
   "execution_count": null,
   "id": "aee7e436-6dbb-42a3-8199-c178ed377473",
   "metadata": {},
   "outputs": [],
   "source": []
  }
 ],
 "metadata": {
  "kernelspec": {
   "display_name": "Python 3 (ipykernel)",
   "language": "python",
   "name": "python3"
  },
  "language_info": {
   "codemirror_mode": {
    "name": "ipython",
    "version": 3
   },
   "file_extension": ".py",
   "mimetype": "text/x-python",
   "name": "python",
   "nbconvert_exporter": "python",
   "pygments_lexer": "ipython3",
   "version": "3.10.7"
  }
 },
 "nbformat": 4,
 "nbformat_minor": 5
}
