{
 "cells": [
  {
   "cell_type": "code",
   "execution_count": 1,
   "id": "lApaxK33ZPhX",
   "metadata": {
    "id": "lApaxK33ZPhX"
   },
   "outputs": [],
   "source": [
    "try:\n",
    "    from google.colab import output\n",
    "    output.enable_custom_widget_manager()\n",
    "except ImportError:\n",
    "    pass\n",
    "try:\n",
    "    import stanza\n",
    "except:\n",
    "    %pip install -v git+https://github.com/pfrommerd/stanza.git\n",
    "    # Fix an issue with ipywidgets 8 and colab\n",
    "    %pip install \"ipywidgets<8\""
   ]
  },
  {
   "cell_type": "code",
   "execution_count": 2,
   "id": "6a9bc698-7b3d-4007-83f5-259992cb7ce9",
   "metadata": {
    "id": "6a9bc698-7b3d-4007-83f5-259992cb7ce9"
   },
   "outputs": [],
   "source": [
    "from stanza.runtime import setup\n",
    "setup()\n",
    "\n",
    "from stanza.data.sequence import SequenceData, Chunk\n",
    "from stanza.env.mujoco.pusht import (\n",
    "    PushTPosObs, PushTEnv,\n",
    "    PositionalControlTransform, PositionalObsTransform,\n",
    "    KeypointObsTransform, RelKeypointObsTransform\n",
    ")\n",
    "from stanza.env import ImageRender\n",
    "from stanza.env.transforms import ChainedTransform\n",
    "from stanza import canvas\n",
    "import stanza.env\n",
    "\n",
    "import jax\n",
    "import jax.numpy as jnp\n",
    "from jax.sharding import Mesh, NamedSharding, PartitionSpec\n",
    "\n",
    "from functools import partial"
   ]
  },
  {
   "cell_type": "code",
   "execution_count": 3,
   "id": "787af2ad",
   "metadata": {
    "id": "787af2ad"
   },
   "outputs": [],
   "source": [
    "if len(jax.devices()) > 1:\n",
    "    render_mesh = Mesh(jax.devices()[:8], ('x',))\n",
    "    render_sharding = NamedSharding(render_mesh, PartitionSpec('x'))\n",
    "    data_mesh = Mesh(jax.devices()[:8], ('x',))\n",
    "    data_sharding = NamedSharding(data_mesh, PartitionSpec('x'))\n",
    "else:\n",
    "    render_sharding = None\n",
    "\n",
    "env = PushTEnv()\n",
    "env = stanza.env.create(\"mujoco/pusht/rel_keypoint\")\n",
    "\n",
    "def draw(action_chunk, weight, width, height):\n",
    "    T = action_chunk.shape[0]\n",
    "    colors = jnp.array((jnp.arange(T)/T, jnp.zeros(T), jnp.zeros(T), weight*jnp.ones(T))).T\n",
    "    circles = canvas.fill(\n",
    "        canvas.circle(action_chunk, 0.02*jnp.ones(T)),\n",
    "        color=colors\n",
    "    )\n",
    "    circles = canvas.stack_batch(circles)\n",
    "    circles = canvas.transform(circles,\n",
    "        translation=(1,-1),\n",
    "        scale=(width/2, -height/2)\n",
    "    )\n",
    "    return circles\n",
    "\n",
    "@partial(jax.jit, out_shardings=render_sharding, static_argnames=(\"width\",\"height\",))\n",
    "def render(state, action_chunks=None, weights=None, width=256, height=256):\n",
    "    image = env.render(state, ImageRender(width, height))\n",
    "    if action_chunks is not None and weights is not None:\n",
    "        circles = canvas.stack_batch(jax.vmap(draw, in_axes=(0,0,None,None))(action_chunks, weights, width, height))\n",
    "        #jax.debug.print(\"{s}\", s=circles)\n",
    "        return canvas.paint(image, circles)\n",
    "    return image"
   ]
  },
  {
   "cell_type": "code",
   "execution_count": 4,
   "id": "b2cf8373-8cc9-4f62-87c4-98ed56b207f2",
   "metadata": {
    "colab": {
     "base_uri": "https://localhost:8080/"
    },
    "id": "b2cf8373-8cc9-4f62-87c4-98ed56b207f2",
    "outputId": "9ede4c44-bfc3-4205-fd0b-f3cbe0a80cc4"
   },
   "outputs": [
    {
     "name": "stdout",
     "output_type": "stream",
     "text": [
      "Loading data...\n",
      "Computing full mujoco state...\n",
      "Converted reduced state to full state!\n",
      "Loaded data (PushTKeypointRelObs(agent_block_pos=(22352, 1, 2), agent_block_end=(22352, 1, 2), rel_block_pos=(22352, 1, 2), rel_block_end=(22352, 1, 2)), (22352, 16, 2))\n"
     ]
    }
   ],
   "source": [
    "from stanza.datasets.env.pusht import load_chi_pusht_data\n",
    "print(\"Loading data...\")\n",
    "dataset = load_chi_pusht_data().cache()\n",
    "print(\"Computing full mujoco state...\")\n",
    "obs_length = 1\n",
    "action_length = 16\n",
    "def map_elements(el):\n",
    "    return env.full_state(el.reduced_state)\n",
    "try:\n",
    "    data = dataset.map_elements(map_elements).cache()\n",
    "except Exception as e:\n",
    "    import traceback\n",
    "    traceback.print_exc()\n",
    "print(\"Converted reduced state to full state!\")\n",
    "\n",
    "def map_chunks(chunk : Chunk):\n",
    "    state = chunk.elements\n",
    "    obs = jax.vmap(env.observe)(state)\n",
    "    obs = jax.tree.map(lambda x: x[:obs_length], obs)\n",
    "    # use the future agent positions as the actions\n",
    "    actions = jax.vmap(lambda s: PushTEnv.observe(env, s))(state).agent_pos\n",
    "    # compute relative future agent positions\n",
    "    action = jax.tree.map(lambda x, y: x[-action_length:] - y[obs_length-1], actions, actions)\n",
    "    #action = jax.tree.map(lambda x: x[-action_length:], actions)\n",
    "    return obs, action\n",
    "data = data.chunk(obs_length + action_length).map(map_chunks).as_pytree()\n",
    "data_len = (data[1].shape[0]//8)*8    # truncate length of data to multiple of 8 for sharding\n",
    "data = jax.tree.map(lambda x: x[:data_len], data)\n",
    "data = jax.device_put(data, data_sharding)\n",
    "#jax.debug.visualize_array_sharding(data[1][:,:,0])\n",
    "#jax.debug.visualize_array_sharding(data[1][:,:,1])\n",
    "#jax.debug.visualize_array_sharding(data[1][210])\n",
    "\n",
    "sample_chunk = jax.tree.map(lambda x: x[0], data)\n",
    "\n",
    "print(\"Loaded data\", jax.tree.map(lambda x: x.shape, data))"
   ]
  },
  {
   "cell_type": "code",
   "execution_count": 5,
   "id": "b342d5d3-311d-4ea6-a4b0-e2fbadf3bdff",
   "metadata": {
    "id": "b342d5d3-311d-4ea6-a4b0-e2fbadf3bdff"
   },
   "outputs": [],
   "source": [
    "from stanza.diffusion import DDPMSchedule, nonparametric\n",
    "from stanza.policy import PolicyInput, PolicyOutput\n",
    "from stanza.policy.transforms import ChunkingTransform\n",
    "from jax.random import PRNGKey\n",
    "\n",
    "schedule = DDPMSchedule.make_squaredcos_cap_v2(16, prediction_type=\"sample\")\n",
    "\n",
    "@jax.jit\n",
    "def chunk_policy(input: PolicyInput) -> PolicyOutput:\n",
    "    agent_pos = PushTEnv.observe(env, input.state).agent_pos\n",
    "    obs = input.observation\n",
    "    #estimator = nonparametric.nw_local_poly_closed(data, schedule, 1, 0.001)\n",
    "    #estimator = nonparametric.nw_local_poly(PRNGKey(42), data, schedule, 0,\n",
    "    #                          nonparametric.log_gaussian_kernel, nonparametric.log_gaussian_kernel,\n",
    "    #                          0.01, 0.001, 128)\n",
    "    #diffuser = nonparametric.nw_diffuser(obs, estimator)\n",
    "    diffuser = nonparametric.nw_cond_diffuser(obs, data, schedule, nonparametric.log_gaussian_kernel, 0.01)\n",
    "    #diffuser = nonparametric.closest_diffuser(obs, data)\n",
    "    action = schedule.sample(input.rng_key, diffuser, sample_chunk[1]) + agent_pos\n",
    "    return PolicyOutput(action, info=action)\n",
    "transform = ChunkingTransform(obs_length, action_length)\n",
    "policy = transform.apply(chunk_policy)"
   ]
  },
  {
   "cell_type": "code",
   "execution_count": 6,
   "id": "8e4bcc14",
   "metadata": {
    "colab": {
     "base_uri": "https://localhost:8080/",
     "height": 277,
     "referenced_widgets": [
      "511f40027dfc4052bdaf928060de2c9a",
      "4a741c4169c64c0d85515a9f5e7d6abf",
      "08dec3807ae546d2a527ddd693ccd7ee",
      "09401564c41b4001917de250ecebe1d8",
      "4de8b9b4f14746a6b46c939266405691",
      "5f17167207bd4829805fe1be6028e938",
      "d2be3e3938bf486ba82888023dd6d5f0"
     ]
    },
    "id": "8e4bcc14",
    "outputId": "8a169221-8f97-4b1e-ae71-c120b4d544a3"
   },
   "outputs": [
    {
     "data": {
      "application/vnd.jupyter.widget-view+json": {
       "model_id": "8ab07b4feac649478b54372175800c03",
       "version_major": 2,
       "version_minor": 0
      },
      "text/plain": [
       "HBox(children=(Image(value=b'\\x89PNG\\r\\n\\x1a\\n\\x00\\x00\\x00\\rIHDR\\x00\\x00\\x01\\x00\\x00\\x00\\x01\\x00\\x08\\x06\\x00\\x…"
      ]
     },
     "execution_count": 6,
     "metadata": {},
     "output_type": "execute_result"
    }
   ],
   "source": [
    "from stanza.util.ipython import as_image, as_video\n",
    "\n",
    "state = env.reset(jax.random.key(0))\n",
    "state_batch = jax.tree.map(\n",
    "    lambda x: jnp.repeat(x[None], obs_length, 0),\n",
    "    state\n",
    ")\n",
    "output = chunk_policy(PolicyInput(\n",
    "    jax.vmap(env.observe)(state_batch),\n",
    "    state,\n",
    "    rng_key=jax.random.key(42))\n",
    ").action\n",
    "as_image(render(state, output[None,...], jnp.ones((1,))))"
   ]
  },
  {
   "cell_type": "code",
   "execution_count": 10,
   "id": "fd3a28b8-baa9-409c-8fc6-468015f27d03",
   "metadata": {
    "colab": {
     "base_uri": "https://localhost:8080/",
     "height": 277,
     "referenced_widgets": [
      "8bbbe216ed13425a84cf93a280c3c343",
      "15c2760bdfeb403fa778d603d57d2fd1",
      "2b2a9603c4a94c9e9be320356d807109",
      "f93ffb0cee5b43a9b6dc255bf75e5984",
      "4c48083b9f744e57a105ef16b6c7e682",
      "09d0b771cc8f4c60b1161a29e638efce",
      "4e8725be481543b58c67740ff51b03db"
     ]
    },
    "id": "fd3a28b8-baa9-409c-8fc6-468015f27d03",
    "outputId": "866c6327-8e88-4070-d61f-5ef61006d8de"
   },
   "outputs": [
    {
     "data": {
      "application/vnd.jupyter.widget-view+json": {
       "model_id": "ba2ff0bf6f934b57a93a3e0abae3d723",
       "version_major": 2,
       "version_minor": 0
      },
      "text/plain": [
       "Video(value=b'\\x00\\x00\\x00 ftypisom\\x00\\x00\\x02\\x00isomiso2avc1mp41\\x00\\x00\\x00\\x08free...')"
      ]
     },
     "execution_count": 10,
     "metadata": {},
     "output_type": "execute_result"
    }
   ],
   "source": [
    "import stanza.policy\n",
    "from stanza import canvas\n",
    "\n",
    "#@partial(jax.jit, out_shardings=render_sharding)\n",
    "def batch_policy(obs, state, rng_key):\n",
    "    keys = jax.random.split(rng_key, 8)\n",
    "    return jax.vmap(chunk_policy, in_axes=(PolicyInput(None, None, rng_key=0),))(\n",
    "        PolicyInput(obs, state, rng_key=keys)\n",
    "    ).action\n",
    "\n",
    "def roll_video(rng_key):\n",
    "    #transform = ChunkingTransform(obs_length, action_length)\n",
    "    #policy = transform.apply(chunk_policy)\n",
    "    rng_key, x0_rng = jax.random.split(rng_key)\n",
    "    r = stanza.policy.rollout(env.step, env.reset(x0_rng), policy, policy_rng_key=rng_key, observe=env.observe, length=100, last_action=True)\n",
    "    def render_frame(state, action, width, height):\n",
    "        return render(state, action[None], jnp.ones((1,)), width, height)\n",
    "    return jax.vmap(lambda x, a: render_frame(x, a, 128, 128))(r.states, r.info)\n",
    "\n",
    "@jax.jit\n",
    "def generate_video(rng_key):\n",
    "    keys = jax.random.split(rng_key, 4)\n",
    "    videos = jax.vmap(roll_video)(keys)\n",
    "    video = jax.vmap(\n",
    "        lambda x: stanza.canvas.image_grid(x),\n",
    "        in_axes=1, out_axes=0\n",
    "    )(videos)\n",
    "    return video\n",
    "as_video(generate_video(jax.random.key(42)))"
   ]
  },
  {
   "cell_type": "code",
   "execution_count": 8,
   "id": "305765c2-5f67-4ca2-95a3-ef21a82261f6",
   "metadata": {
    "id": "305765c2-5f67-4ca2-95a3-ef21a82261f6"
   },
   "outputs": [],
   "source": [
    "#%timeit chunk_policy(PolicyInput(jax.vmap(env.observe)(state_batch), rng_key=jax.random.key(42))).action"
   ]
  },
  {
   "cell_type": "code",
   "execution_count": 9,
   "id": "c23a0c5b",
   "metadata": {
    "colab": {
     "base_uri": "https://localhost:8080/",
     "height": 345,
     "referenced_widgets": [
      "414a8954b1cb4fe7878c7a512901469f",
      "296eabe11bba42089f6999cf57af96f0",
      "cb9f9963312d4c0c84dab35cfd581e46",
      "ad85560a60f7477ebec3fee4dec85204",
      "32a87767f8b5473fa4a03a9f386da87c",
      "d0d58edab9e94e4a9c39dba733cae073",
      "c5aa14d4390845839bf6e9776e78cf2e",
      "2824c348eb014ad094f41407cffe5935",
      "ca3edf6516504a6ba7025e1806f34131",
      "b47dd4713ca2448da36942b4ceb33703",
      "9bcdc378e6994d58ba52193540a76e34",
      "1b2901d7126d40ddb44dcb1e3c19d4fb",
      "122ef8f3f8d546be85ea2221fbc12c9b",
      "6a07587b5b294c6faffb7cd272a6446a",
      "ed20e2627a37437ba48c352331057775"
     ]
    },
    "id": "c23a0c5b",
    "outputId": "3bfd365d-600a-4c0d-be14-f486709db32e"
   },
   "outputs": [
    {
     "data": {
      "application/vnd.jupyter.widget-view+json": {
       "model_id": "580f37c4555c46e19327059341d6caff",
       "version_major": 2,
       "version_minor": 0
      },
      "text/plain": [
       "Label(value='Hello world')"
      ]
     },
     "metadata": {},
     "output_type": "display_data"
    },
    {
     "data": {
      "application/vnd.jupyter.widget-view+json": {
       "model_id": "6e5351bee1ce4e6ead6c73e14e4f92cd",
       "version_major": 2,
       "version_minor": 0
      },
      "text/plain": [
       "HBox(children=(ImageStream(image=Image(value=b'\\x89PNG\\r\\n\\x1a\\n\\x00\\x00\\x00\\rIHDR\\x00\\x00\\x01\\x00\\x00\\x00\\x01…"
      ]
     },
     "metadata": {},
     "output_type": "display_data"
    },
    {
     "data": {
      "application/vnd.jupyter.widget-view+json": {
       "model_id": "8d324fe8a26042dda601a4bbb4b19e92",
       "version_major": 2,
       "version_minor": 0
      },
      "text/plain": [
       "Button(description='Stop', style=ButtonStyle())"
      ]
     },
     "metadata": {},
     "output_type": "display_data"
    }
   ],
   "source": [
    "from stanza.policy.ipython import StreamingInterface\n",
    "from threading import Thread\n",
    "from ipywidgets import Label, Button\n",
    "import time\n",
    "\n",
    "\n",
    "executing = True\n",
    "action_queue = []\n",
    "\n",
    "label = Label(value=\"Hello world\")\n",
    "\n",
    "button = Button(description=\"Stop\")\n",
    "def button_click(_):\n",
    "    global executing, action_queue\n",
    "    if executing:\n",
    "        button.description = \"Execute\"\n",
    "        executing = False\n",
    "    else:\n",
    "        button.description = \"Stop\"\n",
    "        executing = True\n",
    "        action_queue = []\n",
    "button.on_click(button_click)\n",
    "\n",
    "interactive = StreamingInterface(256, 256)\n",
    "def loop():\n",
    "    state = env.reset(jax.random.key(42))\n",
    "    #state = dataset[0][0].state\n",
    "    state_batch = jax.tree.map(\n",
    "        lambda x: jnp.repeat(x[None], obs_length, 0),\n",
    "        state\n",
    "    )\n",
    "    key = jax.random.key(43)\n",
    "    frame = 0\n",
    "\n",
    "    action_chunks = None\n",
    "    weights = None\n",
    "    iterations = 0\n",
    "    while True:\n",
    "        t = time.time()\n",
    "        key, r = jax.random.split(key)\n",
    "        if executing and len(action_queue) > 0:\n",
    "            action = action_queue.pop(0)\n",
    "        else:\n",
    "            action = interactive.mouse_pos()\n",
    "\n",
    "        prev_state = state\n",
    "        state = env.step(state, action)\n",
    "        reward = env.reward(prev_state, action, state)\n",
    "        label.value = f\"reward: {reward} {iterations}\"\n",
    "        state_batch = jax.tree.map(\n",
    "            lambda x, s: jnp.roll(x, -1).at[-1].set(s),\n",
    "            state_batch, state\n",
    "        )\n",
    "        obs = jax.vmap(env.observe)(state_batch)\n",
    "\n",
    "        if executing and len(action_queue) == 0:\n",
    "            action_chunks = batch_policy(obs, state, r)\n",
    "            weights = (0.2*jnp.ones(action_chunks.shape[0])).at[0].set(1)\n",
    "            for a in action_chunks[0]:\n",
    "                action_queue.append(a)\n",
    "                #action_queue.append(a)\n",
    "                #action_queue.append(a)\n",
    "            iterations = iterations + action_length\n",
    "        elif not executing and frame % 30 == 0: # re-sample actions every 30 frames\n",
    "            action_chunks = batch_policy(obs, state, r)\n",
    "            weights = jnp.ones(action_chunks.shape[0])\n",
    "        image = render(state, action_chunks, weights)\n",
    "\n",
    "        interactive.update(image)\n",
    "        elapsed = time.time() - t\n",
    "        time.sleep(max(0, 1/30 - elapsed))\n",
    "        frame = frame + 1\n",
    "\n",
    "t = Thread(target=loop, daemon=True)\n",
    "t.start()\n",
    "t.__del__ = lambda: t.stop()\n",
    "display(label)\n",
    "display(interactive)\n",
    "display(button)"
   ]
  },
  {
   "cell_type": "code",
   "execution_count": null,
   "id": "9634ab6d-f321-4195-acb5-a6398bacbf50",
   "metadata": {
    "id": "9634ab6d-f321-4195-acb5-a6398bacbf50"
   },
   "outputs": [],
   "source": []
  }
 ],
 "metadata": {
  "colab": {
   "provenance": []
  },
  "kernelspec": {
   "display_name": "Python 3 (ipykernel)",
   "language": "python",
   "name": "python3"
  },
  "language_info": {
   "codemirror_mode": {
    "name": "ipython",
    "version": 3
   },
   "file_extension": ".py",
   "mimetype": "text/x-python",
   "name": "python",
   "nbconvert_exporter": "python",
   "pygments_lexer": "ipython3",
   "version": "3.10.14"
  },
  "widgets": {
   "application/vnd.jupyter.widget-state+json": {
    "state": {
     "1a236068847b4f45bfde08513f205791": {
      "buffers": [
       {
        "data": "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",
        "encoding": "base64",
        "path": [
         "value"
        ]
       }
      ],
      "model_module": "@jupyter-widgets/controls",
      "model_module_version": "2.0.0",
      "model_name": "ImageModel",
      "state": {
       "layout": "IPY_MODEL_f9a94152cfd547559b1e098e47953214"
      }
     },
     "214760780aa54ea1bf82b0185f92af18": {
      "model_module": "@jupyter-widgets/base",
      "model_module_version": "2.0.0",
      "model_name": "LayoutModel",
      "state": {}
     },
     "2fb004fd6e5442ee854e56a7d4bae344": {
      "model_module": "@jupyter-widgets/base",
      "model_module_version": "2.0.0",
      "model_name": "LayoutModel",
      "state": {}
     },
     "4aedc2831eab4d32bc3dc7ee7b0da2b8": {
      "model_module": "@jupyter-widgets/controls",
      "model_module_version": "2.0.0",
      "model_name": "HTMLStyleModel",
      "state": {
       "description_width": "",
       "font_size": null,
       "text_color": null
      }
     },
     "4c1d1538259f49e48fc87da40a71d7e8": {
      "model_module": "jupyter-webrtc",
      "model_module_version": "~0.6.0",
      "model_name": "ImageStreamModel",
      "state": {
       "_view_count": 1,
       "image": "IPY_MODEL_1a236068847b4f45bfde08513f205791",
       "layout": "IPY_MODEL_214760780aa54ea1bf82b0185f92af18"
      }
     },
     "580f37c4555c46e19327059341d6caff": {
      "model_module": "@jupyter-widgets/controls",
      "model_module_version": "2.0.0",
      "model_name": "LabelModel",
      "state": {
       "layout": "IPY_MODEL_decf5d030071494c91971e7f402af338",
       "style": "IPY_MODEL_d2378d5f4e844f14832bc79349f6605d",
       "value": "reward: 0.9289796352386475 464"
      }
     },
     "5c981cef923143048f3351d9c80661c0": {
      "buffers": [
       {
        "data": "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",
        "encoding": "base64",
        "path": [
         "value"
        ]
       }
      ],
      "model_module": "@jupyter-widgets/controls",
      "model_module_version": "2.0.0",
      "model_name": "ImageModel",
      "state": {
       "layout": "IPY_MODEL_fa3e9022c05c4a3286d49916921b9ca7"
      }
     },
     "69263ead6c954927aaaeb51752700130": {
      "model_module": "@jupyter-widgets/base",
      "model_module_version": "2.0.0",
      "model_name": "LayoutModel",
      "state": {}
     },
     "6e5351bee1ce4e6ead6c73e14e4f92cd": {
      "model_module": "@jupyter-widgets/controls",
      "model_module_version": "2.0.0",
      "model_name": "HBoxModel",
      "state": {
       "children": [
        "IPY_MODEL_4c1d1538259f49e48fc87da40a71d7e8",
        "IPY_MODEL_bc0c83bc8eef45b0bc5724abc9b911d1"
       ],
       "layout": "IPY_MODEL_7b5ca96b40c54202870c2412cab02c1d"
      }
     },
     "7b5ca96b40c54202870c2412cab02c1d": {
      "model_module": "@jupyter-widgets/base",
      "model_module_version": "2.0.0",
      "model_name": "LayoutModel",
      "state": {}
     },
     "7c5dc25dc34143e89e09aff5a0de7f83": {
      "model_module": "@jupyter-widgets/base",
      "model_module_version": "2.0.0",
      "model_name": "LayoutModel",
      "state": {}
     },
     "81c770dfa79d4a0e814df49d4ada52b7": {
      "model_module": "@jupyter-widgets/controls",
      "model_module_version": "2.0.0",
      "model_name": "HTMLStyleModel",
      "state": {
       "description_width": "",
       "font_size": null,
       "text_color": null
      }
     },
     "8249f0bd322040c59891b6b969673e96": {
      "model_module": "@jupyter-widgets/base",
      "model_module_version": "2.0.0",
      "model_name": "LayoutModel",
      "state": {}
     },
     "8ab07b4feac649478b54372175800c03": {
      "model_module": "@jupyter-widgets/controls",
      "model_module_version": "2.0.0",
      "model_name": "HBoxModel",
      "state": {
       "children": [
        "IPY_MODEL_5c981cef923143048f3351d9c80661c0",
        "IPY_MODEL_b642cc3dedc44ff79fcd54912e7cc032"
       ],
       "layout": "IPY_MODEL_a005b6ae62c3499c916fea7da600cf9f"
      }
     },
     "8d324fe8a26042dda601a4bbb4b19e92": {
      "model_module": "@jupyter-widgets/controls",
      "model_module_version": "2.0.0",
      "model_name": "ButtonModel",
      "state": {
       "description": "Stop",
       "layout": "IPY_MODEL_8249f0bd322040c59891b6b969673e96",
       "style": "IPY_MODEL_f9a6d693052e445e8b7464ae4ffaa1ec",
       "tooltip": null
      }
     },
     "9f66b74a90434321b152eaa936d4289c": {
      "buffers": [
       {
        "data": "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",
        "encoding": "base64",
        "path": [
         "value"
        ]
       }
      ],
      "model_module": "@jupyter-widgets/controls",
      "model_module_version": "2.0.0",
      "model_name": "VideoModel",
      "state": {
       "layout": "IPY_MODEL_7c5dc25dc34143e89e09aff5a0de7f83"
      }
     },
     "a005b6ae62c3499c916fea7da600cf9f": {
      "model_module": "@jupyter-widgets/base",
      "model_module_version": "2.0.0",
      "model_name": "LayoutModel",
      "state": {}
     },
     "a33905373cbe4ef099b75b968a1fdce4": {
      "model_module": "ipyevents",
      "model_module_version": "2.0.2",
      "model_name": "EventModel",
      "state": {
       "_supported_key_events": [
        "keydown",
        "keyup"
       ],
       "_supported_mouse_events": [
        "click",
        "auxclick",
        "dblclick",
        "mouseenter",
        "mouseleave",
        "mousedown",
        "mouseup",
        "mousemove",
        "wheel",
        "contextmenu",
        "dragstart",
        "drag",
        "dragend",
        "dragenter",
        "dragover",
        "dragleave",
        "drop"
       ],
       "_supported_touch_events": [
        "touchstart",
        "touchend",
        "touchmove",
        "touchcancel"
       ],
       "_view_module": "@jupyter-widgets/controls",
       "source": "IPY_MODEL_4c1d1538259f49e48fc87da40a71d7e8",
       "throttle_or_debounce": "",
       "watched_events": [
        "click",
        "keydown",
        "keyup",
        "mousemove"
       ],
       "xy_coordinate_system": ""
      }
     },
     "b11033556dc74c64b7acf7555cc0e6ea": {
      "model_module": "@jupyter-widgets/base",
      "model_module_version": "2.0.0",
      "model_name": "LayoutModel",
      "state": {}
     },
     "b642cc3dedc44ff79fcd54912e7cc032": {
      "model_module": "@jupyter-widgets/controls",
      "model_module_version": "2.0.0",
      "model_name": "HTMLModel",
      "state": {
       "layout": "IPY_MODEL_2fb004fd6e5442ee854e56a7d4bae344",
       "style": "IPY_MODEL_4aedc2831eab4d32bc3dc7ee7b0da2b8",
       "value": "<style>\n.cell-output-ipywidget-background {\n    background-color: transparent !important;\n}\n.jp-OutputArea-output {\n    background-color: transparent;\n}\npre {\n    color: var(--vscode-editor-foreground);\n    margin: 0;\n}\n.widget-image > video::-webkit-media-controls {\n  display: none;\n}\n</style>"
      }
     },
     "ba2ff0bf6f934b57a93a3e0abae3d723": {
      "buffers": [
       {
        "data": "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",
        "encoding": "base64",
        "path": [
         "value"
        ]
       }
      ],
      "model_module": "@jupyter-widgets/controls",
      "model_module_version": "2.0.0",
      "model_name": "VideoModel",
      "state": {
       "layout": "IPY_MODEL_b11033556dc74c64b7acf7555cc0e6ea"
      }
     },
     "bc0c83bc8eef45b0bc5724abc9b911d1": {
      "model_module": "@jupyter-widgets/controls",
      "model_module_version": "2.0.0",
      "model_name": "HTMLModel",
      "state": {
       "layout": "IPY_MODEL_69263ead6c954927aaaeb51752700130",
       "style": "IPY_MODEL_81c770dfa79d4a0e814df49d4ada52b7",
       "value": "<style>\n.cell-output-ipywidget-background {\n    background-color: transparent !important;\n}\n.jp-OutputArea-output {\n    background-color: transparent;\n}\npre {\n    color: var(--vscode-editor-foreground);\n    margin: 0;\n}\n.widget-image > video::-webkit-media-controls {\n  display: none;\n}\n</style>"
      }
     },
     "d2378d5f4e844f14832bc79349f6605d": {
      "model_module": "@jupyter-widgets/controls",
      "model_module_version": "2.0.0",
      "model_name": "LabelStyleModel",
      "state": {
       "description_width": "",
       "font_family": null,
       "font_size": null,
       "font_style": null,
       "font_variant": null,
       "font_weight": null,
       "text_color": null,
       "text_decoration": null
      }
     },
     "decf5d030071494c91971e7f402af338": {
      "model_module": "@jupyter-widgets/base",
      "model_module_version": "2.0.0",
      "model_name": "LayoutModel",
      "state": {}
     },
     "f9a6d693052e445e8b7464ae4ffaa1ec": {
      "model_module": "@jupyter-widgets/controls",
      "model_module_version": "2.0.0",
      "model_name": "ButtonStyleModel",
      "state": {
       "font_family": null,
       "font_size": null,
       "font_style": null,
       "font_variant": null,
       "font_weight": null,
       "text_color": null,
       "text_decoration": null
      }
     },
     "f9a94152cfd547559b1e098e47953214": {
      "model_module": "@jupyter-widgets/base",
      "model_module_version": "2.0.0",
      "model_name": "LayoutModel",
      "state": {}
     },
     "fa3e9022c05c4a3286d49916921b9ca7": {
      "model_module": "@jupyter-widgets/base",
      "model_module_version": "2.0.0",
      "model_name": "LayoutModel",
      "state": {}
     }
    },
    "version_major": 2,
    "version_minor": 0
   }
  }
 },
 "nbformat": 4,
 "nbformat_minor": 5
}
