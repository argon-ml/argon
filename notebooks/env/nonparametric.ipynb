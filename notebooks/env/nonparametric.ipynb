{
 "cells": [
  {
   "cell_type": "code",
   "execution_count": 252,
   "metadata": {},
   "outputs": [
    {
     "name": "stdout",
     "output_type": "stream",
     "text": [
      "The autoreload extension is already loaded. To reload it, use:\n",
      "  %reload_ext autoreload\n"
     ]
    }
   ],
   "source": [
    "%load_ext autoreload\n",
    "%autoreload 2\n",
    "%aimport -jax\n",
    "%aimport -jaxlib"
   ]
  },
  {
   "cell_type": "code",
   "execution_count": 253,
   "metadata": {},
   "outputs": [],
   "source": [
    "from argon.runtime import setup\n",
    "setup()\n",
    "\n",
    "import jax\n",
    "import argon.numpy as jnp\n",
    "from jax.random import PRNGKey\n",
    "from argon.core.random import PRNGSequence"
   ]
  },
  {
   "cell_type": "code",
   "execution_count": 254,
   "metadata": {},
   "outputs": [],
   "source": [
    "from typing import Any\n",
    "from argon.data import PyTreeData\n",
    "from argon.core.dataclasses import dataclass\n",
    "from scipy.special import binom\n",
    "from argon.diffusion.ddpm import DDPMSchedule\n",
    "\n",
    "\n",
    "Cond = Any\n",
    "Value = Any\n",
    "\n",
    "@dataclass\n",
    "class Sample:\n",
    "    cond: Cond\n",
    "    value: Value\n",
    "\n",
    "\n",
    "log_gaussian_kernel = lambda x: jnp.sum(-jnp.square(x))/2 - jnp.log(jnp.sqrt(2*jnp.pi))\n",
    "\n",
    "def nadaraya_watson(samples, kernel, h):\n",
    "    def estimator(cond):\n",
    "        kernel_smoothing = lambda x, xi: kernel((x-xi)/h)\n",
    "        log_smoothed = jax.vmap(kernel_smoothing, in_axes=[None, 0])(cond, samples.cond)\n",
    "        log_total = jax.scipy.special.logsumexp(log_smoothed)\n",
    "        log_smoothed = log_smoothed - log_total\n",
    "        smoothed = jnp.exp(log_smoothed)\n",
    "        return Sample(cond=jnp.array([cond]), value=jnp.sum(smoothed*samples.value, axis=0))\n",
    "    return estimator\n",
    "\n",
    "def nadaraya_watson_diffusion(rng_key, samples, schedule, kernel, h_cond):\n",
    "\n",
    "    def estimator(cond, noised_value, t):\n",
    "        conds = samples.cond\n",
    "        values = samples.value\n",
    "\n",
    "        # exact form if kernel is gaussian:\n",
    "        one_minus_alphas_prod = 1 - schedule.alphas_cumprod[t]\n",
    "        cond_K = lambda x, xi: kernel((x-xi)/h_cond)\n",
    "        noised_value_K = lambda x, xi: kernel((x-xi)/one_minus_alphas_prod)\n",
    "        \n",
    "        log_prob = (\n",
    "            jax.vmap(cond_K, in_axes=[None, 0])(cond, conds) + \n",
    "            jax.vmap(noised_value_K, in_axes=[None, 0])(noised_value, values)\n",
    "        )\n",
    "        log_allcond_total = jax.scipy.special.logsumexp(log_prob)\n",
    "        log_smoothed = log_prob - log_allcond_total\n",
    "        smoothed = jnp.exp(log_smoothed)\n",
    "        return Sample(cond=jnp.array([cond]), value=jnp.sum(smoothed[:,None]*values, axis=0))\n",
    "    \n",
    "    return estimator\n",
    "\n",
    "def nw_diffusion(rng_key, samples, schedule, cond_kernel, noised_value_kernel, \n",
    "                              h_cond, h_noised, num_noised_samples):\n",
    "\n",
    "    def estimator(cond, noised_value, t):\n",
    "        add_noise = lambda rng, sample, t : (sample.cond, sample.value, schedule.add_noise(rng, sample.value, t)[0])\n",
    "        batch_add_noise = lambda rng, sample, t: jax.vmap(add_noise, in_axes=(0, None, None))(\n",
    "            jax.random.split(rng, num_noised_samples), sample, t\n",
    "        ) \n",
    "        noised_samples = jax.vmap(batch_add_noise, in_axes=(0,0,None))(\n",
    "            jax.random.split(rng_key, samples.cond.shape[0]),\n",
    "            samples,\n",
    "            t\n",
    "        )\n",
    "        conds = jnp.reshape(noised_samples[0], (-1, samples.cond.shape[-1]))\n",
    "        values = jnp.reshape(noised_samples[1], (-1, samples.value.shape[-1]))\n",
    "        noised_values = jnp.reshape(noised_samples[2], (-1, samples.value.shape[-1]))\n",
    "\n",
    "        cond_K = lambda x, xi: cond_kernel((x-xi)/h_cond)\n",
    "        noised_value_K = lambda x, xi: noised_value_kernel((x-xi)/h_noised)\n",
    "        # exact form if kernel is gaussian:\n",
    "        # value_sigma = 1 - schedule.alphas_cumprod[t]\n",
    "        # value_K = lambda x, xi: value_kernel((x-xi)/value_sigma)\n",
    "\n",
    "        log_prob = (\n",
    "            jax.vmap(cond_K, in_axes=[None, 0])(cond, conds) + \n",
    "            jax.vmap(noised_value_K, in_axes=[None, 0])(noised_value, noised_values)\n",
    "        )\n",
    "        log_allcond_total = jax.scipy.special.logsumexp(log_prob)\n",
    "        log_smoothed = log_prob - log_allcond_total\n",
    "        smoothed = jnp.exp(log_smoothed)\n",
    "        return Sample(cond=jnp.array([cond]), value=jnp.sum(smoothed[:,None]*values, axis=0))\n",
    "    \n",
    "    return estimator\n",
    "\n",
    "def nw_diffusion_local_poly(rng_key, samples, schedule, degree, cond_kernel, noised_value_kernel, \n",
    "                                        h_cond, h_noised, num_noised_samples):\n",
    "\n",
    "    def estimator(cond, noised_value, t):\n",
    "        add_noise = lambda rng, sample, t : (sample.cond, sample.value, schedule.add_noise(rng, sample.value, t)[0])\n",
    "        batch_add_noise = lambda rng, sample, t: jax.vmap(add_noise, in_axes=(0, None, None))(\n",
    "            jax.random.split(rng, num_noised_samples), sample, t\n",
    "        ) \n",
    "        noised_samples = jax.vmap(batch_add_noise, in_axes=(0,0,None))(\n",
    "            jax.random.split(rng_key, samples.cond.shape[0]),\n",
    "            samples,\n",
    "            t\n",
    "        )\n",
    "        conds = jnp.reshape(noised_samples[0], (-1, samples.cond.shape[-1]))\n",
    "        values = jnp.reshape(noised_samples[1], (-1, samples.value.shape[-1]))\n",
    "        noised_values = jnp.reshape(noised_samples[2], (-1, samples.value.shape[-1]))\n",
    "\n",
    "        x_samples = jnp.concatenate((conds, noised_values), -1)\n",
    "        x = jnp.concatenate((jnp.array([[cond]]), jnp.array([noised_value])), -1)\n",
    "        \n",
    "        cond_K = lambda x, xi: cond_kernel((x-xi)/h_cond)\n",
    "        noised_value_K = lambda x, xi: noised_value_kernel((x-xi)/h_noised)\n",
    "\n",
    "        log_prob = (\n",
    "            jax.vmap(cond_K, in_axes=[None, 0])(cond, conds) + \n",
    "            jax.vmap(noised_value_K, in_axes=[None, 0])(noised_value, noised_values)\n",
    "        )\n",
    "        prob = jax.nn.softmax(log_prob)[:,None]\n",
    "\n",
    "        # poly = PolynomialFeatures(degree)\n",
    "        # num_poly_features = binom(degree + x_samples.shape[-1], x_samples.shape[-1]).astype(int)\n",
    "        # poly_x_samples_shape = jax.ShapeDtypeStruct(\n",
    "        #     [*x_samples.shape[:-1], num_poly_features], \n",
    "        #     x_samples.dtype\n",
    "        # )\n",
    "        # poly_x_shape = jax.ShapeDtypeStruct(\n",
    "        #     [*x.shape[:-1], num_poly_features], \n",
    "        #     x.dtype\n",
    "        # )\n",
    "        # poly_x_samples = jax.pure_callback(poly.fit_transform, poly_x_samples_shape, x_samples)\n",
    "        # poly_x = jax.pure_callback(poly.fit_transform, poly_x_shape, x)\n",
    "\n",
    "        poly_x_samples = expand_poly_features(degree, x_samples)\n",
    "        poly_x = expand_poly_features(degree, x)\n",
    "\n",
    "        # M =   jnp.sqrt(prob) * poly_x_samples\n",
    "        # b = jnp.sqrt(prob) * values\n",
    "        # coeffs, _, _, _ = jnp.linalg.lstsq(M, b)\n",
    "\n",
    "        M = poly_x_samples.T @ (prob * poly_x_samples)\n",
    "        b = poly_x_samples.T @ (prob * values)\n",
    "        # jax.debug.print('{s}', s=M)\n",
    "        # jax.debug.print('{s}', s=b)\n",
    "        coeffs, _, _, _ = jnp.linalg.lstsq(M, b)\n",
    "        #jax.debug.print('{s}', s=coeffs.shape)\n",
    "\n",
    "        estimate = jnp.dot(poly_x, coeffs)\n",
    "        \n",
    "        return Sample(cond=jnp.array([cond]), value=estimate[0,:])\n",
    "    \n",
    "    return estimator\n",
    "\n",
    "def expand_poly_features(degree, samples):\n",
    "    # Adapted from sklearn.preprocessing.PolynomialFeatures\n",
    "    num_features = samples.shape[-1]\n",
    "    num_poly_features = binom(degree + samples.shape[-1], samples.shape[-1]).astype(int)\n",
    "    poly_samples = jnp.empty((samples.shape[0], num_poly_features))\n",
    "    poly_samples = poly_samples.at[:, 0].set(1)\n",
    "    if degree >= 1:\n",
    "        poly_samples = poly_samples.at[:, 1:1+num_features].set(samples)\n",
    "    if degree >= 2:\n",
    "        index = list(range(1, 1+num_features))\n",
    "        current_col = 1 + num_features \n",
    "        index.append(current_col)\n",
    "        for _ in range(2, degree + 1):\n",
    "            new_index = []\n",
    "            end = index[-1]\n",
    "            for feature_idx in range(num_features):\n",
    "                start = index[feature_idx]\n",
    "                new_index.append(current_col)\n",
    "                next_col = current_col + end - start\n",
    "                if next_col <= current_col:\n",
    "                    break\n",
    "                # XP[:, start:end] are terms of degree d - 1\n",
    "                # that exclude feature #feature_idx.\n",
    "                poly_samples = poly_samples.at[:, current_col:next_col].set(\n",
    "                    poly_samples[:, start:end] * samples[:, feature_idx : feature_idx + 1]\n",
    "                )\n",
    "                current_col = next_col\n",
    "\n",
    "            new_index.append(current_col)\n",
    "            index = new_index\n",
    "    return poly_samples\n",
    "\n"
   ]
  },
  {
   "cell_type": "code",
   "execution_count": 255,
   "metadata": {},
   "outputs": [
    {
     "data": {
      "application/vnd.plotly.v1+json": {
       "config": {
        "plotlyServerURL": "https://plot.ly"
       },
       "data": [
        {
         "hovertemplate": "x=%{x}<br>y=%{y}<extra></extra>",
         "legendgroup": "",
         "marker": {
          "color": "#636efa",
          "opacity": 0.5,
          "symbol": "circle"
         },
         "mode": "markers",
         "name": "",
         "orientation": "v",
         "showlegend": false,
         "type": "scatter",
         "x": [
          0,
          1,
          0,
          0,
          1,
          0,
          1,
          0,
          0,
          0,
          1,
          1,
          1,
          1,
          0,
          1,
          0,
          0,
          0,
          0,
          1,
          0,
          1,
          1,
          0,
          1,
          1,
          0,
          0,
          0,
          1,
          0,
          1,
          1,
          0,
          1,
          1,
          0,
          1,
          0,
          1,
          1,
          0,
          1,
          1,
          0,
          1,
          0,
          1,
          0,
          1,
          0,
          1,
          0,
          1,
          0,
          1,
          0,
          0,
          0,
          0,
          1,
          1,
          0
         ],
         "xaxis": "x",
         "y": [
          -1,
          1,
          -1,
          -1,
          1,
          -1,
          1,
          -1,
          -1,
          -1,
          1,
          1,
          1,
          1,
          -1,
          1,
          -1,
          -1,
          -1,
          -1,
          1,
          -1,
          1,
          1,
          -1,
          1,
          1,
          -1,
          -1,
          -1,
          1,
          -1,
          1,
          1,
          -1,
          1,
          1,
          -1,
          1,
          -1,
          1,
          1,
          -1,
          1,
          1,
          -1,
          1,
          -1,
          1,
          -1,
          1,
          -1,
          1,
          -1,
          1,
          -1,
          1,
          -1,
          -1,
          -1,
          -1,
          1,
          1,
          -1
         ],
         "yaxis": "y"
        }
       ],
       "layout": {
        "legend": {
         "tracegroupgap": 0
        },
        "margin": {
         "t": 60
        },
        "template": {
         "data": {
          "bar": [
           {
            "error_x": {
             "color": "#2a3f5f"
            },
            "error_y": {
             "color": "#2a3f5f"
            },
            "marker": {
             "line": {
              "color": "#E5ECF6",
              "width": 0.5
             },
             "pattern": {
              "fillmode": "overlay",
              "size": 10,
              "solidity": 0.2
             }
            },
            "type": "bar"
           }
          ],
          "barpolar": [
           {
            "marker": {
             "line": {
              "color": "#E5ECF6",
              "width": 0.5
             },
             "pattern": {
              "fillmode": "overlay",
              "size": 10,
              "solidity": 0.2
             }
            },
            "type": "barpolar"
           }
          ],
          "carpet": [
           {
            "aaxis": {
             "endlinecolor": "#2a3f5f",
             "gridcolor": "white",
             "linecolor": "white",
             "minorgridcolor": "white",
             "startlinecolor": "#2a3f5f"
            },
            "baxis": {
             "endlinecolor": "#2a3f5f",
             "gridcolor": "white",
             "linecolor": "white",
             "minorgridcolor": "white",
             "startlinecolor": "#2a3f5f"
            },
            "type": "carpet"
           }
          ],
          "choropleth": [
           {
            "colorbar": {
             "outlinewidth": 0,
             "ticks": ""
            },
            "type": "choropleth"
           }
          ],
          "contour": [
           {
            "colorbar": {
             "outlinewidth": 0,
             "ticks": ""
            },
            "colorscale": [
             [
              0,
              "#0d0887"
             ],
             [
              0.1111111111111111,
              "#46039f"
             ],
             [
              0.2222222222222222,
              "#7201a8"
             ],
             [
              0.3333333333333333,
              "#9c179e"
             ],
             [
              0.4444444444444444,
              "#bd3786"
             ],
             [
              0.5555555555555556,
              "#d8576b"
             ],
             [
              0.6666666666666666,
              "#ed7953"
             ],
             [
              0.7777777777777778,
              "#fb9f3a"
             ],
             [
              0.8888888888888888,
              "#fdca26"
             ],
             [
              1,
              "#f0f921"
             ]
            ],
            "type": "contour"
           }
          ],
          "contourcarpet": [
           {
            "colorbar": {
             "outlinewidth": 0,
             "ticks": ""
            },
            "type": "contourcarpet"
           }
          ],
          "heatmap": [
           {
            "colorbar": {
             "outlinewidth": 0,
             "ticks": ""
            },
            "colorscale": [
             [
              0,
              "#0d0887"
             ],
             [
              0.1111111111111111,
              "#46039f"
             ],
             [
              0.2222222222222222,
              "#7201a8"
             ],
             [
              0.3333333333333333,
              "#9c179e"
             ],
             [
              0.4444444444444444,
              "#bd3786"
             ],
             [
              0.5555555555555556,
              "#d8576b"
             ],
             [
              0.6666666666666666,
              "#ed7953"
             ],
             [
              0.7777777777777778,
              "#fb9f3a"
             ],
             [
              0.8888888888888888,
              "#fdca26"
             ],
             [
              1,
              "#f0f921"
             ]
            ],
            "type": "heatmap"
           }
          ],
          "heatmapgl": [
           {
            "colorbar": {
             "outlinewidth": 0,
             "ticks": ""
            },
            "colorscale": [
             [
              0,
              "#0d0887"
             ],
             [
              0.1111111111111111,
              "#46039f"
             ],
             [
              0.2222222222222222,
              "#7201a8"
             ],
             [
              0.3333333333333333,
              "#9c179e"
             ],
             [
              0.4444444444444444,
              "#bd3786"
             ],
             [
              0.5555555555555556,
              "#d8576b"
             ],
             [
              0.6666666666666666,
              "#ed7953"
             ],
             [
              0.7777777777777778,
              "#fb9f3a"
             ],
             [
              0.8888888888888888,
              "#fdca26"
             ],
             [
              1,
              "#f0f921"
             ]
            ],
            "type": "heatmapgl"
           }
          ],
          "histogram": [
           {
            "marker": {
             "pattern": {
              "fillmode": "overlay",
              "size": 10,
              "solidity": 0.2
             }
            },
            "type": "histogram"
           }
          ],
          "histogram2d": [
           {
            "colorbar": {
             "outlinewidth": 0,
             "ticks": ""
            },
            "colorscale": [
             [
              0,
              "#0d0887"
             ],
             [
              0.1111111111111111,
              "#46039f"
             ],
             [
              0.2222222222222222,
              "#7201a8"
             ],
             [
              0.3333333333333333,
              "#9c179e"
             ],
             [
              0.4444444444444444,
              "#bd3786"
             ],
             [
              0.5555555555555556,
              "#d8576b"
             ],
             [
              0.6666666666666666,
              "#ed7953"
             ],
             [
              0.7777777777777778,
              "#fb9f3a"
             ],
             [
              0.8888888888888888,
              "#fdca26"
             ],
             [
              1,
              "#f0f921"
             ]
            ],
            "type": "histogram2d"
           }
          ],
          "histogram2dcontour": [
           {
            "colorbar": {
             "outlinewidth": 0,
             "ticks": ""
            },
            "colorscale": [
             [
              0,
              "#0d0887"
             ],
             [
              0.1111111111111111,
              "#46039f"
             ],
             [
              0.2222222222222222,
              "#7201a8"
             ],
             [
              0.3333333333333333,
              "#9c179e"
             ],
             [
              0.4444444444444444,
              "#bd3786"
             ],
             [
              0.5555555555555556,
              "#d8576b"
             ],
             [
              0.6666666666666666,
              "#ed7953"
             ],
             [
              0.7777777777777778,
              "#fb9f3a"
             ],
             [
              0.8888888888888888,
              "#fdca26"
             ],
             [
              1,
              "#f0f921"
             ]
            ],
            "type": "histogram2dcontour"
           }
          ],
          "mesh3d": [
           {
            "colorbar": {
             "outlinewidth": 0,
             "ticks": ""
            },
            "type": "mesh3d"
           }
          ],
          "parcoords": [
           {
            "line": {
             "colorbar": {
              "outlinewidth": 0,
              "ticks": ""
             }
            },
            "type": "parcoords"
           }
          ],
          "pie": [
           {
            "automargin": true,
            "type": "pie"
           }
          ],
          "scatter": [
           {
            "fillpattern": {
             "fillmode": "overlay",
             "size": 10,
             "solidity": 0.2
            },
            "type": "scatter"
           }
          ],
          "scatter3d": [
           {
            "line": {
             "colorbar": {
              "outlinewidth": 0,
              "ticks": ""
             }
            },
            "marker": {
             "colorbar": {
              "outlinewidth": 0,
              "ticks": ""
             }
            },
            "type": "scatter3d"
           }
          ],
          "scattercarpet": [
           {
            "marker": {
             "colorbar": {
              "outlinewidth": 0,
              "ticks": ""
             }
            },
            "type": "scattercarpet"
           }
          ],
          "scattergeo": [
           {
            "marker": {
             "colorbar": {
              "outlinewidth": 0,
              "ticks": ""
             }
            },
            "type": "scattergeo"
           }
          ],
          "scattergl": [
           {
            "marker": {
             "colorbar": {
              "outlinewidth": 0,
              "ticks": ""
             }
            },
            "type": "scattergl"
           }
          ],
          "scattermapbox": [
           {
            "marker": {
             "colorbar": {
              "outlinewidth": 0,
              "ticks": ""
             }
            },
            "type": "scattermapbox"
           }
          ],
          "scatterpolar": [
           {
            "marker": {
             "colorbar": {
              "outlinewidth": 0,
              "ticks": ""
             }
            },
            "type": "scatterpolar"
           }
          ],
          "scatterpolargl": [
           {
            "marker": {
             "colorbar": {
              "outlinewidth": 0,
              "ticks": ""
             }
            },
            "type": "scatterpolargl"
           }
          ],
          "scatterternary": [
           {
            "marker": {
             "colorbar": {
              "outlinewidth": 0,
              "ticks": ""
             }
            },
            "type": "scatterternary"
           }
          ],
          "surface": [
           {
            "colorbar": {
             "outlinewidth": 0,
             "ticks": ""
            },
            "colorscale": [
             [
              0,
              "#0d0887"
             ],
             [
              0.1111111111111111,
              "#46039f"
             ],
             [
              0.2222222222222222,
              "#7201a8"
             ],
             [
              0.3333333333333333,
              "#9c179e"
             ],
             [
              0.4444444444444444,
              "#bd3786"
             ],
             [
              0.5555555555555556,
              "#d8576b"
             ],
             [
              0.6666666666666666,
              "#ed7953"
             ],
             [
              0.7777777777777778,
              "#fb9f3a"
             ],
             [
              0.8888888888888888,
              "#fdca26"
             ],
             [
              1,
              "#f0f921"
             ]
            ],
            "type": "surface"
           }
          ],
          "table": [
           {
            "cells": {
             "fill": {
              "color": "#EBF0F8"
             },
             "line": {
              "color": "white"
             }
            },
            "header": {
             "fill": {
              "color": "#C8D4E3"
             },
             "line": {
              "color": "white"
             }
            },
            "type": "table"
           }
          ]
         },
         "layout": {
          "annotationdefaults": {
           "arrowcolor": "#2a3f5f",
           "arrowhead": 0,
           "arrowwidth": 1
          },
          "autotypenumbers": "strict",
          "coloraxis": {
           "colorbar": {
            "outlinewidth": 0,
            "ticks": ""
           }
          },
          "colorscale": {
           "diverging": [
            [
             0,
             "#8e0152"
            ],
            [
             0.1,
             "#c51b7d"
            ],
            [
             0.2,
             "#de77ae"
            ],
            [
             0.3,
             "#f1b6da"
            ],
            [
             0.4,
             "#fde0ef"
            ],
            [
             0.5,
             "#f7f7f7"
            ],
            [
             0.6,
             "#e6f5d0"
            ],
            [
             0.7,
             "#b8e186"
            ],
            [
             0.8,
             "#7fbc41"
            ],
            [
             0.9,
             "#4d9221"
            ],
            [
             1,
             "#276419"
            ]
           ],
           "sequential": [
            [
             0,
             "#0d0887"
            ],
            [
             0.1111111111111111,
             "#46039f"
            ],
            [
             0.2222222222222222,
             "#7201a8"
            ],
            [
             0.3333333333333333,
             "#9c179e"
            ],
            [
             0.4444444444444444,
             "#bd3786"
            ],
            [
             0.5555555555555556,
             "#d8576b"
            ],
            [
             0.6666666666666666,
             "#ed7953"
            ],
            [
             0.7777777777777778,
             "#fb9f3a"
            ],
            [
             0.8888888888888888,
             "#fdca26"
            ],
            [
             1,
             "#f0f921"
            ]
           ],
           "sequentialminus": [
            [
             0,
             "#0d0887"
            ],
            [
             0.1111111111111111,
             "#46039f"
            ],
            [
             0.2222222222222222,
             "#7201a8"
            ],
            [
             0.3333333333333333,
             "#9c179e"
            ],
            [
             0.4444444444444444,
             "#bd3786"
            ],
            [
             0.5555555555555556,
             "#d8576b"
            ],
            [
             0.6666666666666666,
             "#ed7953"
            ],
            [
             0.7777777777777778,
             "#fb9f3a"
            ],
            [
             0.8888888888888888,
             "#fdca26"
            ],
            [
             1,
             "#f0f921"
            ]
           ]
          },
          "colorway": [
           "#636efa",
           "#EF553B",
           "#00cc96",
           "#ab63fa",
           "#FFA15A",
           "#19d3f3",
           "#FF6692",
           "#B6E880",
           "#FF97FF",
           "#FECB52"
          ],
          "font": {
           "color": "#2a3f5f"
          },
          "geo": {
           "bgcolor": "white",
           "lakecolor": "white",
           "landcolor": "#E5ECF6",
           "showlakes": true,
           "showland": true,
           "subunitcolor": "white"
          },
          "hoverlabel": {
           "align": "left"
          },
          "hovermode": "closest",
          "mapbox": {
           "style": "light"
          },
          "paper_bgcolor": "white",
          "plot_bgcolor": "#E5ECF6",
          "polar": {
           "angularaxis": {
            "gridcolor": "white",
            "linecolor": "white",
            "ticks": ""
           },
           "bgcolor": "#E5ECF6",
           "radialaxis": {
            "gridcolor": "white",
            "linecolor": "white",
            "ticks": ""
           }
          },
          "scene": {
           "xaxis": {
            "backgroundcolor": "#E5ECF6",
            "gridcolor": "white",
            "gridwidth": 2,
            "linecolor": "white",
            "showbackground": true,
            "ticks": "",
            "zerolinecolor": "white"
           },
           "yaxis": {
            "backgroundcolor": "#E5ECF6",
            "gridcolor": "white",
            "gridwidth": 2,
            "linecolor": "white",
            "showbackground": true,
            "ticks": "",
            "zerolinecolor": "white"
           },
           "zaxis": {
            "backgroundcolor": "#E5ECF6",
            "gridcolor": "white",
            "gridwidth": 2,
            "linecolor": "white",
            "showbackground": true,
            "ticks": "",
            "zerolinecolor": "white"
           }
          },
          "shapedefaults": {
           "line": {
            "color": "#2a3f5f"
           }
          },
          "ternary": {
           "aaxis": {
            "gridcolor": "white",
            "linecolor": "white",
            "ticks": ""
           },
           "baxis": {
            "gridcolor": "white",
            "linecolor": "white",
            "ticks": ""
           },
           "bgcolor": "#E5ECF6",
           "caxis": {
            "gridcolor": "white",
            "linecolor": "white",
            "ticks": ""
           }
          },
          "title": {
           "x": 0.05
          },
          "xaxis": {
           "automargin": true,
           "gridcolor": "white",
           "linecolor": "white",
           "ticks": "",
           "title": {
            "standoff": 15
           },
           "zerolinecolor": "white",
           "zerolinewidth": 2
          },
          "yaxis": {
           "automargin": true,
           "gridcolor": "white",
           "linecolor": "white",
           "ticks": "",
           "title": {
            "standoff": 15
           },
           "zerolinecolor": "white",
           "zerolinewidth": 2
          }
         }
        },
        "xaxis": {
         "anchor": "y",
         "domain": [
          0,
          1
         ],
         "title": {
          "text": "x"
         }
        },
        "yaxis": {
         "anchor": "x",
         "domain": [
          0,
          1
         ],
         "title": {
          "text": "y"
         }
        }
       }
      }
     },
     "metadata": {},
     "output_type": "display_data"
    }
   ],
   "source": [
    "num_samples = 64\n",
    "rng_key = PRNGKey(42)\n",
    "dim = 1\n",
    "w = 1\n",
    "shift = 0\n",
    "\n",
    "a = -jnp.ones((dim,)) / jnp.sqrt(dim)\n",
    "b = jnp.ones((dim,)) / jnp.sqrt(dim)\n",
    "deltas = jnp.stack([a, b])\n",
    "conds = jnp.array([0, shift, 1-shift, 1])\n",
    "p = jnp.array([[1,0],[w,1-w],[1-w,w],[0,1]])\n",
    "\n",
    "def generate(rng_key, conds, p):\n",
    "    i_rng, j_rng = jax.random.split(rng_key, 2)\n",
    "    i = jax.random.choice(i_rng, conds.shape[0])\n",
    "    j = jax.random.choice(j_rng, 2, p=p[i,:])\n",
    "    return Sample(cond=jnp.array([conds[i]]), value=jnp.array(deltas[j]))\n",
    "data = jax.vmap(generate, in_axes=(0, None, None))(\n",
    "        jax.random.split(rng_key, num_samples), conds, p)\n",
    "#print(data)\n",
    "\n",
    "data_sample = data.value[0]\n",
    "def plot_data_scatter(samples, value_transform=lambda x: x):\n",
    "    import plotly.express as px\n",
    "    conds = samples.cond\n",
    "    values = samples.value\n",
    "    values = jax.vmap(value_transform)(values)\n",
    "    # conds = jax.tree_map(\n",
    "    #     lambda x: jnp.repeat(\n",
    "    #         x[:, None, ...],\n",
    "    #         values.shape[-1],\n",
    "    #         axis=1\n",
    "    #     ), conds\n",
    "    # )\n",
    "    x, y = jax.tree.map(\n",
    "        lambda x: jnp.reshape(x, (-1,)),\n",
    "        (conds, values)\n",
    "    )\n",
    "    px.scatter(x=x, y=y, opacity=0.5).show()\n",
    "\n",
    "proj_transform = lambda x: jnp.dot(x, jnp.ones((data_sample.shape[-1],))/jnp.sqrt(data_sample.shape[-1]))\n",
    "plot_data_scatter(data, proj_transform)\n",
    "\n",
    "# samples = jax.vmap(nw_estimator)(jnp.linspace(0,1,32))\n",
    "# print(samples)\n",
    "# plot_samples_scatter(samples)\n",
    "\n",
    "\n"
   ]
  },
  {
   "cell_type": "code",
   "execution_count": 256,
   "metadata": {},
   "outputs": [],
   "source": [
    "from jax.scipy.special import factorial\n",
    "\n",
    "def comb(n, k):\n",
    "    '''\n",
    "    Returns n choose k.\n",
    "    '''\n",
    "    return factorial(n) / (factorial(n-k) * factorial(k))\n",
    "\n",
    "def factorial2(n):\n",
    "    '''\n",
    "    Computes (n)!!, where n is an odd integer.\n",
    "    '''\n",
    "    n_half = (n-1)/2\n",
    "    return factorial(n) / (factorial(n_half) * jnp.power(2,n_half))\n",
    "\n",
    "def gaussian_moments(degree, mean, var):\n",
    "    '''\n",
    "    Returns an array of length degree, where the ith element is\n",
    "    E[X^i] for X ~ N(mean, var). \n",
    "    '''\n",
    "    moments = jnp.empty(degree+1)\n",
    "    moments = moments.at[0].set(1)\n",
    "    if degree >= 1:\n",
    "        moments = moments.at[1].set(mean)\n",
    "    for i in range(2, degree+1):\n",
    "        moments = moments.at[i].set(mean * moments[i-1] + (i-1) * var * moments[i-2])\n",
    "    return moments\n",
    "\n",
    "def central_gaussian_moments(degree, var):\n",
    "    '''\n",
    "    Returns an array of length degree, where the ith element is\n",
    "    E[X^i] for X ~ N(0, var). \n",
    "    '''\n",
    "    moments = jnp.empty(degree+1)\n",
    "    moments = moments.at[0].set(1)\n",
    "    compute_even_moment = lambda p: jnp.pow(var, p//2) * factorial2(p-1)\n",
    "    even_moments = jax.vmap(compute_even_moment)(2*jnp.arange(1,degree//2 + 1))\n",
    "    moments = moments.at[2*jnp.arange(1,degree//2+1)].set(even_moments)\n",
    "    return moments\n"
   ]
  },
  {
   "cell_type": "code",
   "execution_count": 257,
   "metadata": {},
   "outputs": [
    {
     "name": "stdout",
     "output_type": "stream",
     "text": [
      "[[0.        ]\n",
      " [0.04960466]\n",
      " [0.0996501 ]\n",
      " [0.15057378]\n",
      " [0.20280635]\n",
      " [0.25676858]\n",
      " [0.3128678 ]\n",
      " [0.37149525]\n",
      " [0.43302268]\n",
      " [0.49779946]]\n"
     ]
    }
   ],
   "source": [
    "# d=1 case\n",
    "def make_psi(degree, var, h):\n",
    "    def psi(cond):\n",
    "        sigma = jnp.sqrt(var)\n",
    "        sigh = var + h*h\n",
    "        K = jnp.exp(-cond*cond * (1-var/sigh) / (2*h*h)) / jnp.sqrt(2*jnp.pi*sigh)\n",
    "        mu = sigma * cond / sigh\n",
    "        new_var = h*h / sigh\n",
    "        moments = gaussian_moments(degree, mu, new_var)\n",
    "        poly_cond = jnp.flip(expand_poly_features(degree, jnp.array([[cond]])))\n",
    "        poly_sigma = expand_poly_features(degree, jnp.array([[sigma]]))\n",
    "        binom_coeffs = jax.vmap(comb, in_axes=(None, 0))(degree, jnp.arange(degree+1))\n",
    "        signs = jax.vmap(jnp.power, in_axes=(None, 0))(-1, jnp.arange(degree+1))\n",
    "        # print(moments)\n",
    "        # print(poly_cond)\n",
    "        # print(binom_coeffs)\n",
    "        # print(signs)\n",
    "        return K * jnp.sum(binom_coeffs * signs * moments * poly_cond * poly_sigma, axis=-1)\n",
    "    return psi\n",
    "\n",
    "psi = make_psi(3, 2, 4)\n",
    "#print(psi(1))\n",
    "print(jax.vmap(psi)(jnp.linspace(0,1,10)))"
   ]
  },
  {
   "cell_type": "code",
   "execution_count": 258,
   "metadata": {},
   "outputs": [
    {
     "name": "stdout",
     "output_type": "stream",
     "text": [
      "[-0.01054519  0.04026778  0.09170805  0.14420232  0.19816943  0.2540169\n",
      "  0.31213796  0.37290847  0.436684    0.50379723]\n"
     ]
    }
   ],
   "source": [
    "# sample version, d=1\n",
    "def make_psi_sample(degree, var, h):\n",
    "    def psi(cond):\n",
    "        sigma = jnp.sqrt(var)\n",
    "        def sample_fn(rng):\n",
    "            w_sample = jax.random.normal(rng)\n",
    "            arg = cond - sigma*w_sample\n",
    "            return jnp.power(arg, degree) * jnp.exp(-arg*arg/(2*h*h)) / (jnp.sqrt(2*jnp.pi) * h)\n",
    "        return jnp.mean(jax.vmap(sample_fn)(jax.random.split(PRNGKey(42), 256)))\n",
    "    return psi\n",
    "\n",
    "psi_sample = make_psi_sample(3,2,4)\n",
    "print(jax.vmap(psi_sample)(jnp.linspace(0,1,10)))"
   ]
  },
  {
   "cell_type": "code",
   "execution_count": 259,
   "metadata": {},
   "outputs": [
    {
     "name": "stdout",
     "output_type": "stream",
     "text": [
      "0.62645453\n"
     ]
    }
   ],
   "source": [
    "from scipy.special import binom\n",
    "from functools import partial\n",
    "# general d\n",
    "def make_psi_multi(degrees, Sigma, H):\n",
    "    '''\n",
    "    degrees: shape (d,) vector corresponding to [j_1,...,j_d]\n",
    "    Sigma: shape (d,) vector of noise variances\n",
    "    H: shape (d,) vector of bandwidth variances\n",
    "    Returns the function psi.\n",
    "    '''\n",
    "    def psi(cond):\n",
    "        dim = Sigma.shape[-1]\n",
    "        Sigma_sqrt = jnp.sqrt(Sigma)\n",
    "        Hinv = jnp.ones_like(H)/H\n",
    "        M = Sigma * Hinv + jnp.ones_like(Sigma)\n",
    "        Minv = jnp.ones_like(M)/M\n",
    "        c = Hinv * Sigma_sqrt * cond\n",
    "        K = jnp.exp(-0.5*(cond.T @ (Hinv * cond) - c.T @ (Minv * c))) \n",
    "        z = cond - Sigma_sqrt * Minv * c\n",
    "\n",
    "        def exp_monomial(z, sigma, var, degree):\n",
    "            # moments = central_gaussian_moments(degree, var)\n",
    "            # poly_z = jnp.flip(expand_poly_features(degree, jnp.array([[z]])))\n",
    "            # poly_sigma = expand_poly_features(degree, jnp.array([[sigma]]))\n",
    "            # binom_coeffs = jax.vmap(comb, in_axes=(None, 0))(degree, jnp.arange(degree+1))\n",
    "            # signs = jax.vmap(jnp.power, in_axes=(None, 0))(-1, jnp.arange(degree+1))\n",
    "            # return jnp.sum(binom_coeffs * signs * moments * poly_z * poly_sigma, axis=-1)\n",
    "\n",
    "            def body_fn(i, carry):\n",
    "                i = 2*i\n",
    "                # moment = jnp.pow(var, i//2) * factorial2(i-1) \n",
    "                # poly_z = jnp.pow(z, degree-i)\n",
    "                # poly_sigma = jnp.pow(sigma, i)\n",
    "                # binom_coeff = comb(degree, i)\n",
    "                # return carry + moment * binom_coeff * poly_z * poly_sigma\n",
    "                log_moment = (i//2) * jnp.log(var) + jnp.log(factorial2(i-1))\n",
    "                poly_z = jnp.pow(z, degree-i)\n",
    "                log_poly_sigma = i*jnp.log(sigma)\n",
    "                log_binom_coeff = jnp.log(comb(degree, i))\n",
    "                return carry + jnp.exp(log_moment + log_binom_coeff + log_poly_sigma) * poly_z\n",
    "            result = jnp.pow(z, degree) + jax.lax.fori_loop(1, (degree//2).astype(int) + 1, body_fn, 0)\n",
    "            return result\n",
    "        \n",
    "        prod_monomials = 1\n",
    "        for i in range(dim):\n",
    "            prod_monomials *= exp_monomial(z[i], Sigma[i], Minv[i], degrees[i])\n",
    "        return K*prod_monomials\n",
    "    \n",
    "    return psi\n",
    "\n",
    "# psi_multi = make_psi_multi(jnp.array([1]), jnp.array([1]), jnp.array([1]))\n",
    "# print(psi_multi(jnp.array([1])))\n",
    "\n",
    "# psi_multi = make_psi_multi(jnp.array([1]), jnp.array([1]), jnp.array([4]))\n",
    "# print(psi_multi(jnp.array([2])))\n",
    "\n",
    "psi_multi = make_psi_multi(jnp.array([2,1]), jnp.array([1,1]), jnp.array([1,4]))\n",
    "print(psi_multi(jnp.array([1,2])))"
   ]
  },
  {
   "cell_type": "code",
   "execution_count": 260,
   "metadata": {},
   "outputs": [
    {
     "name": "stdout",
     "output_type": "stream",
     "text": [
      "0.031761188\n"
     ]
    }
   ],
   "source": [
    "# sample version, general d\n",
    "\n",
    "def make_psi_sample_multi(degrees, Sigma, H):\n",
    "    def psi(cond):\n",
    "        Sigma_sqrt = jnp.sqrt(Sigma)\n",
    "        def sample_fn(rng):\n",
    "            w_sample = jax.random.normal(rng, cond.shape)\n",
    "            arg = cond - Sigma_sqrt * w_sample\n",
    "            log_gaussian_kernel = lambda x, H: jnp.sum(-jnp.square(x)/(2*H) - jnp.log(jnp.sqrt(2*jnp.pi*H)))\n",
    "            # print(jnp.power(arg, degrees))\n",
    "            # print(jnp.exp(log_gaussian_kernel(arg,H)))\n",
    "            return jnp.prod(jnp.power(arg, degrees)) * jnp.exp(log_gaussian_kernel(arg, H))\n",
    "        return jnp.mean(jax.vmap(sample_fn)(jax.random.split(PRNGKey(42), 2048)))\n",
    "    return psi\n",
    "\n",
    "# psi_sample_multi = make_psi_sample_multi(jnp.array([1]), jnp.array([1]), jnp.array([1]))\n",
    "# print(psi_sample_multi(jnp.array([1])))\n",
    "\n",
    "# psi_sample_multi = make_psi_sample_multi(jnp.array([1]), jnp.array([1]), jnp.array([4]))\n",
    "# print(psi_sample_multi(jnp.array([2])))\n",
    "\n",
    "psi_sample_multi = make_psi_sample_multi(jnp.array([2,1]), jnp.array([1,1]), jnp.array([1,4]))\n",
    "print(psi_sample_multi(jnp.array([1,2])))"
   ]
  },
  {
   "cell_type": "code",
   "execution_count": 261,
   "metadata": {},
   "outputs": [
    {
     "name": "stdout",
     "output_type": "stream",
     "text": [
      "[[0. 0. 0.]\n",
      " [1. 0. 0.]\n",
      " [0. 1. 0.]\n",
      " [0. 0. 1.]\n",
      " [2. 0. 0.]\n",
      " [1. 1. 0.]\n",
      " [1. 0. 1.]\n",
      " [0. 2. 0.]\n",
      " [0. 1. 1.]\n",
      " [0. 0. 2.]\n",
      " [3. 0. 0.]\n",
      " [2. 1. 0.]\n",
      " [2. 0. 1.]\n",
      " [1. 2. 0.]\n",
      " [1. 1. 1.]\n",
      " [1. 0. 2.]\n",
      " [0. 3. 0.]\n",
      " [0. 2. 1.]\n",
      " [0. 1. 2.]\n",
      " [0. 0. 3.]]\n"
     ]
    }
   ],
   "source": [
    "def enumerate_degrees(num_features, degree):\n",
    "    '''\n",
    "    Returns an array of shape (num_features,) vectors of nonnegative integers,\n",
    "    each summing to at most `degree`.\n",
    "    '''\n",
    "    num_poly_features = binom(degree + num_features, num_features).astype(int)\n",
    "    degree_vecs = jnp.empty((num_poly_features, num_features))\n",
    "    degree_vecs = degree_vecs.at[0, :].set(jnp.zeros((num_features,)))\n",
    "\n",
    "    features = jnp.eye(num_features)\n",
    "\n",
    "    if degree >= 1:\n",
    "        degree_vecs = degree_vecs.at[1:1+num_features, :].set(features)\n",
    "\n",
    "    if degree >= 2:\n",
    "        index = list(range(1, 1+num_features))\n",
    "        current_row = 1 + num_features\n",
    "        index.append(current_row)\n",
    "\n",
    "        for _ in range(2, degree + 1):\n",
    "            new_index = []\n",
    "            end = index[-1]\n",
    "\n",
    "            for feature_idx in range(num_features):\n",
    "                start = index[feature_idx]\n",
    "                new_index.append(current_row)\n",
    "                next_row = current_row + end - start\n",
    "                if next_row <= current_row:\n",
    "                    break\n",
    "                # XP[:, start:end] are terms of degree d - 1\n",
    "                # that exclude feature #feature_idx.\n",
    "                degree_vecs = degree_vecs.at[current_row:next_row, :].set(\n",
    "                    degree_vecs[start:end, :] + features[feature_idx : feature_idx + 1, :]\n",
    "                )\n",
    "                current_row = next_row\n",
    "\n",
    "            new_index.append(current_row)\n",
    "            index = new_index\n",
    "\n",
    "    return degree_vecs\n",
    "\n",
    "print(enumerate_degrees(3,3))"
   ]
  },
  {
   "cell_type": "code",
   "execution_count": 262,
   "metadata": {},
   "outputs": [],
   "source": [
    "def nw_diffusion_local_poly_closed(samples, schedule, degree, H):\n",
    "\n",
    "    def estimator(cond, noised_value, t):\n",
    "        x = jnp.concatenate((jnp.array([cond]), jnp.array([noised_value])), -1)\n",
    "        alphas_prod = schedule.alphas_cumprod[t]\n",
    "        x_samples = jnp.concatenate((samples.cond, jnp.sqrt(alphas_prod)*samples.value), -1)\n",
    "        num_features = x.shape[-1]\n",
    "        Sigma = jnp.zeros((samples.cond.shape[-1],))\n",
    "        Sigma = jnp.append(\n",
    "            Sigma,\n",
    "            jnp.repeat(jnp.array([1-alphas_prod]), samples.value.shape[-1])\n",
    "        )\n",
    "        #jax.debug.print('{s}', s=Sigma)\n",
    "\n",
    "        degree_vecs = enumerate_degrees(num_features, degree)\n",
    "\n",
    "        # such that: degree_matrix[i, j, :] = degree_vecs[i, :] + degree_vecs[j, :]\n",
    "        degree_matrix = degree_vecs[None, :, :] + degree_vecs[:, None, :]\n",
    "        apply_psi = lambda deg_vec: jnp.sum(\n",
    "            jax.vmap(make_psi_multi(deg_vec, Sigma, H))(x_samples - x),\n",
    "            axis=0\n",
    "        )\n",
    "        A = jax.vmap(jax.vmap(apply_psi))(degree_matrix)\n",
    "\n",
    "        \n",
    "        apply_psi = lambda deg_vec: jnp.sum(\n",
    "            jax.vmap(make_psi_multi(deg_vec, Sigma, H))(x_samples - x)[:, None] * samples.value,\n",
    "            axis=0\n",
    "        )\n",
    "        b = jax.vmap(apply_psi)(degree_vecs)\n",
    "\n",
    "        # jax.debug.print('{s}', s=A)\n",
    "        # jax.debug.print('{s}', s=b)\n",
    "        coeffs, _, _, _ = jnp.linalg.lstsq(A, b)\n",
    "\n",
    "        poly_x = expand_poly_features(degree, x)\n",
    "        estimate = jnp.dot(poly_x, coeffs)\n",
    "\n",
    "        # jax.debug.print('{s}', s=estimate.shape)\n",
    "        \n",
    "        return Sample(cond=jnp.array([cond]), value=estimate[0,:])\n",
    "    \n",
    "    return estimator"
   ]
  },
  {
   "cell_type": "code",
   "execution_count": 263,
   "metadata": {},
   "outputs": [],
   "source": [
    "from argon.diffusion.ddpm import DDPMSchedule\n",
    "schedule = DDPMSchedule.make_squaredcos_cap_v2(50, clip_sample_range=3.0, prediction_type=\"sample\")\n",
    "\n",
    "#nw_estimator = nadaraya_watson_diffusion(PRNGKey(42), data, schedule, log_gaussian_kernel, log_gaussian_kernel, 0.1, 0.1, 10)\n",
    "#nw_estimator(0, jnp.array([0]), 0)\n",
    "#plot_samples_scatter(jax.vmap(nw_estimator, in_axes=(0, None, None))(jnp.linspace(0,1,32), jnp.array([-1]), 0))\n",
    "#nw_estimator = nw_diffusion_local_poly_closed(data, schedule, 1, 0.04*jnp.ones((data.cond.shape[-1] + data.value.shape[-1],)))\n",
    "nw_estimator = nw_diffusion_local_poly(PRNGKey(42), data, schedule, 1, log_gaussian_kernel, log_gaussian_kernel,\n",
    "                                                   0.01, 0.01, 64)\n",
    "#print(nw_estimator(1,jnp.array([0,0,0,0]),0))\n",
    "\n",
    "def sample_values(rng_key, cond, num_samples):\n",
    "    model = lambda _, y_t, t: nw_estimator(cond, y_t, t).value\n",
    "    batch_sample_fn = jax.vmap(schedule.sample, in_axes=(0, None, None))\n",
    "    sampled_y_pred = batch_sample_fn(jax.random.split(rng_key, num_samples), model, data_sample)\n",
    "    return Sample(jnp.array([cond]), sampled_y_pred)\n",
    "\n",
    "def compute_denoised():\n",
    "    denoiser = lambda cond, y_t, t: nw_estimator(cond, y_t, t).value\n",
    "    conds = jnp.array([0, 0.5, 1])\n",
    "    xs = jnp.linspace(0, 1, 10) \n",
    "    ts = jnp.arange(1, schedule.num_steps + 1)\n",
    "    Conds, Xs, Ts = jnp.meshgrid(conds, xs, ts, indexing='ij')\n",
    "    Xs = Xs[...,None] * jnp.ones((data_sample.shape[-1],))/jnp.sqrt(data_sample.shape[-1])[None,...]\n",
    "    values = jax.vmap(jax.vmap(jax.vmap(denoiser)))(Conds, Xs, Ts)\n",
    "    return conds, xs, ts, values\n",
    "\n",
    "def plot_score(conds, xs, ts, values, value_transform=lambda x:x):\n",
    "    import plotly.express as px\n",
    "    import plotly.graph_objects as go\n",
    "    ret = {}\n",
    "    Xs, Ts = jnp.meshgrid(xs, ts)\n",
    "    Xs = Xs.reshape(-1)\n",
    "    Ts = Ts.reshape(-1)\n",
    "    for cond, values in zip(conds, values):\n",
    "        values = jax.vmap(value_transform)(values)\n",
    "        #ret = ret | {str(cond.item()): px.scatter_3d(x=Xs, y=Ts, z=values.reshape(-1), opacity=0.5)}\n",
    "        ret = ret | {str(cond.item()): go.Figure(data=[go.Surface(x=ts, y=xs, z=values)])}\n",
    "    return ret\n",
    "\n",
    "# denoised = compute_denoised()\n",
    "# plots = plot_score(*denoised, proj_transform)\n",
    "# for plot in plots.values():\n",
    "#     plot.show(renderer=\"browser\")\n",
    "\n",
    "num_conds = 32\n",
    "num_samples = 64\n",
    "samples = jax.vmap(sample_values, in_axes=[0,0,None])(\n",
    "    jax.random.split(PRNGKey(42), num_conds),\n",
    "    jnp.linspace(0,1,num_conds),\n",
    "    num_samples\n",
    ")\n",
    "#print(samples)\n"
   ]
  },
  {
   "cell_type": "code",
   "execution_count": 264,
   "metadata": {},
   "outputs": [
    {
     "data": {
      "application/vnd.plotly.v1+json": {
       "config": {
        "plotlyServerURL": "https://plot.ly"
       },
       "data": [
        {
         "hovertemplate": "x=%{x}<br>y=%{y}<extra></extra>",
         "legendgroup": "",
         "marker": {
          "color": "#636efa",
          "opacity": 0.5,
          "symbol": "circle"
         },
         "mode": "markers",
         "name": "",
         "showlegend": false,
         "type": "scattergl",
         "x": [
          0,
          0,
          0,
          0,
          0,
          0,
          0,
          0,
          0,
          0,
          0,
          0,
          0,
          0,
          0,
          0,
          0,
          0,
          0,
          0,
          0,
          0,
          0,
          0,
          0,
          0,
          0,
          0,
          0,
          0,
          0,
          0,
          0,
          0,
          0,
          0,
          0,
          0,
          0,
          0,
          0,
          0,
          0,
          0,
          0,
          0,
          0,
          0,
          0,
          0,
          0,
          0,
          0,
          0,
          0,
          0,
          0,
          0,
          0,
          0,
          0,
          0,
          0,
          0,
          0.032258063554763794,
          0.032258063554763794,
          0.032258063554763794,
          0.032258063554763794,
          0.032258063554763794,
          0.032258063554763794,
          0.032258063554763794,
          0.032258063554763794,
          0.032258063554763794,
          0.032258063554763794,
          0.032258063554763794,
          0.032258063554763794,
          0.032258063554763794,
          0.032258063554763794,
          0.032258063554763794,
          0.032258063554763794,
          0.032258063554763794,
          0.032258063554763794,
          0.032258063554763794,
          0.032258063554763794,
          0.032258063554763794,
          0.032258063554763794,
          0.032258063554763794,
          0.032258063554763794,
          0.032258063554763794,
          0.032258063554763794,
          0.032258063554763794,
          0.032258063554763794,
          0.032258063554763794,
          0.032258063554763794,
          0.032258063554763794,
          0.032258063554763794,
          0.032258063554763794,
          0.032258063554763794,
          0.032258063554763794,
          0.032258063554763794,
          0.032258063554763794,
          0.032258063554763794,
          0.032258063554763794,
          0.032258063554763794,
          0.032258063554763794,
          0.032258063554763794,
          0.032258063554763794,
          0.032258063554763794,
          0.032258063554763794,
          0.032258063554763794,
          0.032258063554763794,
          0.032258063554763794,
          0.032258063554763794,
          0.032258063554763794,
          0.032258063554763794,
          0.032258063554763794,
          0.032258063554763794,
          0.032258063554763794,
          0.032258063554763794,
          0.032258063554763794,
          0.032258063554763794,
          0.032258063554763794,
          0.032258063554763794,
          0.032258063554763794,
          0.032258063554763794,
          0.032258063554763794,
          0.032258063554763794,
          0.032258063554763794,
          0.06451612710952759,
          0.06451612710952759,
          0.06451612710952759,
          0.06451612710952759,
          0.06451612710952759,
          0.06451612710952759,
          0.06451612710952759,
          0.06451612710952759,
          0.06451612710952759,
          0.06451612710952759,
          0.06451612710952759,
          0.06451612710952759,
          0.06451612710952759,
          0.06451612710952759,
          0.06451612710952759,
          0.06451612710952759,
          0.06451612710952759,
          0.06451612710952759,
          0.06451612710952759,
          0.06451612710952759,
          0.06451612710952759,
          0.06451612710952759,
          0.06451612710952759,
          0.06451612710952759,
          0.06451612710952759,
          0.06451612710952759,
          0.06451612710952759,
          0.06451612710952759,
          0.06451612710952759,
          0.06451612710952759,
          0.06451612710952759,
          0.06451612710952759,
          0.06451612710952759,
          0.06451612710952759,
          0.06451612710952759,
          0.06451612710952759,
          0.06451612710952759,
          0.06451612710952759,
          0.06451612710952759,
          0.06451612710952759,
          0.06451612710952759,
          0.06451612710952759,
          0.06451612710952759,
          0.06451612710952759,
          0.06451612710952759,
          0.06451612710952759,
          0.06451612710952759,
          0.06451612710952759,
          0.06451612710952759,
          0.06451612710952759,
          0.06451612710952759,
          0.06451612710952759,
          0.06451612710952759,
          0.06451612710952759,
          0.06451612710952759,
          0.06451612710952759,
          0.06451612710952759,
          0.06451612710952759,
          0.06451612710952759,
          0.06451612710952759,
          0.06451612710952759,
          0.06451612710952759,
          0.06451612710952759,
          0.06451612710952759,
          0.09677419066429138,
          0.09677419066429138,
          0.09677419066429138,
          0.09677419066429138,
          0.09677419066429138,
          0.09677419066429138,
          0.09677419066429138,
          0.09677419066429138,
          0.09677419066429138,
          0.09677419066429138,
          0.09677419066429138,
          0.09677419066429138,
          0.09677419066429138,
          0.09677419066429138,
          0.09677419066429138,
          0.09677419066429138,
          0.09677419066429138,
          0.09677419066429138,
          0.09677419066429138,
          0.09677419066429138,
          0.09677419066429138,
          0.09677419066429138,
          0.09677419066429138,
          0.09677419066429138,
          0.09677419066429138,
          0.09677419066429138,
          0.09677419066429138,
          0.09677419066429138,
          0.09677419066429138,
          0.09677419066429138,
          0.09677419066429138,
          0.09677419066429138,
          0.09677419066429138,
          0.09677419066429138,
          0.09677419066429138,
          0.09677419066429138,
          0.09677419066429138,
          0.09677419066429138,
          0.09677419066429138,
          0.09677419066429138,
          0.09677419066429138,
          0.09677419066429138,
          0.09677419066429138,
          0.09677419066429138,
          0.09677419066429138,
          0.09677419066429138,
          0.09677419066429138,
          0.09677419066429138,
          0.09677419066429138,
          0.09677419066429138,
          0.09677419066429138,
          0.09677419066429138,
          0.09677419066429138,
          0.09677419066429138,
          0.09677419066429138,
          0.09677419066429138,
          0.09677419066429138,
          0.09677419066429138,
          0.09677419066429138,
          0.09677419066429138,
          0.09677419066429138,
          0.09677419066429138,
          0.09677419066429138,
          0.09677419066429138,
          0.12903225421905518,
          0.12903225421905518,
          0.12903225421905518,
          0.12903225421905518,
          0.12903225421905518,
          0.12903225421905518,
          0.12903225421905518,
          0.12903225421905518,
          0.12903225421905518,
          0.12903225421905518,
          0.12903225421905518,
          0.12903225421905518,
          0.12903225421905518,
          0.12903225421905518,
          0.12903225421905518,
          0.12903225421905518,
          0.12903225421905518,
          0.12903225421905518,
          0.12903225421905518,
          0.12903225421905518,
          0.12903225421905518,
          0.12903225421905518,
          0.12903225421905518,
          0.12903225421905518,
          0.12903225421905518,
          0.12903225421905518,
          0.12903225421905518,
          0.12903225421905518,
          0.12903225421905518,
          0.12903225421905518,
          0.12903225421905518,
          0.12903225421905518,
          0.12903225421905518,
          0.12903225421905518,
          0.12903225421905518,
          0.12903225421905518,
          0.12903225421905518,
          0.12903225421905518,
          0.12903225421905518,
          0.12903225421905518,
          0.12903225421905518,
          0.12903225421905518,
          0.12903225421905518,
          0.12903225421905518,
          0.12903225421905518,
          0.12903225421905518,
          0.12903225421905518,
          0.12903225421905518,
          0.12903225421905518,
          0.12903225421905518,
          0.12903225421905518,
          0.12903225421905518,
          0.12903225421905518,
          0.12903225421905518,
          0.12903225421905518,
          0.12903225421905518,
          0.12903225421905518,
          0.12903225421905518,
          0.12903225421905518,
          0.12903225421905518,
          0.12903225421905518,
          0.12903225421905518,
          0.12903225421905518,
          0.12903225421905518,
          0.16129031777381897,
          0.16129031777381897,
          0.16129031777381897,
          0.16129031777381897,
          0.16129031777381897,
          0.16129031777381897,
          0.16129031777381897,
          0.16129031777381897,
          0.16129031777381897,
          0.16129031777381897,
          0.16129031777381897,
          0.16129031777381897,
          0.16129031777381897,
          0.16129031777381897,
          0.16129031777381897,
          0.16129031777381897,
          0.16129031777381897,
          0.16129031777381897,
          0.16129031777381897,
          0.16129031777381897,
          0.16129031777381897,
          0.16129031777381897,
          0.16129031777381897,
          0.16129031777381897,
          0.16129031777381897,
          0.16129031777381897,
          0.16129031777381897,
          0.16129031777381897,
          0.16129031777381897,
          0.16129031777381897,
          0.16129031777381897,
          0.16129031777381897,
          0.16129031777381897,
          0.16129031777381897,
          0.16129031777381897,
          0.16129031777381897,
          0.16129031777381897,
          0.16129031777381897,
          0.16129031777381897,
          0.16129031777381897,
          0.16129031777381897,
          0.16129031777381897,
          0.16129031777381897,
          0.16129031777381897,
          0.16129031777381897,
          0.16129031777381897,
          0.16129031777381897,
          0.16129031777381897,
          0.16129031777381897,
          0.16129031777381897,
          0.16129031777381897,
          0.16129031777381897,
          0.16129031777381897,
          0.16129031777381897,
          0.16129031777381897,
          0.16129031777381897,
          0.16129031777381897,
          0.16129031777381897,
          0.16129031777381897,
          0.16129031777381897,
          0.16129031777381897,
          0.16129031777381897,
          0.16129031777381897,
          0.16129031777381897,
          0.19354838132858276,
          0.19354838132858276,
          0.19354838132858276,
          0.19354838132858276,
          0.19354838132858276,
          0.19354838132858276,
          0.19354838132858276,
          0.19354838132858276,
          0.19354838132858276,
          0.19354838132858276,
          0.19354838132858276,
          0.19354838132858276,
          0.19354838132858276,
          0.19354838132858276,
          0.19354838132858276,
          0.19354838132858276,
          0.19354838132858276,
          0.19354838132858276,
          0.19354838132858276,
          0.19354838132858276,
          0.19354838132858276,
          0.19354838132858276,
          0.19354838132858276,
          0.19354838132858276,
          0.19354838132858276,
          0.19354838132858276,
          0.19354838132858276,
          0.19354838132858276,
          0.19354838132858276,
          0.19354838132858276,
          0.19354838132858276,
          0.19354838132858276,
          0.19354838132858276,
          0.19354838132858276,
          0.19354838132858276,
          0.19354838132858276,
          0.19354838132858276,
          0.19354838132858276,
          0.19354838132858276,
          0.19354838132858276,
          0.19354838132858276,
          0.19354838132858276,
          0.19354838132858276,
          0.19354838132858276,
          0.19354838132858276,
          0.19354838132858276,
          0.19354838132858276,
          0.19354838132858276,
          0.19354838132858276,
          0.19354838132858276,
          0.19354838132858276,
          0.19354838132858276,
          0.19354838132858276,
          0.19354838132858276,
          0.19354838132858276,
          0.19354838132858276,
          0.19354838132858276,
          0.19354838132858276,
          0.19354838132858276,
          0.19354838132858276,
          0.19354838132858276,
          0.19354838132858276,
          0.19354838132858276,
          0.19354838132858276,
          0.22580644488334656,
          0.22580644488334656,
          0.22580644488334656,
          0.22580644488334656,
          0.22580644488334656,
          0.22580644488334656,
          0.22580644488334656,
          0.22580644488334656,
          0.22580644488334656,
          0.22580644488334656,
          0.22580644488334656,
          0.22580644488334656,
          0.22580644488334656,
          0.22580644488334656,
          0.22580644488334656,
          0.22580644488334656,
          0.22580644488334656,
          0.22580644488334656,
          0.22580644488334656,
          0.22580644488334656,
          0.22580644488334656,
          0.22580644488334656,
          0.22580644488334656,
          0.22580644488334656,
          0.22580644488334656,
          0.22580644488334656,
          0.22580644488334656,
          0.22580644488334656,
          0.22580644488334656,
          0.22580644488334656,
          0.22580644488334656,
          0.22580644488334656,
          0.22580644488334656,
          0.22580644488334656,
          0.22580644488334656,
          0.22580644488334656,
          0.22580644488334656,
          0.22580644488334656,
          0.22580644488334656,
          0.22580644488334656,
          0.22580644488334656,
          0.22580644488334656,
          0.22580644488334656,
          0.22580644488334656,
          0.22580644488334656,
          0.22580644488334656,
          0.22580644488334656,
          0.22580644488334656,
          0.22580644488334656,
          0.22580644488334656,
          0.22580644488334656,
          0.22580644488334656,
          0.22580644488334656,
          0.22580644488334656,
          0.22580644488334656,
          0.22580644488334656,
          0.22580644488334656,
          0.22580644488334656,
          0.22580644488334656,
          0.22580644488334656,
          0.22580644488334656,
          0.22580644488334656,
          0.22580644488334656,
          0.22580644488334656,
          0.25806450843811035,
          0.25806450843811035,
          0.25806450843811035,
          0.25806450843811035,
          0.25806450843811035,
          0.25806450843811035,
          0.25806450843811035,
          0.25806450843811035,
          0.25806450843811035,
          0.25806450843811035,
          0.25806450843811035,
          0.25806450843811035,
          0.25806450843811035,
          0.25806450843811035,
          0.25806450843811035,
          0.25806450843811035,
          0.25806450843811035,
          0.25806450843811035,
          0.25806450843811035,
          0.25806450843811035,
          0.25806450843811035,
          0.25806450843811035,
          0.25806450843811035,
          0.25806450843811035,
          0.25806450843811035,
          0.25806450843811035,
          0.25806450843811035,
          0.25806450843811035,
          0.25806450843811035,
          0.25806450843811035,
          0.25806450843811035,
          0.25806450843811035,
          0.25806450843811035,
          0.25806450843811035,
          0.25806450843811035,
          0.25806450843811035,
          0.25806450843811035,
          0.25806450843811035,
          0.25806450843811035,
          0.25806450843811035,
          0.25806450843811035,
          0.25806450843811035,
          0.25806450843811035,
          0.25806450843811035,
          0.25806450843811035,
          0.25806450843811035,
          0.25806450843811035,
          0.25806450843811035,
          0.25806450843811035,
          0.25806450843811035,
          0.25806450843811035,
          0.25806450843811035,
          0.25806450843811035,
          0.25806450843811035,
          0.25806450843811035,
          0.25806450843811035,
          0.25806450843811035,
          0.25806450843811035,
          0.25806450843811035,
          0.25806450843811035,
          0.25806450843811035,
          0.25806450843811035,
          0.25806450843811035,
          0.25806450843811035,
          0.29032257199287415,
          0.29032257199287415,
          0.29032257199287415,
          0.29032257199287415,
          0.29032257199287415,
          0.29032257199287415,
          0.29032257199287415,
          0.29032257199287415,
          0.29032257199287415,
          0.29032257199287415,
          0.29032257199287415,
          0.29032257199287415,
          0.29032257199287415,
          0.29032257199287415,
          0.29032257199287415,
          0.29032257199287415,
          0.29032257199287415,
          0.29032257199287415,
          0.29032257199287415,
          0.29032257199287415,
          0.29032257199287415,
          0.29032257199287415,
          0.29032257199287415,
          0.29032257199287415,
          0.29032257199287415,
          0.29032257199287415,
          0.29032257199287415,
          0.29032257199287415,
          0.29032257199287415,
          0.29032257199287415,
          0.29032257199287415,
          0.29032257199287415,
          0.29032257199287415,
          0.29032257199287415,
          0.29032257199287415,
          0.29032257199287415,
          0.29032257199287415,
          0.29032257199287415,
          0.29032257199287415,
          0.29032257199287415,
          0.29032257199287415,
          0.29032257199287415,
          0.29032257199287415,
          0.29032257199287415,
          0.29032257199287415,
          0.29032257199287415,
          0.29032257199287415,
          0.29032257199287415,
          0.29032257199287415,
          0.29032257199287415,
          0.29032257199287415,
          0.29032257199287415,
          0.29032257199287415,
          0.29032257199287415,
          0.29032257199287415,
          0.29032257199287415,
          0.29032257199287415,
          0.29032257199287415,
          0.29032257199287415,
          0.29032257199287415,
          0.29032257199287415,
          0.29032257199287415,
          0.29032257199287415,
          0.29032257199287415,
          0.32258063554763794,
          0.32258063554763794,
          0.32258063554763794,
          0.32258063554763794,
          0.32258063554763794,
          0.32258063554763794,
          0.32258063554763794,
          0.32258063554763794,
          0.32258063554763794,
          0.32258063554763794,
          0.32258063554763794,
          0.32258063554763794,
          0.32258063554763794,
          0.32258063554763794,
          0.32258063554763794,
          0.32258063554763794,
          0.32258063554763794,
          0.32258063554763794,
          0.32258063554763794,
          0.32258063554763794,
          0.32258063554763794,
          0.32258063554763794,
          0.32258063554763794,
          0.32258063554763794,
          0.32258063554763794,
          0.32258063554763794,
          0.32258063554763794,
          0.32258063554763794,
          0.32258063554763794,
          0.32258063554763794,
          0.32258063554763794,
          0.32258063554763794,
          0.32258063554763794,
          0.32258063554763794,
          0.32258063554763794,
          0.32258063554763794,
          0.32258063554763794,
          0.32258063554763794,
          0.32258063554763794,
          0.32258063554763794,
          0.32258063554763794,
          0.32258063554763794,
          0.32258063554763794,
          0.32258063554763794,
          0.32258063554763794,
          0.32258063554763794,
          0.32258063554763794,
          0.32258063554763794,
          0.32258063554763794,
          0.32258063554763794,
          0.32258063554763794,
          0.32258063554763794,
          0.32258063554763794,
          0.32258063554763794,
          0.32258063554763794,
          0.32258063554763794,
          0.32258063554763794,
          0.32258063554763794,
          0.32258063554763794,
          0.32258063554763794,
          0.32258063554763794,
          0.32258063554763794,
          0.32258063554763794,
          0.32258063554763794,
          0.35483869910240173,
          0.35483869910240173,
          0.35483869910240173,
          0.35483869910240173,
          0.35483869910240173,
          0.35483869910240173,
          0.35483869910240173,
          0.35483869910240173,
          0.35483869910240173,
          0.35483869910240173,
          0.35483869910240173,
          0.35483869910240173,
          0.35483869910240173,
          0.35483869910240173,
          0.35483869910240173,
          0.35483869910240173,
          0.35483869910240173,
          0.35483869910240173,
          0.35483869910240173,
          0.35483869910240173,
          0.35483869910240173,
          0.35483869910240173,
          0.35483869910240173,
          0.35483869910240173,
          0.35483869910240173,
          0.35483869910240173,
          0.35483869910240173,
          0.35483869910240173,
          0.35483869910240173,
          0.35483869910240173,
          0.35483869910240173,
          0.35483869910240173,
          0.35483869910240173,
          0.35483869910240173,
          0.35483869910240173,
          0.35483869910240173,
          0.35483869910240173,
          0.35483869910240173,
          0.35483869910240173,
          0.35483869910240173,
          0.35483869910240173,
          0.35483869910240173,
          0.35483869910240173,
          0.35483869910240173,
          0.35483869910240173,
          0.35483869910240173,
          0.35483869910240173,
          0.35483869910240173,
          0.35483869910240173,
          0.35483869910240173,
          0.35483869910240173,
          0.35483869910240173,
          0.35483869910240173,
          0.35483869910240173,
          0.35483869910240173,
          0.35483869910240173,
          0.35483869910240173,
          0.35483869910240173,
          0.35483869910240173,
          0.35483869910240173,
          0.35483869910240173,
          0.35483869910240173,
          0.35483869910240173,
          0.35483869910240173,
          0.3870967626571655,
          0.3870967626571655,
          0.3870967626571655,
          0.3870967626571655,
          0.3870967626571655,
          0.3870967626571655,
          0.3870967626571655,
          0.3870967626571655,
          0.3870967626571655,
          0.3870967626571655,
          0.3870967626571655,
          0.3870967626571655,
          0.3870967626571655,
          0.3870967626571655,
          0.3870967626571655,
          0.3870967626571655,
          0.3870967626571655,
          0.3870967626571655,
          0.3870967626571655,
          0.3870967626571655,
          0.3870967626571655,
          0.3870967626571655,
          0.3870967626571655,
          0.3870967626571655,
          0.3870967626571655,
          0.3870967626571655,
          0.3870967626571655,
          0.3870967626571655,
          0.3870967626571655,
          0.3870967626571655,
          0.3870967626571655,
          0.3870967626571655,
          0.3870967626571655,
          0.3870967626571655,
          0.3870967626571655,
          0.3870967626571655,
          0.3870967626571655,
          0.3870967626571655,
          0.3870967626571655,
          0.3870967626571655,
          0.3870967626571655,
          0.3870967626571655,
          0.3870967626571655,
          0.3870967626571655,
          0.3870967626571655,
          0.3870967626571655,
          0.3870967626571655,
          0.3870967626571655,
          0.3870967626571655,
          0.3870967626571655,
          0.3870967626571655,
          0.3870967626571655,
          0.3870967626571655,
          0.3870967626571655,
          0.3870967626571655,
          0.3870967626571655,
          0.3870967626571655,
          0.3870967626571655,
          0.3870967626571655,
          0.3870967626571655,
          0.3870967626571655,
          0.3870967626571655,
          0.3870967626571655,
          0.3870967626571655,
          0.4193548262119293,
          0.4193548262119293,
          0.4193548262119293,
          0.4193548262119293,
          0.4193548262119293,
          0.4193548262119293,
          0.4193548262119293,
          0.4193548262119293,
          0.4193548262119293,
          0.4193548262119293,
          0.4193548262119293,
          0.4193548262119293,
          0.4193548262119293,
          0.4193548262119293,
          0.4193548262119293,
          0.4193548262119293,
          0.4193548262119293,
          0.4193548262119293,
          0.4193548262119293,
          0.4193548262119293,
          0.4193548262119293,
          0.4193548262119293,
          0.4193548262119293,
          0.4193548262119293,
          0.4193548262119293,
          0.4193548262119293,
          0.4193548262119293,
          0.4193548262119293,
          0.4193548262119293,
          0.4193548262119293,
          0.4193548262119293,
          0.4193548262119293,
          0.4193548262119293,
          0.4193548262119293,
          0.4193548262119293,
          0.4193548262119293,
          0.4193548262119293,
          0.4193548262119293,
          0.4193548262119293,
          0.4193548262119293,
          0.4193548262119293,
          0.4193548262119293,
          0.4193548262119293,
          0.4193548262119293,
          0.4193548262119293,
          0.4193548262119293,
          0.4193548262119293,
          0.4193548262119293,
          0.4193548262119293,
          0.4193548262119293,
          0.4193548262119293,
          0.4193548262119293,
          0.4193548262119293,
          0.4193548262119293,
          0.4193548262119293,
          0.4193548262119293,
          0.4193548262119293,
          0.4193548262119293,
          0.4193548262119293,
          0.4193548262119293,
          0.4193548262119293,
          0.4193548262119293,
          0.4193548262119293,
          0.4193548262119293,
          0.4516128897666931,
          0.4516128897666931,
          0.4516128897666931,
          0.4516128897666931,
          0.4516128897666931,
          0.4516128897666931,
          0.4516128897666931,
          0.4516128897666931,
          0.4516128897666931,
          0.4516128897666931,
          0.4516128897666931,
          0.4516128897666931,
          0.4516128897666931,
          0.4516128897666931,
          0.4516128897666931,
          0.4516128897666931,
          0.4516128897666931,
          0.4516128897666931,
          0.4516128897666931,
          0.4516128897666931,
          0.4516128897666931,
          0.4516128897666931,
          0.4516128897666931,
          0.4516128897666931,
          0.4516128897666931,
          0.4516128897666931,
          0.4516128897666931,
          0.4516128897666931,
          0.4516128897666931,
          0.4516128897666931,
          0.4516128897666931,
          0.4516128897666931,
          0.4516128897666931,
          0.4516128897666931,
          0.4516128897666931,
          0.4516128897666931,
          0.4516128897666931,
          0.4516128897666931,
          0.4516128897666931,
          0.4516128897666931,
          0.4516128897666931,
          0.4516128897666931,
          0.4516128897666931,
          0.4516128897666931,
          0.4516128897666931,
          0.4516128897666931,
          0.4516128897666931,
          0.4516128897666931,
          0.4516128897666931,
          0.4516128897666931,
          0.4516128897666931,
          0.4516128897666931,
          0.4516128897666931,
          0.4516128897666931,
          0.4516128897666931,
          0.4516128897666931,
          0.4516128897666931,
          0.4516128897666931,
          0.4516128897666931,
          0.4516128897666931,
          0.4516128897666931,
          0.4516128897666931,
          0.4516128897666931,
          0.4516128897666931,
          0.4838709533214569,
          0.4838709533214569,
          0.4838709533214569,
          0.4838709533214569,
          0.4838709533214569,
          0.4838709533214569,
          0.4838709533214569,
          0.4838709533214569,
          0.4838709533214569,
          0.4838709533214569,
          0.4838709533214569,
          0.4838709533214569,
          0.4838709533214569,
          0.4838709533214569,
          0.4838709533214569,
          0.4838709533214569,
          0.4838709533214569,
          0.4838709533214569,
          0.4838709533214569,
          0.4838709533214569,
          0.4838709533214569,
          0.4838709533214569,
          0.4838709533214569,
          0.4838709533214569,
          0.4838709533214569,
          0.4838709533214569,
          0.4838709533214569,
          0.4838709533214569,
          0.4838709533214569,
          0.4838709533214569,
          0.4838709533214569,
          0.4838709533214569,
          0.4838709533214569,
          0.4838709533214569,
          0.4838709533214569,
          0.4838709533214569,
          0.4838709533214569,
          0.4838709533214569,
          0.4838709533214569,
          0.4838709533214569,
          0.4838709533214569,
          0.4838709533214569,
          0.4838709533214569,
          0.4838709533214569,
          0.4838709533214569,
          0.4838709533214569,
          0.4838709533214569,
          0.4838709533214569,
          0.4838709533214569,
          0.4838709533214569,
          0.4838709533214569,
          0.4838709533214569,
          0.4838709533214569,
          0.4838709533214569,
          0.4838709533214569,
          0.4838709533214569,
          0.4838709533214569,
          0.4838709533214569,
          0.4838709533214569,
          0.4838709533214569,
          0.4838709533214569,
          0.4838709533214569,
          0.4838709533214569,
          0.4838709533214569,
          0.5161290168762207,
          0.5161290168762207,
          0.5161290168762207,
          0.5161290168762207,
          0.5161290168762207,
          0.5161290168762207,
          0.5161290168762207,
          0.5161290168762207,
          0.5161290168762207,
          0.5161290168762207,
          0.5161290168762207,
          0.5161290168762207,
          0.5161290168762207,
          0.5161290168762207,
          0.5161290168762207,
          0.5161290168762207,
          0.5161290168762207,
          0.5161290168762207,
          0.5161290168762207,
          0.5161290168762207,
          0.5161290168762207,
          0.5161290168762207,
          0.5161290168762207,
          0.5161290168762207,
          0.5161290168762207,
          0.5161290168762207,
          0.5161290168762207,
          0.5161290168762207,
          0.5161290168762207,
          0.5161290168762207,
          0.5161290168762207,
          0.5161290168762207,
          0.5161290168762207,
          0.5161290168762207,
          0.5161290168762207,
          0.5161290168762207,
          0.5161290168762207,
          0.5161290168762207,
          0.5161290168762207,
          0.5161290168762207,
          0.5161290168762207,
          0.5161290168762207,
          0.5161290168762207,
          0.5161290168762207,
          0.5161290168762207,
          0.5161290168762207,
          0.5161290168762207,
          0.5161290168762207,
          0.5161290168762207,
          0.5161290168762207,
          0.5161290168762207,
          0.5161290168762207,
          0.5161290168762207,
          0.5161290168762207,
          0.5161290168762207,
          0.5161290168762207,
          0.5161290168762207,
          0.5161290168762207,
          0.5161290168762207,
          0.5161290168762207,
          0.5161290168762207,
          0.5161290168762207,
          0.5161290168762207,
          0.5161290168762207,
          0.5483870506286621,
          0.5483870506286621,
          0.5483870506286621,
          0.5483870506286621,
          0.5483870506286621,
          0.5483870506286621,
          0.5483870506286621,
          0.5483870506286621,
          0.5483870506286621,
          0.5483870506286621,
          0.5483870506286621,
          0.5483870506286621,
          0.5483870506286621,
          0.5483870506286621,
          0.5483870506286621,
          0.5483870506286621,
          0.5483870506286621,
          0.5483870506286621,
          0.5483870506286621,
          0.5483870506286621,
          0.5483870506286621,
          0.5483870506286621,
          0.5483870506286621,
          0.5483870506286621,
          0.5483870506286621,
          0.5483870506286621,
          0.5483870506286621,
          0.5483870506286621,
          0.5483870506286621,
          0.5483870506286621,
          0.5483870506286621,
          0.5483870506286621,
          0.5483870506286621,
          0.5483870506286621,
          0.5483870506286621,
          0.5483870506286621,
          0.5483870506286621,
          0.5483870506286621,
          0.5483870506286621,
          0.5483870506286621,
          0.5483870506286621,
          0.5483870506286621,
          0.5483870506286621,
          0.5483870506286621,
          0.5483870506286621,
          0.5483870506286621,
          0.5483870506286621,
          0.5483870506286621,
          0.5483870506286621,
          0.5483870506286621,
          0.5483870506286621,
          0.5483870506286621,
          0.5483870506286621,
          0.5483870506286621,
          0.5483870506286621,
          0.5483870506286621,
          0.5483870506286621,
          0.5483870506286621,
          0.5483870506286621,
          0.5483870506286621,
          0.5483870506286621,
          0.5483870506286621,
          0.5483870506286621,
          0.5483870506286621,
          0.5806451439857483,
          0.5806451439857483,
          0.5806451439857483,
          0.5806451439857483,
          0.5806451439857483,
          0.5806451439857483,
          0.5806451439857483,
          0.5806451439857483,
          0.5806451439857483,
          0.5806451439857483,
          0.5806451439857483,
          0.5806451439857483,
          0.5806451439857483,
          0.5806451439857483,
          0.5806451439857483,
          0.5806451439857483,
          0.5806451439857483,
          0.5806451439857483,
          0.5806451439857483,
          0.5806451439857483,
          0.5806451439857483,
          0.5806451439857483,
          0.5806451439857483,
          0.5806451439857483,
          0.5806451439857483,
          0.5806451439857483,
          0.5806451439857483,
          0.5806451439857483,
          0.5806451439857483,
          0.5806451439857483,
          0.5806451439857483,
          0.5806451439857483,
          0.5806451439857483,
          0.5806451439857483,
          0.5806451439857483,
          0.5806451439857483,
          0.5806451439857483,
          0.5806451439857483,
          0.5806451439857483,
          0.5806451439857483,
          0.5806451439857483,
          0.5806451439857483,
          0.5806451439857483,
          0.5806451439857483,
          0.5806451439857483,
          0.5806451439857483,
          0.5806451439857483,
          0.5806451439857483,
          0.5806451439857483,
          0.5806451439857483,
          0.5806451439857483,
          0.5806451439857483,
          0.5806451439857483,
          0.5806451439857483,
          0.5806451439857483,
          0.5806451439857483,
          0.5806451439857483,
          0.5806451439857483,
          0.5806451439857483,
          0.5806451439857483,
          0.5806451439857483,
          0.5806451439857483,
          0.5806451439857483,
          0.5806451439857483,
          0.6129032373428345,
          0.6129032373428345,
          0.6129032373428345,
          0.6129032373428345,
          0.6129032373428345,
          0.6129032373428345,
          0.6129032373428345,
          0.6129032373428345,
          0.6129032373428345,
          0.6129032373428345,
          0.6129032373428345,
          0.6129032373428345,
          0.6129032373428345,
          0.6129032373428345,
          0.6129032373428345,
          0.6129032373428345,
          0.6129032373428345,
          0.6129032373428345,
          0.6129032373428345,
          0.6129032373428345,
          0.6129032373428345,
          0.6129032373428345,
          0.6129032373428345,
          0.6129032373428345,
          0.6129032373428345,
          0.6129032373428345,
          0.6129032373428345,
          0.6129032373428345,
          0.6129032373428345,
          0.6129032373428345,
          0.6129032373428345,
          0.6129032373428345,
          0.6129032373428345,
          0.6129032373428345,
          0.6129032373428345,
          0.6129032373428345,
          0.6129032373428345,
          0.6129032373428345,
          0.6129032373428345,
          0.6129032373428345,
          0.6129032373428345,
          0.6129032373428345,
          0.6129032373428345,
          0.6129032373428345,
          0.6129032373428345,
          0.6129032373428345,
          0.6129032373428345,
          0.6129032373428345,
          0.6129032373428345,
          0.6129032373428345,
          0.6129032373428345,
          0.6129032373428345,
          0.6129032373428345,
          0.6129032373428345,
          0.6129032373428345,
          0.6129032373428345,
          0.6129032373428345,
          0.6129032373428345,
          0.6129032373428345,
          0.6129032373428345,
          0.6129032373428345,
          0.6129032373428345,
          0.6129032373428345,
          0.6129032373428345,
          0.6451612710952759,
          0.6451612710952759,
          0.6451612710952759,
          0.6451612710952759,
          0.6451612710952759,
          0.6451612710952759,
          0.6451612710952759,
          0.6451612710952759,
          0.6451612710952759,
          0.6451612710952759,
          0.6451612710952759,
          0.6451612710952759,
          0.6451612710952759,
          0.6451612710952759,
          0.6451612710952759,
          0.6451612710952759,
          0.6451612710952759,
          0.6451612710952759,
          0.6451612710952759,
          0.6451612710952759,
          0.6451612710952759,
          0.6451612710952759,
          0.6451612710952759,
          0.6451612710952759,
          0.6451612710952759,
          0.6451612710952759,
          0.6451612710952759,
          0.6451612710952759,
          0.6451612710952759,
          0.6451612710952759,
          0.6451612710952759,
          0.6451612710952759,
          0.6451612710952759,
          0.6451612710952759,
          0.6451612710952759,
          0.6451612710952759,
          0.6451612710952759,
          0.6451612710952759,
          0.6451612710952759,
          0.6451612710952759,
          0.6451612710952759,
          0.6451612710952759,
          0.6451612710952759,
          0.6451612710952759,
          0.6451612710952759,
          0.6451612710952759,
          0.6451612710952759,
          0.6451612710952759,
          0.6451612710952759,
          0.6451612710952759,
          0.6451612710952759,
          0.6451612710952759,
          0.6451612710952759,
          0.6451612710952759,
          0.6451612710952759,
          0.6451612710952759,
          0.6451612710952759,
          0.6451612710952759,
          0.6451612710952759,
          0.6451612710952759,
          0.6451612710952759,
          0.6451612710952759,
          0.6451612710952759,
          0.6451612710952759,
          0.6774193048477173,
          0.6774193048477173,
          0.6774193048477173,
          0.6774193048477173,
          0.6774193048477173,
          0.6774193048477173,
          0.6774193048477173,
          0.6774193048477173,
          0.6774193048477173,
          0.6774193048477173,
          0.6774193048477173,
          0.6774193048477173,
          0.6774193048477173,
          0.6774193048477173,
          0.6774193048477173,
          0.6774193048477173,
          0.6774193048477173,
          0.6774193048477173,
          0.6774193048477173,
          0.6774193048477173,
          0.6774193048477173,
          0.6774193048477173,
          0.6774193048477173,
          0.6774193048477173,
          0.6774193048477173,
          0.6774193048477173,
          0.6774193048477173,
          0.6774193048477173,
          0.6774193048477173,
          0.6774193048477173,
          0.6774193048477173,
          0.6774193048477173,
          0.6774193048477173,
          0.6774193048477173,
          0.6774193048477173,
          0.6774193048477173,
          0.6774193048477173,
          0.6774193048477173,
          0.6774193048477173,
          0.6774193048477173,
          0.6774193048477173,
          0.6774193048477173,
          0.6774193048477173,
          0.6774193048477173,
          0.6774193048477173,
          0.6774193048477173,
          0.6774193048477173,
          0.6774193048477173,
          0.6774193048477173,
          0.6774193048477173,
          0.6774193048477173,
          0.6774193048477173,
          0.6774193048477173,
          0.6774193048477173,
          0.6774193048477173,
          0.6774193048477173,
          0.6774193048477173,
          0.6774193048477173,
          0.6774193048477173,
          0.6774193048477173,
          0.6774193048477173,
          0.6774193048477173,
          0.6774193048477173,
          0.6774193048477173,
          0.7096773982048035,
          0.7096773982048035,
          0.7096773982048035,
          0.7096773982048035,
          0.7096773982048035,
          0.7096773982048035,
          0.7096773982048035,
          0.7096773982048035,
          0.7096773982048035,
          0.7096773982048035,
          0.7096773982048035,
          0.7096773982048035,
          0.7096773982048035,
          0.7096773982048035,
          0.7096773982048035,
          0.7096773982048035,
          0.7096773982048035,
          0.7096773982048035,
          0.7096773982048035,
          0.7096773982048035,
          0.7096773982048035,
          0.7096773982048035,
          0.7096773982048035,
          0.7096773982048035,
          0.7096773982048035,
          0.7096773982048035,
          0.7096773982048035,
          0.7096773982048035,
          0.7096773982048035,
          0.7096773982048035,
          0.7096773982048035,
          0.7096773982048035,
          0.7096773982048035,
          0.7096773982048035,
          0.7096773982048035,
          0.7096773982048035,
          0.7096773982048035,
          0.7096773982048035,
          0.7096773982048035,
          0.7096773982048035,
          0.7096773982048035,
          0.7096773982048035,
          0.7096773982048035,
          0.7096773982048035,
          0.7096773982048035,
          0.7096773982048035,
          0.7096773982048035,
          0.7096773982048035,
          0.7096773982048035,
          0.7096773982048035,
          0.7096773982048035,
          0.7096773982048035,
          0.7096773982048035,
          0.7096773982048035,
          0.7096773982048035,
          0.7096773982048035,
          0.7096773982048035,
          0.7096773982048035,
          0.7096773982048035,
          0.7096773982048035,
          0.7096773982048035,
          0.7096773982048035,
          0.7096773982048035,
          0.7096773982048035,
          0.7419354915618896,
          0.7419354915618896,
          0.7419354915618896,
          0.7419354915618896,
          0.7419354915618896,
          0.7419354915618896,
          0.7419354915618896,
          0.7419354915618896,
          0.7419354915618896,
          0.7419354915618896,
          0.7419354915618896,
          0.7419354915618896,
          0.7419354915618896,
          0.7419354915618896,
          0.7419354915618896,
          0.7419354915618896,
          0.7419354915618896,
          0.7419354915618896,
          0.7419354915618896,
          0.7419354915618896,
          0.7419354915618896,
          0.7419354915618896,
          0.7419354915618896,
          0.7419354915618896,
          0.7419354915618896,
          0.7419354915618896,
          0.7419354915618896,
          0.7419354915618896,
          0.7419354915618896,
          0.7419354915618896,
          0.7419354915618896,
          0.7419354915618896,
          0.7419354915618896,
          0.7419354915618896,
          0.7419354915618896,
          0.7419354915618896,
          0.7419354915618896,
          0.7419354915618896,
          0.7419354915618896,
          0.7419354915618896,
          0.7419354915618896,
          0.7419354915618896,
          0.7419354915618896,
          0.7419354915618896,
          0.7419354915618896,
          0.7419354915618896,
          0.7419354915618896,
          0.7419354915618896,
          0.7419354915618896,
          0.7419354915618896,
          0.7419354915618896,
          0.7419354915618896,
          0.7419354915618896,
          0.7419354915618896,
          0.7419354915618896,
          0.7419354915618896,
          0.7419354915618896,
          0.7419354915618896,
          0.7419354915618896,
          0.7419354915618896,
          0.7419354915618896,
          0.7419354915618896,
          0.7419354915618896,
          0.7419354915618896,
          0.774193525314331,
          0.774193525314331,
          0.774193525314331,
          0.774193525314331,
          0.774193525314331,
          0.774193525314331,
          0.774193525314331,
          0.774193525314331,
          0.774193525314331,
          0.774193525314331,
          0.774193525314331,
          0.774193525314331,
          0.774193525314331,
          0.774193525314331,
          0.774193525314331,
          0.774193525314331,
          0.774193525314331,
          0.774193525314331,
          0.774193525314331,
          0.774193525314331,
          0.774193525314331,
          0.774193525314331,
          0.774193525314331,
          0.774193525314331,
          0.774193525314331,
          0.774193525314331,
          0.774193525314331,
          0.774193525314331,
          0.774193525314331,
          0.774193525314331,
          0.774193525314331,
          0.774193525314331,
          0.774193525314331,
          0.774193525314331,
          0.774193525314331,
          0.774193525314331,
          0.774193525314331,
          0.774193525314331,
          0.774193525314331,
          0.774193525314331,
          0.774193525314331,
          0.774193525314331,
          0.774193525314331,
          0.774193525314331,
          0.774193525314331,
          0.774193525314331,
          0.774193525314331,
          0.774193525314331,
          0.774193525314331,
          0.774193525314331,
          0.774193525314331,
          0.774193525314331,
          0.774193525314331,
          0.774193525314331,
          0.774193525314331,
          0.774193525314331,
          0.774193525314331,
          0.774193525314331,
          0.774193525314331,
          0.774193525314331,
          0.774193525314331,
          0.774193525314331,
          0.774193525314331,
          0.774193525314331,
          0.8064515590667725,
          0.8064515590667725,
          0.8064515590667725,
          0.8064515590667725,
          0.8064515590667725,
          0.8064515590667725,
          0.8064515590667725,
          0.8064515590667725,
          0.8064515590667725,
          0.8064515590667725,
          0.8064515590667725,
          0.8064515590667725,
          0.8064515590667725,
          0.8064515590667725,
          0.8064515590667725,
          0.8064515590667725,
          0.8064515590667725,
          0.8064515590667725,
          0.8064515590667725,
          0.8064515590667725,
          0.8064515590667725,
          0.8064515590667725,
          0.8064515590667725,
          0.8064515590667725,
          0.8064515590667725,
          0.8064515590667725,
          0.8064515590667725,
          0.8064515590667725,
          0.8064515590667725,
          0.8064515590667725,
          0.8064515590667725,
          0.8064515590667725,
          0.8064515590667725,
          0.8064515590667725,
          0.8064515590667725,
          0.8064515590667725,
          0.8064515590667725,
          0.8064515590667725,
          0.8064515590667725,
          0.8064515590667725,
          0.8064515590667725,
          0.8064515590667725,
          0.8064515590667725,
          0.8064515590667725,
          0.8064515590667725,
          0.8064515590667725,
          0.8064515590667725,
          0.8064515590667725,
          0.8064515590667725,
          0.8064515590667725,
          0.8064515590667725,
          0.8064515590667725,
          0.8064515590667725,
          0.8064515590667725,
          0.8064515590667725,
          0.8064515590667725,
          0.8064515590667725,
          0.8064515590667725,
          0.8064515590667725,
          0.8064515590667725,
          0.8064515590667725,
          0.8064515590667725,
          0.8064515590667725,
          0.8064515590667725,
          0.8387096524238586,
          0.8387096524238586,
          0.8387096524238586,
          0.8387096524238586,
          0.8387096524238586,
          0.8387096524238586,
          0.8387096524238586,
          0.8387096524238586,
          0.8387096524238586,
          0.8387096524238586,
          0.8387096524238586,
          0.8387096524238586,
          0.8387096524238586,
          0.8387096524238586,
          0.8387096524238586,
          0.8387096524238586,
          0.8387096524238586,
          0.8387096524238586,
          0.8387096524238586,
          0.8387096524238586,
          0.8387096524238586,
          0.8387096524238586,
          0.8387096524238586,
          0.8387096524238586,
          0.8387096524238586,
          0.8387096524238586,
          0.8387096524238586,
          0.8387096524238586,
          0.8387096524238586,
          0.8387096524238586,
          0.8387096524238586,
          0.8387096524238586,
          0.8387096524238586,
          0.8387096524238586,
          0.8387096524238586,
          0.8387096524238586,
          0.8387096524238586,
          0.8387096524238586,
          0.8387096524238586,
          0.8387096524238586,
          0.8387096524238586,
          0.8387096524238586,
          0.8387096524238586,
          0.8387096524238586,
          0.8387096524238586,
          0.8387096524238586,
          0.8387096524238586,
          0.8387096524238586,
          0.8387096524238586,
          0.8387096524238586,
          0.8387096524238586,
          0.8387096524238586,
          0.8387096524238586,
          0.8387096524238586,
          0.8387096524238586,
          0.8387096524238586,
          0.8387096524238586,
          0.8387096524238586,
          0.8387096524238586,
          0.8387096524238586,
          0.8387096524238586,
          0.8387096524238586,
          0.8387096524238586,
          0.8387096524238586,
          0.8709677457809448,
          0.8709677457809448,
          0.8709677457809448,
          0.8709677457809448,
          0.8709677457809448,
          0.8709677457809448,
          0.8709677457809448,
          0.8709677457809448,
          0.8709677457809448,
          0.8709677457809448,
          0.8709677457809448,
          0.8709677457809448,
          0.8709677457809448,
          0.8709677457809448,
          0.8709677457809448,
          0.8709677457809448,
          0.8709677457809448,
          0.8709677457809448,
          0.8709677457809448,
          0.8709677457809448,
          0.8709677457809448,
          0.8709677457809448,
          0.8709677457809448,
          0.8709677457809448,
          0.8709677457809448,
          0.8709677457809448,
          0.8709677457809448,
          0.8709677457809448,
          0.8709677457809448,
          0.8709677457809448,
          0.8709677457809448,
          0.8709677457809448,
          0.8709677457809448,
          0.8709677457809448,
          0.8709677457809448,
          0.8709677457809448,
          0.8709677457809448,
          0.8709677457809448,
          0.8709677457809448,
          0.8709677457809448,
          0.8709677457809448,
          0.8709677457809448,
          0.8709677457809448,
          0.8709677457809448,
          0.8709677457809448,
          0.8709677457809448,
          0.8709677457809448,
          0.8709677457809448,
          0.8709677457809448,
          0.8709677457809448,
          0.8709677457809448,
          0.8709677457809448,
          0.8709677457809448,
          0.8709677457809448,
          0.8709677457809448,
          0.8709677457809448,
          0.8709677457809448,
          0.8709677457809448,
          0.8709677457809448,
          0.8709677457809448,
          0.8709677457809448,
          0.8709677457809448,
          0.8709677457809448,
          0.8709677457809448,
          0.9032257795333862,
          0.9032257795333862,
          0.9032257795333862,
          0.9032257795333862,
          0.9032257795333862,
          0.9032257795333862,
          0.9032257795333862,
          0.9032257795333862,
          0.9032257795333862,
          0.9032257795333862,
          0.9032257795333862,
          0.9032257795333862,
          0.9032257795333862,
          0.9032257795333862,
          0.9032257795333862,
          0.9032257795333862,
          0.9032257795333862,
          0.9032257795333862,
          0.9032257795333862,
          0.9032257795333862,
          0.9032257795333862,
          0.9032257795333862,
          0.9032257795333862,
          0.9032257795333862,
          0.9032257795333862,
          0.9032257795333862,
          0.9032257795333862,
          0.9032257795333862,
          0.9032257795333862,
          0.9032257795333862,
          0.9032257795333862,
          0.9032257795333862,
          0.9032257795333862,
          0.9032257795333862,
          0.9032257795333862,
          0.9032257795333862,
          0.9032257795333862,
          0.9032257795333862,
          0.9032257795333862,
          0.9032257795333862,
          0.9032257795333862,
          0.9032257795333862,
          0.9032257795333862,
          0.9032257795333862,
          0.9032257795333862,
          0.9032257795333862,
          0.9032257795333862,
          0.9032257795333862,
          0.9032257795333862,
          0.9032257795333862,
          0.9032257795333862,
          0.9032257795333862,
          0.9032257795333862,
          0.9032257795333862,
          0.9032257795333862,
          0.9032257795333862,
          0.9032257795333862,
          0.9032257795333862,
          0.9032257795333862,
          0.9032257795333862,
          0.9032257795333862,
          0.9032257795333862,
          0.9032257795333862,
          0.9032257795333862,
          0.9354838132858276,
          0.9354838132858276,
          0.9354838132858276,
          0.9354838132858276,
          0.9354838132858276,
          0.9354838132858276,
          0.9354838132858276,
          0.9354838132858276,
          0.9354838132858276,
          0.9354838132858276,
          0.9354838132858276,
          0.9354838132858276,
          0.9354838132858276,
          0.9354838132858276,
          0.9354838132858276,
          0.9354838132858276,
          0.9354838132858276,
          0.9354838132858276,
          0.9354838132858276,
          0.9354838132858276,
          0.9354838132858276,
          0.9354838132858276,
          0.9354838132858276,
          0.9354838132858276,
          0.9354838132858276,
          0.9354838132858276,
          0.9354838132858276,
          0.9354838132858276,
          0.9354838132858276,
          0.9354838132858276,
          0.9354838132858276,
          0.9354838132858276,
          0.9354838132858276,
          0.9354838132858276,
          0.9354838132858276,
          0.9354838132858276,
          0.9354838132858276,
          0.9354838132858276,
          0.9354838132858276,
          0.9354838132858276,
          0.9354838132858276,
          0.9354838132858276,
          0.9354838132858276,
          0.9354838132858276,
          0.9354838132858276,
          0.9354838132858276,
          0.9354838132858276,
          0.9354838132858276,
          0.9354838132858276,
          0.9354838132858276,
          0.9354838132858276,
          0.9354838132858276,
          0.9354838132858276,
          0.9354838132858276,
          0.9354838132858276,
          0.9354838132858276,
          0.9354838132858276,
          0.9354838132858276,
          0.9354838132858276,
          0.9354838132858276,
          0.9354838132858276,
          0.9354838132858276,
          0.9354838132858276,
          0.9354838132858276,
          0.9677419066429138,
          0.9677419066429138,
          0.9677419066429138,
          0.9677419066429138,
          0.9677419066429138,
          0.9677419066429138,
          0.9677419066429138,
          0.9677419066429138,
          0.9677419066429138,
          0.9677419066429138,
          0.9677419066429138,
          0.9677419066429138,
          0.9677419066429138,
          0.9677419066429138,
          0.9677419066429138,
          0.9677419066429138,
          0.9677419066429138,
          0.9677419066429138,
          0.9677419066429138,
          0.9677419066429138,
          0.9677419066429138,
          0.9677419066429138,
          0.9677419066429138,
          0.9677419066429138,
          0.9677419066429138,
          0.9677419066429138,
          0.9677419066429138,
          0.9677419066429138,
          0.9677419066429138,
          0.9677419066429138,
          0.9677419066429138,
          0.9677419066429138,
          0.9677419066429138,
          0.9677419066429138,
          0.9677419066429138,
          0.9677419066429138,
          0.9677419066429138,
          0.9677419066429138,
          0.9677419066429138,
          0.9677419066429138,
          0.9677419066429138,
          0.9677419066429138,
          0.9677419066429138,
          0.9677419066429138,
          0.9677419066429138,
          0.9677419066429138,
          0.9677419066429138,
          0.9677419066429138,
          0.9677419066429138,
          0.9677419066429138,
          0.9677419066429138,
          0.9677419066429138,
          0.9677419066429138,
          0.9677419066429138,
          0.9677419066429138,
          0.9677419066429138,
          0.9677419066429138,
          0.9677419066429138,
          0.9677419066429138,
          0.9677419066429138,
          0.9677419066429138,
          0.9677419066429138,
          0.9677419066429138,
          0.9677419066429138,
          1,
          1,
          1,
          1,
          1,
          1,
          1,
          1,
          1,
          1,
          1,
          1,
          1,
          1,
          1,
          1,
          1,
          1,
          1,
          1,
          1,
          1,
          1,
          1,
          1,
          1,
          1,
          1,
          1,
          1,
          1,
          1,
          1,
          1,
          1,
          1,
          1,
          1,
          1,
          1,
          1,
          1,
          1,
          1,
          1,
          1,
          1,
          1,
          1,
          1,
          1,
          1,
          1,
          1,
          1,
          1,
          1,
          1,
          1,
          1,
          1,
          1,
          1,
          1
         ],
         "xaxis": "x",
         "y": [
          -0.9999966621398926,
          -1.0000048875808716,
          -0.9999987483024597,
          -1,
          -1.000005841255188,
          -0.9999993443489075,
          -1.0000243186950684,
          -1,
          -1.0000008344650269,
          -0.9999803900718689,
          -0.9999954700469971,
          -1.000001311302185,
          -1.0000038146972656,
          -1.0000150203704834,
          -0.9999911189079285,
          -0.9999994039535522,
          -0.9999998211860657,
          -1.0000033378601074,
          -1.0000044107437134,
          -0.9999950528144836,
          -0.9999987483024597,
          -0.9999999403953552,
          -0.9999971389770508,
          -0.9999954104423523,
          -0.9999927878379822,
          -1.0000007152557373,
          -0.9999998807907104,
          -0.9999895095825195,
          -1.000003695487976,
          -1.000003695487976,
          -1.000000238418579,
          -0.9999949932098389,
          -0.9999942183494568,
          -0.9999982714653015,
          -0.999997079372406,
          -0.9999954700469971,
          -1.0000059604644775,
          -0.9999842047691345,
          -0.9999988675117493,
          -0.9999995231628418,
          -0.9999973177909851,
          -1.0000005960464478,
          -1.0000005960464478,
          -1.0000028610229492,
          -0.9999921917915344,
          -0.9999916553497314,
          -1.000001072883606,
          -0.9999971985816956,
          -1.0000014305114746,
          -1.000004768371582,
          -0.9999995231628418,
          -1.0000017881393433,
          -1.0000041723251343,
          -0.9999960660934448,
          -0.999997079372406,
          -1.0000120401382446,
          -1.0000005960464478,
          -1.0000088214874268,
          -0.9999903440475464,
          -0.9999982714653015,
          -0.999988853931427,
          -1,
          -1.000001072883606,
          -1.0000001192092896,
          -1.0000107288360596,
          -1.0000005960464478,
          -0.9999942183494568,
          -0.9999952912330627,
          -1.000009298324585,
          -1.0000197887420654,
          -0.9999960660934448,
          -0.9999932646751404,
          -0.9999997019767761,
          -0.9999991059303284,
          -0.9999997615814209,
          -1.0000008344650269,
          -1.0000046491622925,
          -1.0000007152557373,
          -1.000003457069397,
          -1.000001311302185,
          -0.9999997615814209,
          -1.000001311302185,
          -1.0000003576278687,
          -1.0000323057174683,
          -1.0000015497207642,
          -1.0000035762786865,
          -1.000002384185791,
          -1.0000001192092896,
          -1.0000041723251343,
          -1.0000040531158447,
          -0.999999463558197,
          -0.9999992847442627,
          -0.9999800324440002,
          -0.9999887347221375,
          -0.9999911189079285,
          -0.9999978542327881,
          -1.0000014305114746,
          -0.9999989867210388,
          -0.9999988079071045,
          -1.0000053644180298,
          -1.0000044107437134,
          -1.000004768371582,
          -1.0000003576278687,
          -0.9999995231628418,
          -0.9999961853027344,
          -0.9999977946281433,
          -0.9999927282333374,
          -1.0000040531158447,
          -0.9999997019767761,
          -1.0000094175338745,
          -0.9999908208847046,
          -1.0000005960464478,
          -0.9999842643737793,
          -0.999998152256012,
          -1.0000172853469849,
          -1.000007152557373,
          -0.9999991655349731,
          -0.9999992251396179,
          -1.0000004768371582,
          -1.000006079673767,
          -0.9999844431877136,
          -0.9999991059303284,
          -0.9999982118606567,
          -1.0000070333480835,
          -1.0000051259994507,
          -1.0000016689300537,
          -0.9999988675117493,
          -1.0000051259994507,
          -1.0000033378601074,
          -1,
          -1.0000100135803223,
          -1.0000003576278687,
          -0.9999824166297913,
          -1.0000454187393188,
          -0.9999994039535522,
          -0.9999980330467224,
          -1.0000048875808716,
          -0.9999998807907104,
          -1.0000139474868774,
          -0.9999997615814209,
          -0.9999936819076538,
          -0.9999931454658508,
          -0.9999918341636658,
          -1.0000078678131104,
          -0.9999940991401672,
          -0.9999906420707703,
          -1.0000144243240356,
          -0.9999827146530151,
          -0.9999967217445374,
          -0.9999952912330627,
          -0.9999983906745911,
          -1.000011920928955,
          -1.0000029802322388,
          -0.9999939799308777,
          -0.9999999403953552,
          -0.9999974370002747,
          -1.0000033378601074,
          -1.0000048875808716,
          -0.9999959468841553,
          -1.0000003576278687,
          -1.000016689300537,
          -0.9999986290931702,
          -1.0000003576278687,
          -1.000008225440979,
          -1.0000030994415283,
          -1.0000001192092896,
          -0.9999843239784241,
          -1.000006079673767,
          -0.9999996423721313,
          -0.9999997615814209,
          -0.9999948740005493,
          -1.0000003576278687,
          -0.9999988675117493,
          -0.9999958872795105,
          -1.000006079673767,
          -1.0000003576278687,
          -0.9999997615814209,
          -0.9999979138374329,
          -0.9999920129776001,
          -1.000008463859558,
          -0.999994158744812,
          -1.000000238418579,
          -0.9999967217445374,
          -0.9999985694885254,
          -1.000013828277588,
          -1.000002145767212,
          -1.0000016689300537,
          -1.0000056028366089,
          -0.9999996423721313,
          -0.9999978542327881,
          -1.000006079673767,
          -0.9999972581863403,
          -1.000002384185791,
          -1.0000004768371582,
          -0.999970018863678,
          -0.9999985694885254,
          -0.9999951720237732,
          -1.0000025033950806,
          -0.9999991059303284,
          -0.9999952912330627,
          -1.0000139474868774,
          -1.000009298324585,
          -0.9999964237213135,
          -1.0000017881393433,
          -0.9999930262565613,
          -0.9999818801879883,
          -0.9999849796295166,
          -0.9999976754188538,
          -1.0000172853469849,
          -1.0000007152557373,
          -0.9999986886978149,
          -1.000020980834961,
          -0.9999856948852539,
          -0.9999895691871643,
          -1.0000003576278687,
          -0.9999984502792358,
          -0.9999995827674866,
          -0.9999973773956299,
          -0.9999935030937195,
          -1.0000059604644775,
          -1.0000008344650269,
          -1.000006914138794,
          -1.0000016689300537,
          -0.9999982118606567,
          -0.9999992251396179,
          -1.0000189542770386,
          -1.000001311302185,
          -0.9999995231628418,
          -0.9999978542327881,
          -1.0000053644180298,
          -1.0000004768371582,
          -0.9999993443489075,
          -1.0000009536743164,
          -1.0000016689300537,
          -0.9999996423721313,
          -0.9999966025352478,
          -1.0000022649765015,
          -0.9999994039535522,
          -0.9999997019767761,
          -1.000000238418579,
          -0.9999880790710449,
          -1.0000132322311401,
          -1.0000033378601074,
          -1.0000121593475342,
          -0.9999958276748657,
          -0.9999998807907104,
          -1.0000096559524536,
          -1.0000029802322388,
          -0.9999988675117493,
          -1.000001311302185,
          -1.0000003576278687,
          -1.0000016689300537,
          -1.0000040531158447,
          -1.0000360012054443,
          -0.9999969005584717,
          -0.9999995827674866,
          -1.0000052452087402,
          -0.999995231628418,
          -0.9999929666519165,
          -1.000003457069397,
          -0.9999944567680359,
          -0.9999865293502808,
          -1.0000009536743164,
          -1.0000022649765015,
          -1.0000041723251343,
          -1.000002145767212,
          -1.0000004768371582,
          -1.0000015497207642,
          -0.999998927116394,
          -1.0000001192092896,
          -0.9999994039535522,
          -0.9999854564666748,
          -0.9999871253967285,
          -1.000011682510376,
          -1,
          -1.000000238418579,
          -0.999981164932251,
          -1,
          -1.0000003576278687,
          -0.9999788403511047,
          -1.0000007152557373,
          -0.9999996423721313,
          -1.0000070333480835,
          -0.9999974370002747,
          -0.9999963045120239,
          -1.0000131130218506,
          -1,
          -1.0000109672546387,
          -0.9999973773956299,
          -1.000001072883606,
          -1.0000231266021729,
          -0.9999940395355225,
          -1.000001072883606,
          -0.9999980926513672,
          -1.000000238418579,
          -1.0000054836273193,
          -1.000000238418579,
          -1.0000030994415283,
          -1.000003457069397,
          -0.9999993443489075,
          -1.0000076293945312,
          -0.9999972581863403,
          -0.9999997615814209,
          -0.9999996423721313,
          -0.9999934434890747,
          -1.0000085830688477,
          -1.0000053644180298,
          -0.9999939203262329,
          -0.9999978542327881,
          -0.9999993443489075,
          -1.0000009536743164,
          -0.9999920129776001,
          -1.000004529953003,
          -1.0000094175338745,
          -0.9999960064888,
          -1.0000020265579224,
          -1.0000001192092896,
          -0.9999982714653015,
          -1.0000029802322388,
          -1.0000003576278687,
          -0.999994158744812,
          -1.0000054836273193,
          -1.0000011920928955,
          -0.9999994039535522,
          -0.999998152256012,
          -0.9999983310699463,
          -1.000003695487976,
          -0.9999997615814209,
          -1.0000004768371582,
          -0.9999989867210388,
          -1.0000078678131104,
          -0.9999988675117493,
          -1.0000025033950806,
          -1.0000016689300537,
          -0.9999954104423523,
          -1.0000009536743164,
          -0.9999997615814209,
          -0.999990701675415,
          -0.9999997615814209,
          -0.999999463558197,
          -1.0000057220458984,
          -1.0000030994415283,
          -0.9999971985816956,
          -1.0000030994415283,
          -1.0000163316726685,
          -1.0000022649765015,
          -1.0000007152557373,
          -0.9999977350234985,
          -0.9999983906745911,
          -0.9999988079071045,
          -0.9999915957450867,
          -0.999991774559021,
          -0.9999769926071167,
          -1.0000007152557373,
          -1.00002920627594,
          -1.0000064373016357,
          -1.0000157356262207,
          -0.9999994039535522,
          -0.9999943971633911,
          -1,
          -0.9999970197677612,
          -1.000001072883606,
          -1.0000019073486328,
          -0.9999847412109375,
          -0.9999963641166687,
          -1.000001072883606,
          -1.0000059604644775,
          -0.9999786615371704,
          -1.000016212463379,
          -1.0000005960464478,
          -0.9999973773956299,
          -1.000001311302185,
          -1.0000003576278687,
          -1.0000158548355103,
          -1.000001311302185,
          -1.0000022649765015,
          -1.000003695487976,
          -1.0000007152557373,
          -1.0000025033950806,
          -1.0000005960464478,
          -1.000001072883606,
          -0.9999992847442627,
          -0.9999915957450867,
          -1.0000063180923462,
          -0.9999842643737793,
          -1.0000126361846924,
          -1.0000001192092896,
          -0.9999991655349731,
          -1.0000039339065552,
          -0.9999984502792358,
          -0.9999997019767761,
          -1.0000272989273071,
          -0.999999463558197,
          -0.9999973177909851,
          -1,
          -0.9999938011169434,
          -0.9999907612800598,
          -1.000005841255188,
          -1.0000027418136597,
          -1.0000098943710327,
          -1.0000067949295044,
          -0.9999999403953552,
          -1.0000033378601074,
          -0.9999878406524658,
          -1.0000001192092896,
          -0.9999999403953552,
          -0.9999907612800598,
          -1.0000183582305908,
          -1.0000081062316895,
          -0.9999977350234985,
          -0.9999886751174927,
          -1.0000120401382446,
          -0.999997615814209,
          -1.0000172853469849,
          -0.9999997615814209,
          -1.0000038146972656,
          -1.0000032186508179,
          -0.9999614953994751,
          -1,
          -1.0000014305114746,
          -1.000023365020752,
          -1.0000001192092896,
          -1.0000107288360596,
          -1.000001072883606,
          -0.9999946355819702,
          -1.0000040531158447,
          -1.000015139579773,
          -1.0000195503234863,
          -0.9999923706054688,
          -0.9999997019767761,
          -0.9999964237213135,
          -0.9999920725822449,
          -0.9999921321868896,
          -0.9999887347221375,
          -1.0000007152557373,
          -1.0000054836273193,
          -0.999984085559845,
          -0.9999984502792358,
          -0.999998152256012,
          -1.0000032186508179,
          -0.9999997615814209,
          -1.0000027418136597,
          -1.0000053644180298,
          -0.9999994039535522,
          -1.000004529953003,
          -0.9999998211860657,
          -1.0000108480453491,
          -1.000003457069397,
          -1.0000076293945312,
          -1.0000042915344238,
          -0.9999884963035583,
          -1.0000081062316895,
          -0.9999994039535522,
          -0.9999719262123108,
          -1.0000120401382446,
          -1.000002145767212,
          -1.0000003576278687,
          -1.0000016689300537,
          -1.0000035762786865,
          -1.0000007152557373,
          -0.9999985098838806,
          -0.9999868869781494,
          -1.0000005960464478,
          -1.000013828277588,
          -1.0000154972076416,
          -1.000003695487976,
          -0.9999825358390808,
          -0.999999463558197,
          -0.9999929070472717,
          -1.0000009536743164,
          -1.0000044107437134,
          -0.9999988675117493,
          -0.9999974370002747,
          -0.999992847442627,
          -0.999993085861206,
          -1.000009536743164,
          -1.0000056028366089,
          -1.000006914138794,
          -1.0000005960464478,
          -1.0000040531158447,
          -1.000014066696167,
          -1.0000026226043701,
          -0.9999871253967285,
          -0.9999913573265076,
          -1.0000016689300537,
          -1.0000005960464478,
          -1.0000125169754028,
          -1.000000238418579,
          -1.0000075101852417,
          -1.0000007152557373,
          -0.9999979138374329,
          -0.9999954700469971,
          -0.9999961256980896,
          -1.0000156164169312,
          -0.9999964833259583,
          -0.9999939203262329,
          -1.0000050067901611,
          -1.0000078678131104,
          -0.999997079372406,
          -1,
          -1.0000214576721191,
          -0.9999972581863403,
          -0.9999927878379822,
          -1.0000016689300537,
          -0.9999855160713196,
          -1.000001311302185,
          -0.9999989867210388,
          -0.9999840259552002,
          -0.9999971985816956,
          -0.9999997615814209,
          -1.0000056028366089,
          -0.9999759197235107,
          -0.9999995827674866,
          -0.9999983906745911,
          -0.9999964833259583,
          -1.0000059604644775,
          -0.9999974966049194,
          -1.0000226497650146,
          -0.9999939799308777,
          -0.9999972581863403,
          -0.9999906420707703,
          -1.0000009536743164,
          -0.9999977350234985,
          -1.0000388622283936,
          -0.9999995231628418,
          -1.000000238418579,
          -1.0000020265579224,
          -0.9999975562095642,
          -1.0000030994415283,
          -0.9999971985816956,
          -0.9999929070472717,
          -1.000004529953003,
          -1.0000052452087402,
          -0.9999995231628418,
          -0.9999944567680359,
          -1.0000038146972656,
          -1.0000216960906982,
          -1.0000213384628296,
          -0.9999999403953552,
          -1.0000079870224,
          -0.9999951124191284,
          -1.0000115633010864,
          -0.9999933242797852,
          -1,
          -1.0000053644180298,
          -0.9999961256980896,
          -1.0000001192092896,
          -0.9999958276748657,
          -1.000006914138794,
          -1.0000011920928955,
          -0.9999896883964539,
          -0.9999951124191284,
          -0.9999996423721313,
          -1.0000016689300537,
          -1.000003457069397,
          -1.0000029802322388,
          -1.000011682510376,
          -0.999998927116394,
          -0.9999714493751526,
          -0.9999986886978149,
          -0.9999998211860657,
          -0.9999988675117493,
          -0.9999998211860657,
          -0.9999988079071045,
          -1.0000044107437134,
          -0.9999921321868896,
          -0.9999998807907104,
          -1.0000001192092896,
          -0.9999886751174927,
          -1.000000238418579,
          -0.999967634677887,
          -1.0000008344650269,
          -0.9999985098838806,
          -0.9999969005584717,
          -0.9999986290931702,
          -1.0000075101852417,
          -0.9999958276748657,
          -0.9999968409538269,
          -1.0000020265579224,
          -1.0000098943710327,
          -0.9999934434890747,
          -0.9999999403953552,
          -0.999994158744812,
          -0.9999956488609314,
          -1.0000087022781372,
          -0.9999924898147583,
          -1.0000040531158447,
          -0.9999977350234985,
          -0.9999977946281433,
          -1.000000238418579,
          -0.9999997019767761,
          -1.0000088214874268,
          -1.0000187158584595,
          -0.9999997019767761,
          -0.9999946355819702,
          -0.9999876022338867,
          -1.000006079673767,
          -0.9999974966049194,
          -0.9999986886978149,
          -0.9999978542327881,
          -1.0000038146972656,
          -0.9999991059303284,
          -0.9999978542327881,
          -1.0000003576278687,
          -1.000008225440979,
          -1.0000009536743164,
          -1.0000029802322388,
          -0.9999884963035583,
          -1.0000193119049072,
          -1.000001311302185,
          -1.0000078678131104,
          -1.000010371208191,
          -0.9999998211860657,
          -0.9999819993972778,
          -1.0000009536743164,
          -1.0000172853469849,
          -0.9999890923500061,
          -1.0000026226043701,
          -0.9999953508377075,
          -0.9999986886978149,
          -0.9999950528144836,
          -1.000030517578125,
          -1.0000090599060059,
          -1.000005841255188,
          -0.9999919533729553,
          -1.000007152557373,
          -0.9999906420707703,
          -1.000004529953003,
          -0.9999986290931702,
          -1.000001072883606,
          -1.0000003576278687,
          -0.9999492764472961,
          -1.0000009536743164,
          -0.999997615814209,
          -1.0000020265579224,
          -1.0000001192092896,
          -0.9999991655349731,
          -1.000004529953003,
          -1.0000027418136597,
          -0.9999892711639404,
          -1.0000076293945312,
          -0.9999983310699463,
          -0.9999960660934448,
          -1.000011920928955,
          -0.9999963045120239,
          -1.0000042915344238,
          -0.9999971389770508,
          -1.0000115633010864,
          -1.0000009536743164,
          -1.0000020265579224,
          -1.000000238418579,
          -1.0000001192092896,
          -1.0000046491622925,
          -0.9999948740005493,
          -1.0000089406967163,
          -1.0000033378601074,
          -1.0000030994415283,
          -0.999998927116394,
          -1.0000016689300537,
          -1.0000053644180298,
          -1.0000077486038208,
          -0.9999968409538269,
          -0.9999762773513794,
          -1.000000238418579,
          -1.0000020265579224,
          -0.9999794960021973,
          -1.000002145767212,
          -0.9999904036521912,
          -1.000004768371582,
          -0.9999951124191284,
          -1.000002145767212,
          -0.9999982118606567,
          -0.9999971389770508,
          -1.0000017881393433,
          -0.9999926686286926,
          -1.000000238418579,
          -1.0000048875808716,
          -1.000000238418579,
          -1.000003695487976,
          -1.0000072717666626,
          -0.9999988079071045,
          -0.9999990463256836,
          -1.000006079673767,
          -0.9999963045120239,
          -0.9999991059303284,
          -1.0000027418136597,
          -0.999997079372406,
          -0.9999982118606567,
          -1.0000059604644775,
          -0.9999960660934448,
          -0.9999986886978149,
          -1.000016212463379,
          -1.0000003576278687,
          -0.9999971389770508,
          -0.9999995827674866,
          -1.0000059604644775,
          -1.000001311302185,
          -0.9999976754188538,
          -1.000015139579773,
          -1.000003457069397,
          -1.0000213384628296,
          -1.0000001192092896,
          -0.9999954700469971,
          -0.999997615814209,
          -0.9999923706054688,
          -0.9999982118606567,
          -0.999998927116394,
          -0.9999956488609314,
          -0.9999997615814209,
          -0.9999825358390808,
          -1.0000098943710327,
          -1.000002145767212,
          -0.9999985098838806,
          -1.0000073909759521,
          -0.9999988675117493,
          -0.999998927116394,
          -1.000010371208191,
          -1.000020146369934,
          -1.0000004768371582,
          -1.0000170469284058,
          -0.9999998211860657,
          -0.9999901652336121,
          -1.0000040531158447,
          -0.999993622303009,
          -0.9999977350234985,
          -1.0000009536743164,
          -0.9999988675117493,
          -0.9999993443489075,
          -1.0000022649765015,
          -0.9999915361404419,
          -0.9999933838844299,
          -0.9999892115592957,
          -1.0000057220458984,
          -1.0000205039978027,
          -1.0000008344650269,
          -1.0000051259994507,
          -1.0000109672546387,
          -0.999989926815033,
          -1.000000238418579,
          -0.9999841451644897,
          -0.9999991655349731,
          -0.9999721050262451,
          -1.000003457069397,
          -1.0000029802322388,
          -0.9999955296516418,
          -0.9999898076057434,
          -1.0000121593475342,
          -1.0000122785568237,
          -0.9999883770942688,
          -0.9999983906745911,
          -0.9999998807907104,
          -0.9999960064888,
          -0.9999969005584717,
          -1.0000011920928955,
          -0.9999986290931702,
          -1.000001072883606,
          -0.9999982714653015,
          -0.9999997019767761,
          -0.9999994039535522,
          -0.9999974966049194,
          -1.000000238418579,
          -1.0000015497207642,
          -0.9999987483024597,
          -0.9999945759773254,
          -0.9999992847442627,
          -1.0000016689300537,
          -1.0000033378601074,
          -0.9999955296516418,
          -1.000013828277588,
          -0.9999865889549255,
          -1.0000001192092896,
          -1.0000003576278687,
          -1.0000015497207642,
          -0.9999814629554749,
          -0.9999954700469971,
          -0.9999921917915344,
          -1.0000001192092896,
          -0.9999960064888,
          -0.9999983310699463,
          -1.0000001192092896,
          -1.0000008344650269,
          -1.0000262260437012,
          -1.000001072883606,
          -1.0000019073486328,
          -1,
          -0.9999979138374329,
          -1.0000029802322388,
          -1.0000004768371582,
          -0.9999916553497314,
          -1.0000042915344238,
          -1.0000039339065552,
          -1.0000510215759277,
          -1.0000407695770264,
          -1.0000007152557373,
          -0.9999951720237732,
          -0.9999992847442627,
          -1.0000078678131104,
          -1.0000004768371582,
          -0.9999932646751404,
          -1.0000003576278687,
          -0.9999670386314392,
          -1.0000011920928955,
          -1.0000040531158447,
          -1.0000003576278687,
          -0.9999874830245972,
          -1.0000015497207642,
          -0.9999996423721313,
          -1.0000053644180298,
          -0.9999868273735046,
          -0.9999974370002747,
          -1.0000097751617432,
          -0.9999992251396179,
          -0.9999974966049194,
          -1.0000039339065552,
          -1.0000033378601074,
          -1.0000088214874268,
          -1.0000101327896118,
          -1.0000250339508057,
          -1.0000255107879639,
          -1.0000064373016357,
          -1.0000091791152954,
          -1.0000015497207642,
          -0.9999983310699463,
          -1.0000009536743164,
          -0.9999974966049194,
          -1.0000040531158447,
          -1.0000056028366089,
          -1.0000077486038208,
          -1.0000019073486328,
          -0.9999964237213135,
          -0.9999933838844299,
          -0.9999808669090271,
          -1.0000077486038208,
          -1.0000008344650269,
          -1.00001060962677,
          -1.0000007152557373,
          -0.9999913573265076,
          -0.9999990463256836,
          -1.00001060962677,
          -0.9999887347221375,
          -0.9999971985816956,
          -0.9999974370002747,
          -1.0000065565109253,
          -0.9999987483024597,
          -1.0000005960464478,
          -0.9999635815620422,
          -0.9999877214431763,
          -1.0000003576278687,
          -0.9999999403953552,
          -1.0000158548355103,
          -0.9999955892562866,
          -0.9999977350234985,
          -0.9999855160713196,
          -0.9999995231628418,
          -1.000003457069397,
          -1.0000005960464478,
          -0.9999983310699463,
          -0.9999893307685852,
          -1.0000072717666626,
          -1.0000050067901611,
          -1.000006079673767,
          -0.9999980926513672,
          -0.9999977350234985,
          -0.9999969601631165,
          -0.9999940395355225,
          -1.0000003576278687,
          -0.9999969601631165,
          -0.9999963641166687,
          -0.9999895095825195,
          -1.0000009536743164,
          -0.9999940395355225,
          -1.0000112056732178,
          -1.0000011920928955,
          -1.0000089406967163,
          -1.0000063180923462,
          -0.9999983906745911,
          -1.0000176429748535,
          -0.9999884963035583,
          -1.000008463859558,
          -0.9999931454658508,
          -1.0000001192092896,
          -1.0000003576278687,
          -1.0000150203704834,
          -1.0000168085098267,
          -0.9999911785125732,
          -1.000000238418579,
          -1,
          -1.0000004768371582,
          -0.9999989867210388,
          -1.000002145767212,
          -1.0000051259994507,
          -1.000000238418579,
          -0.9999957084655762,
          -0.999995231628418,
          -1.0000051259994507,
          -1.000015139579773,
          -1.000001311302185,
          -1.0000028610229492,
          -1.000001311302185,
          -0.9999523758888245,
          -1.000003457069397,
          -1.0000122785568237,
          -0.9999998807907104,
          -1.000000238418579,
          -1.0000145435333252,
          -1.0000076293945312,
          -0.9999890327453613,
          -0.9999956488609314,
          -0.9999856948852539,
          -1.0000019073486328,
          -1.0000131130218506,
          -0.999984622001648,
          -0.9999972581863403,
          -0.9999855756759644,
          -0.999991774559021,
          -0.9999955296516418,
          -1.0000019073486328,
          -1.0000044107437134,
          -0.9999976754188538,
          -0.9999985098838806,
          -1.0000048875808716,
          -1.0000003576278687,
          -1.0000019073486328,
          -0.9999645948410034,
          -1.0000007152557373,
          -1,
          -1.0000027418136597,
          -0.9999997615814209,
          -0.999997079372406,
          -1.000004768371582,
          -0.9999961853027344,
          -1.0000014305114746,
          -1.000010371208191,
          -1.0000008344650269,
          -0.9999958276748657,
          -0.9999944567680359,
          -1.0000145435333252,
          -0.9999974966049194,
          -1.0000001192092896,
          -0.9999982714653015,
          -1.000007152557373,
          -1.0000007152557373,
          -1.0000054836273193,
          -0.9999977946281433,
          -1.0000123977661133,
          -1.000018835067749,
          -1.0000156164169312,
          -1.000006079673767,
          -1.0000014305114746,
          -0.9999840259552002,
          -1.000002384185791,
          -0.9999874234199524,
          -1.0000064373016357,
          -1.0000134706497192,
          -1.000003695487976,
          -0.9999915957450867,
          -0.9999997615814209,
          -0.9999850392341614,
          -1.0000004768371582,
          -0.9999996423721313,
          -0.9999891519546509,
          -1.0000096559524536,
          -0.9999991655349731,
          -1.0000035762786865,
          -0.999940037727356,
          -0.9999999403953552,
          -1.0000038146972656,
          -1.0000122785568237,
          -0.9999979138374329,
          -0.9999984502792358,
          -1.0000033378601074,
          -0.9999971389770508,
          -1.0000004768371582,
          -0.9999998807907104,
          -1.0000003576278687,
          -0.9999976754188538,
          -0.999986469745636,
          -1.0000057220458984,
          -0.9999908208847046,
          -0.9999982714653015,
          -1.0000075101852417,
          -0.9999867081642151,
          -1.000000238418579,
          -1.0000007152557373,
          -0.9999975562095642,
          -1.000012993812561,
          -1.0000027418136597,
          -0.9999968409538269,
          -0.99998939037323,
          -0.9999874830245972,
          -0.9999988675117493,
          -1.0000030994415283,
          -1.000004529953003,
          -1.0000325441360474,
          -1.0000015497207642,
          -1.000001072883606,
          -0.9999974966049194,
          -1.0000042915344238,
          -1.0000032186508179,
          -0.9999971985816956,
          -1.0000085830688477,
          -0.9999986886978149,
          -1.000024676322937,
          -1.000005841255188,
          -0.9999968409538269,
          -0.9999961256980896,
          -0.9999962449073792,
          -1.0000015497207642,
          -1.0000112056732178,
          -1.000004768371582,
          -1.000012755393982,
          -0.999998927116394,
          -0.9999998807907104,
          -1.0000005960464478,
          -0.9999967217445374,
          -0.9999955892562866,
          -0.9999966025352478,
          -0.9999929666519165,
          -1.0000149011611938,
          -1.0000120401382446,
          -0.999996542930603,
          -0.9999953508377075,
          -0.9999756813049316,
          -1.0000016689300537,
          0.7755776643753052,
          0.7838666439056396,
          0.7834290266036987,
          0.7795128226280212,
          0.7857328057289124,
          0.7687894105911255,
          0.7750608921051025,
          0.776141881942749,
          0.7722581624984741,
          0.775173008441925,
          0.7890302538871765,
          0.7666428685188293,
          0.7761743068695068,
          0.7808285355567932,
          0.768748939037323,
          0.7809576988220215,
          0.7797300815582275,
          0.7661165595054626,
          0.7753089666366577,
          0.7779704928398132,
          0.7859562039375305,
          0.780575156211853,
          0.7620758414268494,
          0.7732572555541992,
          0.7766166925430298,
          0.7803760766983032,
          0.7885377407073975,
          0.7788599729537964,
          0.7819744944572449,
          0.7658456563949585,
          0.7775971293449402,
          0.7755528688430786,
          0.7795225381851196,
          0.774510383605957,
          0.757483720779419,
          0.7903058528900146,
          0.7808362245559692,
          0.7738494873046875,
          0.7842315435409546,
          0.7697829008102417,
          0.7717329859733582,
          0.7764559388160706,
          0.770055890083313,
          0.7800872325897217,
          0.7884657382965088,
          0.765234649181366,
          0.771262526512146,
          0.7673859000205994,
          0.7739962935447693,
          0.781338095664978,
          0.786261796951294,
          0.7844559550285339,
          0.779208779335022,
          0.7806704044342041,
          0.7669198513031006,
          0.772183358669281,
          0.7841974496841431,
          0.7849645614624023,
          0.7692258358001709,
          0.7767806649208069,
          0.7724368572235107,
          0.7775395512580872,
          0.7739943861961365,
          0.764014482498169,
          0.793085515499115,
          0.7957969307899475,
          0.7898279428482056,
          0.7857714891433716,
          0.7963720560073853,
          0.7946791648864746,
          0.7909668684005737,
          0.7991083264350891,
          0.7973645329475403,
          0.7985220551490784,
          0.7930187582969666,
          0.7941573858261108,
          0.7869381308555603,
          0.7984623908996582,
          0.7978655099868774,
          0.7763954401016235,
          0.7940084338188171,
          0.8018369078636169,
          0.7946972846984863,
          0.8007534742355347,
          0.7844951748847961,
          0.7964502573013306,
          0.8042392730712891,
          0.791085958480835,
          0.7891249656677246,
          0.7974594235420227,
          0.7900477647781372,
          0.7879704833030701,
          0.7911378145217896,
          0.7808886766433716,
          0.7888622283935547,
          0.7946802377700806,
          0.7881449460983276,
          0.801555335521698,
          0.7789620161056519,
          0.7954239249229431,
          0.7831560969352722,
          0.7877581119537354,
          0.782296895980835,
          0.790492832660675,
          0.795280933380127,
          0.7838855981826782,
          0.7958924770355225,
          0.7938460111618042,
          0.7968855500221252,
          0.7962106466293335,
          0.8033028841018677,
          0.7858469486236572,
          0.7956186532974243,
          0.7844734191894531,
          0.7984477877616882,
          0.7918122410774231,
          0.7849898338317871,
          0.7907178401947021,
          0.7912678122520447,
          0.798327624797821,
          0.7846858501434326,
          0.7922220230102539,
          0.8014166951179504,
          0.7885351181030273,
          0.7931963205337524,
          0.7968229055404663,
          0.7821882963180542,
          0.7849379777908325,
          0.8111699223518372,
          0.8051679730415344,
          0.7957046031951904,
          0.7974594235420227,
          0.8105216026306152,
          0.8092654347419739,
          0.8088522553443909,
          0.7955734729766846,
          0.8047243356704712,
          0.8052278161048889,
          0.8013400435447693,
          0.8025720119476318,
          0.8002206087112427,
          0.8007509112358093,
          0.8046567440032959,
          0.7945379018783569,
          0.8054995536804199,
          0.7991196513175964,
          0.8113465309143066,
          0.8016108870506287,
          0.8041684627532959,
          0.8113932609558105,
          0.813932478427887,
          0.8017564415931702,
          0.8086309432983398,
          0.8133145570755005,
          0.8019682168960571,
          0.8120599985122681,
          0.8101106882095337,
          0.8053388595581055,
          0.8078384399414062,
          0.806887149810791,
          0.7990413904190063,
          0.8031409978866577,
          0.8092525005340576,
          0.8000767827033997,
          0.7949131727218628,
          0.8096051812171936,
          0.802527666091919,
          0.8055362701416016,
          0.816391110420227,
          0.8002334833145142,
          0.799752950668335,
          0.8099685311317444,
          0.8140458464622498,
          0.8073333501815796,
          0.8000397682189941,
          0.8074353933334351,
          0.817315936088562,
          0.8065812587738037,
          0.8026982545852661,
          0.8092234134674072,
          0.807981014251709,
          0.8066011071205139,
          0.7941633462905884,
          0.8171614408493042,
          0.7941669225692749,
          0.7983432412147522,
          0.801735520362854,
          0.8100738525390625,
          0.8004214763641357,
          0.8132927417755127,
          0.8109217882156372,
          0.8032481670379639,
          0.8169986009597778,
          0.8154523372650146,
          0.816543698310852,
          0.8182861804962158,
          0.8269507884979248,
          0.8185548782348633,
          0.8147766590118408,
          0.8342324495315552,
          0.8258219361305237,
          0.8157898187637329,
          0.8243229985237122,
          0.8216323852539062,
          0.8204036951065063,
          0.8165620565414429,
          0.8138320446014404,
          0.8213111162185669,
          0.821118175983429,
          0.823030412197113,
          0.8200466632843018,
          0.8107569217681885,
          0.8041647672653198,
          0.8221677541732788,
          0.8299547433853149,
          0.8256807327270508,
          0.8216851353645325,
          0.8225612640380859,
          0.8210346698760986,
          0.8282788991928101,
          0.8321138620376587,
          0.8224109411239624,
          0.8216691017150879,
          0.8237774968147278,
          0.8205704689025879,
          0.8119770884513855,
          0.8186823129653931,
          0.8258715867996216,
          0.8161317110061646,
          0.819706916809082,
          0.8225769996643066,
          0.8329185247421265,
          0.8216262459754944,
          0.8203104734420776,
          0.818789005279541,
          0.8127193450927734,
          0.8223809003829956,
          0.8166020512580872,
          0.8163148164749146,
          0.8270789384841919,
          0.8274747133255005,
          0.8201011419296265,
          0.8233445286750793,
          0.8222857117652893,
          0.8243881464004517,
          0.8132885694503784,
          0.8145108222961426,
          0.8192781805992126,
          0.8247362375259399,
          0.8231125473976135,
          0.8284438848495483,
          0.8264321088790894,
          0.8225700855255127,
          0.8242615461349487,
          0.8206727504730225,
          0.8332703709602356,
          0.8442583680152893,
          0.8305315971374512,
          0.8409872651100159,
          0.8379783630371094,
          0.8378896713256836,
          0.8288533091545105,
          0.8407695293426514,
          0.8348531723022461,
          0.8291512727737427,
          0.8374266624450684,
          0.8287834525108337,
          0.8361521363258362,
          0.8378766775131226,
          0.8388069868087769,
          0.8279575109481812,
          0.8321314454078674,
          0.8256664276123047,
          0.8343583941459656,
          0.8218313455581665,
          0.8336548805236816,
          0.8320990800857544,
          0.8323425650596619,
          0.8257591724395752,
          0.8431257605552673,
          0.8408814668655396,
          0.836871862411499,
          0.8403723239898682,
          0.8360680341720581,
          0.8337081670761108,
          0.846552848815918,
          0.8283517360687256,
          0.8349902629852295,
          0.8354343175888062,
          0.8333085775375366,
          0.8330315351486206,
          0.8406926393508911,
          0.833754301071167,
          0.8285858035087585,
          0.8349674940109253,
          0.8343732357025146,
          0.8369649648666382,
          0.8409539461135864,
          0.842534065246582,
          0.8392626047134399,
          0.8303579688072205,
          0.8259934186935425,
          0.8319636583328247,
          0.8358581066131592,
          0.8345851302146912,
          0.8370076417922974,
          0.8361896276473999,
          0.837613582611084,
          0.8350342512130737,
          0.8355667591094971,
          0.8332086801528931,
          0.834568977355957,
          0.8318068981170654,
          0.8320949673652649,
          0.8308182954788208,
          0.8407768607139587,
          0.8376690745353699,
          0.8326159715652466,
          0.8289785385131836,
          0.8463116884231567,
          0.8474270105361938,
          0.8480041027069092,
          0.851955235004425,
          0.8386574983596802,
          0.8270384073257446,
          0.8557029366493225,
          0.8483918905258179,
          0.8483633995056152,
          0.8512990474700928,
          0.8539831638336182,
          0.8462194204330444,
          0.8499526977539062,
          0.843942403793335,
          0.8508443832397461,
          0.8526232838630676,
          0.8388615846633911,
          0.8540266156196594,
          0.8499848246574402,
          0.8487123250961304,
          0.8490405082702637,
          0.85633385181427,
          0.8469762802124023,
          0.8488764762878418,
          0.8555183410644531,
          0.855894148349762,
          0.8474017381668091,
          0.8539378643035889,
          0.8551139831542969,
          0.8451600074768066,
          0.8463761806488037,
          0.843847393989563,
          0.8511279225349426,
          0.8546844124794006,
          0.8541615009307861,
          0.8552281856536865,
          0.8505784273147583,
          0.8384800553321838,
          0.8484777212142944,
          0.8428611159324646,
          0.8494130373001099,
          0.8482193946838379,
          0.8531264662742615,
          0.8538893461227417,
          0.85265052318573,
          0.8510760068893433,
          0.8408024311065674,
          0.8505806922912598,
          0.8563015460968018,
          0.8575899600982666,
          0.8405260443687439,
          0.8430293202400208,
          0.8561060428619385,
          0.8451249599456787,
          0.8480621576309204,
          0.8542795181274414,
          0.8528833389282227,
          0.8534712195396423,
          0.8535915613174438,
          0.8518685698509216,
          0.8428466320037842,
          0.8454580307006836,
          0.8497459888458252,
          0.8482753038406372,
          0.8512057065963745,
          0.8617008924484253,
          0.866004467010498,
          0.8612402081489563,
          0.8545159697532654,
          0.8619675636291504,
          0.8561473488807678,
          0.8575835824012756,
          0.8673704862594604,
          0.8664121031761169,
          0.8673845529556274,
          0.8676925897598267,
          0.8601046800613403,
          0.8618147373199463,
          0.8639053106307983,
          0.8557624816894531,
          0.8634097576141357,
          0.866386890411377,
          0.8513072729110718,
          0.8668745756149292,
          0.8591805696487427,
          0.8475094437599182,
          0.8593488931655884,
          0.8538154363632202,
          0.8598436713218689,
          0.8578552007675171,
          0.8672780394554138,
          0.8586121797561646,
          0.8672708868980408,
          0.865554928779602,
          0.8546613454818726,
          0.8596484661102295,
          0.8632625341415405,
          0.8653768301010132,
          0.8607800006866455,
          0.8662974834442139,
          0.8667075037956238,
          0.8662667274475098,
          0.8513462543487549,
          0.8582248687744141,
          0.8460433483123779,
          0.855618953704834,
          0.8558488488197327,
          0.8662431836128235,
          0.8684077262878418,
          0.8648162484169006,
          0.8673398494720459,
          0.8545423746109009,
          0.8631472587585449,
          0.8526244163513184,
          0.8517099618911743,
          0.855375349521637,
          0.8673622608184814,
          0.8549832701683044,
          0.8557518720626831,
          0.857182502746582,
          0.8547186255455017,
          0.8660430312156677,
          0.8666884899139404,
          0.8490687608718872,
          0.8602638244628906,
          0.8505116701126099,
          0.8557390570640564,
          0.8651044368743896,
          0.8661491870880127,
          0.8788381814956665,
          0.879304051399231,
          0.8694308996200562,
          0.8752864003181458,
          0.8711855411529541,
          0.8736480474472046,
          0.8717912435531616,
          0.8724095821380615,
          0.8708671927452087,
          0.8698392510414124,
          0.8721306920051575,
          0.8691748380661011,
          0.8722169995307922,
          0.8694201111793518,
          0.8728200197219849,
          0.8728646039962769,
          0.8696437478065491,
          0.8717525601387024,
          0.8723945617675781,
          0.8704807758331299,
          0.8731876015663147,
          0.8724106550216675,
          0.8715126514434814,
          0.8694941401481628,
          0.8670342564582825,
          0.8695545792579651,
          0.872404932975769,
          0.8706156015396118,
          0.8780661821365356,
          0.878533124923706,
          0.8728535175323486,
          0.8732478618621826,
          0.8691405057907104,
          0.8795706033706665,
          0.8726567625999451,
          0.8780982494354248,
          0.8734879493713379,
          0.8715941309928894,
          0.8794416189193726,
          0.8722044825553894,
          0.8700921535491943,
          0.8726730942726135,
          0.8752613067626953,
          0.8708739280700684,
          0.8681564927101135,
          0.8690258860588074,
          0.8727519512176514,
          0.8797181844711304,
          0.8709120154380798,
          0.8675504922866821,
          0.8731803894042969,
          0.878148078918457,
          0.8713036775588989,
          0.8783776164054871,
          0.8796610236167908,
          0.8720420598983765,
          0.8729454278945923,
          0.8700582981109619,
          0.8701361417770386,
          0.875652551651001,
          0.8732583522796631,
          0.8767759203910828,
          0.8682419061660767,
          0.875077486038208,
          0.8865620493888855,
          0.8873102068901062,
          0.8872925639152527,
          0.8852470517158508,
          0.8871586918830872,
          0.8876399397850037,
          0.8880664110183716,
          0.8870428800582886,
          0.8855673670768738,
          0.8854911923408508,
          0.8895711302757263,
          0.8887506127357483,
          0.8877628445625305,
          0.8889895081520081,
          0.889613926410675,
          0.886806070804596,
          0.8860925436019897,
          0.8872727751731873,
          0.8855673670768738,
          0.8876801133155823,
          0.8875692486763,
          0.8865876197814941,
          0.8878170251846313,
          0.8873379230499268,
          0.8881665468215942,
          0.8913452625274658,
          0.8862992525100708,
          0.8865429162979126,
          0.890214204788208,
          0.8888662457466125,
          0.8864824771881104,
          0.8855555653572083,
          0.8854563236236572,
          0.8898572325706482,
          0.8875677585601807,
          0.8859201669692993,
          0.8891051411628723,
          0.8835498690605164,
          0.8869144916534424,
          0.8865365982055664,
          0.887741208076477,
          0.8871946334838867,
          0.8861588835716248,
          0.8857405185699463,
          0.8867524266242981,
          0.885844886302948,
          0.8911312222480774,
          0.8880786895751953,
          0.8840215802192688,
          0.8849944472312927,
          0.8868048787117004,
          0.8908770680427551,
          0.8863813877105713,
          0.8855223655700684,
          0.8833666443824768,
          0.8870149850845337,
          0.8869040608406067,
          0.8868244290351868,
          0.8888991475105286,
          0.8864125609397888,
          0.8883140087127686,
          0.8859931230545044,
          0.8881852626800537,
          0.8862894177436829,
          0.905614972114563,
          0.9043575525283813,
          0.9032737612724304,
          0.902716875076294,
          0.9028833508491516,
          0.9033768177032471,
          0.9030530452728271,
          0.9043284058570862,
          0.9005445241928101,
          0.9015759229660034,
          0.9031615853309631,
          0.9031028151512146,
          0.9025997519493103,
          0.9024871587753296,
          0.9034385681152344,
          0.9019584655761719,
          0.902856707572937,
          0.9028186798095703,
          0.9037960171699524,
          0.9037171006202698,
          0.9031155109405518,
          0.9025440216064453,
          0.9031111598014832,
          0.9025749564170837,
          0.902808427810669,
          0.9045727849006653,
          0.9043367505073547,
          0.9030666351318359,
          0.9037545323371887,
          0.9036588072776794,
          0.9039582014083862,
          0.9016902446746826,
          0.9042116403579712,
          0.9032956957817078,
          0.9007291793823242,
          0.9032821655273438,
          0.9041620492935181,
          0.9036049842834473,
          0.9020727276802063,
          0.9031782150268555,
          0.904056191444397,
          0.9045436382293701,
          0.9027100205421448,
          0.9021755456924438,
          0.902532160282135,
          0.9015434980392456,
          0.9024220705032349,
          0.9038676619529724,
          0.9027001857757568,
          0.9034221172332764,
          0.9032642245292664,
          0.9036133885383606,
          0.9029175639152527,
          0.9015054106712341,
          0.9043879508972168,
          0.9027647972106934,
          0.9034631848335266,
          0.9030449986457825,
          0.9027190804481506,
          0.9041929244995117,
          0.9036563038825989,
          0.9034756422042847,
          0.9030680060386658,
          0.9019204378128052,
          0.9197515845298767,
          0.9190736413002014,
          0.9201350212097168,
          0.9195085763931274,
          0.9198029637336731,
          0.9194625020027161,
          0.9191824793815613,
          0.9201821684837341,
          0.9204126000404358,
          0.9195377230644226,
          0.918809175491333,
          0.91948002576828,
          0.9199497699737549,
          0.9191939234733582,
          0.9191888570785522,
          0.9191822409629822,
          0.9192172288894653,
          0.9190100431442261,
          0.9193395376205444,
          0.9197911024093628,
          0.9192123413085938,
          0.9193024039268494,
          0.919169008731842,
          0.918358564376831,
          0.9195751547813416,
          0.91920405626297,
          0.9196721911430359,
          0.9186754822731018,
          0.9199803471565247,
          0.920422375202179,
          0.9195148944854736,
          0.9193198084831238,
          0.9189307689666748,
          0.9198181629180908,
          0.9186640977859497,
          0.9199329018592834,
          0.919558584690094,
          0.9192610383033752,
          0.9186267852783203,
          0.9192786812782288,
          0.9198529720306396,
          0.9191676378250122,
          0.9183439612388611,
          0.9196048378944397,
          0.9186039566993713,
          0.9194817543029785,
          0.9189784526824951,
          0.9204089045524597,
          0.9198321104049683,
          0.9189972281455994,
          0.9189413785934448,
          0.9202638864517212,
          0.919219970703125,
          0.9194730520248413,
          0.9193440079689026,
          0.9201028943061829,
          0.9195325374603271,
          0.919105589389801,
          0.9194620251655579,
          0.919141948223114,
          0.9198541641235352,
          0.9197831749916077,
          0.9191604256629944,
          0.9189304709434509,
          0.9354351162910461,
          0.9362200498580933,
          0.9352080821990967,
          0.9354257583618164,
          0.9354651570320129,
          0.93508380651474,
          0.9355050325393677,
          0.9356064200401306,
          0.9351752996444702,
          0.935488224029541,
          0.9354735612869263,
          0.9358159303665161,
          0.9359664916992188,
          0.9354670643806458,
          0.9354720711708069,
          0.9350666403770447,
          0.9353850483894348,
          0.935837984085083,
          0.9354128837585449,
          0.9355706572532654,
          0.935488760471344,
          0.9354740977287292,
          0.935530424118042,
          0.9355183243751526,
          0.935699462890625,
          0.9351800084114075,
          0.9354560375213623,
          0.935685932636261,
          0.9355649352073669,
          0.9354938268661499,
          0.9354063868522644,
          0.9355279803276062,
          0.9353286027908325,
          0.9352592825889587,
          0.9354218244552612,
          0.9355179667472839,
          0.9356035590171814,
          0.9354168772697449,
          0.9358327984809875,
          0.9354760646820068,
          0.9355692863464355,
          0.9358053803443909,
          0.9350482821464539,
          0.9359344244003296,
          0.9356032013893127,
          0.9352763295173645,
          0.9355062246322632,
          0.9355975985527039,
          0.9354520440101624,
          0.9353315234184265,
          0.9353487491607666,
          0.9356327652931213,
          0.9354798793792725,
          0.9353629350662231,
          0.9353430271148682,
          0.9358642101287842,
          0.9355133175849915,
          0.9355044960975647,
          0.935441255569458,
          0.935776948928833,
          0.935481071472168,
          0.9353871941566467,
          0.935441255569458,
          0.9353512525558472,
          0.9516444802284241,
          0.9516288042068481,
          0.9515945911407471,
          0.9517150521278381,
          0.9516692161560059,
          0.9515977501869202,
          0.951740026473999,
          0.9517070651054382,
          0.9516645073890686,
          0.9516152739524841,
          0.9517025351524353,
          0.9515806436538696,
          0.9516211152076721,
          0.9515686631202698,
          0.9514950513839722,
          0.9515565633773804,
          0.951646625995636,
          0.9517016410827637,
          0.9515079259872437,
          0.9517257809638977,
          0.9516737461090088,
          0.9516125321388245,
          0.9517261385917664,
          0.9516651630401611,
          0.9515584111213684,
          0.9516550302505493,
          0.9517099857330322,
          0.9515439867973328,
          0.95158451795578,
          0.9514660835266113,
          0.9516971707344055,
          0.9515731334686279,
          0.9516715407371521,
          0.9516218304634094,
          0.9516459703445435,
          0.9516653418540955,
          0.9515390992164612,
          0.9515988826751709,
          0.9514772891998291,
          0.9516467452049255,
          0.9515748023986816,
          0.9516510367393494,
          0.9515450596809387,
          0.9515523314476013,
          0.9516255855560303,
          0.951569139957428,
          0.9517194032669067,
          0.9516546726226807,
          0.9516773819923401,
          0.9516277313232422,
          0.9516494274139404,
          0.9516269564628601,
          0.9516448378562927,
          0.9516947865486145,
          0.9516981840133667,
          0.9517564177513123,
          0.9516716599464417,
          0.9516283273696899,
          0.9516141414642334,
          0.9515168070793152,
          0.9516131281852722,
          0.951614260673523,
          0.9517815113067627,
          0.951600968837738,
          0.9677629470825195,
          0.9677057862281799,
          0.9677518606185913,
          0.9677126407623291,
          0.9677476286888123,
          0.9677094221115112,
          0.9677102565765381,
          0.9676896929740906,
          0.9677637815475464,
          0.9677419066429138,
          0.9677515029907227,
          0.9678010940551758,
          0.9677785038948059,
          0.9677186608314514,
          0.9677507281303406,
          0.9677542448043823,
          0.9676921367645264,
          0.9677271246910095,
          0.9677475094795227,
          0.9677572846412659,
          0.9677963256835938,
          0.9677109718322754,
          0.9677518606185913,
          0.9677176475524902,
          0.9677423238754272,
          0.9677499532699585,
          0.9677454233169556,
          0.9677915573120117,
          0.9677454829216003,
          0.9677426815032959,
          0.9677566289901733,
          0.9677541851997375,
          0.9677655100822449,
          0.9676788449287415,
          0.9677442312240601,
          0.9676961302757263,
          0.9677799940109253,
          0.9677237272262573,
          0.9677267074584961,
          0.9677247405052185,
          0.9676986336708069,
          0.9677380919456482,
          0.9677790999412537,
          0.9677010774612427,
          0.9677168130874634,
          0.9677548408508301,
          0.9677382707595825,
          0.9677348732948303,
          0.9677537083625793,
          0.9677229523658752,
          0.967745304107666,
          0.9677324891090393,
          0.967719316482544,
          0.9677722454071045,
          0.967643678188324,
          0.9677255153656006,
          0.9677281975746155,
          0.9676929116249084,
          0.9677753448486328,
          0.9677222371101379,
          0.9677666425704956,
          0.9677097201347351,
          0.9677327871322632,
          0.9677783846855164,
          0.9839035868644714,
          0.983863115310669,
          0.9838805198669434,
          0.9838722348213196,
          0.9838576316833496,
          0.9838663339614868,
          0.9838544726371765,
          0.9838806390762329,
          0.9838602542877197,
          0.9839074611663818,
          0.9838598966598511,
          0.9838833212852478,
          0.983872652053833,
          0.9838340878486633,
          0.9838715195655823,
          0.9838700890541077,
          0.9838520884513855,
          0.9838563203811646,
          0.9838871359825134,
          0.9838631749153137,
          0.9838603734970093,
          0.9838707447052002,
          0.9838650226593018,
          0.9838690161705017,
          0.983857274055481,
          0.9838929772377014,
          0.9838799834251404,
          0.9838827848434448,
          0.9838635325431824,
          0.9838709235191345,
          0.9838775992393494,
          0.983880341053009,
          0.9838632941246033,
          0.9838687777519226,
          0.9838818907737732,
          0.9838923811912537,
          0.9838734865188599,
          0.9838595390319824,
          0.9838827848434448,
          0.9838717579841614,
          0.9838771224021912,
          0.9838773012161255,
          0.9838505983352661,
          0.9838850498199463,
          0.9838707447052002,
          0.9838913679122925,
          0.983924388885498,
          0.9838851690292358,
          0.983870804309845,
          0.9838755130767822,
          0.9838767051696777,
          0.9838652014732361,
          0.9838599562644958,
          0.9838782548904419,
          0.983874499797821,
          0.9838583469390869,
          0.9838950634002686,
          0.9838646650314331,
          0.9838827252388,
          0.9838881492614746,
          0.9838845133781433,
          0.9838670492172241,
          0.9838664531707764,
          0.9838805794715881,
          1.0000009536743164,
          1.0000017881393433,
          0.9999945759773254,
          0.9999998807907104,
          1.0000022649765015,
          1.0000154972076416,
          0.9999995827674866,
          1.000003457069397,
          1.0000113248825073,
          1.0000132322311401,
          0.9999999403953552,
          1.0000019073486328,
          0.999997615814209,
          0.9999931454658508,
          1.0000048875808716,
          0.9999993443489075,
          1.0000001192092896,
          1.0000007152557373,
          0.9999982118606567,
          1.0000029802322388,
          1.0000046491622925,
          1.0000004768371582,
          0.9999993443489075,
          1.0000014305114746,
          0.9999982714653015,
          1.000001072883606,
          1.0000015497207642,
          1.0000008344650269,
          1,
          1.0000041723251343,
          1.0000072717666626,
          0.9999999403953552,
          0.9999955892562866,
          1.0000038146972656,
          0.9999998211860657,
          1.0000038146972656,
          1.0000005960464478,
          1.0000001192092896,
          1,
          0.999997079372406,
          1.0000004768371582,
          0.9999977350234985,
          1.0000003576278687,
          0.9999961853027344,
          0.9999999403953552,
          0.9999996423721313,
          1.000002384185791,
          1.0000033378601074,
          0.9999976754188538,
          1.000002145767212,
          1.000000238418579,
          0.9999988675117493,
          0.9999970197677612,
          1.0000009536743164,
          0.9999995827674866,
          0.9999818205833435,
          0.9999994039535522,
          1.0000003576278687,
          0.9999993443489075,
          1.0000079870224,
          0.9999986290931702,
          1.0000016689300537,
          0.9999997019767761,
          0.9999992251396179
         ],
         "yaxis": "y"
        }
       ],
       "layout": {
        "legend": {
         "tracegroupgap": 0
        },
        "margin": {
         "t": 60
        },
        "template": {
         "data": {
          "bar": [
           {
            "error_x": {
             "color": "#2a3f5f"
            },
            "error_y": {
             "color": "#2a3f5f"
            },
            "marker": {
             "line": {
              "color": "#E5ECF6",
              "width": 0.5
             },
             "pattern": {
              "fillmode": "overlay",
              "size": 10,
              "solidity": 0.2
             }
            },
            "type": "bar"
           }
          ],
          "barpolar": [
           {
            "marker": {
             "line": {
              "color": "#E5ECF6",
              "width": 0.5
             },
             "pattern": {
              "fillmode": "overlay",
              "size": 10,
              "solidity": 0.2
             }
            },
            "type": "barpolar"
           }
          ],
          "carpet": [
           {
            "aaxis": {
             "endlinecolor": "#2a3f5f",
             "gridcolor": "white",
             "linecolor": "white",
             "minorgridcolor": "white",
             "startlinecolor": "#2a3f5f"
            },
            "baxis": {
             "endlinecolor": "#2a3f5f",
             "gridcolor": "white",
             "linecolor": "white",
             "minorgridcolor": "white",
             "startlinecolor": "#2a3f5f"
            },
            "type": "carpet"
           }
          ],
          "choropleth": [
           {
            "colorbar": {
             "outlinewidth": 0,
             "ticks": ""
            },
            "type": "choropleth"
           }
          ],
          "contour": [
           {
            "colorbar": {
             "outlinewidth": 0,
             "ticks": ""
            },
            "colorscale": [
             [
              0,
              "#0d0887"
             ],
             [
              0.1111111111111111,
              "#46039f"
             ],
             [
              0.2222222222222222,
              "#7201a8"
             ],
             [
              0.3333333333333333,
              "#9c179e"
             ],
             [
              0.4444444444444444,
              "#bd3786"
             ],
             [
              0.5555555555555556,
              "#d8576b"
             ],
             [
              0.6666666666666666,
              "#ed7953"
             ],
             [
              0.7777777777777778,
              "#fb9f3a"
             ],
             [
              0.8888888888888888,
              "#fdca26"
             ],
             [
              1,
              "#f0f921"
             ]
            ],
            "type": "contour"
           }
          ],
          "contourcarpet": [
           {
            "colorbar": {
             "outlinewidth": 0,
             "ticks": ""
            },
            "type": "contourcarpet"
           }
          ],
          "heatmap": [
           {
            "colorbar": {
             "outlinewidth": 0,
             "ticks": ""
            },
            "colorscale": [
             [
              0,
              "#0d0887"
             ],
             [
              0.1111111111111111,
              "#46039f"
             ],
             [
              0.2222222222222222,
              "#7201a8"
             ],
             [
              0.3333333333333333,
              "#9c179e"
             ],
             [
              0.4444444444444444,
              "#bd3786"
             ],
             [
              0.5555555555555556,
              "#d8576b"
             ],
             [
              0.6666666666666666,
              "#ed7953"
             ],
             [
              0.7777777777777778,
              "#fb9f3a"
             ],
             [
              0.8888888888888888,
              "#fdca26"
             ],
             [
              1,
              "#f0f921"
             ]
            ],
            "type": "heatmap"
           }
          ],
          "heatmapgl": [
           {
            "colorbar": {
             "outlinewidth": 0,
             "ticks": ""
            },
            "colorscale": [
             [
              0,
              "#0d0887"
             ],
             [
              0.1111111111111111,
              "#46039f"
             ],
             [
              0.2222222222222222,
              "#7201a8"
             ],
             [
              0.3333333333333333,
              "#9c179e"
             ],
             [
              0.4444444444444444,
              "#bd3786"
             ],
             [
              0.5555555555555556,
              "#d8576b"
             ],
             [
              0.6666666666666666,
              "#ed7953"
             ],
             [
              0.7777777777777778,
              "#fb9f3a"
             ],
             [
              0.8888888888888888,
              "#fdca26"
             ],
             [
              1,
              "#f0f921"
             ]
            ],
            "type": "heatmapgl"
           }
          ],
          "histogram": [
           {
            "marker": {
             "pattern": {
              "fillmode": "overlay",
              "size": 10,
              "solidity": 0.2
             }
            },
            "type": "histogram"
           }
          ],
          "histogram2d": [
           {
            "colorbar": {
             "outlinewidth": 0,
             "ticks": ""
            },
            "colorscale": [
             [
              0,
              "#0d0887"
             ],
             [
              0.1111111111111111,
              "#46039f"
             ],
             [
              0.2222222222222222,
              "#7201a8"
             ],
             [
              0.3333333333333333,
              "#9c179e"
             ],
             [
              0.4444444444444444,
              "#bd3786"
             ],
             [
              0.5555555555555556,
              "#d8576b"
             ],
             [
              0.6666666666666666,
              "#ed7953"
             ],
             [
              0.7777777777777778,
              "#fb9f3a"
             ],
             [
              0.8888888888888888,
              "#fdca26"
             ],
             [
              1,
              "#f0f921"
             ]
            ],
            "type": "histogram2d"
           }
          ],
          "histogram2dcontour": [
           {
            "colorbar": {
             "outlinewidth": 0,
             "ticks": ""
            },
            "colorscale": [
             [
              0,
              "#0d0887"
             ],
             [
              0.1111111111111111,
              "#46039f"
             ],
             [
              0.2222222222222222,
              "#7201a8"
             ],
             [
              0.3333333333333333,
              "#9c179e"
             ],
             [
              0.4444444444444444,
              "#bd3786"
             ],
             [
              0.5555555555555556,
              "#d8576b"
             ],
             [
              0.6666666666666666,
              "#ed7953"
             ],
             [
              0.7777777777777778,
              "#fb9f3a"
             ],
             [
              0.8888888888888888,
              "#fdca26"
             ],
             [
              1,
              "#f0f921"
             ]
            ],
            "type": "histogram2dcontour"
           }
          ],
          "mesh3d": [
           {
            "colorbar": {
             "outlinewidth": 0,
             "ticks": ""
            },
            "type": "mesh3d"
           }
          ],
          "parcoords": [
           {
            "line": {
             "colorbar": {
              "outlinewidth": 0,
              "ticks": ""
             }
            },
            "type": "parcoords"
           }
          ],
          "pie": [
           {
            "automargin": true,
            "type": "pie"
           }
          ],
          "scatter": [
           {
            "fillpattern": {
             "fillmode": "overlay",
             "size": 10,
             "solidity": 0.2
            },
            "type": "scatter"
           }
          ],
          "scatter3d": [
           {
            "line": {
             "colorbar": {
              "outlinewidth": 0,
              "ticks": ""
             }
            },
            "marker": {
             "colorbar": {
              "outlinewidth": 0,
              "ticks": ""
             }
            },
            "type": "scatter3d"
           }
          ],
          "scattercarpet": [
           {
            "marker": {
             "colorbar": {
              "outlinewidth": 0,
              "ticks": ""
             }
            },
            "type": "scattercarpet"
           }
          ],
          "scattergeo": [
           {
            "marker": {
             "colorbar": {
              "outlinewidth": 0,
              "ticks": ""
             }
            },
            "type": "scattergeo"
           }
          ],
          "scattergl": [
           {
            "marker": {
             "colorbar": {
              "outlinewidth": 0,
              "ticks": ""
             }
            },
            "type": "scattergl"
           }
          ],
          "scattermapbox": [
           {
            "marker": {
             "colorbar": {
              "outlinewidth": 0,
              "ticks": ""
             }
            },
            "type": "scattermapbox"
           }
          ],
          "scatterpolar": [
           {
            "marker": {
             "colorbar": {
              "outlinewidth": 0,
              "ticks": ""
             }
            },
            "type": "scatterpolar"
           }
          ],
          "scatterpolargl": [
           {
            "marker": {
             "colorbar": {
              "outlinewidth": 0,
              "ticks": ""
             }
            },
            "type": "scatterpolargl"
           }
          ],
          "scatterternary": [
           {
            "marker": {
             "colorbar": {
              "outlinewidth": 0,
              "ticks": ""
             }
            },
            "type": "scatterternary"
           }
          ],
          "surface": [
           {
            "colorbar": {
             "outlinewidth": 0,
             "ticks": ""
            },
            "colorscale": [
             [
              0,
              "#0d0887"
             ],
             [
              0.1111111111111111,
              "#46039f"
             ],
             [
              0.2222222222222222,
              "#7201a8"
             ],
             [
              0.3333333333333333,
              "#9c179e"
             ],
             [
              0.4444444444444444,
              "#bd3786"
             ],
             [
              0.5555555555555556,
              "#d8576b"
             ],
             [
              0.6666666666666666,
              "#ed7953"
             ],
             [
              0.7777777777777778,
              "#fb9f3a"
             ],
             [
              0.8888888888888888,
              "#fdca26"
             ],
             [
              1,
              "#f0f921"
             ]
            ],
            "type": "surface"
           }
          ],
          "table": [
           {
            "cells": {
             "fill": {
              "color": "#EBF0F8"
             },
             "line": {
              "color": "white"
             }
            },
            "header": {
             "fill": {
              "color": "#C8D4E3"
             },
             "line": {
              "color": "white"
             }
            },
            "type": "table"
           }
          ]
         },
         "layout": {
          "annotationdefaults": {
           "arrowcolor": "#2a3f5f",
           "arrowhead": 0,
           "arrowwidth": 1
          },
          "autotypenumbers": "strict",
          "coloraxis": {
           "colorbar": {
            "outlinewidth": 0,
            "ticks": ""
           }
          },
          "colorscale": {
           "diverging": [
            [
             0,
             "#8e0152"
            ],
            [
             0.1,
             "#c51b7d"
            ],
            [
             0.2,
             "#de77ae"
            ],
            [
             0.3,
             "#f1b6da"
            ],
            [
             0.4,
             "#fde0ef"
            ],
            [
             0.5,
             "#f7f7f7"
            ],
            [
             0.6,
             "#e6f5d0"
            ],
            [
             0.7,
             "#b8e186"
            ],
            [
             0.8,
             "#7fbc41"
            ],
            [
             0.9,
             "#4d9221"
            ],
            [
             1,
             "#276419"
            ]
           ],
           "sequential": [
            [
             0,
             "#0d0887"
            ],
            [
             0.1111111111111111,
             "#46039f"
            ],
            [
             0.2222222222222222,
             "#7201a8"
            ],
            [
             0.3333333333333333,
             "#9c179e"
            ],
            [
             0.4444444444444444,
             "#bd3786"
            ],
            [
             0.5555555555555556,
             "#d8576b"
            ],
            [
             0.6666666666666666,
             "#ed7953"
            ],
            [
             0.7777777777777778,
             "#fb9f3a"
            ],
            [
             0.8888888888888888,
             "#fdca26"
            ],
            [
             1,
             "#f0f921"
            ]
           ],
           "sequentialminus": [
            [
             0,
             "#0d0887"
            ],
            [
             0.1111111111111111,
             "#46039f"
            ],
            [
             0.2222222222222222,
             "#7201a8"
            ],
            [
             0.3333333333333333,
             "#9c179e"
            ],
            [
             0.4444444444444444,
             "#bd3786"
            ],
            [
             0.5555555555555556,
             "#d8576b"
            ],
            [
             0.6666666666666666,
             "#ed7953"
            ],
            [
             0.7777777777777778,
             "#fb9f3a"
            ],
            [
             0.8888888888888888,
             "#fdca26"
            ],
            [
             1,
             "#f0f921"
            ]
           ]
          },
          "colorway": [
           "#636efa",
           "#EF553B",
           "#00cc96",
           "#ab63fa",
           "#FFA15A",
           "#19d3f3",
           "#FF6692",
           "#B6E880",
           "#FF97FF",
           "#FECB52"
          ],
          "font": {
           "color": "#2a3f5f"
          },
          "geo": {
           "bgcolor": "white",
           "lakecolor": "white",
           "landcolor": "#E5ECF6",
           "showlakes": true,
           "showland": true,
           "subunitcolor": "white"
          },
          "hoverlabel": {
           "align": "left"
          },
          "hovermode": "closest",
          "mapbox": {
           "style": "light"
          },
          "paper_bgcolor": "white",
          "plot_bgcolor": "#E5ECF6",
          "polar": {
           "angularaxis": {
            "gridcolor": "white",
            "linecolor": "white",
            "ticks": ""
           },
           "bgcolor": "#E5ECF6",
           "radialaxis": {
            "gridcolor": "white",
            "linecolor": "white",
            "ticks": ""
           }
          },
          "scene": {
           "xaxis": {
            "backgroundcolor": "#E5ECF6",
            "gridcolor": "white",
            "gridwidth": 2,
            "linecolor": "white",
            "showbackground": true,
            "ticks": "",
            "zerolinecolor": "white"
           },
           "yaxis": {
            "backgroundcolor": "#E5ECF6",
            "gridcolor": "white",
            "gridwidth": 2,
            "linecolor": "white",
            "showbackground": true,
            "ticks": "",
            "zerolinecolor": "white"
           },
           "zaxis": {
            "backgroundcolor": "#E5ECF6",
            "gridcolor": "white",
            "gridwidth": 2,
            "linecolor": "white",
            "showbackground": true,
            "ticks": "",
            "zerolinecolor": "white"
           }
          },
          "shapedefaults": {
           "line": {
            "color": "#2a3f5f"
           }
          },
          "ternary": {
           "aaxis": {
            "gridcolor": "white",
            "linecolor": "white",
            "ticks": ""
           },
           "baxis": {
            "gridcolor": "white",
            "linecolor": "white",
            "ticks": ""
           },
           "bgcolor": "#E5ECF6",
           "caxis": {
            "gridcolor": "white",
            "linecolor": "white",
            "ticks": ""
           }
          },
          "title": {
           "x": 0.05
          },
          "xaxis": {
           "automargin": true,
           "gridcolor": "white",
           "linecolor": "white",
           "ticks": "",
           "title": {
            "standoff": 15
           },
           "zerolinecolor": "white",
           "zerolinewidth": 2
          },
          "yaxis": {
           "automargin": true,
           "gridcolor": "white",
           "linecolor": "white",
           "ticks": "",
           "title": {
            "standoff": 15
           },
           "zerolinecolor": "white",
           "zerolinewidth": 2
          }
         }
        },
        "xaxis": {
         "anchor": "y",
         "domain": [
          0,
          1
         ],
         "title": {
          "text": "x"
         }
        },
        "yaxis": {
         "anchor": "x",
         "domain": [
          0,
          1
         ],
         "title": {
          "text": "y"
         }
        }
       }
      }
     },
     "metadata": {},
     "output_type": "display_data"
    }
   ],
   "source": [
    "def plot_samples_scatter(samples, value_transform=lambda x: x):\n",
    "    import plotly.express as px\n",
    "    conds = samples.cond\n",
    "    values = samples.value\n",
    "    values = jax.vmap(value_transform)(values)\n",
    "    conds = jax.tree.map(\n",
    "        lambda x: jnp.repeat(\n",
    "            x[:, None, ...],\n",
    "            values.shape[1],\n",
    "            axis=1\n",
    "        ), conds\n",
    "    )\n",
    "    x, y = jax.tree.map(\n",
    "        lambda x: jnp.reshape(x, (-1,)),\n",
    "        (conds, values)\n",
    "    )\n",
    "    px.scatter(x=x, y=y, opacity=0.5).show()\n",
    "plot_samples_scatter(samples, proj_transform)"
   ]
  },
  {
   "cell_type": "code",
   "execution_count": 265,
   "metadata": {},
   "outputs": [],
   "source": [
    "test_data = Sample(cond=jnp.array([[1],[-1], [-2]]), value=jnp.array([[1],[-1],[-3]]))"
   ]
  },
  {
   "cell_type": "code",
   "execution_count": 275,
   "metadata": {},
   "outputs": [
    {
     "data": {
      "application/vnd.plotly.v1+json": {
       "config": {
        "plotlyServerURL": "https://plot.ly"
       },
       "data": [
        {
         "hovertemplate": "x=%{x}<br>y=%{y}<extra></extra>",
         "legendgroup": "",
         "marker": {
          "color": "#636efa",
          "opacity": 0.5,
          "symbol": "circle"
         },
         "mode": "markers",
         "name": "",
         "orientation": "v",
         "showlegend": false,
         "type": "scatter",
         "x": [
          -2,
          -1.9387755393981934,
          -1.8775510787963867,
          -1.81632661819458,
          -1.7551020383834839,
          -1.6938775777816772,
          -1.632652997970581,
          -1.5714285373687744,
          -1.5102040767669678,
          -1.4489796161651611,
          -1.387755036354065,
          -1.3265305757522583,
          -1.2653061151504517,
          -1.204081654548645,
          -1.1428571939468384,
          -1.0816327333450317,
          -1.020408272743225,
          -0.9591836929321289,
          -0.8979591727256775,
          -0.8367347121238708,
          -0.7755102515220642,
          -0.7142857313156128,
          -0.6530612707138062,
          -0.59183669090271,
          -0.5306122303009033,
          -0.4693877696990967,
          -0.40816330909729004,
          -0.3469388484954834,
          -0.285714328289032,
          -0.22448980808258057,
          -0.16326534748077393,
          -0.10204082727432251,
          -0.04081636667251587,
          0.02040809392929077,
          0.08163261413574219,
          0.14285707473754883,
          0.20408159494400024,
          0.2653060853481293,
          0.3265305757522583,
          0.38775503635406494,
          0.44897952675819397,
          0.510204017162323,
          0.5714285373687744,
          0.632652997970581,
          0.6938775181770325,
          0.7551019787788391,
          0.8163264393806458,
          0.8775509595870972,
          0.9387754797935486,
          1
         ],
         "xaxis": "x",
         "y": [
          -0.9868897795677185,
          -0.985194742679596,
          -0.9832823872566223,
          -0.9811254739761353,
          -0.9786928296089172,
          -0.9759508371353149,
          -0.97286057472229,
          -0.9693794846534729,
          -0.9654596447944641,
          -0.9610480666160583,
          -0.9560855031013489,
          -0.9505066871643066,
          -0.9442393779754639,
          -0.9372039437294006,
          -0.9293131232261658,
          -0.9204714894294739,
          -0.910575270652771,
          -0.8995118141174316,
          -0.88716059923172,
          -0.8733925223350525,
          -0.8580707907676697,
          -0.8410521149635315,
          -0.8221881985664368,
          -0.8013269305229187,
          -0.7783159613609314,
          -0.7530053853988647,
          -0.7252514958381653,
          -0.694921612739563,
          -0.6618996858596802,
          -0.6260918974876404,
          -0.5874332785606384,
          -0.5458938479423523,
          -0.5014855265617371,
          -0.45426762104034424,
          -0.40435123443603516,
          -0.35190415382385254,
          -0.2971500754356384,
          -0.2403695434331894,
          -0.18189497292041779,
          -0.12210506200790405,
          -0.061415474861860275,
          -0.00026837087352760136,
          0.06088073179125786,
          0.12157624214887619,
          0.18137598037719727,
          0.23986376821994781,
          0.29666072130203247,
          0.35143375396728516,
          0.40390220284461975,
          0.45384135842323303
         ],
         "yaxis": "y"
        }
       ],
       "layout": {
        "legend": {
         "tracegroupgap": 0
        },
        "margin": {
         "t": 60
        },
        "template": {
         "data": {
          "bar": [
           {
            "error_x": {
             "color": "#2a3f5f"
            },
            "error_y": {
             "color": "#2a3f5f"
            },
            "marker": {
             "line": {
              "color": "#E5ECF6",
              "width": 0.5
             },
             "pattern": {
              "fillmode": "overlay",
              "size": 10,
              "solidity": 0.2
             }
            },
            "type": "bar"
           }
          ],
          "barpolar": [
           {
            "marker": {
             "line": {
              "color": "#E5ECF6",
              "width": 0.5
             },
             "pattern": {
              "fillmode": "overlay",
              "size": 10,
              "solidity": 0.2
             }
            },
            "type": "barpolar"
           }
          ],
          "carpet": [
           {
            "aaxis": {
             "endlinecolor": "#2a3f5f",
             "gridcolor": "white",
             "linecolor": "white",
             "minorgridcolor": "white",
             "startlinecolor": "#2a3f5f"
            },
            "baxis": {
             "endlinecolor": "#2a3f5f",
             "gridcolor": "white",
             "linecolor": "white",
             "minorgridcolor": "white",
             "startlinecolor": "#2a3f5f"
            },
            "type": "carpet"
           }
          ],
          "choropleth": [
           {
            "colorbar": {
             "outlinewidth": 0,
             "ticks": ""
            },
            "type": "choropleth"
           }
          ],
          "contour": [
           {
            "colorbar": {
             "outlinewidth": 0,
             "ticks": ""
            },
            "colorscale": [
             [
              0,
              "#0d0887"
             ],
             [
              0.1111111111111111,
              "#46039f"
             ],
             [
              0.2222222222222222,
              "#7201a8"
             ],
             [
              0.3333333333333333,
              "#9c179e"
             ],
             [
              0.4444444444444444,
              "#bd3786"
             ],
             [
              0.5555555555555556,
              "#d8576b"
             ],
             [
              0.6666666666666666,
              "#ed7953"
             ],
             [
              0.7777777777777778,
              "#fb9f3a"
             ],
             [
              0.8888888888888888,
              "#fdca26"
             ],
             [
              1,
              "#f0f921"
             ]
            ],
            "type": "contour"
           }
          ],
          "contourcarpet": [
           {
            "colorbar": {
             "outlinewidth": 0,
             "ticks": ""
            },
            "type": "contourcarpet"
           }
          ],
          "heatmap": [
           {
            "colorbar": {
             "outlinewidth": 0,
             "ticks": ""
            },
            "colorscale": [
             [
              0,
              "#0d0887"
             ],
             [
              0.1111111111111111,
              "#46039f"
             ],
             [
              0.2222222222222222,
              "#7201a8"
             ],
             [
              0.3333333333333333,
              "#9c179e"
             ],
             [
              0.4444444444444444,
              "#bd3786"
             ],
             [
              0.5555555555555556,
              "#d8576b"
             ],
             [
              0.6666666666666666,
              "#ed7953"
             ],
             [
              0.7777777777777778,
              "#fb9f3a"
             ],
             [
              0.8888888888888888,
              "#fdca26"
             ],
             [
              1,
              "#f0f921"
             ]
            ],
            "type": "heatmap"
           }
          ],
          "heatmapgl": [
           {
            "colorbar": {
             "outlinewidth": 0,
             "ticks": ""
            },
            "colorscale": [
             [
              0,
              "#0d0887"
             ],
             [
              0.1111111111111111,
              "#46039f"
             ],
             [
              0.2222222222222222,
              "#7201a8"
             ],
             [
              0.3333333333333333,
              "#9c179e"
             ],
             [
              0.4444444444444444,
              "#bd3786"
             ],
             [
              0.5555555555555556,
              "#d8576b"
             ],
             [
              0.6666666666666666,
              "#ed7953"
             ],
             [
              0.7777777777777778,
              "#fb9f3a"
             ],
             [
              0.8888888888888888,
              "#fdca26"
             ],
             [
              1,
              "#f0f921"
             ]
            ],
            "type": "heatmapgl"
           }
          ],
          "histogram": [
           {
            "marker": {
             "pattern": {
              "fillmode": "overlay",
              "size": 10,
              "solidity": 0.2
             }
            },
            "type": "histogram"
           }
          ],
          "histogram2d": [
           {
            "colorbar": {
             "outlinewidth": 0,
             "ticks": ""
            },
            "colorscale": [
             [
              0,
              "#0d0887"
             ],
             [
              0.1111111111111111,
              "#46039f"
             ],
             [
              0.2222222222222222,
              "#7201a8"
             ],
             [
              0.3333333333333333,
              "#9c179e"
             ],
             [
              0.4444444444444444,
              "#bd3786"
             ],
             [
              0.5555555555555556,
              "#d8576b"
             ],
             [
              0.6666666666666666,
              "#ed7953"
             ],
             [
              0.7777777777777778,
              "#fb9f3a"
             ],
             [
              0.8888888888888888,
              "#fdca26"
             ],
             [
              1,
              "#f0f921"
             ]
            ],
            "type": "histogram2d"
           }
          ],
          "histogram2dcontour": [
           {
            "colorbar": {
             "outlinewidth": 0,
             "ticks": ""
            },
            "colorscale": [
             [
              0,
              "#0d0887"
             ],
             [
              0.1111111111111111,
              "#46039f"
             ],
             [
              0.2222222222222222,
              "#7201a8"
             ],
             [
              0.3333333333333333,
              "#9c179e"
             ],
             [
              0.4444444444444444,
              "#bd3786"
             ],
             [
              0.5555555555555556,
              "#d8576b"
             ],
             [
              0.6666666666666666,
              "#ed7953"
             ],
             [
              0.7777777777777778,
              "#fb9f3a"
             ],
             [
              0.8888888888888888,
              "#fdca26"
             ],
             [
              1,
              "#f0f921"
             ]
            ],
            "type": "histogram2dcontour"
           }
          ],
          "mesh3d": [
           {
            "colorbar": {
             "outlinewidth": 0,
             "ticks": ""
            },
            "type": "mesh3d"
           }
          ],
          "parcoords": [
           {
            "line": {
             "colorbar": {
              "outlinewidth": 0,
              "ticks": ""
             }
            },
            "type": "parcoords"
           }
          ],
          "pie": [
           {
            "automargin": true,
            "type": "pie"
           }
          ],
          "scatter": [
           {
            "fillpattern": {
             "fillmode": "overlay",
             "size": 10,
             "solidity": 0.2
            },
            "type": "scatter"
           }
          ],
          "scatter3d": [
           {
            "line": {
             "colorbar": {
              "outlinewidth": 0,
              "ticks": ""
             }
            },
            "marker": {
             "colorbar": {
              "outlinewidth": 0,
              "ticks": ""
             }
            },
            "type": "scatter3d"
           }
          ],
          "scattercarpet": [
           {
            "marker": {
             "colorbar": {
              "outlinewidth": 0,
              "ticks": ""
             }
            },
            "type": "scattercarpet"
           }
          ],
          "scattergeo": [
           {
            "marker": {
             "colorbar": {
              "outlinewidth": 0,
              "ticks": ""
             }
            },
            "type": "scattergeo"
           }
          ],
          "scattergl": [
           {
            "marker": {
             "colorbar": {
              "outlinewidth": 0,
              "ticks": ""
             }
            },
            "type": "scattergl"
           }
          ],
          "scattermapbox": [
           {
            "marker": {
             "colorbar": {
              "outlinewidth": 0,
              "ticks": ""
             }
            },
            "type": "scattermapbox"
           }
          ],
          "scatterpolar": [
           {
            "marker": {
             "colorbar": {
              "outlinewidth": 0,
              "ticks": ""
             }
            },
            "type": "scatterpolar"
           }
          ],
          "scatterpolargl": [
           {
            "marker": {
             "colorbar": {
              "outlinewidth": 0,
              "ticks": ""
             }
            },
            "type": "scatterpolargl"
           }
          ],
          "scatterternary": [
           {
            "marker": {
             "colorbar": {
              "outlinewidth": 0,
              "ticks": ""
             }
            },
            "type": "scatterternary"
           }
          ],
          "surface": [
           {
            "colorbar": {
             "outlinewidth": 0,
             "ticks": ""
            },
            "colorscale": [
             [
              0,
              "#0d0887"
             ],
             [
              0.1111111111111111,
              "#46039f"
             ],
             [
              0.2222222222222222,
              "#7201a8"
             ],
             [
              0.3333333333333333,
              "#9c179e"
             ],
             [
              0.4444444444444444,
              "#bd3786"
             ],
             [
              0.5555555555555556,
              "#d8576b"
             ],
             [
              0.6666666666666666,
              "#ed7953"
             ],
             [
              0.7777777777777778,
              "#fb9f3a"
             ],
             [
              0.8888888888888888,
              "#fdca26"
             ],
             [
              1,
              "#f0f921"
             ]
            ],
            "type": "surface"
           }
          ],
          "table": [
           {
            "cells": {
             "fill": {
              "color": "#EBF0F8"
             },
             "line": {
              "color": "white"
             }
            },
            "header": {
             "fill": {
              "color": "#C8D4E3"
             },
             "line": {
              "color": "white"
             }
            },
            "type": "table"
           }
          ]
         },
         "layout": {
          "annotationdefaults": {
           "arrowcolor": "#2a3f5f",
           "arrowhead": 0,
           "arrowwidth": 1
          },
          "autotypenumbers": "strict",
          "coloraxis": {
           "colorbar": {
            "outlinewidth": 0,
            "ticks": ""
           }
          },
          "colorscale": {
           "diverging": [
            [
             0,
             "#8e0152"
            ],
            [
             0.1,
             "#c51b7d"
            ],
            [
             0.2,
             "#de77ae"
            ],
            [
             0.3,
             "#f1b6da"
            ],
            [
             0.4,
             "#fde0ef"
            ],
            [
             0.5,
             "#f7f7f7"
            ],
            [
             0.6,
             "#e6f5d0"
            ],
            [
             0.7,
             "#b8e186"
            ],
            [
             0.8,
             "#7fbc41"
            ],
            [
             0.9,
             "#4d9221"
            ],
            [
             1,
             "#276419"
            ]
           ],
           "sequential": [
            [
             0,
             "#0d0887"
            ],
            [
             0.1111111111111111,
             "#46039f"
            ],
            [
             0.2222222222222222,
             "#7201a8"
            ],
            [
             0.3333333333333333,
             "#9c179e"
            ],
            [
             0.4444444444444444,
             "#bd3786"
            ],
            [
             0.5555555555555556,
             "#d8576b"
            ],
            [
             0.6666666666666666,
             "#ed7953"
            ],
            [
             0.7777777777777778,
             "#fb9f3a"
            ],
            [
             0.8888888888888888,
             "#fdca26"
            ],
            [
             1,
             "#f0f921"
            ]
           ],
           "sequentialminus": [
            [
             0,
             "#0d0887"
            ],
            [
             0.1111111111111111,
             "#46039f"
            ],
            [
             0.2222222222222222,
             "#7201a8"
            ],
            [
             0.3333333333333333,
             "#9c179e"
            ],
            [
             0.4444444444444444,
             "#bd3786"
            ],
            [
             0.5555555555555556,
             "#d8576b"
            ],
            [
             0.6666666666666666,
             "#ed7953"
            ],
            [
             0.7777777777777778,
             "#fb9f3a"
            ],
            [
             0.8888888888888888,
             "#fdca26"
            ],
            [
             1,
             "#f0f921"
            ]
           ]
          },
          "colorway": [
           "#636efa",
           "#EF553B",
           "#00cc96",
           "#ab63fa",
           "#FFA15A",
           "#19d3f3",
           "#FF6692",
           "#B6E880",
           "#FF97FF",
           "#FECB52"
          ],
          "font": {
           "color": "#2a3f5f"
          },
          "geo": {
           "bgcolor": "white",
           "lakecolor": "white",
           "landcolor": "#E5ECF6",
           "showlakes": true,
           "showland": true,
           "subunitcolor": "white"
          },
          "hoverlabel": {
           "align": "left"
          },
          "hovermode": "closest",
          "mapbox": {
           "style": "light"
          },
          "paper_bgcolor": "white",
          "plot_bgcolor": "#E5ECF6",
          "polar": {
           "angularaxis": {
            "gridcolor": "white",
            "linecolor": "white",
            "ticks": ""
           },
           "bgcolor": "#E5ECF6",
           "radialaxis": {
            "gridcolor": "white",
            "linecolor": "white",
            "ticks": ""
           }
          },
          "scene": {
           "xaxis": {
            "backgroundcolor": "#E5ECF6",
            "gridcolor": "white",
            "gridwidth": 2,
            "linecolor": "white",
            "showbackground": true,
            "ticks": "",
            "zerolinecolor": "white"
           },
           "yaxis": {
            "backgroundcolor": "#E5ECF6",
            "gridcolor": "white",
            "gridwidth": 2,
            "linecolor": "white",
            "showbackground": true,
            "ticks": "",
            "zerolinecolor": "white"
           },
           "zaxis": {
            "backgroundcolor": "#E5ECF6",
            "gridcolor": "white",
            "gridwidth": 2,
            "linecolor": "white",
            "showbackground": true,
            "ticks": "",
            "zerolinecolor": "white"
           }
          },
          "shapedefaults": {
           "line": {
            "color": "#2a3f5f"
           }
          },
          "ternary": {
           "aaxis": {
            "gridcolor": "white",
            "linecolor": "white",
            "ticks": ""
           },
           "baxis": {
            "gridcolor": "white",
            "linecolor": "white",
            "ticks": ""
           },
           "bgcolor": "#E5ECF6",
           "caxis": {
            "gridcolor": "white",
            "linecolor": "white",
            "ticks": ""
           }
          },
          "title": {
           "x": 0.05
          },
          "xaxis": {
           "automargin": true,
           "gridcolor": "white",
           "linecolor": "white",
           "ticks": "",
           "title": {
            "standoff": 15
           },
           "zerolinecolor": "white",
           "zerolinewidth": 2
          },
          "yaxis": {
           "automargin": true,
           "gridcolor": "white",
           "linecolor": "white",
           "ticks": "",
           "title": {
            "standoff": 15
           },
           "zerolinecolor": "white",
           "zerolinewidth": 2
          }
         }
        },
        "xaxis": {
         "anchor": "y",
         "domain": [
          0,
          1
         ],
         "title": {
          "text": "x"
         }
        },
        "yaxis": {
         "anchor": "x",
         "domain": [
          0,
          1
         ],
         "title": {
          "text": "y"
         }
        }
       }
      }
     },
     "metadata": {},
     "output_type": "display_data"
    }
   ],
   "source": [
    "nw_estimator = nw_diffusion_local_poly_closed(data, schedule, 0, 0.5*jnp.ones((data.cond.shape[-1] + data.value.shape[-1],)))\n",
    "plot_samples_scatter(jax.vmap(nw_estimator, in_axes=(0,None,None))(jnp.linspace(-2, 1, 50)[:,None], jnp.array([1]), 50))"
   ]
  },
  {
   "cell_type": "code",
   "execution_count": 267,
   "metadata": {},
   "outputs": [
    {
     "data": {
      "application/vnd.plotly.v1+json": {
       "config": {
        "plotlyServerURL": "https://plot.ly"
       },
       "data": [
        {
         "hovertemplate": "x=%{x}<br>y=%{y}<extra></extra>",
         "legendgroup": "",
         "marker": {
          "color": "#636efa",
          "opacity": 0.5,
          "symbol": "circle"
         },
         "mode": "markers",
         "name": "",
         "orientation": "v",
         "showlegend": false,
         "type": "scatter",
         "x": [
          -3,
          -2.8979592323303223,
          -2.7959184646606445,
          -2.693877696990967,
          -2.59183669090271,
          -2.4897959232330322,
          -2.3877551555633545,
          -2.2857143878936768,
          -2.183673620223999,
          -2.081632614135742,
          -1.9795918464660645,
          -1.8775509595870972,
          -1.7755101919174194,
          -1.6734694242477417,
          -1.571428656578064,
          -1.4693877696990967,
          -1.367347002029419,
          -1.2653061151504517,
          -1.1632652282714844,
          -1.0612244606018066,
          -0.9591837525367737,
          -0.8571429252624512,
          -0.7551021575927734,
          -0.6530612111091614,
          -0.5510203838348389,
          -0.44897961616516113,
          -0.3469388484954834,
          -0.24489808082580566,
          -0.14285722374916077,
          -0.04081633687019348,
          0.06122443079948425,
          0.16326528787612915,
          0.2653060555458069,
          0.3673468232154846,
          0.4693876802921295,
          0.5714284181594849,
          0.6734693050384521,
          0.7755101323127747,
          0.8775509595870972,
          0.9795917272567749,
          1.0816324949264526,
          1.18367338180542,
          1.2857142686843872,
          1.387755036354065,
          1.4897958040237427,
          1.59183669090271,
          1.6938774585723877,
          1.7959182262420654,
          1.8979591131210327,
          2
         ],
         "xaxis": "x",
         "y": [
          -3,
          -3,
          -3,
          -3,
          -3,
          -3,
          -3,
          -3,
          -3,
          -3,
          -3,
          -3,
          -3,
          -3,
          -3,
          -1,
          -1,
          -1,
          -1,
          -1,
          -1,
          -1,
          -1,
          -1,
          -1,
          -1,
          -1,
          -1,
          -1,
          -1,
          1,
          1,
          1,
          1,
          1,
          1,
          1,
          1,
          1,
          1,
          1,
          1,
          1,
          1,
          1,
          1,
          1,
          1,
          1,
          1
         ],
         "yaxis": "y"
        }
       ],
       "layout": {
        "legend": {
         "tracegroupgap": 0
        },
        "margin": {
         "t": 60
        },
        "template": {
         "data": {
          "bar": [
           {
            "error_x": {
             "color": "#2a3f5f"
            },
            "error_y": {
             "color": "#2a3f5f"
            },
            "marker": {
             "line": {
              "color": "#E5ECF6",
              "width": 0.5
             },
             "pattern": {
              "fillmode": "overlay",
              "size": 10,
              "solidity": 0.2
             }
            },
            "type": "bar"
           }
          ],
          "barpolar": [
           {
            "marker": {
             "line": {
              "color": "#E5ECF6",
              "width": 0.5
             },
             "pattern": {
              "fillmode": "overlay",
              "size": 10,
              "solidity": 0.2
             }
            },
            "type": "barpolar"
           }
          ],
          "carpet": [
           {
            "aaxis": {
             "endlinecolor": "#2a3f5f",
             "gridcolor": "white",
             "linecolor": "white",
             "minorgridcolor": "white",
             "startlinecolor": "#2a3f5f"
            },
            "baxis": {
             "endlinecolor": "#2a3f5f",
             "gridcolor": "white",
             "linecolor": "white",
             "minorgridcolor": "white",
             "startlinecolor": "#2a3f5f"
            },
            "type": "carpet"
           }
          ],
          "choropleth": [
           {
            "colorbar": {
             "outlinewidth": 0,
             "ticks": ""
            },
            "type": "choropleth"
           }
          ],
          "contour": [
           {
            "colorbar": {
             "outlinewidth": 0,
             "ticks": ""
            },
            "colorscale": [
             [
              0,
              "#0d0887"
             ],
             [
              0.1111111111111111,
              "#46039f"
             ],
             [
              0.2222222222222222,
              "#7201a8"
             ],
             [
              0.3333333333333333,
              "#9c179e"
             ],
             [
              0.4444444444444444,
              "#bd3786"
             ],
             [
              0.5555555555555556,
              "#d8576b"
             ],
             [
              0.6666666666666666,
              "#ed7953"
             ],
             [
              0.7777777777777778,
              "#fb9f3a"
             ],
             [
              0.8888888888888888,
              "#fdca26"
             ],
             [
              1,
              "#f0f921"
             ]
            ],
            "type": "contour"
           }
          ],
          "contourcarpet": [
           {
            "colorbar": {
             "outlinewidth": 0,
             "ticks": ""
            },
            "type": "contourcarpet"
           }
          ],
          "heatmap": [
           {
            "colorbar": {
             "outlinewidth": 0,
             "ticks": ""
            },
            "colorscale": [
             [
              0,
              "#0d0887"
             ],
             [
              0.1111111111111111,
              "#46039f"
             ],
             [
              0.2222222222222222,
              "#7201a8"
             ],
             [
              0.3333333333333333,
              "#9c179e"
             ],
             [
              0.4444444444444444,
              "#bd3786"
             ],
             [
              0.5555555555555556,
              "#d8576b"
             ],
             [
              0.6666666666666666,
              "#ed7953"
             ],
             [
              0.7777777777777778,
              "#fb9f3a"
             ],
             [
              0.8888888888888888,
              "#fdca26"
             ],
             [
              1,
              "#f0f921"
             ]
            ],
            "type": "heatmap"
           }
          ],
          "heatmapgl": [
           {
            "colorbar": {
             "outlinewidth": 0,
             "ticks": ""
            },
            "colorscale": [
             [
              0,
              "#0d0887"
             ],
             [
              0.1111111111111111,
              "#46039f"
             ],
             [
              0.2222222222222222,
              "#7201a8"
             ],
             [
              0.3333333333333333,
              "#9c179e"
             ],
             [
              0.4444444444444444,
              "#bd3786"
             ],
             [
              0.5555555555555556,
              "#d8576b"
             ],
             [
              0.6666666666666666,
              "#ed7953"
             ],
             [
              0.7777777777777778,
              "#fb9f3a"
             ],
             [
              0.8888888888888888,
              "#fdca26"
             ],
             [
              1,
              "#f0f921"
             ]
            ],
            "type": "heatmapgl"
           }
          ],
          "histogram": [
           {
            "marker": {
             "pattern": {
              "fillmode": "overlay",
              "size": 10,
              "solidity": 0.2
             }
            },
            "type": "histogram"
           }
          ],
          "histogram2d": [
           {
            "colorbar": {
             "outlinewidth": 0,
             "ticks": ""
            },
            "colorscale": [
             [
              0,
              "#0d0887"
             ],
             [
              0.1111111111111111,
              "#46039f"
             ],
             [
              0.2222222222222222,
              "#7201a8"
             ],
             [
              0.3333333333333333,
              "#9c179e"
             ],
             [
              0.4444444444444444,
              "#bd3786"
             ],
             [
              0.5555555555555556,
              "#d8576b"
             ],
             [
              0.6666666666666666,
              "#ed7953"
             ],
             [
              0.7777777777777778,
              "#fb9f3a"
             ],
             [
              0.8888888888888888,
              "#fdca26"
             ],
             [
              1,
              "#f0f921"
             ]
            ],
            "type": "histogram2d"
           }
          ],
          "histogram2dcontour": [
           {
            "colorbar": {
             "outlinewidth": 0,
             "ticks": ""
            },
            "colorscale": [
             [
              0,
              "#0d0887"
             ],
             [
              0.1111111111111111,
              "#46039f"
             ],
             [
              0.2222222222222222,
              "#7201a8"
             ],
             [
              0.3333333333333333,
              "#9c179e"
             ],
             [
              0.4444444444444444,
              "#bd3786"
             ],
             [
              0.5555555555555556,
              "#d8576b"
             ],
             [
              0.6666666666666666,
              "#ed7953"
             ],
             [
              0.7777777777777778,
              "#fb9f3a"
             ],
             [
              0.8888888888888888,
              "#fdca26"
             ],
             [
              1,
              "#f0f921"
             ]
            ],
            "type": "histogram2dcontour"
           }
          ],
          "mesh3d": [
           {
            "colorbar": {
             "outlinewidth": 0,
             "ticks": ""
            },
            "type": "mesh3d"
           }
          ],
          "parcoords": [
           {
            "line": {
             "colorbar": {
              "outlinewidth": 0,
              "ticks": ""
             }
            },
            "type": "parcoords"
           }
          ],
          "pie": [
           {
            "automargin": true,
            "type": "pie"
           }
          ],
          "scatter": [
           {
            "fillpattern": {
             "fillmode": "overlay",
             "size": 10,
             "solidity": 0.2
            },
            "type": "scatter"
           }
          ],
          "scatter3d": [
           {
            "line": {
             "colorbar": {
              "outlinewidth": 0,
              "ticks": ""
             }
            },
            "marker": {
             "colorbar": {
              "outlinewidth": 0,
              "ticks": ""
             }
            },
            "type": "scatter3d"
           }
          ],
          "scattercarpet": [
           {
            "marker": {
             "colorbar": {
              "outlinewidth": 0,
              "ticks": ""
             }
            },
            "type": "scattercarpet"
           }
          ],
          "scattergeo": [
           {
            "marker": {
             "colorbar": {
              "outlinewidth": 0,
              "ticks": ""
             }
            },
            "type": "scattergeo"
           }
          ],
          "scattergl": [
           {
            "marker": {
             "colorbar": {
              "outlinewidth": 0,
              "ticks": ""
             }
            },
            "type": "scattergl"
           }
          ],
          "scattermapbox": [
           {
            "marker": {
             "colorbar": {
              "outlinewidth": 0,
              "ticks": ""
             }
            },
            "type": "scattermapbox"
           }
          ],
          "scatterpolar": [
           {
            "marker": {
             "colorbar": {
              "outlinewidth": 0,
              "ticks": ""
             }
            },
            "type": "scatterpolar"
           }
          ],
          "scatterpolargl": [
           {
            "marker": {
             "colorbar": {
              "outlinewidth": 0,
              "ticks": ""
             }
            },
            "type": "scatterpolargl"
           }
          ],
          "scatterternary": [
           {
            "marker": {
             "colorbar": {
              "outlinewidth": 0,
              "ticks": ""
             }
            },
            "type": "scatterternary"
           }
          ],
          "surface": [
           {
            "colorbar": {
             "outlinewidth": 0,
             "ticks": ""
            },
            "colorscale": [
             [
              0,
              "#0d0887"
             ],
             [
              0.1111111111111111,
              "#46039f"
             ],
             [
              0.2222222222222222,
              "#7201a8"
             ],
             [
              0.3333333333333333,
              "#9c179e"
             ],
             [
              0.4444444444444444,
              "#bd3786"
             ],
             [
              0.5555555555555556,
              "#d8576b"
             ],
             [
              0.6666666666666666,
              "#ed7953"
             ],
             [
              0.7777777777777778,
              "#fb9f3a"
             ],
             [
              0.8888888888888888,
              "#fdca26"
             ],
             [
              1,
              "#f0f921"
             ]
            ],
            "type": "surface"
           }
          ],
          "table": [
           {
            "cells": {
             "fill": {
              "color": "#EBF0F8"
             },
             "line": {
              "color": "white"
             }
            },
            "header": {
             "fill": {
              "color": "#C8D4E3"
             },
             "line": {
              "color": "white"
             }
            },
            "type": "table"
           }
          ]
         },
         "layout": {
          "annotationdefaults": {
           "arrowcolor": "#2a3f5f",
           "arrowhead": 0,
           "arrowwidth": 1
          },
          "autotypenumbers": "strict",
          "coloraxis": {
           "colorbar": {
            "outlinewidth": 0,
            "ticks": ""
           }
          },
          "colorscale": {
           "diverging": [
            [
             0,
             "#8e0152"
            ],
            [
             0.1,
             "#c51b7d"
            ],
            [
             0.2,
             "#de77ae"
            ],
            [
             0.3,
             "#f1b6da"
            ],
            [
             0.4,
             "#fde0ef"
            ],
            [
             0.5,
             "#f7f7f7"
            ],
            [
             0.6,
             "#e6f5d0"
            ],
            [
             0.7,
             "#b8e186"
            ],
            [
             0.8,
             "#7fbc41"
            ],
            [
             0.9,
             "#4d9221"
            ],
            [
             1,
             "#276419"
            ]
           ],
           "sequential": [
            [
             0,
             "#0d0887"
            ],
            [
             0.1111111111111111,
             "#46039f"
            ],
            [
             0.2222222222222222,
             "#7201a8"
            ],
            [
             0.3333333333333333,
             "#9c179e"
            ],
            [
             0.4444444444444444,
             "#bd3786"
            ],
            [
             0.5555555555555556,
             "#d8576b"
            ],
            [
             0.6666666666666666,
             "#ed7953"
            ],
            [
             0.7777777777777778,
             "#fb9f3a"
            ],
            [
             0.8888888888888888,
             "#fdca26"
            ],
            [
             1,
             "#f0f921"
            ]
           ],
           "sequentialminus": [
            [
             0,
             "#0d0887"
            ],
            [
             0.1111111111111111,
             "#46039f"
            ],
            [
             0.2222222222222222,
             "#7201a8"
            ],
            [
             0.3333333333333333,
             "#9c179e"
            ],
            [
             0.4444444444444444,
             "#bd3786"
            ],
            [
             0.5555555555555556,
             "#d8576b"
            ],
            [
             0.6666666666666666,
             "#ed7953"
            ],
            [
             0.7777777777777778,
             "#fb9f3a"
            ],
            [
             0.8888888888888888,
             "#fdca26"
            ],
            [
             1,
             "#f0f921"
            ]
           ]
          },
          "colorway": [
           "#636efa",
           "#EF553B",
           "#00cc96",
           "#ab63fa",
           "#FFA15A",
           "#19d3f3",
           "#FF6692",
           "#B6E880",
           "#FF97FF",
           "#FECB52"
          ],
          "font": {
           "color": "#2a3f5f"
          },
          "geo": {
           "bgcolor": "white",
           "lakecolor": "white",
           "landcolor": "#E5ECF6",
           "showlakes": true,
           "showland": true,
           "subunitcolor": "white"
          },
          "hoverlabel": {
           "align": "left"
          },
          "hovermode": "closest",
          "mapbox": {
           "style": "light"
          },
          "paper_bgcolor": "white",
          "plot_bgcolor": "#E5ECF6",
          "polar": {
           "angularaxis": {
            "gridcolor": "white",
            "linecolor": "white",
            "ticks": ""
           },
           "bgcolor": "#E5ECF6",
           "radialaxis": {
            "gridcolor": "white",
            "linecolor": "white",
            "ticks": ""
           }
          },
          "scene": {
           "xaxis": {
            "backgroundcolor": "#E5ECF6",
            "gridcolor": "white",
            "gridwidth": 2,
            "linecolor": "white",
            "showbackground": true,
            "ticks": "",
            "zerolinecolor": "white"
           },
           "yaxis": {
            "backgroundcolor": "#E5ECF6",
            "gridcolor": "white",
            "gridwidth": 2,
            "linecolor": "white",
            "showbackground": true,
            "ticks": "",
            "zerolinecolor": "white"
           },
           "zaxis": {
            "backgroundcolor": "#E5ECF6",
            "gridcolor": "white",
            "gridwidth": 2,
            "linecolor": "white",
            "showbackground": true,
            "ticks": "",
            "zerolinecolor": "white"
           }
          },
          "shapedefaults": {
           "line": {
            "color": "#2a3f5f"
           }
          },
          "ternary": {
           "aaxis": {
            "gridcolor": "white",
            "linecolor": "white",
            "ticks": ""
           },
           "baxis": {
            "gridcolor": "white",
            "linecolor": "white",
            "ticks": ""
           },
           "bgcolor": "#E5ECF6",
           "caxis": {
            "gridcolor": "white",
            "linecolor": "white",
            "ticks": ""
           }
          },
          "title": {
           "x": 0.05
          },
          "xaxis": {
           "automargin": true,
           "gridcolor": "white",
           "linecolor": "white",
           "ticks": "",
           "title": {
            "standoff": 15
           },
           "zerolinecolor": "white",
           "zerolinewidth": 2
          },
          "yaxis": {
           "automargin": true,
           "gridcolor": "white",
           "linecolor": "white",
           "ticks": "",
           "title": {
            "standoff": 15
           },
           "zerolinecolor": "white",
           "zerolinewidth": 2
          }
         }
        },
        "xaxis": {
         "anchor": "y",
         "domain": [
          0,
          1
         ],
         "title": {
          "text": "x"
         }
        },
        "yaxis": {
         "anchor": "x",
         "domain": [
          0,
          1
         ],
         "title": {
          "text": "y"
         }
        }
       }
      }
     },
     "metadata": {},
     "output_type": "display_data"
    }
   ],
   "source": [
    "nw_estimator_sampler = nw_diffusion_local_poly(PRNGKey(42), test_data, schedule, 0, log_gaussian_kernel, log_gaussian_kernel,\n",
    "                                                    0.01, 0.01, 16)\n",
    "#nw_estimator_sampler = nw_diffusion(PRNGKey(42), test_data, schedule, log_gaussian_kernel, log_gaussian_kernel,\n",
    "#                                                    0.01, 0.01, 64)\n",
    "plot_samples_scatter(jax.vmap(nw_estimator_sampler, in_axes=(0,None,None))(jnp.linspace(-3, 2, 50), jnp.array([1.1]), 50))"
   ]
  },
  {
   "cell_type": "code",
   "execution_count": 268,
   "metadata": {},
   "outputs": [
    {
     "data": {
      "application/vnd.plotly.v1+json": {
       "config": {
        "plotlyServerURL": "https://plot.ly"
       },
       "data": [
        {
         "hovertemplate": "x=%{x}<br>y=%{y}<extra></extra>",
         "legendgroup": "",
         "marker": {
          "color": "#636efa",
          "opacity": 0.5,
          "symbol": "circle"
         },
         "mode": "markers",
         "name": "",
         "orientation": "v",
         "showlegend": false,
         "type": "scatter",
         "x": [
          -3,
          -2.8979592323303223,
          -2.7959184646606445,
          -2.693877696990967,
          -2.59183669090271,
          -2.4897959232330322,
          -2.3877551555633545,
          -2.2857143878936768,
          -2.183673620223999,
          -2.081632614135742,
          -1.9795918464660645,
          -1.8775509595870972,
          -1.7755101919174194,
          -1.6734694242477417,
          -1.571428656578064,
          -1.4693877696990967,
          -1.367347002029419,
          -1.2653061151504517,
          -1.1632652282714844,
          -1.0612244606018066,
          -0.9591837525367737,
          -0.8571429252624512,
          -0.7551021575927734,
          -0.6530612111091614,
          -0.5510203838348389,
          -0.44897961616516113,
          -0.3469388484954834,
          -0.24489808082580566,
          -0.14285722374916077,
          -0.04081633687019348,
          0.06122443079948425,
          0.16326528787612915,
          0.2653060555458069,
          0.3673468232154846,
          0.4693876802921295,
          0.5714284181594849,
          0.6734693050384521,
          0.7755101323127747,
          0.8775509595870972,
          0.9795917272567749,
          1.0816324949264526,
          1.18367338180542,
          1.2857142686843872,
          1.387755036354065,
          1.4897958040237427,
          1.59183669090271,
          1.6938774585723877,
          1.7959182262420654,
          1.8979591131210327,
          2
         ],
         "xaxis": "x",
         "y": [
          -3,
          -3,
          -3,
          -3,
          -3,
          -3,
          -3,
          -3,
          -3,
          -3,
          -3,
          -3,
          -3,
          -3,
          -3,
          -1,
          -1,
          -1,
          -1,
          -1,
          -1,
          -1,
          -1,
          -1,
          -1,
          -1,
          -1,
          -1,
          -1,
          -1,
          1,
          1,
          1,
          1,
          1,
          1,
          1,
          1,
          1,
          1,
          1,
          1,
          1,
          1,
          1,
          1,
          1,
          1,
          1,
          1
         ],
         "yaxis": "y"
        }
       ],
       "layout": {
        "legend": {
         "tracegroupgap": 0
        },
        "margin": {
         "t": 60
        },
        "template": {
         "data": {
          "bar": [
           {
            "error_x": {
             "color": "#2a3f5f"
            },
            "error_y": {
             "color": "#2a3f5f"
            },
            "marker": {
             "line": {
              "color": "#E5ECF6",
              "width": 0.5
             },
             "pattern": {
              "fillmode": "overlay",
              "size": 10,
              "solidity": 0.2
             }
            },
            "type": "bar"
           }
          ],
          "barpolar": [
           {
            "marker": {
             "line": {
              "color": "#E5ECF6",
              "width": 0.5
             },
             "pattern": {
              "fillmode": "overlay",
              "size": 10,
              "solidity": 0.2
             }
            },
            "type": "barpolar"
           }
          ],
          "carpet": [
           {
            "aaxis": {
             "endlinecolor": "#2a3f5f",
             "gridcolor": "white",
             "linecolor": "white",
             "minorgridcolor": "white",
             "startlinecolor": "#2a3f5f"
            },
            "baxis": {
             "endlinecolor": "#2a3f5f",
             "gridcolor": "white",
             "linecolor": "white",
             "minorgridcolor": "white",
             "startlinecolor": "#2a3f5f"
            },
            "type": "carpet"
           }
          ],
          "choropleth": [
           {
            "colorbar": {
             "outlinewidth": 0,
             "ticks": ""
            },
            "type": "choropleth"
           }
          ],
          "contour": [
           {
            "colorbar": {
             "outlinewidth": 0,
             "ticks": ""
            },
            "colorscale": [
             [
              0,
              "#0d0887"
             ],
             [
              0.1111111111111111,
              "#46039f"
             ],
             [
              0.2222222222222222,
              "#7201a8"
             ],
             [
              0.3333333333333333,
              "#9c179e"
             ],
             [
              0.4444444444444444,
              "#bd3786"
             ],
             [
              0.5555555555555556,
              "#d8576b"
             ],
             [
              0.6666666666666666,
              "#ed7953"
             ],
             [
              0.7777777777777778,
              "#fb9f3a"
             ],
             [
              0.8888888888888888,
              "#fdca26"
             ],
             [
              1,
              "#f0f921"
             ]
            ],
            "type": "contour"
           }
          ],
          "contourcarpet": [
           {
            "colorbar": {
             "outlinewidth": 0,
             "ticks": ""
            },
            "type": "contourcarpet"
           }
          ],
          "heatmap": [
           {
            "colorbar": {
             "outlinewidth": 0,
             "ticks": ""
            },
            "colorscale": [
             [
              0,
              "#0d0887"
             ],
             [
              0.1111111111111111,
              "#46039f"
             ],
             [
              0.2222222222222222,
              "#7201a8"
             ],
             [
              0.3333333333333333,
              "#9c179e"
             ],
             [
              0.4444444444444444,
              "#bd3786"
             ],
             [
              0.5555555555555556,
              "#d8576b"
             ],
             [
              0.6666666666666666,
              "#ed7953"
             ],
             [
              0.7777777777777778,
              "#fb9f3a"
             ],
             [
              0.8888888888888888,
              "#fdca26"
             ],
             [
              1,
              "#f0f921"
             ]
            ],
            "type": "heatmap"
           }
          ],
          "heatmapgl": [
           {
            "colorbar": {
             "outlinewidth": 0,
             "ticks": ""
            },
            "colorscale": [
             [
              0,
              "#0d0887"
             ],
             [
              0.1111111111111111,
              "#46039f"
             ],
             [
              0.2222222222222222,
              "#7201a8"
             ],
             [
              0.3333333333333333,
              "#9c179e"
             ],
             [
              0.4444444444444444,
              "#bd3786"
             ],
             [
              0.5555555555555556,
              "#d8576b"
             ],
             [
              0.6666666666666666,
              "#ed7953"
             ],
             [
              0.7777777777777778,
              "#fb9f3a"
             ],
             [
              0.8888888888888888,
              "#fdca26"
             ],
             [
              1,
              "#f0f921"
             ]
            ],
            "type": "heatmapgl"
           }
          ],
          "histogram": [
           {
            "marker": {
             "pattern": {
              "fillmode": "overlay",
              "size": 10,
              "solidity": 0.2
             }
            },
            "type": "histogram"
           }
          ],
          "histogram2d": [
           {
            "colorbar": {
             "outlinewidth": 0,
             "ticks": ""
            },
            "colorscale": [
             [
              0,
              "#0d0887"
             ],
             [
              0.1111111111111111,
              "#46039f"
             ],
             [
              0.2222222222222222,
              "#7201a8"
             ],
             [
              0.3333333333333333,
              "#9c179e"
             ],
             [
              0.4444444444444444,
              "#bd3786"
             ],
             [
              0.5555555555555556,
              "#d8576b"
             ],
             [
              0.6666666666666666,
              "#ed7953"
             ],
             [
              0.7777777777777778,
              "#fb9f3a"
             ],
             [
              0.8888888888888888,
              "#fdca26"
             ],
             [
              1,
              "#f0f921"
             ]
            ],
            "type": "histogram2d"
           }
          ],
          "histogram2dcontour": [
           {
            "colorbar": {
             "outlinewidth": 0,
             "ticks": ""
            },
            "colorscale": [
             [
              0,
              "#0d0887"
             ],
             [
              0.1111111111111111,
              "#46039f"
             ],
             [
              0.2222222222222222,
              "#7201a8"
             ],
             [
              0.3333333333333333,
              "#9c179e"
             ],
             [
              0.4444444444444444,
              "#bd3786"
             ],
             [
              0.5555555555555556,
              "#d8576b"
             ],
             [
              0.6666666666666666,
              "#ed7953"
             ],
             [
              0.7777777777777778,
              "#fb9f3a"
             ],
             [
              0.8888888888888888,
              "#fdca26"
             ],
             [
              1,
              "#f0f921"
             ]
            ],
            "type": "histogram2dcontour"
           }
          ],
          "mesh3d": [
           {
            "colorbar": {
             "outlinewidth": 0,
             "ticks": ""
            },
            "type": "mesh3d"
           }
          ],
          "parcoords": [
           {
            "line": {
             "colorbar": {
              "outlinewidth": 0,
              "ticks": ""
             }
            },
            "type": "parcoords"
           }
          ],
          "pie": [
           {
            "automargin": true,
            "type": "pie"
           }
          ],
          "scatter": [
           {
            "fillpattern": {
             "fillmode": "overlay",
             "size": 10,
             "solidity": 0.2
            },
            "type": "scatter"
           }
          ],
          "scatter3d": [
           {
            "line": {
             "colorbar": {
              "outlinewidth": 0,
              "ticks": ""
             }
            },
            "marker": {
             "colorbar": {
              "outlinewidth": 0,
              "ticks": ""
             }
            },
            "type": "scatter3d"
           }
          ],
          "scattercarpet": [
           {
            "marker": {
             "colorbar": {
              "outlinewidth": 0,
              "ticks": ""
             }
            },
            "type": "scattercarpet"
           }
          ],
          "scattergeo": [
           {
            "marker": {
             "colorbar": {
              "outlinewidth": 0,
              "ticks": ""
             }
            },
            "type": "scattergeo"
           }
          ],
          "scattergl": [
           {
            "marker": {
             "colorbar": {
              "outlinewidth": 0,
              "ticks": ""
             }
            },
            "type": "scattergl"
           }
          ],
          "scattermapbox": [
           {
            "marker": {
             "colorbar": {
              "outlinewidth": 0,
              "ticks": ""
             }
            },
            "type": "scattermapbox"
           }
          ],
          "scatterpolar": [
           {
            "marker": {
             "colorbar": {
              "outlinewidth": 0,
              "ticks": ""
             }
            },
            "type": "scatterpolar"
           }
          ],
          "scatterpolargl": [
           {
            "marker": {
             "colorbar": {
              "outlinewidth": 0,
              "ticks": ""
             }
            },
            "type": "scatterpolargl"
           }
          ],
          "scatterternary": [
           {
            "marker": {
             "colorbar": {
              "outlinewidth": 0,
              "ticks": ""
             }
            },
            "type": "scatterternary"
           }
          ],
          "surface": [
           {
            "colorbar": {
             "outlinewidth": 0,
             "ticks": ""
            },
            "colorscale": [
             [
              0,
              "#0d0887"
             ],
             [
              0.1111111111111111,
              "#46039f"
             ],
             [
              0.2222222222222222,
              "#7201a8"
             ],
             [
              0.3333333333333333,
              "#9c179e"
             ],
             [
              0.4444444444444444,
              "#bd3786"
             ],
             [
              0.5555555555555556,
              "#d8576b"
             ],
             [
              0.6666666666666666,
              "#ed7953"
             ],
             [
              0.7777777777777778,
              "#fb9f3a"
             ],
             [
              0.8888888888888888,
              "#fdca26"
             ],
             [
              1,
              "#f0f921"
             ]
            ],
            "type": "surface"
           }
          ],
          "table": [
           {
            "cells": {
             "fill": {
              "color": "#EBF0F8"
             },
             "line": {
              "color": "white"
             }
            },
            "header": {
             "fill": {
              "color": "#C8D4E3"
             },
             "line": {
              "color": "white"
             }
            },
            "type": "table"
           }
          ]
         },
         "layout": {
          "annotationdefaults": {
           "arrowcolor": "#2a3f5f",
           "arrowhead": 0,
           "arrowwidth": 1
          },
          "autotypenumbers": "strict",
          "coloraxis": {
           "colorbar": {
            "outlinewidth": 0,
            "ticks": ""
           }
          },
          "colorscale": {
           "diverging": [
            [
             0,
             "#8e0152"
            ],
            [
             0.1,
             "#c51b7d"
            ],
            [
             0.2,
             "#de77ae"
            ],
            [
             0.3,
             "#f1b6da"
            ],
            [
             0.4,
             "#fde0ef"
            ],
            [
             0.5,
             "#f7f7f7"
            ],
            [
             0.6,
             "#e6f5d0"
            ],
            [
             0.7,
             "#b8e186"
            ],
            [
             0.8,
             "#7fbc41"
            ],
            [
             0.9,
             "#4d9221"
            ],
            [
             1,
             "#276419"
            ]
           ],
           "sequential": [
            [
             0,
             "#0d0887"
            ],
            [
             0.1111111111111111,
             "#46039f"
            ],
            [
             0.2222222222222222,
             "#7201a8"
            ],
            [
             0.3333333333333333,
             "#9c179e"
            ],
            [
             0.4444444444444444,
             "#bd3786"
            ],
            [
             0.5555555555555556,
             "#d8576b"
            ],
            [
             0.6666666666666666,
             "#ed7953"
            ],
            [
             0.7777777777777778,
             "#fb9f3a"
            ],
            [
             0.8888888888888888,
             "#fdca26"
            ],
            [
             1,
             "#f0f921"
            ]
           ],
           "sequentialminus": [
            [
             0,
             "#0d0887"
            ],
            [
             0.1111111111111111,
             "#46039f"
            ],
            [
             0.2222222222222222,
             "#7201a8"
            ],
            [
             0.3333333333333333,
             "#9c179e"
            ],
            [
             0.4444444444444444,
             "#bd3786"
            ],
            [
             0.5555555555555556,
             "#d8576b"
            ],
            [
             0.6666666666666666,
             "#ed7953"
            ],
            [
             0.7777777777777778,
             "#fb9f3a"
            ],
            [
             0.8888888888888888,
             "#fdca26"
            ],
            [
             1,
             "#f0f921"
            ]
           ]
          },
          "colorway": [
           "#636efa",
           "#EF553B",
           "#00cc96",
           "#ab63fa",
           "#FFA15A",
           "#19d3f3",
           "#FF6692",
           "#B6E880",
           "#FF97FF",
           "#FECB52"
          ],
          "font": {
           "color": "#2a3f5f"
          },
          "geo": {
           "bgcolor": "white",
           "lakecolor": "white",
           "landcolor": "#E5ECF6",
           "showlakes": true,
           "showland": true,
           "subunitcolor": "white"
          },
          "hoverlabel": {
           "align": "left"
          },
          "hovermode": "closest",
          "mapbox": {
           "style": "light"
          },
          "paper_bgcolor": "white",
          "plot_bgcolor": "#E5ECF6",
          "polar": {
           "angularaxis": {
            "gridcolor": "white",
            "linecolor": "white",
            "ticks": ""
           },
           "bgcolor": "#E5ECF6",
           "radialaxis": {
            "gridcolor": "white",
            "linecolor": "white",
            "ticks": ""
           }
          },
          "scene": {
           "xaxis": {
            "backgroundcolor": "#E5ECF6",
            "gridcolor": "white",
            "gridwidth": 2,
            "linecolor": "white",
            "showbackground": true,
            "ticks": "",
            "zerolinecolor": "white"
           },
           "yaxis": {
            "backgroundcolor": "#E5ECF6",
            "gridcolor": "white",
            "gridwidth": 2,
            "linecolor": "white",
            "showbackground": true,
            "ticks": "",
            "zerolinecolor": "white"
           },
           "zaxis": {
            "backgroundcolor": "#E5ECF6",
            "gridcolor": "white",
            "gridwidth": 2,
            "linecolor": "white",
            "showbackground": true,
            "ticks": "",
            "zerolinecolor": "white"
           }
          },
          "shapedefaults": {
           "line": {
            "color": "#2a3f5f"
           }
          },
          "ternary": {
           "aaxis": {
            "gridcolor": "white",
            "linecolor": "white",
            "ticks": ""
           },
           "baxis": {
            "gridcolor": "white",
            "linecolor": "white",
            "ticks": ""
           },
           "bgcolor": "#E5ECF6",
           "caxis": {
            "gridcolor": "white",
            "linecolor": "white",
            "ticks": ""
           }
          },
          "title": {
           "x": 0.05
          },
          "xaxis": {
           "automargin": true,
           "gridcolor": "white",
           "linecolor": "white",
           "ticks": "",
           "title": {
            "standoff": 15
           },
           "zerolinecolor": "white",
           "zerolinewidth": 2
          },
          "yaxis": {
           "automargin": true,
           "gridcolor": "white",
           "linecolor": "white",
           "ticks": "",
           "title": {
            "standoff": 15
           },
           "zerolinecolor": "white",
           "zerolinewidth": 2
          }
         }
        },
        "xaxis": {
         "anchor": "y",
         "domain": [
          0,
          1
         ],
         "title": {
          "text": "x"
         }
        },
        "yaxis": {
         "anchor": "x",
         "domain": [
          0,
          1
         ],
         "title": {
          "text": "y"
         }
        }
       }
      }
     },
     "metadata": {},
     "output_type": "display_data"
    }
   ],
   "source": [
    "nw_estimator_0 = nadaraya_watson_diffusion(PRNGKey(42), test_data, schedule, log_gaussian_kernel, 0.01)\n",
    "plot_samples_scatter(jax.vmap(nw_estimator_0, in_axes=(0,None,None))(jnp.linspace(-3, 2, 50), jnp.array([1.5]), 50))"
   ]
  },
  {
   "cell_type": "code",
   "execution_count": 269,
   "metadata": {},
   "outputs": [
    {
     "data": {
      "application/vnd.plotly.v1+json": {
       "config": {
        "plotlyServerURL": "https://plot.ly"
       },
       "data": [
        {
         "hovertemplate": "x=%{x}<br>y=%{y}<extra></extra>",
         "legendgroup": "",
         "marker": {
          "color": "#636efa",
          "opacity": 0.5,
          "symbol": "circle"
         },
         "mode": "markers",
         "name": "",
         "orientation": "v",
         "showlegend": false,
         "type": "scatter",
         "x": [
          0,
          1,
          0,
          0,
          1,
          0,
          1,
          0,
          0,
          0,
          1,
          1,
          1,
          1,
          0,
          1,
          0,
          0,
          0,
          0,
          1,
          0,
          1,
          1,
          0,
          1,
          1,
          0,
          0,
          0,
          1,
          0,
          1,
          1,
          0,
          1,
          1,
          0,
          1,
          0,
          1,
          1,
          0,
          1,
          1,
          0,
          1,
          0,
          1,
          0,
          1,
          0,
          1,
          0,
          1,
          0,
          1,
          0,
          0,
          0,
          0,
          1,
          1,
          0
         ],
         "xaxis": "x",
         "y": [
          -1.0000004768371582,
          1.000000238418579,
          -1.0000004768371582,
          -1.0000004768371582,
          1.000000238418579,
          -1.0000004768371582,
          1.000000238418579,
          -1.0000004768371582,
          -1.0000004768371582,
          -1.0000004768371582,
          1.000000238418579,
          1.000000238418579,
          1.000000238418579,
          1.000000238418579,
          -1.0000004768371582,
          1.000000238418579,
          -1.0000004768371582,
          -1.0000004768371582,
          -1.0000004768371582,
          -1.0000004768371582,
          1.000000238418579,
          -1.0000004768371582,
          1.000000238418579,
          1.000000238418579,
          -1.0000004768371582,
          1.000000238418579,
          1.000000238418579,
          -1.0000004768371582,
          -1.0000004768371582,
          -1.0000004768371582,
          1.000000238418579,
          -1.0000004768371582,
          1.000000238418579,
          1.000000238418579,
          -1.0000004768371582,
          1.000000238418579,
          1.000000238418579,
          -1.0000004768371582,
          1.000000238418579,
          -1.0000004768371582,
          1.000000238418579,
          1.000000238418579,
          -1.0000004768371582,
          1.000000238418579,
          1.000000238418579,
          -1.0000004768371582,
          1.000000238418579,
          -1.0000004768371582,
          1.000000238418579,
          -1.0000004768371582,
          1.000000238418579,
          -1.0000004768371582,
          1.000000238418579,
          -1.0000004768371582,
          1.000000238418579,
          -1.0000004768371582,
          1.000000238418579,
          -1.0000004768371582,
          -1.0000004768371582,
          -1.0000004768371582,
          -1.0000004768371582,
          1.000000238418579,
          1.000000238418579,
          -1.0000004768371582
         ],
         "yaxis": "y"
        }
       ],
       "layout": {
        "legend": {
         "tracegroupgap": 0
        },
        "margin": {
         "t": 60
        },
        "template": {
         "data": {
          "bar": [
           {
            "error_x": {
             "color": "#2a3f5f"
            },
            "error_y": {
             "color": "#2a3f5f"
            },
            "marker": {
             "line": {
              "color": "#E5ECF6",
              "width": 0.5
             },
             "pattern": {
              "fillmode": "overlay",
              "size": 10,
              "solidity": 0.2
             }
            },
            "type": "bar"
           }
          ],
          "barpolar": [
           {
            "marker": {
             "line": {
              "color": "#E5ECF6",
              "width": 0.5
             },
             "pattern": {
              "fillmode": "overlay",
              "size": 10,
              "solidity": 0.2
             }
            },
            "type": "barpolar"
           }
          ],
          "carpet": [
           {
            "aaxis": {
             "endlinecolor": "#2a3f5f",
             "gridcolor": "white",
             "linecolor": "white",
             "minorgridcolor": "white",
             "startlinecolor": "#2a3f5f"
            },
            "baxis": {
             "endlinecolor": "#2a3f5f",
             "gridcolor": "white",
             "linecolor": "white",
             "minorgridcolor": "white",
             "startlinecolor": "#2a3f5f"
            },
            "type": "carpet"
           }
          ],
          "choropleth": [
           {
            "colorbar": {
             "outlinewidth": 0,
             "ticks": ""
            },
            "type": "choropleth"
           }
          ],
          "contour": [
           {
            "colorbar": {
             "outlinewidth": 0,
             "ticks": ""
            },
            "colorscale": [
             [
              0,
              "#0d0887"
             ],
             [
              0.1111111111111111,
              "#46039f"
             ],
             [
              0.2222222222222222,
              "#7201a8"
             ],
             [
              0.3333333333333333,
              "#9c179e"
             ],
             [
              0.4444444444444444,
              "#bd3786"
             ],
             [
              0.5555555555555556,
              "#d8576b"
             ],
             [
              0.6666666666666666,
              "#ed7953"
             ],
             [
              0.7777777777777778,
              "#fb9f3a"
             ],
             [
              0.8888888888888888,
              "#fdca26"
             ],
             [
              1,
              "#f0f921"
             ]
            ],
            "type": "contour"
           }
          ],
          "contourcarpet": [
           {
            "colorbar": {
             "outlinewidth": 0,
             "ticks": ""
            },
            "type": "contourcarpet"
           }
          ],
          "heatmap": [
           {
            "colorbar": {
             "outlinewidth": 0,
             "ticks": ""
            },
            "colorscale": [
             [
              0,
              "#0d0887"
             ],
             [
              0.1111111111111111,
              "#46039f"
             ],
             [
              0.2222222222222222,
              "#7201a8"
             ],
             [
              0.3333333333333333,
              "#9c179e"
             ],
             [
              0.4444444444444444,
              "#bd3786"
             ],
             [
              0.5555555555555556,
              "#d8576b"
             ],
             [
              0.6666666666666666,
              "#ed7953"
             ],
             [
              0.7777777777777778,
              "#fb9f3a"
             ],
             [
              0.8888888888888888,
              "#fdca26"
             ],
             [
              1,
              "#f0f921"
             ]
            ],
            "type": "heatmap"
           }
          ],
          "heatmapgl": [
           {
            "colorbar": {
             "outlinewidth": 0,
             "ticks": ""
            },
            "colorscale": [
             [
              0,
              "#0d0887"
             ],
             [
              0.1111111111111111,
              "#46039f"
             ],
             [
              0.2222222222222222,
              "#7201a8"
             ],
             [
              0.3333333333333333,
              "#9c179e"
             ],
             [
              0.4444444444444444,
              "#bd3786"
             ],
             [
              0.5555555555555556,
              "#d8576b"
             ],
             [
              0.6666666666666666,
              "#ed7953"
             ],
             [
              0.7777777777777778,
              "#fb9f3a"
             ],
             [
              0.8888888888888888,
              "#fdca26"
             ],
             [
              1,
              "#f0f921"
             ]
            ],
            "type": "heatmapgl"
           }
          ],
          "histogram": [
           {
            "marker": {
             "pattern": {
              "fillmode": "overlay",
              "size": 10,
              "solidity": 0.2
             }
            },
            "type": "histogram"
           }
          ],
          "histogram2d": [
           {
            "colorbar": {
             "outlinewidth": 0,
             "ticks": ""
            },
            "colorscale": [
             [
              0,
              "#0d0887"
             ],
             [
              0.1111111111111111,
              "#46039f"
             ],
             [
              0.2222222222222222,
              "#7201a8"
             ],
             [
              0.3333333333333333,
              "#9c179e"
             ],
             [
              0.4444444444444444,
              "#bd3786"
             ],
             [
              0.5555555555555556,
              "#d8576b"
             ],
             [
              0.6666666666666666,
              "#ed7953"
             ],
             [
              0.7777777777777778,
              "#fb9f3a"
             ],
             [
              0.8888888888888888,
              "#fdca26"
             ],
             [
              1,
              "#f0f921"
             ]
            ],
            "type": "histogram2d"
           }
          ],
          "histogram2dcontour": [
           {
            "colorbar": {
             "outlinewidth": 0,
             "ticks": ""
            },
            "colorscale": [
             [
              0,
              "#0d0887"
             ],
             [
              0.1111111111111111,
              "#46039f"
             ],
             [
              0.2222222222222222,
              "#7201a8"
             ],
             [
              0.3333333333333333,
              "#9c179e"
             ],
             [
              0.4444444444444444,
              "#bd3786"
             ],
             [
              0.5555555555555556,
              "#d8576b"
             ],
             [
              0.6666666666666666,
              "#ed7953"
             ],
             [
              0.7777777777777778,
              "#fb9f3a"
             ],
             [
              0.8888888888888888,
              "#fdca26"
             ],
             [
              1,
              "#f0f921"
             ]
            ],
            "type": "histogram2dcontour"
           }
          ],
          "mesh3d": [
           {
            "colorbar": {
             "outlinewidth": 0,
             "ticks": ""
            },
            "type": "mesh3d"
           }
          ],
          "parcoords": [
           {
            "line": {
             "colorbar": {
              "outlinewidth": 0,
              "ticks": ""
             }
            },
            "type": "parcoords"
           }
          ],
          "pie": [
           {
            "automargin": true,
            "type": "pie"
           }
          ],
          "scatter": [
           {
            "fillpattern": {
             "fillmode": "overlay",
             "size": 10,
             "solidity": 0.2
            },
            "type": "scatter"
           }
          ],
          "scatter3d": [
           {
            "line": {
             "colorbar": {
              "outlinewidth": 0,
              "ticks": ""
             }
            },
            "marker": {
             "colorbar": {
              "outlinewidth": 0,
              "ticks": ""
             }
            },
            "type": "scatter3d"
           }
          ],
          "scattercarpet": [
           {
            "marker": {
             "colorbar": {
              "outlinewidth": 0,
              "ticks": ""
             }
            },
            "type": "scattercarpet"
           }
          ],
          "scattergeo": [
           {
            "marker": {
             "colorbar": {
              "outlinewidth": 0,
              "ticks": ""
             }
            },
            "type": "scattergeo"
           }
          ],
          "scattergl": [
           {
            "marker": {
             "colorbar": {
              "outlinewidth": 0,
              "ticks": ""
             }
            },
            "type": "scattergl"
           }
          ],
          "scattermapbox": [
           {
            "marker": {
             "colorbar": {
              "outlinewidth": 0,
              "ticks": ""
             }
            },
            "type": "scattermapbox"
           }
          ],
          "scatterpolar": [
           {
            "marker": {
             "colorbar": {
              "outlinewidth": 0,
              "ticks": ""
             }
            },
            "type": "scatterpolar"
           }
          ],
          "scatterpolargl": [
           {
            "marker": {
             "colorbar": {
              "outlinewidth": 0,
              "ticks": ""
             }
            },
            "type": "scatterpolargl"
           }
          ],
          "scatterternary": [
           {
            "marker": {
             "colorbar": {
              "outlinewidth": 0,
              "ticks": ""
             }
            },
            "type": "scatterternary"
           }
          ],
          "surface": [
           {
            "colorbar": {
             "outlinewidth": 0,
             "ticks": ""
            },
            "colorscale": [
             [
              0,
              "#0d0887"
             ],
             [
              0.1111111111111111,
              "#46039f"
             ],
             [
              0.2222222222222222,
              "#7201a8"
             ],
             [
              0.3333333333333333,
              "#9c179e"
             ],
             [
              0.4444444444444444,
              "#bd3786"
             ],
             [
              0.5555555555555556,
              "#d8576b"
             ],
             [
              0.6666666666666666,
              "#ed7953"
             ],
             [
              0.7777777777777778,
              "#fb9f3a"
             ],
             [
              0.8888888888888888,
              "#fdca26"
             ],
             [
              1,
              "#f0f921"
             ]
            ],
            "type": "surface"
           }
          ],
          "table": [
           {
            "cells": {
             "fill": {
              "color": "#EBF0F8"
             },
             "line": {
              "color": "white"
             }
            },
            "header": {
             "fill": {
              "color": "#C8D4E3"
             },
             "line": {
              "color": "white"
             }
            },
            "type": "table"
           }
          ]
         },
         "layout": {
          "annotationdefaults": {
           "arrowcolor": "#2a3f5f",
           "arrowhead": 0,
           "arrowwidth": 1
          },
          "autotypenumbers": "strict",
          "coloraxis": {
           "colorbar": {
            "outlinewidth": 0,
            "ticks": ""
           }
          },
          "colorscale": {
           "diverging": [
            [
             0,
             "#8e0152"
            ],
            [
             0.1,
             "#c51b7d"
            ],
            [
             0.2,
             "#de77ae"
            ],
            [
             0.3,
             "#f1b6da"
            ],
            [
             0.4,
             "#fde0ef"
            ],
            [
             0.5,
             "#f7f7f7"
            ],
            [
             0.6,
             "#e6f5d0"
            ],
            [
             0.7,
             "#b8e186"
            ],
            [
             0.8,
             "#7fbc41"
            ],
            [
             0.9,
             "#4d9221"
            ],
            [
             1,
             "#276419"
            ]
           ],
           "sequential": [
            [
             0,
             "#0d0887"
            ],
            [
             0.1111111111111111,
             "#46039f"
            ],
            [
             0.2222222222222222,
             "#7201a8"
            ],
            [
             0.3333333333333333,
             "#9c179e"
            ],
            [
             0.4444444444444444,
             "#bd3786"
            ],
            [
             0.5555555555555556,
             "#d8576b"
            ],
            [
             0.6666666666666666,
             "#ed7953"
            ],
            [
             0.7777777777777778,
             "#fb9f3a"
            ],
            [
             0.8888888888888888,
             "#fdca26"
            ],
            [
             1,
             "#f0f921"
            ]
           ],
           "sequentialminus": [
            [
             0,
             "#0d0887"
            ],
            [
             0.1111111111111111,
             "#46039f"
            ],
            [
             0.2222222222222222,
             "#7201a8"
            ],
            [
             0.3333333333333333,
             "#9c179e"
            ],
            [
             0.4444444444444444,
             "#bd3786"
            ],
            [
             0.5555555555555556,
             "#d8576b"
            ],
            [
             0.6666666666666666,
             "#ed7953"
            ],
            [
             0.7777777777777778,
             "#fb9f3a"
            ],
            [
             0.8888888888888888,
             "#fdca26"
            ],
            [
             1,
             "#f0f921"
            ]
           ]
          },
          "colorway": [
           "#636efa",
           "#EF553B",
           "#00cc96",
           "#ab63fa",
           "#FFA15A",
           "#19d3f3",
           "#FF6692",
           "#B6E880",
           "#FF97FF",
           "#FECB52"
          ],
          "font": {
           "color": "#2a3f5f"
          },
          "geo": {
           "bgcolor": "white",
           "lakecolor": "white",
           "landcolor": "#E5ECF6",
           "showlakes": true,
           "showland": true,
           "subunitcolor": "white"
          },
          "hoverlabel": {
           "align": "left"
          },
          "hovermode": "closest",
          "mapbox": {
           "style": "light"
          },
          "paper_bgcolor": "white",
          "plot_bgcolor": "#E5ECF6",
          "polar": {
           "angularaxis": {
            "gridcolor": "white",
            "linecolor": "white",
            "ticks": ""
           },
           "bgcolor": "#E5ECF6",
           "radialaxis": {
            "gridcolor": "white",
            "linecolor": "white",
            "ticks": ""
           }
          },
          "scene": {
           "xaxis": {
            "backgroundcolor": "#E5ECF6",
            "gridcolor": "white",
            "gridwidth": 2,
            "linecolor": "white",
            "showbackground": true,
            "ticks": "",
            "zerolinecolor": "white"
           },
           "yaxis": {
            "backgroundcolor": "#E5ECF6",
            "gridcolor": "white",
            "gridwidth": 2,
            "linecolor": "white",
            "showbackground": true,
            "ticks": "",
            "zerolinecolor": "white"
           },
           "zaxis": {
            "backgroundcolor": "#E5ECF6",
            "gridcolor": "white",
            "gridwidth": 2,
            "linecolor": "white",
            "showbackground": true,
            "ticks": "",
            "zerolinecolor": "white"
           }
          },
          "shapedefaults": {
           "line": {
            "color": "#2a3f5f"
           }
          },
          "ternary": {
           "aaxis": {
            "gridcolor": "white",
            "linecolor": "white",
            "ticks": ""
           },
           "baxis": {
            "gridcolor": "white",
            "linecolor": "white",
            "ticks": ""
           },
           "bgcolor": "#E5ECF6",
           "caxis": {
            "gridcolor": "white",
            "linecolor": "white",
            "ticks": ""
           }
          },
          "title": {
           "x": 0.05
          },
          "xaxis": {
           "automargin": true,
           "gridcolor": "white",
           "linecolor": "white",
           "ticks": "",
           "title": {
            "standoff": 15
           },
           "zerolinecolor": "white",
           "zerolinewidth": 2
          },
          "yaxis": {
           "automargin": true,
           "gridcolor": "white",
           "linecolor": "white",
           "ticks": "",
           "title": {
            "standoff": 15
           },
           "zerolinecolor": "white",
           "zerolinewidth": 2
          }
         }
        },
        "xaxis": {
         "anchor": "y",
         "domain": [
          0,
          1
         ],
         "title": {
          "text": "x"
         }
        },
        "yaxis": {
         "anchor": "x",
         "domain": [
          0,
          1
         ],
         "title": {
          "text": "y"
         }
        }
       }
      }
     },
     "metadata": {},
     "output_type": "display_data"
    }
   ],
   "source": [
    "nw_estimator_sampler = nw_diffusion_local_poly(PRNGKey(42), data, schedule, 1, log_gaussian_kernel, log_gaussian_kernel,\n",
    "                                                    1, 1, 64)\n",
    "plot_samples_scatter(jax.vmap(nw_estimator_sampler, in_axes=(0,0,None))(data.cond[:,0], data.value, 1))"
   ]
  },
  {
   "cell_type": "code",
   "execution_count": null,
   "metadata": {},
   "outputs": [],
   "source": []
  },
  {
   "cell_type": "code",
   "execution_count": null,
   "metadata": {},
   "outputs": [],
   "source": []
  }
 ],
 "metadata": {
  "kernelspec": {
   "display_name": "Python 3 (ipykernel)",
   "language": "python",
   "name": "python3"
  },
  "language_info": {
   "codemirror_mode": {
    "name": "ipython",
    "version": 3
   },
   "file_extension": ".py",
   "mimetype": "text/x-python",
   "name": "python",
   "nbconvert_exporter": "python",
   "pygments_lexer": "ipython3",
   "version": "3.12.3"
  }
 },
 "nbformat": 4,
 "nbformat_minor": 4
}
