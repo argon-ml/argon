{
 "cells": [
  {
   "cell_type": "code",
   "execution_count": 1,
   "id": "0254ed03-e0cc-4d2c-ad91-4e151e799cfb",
   "metadata": {},
   "outputs": [],
   "source": [
    "import stanza.runtime\n",
    "stanza.runtime.setup()"
   ]
  },
  {
   "cell_type": "code",
   "execution_count": 2,
   "id": "7b88cd87-ae57-4b57-9d68-2f73a93d7ce7",
   "metadata": {},
   "outputs": [
    {
     "data": {
      "application/vnd.jupyter.widget-view+json": {
       "model_id": "76aad51b49be42019bbe687abf11b536",
       "version_major": 2,
       "version_minor": 0
      },
      "text/plain": [
       "Dropdown(description='Dataset:', index=1, options=('pusht/chi', 'robomimic/pickplace/can/ph', 'robomimic/nutas…"
      ]
     },
     "execution_count": 2,
     "metadata": {},
     "output_type": "execute_result"
    }
   ],
   "source": [
    "import ipywidgets\n",
    "import jax\n",
    "import jax.numpy as jnp\n",
    "import stanza.datasets.env\n",
    "\n",
    "env_datasets = [\n",
    "    \"pusht/chi\",\n",
    "    \"robomimic/pickplace/can/ph\",\n",
    "    \"robomimic/nutassembly/square/ph\"\n",
    "]\n",
    "default = \"robomimic/pickplace/can/ph\"\n",
    "dropdown = ipywidgets.Dropdown(\n",
    "    options=env_datasets,\n",
    "    value=default,\n",
    "    description='Dataset:',\n",
    "    disabled=False,\n",
    ")\n",
    "dropdown"
   ]
  },
  {
   "cell_type": "code",
   "execution_count": 3,
   "id": "144ad159-90f3-467d-8335-1fa34d7f9522",
   "metadata": {},
   "outputs": [],
   "source": [
    "dataset = stanza.datasets.env.datasets.create(dropdown.value)\n",
    "env = dataset.create_env()"
   ]
  },
  {
   "cell_type": "code",
   "execution_count": 21,
   "id": "fb9aa59c-d2dc-46dc-98b0-9de9a5a2a53e",
   "metadata": {},
   "outputs": [
    {
     "name": "stdout",
     "output_type": "stream",
     "text": [
      "1\n",
      "236\n",
      "1\n"
     ]
    }
   ],
   "source": [
    "from stanza.env.mujoco.robosuite import ManipulationTaskEEFPose\n",
    "from stanza.dataclasses import dataclass\n",
    "from typing import Any\n",
    "\n",
    "obs_length = 1\n",
    "action_length = 1\n",
    "action_config = ManipulationTaskEEFPose()\n",
    "\n",
    "@dataclass\n",
    "class Sample:\n",
    "    state: Any\n",
    "    observations: jax.Array\n",
    "    actions: jax.Array\n",
    "\n",
    "def process_data(env, data):\n",
    "    def process_element(element):\n",
    "        return env.full_state(element.reduced_state)\n",
    "    data = data.map_elements(process_element).cache()\n",
    "    data = data.chunk(\n",
    "        action_length + obs_length\n",
    "    )\n",
    "    def process_chunk(chunk):\n",
    "        states = chunk.elements\n",
    "        actions = jax.vmap(lambda s: env.observe(s, action_config))(states)\n",
    "        actions = jax.tree.map(lambda x: x[-action_length:], actions)\n",
    "        obs_states = jax.tree.map(lambda x: x[:obs_length], states)\n",
    "        curr_state = jax.tree.map(lambda x: x[-1], obs_states)\n",
    "        obs = jax.vmap(env.observe)(obs_states)\n",
    "        return Sample(curr_state, obs, actions)\n",
    "    return data.map(process_chunk)\n",
    "    \n",
    "train_data = dataset.splits[\"train\"].slice(0,1)\n",
    "print(len(train_data.sequences))\n",
    "print(len(train_data.elements))\n",
    "print(len(train_data))\n",
    "train_data = process_data(env, train_data).cache()\n",
    "#jax.debug.print(\"{s}\", s=train_data)"
   ]
  },
  {
   "cell_type": "code",
   "execution_count": 5,
   "id": "29fd1e36-ba09-4ce8-aa47-31503bc955d2",
   "metadata": {},
   "outputs": [
    {
     "name": "stdout",
     "output_type": "stream",
     "text": [
      "376\n"
     ]
    }
   ],
   "source": [
    "from stanza.policy import PolicyOutput, rollout\n",
    "from stanza.env import ImageRender\n",
    "\n",
    "actions = train_data.as_pytree().actions\n",
    "#jax.debug.print(\"{s}\", s=actions[0])\n",
    "lengths, _ = jax.tree_util.tree_flatten(\n",
    "            jax.tree.map(lambda x: x.shape[0], actions)\n",
    "        )\n",
    "length = lengths[0] + 1\n",
    "print(length)\n",
    "#print(actions.shape)\n",
    "#print(jax.tree.map(lambda x: x[0], actions).shape)\n",
    "def actions_policy(input):\n",
    "    T = input.policy_state if input.policy_state is not None else 0\n",
    "    action = jax.tree.map(lambda x: x[T], actions)\n",
    "    #print(action.shape)\n",
    "    return PolicyOutput(action=action, policy_state=T + 1)\n",
    "\n",
    "def roll_video(rng_key):\n",
    "    r = rollout(env.step, train_data[0].state, policy=actions_policy, length=length)\n",
    "    return jax.vmap(lambda x: env.render(x, ImageRender(256, 256)))(r.states)\n"
   ]
  },
  {
   "cell_type": "code",
   "execution_count": 6,
   "id": "3793b9a1-7a3e-4706-9204-af231940c313",
   "metadata": {},
   "outputs": [
    {
     "data": {
      "application/vnd.jupyter.widget-view+json": {
       "model_id": "e2f198c4d965466fa69988d7a5513e7c",
       "version_major": 2,
       "version_minor": 0
      },
      "text/plain": [
       "Video(value=b'\\x00\\x00\\x00 ftypisom\\x00\\x00\\x02\\x00isomiso2avc1mp41\\x00\\x00\\x00\\x08free...')"
      ]
     },
     "execution_count": 6,
     "metadata": {},
     "output_type": "execute_result"
    }
   ],
   "source": [
    "from stanza.util.ipython import as_video\n",
    "as_video(roll_video(jax.random.key(42)))"
   ]
  },
  {
   "cell_type": "code",
   "execution_count": null,
   "id": "a8e94e28-1fae-471c-bfcc-d8420b57ea10",
   "metadata": {},
   "outputs": [],
   "source": []
  }
 ],
 "metadata": {
  "kernelspec": {
   "display_name": "Python 3 (ipykernel)",
   "language": "python",
   "name": "python3"
  },
  "language_info": {
   "codemirror_mode": {
    "name": "ipython",
    "version": 3
   },
   "file_extension": ".py",
   "mimetype": "text/x-python",
   "name": "python",
   "nbconvert_exporter": "python",
   "pygments_lexer": "ipython3",
   "version": "3.10.7"
  }
 },
 "nbformat": 4,
 "nbformat_minor": 5
}
