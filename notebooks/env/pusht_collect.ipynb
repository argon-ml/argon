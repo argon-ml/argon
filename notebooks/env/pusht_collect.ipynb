{
 "cells": [
  {
   "cell_type": "code",
   "execution_count": 1,
   "metadata": {},
   "outputs": [],
   "source": [
    "from stanza.runtime import setup\n",
    "setup()"
   ]
  },
  {
   "cell_type": "code",
   "execution_count": 2,
   "metadata": {
    "scrolled": true
   },
   "outputs": [],
   "source": [
    "import jax.random\n",
    "import stanza.env\n",
    "from stanza.env.mujoco.pusht import (\n",
    "    PositionalControlTransform,\n",
    "    PositionalObsTransform,\n",
    ")\n",
    "from stanza.env.transforms import ChainedTransform, MultiStepTransform\n",
    "\n",
    "env = stanza.env.create(\"mujoco/pusht/positional\")\n",
    "def interactive_policy(mouse_pos):\n",
    "    return mouse_pos"
   ]
  },
  {
   "cell_type": "code",
   "execution_count": 3,
   "metadata": {},
   "outputs": [
    {
     "data": {
      "application/vnd.jupyter.widget-view+json": {
       "model_id": "25969d9d8319469f9f85c85c3c456d7d",
       "version_major": 2,
       "version_minor": 0
      },
      "text/plain": [
       "HBox(children=(IntSlider(value=0, max=0), IntSlider(value=0)))"
      ]
     },
     "metadata": {},
     "output_type": "display_data"
    },
    {
     "data": {
      "application/vnd.jupyter.widget-view+json": {
       "model_id": "45c59d8200484dc19d6581519cd4eeae",
       "version_major": 2,
       "version_minor": 0
      },
      "text/plain": [
       "HBox(children=(ImageStream(image=Image(value=b'\\x89PNG\\r\\n\\x1a\\n\\x00\\x00\\x00\\rIHDR\\x00\\x00\\x01\\x00\\x00\\x00\\x01…"
      ]
     },
     "metadata": {},
     "output_type": "display_data"
    },
    {
     "data": {
      "application/vnd.jupyter.widget-view+json": {
       "model_id": "a7974f243cff4268badc7958c5ee1f89",
       "version_major": 2,
       "version_minor": 0
      },
      "text/plain": [
       "Label(value='')"
      ]
     },
     "metadata": {},
     "output_type": "display_data"
    },
    {
     "data": {
      "application/vnd.jupyter.widget-view+json": {
       "model_id": "29cde89ed7174e6ab553ff7436b090ee",
       "version_major": 2,
       "version_minor": 0
      },
      "text/plain": [
       "HBox(children=(Button(description='Delete', style=ButtonStyle()), Button(description='Reset (r)', style=Button…"
      ]
     },
     "metadata": {},
     "output_type": "display_data"
    }
   ],
   "source": [
    "from stanza.policy.ipython import DemonstrationCollector\n",
    "from stanza.util.serialize import save_zarr, load_zarr\n",
    "from stanza.datasets.env.pusht import load_chi_pusht_data\n",
    "from stanza.data.sequence import SequenceData\n",
    "from stanza.data import PyTreeData\n",
    "from IPython.display import display\n",
    "from pathlib import Path\n",
    "\n",
    "path = Path(\"pusht_data.zarr.zip\")\n",
    "def save_fn(data):\n",
    "    pass\n",
    "\n",
    "if not path.exists():\n",
    "    #data = load_chi_pusht_data()\n",
    "    data = SequenceData(PyTreeData(), PyTreeData())\n",
    "else:\n",
    "    pass\n",
    "collector = DemonstrationCollector(\n",
    "    data, env, interactive_policy, save_fn, 256, 256\n",
    ")\n",
    "display(collector)"
   ]
  },
  {
   "cell_type": "code",
   "execution_count": null,
   "metadata": {},
   "outputs": [],
   "source": []
  },
  {
   "cell_type": "code",
   "execution_count": null,
   "metadata": {},
   "outputs": [],
   "source": []
  }
 ],
 "metadata": {
  "kernelspec": {
   "display_name": "Python 3 (ipykernel)",
   "language": "python",
   "name": "python3"
  },
  "language_info": {
   "codemirror_mode": {
    "name": "ipython",
    "version": 3
   },
   "file_extension": ".py",
   "mimetype": "text/x-python",
   "name": "python",
   "nbconvert_exporter": "python",
   "pygments_lexer": "ipython3",
   "version": "3.10.7"
  },
  "widgets": {
   "application/vnd.jupyter.widget-state+json": {
    "state": {},
    "version_major": 2,
    "version_minor": 0
   }
  }
 },
 "nbformat": 4,
 "nbformat_minor": 4
}
