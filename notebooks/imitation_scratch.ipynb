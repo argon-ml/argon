{
 "cells": [
  {
   "cell_type": "code",
   "execution_count": 5,
   "id": "46cc0160",
   "metadata": {},
   "outputs": [
    {
     "name": "stdout",
     "output_type": "stream",
     "text": [
      "The autoreload extension is already loaded. To reload it, use:\n",
      "  %reload_ext autoreload\n"
     ]
    }
   ],
   "source": [
    "%load_ext autoreload\n",
    "%autoreload 2\n",
    "%aimport -jax\n",
    "%aimport -jaxlib"
   ]
  },
  {
   "cell_type": "code",
   "execution_count": 6,
   "id": "76b59e4f",
   "metadata": {},
   "outputs": [
    {
     "name": "stdout",
     "output_type": "stream",
     "text": [
      "['/Users/msimchowitz1/Documents/code/stanza/notebooks', '/usr/local/Cellar/python@3.11/3.11.3/Frameworks/Python.framework/Versions/3.11/lib/python311.zip', '/usr/local/Cellar/python@3.11/3.11.3/Frameworks/Python.framework/Versions/3.11/lib/python3.11', '/usr/local/Cellar/python@3.11/3.11.3/Frameworks/Python.framework/Versions/3.11/lib/python3.11/lib-dynload', '', '/Users/msimchowitz1/Documents/code/stanza/.venv/lib/python3.11/site-packages', '/Users/msimchowitz1/Documents/code/stanza', '/Users/msimchowitz1/Documents/code/stanza/projects', '/Users/msimchowitz1/Documents/code/stanza/projects']\n"
     ]
    }
   ],
   "source": [
    "import sys\n",
    "import os\n",
    "sys.path.append(os.path.abspath(os.path.join(os.getcwd(),\"..\",\"projects\")))\n",
    "print(sys.path)\n"
   ]
  },
  {
   "cell_type": "code",
   "execution_count": 7,
   "id": "21f04176",
   "metadata": {},
   "outputs": [],
   "source": [
    "import jax.numpy as jnp\n",
    "import jax\n",
    "from jax.random import PRNGKey\n",
    "from stanza.util.random import PRNGSequence"
   ]
  },
  {
   "cell_type": "code",
   "execution_count": 8,
   "id": "d9f6a063",
   "metadata": {},
   "outputs": [
    {
     "data": {
      "text/html": [
       "<pre style=\"white-space:pre;overflow-x:auto;line-height:normal;font-family:Menlo,'DejaVu Sans Mono',consolas,'Courier New',monospace\"><span style=\"color: #7fbfbf; text-decoration-color: #7fbfbf\">[12:51:49] </span><span style=\"color: #c0c0c0; text-decoration-color: #c0c0c0\">INFO  </span> - Creating environment                                                            <a href=\"file:///var/folders/c4/13bl08593w34g7qzjvs_pbyc0000gp/T/ipykernel_67070/3188933452.py\" target=\"_blank\"><span style=\"color: #7f7f7f; text-decoration-color: #7f7f7f\">3188933452.py</span></a><span style=\"color: #7f7f7f; text-decoration-color: #7f7f7f\">:</span><a href=\"file:///var/folders/c4/13bl08593w34g7qzjvs_pbyc0000gp/T/ipykernel_67070/3188933452.py#9\" target=\"_blank\"><span style=\"color: #7f7f7f; text-decoration-color: #7f7f7f\">9</span></a>\n",
       "</pre>\n"
      ],
      "text/plain": [
       "\u001b[2;36m[12:51:49]\u001b[0m\u001b[2;36m \u001b[0m\u001b[37mINFO  \u001b[0m - Creating environment                                                            \u001b]8;id=53407;file:///var/folders/c4/13bl08593w34g7qzjvs_pbyc0000gp/T/ipykernel_67070/3188933452.py\u001b\\\u001b[2m3188933452.py\u001b[0m\u001b]8;;\u001b\\\u001b[2m:\u001b[0m\u001b]8;id=832428;file:///var/folders/c4/13bl08593w34g7qzjvs_pbyc0000gp/T/ipykernel_67070/3188933452.py#9\u001b\\\u001b[2m9\u001b[0m\u001b]8;;\u001b\\\n"
      ]
     },
     "metadata": {},
     "output_type": "display_data"
    }
   ],
   "source": [
    "# first step: generate expert trajectories \n",
    "import stanza.envs as envs\n",
    "import stanza\n",
    "import stanza.policies as policies\n",
    "from stanza.policies.mpc import MPC\n",
    "from stanza.solver.ilqr import iLQRSolver\n",
    "from stanza.util.logging import logger\n",
    "my_horizon = 50\n",
    "logger.info(\"Creating environment\")\n",
    "env = envs.create(\"pendulum\")\n",
    "my_key = PRNGSequence(PRNGKey(42))\n",
    "#ilQR solver\n",
    "solver_t = iLQRSolver()\n",
    "expert_policy=MPC(\n",
    "            # Sample action\n",
    "            action_sample=env.sample_action(PRNGKey(0)),\n",
    "            cost_fn=env.cost, \n",
    "            model_fn=env.step,\n",
    "            horizon_length=my_horizon,\n",
    "            solver=solver_t,\n",
    "            receed=False\n",
    "        )\n",
    "\n",
    "def rollout_policy(rng_key, my_pol):\n",
    "    # random init angle and angular velocity\n",
    "    x_0 = env.reset(rng_key) \n",
    "    roll = policies.rollout(model = env.step,\n",
    "                     state0 = x_0,\n",
    "                     policy = my_pol,\n",
    "                     length = my_horizon,\n",
    "                     last_state = False)\n",
    "    \n",
    "    return roll.states, roll.actions\n",
    "\n",
    "\n",
    "def batch_roll(rng_key, num_t, my_pol):\n",
    "    roll_fun = jax.vmap(rollout_policy,in_axes=(0,None))\n",
    "    rng_keys = jax.random.split(rng_key,num_t)\n",
    "    return roll_fun(rng_keys,my_pol)\n",
    "\n"
   ]
  },
  {
   "cell_type": "code",
   "execution_count": 9,
   "id": "243bfc23",
   "metadata": {},
   "outputs": [
    {
     "name": "stdout",
     "output_type": "stream",
     "text": [
      "State(angle=(100, 49), vel=(100, 49))\n",
      "State(angle=(100,), vel=(100,))\n"
     ]
    }
   ],
   "source": [
    "#{states,actions}\n",
    "#rollout_expert(my_key)\n",
    "\n",
    "from stanza.data import Data\n",
    "\n",
    "num_trajs = 100\n",
    "exp_states, exp_actions = batch_roll(rng_key=next(my_key), \n",
    "                    num_t= num_trajs, my_pol = expert_policy )\n",
    "\n",
    "#reminder \"x\" here is \"angle\" or \"velocity\"\n",
    "print(jax.tree_map(lambda x: x.shape, exp_states))\n",
    "\n",
    "#store the inital states\n",
    "init_states = jax.tree_map(lambda x: x[:,0],exp_states)\n",
    "print(jax.tree_map(lambda x: x.shape, init_states))\n",
    "\n",
    "\n",
    "#flattened to comprise data set \n",
    "flat_states = jax.tree_map(lambda x: x.reshape((-1,) + x.shape[2:]),exp_states)\n",
    "flat_actions = jax.tree_map(lambda x: x.reshape((-1,) + x.shape[2:]),exp_actions)\n",
    "\n",
    "#make a data_set\n",
    "dataset = Data.from_pytree((flat_states,flat_actions))\n",
    "my_dataset = dataset.shuffle(next(my_key))\n",
    "\n",
    "\n",
    "\n",
    "\n"
   ]
  },
  {
   "cell_type": "code",
   "execution_count": 10,
   "id": "39133e88",
   "metadata": {},
   "outputs": [],
   "source": [
    "# making a net\n",
    "import haiku as hk \n",
    "env_dim  = 1\n",
    "\n",
    "\n",
    "#TODO: add to stanza.util \"dumb max utils\" \n",
    "#stanza.util.fluffy_dog\n",
    "sample_action = env.sample_action(PRNGKey(0))\n",
    "sample_state = env.sample_state(PRNGKey(0))\n",
    "\n",
    "action_flat, action_unflatten = \\\n",
    "    jax.flatten_util.ravel_pytree(sample_action)\n",
    "state_flat, state_unflatten = \\\n",
    "    jax.flatten_util.ravel_pytree(sample_state)\n",
    "\n",
    "# 10 x 10 x 10 inner layer\n",
    "def net(x):\n",
    "    x_flat,_ =  jax.flatten_util.ravel_pytree(x)\n",
    "    net = hk.nets.MLP((10,10,10,action_flat.shape[0]))\n",
    "    y = net(x_flat)\n",
    "    return action_unflatten(y)\n",
    "\n",
    "hk_net = hk.transform(net)\n",
    "mlp_params = hk_net.init(next(my_key), sample_state)\n",
    "\n"
   ]
  },
  {
   "cell_type": "code",
   "execution_count": 11,
   "id": "8e1ba57b",
   "metadata": {},
   "outputs": [
    {
     "data": {
      "application/vnd.jupyter.widget-view+json": {
       "model_id": "974cd21c99be43988336ad9d39175638",
       "version_major": 2,
       "version_minor": 0
      },
      "text/plain": [
       "Output()"
      ]
     },
     "metadata": {},
     "output_type": "display_data"
    },
    {
     "data": {
      "text/html": [
       "<pre style=\"white-space:pre;overflow-x:auto;line-height:normal;font-family:Menlo,'DejaVu Sans Mono',consolas,'Courier New',monospace\"><span style=\"color: #7fbfbf; text-decoration-color: #7fbfbf\">[12:51:55] </span><span style=\"color: #008000; text-decoration-color: #008000\">TRACE </span> - <span style=\"color: #808000; text-decoration-color: #808000; font-weight: bold\">&lt;Tracing&gt;</span> Tracing training                                                      <a href=\"file:///Users/msimchowitz1/Documents/code/stanza/stanza/train/__init__.py\" target=\"_blank\"><span style=\"color: #7f7f7f; text-decoration-color: #7f7f7f\">__init__.py</span></a><span style=\"color: #7f7f7f; text-decoration-color: #7f7f7f\">:</span><a href=\"file:///Users/msimchowitz1/Documents/code/stanza/stanza/train/__init__.py#175\" target=\"_blank\"><span style=\"color: #7f7f7f; text-decoration-color: #7f7f7f\">175</span></a>\n",
       "</pre>\n"
      ],
      "text/plain": [
       "\u001b[2;36m[12:51:55]\u001b[0m\u001b[2;36m \u001b[0m\u001b[32mTRACE \u001b[0m - \u001b[1;33m<\u001b[0m\u001b[1;33mTracing\u001b[0m\u001b[1;33m>\u001b[0m Tracing training                                                      \u001b]8;id=803119;file:///Users/msimchowitz1/Documents/code/stanza/stanza/train/__init__.py\u001b\\\u001b[2m__init__.py\u001b[0m\u001b]8;;\u001b\\\u001b[2m:\u001b[0m\u001b]8;id=860680;file:///Users/msimchowitz1/Documents/code/stanza/stanza/train/__init__.py#175\u001b\\\u001b[2m175\u001b[0m\u001b]8;;\u001b\\\n"
      ]
     },
     "metadata": {},
     "output_type": "display_data"
    },
    {
     "data": {
      "text/html": [
       "<pre style=\"white-space:pre;overflow-x:auto;line-height:normal;font-family:Menlo,'DejaVu Sans Mono',consolas,'Courier New',monospace\"><span style=\"color: #7fbfbf; text-decoration-color: #7fbfbf\">           </span><span style=\"color: #008000; text-decoration-color: #008000\">TRACE </span> - <span style=\"color: #808000; text-decoration-color: #808000; font-weight: bold\">&lt;Tracing&gt;</span> Tracing epoch step                                                    <a href=\"file:///Users/msimchowitz1/Documents/code/stanza/stanza/train/__init__.py\" target=\"_blank\"><span style=\"color: #7f7f7f; text-decoration-color: #7f7f7f\">__init__.py</span></a><span style=\"color: #7f7f7f; text-decoration-color: #7f7f7f\">:</span><a href=\"file:///Users/msimchowitz1/Documents/code/stanza/stanza/train/__init__.py#137\" target=\"_blank\"><span style=\"color: #7f7f7f; text-decoration-color: #7f7f7f\">137</span></a>\n",
       "</pre>\n"
      ],
      "text/plain": [
       "\u001b[2;36m          \u001b[0m\u001b[2;36m \u001b[0m\u001b[32mTRACE \u001b[0m - \u001b[1;33m<\u001b[0m\u001b[1;33mTracing\u001b[0m\u001b[1;33m>\u001b[0m Tracing epoch step                                                    \u001b]8;id=805363;file:///Users/msimchowitz1/Documents/code/stanza/stanza/train/__init__.py\u001b\\\u001b[2m__init__.py\u001b[0m\u001b]8;;\u001b\\\u001b[2m:\u001b[0m\u001b]8;id=24561;file:///Users/msimchowitz1/Documents/code/stanza/stanza/train/__init__.py#137\u001b\\\u001b[2m137\u001b[0m\u001b]8;;\u001b\\\n"
      ]
     },
     "metadata": {},
     "output_type": "display_data"
    },
    {
     "data": {
      "text/html": [
       "<pre style=\"white-space:pre;overflow-x:auto;line-height:normal;font-family:Menlo,'DejaVu Sans Mono',consolas,'Courier New',monospace\"><span style=\"color: #7fbfbf; text-decoration-color: #7fbfbf\">           </span><span style=\"color: #008000; text-decoration-color: #008000\">TRACE </span> - <span style=\"color: #808000; text-decoration-color: #808000; font-weight: bold\">&lt;Tracing&gt;</span> Tracing train step                                                     <a href=\"file:///Users/msimchowitz1/Documents/code/stanza/stanza/train/__init__.py\" target=\"_blank\"><span style=\"color: #7f7f7f; text-decoration-color: #7f7f7f\">__init__.py</span></a><span style=\"color: #7f7f7f; text-decoration-color: #7f7f7f\">:</span><a href=\"file:///Users/msimchowitz1/Documents/code/stanza/stanza/train/__init__.py#92\" target=\"_blank\"><span style=\"color: #7f7f7f; text-decoration-color: #7f7f7f\">92</span></a>\n",
       "</pre>\n"
      ],
      "text/plain": [
       "\u001b[2;36m          \u001b[0m\u001b[2;36m \u001b[0m\u001b[32mTRACE \u001b[0m - \u001b[1;33m<\u001b[0m\u001b[1;33mTracing\u001b[0m\u001b[1;33m>\u001b[0m Tracing train step                                                     \u001b]8;id=791938;file:///Users/msimchowitz1/Documents/code/stanza/stanza/train/__init__.py\u001b\\\u001b[2m__init__.py\u001b[0m\u001b]8;;\u001b\\\u001b[2m:\u001b[0m\u001b]8;id=444900;file:///Users/msimchowitz1/Documents/code/stanza/stanza/train/__init__.py#92\u001b\\\u001b[2m92\u001b[0m\u001b]8;;\u001b\\\n"
      ]
     },
     "metadata": {},
     "output_type": "display_data"
    },
    {
     "data": {
      "text/html": [
       "<pre style=\"white-space:pre;overflow-x:auto;line-height:normal;font-family:Menlo,'DejaVu Sans Mono',consolas,'Courier New',monospace\"><span style=\"color: #7fbfbf; text-decoration-color: #7fbfbf\">           </span><span style=\"color: #008000; text-decoration-color: #008000\">TRACE </span> - <span style=\"color: #808000; text-decoration-color: #808000; font-weight: bold\">&lt;Tracing&gt;</span> Tracing batch loss                                                     <a href=\"file:///Users/msimchowitz1/Documents/code/stanza/stanza/train/__init__.py\" target=\"_blank\"><span style=\"color: #7f7f7f; text-decoration-color: #7f7f7f\">__init__.py</span></a><span style=\"color: #7f7f7f; text-decoration-color: #7f7f7f\">:</span><a href=\"file:///Users/msimchowitz1/Documents/code/stanza/stanza/train/__init__.py#58\" target=\"_blank\"><span style=\"color: #7f7f7f; text-decoration-color: #7f7f7f\">58</span></a>\n",
       "</pre>\n"
      ],
      "text/plain": [
       "\u001b[2;36m          \u001b[0m\u001b[2;36m \u001b[0m\u001b[32mTRACE \u001b[0m - \u001b[1;33m<\u001b[0m\u001b[1;33mTracing\u001b[0m\u001b[1;33m>\u001b[0m Tracing batch loss                                                     \u001b]8;id=889149;file:///Users/msimchowitz1/Documents/code/stanza/stanza/train/__init__.py\u001b\\\u001b[2m__init__.py\u001b[0m\u001b]8;;\u001b\\\u001b[2m:\u001b[0m\u001b]8;id=476199;file:///Users/msimchowitz1/Documents/code/stanza/stanza/train/__init__.py#58\u001b\\\u001b[2m58\u001b[0m\u001b]8;;\u001b\\\n"
      ]
     },
     "metadata": {},
     "output_type": "display_data"
    },
    {
     "data": {
      "text/html": [
       "<pre style=\"white-space:pre;overflow-x:auto;line-height:normal;font-family:Menlo,'DejaVu Sans Mono',consolas,'Courier New',monospace\"><span style=\"color: #7fbfbf; text-decoration-color: #7fbfbf\">           </span><span style=\"color: #008000; text-decoration-color: #008000\">TRACE </span> - <span style=\"color: #808000; text-decoration-color: #808000; font-weight: bold\">&lt;Tracing&gt;</span> Tracing train step                                                     <a href=\"file:///Users/msimchowitz1/Documents/code/stanza/stanza/train/__init__.py\" target=\"_blank\"><span style=\"color: #7f7f7f; text-decoration-color: #7f7f7f\">__init__.py</span></a><span style=\"color: #7f7f7f; text-decoration-color: #7f7f7f\">:</span><a href=\"file:///Users/msimchowitz1/Documents/code/stanza/stanza/train/__init__.py#92\" target=\"_blank\"><span style=\"color: #7f7f7f; text-decoration-color: #7f7f7f\">92</span></a>\n",
       "</pre>\n"
      ],
      "text/plain": [
       "\u001b[2;36m          \u001b[0m\u001b[2;36m \u001b[0m\u001b[32mTRACE \u001b[0m - \u001b[1;33m<\u001b[0m\u001b[1;33mTracing\u001b[0m\u001b[1;33m>\u001b[0m Tracing train step                                                     \u001b]8;id=943896;file:///Users/msimchowitz1/Documents/code/stanza/stanza/train/__init__.py\u001b\\\u001b[2m__init__.py\u001b[0m\u001b]8;;\u001b\\\u001b[2m:\u001b[0m\u001b]8;id=987955;file:///Users/msimchowitz1/Documents/code/stanza/stanza/train/__init__.py#92\u001b\\\u001b[2m92\u001b[0m\u001b]8;;\u001b\\\n"
      ]
     },
     "metadata": {},
     "output_type": "display_data"
    },
    {
     "data": {
      "text/html": [
       "<pre style=\"white-space:pre;overflow-x:auto;line-height:normal;font-family:Menlo,'DejaVu Sans Mono',consolas,'Courier New',monospace\"><span style=\"color: #7fbfbf; text-decoration-color: #7fbfbf\">           </span><span style=\"color: #008000; text-decoration-color: #008000\">TRACE </span> - <span style=\"color: #808000; text-decoration-color: #808000; font-weight: bold\">&lt;Tracing&gt;</span> Tracing epoch step                                                    <a href=\"file:///Users/msimchowitz1/Documents/code/stanza/stanza/train/__init__.py\" target=\"_blank\"><span style=\"color: #7f7f7f; text-decoration-color: #7f7f7f\">__init__.py</span></a><span style=\"color: #7f7f7f; text-decoration-color: #7f7f7f\">:</span><a href=\"file:///Users/msimchowitz1/Documents/code/stanza/stanza/train/__init__.py#137\" target=\"_blank\"><span style=\"color: #7f7f7f; text-decoration-color: #7f7f7f\">137</span></a>\n",
       "</pre>\n"
      ],
      "text/plain": [
       "\u001b[2;36m          \u001b[0m\u001b[2;36m \u001b[0m\u001b[32mTRACE \u001b[0m - \u001b[1;33m<\u001b[0m\u001b[1;33mTracing\u001b[0m\u001b[1;33m>\u001b[0m Tracing epoch step                                                    \u001b]8;id=37807;file:///Users/msimchowitz1/Documents/code/stanza/stanza/train/__init__.py\u001b\\\u001b[2m__init__.py\u001b[0m\u001b]8;;\u001b\\\u001b[2m:\u001b[0m\u001b]8;id=245709;file:///Users/msimchowitz1/Documents/code/stanza/stanza/train/__init__.py#137\u001b\\\u001b[2m137\u001b[0m\u001b]8;;\u001b\\\n"
      ]
     },
     "metadata": {},
     "output_type": "display_data"
    },
    {
     "data": {
      "text/html": [
       "<pre style=\"white-space:pre;overflow-x:auto;line-height:normal;font-family:Menlo,'DejaVu Sans Mono',consolas,'Courier New',monospace\"><span style=\"color: #7fbfbf; text-decoration-color: #7fbfbf\">           </span><span style=\"color: #008000; text-decoration-color: #008000\">TRACE </span> - <span style=\"color: #808000; text-decoration-color: #808000; font-weight: bold\">&lt;Tracing&gt;</span> Tracing train step                                                     <a href=\"file:///Users/msimchowitz1/Documents/code/stanza/stanza/train/__init__.py\" target=\"_blank\"><span style=\"color: #7f7f7f; text-decoration-color: #7f7f7f\">__init__.py</span></a><span style=\"color: #7f7f7f; text-decoration-color: #7f7f7f\">:</span><a href=\"file:///Users/msimchowitz1/Documents/code/stanza/stanza/train/__init__.py#92\" target=\"_blank\"><span style=\"color: #7f7f7f; text-decoration-color: #7f7f7f\">92</span></a>\n",
       "</pre>\n"
      ],
      "text/plain": [
       "\u001b[2;36m          \u001b[0m\u001b[2;36m \u001b[0m\u001b[32mTRACE \u001b[0m - \u001b[1;33m<\u001b[0m\u001b[1;33mTracing\u001b[0m\u001b[1;33m>\u001b[0m Tracing train step                                                     \u001b]8;id=407340;file:///Users/msimchowitz1/Documents/code/stanza/stanza/train/__init__.py\u001b\\\u001b[2m__init__.py\u001b[0m\u001b]8;;\u001b\\\u001b[2m:\u001b[0m\u001b]8;id=621392;file:///Users/msimchowitz1/Documents/code/stanza/stanza/train/__init__.py#92\u001b\\\u001b[2m92\u001b[0m\u001b]8;;\u001b\\\n"
      ]
     },
     "metadata": {},
     "output_type": "display_data"
    },
    {
     "data": {
      "text/html": [
       "<pre style=\"white-space:pre;overflow-x:auto;line-height:normal;font-family:Menlo,'DejaVu Sans Mono',consolas,'Courier New',monospace\"><span style=\"color: #7fbfbf; text-decoration-color: #7fbfbf\">           </span><span style=\"color: #008000; text-decoration-color: #008000\">TRACE </span> - <span style=\"color: #808000; text-decoration-color: #808000; font-weight: bold\">&lt;Tracing&gt;</span> Tracing batch loss                                                     <a href=\"file:///Users/msimchowitz1/Documents/code/stanza/stanza/train/__init__.py\" target=\"_blank\"><span style=\"color: #7f7f7f; text-decoration-color: #7f7f7f\">__init__.py</span></a><span style=\"color: #7f7f7f; text-decoration-color: #7f7f7f\">:</span><a href=\"file:///Users/msimchowitz1/Documents/code/stanza/stanza/train/__init__.py#58\" target=\"_blank\"><span style=\"color: #7f7f7f; text-decoration-color: #7f7f7f\">58</span></a>\n",
       "</pre>\n"
      ],
      "text/plain": [
       "\u001b[2;36m          \u001b[0m\u001b[2;36m \u001b[0m\u001b[32mTRACE \u001b[0m - \u001b[1;33m<\u001b[0m\u001b[1;33mTracing\u001b[0m\u001b[1;33m>\u001b[0m Tracing batch loss                                                     \u001b]8;id=169238;file:///Users/msimchowitz1/Documents/code/stanza/stanza/train/__init__.py\u001b\\\u001b[2m__init__.py\u001b[0m\u001b]8;;\u001b\\\u001b[2m:\u001b[0m\u001b]8;id=333155;file:///Users/msimchowitz1/Documents/code/stanza/stanza/train/__init__.py#58\u001b\\\u001b[2m58\u001b[0m\u001b]8;;\u001b\\\n"
      ]
     },
     "metadata": {},
     "output_type": "display_data"
    },
    {
     "data": {
      "text/html": [
       "<pre style=\"white-space:pre;overflow-x:auto;line-height:normal;font-family:Menlo,'DejaVu Sans Mono',consolas,'Courier New',monospace\"><span style=\"color: #7fbfbf; text-decoration-color: #7fbfbf\">[12:51:56] </span><span style=\"color: #008000; text-decoration-color: #008000\">TRACE </span> - <span style=\"color: #808000; text-decoration-color: #808000; font-weight: bold\">&lt;Tracing&gt;</span> Done tracing training                                                 <a href=\"file:///Users/msimchowitz1/Documents/code/stanza/stanza/train/__init__.py\" target=\"_blank\"><span style=\"color: #7f7f7f; text-decoration-color: #7f7f7f\">__init__.py</span></a><span style=\"color: #7f7f7f; text-decoration-color: #7f7f7f\">:</span><a href=\"file:///Users/msimchowitz1/Documents/code/stanza/stanza/train/__init__.py#196\" target=\"_blank\"><span style=\"color: #7f7f7f; text-decoration-color: #7f7f7f\">196</span></a>\n",
       "</pre>\n"
      ],
      "text/plain": [
       "\u001b[2;36m[12:51:56]\u001b[0m\u001b[2;36m \u001b[0m\u001b[32mTRACE \u001b[0m - \u001b[1;33m<\u001b[0m\u001b[1;33mTracing\u001b[0m\u001b[1;33m>\u001b[0m Done tracing training                                                 \u001b]8;id=60680;file:///Users/msimchowitz1/Documents/code/stanza/stanza/train/__init__.py\u001b\\\u001b[2m__init__.py\u001b[0m\u001b]8;;\u001b\\\u001b[2m:\u001b[0m\u001b]8;id=836937;file:///Users/msimchowitz1/Documents/code/stanza/stanza/train/__init__.py#196\u001b\\\u001b[2m196\u001b[0m\u001b]8;;\u001b\\\n"
      ]
     },
     "metadata": {},
     "output_type": "display_data"
    },
    {
     "data": {
      "text/html": [
       "<pre style=\"white-space:pre;overflow-x:auto;line-height:normal;font-family:Menlo,'DejaVu Sans Mono',consolas,'Courier New',monospace\"><span style=\"color: #7fbfbf; text-decoration-color: #7fbfbf\">[12:51:59] </span><span style=\"color: #008000; text-decoration-color: #008000\">TRACE </span> - Starting training                                                               <a href=\"file:///Users/msimchowitz1/Documents/code/stanza/stanza/train/__init__.py\" target=\"_blank\"><span style=\"color: #7f7f7f; text-decoration-color: #7f7f7f\">__init__.py</span></a><span style=\"color: #7f7f7f; text-decoration-color: #7f7f7f\">:</span><a href=\"file:///Users/msimchowitz1/Documents/code/stanza/stanza/train/__init__.py#176\" target=\"_blank\"><span style=\"color: #7f7f7f; text-decoration-color: #7f7f7f\">176</span></a>\n",
       "</pre>\n"
      ],
      "text/plain": [
       "\u001b[2;36m[12:51:59]\u001b[0m\u001b[2;36m \u001b[0m\u001b[32mTRACE \u001b[0m - Starting training                                                               \u001b]8;id=300508;file:///Users/msimchowitz1/Documents/code/stanza/stanza/train/__init__.py\u001b\\\u001b[2m__init__.py\u001b[0m\u001b]8;;\u001b\\\u001b[2m:\u001b[0m\u001b]8;id=11428;file:///Users/msimchowitz1/Documents/code/stanza/stanza/train/__init__.py#176\u001b\\\u001b[2m176\u001b[0m\u001b]8;;\u001b\\\n"
      ]
     },
     "metadata": {},
     "output_type": "display_data"
    },
    {
     "data": {
      "text/html": [
       "<pre style=\"white-space:pre;overflow-x:auto;line-height:normal;font-family:Menlo,'DejaVu Sans Mono',consolas,'Courier New',monospace\"></pre>\n"
      ],
      "text/plain": []
     },
     "metadata": {},
     "output_type": "display_data"
    }
   ],
   "source": [
    "import optax \n",
    "\n",
    "optimizer = optax.adamw(optax.cosine_decay_schedule(1e-3, 5000*10), \n",
    "                        weight_decay=1e-6)\n",
    "\n",
    "def loss_fn(params, rng_key, sample):\n",
    "    x, y = sample\n",
    "    out = hk_net.apply(params, rng_key, x)\n",
    "    dif = jax.tree_map(lambda a,b:a-b, out, y)\n",
    "    flat_dif, _ = jax.flatten_util.ravel_pytree(dif)\n",
    "\n",
    "    #note the sum is trivial for 1d actions\n",
    "    loss = jnp.sum(jnp.square(flat_dif))\n",
    "    stats = {\n",
    "        \"loss\": loss\n",
    "    }\n",
    "    return loss, stats\n",
    "\n",
    "from stanza import Partial\n",
    "from stanza.train import Trainer\n",
    "from stanza.train.rich import RichReporter\n",
    "\n",
    "# uses with the reporter only in this block\n",
    "with RichReporter(iter_interval=50) as cb:\n",
    "        trainer = Trainer(epochs=300, batch_size=30, optimizer=optimizer)\n",
    "        res = trainer.train(\n",
    "            Partial(loss_fn), my_dataset,\n",
    "            PRNGKey(42), mlp_params,\n",
    "            hooks=[cb], jit=True\n",
    "        )\n",
    "\n",
    "\n",
    "\n"
   ]
  },
  {
   "cell_type": "code",
   "execution_count": 12,
   "id": "edb03164",
   "metadata": {},
   "outputs": [
    {
     "name": "stdout",
     "output_type": "stream",
     "text": [
      "loss on trained:\n",
      "184.24336\n",
      "loss on expert:\n",
      "178.18272\n"
     ]
    },
    {
     "ename": "AttributeError",
     "evalue": "type object 'Video' has no attribute 'from_file'",
     "output_type": "error",
     "traceback": [
      "\u001b[0;31m---------------------------------------------------------------------------\u001b[0m",
      "\u001b[0;31mAttributeError\u001b[0m                            Traceback (most recent call last)",
      "Cell \u001b[0;32mIn[12], line 40\u001b[0m\n\u001b[1;32m     36\u001b[0m trained_file_name \u001b[39m=\u001b[39m \u001b[39m\"\u001b[39m\u001b[39mtained_policy_video.mp4\u001b[39m\u001b[39m\"\u001b[39m\n\u001b[1;32m     37\u001b[0m ffmpegio\u001b[39m.\u001b[39mvideo\u001b[39m.\u001b[39mwrite(trained_file_name,\n\u001b[1;32m     38\u001b[0m                      fps,trained_vid,\n\u001b[1;32m     39\u001b[0m                      overwrite \u001b[39m=\u001b[39m \u001b[39mTrue\u001b[39;00m, loglevel \u001b[39m=\u001b[39m \u001b[39m\"\u001b[39m\u001b[39mquiet\u001b[39m\u001b[39m\"\u001b[39m)\n\u001b[0;32m---> 40\u001b[0m Video\u001b[39m.\u001b[39;49mfrom_file(trained_file_name)\n",
      "\u001b[0;31mAttributeError\u001b[0m: type object 'Video' has no attribute 'from_file'"
     ]
    }
   ],
   "source": [
    "train_params = res.fn_params\n",
    "from stanza.policies import PolicyOutput\n",
    "#maps state to action\n",
    "def trained_policy(x):\n",
    "    action = hk_net.apply(train_params, None, x.observation)\n",
    "    return PolicyOutput(action)\n",
    "\n",
    "\n",
    "\n",
    "trained_states, trained_actions = batch_roll(rng_key=next(my_key), \n",
    "                    num_t= num_trajs, my_pol = trained_policy )\n",
    "\n",
    "\n",
    "#final_states = jax.tree_map(lambda x: x[:,my_horizon-1])\n",
    "\n",
    "def average_loss(states,actions):\n",
    "    cost_v= jax.vmap(env.cost)\n",
    "    return jnp.mean(cost_v(states,actions))\n",
    "\n",
    "print(\"loss on trained:\")\n",
    "print(average_loss(trained_states,trained_actions))\n",
    "print(\"loss on expert:\")\n",
    "print(average_loss(exp_states,exp_actions))\n",
    "\n",
    "\n",
    "def render_video(states,traj_number = 0):\n",
    "    render_traj = jax.vmap(env.render)\n",
    "    video = render_traj(jax.tree_map(lambda x: x[traj_number] , states))\n",
    "    video = (255 * video).astype(jnp.uint8)\n",
    "    return video\n",
    "\n",
    "import ffmpegio\n",
    "from IPython.display import Video\n",
    "fps = 10\n",
    "trained_vid = render_video(trained_states)\n",
    "trained_file_name = \"tained_policy_video.mp4\"\n",
    "ffmpegio.video.write(trained_file_name,\n",
    "                     fps,trained_vid,\n",
    "                     overwrite = True, loglevel = \"quiet\")\n",
    "Video.from_file(trained_file_name,embed = True)"
   ]
  }
 ],
 "metadata": {
  "kernelspec": {
   "display_name": "Python 3 (ipykernel)",
   "language": "python",
   "name": "python3"
  },
  "language_info": {
   "codemirror_mode": {
    "name": "ipython",
    "version": 3
   },
   "file_extension": ".py",
   "mimetype": "text/x-python",
   "name": "python",
   "nbconvert_exporter": "python",
   "pygments_lexer": "ipython3",
   "version": "3.11.3"
  }
 },
 "nbformat": 4,
 "nbformat_minor": 5
}
