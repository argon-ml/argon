{
 "cells": [
  {
   "cell_type": "code",
   "execution_count": 36,
   "id": "46cc0160",
   "metadata": {},
   "outputs": [
    {
     "name": "stdout",
     "output_type": "stream",
     "text": [
      "The autoreload extension is already loaded. To reload it, use:\n",
      "  %reload_ext autoreload\n"
     ]
    }
   ],
   "source": [
    "%load_ext autoreload\n",
    "%autoreload 2\n",
    "%aimport -jax\n",
    "%aimport -jaxlib"
   ]
  },
  {
   "cell_type": "code",
   "execution_count": 37,
   "id": "76b59e4f",
   "metadata": {},
   "outputs": [
    {
     "name": "stdout",
     "output_type": "stream",
     "text": [
      "['/Users/daniel/Documents/code/stable_imitation/stanza/notebooks', '/opt/homebrew/Cellar/python@3.11/3.11.3/Frameworks/Python.framework/Versions/3.11/lib/python311.zip', '/opt/homebrew/Cellar/python@3.11/3.11.3/Frameworks/Python.framework/Versions/3.11/lib/python3.11', '/opt/homebrew/Cellar/python@3.11/3.11.3/Frameworks/Python.framework/Versions/3.11/lib/python3.11/lib-dynload', '', '/Users/daniel/Documents/code/stable_imitation/stanza/.venv/lib/python3.11/site-packages', '/Users/daniel/Documents/code/stable_imitation/stanza', '/Users/daniel/Documents/code/stable_imitation/stanza/projects', '/Users/daniel/Documents/code/stable_imitation/stanza/projects']\n"
     ]
    }
   ],
   "source": [
    "import sys\n",
    "import os\n",
    "sys.path.append(os.path.abspath(os.path.join(os.getcwd(),\"..\",\"projects\")))\n",
    "print(sys.path)\n"
   ]
  },
  {
   "cell_type": "code",
   "execution_count": 38,
   "id": "21f04176",
   "metadata": {},
   "outputs": [],
   "source": [
    "import jax.numpy as jnp\n",
    "import jax\n",
    "from jax.random import PRNGKey\n",
    "from stanza.util.random import PRNGSequence"
   ]
  },
  {
   "cell_type": "code",
   "execution_count": 39,
   "id": "d9f6a063",
   "metadata": {},
   "outputs": [
    {
     "data": {
      "text/html": [
       "<pre style=\"white-space:pre;overflow-x:auto;line-height:normal;font-family:Menlo,'DejaVu Sans Mono',consolas,'Courier New',monospace\"><span style=\"color: #7fbfbf; text-decoration-color: #7fbfbf\">[11:13:00] </span><span style=\"color: #c0c0c0; text-decoration-color: #c0c0c0\">INFO  </span> - Creating environment                                                            <a href=\"file:///var/folders/27/mqk28v8j4jx08wyxlbnd2c1r0000gn/T/ipykernel_69146/1367721212.py\" target=\"_blank\"><span style=\"color: #7f7f7f; text-decoration-color: #7f7f7f\">1367721212.py</span></a><span style=\"color: #7f7f7f; text-decoration-color: #7f7f7f\">:</span><a href=\"file:///var/folders/27/mqk28v8j4jx08wyxlbnd2c1r0000gn/T/ipykernel_69146/1367721212.py#9\" target=\"_blank\"><span style=\"color: #7f7f7f; text-decoration-color: #7f7f7f\">9</span></a>\n",
       "</pre>\n"
      ],
      "text/plain": [
       "\u001b[2;36m[11:13:00]\u001b[0m\u001b[2;36m \u001b[0m\u001b[37mINFO  \u001b[0m - Creating environment                                                            \u001b]8;id=665542;file:///var/folders/27/mqk28v8j4jx08wyxlbnd2c1r0000gn/T/ipykernel_69146/1367721212.py\u001b\\\u001b[2m1367721212.py\u001b[0m\u001b]8;;\u001b\\\u001b[2m:\u001b[0m\u001b]8;id=308535;file:///var/folders/27/mqk28v8j4jx08wyxlbnd2c1r0000gn/T/ipykernel_69146/1367721212.py#9\u001b\\\u001b[2m9\u001b[0m\u001b]8;;\u001b\\\n"
      ]
     },
     "metadata": {},
     "output_type": "display_data"
    }
   ],
   "source": [
    "# first step: generate expert trajectories \n",
    "import stanza.envs as envs\n",
    "import stanza\n",
    "import stanza.policies as policies\n",
    "from stanza.policies.mpc import MPC\n",
    "from stanza.solver.ilqr import iLQRSolver\n",
    "from stanza.util.logging import logger\n",
    "my_horizon = 50\n",
    "logger.info(\"Creating environment\")\n",
    "env = envs.create(\"pendulum\")\n",
    "my_key = PRNGSequence(PRNGKey(42))\n",
    "#ilQR solver\n",
    "solver_t = iLQRSolver()\n",
    "expert_policy=MPC(\n",
    "            # Sample action\n",
    "            action_sample=env.sample_action(PRNGKey(0)),\n",
    "            cost_fn=env.cost, \n",
    "            model_fn=env.step,\n",
    "            horizon_length=my_horizon,\n",
    "            solver=solver_t,\n",
    "            receed=False\n",
    "        )\n",
    "\n",
    "def rollout_policy(rng_key, my_pol):\n",
    "    # random init angle and angular velocity\n",
    "    x_0 = env.reset(rng_key) \n",
    "    roll = policies.rollout(model = env.step,\n",
    "                     state0 = x_0,\n",
    "                     policy = my_pol,\n",
    "                     length = my_horizon,\n",
    "                     last_state = False)\n",
    "    \n",
    "    return roll.states, roll.actions\n",
    "\n",
    "def batch_roll(rng_key, num_t, my_pol):\n",
    "    roll_fun = jax.vmap(rollout_policy,in_axes=(0,None))\n",
    "    rng_keys = jax.random.split(rng_key,num_t)\n",
    "    return roll_fun(rng_keys,my_pol)"
   ]
  },
  {
   "cell_type": "code",
   "execution_count": null,
   "id": "243bfc23",
   "metadata": {},
   "outputs": [],
   "source": [
    "from stanza.data import Data, PyTreeData\n",
    "from stanza.rl_tools.flax_models import Batch\n",
    "num_trajs = 100\n",
    "exp_states, exp_actions = batch_roll(rng_key=next(my_key), \n",
    "                    num_t= num_trajs, my_pol = expert_policy )\n",
    "\n",
    "def tree_reshaper(x):\n",
    "    return x.reshape((-1,) + x.shape[2:]) \n",
    "flat_states = jax.tree_map(lambda x: tree_reshaper(x),exp_states)\n",
    "flat_actions = jax.tree_map(lambda x: tree_reshaper(x),exp_actions)\n",
    "flat_next_states = jax.vmap(env.step)(flat_states,flat_actions,None)\n",
    "flat_rewards = -jax.vmap(env.cost)(flat_states,flat_actions)\n",
    "\n",
    "dataset = Data.from_pytree((flat_states,flat_actions,\n",
    "                            flat_next_states,flat_rewards))\n",
    "my_dataset = dataset.shuffle(next(my_key))\n",
    "def data_map(x):\n",
    "    s, a, ns, r = x\n",
    "    f_s, _ = jax.flatten_util.ravel_pytree(s)\n",
    "    f_a, _ = jax.flatten_util.ravel_pytree(a)\n",
    "    f_ns, _ = jax.flatten_util.ravel_pytree(ns)\n",
    "    mask = jnp.ones_like(r, dtype=bool)\n",
    "    return Batch(f_s, f_a, r, mask, f_ns)\n",
    "rl_dataset = PyTreeData.from_data(my_dataset.map(data_map))"
   ]
  },
  {
   "cell_type": "code",
   "execution_count": 43,
   "id": "aefa46fa",
   "metadata": {},
   "outputs": [
    {
     "data": {
      "application/vnd.jupyter.widget-view+json": {
       "model_id": "0d63b64c2d7b45629bdf71feba08fcb4",
       "version_major": 2,
       "version_minor": 0
      },
      "text/plain": [
       "Output()"
      ]
     },
     "metadata": {},
     "output_type": "display_data"
    },
    {
     "data": {
      "text/html": [
       "<pre style=\"white-space:pre;overflow-x:auto;line-height:normal;font-family:Menlo,'DejaVu Sans Mono',consolas,'Courier New',monospace\"></pre>\n"
      ],
      "text/plain": []
     },
     "metadata": {},
     "output_type": "display_data"
    },
    {
     "data": {
      "text/html": [
       "<pre style=\"white-space:pre;overflow-x:auto;line-height:normal;font-family:Menlo,'DejaVu Sans Mono',consolas,'Courier New',monospace\">\n",
       "</pre>\n"
      ],
      "text/plain": [
       "\n"
      ]
     },
     "metadata": {},
     "output_type": "display_data"
    }
   ],
   "source": [
    "# train the RL stuff\n",
    "from stanza.rl_tools.iql_learner import Learner\n",
    "from typing import Dict\n",
    "from stanza.util.attrdict import AttrDict\n",
    "import stanza.util as util\n",
    "\n",
    "FLAGS = AttrDict({\n",
    "    'log_interval': 1000, 'eval_interval': 5000, \n",
    "    'batch_size': 20,  'max_steps': int(1e6),\n",
    "    'eval_episodes': 10, 'tqdm': True,\n",
    "    'seed': 42\n",
    "})\n",
    "\n",
    "sample = rl_dataset.get(rl_dataset.start)\n",
    "\n",
    "agent = Learner(FLAGS.seed,\n",
    "                sample.observations[jnp.newaxis],\n",
    "                sample.actions[jnp.newaxis],\n",
    "                max_steps=FLAGS.max_steps)\n",
    "\n",
    "from rich.progress import track \n",
    "\n",
    "rng = PRNGSequence(42)\n",
    "batch = rl_dataset.sample_batch(FLAGS.batch_size, next(rng))\n",
    "for i in track(range(FLAGS.max_steps)):\n",
    "    batch = rl_dataset.sample_batch(FLAGS.batch_size, next(rng))\n",
    "    agent.update(batch)"
   ]
  }
 ],
 "metadata": {
  "kernelspec": {
   "display_name": "Python 3 (ipykernel)",
   "language": "python",
   "name": "python3"
  },
  "language_info": {
   "codemirror_mode": {
    "name": "ipython",
    "version": 3
   },
   "file_extension": ".py",
   "mimetype": "text/x-python",
   "name": "python",
   "nbconvert_exporter": "python",
   "pygments_lexer": "ipython3",
   "version": "3.11.3"
  }
 },
 "nbformat": 4,
 "nbformat_minor": 5
}
