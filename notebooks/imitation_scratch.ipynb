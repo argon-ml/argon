{
 "cells": [
  {
   "cell_type": "code",
   "execution_count": 1,
   "id": "46cc0160",
   "metadata": {},
   "outputs": [],
   "source": [
    "%load_ext autoreload\n",
    "%autoreload 2\n",
    "%aimport -jax\n",
    "%aimport -jaxlib"
   ]
  },
  {
   "cell_type": "code",
   "execution_count": 2,
   "id": "76b59e4f",
   "metadata": {},
   "outputs": [
    {
     "name": "stdout",
     "output_type": "stream",
     "text": [
      "['/Users/msimchowitz1/Documents/code/stanza/notebooks', '/usr/local/Cellar/python@3.11/3.11.3/Frameworks/Python.framework/Versions/3.11/lib/python311.zip', '/usr/local/Cellar/python@3.11/3.11.3/Frameworks/Python.framework/Versions/3.11/lib/python3.11', '/usr/local/Cellar/python@3.11/3.11.3/Frameworks/Python.framework/Versions/3.11/lib/python3.11/lib-dynload', '', '/Users/msimchowitz1/Documents/code/stanza/.venv/lib/python3.11/site-packages', '/Users/msimchowitz1/Documents/code/stanza', '/Users/msimchowitz1/Documents/code/stanza/projects']\n"
     ]
    }
   ],
   "source": [
    "import sys\n",
    "import os\n",
    "sys.path.append(os.path.abspath(os.path.join(os.getcwd(),\"..\",\"projects\")))\n",
    "print(sys.path)\n"
   ]
  },
  {
   "cell_type": "code",
   "execution_count": 3,
   "id": "21f04176",
   "metadata": {},
   "outputs": [],
   "source": [
    "import jax.numpy as jnp\n",
    "import jax\n",
    "from jax.random import PRNGKey\n",
    "from stanza.util.random import PRNGSequence"
   ]
  },
  {
   "cell_type": "code",
   "execution_count": 4,
   "id": "d9f6a063",
   "metadata": {},
   "outputs": [
    {
     "data": {
      "text/html": [
       "<pre style=\"white-space:pre;overflow-x:auto;line-height:normal;font-family:Menlo,'DejaVu Sans Mono',consolas,'Courier New',monospace\"><span style=\"color: #7fbfbf; text-decoration-color: #7fbfbf\">[17:36:53] </span><span style=\"color: #c0c0c0; text-decoration-color: #c0c0c0\">INFO  </span> - Creating environment                                                            <a href=\"file:///var/folders/c4/13bl08593w34g7qzjvs_pbyc0000gp/T/ipykernel_42620/3188933452.py\" target=\"_blank\"><span style=\"color: #7f7f7f; text-decoration-color: #7f7f7f\">3188933452.py</span></a><span style=\"color: #7f7f7f; text-decoration-color: #7f7f7f\">:</span><a href=\"file:///var/folders/c4/13bl08593w34g7qzjvs_pbyc0000gp/T/ipykernel_42620/3188933452.py#9\" target=\"_blank\"><span style=\"color: #7f7f7f; text-decoration-color: #7f7f7f\">9</span></a>\n",
       "</pre>\n"
      ],
      "text/plain": [
       "\u001b[2;36m[17:36:53]\u001b[0m\u001b[2;36m \u001b[0m\u001b[37mINFO  \u001b[0m - Creating environment                                                            \u001b]8;id=339827;file:///var/folders/c4/13bl08593w34g7qzjvs_pbyc0000gp/T/ipykernel_42620/3188933452.py\u001b\\\u001b[2m3188933452.py\u001b[0m\u001b]8;;\u001b\\\u001b[2m:\u001b[0m\u001b]8;id=317368;file:///var/folders/c4/13bl08593w34g7qzjvs_pbyc0000gp/T/ipykernel_42620/3188933452.py#9\u001b\\\u001b[2m9\u001b[0m\u001b]8;;\u001b\\\n"
      ]
     },
     "metadata": {},
     "output_type": "display_data"
    }
   ],
   "source": [
    "# first step: generate expert trajectories \n",
    "import stanza.envs as envs\n",
    "import stanza\n",
    "import stanza.policies as policies\n",
    "from stanza.policies.mpc import MPC\n",
    "from stanza.solver.ilqr import iLQRSolver\n",
    "from stanza.util.logging import logger\n",
    "my_horizon = 50\n",
    "logger.info(\"Creating environment\")\n",
    "env = envs.create(\"pendulum\")\n",
    "my_key = PRNGSequence(PRNGKey(42))\n",
    "#ilQR solver\n",
    "solver_t = iLQRSolver()\n",
    "expert_policy=MPC(\n",
    "            # Sample action\n",
    "            action_sample=env.sample_action(PRNGKey(0)),\n",
    "            cost_fn=env.cost, \n",
    "            model_fn=env.step,\n",
    "            horizon_length=my_horizon,\n",
    "            solver=solver_t,\n",
    "            receed=False\n",
    "        )\n",
    "\n",
    "def rollout_policy(rng_key, my_pol):\n",
    "    # random init angle and angular velocity\n",
    "    x_0 = env.reset(rng_key) \n",
    "    roll = policies.rollout(model = env.step,\n",
    "                     state0 = x_0,\n",
    "                     policy = my_pol,\n",
    "                     length = my_horizon,\n",
    "                     last_state = False)\n",
    "    \n",
    "    return roll.states, roll.actions\n",
    "\n",
    "\n",
    "def batch_roll(rng_key, num_t, my_pol):\n",
    "    roll_fun = jax.vmap(rollout_policy,in_axes=(0,None))\n",
    "    rng_keys = jax.random.split(rng_key,num_t)\n",
    "    return roll_fun(rng_keys,my_pol)\n",
    "\n"
   ]
  },
  {
   "cell_type": "code",
   "execution_count": 5,
   "id": "243bfc23",
   "metadata": {},
   "outputs": [
    {
     "name": "stdout",
     "output_type": "stream",
     "text": [
      "State(angle=(100, 49), vel=(100, 49))\n",
      "State(angle=(100,), vel=(100,))\n"
     ]
    }
   ],
   "source": [
    "#{states,actions}\n",
    "#rollout_expert(my_key)\n",
    "\n",
    "from stanza.data import Data\n",
    "from stanza.rl_tools.flax_models import Batch as Flax_Batch\n",
    "from stanza.util import vmap_ravel_pytree\n",
    "num_trajs = 100\n",
    "exp_states, exp_actions = batch_roll(rng_key=next(my_key), \n",
    "                    num_t= num_trajs, my_pol = expert_policy )\n",
    "\n",
    "#reminder \"x\" here is \"angle\" or \"velocity\"\n",
    "print(jax.tree_map(lambda x: x.shape, exp_states))\n",
    "\n",
    "#store the inital states\n",
    "init_states = jax.tree_map(lambda x: x[:,0],exp_states)\n",
    "print(jax.tree_map(lambda x: x.shape, init_states))\n",
    "\n",
    "def tree_reshaper(x):\n",
    "    return x.reshape((-1,) + x.shape[2:]) \n",
    "\n",
    "#flattened to comprise data set \n",
    "flat_states = jax.tree_map(lambda x: tree_reshaper(x),exp_states)\n",
    "flat_actions = jax.tree_map(lambda x: tree_reshaper(x),exp_actions)\n",
    "\n",
    "#make a data_set\n",
    "dataset = Data.from_pytree((flat_states,flat_actions))\n",
    "my_dataset = dataset.shuffle(next(my_key))\n",
    "\n",
    "#note: nonstochastic environment here buddy\n",
    "exp_next_states = jax.vmap(env.step)(exp_states,exp_actions,None)\n",
    "exp_rewards = -jax.vmap(env.cost)(exp_states,exp_actions)\n",
    "flat_next_states = jax.tree_map(lambda x: tree_reshaper(x),exp_next_states)\n",
    "flat_rewards = jax.tree_map(lambda x: tree_reshaper(x),exp_rewards)\n",
    "\"\"\"\n",
    "Batch = collections.namedtuple(\n",
    "    'Batch',\n",
    "    ['observations', 'actions', 'rewards', 'masks', 'next_observations'])\n",
    "\"\"\"\n",
    "\n",
    "rl_info_keys = {'obs','act','next','rew'}\n",
    "rl_dict = {'obs:':exp_states,'act':exp_actions,'next':exp_next_states,'rew':exp_rewards}\n",
    "rl_dict_flat = jax.tree_map(lambda x: tree_reshaper(x),rl_dict)\n",
    "rl_dict_ravel = dict()\n",
    "\n",
    "for key in rl_info_keys:\n",
    "    rl_dict_ravel[key] = vmap_ravel_pytree(rl_dict_flat[key])[0]\n",
    "\n",
    "rl_dataset = Data.from_pytree(Flax_Batch(rl_dict_ravel['obs'],\n",
    "                                         rl_dict_ravel['act'],\n",
    "                                         rl_dict_ravel['next'],\n",
    "                                           None, \n",
    "                                        rl_dict_ravel['rew']))\n",
    "# could shuffle if you want.\n",
    "\n",
    "\n"
   ]
  },
  {
   "cell_type": "code",
   "execution_count": 6,
   "id": "d3e44026",
   "metadata": {},
   "outputs": [
    {
     "name": "stdout",
     "output_type": "stream",
     "text": [
      "[[1 2 3]]\n"
     ]
    }
   ],
   "source": [
    "import numpy as np\n",
    "\n",
    "a = np.array([1,2,3])\n",
    "print(a[None])"
   ]
  },
  {
   "cell_type": "code",
   "execution_count": 16,
   "id": "aefa46fa",
   "metadata": {},
   "outputs": [],
   "source": [
    "# train the RL stuff\n",
    "from stanza.rl_tools.iql_learner import Learner\n",
    "from typing import Dict\n",
    "import tqdm\n",
    "from absl import app, flags\n",
    "from tensorboardX import SummaryWriter\n",
    "import flax.linen as nn\n",
    "\n",
    "\n",
    "flag_dict = {'log_interval': 1000, 'eval_interval': 5000, \n",
    "             'batch_size': 20,  'max_steps': int(1e6),\n",
    "             'eval_episodes': 10,\n",
    "             'tqdm': True,\n",
    "             'seed': 42}\n",
    "\n",
    "\n",
    "\n",
    "\n",
    "def iql_init():\n",
    "    \n",
    "    sample_action = env.sample_action(PRNGKey(0))\n",
    "    sample_obs = env.sample_state(PRNGKey(0))\n",
    "    ravel_action, _ = jax.flatten_util.ravel_pytree(sample_action)\n",
    "    ravel_obs, _ = jax.flatten_util.ravel_pytree(sample_obs)\n",
    "\n",
    "    agent = Learner(seed,\n",
    "                    ravel_action[np.newaxis],\n",
    "                    ravel_obs[np.newaxis],\n",
    "                    max_steps=max_steps)\n",
    "\n",
    "    summary_writer = None#\n",
    "    #SummaryWriter(os.path.join(FLAGS.save_dir, 'tb',\n",
    "                                                   # str(FLAGS.seed)),\n",
    "                                   # write_to_disk=True) \n",
    "    #os.makedirs(FLAGS.save_dir, exist_ok=True)\n",
    "    return agent, summary_writer\n",
    "\n",
    "\n",
    "\n",
    "\n",
    "#TODO modify evaluate for your environments\n",
    "def evaluate(agent: nn.Module, env: envs.Environment,\n",
    "             num_episodes: int, traj_length: int) -> Dict[str, float]:\n",
    "    \"\"\"stats = {'return': [], 'length': []}\n",
    "\n",
    "    for _ in range(num_episodes):\n",
    "        \n",
    "        observation, done = env.reset(), False\n",
    "\n",
    "        while not done:\n",
    "            action = agent.sample_actions(observation, temperature=0.0)\n",
    "            observation, _, done, info = env.step(action)\n",
    "\n",
    "        for k in stats.keys():\n",
    "            stats[k].append(info['episode'][k])\n",
    "\n",
    "    for k, v in stats.items():\n",
    "        stats[k] = np.mean(v)\n",
    "\n",
    "    return stats\"\"\"\n",
    "    return 0\n",
    "\n",
    "_,_ = iql_init()\n",
    "#turn actions into obs/action\n",
    "\n",
    "#TODO this should be implemted somewhere in stanza    \n",
    "def sample_a_batch(a_dataset: Data, batchsize : int, key : PRNGKey):\n",
    "    inds = jax.random.randint(key,minval = 0,maxval = a_dataset.length, shape = (batchsize,))\n",
    "    start = a_dataset.start # iterator at the start\n",
    "    batch_advance = jax.vmap(a_dataset.advance, in_axes=(None,0))\n",
    "    iterators = batch_advance(start,inds)\n",
    "    batch_get = jax.vmap(a_dataset.get)\n",
    "    return batch_get(iterators)\n",
    "\n",
    "def to_Flax_Batch(a_batch: Data):\n",
    "    return Flax_Batch()\n"
   ]
  },
  {
   "cell_type": "code",
   "execution_count": 19,
   "id": "6e592b0c",
   "metadata": {},
   "outputs": [
    {
     "name": "stderr",
     "output_type": "stream",
     "text": [
      "  0%|          | 0/1000000 [00:00<?, ?it/s]"
     ]
    },
    {
     "name": "stdout",
     "output_type": "stream",
     "text": [
      "hi\n",
      "Batch(observations=State(angle=Array([ 1.7929245 ,  3.1420758 ,  3.1420658 ,  3.1412294 ,  3.1419492 ,\n",
      "        3.1353874 ,  2.7189033 ,  1.70531   ,  2.273899  ,  3.1417966 ,\n",
      "        3.1013107 ,  2.8646424 ,  3.1421866 ,  3.141653  ,  2.3994043 ,\n",
      "        3.132509  ,  2.643619  , -0.13768749,  1.9886829 ,  2.820491  ],      dtype=float32), vel=Array([ 9.5495671e-01, -1.6166980e-04, -2.4479997e-04, -2.7765523e-04,\n",
      "       -1.9456619e-04,  9.7514940e-03,  4.3176144e-01,  1.1603546e+00,\n",
      "        7.9022473e-01, -1.1147910e-04,  5.1758386e-02,  2.7848008e-01,\n",
      "       -1.9025607e-05, -1.8535415e-04,  6.4511955e-01,  1.3504710e-02,\n",
      "        4.7808081e-01,  1.2592314e+00,  9.7278601e-01,  3.1426808e-01],      dtype=float32)), actions=Array([-2.5236082e-01, -2.2154899e-04, -3.2142874e-05,  1.9770727e-04,\n",
      "        2.9018474e-06, -1.1724297e-02, -3.3656341e-01, -5.5576348e-01,\n",
      "       -5.0384367e-01,  7.3714182e-06, -5.3151295e-02, -2.1151087e-01,\n",
      "       -6.4755173e-04,  4.9462837e-05, -3.6843044e-01, -1.5632015e-02,\n",
      "       -3.3594099e-01,  1.2943227e+00, -5.2149379e-01, -2.2816029e-01],      dtype=float32), rewards=Array([-295.6075, -295.6075, -295.6075, -295.6075, -295.6075, -295.6075,\n",
      "       -295.6075, -295.6075, -295.6075, -295.6075, -295.6075, -263.6007,\n",
      "       -295.6075, -295.6075, -295.6075, -295.6075, -295.6075, -295.6075,\n",
      "       -295.6075, -295.6075], dtype=float32), masks=None, next_observations=State(angle=Array([1.9839158 , 3.1420434 , 3.142017  , 3.1411738 , 3.1419103 ,\n",
      "       3.1373377 , 2.8052557 , 1.9373809 , 2.4319441 , 3.1417742 ,\n",
      "       3.1116624 , 2.9203384 , 3.1421828 , 3.141616  , 2.528428  ,\n",
      "       3.13521   , 2.7392352 , 0.11415879, 2.1832402 , 2.8833447 ],      dtype=float32), vel=Array([ 8.7542641e-01, -1.9470042e-04, -2.3931835e-04, -2.4260246e-04,\n",
      "       -1.8490969e-04,  7.1850158e-03,  3.5192686e-01,  1.0177790e+00,\n",
      "        6.6629690e-01, -1.0481132e-04,  3.9805122e-02,  2.2792466e-01,\n",
      "       -1.3646594e-04, -1.7239990e-04,  5.5146426e-01,  1.0061589e-02,\n",
      "        3.9655888e-01,  1.5082487e+00,  8.4048045e-01,  2.5918108e-01],      dtype=float32)))\n"
     ]
    },
    {
     "name": "stderr",
     "output_type": "stream",
     "text": [
      "\n"
     ]
    },
    {
     "ename": "TypeError",
     "evalue": "concatenate requires ndarray or scalar arguments, got <class 'stanza.envs.pendulum.State'> at position 0.",
     "output_type": "error",
     "traceback": [
      "\u001b[0;31m---------------------------------------------------------------------------\u001b[0m",
      "\u001b[0;31mTypeError\u001b[0m                                 Traceback (most recent call last)",
      "Cell \u001b[0;32mIn[19], line 36\u001b[0m\n\u001b[1;32m     30\u001b[0m             eval_returns\u001b[39m.\u001b[39mappend((i, eval_stats[\u001b[39m'\u001b[39m\u001b[39mreturn\u001b[39m\u001b[39m'\u001b[39m]))\n\u001b[1;32m     31\u001b[0m             np\u001b[39m.\u001b[39msavetxt(os\u001b[39m.\u001b[39mpath\u001b[39m.\u001b[39mjoin(FLAGS\u001b[39m.\u001b[39msave_dir, \u001b[39mf\u001b[39m\u001b[39m'\u001b[39m\u001b[39m{\u001b[39;00mFLAGS\u001b[39m.\u001b[39mseed\u001b[39m}\u001b[39;00m\u001b[39m.txt\u001b[39m\u001b[39m'\u001b[39m),\n\u001b[1;32m     32\u001b[0m                        eval_returns,\n\u001b[1;32m     33\u001b[0m                        fmt\u001b[39m=\u001b[39m[\u001b[39m'\u001b[39m\u001b[39m%d\u001b[39;00m\u001b[39m'\u001b[39m, \u001b[39m'\u001b[39m\u001b[39m%.1f\u001b[39;00m\u001b[39m'\u001b[39m])\n\u001b[0;32m---> 36\u001b[0m train_iql(a_dataset\u001b[39m=\u001b[39;49mrl_dataset , batchsize \u001b[39m=\u001b[39;49m \u001b[39m20\u001b[39;49m, key \u001b[39m=\u001b[39;49m PRNGKey(\u001b[39m42\u001b[39;49m))\n",
      "Cell \u001b[0;32mIn[19], line 11\u001b[0m, in \u001b[0;36mtrain_iql\u001b[0;34m(a_dataset, batchsize, key)\u001b[0m\n\u001b[1;32m      9\u001b[0m \u001b[39mprint\u001b[39m(\u001b[39m'\u001b[39m\u001b[39mhi\u001b[39m\u001b[39m'\u001b[39m)\n\u001b[1;32m     10\u001b[0m \u001b[39mprint\u001b[39m(a_batch)\n\u001b[0;32m---> 11\u001b[0m update_info \u001b[39m=\u001b[39m agent\u001b[39m.\u001b[39;49mupdate(a_batch)\n\u001b[1;32m     13\u001b[0m \u001b[39mif\u001b[39;00m i \u001b[39m%\u001b[39m flag_dict[\u001b[39m'\u001b[39m\u001b[39mlog_interval\u001b[39m\u001b[39m'\u001b[39m] \u001b[39m==\u001b[39m \u001b[39m0\u001b[39m:\n\u001b[1;32m     14\u001b[0m     \u001b[39mfor\u001b[39;00m k, v \u001b[39min\u001b[39;00m update_info\u001b[39m.\u001b[39mitems():\n",
      "File \u001b[0;32m~/Documents/code/stanza/stanza/rl_tools/iql_learner.py:131\u001b[0m, in \u001b[0;36mLearner.update\u001b[0;34m(self, batch)\u001b[0m\n\u001b[1;32m    130\u001b[0m \u001b[39mdef\u001b[39;00m \u001b[39mupdate\u001b[39m(\u001b[39mself\u001b[39m, batch: Batch) \u001b[39m-\u001b[39m\u001b[39m>\u001b[39m InfoDict:\n\u001b[0;32m--> 131\u001b[0m     new_rng, new_actor, new_critic, new_value, new_target_critic, info \u001b[39m=\u001b[39m _update_jit(\n\u001b[1;32m    132\u001b[0m         \u001b[39mself\u001b[39;49m\u001b[39m.\u001b[39;49mrng, \u001b[39mself\u001b[39;49m\u001b[39m.\u001b[39;49mactor, \u001b[39mself\u001b[39;49m\u001b[39m.\u001b[39;49mcritic, \u001b[39mself\u001b[39;49m\u001b[39m.\u001b[39;49mvalue, \u001b[39mself\u001b[39;49m\u001b[39m.\u001b[39;49mtarget_critic,\n\u001b[1;32m    133\u001b[0m         batch, \u001b[39mself\u001b[39;49m\u001b[39m.\u001b[39;49mdiscount, \u001b[39mself\u001b[39;49m\u001b[39m.\u001b[39;49mtau, \u001b[39mself\u001b[39;49m\u001b[39m.\u001b[39;49mexpectile, \u001b[39mself\u001b[39;49m\u001b[39m.\u001b[39;49mtemperature)\n\u001b[1;32m    135\u001b[0m     \u001b[39mself\u001b[39m\u001b[39m.\u001b[39mrng \u001b[39m=\u001b[39m new_rng\n\u001b[1;32m    136\u001b[0m     \u001b[39mself\u001b[39m\u001b[39m.\u001b[39mactor \u001b[39m=\u001b[39m new_actor\n",
      "    \u001b[0;31m[... skipping hidden 12 frame]\u001b[0m\n",
      "File \u001b[0;32m~/Documents/code/stanza/stanza/rl_tools/iql_learner.py:36\u001b[0m, in \u001b[0;36m_update_jit\u001b[0;34m(rng, actor, critic, value, target_critic, batch, discount, tau, expectile, temperature)\u001b[0m\n\u001b[1;32m     29\u001b[0m \u001b[39m@jax\u001b[39m\u001b[39m.\u001b[39mjit\n\u001b[1;32m     30\u001b[0m \u001b[39mdef\u001b[39;00m \u001b[39m_update_jit\u001b[39m(\n\u001b[1;32m     31\u001b[0m     rng: PRNGKey, actor: Model, critic: Model, value: Model,\n\u001b[1;32m     32\u001b[0m     target_critic: Model, batch: Batch, discount: \u001b[39mfloat\u001b[39m, tau: \u001b[39mfloat\u001b[39m,\n\u001b[1;32m     33\u001b[0m     expectile: \u001b[39mfloat\u001b[39m, temperature: \u001b[39mfloat\u001b[39m\n\u001b[1;32m     34\u001b[0m ) \u001b[39m-\u001b[39m\u001b[39m>\u001b[39m Tuple[PRNGKey, Model, Model, Model, Model, Model, InfoDict]:\n\u001b[0;32m---> 36\u001b[0m     new_value, value_info \u001b[39m=\u001b[39m update_v(target_critic, value, batch, expectile)\n\u001b[1;32m     37\u001b[0m     key, rng \u001b[39m=\u001b[39m jax\u001b[39m.\u001b[39mrandom\u001b[39m.\u001b[39msplit(rng)\n\u001b[1;32m     38\u001b[0m     new_actor, actor_info \u001b[39m=\u001b[39m update_a(key, actor, target_critic,\n\u001b[1;32m     39\u001b[0m                                              new_value, batch, temperature)\n",
      "File \u001b[0;32m~/Documents/code/stanza/stanza/rl_tools/iql_update.py:18\u001b[0m, in \u001b[0;36mupdate_v\u001b[0;34m(critic, value, batch, expectile)\u001b[0m\n\u001b[1;32m     15\u001b[0m \u001b[39mdef\u001b[39;00m \u001b[39mupdate_v\u001b[39m(critic: Model, value: Model, batch: Batch,\n\u001b[1;32m     16\u001b[0m              expectile: \u001b[39mfloat\u001b[39m) \u001b[39m-\u001b[39m\u001b[39m>\u001b[39m Tuple[Model, InfoDict]:\n\u001b[1;32m     17\u001b[0m     actions \u001b[39m=\u001b[39m batch\u001b[39m.\u001b[39mactions\n\u001b[0;32m---> 18\u001b[0m     q1, q2 \u001b[39m=\u001b[39m critic(batch\u001b[39m.\u001b[39;49mobservations, actions)\n\u001b[1;32m     19\u001b[0m     q \u001b[39m=\u001b[39m jnp\u001b[39m.\u001b[39mminimum(q1, q2)\n\u001b[1;32m     21\u001b[0m     \u001b[39mdef\u001b[39;00m \u001b[39mvalue_loss_fn\u001b[39m(value_params: Params) \u001b[39m-\u001b[39m\u001b[39m>\u001b[39m Tuple[jnp\u001b[39m.\u001b[39mndarray, InfoDict]:\n",
      "File \u001b[0;32m~/Documents/code/stanza/stanza/rl_tools/flax_models.py:81\u001b[0m, in \u001b[0;36mModel.__call__\u001b[0;34m(self, *args, **kwargs)\u001b[0m\n\u001b[1;32m     80\u001b[0m \u001b[39mdef\u001b[39;00m \u001b[39m__call__\u001b[39m(\u001b[39mself\u001b[39m, \u001b[39m*\u001b[39margs, \u001b[39m*\u001b[39m\u001b[39m*\u001b[39mkwargs):\n\u001b[0;32m---> 81\u001b[0m     \u001b[39mreturn\u001b[39;00m \u001b[39mself\u001b[39;49m\u001b[39m.\u001b[39;49mapply_fn\u001b[39m.\u001b[39;49mapply({\u001b[39m'\u001b[39;49m\u001b[39mparams\u001b[39;49m\u001b[39m'\u001b[39;49m: \u001b[39mself\u001b[39;49m\u001b[39m.\u001b[39;49mparams}, \u001b[39m*\u001b[39;49margs, \u001b[39m*\u001b[39;49m\u001b[39m*\u001b[39;49mkwargs)\n",
      "    \u001b[0;31m[... skipping hidden 6 frame]\u001b[0m\n",
      "File \u001b[0;32m~/Documents/code/stanza/stanza/rl_tools/critic_nets_mlp.py:43\u001b[0m, in \u001b[0;36mDoubleCritic.__call__\u001b[0;34m(self, observations, actions)\u001b[0m\n\u001b[1;32m     40\u001b[0m \u001b[39m@nn\u001b[39m\u001b[39m.\u001b[39mcompact\n\u001b[1;32m     41\u001b[0m \u001b[39mdef\u001b[39;00m \u001b[39m__call__\u001b[39m(\u001b[39mself\u001b[39m, observations: jnp\u001b[39m.\u001b[39mndarray,\n\u001b[1;32m     42\u001b[0m              actions: jnp\u001b[39m.\u001b[39mndarray) \u001b[39m-\u001b[39m\u001b[39m>\u001b[39m Tuple[jnp\u001b[39m.\u001b[39mndarray, jnp\u001b[39m.\u001b[39mndarray]:\n\u001b[0;32m---> 43\u001b[0m     critic1 \u001b[39m=\u001b[39m Critic(\u001b[39mself\u001b[39;49m\u001b[39m.\u001b[39;49mhidden_dims,\n\u001b[1;32m     44\u001b[0m                      activations\u001b[39m=\u001b[39;49m\u001b[39mself\u001b[39;49m\u001b[39m.\u001b[39;49mactivations)(observations, actions)\n\u001b[1;32m     45\u001b[0m     critic2 \u001b[39m=\u001b[39m Critic(\u001b[39mself\u001b[39m\u001b[39m.\u001b[39mhidden_dims,\n\u001b[1;32m     46\u001b[0m                      activations\u001b[39m=\u001b[39m\u001b[39mself\u001b[39m\u001b[39m.\u001b[39mactivations)(observations, actions)\n\u001b[1;32m     47\u001b[0m     \u001b[39mreturn\u001b[39;00m critic1, critic2\n",
      "    \u001b[0;31m[... skipping hidden 2 frame]\u001b[0m\n",
      "File \u001b[0;32m~/Documents/code/stanza/stanza/rl_tools/critic_nets_mlp.py:30\u001b[0m, in \u001b[0;36mCritic.__call__\u001b[0;34m(self, observations, actions)\u001b[0m\n\u001b[1;32m     27\u001b[0m \u001b[39m@nn\u001b[39m\u001b[39m.\u001b[39mcompact\n\u001b[1;32m     28\u001b[0m \u001b[39mdef\u001b[39;00m \u001b[39m__call__\u001b[39m(\u001b[39mself\u001b[39m, observations: jnp\u001b[39m.\u001b[39mndarray,\n\u001b[1;32m     29\u001b[0m              actions: jnp\u001b[39m.\u001b[39mndarray) \u001b[39m-\u001b[39m\u001b[39m>\u001b[39m jnp\u001b[39m.\u001b[39mndarray:\n\u001b[0;32m---> 30\u001b[0m     inputs \u001b[39m=\u001b[39m jnp\u001b[39m.\u001b[39;49mconcatenate([observations, actions], \u001b[39m-\u001b[39;49m\u001b[39m1\u001b[39;49m)\n\u001b[1;32m     31\u001b[0m     critic \u001b[39m=\u001b[39m MLP((\u001b[39m*\u001b[39m\u001b[39mself\u001b[39m\u001b[39m.\u001b[39mhidden_dims, \u001b[39m1\u001b[39m),\n\u001b[1;32m     32\u001b[0m                  activations\u001b[39m=\u001b[39m\u001b[39mself\u001b[39m\u001b[39m.\u001b[39mactivations)(inputs)\n\u001b[1;32m     33\u001b[0m     \u001b[39mreturn\u001b[39;00m jnp\u001b[39m.\u001b[39msqueeze(critic, \u001b[39m-\u001b[39m\u001b[39m1\u001b[39m)\n",
      "File \u001b[0;32m~/Documents/code/stanza/.venv/lib/python3.11/site-packages/jax/_src/numpy/lax_numpy.py:1819\u001b[0m, in \u001b[0;36mconcatenate\u001b[0;34m(arrays, axis, dtype)\u001b[0m\n\u001b[1;32m   1817\u001b[0m \u001b[39mif\u001b[39;00m \u001b[39misinstance\u001b[39m(arrays, (np\u001b[39m.\u001b[39mndarray, Array)):\n\u001b[1;32m   1818\u001b[0m   \u001b[39mreturn\u001b[39;00m _concatenate_array(arrays, axis, dtype\u001b[39m=\u001b[39mdtype)\n\u001b[0;32m-> 1819\u001b[0m util\u001b[39m.\u001b[39;49mcheck_arraylike(\u001b[39m\"\u001b[39;49m\u001b[39mconcatenate\u001b[39;49m\u001b[39m\"\u001b[39;49m, \u001b[39m*\u001b[39;49marrays)\n\u001b[1;32m   1820\u001b[0m \u001b[39mif\u001b[39;00m \u001b[39mnot\u001b[39;00m \u001b[39mlen\u001b[39m(arrays):\n\u001b[1;32m   1821\u001b[0m   \u001b[39mraise\u001b[39;00m \u001b[39mValueError\u001b[39;00m(\u001b[39m\"\u001b[39m\u001b[39mNeed at least one array to concatenate.\u001b[39m\u001b[39m\"\u001b[39m)\n",
      "File \u001b[0;32m~/Documents/code/stanza/.venv/lib/python3.11/site-packages/jax/_src/numpy/util.py:328\u001b[0m, in \u001b[0;36mcheck_arraylike\u001b[0;34m(fun_name, *args)\u001b[0m\n\u001b[1;32m    325\u001b[0m pos, arg \u001b[39m=\u001b[39m \u001b[39mnext\u001b[39m((i, arg) \u001b[39mfor\u001b[39;00m i, arg \u001b[39min\u001b[39;00m \u001b[39menumerate\u001b[39m(args)\n\u001b[1;32m    326\u001b[0m                 \u001b[39mif\u001b[39;00m \u001b[39mnot\u001b[39;00m _arraylike(arg))\n\u001b[1;32m    327\u001b[0m msg \u001b[39m=\u001b[39m \u001b[39m\"\u001b[39m\u001b[39m{}\u001b[39;00m\u001b[39m requires ndarray or scalar arguments, got \u001b[39m\u001b[39m{}\u001b[39;00m\u001b[39m at position \u001b[39m\u001b[39m{}\u001b[39;00m\u001b[39m.\u001b[39m\u001b[39m\"\u001b[39m\n\u001b[0;32m--> 328\u001b[0m \u001b[39mraise\u001b[39;00m \u001b[39mTypeError\u001b[39;00m(msg\u001b[39m.\u001b[39mformat(fun_name, \u001b[39mtype\u001b[39m(arg), pos))\n",
      "\u001b[0;31mTypeError\u001b[0m: concatenate requires ndarray or scalar arguments, got <class 'stanza.envs.pendulum.State'> at position 0."
     ]
    }
   ],
   "source": [
    "def train_iql(a_dataset : Data, batchsize: int, key: PRNGKey):\n",
    "    \n",
    "    eval_returns = []\n",
    "    agent, summary_writer = iql_init() \n",
    "    for i in tqdm.tqdm(range(1, flag_dict['max_steps'] + 1)):\n",
    "        #sample from environment\n",
    "        key, subkey = jax.random.split(key)\n",
    "        a_batch = sample_a_batch(a_dataset=a_dataset,batchsize=batchsize,key=subkey)\n",
    "        print('hi')\n",
    "        print(a_batch)\n",
    "        update_info = agent.update(a_batch)\n",
    "\n",
    "        if i % flag_dict['log_interval'] == 0:\n",
    "            for k, v in update_info.items():\n",
    "                if v.ndim == 0:\n",
    "                    print(f'training/{k}', v, i)\n",
    "                    #summary_writer.add_scalar(f'training/{k}', v, i)\n",
    "                #else:\n",
    "                    #print()\n",
    "                    #summary_writer.add_histogram(f'training/{k}', v, i)\n",
    "            #summary_writer.flush()\n",
    "\n",
    "        if False: #i % FLAGS.eval_interval == 0:\n",
    "            eval_stats = evaluate(agent, env, FLAGS.eval_episodes)\n",
    "\n",
    "            for k, v in eval_stats.items():\n",
    "                summary_writer.add_scalar(f'evaluation/average_{k}s', v, i)\n",
    "            summary_writer.flush()\n",
    "\n",
    "            eval_returns.append((i, eval_stats['return']))\n",
    "            np.savetxt(os.path.join(FLAGS.save_dir, f'{FLAGS.seed}.txt'),\n",
    "                       eval_returns,\n",
    "                       fmt=['%d', '%.1f'])\n",
    "    \n",
    "\n",
    "train_iql(a_dataset=rl_dataset , batchsize = 20, key = PRNGKey(42))\n",
    "                   \n"
   ]
  },
  {
   "cell_type": "code",
   "execution_count": 10,
   "id": "39133e88",
   "metadata": {},
   "outputs": [],
   "source": [
    "# making a net\n",
    "import haiku as hk \n",
    "env_dim  = 1\n",
    "\n",
    "\n",
    "#TODO: add to stanza.util \"dumb max utils\" \n",
    "#stanza.util.fluffy_dog\n",
    "sample_action = env.sample_action(PRNGKey(0))\n",
    "sample_state = env.sample_state(PRNGKey(0))\n",
    "\n",
    "action_flat, action_unflatten = \\\n",
    "    jax.flatten_util.ravel_pytree(sample_action)\n",
    "state_flat, state_unflatten = \\\n",
    "    jax.flatten_util.ravel_pytree(sample_state)\n",
    "\n",
    "# 10 x 10 x 10 inner layer\n",
    "def net(x):\n",
    "    x_flat,_ =  jax.flatten_util.ravel_pytree(x)\n",
    "    net = hk.nets.MLP((10,10,10,action_flat.shape[0]))\n",
    "    y = net(x_flat)\n",
    "    return action_unflatten(y)\n",
    "\n",
    "hk_net = hk.transform(net)\n",
    "params = hk_net.init(next(my_key), sample_state)\n",
    "\n"
   ]
  },
  {
   "cell_type": "code",
   "execution_count": 11,
   "id": "8e1ba57b",
   "metadata": {},
   "outputs": [
    {
     "data": {
      "application/vnd.jupyter.widget-view+json": {
       "model_id": "974cd21c99be43988336ad9d39175638",
       "version_major": 2,
       "version_minor": 0
      },
      "text/plain": [
       "Output()"
      ]
     },
     "metadata": {},
     "output_type": "display_data"
    },
    {
     "data": {
      "text/html": [
       "<pre style=\"white-space:pre;overflow-x:auto;line-height:normal;font-family:Menlo,'DejaVu Sans Mono',consolas,'Courier New',monospace\"><span style=\"color: #7fbfbf; text-decoration-color: #7fbfbf\">[12:51:55] </span><span style=\"color: #008000; text-decoration-color: #008000\">TRACE </span> - <span style=\"color: #808000; text-decoration-color: #808000; font-weight: bold\">&lt;Tracing&gt;</span> Tracing training                                                      <a href=\"file:///Users/msimchowitz1/Documents/code/stanza/stanza/train/__init__.py\" target=\"_blank\"><span style=\"color: #7f7f7f; text-decoration-color: #7f7f7f\">__init__.py</span></a><span style=\"color: #7f7f7f; text-decoration-color: #7f7f7f\">:</span><a href=\"file:///Users/msimchowitz1/Documents/code/stanza/stanza/train/__init__.py#175\" target=\"_blank\"><span style=\"color: #7f7f7f; text-decoration-color: #7f7f7f\">175</span></a>\n",
       "</pre>\n"
      ],
      "text/plain": [
       "\u001b[2;36m[12:51:55]\u001b[0m\u001b[2;36m \u001b[0m\u001b[32mTRACE \u001b[0m - \u001b[1;33m<\u001b[0m\u001b[1;33mTracing\u001b[0m\u001b[1;33m>\u001b[0m Tracing training                                                      \u001b]8;id=803119;file:///Users/msimchowitz1/Documents/code/stanza/stanza/train/__init__.py\u001b\\\u001b[2m__init__.py\u001b[0m\u001b]8;;\u001b\\\u001b[2m:\u001b[0m\u001b]8;id=860680;file:///Users/msimchowitz1/Documents/code/stanza/stanza/train/__init__.py#175\u001b\\\u001b[2m175\u001b[0m\u001b]8;;\u001b\\\n"
      ]
     },
     "metadata": {},
     "output_type": "display_data"
    },
    {
     "data": {
      "text/html": [
       "<pre style=\"white-space:pre;overflow-x:auto;line-height:normal;font-family:Menlo,'DejaVu Sans Mono',consolas,'Courier New',monospace\"><span style=\"color: #7fbfbf; text-decoration-color: #7fbfbf\">           </span><span style=\"color: #008000; text-decoration-color: #008000\">TRACE </span> - <span style=\"color: #808000; text-decoration-color: #808000; font-weight: bold\">&lt;Tracing&gt;</span> Tracing epoch step                                                    <a href=\"file:///Users/msimchowitz1/Documents/code/stanza/stanza/train/__init__.py\" target=\"_blank\"><span style=\"color: #7f7f7f; text-decoration-color: #7f7f7f\">__init__.py</span></a><span style=\"color: #7f7f7f; text-decoration-color: #7f7f7f\">:</span><a href=\"file:///Users/msimchowitz1/Documents/code/stanza/stanza/train/__init__.py#137\" target=\"_blank\"><span style=\"color: #7f7f7f; text-decoration-color: #7f7f7f\">137</span></a>\n",
       "</pre>\n"
      ],
      "text/plain": [
       "\u001b[2;36m          \u001b[0m\u001b[2;36m \u001b[0m\u001b[32mTRACE \u001b[0m - \u001b[1;33m<\u001b[0m\u001b[1;33mTracing\u001b[0m\u001b[1;33m>\u001b[0m Tracing epoch step                                                    \u001b]8;id=805363;file:///Users/msimchowitz1/Documents/code/stanza/stanza/train/__init__.py\u001b\\\u001b[2m__init__.py\u001b[0m\u001b]8;;\u001b\\\u001b[2m:\u001b[0m\u001b]8;id=24561;file:///Users/msimchowitz1/Documents/code/stanza/stanza/train/__init__.py#137\u001b\\\u001b[2m137\u001b[0m\u001b]8;;\u001b\\\n"
      ]
     },
     "metadata": {},
     "output_type": "display_data"
    },
    {
     "data": {
      "text/html": [
       "<pre style=\"white-space:pre;overflow-x:auto;line-height:normal;font-family:Menlo,'DejaVu Sans Mono',consolas,'Courier New',monospace\"><span style=\"color: #7fbfbf; text-decoration-color: #7fbfbf\">           </span><span style=\"color: #008000; text-decoration-color: #008000\">TRACE </span> - <span style=\"color: #808000; text-decoration-color: #808000; font-weight: bold\">&lt;Tracing&gt;</span> Tracing train step                                                     <a href=\"file:///Users/msimchowitz1/Documents/code/stanza/stanza/train/__init__.py\" target=\"_blank\"><span style=\"color: #7f7f7f; text-decoration-color: #7f7f7f\">__init__.py</span></a><span style=\"color: #7f7f7f; text-decoration-color: #7f7f7f\">:</span><a href=\"file:///Users/msimchowitz1/Documents/code/stanza/stanza/train/__init__.py#92\" target=\"_blank\"><span style=\"color: #7f7f7f; text-decoration-color: #7f7f7f\">92</span></a>\n",
       "</pre>\n"
      ],
      "text/plain": [
       "\u001b[2;36m          \u001b[0m\u001b[2;36m \u001b[0m\u001b[32mTRACE \u001b[0m - \u001b[1;33m<\u001b[0m\u001b[1;33mTracing\u001b[0m\u001b[1;33m>\u001b[0m Tracing train step                                                     \u001b]8;id=791938;file:///Users/msimchowitz1/Documents/code/stanza/stanza/train/__init__.py\u001b\\\u001b[2m__init__.py\u001b[0m\u001b]8;;\u001b\\\u001b[2m:\u001b[0m\u001b]8;id=444900;file:///Users/msimchowitz1/Documents/code/stanza/stanza/train/__init__.py#92\u001b\\\u001b[2m92\u001b[0m\u001b]8;;\u001b\\\n"
      ]
     },
     "metadata": {},
     "output_type": "display_data"
    },
    {
     "data": {
      "text/html": [
       "<pre style=\"white-space:pre;overflow-x:auto;line-height:normal;font-family:Menlo,'DejaVu Sans Mono',consolas,'Courier New',monospace\"><span style=\"color: #7fbfbf; text-decoration-color: #7fbfbf\">           </span><span style=\"color: #008000; text-decoration-color: #008000\">TRACE </span> - <span style=\"color: #808000; text-decoration-color: #808000; font-weight: bold\">&lt;Tracing&gt;</span> Tracing batch loss                                                     <a href=\"file:///Users/msimchowitz1/Documents/code/stanza/stanza/train/__init__.py\" target=\"_blank\"><span style=\"color: #7f7f7f; text-decoration-color: #7f7f7f\">__init__.py</span></a><span style=\"color: #7f7f7f; text-decoration-color: #7f7f7f\">:</span><a href=\"file:///Users/msimchowitz1/Documents/code/stanza/stanza/train/__init__.py#58\" target=\"_blank\"><span style=\"color: #7f7f7f; text-decoration-color: #7f7f7f\">58</span></a>\n",
       "</pre>\n"
      ],
      "text/plain": [
       "\u001b[2;36m          \u001b[0m\u001b[2;36m \u001b[0m\u001b[32mTRACE \u001b[0m - \u001b[1;33m<\u001b[0m\u001b[1;33mTracing\u001b[0m\u001b[1;33m>\u001b[0m Tracing batch loss                                                     \u001b]8;id=889149;file:///Users/msimchowitz1/Documents/code/stanza/stanza/train/__init__.py\u001b\\\u001b[2m__init__.py\u001b[0m\u001b]8;;\u001b\\\u001b[2m:\u001b[0m\u001b]8;id=476199;file:///Users/msimchowitz1/Documents/code/stanza/stanza/train/__init__.py#58\u001b\\\u001b[2m58\u001b[0m\u001b]8;;\u001b\\\n"
      ]
     },
     "metadata": {},
     "output_type": "display_data"
    },
    {
     "data": {
      "text/html": [
       "<pre style=\"white-space:pre;overflow-x:auto;line-height:normal;font-family:Menlo,'DejaVu Sans Mono',consolas,'Courier New',monospace\"><span style=\"color: #7fbfbf; text-decoration-color: #7fbfbf\">           </span><span style=\"color: #008000; text-decoration-color: #008000\">TRACE </span> - <span style=\"color: #808000; text-decoration-color: #808000; font-weight: bold\">&lt;Tracing&gt;</span> Tracing train step                                                     <a href=\"file:///Users/msimchowitz1/Documents/code/stanza/stanza/train/__init__.py\" target=\"_blank\"><span style=\"color: #7f7f7f; text-decoration-color: #7f7f7f\">__init__.py</span></a><span style=\"color: #7f7f7f; text-decoration-color: #7f7f7f\">:</span><a href=\"file:///Users/msimchowitz1/Documents/code/stanza/stanza/train/__init__.py#92\" target=\"_blank\"><span style=\"color: #7f7f7f; text-decoration-color: #7f7f7f\">92</span></a>\n",
       "</pre>\n"
      ],
      "text/plain": [
       "\u001b[2;36m          \u001b[0m\u001b[2;36m \u001b[0m\u001b[32mTRACE \u001b[0m - \u001b[1;33m<\u001b[0m\u001b[1;33mTracing\u001b[0m\u001b[1;33m>\u001b[0m Tracing train step                                                     \u001b]8;id=943896;file:///Users/msimchowitz1/Documents/code/stanza/stanza/train/__init__.py\u001b\\\u001b[2m__init__.py\u001b[0m\u001b]8;;\u001b\\\u001b[2m:\u001b[0m\u001b]8;id=987955;file:///Users/msimchowitz1/Documents/code/stanza/stanza/train/__init__.py#92\u001b\\\u001b[2m92\u001b[0m\u001b]8;;\u001b\\\n"
      ]
     },
     "metadata": {},
     "output_type": "display_data"
    },
    {
     "data": {
      "text/html": [
       "<pre style=\"white-space:pre;overflow-x:auto;line-height:normal;font-family:Menlo,'DejaVu Sans Mono',consolas,'Courier New',monospace\"><span style=\"color: #7fbfbf; text-decoration-color: #7fbfbf\">           </span><span style=\"color: #008000; text-decoration-color: #008000\">TRACE </span> - <span style=\"color: #808000; text-decoration-color: #808000; font-weight: bold\">&lt;Tracing&gt;</span> Tracing epoch step                                                    <a href=\"file:///Users/msimchowitz1/Documents/code/stanza/stanza/train/__init__.py\" target=\"_blank\"><span style=\"color: #7f7f7f; text-decoration-color: #7f7f7f\">__init__.py</span></a><span style=\"color: #7f7f7f; text-decoration-color: #7f7f7f\">:</span><a href=\"file:///Users/msimchowitz1/Documents/code/stanza/stanza/train/__init__.py#137\" target=\"_blank\"><span style=\"color: #7f7f7f; text-decoration-color: #7f7f7f\">137</span></a>\n",
       "</pre>\n"
      ],
      "text/plain": [
       "\u001b[2;36m          \u001b[0m\u001b[2;36m \u001b[0m\u001b[32mTRACE \u001b[0m - \u001b[1;33m<\u001b[0m\u001b[1;33mTracing\u001b[0m\u001b[1;33m>\u001b[0m Tracing epoch step                                                    \u001b]8;id=37807;file:///Users/msimchowitz1/Documents/code/stanza/stanza/train/__init__.py\u001b\\\u001b[2m__init__.py\u001b[0m\u001b]8;;\u001b\\\u001b[2m:\u001b[0m\u001b]8;id=245709;file:///Users/msimchowitz1/Documents/code/stanza/stanza/train/__init__.py#137\u001b\\\u001b[2m137\u001b[0m\u001b]8;;\u001b\\\n"
      ]
     },
     "metadata": {},
     "output_type": "display_data"
    },
    {
     "data": {
      "text/html": [
       "<pre style=\"white-space:pre;overflow-x:auto;line-height:normal;font-family:Menlo,'DejaVu Sans Mono',consolas,'Courier New',monospace\"><span style=\"color: #7fbfbf; text-decoration-color: #7fbfbf\">           </span><span style=\"color: #008000; text-decoration-color: #008000\">TRACE </span> - <span style=\"color: #808000; text-decoration-color: #808000; font-weight: bold\">&lt;Tracing&gt;</span> Tracing train step                                                     <a href=\"file:///Users/msimchowitz1/Documents/code/stanza/stanza/train/__init__.py\" target=\"_blank\"><span style=\"color: #7f7f7f; text-decoration-color: #7f7f7f\">__init__.py</span></a><span style=\"color: #7f7f7f; text-decoration-color: #7f7f7f\">:</span><a href=\"file:///Users/msimchowitz1/Documents/code/stanza/stanza/train/__init__.py#92\" target=\"_blank\"><span style=\"color: #7f7f7f; text-decoration-color: #7f7f7f\">92</span></a>\n",
       "</pre>\n"
      ],
      "text/plain": [
       "\u001b[2;36m          \u001b[0m\u001b[2;36m \u001b[0m\u001b[32mTRACE \u001b[0m - \u001b[1;33m<\u001b[0m\u001b[1;33mTracing\u001b[0m\u001b[1;33m>\u001b[0m Tracing train step                                                     \u001b]8;id=407340;file:///Users/msimchowitz1/Documents/code/stanza/stanza/train/__init__.py\u001b\\\u001b[2m__init__.py\u001b[0m\u001b]8;;\u001b\\\u001b[2m:\u001b[0m\u001b]8;id=621392;file:///Users/msimchowitz1/Documents/code/stanza/stanza/train/__init__.py#92\u001b\\\u001b[2m92\u001b[0m\u001b]8;;\u001b\\\n"
      ]
     },
     "metadata": {},
     "output_type": "display_data"
    },
    {
     "data": {
      "text/html": [
       "<pre style=\"white-space:pre;overflow-x:auto;line-height:normal;font-family:Menlo,'DejaVu Sans Mono',consolas,'Courier New',monospace\"><span style=\"color: #7fbfbf; text-decoration-color: #7fbfbf\">           </span><span style=\"color: #008000; text-decoration-color: #008000\">TRACE </span> - <span style=\"color: #808000; text-decoration-color: #808000; font-weight: bold\">&lt;Tracing&gt;</span> Tracing batch loss                                                     <a href=\"file:///Users/msimchowitz1/Documents/code/stanza/stanza/train/__init__.py\" target=\"_blank\"><span style=\"color: #7f7f7f; text-decoration-color: #7f7f7f\">__init__.py</span></a><span style=\"color: #7f7f7f; text-decoration-color: #7f7f7f\">:</span><a href=\"file:///Users/msimchowitz1/Documents/code/stanza/stanza/train/__init__.py#58\" target=\"_blank\"><span style=\"color: #7f7f7f; text-decoration-color: #7f7f7f\">58</span></a>\n",
       "</pre>\n"
      ],
      "text/plain": [
       "\u001b[2;36m          \u001b[0m\u001b[2;36m \u001b[0m\u001b[32mTRACE \u001b[0m - \u001b[1;33m<\u001b[0m\u001b[1;33mTracing\u001b[0m\u001b[1;33m>\u001b[0m Tracing batch loss                                                     \u001b]8;id=169238;file:///Users/msimchowitz1/Documents/code/stanza/stanza/train/__init__.py\u001b\\\u001b[2m__init__.py\u001b[0m\u001b]8;;\u001b\\\u001b[2m:\u001b[0m\u001b]8;id=333155;file:///Users/msimchowitz1/Documents/code/stanza/stanza/train/__init__.py#58\u001b\\\u001b[2m58\u001b[0m\u001b]8;;\u001b\\\n"
      ]
     },
     "metadata": {},
     "output_type": "display_data"
    },
    {
     "data": {
      "text/html": [
       "<pre style=\"white-space:pre;overflow-x:auto;line-height:normal;font-family:Menlo,'DejaVu Sans Mono',consolas,'Courier New',monospace\"><span style=\"color: #7fbfbf; text-decoration-color: #7fbfbf\">[12:51:56] </span><span style=\"color: #008000; text-decoration-color: #008000\">TRACE </span> - <span style=\"color: #808000; text-decoration-color: #808000; font-weight: bold\">&lt;Tracing&gt;</span> Done tracing training                                                 <a href=\"file:///Users/msimchowitz1/Documents/code/stanza/stanza/train/__init__.py\" target=\"_blank\"><span style=\"color: #7f7f7f; text-decoration-color: #7f7f7f\">__init__.py</span></a><span style=\"color: #7f7f7f; text-decoration-color: #7f7f7f\">:</span><a href=\"file:///Users/msimchowitz1/Documents/code/stanza/stanza/train/__init__.py#196\" target=\"_blank\"><span style=\"color: #7f7f7f; text-decoration-color: #7f7f7f\">196</span></a>\n",
       "</pre>\n"
      ],
      "text/plain": [
       "\u001b[2;36m[12:51:56]\u001b[0m\u001b[2;36m \u001b[0m\u001b[32mTRACE \u001b[0m - \u001b[1;33m<\u001b[0m\u001b[1;33mTracing\u001b[0m\u001b[1;33m>\u001b[0m Done tracing training                                                 \u001b]8;id=60680;file:///Users/msimchowitz1/Documents/code/stanza/stanza/train/__init__.py\u001b\\\u001b[2m__init__.py\u001b[0m\u001b]8;;\u001b\\\u001b[2m:\u001b[0m\u001b]8;id=836937;file:///Users/msimchowitz1/Documents/code/stanza/stanza/train/__init__.py#196\u001b\\\u001b[2m196\u001b[0m\u001b]8;;\u001b\\\n"
      ]
     },
     "metadata": {},
     "output_type": "display_data"
    },
    {
     "data": {
      "text/html": [
       "<pre style=\"white-space:pre;overflow-x:auto;line-height:normal;font-family:Menlo,'DejaVu Sans Mono',consolas,'Courier New',monospace\"><span style=\"color: #7fbfbf; text-decoration-color: #7fbfbf\">[12:51:59] </span><span style=\"color: #008000; text-decoration-color: #008000\">TRACE </span> - Starting training                                                               <a href=\"file:///Users/msimchowitz1/Documents/code/stanza/stanza/train/__init__.py\" target=\"_blank\"><span style=\"color: #7f7f7f; text-decoration-color: #7f7f7f\">__init__.py</span></a><span style=\"color: #7f7f7f; text-decoration-color: #7f7f7f\">:</span><a href=\"file:///Users/msimchowitz1/Documents/code/stanza/stanza/train/__init__.py#176\" target=\"_blank\"><span style=\"color: #7f7f7f; text-decoration-color: #7f7f7f\">176</span></a>\n",
       "</pre>\n"
      ],
      "text/plain": [
       "\u001b[2;36m[12:51:59]\u001b[0m\u001b[2;36m \u001b[0m\u001b[32mTRACE \u001b[0m - Starting training                                                               \u001b]8;id=300508;file:///Users/msimchowitz1/Documents/code/stanza/stanza/train/__init__.py\u001b\\\u001b[2m__init__.py\u001b[0m\u001b]8;;\u001b\\\u001b[2m:\u001b[0m\u001b]8;id=11428;file:///Users/msimchowitz1/Documents/code/stanza/stanza/train/__init__.py#176\u001b\\\u001b[2m176\u001b[0m\u001b]8;;\u001b\\\n"
      ]
     },
     "metadata": {},
     "output_type": "display_data"
    },
    {
     "data": {
      "text/html": [
       "<pre style=\"white-space:pre;overflow-x:auto;line-height:normal;font-family:Menlo,'DejaVu Sans Mono',consolas,'Courier New',monospace\"></pre>\n"
      ],
      "text/plain": []
     },
     "metadata": {},
     "output_type": "display_data"
    }
   ],
   "source": [
    "import optax \n",
    "\n",
    "optimizer = optax.adamw(optax.cosine_decay_schedule(1e-3, 5000*10), \n",
    "                        weight_decay=1e-6)\n",
    "\n",
    "def loss_fn(params, rng_key, sample):\n",
    "    x, y = sample\n",
    "    out = hk_net.apply(params, rng_key, x)\n",
    "    dif = jax.tree_map(lambda a,b:a-b, out, y)\n",
    "    flat_dif, _ = jax.flatten_util.ravel_pytree(dif)\n",
    "\n",
    "    #note the sum is trivial for 1d actions\n",
    "    loss = jnp.sum(jnp.square(flat_dif))\n",
    "    stats = {\n",
    "        \"loss\": loss\n",
    "    }\n",
    "    return loss, stats\n",
    "\n",
    "from stanza import Partial\n",
    "from stanza.train import Trainer\n",
    "from stanza.train.rich import RichReporter\n",
    "\n",
    "# uses with the reporter only in this block\n",
    "with RichReporter(iter_interval=50) as cb:\n",
    "        trainer = Trainer(epochs=300, batch_size=30, optimizer=optimizer)\n",
    "        res = trainer.train(\n",
    "            Partial(loss_fn), my_dataset,\n",
    "            PRNGKey(42), mlp_params,\n",
    "            hooks=[cb], jit=True\n",
    "        )\n",
    "\n",
    "\n",
    "\n"
   ]
  },
  {
   "cell_type": "code",
   "execution_count": 13,
   "id": "edb03164",
   "metadata": {},
   "outputs": [
    {
     "name": "stdout",
     "output_type": "stream",
     "text": [
      "loss on trained:\n",
      "187.44075\n",
      "loss on expert:\n",
      "178.18272\n"
     ]
    },
    {
     "data": {
      "text/html": [
       "<video controls  >\n",
       " <source src=\"data:video/mp4;base64,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\" type=\"video/mp4\">\n",
       " Your browser does not support the video tag.\n",
       " </video>"
      ],
      "text/plain": [
       "<IPython.core.display.Video object>"
      ]
     },
     "execution_count": 13,
     "metadata": {},
     "output_type": "execute_result"
    }
   ],
   "source": [
    "\"\"\"\n",
    "train_params = res.fn_params\n",
    "from stanza.policies import PolicyOutput\n",
    "#maps state to action\n",
    "def trained_policy(x):\n",
    "    action = hk_net.apply(train_params, None, x.observation)\n",
    "    return PolicyOutput(action)\n",
    "\n",
    "\n",
    "\n",
    "trained_states, trained_actions = batch_roll(rng_key=next(my_key), \n",
    "                    num_t= num_trajs, my_pol = trained_policy )\n",
    "\n",
    "\n",
    "#final_states = jax.tree_map(lambda x: x[:,my_horizon-1])\n",
    "\n",
    "def average_loss(states,actions):\n",
    "    cost_v= jax.vmap(env.cost)\n",
    "    return jnp.mean(cost_v(states,actions))\n",
    "\n",
    "print(\"loss on trained:\")\n",
    "print(average_loss(trained_states,trained_actions))\n",
    "print(\"loss on expert:\")\n",
    "print(average_loss(exp_states,exp_actions))\n",
    "\n",
    "\n",
    "def render_video(states,traj_number = 0):\n",
    "    render_traj = jax.vmap(env.render)\n",
    "    video = render_traj(jax.tree_map(lambda x: x[traj_number] , states))\n",
    "    video = (255 * video).astype(jnp.uint8)\n",
    "    return video\n",
    "\n",
    "import ffmpegio\n",
    "from IPython.display import Video\n",
    "fps = 10\n",
    "trained_vid = render_video(trained_states)\n",
    "trained_file_name = \"tained_policy_video.mp4\"\n",
    "ffmpegio.video.write(trained_file_name,\n",
    "                     fps,trained_vid,\n",
    "                     overwrite = True, loglevel = \"quiet\")\n",
    "Video(trained_file_name,embed = True)\n",
    "\"\"\""
   ]
  },
  {
   "cell_type": "code",
   "execution_count": null,
   "id": "7dfb9f7f",
   "metadata": {},
   "outputs": [],
   "source": [
    "#learn value from imitation:\n",
    "\n",
    "\n"
   ]
  }
 ],
 "metadata": {
  "kernelspec": {
   "display_name": "Python 3 (ipykernel)",
   "language": "python",
   "name": "python3"
  },
  "language_info": {
   "codemirror_mode": {
    "name": "ipython",
    "version": 3
   },
   "file_extension": ".py",
   "mimetype": "text/x-python",
   "name": "python",
   "nbconvert_exporter": "python",
   "pygments_lexer": "ipython3",
   "version": "3.11.3"
  }
 },
 "nbformat": 4,
 "nbformat_minor": 5
}
