{
 "cells": [
  {
   "cell_type": "code",
   "execution_count": 46,
   "metadata": {},
   "outputs": [
    {
     "name": "stdout",
     "output_type": "stream",
     "text": [
      "The autoreload extension is already loaded. To reload it, use:\n",
      "  %reload_ext autoreload\n"
     ]
    }
   ],
   "source": [
    "%load_ext autoreload\n",
    "%autoreload 2\n",
    "%aimport -jax\n",
    "%aimport -jaxlib"
   ]
  },
  {
   "cell_type": "code",
   "execution_count": 47,
   "metadata": {},
   "outputs": [],
   "source": [
    "import stanza.envs as envs\n",
    "import stanza.policies as policies\n",
    "\n",
    "import jax.flatten_util\n",
    "import jax\n",
    "import jax.numpy as jnp\n",
    "\n",
    "from jax.random import PRNGKey\n",
    "from stanza.util.random import PRNGSequence\n",
    "from stanza.util.logging import logger\n",
    "\n",
    "rng = PRNGSequence(42)\n",
    "env = envs.create(\"quadrotor\")"
   ]
  },
  {
   "cell_type": "code",
   "execution_count": 48,
   "metadata": {},
   "outputs": [
    {
     "name": "stdout",
     "output_type": "stream",
     "text": [
      "State(x=Array(-0.9451697, dtype=float32), z=Array(0.86506915, dtype=float32), phi=Array(0., dtype=float32), x_dot=Array(0., dtype=float32), z_dot=Array(0., dtype=float32), phi_dot=Array(0., dtype=float32))\n"
     ]
    }
   ],
   "source": [
    "print(env.reset(next(rng)))"
   ]
  },
  {
   "cell_type": "code",
   "execution_count": 49,
   "metadata": {},
   "outputs": [],
   "source": [
    "# first step: generate expert trajectories \n",
    "from stanza.policies.mpc import MPC\n",
    "from stanza.solver.ilqr import iLQRSolver\n",
    "my_horizon = 100\n",
    "solver_t = iLQRSolver()\n",
    "expert_policy=MPC(\n",
    "            # Sample action\n",
    "            action_sample=env.sample_action(PRNGKey(0)),\n",
    "            cost_fn=env.cost, \n",
    "            model_fn=env.step,\n",
    "            horizon_length=100,\n",
    "            solver=solver_t,\n",
    "            receed=False\n",
    "        )\n",
    "\n",
    "def rollout_policy(rng_key, my_pol):\n",
    "    # random init angle and angular velocity\n",
    "    x_0 = env.reset(rng_key) \n",
    "    roll = policies.rollout(model = env.step,\n",
    "                     state0 = x_0,\n",
    "                     policy = my_pol,\n",
    "                     length = my_horizon,\n",
    "                     last_state = False)\n",
    "    \n",
    "    return roll.states, roll.actions\n",
    "\n",
    "def batch_roll(rng_key, num_t, my_pol):\n",
    "    roll_fun = jax.vmap(rollout_policy,in_axes=(0,None))\n",
    "    rng_keys = jax.random.split(rng_key,num_t)\n",
    "    return roll_fun(rng_keys,my_pol)\n"
   ]
  },
  {
   "cell_type": "code",
   "execution_count": 50,
   "metadata": {},
   "outputs": [],
   "source": [
    "from stanza.data import Data, PyTreeData\n",
    "expert_data = batch_roll(PRNGKey(42), 200,expert_policy)\n",
    "expert_data  = Data.from_pytree(expert_data)\n",
    "expert_data = expert_data.map(lambda x: Data.from_pytree(x))\n",
    "expert_data = PyTreeData.from_data(expert_data.flatten(), chunk_size=4096)"
   ]
  },
  {
   "cell_type": "code",
   "execution_count": 51,
   "metadata": {},
   "outputs": [
    {
     "data": {
      "text/html": [
       "Finishing last run (ID:89j954z0) before initializing another..."
      ],
      "text/plain": [
       "<IPython.core.display.HTML object>"
      ]
     },
     "metadata": {},
     "output_type": "display_data"
    },
    {
     "data": {
      "text/html": [
       "Waiting for W&B process to finish... <strong style=\"color:green\">(success).</strong>"
      ],
      "text/plain": [
       "<IPython.core.display.HTML object>"
      ]
     },
     "metadata": {},
     "output_type": "display_data"
    },
    {
     "data": {
      "application/vnd.jupyter.widget-view+json": {
       "model_id": "1b6e8edf705b49d3928c2a5d0b5ada8e",
       "version_major": 2,
       "version_minor": 0
      },
      "text/plain": [
       "VBox(children=(Label(value='0.003 MB of 0.003 MB uploaded (0.000 MB deduped)\\r'), FloatProgress(value=1.0, max…"
      ]
     },
     "metadata": {},
     "output_type": "display_data"
    },
    {
     "data": {
      "text/html": [
       " View run <strong style=\"color:#cdcd00\">hopeful-fire-15</strong> at: <a href='https://wandb.ai/dpfrommer-projects/quadrotor_mlp/runs/89j954z0' target=\"_blank\">https://wandb.ai/dpfrommer-projects/quadrotor_mlp/runs/89j954z0</a><br/>Synced 5 W&B file(s), 0 media file(s), 0 artifact file(s) and 0 other file(s)"
      ],
      "text/plain": [
       "<IPython.core.display.HTML object>"
      ]
     },
     "metadata": {},
     "output_type": "display_data"
    },
    {
     "data": {
      "text/html": [
       "Find logs at: <code>./wandb/run-20230911_191051-89j954z0/logs</code>"
      ],
      "text/plain": [
       "<IPython.core.display.HTML object>"
      ]
     },
     "metadata": {},
     "output_type": "display_data"
    },
    {
     "data": {
      "text/html": [
       "Successfully finished last run (ID:89j954z0). Initializing new run:<br/>"
      ],
      "text/plain": [
       "<IPython.core.display.HTML object>"
      ]
     },
     "metadata": {},
     "output_type": "display_data"
    },
    {
     "data": {
      "application/vnd.jupyter.widget-view+json": {
       "model_id": "353b9878fe654fc5a008f6152636f0fa",
       "version_major": 2,
       "version_minor": 0
      },
      "text/plain": [
       "VBox(children=(Label(value='Waiting for wandb.init()...\\r'), FloatProgress(value=0.01667169181667608, max=1.0)…"
      ]
     },
     "metadata": {},
     "output_type": "display_data"
    },
    {
     "data": {
      "text/html": [
       "wandb version 0.15.10 is available!  To upgrade, please run:\n",
       " $ pip install wandb --upgrade"
      ],
      "text/plain": [
       "<IPython.core.display.HTML object>"
      ]
     },
     "metadata": {},
     "output_type": "display_data"
    },
    {
     "data": {
      "text/html": [
       "Tracking run with wandb version 0.13.11"
      ],
      "text/plain": [
       "<IPython.core.display.HTML object>"
      ]
     },
     "metadata": {},
     "output_type": "display_data"
    },
    {
     "data": {
      "text/html": [
       "Run data is saved locally in <code>/home/daniel/Documents/code/stable_imitation/stanza/notebooks/wandb/run-20230911_191109-djybkg72</code>"
      ],
      "text/plain": [
       "<IPython.core.display.HTML object>"
      ]
     },
     "metadata": {},
     "output_type": "display_data"
    },
    {
     "data": {
      "text/html": [
       "Syncing run <strong><a href='https://wandb.ai/dpfrommer-projects/quadrotor_mlp/runs/djybkg72' target=\"_blank\">mild-snowball-16</a></strong> to <a href='https://wandb.ai/dpfrommer-projects/quadrotor_mlp' target=\"_blank\">Weights & Biases</a> (<a href='https://wandb.me/run' target=\"_blank\">docs</a>)<br/>"
      ],
      "text/plain": [
       "<IPython.core.display.HTML object>"
      ]
     },
     "metadata": {},
     "output_type": "display_data"
    },
    {
     "data": {
      "text/html": [
       " View project at <a href='https://wandb.ai/dpfrommer-projects/quadrotor_mlp' target=\"_blank\">https://wandb.ai/dpfrommer-projects/quadrotor_mlp</a>"
      ],
      "text/plain": [
       "<IPython.core.display.HTML object>"
      ]
     },
     "metadata": {},
     "output_type": "display_data"
    },
    {
     "data": {
      "text/html": [
       " View run at <a href='https://wandb.ai/dpfrommer-projects/quadrotor_mlp/runs/djybkg72' target=\"_blank\">https://wandb.ai/dpfrommer-projects/quadrotor_mlp/runs/djybkg72</a>"
      ],
      "text/plain": [
       "<IPython.core.display.HTML object>"
      ]
     },
     "metadata": {},
     "output_type": "display_data"
    },
    {
     "data": {
      "text/html": [
       "<pre style=\"white-space:pre;overflow-x:auto;line-height:normal;font-family:Menlo,'DejaVu Sans Mono',consolas,'Courier New',monospace\"><span style=\"color: #7fbfbf; text-decoration-color: #7fbfbf\">[19:11:17] </span><span style=\"color: #c0c0c0; text-decoration-color: #c0c0c0\">INFO  </span> - Logging to <span style=\"color: #000080; text-decoration-color: #000080\">mild-snowball-</span><span style=\"color: #000080; text-decoration-color: #000080; font-weight: bold\">16</span>                                                     <a href=\"file:///tmp/ipykernel_8675/3449362941.py\" target=\"_blank\"><span style=\"color: #7f7f7f; text-decoration-color: #7f7f7f\">3449362941.py</span></a><span style=\"color: #7f7f7f; text-decoration-color: #7f7f7f\">:</span><a href=\"file:///tmp/ipykernel_8675/3449362941.py#4\" target=\"_blank\"><span style=\"color: #7f7f7f; text-decoration-color: #7f7f7f\">4</span></a>\n",
       "</pre>\n"
      ],
      "text/plain": [
       "\u001b[2;36m[19:11:17]\u001b[0m\u001b[2;36m \u001b[0m\u001b[37mINFO  \u001b[0m - Logging to \u001b[34mmild-snowball-\u001b[0m\u001b[1;34m16\u001b[0m                                                     \u001b]8;id=951324;file:///tmp/ipykernel_8675/3449362941.py\u001b\\\u001b[2m3449362941.py\u001b[0m\u001b]8;;\u001b\\\u001b[2m:\u001b[0m\u001b]8;id=674049;file:///tmp/ipykernel_8675/3449362941.py#4\u001b\\\u001b[2m4\u001b[0m\u001b]8;;\u001b\\\n"
      ]
     },
     "metadata": {},
     "output_type": "display_data"
    }
   ],
   "source": [
    "from stanza.reporting.wandb import WandbDatabase\n",
    "\n",
    "db = WandbDatabase(\"dpfrommer-projects/quadrotor_mlp\").create()\n",
    "logger.info(f\"Logging to [blue]{db.name}[/blue]\")\n"
   ]
  },
  {
   "cell_type": "code",
   "execution_count": 52,
   "metadata": {},
   "outputs": [],
   "source": [
    "from stanza.nets.mlp import MLP\n",
    "import chex\n",
    "\n",
    "action_flat, action_uf = jax.flatten_util.ravel_pytree(env.sample_action(PRNGKey(0)))\n",
    "state_flat, state_uf = jax.flatten_util.ravel_pytree(env.sample_state(PRNGKey(0)))\n",
    "model = MLP([100, 100, 100, action_flat.shape[0]])\n",
    "\n",
    "def loss_fn(state, params, _rng_key, sample):\n",
    "    x, y = sample\n",
    "    y_flat, _ = jax.flatten_util.ravel_pytree(y)\n",
    "    x_flat, _ = jax.flatten_util.ravel_pytree(x)\n",
    "    chex.assert_equal_shape([y_flat, action_flat])\n",
    "    chex.assert_equal_shape([x_flat, state_flat])\n",
    "    a_flat = model.apply(params, x_flat)\n",
    "    loss = jnp.sum(jnp.square(y_flat-a_flat))\n",
    "    stats = {'loss': loss}\n",
    "    return state, loss, stats\n",
    "\n",
    "def model_policy(params, input):\n",
    "    x_flat, _ = jax.flatten_util.ravel_pytree(input.observation)\n",
    "    a_flat = model.apply(params, x_flat)\n",
    "    action = action_uf(a_flat)\n",
    "    return policies.PolicyOutput(action)\n"
   ]
  },
  {
   "cell_type": "code",
   "execution_count": 53,
   "metadata": {},
   "outputs": [
    {
     "data": {
      "application/vnd.jupyter.widget-view+json": {
       "model_id": "67d50e78cc8a4bdc8be5677cc183fa38",
       "version_major": 2,
       "version_minor": 0
      },
      "text/plain": [
       "Output()"
      ]
     },
     "metadata": {},
     "output_type": "display_data"
    },
    {
     "data": {
      "text/html": [
       "<pre style=\"white-space:pre;overflow-x:auto;line-height:normal;font-family:Menlo,'DejaVu Sans Mono',consolas,'Courier New',monospace\"><span style=\"color: #7fbfbf; text-decoration-color: #7fbfbf\">[19:11:18] </span><span style=\"color: #c0c0c0; text-decoration-color: #c0c0c0\">INFO  </span> - Initializing model<span style=\"color: #808000; text-decoration-color: #808000\">...</span>                                                          <a href=\"file:///tmp/ipykernel_8675/3682103474.py\" target=\"_blank\"><span style=\"color: #7f7f7f; text-decoration-color: #7f7f7f\">3682103474.py</span></a><span style=\"color: #7f7f7f; text-decoration-color: #7f7f7f\">:</span><a href=\"file:///tmp/ipykernel_8675/3682103474.py#50\" target=\"_blank\"><span style=\"color: #7f7f7f; text-decoration-color: #7f7f7f\">50</span></a>\n",
       "</pre>\n"
      ],
      "text/plain": [
       "\u001b[2;36m[19:11:18]\u001b[0m\u001b[2;36m \u001b[0m\u001b[37mINFO  \u001b[0m - Initializing model\u001b[33m...\u001b[0m                                                          \u001b]8;id=615020;file:///tmp/ipykernel_8675/3682103474.py\u001b\\\u001b[2m3682103474.py\u001b[0m\u001b]8;;\u001b\\\u001b[2m:\u001b[0m\u001b]8;id=631349;file:///tmp/ipykernel_8675/3682103474.py#50\u001b\\\u001b[2m50\u001b[0m\u001b]8;;\u001b\\\n"
      ]
     },
     "metadata": {},
     "output_type": "display_data"
    },
    {
     "data": {
      "text/html": [
       "<pre style=\"white-space:pre;overflow-x:auto;line-height:normal;font-family:Menlo,'DejaVu Sans Mono',consolas,'Courier New',monospace\"><span style=\"color: #7fbfbf; text-decoration-color: #7fbfbf\">           </span><span style=\"color: #c0c0c0; text-decoration-color: #c0c0c0\">INFO  </span> - Training<span style=\"color: #808000; text-decoration-color: #808000\">...</span>                                                                    <a href=\"file:///tmp/ipykernel_8675/3682103474.py\" target=\"_blank\"><span style=\"color: #7f7f7f; text-decoration-color: #7f7f7f\">3682103474.py</span></a><span style=\"color: #7f7f7f; text-decoration-color: #7f7f7f\">:</span><a href=\"file:///tmp/ipykernel_8675/3682103474.py#52\" target=\"_blank\"><span style=\"color: #7f7f7f; text-decoration-color: #7f7f7f\">52</span></a>\n",
       "</pre>\n"
      ],
      "text/plain": [
       "\u001b[2;36m          \u001b[0m\u001b[2;36m \u001b[0m\u001b[37mINFO  \u001b[0m - Training\u001b[33m...\u001b[0m                                                                    \u001b]8;id=443566;file:///tmp/ipykernel_8675/3682103474.py\u001b\\\u001b[2m3682103474.py\u001b[0m\u001b]8;;\u001b\\\u001b[2m:\u001b[0m\u001b]8;id=37875;file:///tmp/ipykernel_8675/3682103474.py#52\u001b\\\u001b[2m52\u001b[0m\u001b]8;;\u001b\\\n"
      ]
     },
     "metadata": {},
     "output_type": "display_data"
    },
    {
     "data": {
      "text/html": [
       "<pre style=\"white-space:pre;overflow-x:auto;line-height:normal;font-family:Menlo,'DejaVu Sans Mono',consolas,'Courier New',monospace\"><span style=\"color: #7fbfbf; text-decoration-color: #7fbfbf\">           </span><span style=\"color: #008000; text-decoration-color: #008000\">TRACE </span> - <span style=\"color: #808000; text-decoration-color: #808000; font-weight: bold\">&lt;Tracing&gt;</span> Tracing batch loss                                                    <a href=\"file:///home/daniel/Documents/code/stable_imitation/stanza/stanza/train/__init__.py\" target=\"_blank\"><span style=\"color: #7f7f7f; text-decoration-color: #7f7f7f\">__init__.py</span></a><span style=\"color: #7f7f7f; text-decoration-color: #7f7f7f\">:</span><a href=\"file:///home/daniel/Documents/code/stable_imitation/stanza/stanza/train/__init__.py#279\" target=\"_blank\"><span style=\"color: #7f7f7f; text-decoration-color: #7f7f7f\">279</span></a>\n",
       "</pre>\n"
      ],
      "text/plain": [
       "\u001b[2;36m          \u001b[0m\u001b[2;36m \u001b[0m\u001b[32mTRACE \u001b[0m - \u001b[1;33m<\u001b[0m\u001b[1;33mTracing\u001b[0m\u001b[1;33m>\u001b[0m Tracing batch loss                                                    \u001b]8;id=540541;file:///home/daniel/Documents/code/stable_imitation/stanza/stanza/train/__init__.py\u001b\\\u001b[2m__init__.py\u001b[0m\u001b]8;;\u001b\\\u001b[2m:\u001b[0m\u001b]8;id=753467;file:///home/daniel/Documents/code/stable_imitation/stanza/stanza/train/__init__.py#279\u001b\\\u001b[2m279\u001b[0m\u001b]8;;\u001b\\\n"
      ]
     },
     "metadata": {},
     "output_type": "display_data"
    },
    {
     "data": {
      "text/html": [
       "<pre style=\"white-space:pre;overflow-x:auto;line-height:normal;font-family:Menlo,'DejaVu Sans Mono',consolas,'Courier New',monospace\"><span style=\"color: #7fbfbf; text-decoration-color: #7fbfbf\">           </span><span style=\"color: #008000; text-decoration-color: #008000\">TRACE </span> - <span style=\"color: #808000; text-decoration-color: #808000; font-weight: bold\">&lt;Tracing&gt;</span> Tracing training                                                      <a href=\"file:///home/daniel/Documents/code/stable_imitation/stanza/stanza/train/__init__.py\" target=\"_blank\"><span style=\"color: #7f7f7f; text-decoration-color: #7f7f7f\">__init__.py</span></a><span style=\"color: #7f7f7f; text-decoration-color: #7f7f7f\">:</span><a href=\"file:///home/daniel/Documents/code/stable_imitation/stanza/stanza/train/__init__.py#122\" target=\"_blank\"><span style=\"color: #7f7f7f; text-decoration-color: #7f7f7f\">122</span></a>\n",
       "</pre>\n"
      ],
      "text/plain": [
       "\u001b[2;36m          \u001b[0m\u001b[2;36m \u001b[0m\u001b[32mTRACE \u001b[0m - \u001b[1;33m<\u001b[0m\u001b[1;33mTracing\u001b[0m\u001b[1;33m>\u001b[0m Tracing training                                                      \u001b]8;id=152848;file:///home/daniel/Documents/code/stable_imitation/stanza/stanza/train/__init__.py\u001b\\\u001b[2m__init__.py\u001b[0m\u001b]8;;\u001b\\\u001b[2m:\u001b[0m\u001b]8;id=837558;file:///home/daniel/Documents/code/stable_imitation/stanza/stanza/train/__init__.py#122\u001b\\\u001b[2m122\u001b[0m\u001b]8;;\u001b\\\n"
      ]
     },
     "metadata": {},
     "output_type": "display_data"
    },
    {
     "data": {
      "text/html": [
       "<pre style=\"white-space:pre;overflow-x:auto;line-height:normal;font-family:Menlo,'DejaVu Sans Mono',consolas,'Courier New',monospace\"><span style=\"color: #7fbfbf; text-decoration-color: #7fbfbf\">           </span><span style=\"color: #008000; text-decoration-color: #008000\">TRACE </span> - <span style=\"color: #808000; text-decoration-color: #808000; font-weight: bold\">&lt;Tracing&gt;</span> Tracing epoch step                                                    <a href=\"file:///home/daniel/Documents/code/stable_imitation/stanza/stanza/train/__init__.py\" target=\"_blank\"><span style=\"color: #7f7f7f; text-decoration-color: #7f7f7f\">__init__.py</span></a><span style=\"color: #7f7f7f; text-decoration-color: #7f7f7f\">:</span><a href=\"file:///home/daniel/Documents/code/stable_imitation/stanza/stanza/train/__init__.py#104\" target=\"_blank\"><span style=\"color: #7f7f7f; text-decoration-color: #7f7f7f\">104</span></a>\n",
       "</pre>\n"
      ],
      "text/plain": [
       "\u001b[2;36m          \u001b[0m\u001b[2;36m \u001b[0m\u001b[32mTRACE \u001b[0m - \u001b[1;33m<\u001b[0m\u001b[1;33mTracing\u001b[0m\u001b[1;33m>\u001b[0m Tracing epoch step                                                    \u001b]8;id=611457;file:///home/daniel/Documents/code/stable_imitation/stanza/stanza/train/__init__.py\u001b\\\u001b[2m__init__.py\u001b[0m\u001b]8;;\u001b\\\u001b[2m:\u001b[0m\u001b]8;id=617235;file:///home/daniel/Documents/code/stable_imitation/stanza/stanza/train/__init__.py#104\u001b\\\u001b[2m104\u001b[0m\u001b]8;;\u001b\\\n"
      ]
     },
     "metadata": {},
     "output_type": "display_data"
    },
    {
     "data": {
      "text/html": [
       "<pre style=\"white-space:pre;overflow-x:auto;line-height:normal;font-family:Menlo,'DejaVu Sans Mono',consolas,'Courier New',monospace\"><span style=\"color: #7fbfbf; text-decoration-color: #7fbfbf\">           </span><span style=\"color: #008000; text-decoration-color: #008000\">TRACE </span> - <span style=\"color: #808000; text-decoration-color: #808000; font-weight: bold\">&lt;Tracing&gt;</span> Tracing train step                                                     <a href=\"file:///home/daniel/Documents/code/stable_imitation/stanza/stanza/train/__init__.py\" target=\"_blank\"><span style=\"color: #7f7f7f; text-decoration-color: #7f7f7f\">__init__.py</span></a><span style=\"color: #7f7f7f; text-decoration-color: #7f7f7f\">:</span><a href=\"file:///home/daniel/Documents/code/stable_imitation/stanza/stanza/train/__init__.py#69\" target=\"_blank\"><span style=\"color: #7f7f7f; text-decoration-color: #7f7f7f\">69</span></a>\n",
       "</pre>\n"
      ],
      "text/plain": [
       "\u001b[2;36m          \u001b[0m\u001b[2;36m \u001b[0m\u001b[32mTRACE \u001b[0m - \u001b[1;33m<\u001b[0m\u001b[1;33mTracing\u001b[0m\u001b[1;33m>\u001b[0m Tracing train step                                                     \u001b]8;id=231443;file:///home/daniel/Documents/code/stable_imitation/stanza/stanza/train/__init__.py\u001b\\\u001b[2m__init__.py\u001b[0m\u001b]8;;\u001b\\\u001b[2m:\u001b[0m\u001b]8;id=102019;file:///home/daniel/Documents/code/stable_imitation/stanza/stanza/train/__init__.py#69\u001b\\\u001b[2m69\u001b[0m\u001b]8;;\u001b\\\n"
      ]
     },
     "metadata": {},
     "output_type": "display_data"
    },
    {
     "data": {
      "text/html": [
       "<pre style=\"white-space:pre;overflow-x:auto;line-height:normal;font-family:Menlo,'DejaVu Sans Mono',consolas,'Courier New',monospace\"><span style=\"color: #7fbfbf; text-decoration-color: #7fbfbf\">           </span><span style=\"color: #008000; text-decoration-color: #008000\">TRACE </span> - <span style=\"color: #808000; text-decoration-color: #808000; font-weight: bold\">&lt;Tracing&gt;</span> Done tracing training                                                 <a href=\"file:///home/daniel/Documents/code/stable_imitation/stanza/stanza/train/__init__.py\" target=\"_blank\"><span style=\"color: #7f7f7f; text-decoration-color: #7f7f7f\">__init__.py</span></a><span style=\"color: #7f7f7f; text-decoration-color: #7f7f7f\">:</span><a href=\"file:///home/daniel/Documents/code/stable_imitation/stanza/stanza/train/__init__.py#131\" target=\"_blank\"><span style=\"color: #7f7f7f; text-decoration-color: #7f7f7f\">131</span></a>\n",
       "</pre>\n"
      ],
      "text/plain": [
       "\u001b[2;36m          \u001b[0m\u001b[2;36m \u001b[0m\u001b[32mTRACE \u001b[0m - \u001b[1;33m<\u001b[0m\u001b[1;33mTracing\u001b[0m\u001b[1;33m>\u001b[0m Done tracing training                                                 \u001b]8;id=605463;file:///home/daniel/Documents/code/stable_imitation/stanza/stanza/train/__init__.py\u001b\\\u001b[2m__init__.py\u001b[0m\u001b]8;;\u001b\\\u001b[2m:\u001b[0m\u001b]8;id=606715;file:///home/daniel/Documents/code/stable_imitation/stanza/stanza/train/__init__.py#131\u001b\\\u001b[2m131\u001b[0m\u001b]8;;\u001b\\\n"
      ]
     },
     "metadata": {},
     "output_type": "display_data"
    },
    {
     "data": {
      "text/html": [
       "<pre style=\"white-space:pre;overflow-x:auto;line-height:normal;font-family:Menlo,'DejaVu Sans Mono',consolas,'Courier New',monospace\"><span style=\"color: #7fbfbf; text-decoration-color: #7fbfbf\">[19:11:23] </span><span style=\"color: #c0c0c0; text-decoration-color: #c0c0c0\">INFO  </span> - Iteration <span style=\"color: #008080; text-decoration-color: #008080; font-weight: bold\">1000</span>:                                                                      <a href=\"file:///home/daniel/Documents/code/stable_imitation/stanza/stanza/util/loop.py\" target=\"_blank\"><span style=\"color: #7f7f7f; text-decoration-color: #7f7f7f\">loop.py</span></a><span style=\"color: #7f7f7f; text-decoration-color: #7f7f7f\">:</span><a href=\"file:///home/daniel/Documents/code/stable_imitation/stanza/stanza/util/loop.py#85\" target=\"_blank\"><span style=\"color: #7f7f7f; text-decoration-color: #7f7f7f\">85</span></a>\n",
       "<span style=\"color: #7fbfbf; text-decoration-color: #7fbfbf\">           </span>test.cost: <span style=\"color: #008080; text-decoration-color: #008080; font-weight: bold\">0.32043641805648804</span>                                                                <span style=\"color: #7f7f7f; text-decoration-color: #7f7f7f\">          </span>\n",
       "<span style=\"color: #7fbfbf; text-decoration-color: #7fbfbf\">           </span>train.loss: <span style=\"color: #008080; text-decoration-color: #008080; font-weight: bold\">0.00753435492515564</span>                                                               <span style=\"color: #7f7f7f; text-decoration-color: #7f7f7f\">          </span>\n",
       "</pre>\n"
      ],
      "text/plain": [
       "\u001b[2;36m[19:11:23]\u001b[0m\u001b[2;36m \u001b[0m\u001b[37mINFO  \u001b[0m - Iteration \u001b[1;36m1000\u001b[0m:                                                                      \u001b]8;id=173667;file:///home/daniel/Documents/code/stable_imitation/stanza/stanza/util/loop.py\u001b\\\u001b[2mloop.py\u001b[0m\u001b]8;;\u001b\\\u001b[2m:\u001b[0m\u001b]8;id=808612;file:///home/daniel/Documents/code/stable_imitation/stanza/stanza/util/loop.py#85\u001b\\\u001b[2m85\u001b[0m\u001b]8;;\u001b\\\n",
       "\u001b[2;36m           \u001b[0mtest.cost: \u001b[1;36m0.32043641805648804\u001b[0m                                                                \u001b[2m          \u001b[0m\n",
       "\u001b[2;36m           \u001b[0mtrain.loss: \u001b[1;36m0.00753435492515564\u001b[0m                                                               \u001b[2m          \u001b[0m\n"
      ]
     },
     "metadata": {},
     "output_type": "display_data"
    },
    {
     "data": {
      "text/html": [
       "<pre style=\"white-space:pre;overflow-x:auto;line-height:normal;font-family:Menlo,'DejaVu Sans Mono',consolas,'Courier New',monospace\"><span style=\"color: #7fbfbf; text-decoration-color: #7fbfbf\">[19:11:25] </span><span style=\"color: #c0c0c0; text-decoration-color: #c0c0c0\">INFO  </span> - Iteration <span style=\"color: #008080; text-decoration-color: #008080; font-weight: bold\">2000</span>:                                                                      <a href=\"file:///home/daniel/Documents/code/stable_imitation/stanza/stanza/util/loop.py\" target=\"_blank\"><span style=\"color: #7f7f7f; text-decoration-color: #7f7f7f\">loop.py</span></a><span style=\"color: #7f7f7f; text-decoration-color: #7f7f7f\">:</span><a href=\"file:///home/daniel/Documents/code/stable_imitation/stanza/stanza/util/loop.py#85\" target=\"_blank\"><span style=\"color: #7f7f7f; text-decoration-color: #7f7f7f\">85</span></a>\n",
       "<span style=\"color: #7fbfbf; text-decoration-color: #7fbfbf\">           </span>test.cost: <span style=\"color: #008080; text-decoration-color: #008080; font-weight: bold\">0.3108740746974945</span>                                                                 <span style=\"color: #7f7f7f; text-decoration-color: #7f7f7f\">          </span>\n",
       "<span style=\"color: #7fbfbf; text-decoration-color: #7fbfbf\">           </span>train.loss: <span style=\"color: #008080; text-decoration-color: #008080; font-weight: bold\">0.002804946154356003</span>                                                              <span style=\"color: #7f7f7f; text-decoration-color: #7f7f7f\">          </span>\n",
       "</pre>\n"
      ],
      "text/plain": [
       "\u001b[2;36m[19:11:25]\u001b[0m\u001b[2;36m \u001b[0m\u001b[37mINFO  \u001b[0m - Iteration \u001b[1;36m2000\u001b[0m:                                                                      \u001b]8;id=243069;file:///home/daniel/Documents/code/stable_imitation/stanza/stanza/util/loop.py\u001b\\\u001b[2mloop.py\u001b[0m\u001b]8;;\u001b\\\u001b[2m:\u001b[0m\u001b]8;id=233545;file:///home/daniel/Documents/code/stable_imitation/stanza/stanza/util/loop.py#85\u001b\\\u001b[2m85\u001b[0m\u001b]8;;\u001b\\\n",
       "\u001b[2;36m           \u001b[0mtest.cost: \u001b[1;36m0.3108740746974945\u001b[0m                                                                 \u001b[2m          \u001b[0m\n",
       "\u001b[2;36m           \u001b[0mtrain.loss: \u001b[1;36m0.002804946154356003\u001b[0m                                                              \u001b[2m          \u001b[0m\n"
      ]
     },
     "metadata": {},
     "output_type": "display_data"
    },
    {
     "data": {
      "text/html": [
       "<pre style=\"white-space:pre;overflow-x:auto;line-height:normal;font-family:Menlo,'DejaVu Sans Mono',consolas,'Courier New',monospace\"><span style=\"color: #7fbfbf; text-decoration-color: #7fbfbf\">[19:11:28] </span><span style=\"color: #c0c0c0; text-decoration-color: #c0c0c0\">INFO  </span> - Iteration <span style=\"color: #008080; text-decoration-color: #008080; font-weight: bold\">3000</span>:                                                                      <a href=\"file:///home/daniel/Documents/code/stable_imitation/stanza/stanza/util/loop.py\" target=\"_blank\"><span style=\"color: #7f7f7f; text-decoration-color: #7f7f7f\">loop.py</span></a><span style=\"color: #7f7f7f; text-decoration-color: #7f7f7f\">:</span><a href=\"file:///home/daniel/Documents/code/stable_imitation/stanza/stanza/util/loop.py#85\" target=\"_blank\"><span style=\"color: #7f7f7f; text-decoration-color: #7f7f7f\">85</span></a>\n",
       "<span style=\"color: #7fbfbf; text-decoration-color: #7fbfbf\">           </span>test.cost: <span style=\"color: #008080; text-decoration-color: #008080; font-weight: bold\">0.3106549382209778</span>                                                                 <span style=\"color: #7f7f7f; text-decoration-color: #7f7f7f\">          </span>\n",
       "<span style=\"color: #7fbfbf; text-decoration-color: #7fbfbf\">           </span>train.loss: <span style=\"color: #008080; text-decoration-color: #008080; font-weight: bold\">0.010563967749476433</span>                                                              <span style=\"color: #7f7f7f; text-decoration-color: #7f7f7f\">          </span>\n",
       "</pre>\n"
      ],
      "text/plain": [
       "\u001b[2;36m[19:11:28]\u001b[0m\u001b[2;36m \u001b[0m\u001b[37mINFO  \u001b[0m - Iteration \u001b[1;36m3000\u001b[0m:                                                                      \u001b]8;id=471573;file:///home/daniel/Documents/code/stable_imitation/stanza/stanza/util/loop.py\u001b\\\u001b[2mloop.py\u001b[0m\u001b]8;;\u001b\\\u001b[2m:\u001b[0m\u001b]8;id=39215;file:///home/daniel/Documents/code/stable_imitation/stanza/stanza/util/loop.py#85\u001b\\\u001b[2m85\u001b[0m\u001b]8;;\u001b\\\n",
       "\u001b[2;36m           \u001b[0mtest.cost: \u001b[1;36m0.3106549382209778\u001b[0m                                                                 \u001b[2m          \u001b[0m\n",
       "\u001b[2;36m           \u001b[0mtrain.loss: \u001b[1;36m0.010563967749476433\u001b[0m                                                              \u001b[2m          \u001b[0m\n"
      ]
     },
     "metadata": {},
     "output_type": "display_data"
    },
    {
     "data": {
      "text/html": [
       "<pre style=\"white-space:pre;overflow-x:auto;line-height:normal;font-family:Menlo,'DejaVu Sans Mono',consolas,'Courier New',monospace\"><span style=\"color: #7fbfbf; text-decoration-color: #7fbfbf\">[19:11:30] </span><span style=\"color: #c0c0c0; text-decoration-color: #c0c0c0\">INFO  </span> - Iteration <span style=\"color: #008080; text-decoration-color: #008080; font-weight: bold\">4000</span>:                                                                      <a href=\"file:///home/daniel/Documents/code/stable_imitation/stanza/stanza/util/loop.py\" target=\"_blank\"><span style=\"color: #7f7f7f; text-decoration-color: #7f7f7f\">loop.py</span></a><span style=\"color: #7f7f7f; text-decoration-color: #7f7f7f\">:</span><a href=\"file:///home/daniel/Documents/code/stable_imitation/stanza/stanza/util/loop.py#85\" target=\"_blank\"><span style=\"color: #7f7f7f; text-decoration-color: #7f7f7f\">85</span></a>\n",
       "<span style=\"color: #7fbfbf; text-decoration-color: #7fbfbf\">           </span>test.cost: <span style=\"color: #008080; text-decoration-color: #008080; font-weight: bold\">0.3101688027381897</span>                                                                 <span style=\"color: #7f7f7f; text-decoration-color: #7f7f7f\">          </span>\n",
       "<span style=\"color: #7fbfbf; text-decoration-color: #7fbfbf\">           </span>train.loss: <span style=\"color: #008080; text-decoration-color: #008080; font-weight: bold\">0.0031300545670092106</span>                                                             <span style=\"color: #7f7f7f; text-decoration-color: #7f7f7f\">          </span>\n",
       "</pre>\n"
      ],
      "text/plain": [
       "\u001b[2;36m[19:11:30]\u001b[0m\u001b[2;36m \u001b[0m\u001b[37mINFO  \u001b[0m - Iteration \u001b[1;36m4000\u001b[0m:                                                                      \u001b]8;id=103569;file:///home/daniel/Documents/code/stable_imitation/stanza/stanza/util/loop.py\u001b\\\u001b[2mloop.py\u001b[0m\u001b]8;;\u001b\\\u001b[2m:\u001b[0m\u001b]8;id=578854;file:///home/daniel/Documents/code/stable_imitation/stanza/stanza/util/loop.py#85\u001b\\\u001b[2m85\u001b[0m\u001b]8;;\u001b\\\n",
       "\u001b[2;36m           \u001b[0mtest.cost: \u001b[1;36m0.3101688027381897\u001b[0m                                                                 \u001b[2m          \u001b[0m\n",
       "\u001b[2;36m           \u001b[0mtrain.loss: \u001b[1;36m0.0031300545670092106\u001b[0m                                                             \u001b[2m          \u001b[0m\n"
      ]
     },
     "metadata": {},
     "output_type": "display_data"
    },
    {
     "data": {
      "text/html": [
       "<pre style=\"white-space:pre;overflow-x:auto;line-height:normal;font-family:Menlo,'DejaVu Sans Mono',consolas,'Courier New',monospace\"><span style=\"color: #7fbfbf; text-decoration-color: #7fbfbf\">[19:11:32] </span><span style=\"color: #c0c0c0; text-decoration-color: #c0c0c0\">INFO  </span> - Iteration <span style=\"color: #008080; text-decoration-color: #008080; font-weight: bold\">5000</span>:                                                                      <a href=\"file:///home/daniel/Documents/code/stable_imitation/stanza/stanza/util/loop.py\" target=\"_blank\"><span style=\"color: #7f7f7f; text-decoration-color: #7f7f7f\">loop.py</span></a><span style=\"color: #7f7f7f; text-decoration-color: #7f7f7f\">:</span><a href=\"file:///home/daniel/Documents/code/stable_imitation/stanza/stanza/util/loop.py#85\" target=\"_blank\"><span style=\"color: #7f7f7f; text-decoration-color: #7f7f7f\">85</span></a>\n",
       "<span style=\"color: #7fbfbf; text-decoration-color: #7fbfbf\">           </span>test.cost: <span style=\"color: #008080; text-decoration-color: #008080; font-weight: bold\">0.3102223873138428</span>                                                                 <span style=\"color: #7f7f7f; text-decoration-color: #7f7f7f\">          </span>\n",
       "<span style=\"color: #7fbfbf; text-decoration-color: #7fbfbf\">           </span>train.loss: <span style=\"color: #008080; text-decoration-color: #008080; font-weight: bold\">0.003488970687612891</span>                                                              <span style=\"color: #7f7f7f; text-decoration-color: #7f7f7f\">          </span>\n",
       "</pre>\n"
      ],
      "text/plain": [
       "\u001b[2;36m[19:11:32]\u001b[0m\u001b[2;36m \u001b[0m\u001b[37mINFO  \u001b[0m - Iteration \u001b[1;36m5000\u001b[0m:                                                                      \u001b]8;id=796002;file:///home/daniel/Documents/code/stable_imitation/stanza/stanza/util/loop.py\u001b\\\u001b[2mloop.py\u001b[0m\u001b]8;;\u001b\\\u001b[2m:\u001b[0m\u001b]8;id=849446;file:///home/daniel/Documents/code/stable_imitation/stanza/stanza/util/loop.py#85\u001b\\\u001b[2m85\u001b[0m\u001b]8;;\u001b\\\n",
       "\u001b[2;36m           \u001b[0mtest.cost: \u001b[1;36m0.3102223873138428\u001b[0m                                                                 \u001b[2m          \u001b[0m\n",
       "\u001b[2;36m           \u001b[0mtrain.loss: \u001b[1;36m0.003488970687612891\u001b[0m                                                              \u001b[2m          \u001b[0m\n"
      ]
     },
     "metadata": {},
     "output_type": "display_data"
    },
    {
     "data": {
      "text/html": [
       "<pre style=\"white-space:pre;overflow-x:auto;line-height:normal;font-family:Menlo,'DejaVu Sans Mono',consolas,'Courier New',monospace\"><span style=\"color: #7fbfbf; text-decoration-color: #7fbfbf\">[19:11:34] </span><span style=\"color: #c0c0c0; text-decoration-color: #c0c0c0\">INFO  </span> - Iteration <span style=\"color: #008080; text-decoration-color: #008080; font-weight: bold\">6000</span>:                                                                      <a href=\"file:///home/daniel/Documents/code/stable_imitation/stanza/stanza/util/loop.py\" target=\"_blank\"><span style=\"color: #7f7f7f; text-decoration-color: #7f7f7f\">loop.py</span></a><span style=\"color: #7f7f7f; text-decoration-color: #7f7f7f\">:</span><a href=\"file:///home/daniel/Documents/code/stable_imitation/stanza/stanza/util/loop.py#85\" target=\"_blank\"><span style=\"color: #7f7f7f; text-decoration-color: #7f7f7f\">85</span></a>\n",
       "<span style=\"color: #7fbfbf; text-decoration-color: #7fbfbf\">           </span>test.cost: <span style=\"color: #008080; text-decoration-color: #008080; font-weight: bold\">0.3088586926460266</span>                                                                 <span style=\"color: #7f7f7f; text-decoration-color: #7f7f7f\">          </span>\n",
       "<span style=\"color: #7fbfbf; text-decoration-color: #7fbfbf\">           </span>train.loss: <span style=\"color: #008080; text-decoration-color: #008080; font-weight: bold\">0.0025176620110869408</span>                                                             <span style=\"color: #7f7f7f; text-decoration-color: #7f7f7f\">          </span>\n",
       "</pre>\n"
      ],
      "text/plain": [
       "\u001b[2;36m[19:11:34]\u001b[0m\u001b[2;36m \u001b[0m\u001b[37mINFO  \u001b[0m - Iteration \u001b[1;36m6000\u001b[0m:                                                                      \u001b]8;id=206394;file:///home/daniel/Documents/code/stable_imitation/stanza/stanza/util/loop.py\u001b\\\u001b[2mloop.py\u001b[0m\u001b]8;;\u001b\\\u001b[2m:\u001b[0m\u001b]8;id=93720;file:///home/daniel/Documents/code/stable_imitation/stanza/stanza/util/loop.py#85\u001b\\\u001b[2m85\u001b[0m\u001b]8;;\u001b\\\n",
       "\u001b[2;36m           \u001b[0mtest.cost: \u001b[1;36m0.3088586926460266\u001b[0m                                                                 \u001b[2m          \u001b[0m\n",
       "\u001b[2;36m           \u001b[0mtrain.loss: \u001b[1;36m0.0025176620110869408\u001b[0m                                                             \u001b[2m          \u001b[0m\n"
      ]
     },
     "metadata": {},
     "output_type": "display_data"
    },
    {
     "data": {
      "text/html": [
       "<pre style=\"white-space:pre;overflow-x:auto;line-height:normal;font-family:Menlo,'DejaVu Sans Mono',consolas,'Courier New',monospace\"><span style=\"color: #7fbfbf; text-decoration-color: #7fbfbf\">[19:11:36] </span><span style=\"color: #c0c0c0; text-decoration-color: #c0c0c0\">INFO  </span> - Iteration <span style=\"color: #008080; text-decoration-color: #008080; font-weight: bold\">7000</span>:                                                                      <a href=\"file:///home/daniel/Documents/code/stable_imitation/stanza/stanza/util/loop.py\" target=\"_blank\"><span style=\"color: #7f7f7f; text-decoration-color: #7f7f7f\">loop.py</span></a><span style=\"color: #7f7f7f; text-decoration-color: #7f7f7f\">:</span><a href=\"file:///home/daniel/Documents/code/stable_imitation/stanza/stanza/util/loop.py#85\" target=\"_blank\"><span style=\"color: #7f7f7f; text-decoration-color: #7f7f7f\">85</span></a>\n",
       "<span style=\"color: #7fbfbf; text-decoration-color: #7fbfbf\">           </span>test.cost: <span style=\"color: #008080; text-decoration-color: #008080; font-weight: bold\">0.30623966455459595</span>                                                                <span style=\"color: #7f7f7f; text-decoration-color: #7f7f7f\">          </span>\n",
       "<span style=\"color: #7fbfbf; text-decoration-color: #7fbfbf\">           </span>train.loss: <span style=\"color: #008080; text-decoration-color: #008080; font-weight: bold\">0.0014793178997933865</span>                                                             <span style=\"color: #7f7f7f; text-decoration-color: #7f7f7f\">          </span>\n",
       "</pre>\n"
      ],
      "text/plain": [
       "\u001b[2;36m[19:11:36]\u001b[0m\u001b[2;36m \u001b[0m\u001b[37mINFO  \u001b[0m - Iteration \u001b[1;36m7000\u001b[0m:                                                                      \u001b]8;id=605501;file:///home/daniel/Documents/code/stable_imitation/stanza/stanza/util/loop.py\u001b\\\u001b[2mloop.py\u001b[0m\u001b]8;;\u001b\\\u001b[2m:\u001b[0m\u001b]8;id=508370;file:///home/daniel/Documents/code/stable_imitation/stanza/stanza/util/loop.py#85\u001b\\\u001b[2m85\u001b[0m\u001b]8;;\u001b\\\n",
       "\u001b[2;36m           \u001b[0mtest.cost: \u001b[1;36m0.30623966455459595\u001b[0m                                                                \u001b[2m          \u001b[0m\n",
       "\u001b[2;36m           \u001b[0mtrain.loss: \u001b[1;36m0.0014793178997933865\u001b[0m                                                             \u001b[2m          \u001b[0m\n"
      ]
     },
     "metadata": {},
     "output_type": "display_data"
    },
    {
     "data": {
      "text/html": [
       "<pre style=\"white-space:pre;overflow-x:auto;line-height:normal;font-family:Menlo,'DejaVu Sans Mono',consolas,'Courier New',monospace\"><span style=\"color: #7fbfbf; text-decoration-color: #7fbfbf\">[19:11:38] </span><span style=\"color: #c0c0c0; text-decoration-color: #c0c0c0\">INFO  </span> - Iteration <span style=\"color: #008080; text-decoration-color: #008080; font-weight: bold\">8000</span>:                                                                      <a href=\"file:///home/daniel/Documents/code/stable_imitation/stanza/stanza/util/loop.py\" target=\"_blank\"><span style=\"color: #7f7f7f; text-decoration-color: #7f7f7f\">loop.py</span></a><span style=\"color: #7f7f7f; text-decoration-color: #7f7f7f\">:</span><a href=\"file:///home/daniel/Documents/code/stable_imitation/stanza/stanza/util/loop.py#85\" target=\"_blank\"><span style=\"color: #7f7f7f; text-decoration-color: #7f7f7f\">85</span></a>\n",
       "<span style=\"color: #7fbfbf; text-decoration-color: #7fbfbf\">           </span>test.cost: <span style=\"color: #008080; text-decoration-color: #008080; font-weight: bold\">0.31079912185668945</span>                                                                <span style=\"color: #7f7f7f; text-decoration-color: #7f7f7f\">          </span>\n",
       "<span style=\"color: #7fbfbf; text-decoration-color: #7fbfbf\">           </span>train.loss: <span style=\"color: #008080; text-decoration-color: #008080; font-weight: bold\">0.0015453462256118655</span>                                                             <span style=\"color: #7f7f7f; text-decoration-color: #7f7f7f\">          </span>\n",
       "</pre>\n"
      ],
      "text/plain": [
       "\u001b[2;36m[19:11:38]\u001b[0m\u001b[2;36m \u001b[0m\u001b[37mINFO  \u001b[0m - Iteration \u001b[1;36m8000\u001b[0m:                                                                      \u001b]8;id=834144;file:///home/daniel/Documents/code/stable_imitation/stanza/stanza/util/loop.py\u001b\\\u001b[2mloop.py\u001b[0m\u001b]8;;\u001b\\\u001b[2m:\u001b[0m\u001b]8;id=265100;file:///home/daniel/Documents/code/stable_imitation/stanza/stanza/util/loop.py#85\u001b\\\u001b[2m85\u001b[0m\u001b]8;;\u001b\\\n",
       "\u001b[2;36m           \u001b[0mtest.cost: \u001b[1;36m0.31079912185668945\u001b[0m                                                                \u001b[2m          \u001b[0m\n",
       "\u001b[2;36m           \u001b[0mtrain.loss: \u001b[1;36m0.0015453462256118655\u001b[0m                                                             \u001b[2m          \u001b[0m\n"
      ]
     },
     "metadata": {},
     "output_type": "display_data"
    },
    {
     "data": {
      "text/html": [
       "<pre style=\"white-space:pre;overflow-x:auto;line-height:normal;font-family:Menlo,'DejaVu Sans Mono',consolas,'Courier New',monospace\"><span style=\"color: #7fbfbf; text-decoration-color: #7fbfbf\">[19:11:40] </span><span style=\"color: #c0c0c0; text-decoration-color: #c0c0c0\">INFO  </span> - Iteration <span style=\"color: #008080; text-decoration-color: #008080; font-weight: bold\">9000</span>:                                                                      <a href=\"file:///home/daniel/Documents/code/stable_imitation/stanza/stanza/util/loop.py\" target=\"_blank\"><span style=\"color: #7f7f7f; text-decoration-color: #7f7f7f\">loop.py</span></a><span style=\"color: #7f7f7f; text-decoration-color: #7f7f7f\">:</span><a href=\"file:///home/daniel/Documents/code/stable_imitation/stanza/stanza/util/loop.py#85\" target=\"_blank\"><span style=\"color: #7f7f7f; text-decoration-color: #7f7f7f\">85</span></a>\n",
       "<span style=\"color: #7fbfbf; text-decoration-color: #7fbfbf\">           </span>test.cost: <span style=\"color: #008080; text-decoration-color: #008080; font-weight: bold\">0.3063047528266907</span>                                                                 <span style=\"color: #7f7f7f; text-decoration-color: #7f7f7f\">          </span>\n",
       "<span style=\"color: #7fbfbf; text-decoration-color: #7fbfbf\">           </span>train.loss: <span style=\"color: #008080; text-decoration-color: #008080; font-weight: bold\">0.0010931314900517464</span>                                                             <span style=\"color: #7f7f7f; text-decoration-color: #7f7f7f\">          </span>\n",
       "</pre>\n"
      ],
      "text/plain": [
       "\u001b[2;36m[19:11:40]\u001b[0m\u001b[2;36m \u001b[0m\u001b[37mINFO  \u001b[0m - Iteration \u001b[1;36m9000\u001b[0m:                                                                      \u001b]8;id=34084;file:///home/daniel/Documents/code/stable_imitation/stanza/stanza/util/loop.py\u001b\\\u001b[2mloop.py\u001b[0m\u001b]8;;\u001b\\\u001b[2m:\u001b[0m\u001b]8;id=856561;file:///home/daniel/Documents/code/stable_imitation/stanza/stanza/util/loop.py#85\u001b\\\u001b[2m85\u001b[0m\u001b]8;;\u001b\\\n",
       "\u001b[2;36m           \u001b[0mtest.cost: \u001b[1;36m0.3063047528266907\u001b[0m                                                                 \u001b[2m          \u001b[0m\n",
       "\u001b[2;36m           \u001b[0mtrain.loss: \u001b[1;36m0.0010931314900517464\u001b[0m                                                             \u001b[2m          \u001b[0m\n"
      ]
     },
     "metadata": {},
     "output_type": "display_data"
    },
    {
     "data": {
      "text/html": [
       "<pre style=\"white-space:pre;overflow-x:auto;line-height:normal;font-family:Menlo,'DejaVu Sans Mono',consolas,'Courier New',monospace\"><span style=\"color: #7fbfbf; text-decoration-color: #7fbfbf\">[19:11:42] </span><span style=\"color: #c0c0c0; text-decoration-color: #c0c0c0\">INFO  </span> - Iteration <span style=\"color: #008080; text-decoration-color: #008080; font-weight: bold\">10000</span>:                                                                     <a href=\"file:///home/daniel/Documents/code/stable_imitation/stanza/stanza/util/loop.py\" target=\"_blank\"><span style=\"color: #7f7f7f; text-decoration-color: #7f7f7f\">loop.py</span></a><span style=\"color: #7f7f7f; text-decoration-color: #7f7f7f\">:</span><a href=\"file:///home/daniel/Documents/code/stable_imitation/stanza/stanza/util/loop.py#85\" target=\"_blank\"><span style=\"color: #7f7f7f; text-decoration-color: #7f7f7f\">85</span></a>\n",
       "<span style=\"color: #7fbfbf; text-decoration-color: #7fbfbf\">           </span>test.cost: <span style=\"color: #008080; text-decoration-color: #008080; font-weight: bold\">0.30617013573646545</span>                                                                <span style=\"color: #7f7f7f; text-decoration-color: #7f7f7f\">          </span>\n",
       "<span style=\"color: #7fbfbf; text-decoration-color: #7fbfbf\">           </span>train.loss: <span style=\"color: #008080; text-decoration-color: #008080; font-weight: bold\">0.001040182076394558</span>                                                              <span style=\"color: #7f7f7f; text-decoration-color: #7f7f7f\">          </span>\n",
       "</pre>\n"
      ],
      "text/plain": [
       "\u001b[2;36m[19:11:42]\u001b[0m\u001b[2;36m \u001b[0m\u001b[37mINFO  \u001b[0m - Iteration \u001b[1;36m10000\u001b[0m:                                                                     \u001b]8;id=227023;file:///home/daniel/Documents/code/stable_imitation/stanza/stanza/util/loop.py\u001b\\\u001b[2mloop.py\u001b[0m\u001b]8;;\u001b\\\u001b[2m:\u001b[0m\u001b]8;id=864698;file:///home/daniel/Documents/code/stable_imitation/stanza/stanza/util/loop.py#85\u001b\\\u001b[2m85\u001b[0m\u001b]8;;\u001b\\\n",
       "\u001b[2;36m           \u001b[0mtest.cost: \u001b[1;36m0.30617013573646545\u001b[0m                                                                \u001b[2m          \u001b[0m\n",
       "\u001b[2;36m           \u001b[0mtrain.loss: \u001b[1;36m0.001040182076394558\u001b[0m                                                              \u001b[2m          \u001b[0m\n"
      ]
     },
     "metadata": {},
     "output_type": "display_data"
    },
    {
     "data": {
      "text/html": [
       "<pre style=\"white-space:pre;overflow-x:auto;line-height:normal;font-family:Menlo,'DejaVu Sans Mono',consolas,'Courier New',monospace\"><span style=\"color: #7fbfbf; text-decoration-color: #7fbfbf\">[19:11:44] </span><span style=\"color: #c0c0c0; text-decoration-color: #c0c0c0\">INFO  </span> - Iteration <span style=\"color: #008080; text-decoration-color: #008080; font-weight: bold\">11000</span>:                                                                     <a href=\"file:///home/daniel/Documents/code/stable_imitation/stanza/stanza/util/loop.py\" target=\"_blank\"><span style=\"color: #7f7f7f; text-decoration-color: #7f7f7f\">loop.py</span></a><span style=\"color: #7f7f7f; text-decoration-color: #7f7f7f\">:</span><a href=\"file:///home/daniel/Documents/code/stable_imitation/stanza/stanza/util/loop.py#85\" target=\"_blank\"><span style=\"color: #7f7f7f; text-decoration-color: #7f7f7f\">85</span></a>\n",
       "<span style=\"color: #7fbfbf; text-decoration-color: #7fbfbf\">           </span>test.cost: <span style=\"color: #008080; text-decoration-color: #008080; font-weight: bold\">0.3059791922569275</span>                                                                 <span style=\"color: #7f7f7f; text-decoration-color: #7f7f7f\">          </span>\n",
       "<span style=\"color: #7fbfbf; text-decoration-color: #7fbfbf\">           </span>train.loss: <span style=\"color: #008080; text-decoration-color: #008080; font-weight: bold\">0.0009842547588050365</span>                                                             <span style=\"color: #7f7f7f; text-decoration-color: #7f7f7f\">          </span>\n",
       "</pre>\n"
      ],
      "text/plain": [
       "\u001b[2;36m[19:11:44]\u001b[0m\u001b[2;36m \u001b[0m\u001b[37mINFO  \u001b[0m - Iteration \u001b[1;36m11000\u001b[0m:                                                                     \u001b]8;id=913577;file:///home/daniel/Documents/code/stable_imitation/stanza/stanza/util/loop.py\u001b\\\u001b[2mloop.py\u001b[0m\u001b]8;;\u001b\\\u001b[2m:\u001b[0m\u001b]8;id=932440;file:///home/daniel/Documents/code/stable_imitation/stanza/stanza/util/loop.py#85\u001b\\\u001b[2m85\u001b[0m\u001b]8;;\u001b\\\n",
       "\u001b[2;36m           \u001b[0mtest.cost: \u001b[1;36m0.3059791922569275\u001b[0m                                                                 \u001b[2m          \u001b[0m\n",
       "\u001b[2;36m           \u001b[0mtrain.loss: \u001b[1;36m0.0009842547588050365\u001b[0m                                                             \u001b[2m          \u001b[0m\n"
      ]
     },
     "metadata": {},
     "output_type": "display_data"
    },
    {
     "data": {
      "text/html": [
       "<pre style=\"white-space:pre;overflow-x:auto;line-height:normal;font-family:Menlo,'DejaVu Sans Mono',consolas,'Courier New',monospace\"><span style=\"color: #7fbfbf; text-decoration-color: #7fbfbf\">[19:11:47] </span><span style=\"color: #c0c0c0; text-decoration-color: #c0c0c0\">INFO  </span> - Iteration <span style=\"color: #008080; text-decoration-color: #008080; font-weight: bold\">12000</span>:                                                                     <a href=\"file:///home/daniel/Documents/code/stable_imitation/stanza/stanza/util/loop.py\" target=\"_blank\"><span style=\"color: #7f7f7f; text-decoration-color: #7f7f7f\">loop.py</span></a><span style=\"color: #7f7f7f; text-decoration-color: #7f7f7f\">:</span><a href=\"file:///home/daniel/Documents/code/stable_imitation/stanza/stanza/util/loop.py#85\" target=\"_blank\"><span style=\"color: #7f7f7f; text-decoration-color: #7f7f7f\">85</span></a>\n",
       "<span style=\"color: #7fbfbf; text-decoration-color: #7fbfbf\">           </span>test.cost: <span style=\"color: #008080; text-decoration-color: #008080; font-weight: bold\">0.30560237169265747</span>                                                                <span style=\"color: #7f7f7f; text-decoration-color: #7f7f7f\">          </span>\n",
       "<span style=\"color: #7fbfbf; text-decoration-color: #7fbfbf\">           </span>train.loss: <span style=\"color: #008080; text-decoration-color: #008080; font-weight: bold\">0.0014874385669827461</span>                                                             <span style=\"color: #7f7f7f; text-decoration-color: #7f7f7f\">          </span>\n",
       "</pre>\n"
      ],
      "text/plain": [
       "\u001b[2;36m[19:11:47]\u001b[0m\u001b[2;36m \u001b[0m\u001b[37mINFO  \u001b[0m - Iteration \u001b[1;36m12000\u001b[0m:                                                                     \u001b]8;id=86201;file:///home/daniel/Documents/code/stable_imitation/stanza/stanza/util/loop.py\u001b\\\u001b[2mloop.py\u001b[0m\u001b]8;;\u001b\\\u001b[2m:\u001b[0m\u001b]8;id=515100;file:///home/daniel/Documents/code/stable_imitation/stanza/stanza/util/loop.py#85\u001b\\\u001b[2m85\u001b[0m\u001b]8;;\u001b\\\n",
       "\u001b[2;36m           \u001b[0mtest.cost: \u001b[1;36m0.30560237169265747\u001b[0m                                                                \u001b[2m          \u001b[0m\n",
       "\u001b[2;36m           \u001b[0mtrain.loss: \u001b[1;36m0.0014874385669827461\u001b[0m                                                             \u001b[2m          \u001b[0m\n"
      ]
     },
     "metadata": {},
     "output_type": "display_data"
    },
    {
     "data": {
      "text/html": [
       "<pre style=\"white-space:pre;overflow-x:auto;line-height:normal;font-family:Menlo,'DejaVu Sans Mono',consolas,'Courier New',monospace\"><span style=\"color: #7fbfbf; text-decoration-color: #7fbfbf\">[19:11:49] </span><span style=\"color: #c0c0c0; text-decoration-color: #c0c0c0\">INFO  </span> - Iteration <span style=\"color: #008080; text-decoration-color: #008080; font-weight: bold\">13000</span>:                                                                     <a href=\"file:///home/daniel/Documents/code/stable_imitation/stanza/stanza/util/loop.py\" target=\"_blank\"><span style=\"color: #7f7f7f; text-decoration-color: #7f7f7f\">loop.py</span></a><span style=\"color: #7f7f7f; text-decoration-color: #7f7f7f\">:</span><a href=\"file:///home/daniel/Documents/code/stable_imitation/stanza/stanza/util/loop.py#85\" target=\"_blank\"><span style=\"color: #7f7f7f; text-decoration-color: #7f7f7f\">85</span></a>\n",
       "<span style=\"color: #7fbfbf; text-decoration-color: #7fbfbf\">           </span>test.cost: <span style=\"color: #008080; text-decoration-color: #008080; font-weight: bold\">0.30879753828048706</span>                                                                <span style=\"color: #7f7f7f; text-decoration-color: #7f7f7f\">          </span>\n",
       "<span style=\"color: #7fbfbf; text-decoration-color: #7fbfbf\">           </span>train.loss: <span style=\"color: #008080; text-decoration-color: #008080; font-weight: bold\">0.0005521313287317753</span>                                                             <span style=\"color: #7f7f7f; text-decoration-color: #7f7f7f\">          </span>\n",
       "</pre>\n"
      ],
      "text/plain": [
       "\u001b[2;36m[19:11:49]\u001b[0m\u001b[2;36m \u001b[0m\u001b[37mINFO  \u001b[0m - Iteration \u001b[1;36m13000\u001b[0m:                                                                     \u001b]8;id=223859;file:///home/daniel/Documents/code/stable_imitation/stanza/stanza/util/loop.py\u001b\\\u001b[2mloop.py\u001b[0m\u001b]8;;\u001b\\\u001b[2m:\u001b[0m\u001b]8;id=352179;file:///home/daniel/Documents/code/stable_imitation/stanza/stanza/util/loop.py#85\u001b\\\u001b[2m85\u001b[0m\u001b]8;;\u001b\\\n",
       "\u001b[2;36m           \u001b[0mtest.cost: \u001b[1;36m0.30879753828048706\u001b[0m                                                                \u001b[2m          \u001b[0m\n",
       "\u001b[2;36m           \u001b[0mtrain.loss: \u001b[1;36m0.0005521313287317753\u001b[0m                                                             \u001b[2m          \u001b[0m\n"
      ]
     },
     "metadata": {},
     "output_type": "display_data"
    },
    {
     "data": {
      "text/html": [
       "<pre style=\"white-space:pre;overflow-x:auto;line-height:normal;font-family:Menlo,'DejaVu Sans Mono',consolas,'Courier New',monospace\"><span style=\"color: #7fbfbf; text-decoration-color: #7fbfbf\">[19:11:51] </span><span style=\"color: #c0c0c0; text-decoration-color: #c0c0c0\">INFO  </span> - Iteration <span style=\"color: #008080; text-decoration-color: #008080; font-weight: bold\">14000</span>:                                                                     <a href=\"file:///home/daniel/Documents/code/stable_imitation/stanza/stanza/util/loop.py\" target=\"_blank\"><span style=\"color: #7f7f7f; text-decoration-color: #7f7f7f\">loop.py</span></a><span style=\"color: #7f7f7f; text-decoration-color: #7f7f7f\">:</span><a href=\"file:///home/daniel/Documents/code/stable_imitation/stanza/stanza/util/loop.py#85\" target=\"_blank\"><span style=\"color: #7f7f7f; text-decoration-color: #7f7f7f\">85</span></a>\n",
       "<span style=\"color: #7fbfbf; text-decoration-color: #7fbfbf\">           </span>test.cost: <span style=\"color: #008080; text-decoration-color: #008080; font-weight: bold\">0.30802252888679504</span>                                                                <span style=\"color: #7f7f7f; text-decoration-color: #7f7f7f\">          </span>\n",
       "<span style=\"color: #7fbfbf; text-decoration-color: #7fbfbf\">           </span>train.loss: <span style=\"color: #008080; text-decoration-color: #008080; font-weight: bold\">0.0007867005770094693</span>                                                             <span style=\"color: #7f7f7f; text-decoration-color: #7f7f7f\">          </span>\n",
       "</pre>\n"
      ],
      "text/plain": [
       "\u001b[2;36m[19:11:51]\u001b[0m\u001b[2;36m \u001b[0m\u001b[37mINFO  \u001b[0m - Iteration \u001b[1;36m14000\u001b[0m:                                                                     \u001b]8;id=295204;file:///home/daniel/Documents/code/stable_imitation/stanza/stanza/util/loop.py\u001b\\\u001b[2mloop.py\u001b[0m\u001b]8;;\u001b\\\u001b[2m:\u001b[0m\u001b]8;id=977719;file:///home/daniel/Documents/code/stable_imitation/stanza/stanza/util/loop.py#85\u001b\\\u001b[2m85\u001b[0m\u001b]8;;\u001b\\\n",
       "\u001b[2;36m           \u001b[0mtest.cost: \u001b[1;36m0.30802252888679504\u001b[0m                                                                \u001b[2m          \u001b[0m\n",
       "\u001b[2;36m           \u001b[0mtrain.loss: \u001b[1;36m0.0007867005770094693\u001b[0m                                                             \u001b[2m          \u001b[0m\n"
      ]
     },
     "metadata": {},
     "output_type": "display_data"
    },
    {
     "data": {
      "text/html": [
       "<pre style=\"white-space:pre;overflow-x:auto;line-height:normal;font-family:Menlo,'DejaVu Sans Mono',consolas,'Courier New',monospace\"><span style=\"color: #7fbfbf; text-decoration-color: #7fbfbf\">[19:11:53] </span><span style=\"color: #c0c0c0; text-decoration-color: #c0c0c0\">INFO  </span> - Iteration <span style=\"color: #008080; text-decoration-color: #008080; font-weight: bold\">15000</span>:                                                                     <a href=\"file:///home/daniel/Documents/code/stable_imitation/stanza/stanza/util/loop.py\" target=\"_blank\"><span style=\"color: #7f7f7f; text-decoration-color: #7f7f7f\">loop.py</span></a><span style=\"color: #7f7f7f; text-decoration-color: #7f7f7f\">:</span><a href=\"file:///home/daniel/Documents/code/stable_imitation/stanza/stanza/util/loop.py#85\" target=\"_blank\"><span style=\"color: #7f7f7f; text-decoration-color: #7f7f7f\">85</span></a>\n",
       "<span style=\"color: #7fbfbf; text-decoration-color: #7fbfbf\">           </span>test.cost: <span style=\"color: #008080; text-decoration-color: #008080; font-weight: bold\">0.30582913756370544</span>                                                                <span style=\"color: #7f7f7f; text-decoration-color: #7f7f7f\">          </span>\n",
       "<span style=\"color: #7fbfbf; text-decoration-color: #7fbfbf\">           </span>train.loss: <span style=\"color: #008080; text-decoration-color: #008080; font-weight: bold\">0.0017405045218765736</span>                                                             <span style=\"color: #7f7f7f; text-decoration-color: #7f7f7f\">          </span>\n",
       "</pre>\n"
      ],
      "text/plain": [
       "\u001b[2;36m[19:11:53]\u001b[0m\u001b[2;36m \u001b[0m\u001b[37mINFO  \u001b[0m - Iteration \u001b[1;36m15000\u001b[0m:                                                                     \u001b]8;id=638038;file:///home/daniel/Documents/code/stable_imitation/stanza/stanza/util/loop.py\u001b\\\u001b[2mloop.py\u001b[0m\u001b]8;;\u001b\\\u001b[2m:\u001b[0m\u001b]8;id=323622;file:///home/daniel/Documents/code/stable_imitation/stanza/stanza/util/loop.py#85\u001b\\\u001b[2m85\u001b[0m\u001b]8;;\u001b\\\n",
       "\u001b[2;36m           \u001b[0mtest.cost: \u001b[1;36m0.30582913756370544\u001b[0m                                                                \u001b[2m          \u001b[0m\n",
       "\u001b[2;36m           \u001b[0mtrain.loss: \u001b[1;36m0.0017405045218765736\u001b[0m                                                             \u001b[2m          \u001b[0m\n"
      ]
     },
     "metadata": {},
     "output_type": "display_data"
    },
    {
     "data": {
      "text/html": [
       "<pre style=\"white-space:pre;overflow-x:auto;line-height:normal;font-family:Menlo,'DejaVu Sans Mono',consolas,'Courier New',monospace\"><span style=\"color: #7fbfbf; text-decoration-color: #7fbfbf\">[19:11:55] </span><span style=\"color: #c0c0c0; text-decoration-color: #c0c0c0\">INFO  </span> - Iteration <span style=\"color: #008080; text-decoration-color: #008080; font-weight: bold\">16000</span>:                                                                     <a href=\"file:///home/daniel/Documents/code/stable_imitation/stanza/stanza/util/loop.py\" target=\"_blank\"><span style=\"color: #7f7f7f; text-decoration-color: #7f7f7f\">loop.py</span></a><span style=\"color: #7f7f7f; text-decoration-color: #7f7f7f\">:</span><a href=\"file:///home/daniel/Documents/code/stable_imitation/stanza/stanza/util/loop.py#85\" target=\"_blank\"><span style=\"color: #7f7f7f; text-decoration-color: #7f7f7f\">85</span></a>\n",
       "<span style=\"color: #7fbfbf; text-decoration-color: #7fbfbf\">           </span>test.cost: <span style=\"color: #008080; text-decoration-color: #008080; font-weight: bold\">0.3064458966255188</span>                                                                 <span style=\"color: #7f7f7f; text-decoration-color: #7f7f7f\">          </span>\n",
       "<span style=\"color: #7fbfbf; text-decoration-color: #7fbfbf\">           </span>train.loss: <span style=\"color: #008080; text-decoration-color: #008080; font-weight: bold\">0.0004190051113255322</span>                                                             <span style=\"color: #7f7f7f; text-decoration-color: #7f7f7f\">          </span>\n",
       "</pre>\n"
      ],
      "text/plain": [
       "\u001b[2;36m[19:11:55]\u001b[0m\u001b[2;36m \u001b[0m\u001b[37mINFO  \u001b[0m - Iteration \u001b[1;36m16000\u001b[0m:                                                                     \u001b]8;id=367026;file:///home/daniel/Documents/code/stable_imitation/stanza/stanza/util/loop.py\u001b\\\u001b[2mloop.py\u001b[0m\u001b]8;;\u001b\\\u001b[2m:\u001b[0m\u001b]8;id=58789;file:///home/daniel/Documents/code/stable_imitation/stanza/stanza/util/loop.py#85\u001b\\\u001b[2m85\u001b[0m\u001b]8;;\u001b\\\n",
       "\u001b[2;36m           \u001b[0mtest.cost: \u001b[1;36m0.3064458966255188\u001b[0m                                                                 \u001b[2m          \u001b[0m\n",
       "\u001b[2;36m           \u001b[0mtrain.loss: \u001b[1;36m0.0004190051113255322\u001b[0m                                                             \u001b[2m          \u001b[0m\n"
      ]
     },
     "metadata": {},
     "output_type": "display_data"
    },
    {
     "data": {
      "text/html": [
       "<pre style=\"white-space:pre;overflow-x:auto;line-height:normal;font-family:Menlo,'DejaVu Sans Mono',consolas,'Courier New',monospace\"><span style=\"color: #7fbfbf; text-decoration-color: #7fbfbf\">[19:11:57] </span><span style=\"color: #c0c0c0; text-decoration-color: #c0c0c0\">INFO  </span> - Iteration <span style=\"color: #008080; text-decoration-color: #008080; font-weight: bold\">17000</span>:                                                                     <a href=\"file:///home/daniel/Documents/code/stable_imitation/stanza/stanza/util/loop.py\" target=\"_blank\"><span style=\"color: #7f7f7f; text-decoration-color: #7f7f7f\">loop.py</span></a><span style=\"color: #7f7f7f; text-decoration-color: #7f7f7f\">:</span><a href=\"file:///home/daniel/Documents/code/stable_imitation/stanza/stanza/util/loop.py#85\" target=\"_blank\"><span style=\"color: #7f7f7f; text-decoration-color: #7f7f7f\">85</span></a>\n",
       "<span style=\"color: #7fbfbf; text-decoration-color: #7fbfbf\">           </span>test.cost: <span style=\"color: #008080; text-decoration-color: #008080; font-weight: bold\">0.30652087926864624</span>                                                                <span style=\"color: #7f7f7f; text-decoration-color: #7f7f7f\">          </span>\n",
       "<span style=\"color: #7fbfbf; text-decoration-color: #7fbfbf\">           </span>train.loss: <span style=\"color: #008080; text-decoration-color: #008080; font-weight: bold\">0.0003684178227558732</span>                                                             <span style=\"color: #7f7f7f; text-decoration-color: #7f7f7f\">          </span>\n",
       "</pre>\n"
      ],
      "text/plain": [
       "\u001b[2;36m[19:11:57]\u001b[0m\u001b[2;36m \u001b[0m\u001b[37mINFO  \u001b[0m - Iteration \u001b[1;36m17000\u001b[0m:                                                                     \u001b]8;id=564211;file:///home/daniel/Documents/code/stable_imitation/stanza/stanza/util/loop.py\u001b\\\u001b[2mloop.py\u001b[0m\u001b]8;;\u001b\\\u001b[2m:\u001b[0m\u001b]8;id=671708;file:///home/daniel/Documents/code/stable_imitation/stanza/stanza/util/loop.py#85\u001b\\\u001b[2m85\u001b[0m\u001b]8;;\u001b\\\n",
       "\u001b[2;36m           \u001b[0mtest.cost: \u001b[1;36m0.30652087926864624\u001b[0m                                                                \u001b[2m          \u001b[0m\n",
       "\u001b[2;36m           \u001b[0mtrain.loss: \u001b[1;36m0.0003684178227558732\u001b[0m                                                             \u001b[2m          \u001b[0m\n"
      ]
     },
     "metadata": {},
     "output_type": "display_data"
    },
    {
     "data": {
      "text/html": [
       "<pre style=\"white-space:pre;overflow-x:auto;line-height:normal;font-family:Menlo,'DejaVu Sans Mono',consolas,'Courier New',monospace\"><span style=\"color: #7fbfbf; text-decoration-color: #7fbfbf\">[19:11:59] </span><span style=\"color: #c0c0c0; text-decoration-color: #c0c0c0\">INFO  </span> - Iteration <span style=\"color: #008080; text-decoration-color: #008080; font-weight: bold\">18000</span>:                                                                     <a href=\"file:///home/daniel/Documents/code/stable_imitation/stanza/stanza/util/loop.py\" target=\"_blank\"><span style=\"color: #7f7f7f; text-decoration-color: #7f7f7f\">loop.py</span></a><span style=\"color: #7f7f7f; text-decoration-color: #7f7f7f\">:</span><a href=\"file:///home/daniel/Documents/code/stable_imitation/stanza/stanza/util/loop.py#85\" target=\"_blank\"><span style=\"color: #7f7f7f; text-decoration-color: #7f7f7f\">85</span></a>\n",
       "<span style=\"color: #7fbfbf; text-decoration-color: #7fbfbf\">           </span>test.cost: <span style=\"color: #008080; text-decoration-color: #008080; font-weight: bold\">0.3082115352153778</span>                                                                 <span style=\"color: #7f7f7f; text-decoration-color: #7f7f7f\">          </span>\n",
       "<span style=\"color: #7fbfbf; text-decoration-color: #7fbfbf\">           </span>train.loss: <span style=\"color: #008080; text-decoration-color: #008080; font-weight: bold\">0.0006959806778468192</span>                                                             <span style=\"color: #7f7f7f; text-decoration-color: #7f7f7f\">          </span>\n",
       "</pre>\n"
      ],
      "text/plain": [
       "\u001b[2;36m[19:11:59]\u001b[0m\u001b[2;36m \u001b[0m\u001b[37mINFO  \u001b[0m - Iteration \u001b[1;36m18000\u001b[0m:                                                                     \u001b]8;id=816042;file:///home/daniel/Documents/code/stable_imitation/stanza/stanza/util/loop.py\u001b\\\u001b[2mloop.py\u001b[0m\u001b]8;;\u001b\\\u001b[2m:\u001b[0m\u001b]8;id=163782;file:///home/daniel/Documents/code/stable_imitation/stanza/stanza/util/loop.py#85\u001b\\\u001b[2m85\u001b[0m\u001b]8;;\u001b\\\n",
       "\u001b[2;36m           \u001b[0mtest.cost: \u001b[1;36m0.3082115352153778\u001b[0m                                                                 \u001b[2m          \u001b[0m\n",
       "\u001b[2;36m           \u001b[0mtrain.loss: \u001b[1;36m0.0006959806778468192\u001b[0m                                                             \u001b[2m          \u001b[0m\n"
      ]
     },
     "metadata": {},
     "output_type": "display_data"
    },
    {
     "data": {
      "text/html": [
       "<pre style=\"white-space:pre;overflow-x:auto;line-height:normal;font-family:Menlo,'DejaVu Sans Mono',consolas,'Courier New',monospace\"><span style=\"color: #7fbfbf; text-decoration-color: #7fbfbf\">[19:12:01] </span><span style=\"color: #c0c0c0; text-decoration-color: #c0c0c0\">INFO  </span> - Iteration <span style=\"color: #008080; text-decoration-color: #008080; font-weight: bold\">19000</span>:                                                                     <a href=\"file:///home/daniel/Documents/code/stable_imitation/stanza/stanza/util/loop.py\" target=\"_blank\"><span style=\"color: #7f7f7f; text-decoration-color: #7f7f7f\">loop.py</span></a><span style=\"color: #7f7f7f; text-decoration-color: #7f7f7f\">:</span><a href=\"file:///home/daniel/Documents/code/stable_imitation/stanza/stanza/util/loop.py#85\" target=\"_blank\"><span style=\"color: #7f7f7f; text-decoration-color: #7f7f7f\">85</span></a>\n",
       "<span style=\"color: #7fbfbf; text-decoration-color: #7fbfbf\">           </span>test.cost: <span style=\"color: #008080; text-decoration-color: #008080; font-weight: bold\">0.30720508098602295</span>                                                                <span style=\"color: #7f7f7f; text-decoration-color: #7f7f7f\">          </span>\n",
       "<span style=\"color: #7fbfbf; text-decoration-color: #7fbfbf\">           </span>train.loss: <span style=\"color: #008080; text-decoration-color: #008080; font-weight: bold\">0.0005080956034362316</span>                                                             <span style=\"color: #7f7f7f; text-decoration-color: #7f7f7f\">          </span>\n",
       "</pre>\n"
      ],
      "text/plain": [
       "\u001b[2;36m[19:12:01]\u001b[0m\u001b[2;36m \u001b[0m\u001b[37mINFO  \u001b[0m - Iteration \u001b[1;36m19000\u001b[0m:                                                                     \u001b]8;id=573812;file:///home/daniel/Documents/code/stable_imitation/stanza/stanza/util/loop.py\u001b\\\u001b[2mloop.py\u001b[0m\u001b]8;;\u001b\\\u001b[2m:\u001b[0m\u001b]8;id=792579;file:///home/daniel/Documents/code/stable_imitation/stanza/stanza/util/loop.py#85\u001b\\\u001b[2m85\u001b[0m\u001b]8;;\u001b\\\n",
       "\u001b[2;36m           \u001b[0mtest.cost: \u001b[1;36m0.30720508098602295\u001b[0m                                                                \u001b[2m          \u001b[0m\n",
       "\u001b[2;36m           \u001b[0mtrain.loss: \u001b[1;36m0.0005080956034362316\u001b[0m                                                             \u001b[2m          \u001b[0m\n"
      ]
     },
     "metadata": {},
     "output_type": "display_data"
    },
    {
     "data": {
      "text/html": [
       "<pre style=\"white-space:pre;overflow-x:auto;line-height:normal;font-family:Menlo,'DejaVu Sans Mono',consolas,'Courier New',monospace\"><span style=\"color: #7fbfbf; text-decoration-color: #7fbfbf\">[19:12:03] </span><span style=\"color: #c0c0c0; text-decoration-color: #c0c0c0\">INFO  </span> - Iteration <span style=\"color: #008080; text-decoration-color: #008080; font-weight: bold\">20000</span>:                                                                     <a href=\"file:///home/daniel/Documents/code/stable_imitation/stanza/stanza/util/loop.py\" target=\"_blank\"><span style=\"color: #7f7f7f; text-decoration-color: #7f7f7f\">loop.py</span></a><span style=\"color: #7f7f7f; text-decoration-color: #7f7f7f\">:</span><a href=\"file:///home/daniel/Documents/code/stable_imitation/stanza/stanza/util/loop.py#85\" target=\"_blank\"><span style=\"color: #7f7f7f; text-decoration-color: #7f7f7f\">85</span></a>\n",
       "<span style=\"color: #7fbfbf; text-decoration-color: #7fbfbf\">           </span>test.cost: <span style=\"color: #008080; text-decoration-color: #008080; font-weight: bold\">0.3063797652721405</span>                                                                 <span style=\"color: #7f7f7f; text-decoration-color: #7f7f7f\">          </span>\n",
       "<span style=\"color: #7fbfbf; text-decoration-color: #7fbfbf\">           </span>train.loss: <span style=\"color: #008080; text-decoration-color: #008080; font-weight: bold\">0.00044235275709070265</span>                                                            <span style=\"color: #7f7f7f; text-decoration-color: #7f7f7f\">          </span>\n",
       "</pre>\n"
      ],
      "text/plain": [
       "\u001b[2;36m[19:12:03]\u001b[0m\u001b[2;36m \u001b[0m\u001b[37mINFO  \u001b[0m - Iteration \u001b[1;36m20000\u001b[0m:                                                                     \u001b]8;id=271302;file:///home/daniel/Documents/code/stable_imitation/stanza/stanza/util/loop.py\u001b\\\u001b[2mloop.py\u001b[0m\u001b]8;;\u001b\\\u001b[2m:\u001b[0m\u001b]8;id=192721;file:///home/daniel/Documents/code/stable_imitation/stanza/stanza/util/loop.py#85\u001b\\\u001b[2m85\u001b[0m\u001b]8;;\u001b\\\n",
       "\u001b[2;36m           \u001b[0mtest.cost: \u001b[1;36m0.3063797652721405\u001b[0m                                                                 \u001b[2m          \u001b[0m\n",
       "\u001b[2;36m           \u001b[0mtrain.loss: \u001b[1;36m0.00044235275709070265\u001b[0m                                                            \u001b[2m          \u001b[0m\n"
      ]
     },
     "metadata": {},
     "output_type": "display_data"
    },
    {
     "data": {
      "text/html": [
       "<pre style=\"white-space:pre;overflow-x:auto;line-height:normal;font-family:Menlo,'DejaVu Sans Mono',consolas,'Courier New',monospace\"></pre>\n"
      ],
      "text/plain": []
     },
     "metadata": {},
     "output_type": "display_data"
    }
   ],
   "source": [
    "from stanza.train import Trainer, batch_loss\n",
    "from stanza.train.validate import Validator\n",
    "from stanza.util.loop import every_kth_iteration, every_iteration, LoggerHook\n",
    "from stanza.util.rich import ConsoleDisplay, StatisticsTable, LoopProgress\n",
    "from stanza.reporting.jax import JaxDBScope\n",
    "\n",
    "import stanza\n",
    "import optax\n",
    "\n",
    "iterations = 20000\n",
    "optimizer = optax.adamw(optax.cosine_decay_schedule(1e-3, iterations), weight_decay=1e-4)\n",
    "\n",
    "display = ConsoleDisplay()\n",
    "display.add(\"train\", StatisticsTable(), interval=100)\n",
    "display.add(\"train\", LoopProgress(), interval=100)\n",
    "\n",
    "def val_fn(_, params, _rng_key, rng_key):\n",
    "    x0 = env.reset(rng_key)\n",
    "    policy = stanza.Partial(model_policy, params)\n",
    "    rollout = policies.rollout(env.step, x0,\n",
    "                               policy, length=100, \n",
    "                               last_state=False)\n",
    "    cost = env.cost(rollout.states, rollout.actions)\n",
    "    stats = {'cost': cost}\n",
    "    return stats\n",
    "\n",
    "def batch_val_fn(_, params, _rng_key, rng_keys):\n",
    "    bval_fn = jax.vmap(val_fn, in_axes=(None, None, None, 0))\n",
    "    stats = bval_fn(None, params, _rng_key, rng_keys)\n",
    "    return jax.tree_map(lambda x: jnp.mean(x), stats)\n",
    "\n",
    "validator = Validator(next(rng), \n",
    "        Data.from_pytree(jax.random.split(next(rng), 64)),\n",
    "        condition=every_kth_iteration(1),\n",
    "        stat_fn=batch_val_fn)\n",
    "\n",
    "dbs = JaxDBScope(db)\n",
    "\n",
    "with display as display_handle, dbs as dbs_handle:\n",
    "    logger_hook = LoggerHook(every_kth_iteration(1000))\n",
    "    db_logger_hook = dbs_handle.statistic_logging_hook(log_cond=every_kth_iteration(1), buffer=100)\n",
    "    trainer = Trainer(\n",
    "        loss_fn=batch_loss(loss_fn), batch_size=128,\n",
    "        optimizer=optimizer,\n",
    "        max_iterations=iterations,\n",
    "        train_hooks=[validator, db_logger_hook, logger_hook,\n",
    "                     display_handle.train]\n",
    "    )\n",
    "    \n",
    "    logger.info(\"Initializing model...\")\n",
    "    init_params = model.init(next(rng), state_flat)\n",
    "    logger.info(\"Training...\")\n",
    "    params = trainer.train(expert_data, rng_key=next(rng), init_params=init_params, jit=True)\n"
   ]
  },
  {
   "cell_type": "code",
   "execution_count": null,
   "metadata": {},
   "outputs": [],
   "source": []
  }
 ],
 "metadata": {
  "kernelspec": {
   "display_name": ".venv",
   "language": "python",
   "name": "python3"
  },
  "language_info": {
   "codemirror_mode": {
    "name": "ipython",
    "version": 3
   },
   "file_extension": ".py",
   "mimetype": "text/x-python",
   "name": "python",
   "nbconvert_exporter": "python",
   "pygments_lexer": "ipython3",
   "version": "3.11.4"
  },
  "orig_nbformat": 4
 },
 "nbformat": 4,
 "nbformat_minor": 2
}
