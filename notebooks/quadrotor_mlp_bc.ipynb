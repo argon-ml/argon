{
 "cells": [
  {
   "cell_type": "code",
   "execution_count": 54,
   "metadata": {},
   "outputs": [
    {
     "name": "stdout",
     "output_type": "stream",
     "text": [
      "The autoreload extension is already loaded. To reload it, use:\n",
      "  %reload_ext autoreload\n"
     ]
    }
   ],
   "source": [
    "%load_ext autoreload\n",
    "%autoreload 2\n",
    "%aimport -jax\n",
    "%aimport -jaxlib"
   ]
  },
  {
   "cell_type": "code",
   "execution_count": 55,
   "metadata": {},
   "outputs": [],
   "source": [
    "import stanza.envs as envs\n",
    "import stanza.policies as policies\n",
    "\n",
    "import jax.flatten_util\n",
    "import jax\n",
    "import jax.numpy as jnp\n",
    "\n",
    "from jax.random import PRNGKey\n",
    "from stanza.util.random import PRNGSequence\n",
    "from stanza.util.logging import logger\n",
    "\n",
    "rng = PRNGSequence(42)\n",
    "env = envs.create(\"quadrotor\")"
   ]
  },
  {
   "cell_type": "code",
   "execution_count": 56,
   "metadata": {},
   "outputs": [
    {
     "name": "stdout",
     "output_type": "stream",
     "text": [
      "State(x=Array(-0.9451697, dtype=float32), z=Array(0.86506915, dtype=float32), phi=Array(0., dtype=float32), x_dot=Array(0., dtype=float32), z_dot=Array(0., dtype=float32), phi_dot=Array(0., dtype=float32))\n"
     ]
    }
   ],
   "source": [
    "print(env.reset(next(rng)))"
   ]
  },
  {
   "cell_type": "code",
   "execution_count": 57,
   "metadata": {},
   "outputs": [],
   "source": [
    "# first step: generate expert trajectories \n",
    "from stanza.policies.mpc import MPC\n",
    "from stanza.solver.ilqr import iLQRSolver\n",
    "my_horizon = 100\n",
    "solver_t = iLQRSolver()\n",
    "expert_policy=MPC(\n",
    "            # Sample action\n",
    "            action_sample=env.sample_action(PRNGKey(0)),\n",
    "            cost_fn=env.cost, \n",
    "            model_fn=env.step,\n",
    "            horizon_length=100,\n",
    "            solver=solver_t,\n",
    "            receed=False\n",
    "        )\n",
    "\n",
    "def rollout_policy(rng_key, my_pol):\n",
    "    # random init angle and angular velocity\n",
    "    x_0 = env.reset(rng_key) \n",
    "    roll = policies.rollout(model = env.step,\n",
    "                     state0 = x_0,\n",
    "                     policy = my_pol,\n",
    "                     length = my_horizon,\n",
    "                     last_state = False)\n",
    "    \n",
    "    return roll.states, roll.actions\n",
    "\n",
    "def batch_roll(rng_key, num_t, my_pol):\n",
    "    roll_fun = jax.vmap(rollout_policy,in_axes=(0,None))\n",
    "    rng_keys = jax.random.split(rng_key,num_t)\n",
    "    return roll_fun(rng_keys,my_pol)\n"
   ]
  },
  {
   "cell_type": "code",
   "execution_count": 58,
   "metadata": {},
   "outputs": [],
   "source": [
    "from stanza.data import Data, PyTreeData\n",
    "expert_data = batch_roll(PRNGKey(42), 200,expert_policy)\n",
    "expert_data  = Data.from_pytree(expert_data)\n",
    "expert_data = expert_data.map(lambda x: Data.from_pytree(x))\n",
    "expert_data = PyTreeData.from_data(expert_data.flatten(), chunk_size=4096)"
   ]
  },
  {
   "cell_type": "code",
   "execution_count": 59,
   "metadata": {},
   "outputs": [
    {
     "data": {
      "text/html": [
       "Finishing last run (ID:djybkg72) before initializing another..."
      ],
      "text/plain": [
       "<IPython.core.display.HTML object>"
      ]
     },
     "metadata": {},
     "output_type": "display_data"
    },
    {
     "data": {
      "text/html": [
       "Waiting for W&B process to finish... <strong style=\"color:green\">(success).</strong>"
      ],
      "text/plain": [
       "<IPython.core.display.HTML object>"
      ]
     },
     "metadata": {},
     "output_type": "display_data"
    },
    {
     "data": {
      "application/vnd.jupyter.widget-view+json": {
       "model_id": "dafd110968d244e9b2b723d44ab2cef7",
       "version_major": 2,
       "version_minor": 0
      },
      "text/plain": [
       "VBox(children=(Label(value='0.003 MB of 0.003 MB uploaded (0.000 MB deduped)\\r'), FloatProgress(value=1.0, max…"
      ]
     },
     "metadata": {},
     "output_type": "display_data"
    },
    {
     "data": {
      "text/html": [
       " View run <strong style=\"color:#cdcd00\">mild-snowball-16</strong> at: <a href='https://wandb.ai/dpfrommer-projects/quadrotor_mlp/runs/djybkg72' target=\"_blank\">https://wandb.ai/dpfrommer-projects/quadrotor_mlp/runs/djybkg72</a><br/>Synced 5 W&B file(s), 0 media file(s), 0 artifact file(s) and 0 other file(s)"
      ],
      "text/plain": [
       "<IPython.core.display.HTML object>"
      ]
     },
     "metadata": {},
     "output_type": "display_data"
    },
    {
     "data": {
      "text/html": [
       "Find logs at: <code>./wandb/run-20230911_191109-djybkg72/logs</code>"
      ],
      "text/plain": [
       "<IPython.core.display.HTML object>"
      ]
     },
     "metadata": {},
     "output_type": "display_data"
    },
    {
     "data": {
      "text/html": [
       "Successfully finished last run (ID:djybkg72). Initializing new run:<br/>"
      ],
      "text/plain": [
       "<IPython.core.display.HTML object>"
      ]
     },
     "metadata": {},
     "output_type": "display_data"
    },
    {
     "data": {
      "application/vnd.jupyter.widget-view+json": {
       "model_id": "4b65d8d58e5842539be07d472987e089",
       "version_major": 2,
       "version_minor": 0
      },
      "text/plain": [
       "VBox(children=(Label(value='Waiting for wandb.init()...\\r'), FloatProgress(value=0.016668433283363506, max=1.0…"
      ]
     },
     "metadata": {},
     "output_type": "display_data"
    },
    {
     "data": {
      "text/html": [
       "wandb version 0.15.10 is available!  To upgrade, please run:\n",
       " $ pip install wandb --upgrade"
      ],
      "text/plain": [
       "<IPython.core.display.HTML object>"
      ]
     },
     "metadata": {},
     "output_type": "display_data"
    },
    {
     "data": {
      "text/html": [
       "Tracking run with wandb version 0.13.11"
      ],
      "text/plain": [
       "<IPython.core.display.HTML object>"
      ]
     },
     "metadata": {},
     "output_type": "display_data"
    },
    {
     "data": {
      "text/html": [
       "Run data is saved locally in <code>/home/daniel/Documents/code/stable_imitation/stanza/notebooks/wandb/run-20230911_191329-yf34y1w3</code>"
      ],
      "text/plain": [
       "<IPython.core.display.HTML object>"
      ]
     },
     "metadata": {},
     "output_type": "display_data"
    },
    {
     "data": {
      "text/html": [
       "Syncing run <strong><a href='https://wandb.ai/dpfrommer-projects/quadrotor_mlp/runs/yf34y1w3' target=\"_blank\">charmed-blaze-17</a></strong> to <a href='https://wandb.ai/dpfrommer-projects/quadrotor_mlp' target=\"_blank\">Weights & Biases</a> (<a href='https://wandb.me/run' target=\"_blank\">docs</a>)<br/>"
      ],
      "text/plain": [
       "<IPython.core.display.HTML object>"
      ]
     },
     "metadata": {},
     "output_type": "display_data"
    },
    {
     "data": {
      "text/html": [
       " View project at <a href='https://wandb.ai/dpfrommer-projects/quadrotor_mlp' target=\"_blank\">https://wandb.ai/dpfrommer-projects/quadrotor_mlp</a>"
      ],
      "text/plain": [
       "<IPython.core.display.HTML object>"
      ]
     },
     "metadata": {},
     "output_type": "display_data"
    },
    {
     "data": {
      "text/html": [
       " View run at <a href='https://wandb.ai/dpfrommer-projects/quadrotor_mlp/runs/yf34y1w3' target=\"_blank\">https://wandb.ai/dpfrommer-projects/quadrotor_mlp/runs/yf34y1w3</a>"
      ],
      "text/plain": [
       "<IPython.core.display.HTML object>"
      ]
     },
     "metadata": {},
     "output_type": "display_data"
    },
    {
     "data": {
      "text/html": [
       "<pre style=\"white-space:pre;overflow-x:auto;line-height:normal;font-family:Menlo,'DejaVu Sans Mono',consolas,'Courier New',monospace\"><span style=\"color: #7fbfbf; text-decoration-color: #7fbfbf\">[19:13:35] </span><span style=\"color: #c0c0c0; text-decoration-color: #c0c0c0\">INFO  </span> - Logging to <span style=\"color: #000080; text-decoration-color: #000080\">charmed-blaze-</span><span style=\"color: #000080; text-decoration-color: #000080; font-weight: bold\">17</span>                                                     <a href=\"file:///tmp/ipykernel_8675/3449362941.py\" target=\"_blank\"><span style=\"color: #7f7f7f; text-decoration-color: #7f7f7f\">3449362941.py</span></a><span style=\"color: #7f7f7f; text-decoration-color: #7f7f7f\">:</span><a href=\"file:///tmp/ipykernel_8675/3449362941.py#4\" target=\"_blank\"><span style=\"color: #7f7f7f; text-decoration-color: #7f7f7f\">4</span></a>\n",
       "</pre>\n"
      ],
      "text/plain": [
       "\u001b[2;36m[19:13:35]\u001b[0m\u001b[2;36m \u001b[0m\u001b[37mINFO  \u001b[0m - Logging to \u001b[34mcharmed-blaze-\u001b[0m\u001b[1;34m17\u001b[0m                                                     \u001b]8;id=918226;file:///tmp/ipykernel_8675/3449362941.py\u001b\\\u001b[2m3449362941.py\u001b[0m\u001b]8;;\u001b\\\u001b[2m:\u001b[0m\u001b]8;id=722773;file:///tmp/ipykernel_8675/3449362941.py#4\u001b\\\u001b[2m4\u001b[0m\u001b]8;;\u001b\\\n"
      ]
     },
     "metadata": {},
     "output_type": "display_data"
    }
   ],
   "source": [
    "from stanza.reporting.wandb import WandbDatabase\n",
    "\n",
    "db = WandbDatabase(\"dpfrommer-projects/quadrotor_mlp\").create()\n",
    "logger.info(f\"Logging to [blue]{db.name}[/blue]\")\n"
   ]
  },
  {
   "cell_type": "code",
   "execution_count": 60,
   "metadata": {},
   "outputs": [],
   "source": [
    "from stanza.nets.mlp import MLP\n",
    "import chex\n",
    "\n",
    "action_flat, action_uf = jax.flatten_util.ravel_pytree(env.sample_action(PRNGKey(0)))\n",
    "state_flat, state_uf = jax.flatten_util.ravel_pytree(env.sample_state(PRNGKey(0)))\n",
    "model = MLP([100, 100, 100, action_flat.shape[0]])\n",
    "\n",
    "def loss_fn(state, params, _rng_key, sample):\n",
    "    x, y = sample\n",
    "    y_flat, _ = jax.flatten_util.ravel_pytree(y)\n",
    "    x_flat, _ = jax.flatten_util.ravel_pytree(x)\n",
    "    chex.assert_equal_shape([y_flat, action_flat])\n",
    "    chex.assert_equal_shape([x_flat, state_flat])\n",
    "    a_flat = model.apply(params, x_flat)\n",
    "    loss = jnp.sum(jnp.square(y_flat-a_flat))\n",
    "    stats = {'loss': loss}\n",
    "    return state, loss, stats\n",
    "\n",
    "def model_policy(params, input):\n",
    "    x_flat, _ = jax.flatten_util.ravel_pytree(input.observation)\n",
    "    a_flat = model.apply(params, x_flat)\n",
    "    action = action_uf(a_flat)\n",
    "    return policies.PolicyOutput(action)\n"
   ]
  },
  {
   "cell_type": "code",
   "execution_count": 61,
   "metadata": {},
   "outputs": [
    {
     "data": {
      "application/vnd.jupyter.widget-view+json": {
       "model_id": "74bd6d9cf8f74171b2a666e3e62a08a7",
       "version_major": 2,
       "version_minor": 0
      },
      "text/plain": [
       "Output()"
      ]
     },
     "metadata": {},
     "output_type": "display_data"
    },
    {
     "data": {
      "text/html": [
       "<pre style=\"white-space:pre;overflow-x:auto;line-height:normal;font-family:Menlo,'DejaVu Sans Mono',consolas,'Courier New',monospace\"><span style=\"color: #7fbfbf; text-decoration-color: #7fbfbf\">           </span><span style=\"color: #c0c0c0; text-decoration-color: #c0c0c0\">INFO  </span> - Initializing model<span style=\"color: #808000; text-decoration-color: #808000\">...</span>                                                          <a href=\"file:///tmp/ipykernel_8675/1724547015.py\" target=\"_blank\"><span style=\"color: #7f7f7f; text-decoration-color: #7f7f7f\">1724547015.py</span></a><span style=\"color: #7f7f7f; text-decoration-color: #7f7f7f\">:</span><a href=\"file:///tmp/ipykernel_8675/1724547015.py#50\" target=\"_blank\"><span style=\"color: #7f7f7f; text-decoration-color: #7f7f7f\">50</span></a>\n",
       "</pre>\n"
      ],
      "text/plain": [
       "\u001b[2;36m          \u001b[0m\u001b[2;36m \u001b[0m\u001b[37mINFO  \u001b[0m - Initializing model\u001b[33m...\u001b[0m                                                          \u001b]8;id=14442;file:///tmp/ipykernel_8675/1724547015.py\u001b\\\u001b[2m1724547015.py\u001b[0m\u001b]8;;\u001b\\\u001b[2m:\u001b[0m\u001b]8;id=954807;file:///tmp/ipykernel_8675/1724547015.py#50\u001b\\\u001b[2m50\u001b[0m\u001b]8;;\u001b\\\n"
      ]
     },
     "metadata": {},
     "output_type": "display_data"
    },
    {
     "data": {
      "text/html": [
       "<pre style=\"white-space:pre;overflow-x:auto;line-height:normal;font-family:Menlo,'DejaVu Sans Mono',consolas,'Courier New',monospace\"><span style=\"color: #7fbfbf; text-decoration-color: #7fbfbf\">           </span><span style=\"color: #c0c0c0; text-decoration-color: #c0c0c0\">INFO  </span> - Training<span style=\"color: #808000; text-decoration-color: #808000\">...</span>                                                                    <a href=\"file:///tmp/ipykernel_8675/1724547015.py\" target=\"_blank\"><span style=\"color: #7f7f7f; text-decoration-color: #7f7f7f\">1724547015.py</span></a><span style=\"color: #7f7f7f; text-decoration-color: #7f7f7f\">:</span><a href=\"file:///tmp/ipykernel_8675/1724547015.py#52\" target=\"_blank\"><span style=\"color: #7f7f7f; text-decoration-color: #7f7f7f\">52</span></a>\n",
       "</pre>\n"
      ],
      "text/plain": [
       "\u001b[2;36m          \u001b[0m\u001b[2;36m \u001b[0m\u001b[37mINFO  \u001b[0m - Training\u001b[33m...\u001b[0m                                                                    \u001b]8;id=998429;file:///tmp/ipykernel_8675/1724547015.py\u001b\\\u001b[2m1724547015.py\u001b[0m\u001b]8;;\u001b\\\u001b[2m:\u001b[0m\u001b]8;id=514258;file:///tmp/ipykernel_8675/1724547015.py#52\u001b\\\u001b[2m52\u001b[0m\u001b]8;;\u001b\\\n"
      ]
     },
     "metadata": {},
     "output_type": "display_data"
    },
    {
     "data": {
      "text/html": [
       "<pre style=\"white-space:pre;overflow-x:auto;line-height:normal;font-family:Menlo,'DejaVu Sans Mono',consolas,'Courier New',monospace\"><span style=\"color: #7fbfbf; text-decoration-color: #7fbfbf\">[19:13:36] </span><span style=\"color: #008000; text-decoration-color: #008000\">TRACE </span> - <span style=\"color: #808000; text-decoration-color: #808000; font-weight: bold\">&lt;Tracing&gt;</span> Tracing batch loss                                                    <a href=\"file:///home/daniel/Documents/code/stable_imitation/stanza/stanza/train/__init__.py\" target=\"_blank\"><span style=\"color: #7f7f7f; text-decoration-color: #7f7f7f\">__init__.py</span></a><span style=\"color: #7f7f7f; text-decoration-color: #7f7f7f\">:</span><a href=\"file:///home/daniel/Documents/code/stable_imitation/stanza/stanza/train/__init__.py#279\" target=\"_blank\"><span style=\"color: #7f7f7f; text-decoration-color: #7f7f7f\">279</span></a>\n",
       "</pre>\n"
      ],
      "text/plain": [
       "\u001b[2;36m[19:13:36]\u001b[0m\u001b[2;36m \u001b[0m\u001b[32mTRACE \u001b[0m - \u001b[1;33m<\u001b[0m\u001b[1;33mTracing\u001b[0m\u001b[1;33m>\u001b[0m Tracing batch loss                                                    \u001b]8;id=721476;file:///home/daniel/Documents/code/stable_imitation/stanza/stanza/train/__init__.py\u001b\\\u001b[2m__init__.py\u001b[0m\u001b]8;;\u001b\\\u001b[2m:\u001b[0m\u001b]8;id=489426;file:///home/daniel/Documents/code/stable_imitation/stanza/stanza/train/__init__.py#279\u001b\\\u001b[2m279\u001b[0m\u001b]8;;\u001b\\\n"
      ]
     },
     "metadata": {},
     "output_type": "display_data"
    },
    {
     "data": {
      "text/html": [
       "<pre style=\"white-space:pre;overflow-x:auto;line-height:normal;font-family:Menlo,'DejaVu Sans Mono',consolas,'Courier New',monospace\"><span style=\"color: #7fbfbf; text-decoration-color: #7fbfbf\">           </span><span style=\"color: #008000; text-decoration-color: #008000\">TRACE </span> - <span style=\"color: #808000; text-decoration-color: #808000; font-weight: bold\">&lt;Tracing&gt;</span> Tracing training                                                      <a href=\"file:///home/daniel/Documents/code/stable_imitation/stanza/stanza/train/__init__.py\" target=\"_blank\"><span style=\"color: #7f7f7f; text-decoration-color: #7f7f7f\">__init__.py</span></a><span style=\"color: #7f7f7f; text-decoration-color: #7f7f7f\">:</span><a href=\"file:///home/daniel/Documents/code/stable_imitation/stanza/stanza/train/__init__.py#122\" target=\"_blank\"><span style=\"color: #7f7f7f; text-decoration-color: #7f7f7f\">122</span></a>\n",
       "</pre>\n"
      ],
      "text/plain": [
       "\u001b[2;36m          \u001b[0m\u001b[2;36m \u001b[0m\u001b[32mTRACE \u001b[0m - \u001b[1;33m<\u001b[0m\u001b[1;33mTracing\u001b[0m\u001b[1;33m>\u001b[0m Tracing training                                                      \u001b]8;id=809784;file:///home/daniel/Documents/code/stable_imitation/stanza/stanza/train/__init__.py\u001b\\\u001b[2m__init__.py\u001b[0m\u001b]8;;\u001b\\\u001b[2m:\u001b[0m\u001b]8;id=225413;file:///home/daniel/Documents/code/stable_imitation/stanza/stanza/train/__init__.py#122\u001b\\\u001b[2m122\u001b[0m\u001b]8;;\u001b\\\n"
      ]
     },
     "metadata": {},
     "output_type": "display_data"
    },
    {
     "data": {
      "text/html": [
       "<pre style=\"white-space:pre;overflow-x:auto;line-height:normal;font-family:Menlo,'DejaVu Sans Mono',consolas,'Courier New',monospace\"><span style=\"color: #7fbfbf; text-decoration-color: #7fbfbf\">           </span><span style=\"color: #008000; text-decoration-color: #008000\">TRACE </span> - <span style=\"color: #808000; text-decoration-color: #808000; font-weight: bold\">&lt;Tracing&gt;</span> Tracing epoch step                                                    <a href=\"file:///home/daniel/Documents/code/stable_imitation/stanza/stanza/train/__init__.py\" target=\"_blank\"><span style=\"color: #7f7f7f; text-decoration-color: #7f7f7f\">__init__.py</span></a><span style=\"color: #7f7f7f; text-decoration-color: #7f7f7f\">:</span><a href=\"file:///home/daniel/Documents/code/stable_imitation/stanza/stanza/train/__init__.py#104\" target=\"_blank\"><span style=\"color: #7f7f7f; text-decoration-color: #7f7f7f\">104</span></a>\n",
       "</pre>\n"
      ],
      "text/plain": [
       "\u001b[2;36m          \u001b[0m\u001b[2;36m \u001b[0m\u001b[32mTRACE \u001b[0m - \u001b[1;33m<\u001b[0m\u001b[1;33mTracing\u001b[0m\u001b[1;33m>\u001b[0m Tracing epoch step                                                    \u001b]8;id=419918;file:///home/daniel/Documents/code/stable_imitation/stanza/stanza/train/__init__.py\u001b\\\u001b[2m__init__.py\u001b[0m\u001b]8;;\u001b\\\u001b[2m:\u001b[0m\u001b]8;id=936143;file:///home/daniel/Documents/code/stable_imitation/stanza/stanza/train/__init__.py#104\u001b\\\u001b[2m104\u001b[0m\u001b]8;;\u001b\\\n"
      ]
     },
     "metadata": {},
     "output_type": "display_data"
    },
    {
     "data": {
      "text/html": [
       "<pre style=\"white-space:pre;overflow-x:auto;line-height:normal;font-family:Menlo,'DejaVu Sans Mono',consolas,'Courier New',monospace\"><span style=\"color: #7fbfbf; text-decoration-color: #7fbfbf\">           </span><span style=\"color: #008000; text-decoration-color: #008000\">TRACE </span> - <span style=\"color: #808000; text-decoration-color: #808000; font-weight: bold\">&lt;Tracing&gt;</span> Tracing train step                                                     <a href=\"file:///home/daniel/Documents/code/stable_imitation/stanza/stanza/train/__init__.py\" target=\"_blank\"><span style=\"color: #7f7f7f; text-decoration-color: #7f7f7f\">__init__.py</span></a><span style=\"color: #7f7f7f; text-decoration-color: #7f7f7f\">:</span><a href=\"file:///home/daniel/Documents/code/stable_imitation/stanza/stanza/train/__init__.py#69\" target=\"_blank\"><span style=\"color: #7f7f7f; text-decoration-color: #7f7f7f\">69</span></a>\n",
       "</pre>\n"
      ],
      "text/plain": [
       "\u001b[2;36m          \u001b[0m\u001b[2;36m \u001b[0m\u001b[32mTRACE \u001b[0m - \u001b[1;33m<\u001b[0m\u001b[1;33mTracing\u001b[0m\u001b[1;33m>\u001b[0m Tracing train step                                                     \u001b]8;id=820570;file:///home/daniel/Documents/code/stable_imitation/stanza/stanza/train/__init__.py\u001b\\\u001b[2m__init__.py\u001b[0m\u001b]8;;\u001b\\\u001b[2m:\u001b[0m\u001b]8;id=907783;file:///home/daniel/Documents/code/stable_imitation/stanza/stanza/train/__init__.py#69\u001b\\\u001b[2m69\u001b[0m\u001b]8;;\u001b\\\n"
      ]
     },
     "metadata": {},
     "output_type": "display_data"
    },
    {
     "data": {
      "text/html": [
       "<pre style=\"white-space:pre;overflow-x:auto;line-height:normal;font-family:Menlo,'DejaVu Sans Mono',consolas,'Courier New',monospace\"><span style=\"color: #7fbfbf; text-decoration-color: #7fbfbf\">           </span><span style=\"color: #008000; text-decoration-color: #008000\">TRACE </span> - <span style=\"color: #808000; text-decoration-color: #808000; font-weight: bold\">&lt;Tracing&gt;</span> Done tracing training                                                 <a href=\"file:///home/daniel/Documents/code/stable_imitation/stanza/stanza/train/__init__.py\" target=\"_blank\"><span style=\"color: #7f7f7f; text-decoration-color: #7f7f7f\">__init__.py</span></a><span style=\"color: #7f7f7f; text-decoration-color: #7f7f7f\">:</span><a href=\"file:///home/daniel/Documents/code/stable_imitation/stanza/stanza/train/__init__.py#131\" target=\"_blank\"><span style=\"color: #7f7f7f; text-decoration-color: #7f7f7f\">131</span></a>\n",
       "</pre>\n"
      ],
      "text/plain": [
       "\u001b[2;36m          \u001b[0m\u001b[2;36m \u001b[0m\u001b[32mTRACE \u001b[0m - \u001b[1;33m<\u001b[0m\u001b[1;33mTracing\u001b[0m\u001b[1;33m>\u001b[0m Done tracing training                                                 \u001b]8;id=826388;file:///home/daniel/Documents/code/stable_imitation/stanza/stanza/train/__init__.py\u001b\\\u001b[2m__init__.py\u001b[0m\u001b]8;;\u001b\\\u001b[2m:\u001b[0m\u001b]8;id=714540;file:///home/daniel/Documents/code/stable_imitation/stanza/stanza/train/__init__.py#131\u001b\\\u001b[2m131\u001b[0m\u001b]8;;\u001b\\\n"
      ]
     },
     "metadata": {},
     "output_type": "display_data"
    },
    {
     "data": {
      "text/html": [
       "<pre style=\"white-space:pre;overflow-x:auto;line-height:normal;font-family:Menlo,'DejaVu Sans Mono',consolas,'Courier New',monospace\"><span style=\"color: #7fbfbf; text-decoration-color: #7fbfbf\">[19:13:43] </span><span style=\"color: #c0c0c0; text-decoration-color: #c0c0c0\">INFO  </span> - Iteration <span style=\"color: #008080; text-decoration-color: #008080; font-weight: bold\">1000</span>:                                                                      <a href=\"file:///home/daniel/Documents/code/stable_imitation/stanza/stanza/util/loop.py\" target=\"_blank\"><span style=\"color: #7f7f7f; text-decoration-color: #7f7f7f\">loop.py</span></a><span style=\"color: #7f7f7f; text-decoration-color: #7f7f7f\">:</span><a href=\"file:///home/daniel/Documents/code/stable_imitation/stanza/stanza/util/loop.py#85\" target=\"_blank\"><span style=\"color: #7f7f7f; text-decoration-color: #7f7f7f\">85</span></a>\n",
       "<span style=\"color: #7fbfbf; text-decoration-color: #7fbfbf\">           </span>test.cost: <span style=\"color: #008080; text-decoration-color: #008080; font-weight: bold\">0.14919869601726532</span>                                                                <span style=\"color: #7f7f7f; text-decoration-color: #7f7f7f\">          </span>\n",
       "<span style=\"color: #7fbfbf; text-decoration-color: #7fbfbf\">           </span>train.loss: <span style=\"color: #008080; text-decoration-color: #008080; font-weight: bold\">0.0069279917515814304</span>                                                             <span style=\"color: #7f7f7f; text-decoration-color: #7f7f7f\">          </span>\n",
       "</pre>\n"
      ],
      "text/plain": [
       "\u001b[2;36m[19:13:43]\u001b[0m\u001b[2;36m \u001b[0m\u001b[37mINFO  \u001b[0m - Iteration \u001b[1;36m1000\u001b[0m:                                                                      \u001b]8;id=58922;file:///home/daniel/Documents/code/stable_imitation/stanza/stanza/util/loop.py\u001b\\\u001b[2mloop.py\u001b[0m\u001b]8;;\u001b\\\u001b[2m:\u001b[0m\u001b]8;id=930501;file:///home/daniel/Documents/code/stable_imitation/stanza/stanza/util/loop.py#85\u001b\\\u001b[2m85\u001b[0m\u001b]8;;\u001b\\\n",
       "\u001b[2;36m           \u001b[0mtest.cost: \u001b[1;36m0.14919869601726532\u001b[0m                                                                \u001b[2m          \u001b[0m\n",
       "\u001b[2;36m           \u001b[0mtrain.loss: \u001b[1;36m0.0069279917515814304\u001b[0m                                                             \u001b[2m          \u001b[0m\n"
      ]
     },
     "metadata": {},
     "output_type": "display_data"
    },
    {
     "data": {
      "text/html": [
       "<pre style=\"white-space:pre;overflow-x:auto;line-height:normal;font-family:Menlo,'DejaVu Sans Mono',consolas,'Courier New',monospace\"><span style=\"color: #7fbfbf; text-decoration-color: #7fbfbf\">[19:13:47] </span><span style=\"color: #c0c0c0; text-decoration-color: #c0c0c0\">INFO  </span> - Iteration <span style=\"color: #008080; text-decoration-color: #008080; font-weight: bold\">2000</span>:                                                                      <a href=\"file:///home/daniel/Documents/code/stable_imitation/stanza/stanza/util/loop.py\" target=\"_blank\"><span style=\"color: #7f7f7f; text-decoration-color: #7f7f7f\">loop.py</span></a><span style=\"color: #7f7f7f; text-decoration-color: #7f7f7f\">:</span><a href=\"file:///home/daniel/Documents/code/stable_imitation/stanza/stanza/util/loop.py#85\" target=\"_blank\"><span style=\"color: #7f7f7f; text-decoration-color: #7f7f7f\">85</span></a>\n",
       "<span style=\"color: #7fbfbf; text-decoration-color: #7fbfbf\">           </span>test.cost: <span style=\"color: #008080; text-decoration-color: #008080; font-weight: bold\">0.14249223470687866</span>                                                                <span style=\"color: #7f7f7f; text-decoration-color: #7f7f7f\">          </span>\n",
       "<span style=\"color: #7fbfbf; text-decoration-color: #7fbfbf\">           </span>train.loss: <span style=\"color: #008080; text-decoration-color: #008080; font-weight: bold\">0.00304954731836915</span>                                                               <span style=\"color: #7f7f7f; text-decoration-color: #7f7f7f\">          </span>\n",
       "</pre>\n"
      ],
      "text/plain": [
       "\u001b[2;36m[19:13:47]\u001b[0m\u001b[2;36m \u001b[0m\u001b[37mINFO  \u001b[0m - Iteration \u001b[1;36m2000\u001b[0m:                                                                      \u001b]8;id=811364;file:///home/daniel/Documents/code/stable_imitation/stanza/stanza/util/loop.py\u001b\\\u001b[2mloop.py\u001b[0m\u001b]8;;\u001b\\\u001b[2m:\u001b[0m\u001b]8;id=177713;file:///home/daniel/Documents/code/stable_imitation/stanza/stanza/util/loop.py#85\u001b\\\u001b[2m85\u001b[0m\u001b]8;;\u001b\\\n",
       "\u001b[2;36m           \u001b[0mtest.cost: \u001b[1;36m0.14249223470687866\u001b[0m                                                                \u001b[2m          \u001b[0m\n",
       "\u001b[2;36m           \u001b[0mtrain.loss: \u001b[1;36m0.00304954731836915\u001b[0m                                                               \u001b[2m          \u001b[0m\n"
      ]
     },
     "metadata": {},
     "output_type": "display_data"
    },
    {
     "data": {
      "text/html": [
       "<pre style=\"white-space:pre;overflow-x:auto;line-height:normal;font-family:Menlo,'DejaVu Sans Mono',consolas,'Courier New',monospace\"><span style=\"color: #7fbfbf; text-decoration-color: #7fbfbf\">[19:13:51] </span><span style=\"color: #c0c0c0; text-decoration-color: #c0c0c0\">INFO  </span> - Iteration <span style=\"color: #008080; text-decoration-color: #008080; font-weight: bold\">3000</span>:                                                                      <a href=\"file:///home/daniel/Documents/code/stable_imitation/stanza/stanza/util/loop.py\" target=\"_blank\"><span style=\"color: #7f7f7f; text-decoration-color: #7f7f7f\">loop.py</span></a><span style=\"color: #7f7f7f; text-decoration-color: #7f7f7f\">:</span><a href=\"file:///home/daniel/Documents/code/stable_imitation/stanza/stanza/util/loop.py#85\" target=\"_blank\"><span style=\"color: #7f7f7f; text-decoration-color: #7f7f7f\">85</span></a>\n",
       "<span style=\"color: #7fbfbf; text-decoration-color: #7fbfbf\">           </span>test.cost: <span style=\"color: #008080; text-decoration-color: #008080; font-weight: bold\">0.14108440279960632</span>                                                                <span style=\"color: #7f7f7f; text-decoration-color: #7f7f7f\">          </span>\n",
       "<span style=\"color: #7fbfbf; text-decoration-color: #7fbfbf\">           </span>train.loss: <span style=\"color: #008080; text-decoration-color: #008080; font-weight: bold\">0.008594461716711521</span>                                                              <span style=\"color: #7f7f7f; text-decoration-color: #7f7f7f\">          </span>\n",
       "</pre>\n"
      ],
      "text/plain": [
       "\u001b[2;36m[19:13:51]\u001b[0m\u001b[2;36m \u001b[0m\u001b[37mINFO  \u001b[0m - Iteration \u001b[1;36m3000\u001b[0m:                                                                      \u001b]8;id=418195;file:///home/daniel/Documents/code/stable_imitation/stanza/stanza/util/loop.py\u001b\\\u001b[2mloop.py\u001b[0m\u001b]8;;\u001b\\\u001b[2m:\u001b[0m\u001b]8;id=919538;file:///home/daniel/Documents/code/stable_imitation/stanza/stanza/util/loop.py#85\u001b\\\u001b[2m85\u001b[0m\u001b]8;;\u001b\\\n",
       "\u001b[2;36m           \u001b[0mtest.cost: \u001b[1;36m0.14108440279960632\u001b[0m                                                                \u001b[2m          \u001b[0m\n",
       "\u001b[2;36m           \u001b[0mtrain.loss: \u001b[1;36m0.008594461716711521\u001b[0m                                                              \u001b[2m          \u001b[0m\n"
      ]
     },
     "metadata": {},
     "output_type": "display_data"
    },
    {
     "data": {
      "text/html": [
       "<pre style=\"white-space:pre;overflow-x:auto;line-height:normal;font-family:Menlo,'DejaVu Sans Mono',consolas,'Courier New',monospace\"><span style=\"color: #7fbfbf; text-decoration-color: #7fbfbf\">[19:13:55] </span><span style=\"color: #c0c0c0; text-decoration-color: #c0c0c0\">INFO  </span> - Iteration <span style=\"color: #008080; text-decoration-color: #008080; font-weight: bold\">4000</span>:                                                                      <a href=\"file:///home/daniel/Documents/code/stable_imitation/stanza/stanza/util/loop.py\" target=\"_blank\"><span style=\"color: #7f7f7f; text-decoration-color: #7f7f7f\">loop.py</span></a><span style=\"color: #7f7f7f; text-decoration-color: #7f7f7f\">:</span><a href=\"file:///home/daniel/Documents/code/stable_imitation/stanza/stanza/util/loop.py#85\" target=\"_blank\"><span style=\"color: #7f7f7f; text-decoration-color: #7f7f7f\">85</span></a>\n",
       "<span style=\"color: #7fbfbf; text-decoration-color: #7fbfbf\">           </span>test.cost: <span style=\"color: #008080; text-decoration-color: #008080; font-weight: bold\">0.14199493825435638</span>                                                                <span style=\"color: #7f7f7f; text-decoration-color: #7f7f7f\">          </span>\n",
       "<span style=\"color: #7fbfbf; text-decoration-color: #7fbfbf\">           </span>train.loss: <span style=\"color: #008080; text-decoration-color: #008080; font-weight: bold\">0.0030889445915818214</span>                                                             <span style=\"color: #7f7f7f; text-decoration-color: #7f7f7f\">          </span>\n",
       "</pre>\n"
      ],
      "text/plain": [
       "\u001b[2;36m[19:13:55]\u001b[0m\u001b[2;36m \u001b[0m\u001b[37mINFO  \u001b[0m - Iteration \u001b[1;36m4000\u001b[0m:                                                                      \u001b]8;id=641708;file:///home/daniel/Documents/code/stable_imitation/stanza/stanza/util/loop.py\u001b\\\u001b[2mloop.py\u001b[0m\u001b]8;;\u001b\\\u001b[2m:\u001b[0m\u001b]8;id=610390;file:///home/daniel/Documents/code/stable_imitation/stanza/stanza/util/loop.py#85\u001b\\\u001b[2m85\u001b[0m\u001b]8;;\u001b\\\n",
       "\u001b[2;36m           \u001b[0mtest.cost: \u001b[1;36m0.14199493825435638\u001b[0m                                                                \u001b[2m          \u001b[0m\n",
       "\u001b[2;36m           \u001b[0mtrain.loss: \u001b[1;36m0.0030889445915818214\u001b[0m                                                             \u001b[2m          \u001b[0m\n"
      ]
     },
     "metadata": {},
     "output_type": "display_data"
    },
    {
     "data": {
      "text/html": [
       "<pre style=\"white-space:pre;overflow-x:auto;line-height:normal;font-family:Menlo,'DejaVu Sans Mono',consolas,'Courier New',monospace\"><span style=\"color: #7fbfbf; text-decoration-color: #7fbfbf\">[19:13:59] </span><span style=\"color: #c0c0c0; text-decoration-color: #c0c0c0\">INFO  </span> - Iteration <span style=\"color: #008080; text-decoration-color: #008080; font-weight: bold\">5000</span>:                                                                      <a href=\"file:///home/daniel/Documents/code/stable_imitation/stanza/stanza/util/loop.py\" target=\"_blank\"><span style=\"color: #7f7f7f; text-decoration-color: #7f7f7f\">loop.py</span></a><span style=\"color: #7f7f7f; text-decoration-color: #7f7f7f\">:</span><a href=\"file:///home/daniel/Documents/code/stable_imitation/stanza/stanza/util/loop.py#85\" target=\"_blank\"><span style=\"color: #7f7f7f; text-decoration-color: #7f7f7f\">85</span></a>\n",
       "<span style=\"color: #7fbfbf; text-decoration-color: #7fbfbf\">           </span>test.cost: <span style=\"color: #008080; text-decoration-color: #008080; font-weight: bold\">0.14208000898361206</span>                                                                <span style=\"color: #7f7f7f; text-decoration-color: #7f7f7f\">          </span>\n",
       "<span style=\"color: #7fbfbf; text-decoration-color: #7fbfbf\">           </span>train.loss: <span style=\"color: #008080; text-decoration-color: #008080; font-weight: bold\">0.0029450878500938416</span>                                                             <span style=\"color: #7f7f7f; text-decoration-color: #7f7f7f\">          </span>\n",
       "</pre>\n"
      ],
      "text/plain": [
       "\u001b[2;36m[19:13:59]\u001b[0m\u001b[2;36m \u001b[0m\u001b[37mINFO  \u001b[0m - Iteration \u001b[1;36m5000\u001b[0m:                                                                      \u001b]8;id=892932;file:///home/daniel/Documents/code/stable_imitation/stanza/stanza/util/loop.py\u001b\\\u001b[2mloop.py\u001b[0m\u001b]8;;\u001b\\\u001b[2m:\u001b[0m\u001b]8;id=461431;file:///home/daniel/Documents/code/stable_imitation/stanza/stanza/util/loop.py#85\u001b\\\u001b[2m85\u001b[0m\u001b]8;;\u001b\\\n",
       "\u001b[2;36m           \u001b[0mtest.cost: \u001b[1;36m0.14208000898361206\u001b[0m                                                                \u001b[2m          \u001b[0m\n",
       "\u001b[2;36m           \u001b[0mtrain.loss: \u001b[1;36m0.0029450878500938416\u001b[0m                                                             \u001b[2m          \u001b[0m\n"
      ]
     },
     "metadata": {},
     "output_type": "display_data"
    },
    {
     "data": {
      "text/html": [
       "<pre style=\"white-space:pre;overflow-x:auto;line-height:normal;font-family:Menlo,'DejaVu Sans Mono',consolas,'Courier New',monospace\"><span style=\"color: #7fbfbf; text-decoration-color: #7fbfbf\">[19:14:03] </span><span style=\"color: #c0c0c0; text-decoration-color: #c0c0c0\">INFO  </span> - Iteration <span style=\"color: #008080; text-decoration-color: #008080; font-weight: bold\">6000</span>:                                                                      <a href=\"file:///home/daniel/Documents/code/stable_imitation/stanza/stanza/util/loop.py\" target=\"_blank\"><span style=\"color: #7f7f7f; text-decoration-color: #7f7f7f\">loop.py</span></a><span style=\"color: #7f7f7f; text-decoration-color: #7f7f7f\">:</span><a href=\"file:///home/daniel/Documents/code/stable_imitation/stanza/stanza/util/loop.py#85\" target=\"_blank\"><span style=\"color: #7f7f7f; text-decoration-color: #7f7f7f\">85</span></a>\n",
       "<span style=\"color: #7fbfbf; text-decoration-color: #7fbfbf\">           </span>test.cost: <span style=\"color: #008080; text-decoration-color: #008080; font-weight: bold\">0.1411699652671814</span>                                                                 <span style=\"color: #7f7f7f; text-decoration-color: #7f7f7f\">          </span>\n",
       "<span style=\"color: #7fbfbf; text-decoration-color: #7fbfbf\">           </span>train.loss: <span style=\"color: #008080; text-decoration-color: #008080; font-weight: bold\">0.002932983450591564</span>                                                              <span style=\"color: #7f7f7f; text-decoration-color: #7f7f7f\">          </span>\n",
       "</pre>\n"
      ],
      "text/plain": [
       "\u001b[2;36m[19:14:03]\u001b[0m\u001b[2;36m \u001b[0m\u001b[37mINFO  \u001b[0m - Iteration \u001b[1;36m6000\u001b[0m:                                                                      \u001b]8;id=931879;file:///home/daniel/Documents/code/stable_imitation/stanza/stanza/util/loop.py\u001b\\\u001b[2mloop.py\u001b[0m\u001b]8;;\u001b\\\u001b[2m:\u001b[0m\u001b]8;id=933100;file:///home/daniel/Documents/code/stable_imitation/stanza/stanza/util/loop.py#85\u001b\\\u001b[2m85\u001b[0m\u001b]8;;\u001b\\\n",
       "\u001b[2;36m           \u001b[0mtest.cost: \u001b[1;36m0.1411699652671814\u001b[0m                                                                 \u001b[2m          \u001b[0m\n",
       "\u001b[2;36m           \u001b[0mtrain.loss: \u001b[1;36m0.002932983450591564\u001b[0m                                                              \u001b[2m          \u001b[0m\n"
      ]
     },
     "metadata": {},
     "output_type": "display_data"
    },
    {
     "data": {
      "text/html": [
       "<pre style=\"white-space:pre;overflow-x:auto;line-height:normal;font-family:Menlo,'DejaVu Sans Mono',consolas,'Courier New',monospace\"><span style=\"color: #7fbfbf; text-decoration-color: #7fbfbf\">[19:14:07] </span><span style=\"color: #c0c0c0; text-decoration-color: #c0c0c0\">INFO  </span> - Iteration <span style=\"color: #008080; text-decoration-color: #008080; font-weight: bold\">7000</span>:                                                                      <a href=\"file:///home/daniel/Documents/code/stable_imitation/stanza/stanza/util/loop.py\" target=\"_blank\"><span style=\"color: #7f7f7f; text-decoration-color: #7f7f7f\">loop.py</span></a><span style=\"color: #7f7f7f; text-decoration-color: #7f7f7f\">:</span><a href=\"file:///home/daniel/Documents/code/stable_imitation/stanza/stanza/util/loop.py#85\" target=\"_blank\"><span style=\"color: #7f7f7f; text-decoration-color: #7f7f7f\">85</span></a>\n",
       "<span style=\"color: #7fbfbf; text-decoration-color: #7fbfbf\">           </span>test.cost: <span style=\"color: #008080; text-decoration-color: #008080; font-weight: bold\">0.14042216539382935</span>                                                                <span style=\"color: #7f7f7f; text-decoration-color: #7f7f7f\">          </span>\n",
       "<span style=\"color: #7fbfbf; text-decoration-color: #7fbfbf\">           </span>train.loss: <span style=\"color: #008080; text-decoration-color: #008080; font-weight: bold\">0.001413986086845398</span>                                                              <span style=\"color: #7f7f7f; text-decoration-color: #7f7f7f\">          </span>\n",
       "</pre>\n"
      ],
      "text/plain": [
       "\u001b[2;36m[19:14:07]\u001b[0m\u001b[2;36m \u001b[0m\u001b[37mINFO  \u001b[0m - Iteration \u001b[1;36m7000\u001b[0m:                                                                      \u001b]8;id=668041;file:///home/daniel/Documents/code/stable_imitation/stanza/stanza/util/loop.py\u001b\\\u001b[2mloop.py\u001b[0m\u001b]8;;\u001b\\\u001b[2m:\u001b[0m\u001b]8;id=707393;file:///home/daniel/Documents/code/stable_imitation/stanza/stanza/util/loop.py#85\u001b\\\u001b[2m85\u001b[0m\u001b]8;;\u001b\\\n",
       "\u001b[2;36m           \u001b[0mtest.cost: \u001b[1;36m0.14042216539382935\u001b[0m                                                                \u001b[2m          \u001b[0m\n",
       "\u001b[2;36m           \u001b[0mtrain.loss: \u001b[1;36m0.001413986086845398\u001b[0m                                                              \u001b[2m          \u001b[0m\n"
      ]
     },
     "metadata": {},
     "output_type": "display_data"
    },
    {
     "data": {
      "text/html": [
       "<pre style=\"white-space:pre;overflow-x:auto;line-height:normal;font-family:Menlo,'DejaVu Sans Mono',consolas,'Courier New',monospace\"><span style=\"color: #7fbfbf; text-decoration-color: #7fbfbf\">[19:14:10] </span><span style=\"color: #c0c0c0; text-decoration-color: #c0c0c0\">INFO  </span> - Iteration <span style=\"color: #008080; text-decoration-color: #008080; font-weight: bold\">8000</span>:                                                                      <a href=\"file:///home/daniel/Documents/code/stable_imitation/stanza/stanza/util/loop.py\" target=\"_blank\"><span style=\"color: #7f7f7f; text-decoration-color: #7f7f7f\">loop.py</span></a><span style=\"color: #7f7f7f; text-decoration-color: #7f7f7f\">:</span><a href=\"file:///home/daniel/Documents/code/stable_imitation/stanza/stanza/util/loop.py#85\" target=\"_blank\"><span style=\"color: #7f7f7f; text-decoration-color: #7f7f7f\">85</span></a>\n",
       "<span style=\"color: #7fbfbf; text-decoration-color: #7fbfbf\">           </span>test.cost: <span style=\"color: #008080; text-decoration-color: #008080; font-weight: bold\">0.14026889204978943</span>                                                                <span style=\"color: #7f7f7f; text-decoration-color: #7f7f7f\">          </span>\n",
       "<span style=\"color: #7fbfbf; text-decoration-color: #7fbfbf\">           </span>train.loss: <span style=\"color: #008080; text-decoration-color: #008080; font-weight: bold\">0.0014214410912245512</span>                                                             <span style=\"color: #7f7f7f; text-decoration-color: #7f7f7f\">          </span>\n",
       "</pre>\n"
      ],
      "text/plain": [
       "\u001b[2;36m[19:14:10]\u001b[0m\u001b[2;36m \u001b[0m\u001b[37mINFO  \u001b[0m - Iteration \u001b[1;36m8000\u001b[0m:                                                                      \u001b]8;id=987483;file:///home/daniel/Documents/code/stable_imitation/stanza/stanza/util/loop.py\u001b\\\u001b[2mloop.py\u001b[0m\u001b]8;;\u001b\\\u001b[2m:\u001b[0m\u001b]8;id=480820;file:///home/daniel/Documents/code/stable_imitation/stanza/stanza/util/loop.py#85\u001b\\\u001b[2m85\u001b[0m\u001b]8;;\u001b\\\n",
       "\u001b[2;36m           \u001b[0mtest.cost: \u001b[1;36m0.14026889204978943\u001b[0m                                                                \u001b[2m          \u001b[0m\n",
       "\u001b[2;36m           \u001b[0mtrain.loss: \u001b[1;36m0.0014214410912245512\u001b[0m                                                             \u001b[2m          \u001b[0m\n"
      ]
     },
     "metadata": {},
     "output_type": "display_data"
    },
    {
     "data": {
      "text/html": [
       "<pre style=\"white-space:pre;overflow-x:auto;line-height:normal;font-family:Menlo,'DejaVu Sans Mono',consolas,'Courier New',monospace\"><span style=\"color: #7fbfbf; text-decoration-color: #7fbfbf\">[19:14:14] </span><span style=\"color: #c0c0c0; text-decoration-color: #c0c0c0\">INFO  </span> - Iteration <span style=\"color: #008080; text-decoration-color: #008080; font-weight: bold\">9000</span>:                                                                      <a href=\"file:///home/daniel/Documents/code/stable_imitation/stanza/stanza/util/loop.py\" target=\"_blank\"><span style=\"color: #7f7f7f; text-decoration-color: #7f7f7f\">loop.py</span></a><span style=\"color: #7f7f7f; text-decoration-color: #7f7f7f\">:</span><a href=\"file:///home/daniel/Documents/code/stable_imitation/stanza/stanza/util/loop.py#85\" target=\"_blank\"><span style=\"color: #7f7f7f; text-decoration-color: #7f7f7f\">85</span></a>\n",
       "<span style=\"color: #7fbfbf; text-decoration-color: #7fbfbf\">           </span>test.cost: <span style=\"color: #008080; text-decoration-color: #008080; font-weight: bold\">0.14018277823925018</span>                                                                <span style=\"color: #7f7f7f; text-decoration-color: #7f7f7f\">          </span>\n",
       "<span style=\"color: #7fbfbf; text-decoration-color: #7fbfbf\">           </span>train.loss: <span style=\"color: #008080; text-decoration-color: #008080; font-weight: bold\">0.0009984367061406374</span>                                                             <span style=\"color: #7f7f7f; text-decoration-color: #7f7f7f\">          </span>\n",
       "</pre>\n"
      ],
      "text/plain": [
       "\u001b[2;36m[19:14:14]\u001b[0m\u001b[2;36m \u001b[0m\u001b[37mINFO  \u001b[0m - Iteration \u001b[1;36m9000\u001b[0m:                                                                      \u001b]8;id=744664;file:///home/daniel/Documents/code/stable_imitation/stanza/stanza/util/loop.py\u001b\\\u001b[2mloop.py\u001b[0m\u001b]8;;\u001b\\\u001b[2m:\u001b[0m\u001b]8;id=625552;file:///home/daniel/Documents/code/stable_imitation/stanza/stanza/util/loop.py#85\u001b\\\u001b[2m85\u001b[0m\u001b]8;;\u001b\\\n",
       "\u001b[2;36m           \u001b[0mtest.cost: \u001b[1;36m0.14018277823925018\u001b[0m                                                                \u001b[2m          \u001b[0m\n",
       "\u001b[2;36m           \u001b[0mtrain.loss: \u001b[1;36m0.0009984367061406374\u001b[0m                                                             \u001b[2m          \u001b[0m\n"
      ]
     },
     "metadata": {},
     "output_type": "display_data"
    },
    {
     "data": {
      "text/html": [
       "<pre style=\"white-space:pre;overflow-x:auto;line-height:normal;font-family:Menlo,'DejaVu Sans Mono',consolas,'Courier New',monospace\"><span style=\"color: #7fbfbf; text-decoration-color: #7fbfbf\">[19:14:18] </span><span style=\"color: #c0c0c0; text-decoration-color: #c0c0c0\">INFO  </span> - Iteration <span style=\"color: #008080; text-decoration-color: #008080; font-weight: bold\">10000</span>:                                                                     <a href=\"file:///home/daniel/Documents/code/stable_imitation/stanza/stanza/util/loop.py\" target=\"_blank\"><span style=\"color: #7f7f7f; text-decoration-color: #7f7f7f\">loop.py</span></a><span style=\"color: #7f7f7f; text-decoration-color: #7f7f7f\">:</span><a href=\"file:///home/daniel/Documents/code/stable_imitation/stanza/stanza/util/loop.py#85\" target=\"_blank\"><span style=\"color: #7f7f7f; text-decoration-color: #7f7f7f\">85</span></a>\n",
       "<span style=\"color: #7fbfbf; text-decoration-color: #7fbfbf\">           </span>test.cost: <span style=\"color: #008080; text-decoration-color: #008080; font-weight: bold\">0.14011041820049286</span>                                                                <span style=\"color: #7f7f7f; text-decoration-color: #7f7f7f\">          </span>\n",
       "<span style=\"color: #7fbfbf; text-decoration-color: #7fbfbf\">           </span>train.loss: <span style=\"color: #008080; text-decoration-color: #008080; font-weight: bold\">0.0012126711662858725</span>                                                             <span style=\"color: #7f7f7f; text-decoration-color: #7f7f7f\">          </span>\n",
       "</pre>\n"
      ],
      "text/plain": [
       "\u001b[2;36m[19:14:18]\u001b[0m\u001b[2;36m \u001b[0m\u001b[37mINFO  \u001b[0m - Iteration \u001b[1;36m10000\u001b[0m:                                                                     \u001b]8;id=93865;file:///home/daniel/Documents/code/stable_imitation/stanza/stanza/util/loop.py\u001b\\\u001b[2mloop.py\u001b[0m\u001b]8;;\u001b\\\u001b[2m:\u001b[0m\u001b]8;id=62407;file:///home/daniel/Documents/code/stable_imitation/stanza/stanza/util/loop.py#85\u001b\\\u001b[2m85\u001b[0m\u001b]8;;\u001b\\\n",
       "\u001b[2;36m           \u001b[0mtest.cost: \u001b[1;36m0.14011041820049286\u001b[0m                                                                \u001b[2m          \u001b[0m\n",
       "\u001b[2;36m           \u001b[0mtrain.loss: \u001b[1;36m0.0012126711662858725\u001b[0m                                                             \u001b[2m          \u001b[0m\n"
      ]
     },
     "metadata": {},
     "output_type": "display_data"
    },
    {
     "data": {
      "text/html": [
       "<pre style=\"white-space:pre;overflow-x:auto;line-height:normal;font-family:Menlo,'DejaVu Sans Mono',consolas,'Courier New',monospace\"><span style=\"color: #7fbfbf; text-decoration-color: #7fbfbf\">[19:14:22] </span><span style=\"color: #c0c0c0; text-decoration-color: #c0c0c0\">INFO  </span> - Iteration <span style=\"color: #008080; text-decoration-color: #008080; font-weight: bold\">11000</span>:                                                                     <a href=\"file:///home/daniel/Documents/code/stable_imitation/stanza/stanza/util/loop.py\" target=\"_blank\"><span style=\"color: #7f7f7f; text-decoration-color: #7f7f7f\">loop.py</span></a><span style=\"color: #7f7f7f; text-decoration-color: #7f7f7f\">:</span><a href=\"file:///home/daniel/Documents/code/stable_imitation/stanza/stanza/util/loop.py#85\" target=\"_blank\"><span style=\"color: #7f7f7f; text-decoration-color: #7f7f7f\">85</span></a>\n",
       "<span style=\"color: #7fbfbf; text-decoration-color: #7fbfbf\">           </span>test.cost: <span style=\"color: #008080; text-decoration-color: #008080; font-weight: bold\">0.13962067663669586</span>                                                                <span style=\"color: #7f7f7f; text-decoration-color: #7f7f7f\">          </span>\n",
       "<span style=\"color: #7fbfbf; text-decoration-color: #7fbfbf\">           </span>train.loss: <span style=\"color: #008080; text-decoration-color: #008080; font-weight: bold\">0.0011139423586428165</span>                                                             <span style=\"color: #7f7f7f; text-decoration-color: #7f7f7f\">          </span>\n",
       "</pre>\n"
      ],
      "text/plain": [
       "\u001b[2;36m[19:14:22]\u001b[0m\u001b[2;36m \u001b[0m\u001b[37mINFO  \u001b[0m - Iteration \u001b[1;36m11000\u001b[0m:                                                                     \u001b]8;id=708586;file:///home/daniel/Documents/code/stable_imitation/stanza/stanza/util/loop.py\u001b\\\u001b[2mloop.py\u001b[0m\u001b]8;;\u001b\\\u001b[2m:\u001b[0m\u001b]8;id=665230;file:///home/daniel/Documents/code/stable_imitation/stanza/stanza/util/loop.py#85\u001b\\\u001b[2m85\u001b[0m\u001b]8;;\u001b\\\n",
       "\u001b[2;36m           \u001b[0mtest.cost: \u001b[1;36m0.13962067663669586\u001b[0m                                                                \u001b[2m          \u001b[0m\n",
       "\u001b[2;36m           \u001b[0mtrain.loss: \u001b[1;36m0.0011139423586428165\u001b[0m                                                             \u001b[2m          \u001b[0m\n"
      ]
     },
     "metadata": {},
     "output_type": "display_data"
    },
    {
     "data": {
      "text/html": [
       "<pre style=\"white-space:pre;overflow-x:auto;line-height:normal;font-family:Menlo,'DejaVu Sans Mono',consolas,'Courier New',monospace\"><span style=\"color: #7fbfbf; text-decoration-color: #7fbfbf\">[19:14:26] </span><span style=\"color: #c0c0c0; text-decoration-color: #c0c0c0\">INFO  </span> - Iteration <span style=\"color: #008080; text-decoration-color: #008080; font-weight: bold\">12000</span>:                                                                     <a href=\"file:///home/daniel/Documents/code/stable_imitation/stanza/stanza/util/loop.py\" target=\"_blank\"><span style=\"color: #7f7f7f; text-decoration-color: #7f7f7f\">loop.py</span></a><span style=\"color: #7f7f7f; text-decoration-color: #7f7f7f\">:</span><a href=\"file:///home/daniel/Documents/code/stable_imitation/stanza/stanza/util/loop.py#85\" target=\"_blank\"><span style=\"color: #7f7f7f; text-decoration-color: #7f7f7f\">85</span></a>\n",
       "<span style=\"color: #7fbfbf; text-decoration-color: #7fbfbf\">           </span>test.cost: <span style=\"color: #008080; text-decoration-color: #008080; font-weight: bold\">0.1404184103012085</span>                                                                 <span style=\"color: #7f7f7f; text-decoration-color: #7f7f7f\">          </span>\n",
       "<span style=\"color: #7fbfbf; text-decoration-color: #7fbfbf\">           </span>train.loss: <span style=\"color: #008080; text-decoration-color: #008080; font-weight: bold\">0.0015343031845986843</span>                                                             <span style=\"color: #7f7f7f; text-decoration-color: #7f7f7f\">          </span>\n",
       "</pre>\n"
      ],
      "text/plain": [
       "\u001b[2;36m[19:14:26]\u001b[0m\u001b[2;36m \u001b[0m\u001b[37mINFO  \u001b[0m - Iteration \u001b[1;36m12000\u001b[0m:                                                                     \u001b]8;id=402044;file:///home/daniel/Documents/code/stable_imitation/stanza/stanza/util/loop.py\u001b\\\u001b[2mloop.py\u001b[0m\u001b]8;;\u001b\\\u001b[2m:\u001b[0m\u001b]8;id=530273;file:///home/daniel/Documents/code/stable_imitation/stanza/stanza/util/loop.py#85\u001b\\\u001b[2m85\u001b[0m\u001b]8;;\u001b\\\n",
       "\u001b[2;36m           \u001b[0mtest.cost: \u001b[1;36m0.1404184103012085\u001b[0m                                                                 \u001b[2m          \u001b[0m\n",
       "\u001b[2;36m           \u001b[0mtrain.loss: \u001b[1;36m0.0015343031845986843\u001b[0m                                                             \u001b[2m          \u001b[0m\n"
      ]
     },
     "metadata": {},
     "output_type": "display_data"
    },
    {
     "data": {
      "text/html": [
       "<pre style=\"white-space:pre;overflow-x:auto;line-height:normal;font-family:Menlo,'DejaVu Sans Mono',consolas,'Courier New',monospace\"><span style=\"color: #7fbfbf; text-decoration-color: #7fbfbf\">[19:14:30] </span><span style=\"color: #c0c0c0; text-decoration-color: #c0c0c0\">INFO  </span> - Iteration <span style=\"color: #008080; text-decoration-color: #008080; font-weight: bold\">13000</span>:                                                                     <a href=\"file:///home/daniel/Documents/code/stable_imitation/stanza/stanza/util/loop.py\" target=\"_blank\"><span style=\"color: #7f7f7f; text-decoration-color: #7f7f7f\">loop.py</span></a><span style=\"color: #7f7f7f; text-decoration-color: #7f7f7f\">:</span><a href=\"file:///home/daniel/Documents/code/stable_imitation/stanza/stanza/util/loop.py#85\" target=\"_blank\"><span style=\"color: #7f7f7f; text-decoration-color: #7f7f7f\">85</span></a>\n",
       "<span style=\"color: #7fbfbf; text-decoration-color: #7fbfbf\">           </span>test.cost: <span style=\"color: #008080; text-decoration-color: #008080; font-weight: bold\">0.1399162858724594</span>                                                                 <span style=\"color: #7f7f7f; text-decoration-color: #7f7f7f\">          </span>\n",
       "<span style=\"color: #7fbfbf; text-decoration-color: #7fbfbf\">           </span>train.loss: <span style=\"color: #008080; text-decoration-color: #008080; font-weight: bold\">0.0004888342227786779</span>                                                             <span style=\"color: #7f7f7f; text-decoration-color: #7f7f7f\">          </span>\n",
       "</pre>\n"
      ],
      "text/plain": [
       "\u001b[2;36m[19:14:30]\u001b[0m\u001b[2;36m \u001b[0m\u001b[37mINFO  \u001b[0m - Iteration \u001b[1;36m13000\u001b[0m:                                                                     \u001b]8;id=20231;file:///home/daniel/Documents/code/stable_imitation/stanza/stanza/util/loop.py\u001b\\\u001b[2mloop.py\u001b[0m\u001b]8;;\u001b\\\u001b[2m:\u001b[0m\u001b]8;id=820201;file:///home/daniel/Documents/code/stable_imitation/stanza/stanza/util/loop.py#85\u001b\\\u001b[2m85\u001b[0m\u001b]8;;\u001b\\\n",
       "\u001b[2;36m           \u001b[0mtest.cost: \u001b[1;36m0.1399162858724594\u001b[0m                                                                 \u001b[2m          \u001b[0m\n",
       "\u001b[2;36m           \u001b[0mtrain.loss: \u001b[1;36m0.0004888342227786779\u001b[0m                                                             \u001b[2m          \u001b[0m\n"
      ]
     },
     "metadata": {},
     "output_type": "display_data"
    },
    {
     "data": {
      "text/html": [
       "<pre style=\"white-space:pre;overflow-x:auto;line-height:normal;font-family:Menlo,'DejaVu Sans Mono',consolas,'Courier New',monospace\"><span style=\"color: #7fbfbf; text-decoration-color: #7fbfbf\">[19:14:34] </span><span style=\"color: #c0c0c0; text-decoration-color: #c0c0c0\">INFO  </span> - Iteration <span style=\"color: #008080; text-decoration-color: #008080; font-weight: bold\">14000</span>:                                                                     <a href=\"file:///home/daniel/Documents/code/stable_imitation/stanza/stanza/util/loop.py\" target=\"_blank\"><span style=\"color: #7f7f7f; text-decoration-color: #7f7f7f\">loop.py</span></a><span style=\"color: #7f7f7f; text-decoration-color: #7f7f7f\">:</span><a href=\"file:///home/daniel/Documents/code/stable_imitation/stanza/stanza/util/loop.py#85\" target=\"_blank\"><span style=\"color: #7f7f7f; text-decoration-color: #7f7f7f\">85</span></a>\n",
       "<span style=\"color: #7fbfbf; text-decoration-color: #7fbfbf\">           </span>test.cost: <span style=\"color: #008080; text-decoration-color: #008080; font-weight: bold\">0.13982488214969635</span>                                                                <span style=\"color: #7f7f7f; text-decoration-color: #7f7f7f\">          </span>\n",
       "<span style=\"color: #7fbfbf; text-decoration-color: #7fbfbf\">           </span>train.loss: <span style=\"color: #008080; text-decoration-color: #008080; font-weight: bold\">0.0008725171792320907</span>                                                             <span style=\"color: #7f7f7f; text-decoration-color: #7f7f7f\">          </span>\n",
       "</pre>\n"
      ],
      "text/plain": [
       "\u001b[2;36m[19:14:34]\u001b[0m\u001b[2;36m \u001b[0m\u001b[37mINFO  \u001b[0m - Iteration \u001b[1;36m14000\u001b[0m:                                                                     \u001b]8;id=201572;file:///home/daniel/Documents/code/stable_imitation/stanza/stanza/util/loop.py\u001b\\\u001b[2mloop.py\u001b[0m\u001b]8;;\u001b\\\u001b[2m:\u001b[0m\u001b]8;id=299501;file:///home/daniel/Documents/code/stable_imitation/stanza/stanza/util/loop.py#85\u001b\\\u001b[2m85\u001b[0m\u001b]8;;\u001b\\\n",
       "\u001b[2;36m           \u001b[0mtest.cost: \u001b[1;36m0.13982488214969635\u001b[0m                                                                \u001b[2m          \u001b[0m\n",
       "\u001b[2;36m           \u001b[0mtrain.loss: \u001b[1;36m0.0008725171792320907\u001b[0m                                                             \u001b[2m          \u001b[0m\n"
      ]
     },
     "metadata": {},
     "output_type": "display_data"
    },
    {
     "data": {
      "text/html": [
       "<pre style=\"white-space:pre;overflow-x:auto;line-height:normal;font-family:Menlo,'DejaVu Sans Mono',consolas,'Courier New',monospace\"><span style=\"color: #7fbfbf; text-decoration-color: #7fbfbf\">[19:14:38] </span><span style=\"color: #c0c0c0; text-decoration-color: #c0c0c0\">INFO  </span> - Iteration <span style=\"color: #008080; text-decoration-color: #008080; font-weight: bold\">15000</span>:                                                                     <a href=\"file:///home/daniel/Documents/code/stable_imitation/stanza/stanza/util/loop.py\" target=\"_blank\"><span style=\"color: #7f7f7f; text-decoration-color: #7f7f7f\">loop.py</span></a><span style=\"color: #7f7f7f; text-decoration-color: #7f7f7f\">:</span><a href=\"file:///home/daniel/Documents/code/stable_imitation/stanza/stanza/util/loop.py#85\" target=\"_blank\"><span style=\"color: #7f7f7f; text-decoration-color: #7f7f7f\">85</span></a>\n",
       "<span style=\"color: #7fbfbf; text-decoration-color: #7fbfbf\">           </span>test.cost: <span style=\"color: #008080; text-decoration-color: #008080; font-weight: bold\">0.1396961808204651</span>                                                                 <span style=\"color: #7f7f7f; text-decoration-color: #7f7f7f\">          </span>\n",
       "<span style=\"color: #7fbfbf; text-decoration-color: #7fbfbf\">           </span>train.loss: <span style=\"color: #008080; text-decoration-color: #008080; font-weight: bold\">0.0017584013985469937</span>                                                             <span style=\"color: #7f7f7f; text-decoration-color: #7f7f7f\">          </span>\n",
       "</pre>\n"
      ],
      "text/plain": [
       "\u001b[2;36m[19:14:38]\u001b[0m\u001b[2;36m \u001b[0m\u001b[37mINFO  \u001b[0m - Iteration \u001b[1;36m15000\u001b[0m:                                                                     \u001b]8;id=873606;file:///home/daniel/Documents/code/stable_imitation/stanza/stanza/util/loop.py\u001b\\\u001b[2mloop.py\u001b[0m\u001b]8;;\u001b\\\u001b[2m:\u001b[0m\u001b]8;id=427713;file:///home/daniel/Documents/code/stable_imitation/stanza/stanza/util/loop.py#85\u001b\\\u001b[2m85\u001b[0m\u001b]8;;\u001b\\\n",
       "\u001b[2;36m           \u001b[0mtest.cost: \u001b[1;36m0.1396961808204651\u001b[0m                                                                 \u001b[2m          \u001b[0m\n",
       "\u001b[2;36m           \u001b[0mtrain.loss: \u001b[1;36m0.0017584013985469937\u001b[0m                                                             \u001b[2m          \u001b[0m\n"
      ]
     },
     "metadata": {},
     "output_type": "display_data"
    },
    {
     "data": {
      "text/html": [
       "<pre style=\"white-space:pre;overflow-x:auto;line-height:normal;font-family:Menlo,'DejaVu Sans Mono',consolas,'Courier New',monospace\"><span style=\"color: #7fbfbf; text-decoration-color: #7fbfbf\">[19:14:42] </span><span style=\"color: #c0c0c0; text-decoration-color: #c0c0c0\">INFO  </span> - Iteration <span style=\"color: #008080; text-decoration-color: #008080; font-weight: bold\">16000</span>:                                                                     <a href=\"file:///home/daniel/Documents/code/stable_imitation/stanza/stanza/util/loop.py\" target=\"_blank\"><span style=\"color: #7f7f7f; text-decoration-color: #7f7f7f\">loop.py</span></a><span style=\"color: #7f7f7f; text-decoration-color: #7f7f7f\">:</span><a href=\"file:///home/daniel/Documents/code/stable_imitation/stanza/stanza/util/loop.py#85\" target=\"_blank\"><span style=\"color: #7f7f7f; text-decoration-color: #7f7f7f\">85</span></a>\n",
       "<span style=\"color: #7fbfbf; text-decoration-color: #7fbfbf\">           </span>test.cost: <span style=\"color: #008080; text-decoration-color: #008080; font-weight: bold\">0.13975396752357483</span>                                                                <span style=\"color: #7f7f7f; text-decoration-color: #7f7f7f\">          </span>\n",
       "<span style=\"color: #7fbfbf; text-decoration-color: #7fbfbf\">           </span>train.loss: <span style=\"color: #008080; text-decoration-color: #008080; font-weight: bold\">0.0005970695056021214</span>                                                             <span style=\"color: #7f7f7f; text-decoration-color: #7f7f7f\">          </span>\n",
       "</pre>\n"
      ],
      "text/plain": [
       "\u001b[2;36m[19:14:42]\u001b[0m\u001b[2;36m \u001b[0m\u001b[37mINFO  \u001b[0m - Iteration \u001b[1;36m16000\u001b[0m:                                                                     \u001b]8;id=358629;file:///home/daniel/Documents/code/stable_imitation/stanza/stanza/util/loop.py\u001b\\\u001b[2mloop.py\u001b[0m\u001b]8;;\u001b\\\u001b[2m:\u001b[0m\u001b]8;id=653065;file:///home/daniel/Documents/code/stable_imitation/stanza/stanza/util/loop.py#85\u001b\\\u001b[2m85\u001b[0m\u001b]8;;\u001b\\\n",
       "\u001b[2;36m           \u001b[0mtest.cost: \u001b[1;36m0.13975396752357483\u001b[0m                                                                \u001b[2m          \u001b[0m\n",
       "\u001b[2;36m           \u001b[0mtrain.loss: \u001b[1;36m0.0005970695056021214\u001b[0m                                                             \u001b[2m          \u001b[0m\n"
      ]
     },
     "metadata": {},
     "output_type": "display_data"
    },
    {
     "data": {
      "text/html": [
       "<pre style=\"white-space:pre;overflow-x:auto;line-height:normal;font-family:Menlo,'DejaVu Sans Mono',consolas,'Courier New',monospace\"><span style=\"color: #7fbfbf; text-decoration-color: #7fbfbf\">[19:14:46] </span><span style=\"color: #c0c0c0; text-decoration-color: #c0c0c0\">INFO  </span> - Iteration <span style=\"color: #008080; text-decoration-color: #008080; font-weight: bold\">17000</span>:                                                                     <a href=\"file:///home/daniel/Documents/code/stable_imitation/stanza/stanza/util/loop.py\" target=\"_blank\"><span style=\"color: #7f7f7f; text-decoration-color: #7f7f7f\">loop.py</span></a><span style=\"color: #7f7f7f; text-decoration-color: #7f7f7f\">:</span><a href=\"file:///home/daniel/Documents/code/stable_imitation/stanza/stanza/util/loop.py#85\" target=\"_blank\"><span style=\"color: #7f7f7f; text-decoration-color: #7f7f7f\">85</span></a>\n",
       "<span style=\"color: #7fbfbf; text-decoration-color: #7fbfbf\">           </span>test.cost: <span style=\"color: #008080; text-decoration-color: #008080; font-weight: bold\">0.13964137434959412</span>                                                                <span style=\"color: #7f7f7f; text-decoration-color: #7f7f7f\">          </span>\n",
       "<span style=\"color: #7fbfbf; text-decoration-color: #7fbfbf\">           </span>train.loss: <span style=\"color: #008080; text-decoration-color: #008080; font-weight: bold\">0.00043619857751764357</span>                                                            <span style=\"color: #7f7f7f; text-decoration-color: #7f7f7f\">          </span>\n",
       "</pre>\n"
      ],
      "text/plain": [
       "\u001b[2;36m[19:14:46]\u001b[0m\u001b[2;36m \u001b[0m\u001b[37mINFO  \u001b[0m - Iteration \u001b[1;36m17000\u001b[0m:                                                                     \u001b]8;id=447343;file:///home/daniel/Documents/code/stable_imitation/stanza/stanza/util/loop.py\u001b\\\u001b[2mloop.py\u001b[0m\u001b]8;;\u001b\\\u001b[2m:\u001b[0m\u001b]8;id=41762;file:///home/daniel/Documents/code/stable_imitation/stanza/stanza/util/loop.py#85\u001b\\\u001b[2m85\u001b[0m\u001b]8;;\u001b\\\n",
       "\u001b[2;36m           \u001b[0mtest.cost: \u001b[1;36m0.13964137434959412\u001b[0m                                                                \u001b[2m          \u001b[0m\n",
       "\u001b[2;36m           \u001b[0mtrain.loss: \u001b[1;36m0.00043619857751764357\u001b[0m                                                            \u001b[2m          \u001b[0m\n"
      ]
     },
     "metadata": {},
     "output_type": "display_data"
    },
    {
     "data": {
      "text/html": [
       "<pre style=\"white-space:pre;overflow-x:auto;line-height:normal;font-family:Menlo,'DejaVu Sans Mono',consolas,'Courier New',monospace\"><span style=\"color: #7fbfbf; text-decoration-color: #7fbfbf\">[19:14:50] </span><span style=\"color: #c0c0c0; text-decoration-color: #c0c0c0\">INFO  </span> - Iteration <span style=\"color: #008080; text-decoration-color: #008080; font-weight: bold\">18000</span>:                                                                     <a href=\"file:///home/daniel/Documents/code/stable_imitation/stanza/stanza/util/loop.py\" target=\"_blank\"><span style=\"color: #7f7f7f; text-decoration-color: #7f7f7f\">loop.py</span></a><span style=\"color: #7f7f7f; text-decoration-color: #7f7f7f\">:</span><a href=\"file:///home/daniel/Documents/code/stable_imitation/stanza/stanza/util/loop.py#85\" target=\"_blank\"><span style=\"color: #7f7f7f; text-decoration-color: #7f7f7f\">85</span></a>\n",
       "<span style=\"color: #7fbfbf; text-decoration-color: #7fbfbf\">           </span>test.cost: <span style=\"color: #008080; text-decoration-color: #008080; font-weight: bold\">0.13951605558395386</span>                                                                <span style=\"color: #7f7f7f; text-decoration-color: #7f7f7f\">          </span>\n",
       "<span style=\"color: #7fbfbf; text-decoration-color: #7fbfbf\">           </span>train.loss: <span style=\"color: #008080; text-decoration-color: #008080; font-weight: bold\">0.0007447554380632937</span>                                                             <span style=\"color: #7f7f7f; text-decoration-color: #7f7f7f\">          </span>\n",
       "</pre>\n"
      ],
      "text/plain": [
       "\u001b[2;36m[19:14:50]\u001b[0m\u001b[2;36m \u001b[0m\u001b[37mINFO  \u001b[0m - Iteration \u001b[1;36m18000\u001b[0m:                                                                     \u001b]8;id=363390;file:///home/daniel/Documents/code/stable_imitation/stanza/stanza/util/loop.py\u001b\\\u001b[2mloop.py\u001b[0m\u001b]8;;\u001b\\\u001b[2m:\u001b[0m\u001b]8;id=792722;file:///home/daniel/Documents/code/stable_imitation/stanza/stanza/util/loop.py#85\u001b\\\u001b[2m85\u001b[0m\u001b]8;;\u001b\\\n",
       "\u001b[2;36m           \u001b[0mtest.cost: \u001b[1;36m0.13951605558395386\u001b[0m                                                                \u001b[2m          \u001b[0m\n",
       "\u001b[2;36m           \u001b[0mtrain.loss: \u001b[1;36m0.0007447554380632937\u001b[0m                                                             \u001b[2m          \u001b[0m\n"
      ]
     },
     "metadata": {},
     "output_type": "display_data"
    },
    {
     "data": {
      "text/html": [
       "<pre style=\"white-space:pre;overflow-x:auto;line-height:normal;font-family:Menlo,'DejaVu Sans Mono',consolas,'Courier New',monospace\"><span style=\"color: #7fbfbf; text-decoration-color: #7fbfbf\">[19:14:54] </span><span style=\"color: #c0c0c0; text-decoration-color: #c0c0c0\">INFO  </span> - Iteration <span style=\"color: #008080; text-decoration-color: #008080; font-weight: bold\">19000</span>:                                                                     <a href=\"file:///home/daniel/Documents/code/stable_imitation/stanza/stanza/util/loop.py\" target=\"_blank\"><span style=\"color: #7f7f7f; text-decoration-color: #7f7f7f\">loop.py</span></a><span style=\"color: #7f7f7f; text-decoration-color: #7f7f7f\">:</span><a href=\"file:///home/daniel/Documents/code/stable_imitation/stanza/stanza/util/loop.py#85\" target=\"_blank\"><span style=\"color: #7f7f7f; text-decoration-color: #7f7f7f\">85</span></a>\n",
       "<span style=\"color: #7fbfbf; text-decoration-color: #7fbfbf\">           </span>test.cost: <span style=\"color: #008080; text-decoration-color: #008080; font-weight: bold\">0.13951507210731506</span>                                                                <span style=\"color: #7f7f7f; text-decoration-color: #7f7f7f\">          </span>\n",
       "<span style=\"color: #7fbfbf; text-decoration-color: #7fbfbf\">           </span>train.loss: <span style=\"color: #008080; text-decoration-color: #008080; font-weight: bold\">0.0005017263465560973</span>                                                             <span style=\"color: #7f7f7f; text-decoration-color: #7f7f7f\">          </span>\n",
       "</pre>\n"
      ],
      "text/plain": [
       "\u001b[2;36m[19:14:54]\u001b[0m\u001b[2;36m \u001b[0m\u001b[37mINFO  \u001b[0m - Iteration \u001b[1;36m19000\u001b[0m:                                                                     \u001b]8;id=538276;file:///home/daniel/Documents/code/stable_imitation/stanza/stanza/util/loop.py\u001b\\\u001b[2mloop.py\u001b[0m\u001b]8;;\u001b\\\u001b[2m:\u001b[0m\u001b]8;id=535310;file:///home/daniel/Documents/code/stable_imitation/stanza/stanza/util/loop.py#85\u001b\\\u001b[2m85\u001b[0m\u001b]8;;\u001b\\\n",
       "\u001b[2;36m           \u001b[0mtest.cost: \u001b[1;36m0.13951507210731506\u001b[0m                                                                \u001b[2m          \u001b[0m\n",
       "\u001b[2;36m           \u001b[0mtrain.loss: \u001b[1;36m0.0005017263465560973\u001b[0m                                                             \u001b[2m          \u001b[0m\n"
      ]
     },
     "metadata": {},
     "output_type": "display_data"
    },
    {
     "data": {
      "text/html": [
       "<pre style=\"white-space:pre;overflow-x:auto;line-height:normal;font-family:Menlo,'DejaVu Sans Mono',consolas,'Courier New',monospace\"><span style=\"color: #7fbfbf; text-decoration-color: #7fbfbf\">[19:14:57] </span><span style=\"color: #c0c0c0; text-decoration-color: #c0c0c0\">INFO  </span> - Iteration <span style=\"color: #008080; text-decoration-color: #008080; font-weight: bold\">20000</span>:                                                                     <a href=\"file:///home/daniel/Documents/code/stable_imitation/stanza/stanza/util/loop.py\" target=\"_blank\"><span style=\"color: #7f7f7f; text-decoration-color: #7f7f7f\">loop.py</span></a><span style=\"color: #7f7f7f; text-decoration-color: #7f7f7f\">:</span><a href=\"file:///home/daniel/Documents/code/stable_imitation/stanza/stanza/util/loop.py#85\" target=\"_blank\"><span style=\"color: #7f7f7f; text-decoration-color: #7f7f7f\">85</span></a>\n",
       "<span style=\"color: #7fbfbf; text-decoration-color: #7fbfbf\">           </span>test.cost: <span style=\"color: #008080; text-decoration-color: #008080; font-weight: bold\">0.13950060307979584</span>                                                                <span style=\"color: #7f7f7f; text-decoration-color: #7f7f7f\">          </span>\n",
       "<span style=\"color: #7fbfbf; text-decoration-color: #7fbfbf\">           </span>train.loss: <span style=\"color: #008080; text-decoration-color: #008080; font-weight: bold\">0.0004549628938548267</span>                                                             <span style=\"color: #7f7f7f; text-decoration-color: #7f7f7f\">          </span>\n",
       "</pre>\n"
      ],
      "text/plain": [
       "\u001b[2;36m[19:14:57]\u001b[0m\u001b[2;36m \u001b[0m\u001b[37mINFO  \u001b[0m - Iteration \u001b[1;36m20000\u001b[0m:                                                                     \u001b]8;id=680223;file:///home/daniel/Documents/code/stable_imitation/stanza/stanza/util/loop.py\u001b\\\u001b[2mloop.py\u001b[0m\u001b]8;;\u001b\\\u001b[2m:\u001b[0m\u001b]8;id=357624;file:///home/daniel/Documents/code/stable_imitation/stanza/stanza/util/loop.py#85\u001b\\\u001b[2m85\u001b[0m\u001b]8;;\u001b\\\n",
       "\u001b[2;36m           \u001b[0mtest.cost: \u001b[1;36m0.13950060307979584\u001b[0m                                                                \u001b[2m          \u001b[0m\n",
       "\u001b[2;36m           \u001b[0mtrain.loss: \u001b[1;36m0.0004549628938548267\u001b[0m                                                             \u001b[2m          \u001b[0m\n"
      ]
     },
     "metadata": {},
     "output_type": "display_data"
    },
    {
     "data": {
      "text/html": [
       "<pre style=\"white-space:pre;overflow-x:auto;line-height:normal;font-family:Menlo,'DejaVu Sans Mono',consolas,'Courier New',monospace\"></pre>\n"
      ],
      "text/plain": []
     },
     "metadata": {},
     "output_type": "display_data"
    }
   ],
   "source": [
    "from stanza.train import Trainer, batch_loss\n",
    "from stanza.train.validate import Validator\n",
    "from stanza.util.loop import every_kth_iteration, every_iteration, LoggerHook\n",
    "from stanza.util.rich import ConsoleDisplay, StatisticsTable, LoopProgress\n",
    "from stanza.reporting.jax import JaxDBScope\n",
    "\n",
    "import stanza\n",
    "import optax\n",
    "\n",
    "iterations = 20000\n",
    "optimizer = optax.adamw(optax.cosine_decay_schedule(1e-3, iterations), weight_decay=1e-4)\n",
    "\n",
    "display = ConsoleDisplay()\n",
    "display.add(\"train\", StatisticsTable(), interval=100)\n",
    "display.add(\"train\", LoopProgress(), interval=100)\n",
    "\n",
    "def val_fn(_, params, _rng_key, rng_key):\n",
    "    x0 = env.reset(rng_key)\n",
    "    policy = stanza.Partial(model_policy, params)\n",
    "    rollout = policies.rollout(env.step, x0,\n",
    "                               policy, length=100, \n",
    "                               last_state=False)\n",
    "    cost = env.cost(rollout.states, rollout.actions)\n",
    "    stats = {'cost': cost}\n",
    "    return stats\n",
    "\n",
    "def batch_val_fn(_, params, _rng_key, rng_keys):\n",
    "    bval_fn = jax.vmap(val_fn, in_axes=(None, None, None, 0))\n",
    "    stats = bval_fn(None, params, _rng_key, rng_keys)\n",
    "    return jax.tree_map(lambda x: jnp.mean(x), stats)\n",
    "\n",
    "validator = Validator(next(rng), \n",
    "        Data.from_pytree(jax.random.split(next(rng), 64)),\n",
    "        condition=every_kth_iteration(1),\n",
    "        stat_fn=batch_val_fn)\n",
    "\n",
    "dbs = JaxDBScope(db)\n",
    "\n",
    "with display as display_handle, dbs as dbs_handle:\n",
    "    logger_hook = LoggerHook(every_kth_iteration(1000))\n",
    "    db_logger_hook = dbs_handle.statistic_logging_hook(log_cond=every_kth_iteration(1), buffer=100)\n",
    "    trainer = Trainer(\n",
    "        loss_fn=batch_loss(loss_fn), batch_size=128,\n",
    "        optimizer=optimizer,\n",
    "        max_iterations=iterations,\n",
    "        train_hooks=[validator, db_logger_hook, logger_hook,\n",
    "                     display_handle.train]\n",
    "    )\n",
    "    \n",
    "    logger.info(\"Initializing model...\")\n",
    "    init_params = model.init(next(rng), state_flat)\n",
    "    logger.info(\"Training...\")\n",
    "    params = trainer.train(expert_data, rng_key=next(rng), init_params=init_params, jit=True)\n"
   ]
  },
  {
   "cell_type": "code",
   "execution_count": null,
   "metadata": {},
   "outputs": [],
   "source": []
  }
 ],
 "metadata": {
  "kernelspec": {
   "display_name": ".venv",
   "language": "python",
   "name": "python3"
  },
  "language_info": {
   "codemirror_mode": {
    "name": "ipython",
    "version": 3
   },
   "file_extension": ".py",
   "mimetype": "text/x-python",
   "name": "python",
   "nbconvert_exporter": "python",
   "pygments_lexer": "ipython3",
   "version": "3.11.4"
  },
  "orig_nbformat": 4
 },
 "nbformat": 4,
 "nbformat_minor": 2
}
