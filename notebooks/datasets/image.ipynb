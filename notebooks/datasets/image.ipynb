{
 "cells": [
  {
   "cell_type": "code",
   "execution_count": 1,
   "metadata": {},
   "outputs": [],
   "source": [
    "from stanza.runtime import setup\n",
    "setup()"
   ]
  },
  {
   "cell_type": "code",
   "execution_count": 2,
   "metadata": {},
   "outputs": [],
   "source": [
    "if False:\n",
    "    from stanza.datasets import image_datasets\n",
    "    print(\"Datasets:\", list([k for (k, _) in image_datasets.items()]))\n",
    "    from stanza.graphics import image_grid\n",
    "    from stanza.util.ipython import as_image\n",
    "    from IPython.display import display\n",
    "\n",
    "    mnist = image_datasets.create(\"mnist\")\n",
    "    cifar10 = image_datasets.create(\"cifar10\")\n",
    "    cifar100 = image_datasets.create(\"cifar100\")\n",
    "    celeb_a = image_datasets.create(\"celeb_a\")\n",
    "\n",
    "    mnist_image = image_grid(mnist.splits[\"train\"].slice(0,64))\n",
    "    cifar10_image = image_grid(cifar10.splits[\"train\"].slice(0,64))\n",
    "    cifar100_image = image_grid(cifar100.splits[\"train\"].slice(0,64))\n",
    "    celeb_a_image = image_grid(celeb_a.splits[\"train\"].slice(0,16))\n",
    "\n",
    "    display(as_image(mnist_image))\n",
    "    display(as_image(cifar10_image))\n",
    "    display(as_image(cifar100_image))\n",
    "    display(as_image(celeb_a_image))"
   ]
  },
  {
   "cell_type": "code",
   "execution_count": 3,
   "metadata": {},
   "outputs": [],
   "source": [
    "from stanza.datasets.pusht import registry as pusht_registry\n",
    "dataset = pusht_registry.create(\"pusht/chen\")"
   ]
  },
  {
   "cell_type": "code",
   "execution_count": 4,
   "metadata": {},
   "outputs": [],
   "source": [
    "chunked_data = dataset.splits[\"train\"].chunk(8)"
   ]
  },
  {
   "cell_type": "code",
   "execution_count": 5,
   "metadata": {},
   "outputs": [
    {
     "name": "stdout",
     "output_type": "stream",
     "text": [
      "<stanza.data.PyTreeData object at 0x761e7bde37c0>\n",
      "Step(state=Array([[222.       ,  97.       , 222.99382  , 381.59903  ,   3.0079994],\n",
      "       [225.2524   ,  89.31253  , 222.99382  , 381.59903  ,   3.0079994],\n",
      "       [227.59233  ,  84.53438  , 222.99382  , 381.59903  ,   3.0079994],\n",
      "       [228.42017  ,  84.27986  , 222.99382  , 381.59903  ,   3.0079994],\n",
      "       [229.04222  ,  84.9571   , 222.99382  , 381.59903  ,   3.0079994],\n",
      "       [232.16237  ,  86.344    , 222.99382  , 381.59903  ,   3.0079994],\n",
      "       [238.84613  ,  89.35484  , 222.99382  , 381.59903  ,   3.0079994],\n",
      "       [248.09006  ,  94.06008  , 222.99382  , 381.59903  ,   3.0079994]],      dtype=float32), observation=None, action=Array([[233.,  71.],\n",
      "       [229.,  83.],\n",
      "       [229.,  86.],\n",
      "       [230.,  86.],\n",
      "       [239.,  89.],\n",
      "       [251.,  95.],\n",
      "       [263., 102.],\n",
      "       [273., 108.]], dtype=float32))\n",
      "Chunk(sequence_id=Array(0, dtype=int32), start_offset=Array(0, dtype=int32), chunk=Step(state=Array([[222.       ,  97.       , 222.99382  , 381.59903  ,   3.0079994],\n",
      "       [225.2524   ,  89.31253  , 222.99382  , 381.59903  ,   3.0079994],\n",
      "       [227.59233  ,  84.53438  , 222.99382  , 381.59903  ,   3.0079994],\n",
      "       [228.42017  ,  84.27986  , 222.99382  , 381.59903  ,   3.0079994],\n",
      "       [229.04222  ,  84.9571   , 222.99382  , 381.59903  ,   3.0079994],\n",
      "       [232.16237  ,  86.344    , 222.99382  , 381.59903  ,   3.0079994],\n",
      "       [238.84613  ,  89.35484  , 222.99382  , 381.59903  ,   3.0079994],\n",
      "       [248.09006  ,  94.06008  , 222.99382  , 381.59903  ,   3.0079994]],      dtype=float32), observation=None, action=Array([[233.,  71.],\n",
      "       [229.,  83.],\n",
      "       [229.,  86.],\n",
      "       [230.,  86.],\n",
      "       [239.,  89.],\n",
      "       [251.,  95.],\n",
      "       [263., 102.],\n",
      "       [273., 108.]], dtype=float32)), info=None)\n"
     ]
    }
   ],
   "source": [
    "print(chunked_data[0])"
   ]
  },
  {
   "cell_type": "code",
   "execution_count": null,
   "metadata": {},
   "outputs": [],
   "source": []
  }
 ],
 "metadata": {
  "kernelspec": {
   "display_name": ".venv",
   "language": "python",
   "name": "python3"
  },
  "language_info": {
   "codemirror_mode": {
    "name": "ipython",
    "version": 3
   },
   "file_extension": ".py",
   "mimetype": "text/x-python",
   "name": "python",
   "nbconvert_exporter": "python",
   "pygments_lexer": "ipython3",
   "version": "3.10.12"
  }
 },
 "nbformat": 4,
 "nbformat_minor": 2
}
