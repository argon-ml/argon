{
 "cells": [
  {
   "cell_type": "code",
   "execution_count": 1,
   "metadata": {},
   "outputs": [],
   "source": [
    "import stanza.runtime\n",
    "stanza.runtime.setup()"
   ]
  },
  {
   "cell_type": "code",
   "execution_count": 2,
   "metadata": {},
   "outputs": [
    {
     "data": {
      "application/vnd.jupyter.widget-view+json": {
       "model_id": "eac60b38387b44ad83937d4a6dd90ce5",
       "version_major": 2,
       "version_minor": 0
      },
      "text/plain": [
       "Dropdown(description='Dataset:', index=2, options=('pusht/chi', 'robomimic/pickplace/can/ph', 'robomimic/nutas…"
      ]
     },
     "execution_count": 2,
     "metadata": {},
     "output_type": "execute_result"
    }
   ],
   "source": [
    "import ipywidgets\n",
    "import jax\n",
    "import stanza.datasets.env\n",
    "\n",
    "env_datasets = [\n",
    "    \"pusht/chi\",\n",
    "    \"robomimic/pickplace/can/ph\",\n",
    "    \"robomimic/nutassembly/square/ph\"\n",
    "]\n",
    "default = \"robomimic/nutassembly/square/ph\"\n",
    "dropdown = ipywidgets.Dropdown(\n",
    "    options=env_datasets,\n",
    "    value=default,\n",
    "    description='Dataset:',\n",
    "    disabled=False,\n",
    ")\n",
    "dropdown"
   ]
  },
  {
   "cell_type": "code",
   "execution_count": 3,
   "metadata": {},
   "outputs": [],
   "source": [
    "from stanza.env.mujoco.robosuite import environments\n",
    "dataset = stanza.datasets.env.datasets.create(dropdown.value)\n",
    "env = environments.create(dataset.env_name)"
   ]
  },
  {
   "cell_type": "code",
   "execution_count": 4,
   "metadata": {},
   "outputs": [
    {
     "data": {
      "application/vnd.jupyter.widget-view+json": {
       "model_id": "fb05309ee1714f34a7f6ff2310b43015",
       "version_major": 2,
       "version_minor": 0
      },
      "text/plain": [
       "HBox(children=(IntSlider(value=0, max=184), IntSlider(value=0)))"
      ]
     },
     "metadata": {},
     "output_type": "display_data"
    },
    {
     "data": {
      "application/vnd.jupyter.widget-view+json": {
       "model_id": "e4c45105a7ee47fdb62ec390dacc0c7b",
       "version_major": 2,
       "version_minor": 0
      },
      "text/plain": [
       "HBox(children=(ImageStream(image=Image(value=b'\\x89PNG\\r\\n\\x1a\\n\\x00\\x00\\x00\\rIHDR\\x00\\x00\\x01\\x00\\x00\\x00\\x01…"
      ]
     },
     "metadata": {},
     "output_type": "display_data"
    },
    {
     "data": {
      "application/vnd.jupyter.widget-view+json": {
       "model_id": "92fc8da751444952a5c6387164a48f6d",
       "version_major": 2,
       "version_minor": 0
      },
      "text/plain": [
       "Label(value='Reward: 0.0')"
      ]
     },
     "metadata": {},
     "output_type": "display_data"
    },
    {
     "data": {
      "application/vnd.jupyter.widget-view+json": {
       "model_id": "f4b833507e214b898ccbf611127603d1",
       "version_major": 2,
       "version_minor": 0
      },
      "text/plain": [
       "HBox(children=(Button(description='Delete', style=ButtonStyle()), Button(description='Reset (r)', style=Button…"
      ]
     },
     "metadata": {},
     "output_type": "display_data"
    }
   ],
   "source": [
    "from IPython.display import display\n",
    "from stanza.policy.ipython import DemonstrationCollector\n",
    "\n",
    "data = dataset.splits[\"train\"]\n",
    "collector = DemonstrationCollector(\n",
    "    data, env, data\n",
    ")\n",
    "display(collector)"
   ]
  },
  {
   "cell_type": "code",
   "execution_count": null,
   "metadata": {},
   "outputs": [],
   "source": []
  }
 ],
 "metadata": {
  "kernelspec": {
   "display_name": "Python 3 (ipykernel)",
   "language": "python",
   "name": "python3"
  },
  "language_info": {
   "codemirror_mode": {
    "name": "ipython",
    "version": 3
   },
   "file_extension": ".py",
   "mimetype": "text/x-python",
   "name": "python",
   "nbconvert_exporter": "python",
   "pygments_lexer": "ipython3",
   "version": "3.10.7"
  },
  "widgets": {
   "application/vnd.jupyter.widget-state+json": {
    "state": {},
    "version_major": 2,
    "version_minor": 0
   }
  }
 },
 "nbformat": 4,
 "nbformat_minor": 4
}
