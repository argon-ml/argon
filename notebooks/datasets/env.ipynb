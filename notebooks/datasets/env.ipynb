{
 "cells": [
  {
   "cell_type": "code",
   "execution_count": 1,
   "metadata": {},
   "outputs": [],
   "source": [
    "import stanza.runtime\n",
    "stanza.runtime.setup()"
   ]
  },
  {
   "cell_type": "code",
   "execution_count": 2,
   "metadata": {},
   "outputs": [
    {
     "data": {
      "application/vnd.jupyter.widget-view+json": {
       "model_id": "dd5c4a504e2c40578634863a06ad185c",
       "version_major": 2,
       "version_minor": 0
      },
      "text/plain": [
       "Dropdown(description='Dataset:', index=2, options=('pusht/chi', 'robomimic/pickplace/can/ph', 'robomimic/nutas…"
      ]
     },
     "execution_count": 2,
     "metadata": {},
     "output_type": "execute_result"
    }
   ],
   "source": [
    "import ipywidgets\n",
    "import jax\n",
    "import stanza.datasets.env\n",
    "\n",
    "env_datasets = [\n",
    "    \"pusht/chi\",\n",
    "    \"robomimic/pickplace/can/ph\",\n",
    "    \"robomimic/nutassembly/square/ph\"\n",
    "]\n",
    "default = \"robomimic/nutassembly/square/ph\"\n",
    "dropdown = ipywidgets.Dropdown(\n",
    "    options=env_datasets,\n",
    "    value=default,\n",
    "    description='Dataset:',\n",
    "    disabled=False,\n",
    ")\n",
    "dropdown"
   ]
  },
  {
   "cell_type": "code",
   "execution_count": 3,
   "metadata": {},
   "outputs": [],
   "source": [
    "dataset = stanza.datasets.env.datasets.create(dropdown.value)\n",
    "env = dataset.create_env()"
   ]
  },
  {
   "cell_type": "code",
   "execution_count": 4,
   "metadata": {},
   "outputs": [
    {
     "data": {
      "application/vnd.jupyter.widget-view+json": {
       "model_id": "f5f547f9dd1f40b4b59e6313a7f4fada",
       "version_major": 2,
       "version_minor": 0
      },
      "text/plain": [
       "HBox(children=(IntSlider(value=0, max=200), IntSlider(value=0)))"
      ]
     },
     "metadata": {},
     "output_type": "display_data"
    },
    {
     "data": {
      "application/vnd.jupyter.widget-view+json": {
       "model_id": "1ca24ffec6c34e0b81a6f3d89f5b1f1b",
       "version_major": 2,
       "version_minor": 0
      },
      "text/plain": [
       "HBox(children=(ImageStream(image=Image(value=b'\\x89PNG\\r\\n\\x1a\\n\\x00\\x00\\x00\\rIHDR\\x00\\x00\\x01\\x00\\x00\\x00\\x01…"
      ]
     },
     "metadata": {},
     "output_type": "display_data"
    },
    {
     "data": {
      "application/vnd.jupyter.widget-view+json": {
       "model_id": "851d4950b14f45ba83dc76e5c0b44b69",
       "version_major": 2,
       "version_minor": 0
      },
      "text/plain": [
       "Label(value='Reward: 0.0')"
      ]
     },
     "metadata": {},
     "output_type": "display_data"
    },
    {
     "data": {
      "application/vnd.jupyter.widget-view+json": {
       "model_id": "a51d1266f3cd400abbc287ba9fae24aa",
       "version_major": 2,
       "version_minor": 0
      },
      "text/plain": [
       "HBox(children=(Button(description='Delete', style=ButtonStyle()), Button(description='Reset (r)', style=Button…"
      ]
     },
     "metadata": {},
     "output_type": "display_data"
    }
   ],
   "source": [
    "from IPython.display import display\n",
    "from stanza.policy.ipython import DemonstrationCollector\n",
    "\n",
    "data = dataset.splits[\"train\"]\n",
    "collector = DemonstrationCollector(\n",
    "    data, env, data\n",
    ")\n",
    "display(collector)"
   ]
  },
  {
   "cell_type": "code",
   "execution_count": null,
   "metadata": {},
   "outputs": [],
   "source": []
  }
 ],
 "metadata": {
  "kernelspec": {
   "display_name": "Python 3 (ipykernel)",
   "language": "python",
   "name": "python3"
  },
  "language_info": {
   "codemirror_mode": {
    "name": "ipython",
    "version": 3
   },
   "file_extension": ".py",
   "mimetype": "text/x-python",
   "name": "python",
   "nbconvert_exporter": "python",
   "pygments_lexer": "ipython3",
   "version": "3.10.7"
  },
  "widgets": {
   "application/vnd.jupyter.widget-state+json": {
    "state": {
     "15bb3b2f3f7f43038224342e6c35c476": {
      "model_module": "@jupyter-widgets/base",
      "model_module_version": "2.0.0",
      "model_name": "LayoutModel",
      "state": {}
     },
     "1ca24ffec6c34e0b81a6f3d89f5b1f1b": {
      "model_module": "@jupyter-widgets/controls",
      "model_module_version": "2.0.0",
      "model_name": "HBoxModel",
      "state": {
       "children": [
        "IPY_MODEL_ebffc88032b84415a940d4309382c7cb",
        "IPY_MODEL_fc4cd5e1e5b5479dae20a92c1295dfa7"
       ],
       "layout": "IPY_MODEL_3ce8ee8056094de6b7209d455b3954e9"
      }
     },
     "311edbf8dbae48e5afb9b4d2810950af": {
      "model_module": "@jupyter-widgets/controls",
      "model_module_version": "2.0.0",
      "model_name": "DescriptionStyleModel",
      "state": {
       "description_width": ""
      }
     },
     "3ce8ee8056094de6b7209d455b3954e9": {
      "model_module": "@jupyter-widgets/base",
      "model_module_version": "2.0.0",
      "model_name": "LayoutModel",
      "state": {}
     },
     "4f1261bcb646459fb1e2b4d0716abe5b": {
      "model_module": "@jupyter-widgets/base",
      "model_module_version": "2.0.0",
      "model_name": "LayoutModel",
      "state": {}
     },
     "57886cbe401347729504c15e13fd5830": {
      "model_module": "@jupyter-widgets/base",
      "model_module_version": "2.0.0",
      "model_name": "LayoutModel",
      "state": {}
     },
     "592009c7ac1f4ef5921a466d4958f70e": {
      "model_module": "@jupyter-widgets/base",
      "model_module_version": "2.0.0",
      "model_name": "LayoutModel",
      "state": {}
     },
     "62b0321815fb4566b3b4694f6f2b5642": {
      "model_module": "@jupyter-widgets/controls",
      "model_module_version": "2.0.0",
      "model_name": "SliderStyleModel",
      "state": {
       "description_width": ""
      }
     },
     "6356d7f5f4b94f98ab53765c54dd1cbc": {
      "model_module": "@jupyter-widgets/controls",
      "model_module_version": "2.0.0",
      "model_name": "ButtonModel",
      "state": {
       "description": "Reset (r)",
       "layout": "IPY_MODEL_4f1261bcb646459fb1e2b4d0716abe5b",
       "style": "IPY_MODEL_d887be41c9b3407a8ba1cbc9dbb58302",
       "tooltip": null
      }
     },
     "6cc4aca9b09f43ddaf55f5a45400985d": {
      "model_module": "@jupyter-widgets/base",
      "model_module_version": "2.0.0",
      "model_name": "LayoutModel",
      "state": {}
     },
     "78dd94ca02ac4d9b86544de7c48a4767": {
      "model_module": "@jupyter-widgets/base",
      "model_module_version": "2.0.0",
      "model_name": "LayoutModel",
      "state": {}
     },
     "7d210fef1c694ebfa3e047509d74291f": {
      "model_module": "@jupyter-widgets/controls",
      "model_module_version": "2.0.0",
      "model_name": "IntSliderModel",
      "state": {
       "behavior": "drag-tap",
       "layout": "IPY_MODEL_fda729feab9249938849ff37c6020d67",
       "max": 199,
       "style": "IPY_MODEL_c890cd4e317d4a0785005d11939ae9b8",
       "value": 15
      }
     },
     "7d9940aa9ff54d34b60c9b935aee7c05": {
      "model_module": "@jupyter-widgets/controls",
      "model_module_version": "2.0.0",
      "model_name": "ButtonStyleModel",
      "state": {
       "font_family": null,
       "font_size": null,
       "font_style": null,
       "font_variant": null,
       "font_weight": null,
       "text_color": null,
       "text_decoration": null
      }
     },
     "82ef35d69b6f43cfa1b2bbc45fddcc63": {
      "model_module": "@jupyter-widgets/controls",
      "model_module_version": "2.0.0",
      "model_name": "ButtonModel",
      "state": {
       "description": "Collect (c)",
       "layout": "IPY_MODEL_592009c7ac1f4ef5921a466d4958f70e",
       "style": "IPY_MODEL_b626349f61454ff4abb51646868cd2d9",
       "tooltip": null
      }
     },
     "83f48e8a6e504a469f76de338c5b19ea": {
      "model_module": "@jupyter-widgets/controls",
      "model_module_version": "2.0.0",
      "model_name": "ButtonModel",
      "state": {
       "description": "Trim",
       "layout": "IPY_MODEL_78dd94ca02ac4d9b86544de7c48a4767",
       "style": "IPY_MODEL_f17df87e380d49a1929a7d3f4ee59ca9",
       "tooltip": null
      }
     },
     "851d4950b14f45ba83dc76e5c0b44b69": {
      "model_module": "@jupyter-widgets/controls",
      "model_module_version": "2.0.0",
      "model_name": "LabelModel",
      "state": {
       "layout": "IPY_MODEL_d753c5f41aed4dd08bda33df05faae55",
       "style": "IPY_MODEL_efedcad659224a7cb503ae1e0a11c04c",
       "value": "Reward: 1.0"
      }
     },
     "96357293f5da4711b8ce134a43e82739": {
      "buffers": [
       {
        "data": "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",
        "encoding": "base64",
        "path": [
         "value"
        ]
       }
      ],
      "model_module": "@jupyter-widgets/controls",
      "model_module_version": "2.0.0",
      "model_name": "ImageModel",
      "state": {
       "layout": "IPY_MODEL_ecf0f65d7d444735b507666d7e354c8d"
      }
     },
     "971feb290da7497989eac2628cb56880": {
      "model_module": "@jupyter-widgets/base",
      "model_module_version": "2.0.0",
      "model_name": "LayoutModel",
      "state": {}
     },
     "a51d1266f3cd400abbc287ba9fae24aa": {
      "model_module": "@jupyter-widgets/controls",
      "model_module_version": "2.0.0",
      "model_name": "HBoxModel",
      "state": {
       "children": [
        "IPY_MODEL_e5449893558148049566e9b32951a2fd",
        "IPY_MODEL_6356d7f5f4b94f98ab53765c54dd1cbc",
        "IPY_MODEL_82ef35d69b6f43cfa1b2bbc45fddcc63",
        "IPY_MODEL_83f48e8a6e504a469f76de338c5b19ea",
        "IPY_MODEL_b27aad48e9d543d698e3d3c906de09b9"
       ],
       "layout": "IPY_MODEL_fb290c61737243cdb7c51f8bb88cd60b"
      }
     },
     "a5a7549eddbc4dd9a4e4d08187edf312": {
      "model_module": "@jupyter-widgets/base",
      "model_module_version": "2.0.0",
      "model_name": "LayoutModel",
      "state": {}
     },
     "b27aad48e9d543d698e3d3c906de09b9": {
      "model_module": "@jupyter-widgets/controls",
      "model_module_version": "2.0.0",
      "model_name": "ButtonModel",
      "state": {
       "description": "Save",
       "layout": "IPY_MODEL_57886cbe401347729504c15e13fd5830",
       "style": "IPY_MODEL_f8341b71d28c45248c17c26e212e2e19",
       "tooltip": null
      }
     },
     "b626349f61454ff4abb51646868cd2d9": {
      "model_module": "@jupyter-widgets/controls",
      "model_module_version": "2.0.0",
      "model_name": "ButtonStyleModel",
      "state": {
       "font_family": null,
       "font_size": null,
       "font_style": null,
       "font_variant": null,
       "font_weight": null,
       "text_color": null,
       "text_decoration": null
      }
     },
     "b8c4906e6e484993920a453115b1ab9d": {
      "model_module": "ipyevents",
      "model_module_version": "2.0.2",
      "model_name": "EventModel",
      "state": {
       "_supported_key_events": [
        "keydown",
        "keyup"
       ],
       "_supported_mouse_events": [
        "click",
        "auxclick",
        "dblclick",
        "mouseenter",
        "mouseleave",
        "mousedown",
        "mouseup",
        "mousemove",
        "wheel",
        "contextmenu",
        "dragstart",
        "drag",
        "dragend",
        "dragenter",
        "dragover",
        "dragleave",
        "drop"
       ],
       "_supported_touch_events": [
        "touchstart",
        "touchend",
        "touchmove",
        "touchcancel"
       ],
       "_view_module": "@jupyter-widgets/controls",
       "source": "IPY_MODEL_ebffc88032b84415a940d4309382c7cb",
       "throttle_or_debounce": "",
       "watched_events": [
        "click",
        "keydown",
        "keyup",
        "mousemove"
       ],
       "xy_coordinate_system": ""
      }
     },
     "c890cd4e317d4a0785005d11939ae9b8": {
      "model_module": "@jupyter-widgets/controls",
      "model_module_version": "2.0.0",
      "model_name": "SliderStyleModel",
      "state": {
       "description_width": ""
      }
     },
     "d753c5f41aed4dd08bda33df05faae55": {
      "model_module": "@jupyter-widgets/base",
      "model_module_version": "2.0.0",
      "model_name": "LayoutModel",
      "state": {}
     },
     "d887be41c9b3407a8ba1cbc9dbb58302": {
      "model_module": "@jupyter-widgets/controls",
      "model_module_version": "2.0.0",
      "model_name": "ButtonStyleModel",
      "state": {
       "font_family": null,
       "font_size": null,
       "font_style": null,
       "font_variant": null,
       "font_weight": null,
       "text_color": null,
       "text_decoration": null
      }
     },
     "dd5c4a504e2c40578634863a06ad185c": {
      "model_module": "@jupyter-widgets/controls",
      "model_module_version": "2.0.0",
      "model_name": "DropdownModel",
      "state": {
       "_options_labels": [
        "pusht/chi",
        "robomimic/pickplace/can/ph",
        "robomimic/nutassembly/square/ph"
       ],
       "description": "Dataset:",
       "index": 2,
       "layout": "IPY_MODEL_e0bfb76033be44618f59e9d2cb43bf70",
       "style": "IPY_MODEL_311edbf8dbae48e5afb9b4d2810950af"
      }
     },
     "e0bfb76033be44618f59e9d2cb43bf70": {
      "model_module": "@jupyter-widgets/base",
      "model_module_version": "2.0.0",
      "model_name": "LayoutModel",
      "state": {}
     },
     "e43f10bea7754c2293b09986dc482264": {
      "model_module": "@jupyter-widgets/controls",
      "model_module_version": "2.0.0",
      "model_name": "HTMLStyleModel",
      "state": {
       "description_width": "",
       "font_size": null,
       "text_color": null
      }
     },
     "e5449893558148049566e9b32951a2fd": {
      "model_module": "@jupyter-widgets/controls",
      "model_module_version": "2.0.0",
      "model_name": "ButtonModel",
      "state": {
       "description": "Delete",
       "layout": "IPY_MODEL_a5a7549eddbc4dd9a4e4d08187edf312",
       "style": "IPY_MODEL_7d9940aa9ff54d34b60c9b935aee7c05",
       "tooltip": null
      }
     },
     "ebffc88032b84415a940d4309382c7cb": {
      "model_module": "jupyter-webrtc",
      "model_module_version": "~0.6.0",
      "model_name": "ImageStreamModel",
      "state": {
       "_view_count": 1,
       "image": "IPY_MODEL_96357293f5da4711b8ce134a43e82739",
       "layout": "IPY_MODEL_971feb290da7497989eac2628cb56880"
      }
     },
     "ecf0f65d7d444735b507666d7e354c8d": {
      "model_module": "@jupyter-widgets/base",
      "model_module_version": "2.0.0",
      "model_name": "LayoutModel",
      "state": {}
     },
     "ee86eb58d52744fab42d3dc070f2d1c6": {
      "model_module": "@jupyter-widgets/base",
      "model_module_version": "2.0.0",
      "model_name": "LayoutModel",
      "state": {}
     },
     "efedcad659224a7cb503ae1e0a11c04c": {
      "model_module": "@jupyter-widgets/controls",
      "model_module_version": "2.0.0",
      "model_name": "LabelStyleModel",
      "state": {
       "description_width": "",
       "font_family": null,
       "font_size": null,
       "font_style": null,
       "font_variant": null,
       "font_weight": null,
       "text_color": null,
       "text_decoration": null
      }
     },
     "f17df87e380d49a1929a7d3f4ee59ca9": {
      "model_module": "@jupyter-widgets/controls",
      "model_module_version": "2.0.0",
      "model_name": "ButtonStyleModel",
      "state": {
       "font_family": null,
       "font_size": null,
       "font_style": null,
       "font_variant": null,
       "font_weight": null,
       "text_color": null,
       "text_decoration": null
      }
     },
     "f2d88a74e96d4fc19e0b088a5c6b75f1": {
      "model_module": "@jupyter-widgets/controls",
      "model_module_version": "2.0.0",
      "model_name": "IntSliderModel",
      "state": {
       "behavior": "drag-tap",
       "layout": "IPY_MODEL_15bb3b2f3f7f43038224342e6c35c476",
       "max": 129,
       "style": "IPY_MODEL_62b0321815fb4566b3b4694f6f2b5642",
       "value": 129
      }
     },
     "f5f547f9dd1f40b4b59e6313a7f4fada": {
      "model_module": "@jupyter-widgets/controls",
      "model_module_version": "2.0.0",
      "model_name": "HBoxModel",
      "state": {
       "children": [
        "IPY_MODEL_7d210fef1c694ebfa3e047509d74291f",
        "IPY_MODEL_f2d88a74e96d4fc19e0b088a5c6b75f1"
       ],
       "layout": "IPY_MODEL_ee86eb58d52744fab42d3dc070f2d1c6"
      }
     },
     "f8341b71d28c45248c17c26e212e2e19": {
      "model_module": "@jupyter-widgets/controls",
      "model_module_version": "2.0.0",
      "model_name": "ButtonStyleModel",
      "state": {
       "font_family": null,
       "font_size": null,
       "font_style": null,
       "font_variant": null,
       "font_weight": null,
       "text_color": null,
       "text_decoration": null
      }
     },
     "fb290c61737243cdb7c51f8bb88cd60b": {
      "model_module": "@jupyter-widgets/base",
      "model_module_version": "2.0.0",
      "model_name": "LayoutModel",
      "state": {}
     },
     "fc4cd5e1e5b5479dae20a92c1295dfa7": {
      "model_module": "@jupyter-widgets/controls",
      "model_module_version": "2.0.0",
      "model_name": "HTMLModel",
      "state": {
       "layout": "IPY_MODEL_6cc4aca9b09f43ddaf55f5a45400985d",
       "style": "IPY_MODEL_e43f10bea7754c2293b09986dc482264",
       "value": "<style>\n.cell-output-ipywidget-background {\n    background-color: transparent !important;\n}\n.jp-OutputArea-output {\n    background-color: transparent;\n}\npre {\n    color: var(--vscode-editor-foreground);\n    margin: 0;\n}\n.widget-image > video::-webkit-media-controls {\n  display: none;\n}\n</style>"
      }
     },
     "fda729feab9249938849ff37c6020d67": {
      "model_module": "@jupyter-widgets/base",
      "model_module_version": "2.0.0",
      "model_name": "LayoutModel",
      "state": {}
     }
    },
    "version_major": 2,
    "version_minor": 0
   }
  }
 },
 "nbformat": 4,
 "nbformat_minor": 4
}
