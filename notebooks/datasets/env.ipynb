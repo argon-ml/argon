{
 "cells": [
  {
   "cell_type": "code",
   "execution_count": 1,
   "metadata": {},
   "outputs": [],
   "source": [
    "import stanza.runtime\n",
    "stanza.runtime.setup()"
   ]
  },
  {
   "cell_type": "code",
   "execution_count": 2,
   "metadata": {},
   "outputs": [
    {
     "data": {
      "application/vnd.jupyter.widget-view+json": {
       "model_id": "7db74edf7ca74c52bc1e21d694eeca23",
       "version_major": 2,
       "version_minor": 0
      },
      "text/plain": [
       "Dropdown(description='Dataset:', index=1, options=('pusht/chi', 'robomimic/pickplace/can/ph', 'robomimic/nutas…"
      ]
     },
     "execution_count": 2,
     "metadata": {},
     "output_type": "execute_result"
    }
   ],
   "source": [
    "import ipywidgets\n",
    "import stanza.datasets.env\n",
    "\n",
    "env_datasets = [\n",
    "    \"pusht/chi\",\n",
    "    \"robomimic/pickplace/can/ph\",\n",
    "    \"robomimic/nutassembly/square/ph\"\n",
    "]\n",
    "default = \"robomimic/pickplace/can/ph\"\n",
    "dropdown = ipywidgets.Dropdown(\n",
    "    options=env_datasets,\n",
    "    value=default,\n",
    "    description='Dataset:',\n",
    "    disabled=False,\n",
    ")\n",
    "dropdown"
   ]
  },
  {
   "cell_type": "code",
   "execution_count": 3,
   "metadata": {},
   "outputs": [],
   "source": [
    "dataset = stanza.datasets.env.datasets.create(dropdown.value)\n",
    "env = dataset.create_env()"
   ]
  },
  {
   "cell_type": "code",
   "execution_count": 4,
   "metadata": {},
   "outputs": [
    {
     "name": "stdout",
     "output_type": "stream",
     "text": [
      "SystemData(time=Traced<ShapedArray(float32[])>with<DynamicJaxprTrace(level=1/0)>, qpos=Traced<ShapedArray(float32[37])>with<DynamicJaxprTrace(level=1/0)>, qvel=Traced<ShapedArray(float32[33])>with<DynamicJaxprTrace(level=1/0)>, act=Traced<ShapedArray(float32[0])>with<DynamicJaxprTrace(level=1/0)>, qacc=Traced<ShapedArray(float32[33])>with<DynamicJaxprTrace(level=1/0)>, act_dot=Traced<ShapedArray(float32[0])>with<DynamicJaxprTrace(level=1/0)>, xpos=Traced<ShapedArray(float32[32,3])>with<DynamicJaxprTrace(level=1/0)>, xquat=Traced<ShapedArray(float32[32,4])>with<DynamicJaxprTrace(level=1/0)>, actuator_velocity=Traced<ShapedArray(float32[9])>with<DynamicJaxprTrace(level=1/0)>, cvel=Traced<ShapedArray(float32[32,6])>with<DynamicJaxprTrace(level=1/0)>)\n"
     ]
    },
    {
     "data": {
      "application/vnd.jupyter.widget-view+json": {
       "model_id": "1c4b909b5fd34c88b27164e4543a1491",
       "version_major": 2,
       "version_minor": 0
      },
      "text/plain": [
       "HBox(children=(IntSlider(value=0, max=200), IntSlider(value=0)))"
      ]
     },
     "metadata": {},
     "output_type": "display_data"
    },
    {
     "data": {
      "application/vnd.jupyter.widget-view+json": {
       "model_id": "53273676b6c54e9a98963f3aad26c512",
       "version_major": 2,
       "version_minor": 0
      },
      "text/plain": [
       "HBox(children=(ImageStream(image=Image(value=b'\\x89PNG\\r\\n\\x1a\\n\\x00\\x00\\x00\\rIHDR\\x00\\x00\\x01\\x00\\x00\\x00\\x01…"
      ]
     },
     "metadata": {},
     "output_type": "display_data"
    },
    {
     "data": {
      "application/vnd.jupyter.widget-view+json": {
       "model_id": "8aa1a4a11db9467c9b57a0b3d943c1d3",
       "version_major": 2,
       "version_minor": 0
      },
      "text/plain": [
       "Label(value='')"
      ]
     },
     "metadata": {},
     "output_type": "display_data"
    },
    {
     "data": {
      "application/vnd.jupyter.widget-view+json": {
       "model_id": "d50e8e068af74703be25b5ab2dbc3768",
       "version_major": 2,
       "version_minor": 0
      },
      "text/plain": [
       "HBox(children=(Button(description='Delete', style=ButtonStyle()), Button(description='Reset (r)', style=Button…"
      ]
     },
     "metadata": {},
     "output_type": "display_data"
    }
   ],
   "source": [
    "from IPython.display import display\n",
    "from stanza.policy.ipython import DemonstrationCollector\n",
    "\n",
    "data = dataset.splits[\"train\"]\n",
    "collector = DemonstrationCollector(\n",
    "    data, env, data\n",
    ")\n",
    "display(collector)"
   ]
  },
  {
   "cell_type": "code",
   "execution_count": null,
   "metadata": {},
   "outputs": [],
   "source": []
  }
 ],
 "metadata": {
  "kernelspec": {
   "display_name": "Python 3 (ipykernel)",
   "language": "python",
   "name": "python3"
  },
  "language_info": {
   "codemirror_mode": {
    "name": "ipython",
    "version": 3
   },
   "file_extension": ".py",
   "mimetype": "text/x-python",
   "name": "python",
   "nbconvert_exporter": "python",
   "pygments_lexer": "ipython3",
   "version": "3.10.14"
  },
  "widgets": {
   "application/vnd.jupyter.widget-state+json": {
    "state": {
     "0e6016d1c04b4c41b374114361fa53da": {
      "model_module": "@jupyter-widgets/controls",
      "model_module_version": "2.0.0",
      "model_name": "ButtonStyleModel",
      "state": {
       "font_family": null,
       "font_size": null,
       "font_style": null,
       "font_variant": null,
       "font_weight": null,
       "text_color": null,
       "text_decoration": null
      }
     },
     "18e16eef03fb4e879400ce9d58eb0915": {
      "model_module": "@jupyter-widgets/base",
      "model_module_version": "2.0.0",
      "model_name": "LayoutModel",
      "state": {}
     },
     "1c4b909b5fd34c88b27164e4543a1491": {
      "model_module": "@jupyter-widgets/controls",
      "model_module_version": "2.0.0",
      "model_name": "HBoxModel",
      "state": {
       "children": [
        "IPY_MODEL_f863a5157235467fbf29edff5a061cde",
        "IPY_MODEL_ee47a8db555f4e3b986df2795aff2cf8"
       ],
       "layout": "IPY_MODEL_58f169638f9843f09364e3491e8412d7"
      }
     },
     "2336ea609e6a47b889d281fe79721d1f": {
      "model_module": "@jupyter-widgets/controls",
      "model_module_version": "2.0.0",
      "model_name": "ButtonModel",
      "state": {
       "description": "Collect (c)",
       "layout": "IPY_MODEL_28ae99cf255a4ff29f841398c385628a",
       "style": "IPY_MODEL_edb509c96c4a4227a13de5c3a8fff12b",
       "tooltip": null
      }
     },
     "28ae99cf255a4ff29f841398c385628a": {
      "model_module": "@jupyter-widgets/base",
      "model_module_version": "2.0.0",
      "model_name": "LayoutModel",
      "state": {}
     },
     "2c951a18916042f793f10120debd54e3": {
      "model_module": "@jupyter-widgets/base",
      "model_module_version": "2.0.0",
      "model_name": "LayoutModel",
      "state": {}
     },
     "301cfaaa50024cef993185a9fc6cceb3": {
      "model_module": "@jupyter-widgets/controls",
      "model_module_version": "2.0.0",
      "model_name": "LabelStyleModel",
      "state": {
       "description_width": "",
       "font_family": null,
       "font_size": null,
       "font_style": null,
       "font_variant": null,
       "font_weight": null,
       "text_color": null,
       "text_decoration": null
      }
     },
     "31869922dbb1492e8502b8dda78124d5": {
      "model_module": "@jupyter-widgets/base",
      "model_module_version": "2.0.0",
      "model_name": "LayoutModel",
      "state": {}
     },
     "3645995efb6848e49b51b011624e6f30": {
      "model_module": "@jupyter-widgets/base",
      "model_module_version": "2.0.0",
      "model_name": "LayoutModel",
      "state": {}
     },
     "3ed1401ec1224668b274eea2562148f1": {
      "model_module": "@jupyter-widgets/controls",
      "model_module_version": "2.0.0",
      "model_name": "SliderStyleModel",
      "state": {
       "description_width": ""
      }
     },
     "401e759e7ad040d497f0fb7d25989ad8": {
      "model_module": "@jupyter-widgets/controls",
      "model_module_version": "2.0.0",
      "model_name": "ButtonStyleModel",
      "state": {
       "font_family": null,
       "font_size": null,
       "font_style": null,
       "font_variant": null,
       "font_weight": null,
       "text_color": null,
       "text_decoration": null
      }
     },
     "53273676b6c54e9a98963f3aad26c512": {
      "model_module": "@jupyter-widgets/controls",
      "model_module_version": "2.0.0",
      "model_name": "HBoxModel",
      "state": {
       "children": [
        "IPY_MODEL_8e8b335100ba4b73a83bf012f83cf642",
        "IPY_MODEL_94647995c3444e47ad084e307fb67e62"
       ],
       "layout": "IPY_MODEL_6545513b82a44d158cad90d8137b7e31"
      }
     },
     "58f169638f9843f09364e3491e8412d7": {
      "model_module": "@jupyter-widgets/base",
      "model_module_version": "2.0.0",
      "model_name": "LayoutModel",
      "state": {}
     },
     "5f48ae5eb0644e75877c79e0b7445e9f": {
      "buffers": [
       {
        "data": "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",
        "encoding": "base64",
        "path": [
         "value"
        ]
       }
      ],
      "model_module": "@jupyter-widgets/controls",
      "model_module_version": "2.0.0",
      "model_name": "ImageModel",
      "state": {
       "layout": "IPY_MODEL_b2d428316395437bb94fd00635434975"
      }
     },
     "60b9b9e0bfcf47a7999501ba2592e7d8": {
      "model_module": "@jupyter-widgets/controls",
      "model_module_version": "2.0.0",
      "model_name": "ButtonModel",
      "state": {
       "description": "Delete",
       "layout": "IPY_MODEL_2c951a18916042f793f10120debd54e3",
       "style": "IPY_MODEL_d7b8cbce8f9b4a71b8d13e6d41bf1998",
       "tooltip": null
      }
     },
     "60c7046168424e0b821f4a13b361d92a": {
      "model_module": "@jupyter-widgets/controls",
      "model_module_version": "2.0.0",
      "model_name": "ButtonStyleModel",
      "state": {
       "font_family": null,
       "font_size": null,
       "font_style": null,
       "font_variant": null,
       "font_weight": null,
       "text_color": null,
       "text_decoration": null
      }
     },
     "6545513b82a44d158cad90d8137b7e31": {
      "model_module": "@jupyter-widgets/base",
      "model_module_version": "2.0.0",
      "model_name": "LayoutModel",
      "state": {}
     },
     "67ed0af2996643258065646cf12d08d6": {
      "model_module": "@jupyter-widgets/base",
      "model_module_version": "2.0.0",
      "model_name": "LayoutModel",
      "state": {}
     },
     "698235994b8d438a961404538bd9df3c": {
      "model_module": "@jupyter-widgets/base",
      "model_module_version": "2.0.0",
      "model_name": "LayoutModel",
      "state": {}
     },
     "714e8a7f586c43b0824d1e54f0beb3a2": {
      "model_module": "@jupyter-widgets/base",
      "model_module_version": "2.0.0",
      "model_name": "LayoutModel",
      "state": {}
     },
     "7b1efba8c64b465191ab4c4c0d976902": {
      "model_module": "@jupyter-widgets/base",
      "model_module_version": "2.0.0",
      "model_name": "LayoutModel",
      "state": {}
     },
     "7db74edf7ca74c52bc1e21d694eeca23": {
      "model_module": "@jupyter-widgets/controls",
      "model_module_version": "2.0.0",
      "model_name": "DropdownModel",
      "state": {
       "_options_labels": [
        "pusht/chi",
        "robomimic/pickplace/can/ph",
        "robomimic/nutassembly/square/ph"
       ],
       "description": "Dataset:",
       "index": 1,
       "layout": "IPY_MODEL_3645995efb6848e49b51b011624e6f30",
       "style": "IPY_MODEL_9c3bc3853c8e4edaa1bb484e4034e66d"
      }
     },
     "8aa1a4a11db9467c9b57a0b3d943c1d3": {
      "model_module": "@jupyter-widgets/controls",
      "model_module_version": "2.0.0",
      "model_name": "LabelModel",
      "state": {
       "layout": "IPY_MODEL_f656445329d1443b954196bf5d077ebe",
       "style": "IPY_MODEL_301cfaaa50024cef993185a9fc6cceb3"
      }
     },
     "8e8b335100ba4b73a83bf012f83cf642": {
      "model_module": "jupyter-webrtc",
      "model_module_version": "~0.6.0",
      "model_name": "ImageStreamModel",
      "state": {
       "_view_count": 1,
       "image": "IPY_MODEL_5f48ae5eb0644e75877c79e0b7445e9f",
       "layout": "IPY_MODEL_18e16eef03fb4e879400ce9d58eb0915"
      }
     },
     "94647995c3444e47ad084e307fb67e62": {
      "model_module": "@jupyter-widgets/controls",
      "model_module_version": "2.0.0",
      "model_name": "HTMLModel",
      "state": {
       "layout": "IPY_MODEL_31869922dbb1492e8502b8dda78124d5",
       "style": "IPY_MODEL_d0e33fcbef2943bab9eb55ebc2da68b9",
       "value": "<style>\n.cell-output-ipywidget-background {\n    background-color: transparent !important;\n}\n.jp-OutputArea-output {\n    background-color: transparent;\n}\npre {\n    color: var(--vscode-editor-foreground);\n    margin: 0;\n}\n.widget-image > video::-webkit-media-controls {\n  display: none;\n}\n</style>"
      }
     },
     "9684d27ac1924bdab216140c119f8a33": {
      "model_module": "@jupyter-widgets/controls",
      "model_module_version": "2.0.0",
      "model_name": "ButtonModel",
      "state": {
       "description": "Save",
       "layout": "IPY_MODEL_a3434e11248c44e28727e944cdeac795",
       "style": "IPY_MODEL_60c7046168424e0b821f4a13b361d92a",
       "tooltip": null
      }
     },
     "9c3bc3853c8e4edaa1bb484e4034e66d": {
      "model_module": "@jupyter-widgets/controls",
      "model_module_version": "2.0.0",
      "model_name": "DescriptionStyleModel",
      "state": {
       "description_width": ""
      }
     },
     "a3434e11248c44e28727e944cdeac795": {
      "model_module": "@jupyter-widgets/base",
      "model_module_version": "2.0.0",
      "model_name": "LayoutModel",
      "state": {}
     },
     "b2d428316395437bb94fd00635434975": {
      "model_module": "@jupyter-widgets/base",
      "model_module_version": "2.0.0",
      "model_name": "LayoutModel",
      "state": {}
     },
     "d0e33fcbef2943bab9eb55ebc2da68b9": {
      "model_module": "@jupyter-widgets/controls",
      "model_module_version": "2.0.0",
      "model_name": "HTMLStyleModel",
      "state": {
       "description_width": "",
       "font_size": null,
       "text_color": null
      }
     },
     "d50e8e068af74703be25b5ab2dbc3768": {
      "model_module": "@jupyter-widgets/controls",
      "model_module_version": "2.0.0",
      "model_name": "HBoxModel",
      "state": {
       "children": [
        "IPY_MODEL_60b9b9e0bfcf47a7999501ba2592e7d8",
        "IPY_MODEL_fb5acd49682f477b84ceb3fd7014ba63",
        "IPY_MODEL_2336ea609e6a47b889d281fe79721d1f",
        "IPY_MODEL_fda0c2ebc6374160b4b2459f6efa98a0",
        "IPY_MODEL_9684d27ac1924bdab216140c119f8a33"
       ],
       "layout": "IPY_MODEL_dd38bca93b59408b96e5ab512d312a54"
      }
     },
     "d7b8cbce8f9b4a71b8d13e6d41bf1998": {
      "model_module": "@jupyter-widgets/controls",
      "model_module_version": "2.0.0",
      "model_name": "ButtonStyleModel",
      "state": {
       "font_family": null,
       "font_size": null,
       "font_style": null,
       "font_variant": null,
       "font_weight": null,
       "text_color": null,
       "text_decoration": null
      }
     },
     "dd38bca93b59408b96e5ab512d312a54": {
      "model_module": "@jupyter-widgets/base",
      "model_module_version": "2.0.0",
      "model_name": "LayoutModel",
      "state": {}
     },
     "e4f83e76c2274a178ccc17d53e6856a4": {
      "model_module": "ipyevents",
      "model_module_version": "2.0.2",
      "model_name": "EventModel",
      "state": {
       "_supported_key_events": [
        "keydown",
        "keyup"
       ],
       "_supported_mouse_events": [
        "click",
        "auxclick",
        "dblclick",
        "mouseenter",
        "mouseleave",
        "mousedown",
        "mouseup",
        "mousemove",
        "wheel",
        "contextmenu",
        "dragstart",
        "drag",
        "dragend",
        "dragenter",
        "dragover",
        "dragleave",
        "drop"
       ],
       "_supported_touch_events": [
        "touchstart",
        "touchend",
        "touchmove",
        "touchcancel"
       ],
       "_view_module": "@jupyter-widgets/controls",
       "source": "IPY_MODEL_8e8b335100ba4b73a83bf012f83cf642",
       "throttle_or_debounce": "",
       "watched_events": [
        "click",
        "keydown",
        "keyup",
        "mousemove"
       ],
       "xy_coordinate_system": ""
      }
     },
     "e8eebae2a81749c89243050ba279f051": {
      "model_module": "@jupyter-widgets/controls",
      "model_module_version": "2.0.0",
      "model_name": "SliderStyleModel",
      "state": {
       "description_width": ""
      }
     },
     "edb509c96c4a4227a13de5c3a8fff12b": {
      "model_module": "@jupyter-widgets/controls",
      "model_module_version": "2.0.0",
      "model_name": "ButtonStyleModel",
      "state": {
       "font_family": null,
       "font_size": null,
       "font_style": null,
       "font_variant": null,
       "font_weight": null,
       "text_color": null,
       "text_decoration": null
      }
     },
     "ee47a8db555f4e3b986df2795aff2cf8": {
      "model_module": "@jupyter-widgets/controls",
      "model_module_version": "2.0.0",
      "model_name": "IntSliderModel",
      "state": {
       "behavior": "drag-tap",
       "layout": "IPY_MODEL_7b1efba8c64b465191ab4c4c0d976902",
       "max": 125,
       "style": "IPY_MODEL_e8eebae2a81749c89243050ba279f051",
       "value": 125
      }
     },
     "f656445329d1443b954196bf5d077ebe": {
      "model_module": "@jupyter-widgets/base",
      "model_module_version": "2.0.0",
      "model_name": "LayoutModel",
      "state": {}
     },
     "f863a5157235467fbf29edff5a061cde": {
      "model_module": "@jupyter-widgets/controls",
      "model_module_version": "2.0.0",
      "model_name": "IntSliderModel",
      "state": {
       "behavior": "drag-tap",
       "layout": "IPY_MODEL_67ed0af2996643258065646cf12d08d6",
       "max": 199,
       "style": "IPY_MODEL_3ed1401ec1224668b274eea2562148f1",
       "value": 110
      }
     },
     "fb5acd49682f477b84ceb3fd7014ba63": {
      "model_module": "@jupyter-widgets/controls",
      "model_module_version": "2.0.0",
      "model_name": "ButtonModel",
      "state": {
       "description": "Reset (r)",
       "layout": "IPY_MODEL_698235994b8d438a961404538bd9df3c",
       "style": "IPY_MODEL_0e6016d1c04b4c41b374114361fa53da",
       "tooltip": null
      }
     },
     "fda0c2ebc6374160b4b2459f6efa98a0": {
      "model_module": "@jupyter-widgets/controls",
      "model_module_version": "2.0.0",
      "model_name": "ButtonModel",
      "state": {
       "description": "Trim",
       "layout": "IPY_MODEL_714e8a7f586c43b0824d1e54f0beb3a2",
       "style": "IPY_MODEL_401e759e7ad040d497f0fb7d25989ad8",
       "tooltip": null
      }
     }
    },
    "version_major": 2,
    "version_minor": 0
   }
  }
 },
 "nbformat": 4,
 "nbformat_minor": 4
}
