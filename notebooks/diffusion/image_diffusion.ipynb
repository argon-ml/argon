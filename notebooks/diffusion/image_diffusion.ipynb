{
 "cells": [
  {
   "cell_type": "code",
   "execution_count": 1,
   "metadata": {},
   "outputs": [],
   "source": [
    "import foundry.runtime\n",
    "foundry.runtime.setup() # setup logging, etc.\n",
    "\n",
    "from IPython.display import display\n",
    "\n",
    "import foundry.util.ipython as ipyutil\n",
    "from foundry.graphics import image_grid\n",
    "from functools import partial\n",
    "\n",
    "import jax\n",
    "import jax.flatten_util\n",
    "import matplotlib.pyplot as plt\n",
    "import foundry.numpy as jnp\n",
    "\n",
    "from foundry.diffusion import DDPMSchedule\n",
    "from foundry.datasets import image_datasets\n",
    "\n",
    "import logging\n",
    "logger = logging.getLogger(\"image_diffusion\")\n",
    "logger.setLevel(logging.DEBUG)\n",
    "\n",
    "DATASET = \"mnist\"\n",
    "\n",
    "dataset = image_datasets.create(DATASET)\n",
    "train_data = dataset.splits[\"train\"]\n",
    "normalizer = dataset.normalizers[\"hypercube\"]\n",
    "\n",
    "schedule = DDPMSchedule.make_squaredcos_cap_v2(50)"
   ]
  },
  {
   "cell_type": "code",
   "execution_count": 2,
   "metadata": {},
   "outputs": [
    {
     "data": {
      "application/vnd.jupyter.widget-view+json": {
       "model_id": "931d7c8967564ff3936d7f1b46ba2b7b",
       "version_major": 2,
       "version_minor": 0
      },
      "text/plain": [
       "HBox(children=(HTML(value='<style>\\n.cell-output-ipywidget-background {\\n    background-color: transparent !im…"
      ]
     },
     "metadata": {},
     "output_type": "display_data"
    }
   ],
   "source": [
    "if True:\n",
    "    normalized = jax.vmap(normalizer.normalize)(train_data.slice(0, len(train_data) // 2))\n",
    "    @partial(jax.jit)\n",
    "    def sample(rng_key):\n",
    "        def gt_denoiser(_, x, t):\n",
    "            denoised = schedule.compute_denoised(x, t, normalized)\n",
    "            return schedule.output_from_denoised(x, t, denoised)\n",
    "        return normalizer.unnormalize(schedule.sample(rng_key, gt_denoiser, normalizer.structure))\n",
    "    samples = jax.vmap(sample)(jax.random.split(jax.random.PRNGKey(43), 10))\n",
    "    from IPython.display import display\n",
    "    from foundry.train.reporting import Image\n",
    "    display(Image(image_grid(samples)))"
   ]
  },
  {
   "cell_type": "code",
   "execution_count": 3,
   "metadata": {},
   "outputs": [
    {
     "data": {
      "application/vnd.jupyter.widget-view+json": {
       "model_id": "33da0c22fdb5458892b45fee5910a06a",
       "version_major": 2,
       "version_minor": 0
      },
      "text/plain": [
       "HBox(children=(HTML(value='<style>\\n.cell-output-ipywidget-background {\\n    background-color: transparent !im…"
      ]
     },
     "metadata": {},
     "output_type": "display_data"
    },
    {
     "data": {
      "application/vnd.jupyter.widget-view+json": {
       "model_id": "e804214c5c4e4020a6b5328889f768e5",
       "version_major": 2,
       "version_minor": 0
      },
      "text/plain": [
       "HBox(children=(HTML(value='<style>\\n.cell-output-ipywidget-background {\\n    background-color: transparent !im…"
      ]
     },
     "metadata": {},
     "output_type": "display_data"
    }
   ],
   "source": [
    "from foundry.nn.unet import DiffusionUNet\n",
    "from foundry.nn.mlp import DiffusionMLP\n",
    "from foundry import train as st\n",
    "import foundry.train.ipython\n",
    "import foundry.graphics\n",
    "import optax\n",
    "\n",
    "model = DiffusionUNet(base_channels=32, time_embed_dim=64)\n",
    "# model = DiffusionMLP([1], time_embed_dim=32)\n",
    "init_params = jax.jit(model.init)(\n",
    "    jax.random.PRNGKey(42),\n",
    "    dataset.splits[\"train\"][0], timestep=0)\n",
    "total_params = jax.tree_util.tree_reduce(lambda x, y: x + y.size, init_params, 0)\n",
    "logger.info(f\"Total number of parameters: {total_params}\")\n",
    "\n",
    "def loss_fn(params, _iteration, rng_key, sample):\n",
    "    denoiser = lambda _, x, t: model.apply(params, x, t - 1)\n",
    "    normalized = normalizer.normalize(sample)\n",
    "    loss = schedule.loss(rng_key, denoiser, normalized)\n",
    "    return st.LossOutput(\n",
    "        loss=loss,\n",
    "        metrics={\"loss\": loss}\n",
    "    )\n",
    "\n",
    "@jax.jit\n",
    "def generate_samples(params, rng_key):\n",
    "    @jax.jit\n",
    "    def sample(vars, rng_key):\n",
    "        denoiser = lambda _, x, t: model.apply(vars, x, t - 1)\n",
    "        return normalizer.unnormalize(schedule.sample(rng_key, denoiser, normalizer.structure))\n",
    "    sample = jax.vmap(sample, in_axes=(None, 0))\n",
    "    samples = sample(params, jax.random.split(rng_key, 64))\n",
    "    return foundry.graphics.image_grid(samples)\n",
    "\n",
    "def generate_hook(rng, train_state):\n",
    "    return {\n",
    "        \"samples\": st.Image(generate_samples(train_state.vars, next(rng)))\n",
    "    }\n",
    "\n",
    "epochs = 100\n",
    "batch_size = 64\n",
    "iterations = epochs*len(dataset.splits[\"train\"])//batch_size\n",
    "trained_params = st.fit(\n",
    "    data=dataset.splits[\"train\"],\n",
    "    batch_loss_fn=st.batch_loss(loss_fn),\n",
    "    init_vars=init_params,\n",
    "    rng_key=jax.random.PRNGKey(42),\n",
    "    optimizer=optax.adamw(optax.cosine_decay_schedule(3e-4, iterations)),\n",
    "    max_epochs=epochs,\n",
    "    batch_size=batch_size,\n",
    "    hooks=[\n",
    "        st.every_n_iterations(500, st.console_logger(prefix=\"train.\", metrics=True)),\n",
    "        st.every_n_epochs(2,\n",
    "            st.ipython.display_logger(generate_hook)\n",
    "        )\n",
    "    ]\n",
    ")"
   ]
  },
  {
   "cell_type": "code",
   "execution_count": null,
   "metadata": {},
   "outputs": [],
   "source": [
    "def sample(rng_key):\n",
    "    model = lambda _, x, t: model.apply(trained_params, x, timestep=t)\n",
    "    schedule.sample(rng_key, model, structure=jax.ShapeDtypeStruct((28, 28, 1), jnp.float32))"
   ]
  }
 ],
 "metadata": {
  "kernelspec": {
   "display_name": ".venv",
   "language": "python",
   "name": "python3"
  },
  "language_info": {
   "codemirror_mode": {
    "name": "ipython",
    "version": 3
   },
   "file_extension": ".py",
   "mimetype": "text/x-python",
   "name": "python",
   "nbconvert_exporter": "python",
   "pygments_lexer": "ipython3",
   "version": "3.10.12"
  }
 },
 "nbformat": 4,
 "nbformat_minor": 2
}
