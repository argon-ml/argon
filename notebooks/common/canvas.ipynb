{
 "cells": [
  {
   "cell_type": "code",
   "execution_count": 1,
   "id": "fe4eb6d3-8a00-445b-9f96-956672d05d1d",
   "metadata": {},
   "outputs": [],
   "source": [
    "from foundry import canvas\n",
    "from foundry.util.ipython import as_image\n",
    "import foundry.numpy as jnp"
   ]
  },
  {
   "cell_type": "code",
   "execution_count": 5,
   "id": "b3e3b8bc-3e51-4eb9-b203-f5d2e6d75ac0",
   "metadata": {},
   "outputs": [
    {
     "data": {
      "application/vnd.jupyter.widget-view+json": {
       "model_id": "0fd2f684b0fc4750997df5cb2a59a87f",
       "version_major": 2,
       "version_minor": 0
      },
      "text/plain": [
       "HBox(children=(Image(value=b'\\x89PNG\\r\\n\\x1a\\n\\x00\\x00\\x00\\rIHDR\\x00\\x00\\x01\\x00\\x00\\x00\\x01\\x00\\x08\\x06\\x00\\x…"
      ]
     },
     "execution_count": 5,
     "metadata": {},
     "output_type": "execute_result"
    }
   ],
   "source": [
    "img = jnp.ones((256, 256, 3))\n",
    "\n",
    "circle = canvas.fill(\n",
    "    canvas.circle((128, 128), 10),\n",
    "    canvas.colors.Red\n",
    ")\n",
    "\n",
    "rect = canvas.fill(\n",
    "    canvas.box((50, 50), (128, 128)),\n",
    "    canvas.colors.Green\n",
    ")\n",
    "\n",
    "world = canvas.stack(\n",
    "    rect, circle\n",
    ")\n",
    "\n",
    "img = canvas.paint(img,\n",
    "    world\n",
    ")\n",
    "as_image(img)"
   ]
  },
  {
   "cell_type": "code",
   "execution_count": null,
   "id": "98dfe928-8620-4ecf-b060-dc19a033a631",
   "metadata": {},
   "outputs": [],
   "source": []
  }
 ],
 "metadata": {
  "kernelspec": {
   "display_name": "Python 3 (ipykernel)",
   "language": "python",
   "name": "python3"
  },
  "language_info": {
   "codemirror_mode": {
    "name": "ipython",
    "version": 3
   },
   "file_extension": ".py",
   "mimetype": "text/x-python",
   "name": "python",
   "nbconvert_exporter": "python",
   "pygments_lexer": "ipython3",
   "version": "3.12.2"
  },
  "widgets": {
   "application/vnd.jupyter.widget-state+json": {
    "state": {
     "02ef848614804799a495f719f6871abf": {
      "model_module": "@jupyter-widgets/base",
      "model_module_version": "2.0.0",
      "model_name": "LayoutModel",
      "state": {}
     },
     "0411e2136aa14fb9a36bc602c77a37da": {
      "model_module": "@jupyter-widgets/controls",
      "model_module_version": "2.0.0",
      "model_name": "HTMLStyleModel",
      "state": {
       "description_width": "",
       "font_size": null,
       "text_color": null
      }
     },
     "0583434ce1a9498e8c233d387e14e53f": {
      "model_module": "@jupyter-widgets/controls",
      "model_module_version": "2.0.0",
      "model_name": "HBoxModel",
      "state": {
       "children": [
        "IPY_MODEL_8d7e46a00bdb4685a10f7898893820aa",
        "IPY_MODEL_15f0d21a377b41c681bfdd6ecc627648"
       ],
       "layout": "IPY_MODEL_02ef848614804799a495f719f6871abf"
      }
     },
     "0f400293a6e843ad81dda568fda9ca19": {
      "model_module": "@jupyter-widgets/base",
      "model_module_version": "2.0.0",
      "model_name": "LayoutModel",
      "state": {}
     },
     "0fd2f684b0fc4750997df5cb2a59a87f": {
      "model_module": "@jupyter-widgets/controls",
      "model_module_version": "2.0.0",
      "model_name": "HBoxModel",
      "state": {
       "children": [
        "IPY_MODEL_1f3e09bce08b458b92e8f3c50c22a613",
        "IPY_MODEL_148865d9d482476ab21d132660e688ef"
       ],
       "layout": "IPY_MODEL_33484dda60124643a0fac799636cc944"
      }
     },
     "148865d9d482476ab21d132660e688ef": {
      "model_module": "@jupyter-widgets/controls",
      "model_module_version": "2.0.0",
      "model_name": "HTMLModel",
      "state": {
       "layout": "IPY_MODEL_0f400293a6e843ad81dda568fda9ca19",
       "style": "IPY_MODEL_fd6ab9db3b704281819af97cc8a8e488",
       "value": "<style>\n.cell-output-ipywidget-background {\n    background-color: transparent !important;\n}\n.jp-OutputArea-output {\n    background-color: transparent;\n}\npre {\n    color: var(--vscode-editor-foreground);\n    margin: 0;\n}\nvideo::-webkit-media-controls {\n  display: none;\n}\n</style>"
      }
     },
     "15f0d21a377b41c681bfdd6ecc627648": {
      "model_module": "@jupyter-widgets/controls",
      "model_module_version": "2.0.0",
      "model_name": "HTMLModel",
      "state": {
       "layout": "IPY_MODEL_9e54def1c8b24e93ab7195b6701d6473",
       "style": "IPY_MODEL_0411e2136aa14fb9a36bc602c77a37da",
       "value": "<style>\n.cell-output-ipywidget-background {\n    background-color: transparent !important;\n}\n.jp-OutputArea-output {\n    background-color: transparent;\n}\npre {\n    color: var(--vscode-editor-foreground);\n    margin: 0;\n}\nvideo::-webkit-media-controls {\n  display: none;\n}\n</style>"
      }
     },
     "1f3e09bce08b458b92e8f3c50c22a613": {
      "buffers": [
       {
        "data": "iVBORw0KGgoAAAANSUhEUgAAAQAAAAEACAYAAABccqhmAAAD5ElEQVR4nO3aUUojQRRA0e7BJWYpcRVxJ+Iaaz6GjDiIommsTN1zIH/SFFJ163V0H2OMDUj6NXsBwDwCAGECAGECAGECAGECAGECAGECAGECAGECAGECAGECAGECAGECAGECAGECAGECAGECAGECAGECAGECAGECAGECAGECAGECAGECAGECAGECAGECAGECAGECAGECAGECAGECAGECAGECAGECAGECAGECAGECAGECAGECAGECAGECAGECAGECAGECAGECAGECAGEPsxdwlH3bZy/hvzS2MXsJTGQCgDABgDABgDABgDABgDABgDABgDABgDABgDABgDABgDABgDABgDABgDABgDABgDABgDABgDABgDABgDABgDABgDABgDABgDABgDABgDABgDABgDABgDABgDABgDABgDABgDABgDABgDABgDABgDABgDABgDABgDABgDABgDABgDABgDABgDABgDABgDABgDABgDABgDABgDABgDABgDABgDABgDABgDABgDABgDABgDABgDABgDABgDABgDABgDABgDABgDABgDABiHk+bdvYXz/bvr9+np5mL48fJgAR14N/evnghx4fhSBmH2OM2Ys4wr7ts5dwt8Z3fzVrbA0+YAJY3LcP/7b9mQZYmgAs7Pl0wEO8DizNK8DCbrr93zxoiS3CO0wAizrk9r8yBSzLBLCow27/vw9cYpvwDxMAhAkAhD3MXsBRxmZEfcsrEZ8zAUCYAECYAKzqcrnPZ3FXlvkzIO846l95bZFlmQBWdsTN7fZfmglgdbdOAbbH0kwAq7vlADv8yxOAgjG+NspfLg5/hABUnM+fh+B68M/nn1sXU/kOAMJMABAmABAmABAmABAmABAmABAmABAmABAmABAmABAmABAmABAmABAmABAmABAmABAmABAmABAmABAmABAmABAmABAmABAmABAmABAmABAmABAmABAmABAmABAmABAmABAmABAmABAmABAmABAmABAmABAmABAmABAmABAmABAmABAmABAmABAmABAmABAmABAmABAmABAmABAmABAmABAmABAmABAmABAmABAmABAmABAmABAmABAmABAmABAmABAmABAmABAmABAmABAmABAmABAmABAmABAmABAmABAmABAmABAmABAmABAmABAmABAmABAmABAmABAmABAmABAmABAmABAmABAmABAmABAmABAmABAmABAmABAmABAmABAmABAmABAmABAmABAmABAmABAmABAmABAmABAmABAmABAmABAmABAmABAmABAmABAmABAmABAmABAmABAmABD2G9BZVKaGTgoIAAAAAElFTkSuQmCC",
        "encoding": "base64",
        "path": [
         "value"
        ]
       }
      ],
      "model_module": "@jupyter-widgets/controls",
      "model_module_version": "2.0.0",
      "model_name": "ImageModel",
      "state": {
       "layout": "IPY_MODEL_e37b8a3953a840e589f650908932bf05"
      }
     },
     "1f8d517b3dab4dc997c1c9e0a768ab52": {
      "buffers": [
       {
        "data": "iVBORw0KGgoAAAANSUhEUgAAAQAAAAEACAYAAABccqhmAAADyElEQVR4nO3bwW7aQBRAUbuq2h+Gr4A/jpTpil1J1GLF0bvnSOxwNCDPnUdI9rXW2oCkH2cvADiPAECYAECYAECYAECYAECYAECYAECYAECYAECYAECYAECYAECYAECYAECYAECYAECYAECYAECYAECYAECYAECYAECYAECYAECYAECYAECYAECYAECYAECYAECYAECYAECYAECYAECYAECYAECYAECYAECYAECYAECYAECYAECYAECYAECYAECYAECYAECYAEDYz7MXcJR9289ewrf0vr17b3jKBABhAgBhAgBhAgBhAgBhAgBhAgBhAgBhAgBhAgBhAgBhAgBhAgBhAgBhAgBhAgBhAgBhAgBhAgBhAgBhAgBhAgBhAgBhAgBhAgBhAgBhAgBhAgBhAgBhAgBhAgBhAgBhAgBhAgBhAgBhAgBhAgBhAgBhAgBhAgBhAgBhAgBhAgBhAgBhAgBhAgBhAgBhAgBhAgBhAgBhAgBhAgBhAgBhAgBhAgBhAgBhAgBhAgBhAgBhAgBhAgBhAgBhAgBhAgBhAgBhAgBhAgBhAlBzv2/bvv/9cb+fvTq+mABUPDb+9fr8OderEMTsa6119iKOsLYRL+Nwb9vb9mv//X8Xz7g1+MCYAPDEvr92vdtjNB8BJjtilPdxYDQTwGSvnv4PbpGxTABTHXlymwLGMgFMddTp/+A2GckEAGECAGECAGECAGECAGECMNXt9j1/Ft+KrwEn84dAfMIEMNkRJ7fTfzQTwHT+GYgPmACme2UD2/zjCUDBWv82yt9uNn+EAFRcLp+H4LHxL5evWxen8jsACDMBQJgAQJgAQJgAQJgAQJgAQJgAQJgAQJgAQJgAQJgAQJgAQJgAQJgAQJgAQJgAQJgAQJgAQJgAQJgAQJgAQJgAQJgAQJgAQJgAQJgAQJgAQJgAQJgAQJgAQJgAQJgAQJgAQJgAQJgAQJgAQJgAQJgAQJgAQJgAQJgAQJgAQJgAQJgAQJgAQJgAQJgAQJgAQJgAQJgAQJgAQJgAQJgAQJgAQJgAQJgAQJgAQJgAQJgAQJgAQJgAQJgAQJgAQJgAQJgAQJgAQJgAQJgAQJgAQJgAQJgAQJgAQJgAQJgAQJgAQJgAQJgAQJgAQJgAQJgAQJgAQJgAQJgAQJgAQJgAQJgAQJgAQJgAQJgAQJgAQJgAQJgAQJgAQJgAQJgAQJgAQJgAQJgAQJgAQJgAQJgAQJgAQJgAQJgAQJgAQJgAQJgAQJgAQJgAQJgAQJgAQJgAQJgAQJgAQJgAQJgAQJgAQNgfdJZU81StxmwAAAAASUVORK5CYII=",
        "encoding": "base64",
        "path": [
         "value"
        ]
       }
      ],
      "model_module": "@jupyter-widgets/controls",
      "model_module_version": "2.0.0",
      "model_name": "ImageModel",
      "state": {
       "layout": "IPY_MODEL_3cd1b51db6724ea783c537329228a2ce"
      }
     },
     "2914509894fd45bcb43f5ff33fb48d6e": {
      "model_module": "@jupyter-widgets/base",
      "model_module_version": "2.0.0",
      "model_name": "LayoutModel",
      "state": {}
     },
     "2ce71ecc565b4a7ca7b31dcc337eae8b": {
      "model_module": "@jupyter-widgets/base",
      "model_module_version": "2.0.0",
      "model_name": "LayoutModel",
      "state": {}
     },
     "33484dda60124643a0fac799636cc944": {
      "model_module": "@jupyter-widgets/base",
      "model_module_version": "2.0.0",
      "model_name": "LayoutModel",
      "state": {}
     },
     "3cd1b51db6724ea783c537329228a2ce": {
      "model_module": "@jupyter-widgets/base",
      "model_module_version": "2.0.0",
      "model_name": "LayoutModel",
      "state": {}
     },
     "4833c928e3014bc396fc1d82e0eadbee": {
      "model_module": "@jupyter-widgets/base",
      "model_module_version": "2.0.0",
      "model_name": "LayoutModel",
      "state": {}
     },
     "5d251391d22b45f0879fe4e28b0b8058": {
      "model_module": "@jupyter-widgets/controls",
      "model_module_version": "2.0.0",
      "model_name": "HTMLModel",
      "state": {
       "layout": "IPY_MODEL_2914509894fd45bcb43f5ff33fb48d6e",
       "style": "IPY_MODEL_900659f11b8c45dd9c4b372708639101",
       "value": "<style>\n.cell-output-ipywidget-background {\n    background-color: transparent !important;\n}\n.jp-OutputArea-output {\n    background-color: transparent;\n}\npre {\n    color: var(--vscode-editor-foreground);\n    margin: 0;\n}\nvideo::-webkit-media-controls {\n  display: none;\n}\n</style>"
      }
     },
     "5e1176bf4ea044b687644c9ed78cd421": {
      "model_module": "@jupyter-widgets/controls",
      "model_module_version": "2.0.0",
      "model_name": "HBoxModel",
      "state": {
       "children": [
        "IPY_MODEL_b31cc0528d3b4ff0a0ff5273b18af6c1",
        "IPY_MODEL_5d251391d22b45f0879fe4e28b0b8058"
       ],
       "layout": "IPY_MODEL_2ce71ecc565b4a7ca7b31dcc337eae8b"
      }
     },
     "5fcd51ecccc24bac8e6bcafc3789b08f": {
      "model_module": "@jupyter-widgets/base",
      "model_module_version": "2.0.0",
      "model_name": "LayoutModel",
      "state": {}
     },
     "8c5bafdbf3534b669a3739924a7902a2": {
      "model_module": "@jupyter-widgets/base",
      "model_module_version": "2.0.0",
      "model_name": "LayoutModel",
      "state": {}
     },
     "8d7e46a00bdb4685a10f7898893820aa": {
      "buffers": [
       {
        "data": "iVBORw0KGgoAAAANSUhEUgAAAQAAAAEACAYAAABccqhmAAADu0lEQVR4nO3asW3bQACG0VOgIhMY0RRG9kjjCbyISw+iCYwUGURbCGrcp1IK1wlIwPRF/t6rr/irjyB5u+sY17HQ6X6M76elpz/WcRzH43icPQNuypc1hw/nrWYAM6wKwPmw1QxghlUB+PVjqxnADKsC8Py01QxghlUB+P11qxnADIsD8PCy5QxghkUBuNyN8fNh6ynAR1sUgG+XrWcAM/wzAJe7MXaLrwkBt+avAXh48eSHz25/un+74Xc+vP3nf37ytR8q9v/r3X5ge6vuAQCfiwBAmABAmABAmABAmABAmABAmABAmABAmABAmABAmABAmABAmABAmABAmABAmABAmABAmABAmABAmABAmABAmABAmABAmABAmABAmABAmABAmABAmABAmABAmABAmABAmABAmABAmABAmABA2P44jrM3vIvX8Tp7Atyc3fV6vc4eAczhFQDCBADCBADCBADCBADCBADCBADCBADCBADCBADCBADCBADCBADCBADCBADCBADCBADCBADCBADCBADCBADCBADCBADCBADCBADCBADCBADCBADCBADCBADCBADCBADCBADCBADCBADCBADCBADCBADCBADCBADCBADCBADCBADCBADCBADCBADCBADCBADCBADCBADCBADCBADCBADCBADCBADCBADCBADCBADCBADCBADCBADCBADCBADCBADCBADCBADCBADCBADCBADCBADCBADCBADCBADCBADCBADCBADCBADCBADCBADCBADCBADCBADCBADCBADCBADCBADCBADCBADCBADCBADCBADCBADCBADCBADCBADCBADCBADCBADCBADCBADCBADCBADCBADCBADCBADCBADCBADCBADCBADCBADCBADCBADCBADCBADCBADCBADCBADCBADCBADCBADCBADCBADCBADCBADCBADCBADCBADCBADCBADCBADCBADCBADCBADCBADCBADCBADCBADCBADCBADCBADCBADCBADCBADCBADCBADCBADCBADCBADCBADCBADCBADCBADCBADCBADCBADCBADCBADCBADCBADCBADCBADCBADCBADCBADCBADCBADCBADCBADCBADCBADCBADCBADCBADCBADCBADCBADCBADCBADCBADCBADCBADCBADCBADCBADCBADCBADCBADCBADCBADCBADCBADCBADCBADCBADCBADCBADCBADCBADCBADCBADCBADCBADCBADCBADC/gCM5CMaKbFqvgAAAABJRU5ErkJggg==",
        "encoding": "base64",
        "path": [
         "value"
        ]
       }
      ],
      "model_module": "@jupyter-widgets/controls",
      "model_module_version": "2.0.0",
      "model_name": "ImageModel",
      "state": {
       "layout": "IPY_MODEL_4833c928e3014bc396fc1d82e0eadbee"
      }
     },
     "900659f11b8c45dd9c4b372708639101": {
      "model_module": "@jupyter-widgets/controls",
      "model_module_version": "2.0.0",
      "model_name": "HTMLStyleModel",
      "state": {
       "description_width": "",
       "font_size": null,
       "text_color": null
      }
     },
     "9e54def1c8b24e93ab7195b6701d6473": {
      "model_module": "@jupyter-widgets/base",
      "model_module_version": "2.0.0",
      "model_name": "LayoutModel",
      "state": {}
     },
     "b31cc0528d3b4ff0a0ff5273b18af6c1": {
      "buffers": [
       {
        "data": "iVBORw0KGgoAAAANSUhEUgAAAQAAAAEACAYAAABccqhmAAADzklEQVR4nO3aQW7aUBRAUbvqkmEVsIhkg9nC7yizVkkDxOTdcxAzjL6Q//UzsK+11gYk/Tp6AcBxBADCBADCBADCBADCBADCBADCBADCBADCPh2A/ckfr9vrIz8nGMkEAGECAGECAGECAGECAGECAGECAGECAGECAGECAGECAGECAGECAGECAGECAGECAGECAGECAGECAGECAGECAGECAGECAGECAGECAGECAGECAGECAGECAGECAGECAGECAGECAGECAGECAGECAGECAGECAGECAGG/P/vCl+3lgcu43dv2dvQS4MfZ11rr6EUAx3ALAGECAGECAGECAGECAGECAGECAGECAGECAGECAGECAGECAGECAGECAGECAGECAGECAGECAGECAGECAGECAGECAGECAGECAGECAGECAGECAGECAGECAGECAGECAGECAGECAGECAGECAGECAGECAGECAGECAGECAGECAGECAGECAGECAGECAGECAGECAGECAGECAGECAGECAGECAGECAGECAGECAGECAGECAGECAGECAGECAGECAGECAGECAGECAGECAGECAGECUHO9btu+//15vR69Or6ZAFS8b/zz+d+vOZ+FIGZfa62jF8GD7fvXjnNqjGcCmO6rm//WY/kRBGCye4zybgdGcwsw2b2u4E6RsUwAU93zym0KGMsEMNW979+dJiOZACBMACBMACBMACBMACBMAKa6XJ7zvXgqfgaczB+B+IAJYLJ7XLld/UczAUx36xTg9BjNBDDdLRvY5h9PAArW+r9R/nKx+SMEoOJ0+jgE7xv/dPq+dXEo3wFAmAkAwgQAwgQAwgQAwgQAwgQAwgQAwgQAwgQAwgQAwgQAwgQAwgQAwgQAwgQAwgQAwgQAwgQAwgQAwgQAwgQAwgQAwgQAwgQAwgQAwgQAwgQAwgQAwgQAwgQAwgQAwgQAwgQAwgQAwgQAwgQAwgQAwgQAwgQAwgQAwgQAwgQAwgQAwgQAwgQAwgQAwgQAwgQAwgQAwgQAwgQAwgQAwgQAwgQAwgQAwgQAwgQAwgQAwgQAwgQAwgQAwgQAwgQAwgQAwgQAwgQAwgQAwgQAwgQAwgQAwgQAwgQAwgQAwgQAwgQAwgQAwgQAwgQAwgQAwgQAwgQAwgQAwgQAwgQAwgQAwgQAwgQAwgQAwgQAwgQAwgQAwgQAwgQAwgQAwgQAwgQAwgQAwgQAwgQAwgQAwgQAwgQAwgQAwgQAwgQAwgQAwgQAwgQAwgQAwgQAwgQAwgQAwgQAwgQAwgQAwgQAwgQAwv4AqvFRpQtkEmYAAAAASUVORK5CYII=",
        "encoding": "base64",
        "path": [
         "value"
        ]
       }
      ],
      "model_module": "@jupyter-widgets/controls",
      "model_module_version": "2.0.0",
      "model_name": "ImageModel",
      "state": {
       "layout": "IPY_MODEL_5fcd51ecccc24bac8e6bcafc3789b08f"
      }
     },
     "c21619198e80495a95c50e5c0e3a6d74": {
      "model_module": "@jupyter-widgets/base",
      "model_module_version": "2.0.0",
      "model_name": "LayoutModel",
      "state": {}
     },
     "cd645855a3d34969909c9283e74c9ccb": {
      "model_module": "@jupyter-widgets/controls",
      "model_module_version": "2.0.0",
      "model_name": "HTMLModel",
      "state": {
       "layout": "IPY_MODEL_8c5bafdbf3534b669a3739924a7902a2",
       "style": "IPY_MODEL_cdc851edb3d844228fb0438042cfb59c",
       "value": "<style>\n.cell-output-ipywidget-background {\n    background-color: transparent !important;\n}\n.jp-OutputArea-output {\n    background-color: transparent;\n}\npre {\n    color: var(--vscode-editor-foreground);\n    margin: 0;\n}\nvideo::-webkit-media-controls {\n  display: none;\n}\n</style>"
      }
     },
     "cdc851edb3d844228fb0438042cfb59c": {
      "model_module": "@jupyter-widgets/controls",
      "model_module_version": "2.0.0",
      "model_name": "HTMLStyleModel",
      "state": {
       "description_width": "",
       "font_size": null,
       "text_color": null
      }
     },
     "d3e1771d1c454c4ba5d257d30cbdfa4f": {
      "model_module": "@jupyter-widgets/controls",
      "model_module_version": "2.0.0",
      "model_name": "HBoxModel",
      "state": {
       "children": [
        "IPY_MODEL_1f8d517b3dab4dc997c1c9e0a768ab52",
        "IPY_MODEL_cd645855a3d34969909c9283e74c9ccb"
       ],
       "layout": "IPY_MODEL_c21619198e80495a95c50e5c0e3a6d74"
      }
     },
     "e37b8a3953a840e589f650908932bf05": {
      "model_module": "@jupyter-widgets/base",
      "model_module_version": "2.0.0",
      "model_name": "LayoutModel",
      "state": {}
     },
     "fd6ab9db3b704281819af97cc8a8e488": {
      "model_module": "@jupyter-widgets/controls",
      "model_module_version": "2.0.0",
      "model_name": "HTMLStyleModel",
      "state": {
       "description_width": "",
       "font_size": null,
       "text_color": null
      }
     }
    },
    "version_major": 2,
    "version_minor": 0
   }
  }
 },
 "nbformat": 4,
 "nbformat_minor": 5
}
