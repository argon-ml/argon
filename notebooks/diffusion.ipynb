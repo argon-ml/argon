{
 "cells": [
  {
   "cell_type": "code",
   "execution_count": 1,
   "metadata": {},
   "outputs": [],
   "source": [
    "%load_ext autoreload\n",
    "%autoreload 2\n",
    "%aimport -jax\n",
    "%aimport -jaxlib"
   ]
  },
  {
   "cell_type": "code",
   "execution_count": 4,
   "metadata": {},
   "outputs": [],
   "source": [
    "import jax\n",
    "import jax.numpy as jnp\n",
    "from jax.random import PRNGKey\n",
    "\n",
    "from stanza.train import Trainer\n",
    "from stanza.data import PyTreeData, Data"
   ]
  },
  {
   "cell_type": "code",
   "execution_count": 6,
   "metadata": {},
   "outputs": [
    {
     "data": {
      "image/png": "[encoded data removed]",
      "text/plain": [
       "<Figure size 640x480 with 1 Axes>"
      ]
     },
     "metadata": {},
     "output_type": "display_data"
    }
   ],
   "source": [
    "# create a dataset consisting of 4 deltas\n",
    "data = Data.from_pytree(\n",
    "    jnp.array([-2, -1, -1, 1, 1, 2])\n",
    ")\n",
    "\n",
    "def plot(samples):\n",
    "    import matplotlib.pyplot as plt\n",
    "    plt.hist(samples, bins=100)\n",
    "    plt.show()\n",
    "plot(data.data)"
   ]
  },
  {
   "cell_type": "code",
   "execution_count": 8,
   "metadata": {},
   "outputs": [],
   "source": [
    "from typing import Sequence\n",
    "from stanza.nets.util import SinusoidalPosEmbed\n",
    "import flax.linen as nn\n",
    "\n",
    "class MLP(nn.Module):\n",
    "  features: Sequence[int]\n",
    "  @nn.compact\n",
    "  def __call__(self, x):\n",
    "    for feat in self.features[:-1]:\n",
    "      x = nn.relu(nn.Dense(feat)(x))\n",
    "    x = nn.Dense(self.features[-1])(x)\n",
    "    return x\n",
    "\n",
    "class DiffuseMLP(nn.Module):\n",
    "    features: Sequence[int]\n",
    "    @nn.compact\n",
    "    def __call__(self, noised_sample, timestep):\n",
    "        sample_flat, sample_uf = jax.flatten_util.ravel_pytree(noised_sample)\n",
    "        time_embed = SinusoidalPosEmbed(128)(timestep)\n",
    "        x = jnp.concatenate((sample_flat, time_embed), axis=-1)\n",
    "        x = MLP(self.features + [sample_flat.shape[-1]])(x)\n",
    "        x = sample_uf(x)\n",
    "        return x\n",
    "\n",
    "model = DiffuseMLP([128, 256, 128])"
   ]
  },
  {
   "cell_type": "code",
   "execution_count": 9,
   "metadata": {},
   "outputs": [],
   "source": [
    "from stanza.diffusion.ddpm import DDPMSchedule\n",
    "from stanza.util import l2_norm_squared\n",
    "from stanza.train import batch_loss as to_batch_loss\n",
    "\n",
    "schedule = DDPMSchedule.make_squaredcos_cap_v2(100)\n",
    "\n",
    "def loss(_, params, rng, sample):\n",
    "    # generate noise\n",
    "    t_rng, n_rng = jax.random.split(rng)\n",
    "    timestep = jax.random.randint(t_rng, (), 0, schedule.num_steps)\n",
    "    noised_sample, noise = schedule.add_noise(n_rng, sample, timestep)\n",
    "    noise_pred = model.apply(params, noised_sample, timestep)\n",
    "    return l2_norm_squared(noise, noise_pred)\n",
    "\n",
    "batch_loss = to_batch_loss(loss)"
   ]
  },
  {
   "cell_type": "code",
   "execution_count": 13,
   "metadata": {},
   "outputs": [
    {
     "data": {
      "text/html": [
       "Finishing last run (ID:0pslq2d0) before initializing another..."
      ],
      "text/plain": [
       "<IPython.core.display.HTML object>"
      ]
     },
     "metadata": {},
     "output_type": "display_data"
    },
    {
     "data": {
      "text/html": [
       "Waiting for W&B process to finish... <strong style=\"color:green\">(success).</strong>"
      ],
      "text/plain": [
       "<IPython.core.display.HTML object>"
      ]
     },
     "metadata": {},
     "output_type": "display_data"
    },
    {
     "data": {
      "application/vnd.jupyter.widget-view+json": {
       "model_id": "9c0962c963ee41339d432264a5427e71",
       "version_major": 2,
       "version_minor": 0
      },
      "text/plain": [
       "VBox(children=(Label(value='0.001 MB of 0.001 MB uploaded (0.000 MB deduped)\\r'), FloatProgress(value=1.0, max…"
      ]
     },
     "metadata": {},
     "output_type": "display_data"
    },
    {
     "data": {
      "text/html": [
       " View run <strong style=\"color:#cdcd00\">gallant-resolve-1</strong> at: <a href='https://wandb.ai/dpfrommer-projects/ddpm_example/runs/0pslq2d0' target=\"_blank\">https://wandb.ai/dpfrommer-projects/ddpm_example/runs/0pslq2d0</a><br/>Synced 4 W&B file(s), 0 media file(s), 0 artifact file(s) and 0 other file(s)"
      ],
      "text/plain": [
       "<IPython.core.display.HTML object>"
      ]
     },
     "metadata": {},
     "output_type": "display_data"
    },
    {
     "data": {
      "text/html": [
       "Find logs at: <code>./wandb/run-20230806_140120-0pslq2d0/logs</code>"
      ],
      "text/plain": [
       "<IPython.core.display.HTML object>"
      ]
     },
     "metadata": {},
     "output_type": "display_data"
    },
    {
     "data": {
      "text/html": [
       "Successfully finished last run (ID:0pslq2d0). Initializing new run:<br/>"
      ],
      "text/plain": [
       "<IPython.core.display.HTML object>"
      ]
     },
     "metadata": {},
     "output_type": "display_data"
    },
    {
     "data": {
      "application/vnd.jupyter.widget-view+json": {
       "model_id": "d595f38df6fa4059984074ffad339ddf",
       "version_major": 2,
       "version_minor": 0
      },
      "text/plain": [
       "VBox(children=(Label(value='Waiting for wandb.init()...\\r'), FloatProgress(value=0.01675113819849988, max=1.0)…"
      ]
     },
     "metadata": {},
     "output_type": "display_data"
    },
    {
     "data": {
      "text/html": [
       "wandb version 0.15.8 is available!  To upgrade, please run:\n",
       " $ pip install wandb --upgrade"
      ],
      "text/plain": [
       "<IPython.core.display.HTML object>"
      ]
     },
     "metadata": {},
     "output_type": "display_data"
    },
    {
     "data": {
      "text/html": [
       "Tracking run with wandb version 0.13.11"
      ],
      "text/plain": [
       "<IPython.core.display.HTML object>"
      ]
     },
     "metadata": {},
     "output_type": "display_data"
    },
    {
     "data": {
      "text/html": [
       "Run data is saved locally in <code>/Users/daniel/Documents/code/stable_imitation/stanza/notebooks/wandb/run-20230806_140143-vbk1wr5x</code>"
      ],
      "text/plain": [
       "<IPython.core.display.HTML object>"
      ]
     },
     "metadata": {},
     "output_type": "display_data"
    },
    {
     "data": {
      "text/html": [
       "Syncing run <strong><a href='https://wandb.ai/dpfrommer-projects/ddpm_example/runs/vbk1wr5x' target=\"_blank\">hopeful-shark-1</a></strong> to <a href='https://wandb.ai/dpfrommer-projects/ddpm_example' target=\"_blank\">Weights & Biases</a> (<a href='https://wandb.me/run' target=\"_blank\">docs</a>)<br/>"
      ],
      "text/plain": [
       "<IPython.core.display.HTML object>"
      ]
     },
     "metadata": {},
     "output_type": "display_data"
    },
    {
     "data": {
      "text/html": [
       " View project at <a href='https://wandb.ai/dpfrommer-projects/ddpm_example' target=\"_blank\">https://wandb.ai/dpfrommer-projects/ddpm_example</a>"
      ],
      "text/plain": [
       "<IPython.core.display.HTML object>"
      ]
     },
     "metadata": {},
     "output_type": "display_data"
    },
    {
     "data": {
      "text/html": [
       " View run at <a href='https://wandb.ai/dpfrommer-projects/ddpm_example/runs/vbk1wr5x' target=\"_blank\">https://wandb.ai/dpfrommer-projects/ddpm_example/runs/vbk1wr5x</a>"
      ],
      "text/plain": [
       "<IPython.core.display.HTML object>"
      ]
     },
     "metadata": {},
     "output_type": "display_data"
    }
   ],
   "source": [
    "from stanza.reporting.wandb import WandbDatabase\n",
    "db = WandbDatabase(\"dpfrommer-projects/ddpm_example\").create()"
   ]
  },
  {
   "cell_type": "code",
   "execution_count": 15,
   "metadata": {},
   "outputs": [
    {
     "ename": "TypeError",
     "evalue": "'int' object is not subscriptable",
     "output_type": "error",
     "traceback": [
      "\u001b[0;31m---------------------------------------------------------------------------\u001b[0m",
      "\u001b[0;31mTypeError\u001b[0m                                 Traceback (most recent call last)",
      "Cell \u001b[0;32mIn[15], line 11\u001b[0m\n\u001b[1;32m      8\u001b[0m display\u001b[39m.\u001b[39madd(\u001b[39m\"\u001b[39m\u001b[39mtrain\u001b[39m\u001b[39m\"\u001b[39m, LoopProgress(), interval\u001b[39m=\u001b[39m\u001b[39m100\u001b[39m)\n\u001b[1;32m     10\u001b[0m opt \u001b[39m=\u001b[39m optax\u001b[39m.\u001b[39madam(\u001b[39m1e-3\u001b[39m)\n\u001b[0;32m---> 11\u001b[0m init_params \u001b[39m=\u001b[39m model\u001b[39m.\u001b[39;49minit(PRNGKey(\u001b[39m42\u001b[39;49m), data[\u001b[39m0\u001b[39;49m], \u001b[39m0\u001b[39;49m)\n\u001b[1;32m     13\u001b[0m \u001b[39mwith\u001b[39;00m display \u001b[39mas\u001b[39;00m w, db \u001b[39mas\u001b[39;00m db:\n\u001b[1;32m     14\u001b[0m     trainer \u001b[39m=\u001b[39m Trainer(epochs\u001b[39m=\u001b[39m\u001b[39m100\u001b[39m, batch_size\u001b[39m=\u001b[39m\u001b[39m32\u001b[39m, optimizer\u001b[39m=\u001b[39mopt)\n",
      "    \u001b[0;31m[... skipping hidden 9 frame]\u001b[0m\n",
      "Cell \u001b[0;32mIn[8], line 19\u001b[0m, in \u001b[0;36mDiffuseMLP.__call__\u001b[0;34m(self, noised_sample, timestep)\u001b[0m\n\u001b[1;32m     16\u001b[0m \u001b[39m@nn\u001b[39m\u001b[39m.\u001b[39mcompact\n\u001b[1;32m     17\u001b[0m \u001b[39mdef\u001b[39;00m \u001b[39m__call__\u001b[39m(\u001b[39mself\u001b[39m, noised_sample, timestep):\n\u001b[1;32m     18\u001b[0m     sample_flat, sample_uf \u001b[39m=\u001b[39m jax\u001b[39m.\u001b[39mflatten_util\u001b[39m.\u001b[39mravel_pytree(noised_sample)\n\u001b[0;32m---> 19\u001b[0m     time_embed \u001b[39m=\u001b[39m SinusoidalPosEmbed(\u001b[39m128\u001b[39;49m)(timestep)\n\u001b[1;32m     20\u001b[0m     x \u001b[39m=\u001b[39m jnp\u001b[39m.\u001b[39mconcatenate((sample_flat, time_embed), axis\u001b[39m=\u001b[39m\u001b[39m-\u001b[39m\u001b[39m1\u001b[39m)\n\u001b[1;32m     21\u001b[0m     x \u001b[39m=\u001b[39m MLP(\u001b[39mself\u001b[39m\u001b[39m.\u001b[39mfeatures \u001b[39m+\u001b[39m [sample_flat\u001b[39m.\u001b[39mshape[\u001b[39m-\u001b[39m\u001b[39m1\u001b[39m]])(x)\n",
      "    \u001b[0;31m[... skipping hidden 2 frame]\u001b[0m\n",
      "File \u001b[0;32m~/Documents/code/stable_imitation/stanza/stanza/nets/util.py:13\u001b[0m, in \u001b[0;36mSinusoidalPosEmbed.__call__\u001b[0;34m(self, x)\u001b[0m\n\u001b[1;32m     11\u001b[0m emb \u001b[39m=\u001b[39m jnp\u001b[39m.\u001b[39mlog(\u001b[39m10000\u001b[39m) \u001b[39m/\u001b[39m (half_dim \u001b[39m-\u001b[39m \u001b[39m1\u001b[39m)\n\u001b[1;32m     12\u001b[0m emb \u001b[39m=\u001b[39m jnp\u001b[39m.\u001b[39mexp(jnp\u001b[39m.\u001b[39marange(half_dim) \u001b[39m*\u001b[39m \u001b[39m-\u001b[39memb)\n\u001b[0;32m---> 13\u001b[0m emb \u001b[39m=\u001b[39m x[jnp\u001b[39m.\u001b[39;49mnewaxis,\u001b[39m.\u001b[39;49m\u001b[39m.\u001b[39;49m\u001b[39m.\u001b[39;49m] \u001b[39m*\u001b[39m emb[\u001b[39m.\u001b[39m\u001b[39m.\u001b[39m\u001b[39m.\u001b[39m,jnp\u001b[39m.\u001b[39mnewaxis]\n\u001b[1;32m     14\u001b[0m emb \u001b[39m=\u001b[39m jnp\u001b[39m.\u001b[39mconcatenate((jnp\u001b[39m.\u001b[39msin(emb), jnp\u001b[39m.\u001b[39mcos(emb)), axis\u001b[39m=\u001b[39m\u001b[39m0\u001b[39m)\n\u001b[1;32m     15\u001b[0m \u001b[39mreturn\u001b[39;00m emb\u001b[39m.\u001b[39mreshape((\u001b[39m-\u001b[39m\u001b[39m1\u001b[39m))\n",
      "\u001b[0;31mTypeError\u001b[0m: 'int' object is not subscriptable"
     ]
    }
   ],
   "source": [
    "from stanza.reporting.jax import JaxDBScope\n",
    "from stanza.util.rich import ConsoleDisplay, StatisticsTable, LoopProgress\n",
    "import optax\n",
    "\n",
    "db = JaxDBScope(db)\n",
    "display = ConsoleDisplay()\n",
    "display.add(\"train\", StatisticsTable(), interval=100)\n",
    "display.add(\"train\", LoopProgress(), interval=100)\n",
    "\n",
    "opt = optax.adam(1e-3)\n",
    "init_params = model.init(PRNGKey(42), data[0], 0)\n",
    "\n",
    "with display as w, db as db:\n",
    "    trainer = Trainer(epochs=100, batch_size=32, optimizer=opt)\n",
    "    logger_hook = db.statistic_logging_hook()\n",
    "    res = trainer.train(\n",
    "        batch_loss, data,\n",
    "        PRNGKey(42), init_params,\n",
    "        hooks=[w.train, logger_hook], jit=True\n",
    "    )"
   ]
  },
  {
   "cell_type": "code",
   "execution_count": null,
   "metadata": {},
   "outputs": [],
   "source": []
  }
 ],
 "metadata": {
  "kernelspec": {
   "display_name": ".venv",
   "language": "python",
   "name": "python3"
  },
  "language_info": {
   "codemirror_mode": {
    "name": "ipython",
    "version": 3
   },
   "file_extension": ".py",
   "mimetype": "text/x-python",
   "name": "python",
   "nbconvert_exporter": "python",
   "pygments_lexer": "ipython3",
   "version": "3.11.4"
  },
  "orig_nbformat": 4
 },
 "nbformat": 4,
 "nbformat_minor": 2
}
