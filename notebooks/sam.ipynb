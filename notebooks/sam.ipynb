{
 "cells": [
  {
   "cell_type": "code",
   "execution_count": null,
   "id": "46cc0160",
   "metadata": {},
   "outputs": [],
   "source": [
    "%load_ext autoreload\n",
    "%autoreload 2\n",
    "%aimport -jax\n",
    "%aimport -jaxlib\n",
    "import sys\n",
    "import os\n",
    "sys.path.append(os.path.abspath(os.path.join(os.getcwd(),\"..\",\"projects\")))\n",
    "print(sys.path)"
   ]
  },
  {
   "cell_type": "code",
   "execution_count": null,
   "id": "04965815",
   "metadata": {},
   "outputs": [],
   "source": [
    "import jax\n",
    "import jax.numpy as jnp\n",
    "from stanza.data import Data, PyTreeData\n",
    "from stanza.util import shape_tree\n",
    "\n",
    "# dummy data\n",
    "train_data = Data.from_pytree((jnp.ones((100,32,32,3)), jnp.ones((100, 10))))\n",
    "test_data = Data.from_pytree((jnp.ones((100,32,32,3)), jnp.ones((100, 10))))\n",
    "# cifar data\n",
    "from stanza.data.cifar import cifar10\n",
    "train_data, test_data = cifar10()\n",
    "def map_fn(sample):\n",
    "    x, y = sample\n",
    "    x = x.astype(float) / 255\n",
    "    y = jax.nn.one_hot(y, 10)\n",
    "    return x, y\n",
    "train_data = PyTreeData.from_data(train_data.map(map_fn))\n",
    "test_data = PyTreeData.from_data(test_data.map(map_fn))\n",
    "\n",
    "from stanza.util.ipython import display_image\n",
    "display_image(train_data[0][0])"
   ]
  },
  {
   "cell_type": "code",
   "execution_count": null,
   "id": "b8f9c80d",
   "metadata": {},
   "outputs": [],
   "source": [
    "import haiku as hk\n",
    "from jax.random import PRNGKey\n",
    "import jax\n",
    "import optax\n",
    "from stanza import Partial\n",
    "from stanza.train.rich import RichReporter\n",
    "from stanza.train import Trainer, SAMTrainer\n",
    "\n",
    "def run(use_sam=False):\n",
    "    def net(x):\n",
    "        flat, _ = jax.flatten_util.ravel_pytree(x)\n",
    "        mlp = hk.nets.MLP([128,10])\n",
    "        y = mlp(flat).squeeze()\n",
    "        y = jax.nn.softmax(y)\n",
    "        return y\n",
    "    net = hk.transform(net)\n",
    "    params = net.init(PRNGKey(42), train_data[0][0])\n",
    "    @jax.jit\n",
    "    def loss_fn(params, _state, _rng_key, batch):\n",
    "        x, y = batch\n",
    "        y_pred = net.apply(params, None, x)\n",
    "        loss = jnp.sum(jnp.square(y_pred - y)) \n",
    "        return _state, loss, {\"loss\": loss}\n",
    "    \n",
    "    with RichReporter() as r:\n",
    "        trainer = SAMTrainer(batch_size=128) if use_sam else Trainer(batch_size=128)\n",
    "        r = trainer.train(Partial(loss_fn), \n",
    "            train_data, PRNGKey(42), params, \n",
    "            epochs=10, hooks=[r])\n",
    "run(use_sam=False)"
   ]
  },
  {
   "cell_type": "code",
   "execution_count": null,
   "id": "97de6b1d",
   "metadata": {},
   "outputs": [],
   "source": []
  },
  {
   "cell_type": "code",
   "execution_count": null,
   "id": "abe63511",
   "metadata": {},
   "outputs": [],
   "source": []
  }
 ],
 "metadata": {
  "kernelspec": {
   "display_name": "Python 3 (ipykernel)",
   "language": "python",
   "name": "python3"
  },
  "language_info": {
   "codemirror_mode": {
    "name": "ipython",
    "version": 3
   },
   "file_extension": ".py",
   "mimetype": "text/x-python",
   "name": "python",
   "nbconvert_exporter": "python",
   "pygments_lexer": "ipython3",
   "version": "3.11.3"
  }
 },
 "nbformat": 4,
 "nbformat_minor": 5
}
