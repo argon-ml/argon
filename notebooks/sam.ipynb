{
 "cells": [
  {
   "cell_type": "code",
   "execution_count": 2,
   "id": "46cc0160",
   "metadata": {},
   "outputs": [
    {
     "name": "stdout",
     "output_type": "stream",
     "text": [
      "The autoreload extension is already loaded. To reload it, use:\n",
      "  %reload_ext autoreload\n",
      "['/Users/daniel/Documents/code/stable_imitation/stanza/notebooks', '/opt/homebrew/Cellar/python@3.11/3.11.3/Frameworks/Python.framework/Versions/3.11/lib/python311.zip', '/opt/homebrew/Cellar/python@3.11/3.11.3/Frameworks/Python.framework/Versions/3.11/lib/python3.11', '/opt/homebrew/Cellar/python@3.11/3.11.3/Frameworks/Python.framework/Versions/3.11/lib/python3.11/lib-dynload', '', '/Users/daniel/Documents/code/stable_imitation/stanza/.venv/lib/python3.11/site-packages', '/Users/daniel/Documents/code/stable_imitation/stanza', '/Users/daniel/Documents/code/stable_imitation/stanza/projects', '/Users/daniel/Documents/code/stable_imitation/stanza/projects']\n"
     ]
    }
   ],
   "source": [
    "%load_ext autoreload\n",
    "%autoreload 2\n",
    "%aimport -jax\n",
    "%aimport -jaxlib\n",
    "import sys\n",
    "import os\n",
    "sys.path.append(os.path.abspath(os.path.join(os.getcwd(),\"..\",\"projects\")))\n",
    "print(sys.path)"
   ]
  },
  {
   "cell_type": "code",
   "execution_count": 3,
   "id": "04965815",
   "metadata": {},
   "outputs": [],
   "source": [
    "import jax\n",
    "import jax.numpy as jnp\n",
    "from stanza.data import Data, PyTreeData\n",
    "from stanza.util import shape_tree\n",
    "\n",
    "# dummy data\n",
    "train_data = Data.from_pytree((jnp.ones((100,32,32,3)), jnp.ones((100, 10))))\n",
    "test_data = Data.from_pytree((jnp.ones((100,32,32,3)), jnp.ones((100, 10))))\n",
    "# cifar data\n",
    "from stanza.data.cifar import cifar10\n",
    "train_data, test_data = cifar10()\n",
    "def map_fn(sample):\n",
    "    x, y = sample\n",
    "    x = x.astype(float) / 255\n",
    "    y = jax.nn.one_hot(y, 10)\n",
    "    return x, y\n",
    "train_data = PyTreeData.from_data(train_data.map(map_fn))\n",
    "test_data = PyTreeData.from_data(test_data.map(map_fn))"
   ]
  },
  {
   "cell_type": "code",
   "execution_count": 16,
   "id": "b8f9c80d",
   "metadata": {},
   "outputs": [
    {
     "data": {
      "application/vnd.jupyter.widget-view+json": {
       "model_id": "0dc085509ca94a918edc6e9fda824dae",
       "version_major": 2,
       "version_minor": 0
      },
      "text/plain": [
       "Output()"
      ]
     },
     "metadata": {},
     "output_type": "display_data"
    },
    {
     "data": {
      "text/html": [
       "<pre style=\"white-space:pre;overflow-x:auto;line-height:normal;font-family:Menlo,'DejaVu Sans Mono',consolas,'Courier New',monospace\"><span style=\"color: #7fbfbf; text-decoration-color: #7fbfbf\">[09:58:10] </span><span style=\"color: #008000; text-decoration-color: #008000\">TRACE </span> - <span style=\"color: #808000; text-decoration-color: #808000; font-weight: bold\">&lt;Tracing&gt;</span> Tracing training                                                      <a href=\"file:///Users/daniel/Documents/code/stable_imitation/stanza/stanza/train/__init__.py\" target=\"_blank\"><span style=\"color: #7f7f7f; text-decoration-color: #7f7f7f\">__init__.py</span></a><span style=\"color: #7f7f7f; text-decoration-color: #7f7f7f\">:</span><a href=\"file:///Users/daniel/Documents/code/stable_imitation/stanza/stanza/train/__init__.py#180\" target=\"_blank\"><span style=\"color: #7f7f7f; text-decoration-color: #7f7f7f\">180</span></a>\n",
       "</pre>\n"
      ],
      "text/plain": [
       "\u001b[2;36m[09:58:10]\u001b[0m\u001b[2;36m \u001b[0m\u001b[32mTRACE \u001b[0m - \u001b[1;33m<\u001b[0m\u001b[1;33mTracing\u001b[0m\u001b[1;33m>\u001b[0m Tracing training                                                      \u001b]8;id=407824;file:///Users/daniel/Documents/code/stable_imitation/stanza/stanza/train/__init__.py\u001b\\\u001b[2m__init__.py\u001b[0m\u001b]8;;\u001b\\\u001b[2m:\u001b[0m\u001b]8;id=325552;file:///Users/daniel/Documents/code/stable_imitation/stanza/stanza/train/__init__.py#180\u001b\\\u001b[2m180\u001b[0m\u001b]8;;\u001b\\\n"
      ]
     },
     "metadata": {},
     "output_type": "display_data"
    },
    {
     "data": {
      "text/html": [
       "<pre style=\"white-space:pre;overflow-x:auto;line-height:normal;font-family:Menlo,'DejaVu Sans Mono',consolas,'Courier New',monospace\"><span style=\"color: #7fbfbf; text-decoration-color: #7fbfbf\">           </span><span style=\"color: #008000; text-decoration-color: #008000\">TRACE </span> - <span style=\"color: #808000; text-decoration-color: #808000; font-weight: bold\">&lt;Tracing&gt;</span> Tracing epoch step                                                    <a href=\"file:///Users/daniel/Documents/code/stable_imitation/stanza/stanza/train/__init__.py\" target=\"_blank\"><span style=\"color: #7f7f7f; text-decoration-color: #7f7f7f\">__init__.py</span></a><span style=\"color: #7f7f7f; text-decoration-color: #7f7f7f\">:</span><a href=\"file:///Users/daniel/Documents/code/stable_imitation/stanza/stanza/train/__init__.py#144\" target=\"_blank\"><span style=\"color: #7f7f7f; text-decoration-color: #7f7f7f\">144</span></a>\n",
       "</pre>\n"
      ],
      "text/plain": [
       "\u001b[2;36m          \u001b[0m\u001b[2;36m \u001b[0m\u001b[32mTRACE \u001b[0m - \u001b[1;33m<\u001b[0m\u001b[1;33mTracing\u001b[0m\u001b[1;33m>\u001b[0m Tracing epoch step                                                    \u001b]8;id=388992;file:///Users/daniel/Documents/code/stable_imitation/stanza/stanza/train/__init__.py\u001b\\\u001b[2m__init__.py\u001b[0m\u001b]8;;\u001b\\\u001b[2m:\u001b[0m\u001b]8;id=724443;file:///Users/daniel/Documents/code/stable_imitation/stanza/stanza/train/__init__.py#144\u001b\\\u001b[2m144\u001b[0m\u001b]8;;\u001b\\\n"
      ]
     },
     "metadata": {},
     "output_type": "display_data"
    },
    {
     "data": {
      "text/html": [
       "<pre style=\"white-space:pre;overflow-x:auto;line-height:normal;font-family:Menlo,'DejaVu Sans Mono',consolas,'Courier New',monospace\"><span style=\"color: #7fbfbf; text-decoration-color: #7fbfbf\">           </span><span style=\"color: #008000; text-decoration-color: #008000\">TRACE </span> - <span style=\"color: #808000; text-decoration-color: #808000; font-weight: bold\">&lt;Tracing&gt;</span> Tracing train step                                                    <a href=\"file:///Users/daniel/Documents/code/stable_imitation/stanza/stanza/train/__init__.py\" target=\"_blank\"><span style=\"color: #7f7f7f; text-decoration-color: #7f7f7f\">__init__.py</span></a><span style=\"color: #7f7f7f; text-decoration-color: #7f7f7f\">:</span><a href=\"file:///Users/daniel/Documents/code/stable_imitation/stanza/stanza/train/__init__.py#104\" target=\"_blank\"><span style=\"color: #7f7f7f; text-decoration-color: #7f7f7f\">104</span></a>\n",
       "</pre>\n"
      ],
      "text/plain": [
       "\u001b[2;36m          \u001b[0m\u001b[2;36m \u001b[0m\u001b[32mTRACE \u001b[0m - \u001b[1;33m<\u001b[0m\u001b[1;33mTracing\u001b[0m\u001b[1;33m>\u001b[0m Tracing train step                                                    \u001b]8;id=682667;file:///Users/daniel/Documents/code/stable_imitation/stanza/stanza/train/__init__.py\u001b\\\u001b[2m__init__.py\u001b[0m\u001b]8;;\u001b\\\u001b[2m:\u001b[0m\u001b]8;id=170994;file:///Users/daniel/Documents/code/stable_imitation/stanza/stanza/train/__init__.py#104\u001b\\\u001b[2m104\u001b[0m\u001b]8;;\u001b\\\n"
      ]
     },
     "metadata": {},
     "output_type": "display_data"
    },
    {
     "data": {
      "text/html": [
       "<pre style=\"white-space:pre;overflow-x:auto;line-height:normal;font-family:Menlo,'DejaVu Sans Mono',consolas,'Courier New',monospace\"><span style=\"color: #7fbfbf; text-decoration-color: #7fbfbf\">           </span><span style=\"color: #008000; text-decoration-color: #008000\">TRACE </span> - <span style=\"color: #808000; text-decoration-color: #808000; font-weight: bold\">&lt;Tracing&gt;</span> Tracing batch loss                                                     <a href=\"file:///Users/daniel/Documents/code/stable_imitation/stanza/stanza/train/__init__.py\" target=\"_blank\"><span style=\"color: #7f7f7f; text-decoration-color: #7f7f7f\">__init__.py</span></a><span style=\"color: #7f7f7f; text-decoration-color: #7f7f7f\">:</span><a href=\"file:///Users/daniel/Documents/code/stable_imitation/stanza/stanza/train/__init__.py#56\" target=\"_blank\"><span style=\"color: #7f7f7f; text-decoration-color: #7f7f7f\">56</span></a>\n",
       "</pre>\n"
      ],
      "text/plain": [
       "\u001b[2;36m          \u001b[0m\u001b[2;36m \u001b[0m\u001b[32mTRACE \u001b[0m - \u001b[1;33m<\u001b[0m\u001b[1;33mTracing\u001b[0m\u001b[1;33m>\u001b[0m Tracing batch loss                                                     \u001b]8;id=475825;file:///Users/daniel/Documents/code/stable_imitation/stanza/stanza/train/__init__.py\u001b\\\u001b[2m__init__.py\u001b[0m\u001b]8;;\u001b\\\u001b[2m:\u001b[0m\u001b]8;id=796380;file:///Users/daniel/Documents/code/stable_imitation/stanza/stanza/train/__init__.py#56\u001b\\\u001b[2m56\u001b[0m\u001b]8;;\u001b\\\n"
      ]
     },
     "metadata": {},
     "output_type": "display_data"
    },
    {
     "data": {
      "text/html": [
       "<pre style=\"white-space:pre;overflow-x:auto;line-height:normal;font-family:Menlo,'DejaVu Sans Mono',consolas,'Courier New',monospace\"><span style=\"color: #7fbfbf; text-decoration-color: #7fbfbf\">           </span><span style=\"color: #008000; text-decoration-color: #008000\">TRACE </span> - <span style=\"color: #808000; text-decoration-color: #808000; font-weight: bold\">&lt;Tracing&gt;</span> Tracing epoch step                                                    <a href=\"file:///Users/daniel/Documents/code/stable_imitation/stanza/stanza/train/__init__.py\" target=\"_blank\"><span style=\"color: #7f7f7f; text-decoration-color: #7f7f7f\">__init__.py</span></a><span style=\"color: #7f7f7f; text-decoration-color: #7f7f7f\">:</span><a href=\"file:///Users/daniel/Documents/code/stable_imitation/stanza/stanza/train/__init__.py#144\" target=\"_blank\"><span style=\"color: #7f7f7f; text-decoration-color: #7f7f7f\">144</span></a>\n",
       "</pre>\n"
      ],
      "text/plain": [
       "\u001b[2;36m          \u001b[0m\u001b[2;36m \u001b[0m\u001b[32mTRACE \u001b[0m - \u001b[1;33m<\u001b[0m\u001b[1;33mTracing\u001b[0m\u001b[1;33m>\u001b[0m Tracing epoch step                                                    \u001b]8;id=541204;file:///Users/daniel/Documents/code/stable_imitation/stanza/stanza/train/__init__.py\u001b\\\u001b[2m__init__.py\u001b[0m\u001b]8;;\u001b\\\u001b[2m:\u001b[0m\u001b]8;id=536302;file:///Users/daniel/Documents/code/stable_imitation/stanza/stanza/train/__init__.py#144\u001b\\\u001b[2m144\u001b[0m\u001b]8;;\u001b\\\n"
      ]
     },
     "metadata": {},
     "output_type": "display_data"
    },
    {
     "data": {
      "text/html": [
       "<pre style=\"white-space:pre;overflow-x:auto;line-height:normal;font-family:Menlo,'DejaVu Sans Mono',consolas,'Courier New',monospace\"><span style=\"color: #7fbfbf; text-decoration-color: #7fbfbf\">           </span><span style=\"color: #008000; text-decoration-color: #008000\">TRACE </span> - <span style=\"color: #808000; text-decoration-color: #808000; font-weight: bold\">&lt;Tracing&gt;</span> Done tracing training                                                 <a href=\"file:///Users/daniel/Documents/code/stable_imitation/stanza/stanza/train/__init__.py\" target=\"_blank\"><span style=\"color: #7f7f7f; text-decoration-color: #7f7f7f\">__init__.py</span></a><span style=\"color: #7f7f7f; text-decoration-color: #7f7f7f\">:</span><a href=\"file:///Users/daniel/Documents/code/stable_imitation/stanza/stanza/train/__init__.py#202\" target=\"_blank\"><span style=\"color: #7f7f7f; text-decoration-color: #7f7f7f\">202</span></a>\n",
       "</pre>\n"
      ],
      "text/plain": [
       "\u001b[2;36m          \u001b[0m\u001b[2;36m \u001b[0m\u001b[32mTRACE \u001b[0m - \u001b[1;33m<\u001b[0m\u001b[1;33mTracing\u001b[0m\u001b[1;33m>\u001b[0m Done tracing training                                                 \u001b]8;id=498480;file:///Users/daniel/Documents/code/stable_imitation/stanza/stanza/train/__init__.py\u001b\\\u001b[2m__init__.py\u001b[0m\u001b]8;;\u001b\\\u001b[2m:\u001b[0m\u001b]8;id=896782;file:///Users/daniel/Documents/code/stable_imitation/stanza/stanza/train/__init__.py#202\u001b\\\u001b[2m202\u001b[0m\u001b]8;;\u001b\\\n"
      ]
     },
     "metadata": {},
     "output_type": "display_data"
    },
    {
     "data": {
      "text/html": [
       "<pre style=\"white-space:pre;overflow-x:auto;line-height:normal;font-family:Menlo,'DejaVu Sans Mono',consolas,'Courier New',monospace\"><span style=\"color: #7fbfbf; text-decoration-color: #7fbfbf\">[09:58:12] </span><span style=\"color: #008000; text-decoration-color: #008000\">TRACE </span> - Starting training                                                               <a href=\"file:///Users/daniel/Documents/code/stable_imitation/stanza/stanza/train/__init__.py\" target=\"_blank\"><span style=\"color: #7f7f7f; text-decoration-color: #7f7f7f\">__init__.py</span></a><span style=\"color: #7f7f7f; text-decoration-color: #7f7f7f\">:</span><a href=\"file:///Users/daniel/Documents/code/stable_imitation/stanza/stanza/train/__init__.py#181\" target=\"_blank\"><span style=\"color: #7f7f7f; text-decoration-color: #7f7f7f\">181</span></a>\n",
       "</pre>\n"
      ],
      "text/plain": [
       "\u001b[2;36m[09:58:12]\u001b[0m\u001b[2;36m \u001b[0m\u001b[32mTRACE \u001b[0m - Starting training                                                               \u001b]8;id=817923;file:///Users/daniel/Documents/code/stable_imitation/stanza/stanza/train/__init__.py\u001b\\\u001b[2m__init__.py\u001b[0m\u001b]8;;\u001b\\\u001b[2m:\u001b[0m\u001b]8;id=792886;file:///Users/daniel/Documents/code/stable_imitation/stanza/stanza/train/__init__.py#181\u001b\\\u001b[2m181\u001b[0m\u001b]8;;\u001b\\\n"
      ]
     },
     "metadata": {},
     "output_type": "display_data"
    },
    {
     "data": {
      "text/html": [
       "<pre style=\"white-space:pre;overflow-x:auto;line-height:normal;font-family:Menlo,'DejaVu Sans Mono',consolas,'Courier New',monospace\"></pre>\n"
      ],
      "text/plain": []
     },
     "metadata": {},
     "output_type": "display_data"
    }
   ],
   "source": [
    "import haiku as hk\n",
    "from jax.random import PRNGKey\n",
    "import jax\n",
    "import optax\n",
    "from stanza.train.rich import RichReporter\n",
    "from stanza.train import Trainer, SAMTrainer\n",
    "\n",
    "def run(use_sam=False):\n",
    "    def net(x):\n",
    "        flat, _ = jax.flatten_util.ravel_pytree(x)\n",
    "        mlp = hk.nets.MLP([128,10])\n",
    "        y = mlp(flat).squeeze()\n",
    "        y = jax.nn.softmax(y)\n",
    "        return y\n",
    "    net = hk.transform(net)\n",
    "    params = net.init(PRNGKey(42), train_data[0][0])\n",
    "    @jax.jit\n",
    "    def loss_fn(params, _rng_key, batch):\n",
    "        x, y = batch\n",
    "        y_pred = net.apply(params, None, x)\n",
    "        loss = jnp.sum(jnp.square(y_pred - y)) \n",
    "        return loss, {\"loss\": loss}\n",
    "    \n",
    "    with RichReporter() as r:\n",
    "        trainer = SAMTrainer(batch_size=128) if use_sam else Trainer(batch_size=128)\n",
    "        r = trainer.train(loss_fn, \n",
    "            train_data, PRNGKey(42), params, \n",
    "            epochs=10, hooks=[r])\n",
    "run(use_sam=False)"
   ]
  },
  {
   "cell_type": "code",
   "execution_count": 82,
   "id": "97de6b1d",
   "metadata": {},
   "outputs": [
    {
     "ename": "TypeError",
     "evalue": "SAMTrainer.train() missing 1 required positional argument: 'init_fn_params'",
     "output_type": "error",
     "traceback": [
      "\u001b[0;31m---------------------------------------------------------------------------\u001b[0m",
      "\u001b[0;31mTypeError\u001b[0m                                 Traceback (most recent call last)",
      "Cell \u001b[0;32mIn[82], line 1\u001b[0m\n\u001b[0;32m----> 1\u001b[0m run(use_sam\u001b[39m=\u001b[39;49m\u001b[39mTrue\u001b[39;49;00m)\n",
      "Cell \u001b[0;32mIn[81], line 30\u001b[0m, in \u001b[0;36mrun\u001b[0;34m(use_sam)\u001b[0m\n\u001b[1;32m     26\u001b[0m     \u001b[39mreturn\u001b[39;00m jnp\u001b[39m.\u001b[39msum(jnp\u001b[39m.\u001b[39msquare(y_pred \u001b[39m-\u001b[39m y)) \n\u001b[1;32m     28\u001b[0m trainer \u001b[39m=\u001b[39m SAMTrainer()\n\u001b[0;32m---> 30\u001b[0m trainer\u001b[39m.\u001b[39;49mtrain(loss_fn, \n\u001b[1;32m     31\u001b[0m     train_data, PRNGKey(\u001b[39m42\u001b[39;49m))\n",
      "\u001b[0;31mTypeError\u001b[0m: SAMTrainer.train() missing 1 required positional argument: 'init_fn_params'"
     ]
    }
   ],
   "source": []
  },
  {
   "cell_type": "code",
   "execution_count": null,
   "id": "abe63511",
   "metadata": {},
   "outputs": [],
   "source": []
  }
 ],
 "metadata": {
  "kernelspec": {
   "display_name": "Python 3 (ipykernel)",
   "language": "python",
   "name": "python3"
  },
  "language_info": {
   "codemirror_mode": {
    "name": "ipython",
    "version": 3
   },
   "file_extension": ".py",
   "mimetype": "text/x-python",
   "name": "python",
   "nbconvert_exporter": "python",
   "pygments_lexer": "ipython3",
   "version": "3.11.3"
  }
 },
 "nbformat": 4,
 "nbformat_minor": 5
}
