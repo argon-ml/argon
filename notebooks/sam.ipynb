{
 "cells": [
  {
   "cell_type": "code",
   "execution_count": 70,
   "id": "46cc0160",
   "metadata": {},
   "outputs": [
    {
     "name": "stdout",
     "output_type": "stream",
     "text": [
      "The autoreload extension is already loaded. To reload it, use:\n",
      "  %reload_ext autoreload\n",
      "['/Users/daniel/Documents/code/stable_imitation/stanza/notebooks', '/opt/homebrew/Cellar/python@3.11/3.11.3/Frameworks/Python.framework/Versions/3.11/lib/python311.zip', '/opt/homebrew/Cellar/python@3.11/3.11.3/Frameworks/Python.framework/Versions/3.11/lib/python3.11', '/opt/homebrew/Cellar/python@3.11/3.11.3/Frameworks/Python.framework/Versions/3.11/lib/python3.11/lib-dynload', '', '/Users/daniel/Documents/code/stable_imitation/stanza/.venv/lib/python3.11/site-packages', '/Users/daniel/Documents/code/stable_imitation/stanza', '/Users/daniel/Documents/code/stable_imitation/stanza/projects', '/Users/daniel/Documents/code/stable_imitation/stanza/projects', '/Users/daniel/Documents/code/stable_imitation/stanza/projects', '/Users/daniel/Documents/code/stable_imitation/stanza/projects']\n"
     ]
    }
   ],
   "source": [
    "%load_ext autoreload\n",
    "%autoreload 2\n",
    "%aimport -jax\n",
    "%aimport -jaxlib\n",
    "import sys\n",
    "import os\n",
    "sys.path.append(os.path.abspath(os.path.join(os.getcwd(),\"..\",\"projects\")))\n",
    "print(sys.path)"
   ]
  },
  {
   "cell_type": "code",
   "execution_count": 77,
   "id": "04965815",
   "metadata": {},
   "outputs": [],
   "source": [
    "import jax\n",
    "import jax.numpy as jnp\n",
    "from stanza.data import Data, PyTreeData\n",
    "from stanza.util import shape_tree\n",
    "\n",
    "# dummy data\n",
    "train_data = Data.from_pytree((jnp.ones((100,32,32,3)), jnp.ones((100, 10))))\n",
    "test_data = Data.from_pytree((jnp.ones((100,32,32,3)), jnp.ones((100, 10))))\n",
    "# cifar data\n",
    "# from stanza.data.cifar import cifar10\n",
    "# train_data, test_data = cifar10()\n",
    "# def map_fn(sample):\n",
    "#     x, y = sample\n",
    "#     x = x.astype(float) / 255\n",
    "#     y = jax.nn.one_hot(y, 10)\n",
    "#     return x, y\n",
    "# train_data = PyTreeData.from_data(train_data.map(map_fn))\n",
    "# test_data = PyTreeData.from_data(test_data.map(map_fn))"
   ]
  },
  {
   "cell_type": "code",
   "execution_count": 78,
   "id": "83769886",
   "metadata": {},
   "outputs": [],
   "source": [
    "total_steps = 1000"
   ]
  },
  {
   "cell_type": "code",
   "execution_count": 79,
   "id": "b8f9c80d",
   "metadata": {},
   "outputs": [],
   "source": [
    "import haiku as hk\n",
    "from jax.random import PRNGKey\n",
    "import jax\n",
    "import optax\n",
    "from stanza.util.random import PRNGSequence\n",
    "from stanza.util import shape_tree\n",
    "import rich.progress as progress\n",
    "from stanza.train.rich import MofNColumn\n",
    "from rich.style import Style\n",
    "\n",
    "def run(use_sam=False):\n",
    "    def net(x):\n",
    "        flat, _ = jax.flatten_util.ravel_pytree(x)\n",
    "        mlp = hk.nets.MLP([128,64, 32, 1])\n",
    "        y = mlp(flat).squeeze()\n",
    "        return y\n",
    "\n",
    "    net = hk.transform(net)\n",
    "    init_params = net.init(PRNGKey(300), train_data[0][0])\n",
    "\n",
    "    optim = optax.adam(optax.cosine_decay_schedule(1e-3, total_steps))\n",
    "    sub_optim = optax.scale(1e-5)\n",
    "\n",
    "    params = init_params\n",
    "    opt_state = optim.init(init_params)\n",
    "    sub_opt_state = optim.init(init_params)\n",
    "\n",
    "    @jax.jit\n",
    "    def loss_fn(params, batch):\n",
    "        x, y = batch\n",
    "        y_pred = net.apply(params, None, x)\n",
    "        return jnp.sum(jnp.square(y_pred - y)) \n",
    "\n",
    "    @jax.jit\n",
    "    def batch_loss_fn(params, batch):\n",
    "        s = jax.vmap(loss_fn, in_axes=(None, 0))(params, batch)\n",
    "        loss = jnp.mean(s)\n",
    "        return loss, loss\n",
    "\n",
    "    batch_loss_grad = jax.grad(batch_loss_fn, argnums=0, has_aux=True)\n",
    "\n",
    "    rng = PRNGSequence(42)\n",
    "    with progress.Progress(\n",
    "                progress.TextColumn(\"[progress.description]{task.description}\"),\n",
    "                progress.BarColumn(finished_style=Style(color=\"green\")),\n",
    "                MofNColumn(),\n",
    "                progress.TimeRemainingColumn(),\n",
    "                progress.TimeElapsedColumn(),\n",
    "                progress.TextColumn(\"loss={task.fields[loss]}\"),\n",
    "            ) as pbar:\n",
    "        task = pbar.add_task(\"\", total=total_steps,loss=0.)\n",
    "        for i in range(total_steps):\n",
    "            batch = train_data.sample_batch(32, next(rng))\n",
    "            # do a backwards step\n",
    "            if use_sam:\n",
    "                grad, loss = batch_loss_grad(params, batch)\n",
    "                updates, sub_opt_state = sub_optim.update(\n",
    "                    grad, sub_opt_state, params)\n",
    "                sub_params = optax.apply_updates(params, updates)\n",
    "            else:\n",
    "                sub_params = params\n",
    "\n",
    "            # do the main step with gradient calculated at the perturbed\n",
    "            # point\n",
    "            grad, loss = batch_loss_grad(sub_params, batch)\n",
    "            updates, opt_state = optim.update(grad, opt_state, params)\n",
    "            params = optax.apply_updates(params, updates)\n",
    "            pbar.update(task, advance=1., loss=loss.item())"
   ]
  },
  {
   "cell_type": "code",
   "execution_count": 80,
   "id": "97de6b1d",
   "metadata": {},
   "outputs": [
    {
     "data": {
      "application/vnd.jupyter.widget-view+json": {
       "model_id": "39e54f8c7bda4335aed42afc04f38b62",
       "version_major": 2,
       "version_minor": 0
      },
      "text/plain": [
       "Output()"
      ]
     },
     "metadata": {},
     "output_type": "display_data"
    },
    {
     "data": {
      "text/html": [
       "<pre style=\"white-space:pre;overflow-x:auto;line-height:normal;font-family:Menlo,'DejaVu Sans Mono',consolas,'Courier New',monospace\"></pre>\n"
      ],
      "text/plain": []
     },
     "metadata": {},
     "output_type": "display_data"
    },
    {
     "data": {
      "text/html": [
       "<pre style=\"white-space:pre;overflow-x:auto;line-height:normal;font-family:Menlo,'DejaVu Sans Mono',consolas,'Courier New',monospace\">\n",
       "</pre>\n"
      ],
      "text/plain": [
       "\n"
      ]
     },
     "metadata": {},
     "output_type": "display_data"
    },
    {
     "data": {
      "application/vnd.jupyter.widget-view+json": {
       "model_id": "68e1968c72af48e88094476c7e3bae1a",
       "version_major": 2,
       "version_minor": 0
      },
      "text/plain": [
       "Output()"
      ]
     },
     "metadata": {},
     "output_type": "display_data"
    },
    {
     "data": {
      "text/html": [
       "<pre style=\"white-space:pre;overflow-x:auto;line-height:normal;font-family:Menlo,'DejaVu Sans Mono',consolas,'Courier New',monospace\"></pre>\n"
      ],
      "text/plain": []
     },
     "metadata": {},
     "output_type": "display_data"
    },
    {
     "data": {
      "text/html": [
       "<pre style=\"white-space:pre;overflow-x:auto;line-height:normal;font-family:Menlo,'DejaVu Sans Mono',consolas,'Courier New',monospace\">\n",
       "</pre>\n"
      ],
      "text/plain": [
       "\n"
      ]
     },
     "metadata": {},
     "output_type": "display_data"
    }
   ],
   "source": [
    "run(use_sam=True)\n",
    "run(use_sam=False)\n"
   ]
  },
  {
   "cell_type": "code",
   "execution_count": null,
   "id": "abe63511",
   "metadata": {},
   "outputs": [],
   "source": []
  }
 ],
 "metadata": {
  "kernelspec": {
   "display_name": "Python 3 (ipykernel)",
   "language": "python",
   "name": "python3"
  },
  "language_info": {
   "codemirror_mode": {
    "name": "ipython",
    "version": 3
   },
   "file_extension": ".py",
   "mimetype": "text/x-python",
   "name": "python",
   "nbconvert_exporter": "python",
   "pygments_lexer": "ipython3",
   "version": "3.11.3"
  }
 },
 "nbformat": 4,
 "nbformat_minor": 5
}
