{
 "cells": [
  {
   "cell_type": "code",
   "execution_count": 1,
   "metadata": {},
   "outputs": [],
   "source": [
    "%load_ext autoreload\n",
    "%autoreload 2\n",
    "%aimport -jax\n",
    "%aimport -jaxlib"
   ]
  },
  {
   "cell_type": "code",
   "execution_count": 60,
   "metadata": {},
   "outputs": [
    {
     "data": {
      "image/png": "[encoded data removed]",
      "text/plain": [
       "<IPython.core.display.Image object>"
      ]
     },
     "execution_count": 60,
     "metadata": {},
     "output_type": "execute_result"
    }
   ],
   "source": [
    "from stanza.util.ipython import display_image\n",
    "\n",
    "import stanza.graphics.canvas as canvas\n",
    "import jax.numpy as jnp\n",
    "\n",
    "img = jnp.ones((100, 100, 3))\n",
    "img = canvas.paint(img, canvas.fill(canvas.circle([50,50], 20)))\n",
    "display_image(img)\n"
   ]
  },
  {
   "cell_type": "code",
   "execution_count": 63,
   "metadata": {},
   "outputs": [
    {
     "data": {
      "image/png": "[encoded data removed]",
      "text/plain": [
       "<IPython.core.display.Image object>"
      ]
     },
     "execution_count": 63,
     "metadata": {},
     "output_type": "execute_result"
    }
   ],
   "source": [
    "img = jnp.ones((100, 100, 3))\n",
    "\n",
    "circles = canvas.stack(\n",
    "    canvas.fill(canvas.circle([50,50], 30)),\n",
    "    canvas.fill(canvas.circle([60,60], 10), color=[1, 0, 0])\n",
    ")\n",
    "img = canvas.paint(img, circles)\n",
    "display_image(img)"
   ]
  },
  {
   "cell_type": "code",
   "execution_count": 66,
   "metadata": {},
   "outputs": [
    {
     "data": {
      "image/png": "[encoded data removed]",
      "text/plain": [
       "<IPython.core.display.Image object>"
      ]
     },
     "execution_count": 66,
     "metadata": {},
     "output_type": "execute_result"
    }
   ],
   "source": [
    "img = jnp.ones((100, 100, 3))\n",
    "\n",
    "sdf = canvas.fill(canvas.box([-2,-2], [2,2]))\n",
    "sdf = canvas.transform(\n",
    "    sdf, translation=[2.5,2.5],\n",
    "    rotation=3.14/4,\n",
    "    scale=[20,20],\n",
    ")\n",
    "img = canvas.paint(img, sdf)\n",
    "display_image(img)"
   ]
  },
  {
   "cell_type": "code",
   "execution_count": 67,
   "metadata": {},
   "outputs": [
    {
     "data": {
      "image/png": "[encoded data removed]",
      "text/plain": [
       "<IPython.core.display.Image object>"
      ]
     },
     "execution_count": 67,
     "metadata": {},
     "output_type": "execute_result"
    }
   ],
   "source": [
    "img = jnp.ones((100, 100, 3))\n",
    "\n",
    "circles = canvas.stack(\n",
    "    canvas.fill(canvas.circle([0,0], 2.5)),\n",
    "    canvas.fill(canvas.circle([0.5,0.5], 1.5), color=[1, 0, 0])\n",
    ")\n",
    "circles = canvas.transform(\n",
    "    circles, translation=[2.5,2.5],\n",
    "    rotation=3.14/4,\n",
    "    scale=[20,20],\n",
    ")\n",
    "img = canvas.paint(img, circles)\n",
    "display_image(img)"
   ]
  },
  {
   "cell_type": "code",
   "execution_count": null,
   "metadata": {},
   "outputs": [],
   "source": []
  }
 ],
 "metadata": {
  "kernelspec": {
   "display_name": ".venv",
   "language": "python",
   "name": "python3"
  },
  "language_info": {
   "codemirror_mode": {
    "name": "ipython",
    "version": 3
   },
   "file_extension": ".py",
   "mimetype": "text/x-python",
   "name": "python",
   "nbconvert_exporter": "python",
   "pygments_lexer": "ipython3",
   "version": "3.11.5"
  },
  "orig_nbformat": 4
 },
 "nbformat": 4,
 "nbformat_minor": 2
}
