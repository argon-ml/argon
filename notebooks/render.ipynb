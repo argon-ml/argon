{
 "cells": [
  {
   "cell_type": "code",
   "execution_count": 1,
   "metadata": {},
   "outputs": [],
   "source": [
    "%load_ext autoreload\n",
    "%autoreload 2\n",
    "%aimport -jax\n",
    "%aimport -jaxlib"
   ]
  },
  {
   "cell_type": "code",
   "execution_count": 1,
   "metadata": {},
   "outputs": [
    {
     "data": {
      "image/png": "[encoded data removed]",
      "text/plain": [
       "<IPython.core.display.Image object>"
      ]
     },
     "execution_count": 1,
     "metadata": {},
     "output_type": "execute_result"
    }
   ],
   "source": [
    "from stanza.util.ipython import display_image\n",
    "\n",
    "import stanza.graphics.canvas as canvas\n",
    "import jax.numpy as jnp\n",
    "\n",
    "img = jnp.ones((100, 100, 3))\n",
    "\n",
    "circles = canvas.stack(\n",
    "    canvas.fill(canvas.circle([0,0], 0.2)),\n",
    "    canvas.fill(canvas.circle([0,0], 0.1), color=[1, 0, 0])\n",
    ")\n",
    "sdf = circles\n",
    "\n",
    "sdf = canvas.transform(\n",
    "    sdf, translation=[0.5,0.5],\n",
    "    scale=[100,100],\n",
    ")\n",
    "\n",
    "img = canvas.paint(img, sdf)\n",
    "display_image(img)"
   ]
  },
  {
   "cell_type": "code",
   "execution_count": null,
   "metadata": {},
   "outputs": [],
   "source": []
  }
 ],
 "metadata": {
  "kernelspec": {
   "display_name": ".venv",
   "language": "python",
   "name": "python3"
  },
  "language_info": {
   "codemirror_mode": {
    "name": "ipython",
    "version": 3
   },
   "file_extension": ".py",
   "mimetype": "text/x-python",
   "name": "python",
   "nbconvert_exporter": "python",
   "pygments_lexer": "ipython3",
   "version": "3.11.5"
  },
  "orig_nbformat": 4
 },
 "nbformat": 4,
 "nbformat_minor": 2
}
