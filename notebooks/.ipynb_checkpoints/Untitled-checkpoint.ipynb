{
 "cells": [
  {
   "cell_type": "code",
   "execution_count": null,
   "id": "46cc0160",
   "metadata": {},
   "outputs": [],
   "source": [
    "%load_ext autoreload\n",
    "%autoreload 2"
   ]
  },
  {
   "cell_type": "code",
   "execution_count": null,
   "id": "76b59e4f",
   "metadata": {},
   "outputs": [],
   "source": [
    "import sys\n",
    "import os\n",
    "sys.path.append(os.path.abspath(os.path.join(os.getcwd(),\"..\",\"projects\")))\n",
    "print(sys.path)\n"
   ]
  },
  {
   "cell_type": "code",
   "execution_count": 14,
   "id": "7dd47921",
   "metadata": {},
   "outputs": [],
   "source": [
    "import diffusion_policy"
   ]
  },
  {
   "cell_type": "code",
   "execution_count": null,
   "id": "db2b30a6",
   "metadata": {},
   "outputs": [
    {
     "data": {
      "text/html": [
       "<pre style=\"white-space:pre;overflow-x:auto;line-height:normal;font-family:Menlo,'DejaVu Sans Mono',consolas,'Courier New',monospace\"><span style=\"color: #7fbfbf; text-decoration-color: #7fbfbf\">[17:28:37] </span><span style=\"color: #c0c0c0; text-decoration-color: #c0c0c0\">INFO  </span> - Running diffusion policy trainer <span style=\"color: #000080; text-decoration-color: #000080\">blue-freedom-</span><span style=\"color: #000080; text-decoration-color: #000080; font-weight: bold\">1</span>                                 <a href=\"file:///home/daniel/Documents/code/stanza/projects/diffusion_policy/__init__.py\" target=\"_blank\"><span style=\"color: #7f7f7f; text-decoration-color: #7f7f7f\">__init__.py</span></a><span style=\"color: #7f7f7f; text-decoration-color: #7f7f7f\">:</span><a href=\"file:///home/daniel/Documents/code/stanza/projects/diffusion_policy/__init__.py#137\" target=\"_blank\"><span style=\"color: #7f7f7f; text-decoration-color: #7f7f7f\">137</span></a>\n",
       "</pre>\n"
      ],
      "text/plain": [
       "\u001b[2;36m[17:28:37]\u001b[0m\u001b[2;36m \u001b[0m\u001b[37mINFO  \u001b[0m - Running diffusion policy trainer \u001b[34mblue-freedom-\u001b[0m\u001b[1;34m1\u001b[0m                                 \u001b]8;id=89825;file:///home/daniel/Documents/code/stanza/projects/diffusion_policy/__init__.py\u001b\\\u001b[2m__init__.py\u001b[0m\u001b]8;;\u001b\\\u001b[2m:\u001b[0m\u001b]8;id=698874;file:///home/daniel/Documents/code/stanza/projects/diffusion_policy/__init__.py#137\u001b\\\u001b[2m137\u001b[0m\u001b]8;;\u001b\\\n"
      ]
     },
     "metadata": {},
     "output_type": "display_data"
    },
    {
     "data": {
      "text/html": [
       "<pre style=\"white-space:pre;overflow-x:auto;line-height:normal;font-family:Menlo,'DejaVu Sans Mono',consolas,'Courier New',monospace\"><span style=\"color: #7fbfbf; text-decoration-color: #7fbfbf\">           </span><span style=\"color: #c0c0c0; text-decoration-color: #c0c0c0\">INFO  </span> - Calculating data normalizers                                                     <a href=\"file:///home/daniel/Documents/code/stanza/projects/diffusion_policy/__init__.py\" target=\"_blank\"><span style=\"color: #7f7f7f; text-decoration-color: #7f7f7f\">__init__.py</span></a><span style=\"color: #7f7f7f; text-decoration-color: #7f7f7f\">:</span><a href=\"file:///home/daniel/Documents/code/stanza/projects/diffusion_policy/__init__.py#88\" target=\"_blank\"><span style=\"color: #7f7f7f; text-decoration-color: #7f7f7f\">88</span></a>\n",
       "</pre>\n"
      ],
      "text/plain": [
       "\u001b[2;36m          \u001b[0m\u001b[2;36m \u001b[0m\u001b[37mINFO  \u001b[0m - Calculating data normalizers                                                     \u001b]8;id=58204;file:///home/daniel/Documents/code/stanza/projects/diffusion_policy/__init__.py\u001b\\\u001b[2m__init__.py\u001b[0m\u001b]8;;\u001b\\\u001b[2m:\u001b[0m\u001b]8;id=631447;file:///home/daniel/Documents/code/stanza/projects/diffusion_policy/__init__.py#88\u001b\\\u001b[2m88\u001b[0m\u001b]8;;\u001b\\\n"
      ]
     },
     "metadata": {},
     "output_type": "display_data"
    },
    {
     "data": {
      "text/html": [
       "<pre style=\"white-space:pre;overflow-x:auto;line-height:normal;font-family:Menlo,'DejaVu Sans Mono',consolas,'Courier New',monospace\"><span style=\"color: #7fbfbf; text-decoration-color: #7fbfbf\">[17:28:41] </span><span style=\"color: #c0c0c0; text-decoration-color: #c0c0c0\">INFO  </span> - Chunking trajectories                                                            <a href=\"file:///home/daniel/Documents/code/stanza/projects/diffusion_policy/__init__.py\" target=\"_blank\"><span style=\"color: #7f7f7f; text-decoration-color: #7f7f7f\">__init__.py</span></a><span style=\"color: #7f7f7f; text-decoration-color: #7f7f7f\">:</span><a href=\"file:///home/daniel/Documents/code/stanza/projects/diffusion_policy/__init__.py#98\" target=\"_blank\"><span style=\"color: #7f7f7f; text-decoration-color: #7f7f7f\">98</span></a>\n",
       "</pre>\n"
      ],
      "text/plain": [
       "\u001b[2;36m[17:28:41]\u001b[0m\u001b[2;36m \u001b[0m\u001b[37mINFO  \u001b[0m - Chunking trajectories                                                            \u001b]8;id=223772;file:///home/daniel/Documents/code/stanza/projects/diffusion_policy/__init__.py\u001b\\\u001b[2m__init__.py\u001b[0m\u001b]8;;\u001b\\\u001b[2m:\u001b[0m\u001b]8;id=635337;file:///home/daniel/Documents/code/stanza/projects/diffusion_policy/__init__.py#98\u001b\\\u001b[2m98\u001b[0m\u001b]8;;\u001b\\\n"
      ]
     },
     "metadata": {},
     "output_type": "display_data"
    },
    {
     "data": {
      "text/html": [
       "<pre style=\"white-space:pre;overflow-x:auto;line-height:normal;font-family:Menlo,'DejaVu Sans Mono',consolas,'Courier New',monospace\"><span style=\"color: #7fbfbf; text-decoration-color: #7fbfbf\">[17:28:43] </span><span style=\"color: #c0c0c0; text-decoration-color: #c0c0c0\">INFO  </span> - Data Loaded!                                                                    <a href=\"file:///home/daniel/Documents/code/stanza/projects/diffusion_policy/__init__.py\" target=\"_blank\"><span style=\"color: #7f7f7f; text-decoration-color: #7f7f7f\">__init__.py</span></a><span style=\"color: #7f7f7f; text-decoration-color: #7f7f7f\">:</span><a href=\"file:///home/daniel/Documents/code/stanza/projects/diffusion_policy/__init__.py#103\" target=\"_blank\"><span style=\"color: #7f7f7f; text-decoration-color: #7f7f7f\">103</span></a>\n",
       "</pre>\n"
      ],
      "text/plain": [
       "\u001b[2;36m[17:28:43]\u001b[0m\u001b[2;36m \u001b[0m\u001b[37mINFO  \u001b[0m - Data Loaded!                                                                    \u001b]8;id=875524;file:///home/daniel/Documents/code/stanza/projects/diffusion_policy/__init__.py\u001b\\\u001b[2m__init__.py\u001b[0m\u001b]8;;\u001b\\\u001b[2m:\u001b[0m\u001b]8;id=313980;file:///home/daniel/Documents/code/stanza/projects/diffusion_policy/__init__.py#103\u001b\\\u001b[2m103\u001b[0m\u001b]8;;\u001b\\\n"
      ]
     },
     "metadata": {},
     "output_type": "display_data"
    },
    {
     "data": {
      "text/html": [
       "<pre style=\"white-space:pre;overflow-x:auto;line-height:normal;font-family:Menlo,'DejaVu Sans Mono',consolas,'Courier New',monospace\"><span style=\"color: #7fbfbf; text-decoration-color: #7fbfbf\">           </span><span style=\"color: #c0c0c0; text-decoration-color: #c0c0c0\">INFO  </span> - Dataset Size: <span style=\"color: #008080; text-decoration-color: #008080; font-weight: bold\">22560</span> chunks                                                      <a href=\"file:///home/daniel/Documents/code/stanza/projects/diffusion_policy/__init__.py\" target=\"_blank\"><span style=\"color: #7f7f7f; text-decoration-color: #7f7f7f\">__init__.py</span></a><span style=\"color: #7f7f7f; text-decoration-color: #7f7f7f\">:</span><a href=\"file:///home/daniel/Documents/code/stanza/projects/diffusion_policy/__init__.py#145\" target=\"_blank\"><span style=\"color: #7f7f7f; text-decoration-color: #7f7f7f\">145</span></a>\n",
       "</pre>\n"
      ],
      "text/plain": [
       "\u001b[2;36m          \u001b[0m\u001b[2;36m \u001b[0m\u001b[37mINFO  \u001b[0m - Dataset Size: \u001b[1;36m22560\u001b[0m chunks                                                      \u001b]8;id=632856;file:///home/daniel/Documents/code/stanza/projects/diffusion_policy/__init__.py\u001b\\\u001b[2m__init__.py\u001b[0m\u001b]8;;\u001b\\\u001b[2m:\u001b[0m\u001b]8;id=665097;file:///home/daniel/Documents/code/stanza/projects/diffusion_policy/__init__.py#145\u001b\\\u001b[2m145\u001b[0m\u001b]8;;\u001b\\\n"
      ]
     },
     "metadata": {},
     "output_type": "display_data"
    },
    {
     "data": {
      "text/html": [
       "<pre style=\"white-space:pre;overflow-x:auto;line-height:normal;font-family:Menlo,'DejaVu Sans Mono',consolas,'Courier New',monospace\"><span style=\"color: #7fbfbf; text-decoration-color: #7fbfbf\">           </span><span style=\"color: #c0c0c0; text-decoration-color: #c0c0c0\">INFO  </span> - Training for <span style=\"color: #008080; text-decoration-color: #008080; font-weight: bold\">26700</span> steps                                                        <a href=\"file:///home/daniel/Documents/code/stanza/projects/diffusion_policy/__init__.py\" target=\"_blank\"><span style=\"color: #7f7f7f; text-decoration-color: #7f7f7f\">__init__.py</span></a><span style=\"color: #7f7f7f; text-decoration-color: #7f7f7f\">:</span><a href=\"file:///home/daniel/Documents/code/stanza/projects/diffusion_policy/__init__.py#147\" target=\"_blank\"><span style=\"color: #7f7f7f; text-decoration-color: #7f7f7f\">147</span></a>\n",
       "</pre>\n"
      ],
      "text/plain": [
       "\u001b[2;36m          \u001b[0m\u001b[2;36m \u001b[0m\u001b[37mINFO  \u001b[0m - Training for \u001b[1;36m26700\u001b[0m steps                                                        \u001b]8;id=466367;file:///home/daniel/Documents/code/stanza/projects/diffusion_policy/__init__.py\u001b\\\u001b[2m__init__.py\u001b[0m\u001b]8;;\u001b\\\u001b[2m:\u001b[0m\u001b]8;id=587416;file:///home/daniel/Documents/code/stanza/projects/diffusion_policy/__init__.py#147\u001b\\\u001b[2m147\u001b[0m\u001b]8;;\u001b\\\n"
      ]
     },
     "metadata": {},
     "output_type": "display_data"
    },
    {
     "data": {
      "text/html": [
       "<pre style=\"white-space:pre;overflow-x:auto;line-height:normal;font-family:Menlo,'DejaVu Sans Mono',consolas,'Courier New',monospace\"><span style=\"color: #7fbfbf; text-decoration-color: #7fbfbf\">           </span><span style=\"color: #c0c0c0; text-decoration-color: #c0c0c0\">INFO  </span> - Initializing network                                                            <a href=\"file:///home/daniel/Documents/code/stanza/projects/diffusion_policy/__init__.py\" target=\"_blank\"><span style=\"color: #7f7f7f; text-decoration-color: #7f7f7f\">__init__.py</span></a><span style=\"color: #7f7f7f; text-decoration-color: #7f7f7f\">:</span><a href=\"file:///home/daniel/Documents/code/stanza/projects/diffusion_policy/__init__.py#166\" target=\"_blank\"><span style=\"color: #7f7f7f; text-decoration-color: #7f7f7f\">166</span></a>\n",
       "</pre>\n"
      ],
      "text/plain": [
       "\u001b[2;36m          \u001b[0m\u001b[2;36m \u001b[0m\u001b[37mINFO  \u001b[0m - Initializing network                                                            \u001b]8;id=828897;file:///home/daniel/Documents/code/stanza/projects/diffusion_policy/__init__.py\u001b\\\u001b[2m__init__.py\u001b[0m\u001b]8;;\u001b\\\u001b[2m:\u001b[0m\u001b]8;id=789335;file:///home/daniel/Documents/code/stanza/projects/diffusion_policy/__init__.py#166\u001b\\\u001b[2m166\u001b[0m\u001b]8;;\u001b\\\n"
      ]
     },
     "metadata": {},
     "output_type": "display_data"
    },
    {
     "data": {
      "text/html": [
       "<pre style=\"white-space:pre;overflow-x:auto;line-height:normal;font-family:Menlo,'DejaVu Sans Mono',consolas,'Courier New',monospace\"><span style=\"color: #7fbfbf; text-decoration-color: #7fbfbf\">           </span><span style=\"color: #c0c0c0; text-decoration-color: #c0c0c0\">INFO  </span> - Instantiating network<span style=\"color: #808000; text-decoration-color: #808000\">...</span>                                                        <a href=\"file:///home/daniel/Documents/code/stanza/projects/diffusion_policy/__init__.py\" target=\"_blank\"><span style=\"color: #7f7f7f; text-decoration-color: #7f7f7f\">__init__.py</span></a><span style=\"color: #7f7f7f; text-decoration-color: #7f7f7f\">:</span><a href=\"file:///home/daniel/Documents/code/stanza/projects/diffusion_policy/__init__.py#167\" target=\"_blank\"><span style=\"color: #7f7f7f; text-decoration-color: #7f7f7f\">167</span></a>\n",
       "</pre>\n"
      ],
      "text/plain": [
       "\u001b[2;36m          \u001b[0m\u001b[2;36m \u001b[0m\u001b[37mINFO  \u001b[0m - Instantiating network\u001b[33m...\u001b[0m                                                        \u001b]8;id=813949;file:///home/daniel/Documents/code/stanza/projects/diffusion_policy/__init__.py\u001b\\\u001b[2m__init__.py\u001b[0m\u001b]8;;\u001b\\\u001b[2m:\u001b[0m\u001b]8;id=962896;file:///home/daniel/Documents/code/stanza/projects/diffusion_policy/__init__.py#167\u001b\\\u001b[2m167\u001b[0m\u001b]8;;\u001b\\\n"
      ]
     },
     "metadata": {},
     "output_type": "display_data"
    },
    {
     "data": {
      "text/html": [
       "<pre style=\"white-space:pre;overflow-x:auto;line-height:normal;font-family:Menlo,'DejaVu Sans Mono',consolas,'Courier New',monospace\"><span style=\"color: #7fbfbf; text-decoration-color: #7fbfbf\">           </span><span style=\"color: #c0c0c0; text-decoration-color: #c0c0c0\">INFO  </span> - Initialization took <span style=\"color: #008080; text-decoration-color: #008080; font-weight: bold\">0.1403360366821289</span>                                          <a href=\"file:///home/daniel/Documents/code/stanza/projects/diffusion_policy/__init__.py\" target=\"_blank\"><span style=\"color: #7f7f7f; text-decoration-color: #7f7f7f\">__init__.py</span></a><span style=\"color: #7f7f7f; text-decoration-color: #7f7f7f\">:</span><a href=\"file:///home/daniel/Documents/code/stanza/projects/diffusion_policy/__init__.py#177\" target=\"_blank\"><span style=\"color: #7f7f7f; text-decoration-color: #7f7f7f\">177</span></a>\n",
       "</pre>\n"
      ],
      "text/plain": [
       "\u001b[2;36m          \u001b[0m\u001b[2;36m \u001b[0m\u001b[37mINFO  \u001b[0m - Initialization took \u001b[1;36m0.1403360366821289\u001b[0m                                          \u001b]8;id=761699;file:///home/daniel/Documents/code/stanza/projects/diffusion_policy/__init__.py\u001b\\\u001b[2m__init__.py\u001b[0m\u001b]8;;\u001b\\\u001b[2m:\u001b[0m\u001b]8;id=154078;file:///home/daniel/Documents/code/stanza/projects/diffusion_policy/__init__.py#177\u001b\\\u001b[2m177\u001b[0m\u001b]8;;\u001b\\\n"
      ]
     },
     "metadata": {},
     "output_type": "display_data"
    },
    {
     "data": {
      "text/html": [
       "<pre style=\"white-space:pre;overflow-x:auto;line-height:normal;font-family:Menlo,'DejaVu Sans Mono',consolas,'Courier New',monospace\"><span style=\"color: #7fbfbf; text-decoration-color: #7fbfbf\">[17:28:44] </span><span style=\"color: #c0c0c0; text-decoration-color: #c0c0c0\">INFO  </span> - Re-initialization took <span style=\"color: #008080; text-decoration-color: #008080; font-weight: bold\">0.142655611038208</span>                                        <a href=\"file:///home/daniel/Documents/code/stanza/projects/diffusion_policy/__init__.py\" target=\"_blank\"><span style=\"color: #7f7f7f; text-decoration-color: #7f7f7f\">__init__.py</span></a><span style=\"color: #7f7f7f; text-decoration-color: #7f7f7f\">:</span><a href=\"file:///home/daniel/Documents/code/stanza/projects/diffusion_policy/__init__.py#181\" target=\"_blank\"><span style=\"color: #7f7f7f; text-decoration-color: #7f7f7f\">181</span></a>\n",
       "</pre>\n"
      ],
      "text/plain": [
       "\u001b[2;36m[17:28:44]\u001b[0m\u001b[2;36m \u001b[0m\u001b[37mINFO  \u001b[0m - Re-initialization took \u001b[1;36m0.142655611038208\u001b[0m                                        \u001b]8;id=280695;file:///home/daniel/Documents/code/stanza/projects/diffusion_policy/__init__.py\u001b\\\u001b[2m__init__.py\u001b[0m\u001b]8;;\u001b\\\u001b[2m:\u001b[0m\u001b]8;id=401144;file:///home/daniel/Documents/code/stanza/projects/diffusion_policy/__init__.py#181\u001b\\\u001b[2m181\u001b[0m\u001b]8;;\u001b\\\n"
      ]
     },
     "metadata": {},
     "output_type": "display_data"
    },
    {
     "data": {
      "text/html": [
       "<pre style=\"white-space:pre;overflow-x:auto;line-height:normal;font-family:Menlo,'DejaVu Sans Mono',consolas,'Courier New',monospace\"><span style=\"color: #7fbfbf; text-decoration-color: #7fbfbf\">           </span><span style=\"color: #c0c0c0; text-decoration-color: #c0c0c0\">INFO  </span> - params: <span style=\"color: #008080; text-decoration-color: #008080; font-weight: bold\">5304642</span>                                                                 <a href=\"file:///home/daniel/Documents/code/stanza/projects/diffusion_policy/__init__.py\" target=\"_blank\"><span style=\"color: #7f7f7f; text-decoration-color: #7f7f7f\">__init__.py</span></a><span style=\"color: #7f7f7f; text-decoration-color: #7f7f7f\">:</span><a href=\"file:///home/daniel/Documents/code/stanza/projects/diffusion_policy/__init__.py#184\" target=\"_blank\"><span style=\"color: #7f7f7f; text-decoration-color: #7f7f7f\">184</span></a>\n",
       "</pre>\n"
      ],
      "text/plain": [
       "\u001b[2;36m          \u001b[0m\u001b[2;36m \u001b[0m\u001b[37mINFO  \u001b[0m - params: \u001b[1;36m5304642\u001b[0m                                                                 \u001b]8;id=54376;file:///home/daniel/Documents/code/stanza/projects/diffusion_policy/__init__.py\u001b\\\u001b[2m__init__.py\u001b[0m\u001b]8;;\u001b\\\u001b[2m:\u001b[0m\u001b]8;id=171163;file:///home/daniel/Documents/code/stanza/projects/diffusion_policy/__init__.py#184\u001b\\\u001b[2m184\u001b[0m\u001b]8;;\u001b\\\n"
      ]
     },
     "metadata": {},
     "output_type": "display_data"
    },
    {
     "data": {
      "text/html": [
       "<pre style=\"white-space:pre;overflow-x:auto;line-height:normal;font-family:Menlo,'DejaVu Sans Mono',consolas,'Courier New',monospace\"><span style=\"color: #7fbfbf; text-decoration-color: #7fbfbf\">           </span><span style=\"color: #c0c0c0; text-decoration-color: #c0c0c0\">INFO  </span> - Making diffusion schedule                                                       <a href=\"file:///home/daniel/Documents/code/stanza/projects/diffusion_policy/__init__.py\" target=\"_blank\"><span style=\"color: #7f7f7f; text-decoration-color: #7f7f7f\">__init__.py</span></a><span style=\"color: #7f7f7f; text-decoration-color: #7f7f7f\">:</span><a href=\"file:///home/daniel/Documents/code/stanza/projects/diffusion_policy/__init__.py#185\" target=\"_blank\"><span style=\"color: #7f7f7f; text-decoration-color: #7f7f7f\">185</span></a>\n",
       "</pre>\n"
      ],
      "text/plain": [
       "\u001b[2;36m          \u001b[0m\u001b[2;36m \u001b[0m\u001b[37mINFO  \u001b[0m - Making diffusion schedule                                                       \u001b]8;id=189147;file:///home/daniel/Documents/code/stanza/projects/diffusion_policy/__init__.py\u001b\\\u001b[2m__init__.py\u001b[0m\u001b]8;;\u001b\\\u001b[2m:\u001b[0m\u001b]8;id=215621;file:///home/daniel/Documents/code/stanza/projects/diffusion_policy/__init__.py#185\u001b\\\u001b[2m185\u001b[0m\u001b]8;;\u001b\\\n"
      ]
     },
     "metadata": {},
     "output_type": "display_data"
    },
    {
     "data": {
      "text/html": [
       "<pre style=\"white-space:pre;overflow-x:auto;line-height:normal;font-family:Menlo,'DejaVu Sans Mono',consolas,'Courier New',monospace\"><span style=\"color: #7fbfbf; text-decoration-color: #7fbfbf\">           </span><span style=\"color: #c0c0c0; text-decoration-color: #c0c0c0\">INFO  </span> - Initialized, starting training<span style=\"color: #808000; text-decoration-color: #808000\">...</span>                                               <a href=\"file:///home/daniel/Documents/code/stanza/projects/diffusion_policy/__init__.py\" target=\"_blank\"><span style=\"color: #7f7f7f; text-decoration-color: #7f7f7f\">__init__.py</span></a><span style=\"color: #7f7f7f; text-decoration-color: #7f7f7f\">:</span><a href=\"file:///home/daniel/Documents/code/stanza/projects/diffusion_policy/__init__.py#195\" target=\"_blank\"><span style=\"color: #7f7f7f; text-decoration-color: #7f7f7f\">195</span></a>\n",
       "</pre>\n"
      ],
      "text/plain": [
       "\u001b[2;36m          \u001b[0m\u001b[2;36m \u001b[0m\u001b[37mINFO  \u001b[0m - Initialized, starting training\u001b[33m...\u001b[0m                                               \u001b]8;id=412500;file:///home/daniel/Documents/code/stanza/projects/diffusion_policy/__init__.py\u001b\\\u001b[2m__init__.py\u001b[0m\u001b]8;;\u001b\\\u001b[2m:\u001b[0m\u001b]8;id=66682;file:///home/daniel/Documents/code/stanza/projects/diffusion_policy/__init__.py#195\u001b\\\u001b[2m195\u001b[0m\u001b]8;;\u001b\\\n"
      ]
     },
     "metadata": {},
     "output_type": "display_data"
    },
    {
     "data": {
      "application/vnd.jupyter.widget-view+json": {
       "model_id": "44e4eb4ad4f2465cae576e9f6209ed3d",
       "version_major": 2,
       "version_minor": 0
      },
      "text/plain": [
       "Output()"
      ]
     },
     "metadata": {},
     "output_type": "display_data"
    },
    {
     "data": {
      "text/html": [
       "<pre style=\"white-space:pre;overflow-x:auto;line-height:normal;font-family:Menlo,'DejaVu Sans Mono',consolas,'Courier New',monospace\"><span style=\"color: #7fbfbf; text-decoration-color: #7fbfbf\">           </span><span style=\"color: #008000; text-decoration-color: #008000\">TRACE </span> - <span style=\"color: #808000; text-decoration-color: #808000; font-weight: bold\">&lt;Tracing&gt;</span> Tracing training                                                      <a href=\"file:///home/daniel/Documents/code/stanza/stanza/train/__init__.py\" target=\"_blank\"><span style=\"color: #7f7f7f; text-decoration-color: #7f7f7f\">__init__.py</span></a><span style=\"color: #7f7f7f; text-decoration-color: #7f7f7f\">:</span><a href=\"file:///home/daniel/Documents/code/stanza/stanza/train/__init__.py#175\" target=\"_blank\"><span style=\"color: #7f7f7f; text-decoration-color: #7f7f7f\">175</span></a>\n",
       "</pre>\n"
      ],
      "text/plain": [
       "\u001b[2;36m          \u001b[0m\u001b[2;36m \u001b[0m\u001b[32mTRACE \u001b[0m - \u001b[1;33m<\u001b[0m\u001b[1;33mTracing\u001b[0m\u001b[1;33m>\u001b[0m Tracing training                                                      \u001b]8;id=199364;file:///home/daniel/Documents/code/stanza/stanza/train/__init__.py\u001b\\\u001b[2m__init__.py\u001b[0m\u001b]8;;\u001b\\\u001b[2m:\u001b[0m\u001b]8;id=793200;file:///home/daniel/Documents/code/stanza/stanza/train/__init__.py#175\u001b\\\u001b[2m175\u001b[0m\u001b]8;;\u001b\\\n"
      ]
     },
     "metadata": {},
     "output_type": "display_data"
    },
    {
     "data": {
      "text/html": [
       "<pre style=\"white-space:pre;overflow-x:auto;line-height:normal;font-family:Menlo,'DejaVu Sans Mono',consolas,'Courier New',monospace\"><span style=\"color: #7fbfbf; text-decoration-color: #7fbfbf\">           </span><span style=\"color: #008000; text-decoration-color: #008000\">TRACE </span> - <span style=\"color: #808000; text-decoration-color: #808000; font-weight: bold\">&lt;Tracing&gt;</span> Tracing epoch step                                                    <a href=\"file:///home/daniel/Documents/code/stanza/stanza/train/__init__.py\" target=\"_blank\"><span style=\"color: #7f7f7f; text-decoration-color: #7f7f7f\">__init__.py</span></a><span style=\"color: #7f7f7f; text-decoration-color: #7f7f7f\">:</span><a href=\"file:///home/daniel/Documents/code/stanza/stanza/train/__init__.py#128\" target=\"_blank\"><span style=\"color: #7f7f7f; text-decoration-color: #7f7f7f\">128</span></a>\n",
       "</pre>\n"
      ],
      "text/plain": [
       "\u001b[2;36m          \u001b[0m\u001b[2;36m \u001b[0m\u001b[32mTRACE \u001b[0m - \u001b[1;33m<\u001b[0m\u001b[1;33mTracing\u001b[0m\u001b[1;33m>\u001b[0m Tracing epoch step                                                    \u001b]8;id=208402;file:///home/daniel/Documents/code/stanza/stanza/train/__init__.py\u001b\\\u001b[2m__init__.py\u001b[0m\u001b]8;;\u001b\\\u001b[2m:\u001b[0m\u001b]8;id=125397;file:///home/daniel/Documents/code/stanza/stanza/train/__init__.py#128\u001b\\\u001b[2m128\u001b[0m\u001b]8;;\u001b\\\n"
      ]
     },
     "metadata": {},
     "output_type": "display_data"
    },
    {
     "data": {
      "text/html": [
       "<pre style=\"white-space:pre;overflow-x:auto;line-height:normal;font-family:Menlo,'DejaVu Sans Mono',consolas,'Courier New',monospace\"><span style=\"color: #7fbfbf; text-decoration-color: #7fbfbf\">           </span><span style=\"color: #008000; text-decoration-color: #008000\">TRACE </span> - <span style=\"color: #808000; text-decoration-color: #808000; font-weight: bold\">&lt;Tracing&gt;</span> Tracing train step                                                     <a href=\"file:///home/daniel/Documents/code/stanza/stanza/train/__init__.py\" target=\"_blank\"><span style=\"color: #7f7f7f; text-decoration-color: #7f7f7f\">__init__.py</span></a><span style=\"color: #7f7f7f; text-decoration-color: #7f7f7f\">:</span><a href=\"file:///home/daniel/Documents/code/stanza/stanza/train/__init__.py#94\" target=\"_blank\"><span style=\"color: #7f7f7f; text-decoration-color: #7f7f7f\">94</span></a>\n",
       "</pre>\n"
      ],
      "text/plain": [
       "\u001b[2;36m          \u001b[0m\u001b[2;36m \u001b[0m\u001b[32mTRACE \u001b[0m - \u001b[1;33m<\u001b[0m\u001b[1;33mTracing\u001b[0m\u001b[1;33m>\u001b[0m Tracing train step                                                     \u001b]8;id=167175;file:///home/daniel/Documents/code/stanza/stanza/train/__init__.py\u001b\\\u001b[2m__init__.py\u001b[0m\u001b]8;;\u001b\\\u001b[2m:\u001b[0m\u001b]8;id=363301;file:///home/daniel/Documents/code/stanza/stanza/train/__init__.py#94\u001b\\\u001b[2m94\u001b[0m\u001b]8;;\u001b\\\n"
      ]
     },
     "metadata": {},
     "output_type": "display_data"
    },
    {
     "data": {
      "text/html": [
       "<pre style=\"white-space:pre;overflow-x:auto;line-height:normal;font-family:Menlo,'DejaVu Sans Mono',consolas,'Courier New',monospace\"><span style=\"color: #7fbfbf; text-decoration-color: #7fbfbf\">           </span><span style=\"color: #008000; text-decoration-color: #008000\">TRACE </span> - <span style=\"color: #808000; text-decoration-color: #808000; font-weight: bold\">&lt;Tracing&gt;</span> Tracing batch loss                                                     <a href=\"file:///home/daniel/Documents/code/stanza/stanza/train/__init__.py\" target=\"_blank\"><span style=\"color: #7f7f7f; text-decoration-color: #7f7f7f\">__init__.py</span></a><span style=\"color: #7f7f7f; text-decoration-color: #7f7f7f\">:</span><a href=\"file:///home/daniel/Documents/code/stanza/stanza/train/__init__.py#63\" target=\"_blank\"><span style=\"color: #7f7f7f; text-decoration-color: #7f7f7f\">63</span></a>\n",
       "</pre>\n"
      ],
      "text/plain": [
       "\u001b[2;36m          \u001b[0m\u001b[2;36m \u001b[0m\u001b[32mTRACE \u001b[0m - \u001b[1;33m<\u001b[0m\u001b[1;33mTracing\u001b[0m\u001b[1;33m>\u001b[0m Tracing batch loss                                                     \u001b]8;id=818953;file:///home/daniel/Documents/code/stanza/stanza/train/__init__.py\u001b\\\u001b[2m__init__.py\u001b[0m\u001b]8;;\u001b\\\u001b[2m:\u001b[0m\u001b]8;id=666719;file:///home/daniel/Documents/code/stanza/stanza/train/__init__.py#63\u001b\\\u001b[2m63\u001b[0m\u001b]8;;\u001b\\\n"
      ]
     },
     "metadata": {},
     "output_type": "display_data"
    },
    {
     "data": {
      "text/html": [
       "<pre style=\"white-space:pre;overflow-x:auto;line-height:normal;font-family:Menlo,'DejaVu Sans Mono',consolas,'Courier New',monospace\"><span style=\"color: #7fbfbf; text-decoration-color: #7fbfbf\">           </span><span style=\"color: #008000; text-decoration-color: #008000\">TRACE </span> - <span style=\"color: #808000; text-decoration-color: #808000; font-weight: bold\">&lt;Tracing&gt;</span> Tracing loss function                                                 <a href=\"file:///home/daniel/Documents/code/stanza/projects/diffusion_policy/__init__.py\" target=\"_blank\"><span style=\"color: #7f7f7f; text-decoration-color: #7f7f7f\">__init__.py</span></a><span style=\"color: #7f7f7f; text-decoration-color: #7f7f7f\">:</span><a href=\"file:///home/daniel/Documents/code/stanza/projects/diffusion_policy/__init__.py#109\" target=\"_blank\"><span style=\"color: #7f7f7f; text-decoration-color: #7f7f7f\">109</span></a>\n",
       "</pre>\n"
      ],
      "text/plain": [
       "\u001b[2;36m          \u001b[0m\u001b[2;36m \u001b[0m\u001b[32mTRACE \u001b[0m - \u001b[1;33m<\u001b[0m\u001b[1;33mTracing\u001b[0m\u001b[1;33m>\u001b[0m Tracing loss function                                                 \u001b]8;id=498213;file:///home/daniel/Documents/code/stanza/projects/diffusion_policy/__init__.py\u001b\\\u001b[2m__init__.py\u001b[0m\u001b]8;;\u001b\\\u001b[2m:\u001b[0m\u001b]8;id=275162;file:///home/daniel/Documents/code/stanza/projects/diffusion_policy/__init__.py#109\u001b\\\u001b[2m109\u001b[0m\u001b]8;;\u001b\\\n"
      ]
     },
     "metadata": {},
     "output_type": "display_data"
    },
    {
     "data": {
      "text/html": [
       "<pre style=\"white-space:pre;overflow-x:auto;line-height:normal;font-family:Menlo,'DejaVu Sans Mono',consolas,'Courier New',monospace\"><span style=\"color: #7fbfbf; text-decoration-color: #7fbfbf\">[17:28:46] </span><span style=\"color: #008000; text-decoration-color: #008000\">TRACE </span> - <span style=\"color: #808000; text-decoration-color: #808000; font-weight: bold\">&lt;Tracing&gt;</span> Tracing train step                                                     <a href=\"file:///home/daniel/Documents/code/stanza/stanza/train/__init__.py\" target=\"_blank\"><span style=\"color: #7f7f7f; text-decoration-color: #7f7f7f\">__init__.py</span></a><span style=\"color: #7f7f7f; text-decoration-color: #7f7f7f\">:</span><a href=\"file:///home/daniel/Documents/code/stanza/stanza/train/__init__.py#94\" target=\"_blank\"><span style=\"color: #7f7f7f; text-decoration-color: #7f7f7f\">94</span></a>\n",
       "</pre>\n"
      ],
      "text/plain": [
       "\u001b[2;36m[17:28:46]\u001b[0m\u001b[2;36m \u001b[0m\u001b[32mTRACE \u001b[0m - \u001b[1;33m<\u001b[0m\u001b[1;33mTracing\u001b[0m\u001b[1;33m>\u001b[0m Tracing train step                                                     \u001b]8;id=864857;file:///home/daniel/Documents/code/stanza/stanza/train/__init__.py\u001b\\\u001b[2m__init__.py\u001b[0m\u001b]8;;\u001b\\\u001b[2m:\u001b[0m\u001b]8;id=569384;file:///home/daniel/Documents/code/stanza/stanza/train/__init__.py#94\u001b\\\u001b[2m94\u001b[0m\u001b]8;;\u001b\\\n"
      ]
     },
     "metadata": {},
     "output_type": "display_data"
    },
    {
     "data": {
      "text/html": [
       "<pre style=\"white-space:pre;overflow-x:auto;line-height:normal;font-family:Menlo,'DejaVu Sans Mono',consolas,'Courier New',monospace\"><span style=\"color: #7fbfbf; text-decoration-color: #7fbfbf\">[17:28:47] </span><span style=\"color: #008000; text-decoration-color: #008000\">TRACE </span> - <span style=\"color: #808000; text-decoration-color: #808000; font-weight: bold\">&lt;Tracing&gt;</span> Tracing epoch step                                                    <a href=\"file:///home/daniel/Documents/code/stanza/stanza/train/__init__.py\" target=\"_blank\"><span style=\"color: #7f7f7f; text-decoration-color: #7f7f7f\">__init__.py</span></a><span style=\"color: #7f7f7f; text-decoration-color: #7f7f7f\">:</span><a href=\"file:///home/daniel/Documents/code/stanza/stanza/train/__init__.py#128\" target=\"_blank\"><span style=\"color: #7f7f7f; text-decoration-color: #7f7f7f\">128</span></a>\n",
       "</pre>\n"
      ],
      "text/plain": [
       "\u001b[2;36m[17:28:47]\u001b[0m\u001b[2;36m \u001b[0m\u001b[32mTRACE \u001b[0m - \u001b[1;33m<\u001b[0m\u001b[1;33mTracing\u001b[0m\u001b[1;33m>\u001b[0m Tracing epoch step                                                    \u001b]8;id=683828;file:///home/daniel/Documents/code/stanza/stanza/train/__init__.py\u001b\\\u001b[2m__init__.py\u001b[0m\u001b]8;;\u001b\\\u001b[2m:\u001b[0m\u001b]8;id=91267;file:///home/daniel/Documents/code/stanza/stanza/train/__init__.py#128\u001b\\\u001b[2m128\u001b[0m\u001b]8;;\u001b\\\n"
      ]
     },
     "metadata": {},
     "output_type": "display_data"
    },
    {
     "data": {
      "text/html": [
       "<pre style=\"white-space:pre;overflow-x:auto;line-height:normal;font-family:Menlo,'DejaVu Sans Mono',consolas,'Courier New',monospace\"><span style=\"color: #7fbfbf; text-decoration-color: #7fbfbf\">           </span><span style=\"color: #008000; text-decoration-color: #008000\">TRACE </span> - <span style=\"color: #808000; text-decoration-color: #808000; font-weight: bold\">&lt;Tracing&gt;</span> Done tracing training                                                 <a href=\"file:///home/daniel/Documents/code/stanza/stanza/train/__init__.py\" target=\"_blank\"><span style=\"color: #7f7f7f; text-decoration-color: #7f7f7f\">__init__.py</span></a><span style=\"color: #7f7f7f; text-decoration-color: #7f7f7f\">:</span><a href=\"file:///home/daniel/Documents/code/stanza/stanza/train/__init__.py#229\" target=\"_blank\"><span style=\"color: #7f7f7f; text-decoration-color: #7f7f7f\">229</span></a>\n",
       "</pre>\n"
      ],
      "text/plain": [
       "\u001b[2;36m          \u001b[0m\u001b[2;36m \u001b[0m\u001b[32mTRACE \u001b[0m - \u001b[1;33m<\u001b[0m\u001b[1;33mTracing\u001b[0m\u001b[1;33m>\u001b[0m Done tracing training                                                 \u001b]8;id=481774;file:///home/daniel/Documents/code/stanza/stanza/train/__init__.py\u001b\\\u001b[2m__init__.py\u001b[0m\u001b]8;;\u001b\\\u001b[2m:\u001b[0m\u001b]8;id=159274;file:///home/daniel/Documents/code/stanza/stanza/train/__init__.py#229\u001b\\\u001b[2m229\u001b[0m\u001b]8;;\u001b\\\n"
      ]
     },
     "metadata": {},
     "output_type": "display_data"
    }
   ],
   "source": [
    "diffusion_policy.train_policy()"
   ]
  }
 ],
 "metadata": {
  "kernelspec": {
   "display_name": "Python 3 (ipykernel)",
   "language": "python",
   "name": "python3"
  },
  "language_info": {
   "codemirror_mode": {
    "name": "ipython",
    "version": 3
   },
   "file_extension": ".py",
   "mimetype": "text/x-python",
   "name": "python",
   "nbconvert_exporter": "python",
   "pygments_lexer": "ipython3",
   "version": "3.10.6"
  }
 },
 "nbformat": 4,
 "nbformat_minor": 5
}
